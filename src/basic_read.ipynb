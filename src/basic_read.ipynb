{
 "cells": [
  {
   "cell_type": "code",
   "execution_count": 1,
   "metadata": {},
   "outputs": [],
   "source": [
    "using Plots\n",
    "using DataFrames\n",
    "using Plots.PlotMeasures\n",
    "using LaTeXStrings\n",
    "using ColorSchemes\n",
    "using LsqFit\n",
    "using CSV\n"
   ]
  },
  {
   "cell_type": "code",
   "execution_count": 31,
   "metadata": {},
   "outputs": [
    {
     "data": {
      "text/plain": [
       "\"SvN_array_MF.csv\""
      ]
     },
     "metadata": {},
     "output_type": "display_data"
    }
   ],
   "source": [
    "folderpath = \"data/MF\"\n",
    "Cfile = \"C_array_MF.csv\"\n",
    "SvNfile = \"SvN_array_MF.csv\""
   ]
  },
  {
   "cell_type": "code",
   "execution_count": 32,
   "metadata": {},
   "outputs": [],
   "source": [
    "#"
   ]
  },
  {
   "cell_type": "code",
   "execution_count": 33,
   "metadata": {},
   "outputs": [
    {
     "data": {
      "text/plain": [
       "201"
      ]
     },
     "metadata": {},
     "output_type": "display_data"
    }
   ],
   "source": [
    "df = CSV.read(joinpath(folderpath,Cfile), DataFrame)\n",
    "df_SvN = CSV.read(joinpath(folderpath,SvNfile), DataFrame)\n",
    ";\n",
    "N = 201"
   ]
  },
  {
   "cell_type": "code",
   "execution_count": 34,
   "metadata": {},
   "outputs": [],
   "source": [
    "SvN = real.(Matrix(df_SvN))\n",
    "#SvN = Array{Float64}(SvN)\n",
    "\n",
    "times = real.(df[!, \"times\"])./sqrt(2)\n",
    "chi = df[!, \"chi\"]\n",
    "C_r_t_5 = df[!, \"C_5\"]\n",
    "C_r_t_10 = df[!, \"C_10\"]\n",
    "C_r_t_20 = df[!, \"C_20\"]\n",
    "C_r_t_30 = df[!, \"C_30\"]\n",
    "C_r_t_40 = df[!, \"C_40\"]\n",
    "C_r_t_50 = df[!, \"C_50\"]\n",
    "C_r_t_60 = df[!, \"C_60\"]\n",
    "C_r_t_70 = df[!, \"C_70\"]\n",
    "C_r_t_80 = df[!, \"C_80\"]\n",
    "C_r_t_90 = df[!, \"C_90\"]\n",
    " ;"
   ]
  },
  {
   "cell_type": "code",
   "execution_count": 35,
   "metadata": {},
   "outputs": [
    {
     "data": {
      "text/plain": [
       "\"c:\\\\Users\\\\rache\\\\quantum_scrambling\\\\src\\\\data\\\\MF\\\\heatmap_bonds_between.png\""
      ]
     },
     "metadata": {},
     "output_type": "display_data"
    }
   ],
   "source": [
    "gr()\n",
    "heat = heatmap(1:(2*N), times, transpose(SvN), c = :seaborn_rocket_gradient,left_margin=40px,\n",
    "    right_margin=40px, top_margin=40px,  bottom_margin = 40px, framestyle=:box, colorbar_title = L\"SvN\")\n",
    "ylabel!(L\"Time\")\n",
    "xlabel!(L\"Site\")\n",
    "\n",
    "#title!(\"Entanglement Entropy system + ancilla\")\n",
    "savefig(heat, joinpath(folderpath,\"heatmap.png\"))\n",
    "\n",
    "\n",
    "# Plot the entanglement entropy for bonds separating system + ancilla pairs:\n",
    "gr()\n",
    "S = transpose(SvN)[:,2:2:(2*N)]\n",
    "heat1 = heatmap(1:N, times, S, c = :seaborn_rocket_gradient,left_margin=40px,\n",
    "    right_margin=40px, top_margin=40px,  bottom_margin = 40px, framestyle=:box, colorbar_title = L\"SvN\")\n",
    "ylabel!(L\"Time\")\n",
    "xlabel!(L\"Site\")\n",
    "#title!(\"Entanglement Entropy Separating System and Ancilla\")\n",
    "savefig(heat1,joinpath(folderpath,\"heatmap_bonds_sep.png\"))\n",
    "\n",
    "# Plot entanglement entropy of bonds between system + ancilla pairs:\n",
    "gr()\n",
    "S = transpose(SvN)[:,1:2:(2*N)]\n",
    "heat2 = heatmap(1:N, times, S,c = :seaborn_rocket_gradient,left_margin=40px,\n",
    "    right_margin=40px, top_margin=40px,  bottom_margin = 40px, framestyle=:box, colorbar_title = L\"SvN\")\n",
    "ylabel!(L\"Time\")\n",
    "xlabel!(L\"Site\")\n",
    "#title!(\"Entanglement Entropy Between System and Ancilla\")\n",
    "savefig(heat2,joinpath(folderpath,\"heatmap_bonds_between.png\"))"
   ]
  },
  {
   "cell_type": "code",
   "execution_count": 36,
   "metadata": {},
   "outputs": [
    {
     "data": {
      "text/plain": [
       "\"c:\\\\Users\\\\rache\\\\quantum_scrambling\\\\src\\\\data\\\\MF\\\\scatter.png\""
      ]
     },
     "metadata": {},
     "output_type": "display_data"
    }
   ],
   "source": [
    "# Plot the growth in the maximum link dimension with time:\n",
    "plot(times, chi, label=false,left_margin=20px, right_margin=20px, top_margin=20px,  bottom_margin = 20px, framestyle=:box, linecolor=get(ColorSchemes.seaborn_rocket_gradient,0.1))  \n",
    "xlabel!(L\"Time\")\n",
    "ylabel!(L\"$\\chi$\")\n",
    "#scatter = scatter!(times, chi, label=false) \n",
    "savefig(joinpath(folderpath,\"scatter.png\"))\n"
   ]
  },
  {
   "cell_type": "code",
   "execution_count": 37,
   "metadata": {},
   "outputs": [
    {
     "name": "stdout",
     "output_type": "stream",
     "text": [
      "min = 0.035355339059327376\n",
      "max = 194.4543648263205\n"
     ]
    }
   ],
   "source": [
    "min = minimum(times)\n",
    "max = maximum(times)\n",
    "@show min\n",
    "@show max\n",
    ";"
   ]
  },
  {
   "cell_type": "code",
   "execution_count": 38,
   "metadata": {},
   "outputs": [
    {
     "data": {
      "text/plain": [
       "\"c:\\\\Users\\\\rache\\\\quantum_scrambling\\\\src\\\\data\\\\MF\\\\crt.png\""
      ]
     },
     "metadata": {},
     "output_type": "display_data"
    }
   ],
   "source": [
    "\n",
    "plot(times,log.(C_r_t_5), label=\"r=5\", left_margin=20px,top_margin = 20px,\n",
    "    right_margin=20px, bottom_margin = 20px, framestyle=:box, linecolor=get(ColorSchemes.seaborn_rocket_gradient,0.2))#, ylim=(min_y, 20)) #, ylim=(min_y, 20)\n",
    "\n",
    "plot!(times,log.(C_r_t_10), label=\"r=10\", linecolor=get(ColorSchemes.seaborn_rocket_gradient,0.3))#, ylim=(min_y, 20)) #!\n",
    "\n",
    "plot!(times,log.(C_r_t_20), label=\"r=20\", linecolor=get(ColorSchemes.seaborn_rocket_gradient, 0.4))#, ylim=(min_y, 20))\n",
    "\n",
    "plot!(times,log.(C_r_t_30), label=\"r=30\", linecolor=get(ColorSchemes.seaborn_rocket_gradient, 0.5))#, ylim=(min_y, 20))\n",
    "\n",
    "plot!(times,log.(C_r_t_40), label=\"r=40\", linecolor=get(ColorSchemes.seaborn_rocket_gradient,0.6))#, ylim=(min_y, 20))\n",
    "\n",
    "plot!(times,log.(C_r_t_50), label=\"r=50\", linecolor=get(ColorSchemes.seaborn_rocket_gradient, 0.65))#, ylim=(min_y, 20))\n",
    "\n",
    "plot!(times,log.(C_r_t_60), label=\"r=60\", linecolor=get(ColorSchemes.seaborn_rocket_gradient, 0.68))\n",
    "\n",
    "plot!(times,log.(C_r_t_70), label=\"r=70\", linecolor=get(ColorSchemes.seaborn_rocket_gradient, 0.72))\n",
    "\n",
    "plot!(times,log.(C_r_t_80), label=\"r=80\", linecolor=get(ColorSchemes.seaborn_rocket_gradient, 0.75))\n",
    "\n",
    "plot!(times,log.(C_r_t_90), label=\"r=90\", linecolor=get(ColorSchemes.seaborn_rocket_gradient, 0.78))\n",
    "xlabel!(L\"Time\")\n",
    "ylabel!(L\"log(C(r,t))\")\n",
    "\n",
    "\n",
    "savefig(joinpath(folderpath,\"crt.png\"))\n"
   ]
  }
 ],
 "metadata": {
  "kernelspec": {
   "display_name": "Julia 1.9.4",
   "language": "julia",
   "name": "julia-1.9"
  },
  "language_info": {
   "file_extension": ".jl",
   "mimetype": "application/julia",
   "name": "julia",
   "version": "1.9.4"
  }
 },
 "nbformat": 4,
 "nbformat_minor": 2
}
