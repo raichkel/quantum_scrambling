{
 "cells": [
  {
   "cell_type": "code",
   "execution_count": 712,
   "metadata": {},
   "outputs": [],
   "source": [
    "using Plots\n",
    "using DataFrames\n",
    "using Plots.PlotMeasures\n",
    "using LaTeXStrings\n",
    "using ColorSchemes\n",
    "using LsqFit\n",
    "using CSV\n"
   ]
  },
  {
   "cell_type": "code",
   "execution_count": 934,
   "metadata": {},
   "outputs": [
    {
     "data": {
      "text/plain": [
       "\"SvN_array_MF.csv\""
      ]
     },
     "metadata": {},
     "output_type": "display_data"
    }
   ],
   "source": [
    "folderpath = \"data/MF_alt\"\n",
    "Cfile = \"C_array_MF.csv\"\n",
    "SvNfile = \"SvN_array_MF.csv\""
   ]
  },
  {
   "cell_type": "code",
   "execution_count": 935,
   "metadata": {},
   "outputs": [],
   "source": [
    "#"
   ]
  },
  {
   "cell_type": "code",
   "execution_count": 936,
   "metadata": {},
   "outputs": [
    {
     "data": {
      "text/plain": [
       "201"
      ]
     },
     "metadata": {},
     "output_type": "display_data"
    }
   ],
   "source": [
    "df = CSV.read(joinpath(folderpath,Cfile), DataFrame)\n",
    "df_SvN = CSV.read(joinpath(folderpath,SvNfile), DataFrame)\n",
    ";\n",
    "N = 201"
   ]
  },
  {
   "cell_type": "code",
   "execution_count": 937,
   "metadata": {},
   "outputs": [
    {
     "data": {
      "text/plain": [
       "4000"
      ]
     },
     "metadata": {},
     "output_type": "display_data"
    }
   ],
   "source": [
    "SvN = real.(Matrix(df_SvN))\n",
    "#SvN = Array{Float64}(SvN)\n",
    "\n",
    "times = real.(df[!, \"times\"])#./sqrt(2)\n",
    "chi = df[!, \"chi\"]\n",
    "# C_r_t_5 = df[!, \"C_5\"]\n",
    "# C_r_t_10 = df[!, \"C_10\"]\n",
    "# C_r_t_20 = df[!, \"C_20\"]\n",
    "# C_r_t_30 = df[!, \"C_30\"]\n",
    "#C_r_t_40 = df[!, \"C_40\"]\n",
    "C_r_t_50 = df[!, \"C_50\"]\n",
    "C_r_t_60 = df[!, \"C_60\"]\n",
    "# C_r_t_70 = df[!, \"C_70\"]\n",
    "# C_r_t_80 = df[!, \"C_80\"]\n",
    "# C_r_t_90 = df[!, \"C_90\"]\n",
    " ;\n",
    "length(times)"
   ]
  },
  {
   "cell_type": "code",
   "execution_count": 938,
   "metadata": {},
   "outputs": [],
   "source": [
    "times_short = times#[1:700]\n",
    "#SvN = SvN[:,1:700]\n",
    ";"
   ]
  },
  {
   "cell_type": "code",
   "execution_count": 939,
   "metadata": {},
   "outputs": [
    {
     "data": {
      "text/plain": [
       "\"c:\\\\Users\\\\rache\\\\quantum_scrambling\\\\src\\\\data\\\\MF_alt\\\\heatmap_bonds_between.png\""
      ]
     },
     "metadata": {},
     "output_type": "display_data"
    }
   ],
   "source": [
    "gr()\n",
    "heat = heatmap(1:(2*N), times_short, transpose(SvN), c = :seaborn_rocket_gradient,left_margin=20px,\n",
    "    right_margin=20px, top_margin=20px,  bottom_margin = 20px, framestyle=:box, colorbar_title = L\"SvN\")\n",
    "ylabel!(L\"Time\")\n",
    "xlabel!(L\"Site\")\n",
    "\n",
    "#title!(\"Entanglement Entropy system + ancilla\")\n",
    "savefig(heat, joinpath(folderpath,\"heatmap.png\"))\n",
    "\n",
    "\n",
    "# Plot the entanglement entropy for bonds separating system + ancilla pairs:\n",
    "gr()\n",
    "S = transpose(SvN)[:,2:2:(2*N)]\n",
    "heat1 = heatmap(1:N, times_short, S, c = :seaborn_rocket_gradient,left_margin=40px,\n",
    "    right_margin=40px, top_margin=40px,  bottom_margin = 40px, framestyle=:box, colorbar_title = L\"SvN\")\n",
    "ylabel!(L\"Time\")\n",
    "xlabel!(L\"Site\")\n",
    "#title!(\"Entanglement Entropy Separating System and Ancilla\")\n",
    "savefig(heat1,joinpath(folderpath,\"heatmap_bonds_sep.png\"))\n",
    "\n",
    "# Plot entanglement entropy of bonds between system + ancilla pairs:\n",
    "gr()\n",
    "S = transpose(SvN)[:,1:2:(2*N)]\n",
    "heat2 = heatmap(1:N, times_short, S,c = :seaborn_rocket_gradient,left_margin=40px,\n",
    "    right_margin=40px, top_margin=40px,  bottom_margin = 40px, framestyle=:box, colorbar_title = L\"SvN\")\n",
    "ylabel!(L\"Time\")\n",
    "xlabel!(L\"Site\")\n",
    "#title!(\"Entanglement Entropy Between System and Ancilla\")\n",
    "savefig(heat2,joinpath(folderpath,\"heatmap_bonds_between.png\"))"
   ]
  },
  {
   "cell_type": "code",
   "execution_count": 940,
   "metadata": {},
   "outputs": [
    {
     "data": {
      "text/plain": [
       "\"c:\\\\Users\\\\rache\\\\quantum_scrambling\\\\src\\\\data\\\\MF_alt\\\\scatter.png\""
      ]
     },
     "metadata": {},
     "output_type": "display_data"
    }
   ],
   "source": [
    "\n",
    "# Plot the growth in the maximum link dimension with time:\n",
    "plot(times, chi, label=false,left_margin=20px, right_margin=20px, top_margin=20px,  bottom_margin = 20px, framestyle=:box, linecolor=get(ColorSchemes.seaborn_rocket_gradient,0.35))  \n",
    "xlabel!(L\"Time\")\n",
    "ylabel!(L\"$\\chi$\")\n",
    "#scatter = scatter!(times, chi, label=false) \n",
    "savefig(joinpath(folderpath,\"scatter.png\"))\n"
   ]
  },
  {
   "cell_type": "code",
   "execution_count": 941,
   "metadata": {},
   "outputs": [
    {
     "name": "stdout",
     "output_type": "stream",
     "text": [
      "min = 0.05\n",
      "max = 200.00000000001123\n",
      "size(times) = (4000,)\n"
     ]
    },
    {
     "data": {
      "text/plain": [
       "(4000,)"
      ]
     },
     "metadata": {},
     "output_type": "display_data"
    }
   ],
   "source": [
    "min = minimum(times)\n",
    "max = maximum(times)\n",
    "@show min\n",
    "@show max\n",
    "@show size(times)"
   ]
  },
  {
   "cell_type": "code",
   "execution_count": 942,
   "metadata": {},
   "outputs": [],
   "source": [
    "# x = C_r_t_5\n",
    "# x[x.==0].=1.0e-92\n",
    "\n",
    "# x = C_r_t_10\n",
    "# x[x.==0].=1.0e-92\n",
    "\n",
    "# x = C_r_t_20\n",
    "# x[x.==0].=1.0e-92\n",
    "\n",
    "# x = C_r_t_30\n",
    "# x[x.==0].=1.0e-92\n",
    "\n",
    "# x = C_r_t_40\n",
    "# x[x.==0].=1.0e-92\n",
    "\n",
    "# x = C_r_t_50\n",
    "# x[x.==0].=1.0e-92\n",
    "\n",
    "# x = C_r_t_60\n",
    "# x[x.==0].=1.0e-91\n",
    "\n",
    "# x = C_r_t_70\n",
    "# x[x.==0].=1.0e-92\n",
    "\n",
    "# x = C_r_t_80\n",
    "# x[x.==0].=1.0e-92\n",
    "\n",
    "# x = C_r_t_90\n",
    "# x[x.==0].=1.0e-92\n",
    "\n",
    "# C_r_t_5 = BigFloat.(C_r_t_5).*BigFloat(2^(BigFloat(N)))\n",
    "# C_r_t_10 = BigFloat.(C_r_t_10).*BigFloat(2^(BigFloat(N)))\n",
    "# C_r_t_20 = BigFloat.(C_r_t_20).*BigFloat(2^(BigFloat(N)))\n",
    "# C_r_t_30 = BigFloat.(C_r_t_30).*BigFloat(2^(BigFloat(N)))\n",
    "#C_r_t_40 = BigFloat.(C_r_t_40).*BigFloat(2^(BigFloat(N)))\n",
    "C_r_t_50 = BigFloat.(C_r_t_50).*BigFloat(2^(BigFloat(N)))\n",
    "C_r_t_60 = BigFloat.(C_r_t_60).*BigFloat(2^(BigFloat(N)))\n",
    "# C_r_t_70 = BigFloat.(C_r_t_70).*BigFloat(2^(BigFloat(N)))\n",
    "# C_r_t_80 = BigFloat.(C_r_t_80).*BigFloat(2^(BigFloat(N)))\n",
    "# C_r_t_90 = BigFloat.(C_r_t_90).*BigFloat(2^(BigFloat(N)))\n",
    ";\n"
   ]
  },
  {
   "cell_type": "code",
   "execution_count": 943,
   "metadata": {},
   "outputs": [
    {
     "data": {
      "text/plain": [
       "4000-element Vector{BigFloat}:\n",
       " -0.0\n",
       "  7.3426079129763734670183267747171262957083005382118199914613369035675895257179e-34\n",
       " -0.0\n",
       " -0.0\n",
       " -0.0\n",
       "  1.588892204119474395734652919191246338114376418864396536973374706865376456181991e-31\n",
       " -0.0\n",
       " -0.0\n",
       "  0.0\n",
       " -0.0\n",
       "  ⋮\n",
       "  0.030616274562672150805209270174600533209741115570068359375\n",
       "  0.03059692475289314816944141739440965466201305389404296875\n",
       "  0.0305819995419081835930086299413233064115047454833984375\n",
       "  0.0305716081664591347866188897341999108903110027313232421875\n",
       "  0.0305657920512439097715517988262945436872541904449462890625\n",
       "  0.0305645188634585396325604733647196553647518157958984375\n",
       "  0.0305676782548939575401281132371877902187407016754150390625\n",
       "  0.0305750797750277657216511073556830524466931819915771484375\n",
       "  0.0305864531118843104018356626738750492222607135772705078125"
      ]
     },
     "metadata": {},
     "output_type": "display_data"
    }
   ],
   "source": [
    "C_r_t_60"
   ]
  },
  {
   "cell_type": "code",
   "execution_count": 944,
   "metadata": {},
   "outputs": [
    {
     "data": {
      "text/plain": [
       "534-element view(::Vector{BigFloat}, [1, 3, 4, 5, 7, 8, 9, 10, 11, 12  …  2542, 2569, 2571, 2575, 2628, 2635, 2643, 2651, 2668, 2696]) with eltype BigFloat:\n",
       " 1.000000000000000055967309976241901934452242603237480063296893731273163848279966e-32\n",
       " 1.000000000000000055967309976241901934452242603237480063296893731273163848279966e-32\n",
       " 1.000000000000000055967309976241901934452242603237480063296893731273163848279966e-32\n",
       " 1.000000000000000055967309976241901934452242603237480063296893731273163848279966e-32\n",
       " 1.000000000000000055967309976241901934452242603237480063296893731273163848279966e-32\n",
       " 1.000000000000000055967309976241901934452242603237480063296893731273163848279966e-32\n",
       " 1.000000000000000055967309976241901934452242603237480063296893731273163848279966e-32\n",
       " 1.000000000000000055967309976241901934452242603237480063296893731273163848279966e-32\n",
       " 1.000000000000000055967309976241901934452242603237480063296893731273163848279966e-32\n",
       " 1.000000000000000055967309976241901934452242603237480063296893731273163848279966e-32\n",
       " ⋮\n",
       " 1.000000000000000055967309976241901934452242603237480063296893731273163848279966e-32\n",
       " 1.000000000000000055967309976241901934452242603237480063296893731273163848279966e-32\n",
       " 1.000000000000000055967309976241901934452242603237480063296893731273163848279966e-32\n",
       " 1.000000000000000055967309976241901934452242603237480063296893731273163848279966e-32\n",
       " 1.000000000000000055967309976241901934452242603237480063296893731273163848279966e-32\n",
       " 1.000000000000000055967309976241901934452242603237480063296893731273163848279966e-32\n",
       " 1.000000000000000055967309976241901934452242603237480063296893731273163848279966e-32\n",
       " 1.000000000000000055967309976241901934452242603237480063296893731273163848279966e-32\n",
       " 1.000000000000000055967309976241901934452242603237480063296893731273163848279966e-32"
      ]
     },
     "metadata": {},
     "output_type": "display_data"
    }
   ],
   "source": [
    "\n",
    "x = C_r_t_60\n",
    "x[x.==0].=1.0e-32"
   ]
  },
  {
   "cell_type": "code",
   "execution_count": 945,
   "metadata": {},
   "outputs": [
    {
     "data": {
      "text/plain": [
       "\"c:\\\\Users\\\\rache\\\\quantum_scrambling\\\\src\\\\data\\\\MF_alt\\\\crt.png\""
      ]
     },
     "metadata": {},
     "output_type": "display_data"
    }
   ],
   "source": [
    "\n",
    "plot(times,C_r_t_50, layout=(2,1), label=\"r=50\", left_margin=10px,top_margin = 5px,\n",
    "    right_margin=10px, bottom_margin = 5px, framestyle=:box, linecolor=get(ColorSchemes.seaborn_rocket_gradient,0.2))#, ylim=(-60, 5)) #, ylim=(min_y, 20)\n",
    "\n",
    "# plot!(times,log.(C_r_t_10), label=\"r=10\", linecolor=get(ColorSchemes.seaborn_rocket_gradient,0.3))#, ylim=(min_y, 20)) #!\n",
    "\n",
    "# plot!(times,log.(C_r_t_20), label=\"r=20\", linecolor=get(ColorSchemes.seaborn_rocket_gradient, 0.4))#, ylim=(min_y, 20))\n",
    "\n",
    "# plot!(times,log.(C_r_t_30), label=\"r=30\", linecolor=get(ColorSchemes.seaborn_rocket_gradient, 0.5))#, ylim=(min_y, 20))\n",
    "\n",
    "# plot!(times,log.(C_r_t_40), label=\"r=40\", linecolor=get(ColorSchemes.seaborn_rocket_gradient,0.6))#, ylim=(min_y, 20))\n",
    "\n",
    "plot!(times,C_r_t_60, subplot=1, label=\"r=60\", linecolor=get(ColorSchemes.seaborn_rocket_gradient, 0.65))#, ylim=(min_y, 20))\n",
    "\n",
    "#plot!(times,log.(C_r_t_60), label=\"r=60\", linecolor=get(ColorSchemes.seaborn_rocket_gradient, 0.68))\n",
    "\n",
    "# plot!(times,log.(C_r_t_70), label=\"r=70\", linecolor=get(ColorSchemes.seaborn_rocket_gradient, 0.72))\n",
    "\n",
    "# plot!(times,log.(C_r_t_80), label=\"r=80\", linecolor=get(ColorSchemes.seaborn_rocket_gradient, 0.75))\n",
    "\n",
    "# plot!(times,log.(C_r_t_90), label=\"r=90\", linecolor=get(ColorSchemes.seaborn_rocket_gradient, 0.78))\n",
    "plot!(times,log.(C_r_t_50), subplot = 2, label=\"r=50\",  linecolor=get(ColorSchemes.seaborn_rocket_gradient,0.2), framestyle=:box )\n",
    "plot!(times,log.(C_r_t_60), subplot = 2, label=\"r=60\", linecolor=get(ColorSchemes.seaborn_rocket_gradient, 0.65))#,ylim=(-75,5))\n",
    "xlabel!(L\"Time\")\n",
    "ylabel!(L\"\\log(C(r,t))\",subplot =2)\n",
    "ylabel!(L\"C(r,t)\",subplot =1)\n",
    "\n",
    "\n",
    "savefig(joinpath(folderpath,\"crt.png\"))\n"
   ]
  }
 ],
 "metadata": {
  "kernelspec": {
   "display_name": "Julia 1.9.4",
   "language": "julia",
   "name": "julia-1.9"
  },
  "language_info": {
   "file_extension": ".jl",
   "mimetype": "application/julia",
   "name": "julia",
   "version": "1.9.4"
  }
 },
 "nbformat": 4,
 "nbformat_minor": 2
}
