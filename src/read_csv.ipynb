{
 "cells": [
  {
   "cell_type": "code",
   "execution_count": 101,
   "metadata": {},
   "outputs": [],
   "source": [
    "using Plots\n",
    "using DataFrames\n",
    "using Plots.PlotMeasures\n",
    "using LaTeXStrings\n",
    "using ColorSchemes\n",
    "using LsqFit\n",
    "using CSV\n"
   ]
  },
  {
   "cell_type": "code",
   "execution_count": 102,
   "metadata": {},
   "outputs": [],
   "source": [
    "#df_C = DataFrame(times = times, C_5 = C_r_t_5,C_10 = C_r_t_10, C_20 = C_r_t_20, C_30 = C_r_t_30,\n",
    "#C_40 = C_r_t_40,C_50 = C_r_t_50, SvN = SvN, chi=chi)\n"
   ]
  },
  {
   "cell_type": "code",
   "execution_count": 103,
   "metadata": {},
   "outputs": [
    {
     "data": {
      "text/plain": [
       "201"
      ]
     },
     "metadata": {},
     "output_type": "display_data"
    }
   ],
   "source": [
    "df = CSV.read(\"XYZ_heisenberg/C_array_MF.csv\", DataFrame)\n",
    "df_SvN = CSV.read(\"XYZ_heisenberg/SvN_array_MF.csv\", DataFrame)\n",
    ";\n",
    "N = 201"
   ]
  },
  {
   "cell_type": "code",
   "execution_count": 104,
   "metadata": {},
   "outputs": [],
   "source": [
    "SvN = real.(Matrix(df_SvN))\n",
    "#SvN = Array{Float64}(SvN)\n",
    "\n",
    "times = real.(df[!, \"times\"])\n",
    "chi = df[!, \"chi\"]\n",
    "C_r_t_5 = df[!, \"C_5\"]\n",
    "C_r_t_10 = df[!, \"C_10\"]\n",
    "C_r_t_20 = df[!, \"C_20\"]\n",
    "C_r_t_30 = df[!, \"C_30\"]\n",
    "C_r_t_40 = df[!, \"C_40\"]\n",
    "C_r_t_50 = df[!, \"C_50\"]\n",
    "C_r_t_60 = df[!, \"C_60\"]\n",
    "C_r_t_70 = df[!, \"C_70\"]\n",
    "C_r_t_80 = df[!, \"C_80\"]\n",
    "C_r_t_90 = df[!, \"C_90\"]\n",
    ";"
   ]
  },
  {
   "cell_type": "code",
   "execution_count": 105,
   "metadata": {},
   "outputs": [
    {
     "data": {
      "text/plain": [
       "\"c:\\\\Users\\\\rache\\\\quantum_scrambling\\\\src\\\\heatmap_bonds_between.png\""
      ]
     },
     "metadata": {},
     "output_type": "display_data"
    }
   ],
   "source": [
    "gr()\n",
    "heat = heatmap(1:(2*N), times, transpose(SvN), c = :seaborn_rocket_gradient,left_margin=40px,\n",
    "    right_margin=40px, top_margin=40px,  bottom_margin = 40px, framestyle=:box, colorbar_title = \"Entanglement Entropy\")\n",
    "ylabel!(\"Time t\")\n",
    "xlabel!(\"Site Index\")\n",
    "\n",
    "#title!(\"Entanglement Entropy system + ancilla\")\n",
    "savefig(heat, \"heatmap.png\")\n",
    "\n",
    "\n",
    "# Plot the entanglement entropy for bonds separating system + ancilla pairs:\n",
    "gr()\n",
    "S = transpose(SvN)[:,2:2:(2*N)]\n",
    "heat1 = heatmap(1:N, times, S, c = :seaborn_rocket_gradient,left_margin=40px,\n",
    "    right_margin=40px, top_margin=40px,  bottom_margin = 40px, framestyle=:box, colorbar_title = \"Entanglement Entropy\")\n",
    "ylabel!(\"Time t\")\n",
    "xlabel!(\"Site Index\")\n",
    "#title!(\"Entanglement Entropy Separating System and Ancilla\")\n",
    "savefig(heat1,\"heatmap_bonds_sep.png\")\n",
    "\n",
    "# Plot entanglement entropy of bonds between system + ancilla pairs:\n",
    "gr()\n",
    "S = transpose(SvN)[:,1:2:(2*N)]\n",
    "heat2 = heatmap(1:N, times, S,c = :seaborn_rocket_gradient,left_margin=40px,\n",
    "    right_margin=40px, top_margin=40px,  bottom_margin = 40px, framestyle=:box, colorbar_title = \"Entanglement Entropy\")\n",
    "ylabel!(\"Time t\")\n",
    "xlabel!(\"Site Index\")\n",
    "#title!(\"Entanglement Entropy Between System and Ancilla\")\n",
    "savefig(heat2,\"heatmap_bonds_between.png\")"
   ]
  },
  {
   "cell_type": "code",
   "execution_count": 106,
   "metadata": {},
   "outputs": [
    {
     "data": {
      "text/plain": [
       "\"c:\\\\Users\\\\rache\\\\quantum_scrambling\\\\src\\\\scatter.png\""
      ]
     },
     "metadata": {},
     "output_type": "display_data"
    }
   ],
   "source": [
    "# Plot the growth in the maximum link dimension with time:\n",
    "plot(times, chi, label=false,left_margin=20px, right_margin=20px, top_margin=20px,  bottom_margin = 20px, framestyle=:box, linecolor=get(ColorSchemes.seaborn_rocket_gradient,0.1))  \n",
    "xlabel!(\"Time\")\n",
    "ylabel!(L\"$\\chi$\")\n",
    "#scatter = scatter!(times, chi, label=false) \n",
    "savefig(\"scatter.png\")\n"
   ]
  },
  {
   "cell_type": "code",
   "execution_count": 107,
   "metadata": {},
   "outputs": [
    {
     "data": {
      "text/plain": [
       "\"c:\\\\Users\\\\rache\\\\quantum_scrambling\\\\src\\\\crt.png\""
      ]
     },
     "metadata": {},
     "output_type": "display_data"
    }
   ],
   "source": [
    "\n",
    "plot(times,log.(C_r_t_5), label=\"r=5\", left_margin=20px,top_margin = 20px,\n",
    "    right_margin=20px, bottom_margin = 20px, framestyle=:box, linecolor=get(ColorSchemes.seaborn_rocket_gradient,0.2))#, ylim=(min_y, 20)) #, ylim=(min_y, 20)\n",
    "\n",
    "plot!(times,log.(C_r_t_10), label=\"r=10\", linecolor=get(ColorSchemes.seaborn_rocket_gradient,0.3))#, ylim=(min_y, 20)) #!\n",
    "\n",
    "plot!(times,log.(C_r_t_20), label=\"r=20\", linecolor=get(ColorSchemes.seaborn_rocket_gradient, 0.4))#, ylim=(min_y, 20))\n",
    "\n",
    "plot!(times,log.(C_r_t_30), label=\"r=30\", linecolor=get(ColorSchemes.seaborn_rocket_gradient, 0.5))#, ylim=(min_y, 20))\n",
    "\n",
    "plot!(times,log.(C_r_t_40), label=\"r=40\", linecolor=get(ColorSchemes.seaborn_rocket_gradient,0.6))#, ylim=(min_y, 20))\n",
    "\n",
    "plot!(times,log.(C_r_t_50), label=\"r=50\", linecolor=get(ColorSchemes.seaborn_rocket_gradient, 0.65))#, ylim=(min_y, 20))\n",
    "\n",
    "xlabel!(\"Time\")\n",
    "ylabel!(\"log(C(r,t))\")\n",
    "\n",
    "savefig(\"crt.png\")\n"
   ]
  },
  {
   "cell_type": "code",
   "execution_count": 158,
   "metadata": {},
   "outputs": [
    {
     "data": {
      "text/plain": [
       "2501"
      ]
     },
     "metadata": {},
     "output_type": "display_data"
    }
   ],
   "source": [
    "filt = filter( x -> x > 25.0 && x < 25.05, times ) \n",
    "start_index = indexin( filt[1], times)\n",
    "start_index = start_index[1]\n",
    "\n",
    "filt = filter( x -> x > 125.0 && x < 125.05, times ) \n",
    "stop_index = indexin( filt[1], times)\n",
    "stop_index = stop_index[1]"
   ]
  },
  {
   "cell_type": "code",
   "execution_count": 168,
   "metadata": {},
   "outputs": [
    {
     "data": {
      "text/plain": [
       "residual (generic function with 1 method)"
      ]
     },
     "metadata": {},
     "output_type": "display_data"
    }
   ],
   "source": [
    "R = 70\n",
    "# Define the function to fit\n",
    "function C_early(t, λ, p, v_B; r=R)\n",
    "    bracket = @.(-λ*(((r/v_B)-t)^(1 +p))/(t^p))\n",
    "    return exp.(bracket)\n",
    "end\n",
    "\n",
    "\n",
    "# Define the residual function for least squares fitting\n",
    "function residual(params, t, C_data)\n",
    "    λ, p, v_B = params\n",
    "    model_C = C_early(t, λ, p, v_B; r=R)  \n",
    "    return vec(C_data .- model_C)\n",
    "end\n",
    "\n",
    "\n"
   ]
  },
  {
   "cell_type": "code",
   "execution_count": 169,
   "metadata": {},
   "outputs": [
    {
     "ename": "MethodError",
     "evalue": "MethodError: no method matching residual(::Vector{Float64}, ::Vector{Float64})\n\nClosest candidates are:\n  residual(::Any, ::Any, !Matched::Any)\n   @ Main c:\\Users\\rache\\quantum_scrambling\\src\\read_csv.ipynb:10\n",
     "output_type": "error",
     "traceback": [
      "MethodError: no method matching residual(::Vector{Float64}, ::Vector{Float64})\n",
      "\n",
      "Closest candidates are:\n",
      "  residual(::Any, ::Any, !Matched::Any)\n",
      "   @ Main c:\\Users\\rache\\quantum_scrambling\\src\\read_csv.ipynb:10\n",
      "\n",
      "\n",
      "Stacktrace:\n",
      " [1] (::LsqFit.var\"#18#20\"{typeof(residual), Vector{Float64}, Vector{Float64}})(p::Vector{Float64})\n",
      "   @ LsqFit C:\\Users\\rache\\.julia\\packages\\LsqFit\\OglWj\\src\\curve_fit.jl:139\n",
      " [2] lmfit(f::LsqFit.var\"#18#20\"{typeof(residual), Vector{Float64}, Vector{Float64}}, p0::Vector{Float64}, wt::Vector{Float64}; autodiff::Symbol, kwargs::Base.Pairs{Symbol, Union{}, Tuple{}, NamedTuple{(), Tuple{}}})\n",
      "   @ LsqFit C:\\Users\\rache\\.julia\\packages\\LsqFit\\OglWj\\src\\curve_fit.jl:69\n",
      " [3] lmfit(f::Function, p0::Vector{Float64}, wt::Vector{Float64})\n",
      "   @ LsqFit C:\\Users\\rache\\.julia\\packages\\LsqFit\\OglWj\\src\\curve_fit.jl:54\n",
      " [4] curve_fit(model::typeof(residual), xdata::Vector{Float64}, ydata::Vector{Float64}, p0::Vector{Float64}; inplace::Bool, kwargs::Base.Pairs{Symbol, Union{}, Tuple{}, NamedTuple{(), Tuple{}}})\n",
      "   @ LsqFit C:\\Users\\rache\\.julia\\packages\\LsqFit\\OglWj\\src\\curve_fit.jl:140\n",
      " [5] curve_fit(model::Function, xdata::Vector{Float64}, ydata::Vector{Float64}, p0::Vector{Float64})\n",
      "   @ LsqFit C:\\Users\\rache\\.julia\\packages\\LsqFit\\OglWj\\src\\curve_fit.jl:123\n",
      " [6] top-level scope\n",
      "   @ c:\\Users\\rache\\quantum_scrambling\\src\\read_csv.ipynb:7"
     ]
    }
   ],
   "source": [
    "# Initial guess for the parameters\n",
    "p0 = [1.0, 1.0, 1.0]  # initial guess for λ, p, v_B\n",
    "\n",
    "time_data = times[start_index:stop_index]\n",
    "C_data = C_r_t_70[start_index:stop_index]\n",
    "# Perform the least squares fit\n",
    "fit_result = curve_fit(residual, time_data, C_data, p0)\n",
    "\n",
    "# Extract the fitted parameters\n",
    "λ_fit, p_fit, v_B_fit = fit_result.param"
   ]
  },
  {
   "cell_type": "code",
   "execution_count": 160,
   "metadata": {},
   "outputs": [
    {
     "ename": "DimensionMismatch",
     "evalue": "DimensionMismatch: dimensions must match: a has dims (Base.OneTo(2002), Base.OneTo(2002)), must have singleton at dim 2",
     "output_type": "error",
     "traceback": [
      "DimensionMismatch: dimensions must match: a has dims (Base.OneTo(2002), Base.OneTo(2002)), must have singleton at dim 2\n",
      "\n",
      "Stacktrace:\n",
      " [1] promote_shape\n",
      "   @ .\\indices.jl:183 [inlined]\n",
      " [2] promote_shape(a::Matrix{ComplexF64}, b::Vector{Float64})\n",
      "   @ Base .\\indices.jl:169\n",
      " [3] -(A::Matrix{ComplexF64}, B::Vector{Float64})\n",
      "   @ Base .\\arraymath.jl:7\n",
      " [4] (::LsqFit.var\"#18#20\"{typeof(c_early), Vector{Float64}, Vector{Float64}})(p::Vector{Float64})\n",
      "   @ LsqFit C:\\Users\\rache\\.julia\\packages\\LsqFit\\OglWj\\src\\curve_fit.jl:139\n",
      " [5] lmfit(f::LsqFit.var\"#18#20\"{typeof(c_early), Vector{Float64}, Vector{Float64}}, p0::Vector{Float64}, wt::Vector{Float64}; autodiff::Symbol, kwargs::Base.Pairs{Symbol, Union{}, Tuple{}, NamedTuple{(), Tuple{}}})\n",
      "   @ LsqFit C:\\Users\\rache\\.julia\\packages\\LsqFit\\OglWj\\src\\curve_fit.jl:69\n",
      " [6] lmfit\n",
      "   @ C:\\Users\\rache\\.julia\\packages\\LsqFit\\OglWj\\src\\curve_fit.jl:54 [inlined]\n",
      " [7] curve_fit(model::typeof(c_early), xdata::Vector{Float64}, ydata::Vector{Float64}, p0::Vector{Float64}; inplace::Bool, kwargs::Base.Pairs{Symbol, Union{}, Tuple{}, NamedTuple{(), Tuple{}}})\n",
      "   @ LsqFit C:\\Users\\rache\\.julia\\packages\\LsqFit\\OglWj\\src\\curve_fit.jl:140\n",
      " [8] curve_fit(model::Function, xdata::Vector{Float64}, ydata::Vector{Float64}, p0::Vector{Float64})\n",
      "   @ LsqFit C:\\Users\\rache\\.julia\\packages\\LsqFit\\OglWj\\src\\curve_fit.jl:123\n",
      " [9] top-level scope\n",
      "   @ c:\\Users\\rache\\quantum_scrambling\\src\\read_csv.ipynb:15"
     ]
    }
   ],
   "source": [
    "# fit c(r,t) to c_early\n",
    "\n",
    "function C_early(r,t, λ, p, v_B)\n",
    "    \n",
    "    bracket = -λ*(((r/v_B)-t)^(1+p))/(t^p)\n",
    "    return exp(bracket)\n",
    "end\n",
    "\n",
    "# input = t\n",
    "# params = [λ,p,v_B]\n",
    "r = 70\n",
    "c_early(t, params) = exp.(Complex.(-params[1]*(((r/params[3]).-t))).^(1 .+ params[2])/(Complex.(t).^params[2]))\n",
    "\n",
    "p0 = [1.9,0.67,0.67]\n",
    "fit = curve_fit(c_early, times[start_index:stop_index], C_r_t_70[start_index:stop_index], p0)\n",
    "p_new = fit.param"
   ]
  }
 ],
 "metadata": {
  "kernelspec": {
   "display_name": "Julia 1.9.4",
   "language": "julia",
   "name": "julia-1.9"
  },
  "language_info": {
   "file_extension": ".jl",
   "mimetype": "application/julia",
   "name": "julia",
   "version": "1.9.4"
  }
 },
 "nbformat": 4,
 "nbformat_minor": 2
}
