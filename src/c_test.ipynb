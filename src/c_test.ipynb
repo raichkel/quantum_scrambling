{
 "cells": [
  {
   "cell_type": "code",
   "execution_count": 14,
   "metadata": {},
   "outputs": [
    {
     "name": "stderr",
     "output_type": "stream",
     "text": [
      "\u001b[32m\u001b[1m    Updating\u001b[22m\u001b[39m registry at `C:\\Users\\rache\\.julia\\registries\\General.toml`\n"
     ]
    }
   ],
   "source": [
    "import Pkg\n",
    "using Pkg\n",
    "Pkg.Registry.update()\n",
    "\n",
    "Pkg.instantiate()\n",
    "\n",
    "using Plots\n",
    "using Plots.PlotMeasures"
   ]
  },
  {
   "cell_type": "code",
   "execution_count": 20,
   "metadata": {},
   "outputs": [
    {
     "data": {
      "text/plain": [
       "0.05"
      ]
     },
     "metadata": {},
     "output_type": "display_data"
    }
   ],
   "source": [
    "N = 200\n",
    "T = 50.0\n",
    "δt = 0.05"
   ]
  },
  {
   "cell_type": "code",
   "execution_count": 24,
   "metadata": {},
   "outputs": [
    {
     "data": {
      "text/plain": [
       "C_early (generic function with 1 method)"
      ]
     },
     "metadata": {},
     "output_type": "display_data"
    }
   ],
   "source": [
    "function C_early(r,t; λ=1.9, p=0.67, v_B=0.67)\n",
    "    \n",
    "    bracket = BigFloat(-λ*(((r/v_B)-t)^(1+p))/(t^p))\n",
    "    return BigFloat(exp(bracket))\n",
    "end"
   ]
  },
  {
   "cell_type": "code",
   "execution_count": 25,
   "metadata": {},
   "outputs": [
    {
     "data": {
      "text/plain": [
       "5×900 Matrix{Float64}:\n",
       " 5.93823e-225  4.01269e-223  2.53572e-221  …  0.00191373   0.00202677\n",
       " 0.0           0.0           0.0              1.79122e-13  2.01691e-13\n",
       " 0.0           0.0           0.0              8.93273e-29  1.06856e-28\n",
       " 0.0           0.0           0.0              1.50772e-48  1.92085e-48\n",
       " 0.0           0.0           0.0              2.47093e-72  3.3639e-72"
      ]
     },
     "metadata": {},
     "output_type": "display_data"
    }
   ],
   "source": [
    "# r < floor(Int, N/2) \n",
    "rstep = 10\n",
    "rmin = 40\n",
    "rmax = floor(N/2)-rstep\n",
    "tmin = 5.0\n",
    "rindex = Int((rmax-rmin)/rstep) \n",
    "tindex = Int((T-tmin)/δt)\n",
    "c_arr = zeros(Float64,(rindex,tindex))  \n",
    "\n",
    "\n",
    "r_arr = collect(range(rmin,rmax,step=rstep))\n",
    "t_arr = collect(range(tmin,T,step=δt))\n",
    "\n",
    "for i in CartesianIndices(c_arr)\n",
    "    j = i[2]\n",
    "    ii = i[1]\n",
    "    r = BigFloat(r_arr[ii])\n",
    "    r = real(r)\n",
    "    t = BigFloat(t_arr[j])\n",
    "    t = real(t)\n",
    "    c = C_early(r,t)\n",
    "    c_arr[i]=c\n",
    "    \n",
    "end\n",
    "c_arr"
   ]
  },
  {
   "cell_type": "code",
   "execution_count": 30,
   "metadata": {},
   "outputs": [
    {
     "data": {
      "text/plain": [
       "\"c:\\\\Users\\\\rache\\\\quantum_scrambling\\\\src\\\\log_log.png\""
      ]
     },
     "metadata": {},
     "output_type": "display_data"
    }
   ],
   "source": [
    "#need to change this so C_r_t_00 are same length as c_arr because they use different timescales rn\n",
    "\n",
    "plot(log.(c_arr[1,:]),log.(c_arr[1,:]), left_margin=20px,framestyle=:box)\n",
    "# plot!(log.(c_arr[2,:]),log.(C_r_t_50), left_margin=20px)\n",
    "# plot!(log.(c_arr[3,:]),log.(C_r_t_60), left_margin=20px)\n",
    "# plot!(log.(c_arr[4,:]),log.(C_r_t_70), left_margin=20px)\n",
    "# plot!(log.(c_arr[5,:]),log.(C_r_t_80), left_margin=20px)\n",
    "# plot!(log.(c_arr[4,:]),log.(C_r_t_90), left_margin=20px)\n",
    "\n",
    "# xlabel!(L\"log($C_{early}(r,t)$)\")\n",
    "# ylabel!(L\"log($C(r,t)$)\")\n",
    "\n",
    "savefig(\"log_log.png\")"
   ]
  }
 ],
 "metadata": {
  "kernelspec": {
   "display_name": "Julia 1.9.4",
   "language": "julia",
   "name": "julia-1.9"
  },
  "language_info": {
   "file_extension": ".jl",
   "mimetype": "application/julia",
   "name": "julia",
   "version": "1.9.4"
  }
 },
 "nbformat": 4,
 "nbformat_minor": 2
}
