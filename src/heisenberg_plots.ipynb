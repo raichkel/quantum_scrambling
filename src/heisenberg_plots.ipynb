{
 "cells": [
  {
   "cell_type": "code",
   "execution_count": 1,
   "metadata": {},
   "outputs": [],
   "source": [
    "using Plots\n",
    "using DataFrames\n",
    "using Plots.PlotMeasures\n",
    "using LaTeXStrings\n",
    "using ColorSchemes\n",
    "using LsqFit\n",
    "using CSV\n"
   ]
  },
  {
   "cell_type": "code",
   "execution_count": 2,
   "metadata": {},
   "outputs": [
    {
     "data": {
      "text/plain": [
       "201"
      ]
     },
     "metadata": {},
     "output_type": "display_data"
    }
   ],
   "source": [
    "N=201"
   ]
  },
  {
   "cell_type": "code",
   "execution_count": 10,
   "metadata": {},
   "outputs": [
    {
     "data": {
      "text/plain": [
       "25000-element Vector{Float64}:\n",
       " 7.861437281083971e-41\n",
       " 7.861411383201436e-41\n",
       " 7.861386187584339e-41\n",
       " 7.861361650624319e-41\n",
       " 7.861337742757021e-41\n",
       " 7.861314448047467e-41\n",
       " 7.861291761946062e-41\n",
       " 7.861269688262131e-41\n",
       " 7.86124823618133e-41\n",
       " 7.861227417773458e-41\n",
       " ⋮\n",
       " 1.5636728747604577e-40\n",
       " 1.5629708930286495e-40\n",
       " 1.5622683836607498e-40\n",
       " 1.5615653674348357e-40\n",
       " 1.5608618652371514e-40\n",
       " 1.5601578980565103e-40\n",
       " 1.5594534869787323e-40\n",
       " 1.5587486531814521e-40\n",
       " 1.5580434179286717e-40"
      ]
     },
     "metadata": {},
     "output_type": "display_data"
    }
   ],
   "source": [
    "XXX_folderpath = \"data/long_MF_thermal\"\n",
    "Cfile = \"C_array_MF.csv\"\n",
    "SvNfile = \"SvN_array_MF.csv\"\n",
    "\n",
    "XXX_df = CSV.read(joinpath(XXX_folderpath,Cfile), DataFrame)\n",
    "XXX_df_SvN = CSV.read(joinpath(XXX_folderpath,SvNfile), DataFrame)\n",
    "\n",
    "XXX_SvN = real.(Matrix(XXX_df_SvN))\n",
    "times = real.(XXX_df[!, \"times\"])\n",
    "\n",
    "XXX_C_r_t_50 = XXX_df[!, \"C_50\"]"
   ]
  },
  {
   "cell_type": "code",
   "execution_count": 11,
   "metadata": {},
   "outputs": [
    {
     "data": {
      "text/plain": [
       "25000-element Vector{Float64}:\n",
       " 7.861437281083971e-41\n",
       " 7.861411383201436e-41\n",
       " 7.861386187584339e-41\n",
       " 7.861361650624319e-41\n",
       " 7.861337742757021e-41\n",
       " 7.861314448047467e-41\n",
       " 7.861291761946062e-41\n",
       " 7.861269688262131e-41\n",
       " 7.86124823618133e-41\n",
       " 7.861227417773458e-41\n",
       " ⋮\n",
       " 1.5636728747604577e-40\n",
       " 1.5629708930286495e-40\n",
       " 1.5622683836607498e-40\n",
       " 1.5615653674348357e-40\n",
       " 1.5608618652371514e-40\n",
       " 1.5601578980565103e-40\n",
       " 1.5594534869787323e-40\n",
       " 1.5587486531814521e-40\n",
       " 1.5580434179286717e-40"
      ]
     },
     "metadata": {},
     "output_type": "display_data"
    }
   ],
   "source": [
    "XXZ_folderpath = \"data/long_MF_thermal\"\n",
    "Cfile = \"C_array_MF.csv\"\n",
    "SvNfile = \"SvN_array_MF.csv\"\n",
    "\n",
    "XXZ_df = CSV.read(joinpath(XXZ_folderpath,Cfile), DataFrame)\n",
    "XXZ_df_SvN = CSV.read(joinpath(XXZ_folderpath,SvNfile), DataFrame)\n",
    "\n",
    "XXZ_SvN = real.(Matrix(XXX_df_SvN))\n",
    "\n",
    "XXZ_C_r_t_50 = XXZ_df[!, \"C_50\"]"
   ]
  },
  {
   "cell_type": "code",
   "execution_count": 12,
   "metadata": {},
   "outputs": [
    {
     "data": {
      "text/plain": [
       "25000-element Vector{Float64}:\n",
       " 7.861437281083971e-41\n",
       " 7.861411383201436e-41\n",
       " 7.861386187584339e-41\n",
       " 7.861361650624319e-41\n",
       " 7.861337742757021e-41\n",
       " 7.861314448047467e-41\n",
       " 7.861291761946062e-41\n",
       " 7.861269688262131e-41\n",
       " 7.86124823618133e-41\n",
       " 7.861227417773458e-41\n",
       " ⋮\n",
       " 1.5636728747604577e-40\n",
       " 1.5629708930286495e-40\n",
       " 1.5622683836607498e-40\n",
       " 1.5615653674348357e-40\n",
       " 1.5608618652371514e-40\n",
       " 1.5601578980565103e-40\n",
       " 1.5594534869787323e-40\n",
       " 1.5587486531814521e-40\n",
       " 1.5580434179286717e-40"
      ]
     },
     "metadata": {},
     "output_type": "display_data"
    }
   ],
   "source": [
    "XXZB_folderpath = \"data/long_MF_thermal\"\n",
    "Cfile = \"C_array_MF.csv\"\n",
    "SvNfile = \"SvN_array_MF.csv\"\n",
    "\n",
    "XXZB_df = CSV.read(joinpath(XXZB_folderpath,Cfile), DataFrame)\n",
    "XXZB_df_SvN = CSV.read(joinpath(XXZB_folderpath,SvNfile), DataFrame)\n",
    "\n",
    "XXZB_SvN = real.(Matrix(XXX_df_SvN))\n",
    "\n",
    "XXZB_C_r_t_50 = XXZB_df[!, \"C_50\"]"
   ]
  },
  {
   "cell_type": "code",
   "execution_count": 13,
   "metadata": {},
   "outputs": [
    {
     "data": {
      "text/plain": [
       "25000-element Vector{Float64}:\n",
       " 7.861437281083971e-41\n",
       " 7.861411383201436e-41\n",
       " 7.861386187584339e-41\n",
       " 7.861361650624319e-41\n",
       " 7.861337742757021e-41\n",
       " 7.861314448047467e-41\n",
       " 7.861291761946062e-41\n",
       " 7.861269688262131e-41\n",
       " 7.86124823618133e-41\n",
       " 7.861227417773458e-41\n",
       " ⋮\n",
       " 1.5636728747604577e-40\n",
       " 1.5629708930286495e-40\n",
       " 1.5622683836607498e-40\n",
       " 1.5615653674348357e-40\n",
       " 1.5608618652371514e-40\n",
       " 1.5601578980565103e-40\n",
       " 1.5594534869787323e-40\n",
       " 1.5587486531814521e-40\n",
       " 1.5580434179286717e-40"
      ]
     },
     "metadata": {},
     "output_type": "display_data"
    }
   ],
   "source": [
    "XYZ_folderpath = \"data/long_MF_thermal\"\n",
    "Cfile = \"C_array_MF.csv\"\n",
    "SvNfile = \"SvN_array_MF.csv\"\n",
    "\n",
    "XYZ_df = CSV.read(joinpath(XYZ_folderpath,Cfile), DataFrame)\n",
    "XYZ_df_SvN = CSV.read(joinpath(XYZ_folderpath,SvNfile), DataFrame)\n",
    "\n",
    "XYZ_SvN = real.(Matrix(XXX_df_SvN))\n",
    "\n",
    "XYZ_C_r_t_50 = XYZ_df[!, \"C_50\"]"
   ]
  },
  {
   "cell_type": "code",
   "execution_count": 14,
   "metadata": {},
   "outputs": [
    {
     "data": {
      "text/plain": [
       "0-element view(::Vector{Float64}, Int64[]) with eltype Float64"
      ]
     },
     "metadata": {},
     "output_type": "display_data"
    }
   ],
   "source": [
    "x = XXX_C_r_t_50\n",
    "x[x.==0].=1.0e-92\n",
    "\n",
    "x = XXZ_C_r_t_50\n",
    "x[x.==0].=1.0e-92\n",
    "\n",
    "x = XXZB_C_r_t_50\n",
    "x[x.==0].=1.0e-92\n",
    "\n",
    "x = XYZ_C_r_t_50\n",
    "x[x.==0].=1.0e-92"
   ]
  },
  {
   "cell_type": "code",
   "execution_count": 15,
   "metadata": {},
   "outputs": [
    {
     "data": {
      "text/plain": [
       "25000-element Vector{BigFloat}:\n",
       " 2.52656852990595792896e+20\n",
       " 2.52656020664741593088e+20\n",
       " 2.52655210908828336128e+20\n",
       " 2.52654422321337401344e+20\n",
       " 2.52653653952107053056e+20\n",
       " 2.52652905289006809088e+20\n",
       " 2.526521761858183168e+20\n",
       " 2.52651466764968624128e+20\n",
       " 2.52650777321673261056e+20\n",
       " 2.52650108243840663552e+20\n",
       " ⋮\n",
       " 5.0254508624568057856e+20\n",
       " 5.02319478015437111296e+20\n",
       " 5.02093700209491836928e+20\n",
       " 5.0186775950566129664e+20\n",
       " 5.0164166261652553728e+20\n",
       " 5.0141541628762914816e+20\n",
       " 5.0118902729569337344e+20\n",
       " 5.00962502446947565568e+20\n",
       " 5.00735848575378456576e+20"
      ]
     },
     "metadata": {},
     "output_type": "display_data"
    }
   ],
   "source": [
    "XXX_C_r_t_50 = BigFloat.(XXX_C_r_t_50).*BigFloat(2^(BigFloat(N)))\n",
    "XXZ_C_r_t_50 = BigFloat.(XXZ_C_r_t_50).*BigFloat(2^(BigFloat(N)))\n",
    "XXZB_C_r_t_50 = BigFloat.(XXZB_C_r_t_50).*BigFloat(2^(BigFloat(N)))\n",
    "XYZ_C_r_t_50 = BigFloat.(XYZ_C_r_t_50).*BigFloat(2^(BigFloat(N)))"
   ]
  },
  {
   "cell_type": "code",
   "execution_count": 17,
   "metadata": {},
   "outputs": [
    {
     "data": {
      "text/plain": [
       "\"c:\\\\Users\\\\rache\\\\quantum_scrambling\\\\src\\\\heisenberg_50_crt.png\""
      ]
     },
     "metadata": {},
     "output_type": "display_data"
    }
   ],
   "source": [
    "plot(times,log.(XXX_C_r_t_50), label=\"XXX\", left_margin=10px,top_margin = 5px,\n",
    "    right_margin=10px, bottom_margin = 5px, framestyle=:box, linecolor=get(ColorSchemes.seaborn_rocket_gradient,0.2))#, ylim=(-60, 5))\n",
    "\n",
    "plot!(times,log.(XXZ_C_r_t_50), label=\"XXZ\", linecolor=get(ColorSchemes.seaborn_rocket_gradient, 0.4))\n",
    "plot!(times,log.(XXZB_C_r_t_50), label=\"XXZ with field\", linecolor=get(ColorSchemes.seaborn_rocket_gradient, 0.6))\n",
    "plot!(times,log.(XYZ_C_r_t_50), label=\"XYZ\", linecolor=get(ColorSchemes.seaborn_rocket_gradient, 0.8))\n",
    "\n",
    "xlabel!(L\"Time\")\n",
    "ylabel!(L\"\\log(C(r,t))\")\n",
    "\n",
    "\n",
    "savefig(\"heisenberg_50_crt.png\")"
   ]
  }
 ],
 "metadata": {
  "kernelspec": {
   "display_name": "Julia 1.9.4",
   "language": "julia",
   "name": "julia-1.9"
  },
  "language_info": {
   "file_extension": ".jl",
   "mimetype": "application/julia",
   "name": "julia",
   "version": "1.9.4"
  }
 },
 "nbformat": 4,
 "nbformat_minor": 2
}
