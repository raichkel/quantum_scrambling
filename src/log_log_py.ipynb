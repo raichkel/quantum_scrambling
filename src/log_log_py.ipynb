{
 "cells": [
  {
   "cell_type": "code",
   "execution_count": 1,
   "metadata": {},
   "outputs": [],
   "source": [
    "import pandas as pd\n",
    "import numpy as np\n",
    "import matplotlib.pyplot as plt\n",
    "from scipy.optimize import curve_fit"
   ]
  },
  {
   "cell_type": "code",
   "execution_count": 2,
   "metadata": {},
   "outputs": [],
   "source": [
    "C_filepath = \"XYZ_heisenberg/C_array_MF.csv\"\n",
    "SvN_filepath = \"XYZ_heisenberg/SvN_array_MF.csv\"\n",
    "\n",
    "df_C = pd.read_csv(C_filepath)\n",
    "df_SvN = pd.read_csv(SvN_filepath)"
   ]
  },
  {
   "cell_type": "code",
   "execution_count": 3,
   "metadata": {},
   "outputs": [],
   "source": [
    "R = 70\n",
    "N = 201\n",
    "times = df_C[\"times\"].to_numpy()\n",
    "chi = df_C[\"chi\"].to_numpy()\n",
    "SvN = df_SvN.to_numpy() #MAY HAVE TO TRANSPOSE THIS\n",
    "C_r_t_5 = df_C[\"C_5\"].to_numpy()\n",
    "C_r_t_10 = df_C[\"C_10\"].to_numpy()\n",
    "C_r_t_20 = df_C[\"C_20\"].to_numpy()\n",
    "C_r_t_30 = df_C[\"C_30\"].to_numpy()\n",
    "C_r_t_40 = df_C[\"C_40\"].to_numpy()\n",
    "C_r_t_50 = df_C[\"C_50\"].to_numpy()\n",
    "C_r_t_60 = df_C[\"C_60\"].to_numpy()\n",
    "C_r_t_70 = df_C[\"C_70\"].to_numpy()\n",
    "C_r_t_80 = df_C[\"C_80\"].to_numpy()\n",
    "C_r_t_90 = df_C[\"C_90\"].to_numpy()\n"
   ]
  },
  {
   "cell_type": "code",
   "execution_count": 4,
   "metadata": {},
   "outputs": [
    {
     "name": "stderr",
     "output_type": "stream",
     "text": [
      "C:\\Users\\rache\\AppData\\Local\\Temp\\ipykernel_26900\\3410303904.py:2: DeprecationWarning: Conversion of an array with ndim > 0 to a scalar is deprecated, and will error in future. Ensure you extract a single element from your array before performing this operation. (Deprecated NumPy 1.25.)\n",
      "  start_index = int(start_index[0])\n",
      "C:\\Users\\rache\\AppData\\Local\\Temp\\ipykernel_26900\\3410303904.py:5: DeprecationWarning: Conversion of an array with ndim > 0 to a scalar is deprecated, and will error in future. Ensure you extract a single element from your array before performing this operation. (Deprecated NumPy 1.25.)\n",
      "  stop_index = int(stop_index[0])\n"
     ]
    }
   ],
   "source": [
    "start_index = np.where(np.logical_and(times>225.0, times<225.05))\n",
    "start_index = int(start_index[0])\n",
    "\n",
    "stop_index = np.where(np.logical_and(times>250.0, times<250.05))\n",
    "stop_index = int(stop_index[0])\n"
   ]
  },
  {
   "cell_type": "code",
   "execution_count": 5,
   "metadata": {},
   "outputs": [],
   "source": [
    "time_data = np.real(times[start_index:stop_index])\n",
    "C_data = np.real(C_r_t_70[start_index:stop_index])"
   ]
  },
  {
   "cell_type": "code",
   "execution_count": 6,
   "metadata": {},
   "outputs": [],
   "source": [
    "def C_early(t,lambda_p,p,v_B,r=R):\n",
    "    return -lambda_p * ((r/v_B - t)**(1+p))/(t**p)"
   ]
  },
  {
   "cell_type": "code",
   "execution_count": 10,
   "metadata": {},
   "outputs": [
    {
     "name": "stderr",
     "output_type": "stream",
     "text": [
      "C:\\Users\\rache\\AppData\\Local\\Temp\\ipykernel_26900\\3291891944.py:2: RuntimeWarning: invalid value encountered in power\n",
      "  return -lambda_p * ((r/v_B - t)**(1+p))/(t**p)\n",
      "c:\\Users\\rache\\AppData\\Local\\Programs\\Python\\Python311\\Lib\\site-packages\\scipy\\optimize\\_minpack_py.py:1010: OptimizeWarning: Covariance of the parameters could not be estimated\n",
      "  warnings.warn('Covariance of the parameters could not be estimated',\n"
     ]
    },
    {
     "data": {
      "text/plain": [
       "array([nan, nan, nan])"
      ]
     },
     "execution_count": 10,
     "metadata": {},
     "output_type": "execute_result"
    }
   ],
   "source": [
    "guess = [1.0, 1.0, 1.0]\n",
    "\n",
    "popt, pcov = curve_fit(C_early, time_data, C_data, p0=guess)\n",
    "\n",
    "popt"
   ]
  },
  {
   "cell_type": "code",
   "execution_count": 8,
   "metadata": {},
   "outputs": [
    {
     "data": {
      "text/plain": [
       "[<matplotlib.lines.Line2D at 0x22f3b4b7750>]"
      ]
     },
     "execution_count": 8,
     "metadata": {},
     "output_type": "execute_result"
    },
    {
     "data": {
      "image/png": "[encoded data removed]",
      "text/plain": [
       "<Figure size 640x480 with 1 Axes>"
      ]
     },
     "metadata": {},
     "output_type": "display_data"
    }
   ],
   "source": [
    "plt.plot(times,C_r_t_70)"
   ]
  }
 ],
 "metadata": {
  "kernelspec": {
   "display_name": "Python 3",
   "language": "python",
   "name": "python3"
  },
  "language_info": {
   "codemirror_mode": {
    "name": "ipython",
    "version": 3
   },
   "file_extension": ".py",
   "mimetype": "text/x-python",
   "name": "python",
   "nbconvert_exporter": "python",
   "pygments_lexer": "ipython3",
   "version": "3.11.5"
  }
 },
 "nbformat": 4,
 "nbformat_minor": 2
}
