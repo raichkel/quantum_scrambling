{
 "cells": [
  {
   "cell_type": "markdown",
   "id": "7a9816a7",
   "metadata": {},
   "source": [
    "# Scrambling of operators"
   ]
  },
  {
   "cell_type": "code",
   "execution_count": 1,
   "id": "771ca145",
   "metadata": {},
   "outputs": [
    {
     "ename": "ArgumentError",
     "evalue": "ArgumentError: Package ITensors [9136182c-28ba-11e9-034c-db9fb085ebd5] is required but does not seem to be installed:\n - Run `Pkg.instantiate()` to install all recorded dependencies.\n",
     "output_type": "error",
     "traceback": [
      "ArgumentError: Package ITensors [9136182c-28ba-11e9-034c-db9fb085ebd5] is required but does not seem to be installed:\n",
      " - Run `Pkg.instantiate()` to install all recorded dependencies.\n",
      "\n",
      "\n",
      "Stacktrace:\n",
      "  [1] _require(pkg::Base.PkgId, env::String)\n",
      "    @ Base .\\loading.jl:1774\n",
      "  [2] _require_prelocked(uuidkey::Base.PkgId, env::String)\n",
      "    @ Base .\\loading.jl:1660\n",
      "  [3] macro expansion\n",
      "    @ .\\loading.jl:1648 [inlined]\n",
      "  [4] macro expansion\n",
      "    @ .\\lock.jl:267 [inlined]\n",
      "  [5] require(into::Module, mod::Symbol)\n",
      "    @ Base .\\loading.jl:1611\n",
      "  [6] eval\n",
      "    @ .\\boot.jl:370 [inlined]\n",
      "  [7] include_string(mapexpr::typeof(REPL.softscope), mod::Module, code::String, filename::String)\n",
      "    @ Base .\\loading.jl:1903\n",
      "  [8] #invokelatest#2\n",
      "    @ .\\essentials.jl:819 [inlined]\n",
      "  [9] invokelatest\n",
      "    @ .\\essentials.jl:816 [inlined]\n",
      " [10] (::VSCodeServer.var\"#208#209\"{VSCodeServer.NotebookRunCellArguments, String})()\n",
      "    @ VSCodeServer c:\\Users\\rache\\.vscode\\extensions\\julialang.language-julia-1.66.2\\scripts\\packages\\VSCodeServer\\src\\serve_notebook.jl:19\n",
      " [11] withpath(f::VSCodeServer.var\"#208#209\"{VSCodeServer.NotebookRunCellArguments, String}, path::String)\n",
      "    @ VSCodeServer c:\\Users\\rache\\.vscode\\extensions\\julialang.language-julia-1.66.2\\scripts\\packages\\VSCodeServer\\src\\repl.jl:274\n",
      " [12] notebook_runcell_request(conn::VSCodeServer.JSONRPC.JSONRPCEndpoint{Base.PipeEndpoint, Base.PipeEndpoint}, params::VSCodeServer.NotebookRunCellArguments)\n",
      "    @ VSCodeServer c:\\Users\\rache\\.vscode\\extensions\\julialang.language-julia-1.66.2\\scripts\\packages\\VSCodeServer\\src\\serve_notebook.jl:13\n",
      " [13] dispatch_msg(x::VSCodeServer.JSONRPC.JSONRPCEndpoint{Base.PipeEndpoint, Base.PipeEndpoint}, dispatcher::VSCodeServer.JSONRPC.MsgDispatcher, msg::Dict{String, Any})\n",
      "    @ VSCodeServer.JSONRPC c:\\Users\\rache\\.vscode\\extensions\\julialang.language-julia-1.66.2\\scripts\\packages\\JSONRPC\\src\\typed.jl:67\n",
      " [14] serve_notebook(pipename::String, outputchannel_logger::Base.CoreLogging.SimpleLogger; crashreporting_pipename::String)\n",
      "    @ VSCodeServer c:\\Users\\rache\\.vscode\\extensions\\julialang.language-julia-1.66.2\\scripts\\packages\\VSCodeServer\\src\\serve_notebook.jl:139\n",
      " [15] top-level scope\n",
      "    @ c:\\Users\\rache\\.vscode\\extensions\\julialang.language-julia-1.66.2\\scripts\\notebook\\notebook.jl:32"
     ]
    }
   ],
   "source": [
    "using ITensors\n",
    "using ITensorTDVP\n",
    "using Plots\n",
    "using Observers\n",
    "using LinearAlgebra"
   ]
  },
  {
   "cell_type": "code",
   "execution_count": 2,
   "id": "ff838d60",
   "metadata": {},
   "outputs": [],
   "source": [
    "N  = 21     # Number of spins\n",
    "J  = 1.0    # ZZ interaction strength\n",
    "hx = 1.05   # X-field \n",
    "hz = 0.5    # Z-field\n",
    "δt = 0.05   # Time-step for evolution\n",
    "T  = 5.0    # Total time\n",
    "χ  = 32;    # Max link dimension allowed"
   ]
  },
  {
   "cell_type": "markdown",
   "id": "88c72f98",
   "metadata": {},
   "source": [
    "## System"
   ]
  },
  {
   "cell_type": "code",
   "execution_count": 3,
   "id": "39da8efe",
   "metadata": {},
   "outputs": [
    {
     "ename": "UndefVarError",
     "evalue": "UndefVarError: `siteinds` not defined",
     "output_type": "error",
     "traceback": [
      "UndefVarError: `siteinds` not defined\n",
      "\n",
      "Stacktrace:\n",
      " [1] top-level scope\n",
      "   @ c:\\Users\\rache\\quantum_scrambling\\src\\scrambling.ipynb:1"
     ]
    }
   ],
   "source": [
    "sites = siteinds(\"S=1/2\",N);      # Make N S=1/2 spin indices defining system"
   ]
  },
  {
   "cell_type": "code",
   "execution_count": 4,
   "id": "774e8970",
   "metadata": {},
   "outputs": [
    {
     "ename": "UndefVarError",
     "evalue": "UndefVarError: `OpSum` not defined",
     "output_type": "error",
     "traceback": [
      "UndefVarError: `OpSum` not defined\n",
      "\n",
      "Stacktrace:\n",
      " [1] top-level scope\n",
      "   @ c:\\Users\\rache\\quantum_scrambling\\src\\scrambling.ipynb:3"
     ]
    }
   ],
   "source": [
    "# Define mixed-field Ising Hamiltionian operator terms:\n",
    "\n",
    "H_op = OpSum()\n",
    "for i=1:N-1\n",
    "    H_op += 1.0,\"Sz\",i,\"Sz\",i+1 # ZZ terms\n",
    "end\n",
    "for i=1:N\n",
    "    H_op +=  hx,\"Sx\",i         # X terms\n",
    "    H_op +=  hz,\"Sz\",i         # Z terms\n",
    "end\n",
    "# Convert these terms to an MPO\n",
    "H = MPO(H_op,sites);"
   ]
  },
  {
   "cell_type": "code",
   "execution_count": 5,
   "id": "39d19d8f",
   "metadata": {},
   "outputs": [
    {
     "ename": "UndefVarError",
     "evalue": "UndefVarError: `randomMPS` not defined",
     "output_type": "error",
     "traceback": [
      "UndefVarError: `randomMPS` not defined\n",
      "\n",
      "Stacktrace:\n",
      " [1] top-level scope\n",
      "   @ c:\\Users\\rache\\quantum_scrambling\\src\\scrambling.ipynb:3"
     ]
    }
   ],
   "source": [
    "# Perform DMRG to find the ground state:\n",
    "\n",
    "ψ0 = randomMPS(sites,2)               # Random initial state\n",
    "sweeps = Sweeps(10)             # Number of sweeps is 10  \n",
    "# sweeps is some form of iterator/object with info about cutoff, maxdim, mindim, noise\n",
    "# it will be 10 long\n",
    "maxdim!(sweeps,10,20,100,100,200) # Gradually increase states kept\n",
    "# changes the maxdim aspect of sweeps to be 10,20,100,100,200,200,200,200,200,200 - fills in last value until end\n",
    "# ! means that input argument is altered - by convention\n",
    "cutoff!(sweeps,1E-10)                 # Desired truncation error\n",
    "# repeats with cutoff\n",
    "en_min,ψ_gs = dmrg(H,ψ0,sweeps);      # Find the ground state energy \n",
    "# does dmrg using this sweeps object"
   ]
  },
  {
   "cell_type": "code",
   "execution_count": 6,
   "id": "a1c05b73",
   "metadata": {},
   "outputs": [
    {
     "ename": "UndefVarError",
     "evalue": "UndefVarError: `correlation_matrix` not defined",
     "output_type": "error",
     "traceback": [
      "UndefVarError: `correlation_matrix` not defined\n",
      "\n",
      "Stacktrace:\n",
      " [1] top-level scope\n",
      "   @ c:\\Users\\rache\\quantum_scrambling\\src\\scrambling.ipynb:1"
     ]
    }
   ],
   "source": [
    "zzcorr = correlation_matrix(ψ_gs,\"Sz\",\"Sz\");\n",
    "gr()\n",
    "heatmap(1:N, 1:N, zzcorr, c = :heat)"
   ]
  },
  {
   "cell_type": "code",
   "execution_count": 7,
   "id": "326b02c4",
   "metadata": {},
   "outputs": [
    {
     "ename": "UndefVarError",
     "evalue": "UndefVarError: `zzcorr` not defined",
     "output_type": "error",
     "traceback": [
      "UndefVarError: `zzcorr` not defined\n",
      "\n",
      "Stacktrace:\n",
      " [1] top-level scope\n",
      "   @ c:\\Users\\rache\\quantum_scrambling\\src\\scrambling.ipynb:1"
     ]
    }
   ],
   "source": [
    "zzcen = diag(reverse(zzcorr, dims = 2));\n",
    "plot(1:N, zzcen, label=false)  \n",
    "scatter!(1:N, zzcen, label=false) "
   ]
  },
  {
   "cell_type": "markdown",
   "id": "bdc434ba",
   "metadata": {},
   "source": [
    "## Extended system + ancilla"
   ]
  },
  {
   "cell_type": "code",
   "execution_count": 8,
   "id": "94c04111",
   "metadata": {},
   "outputs": [
    {
     "ename": "UndefVarError",
     "evalue": "UndefVarError: `siteinds` not defined",
     "output_type": "error",
     "traceback": [
      "UndefVarError: `siteinds` not defined\n",
      "\n",
      "Stacktrace:\n",
      " [1] top-level scope\n",
      "   @ c:\\Users\\rache\\quantum_scrambling\\src\\scrambling.ipynb:1"
     ]
    }
   ],
   "source": [
    "sitesext = siteinds(\"S=1/2\",2*N); # Make 2N S=1/2 spin indices defining system + ancilla"
   ]
  },
  {
   "cell_type": "code",
   "execution_count": 9,
   "id": "f20b08ae",
   "metadata": {},
   "outputs": [
    {
     "ename": "UndefVarError",
     "evalue": "UndefVarError: `sitesext` not defined",
     "output_type": "error",
     "traceback": [
      "UndefVarError: `sitesext` not defined\n",
      "\n",
      "Stacktrace:\n",
      " [1] top-level scope\n",
      "   @ c:\\Users\\rache\\quantum_scrambling\\src\\scrambling.ipynb:3"
     ]
    }
   ],
   "source": [
    "# Extract the raising, lowering and identity operators for the extended system:\n",
    "\n",
    "Sp = ops(sitesext, [(\"S+\", n) for n in 1:(2*N)]);  # Raising operators\n",
    "Sm = ops(sitesext, [(\"S-\", n) for n in 1:(2*N)]);  # Lowering operators\n",
    "# ITensors doesn't include the identity operator as standard so construct it:\n",
    "Id = Vector{ITensor}(undef,2*N)\n",
    "for i =1:(2*N)\n",
    "    iv = sitesext[i]\n",
    "    ID = ITensor(iv', dag(iv));\n",
    "    for j in 1:ITensors.dim(iv)\n",
    "        ID[iv' => j, iv => j] = 1.0\n",
    "    end\n",
    "    Id[i] = ID\n",
    "end"
   ]
  },
  {
   "cell_type": "code",
   "execution_count": 10,
   "id": "219f43e6",
   "metadata": {},
   "outputs": [
    {
     "ename": "UndefVarError",
     "evalue": "UndefVarError: `MPS` not defined",
     "output_type": "error",
     "traceback": [
      "UndefVarError: `MPS` not defined\n",
      "\n",
      "Stacktrace:\n",
      " [1] top-level scope\n",
      "   @ c:\\Users\\rache\\quantum_scrambling\\src\\scrambling.ipynb:3"
     ]
    }
   ],
   "source": [
    "# Construct the identity vacuum state:\n",
    "\n",
    "Ivac = MPS(sitesext, \"Up\") # All up spins initial state\n",
    "gates = [(Id[n]*Id[n+1] + Sm[n]*Sm[n+1]) for n in 1:2:(2*N)]; # Maps |00> => |00> + |11>\n",
    "Ivac = apply(gates, Ivac; cutoff=1e-15); # Note we have no 1/sqrt(2) normalisation"
   ]
  },
  {
   "cell_type": "code",
   "execution_count": 11,
   "id": "d175d0bb",
   "metadata": {},
   "outputs": [
    {
     "ename": "UndefVarError",
     "evalue": "UndefVarError: `OpSum` not defined",
     "output_type": "error",
     "traceback": [
      "UndefVarError: `OpSum` not defined\n",
      "\n",
      "Stacktrace:\n",
      " [1] top-level scope\n",
      "   @ c:\\Users\\rache\\quantum_scrambling\\src\\scrambling.ipynb:10"
     ]
    }
   ],
   "source": [
    "# Vectorisation approach used here is to stack matrix rows into a column vector.\n",
    "# This means that:\n",
    "# vec(AB) = A ⊗ I vec(B) =  I ⊗ B^T vec(A)\n",
    "# so |i><j| => |i> ⊗ |j>\n",
    "# vec(L A R) = L ⊗ R^T vec(A)\n",
    "\n",
    "# Define \"Commutator\" Hamiltonian operator terms:\n",
    "\n",
    "# HC = H ⊗ I - I ⊗ H, since H is real and hermitian H = H^T.\n",
    "H_op = OpSum()\n",
    "for i=1:2*(N-1)\n",
    "    H_op += (-1)^(i-1) *  J,\"Sz\",i,\"Sz\",i+2\n",
    "end\n",
    "for i=1:2*N\n",
    "    H_op += (-1)^(i-1) *  hx,\"Sx\",i\n",
    "    H_op += (-1)^(i-1) *  hz,\"Sz\",i\n",
    "end\n",
    "# Convert these terms to an MPO\n",
    "HC = MPO(H_op,sitesext);"
   ]
  },
  {
   "cell_type": "code",
   "execution_count": 12,
   "id": "6587f360",
   "metadata": {},
   "outputs": [
    {
     "ename": "UndefVarError",
     "evalue": "UndefVarError: `OpSum` not defined",
     "output_type": "error",
     "traceback": [
      "UndefVarError: `OpSum` not defined\n",
      "\n",
      "Stacktrace:\n",
      " [1] top-level scope\n",
      "   @ c:\\Users\\rache\\quantum_scrambling\\src\\scrambling.ipynb:3"
     ]
    }
   ],
   "source": [
    "# Define observable for scrambling:\n",
    "\n",
    "A_op = OpSum()\n",
    "A_op += 1.0,\"Sx\",2*floor(Int,N/2+1)-1  # Sx operator in the middle of the system\n",
    "A = MPO(A_op,sitesext);                # Build the MPO from these terms\n",
    "Avec = apply(A, Ivac; cutoff=1e-15);   # Compute |A> = A|I>"
   ]
  },
  {
   "cell_type": "markdown",
   "id": "bde549b3",
   "metadata": {},
   "source": [
    "## Perform TDVP time evolution of the operator"
   ]
  },
  {
   "cell_type": "code",
   "execution_count": 13,
   "id": "70f648dc",
   "metadata": {},
   "outputs": [],
   "source": [
    "# Define function for computing entanglement entropy\n",
    "\n",
    "function entanglement_entropy(ψ)\n",
    "# Compute the von Neumann entanglement entropy across each bond of the MPS\n",
    "    N = length(ψ)\n",
    "    SvN = zeros(N)\n",
    "    psi = ψ\n",
    "    for b=1:N\n",
    "        psi = orthogonalize(psi, b)\n",
    "        if b==1\n",
    "            U,S,V = svd(psi[b] , siteind(psi, b))\n",
    "        else\n",
    "            U,S,V = svd(psi[b], (linkind(psi, b-1), siteind(psi, b)))\n",
    "        end\n",
    "        p = diag(S).^2               # Extract square of Schmidt coefficients\n",
    "        p = p ./ sum(p)              # Normalise to a probability dist\n",
    "        SvN[b] = -sum(p .* log2.(p)) # Compute Shannon entropy\n",
    "    end\n",
    "    return SvN\n",
    "end;"
   ]
  },
  {
   "cell_type": "markdown",
   "metadata": {},
   "source": []
  },
  {
   "cell_type": "code",
   "execution_count": 14,
   "id": "b6c3eca7",
   "metadata": {},
   "outputs": [
    {
     "ename": "UndefVarError",
     "evalue": "UndefVarError: `Avec` not defined",
     "output_type": "error",
     "traceback": [
      "UndefVarError: `Avec` not defined\n",
      "\n",
      "Stacktrace:\n",
      " [1] top-level scope\n",
      "   @ c:\\Users\\rache\\quantum_scrambling\\src\\scrambling.ipynb:1"
     ]
    }
   ],
   "source": [
    "SvN_init = entanglement_entropy(Avec);\n",
    "plot(1:(2*N), SvN, label=false) "
   ]
  },
  {
   "cell_type": "markdown",
   "id": "c64a8187",
   "metadata": {},
   "source": [
    "Here $|A>$ displays the entanglement structure of the initial vacuum state."
   ]
  },
  {
   "cell_type": "code",
   "execution_count": 15,
   "id": "972b4564",
   "metadata": {},
   "outputs": [],
   "source": [
    "# Define observer functions for TDVP:\n",
    "\n",
    "function current_time(; current_time, bond, half_sweep)\n",
    "  if bond == 1 && half_sweep == 2\n",
    "    return real(-im*current_time)\n",
    "  end\n",
    "    \n",
    "  return nothing\n",
    "end\n",
    "\n",
    "function measure_SvN(; psi, bond, half_sweep)\n",
    "  if bond == 1 && half_sweep == 2\n",
    "    return entanglement_entropy(psi)-SvN_init\n",
    "  end\n",
    "  return nothing\n",
    "end;\n",
    "\n",
    "function measure_linkdim(; psi, bond, half_sweep)\n",
    "  if bond == 1 && half_sweep == 2\n",
    "    return maxlinkdim(psi)\n",
    "  end\n",
    "  return nothing\n",
    "end;"
   ]
  },
  {
   "cell_type": "code",
   "execution_count": 16,
   "id": "58870a6a",
   "metadata": {},
   "outputs": [
    {
     "ename": "UndefVarError",
     "evalue": "UndefVarError: `Observer` not defined",
     "output_type": "error",
     "traceback": [
      "UndefVarError: `Observer` not defined\n",
      "\n",
      "Stacktrace:\n",
      " [1] top-level scope\n",
      "   @ c:\\Users\\rache\\quantum_scrambling\\src\\scrambling.ipynb:3"
     ]
    }
   ],
   "source": [
    "# Perform TDVP evolution of |A(t)>:\n",
    "\n",
    "obs = Observer(\"times\" => current_time, \"SvN\" => measure_SvN, \"chi\" => measure_linkdim)\n",
    "\n",
    "# d|A(t)>/dt = i HC |A(t)> so |A(t)> = exp(i t HC)|A(0)> \n",
    "\n",
    "ψf = tdvp(HC, im * T, Avec; \n",
    "          time_step = im * δt,\n",
    "          normalize = false, \n",
    "          maxdim = χ,\n",
    "          cutoff = 1e-10,\n",
    "          outputlevel=1,\n",
    "          (observer!)=obs)\n",
    "\n",
    "# Extract results from time-step observations\n",
    "#`observer.name` or `observer[!, \"name\"]`\n",
    "#res = results(obs)\n",
    "times = obs.times\n",
    "SvN = obs.SvN\n",
    "chi = obs.chi;\n",
    "# times = res[\"times\"]\n",
    "# SvN = res[\"SvN\"]\n",
    "# chi = res[\"chi\"];"
   ]
  },
  {
   "cell_type": "code",
   "execution_count": 17,
   "id": "ed6b55db",
   "metadata": {},
   "outputs": [
    {
     "ename": "UndefVarError",
     "evalue": "UndefVarError: `gr` not defined",
     "output_type": "error",
     "traceback": [
      "UndefVarError: `gr` not defined\n",
      "\n",
      "Stacktrace:\n",
      " [1] top-level scope\n",
      "   @ c:\\Users\\rache\\quantum_scrambling\\src\\scrambling.ipynb:2"
     ]
    }
   ],
   "source": [
    "# Plot the entanglement entropy of each bond for system + ancilla:\n",
    "gr()\n",
    "heatmap(1:(2*N), times, reduce(vcat,transpose.(SvN)), c = :heat)"
   ]
  },
  {
   "cell_type": "code",
   "execution_count": 18,
   "id": "a2468950",
   "metadata": {},
   "outputs": [
    {
     "ename": "UndefVarError",
     "evalue": "UndefVarError: `gr` not defined",
     "output_type": "error",
     "traceback": [
      "UndefVarError: `gr` not defined\n",
      "\n",
      "Stacktrace:\n",
      " [1] top-level scope\n",
      "   @ c:\\Users\\rache\\quantum_scrambling\\src\\scrambling.ipynb:2"
     ]
    }
   ],
   "source": [
    "# Plot the entanglement entropy for bonds separating system + ancilla pairs:\n",
    "gr()\n",
    "S = reduce(vcat,transpose.(SvN))[:,2:2:(2*N)]\n",
    "heatmap(1:N, times, S, c = :heat)"
   ]
  },
  {
   "cell_type": "code",
   "execution_count": 19,
   "id": "db880d05",
   "metadata": {},
   "outputs": [
    {
     "ename": "UndefVarError",
     "evalue": "UndefVarError: `gr` not defined",
     "output_type": "error",
     "traceback": [
      "UndefVarError: `gr` not defined\n",
      "\n",
      "Stacktrace:\n",
      " [1] top-level scope\n",
      "   @ c:\\Users\\rache\\quantum_scrambling\\src\\scrambling.ipynb:2"
     ]
    }
   ],
   "source": [
    "# Plot entanglement entropy of bonds between system + ancilla pairs:\n",
    "gr()\n",
    "S = reduce(vcat,transpose.(SvN))[:,1:2:(2*N)]\n",
    "heatmap(1:N, times, S, c = :heat)"
   ]
  },
  {
   "cell_type": "code",
   "execution_count": 20,
   "id": "7d15dc18",
   "metadata": {},
   "outputs": [
    {
     "ename": "UndefVarError",
     "evalue": "UndefVarError: `plot` not defined",
     "output_type": "error",
     "traceback": [
      "UndefVarError: `plot` not defined\n",
      "\n",
      "Stacktrace:\n",
      " [1] top-level scope\n",
      "   @ c:\\Users\\rache\\quantum_scrambling\\src\\scrambling.ipynb:2"
     ]
    }
   ],
   "source": [
    "# Plot the growth in the maximum link dimension with time:\n",
    "plot(times, chi, label=false)  \n",
    "scatter!(times, chi, label=false) "
   ]
  },
  {
   "cell_type": "code",
   "execution_count": 21,
   "id": "d45920a6",
   "metadata": {},
   "outputs": [],
   "source": []
  }
 ],
 "metadata": {
  "kernelspec": {
   "display_name": "Julia 1.9.4",
   "language": "julia",
   "name": "julia-1.9"
  },
  "language_info": {
   "file_extension": ".jl",
   "mimetype": "application/julia",
   "name": "julia",
   "version": "1.9.4"
  }
 },
 "nbformat": 4,
 "nbformat_minor": 5
}
