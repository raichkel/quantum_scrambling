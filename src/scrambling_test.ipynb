{
 "cells": [
  {
   "cell_type": "markdown",
   "id": "7a9816a7",
   "metadata": {},
   "source": [
    "# Scrambling of operators"
   ]
  },
  {
   "cell_type": "code",
   "execution_count": 3,
   "id": "771ca145",
   "metadata": {},
   "outputs": [],
   "source": [
    "using ITensors\n",
    "using ITensorTDVP\n",
    "using Plots\n",
    "using Observers\n",
    "using LinearAlgebra\n",
    "using ColorSchemes"
   ]
  },
  {
   "cell_type": "code",
   "execution_count": 4,
   "id": "ff838d60",
   "metadata": {},
   "outputs": [],
   "source": [
    "N  = 21    # Number of spins\n",
    "J  = 1.0    # ZZ interaction strength\n",
    "hx = 1.05   # X-field \n",
    "hz = 0.5    # Z-field\n",
    "δt = 0.5   # Time-step for evolution\n",
    "δt_short = 0.005\n",
    "T  = 10.0   # Total time\n",
    "χ  = 32;    # Max link dimension allowed"
   ]
  },
  {
   "cell_type": "markdown",
   "id": "bdc434ba",
   "metadata": {},
   "source": [
    "## Extended system + ancilla"
   ]
  },
  {
   "cell_type": "code",
   "execution_count": 5,
   "id": "94c04111",
   "metadata": {},
   "outputs": [],
   "source": [
    "sitesext = siteinds(\"S=1/2\",2*N); # Make 2N S=1/2 spin indices defining system + ancilla\n"
   ]
  },
  {
   "cell_type": "code",
   "execution_count": 6,
   "id": "f20b08ae",
   "metadata": {},
   "outputs": [],
   "source": [
    "# Extract the raising, lowering and identity operators for the extended system:\n",
    "\n",
    "Sp = ops(sitesext, [(\"S+\", n) for n in 1:(2*N)]);  # Raising operators\n",
    "Sm = ops(sitesext, [(\"S-\", n) for n in 1:(2*N)]);  # Lowering operators\n",
    "\n",
    "\n",
    "# ITensors doesn't include the identity operator as standard so construct it:\n",
    "Id = Vector{ITensor}(undef,2*N)\n",
    "for i =1:(2*N)\n",
    "    iv = sitesext[i]\n",
    "    ID = ITensor(iv', dag(iv));\n",
    "    for j in 1:ITensors.dim(iv)\n",
    "        ID[iv' => j, iv => j] = 1.0\n",
    "    end\n",
    "    Id[i] = ID\n",
    "end;"
   ]
  },
  {
   "cell_type": "code",
   "execution_count": 7,
   "id": "219f43e6",
   "metadata": {},
   "outputs": [],
   "source": [
    "# Construct the identity vacuum state:\n",
    "\n",
    "Ivac = MPS(sitesext, \"0\") # All 0 spins\n",
    "# Ivac = MPS(sitesext, \"Up\") # All up spins initial state\n",
    "# 1:2:(2*N) from 1 to 2N in steps of 2\n",
    "######################################################\n",
    "# Write code that takes dim and writes Ivac\n",
    "######################################################\n",
    "# (I-Z)/2 to spin chain should give same as applying n to bosons\n",
    "#####\n",
    "\n",
    "gates = [(Id[n]*Id[n+1] + Sm[n]*Sm[n+1]) for n in 1:2:(2*N)];\n",
    "Ivac = apply(gates, Ivac; cutoff=1e-15); # Note we have no 1/sqrt(2) normalisation"
   ]
  },
  {
   "cell_type": "code",
   "execution_count": 8,
   "id": "d175d0bb",
   "metadata": {},
   "outputs": [],
   "source": [
    "# Vectorisation approach used here is to stack matrix rows into a column vector.\n",
    "# This means that:\n",
    "# vec(AB) = A ⊗ I vec(B) =  I ⊗ B^T vec(A)\n",
    "# so |i><j| => |i> ⊗ |j>\n",
    "# vec(L A R) = L ⊗ R^T vec(A)\n",
    "\n",
    "# Define \"Commutator\" Hamiltonian operator terms:\n",
    "\n",
    "# HC = H ⊗ I - I ⊗ H, since H is real and hermitian H = H^T.\n",
    "\n",
    "H_op = OpSum()\n",
    "for i=1:2*(N-1)\n",
    "    H_op += (-1)^(i-1) *  J,\"Sz\",i,\"Sz\",i+2\n",
    "end\n",
    "for i=1:2*N\n",
    "    H_op += (-1)^(i-1) *  hx,\"Sx\",i\n",
    "    H_op += (-1)^(i-1) *  hz,\"Sz\",i\n",
    "end\n",
    "\n",
    "\n",
    "\n",
    "# Convert these terms to an MPO\n",
    "HC = MPO(H_op,sitesext);"
   ]
  },
  {
   "cell_type": "code",
   "execution_count": 9,
   "id": "6587f360",
   "metadata": {},
   "outputs": [],
   "source": [
    "# Define observable for scrambling:\n",
    "\n",
    "A_op = OpSum()\n",
    "A_op += 1.0,\"Sx\",2*floor(Int,N/2+1)-1  # Sx operator in the middle of the system\n",
    "A = MPO(A_op,sitesext);                # Build the MPO from these terms\n",
    "Avec = apply(A, Ivac; cutoff=1e-15); \n",
    ";  # Compute |A> = A|I>\n",
    "#put adag + a"
   ]
  },
  {
   "cell_type": "markdown",
   "id": "bde549b3",
   "metadata": {},
   "source": [
    "## Perform TDVP time evolution of the operator"
   ]
  },
  {
   "cell_type": "code",
   "execution_count": 10,
   "id": "70f648dc",
   "metadata": {},
   "outputs": [],
   "source": [
    "# Define function for computing entanglement entropy\n",
    "\n",
    "function entanglement_entropy(ψ)\n",
    "# Compute the von Neumann entanglement entropy across each bond of the MPS\n",
    "    N = length(ψ)\n",
    "    SvN = zeros(N)\n",
    "    psi = ψ\n",
    "    for b=1:N\n",
    "        psi = orthogonalize(psi, b)\n",
    "        if b==1\n",
    "            U,S,V = svd(psi[b] , siteind(psi, b))\n",
    "        else\n",
    "            U,S,V = svd(psi[b], (linkind(psi, b-1), siteind(psi, b)))\n",
    "        end\n",
    "        p = diag(S).^2               # Extract square of Schmidt coefficients\n",
    "        p = p ./ sum(p)              # Normalise to a probability dist\n",
    "        SvN[b] = -sum(p .* log2.(p)) # Compute Shannon entropy\n",
    "    end\n",
    "    return SvN\n",
    "end;"
   ]
  },
  {
   "cell_type": "markdown",
   "metadata": {},
   "source": []
  },
  {
   "cell_type": "code",
   "execution_count": 11,
   "id": "b6c3eca7",
   "metadata": {},
   "outputs": [
    {
     "data": {
      "image/png": "[encoded data removed]",
      "image/svg+xml": [
       "<?xml version=\"1.0\" encoding=\"utf-8\"?>\n",
       "<svg xmlns=\"http://www.w3.org/2000/svg\" xmlns:xlink=\"http://www.w3.org/1999/xlink\" width=\"600\" height=\"400\" viewBox=\"0 0 2400 1600\">\n",
       "<defs>\n",
       "  <clipPath id=\"clip640\">\n",
       "    <rect x=\"0\" y=\"0\" width=\"2400\" height=\"1600\"/>\n",
       "  </clipPath>\n",
       "</defs>\n",
       "<path clip-path=\"url(#clip640)\" d=\"M0 1600 L2400 1600 L2400 0 L0 0  Z\" fill=\"#ffffff\" fill-rule=\"evenodd\" fill-opacity=\"1\"/>\n",
       "<defs>\n",
       "  <clipPath id=\"clip641\">\n",
       "    <rect x=\"480\" y=\"0\" width=\"1681\" height=\"1600\"/>\n",
       "  </clipPath>\n",
       "</defs>\n",
       "<path clip-path=\"url(#clip640)\" d=\"M186.274 1486.45 L2352.76 1486.45 L2352.76 47.2441 L186.274 47.2441  Z\" fill=\"#ffffff\" fill-rule=\"evenodd\" fill-opacity=\"1\"/>\n",
       "<defs>\n",
       "  <clipPath id=\"clip642\">\n",
       "    <rect x=\"186\" y=\"47\" width=\"2167\" height=\"1440\"/>\n",
       "  </clipPath>\n",
       "</defs>\n",
       "<polyline clip-path=\"url(#clip642)\" style=\"stroke:#000000; stroke-linecap:round; stroke-linejoin:round; stroke-width:2; stroke-opacity:0.1; fill:none\" points=\"197.74,1486.45 197.74,47.2441 \"/>\n",
       "<polyline clip-path=\"url(#clip642)\" style=\"stroke:#000000; stroke-linecap:round; stroke-linejoin:round; stroke-width:2; stroke-opacity:0.1; fill:none\" points=\"696.24,1486.45 696.24,47.2441 \"/>\n",
       "<polyline clip-path=\"url(#clip642)\" style=\"stroke:#000000; stroke-linecap:round; stroke-linejoin:round; stroke-width:2; stroke-opacity:0.1; fill:none\" points=\"1194.74,1486.45 1194.74,47.2441 \"/>\n",
       "<polyline clip-path=\"url(#clip642)\" style=\"stroke:#000000; stroke-linecap:round; stroke-linejoin:round; stroke-width:2; stroke-opacity:0.1; fill:none\" points=\"1693.24,1486.45 1693.24,47.2441 \"/>\n",
       "<polyline clip-path=\"url(#clip642)\" style=\"stroke:#000000; stroke-linecap:round; stroke-linejoin:round; stroke-width:2; stroke-opacity:0.1; fill:none\" points=\"2191.74,1486.45 2191.74,47.2441 \"/>\n",
       "<polyline clip-path=\"url(#clip640)\" style=\"stroke:#000000; stroke-linecap:round; stroke-linejoin:round; stroke-width:4; stroke-opacity:1; fill:none\" points=\"186.274,1486.45 2352.76,1486.45 \"/>\n",
       "<polyline clip-path=\"url(#clip640)\" style=\"stroke:#000000; stroke-linecap:round; stroke-linejoin:round; stroke-width:4; stroke-opacity:1; fill:none\" points=\"197.74,1486.45 197.74,1467.55 \"/>\n",
       "<polyline clip-path=\"url(#clip640)\" style=\"stroke:#000000; stroke-linecap:round; stroke-linejoin:round; stroke-width:4; stroke-opacity:1; fill:none\" points=\"696.24,1486.45 696.24,1467.55 \"/>\n",
       "<polyline clip-path=\"url(#clip640)\" style=\"stroke:#000000; stroke-linecap:round; stroke-linejoin:round; stroke-width:4; stroke-opacity:1; fill:none\" points=\"1194.74,1486.45 1194.74,1467.55 \"/>\n",
       "<polyline clip-path=\"url(#clip640)\" style=\"stroke:#000000; stroke-linecap:round; stroke-linejoin:round; stroke-width:4; stroke-opacity:1; fill:none\" points=\"1693.24,1486.45 1693.24,1467.55 \"/>\n",
       "<polyline clip-path=\"url(#clip640)\" style=\"stroke:#000000; stroke-linecap:round; stroke-linejoin:round; stroke-width:4; stroke-opacity:1; fill:none\" points=\"2191.74,1486.45 2191.74,1467.55 \"/>\n",
       "<path clip-path=\"url(#clip640)\" d=\"M197.74 1517.37 Q194.128 1517.37 192.3 1520.93 Q190.494 1524.47 190.494 1531.6 Q190.494 1538.71 192.3 1542.27 Q194.128 1545.82 197.74 1545.82 Q201.374 1545.82 203.179 1542.27 Q205.008 1538.71 205.008 1531.6 Q205.008 1524.47 203.179 1520.93 Q201.374 1517.37 197.74 1517.37 M197.74 1513.66 Q203.55 1513.66 206.605 1518.27 Q209.684 1522.85 209.684 1531.6 Q209.684 1540.33 206.605 1544.94 Q203.55 1549.52 197.74 1549.52 Q191.929 1549.52 188.851 1544.94 Q185.795 1540.33 185.795 1531.6 Q185.795 1522.85 188.851 1518.27 Q191.929 1513.66 197.74 1513.66 Z\" fill=\"#000000\" fill-rule=\"nonzero\" fill-opacity=\"1\" /><path clip-path=\"url(#clip640)\" d=\"M670.927 1544.91 L678.566 1544.91 L678.566 1518.55 L670.256 1520.21 L670.256 1515.95 L678.52 1514.29 L683.196 1514.29 L683.196 1544.91 L690.835 1544.91 L690.835 1548.85 L670.927 1548.85 L670.927 1544.91 Z\" fill=\"#000000\" fill-rule=\"nonzero\" fill-opacity=\"1\" /><path clip-path=\"url(#clip640)\" d=\"M710.279 1517.37 Q706.668 1517.37 704.839 1520.93 Q703.034 1524.47 703.034 1531.6 Q703.034 1538.71 704.839 1542.27 Q706.668 1545.82 710.279 1545.82 Q713.913 1545.82 715.719 1542.27 Q717.547 1538.71 717.547 1531.6 Q717.547 1524.47 715.719 1520.93 Q713.913 1517.37 710.279 1517.37 M710.279 1513.66 Q716.089 1513.66 719.145 1518.27 Q722.223 1522.85 722.223 1531.6 Q722.223 1540.33 719.145 1544.94 Q716.089 1549.52 710.279 1549.52 Q704.469 1549.52 701.39 1544.94 Q698.335 1540.33 698.335 1531.6 Q698.335 1522.85 701.39 1518.27 Q704.469 1513.66 710.279 1513.66 Z\" fill=\"#000000\" fill-rule=\"nonzero\" fill-opacity=\"1\" /><path clip-path=\"url(#clip640)\" d=\"M1173.51 1544.91 L1189.83 1544.91 L1189.83 1548.85 L1167.89 1548.85 L1167.89 1544.91 Q1170.55 1542.16 1175.13 1537.53 Q1179.74 1532.88 1180.92 1531.53 Q1183.17 1529.01 1184.05 1527.27 Q1184.95 1525.51 1184.95 1523.82 Q1184.95 1521.07 1183 1519.33 Q1181.08 1517.6 1177.98 1517.6 Q1175.78 1517.6 1173.33 1518.36 Q1170.9 1519.13 1168.12 1520.68 L1168.12 1515.95 Q1170.94 1514.82 1173.4 1514.24 Q1175.85 1513.66 1177.89 1513.66 Q1183.26 1513.66 1186.45 1516.35 Q1189.65 1519.03 1189.65 1523.52 Q1189.65 1525.65 1188.84 1527.57 Q1188.05 1529.47 1185.94 1532.07 Q1185.36 1532.74 1182.26 1535.95 Q1179.16 1539.15 1173.51 1544.91 Z\" fill=\"#000000\" fill-rule=\"nonzero\" fill-opacity=\"1\" /><path clip-path=\"url(#clip640)\" d=\"M1209.65 1517.37 Q1206.04 1517.37 1204.21 1520.93 Q1202.4 1524.47 1202.4 1531.6 Q1202.4 1538.71 1204.21 1542.27 Q1206.04 1545.82 1209.65 1545.82 Q1213.28 1545.82 1215.09 1542.27 Q1216.92 1538.71 1216.92 1531.6 Q1216.92 1524.47 1215.09 1520.93 Q1213.28 1517.37 1209.65 1517.37 M1209.65 1513.66 Q1215.46 1513.66 1218.51 1518.27 Q1221.59 1522.85 1221.59 1531.6 Q1221.59 1540.33 1218.51 1544.94 Q1215.46 1549.52 1209.65 1549.52 Q1203.84 1549.52 1200.76 1544.94 Q1197.7 1540.33 1197.7 1531.6 Q1197.7 1522.85 1200.76 1518.27 Q1203.84 1513.66 1209.65 1513.66 Z\" fill=\"#000000\" fill-rule=\"nonzero\" fill-opacity=\"1\" /><path clip-path=\"url(#clip640)\" d=\"M1682.08 1530.21 Q1685.44 1530.93 1687.31 1533.2 Q1689.21 1535.47 1689.21 1538.8 Q1689.21 1543.92 1685.69 1546.72 Q1682.18 1549.52 1675.69 1549.52 Q1673.52 1549.52 1671.2 1549.08 Q1668.91 1548.66 1666.46 1547.81 L1666.46 1543.29 Q1668.4 1544.43 1670.72 1545.01 Q1673.03 1545.58 1675.56 1545.58 Q1679.95 1545.58 1682.24 1543.85 Q1684.56 1542.11 1684.56 1538.8 Q1684.56 1535.75 1682.41 1534.03 Q1680.28 1532.3 1676.46 1532.3 L1672.43 1532.3 L1672.43 1528.45 L1676.64 1528.45 Q1680.09 1528.45 1681.92 1527.09 Q1683.75 1525.7 1683.75 1523.11 Q1683.75 1520.45 1681.85 1519.03 Q1679.98 1517.6 1676.46 1517.6 Q1674.54 1517.6 1672.34 1518.01 Q1670.14 1518.43 1667.5 1519.31 L1667.5 1515.14 Q1670.16 1514.4 1672.48 1514.03 Q1674.81 1513.66 1676.87 1513.66 Q1682.2 1513.66 1685.3 1516.09 Q1688.4 1518.5 1688.4 1522.62 Q1688.4 1525.49 1686.76 1527.48 Q1685.12 1529.45 1682.08 1530.21 Z\" fill=\"#000000\" fill-rule=\"nonzero\" fill-opacity=\"1\" /><path clip-path=\"url(#clip640)\" d=\"M1708.08 1517.37 Q1704.47 1517.37 1702.64 1520.93 Q1700.83 1524.47 1700.83 1531.6 Q1700.83 1538.71 1702.64 1542.27 Q1704.47 1545.82 1708.08 1545.82 Q1711.71 1545.82 1713.52 1542.27 Q1715.35 1538.71 1715.35 1531.6 Q1715.35 1524.47 1713.52 1520.93 Q1711.71 1517.37 1708.08 1517.37 M1708.08 1513.66 Q1713.89 1513.66 1716.94 1518.27 Q1720.02 1522.85 1720.02 1531.6 Q1720.02 1540.33 1716.94 1544.94 Q1713.89 1549.52 1708.08 1549.52 Q1702.27 1549.52 1699.19 1544.94 Q1696.13 1540.33 1696.13 1531.6 Q1696.13 1522.85 1699.19 1518.27 Q1702.27 1513.66 1708.08 1513.66 Z\" fill=\"#000000\" fill-rule=\"nonzero\" fill-opacity=\"1\" /><path clip-path=\"url(#clip640)\" d=\"M2179.91 1518.36 L2168.11 1536.81 L2179.91 1536.81 L2179.91 1518.36 M2178.68 1514.29 L2184.56 1514.29 L2184.56 1536.81 L2189.49 1536.81 L2189.49 1540.7 L2184.56 1540.7 L2184.56 1548.85 L2179.91 1548.85 L2179.91 1540.7 L2164.31 1540.7 L2164.31 1536.19 L2178.68 1514.29 Z\" fill=\"#000000\" fill-rule=\"nonzero\" fill-opacity=\"1\" /><path clip-path=\"url(#clip640)\" d=\"M2207.23 1517.37 Q2203.62 1517.37 2201.79 1520.93 Q2199.98 1524.47 2199.98 1531.6 Q2199.98 1538.71 2201.79 1542.27 Q2203.62 1545.82 2207.23 1545.82 Q2210.86 1545.82 2212.67 1542.27 Q2214.49 1538.71 2214.49 1531.6 Q2214.49 1524.47 2212.67 1520.93 Q2210.86 1517.37 2207.23 1517.37 M2207.23 1513.66 Q2213.04 1513.66 2216.09 1518.27 Q2219.17 1522.85 2219.17 1531.6 Q2219.17 1540.33 2216.09 1544.94 Q2213.04 1549.52 2207.23 1549.52 Q2201.42 1549.52 2198.34 1544.94 Q2195.28 1540.33 2195.28 1531.6 Q2195.28 1522.85 2198.34 1518.27 Q2201.42 1513.66 2207.23 1513.66 Z\" fill=\"#000000\" fill-rule=\"nonzero\" fill-opacity=\"1\" /><polyline clip-path=\"url(#clip642)\" style=\"stroke:#000000; stroke-linecap:round; stroke-linejoin:round; stroke-width:2; stroke-opacity:0.1; fill:none\" points=\"186.274,1445.72 2352.76,1445.72 \"/>\n",
       "<polyline clip-path=\"url(#clip642)\" style=\"stroke:#000000; stroke-linecap:round; stroke-linejoin:round; stroke-width:2; stroke-opacity:0.1; fill:none\" points=\"186.274,1106.28 2352.76,1106.28 \"/>\n",
       "<polyline clip-path=\"url(#clip642)\" style=\"stroke:#000000; stroke-linecap:round; stroke-linejoin:round; stroke-width:2; stroke-opacity:0.1; fill:none\" points=\"186.274,766.846 2352.76,766.846 \"/>\n",
       "<polyline clip-path=\"url(#clip642)\" style=\"stroke:#000000; stroke-linecap:round; stroke-linejoin:round; stroke-width:2; stroke-opacity:0.1; fill:none\" points=\"186.274,427.411 2352.76,427.411 \"/>\n",
       "<polyline clip-path=\"url(#clip642)\" style=\"stroke:#000000; stroke-linecap:round; stroke-linejoin:round; stroke-width:2; stroke-opacity:0.1; fill:none\" points=\"186.274,87.9763 2352.76,87.9763 \"/>\n",
       "<polyline clip-path=\"url(#clip640)\" style=\"stroke:#000000; stroke-linecap:round; stroke-linejoin:round; stroke-width:4; stroke-opacity:1; fill:none\" points=\"186.274,1486.45 186.274,47.2441 \"/>\n",
       "<polyline clip-path=\"url(#clip640)\" style=\"stroke:#000000; stroke-linecap:round; stroke-linejoin:round; stroke-width:4; stroke-opacity:1; fill:none\" points=\"186.274,1445.72 205.172,1445.72 \"/>\n",
       "<polyline clip-path=\"url(#clip640)\" style=\"stroke:#000000; stroke-linecap:round; stroke-linejoin:round; stroke-width:4; stroke-opacity:1; fill:none\" points=\"186.274,1106.28 205.172,1106.28 \"/>\n",
       "<polyline clip-path=\"url(#clip640)\" style=\"stroke:#000000; stroke-linecap:round; stroke-linejoin:round; stroke-width:4; stroke-opacity:1; fill:none\" points=\"186.274,766.846 205.172,766.846 \"/>\n",
       "<polyline clip-path=\"url(#clip640)\" style=\"stroke:#000000; stroke-linecap:round; stroke-linejoin:round; stroke-width:4; stroke-opacity:1; fill:none\" points=\"186.274,427.411 205.172,427.411 \"/>\n",
       "<polyline clip-path=\"url(#clip640)\" style=\"stroke:#000000; stroke-linecap:round; stroke-linejoin:round; stroke-width:4; stroke-opacity:1; fill:none\" points=\"186.274,87.9763 205.172,87.9763 \"/>\n",
       "<path clip-path=\"url(#clip640)\" d=\"M62.9365 1431.51 Q59.3254 1431.51 57.4967 1435.08 Q55.6912 1438.62 55.6912 1445.75 Q55.6912 1452.86 57.4967 1456.42 Q59.3254 1459.96 62.9365 1459.96 Q66.5707 1459.96 68.3763 1456.42 Q70.205 1452.86 70.205 1445.75 Q70.205 1438.62 68.3763 1435.08 Q66.5707 1431.51 62.9365 1431.51 M62.9365 1427.81 Q68.7467 1427.81 71.8022 1432.42 Q74.8809 1437 74.8809 1445.75 Q74.8809 1454.48 71.8022 1459.08 Q68.7467 1463.67 62.9365 1463.67 Q57.1264 1463.67 54.0477 1459.08 Q50.9921 1454.48 50.9921 1445.75 Q50.9921 1437 54.0477 1432.42 Q57.1264 1427.81 62.9365 1427.81 Z\" fill=\"#000000\" fill-rule=\"nonzero\" fill-opacity=\"1\" /><path clip-path=\"url(#clip640)\" d=\"M83.0984 1457.12 L87.9827 1457.12 L87.9827 1463 L83.0984 1463 L83.0984 1457.12 Z\" fill=\"#000000\" fill-rule=\"nonzero\" fill-opacity=\"1\" /><path clip-path=\"url(#clip640)\" d=\"M108.168 1431.51 Q104.557 1431.51 102.728 1435.08 Q100.922 1438.62 100.922 1445.75 Q100.922 1452.86 102.728 1456.42 Q104.557 1459.96 108.168 1459.96 Q111.802 1459.96 113.608 1456.42 Q115.436 1452.86 115.436 1445.75 Q115.436 1438.62 113.608 1435.08 Q111.802 1431.51 108.168 1431.51 M108.168 1427.81 Q113.978 1427.81 117.033 1432.42 Q120.112 1437 120.112 1445.75 Q120.112 1454.48 117.033 1459.08 Q113.978 1463.67 108.168 1463.67 Q102.358 1463.67 99.2789 1459.08 Q96.2234 1454.48 96.2234 1445.75 Q96.2234 1437 99.2789 1432.42 Q102.358 1427.81 108.168 1427.81 Z\" fill=\"#000000\" fill-rule=\"nonzero\" fill-opacity=\"1\" /><path clip-path=\"url(#clip640)\" d=\"M138.33 1431.51 Q134.719 1431.51 132.89 1435.08 Q131.084 1438.62 131.084 1445.75 Q131.084 1452.86 132.89 1456.42 Q134.719 1459.96 138.33 1459.96 Q141.964 1459.96 143.769 1456.42 Q145.598 1452.86 145.598 1445.75 Q145.598 1438.62 143.769 1435.08 Q141.964 1431.51 138.33 1431.51 M138.33 1427.81 Q144.14 1427.81 147.195 1432.42 Q150.274 1437 150.274 1445.75 Q150.274 1454.48 147.195 1459.08 Q144.14 1463.67 138.33 1463.67 Q132.519 1463.67 129.441 1459.08 Q126.385 1454.48 126.385 1445.75 Q126.385 1437 129.441 1432.42 Q132.519 1427.81 138.33 1427.81 Z\" fill=\"#000000\" fill-rule=\"nonzero\" fill-opacity=\"1\" /><path clip-path=\"url(#clip640)\" d=\"M63.9319 1092.08 Q60.3208 1092.08 58.4921 1095.64 Q56.6865 1099.19 56.6865 1106.32 Q56.6865 1113.42 58.4921 1116.99 Q60.3208 1120.53 63.9319 1120.53 Q67.5661 1120.53 69.3717 1116.99 Q71.2004 1113.42 71.2004 1106.32 Q71.2004 1099.19 69.3717 1095.64 Q67.5661 1092.08 63.9319 1092.08 M63.9319 1088.38 Q69.742 1088.38 72.7976 1092.98 Q75.8763 1097.57 75.8763 1106.32 Q75.8763 1115.04 72.7976 1119.65 Q69.742 1124.23 63.9319 1124.23 Q58.1217 1124.23 55.043 1119.65 Q51.9875 1115.04 51.9875 1106.32 Q51.9875 1097.57 55.043 1092.98 Q58.1217 1088.38 63.9319 1088.38 Z\" fill=\"#000000\" fill-rule=\"nonzero\" fill-opacity=\"1\" /><path clip-path=\"url(#clip640)\" d=\"M84.0938 1117.68 L88.978 1117.68 L88.978 1123.56 L84.0938 1123.56 L84.0938 1117.68 Z\" fill=\"#000000\" fill-rule=\"nonzero\" fill-opacity=\"1\" /><path clip-path=\"url(#clip640)\" d=\"M103.191 1119.63 L119.51 1119.63 L119.51 1123.56 L97.566 1123.56 L97.566 1119.63 Q100.228 1116.87 104.811 1112.24 Q109.418 1107.59 110.598 1106.25 Q112.844 1103.72 113.723 1101.99 Q114.626 1100.23 114.626 1098.54 Q114.626 1095.78 112.682 1094.05 Q110.76 1092.31 107.658 1092.31 Q105.459 1092.31 103.006 1093.07 Q100.575 1093.84 97.7974 1095.39 L97.7974 1090.67 Q100.621 1089.53 103.075 1088.95 Q105.529 1088.38 107.566 1088.38 Q112.936 1088.38 116.131 1091.06 Q119.325 1093.75 119.325 1098.24 Q119.325 1100.37 118.515 1102.29 Q117.728 1104.19 115.621 1106.78 Q115.043 1107.45 111.941 1110.67 Q108.839 1113.86 103.191 1119.63 Z\" fill=\"#000000\" fill-rule=\"nonzero\" fill-opacity=\"1\" /><path clip-path=\"url(#clip640)\" d=\"M129.371 1089 L147.728 1089 L147.728 1092.94 L133.654 1092.94 L133.654 1101.41 Q134.672 1101.06 135.691 1100.9 Q136.709 1100.71 137.728 1100.71 Q143.515 1100.71 146.894 1103.89 Q150.274 1107.06 150.274 1112.47 Q150.274 1118.05 146.802 1121.15 Q143.33 1124.23 137.01 1124.23 Q134.834 1124.23 132.566 1123.86 Q130.32 1123.49 127.913 1122.75 L127.913 1118.05 Q129.996 1119.19 132.219 1119.74 Q134.441 1120.3 136.918 1120.3 Q140.922 1120.3 143.26 1118.19 Q145.598 1116.08 145.598 1112.47 Q145.598 1108.86 143.26 1106.76 Q140.922 1104.65 136.918 1104.65 Q135.043 1104.65 133.168 1105.07 Q131.316 1105.48 129.371 1106.36 L129.371 1089 Z\" fill=\"#000000\" fill-rule=\"nonzero\" fill-opacity=\"1\" /><path clip-path=\"url(#clip640)\" d=\"M62.9365 752.645 Q59.3254 752.645 57.4967 756.209 Q55.6912 759.751 55.6912 766.881 Q55.6912 773.987 57.4967 777.552 Q59.3254 781.094 62.9365 781.094 Q66.5707 781.094 68.3763 777.552 Q70.205 773.987 70.205 766.881 Q70.205 759.751 68.3763 756.209 Q66.5707 752.645 62.9365 752.645 M62.9365 748.941 Q68.7467 748.941 71.8022 753.547 Q74.8809 758.131 74.8809 766.881 Q74.8809 775.608 71.8022 780.214 Q68.7467 784.797 62.9365 784.797 Q57.1264 784.797 54.0477 780.214 Q50.9921 775.608 50.9921 766.881 Q50.9921 758.131 54.0477 753.547 Q57.1264 748.941 62.9365 748.941 Z\" fill=\"#000000\" fill-rule=\"nonzero\" fill-opacity=\"1\" /><path clip-path=\"url(#clip640)\" d=\"M83.0984 778.246 L87.9827 778.246 L87.9827 784.126 L83.0984 784.126 L83.0984 778.246 Z\" fill=\"#000000\" fill-rule=\"nonzero\" fill-opacity=\"1\" /><path clip-path=\"url(#clip640)\" d=\"M98.2141 749.566 L116.57 749.566 L116.57 753.501 L102.496 753.501 L102.496 761.973 Q103.515 761.626 104.534 761.464 Q105.552 761.279 106.571 761.279 Q112.358 761.279 115.737 764.45 Q119.117 767.621 119.117 773.038 Q119.117 778.617 115.645 781.719 Q112.172 784.797 105.853 784.797 Q103.677 784.797 101.409 784.427 Q99.1632 784.057 96.7558 783.316 L96.7558 778.617 Q98.8391 779.751 101.061 780.307 Q103.284 780.862 105.76 780.862 Q109.765 780.862 112.103 778.756 Q114.441 776.649 114.441 773.038 Q114.441 769.427 112.103 767.321 Q109.765 765.214 105.76 765.214 Q103.885 765.214 102.01 765.631 Q100.159 766.047 98.2141 766.927 L98.2141 749.566 Z\" fill=\"#000000\" fill-rule=\"nonzero\" fill-opacity=\"1\" /><path clip-path=\"url(#clip640)\" d=\"M138.33 752.645 Q134.719 752.645 132.89 756.209 Q131.084 759.751 131.084 766.881 Q131.084 773.987 132.89 777.552 Q134.719 781.094 138.33 781.094 Q141.964 781.094 143.769 777.552 Q145.598 773.987 145.598 766.881 Q145.598 759.751 143.769 756.209 Q141.964 752.645 138.33 752.645 M138.33 748.941 Q144.14 748.941 147.195 753.547 Q150.274 758.131 150.274 766.881 Q150.274 775.608 147.195 780.214 Q144.14 784.797 138.33 784.797 Q132.519 784.797 129.441 780.214 Q126.385 775.608 126.385 766.881 Q126.385 758.131 129.441 753.547 Q132.519 748.941 138.33 748.941 Z\" fill=\"#000000\" fill-rule=\"nonzero\" fill-opacity=\"1\" /><path clip-path=\"url(#clip640)\" d=\"M63.9319 413.21 Q60.3208 413.21 58.4921 416.775 Q56.6865 420.316 56.6865 427.446 Q56.6865 434.552 58.4921 438.117 Q60.3208 441.659 63.9319 441.659 Q67.5661 441.659 69.3717 438.117 Q71.2004 434.552 71.2004 427.446 Q71.2004 420.316 69.3717 416.775 Q67.5661 413.21 63.9319 413.21 M63.9319 409.506 Q69.742 409.506 72.7976 414.113 Q75.8763 418.696 75.8763 427.446 Q75.8763 436.173 72.7976 440.779 Q69.742 445.362 63.9319 445.362 Q58.1217 445.362 55.043 440.779 Q51.9875 436.173 51.9875 427.446 Q51.9875 418.696 55.043 414.113 Q58.1217 409.506 63.9319 409.506 Z\" fill=\"#000000\" fill-rule=\"nonzero\" fill-opacity=\"1\" /><path clip-path=\"url(#clip640)\" d=\"M84.0938 438.812 L88.978 438.812 L88.978 444.691 L84.0938 444.691 L84.0938 438.812 Z\" fill=\"#000000\" fill-rule=\"nonzero\" fill-opacity=\"1\" /><path clip-path=\"url(#clip640)\" d=\"M97.9826 410.131 L120.205 410.131 L120.205 412.122 L107.658 444.691 L102.774 444.691 L114.58 414.066 L97.9826 414.066 L97.9826 410.131 Z\" fill=\"#000000\" fill-rule=\"nonzero\" fill-opacity=\"1\" /><path clip-path=\"url(#clip640)\" d=\"M129.371 410.131 L147.728 410.131 L147.728 414.066 L133.654 414.066 L133.654 422.538 Q134.672 422.191 135.691 422.029 Q136.709 421.844 137.728 421.844 Q143.515 421.844 146.894 425.015 Q150.274 428.187 150.274 433.603 Q150.274 439.182 146.802 442.284 Q143.33 445.362 137.01 445.362 Q134.834 445.362 132.566 444.992 Q130.32 444.622 127.913 443.881 L127.913 439.182 Q129.996 440.316 132.219 440.872 Q134.441 441.427 136.918 441.427 Q140.922 441.427 143.26 439.321 Q145.598 437.214 145.598 433.603 Q145.598 429.992 143.26 427.886 Q140.922 425.779 136.918 425.779 Q135.043 425.779 133.168 426.196 Q131.316 426.613 129.371 427.492 L129.371 410.131 Z\" fill=\"#000000\" fill-rule=\"nonzero\" fill-opacity=\"1\" /><path clip-path=\"url(#clip640)\" d=\"M53.7467 101.321 L61.3856 101.321 L61.3856 74.9555 L53.0754 76.6222 L53.0754 72.3629 L61.3393 70.6963 L66.0152 70.6963 L66.0152 101.321 L73.654 101.321 L73.654 105.256 L53.7467 105.256 L53.7467 101.321 Z\" fill=\"#000000\" fill-rule=\"nonzero\" fill-opacity=\"1\" /><path clip-path=\"url(#clip640)\" d=\"M83.0984 99.3767 L87.9827 99.3767 L87.9827 105.256 L83.0984 105.256 L83.0984 99.3767 Z\" fill=\"#000000\" fill-rule=\"nonzero\" fill-opacity=\"1\" /><path clip-path=\"url(#clip640)\" d=\"M108.168 73.775 Q104.557 73.775 102.728 77.3398 Q100.922 80.8814 100.922 88.011 Q100.922 95.1174 102.728 98.6822 Q104.557 102.224 108.168 102.224 Q111.802 102.224 113.608 98.6822 Q115.436 95.1174 115.436 88.011 Q115.436 80.8814 113.608 77.3398 Q111.802 73.775 108.168 73.775 M108.168 70.0713 Q113.978 70.0713 117.033 74.6777 Q120.112 79.261 120.112 88.011 Q120.112 96.7378 117.033 101.344 Q113.978 105.928 108.168 105.928 Q102.358 105.928 99.2789 101.344 Q96.2234 96.7378 96.2234 88.011 Q96.2234 79.261 99.2789 74.6777 Q102.358 70.0713 108.168 70.0713 Z\" fill=\"#000000\" fill-rule=\"nonzero\" fill-opacity=\"1\" /><path clip-path=\"url(#clip640)\" d=\"M138.33 73.775 Q134.719 73.775 132.89 77.3398 Q131.084 80.8814 131.084 88.011 Q131.084 95.1174 132.89 98.6822 Q134.719 102.224 138.33 102.224 Q141.964 102.224 143.769 98.6822 Q145.598 95.1174 145.598 88.011 Q145.598 80.8814 143.769 77.3398 Q141.964 73.775 138.33 73.775 M138.33 70.0713 Q144.14 70.0713 147.195 74.6777 Q150.274 79.261 150.274 88.011 Q150.274 96.7378 147.195 101.344 Q144.14 105.928 138.33 105.928 Q132.519 105.928 129.441 101.344 Q126.385 96.7378 126.385 88.011 Q126.385 79.261 129.441 74.6777 Q132.519 70.0713 138.33 70.0713 Z\" fill=\"#000000\" fill-rule=\"nonzero\" fill-opacity=\"1\" /><polyline clip-path=\"url(#clip642)\" style=\"stroke:#009af9; stroke-linecap:round; stroke-linejoin:round; stroke-width:4; stroke-opacity:1; fill:none\" points=\"247.59,87.9763 297.44,1445.72 347.29,87.9763 397.14,1445.72 446.99,87.9763 496.84,1445.72 546.69,87.9763 596.54,1445.72 646.39,87.9763 696.24,1445.72 746.09,87.9763 795.94,1445.72 845.79,87.9763 895.64,1445.72 945.49,87.9763 995.34,1445.72 1045.19,87.9763 1095.04,1445.72 1144.89,87.9763 1194.74,1445.72 1244.59,87.9763 1294.44,1445.72 1344.29,87.9763 1394.14,1445.72 1443.99,87.9763 1493.84,1445.72 1543.69,87.9763 1593.54,1445.72 1643.39,87.9763 1693.24,1445.72 1743.09,87.9763 1792.94,1445.72 1842.79,87.9763 1892.64,1445.72 1942.49,87.9763 1992.34,1445.72 2042.19,87.9763 2092.04,1445.72 2141.89,87.9763 2191.74,1445.72 2241.59,87.9763 2291.44,1445.72 \"/>\n",
       "</svg>\n"
      ],
      "text/html": [
       "<?xml version=\"1.0\" encoding=\"utf-8\"?>\n",
       "<svg xmlns=\"http://www.w3.org/2000/svg\" xmlns:xlink=\"http://www.w3.org/1999/xlink\" width=\"600\" height=\"400\" viewBox=\"0 0 2400 1600\">\n",
       "<defs>\n",
       "  <clipPath id=\"clip690\">\n",
       "    <rect x=\"0\" y=\"0\" width=\"2400\" height=\"1600\"/>\n",
       "  </clipPath>\n",
       "</defs>\n",
       "<path clip-path=\"url(#clip690)\" d=\"M0 1600 L2400 1600 L2400 0 L0 0  Z\" fill=\"#ffffff\" fill-rule=\"evenodd\" fill-opacity=\"1\"/>\n",
       "<defs>\n",
       "  <clipPath id=\"clip691\">\n",
       "    <rect x=\"480\" y=\"0\" width=\"1681\" height=\"1600\"/>\n",
       "  </clipPath>\n",
       "</defs>\n",
       "<path clip-path=\"url(#clip690)\" d=\"M186.274 1486.45 L2352.76 1486.45 L2352.76 47.2441 L186.274 47.2441  Z\" fill=\"#ffffff\" fill-rule=\"evenodd\" fill-opacity=\"1\"/>\n",
       "<defs>\n",
       "  <clipPath id=\"clip692\">\n",
       "    <rect x=\"186\" y=\"47\" width=\"2167\" height=\"1440\"/>\n",
       "  </clipPath>\n",
       "</defs>\n",
       "<polyline clip-path=\"url(#clip692)\" style=\"stroke:#000000; stroke-linecap:round; stroke-linejoin:round; stroke-width:2; stroke-opacity:0.1; fill:none\" points=\"197.74,1486.45 197.74,47.2441 \"/>\n",
       "<polyline clip-path=\"url(#clip692)\" style=\"stroke:#000000; stroke-linecap:round; stroke-linejoin:round; stroke-width:2; stroke-opacity:0.1; fill:none\" points=\"696.24,1486.45 696.24,47.2441 \"/>\n",
       "<polyline clip-path=\"url(#clip692)\" style=\"stroke:#000000; stroke-linecap:round; stroke-linejoin:round; stroke-width:2; stroke-opacity:0.1; fill:none\" points=\"1194.74,1486.45 1194.74,47.2441 \"/>\n",
       "<polyline clip-path=\"url(#clip692)\" style=\"stroke:#000000; stroke-linecap:round; stroke-linejoin:round; stroke-width:2; stroke-opacity:0.1; fill:none\" points=\"1693.24,1486.45 1693.24,47.2441 \"/>\n",
       "<polyline clip-path=\"url(#clip692)\" style=\"stroke:#000000; stroke-linecap:round; stroke-linejoin:round; stroke-width:2; stroke-opacity:0.1; fill:none\" points=\"2191.74,1486.45 2191.74,47.2441 \"/>\n",
       "<polyline clip-path=\"url(#clip690)\" style=\"stroke:#000000; stroke-linecap:round; stroke-linejoin:round; stroke-width:4; stroke-opacity:1; fill:none\" points=\"186.274,1486.45 2352.76,1486.45 \"/>\n",
       "<polyline clip-path=\"url(#clip690)\" style=\"stroke:#000000; stroke-linecap:round; stroke-linejoin:round; stroke-width:4; stroke-opacity:1; fill:none\" points=\"197.74,1486.45 197.74,1467.55 \"/>\n",
       "<polyline clip-path=\"url(#clip690)\" style=\"stroke:#000000; stroke-linecap:round; stroke-linejoin:round; stroke-width:4; stroke-opacity:1; fill:none\" points=\"696.24,1486.45 696.24,1467.55 \"/>\n",
       "<polyline clip-path=\"url(#clip690)\" style=\"stroke:#000000; stroke-linecap:round; stroke-linejoin:round; stroke-width:4; stroke-opacity:1; fill:none\" points=\"1194.74,1486.45 1194.74,1467.55 \"/>\n",
       "<polyline clip-path=\"url(#clip690)\" style=\"stroke:#000000; stroke-linecap:round; stroke-linejoin:round; stroke-width:4; stroke-opacity:1; fill:none\" points=\"1693.24,1486.45 1693.24,1467.55 \"/>\n",
       "<polyline clip-path=\"url(#clip690)\" style=\"stroke:#000000; stroke-linecap:round; stroke-linejoin:round; stroke-width:4; stroke-opacity:1; fill:none\" points=\"2191.74,1486.45 2191.74,1467.55 \"/>\n",
       "<path clip-path=\"url(#clip690)\" d=\"M197.74 1517.37 Q194.128 1517.37 192.3 1520.93 Q190.494 1524.47 190.494 1531.6 Q190.494 1538.71 192.3 1542.27 Q194.128 1545.82 197.74 1545.82 Q201.374 1545.82 203.179 1542.27 Q205.008 1538.71 205.008 1531.6 Q205.008 1524.47 203.179 1520.93 Q201.374 1517.37 197.74 1517.37 M197.74 1513.66 Q203.55 1513.66 206.605 1518.27 Q209.684 1522.85 209.684 1531.6 Q209.684 1540.33 206.605 1544.94 Q203.55 1549.52 197.74 1549.52 Q191.929 1549.52 188.851 1544.94 Q185.795 1540.33 185.795 1531.6 Q185.795 1522.85 188.851 1518.27 Q191.929 1513.66 197.74 1513.66 Z\" fill=\"#000000\" fill-rule=\"nonzero\" fill-opacity=\"1\" /><path clip-path=\"url(#clip690)\" d=\"M670.927 1544.91 L678.566 1544.91 L678.566 1518.55 L670.256 1520.21 L670.256 1515.95 L678.52 1514.29 L683.196 1514.29 L683.196 1544.91 L690.835 1544.91 L690.835 1548.85 L670.927 1548.85 L670.927 1544.91 Z\" fill=\"#000000\" fill-rule=\"nonzero\" fill-opacity=\"1\" /><path clip-path=\"url(#clip690)\" d=\"M710.279 1517.37 Q706.668 1517.37 704.839 1520.93 Q703.034 1524.47 703.034 1531.6 Q703.034 1538.71 704.839 1542.27 Q706.668 1545.82 710.279 1545.82 Q713.913 1545.82 715.719 1542.27 Q717.547 1538.71 717.547 1531.6 Q717.547 1524.47 715.719 1520.93 Q713.913 1517.37 710.279 1517.37 M710.279 1513.66 Q716.089 1513.66 719.145 1518.27 Q722.223 1522.85 722.223 1531.6 Q722.223 1540.33 719.145 1544.94 Q716.089 1549.52 710.279 1549.52 Q704.469 1549.52 701.39 1544.94 Q698.335 1540.33 698.335 1531.6 Q698.335 1522.85 701.39 1518.27 Q704.469 1513.66 710.279 1513.66 Z\" fill=\"#000000\" fill-rule=\"nonzero\" fill-opacity=\"1\" /><path clip-path=\"url(#clip690)\" d=\"M1173.51 1544.91 L1189.83 1544.91 L1189.83 1548.85 L1167.89 1548.85 L1167.89 1544.91 Q1170.55 1542.16 1175.13 1537.53 Q1179.74 1532.88 1180.92 1531.53 Q1183.17 1529.01 1184.05 1527.27 Q1184.95 1525.51 1184.95 1523.82 Q1184.95 1521.07 1183 1519.33 Q1181.08 1517.6 1177.98 1517.6 Q1175.78 1517.6 1173.33 1518.36 Q1170.9 1519.13 1168.12 1520.68 L1168.12 1515.95 Q1170.94 1514.82 1173.4 1514.24 Q1175.85 1513.66 1177.89 1513.66 Q1183.26 1513.66 1186.45 1516.35 Q1189.65 1519.03 1189.65 1523.52 Q1189.65 1525.65 1188.84 1527.57 Q1188.05 1529.47 1185.94 1532.07 Q1185.36 1532.74 1182.26 1535.95 Q1179.16 1539.15 1173.51 1544.91 Z\" fill=\"#000000\" fill-rule=\"nonzero\" fill-opacity=\"1\" /><path clip-path=\"url(#clip690)\" d=\"M1209.65 1517.37 Q1206.04 1517.37 1204.21 1520.93 Q1202.4 1524.47 1202.4 1531.6 Q1202.4 1538.71 1204.21 1542.27 Q1206.04 1545.82 1209.65 1545.82 Q1213.28 1545.82 1215.09 1542.27 Q1216.92 1538.71 1216.92 1531.6 Q1216.92 1524.47 1215.09 1520.93 Q1213.28 1517.37 1209.65 1517.37 M1209.65 1513.66 Q1215.46 1513.66 1218.51 1518.27 Q1221.59 1522.85 1221.59 1531.6 Q1221.59 1540.33 1218.51 1544.94 Q1215.46 1549.52 1209.65 1549.52 Q1203.84 1549.52 1200.76 1544.94 Q1197.7 1540.33 1197.7 1531.6 Q1197.7 1522.85 1200.76 1518.27 Q1203.84 1513.66 1209.65 1513.66 Z\" fill=\"#000000\" fill-rule=\"nonzero\" fill-opacity=\"1\" /><path clip-path=\"url(#clip690)\" d=\"M1682.08 1530.21 Q1685.44 1530.93 1687.31 1533.2 Q1689.21 1535.47 1689.21 1538.8 Q1689.21 1543.92 1685.69 1546.72 Q1682.18 1549.52 1675.69 1549.52 Q1673.52 1549.52 1671.2 1549.08 Q1668.91 1548.66 1666.46 1547.81 L1666.46 1543.29 Q1668.4 1544.43 1670.72 1545.01 Q1673.03 1545.58 1675.56 1545.58 Q1679.95 1545.58 1682.24 1543.85 Q1684.56 1542.11 1684.56 1538.8 Q1684.56 1535.75 1682.41 1534.03 Q1680.28 1532.3 1676.46 1532.3 L1672.43 1532.3 L1672.43 1528.45 L1676.64 1528.45 Q1680.09 1528.45 1681.92 1527.09 Q1683.75 1525.7 1683.75 1523.11 Q1683.75 1520.45 1681.85 1519.03 Q1679.98 1517.6 1676.46 1517.6 Q1674.54 1517.6 1672.34 1518.01 Q1670.14 1518.43 1667.5 1519.31 L1667.5 1515.14 Q1670.16 1514.4 1672.48 1514.03 Q1674.81 1513.66 1676.87 1513.66 Q1682.2 1513.66 1685.3 1516.09 Q1688.4 1518.5 1688.4 1522.62 Q1688.4 1525.49 1686.76 1527.48 Q1685.12 1529.45 1682.08 1530.21 Z\" fill=\"#000000\" fill-rule=\"nonzero\" fill-opacity=\"1\" /><path clip-path=\"url(#clip690)\" d=\"M1708.08 1517.37 Q1704.47 1517.37 1702.64 1520.93 Q1700.83 1524.47 1700.83 1531.6 Q1700.83 1538.71 1702.64 1542.27 Q1704.47 1545.82 1708.08 1545.82 Q1711.71 1545.82 1713.52 1542.27 Q1715.35 1538.71 1715.35 1531.6 Q1715.35 1524.47 1713.52 1520.93 Q1711.71 1517.37 1708.08 1517.37 M1708.08 1513.66 Q1713.89 1513.66 1716.94 1518.27 Q1720.02 1522.85 1720.02 1531.6 Q1720.02 1540.33 1716.94 1544.94 Q1713.89 1549.52 1708.08 1549.52 Q1702.27 1549.52 1699.19 1544.94 Q1696.13 1540.33 1696.13 1531.6 Q1696.13 1522.85 1699.19 1518.27 Q1702.27 1513.66 1708.08 1513.66 Z\" fill=\"#000000\" fill-rule=\"nonzero\" fill-opacity=\"1\" /><path clip-path=\"url(#clip690)\" d=\"M2179.91 1518.36 L2168.11 1536.81 L2179.91 1536.81 L2179.91 1518.36 M2178.68 1514.29 L2184.56 1514.29 L2184.56 1536.81 L2189.49 1536.81 L2189.49 1540.7 L2184.56 1540.7 L2184.56 1548.85 L2179.91 1548.85 L2179.91 1540.7 L2164.31 1540.7 L2164.31 1536.19 L2178.68 1514.29 Z\" fill=\"#000000\" fill-rule=\"nonzero\" fill-opacity=\"1\" /><path clip-path=\"url(#clip690)\" d=\"M2207.23 1517.37 Q2203.62 1517.37 2201.79 1520.93 Q2199.98 1524.47 2199.98 1531.6 Q2199.98 1538.71 2201.79 1542.27 Q2203.62 1545.82 2207.23 1545.82 Q2210.86 1545.82 2212.67 1542.27 Q2214.49 1538.71 2214.49 1531.6 Q2214.49 1524.47 2212.67 1520.93 Q2210.86 1517.37 2207.23 1517.37 M2207.23 1513.66 Q2213.04 1513.66 2216.09 1518.27 Q2219.17 1522.85 2219.17 1531.6 Q2219.17 1540.33 2216.09 1544.94 Q2213.04 1549.52 2207.23 1549.52 Q2201.42 1549.52 2198.34 1544.94 Q2195.28 1540.33 2195.28 1531.6 Q2195.28 1522.85 2198.34 1518.27 Q2201.42 1513.66 2207.23 1513.66 Z\" fill=\"#000000\" fill-rule=\"nonzero\" fill-opacity=\"1\" /><polyline clip-path=\"url(#clip692)\" style=\"stroke:#000000; stroke-linecap:round; stroke-linejoin:round; stroke-width:2; stroke-opacity:0.1; fill:none\" points=\"186.274,1445.72 2352.76,1445.72 \"/>\n",
       "<polyline clip-path=\"url(#clip692)\" style=\"stroke:#000000; stroke-linecap:round; stroke-linejoin:round; stroke-width:2; stroke-opacity:0.1; fill:none\" points=\"186.274,1106.28 2352.76,1106.28 \"/>\n",
       "<polyline clip-path=\"url(#clip692)\" style=\"stroke:#000000; stroke-linecap:round; stroke-linejoin:round; stroke-width:2; stroke-opacity:0.1; fill:none\" points=\"186.274,766.846 2352.76,766.846 \"/>\n",
       "<polyline clip-path=\"url(#clip692)\" style=\"stroke:#000000; stroke-linecap:round; stroke-linejoin:round; stroke-width:2; stroke-opacity:0.1; fill:none\" points=\"186.274,427.411 2352.76,427.411 \"/>\n",
       "<polyline clip-path=\"url(#clip692)\" style=\"stroke:#000000; stroke-linecap:round; stroke-linejoin:round; stroke-width:2; stroke-opacity:0.1; fill:none\" points=\"186.274,87.9763 2352.76,87.9763 \"/>\n",
       "<polyline clip-path=\"url(#clip690)\" style=\"stroke:#000000; stroke-linecap:round; stroke-linejoin:round; stroke-width:4; stroke-opacity:1; fill:none\" points=\"186.274,1486.45 186.274,47.2441 \"/>\n",
       "<polyline clip-path=\"url(#clip690)\" style=\"stroke:#000000; stroke-linecap:round; stroke-linejoin:round; stroke-width:4; stroke-opacity:1; fill:none\" points=\"186.274,1445.72 205.172,1445.72 \"/>\n",
       "<polyline clip-path=\"url(#clip690)\" style=\"stroke:#000000; stroke-linecap:round; stroke-linejoin:round; stroke-width:4; stroke-opacity:1; fill:none\" points=\"186.274,1106.28 205.172,1106.28 \"/>\n",
       "<polyline clip-path=\"url(#clip690)\" style=\"stroke:#000000; stroke-linecap:round; stroke-linejoin:round; stroke-width:4; stroke-opacity:1; fill:none\" points=\"186.274,766.846 205.172,766.846 \"/>\n",
       "<polyline clip-path=\"url(#clip690)\" style=\"stroke:#000000; stroke-linecap:round; stroke-linejoin:round; stroke-width:4; stroke-opacity:1; fill:none\" points=\"186.274,427.411 205.172,427.411 \"/>\n",
       "<polyline clip-path=\"url(#clip690)\" style=\"stroke:#000000; stroke-linecap:round; stroke-linejoin:round; stroke-width:4; stroke-opacity:1; fill:none\" points=\"186.274,87.9763 205.172,87.9763 \"/>\n",
       "<path clip-path=\"url(#clip690)\" d=\"M62.9365 1431.51 Q59.3254 1431.51 57.4967 1435.08 Q55.6912 1438.62 55.6912 1445.75 Q55.6912 1452.86 57.4967 1456.42 Q59.3254 1459.96 62.9365 1459.96 Q66.5707 1459.96 68.3763 1456.42 Q70.205 1452.86 70.205 1445.75 Q70.205 1438.62 68.3763 1435.08 Q66.5707 1431.51 62.9365 1431.51 M62.9365 1427.81 Q68.7467 1427.81 71.8022 1432.42 Q74.8809 1437 74.8809 1445.75 Q74.8809 1454.48 71.8022 1459.08 Q68.7467 1463.67 62.9365 1463.67 Q57.1264 1463.67 54.0477 1459.08 Q50.9921 1454.48 50.9921 1445.75 Q50.9921 1437 54.0477 1432.42 Q57.1264 1427.81 62.9365 1427.81 Z\" fill=\"#000000\" fill-rule=\"nonzero\" fill-opacity=\"1\" /><path clip-path=\"url(#clip690)\" d=\"M83.0984 1457.12 L87.9827 1457.12 L87.9827 1463 L83.0984 1463 L83.0984 1457.12 Z\" fill=\"#000000\" fill-rule=\"nonzero\" fill-opacity=\"1\" /><path clip-path=\"url(#clip690)\" d=\"M108.168 1431.51 Q104.557 1431.51 102.728 1435.08 Q100.922 1438.62 100.922 1445.75 Q100.922 1452.86 102.728 1456.42 Q104.557 1459.96 108.168 1459.96 Q111.802 1459.96 113.608 1456.42 Q115.436 1452.86 115.436 1445.75 Q115.436 1438.62 113.608 1435.08 Q111.802 1431.51 108.168 1431.51 M108.168 1427.81 Q113.978 1427.81 117.033 1432.42 Q120.112 1437 120.112 1445.75 Q120.112 1454.48 117.033 1459.08 Q113.978 1463.67 108.168 1463.67 Q102.358 1463.67 99.2789 1459.08 Q96.2234 1454.48 96.2234 1445.75 Q96.2234 1437 99.2789 1432.42 Q102.358 1427.81 108.168 1427.81 Z\" fill=\"#000000\" fill-rule=\"nonzero\" fill-opacity=\"1\" /><path clip-path=\"url(#clip690)\" d=\"M138.33 1431.51 Q134.719 1431.51 132.89 1435.08 Q131.084 1438.62 131.084 1445.75 Q131.084 1452.86 132.89 1456.42 Q134.719 1459.96 138.33 1459.96 Q141.964 1459.96 143.769 1456.42 Q145.598 1452.86 145.598 1445.75 Q145.598 1438.62 143.769 1435.08 Q141.964 1431.51 138.33 1431.51 M138.33 1427.81 Q144.14 1427.81 147.195 1432.42 Q150.274 1437 150.274 1445.75 Q150.274 1454.48 147.195 1459.08 Q144.14 1463.67 138.33 1463.67 Q132.519 1463.67 129.441 1459.08 Q126.385 1454.48 126.385 1445.75 Q126.385 1437 129.441 1432.42 Q132.519 1427.81 138.33 1427.81 Z\" fill=\"#000000\" fill-rule=\"nonzero\" fill-opacity=\"1\" /><path clip-path=\"url(#clip690)\" d=\"M63.9319 1092.08 Q60.3208 1092.08 58.4921 1095.64 Q56.6865 1099.19 56.6865 1106.32 Q56.6865 1113.42 58.4921 1116.99 Q60.3208 1120.53 63.9319 1120.53 Q67.5661 1120.53 69.3717 1116.99 Q71.2004 1113.42 71.2004 1106.32 Q71.2004 1099.19 69.3717 1095.64 Q67.5661 1092.08 63.9319 1092.08 M63.9319 1088.38 Q69.742 1088.38 72.7976 1092.98 Q75.8763 1097.57 75.8763 1106.32 Q75.8763 1115.04 72.7976 1119.65 Q69.742 1124.23 63.9319 1124.23 Q58.1217 1124.23 55.043 1119.65 Q51.9875 1115.04 51.9875 1106.32 Q51.9875 1097.57 55.043 1092.98 Q58.1217 1088.38 63.9319 1088.38 Z\" fill=\"#000000\" fill-rule=\"nonzero\" fill-opacity=\"1\" /><path clip-path=\"url(#clip690)\" d=\"M84.0938 1117.68 L88.978 1117.68 L88.978 1123.56 L84.0938 1123.56 L84.0938 1117.68 Z\" fill=\"#000000\" fill-rule=\"nonzero\" fill-opacity=\"1\" /><path clip-path=\"url(#clip690)\" d=\"M103.191 1119.63 L119.51 1119.63 L119.51 1123.56 L97.566 1123.56 L97.566 1119.63 Q100.228 1116.87 104.811 1112.24 Q109.418 1107.59 110.598 1106.25 Q112.844 1103.72 113.723 1101.99 Q114.626 1100.23 114.626 1098.54 Q114.626 1095.78 112.682 1094.05 Q110.76 1092.31 107.658 1092.31 Q105.459 1092.31 103.006 1093.07 Q100.575 1093.84 97.7974 1095.39 L97.7974 1090.67 Q100.621 1089.53 103.075 1088.95 Q105.529 1088.38 107.566 1088.38 Q112.936 1088.38 116.131 1091.06 Q119.325 1093.75 119.325 1098.24 Q119.325 1100.37 118.515 1102.29 Q117.728 1104.19 115.621 1106.78 Q115.043 1107.45 111.941 1110.67 Q108.839 1113.86 103.191 1119.63 Z\" fill=\"#000000\" fill-rule=\"nonzero\" fill-opacity=\"1\" /><path clip-path=\"url(#clip690)\" d=\"M129.371 1089 L147.728 1089 L147.728 1092.94 L133.654 1092.94 L133.654 1101.41 Q134.672 1101.06 135.691 1100.9 Q136.709 1100.71 137.728 1100.71 Q143.515 1100.71 146.894 1103.89 Q150.274 1107.06 150.274 1112.47 Q150.274 1118.05 146.802 1121.15 Q143.33 1124.23 137.01 1124.23 Q134.834 1124.23 132.566 1123.86 Q130.32 1123.49 127.913 1122.75 L127.913 1118.05 Q129.996 1119.19 132.219 1119.74 Q134.441 1120.3 136.918 1120.3 Q140.922 1120.3 143.26 1118.19 Q145.598 1116.08 145.598 1112.47 Q145.598 1108.86 143.26 1106.76 Q140.922 1104.65 136.918 1104.65 Q135.043 1104.65 133.168 1105.07 Q131.316 1105.48 129.371 1106.36 L129.371 1089 Z\" fill=\"#000000\" fill-rule=\"nonzero\" fill-opacity=\"1\" /><path clip-path=\"url(#clip690)\" d=\"M62.9365 752.645 Q59.3254 752.645 57.4967 756.209 Q55.6912 759.751 55.6912 766.881 Q55.6912 773.987 57.4967 777.552 Q59.3254 781.094 62.9365 781.094 Q66.5707 781.094 68.3763 777.552 Q70.205 773.987 70.205 766.881 Q70.205 759.751 68.3763 756.209 Q66.5707 752.645 62.9365 752.645 M62.9365 748.941 Q68.7467 748.941 71.8022 753.547 Q74.8809 758.131 74.8809 766.881 Q74.8809 775.608 71.8022 780.214 Q68.7467 784.797 62.9365 784.797 Q57.1264 784.797 54.0477 780.214 Q50.9921 775.608 50.9921 766.881 Q50.9921 758.131 54.0477 753.547 Q57.1264 748.941 62.9365 748.941 Z\" fill=\"#000000\" fill-rule=\"nonzero\" fill-opacity=\"1\" /><path clip-path=\"url(#clip690)\" d=\"M83.0984 778.246 L87.9827 778.246 L87.9827 784.126 L83.0984 784.126 L83.0984 778.246 Z\" fill=\"#000000\" fill-rule=\"nonzero\" fill-opacity=\"1\" /><path clip-path=\"url(#clip690)\" d=\"M98.2141 749.566 L116.57 749.566 L116.57 753.501 L102.496 753.501 L102.496 761.973 Q103.515 761.626 104.534 761.464 Q105.552 761.279 106.571 761.279 Q112.358 761.279 115.737 764.45 Q119.117 767.621 119.117 773.038 Q119.117 778.617 115.645 781.719 Q112.172 784.797 105.853 784.797 Q103.677 784.797 101.409 784.427 Q99.1632 784.057 96.7558 783.316 L96.7558 778.617 Q98.8391 779.751 101.061 780.307 Q103.284 780.862 105.76 780.862 Q109.765 780.862 112.103 778.756 Q114.441 776.649 114.441 773.038 Q114.441 769.427 112.103 767.321 Q109.765 765.214 105.76 765.214 Q103.885 765.214 102.01 765.631 Q100.159 766.047 98.2141 766.927 L98.2141 749.566 Z\" fill=\"#000000\" fill-rule=\"nonzero\" fill-opacity=\"1\" /><path clip-path=\"url(#clip690)\" d=\"M138.33 752.645 Q134.719 752.645 132.89 756.209 Q131.084 759.751 131.084 766.881 Q131.084 773.987 132.89 777.552 Q134.719 781.094 138.33 781.094 Q141.964 781.094 143.769 777.552 Q145.598 773.987 145.598 766.881 Q145.598 759.751 143.769 756.209 Q141.964 752.645 138.33 752.645 M138.33 748.941 Q144.14 748.941 147.195 753.547 Q150.274 758.131 150.274 766.881 Q150.274 775.608 147.195 780.214 Q144.14 784.797 138.33 784.797 Q132.519 784.797 129.441 780.214 Q126.385 775.608 126.385 766.881 Q126.385 758.131 129.441 753.547 Q132.519 748.941 138.33 748.941 Z\" fill=\"#000000\" fill-rule=\"nonzero\" fill-opacity=\"1\" /><path clip-path=\"url(#clip690)\" d=\"M63.9319 413.21 Q60.3208 413.21 58.4921 416.775 Q56.6865 420.316 56.6865 427.446 Q56.6865 434.552 58.4921 438.117 Q60.3208 441.659 63.9319 441.659 Q67.5661 441.659 69.3717 438.117 Q71.2004 434.552 71.2004 427.446 Q71.2004 420.316 69.3717 416.775 Q67.5661 413.21 63.9319 413.21 M63.9319 409.506 Q69.742 409.506 72.7976 414.113 Q75.8763 418.696 75.8763 427.446 Q75.8763 436.173 72.7976 440.779 Q69.742 445.362 63.9319 445.362 Q58.1217 445.362 55.043 440.779 Q51.9875 436.173 51.9875 427.446 Q51.9875 418.696 55.043 414.113 Q58.1217 409.506 63.9319 409.506 Z\" fill=\"#000000\" fill-rule=\"nonzero\" fill-opacity=\"1\" /><path clip-path=\"url(#clip690)\" d=\"M84.0938 438.812 L88.978 438.812 L88.978 444.691 L84.0938 444.691 L84.0938 438.812 Z\" fill=\"#000000\" fill-rule=\"nonzero\" fill-opacity=\"1\" /><path clip-path=\"url(#clip690)\" d=\"M97.9826 410.131 L120.205 410.131 L120.205 412.122 L107.658 444.691 L102.774 444.691 L114.58 414.066 L97.9826 414.066 L97.9826 410.131 Z\" fill=\"#000000\" fill-rule=\"nonzero\" fill-opacity=\"1\" /><path clip-path=\"url(#clip690)\" d=\"M129.371 410.131 L147.728 410.131 L147.728 414.066 L133.654 414.066 L133.654 422.538 Q134.672 422.191 135.691 422.029 Q136.709 421.844 137.728 421.844 Q143.515 421.844 146.894 425.015 Q150.274 428.187 150.274 433.603 Q150.274 439.182 146.802 442.284 Q143.33 445.362 137.01 445.362 Q134.834 445.362 132.566 444.992 Q130.32 444.622 127.913 443.881 L127.913 439.182 Q129.996 440.316 132.219 440.872 Q134.441 441.427 136.918 441.427 Q140.922 441.427 143.26 439.321 Q145.598 437.214 145.598 433.603 Q145.598 429.992 143.26 427.886 Q140.922 425.779 136.918 425.779 Q135.043 425.779 133.168 426.196 Q131.316 426.613 129.371 427.492 L129.371 410.131 Z\" fill=\"#000000\" fill-rule=\"nonzero\" fill-opacity=\"1\" /><path clip-path=\"url(#clip690)\" d=\"M53.7467 101.321 L61.3856 101.321 L61.3856 74.9555 L53.0754 76.6222 L53.0754 72.3629 L61.3393 70.6963 L66.0152 70.6963 L66.0152 101.321 L73.654 101.321 L73.654 105.256 L53.7467 105.256 L53.7467 101.321 Z\" fill=\"#000000\" fill-rule=\"nonzero\" fill-opacity=\"1\" /><path clip-path=\"url(#clip690)\" d=\"M83.0984 99.3767 L87.9827 99.3767 L87.9827 105.256 L83.0984 105.256 L83.0984 99.3767 Z\" fill=\"#000000\" fill-rule=\"nonzero\" fill-opacity=\"1\" /><path clip-path=\"url(#clip690)\" d=\"M108.168 73.775 Q104.557 73.775 102.728 77.3398 Q100.922 80.8814 100.922 88.011 Q100.922 95.1174 102.728 98.6822 Q104.557 102.224 108.168 102.224 Q111.802 102.224 113.608 98.6822 Q115.436 95.1174 115.436 88.011 Q115.436 80.8814 113.608 77.3398 Q111.802 73.775 108.168 73.775 M108.168 70.0713 Q113.978 70.0713 117.033 74.6777 Q120.112 79.261 120.112 88.011 Q120.112 96.7378 117.033 101.344 Q113.978 105.928 108.168 105.928 Q102.358 105.928 99.2789 101.344 Q96.2234 96.7378 96.2234 88.011 Q96.2234 79.261 99.2789 74.6777 Q102.358 70.0713 108.168 70.0713 Z\" fill=\"#000000\" fill-rule=\"nonzero\" fill-opacity=\"1\" /><path clip-path=\"url(#clip690)\" d=\"M138.33 73.775 Q134.719 73.775 132.89 77.3398 Q131.084 80.8814 131.084 88.011 Q131.084 95.1174 132.89 98.6822 Q134.719 102.224 138.33 102.224 Q141.964 102.224 143.769 98.6822 Q145.598 95.1174 145.598 88.011 Q145.598 80.8814 143.769 77.3398 Q141.964 73.775 138.33 73.775 M138.33 70.0713 Q144.14 70.0713 147.195 74.6777 Q150.274 79.261 150.274 88.011 Q150.274 96.7378 147.195 101.344 Q144.14 105.928 138.33 105.928 Q132.519 105.928 129.441 101.344 Q126.385 96.7378 126.385 88.011 Q126.385 79.261 129.441 74.6777 Q132.519 70.0713 138.33 70.0713 Z\" fill=\"#000000\" fill-rule=\"nonzero\" fill-opacity=\"1\" /><polyline clip-path=\"url(#clip692)\" style=\"stroke:#009af9; stroke-linecap:round; stroke-linejoin:round; stroke-width:4; stroke-opacity:1; fill:none\" points=\"247.59,87.9763 297.44,1445.72 347.29,87.9763 397.14,1445.72 446.99,87.9763 496.84,1445.72 546.69,87.9763 596.54,1445.72 646.39,87.9763 696.24,1445.72 746.09,87.9763 795.94,1445.72 845.79,87.9763 895.64,1445.72 945.49,87.9763 995.34,1445.72 1045.19,87.9763 1095.04,1445.72 1144.89,87.9763 1194.74,1445.72 1244.59,87.9763 1294.44,1445.72 1344.29,87.9763 1394.14,1445.72 1443.99,87.9763 1493.84,1445.72 1543.69,87.9763 1593.54,1445.72 1643.39,87.9763 1693.24,1445.72 1743.09,87.9763 1792.94,1445.72 1842.79,87.9763 1892.64,1445.72 1942.49,87.9763 1992.34,1445.72 2042.19,87.9763 2092.04,1445.72 2141.89,87.9763 2191.74,1445.72 2241.59,87.9763 2291.44,1445.72 \"/>\n",
       "</svg>\n"
      ]
     },
     "metadata": {},
     "output_type": "display_data"
    }
   ],
   "source": [
    "SvN_init = entanglement_entropy(Avec);\n",
    "plot(1:(2*N), SvN_init, label=false) "
   ]
  },
  {
   "cell_type": "markdown",
   "id": "c64a8187",
   "metadata": {},
   "source": [
    "Here $|A>$ displays the entanglement structure of the initial vacuum state."
   ]
  },
  {
   "cell_type": "code",
   "execution_count": 12,
   "id": "972b4564",
   "metadata": {},
   "outputs": [],
   "source": [
    "# Define observer functions for TDVP:\n",
    "\n",
    "function current_time(; current_time, bond, half_sweep)\n",
    "  if bond == 1 && half_sweep == 2\n",
    "    return real(-im*current_time)\n",
    "  end\n",
    "    \n",
    "  return nothing\n",
    "end\n",
    "\n",
    "function measure_SvN(; psi, bond, half_sweep)\n",
    "  if bond == 1 && half_sweep == 2\n",
    "    return entanglement_entropy(psi)\n",
    "  end\n",
    "  return nothing\n",
    "end;\n",
    "\n",
    "function measure_linkdim(; psi, bond, half_sweep)\n",
    "  if bond == 1 && half_sweep == 2\n",
    "    return maxlinkdim(psi)\n",
    "  end\n",
    "  return nothing\n",
    "end;\n",
    "\n",
    "# Define function that calulates the commutator \n",
    "function compute_commutator(ψ,Sx_r_system,Sx_r_ancilla)\n",
    "  Sx_a= apply(Sx_r_system,ψ;cutoff=1e-15)\n",
    "  a_Sx= apply(Sx_r_ancilla,ψ;cutoff=1e-15)\n",
    "\n",
    "  return Sx_a - a_Sx\n",
    "end;\n",
    "\n",
    "function local_op(N,sitesext;r) #function used to define local operator to track C(r,t)\n",
    "  # require r < floor(Int, N/2) \n",
    "  site_index= 2*floor(Int,N/2+1)+2*r-1 #defining site index\n",
    "  Sx_r_system= op(\"Sx\", sitesext, site_index)\n",
    "  Sx_r_ancilla= op(\"Sx\", sitesext, site_index+1)\n",
    "  \n",
    "  return Sx_r_system, Sx_r_ancilla\n",
    "end;\n",
    "\n",
    "function measure_commutator(; psi, bond, half_sweep)\n",
    "  Sx_5_system, Sx_5_ancilla= local_op(N,sitesext;r=5)\n",
    "  Sx_10_system, Sx_10_ancilla= local_op(N,sitesext;r=5)\n",
    "  Sx_20_system, Sx_20_ancilla= local_op(N,sitesext;r=5)\n",
    "  Sx_30_system, Sx_30_ancilla= local_op(N,sitesext;r=5)\n",
    "  Sx_40_system, Sx_40_ancilla= local_op(N,sitesext;r=5)\n",
    "  Sx_50_system, Sx_50_ancilla= local_op(N,sitesext;r=5)\n",
    "\n",
    "\n",
    "  if bond == 1 && half_sweep == 2\n",
    "    commutator_5 = compute_commutator(psi, Sx_5_system, Sx_5_ancilla)\n",
    "    commutator_10 = compute_commutator(psi, Sx_10_system, Sx_10_ancilla)  \n",
    "    commutator_20 = compute_commutator(psi, Sx_20_system, Sx_20_ancilla)\n",
    "    commutator_30 = compute_commutator(psi, Sx_30_system, Sx_30_ancilla)\n",
    "    commutator_40 = compute_commutator(psi, Sx_40_system, Sx_40_ancilla)\n",
    "    commutator_50 = compute_commutator(psi, Sx_50_system, Sx_50_ancilla)\n",
    "\n",
    "\n",
    "  return [real.(inner(commutator_5, commutator_5)), real.(inner(commutator_10, commutator_10)),\n",
    "            real.(inner(commutator_20, commutator_20)), real.(inner(commutator_30, commutator_30)),\n",
    "            real.(inner(commutator_40, commutator_40)),  real.(inner(commutator_50, commutator_50))]\n",
    "\n",
    "  end\n",
    "  return nothing\n",
    "\n",
    "end;"
   ]
  },
  {
   "cell_type": "code",
   "execution_count": 13,
   "id": "a1348ace",
   "metadata": {},
   "outputs": [],
   "source": [
    "# XX + YY spin hamiltonian\n",
    "# killing of the spin at middle site\n",
    "# map bosonic operators to spin operators\n",
    "# annihilation is 1 on bottom, 0 on diagonal\n",
    "# analytically solvable\n",
    "# map to fermions, jordan-wigner transformations\n",
    "# expect trivial solution as integrable, operator complexity bounded by a adag\n",
    "\n",
    "# similar to ising model\n",
    "# render as free fermi system\n",
    "# solvable \n",
    "\n",
    "# try XX + YY model using heisenberg, confirm trivial\n",
    "\n",
    "# bosonic operators annihiate one term from superposition\n",
    "# Sx, Sz doesnt\n",
    "# z nonzero, doesnt destroy entanglement\n"
   ]
  },
  {
   "cell_type": "code",
   "execution_count": 14,
   "id": "58870a6a",
   "metadata": {},
   "outputs": [
    {
     "name": "stdout",
     "output_type": "stream",
     "text": [
      "After sweep 1: maxlinkdim=6"
     ]
    },
    {
     "name": "stdout",
     "output_type": "stream",
     "text": [
      " maxerr=7.85E-11"
     ]
    },
    {
     "name": "stdout",
     "output_type": "stream",
     "text": [
      " current_time=0.0 + 0.5im time=35.616\n"
     ]
    },
    {
     "name": "stdout",
     "output_type": "stream",
     "text": [
      "After sweep 2: maxlinkdim=8 maxerr=7.57E-11 current_time=0.0 + 1.0im time=0.778\n"
     ]
    },
    {
     "name": "stdout",
     "output_type": "stream",
     "text": [
      "After sweep 3: maxlinkdim=9 maxerr=9.87E-11 current_time=0.0 + 1.5im time=0.495\n"
     ]
    },
    {
     "name": "stdout",
     "output_type": "stream",
     "text": [
      "After sweep 4: maxlinkdim=13 maxerr=9.60E-11 current_time=0.0 + 2.0im time=0.606\n"
     ]
    },
    {
     "name": "stdout",
     "output_type": "stream",
     "text": [
      "After sweep 5: maxlinkdim=17 maxerr=8.58E-11 current_time=0.0 + 2.5im time=0.768\n"
     ]
    },
    {
     "name": "stdout",
     "output_type": "stream",
     "text": [
      "After sweep 6: maxlinkdim=22 maxerr=9.75E-11 current_time=0.0 + 3.0im time=1.078\n"
     ]
    },
    {
     "name": "stdout",
     "output_type": "stream",
     "text": [
      "After sweep 1: maxlinkdim=22 maxerr=5.99E-14 current_time=0.0 + 0.005im time=16.236\n"
     ]
    },
    {
     "name": "stdout",
     "output_type": "stream",
     "text": [
      "After sweep 2: maxlinkdim=22 maxerr=6.23E-14 current_time=0.0 + 0.01im time=1.016\n"
     ]
    },
    {
     "name": "stdout",
     "output_type": "stream",
     "text": [
      "After sweep 3: maxlinkdim=22 maxerr=6.47E-14 current_time=0.0 + 0.015im time=0.872\n"
     ]
    },
    {
     "name": "stdout",
     "output_type": "stream",
     "text": [
      "After sweep 4: maxlinkdim=22 maxerr=6.71E-14 current_time=0.0 + 0.02im time=0.796\n"
     ]
    },
    {
     "name": "stdout",
     "output_type": "stream",
     "text": [
      "After sweep 5: maxlinkdim=22 maxerr=6.97E-14 current_time=0.0 + 0.025im time=0.644\n"
     ]
    },
    {
     "name": "stdout",
     "output_type": "stream",
     "text": [
      "After sweep 6: maxlinkdim=22 maxerr=7.24E-14 current_time=0.0 + 0.03im time=0.723\n"
     ]
    },
    {
     "name": "stdout",
     "output_type": "stream",
     "text": [
      "After sweep 7: maxlinkdim=22 maxerr=7.52E-14 current_time=0.0 + 0.035im time=0.693\n"
     ]
    },
    {
     "name": "stdout",
     "output_type": "stream",
     "text": [
      "After sweep 8: maxlinkdim=22 maxerr=7.81E-14 current_time=0.0 + 0.04im time=0.82\n"
     ]
    },
    {
     "name": "stdout",
     "output_type": "stream",
     "text": [
      "After sweep 9: maxlinkdim=22 maxerr=8.10E-14 current_time=0.0 + 0.045im time=0.716\n"
     ]
    },
    {
     "name": "stdout",
     "output_type": "stream",
     "text": [
      "After sweep 10: maxlinkdim=22 maxerr=8.38E-14 current_time=0.0 + 0.05im time=0.712\n"
     ]
    },
    {
     "name": "stdout",
     "output_type": "stream",
     "text": [
      "After sweep 11: maxlinkdim=22 maxerr=8.73E-14 current_time=0.0 + 0.055im time=0.666\n"
     ]
    },
    {
     "name": "stdout",
     "output_type": "stream",
     "text": [
      "After sweep 12: maxlinkdim=22 maxerr=9.04E-14 current_time=0.0 + 0.06im time=0.723\n"
     ]
    },
    {
     "name": "stdout",
     "output_type": "stream",
     "text": [
      "After sweep 13: maxlinkdim=22 maxerr=9.35E-14 current_time=0.0 + 0.065im time=0.664\n"
     ]
    },
    {
     "name": "stdout",
     "output_type": "stream",
     "text": [
      "After sweep 14: maxlinkdim=22 maxerr=9.68E-14 current_time=0.0 + 0.07im time=0.713\n"
     ]
    },
    {
     "name": "stdout",
     "output_type": "stream",
     "text": [
      "After sweep 15: maxlinkdim=22 maxerr=1.00E-13 current_time=0.0 + 0.075im time=1.003\n"
     ]
    },
    {
     "name": "stdout",
     "output_type": "stream",
     "text": [
      "After sweep 16: maxlinkdim=22 maxerr=1.04E-13 current_time=0.0 + 0.08im time=0.711\n"
     ]
    },
    {
     "name": "stdout",
     "output_type": "stream",
     "text": [
      "After sweep 17: maxlinkdim=22 maxerr=1.08E-13 current_time=0.0 + 0.085im time=0.767\n"
     ]
    },
    {
     "name": "stdout",
     "output_type": "stream",
     "text": [
      "After sweep 18: maxlinkdim=22 maxerr=1.11E-13 current_time=0.0 + 0.09im time=0.813\n"
     ]
    },
    {
     "name": "stdout",
     "output_type": "stream",
     "text": [
      "After sweep 19: maxlinkdim=22 maxerr=1.15E-13 current_time=0.0 + 0.095im time=0.788\n"
     ]
    },
    {
     "name": "stdout",
     "output_type": "stream",
     "text": [
      "After sweep 20: maxlinkdim=22 maxerr=1.19E-13 current_time=0.0 + 0.1im time=0.767\n"
     ]
    },
    {
     "name": "stdout",
     "output_type": "stream",
     "text": [
      "After sweep 21: maxlinkdim=22 maxerr=1.23E-13 current_time=0.0 + 0.105im time=0.727\n"
     ]
    },
    {
     "name": "stdout",
     "output_type": "stream",
     "text": [
      "After sweep 22: maxlinkdim=22 maxerr=1.28E-13 current_time=0.0 + 0.11im time=0.744\n"
     ]
    },
    {
     "name": "stdout",
     "output_type": "stream",
     "text": [
      "After sweep 23: maxlinkdim=22 maxerr=1.32E-13 current_time=0.0 + 0.115im time=1.565\n"
     ]
    },
    {
     "name": "stdout",
     "output_type": "stream",
     "text": [
      "After sweep 24: maxlinkdim=22 maxerr=1.37E-13 current_time=0.0 + 0.12im time=1.307\n"
     ]
    },
    {
     "name": "stdout",
     "output_type": "stream",
     "text": [
      "After sweep 25: maxlinkdim=22 maxerr=1.41E-13 current_time=0.0 + 0.125im time=1.095\n"
     ]
    },
    {
     "name": "stdout",
     "output_type": "stream",
     "text": [
      "After sweep 26: maxlinkdim=22 maxerr=1.46E-13 current_time=0.0 + 0.13im time=1.052\n"
     ]
    },
    {
     "name": "stdout",
     "output_type": "stream",
     "text": [
      "After sweep 27: maxlinkdim=22 maxerr=1.51E-13 current_time=0.0 + 0.135im time=0.944\n"
     ]
    },
    {
     "name": "stdout",
     "output_type": "stream",
     "text": [
      "After sweep 28: maxlinkdim=22 maxerr=1.56E-13 current_time=0.0 + 0.14im time=0.914\n"
     ]
    },
    {
     "name": "stdout",
     "output_type": "stream",
     "text": [
      "After sweep 29: maxlinkdim=22 maxerr=1.61E-13 current_time=0.0 + 0.145im time=0.833\n"
     ]
    },
    {
     "name": "stdout",
     "output_type": "stream",
     "text": [
      "After sweep 30: maxlinkdim=22 maxerr=1.66E-13 current_time=0.0 + 0.15im time=0.687\n"
     ]
    },
    {
     "name": "stdout",
     "output_type": "stream",
     "text": [
      "After sweep 31: maxlinkdim=22 maxerr=1.72E-13 current_time=0.0 + 0.155im time=0.717\n"
     ]
    },
    {
     "name": "stdout",
     "output_type": "stream",
     "text": [
      "After sweep 32: maxlinkdim=22 maxerr=1.77E-13 current_time=0.0 + 0.16im time=0.653\n"
     ]
    },
    {
     "name": "stdout",
     "output_type": "stream",
     "text": [
      "After sweep 33: maxlinkdim=22 maxerr=1.83E-13 current_time=0.0 + 0.165im time=0.657\n"
     ]
    },
    {
     "name": "stdout",
     "output_type": "stream",
     "text": [
      "After sweep 34: maxlinkdim=22 maxerr=1.89E-13 current_time=0.0 + 0.17im time=0.713\n"
     ]
    },
    {
     "name": "stdout",
     "output_type": "stream",
     "text": [
      "After sweep 35: maxlinkdim=22 maxerr=1.96E-13 current_time=0.0 + 0.175im time=0.717\n"
     ]
    },
    {
     "name": "stdout",
     "output_type": "stream",
     "text": [
      "After sweep 36: maxlinkdim=22 maxerr=2.02E-13 current_time=0.0 + 0.18im time=0.708\n"
     ]
    },
    {
     "name": "stdout",
     "output_type": "stream",
     "text": [
      "After sweep 37: maxlinkdim=22 maxerr=2.08E-13 current_time=0.0 + 0.185im time=0.669\n"
     ]
    },
    {
     "name": "stdout",
     "output_type": "stream",
     "text": [
      "After sweep 38: maxlinkdim=22 maxerr=2.15E-13 current_time=0.0 + 0.19im time=0.714\n"
     ]
    },
    {
     "name": "stdout",
     "output_type": "stream",
     "text": [
      "After sweep 39: maxlinkdim=22 maxerr=2.23E-13 current_time=0.0 + 0.195im time=0.668\n"
     ]
    },
    {
     "name": "stdout",
     "output_type": "stream",
     "text": [
      "After sweep 40: maxlinkdim=22 maxerr=2.34E-13 current_time=0.0 + 0.2im time=0.654\n"
     ]
    },
    {
     "name": "stdout",
     "output_type": "stream",
     "text": [
      "After sweep 41: maxlinkdim=22 maxerr=2.45E-13 current_time=0.0 + 0.205im time=0.674\n"
     ]
    },
    {
     "name": "stdout",
     "output_type": "stream",
     "text": [
      "After sweep 42: maxlinkdim=22 maxerr=2.57E-13 current_time=0.0 + 0.21im time=0.685\n"
     ]
    },
    {
     "name": "stdout",
     "output_type": "stream",
     "text": [
      "After sweep 43: maxlinkdim=22 maxerr=2.69E-13 current_time=0.0 + 0.215im time=0.661\n"
     ]
    },
    {
     "name": "stdout",
     "output_type": "stream",
     "text": [
      "After sweep 44: maxlinkdim=22 maxerr=2.81E-13 current_time=0.0 + 0.22im time=0.666\n"
     ]
    },
    {
     "name": "stdout",
     "output_type": "stream",
     "text": [
      "After sweep 45: maxlinkdim=22 maxerr=2.95E-13 current_time=0.0 + 0.225im time=0.68\n"
     ]
    },
    {
     "name": "stdout",
     "output_type": "stream",
     "text": [
      "After sweep 46: maxlinkdim=22 maxerr=3.08E-13 current_time=0.0 + 0.23im time=0.662"
     ]
    },
    {
     "name": "stdout",
     "output_type": "stream",
     "text": [
      "\n",
      "After sweep 47: maxlinkdim=22 maxerr=3.23E-13 current_time=0.0 + 0.235im time=0.659\n"
     ]
    },
    {
     "name": "stdout",
     "output_type": "stream",
     "text": [
      "After sweep 48: maxlinkdim=22 maxerr=3.38E-13 current_time=0.0 + 0.24im time=0.675\n"
     ]
    },
    {
     "name": "stdout",
     "output_type": "stream",
     "text": [
      "After sweep 49: maxlinkdim=22 maxerr=3.53E-13 current_time=0.0 + 0.245im time=0.668\n"
     ]
    },
    {
     "name": "stdout",
     "output_type": "stream",
     "text": [
      "After sweep 50: maxlinkdim=22 maxerr=3.69E-13 current_time=0.0 + 0.25im time=0.657\n"
     ]
    },
    {
     "name": "stdout",
     "output_type": "stream",
     "text": [
      "After sweep 51: maxlinkdim=22 maxerr=3.86E-13 current_time=0.0 + 0.255im time=0.666\n"
     ]
    },
    {
     "name": "stdout",
     "output_type": "stream",
     "text": [
      "After sweep 52: maxlinkdim=22 maxerr=4.03E-13 current_time=0.0 + 0.26im time=0.667\n"
     ]
    },
    {
     "name": "stdout",
     "output_type": "stream",
     "text": [
      "After sweep 53: maxlinkdim=22 maxerr=4.21E-13 current_time=0.0 + 0.265im time=0.662\n"
     ]
    },
    {
     "name": "stdout",
     "output_type": "stream",
     "text": [
      "After sweep 54: maxlinkdim=22 maxerr=4.40E-13 current_time=0.0 + 0.27im time=0.653\n"
     ]
    },
    {
     "name": "stdout",
     "output_type": "stream",
     "text": [
      "After sweep 55: maxlinkdim=22 maxerr=4.59E-13 current_time=0.0 + 0.275im time=0.66\n"
     ]
    },
    {
     "name": "stdout",
     "output_type": "stream",
     "text": [
      "After sweep 56: maxlinkdim=22 maxerr=4.80E-13 current_time=0.0 + 0.28im time=0.661\n"
     ]
    },
    {
     "name": "stdout",
     "output_type": "stream",
     "text": [
      "After sweep 57: maxlinkdim=22 maxerr=5.01E-13 current_time=0.0 + 0.285im time=0.654\n"
     ]
    },
    {
     "name": "stdout",
     "output_type": "stream",
     "text": [
      "After sweep 58: maxlinkdim=22 maxerr=5.23E-13 current_time=0.0 + 0.29im time=0.683\n"
     ]
    },
    {
     "name": "stdout",
     "output_type": "stream",
     "text": [
      "After sweep 59: maxlinkdim=22 maxerr=5.45E-13 current_time=0.0 + 0.295im time=0.652\n"
     ]
    },
    {
     "name": "stdout",
     "output_type": "stream",
     "text": [
      "After sweep 60: maxlinkdim=22 maxerr=5.69E-13 current_time=0.0 + 0.3im time=0.663\n"
     ]
    },
    {
     "name": "stdout",
     "output_type": "stream",
     "text": [
      "After sweep 61: maxlinkdim=22 maxerr=5.93E-13 current_time=0.0 + 0.305im time=0.667\n"
     ]
    },
    {
     "name": "stdout",
     "output_type": "stream",
     "text": [
      "After sweep 62: maxlinkdim=22 maxerr=6.19E-13 current_time=0.0 + 0.31im time=0.715\n"
     ]
    },
    {
     "name": "stdout",
     "output_type": "stream",
     "text": [
      "After sweep 63: maxlinkdim=22 maxerr=6.45E-13 current_time=0.0 + 0.315im time=0.646\n"
     ]
    },
    {
     "name": "stdout",
     "output_type": "stream",
     "text": [
      "After sweep 64: maxlinkdim=22 maxerr=6.72E-13 current_time=0.0 + 0.32im time=0.664\n"
     ]
    },
    {
     "name": "stdout",
     "output_type": "stream",
     "text": [
      "After sweep 65: maxlinkdim=22 maxerr=7.00E-13 current_time=0.0 + 0.325im time=0.67\n"
     ]
    },
    {
     "name": "stdout",
     "output_type": "stream",
     "text": [
      "After sweep 66: maxlinkdim=22 maxerr=7.30E-13 current_time=0.0 + 0.33im time=0.658\n"
     ]
    },
    {
     "name": "stdout",
     "output_type": "stream",
     "text": [
      "After sweep 67: maxlinkdim=22 maxerr=7.60E-13 current_time=0.0 + 0.335im time=0.68\n"
     ]
    },
    {
     "name": "stdout",
     "output_type": "stream",
     "text": [
      "After sweep 68: maxlinkdim=22 maxerr=7.92E-13 current_time=0.0 + 0.34im time=0.66\n"
     ]
    },
    {
     "name": "stdout",
     "output_type": "stream",
     "text": [
      "After sweep 69: maxlinkdim=22 maxerr=8.24E-13 current_time=0.0 + 0.345im time=0.656\n"
     ]
    },
    {
     "name": "stdout",
     "output_type": "stream",
     "text": [
      "After sweep 70: maxlinkdim=22 maxerr=8.58E-13 current_time=0.0 + 0.35im time=0.651\n"
     ]
    },
    {
     "name": "stdout",
     "output_type": "stream",
     "text": [
      "After sweep 71: maxlinkdim=22 maxerr=8.93E-13 current_time=0.0 + 0.355im time=0.661\n"
     ]
    },
    {
     "name": "stdout",
     "output_type": "stream",
     "text": [
      "After sweep 72: maxlinkdim=22 maxerr=9.30E-13 current_time=0.0 + 0.36im time=0.663\n"
     ]
    },
    {
     "name": "stdout",
     "output_type": "stream",
     "text": [
      "After sweep 73: maxlinkdim=22 maxerr=9.67E-13 current_time=0.0 + 0.365im time=0.655\n"
     ]
    },
    {
     "name": "stdout",
     "output_type": "stream",
     "text": [
      "After sweep 74: maxlinkdim=22 maxerr=1.01E-12 current_time=0.0 + 0.37im time=0.654\n"
     ]
    },
    {
     "name": "stdout",
     "output_type": "stream",
     "text": [
      "After sweep 75: maxlinkdim=22 maxerr=1.05E-12 current_time=0.0 + 0.375im time=0.654\n"
     ]
    },
    {
     "name": "stdout",
     "output_type": "stream",
     "text": [
      "After sweep 76: maxlinkdim=22 maxerr=1.09E-12 current_time=0.0 + 0.38im time=0.654\n"
     ]
    },
    {
     "name": "stdout",
     "output_type": "stream",
     "text": [
      "After sweep 77: maxlinkdim=22 maxerr=1.13E-12 current_time=0.0 + 0.385im time=0.655\n"
     ]
    },
    {
     "name": "stdout",
     "output_type": "stream",
     "text": [
      "After sweep 78: maxlinkdim=22 maxerr=1.18E-12 current_time=0.0 + 0.39im time=0.671\n"
     ]
    },
    {
     "name": "stdout",
     "output_type": "stream",
     "text": [
      "After sweep 79: maxlinkdim=22 maxerr=1.22E-12 current_time=0.0 + 0.395im time=0.659\n"
     ]
    },
    {
     "name": "stdout",
     "output_type": "stream",
     "text": [
      "After sweep 80: maxlinkdim=22 maxerr=1.27E-12 current_time=0.0 + 0.4im time=0.652\n"
     ]
    },
    {
     "name": "stdout",
     "output_type": "stream",
     "text": [
      "After sweep 81: maxlinkdim=22 maxerr=1.32E-12 current_time=0.0 + 0.405im time=0.667\n"
     ]
    },
    {
     "name": "stdout",
     "output_type": "stream",
     "text": [
      "After sweep 82: maxlinkdim=22 maxerr=1.37E-12 current_time=0.0 + 0.41im time=0.685\n"
     ]
    },
    {
     "name": "stdout",
     "output_type": "stream",
     "text": [
      "After sweep 83: maxlinkdim=22 maxerr=1.42E-12 current_time=0.0 + 0.415im time=0.709\n"
     ]
    },
    {
     "name": "stdout",
     "output_type": "stream",
     "text": [
      "After sweep 84: maxlinkdim=22 maxerr=1.48E-12 current_time=0.0 + 0.42im time=0.647\n"
     ]
    },
    {
     "name": "stdout",
     "output_type": "stream",
     "text": [
      "After sweep 85: maxlinkdim=22 maxerr=1.53E-12 current_time=0.0 + 0.425im time=0.663\n"
     ]
    },
    {
     "name": "stdout",
     "output_type": "stream",
     "text": [
      "After sweep 86: maxlinkdim=22 maxerr=1.59E-12 current_time=0.0 + 0.43im time=0.649\n"
     ]
    },
    {
     "name": "stdout",
     "output_type": "stream",
     "text": [
      "After sweep 87: maxlinkdim=22 maxerr=1.65E-12 current_time=0.0 + 0.435im time=0.677\n"
     ]
    },
    {
     "name": "stdout",
     "output_type": "stream",
     "text": [
      "After sweep 88: maxlinkdim=22 maxerr=1.71E-12 current_time=0.0 + 0.44im time=0.668\n"
     ]
    },
    {
     "name": "stdout",
     "output_type": "stream",
     "text": [
      "After sweep 89: maxlinkdim=22 maxerr=1.78E-12 current_time=0.0 + 0.445im time=0.654\n"
     ]
    },
    {
     "name": "stdout",
     "output_type": "stream",
     "text": [
      "After sweep 90: maxlinkdim=22 maxerr=1.84E-12 current_time=0.0 + 0.45im time=0.662\n"
     ]
    },
    {
     "name": "stdout",
     "output_type": "stream",
     "text": [
      "After sweep 91: maxlinkdim=22 maxerr=1.91E-12 current_time=0.0 + 0.455im time=0.648\n"
     ]
    },
    {
     "name": "stdout",
     "output_type": "stream",
     "text": [
      "After sweep 92: maxlinkdim=22 maxerr=1.98E-12 current_time=0.0 + 0.46im time=0.653\n"
     ]
    },
    {
     "name": "stdout",
     "output_type": "stream",
     "text": [
      "After sweep 93: maxlinkdim=22 maxerr=2.06E-12 current_time=0.0 + 0.465im time=0.734\n"
     ]
    },
    {
     "name": "stdout",
     "output_type": "stream",
     "text": [
      "After sweep 94: maxlinkdim=22 maxerr=2.13E-12 current_time=0.0 + 0.47im time=0.809\n"
     ]
    },
    {
     "name": "stdout",
     "output_type": "stream",
     "text": [
      "After sweep 95: maxlinkdim=22 maxerr=2.21E-12 current_time=0.0 + 0.475im time=0.698\n"
     ]
    },
    {
     "name": "stdout",
     "output_type": "stream",
     "text": [
      "After sweep 96: maxlinkdim=22 maxerr=2.29E-12 current_time=0.0 + 0.48im time=0.657\n"
     ]
    },
    {
     "name": "stdout",
     "output_type": "stream",
     "text": [
      "After sweep 97: maxlinkdim=22 maxerr=2.37E-12 current_time=0.0 + 0.485im time=0.662\n"
     ]
    },
    {
     "name": "stdout",
     "output_type": "stream",
     "text": [
      "After sweep 98: maxlinkdim=22 maxerr=2.46E-12 current_time=0.0 + 0.49im time=0.654\n"
     ]
    },
    {
     "name": "stdout",
     "output_type": "stream",
     "text": [
      "After sweep 99: maxlinkdim=22 maxerr=2.55E-12 current_time=0.0 + 0.495im time=0.661\n"
     ]
    },
    {
     "name": "stdout",
     "output_type": "stream",
     "text": [
      "After sweep 100: maxlinkdim=22 maxerr=2.64E-12 current_time=0.0 + 0.5im time=0.675\n"
     ]
    },
    {
     "name": "stdout",
     "output_type": "stream",
     "text": [
      "After sweep 101: maxlinkdim=22 maxerr=2.73E-12 current_time=0.0 + 0.505im time=0.848\n"
     ]
    },
    {
     "name": "stdout",
     "output_type": "stream",
     "text": [
      "After sweep 102: maxlinkdim=22 maxerr=2.83E-12 current_time=0.0 + 0.51im time=0.764\n"
     ]
    },
    {
     "name": "stdout",
     "output_type": "stream",
     "text": [
      "After sweep 103: maxlinkdim=22 maxerr=2.92E-12 current_time=0.0 + 0.515im time=0.694\n"
     ]
    },
    {
     "name": "stdout",
     "output_type": "stream",
     "text": [
      "After sweep 104: maxlinkdim=22 maxerr=3.03E-12 current_time=0.0 + 0.52im time=0.742\n"
     ]
    },
    {
     "name": "stdout",
     "output_type": "stream",
     "text": [
      "After sweep 105: maxlinkdim=22 maxerr=3.13E-12 current_time=0.0 + 0.525im time=0.853\n"
     ]
    },
    {
     "name": "stdout",
     "output_type": "stream",
     "text": [
      "After sweep 106: maxlinkdim=22 maxerr=3.24E-12 current_time=0.0 + 0.53im time=0.678\n"
     ]
    },
    {
     "name": "stdout",
     "output_type": "stream",
     "text": [
      "After sweep 107: maxlinkdim=22 maxerr=3.35E-12 current_time=0.0 + 0.535im time=0.666\n"
     ]
    },
    {
     "name": "stdout",
     "output_type": "stream",
     "text": [
      "After sweep 108: maxlinkdim=22 maxerr=3.47E-12 current_time=0.0 + 0.54im time=0.686\n"
     ]
    },
    {
     "name": "stdout",
     "output_type": "stream",
     "text": [
      "After sweep 109: maxlinkdim=22 maxerr=3.59E-12 current_time=0.0 + 0.545im time=0.69\n"
     ]
    },
    {
     "name": "stdout",
     "output_type": "stream",
     "text": [
      "After sweep 110: maxlinkdim=22 maxerr=3.71E-12 current_time=0.0 + 0.55im time=0.689\n"
     ]
    },
    {
     "name": "stdout",
     "output_type": "stream",
     "text": [
      "After sweep 111: maxlinkdim=22 maxerr=3.83E-12 current_time=0.0 + 0.555im time=0.691\n"
     ]
    },
    {
     "name": "stdout",
     "output_type": "stream",
     "text": [
      "After sweep 112: maxlinkdim=22 maxerr=3.96E-12 current_time=0.0 + 0.56im time=0.666\n"
     ]
    },
    {
     "name": "stdout",
     "output_type": "stream",
     "text": [
      "After sweep 113: maxlinkdim=22 maxerr=4.10E-12 current_time=0.0 + 0.565im time=0.725\n"
     ]
    },
    {
     "name": "stdout",
     "output_type": "stream",
     "text": [
      "After sweep 114: maxlinkdim=22 maxerr=4.23E-12 current_time=0.0 + 0.57im time=0.671\n"
     ]
    },
    {
     "name": "stdout",
     "output_type": "stream",
     "text": [
      "After sweep 115: maxlinkdim=22 maxerr=4.38E-12 current_time=0.0 + 0.575im time=0.663\n"
     ]
    },
    {
     "name": "stdout",
     "output_type": "stream",
     "text": [
      "After sweep 116: maxlinkdim=22 maxerr=4.52E-12 current_time=0.0 + 0.58im time=0.66\n"
     ]
    },
    {
     "name": "stdout",
     "output_type": "stream",
     "text": [
      "After sweep 117: maxlinkdim=22 maxerr=4.67E-12 current_time=0.0 + 0.585im time=0.684\n"
     ]
    },
    {
     "name": "stdout",
     "output_type": "stream",
     "text": [
      "After sweep 118: maxlinkdim=22 maxerr=4.82E-12 current_time=0.0 + 0.59im time=0.663\n"
     ]
    },
    {
     "name": "stdout",
     "output_type": "stream",
     "text": [
      "After sweep 119: maxlinkdim=22 maxerr=4.98E-12 current_time=0.0 + 0.595im time=0.669\n"
     ]
    },
    {
     "name": "stdout",
     "output_type": "stream",
     "text": [
      "After sweep 120: maxlinkdim=22 maxerr=5.15E-12 current_time=0.0 + 0.6im time=0.662\n"
     ]
    },
    {
     "name": "stdout",
     "output_type": "stream",
     "text": [
      "After sweep 121: maxlinkdim=22 maxerr=5.31E-12 current_time=0.0 + 0.605im time=0.656\n"
     ]
    },
    {
     "name": "stdout",
     "output_type": "stream",
     "text": [
      "After sweep 122: maxlinkdim=22 maxerr=5.48E-12 current_time=0.0 + 0.61im time=0.696\n"
     ]
    },
    {
     "name": "stdout",
     "output_type": "stream",
     "text": [
      "After sweep 123: maxlinkdim=22 maxerr=5.66E-12 current_time=0.0 + 0.615im time=0.691\n"
     ]
    },
    {
     "name": "stdout",
     "output_type": "stream",
     "text": [
      "After sweep 124: maxlinkdim=22 maxerr=5.84E-12 current_time=0.0 + 0.62im time=0.663\n"
     ]
    },
    {
     "name": "stdout",
     "output_type": "stream",
     "text": [
      "After sweep 125: maxlinkdim=22 maxerr=6.03E-12 current_time=0.0 + 0.625im time=0.703\n"
     ]
    },
    {
     "name": "stdout",
     "output_type": "stream",
     "text": [
      "After sweep 126: maxlinkdim=22 maxerr=6.22E-12 current_time=0.0 + 0.63im time=0.661\n"
     ]
    },
    {
     "name": "stdout",
     "output_type": "stream",
     "text": [
      "After sweep 127: maxlinkdim=22 maxerr=6.42E-12 current_time=0.0 + 0.635im time=0.677\n"
     ]
    },
    {
     "name": "stdout",
     "output_type": "stream",
     "text": [
      "After sweep 128: maxlinkdim=22 maxerr=6.62E-12 current_time=0.0 + 0.64im time=0.672\n"
     ]
    },
    {
     "name": "stdout",
     "output_type": "stream",
     "text": [
      "After sweep 129: maxlinkdim=22 maxerr=6.83E-12 current_time=0.0 + 0.645im time=0.66\n"
     ]
    },
    {
     "name": "stdout",
     "output_type": "stream",
     "text": [
      "After sweep 130: maxlinkdim=22 maxerr=7.04E-12 current_time=0.0 + 0.65im time=0.673\n"
     ]
    },
    {
     "name": "stdout",
     "output_type": "stream",
     "text": [
      "After sweep 131: maxlinkdim=22 maxerr=7.26E-12 current_time=0.0 + 0.655im time=0.68\n"
     ]
    },
    {
     "name": "stdout",
     "output_type": "stream",
     "text": [
      "After sweep 132: maxlinkdim=22 maxerr=7.49E-12 current_time=0.0 + 0.66im time=0.668\n"
     ]
    },
    {
     "name": "stdout",
     "output_type": "stream",
     "text": [
      "After sweep 133: maxlinkdim=22 maxerr=7.72E-12 current_time=0.0 + 0.665im time=0.671\n"
     ]
    },
    {
     "name": "stdout",
     "output_type": "stream",
     "text": [
      "After sweep 134: maxlinkdim=22 maxerr=7.96E-12 current_time=0.0 + 0.67im time=0.66\n"
     ]
    },
    {
     "name": "stdout",
     "output_type": "stream",
     "text": [
      "After sweep 135: maxlinkdim=22 maxerr=8.20E-12 current_time=0.0 + 0.675im time=0.673\n"
     ]
    },
    {
     "name": "stdout",
     "output_type": "stream",
     "text": [
      "After sweep 136: maxlinkdim=22 maxerr=8.45E-12 current_time=0.0 + 0.68im time=0.668\n"
     ]
    },
    {
     "name": "stdout",
     "output_type": "stream",
     "text": [
      "After sweep 137: maxlinkdim=22 maxerr=8.71E-12 current_time=0.0 + 0.685im time=0.664\n"
     ]
    },
    {
     "name": "stdout",
     "output_type": "stream",
     "text": [
      "After sweep 138: maxlinkdim=22 maxerr=8.97E-12 current_time=0.0 + 0.69im time=0.675\n"
     ]
    },
    {
     "name": "stdout",
     "output_type": "stream",
     "text": [
      "After sweep 139: maxlinkdim=22 maxerr=9.25E-12 current_time=0.0 + 0.695im time=0.676\n"
     ]
    },
    {
     "name": "stdout",
     "output_type": "stream",
     "text": [
      "After sweep 140: maxlinkdim=22 maxerr=9.52E-12 current_time=0.0 + 0.7im time=0.678\n"
     ]
    },
    {
     "name": "stdout",
     "output_type": "stream",
     "text": [
      "After sweep 141: maxlinkdim=22 maxerr=9.81E-12 current_time=0.0 + 0.705im time=0.663\n"
     ]
    },
    {
     "name": "stdout",
     "output_type": "stream",
     "text": [
      "After sweep 142: maxlinkdim=22 maxerr=1.01E-11 current_time=0.0 + 0.71im time=0.671\n"
     ]
    },
    {
     "name": "stdout",
     "output_type": "stream",
     "text": [
      "After sweep 143: maxlinkdim=22 maxerr=1.04E-11 current_time=0.0 + 0.715im time=0.685\n"
     ]
    },
    {
     "name": "stdout",
     "output_type": "stream",
     "text": [
      "After sweep 144: maxlinkdim=22 maxerr=1.07E-11 current_time=0.0 + 0.72im time=0.681\n"
     ]
    },
    {
     "name": "stdout",
     "output_type": "stream",
     "text": [
      "After sweep 145: maxlinkdim=22 maxerr=1.10E-11 current_time=0.0 + 0.725im time=0.83\n"
     ]
    },
    {
     "name": "stdout",
     "output_type": "stream",
     "text": [
      "After sweep 146: maxlinkdim=22 maxerr=1.13E-11 current_time=0.0 + 0.73im time=0.878\n"
     ]
    },
    {
     "name": "stdout",
     "output_type": "stream",
     "text": [
      "After sweep 147: maxlinkdim=22 maxerr=1.17E-11 current_time=0.0 + 0.735im time=0.681\n"
     ]
    },
    {
     "name": "stdout",
     "output_type": "stream",
     "text": [
      "After sweep 148: maxlinkdim=22 maxerr=1.20E-11 current_time=0.0 + 0.74im time=0.675\n"
     ]
    },
    {
     "name": "stdout",
     "output_type": "stream",
     "text": [
      "After sweep 149: maxlinkdim=22 maxerr=1.24E-11 current_time=0.0 + 0.745im time=0.669\n"
     ]
    },
    {
     "name": "stdout",
     "output_type": "stream",
     "text": [
      "After sweep 150: maxlinkdim=22 maxerr=1.27E-11 current_time=0.0 + 0.75im time=0.685\n"
     ]
    },
    {
     "name": "stdout",
     "output_type": "stream",
     "text": [
      "After sweep 151: maxlinkdim=22 maxerr=1.31E-11 current_time=0.0 + 0.755im time=0.693\n"
     ]
    },
    {
     "name": "stdout",
     "output_type": "stream",
     "text": [
      "After sweep 152: maxlinkdim=22 maxerr=1.35E-11 current_time=0.0 + 0.76im time=0.732\n"
     ]
    },
    {
     "name": "stdout",
     "output_type": "stream",
     "text": [
      "After sweep 153: maxlinkdim=22 maxerr=1.38E-11 current_time=0.0 + 0.765im time=0.665\n"
     ]
    },
    {
     "name": "stdout",
     "output_type": "stream",
     "text": [
      "After sweep 154: maxlinkdim=22 maxerr=1.42E-11 current_time=0.0 + 0.77im time=0.685\n"
     ]
    },
    {
     "name": "stdout",
     "output_type": "stream",
     "text": [
      "After sweep 155: maxlinkdim=22 maxerr=1.46E-11 current_time=0.0 + 0.775im time=0.741\n"
     ]
    },
    {
     "name": "stdout",
     "output_type": "stream",
     "text": [
      "After sweep 156: maxlinkdim=22 maxerr=1.51E-11 current_time=0.0 + 0.78im time=0.701\n"
     ]
    },
    {
     "name": "stdout",
     "output_type": "stream",
     "text": [
      "After sweep 157: maxlinkdim=22 maxerr=1.55E-11 current_time=0.0 + 0.785im time=0.705\n"
     ]
    },
    {
     "name": "stdout",
     "output_type": "stream",
     "text": [
      "After sweep 158: maxlinkdim=22 maxerr=1.59E-11 current_time=0.0 + 0.79im time=0.656\n"
     ]
    },
    {
     "name": "stdout",
     "output_type": "stream",
     "text": [
      "After sweep 159: maxlinkdim=22 maxerr=1.64E-11 current_time=0.0 + 0.795im time=0.697\n"
     ]
    },
    {
     "name": "stdout",
     "output_type": "stream",
     "text": [
      "After sweep 160: maxlinkdim=22 maxerr=1.68E-11 current_time=0.0 + 0.8im time=0.665\n"
     ]
    },
    {
     "name": "stdout",
     "output_type": "stream",
     "text": [
      "After sweep 161: maxlinkdim=22 maxerr=1.73E-11 current_time=0.0 + 0.805im time=0.682\n"
     ]
    },
    {
     "name": "stdout",
     "output_type": "stream",
     "text": [
      "After sweep 162: maxlinkdim=22 maxerr=1.78E-11 current_time=0.0 + 0.81im time=0.672\n"
     ]
    },
    {
     "name": "stdout",
     "output_type": "stream",
     "text": [
      "After sweep 163: maxlinkdim=22 maxerr=1.82E-11 current_time=0.0 + 0.815im time=0.681\n"
     ]
    },
    {
     "name": "stdout",
     "output_type": "stream",
     "text": [
      "After sweep 164: maxlinkdim=22 maxerr=1.87E-11 current_time=0.0 + 0.82im time=0.708\n"
     ]
    },
    {
     "name": "stdout",
     "output_type": "stream",
     "text": [
      "After sweep 165: maxlinkdim=22 maxerr=1.92E-11 current_time=0.0 + 0.825im time=0.666\n"
     ]
    },
    {
     "name": "stdout",
     "output_type": "stream",
     "text": [
      "After sweep 166: maxlinkdim=22 maxerr=1.98E-11 current_time=0.0 + 0.83im time=0.674\n"
     ]
    },
    {
     "name": "stdout",
     "output_type": "stream",
     "text": [
      "After sweep 167: maxlinkdim=22 maxerr=2.03E-11 current_time=0.0 + 0.835im time=0.686\n"
     ]
    },
    {
     "name": "stdout",
     "output_type": "stream",
     "text": [
      "After sweep 168: maxlinkdim=22 maxerr=2.09E-11 current_time=0.0 + 0.84im time=0.673\n"
     ]
    },
    {
     "name": "stdout",
     "output_type": "stream",
     "text": [
      "After sweep 169: maxlinkdim=22 maxerr=2.14E-11 current_time=0.0 + 0.845im time=0.673\n"
     ]
    },
    {
     "name": "stdout",
     "output_type": "stream",
     "text": [
      "After sweep 170: maxlinkdim=22 maxerr=2.20E-11 current_time=0.0 + 0.85im time=0.69\n"
     ]
    },
    {
     "name": "stdout",
     "output_type": "stream",
     "text": [
      "After sweep 171: maxlinkdim=22 maxerr=2.26E-11 current_time=0.0 + 0.855im time=0.675\n"
     ]
    },
    {
     "name": "stdout",
     "output_type": "stream",
     "text": [
      "After sweep 172: maxlinkdim=22 maxerr=2.32E-11 current_time=0.0 + 0.86im time=0.669\n"
     ]
    },
    {
     "name": "stdout",
     "output_type": "stream",
     "text": [
      "After sweep 173: maxlinkdim=22 maxerr=2.38E-11 current_time=0.0 + 0.865im time=0.686\n"
     ]
    },
    {
     "name": "stdout",
     "output_type": "stream",
     "text": [
      "After sweep 174: maxlinkdim=22 maxerr=2.44E-11 current_time=0.0 + 0.87im time=0.661\n"
     ]
    },
    {
     "name": "stdout",
     "output_type": "stream",
     "text": [
      "After sweep 175: maxlinkdim=22 maxerr=2.50E-11 current_time=0.0 + 0.875im time=0.681\n"
     ]
    },
    {
     "name": "stdout",
     "output_type": "stream",
     "text": [
      "After sweep 176: maxlinkdim=22 maxerr=2.57E-11 current_time=0.0 + 0.88im time=0.793\n"
     ]
    },
    {
     "name": "stdout",
     "output_type": "stream",
     "text": [
      "After sweep 177: maxlinkdim=22 maxerr=2.64E-11 current_time=0.0 + 0.885im time=0.702\n"
     ]
    },
    {
     "name": "stdout",
     "output_type": "stream",
     "text": [
      "After sweep 178: maxlinkdim=22 maxerr=2.70E-11 current_time=0.0 + 0.89im time=0.687\n"
     ]
    },
    {
     "name": "stdout",
     "output_type": "stream",
     "text": [
      "After sweep 179: maxlinkdim=22 maxerr=2.77E-11 current_time=0.0 + 0.895im time=0.684\n"
     ]
    },
    {
     "name": "stdout",
     "output_type": "stream",
     "text": [
      "After sweep 180: maxlinkdim=22 maxerr=2.85E-11 current_time=0.0 + 0.9im time=0.727\n"
     ]
    },
    {
     "name": "stdout",
     "output_type": "stream",
     "text": [
      "After sweep 181: maxlinkdim=22 maxerr=2.92E-11 current_time=0.0 + 0.905im time=0.672\n"
     ]
    },
    {
     "name": "stdout",
     "output_type": "stream",
     "text": [
      "After sweep 182: maxlinkdim=22 maxerr=2.99E-11 current_time=0.0 + 0.91im time=0.675\n"
     ]
    },
    {
     "name": "stdout",
     "output_type": "stream",
     "text": [
      "After sweep 183: maxlinkdim=22 maxerr=3.07E-11 current_time=0.0 + 0.915im time=0.67\n"
     ]
    },
    {
     "name": "stdout",
     "output_type": "stream",
     "text": [
      "After sweep 184: maxlinkdim=22 maxerr=3.15E-11 current_time=0.0 + 0.92im time=0.686\n"
     ]
    },
    {
     "name": "stdout",
     "output_type": "stream",
     "text": [
      "After sweep 185: maxlinkdim=22 maxerr=3.23E-11 current_time=0.0 + 0.925im time=0.676\n"
     ]
    },
    {
     "name": "stdout",
     "output_type": "stream",
     "text": [
      "After sweep 186: maxlinkdim=22 maxerr=3.31E-11 current_time=0.0 + 0.93im time=0.67\n"
     ]
    },
    {
     "name": "stdout",
     "output_type": "stream",
     "text": [
      "After sweep 187: maxlinkdim=22 maxerr=3.39E-11 current_time=0.0 + 0.935im time=0.667\n"
     ]
    },
    {
     "name": "stdout",
     "output_type": "stream",
     "text": [
      "After sweep 188: maxlinkdim=22 maxerr=3.48E-11 current_time=0.0 + 0.94im time=0.654\n"
     ]
    },
    {
     "name": "stdout",
     "output_type": "stream",
     "text": [
      "After sweep 189: maxlinkdim=22 maxerr=3.56E-11 current_time=0.0 + 0.945im time=0.678\n"
     ]
    },
    {
     "name": "stdout",
     "output_type": "stream",
     "text": [
      "After sweep 190: maxlinkdim=22 maxerr=3.65E-11 current_time=0.0 + 0.95im time=0.685\n"
     ]
    },
    {
     "name": "stdout",
     "output_type": "stream",
     "text": [
      "After sweep 191: maxlinkdim=22 maxerr=3.74E-11 current_time=0.0 + 0.955im time=0.672\n"
     ]
    },
    {
     "name": "stdout",
     "output_type": "stream",
     "text": [
      "After sweep 192: maxlinkdim=22 maxerr=3.83E-11 current_time=0.0 + 0.96im time=0.68\n"
     ]
    },
    {
     "name": "stdout",
     "output_type": "stream",
     "text": [
      "After sweep 193: maxlinkdim=22 maxerr=3.93E-11 current_time=0.0 + 0.965im time=0.72\n"
     ]
    },
    {
     "name": "stdout",
     "output_type": "stream",
     "text": [
      "After sweep 194: maxlinkdim=22 maxerr=4.02E-11 current_time=0.0 + 0.97im time=0.673\n"
     ]
    },
    {
     "name": "stdout",
     "output_type": "stream",
     "text": [
      "After sweep 195: maxlinkdim=22 maxerr=4.12E-11 current_time=0.0 + 0.975im time=0.681\n"
     ]
    },
    {
     "name": "stdout",
     "output_type": "stream",
     "text": [
      "After sweep 196: maxlinkdim=22 maxerr=4.22E-11 current_time=0.0 + 0.98im time=0.672\n"
     ]
    },
    {
     "name": "stdout",
     "output_type": "stream",
     "text": [
      "After sweep 197: maxlinkdim=22 maxerr=4.32E-11 current_time=0.0 + 0.985im time=0.677\n"
     ]
    },
    {
     "name": "stdout",
     "output_type": "stream",
     "text": [
      "After sweep 198: maxlinkdim=22 maxerr=4.42E-11 current_time=0.0 + 0.99im time=0.702\n"
     ]
    },
    {
     "name": "stdout",
     "output_type": "stream",
     "text": [
      "After sweep 199: maxlinkdim=22 maxerr=4.53E-11 current_time=0.0 + 0.995im time=0.684\n"
     ]
    },
    {
     "name": "stdout",
     "output_type": "stream",
     "text": [
      "After sweep 200: maxlinkdim=22 maxerr=4.64E-11 current_time=0.0 + 1.0im time=0.692\n"
     ]
    },
    {
     "name": "stdout",
     "output_type": "stream",
     "text": [
      "After sweep 201: maxlinkdim=22 maxerr=4.75E-11 current_time=0.0 + 1.005im time=0.672\n"
     ]
    },
    {
     "name": "stdout",
     "output_type": "stream",
     "text": [
      "After sweep 202: maxlinkdim=22 maxerr=4.86E-11 current_time=0.0 + 1.01im time=0.664\n"
     ]
    },
    {
     "name": "stdout",
     "output_type": "stream",
     "text": [
      "After sweep 203: maxlinkdim=22 maxerr=4.98E-11 current_time=0.0 + 1.015im time=0.743\n"
     ]
    },
    {
     "name": "stdout",
     "output_type": "stream",
     "text": [
      "After sweep 204: maxlinkdim=22 maxerr=5.09E-11 current_time=0.0 + 1.02im time=0.692\n"
     ]
    },
    {
     "name": "stdout",
     "output_type": "stream",
     "text": [
      "After sweep 205: maxlinkdim=22 maxerr=5.21E-11 current_time=0.0 + 1.025im time=0.677\n"
     ]
    },
    {
     "name": "stdout",
     "output_type": "stream",
     "text": [
      "After sweep 206: maxlinkdim=22 maxerr=5.33E-11 current_time=0.0 + 1.03im time=0.665\n"
     ]
    },
    {
     "name": "stdout",
     "output_type": "stream",
     "text": [
      "After sweep 207: maxlinkdim=22 maxerr=5.46E-11 current_time=0.0 + 1.035im time=0.689\n"
     ]
    },
    {
     "name": "stdout",
     "output_type": "stream",
     "text": [
      "After sweep 208: maxlinkdim=22 maxerr=5.59E-11 current_time=0.0 + 1.04im time=0.67\n"
     ]
    },
    {
     "name": "stdout",
     "output_type": "stream",
     "text": [
      "After sweep 209: maxlinkdim=22 maxerr=5.71E-11 current_time=0.0 + 1.045im time=0.688\n"
     ]
    },
    {
     "name": "stdout",
     "output_type": "stream",
     "text": [
      "After sweep 210: maxlinkdim=22 maxerr=5.85E-11 current_time=0.0 + 1.05im time=0.659\n"
     ]
    },
    {
     "name": "stdout",
     "output_type": "stream",
     "text": [
      "After sweep 211: maxlinkdim=22 maxerr=5.98E-11 current_time=0.0 + 1.055im time=0.678\n"
     ]
    },
    {
     "name": "stdout",
     "output_type": "stream",
     "text": [
      "After sweep 212: maxlinkdim=22 maxerr=6.12E-11 current_time=0.0 + 1.06im time=0.715\n"
     ]
    },
    {
     "name": "stdout",
     "output_type": "stream",
     "text": [
      "After sweep 213: maxlinkdim=22 maxerr=6.26E-11 current_time=0.0 + 1.065im time=0.664\n"
     ]
    },
    {
     "name": "stdout",
     "output_type": "stream",
     "text": [
      "After sweep 214: maxlinkdim=22 maxerr=6.40E-11 current_time=0.0 + 1.07im time=0.784\n"
     ]
    },
    {
     "name": "stdout",
     "output_type": "stream",
     "text": [
      "After sweep 215: maxlinkdim=22 maxerr=6.54E-11 current_time=0.0 + 1.075im time=0.804\n"
     ]
    },
    {
     "name": "stdout",
     "output_type": "stream",
     "text": [
      "After sweep 216: maxlinkdim=22 maxerr=6.69E-11 current_time=0.0 + 1.08im time=0.857\n"
     ]
    },
    {
     "name": "stdout",
     "output_type": "stream",
     "text": [
      "After sweep 217: maxlinkdim=22 maxerr=6.84E-11 current_time=0.0 + 1.085im time=0.804\n"
     ]
    },
    {
     "name": "stdout",
     "output_type": "stream",
     "text": [
      "After sweep 218: maxlinkdim=22 maxerr=6.99E-11 current_time=0.0 + 1.09im time=0.844\n"
     ]
    },
    {
     "name": "stdout",
     "output_type": "stream",
     "text": [
      "After sweep 219: maxlinkdim=22 maxerr=7.15E-11 current_time=0.0 + 1.095im time=1.032\n"
     ]
    },
    {
     "name": "stdout",
     "output_type": "stream",
     "text": [
      "After sweep 220: maxlinkdim=22 maxerr=7.31E-11 current_time=0.0 + 1.1im time=0.84\n"
     ]
    },
    {
     "name": "stdout",
     "output_type": "stream",
     "text": [
      "After sweep 221: maxlinkdim=22 maxerr=7.47E-11 current_time=0.0 + 1.105im time=0.708\n"
     ]
    },
    {
     "name": "stdout",
     "output_type": "stream",
     "text": [
      "After sweep 222: maxlinkdim=22 maxerr=7.63E-11 current_time=0.0 + 1.11im time=0.687\n"
     ]
    },
    {
     "name": "stdout",
     "output_type": "stream",
     "text": [
      "After sweep 223: maxlinkdim=22 maxerr=7.80E-11 current_time=0.0 + 1.115im"
     ]
    },
    {
     "name": "stdout",
     "output_type": "stream",
     "text": [
      " time=0.714\n",
      "After sweep 224: maxlinkdim=22 maxerr=7.97E-11 current_time=0.0 + 1.12im time=0.681\n"
     ]
    },
    {
     "name": "stdout",
     "output_type": "stream",
     "text": [
      "After sweep 225: maxlinkdim=22 maxerr=8.15E-11 current_time=0.0 + 1.125im time=0.703\n"
     ]
    },
    {
     "name": "stdout",
     "output_type": "stream",
     "text": [
      "After sweep 226: maxlinkdim=22 maxerr=8.32E-11 current_time=0.0 + 1.13im time=0.708\n"
     ]
    },
    {
     "name": "stdout",
     "output_type": "stream",
     "text": [
      "After sweep 227: maxlinkdim=22 maxerr=8.50E-11 current_time=0.0 + 1.135im time=0.696\n"
     ]
    },
    {
     "name": "stdout",
     "output_type": "stream",
     "text": [
      "After sweep 228: maxlinkdim=22 maxerr=8.69E-11 current_time=0.0 + 1.14im time=0.734\n"
     ]
    },
    {
     "name": "stdout",
     "output_type": "stream",
     "text": [
      "After sweep 229: maxlinkdim=22 maxerr=8.87E-11 current_time=0.0 + 1.145im time=0.684\n"
     ]
    },
    {
     "name": "stdout",
     "output_type": "stream",
     "text": [
      "After sweep 230: maxlinkdim=22 maxerr=9.06E-11 current_time=0.0 + 1.15im time=0.702\n"
     ]
    },
    {
     "name": "stdout",
     "output_type": "stream",
     "text": [
      "After sweep 231: maxlinkdim=22 maxerr=9.26E-11 current_time=0.0 + 1.155im time=0.717\n"
     ]
    },
    {
     "name": "stdout",
     "output_type": "stream",
     "text": [
      "After sweep 232: maxlinkdim=22 maxerr=9.45E-11 current_time=0.0 + 1.16im time=0.703\n"
     ]
    },
    {
     "name": "stdout",
     "output_type": "stream",
     "text": [
      "After sweep 233: maxlinkdim=22 maxerr=9.66E-11 current_time=0.0 + 1.165im time=0.75\n"
     ]
    },
    {
     "name": "stdout",
     "output_type": "stream",
     "text": [
      "After sweep 234: maxlinkdim=22 maxerr=9.86E-11 current_time=0.0 + 1.17im time=0.689\n"
     ]
    },
    {
     "name": "stdout",
     "output_type": "stream",
     "text": [
      "After sweep 235: maxlinkdim=22 maxerr=4.39E-11 current_time=0.0 + 1.175im time=0.698\n"
     ]
    },
    {
     "name": "stdout",
     "output_type": "stream",
     "text": [
      "After sweep 236: maxlinkdim=22 maxerr=4.48E-11 current_time=0.0 + 1.18im time=0.683\n"
     ]
    },
    {
     "name": "stdout",
     "output_type": "stream",
     "text": [
      "After sweep 237: maxlinkdim=22 maxerr=4.57E-11 current_time=0.0 + 1.185im time=0.714\n"
     ]
    },
    {
     "name": "stdout",
     "output_type": "stream",
     "text": [
      "After sweep 238: maxlinkdim=22 maxerr=4.67E-11 current_time=0.0 + 1.19im time=0.672\n"
     ]
    },
    {
     "name": "stdout",
     "output_type": "stream",
     "text": [
      "After sweep 239: maxlinkdim=22 maxerr=4.76E-11 current_time=0.0 + 1.195im time=0.7\n"
     ]
    },
    {
     "name": "stdout",
     "output_type": "stream",
     "text": [
      "After sweep 240: maxlinkdim=22 maxerr=4.86E-11 current_time=0.0 + 1.2im time=0.685\n"
     ]
    },
    {
     "name": "stdout",
     "output_type": "stream",
     "text": [
      "After sweep 241: maxlinkdim=22 maxerr=4.95E-11 current_time=0.0 + 1.205im time=0.687\n"
     ]
    },
    {
     "name": "stdout",
     "output_type": "stream",
     "text": [
      "After sweep 242: maxlinkdim=22 maxerr=5.05E-11 current_time=0.0 + 1.21im time=0.712\n"
     ]
    },
    {
     "name": "stdout",
     "output_type": "stream",
     "text": [
      "After sweep 243: maxlinkdim=22 maxerr=5.15E-11 current_time=0.0 + 1.215im time=0.685\n"
     ]
    },
    {
     "name": "stdout",
     "output_type": "stream",
     "text": [
      "After sweep 244: maxlinkdim=22 maxerr=5.26E-11 current_time=0.0 + 1.22im time=0.704\n"
     ]
    },
    {
     "name": "stdout",
     "output_type": "stream",
     "text": [
      "After sweep 245: maxlinkdim=22 maxerr=5.36E-11 current_time=0.0 + 1.225im time=0.713\n"
     ]
    },
    {
     "name": "stdout",
     "output_type": "stream",
     "text": [
      "After sweep 246: maxlinkdim=22 maxerr=5.47E-11 current_time=0.0 + 1.23im time=0.74\n"
     ]
    },
    {
     "name": "stdout",
     "output_type": "stream",
     "text": [
      "After sweep 247: maxlinkdim=22 maxerr=5.58E-11 current_time=0.0 + 1.235im time=0.916\n"
     ]
    },
    {
     "name": "stdout",
     "output_type": "stream",
     "text": [
      "After sweep 248: maxlinkdim=22 maxerr=5.68E-11 current_time=0.0 + 1.24im time=0.927\n"
     ]
    },
    {
     "name": "stdout",
     "output_type": "stream",
     "text": [
      "After sweep 249: maxlinkdim=22 maxerr=5.80E-11 current_time=0.0 + 1.245im time=0.796\n"
     ]
    },
    {
     "name": "stdout",
     "output_type": "stream",
     "text": [
      "After sweep 250: maxlinkdim=22 maxerr=5.91E-11 current_time=0.0 + 1.25im time=0.745\n"
     ]
    },
    {
     "name": "stdout",
     "output_type": "stream",
     "text": [
      "After sweep 251: maxlinkdim=22 maxerr=6.02E-11 current_time=0.0 + 1.255im time=0.772\n"
     ]
    },
    {
     "name": "stdout",
     "output_type": "stream",
     "text": [
      "After sweep 252: maxlinkdim=22 maxerr=6.14E-11 current_time=0.0 + 1.26im time=0.718\n"
     ]
    },
    {
     "name": "stdout",
     "output_type": "stream",
     "text": [
      "After sweep 253: maxlinkdim=22 maxerr=6.26E-11 current_time=0.0 + 1.265im time=0.704\n"
     ]
    },
    {
     "name": "stdout",
     "output_type": "stream",
     "text": [
      "After sweep 254: maxlinkdim=22 maxerr=6.38E-11 current_time=0.0 + 1.27im time=0.721\n"
     ]
    },
    {
     "name": "stdout",
     "output_type": "stream",
     "text": [
      "After sweep 255: maxlinkdim=22 maxerr=6.50E-11 current_time=0.0 + 1.275im time=0.733\n"
     ]
    },
    {
     "name": "stdout",
     "output_type": "stream",
     "text": [
      "After sweep 256: maxlinkdim=22 maxerr=6.62E-11 current_time=0.0 + 1.28im time=0.681\n"
     ]
    },
    {
     "name": "stdout",
     "output_type": "stream",
     "text": [
      "After sweep 257: maxlinkdim=22 maxerr=6.75E-11 current_time=0.0 + 1.285im time=0.695\n"
     ]
    },
    {
     "name": "stdout",
     "output_type": "stream",
     "text": [
      "After sweep 258: maxlinkdim=22 maxerr=6.88E-11 current_time=0.0 + 1.29im time=0.721\n"
     ]
    },
    {
     "name": "stdout",
     "output_type": "stream",
     "text": [
      "After sweep 259: maxlinkdim=22 maxerr=7.01E-11 current_time=0.0 + 1.295im time=0.715\n"
     ]
    },
    {
     "name": "stdout",
     "output_type": "stream",
     "text": [
      "After sweep 260: maxlinkdim=22 maxerr=7.14E-11 current_time=0.0 + 1.3im time=0.684\n"
     ]
    },
    {
     "name": "stdout",
     "output_type": "stream",
     "text": [
      "After sweep 261: maxlinkdim=22 maxerr=7.27E-11 current_time=0.0 + 1.305im time=0.729\n"
     ]
    },
    {
     "name": "stdout",
     "output_type": "stream",
     "text": [
      "After sweep 262: maxlinkdim=22 maxerr=7.41E-11 current_time=0.0 + 1.31im time=0.666\n"
     ]
    },
    {
     "name": "stdout",
     "output_type": "stream",
     "text": [
      "After sweep 263: maxlinkdim=22 maxerr=7.55E-11 current_time=0.0 + 1.315im time=0.703\n"
     ]
    },
    {
     "name": "stdout",
     "output_type": "stream",
     "text": [
      "After sweep 264: maxlinkdim=22 maxerr=7.69E-11 current_time=0.0 + 1.32im time=0.697\n"
     ]
    },
    {
     "name": "stdout",
     "output_type": "stream",
     "text": [
      "After sweep 265: maxlinkdim=22 maxerr=7.83E-11 current_time=0.0 + 1.325im time=0.686\n"
     ]
    },
    {
     "name": "stdout",
     "output_type": "stream",
     "text": [
      "After sweep 266: maxlinkdim=22 maxerr=7.97E-11 current_time=0.0 + 1.33im time=0.685\n"
     ]
    },
    {
     "name": "stdout",
     "output_type": "stream",
     "text": [
      "After sweep 267: maxlinkdim=22 maxerr=8.12E-11 current_time=0.0 + 1.335im time=0.693\n"
     ]
    },
    {
     "name": "stdout",
     "output_type": "stream",
     "text": [
      "After sweep 268: maxlinkdim=22 maxerr=8.27E-11 current_time=0.0 + 1.34im time=0.698\n"
     ]
    },
    {
     "name": "stdout",
     "output_type": "stream",
     "text": [
      "After sweep 269: maxlinkdim=22 maxerr=8.42E-11 current_time=0.0 + 1.345im time=0.693\n"
     ]
    },
    {
     "name": "stdout",
     "output_type": "stream",
     "text": [
      "After sweep 270: maxlinkdim=22 maxerr=8.57E-11 current_time=0.0 + 1.35im time=0.716\n"
     ]
    },
    {
     "name": "stdout",
     "output_type": "stream",
     "text": [
      "After sweep 271: maxlinkdim=22 maxerr=8.73E-11 current_time=0.0 + 1.355im time=0.697\n"
     ]
    },
    {
     "name": "stdout",
     "output_type": "stream",
     "text": [
      "After sweep 272: maxlinkdim=22 maxerr=8.90E-11 current_time=0.0 + 1.36im time=0.665\n"
     ]
    },
    {
     "name": "stdout",
     "output_type": "stream",
     "text": [
      "After sweep 273: maxlinkdim=22 maxerr=9.07E-11 current_time=0.0 + 1.365im time=0.731\n"
     ]
    },
    {
     "name": "stdout",
     "output_type": "stream",
     "text": [
      "After sweep 274: maxlinkdim=22 maxerr=9.24E-11 current_time=0.0 + 1.37im time=0.917\n"
     ]
    },
    {
     "name": "stdout",
     "output_type": "stream",
     "text": [
      "After sweep 275: maxlinkdim=22 maxerr=9.41E-11 current_time=0.0 + 1.375im time=0.826\n"
     ]
    },
    {
     "name": "stdout",
     "output_type": "stream",
     "text": [
      "After sweep 276: maxlinkdim=22 maxerr=9.59E-11 current_time=0.0 + 1.38im time=0.947\n"
     ]
    },
    {
     "name": "stdout",
     "output_type": "stream",
     "text": [
      "After sweep 277: maxlinkdim=22 maxerr=9.77E-11 current_time=0.0 + 1.385im time=0.853\n"
     ]
    },
    {
     "name": "stdout",
     "output_type": "stream",
     "text": [
      "After sweep 278: maxlinkdim=22 maxerr=9.95E-11 current_time=0.0 + 1.39im time=0.709\n"
     ]
    },
    {
     "name": "stdout",
     "output_type": "stream",
     "text": [
      "After sweep 279: maxlinkdim=22 maxerr=6.68E-11 current_time=0.0 + 1.395im time=0.7\n"
     ]
    },
    {
     "name": "stdout",
     "output_type": "stream",
     "text": [
      "After sweep 280: maxlinkdim=22 maxerr=6.80E-11 current_time=0.0 + 1.4im time=0.718\n"
     ]
    },
    {
     "name": "stdout",
     "output_type": "stream",
     "text": [
      "After sweep 281: maxlinkdim=22 maxerr=6.93E-11 current_time=0.0 + 1.405im time=0.797\n"
     ]
    },
    {
     "name": "stdout",
     "output_type": "stream",
     "text": [
      "After sweep 282: maxlinkdim=22 maxerr=7.06E-11 current_time=0.0 + 1.41im time=0.731\n"
     ]
    },
    {
     "name": "stdout",
     "output_type": "stream",
     "text": [
      "After sweep 283: maxlinkdim=22 maxerr=7.19E-11 current_time=0.0 + 1.415im time=0.715\n"
     ]
    },
    {
     "name": "stdout",
     "output_type": "stream",
     "text": [
      "After sweep 284: maxlinkdim=22 maxerr=7.32E-11 current_time=0.0 + 1.42im time=0.683\n"
     ]
    },
    {
     "name": "stdout",
     "output_type": "stream",
     "text": [
      "After sweep 285: maxlinkdim=22 maxerr=7.45E-11 current_time=0.0 + 1.425im time=0.69\n"
     ]
    },
    {
     "name": "stdout",
     "output_type": "stream",
     "text": [
      "After sweep 286: maxlinkdim=22 maxerr=7.59E-11 current_time=0.0 + 1.43im time=0.687\n"
     ]
    },
    {
     "name": "stdout",
     "output_type": "stream",
     "text": [
      "After sweep 287: maxlinkdim=22 maxerr=7.73E-11 current_time=0.0 + 1.435im time=0.706\n"
     ]
    },
    {
     "name": "stdout",
     "output_type": "stream",
     "text": [
      "After sweep 288: maxlinkdim=22 maxerr=7.87E-11 current_time=0.0 + 1.44im time=0.756\n"
     ]
    },
    {
     "name": "stdout",
     "output_type": "stream",
     "text": [
      "After sweep 289: maxlinkdim=22 maxerr=8.01E-11 current_time=0.0 + 1.445im time=0.696\n"
     ]
    },
    {
     "name": "stdout",
     "output_type": "stream",
     "text": [
      "After sweep 290: maxlinkdim=22 maxerr=8.15E-11 current_time=0.0 + 1.45im time=0.733\n"
     ]
    },
    {
     "name": "stdout",
     "output_type": "stream",
     "text": [
      "After sweep 291: maxlinkdim=22 maxerr=8.30E-11 current_time=0.0 + 1.455im time=0.696\n"
     ]
    },
    {
     "name": "stdout",
     "output_type": "stream",
     "text": [
      "After sweep 292: maxlinkdim=22 maxerr=8.45E-11 current_time=0.0 + 1.46im time=0.655\n"
     ]
    },
    {
     "name": "stdout",
     "output_type": "stream",
     "text": [
      "After sweep 293: maxlinkdim=22 maxerr=8.60E-11 current_time=0.0 + 1.465im time=0.698\n"
     ]
    },
    {
     "name": "stdout",
     "output_type": "stream",
     "text": [
      "After sweep 294: maxlinkdim=22 maxerr=8.75E-11 current_time=0.0 + 1.47im time=0.744\n"
     ]
    },
    {
     "name": "stdout",
     "output_type": "stream",
     "text": [
      "After sweep 295: maxlinkdim=22 maxerr=8.91E-11 current_time=0.0 + 1.475im time=0.698\n"
     ]
    },
    {
     "name": "stdout",
     "output_type": "stream",
     "text": [
      "After sweep 296: maxlinkdim=22 maxerr=9.07E-11 current_time=0.0 + 1.48im time=0.7\n"
     ]
    },
    {
     "name": "stdout",
     "output_type": "stream",
     "text": [
      "After sweep 297: maxlinkdim=22 maxerr=9.23E-11 current_time=0.0 + 1.485im time=0.708\n"
     ]
    },
    {
     "name": "stdout",
     "output_type": "stream",
     "text": [
      "After sweep 298: maxlinkdim=22 maxerr=9.39E-11 current_time=0.0 + 1.49im time=0.707\n"
     ]
    },
    {
     "name": "stdout",
     "output_type": "stream",
     "text": [
      "After sweep 299: maxlinkdim=22 maxerr=9.56E-11 current_time=0.0 + 1.495im time=0.711\n"
     ]
    },
    {
     "name": "stdout",
     "output_type": "stream",
     "text": [
      "After sweep 300: maxlinkdim=22 maxerr=9.74E-11 current_time=0.0 + 1.5im time=0.712\n"
     ]
    },
    {
     "name": "stdout",
     "output_type": "stream",
     "text": [
      "After sweep 301: maxlinkdim=22 maxerr=9.91E-11 current_time=0.0 + 1.505im time=0.714\n"
     ]
    },
    {
     "name": "stdout",
     "output_type": "stream",
     "text": [
      "After sweep 302: maxlinkdim=22 maxerr=8.80E-11 current_time=0.0 + 1.51im time=0.725\n"
     ]
    },
    {
     "name": "stdout",
     "output_type": "stream",
     "text": [
      "After sweep 303: maxlinkdim=22 maxerr=8.97E-11 current_time=0.0 + 1.515im time=0.762\n"
     ]
    },
    {
     "name": "stdout",
     "output_type": "stream",
     "text": [
      "After sweep 304: maxlinkdim=22 maxerr=9.14E-11 current_time=0.0 + 1.52im time=0.758\n"
     ]
    },
    {
     "name": "stdout",
     "output_type": "stream",
     "text": [
      "After sweep 305: maxlinkdim=22 maxerr=9.31E-11 current_time=0.0 + 1.525im time=0.704\n"
     ]
    },
    {
     "name": "stdout",
     "output_type": "stream",
     "text": [
      "After sweep 306: maxlinkdim=22 maxerr=9.49E-11 current_time=0.0 + 1.53im time=0.717\n"
     ]
    },
    {
     "name": "stdout",
     "output_type": "stream",
     "text": [
      "After sweep 307: maxlinkdim=22 maxerr=9.66E-11 current_time=0.0 + 1.535im time=0.752\n"
     ]
    },
    {
     "name": "stdout",
     "output_type": "stream",
     "text": [
      "After sweep 308: maxlinkdim=22 maxerr=9.85E-11 current_time=0.0 + 1.54im time=0.724\n"
     ]
    },
    {
     "name": "stdout",
     "output_type": "stream",
     "text": [
      "After sweep 309: maxlinkdim=23 maxerr=9.71E-11 current_time=0.0 + 1.545im time=0.715\n"
     ]
    },
    {
     "name": "stdout",
     "output_type": "stream",
     "text": [
      "After sweep 310: maxlinkdim=23 maxerr=9.89E-11 current_time=0.0 + 1.55im time=0.716\n"
     ]
    },
    {
     "name": "stdout",
     "output_type": "stream",
     "text": [
      "After sweep 311: maxlinkdim=23 maxerr=8.23E-11 current_time=0.0 + 1.555im time=0.721\n"
     ]
    },
    {
     "name": "stdout",
     "output_type": "stream",
     "text": [
      "After sweep 312: maxlinkdim=23 maxerr=8.40E-11 current_time=0.0 + 1.56im time=0.737\n"
     ]
    },
    {
     "name": "stdout",
     "output_type": "stream",
     "text": [
      "After sweep 313: maxlinkdim=23 maxerr=8.57E-11 current_time=0.0 + 1.565im time=0.764\n"
     ]
    },
    {
     "name": "stdout",
     "output_type": "stream",
     "text": [
      "After sweep 314: maxlinkdim=23 maxerr=8.75E-11 current_time=0.0 + 1.57im time=0.73\n"
     ]
    },
    {
     "name": "stdout",
     "output_type": "stream",
     "text": [
      "After sweep 315: maxlinkdim=23 maxerr=8.93E-11 current_time=0.0 + 1.575im time=0.74\n"
     ]
    },
    {
     "name": "stdout",
     "output_type": "stream",
     "text": [
      "After sweep 316: maxlinkdim=23 maxerr=9.11E-11 current_time=0.0 + 1.58im time=0.743\n"
     ]
    },
    {
     "name": "stdout",
     "output_type": "stream",
     "text": [
      "After sweep 317: maxlinkdim=23 maxerr=9.30E-11 current_time=0.0 + 1.585im time=0.748\n"
     ]
    },
    {
     "name": "stdout",
     "output_type": "stream",
     "text": [
      "After sweep 318: maxlinkdim=23 maxerr=9.49E-11 current_time=0.0 + 1.59im time=0.75\n"
     ]
    },
    {
     "name": "stdout",
     "output_type": "stream",
     "text": [
      "After sweep 319: maxlinkdim=23 maxerr=9.68E-11 current_time=0.0 + 1.595im time=0.749\n"
     ]
    },
    {
     "name": "stdout",
     "output_type": "stream",
     "text": [
      "After sweep 320: maxlinkdim=23 maxerr=9.88E-11 current_time=0.0 + 1.6im time=0.727\n"
     ]
    },
    {
     "name": "stdout",
     "output_type": "stream",
     "text": [
      "After sweep 321: maxlinkdim=23 maxerr=9.59E-11 current_time=0.0 + 1.605im time=0.736\n"
     ]
    },
    {
     "name": "stdout",
     "output_type": "stream",
     "text": [
      "After sweep 322: maxlinkdim=23 maxerr=9.78E-11 current_time=0.0 + 1.61im time=0.769\n"
     ]
    },
    {
     "name": "stdout",
     "output_type": "stream",
     "text": [
      "After sweep 323: maxlinkdim=23 maxerr=9.98E-11 current_time=0.0 + 1.615im time=0.774\n"
     ]
    },
    {
     "name": "stdout",
     "output_type": "stream",
     "text": [
      "After sweep 324: maxlinkdim=23 maxerr=9.27E-11 current_time=0.0 + 1.62im time=0.743\n"
     ]
    },
    {
     "name": "stdout",
     "output_type": "stream",
     "text": [
      "After sweep 325: maxlinkdim=23 maxerr=9.49E-11 current_time=0.0 + 1.625im time=0.751\n"
     ]
    },
    {
     "name": "stdout",
     "output_type": "stream",
     "text": [
      "After sweep 326: maxlinkdim=23 maxerr=9.72E-11 current_time=0.0 + 1.63im time=0.75\n"
     ]
    },
    {
     "name": "stdout",
     "output_type": "stream",
     "text": [
      "After sweep 327: maxlinkdim=23 maxerr=9.95E-11 current_time=0.0 + 1.635im time=0.778\n"
     ]
    },
    {
     "name": "stdout",
     "output_type": "stream",
     "text": [
      "After sweep 328: maxlinkdim=24 maxerr=8.93E-11 current_time=0.0 + 1.64im time=0.752\n"
     ]
    },
    {
     "name": "stdout",
     "output_type": "stream",
     "text": [
      "After sweep 329: maxlinkdim=24 maxerr=9.08E-11 current_time=0.0 + 1.645im time=0.759\n"
     ]
    },
    {
     "name": "stdout",
     "output_type": "stream",
     "text": [
      "After sweep 330: maxlinkdim=24 maxerr=9.23E-11 current_time=0.0 + 1.65im time=0.754\n"
     ]
    },
    {
     "name": "stdout",
     "output_type": "stream",
     "text": [
      "After sweep 331: maxlinkdim=24 maxerr=9.39E-11 current_time=0.0 + 1.655im time=0.756\n"
     ]
    },
    {
     "name": "stdout",
     "output_type": "stream",
     "text": [
      "After sweep 332: maxlinkdim=24 maxerr=9.55E-11 current_time=0.0 + 1.66im time=0.732\n"
     ]
    },
    {
     "name": "stdout",
     "output_type": "stream",
     "text": [
      "After sweep 333: maxlinkdim=24 maxerr=9.71E-11 current_time=0.0 + 1.665im time=0.74\n"
     ]
    },
    {
     "name": "stdout",
     "output_type": "stream",
     "text": [
      "After sweep 334: maxlinkdim=24 maxerr=9.87E-11 current_time=0.0 + 1.67im time=0.741\n"
     ]
    },
    {
     "name": "stdout",
     "output_type": "stream",
     "text": [
      "After sweep 335: maxlinkdim=24 maxerr=9.98E-11 current_time=0.0 + 1.675im time=1.0\n"
     ]
    },
    {
     "name": "stdout",
     "output_type": "stream",
     "text": [
      "After sweep 336: maxlinkdim=24 maxerr=9.77E-11 current_time=0.0 + 1.68im time=1.08\n"
     ]
    },
    {
     "name": "stdout",
     "output_type": "stream",
     "text": [
      "After sweep 337: maxlinkdim=24 maxerr=9.96E-11 current_time=0.0 + 1.685im time=0.906\n"
     ]
    },
    {
     "name": "stdout",
     "output_type": "stream",
     "text": [
      "After sweep 338: maxlinkdim=24 maxerr=9.87E-11 current_time=0.0 + 1.69im time=0.968\n"
     ]
    },
    {
     "name": "stdout",
     "output_type": "stream",
     "text": [
      "After sweep 339: maxlinkdim=24 maxerr=9.98E-11 current_time=0.0 + 1.695im time=0.894\n"
     ]
    },
    {
     "name": "stdout",
     "output_type": "stream",
     "text": [
      "After sweep 340: maxlinkdim=24 maxerr=9.81E-11 current_time=0.0 + 1.7im time=0.9\n"
     ]
    },
    {
     "name": "stdout",
     "output_type": "stream",
     "text": [
      "After sweep 341: maxlinkdim=24 maxerr=8.32E-11 current_time=0.0 + 1.705im time=0.895\n"
     ]
    },
    {
     "name": "stdout",
     "output_type": "stream",
     "text": [
      "After sweep 342: maxlinkdim=24 maxerr=8.59E-11 current_time=0.0 + 1.71im time=0.895\n"
     ]
    },
    {
     "name": "stdout",
     "output_type": "stream",
     "text": [
      "After sweep 343: maxlinkdim=24 maxerr=8.78E-11 current_time=0.0 + 1.715im time=0.893\n"
     ]
    },
    {
     "name": "stdout",
     "output_type": "stream",
     "text": [
      "After sweep 344: maxlinkdim=24 maxerr=8.97E-11 current_time=0.0 + 1.72im time=0.89\n"
     ]
    },
    {
     "name": "stdout",
     "output_type": "stream",
     "text": [
      "After sweep 345: maxlinkdim=24 maxerr=9.17E-11 current_time=0.0 + 1.725im time=0.934\n"
     ]
    },
    {
     "name": "stdout",
     "output_type": "stream",
     "text": [
      "After sweep 346: maxlinkdim=24 maxerr=9.37E-11 current_time=0.0 + 1.73im time=0.909\n"
     ]
    },
    {
     "name": "stdout",
     "output_type": "stream",
     "text": [
      "After sweep 347: maxlinkdim=24 maxerr=9.58E-11 current_time=0.0 + 1.735im time=0.903\n"
     ]
    },
    {
     "name": "stdout",
     "output_type": "stream",
     "text": [
      "After sweep 348: maxlinkdim=24 maxerr=9.79E-11 current_time=0.0 + 1.74im time=0.915\n"
     ]
    },
    {
     "name": "stdout",
     "output_type": "stream",
     "text": [
      "After sweep 349: maxlinkdim=24 maxerr=1.00E-10 current_time=0.0 + 1.745im time=0.893\n"
     ]
    },
    {
     "name": "stdout",
     "output_type": "stream",
     "text": [
      "After sweep 350: maxlinkdim=25 maxerr=8.59E-11 current_time=0.0 + 1.75im time=0.91\n"
     ]
    },
    {
     "name": "stdout",
     "output_type": "stream",
     "text": [
      "After sweep 351: maxlinkdim=25 maxerr=8.76E-11 current_time=0.0 + 1.755im time=0.93\n"
     ]
    },
    {
     "name": "stdout",
     "output_type": "stream",
     "text": [
      "After sweep 352: maxlinkdim=25 maxerr=8.92E-11 current_time=0.0 + 1.76im time=0.925\n"
     ]
    },
    {
     "name": "stdout",
     "output_type": "stream",
     "text": [
      "After sweep 353: maxlinkdim=25 maxerr=9.09E-11 current_time=0.0 + 1.765im time=0.937\n"
     ]
    },
    {
     "name": "stdout",
     "output_type": "stream",
     "text": [
      "After sweep 354: maxlinkdim=25 maxerr=9.27E-11 current_time=0.0 + 1.77im time=0.902\n"
     ]
    },
    {
     "name": "stdout",
     "output_type": "stream",
     "text": [
      "After sweep 355: maxlinkdim=25 maxerr=9.44E-11 current_time=0.0 + 1.775im time=0.908\n"
     ]
    },
    {
     "name": "stdout",
     "output_type": "stream",
     "text": [
      "After sweep 356: maxlinkdim=25 maxerr=9.62E-11 current_time=0.0 + 1.78im time=1.11\n"
     ]
    },
    {
     "name": "stdout",
     "output_type": "stream",
     "text": [
      "After sweep 357: maxlinkdim=25 maxerr=9.81E-11 current_time=0.0 + 1.785im time=0.907\n"
     ]
    },
    {
     "name": "stdout",
     "output_type": "stream",
     "text": [
      "After sweep 358: maxlinkdim=25 maxerr=9.99E-11 current_time=0.0 + 1.79im time=0.95\n"
     ]
    },
    {
     "name": "stdout",
     "output_type": "stream",
     "text": [
      "After sweep 359: maxlinkdim=25 maxerr=9.77E-11 current_time=0.0 + 1.795im time=0.922\n"
     ]
    },
    {
     "name": "stdout",
     "output_type": "stream",
     "text": [
      "After sweep 360: maxlinkdim=25 maxerr=9.95E-11 current_time=0.0 + 1.8im time=0.909\n"
     ]
    },
    {
     "name": "stdout",
     "output_type": "stream",
     "text": [
      "After sweep 361: maxlinkdim=25 maxerr=9.47E-11 current_time=0.0 + 1.805im time=0.908\n"
     ]
    },
    {
     "name": "stdout",
     "output_type": "stream",
     "text": [
      "After sweep 362: maxlinkdim=25 maxerr=9.64E-11 current_time=0.0 + 1.81im time=0.919\n"
     ]
    },
    {
     "name": "stdout",
     "output_type": "stream",
     "text": [
      "After sweep 363: maxlinkdim=25 maxerr=9.81E-11 current_time=0.0 + 1.815im time=0.951\n"
     ]
    },
    {
     "name": "stdout",
     "output_type": "stream",
     "text": [
      "After sweep 364: maxlinkdim=25 maxerr=9.98E-11 current_time=0.0 + 1.82im time=0.958\n"
     ]
    },
    {
     "name": "stdout",
     "output_type": "stream",
     "text": [
      "After sweep 365: maxlinkdim=25 maxerr=9.75E-11 current_time=0.0 + 1.825im time=1.01\n"
     ]
    },
    {
     "name": "stdout",
     "output_type": "stream",
     "text": [
      "After sweep 366: maxlinkdim=25 maxerr=9.94E-11 current_time=0.0 + 1.83im time=0.924\n"
     ]
    },
    {
     "name": "stdout",
     "output_type": "stream",
     "text": [
      "After sweep 367: maxlinkdim=25 maxerr=9.90E-11 current_time=0.0 + 1.835im time=0.95\n"
     ]
    },
    {
     "name": "stdout",
     "output_type": "stream",
     "text": [
      "After sweep 368: maxlinkdim=25 maxerr=8.26E-11 current_time=0.0 + 1.84im time=0.957\n"
     ]
    },
    {
     "name": "stdout",
     "output_type": "stream",
     "text": [
      "After sweep 369: maxlinkdim=25 maxerr=8.55E-11 current_time=0.0 + 1.845im time=0.936\n"
     ]
    },
    {
     "name": "stdout",
     "output_type": "stream",
     "text": [
      "After sweep 370: maxlinkdim=25 maxerr=8.71E-11 current_time=0.0 + 1.85im time=0.931\n"
     ]
    },
    {
     "name": "stdout",
     "output_type": "stream",
     "text": [
      "After sweep 371: maxlinkdim=25 maxerr=8.87E-11 current_time=0.0 + 1.855im time=0.933\n"
     ]
    },
    {
     "name": "stdout",
     "output_type": "stream",
     "text": [
      "After sweep 372: maxlinkdim=25 maxerr=9.03E-11 current_time=0.0 + 1.86im time=0.941\n"
     ]
    },
    {
     "name": "stdout",
     "output_type": "stream",
     "text": [
      "After sweep 373: maxlinkdim=25 maxerr=9.20E-11 current_time=0.0 + 1.865im time=0.943\n"
     ]
    },
    {
     "name": "stdout",
     "output_type": "stream",
     "text": [
      "After sweep 374: maxlinkdim=25 maxerr=9.36E-11 current_time=0.0 + 1.87im time=0.937\n"
     ]
    },
    {
     "name": "stdout",
     "output_type": "stream",
     "text": [
      "After sweep 375: maxlinkdim=25 maxerr=9.54E-11 current_time=0.0 + 1.875im time=1.15\n"
     ]
    },
    {
     "name": "stdout",
     "output_type": "stream",
     "text": [
      "After sweep 376: maxlinkdim=25 maxerr=9.71E-11 current_time=0.0 + 1.88im time=1.028\n"
     ]
    },
    {
     "name": "stdout",
     "output_type": "stream",
     "text": [
      "After sweep 377: maxlinkdim=25 maxerr=9.91E-11 current_time=0.0 + 1.885im time=1.012\n"
     ]
    },
    {
     "name": "stdout",
     "output_type": "stream",
     "text": [
      "After sweep 378: maxlinkdim=25 maxerr=9.94E-11 current_time=0.0 + 1.89im time=0.964\n"
     ]
    },
    {
     "name": "stdout",
     "output_type": "stream",
     "text": [
      "After sweep 379: maxlinkdim=26 maxerr=7.87E-11 current_time=0.0 + 1.895im time=0.961\n"
     ]
    },
    {
     "name": "stdout",
     "output_type": "stream",
     "text": [
      "After sweep 380: maxlinkdim=26 maxerr=8.04E-11 current_time=0.0 + 1.9im time=0.965\n"
     ]
    },
    {
     "name": "stdout",
     "output_type": "stream",
     "text": [
      "After sweep 381: maxlinkdim=26 maxerr=8.21E-11 current_time=0.0 + 1.905im time=0.963\n"
     ]
    },
    {
     "name": "stdout",
     "output_type": "stream",
     "text": [
      "After sweep 382: maxlinkdim=26 maxerr=8.38E-11 current_time=0.0 + 1.91im time=1.017\n"
     ]
    },
    {
     "name": "stdout",
     "output_type": "stream",
     "text": [
      "After sweep 383: maxlinkdim=26 maxerr=8.56E-11 current_time=0.0 + 1.915im time=1.033\n"
     ]
    },
    {
     "name": "stdout",
     "output_type": "stream",
     "text": [
      "After sweep 384: maxlinkdim=26 maxerr=8.74E-11 current_time=0.0 + 1.92im time=1.019\n"
     ]
    },
    {
     "name": "stdout",
     "output_type": "stream",
     "text": [
      "After sweep 385: maxlinkdim=26 maxerr=8.92E-11 current_time=0.0 + 1.925im time=1.026\n"
     ]
    },
    {
     "name": "stdout",
     "output_type": "stream",
     "text": [
      "After sweep 386: maxlinkdim=26 maxerr=9.11E-11 current_time=0.0 + 1.93im time=0.986\n"
     ]
    },
    {
     "name": "stdout",
     "output_type": "stream",
     "text": [
      "After sweep 387: maxlinkdim=26 maxerr=9.30E-11 current_time=0.0 + 1.935im time=1.148\n"
     ]
    },
    {
     "name": "stdout",
     "output_type": "stream",
     "text": [
      "After sweep 388: maxlinkdim=26 maxerr=9.49E-11 current_time=0.0 + 1.94im time=1.075\n"
     ]
    },
    {
     "name": "stdout",
     "output_type": "stream",
     "text": [
      "After sweep 389: maxlinkdim=26 maxerr=9.69E-11 current_time=0.0 + 1.945im time=0.963\n"
     ]
    },
    {
     "name": "stdout",
     "output_type": "stream",
     "text": [
      "After sweep 390: maxlinkdim=26 maxerr=9.89E-11 current_time=0.0 + 1.95im time=0.955\n"
     ]
    },
    {
     "name": "stdout",
     "output_type": "stream",
     "text": [
      "After sweep 391: maxlinkdim=26 maxerr=9.66E-11 current_time=0.0 + 1.955im time=1.03\n"
     ]
    },
    {
     "name": "stdout",
     "output_type": "stream",
     "text": [
      "After sweep 392: maxlinkdim=26 maxerr=9.85E-11 current_time=0.0 + 1.96im time=1.146\n"
     ]
    },
    {
     "name": "stdout",
     "output_type": "stream",
     "text": [
      "After sweep 393: maxlinkdim=26 maxerr=9.09E-11 current_time=0.0 + 1.965im time=0.978\n"
     ]
    },
    {
     "name": "stdout",
     "output_type": "stream",
     "text": [
      "After sweep 394: maxlinkdim=26 maxerr=9.29E-11 current_time=0.0 + 1.97im time=1.03\n"
     ]
    },
    {
     "name": "stdout",
     "output_type": "stream",
     "text": [
      "After sweep 395: maxlinkdim=26 maxerr=9.49E-11 current_time=0.0 + 1.975im time=1.304\n"
     ]
    },
    {
     "name": "stdout",
     "output_type": "stream",
     "text": [
      "After sweep 396: maxlinkdim=26 maxerr=9.69E-11 current_time=0.0 + 1.98im time=1.008\n"
     ]
    },
    {
     "name": "stdout",
     "output_type": "stream",
     "text": [
      "After sweep 397: maxlinkdim=26 maxerr=9.90E-11 current_time=0.0 + 1.985im time=1.045\n"
     ]
    },
    {
     "name": "stdout",
     "output_type": "stream",
     "text": [
      "After sweep 398: maxlinkdim=26 maxerr=9.79E-11 current_time=0.0 + 1.99im time=1.154\n"
     ]
    },
    {
     "name": "stdout",
     "output_type": "stream",
     "text": [
      "After sweep 399: maxlinkdim=26 maxerr=1.00E-10 current_time=0.0 + 1.995im time=1.178\n"
     ]
    },
    {
     "name": "stdout",
     "output_type": "stream",
     "text": [
      "After sweep 400: maxlinkdim=26 maxerr=8.99E-11 current_time=0.0 + 2.0im time=1.035\n"
     ]
    },
    {
     "name": "stdout",
     "output_type": "stream",
     "text": [
      "After sweep 1: maxlinkdim=32 maxerr=2.49E-07 current_time=0.0 + 0.5im time=1.951\n"
     ]
    },
    {
     "name": "stdout",
     "output_type": "stream",
     "text": [
      "After sweep 2: maxlinkdim=32 maxerr=2.26E-06 current_time=0.0 + 1.0im time=2.757\n"
     ]
    },
    {
     "name": "stdout",
     "output_type": "stream",
     "text": [
      "After sweep 3: maxlinkdim=32 maxerr=8.16E-06 current_time=0.0 + 1.5im time=2.408\n"
     ]
    },
    {
     "name": "stdout",
     "output_type": "stream",
     "text": [
      "After sweep 4: maxlinkdim=32 maxerr=2.39E-05 current_time=0.0 + 2.0im time=2.389\n"
     ]
    },
    {
     "name": "stdout",
     "output_type": "stream",
     "text": [
      "After sweep 5: maxlinkdim=32 maxerr=5.83E-05 current_time=0.0 + 2.5im time=2.647\n"
     ]
    },
    {
     "name": "stdout",
     "output_type": "stream",
     "text": [
      "After sweep 6: maxlinkdim=32 maxerr=9.92E-05 current_time=0.0 + 3.0im time=2.935\n"
     ]
    },
    {
     "name": "stdout",
     "output_type": "stream",
     "text": [
      "After sweep 7: maxlinkdim=32 maxerr=1.27E-04 current_time=0.0 + 3.5im time=3.464\n"
     ]
    },
    {
     "name": "stdout",
     "output_type": "stream",
     "text": [
      "After sweep 8: maxlinkdim=32 maxerr=1.59E-04 current_time=0.0 + 4.0im time=3.166\n"
     ]
    },
    {
     "name": "stdout",
     "output_type": "stream",
     "text": [
      "After sweep 9: maxlinkdim=32 maxerr=2.19E-04 current_time=0.0 + 4.5im time=3.516\n"
     ]
    },
    {
     "name": "stdout",
     "output_type": "stream",
     "text": [
      "After sweep 10: maxlinkdim=32 maxerr=2.75E-04 current_time=0.0 + 5.0im time=4.138\n"
     ]
    }
   ],
   "source": [
    "# Perform TDVP evolution of |A(t)>:\n",
    "\n",
    "obs = Observer(\"times\" => current_time, \"SvN\" => measure_SvN, \"chi\" => measure_linkdim,\"Commutator\"=>measure_commutator)\n",
    "\n",
    "# d|A(t)>/dt = i HC |A(t)> so |A(t)> = exp(i t HC)|A(0)> \n",
    "\n",
    "# long time steps until time = 3.0\n",
    "# short between time = 3.0 and 5.0\n",
    "# long after time = 5.0\n",
    "\n",
    "ψinit = tdvp(HC, im * 3.0, Avec; \n",
    "          time_step = im * δt,\n",
    "          normalize = false, \n",
    "          maxdim = χ,\n",
    "          cutoff = 1e-10,\n",
    "          outputlevel=1)\n",
    "\n",
    "ψshort = tdvp(HC, im * (5.0-3.0), ψinit; \n",
    "        time_step = im * δt_short,\n",
    "        normalize = false, \n",
    "        maxdim = χ,\n",
    "        cutoff = 1e-10,\n",
    "        outputlevel=1,\n",
    "        (observer!)=obs)\n",
    "\n",
    "ψfinal = tdvp(HC, im * (T-5.0), ψshort; \n",
    "            time_step = im * δt,\n",
    "            normalize = false, \n",
    "            maxdim = χ,\n",
    "            cutoff = 1e-10,\n",
    "            outputlevel=1)\n",
    "\n",
    "# Extract results from time-step observations\n",
    "#`observer.name` or `observer[!, \"name\"]`\n",
    "#res = results(obs)\n",
    "times = obs.times\n",
    "SvN = obs.SvN\n",
    "chi = obs.chi\n",
    "Commutator=obs.Commutator\n",
    "\n",
    "\n",
    ";\n",
    "# times = res[\"times\"]\n",
    "# SvN = res[\"SvN\"]\n",
    "# chi = res[\"chi\"];"
   ]
  },
  {
   "cell_type": "code",
   "execution_count": 22,
   "id": "52fd555c",
   "metadata": {},
   "outputs": [],
   "source": [
    "\n",
    "times = obs.times\n",
    "# array with \n",
    "times = collect(3:0.05:5)\n",
    "\n",
    "# short between time = 3.0 and 5.0\n",
    "\n",
    "SvN = obs.SvN\n",
    "chi = obs.chi\n",
    "Commutator=obs.Commutator\n",
    ";"
   ]
  },
  {
   "cell_type": "code",
   "execution_count": 23,
   "id": "ed6b55db",
   "metadata": {},
   "outputs": [
    {
     "name": "stdout",
     "output_type": "stream",
     "text": []
    }
   ],
   "source": [
    "# Plot the entanglement entropy of each bond for system + ancilla:\n",
    "gr() #### c = :heat\n",
    "heatmap(1:(2*N), times, reduce(vcat,transpose.(SvN)), c = :seaborn_rocket_gradient)"
   ]
  },
  {
   "cell_type": "code",
   "execution_count": 24,
   "id": "a2468950",
   "metadata": {},
   "outputs": [
    {
     "name": "stdout",
     "output_type": "stream",
     "text": []
    }
   ],
   "source": [
    "using Plots.PlotMeasures\n",
    "# Plot the entanglement entropy for bonds separating system + ancilla pairs:\n",
    "gr()\n",
    "S = reduce(vcat,transpose.(SvN))[:,2:2:(2*N)]\n",
    "heatmap(1:N, times, S, c = :sunset,left_margin=20px, right_margin=20px, top_margin=20px, framestyle=:box)"
   ]
  },
  {
   "cell_type": "code",
   "execution_count": 18,
   "id": "db880d05",
   "metadata": {},
   "outputs": [
    {
     "data": {
      "image/png": "[encoded data removed]",
      "image/svg+xml": [
       "<?xml version=\"1.0\" encoding=\"utf-8\"?>\n",
       "<svg xmlns=\"http://www.w3.org/2000/svg\" xmlns:xlink=\"http://www.w3.org/1999/xlink\" width=\"600\" height=\"400\" viewBox=\"0 0 2400 1600\">\n",
       "<defs>\n",
       "  <clipPath id=\"clip910\">\n",
       "    <rect x=\"0\" y=\"0\" width=\"2400\" height=\"1600\"/>\n",
       "  </clipPath>\n",
       "</defs>\n",
       "<path clip-path=\"url(#clip910)\" d=\"M0 1600 L2400 1600 L2400 0 L0 0  Z\" fill=\"#ffffff\" fill-rule=\"evenodd\" fill-opacity=\"1\"/>\n",
       "<defs>\n",
       "  <clipPath id=\"clip911\">\n",
       "    <rect x=\"480\" y=\"0\" width=\"1681\" height=\"1600\"/>\n",
       "  </clipPath>\n",
       "</defs>\n",
       "<path clip-path=\"url(#clip910)\" d=\"M155.765 1486.45 L2112.76 1486.45 L2112.76 47.2441 L155.765 47.2441  Z\" fill=\"#ffffff\" fill-rule=\"evenodd\" fill-opacity=\"1\"/>\n",
       "<defs>\n",
       "  <clipPath id=\"clip912\">\n",
       "    <rect x=\"155\" y=\"47\" width=\"1958\" height=\"1440\"/>\n",
       "  </clipPath>\n",
       "</defs>\n",
       "<polyline clip-path=\"url(#clip912)\" style=\"stroke:#000000; stroke-linecap:round; stroke-linejoin:round; stroke-width:2; stroke-opacity:0.1; fill:none\" points=\"575.12,1486.45 575.12,47.2441 \"/>\n",
       "<polyline clip-path=\"url(#clip912)\" style=\"stroke:#000000; stroke-linecap:round; stroke-linejoin:round; stroke-width:2; stroke-opacity:0.1; fill:none\" points=\"1041.07,1486.45 1041.07,47.2441 \"/>\n",
       "<polyline clip-path=\"url(#clip912)\" style=\"stroke:#000000; stroke-linecap:round; stroke-linejoin:round; stroke-width:2; stroke-opacity:0.1; fill:none\" points=\"1507.02,1486.45 1507.02,47.2441 \"/>\n",
       "<polyline clip-path=\"url(#clip912)\" style=\"stroke:#000000; stroke-linecap:round; stroke-linejoin:round; stroke-width:2; stroke-opacity:0.1; fill:none\" points=\"1972.97,1486.45 1972.97,47.2441 \"/>\n",
       "<polyline clip-path=\"url(#clip910)\" style=\"stroke:#000000; stroke-linecap:round; stroke-linejoin:round; stroke-width:4; stroke-opacity:1; fill:none\" points=\"155.765,1486.45 2112.76,1486.45 \"/>\n",
       "<polyline clip-path=\"url(#clip910)\" style=\"stroke:#000000; stroke-linecap:round; stroke-linejoin:round; stroke-width:4; stroke-opacity:1; fill:none\" points=\"575.12,1486.45 575.12,1467.55 \"/>\n",
       "<polyline clip-path=\"url(#clip910)\" style=\"stroke:#000000; stroke-linecap:round; stroke-linejoin:round; stroke-width:4; stroke-opacity:1; fill:none\" points=\"1041.07,1486.45 1041.07,1467.55 \"/>\n",
       "<polyline clip-path=\"url(#clip910)\" style=\"stroke:#000000; stroke-linecap:round; stroke-linejoin:round; stroke-width:4; stroke-opacity:1; fill:none\" points=\"1507.02,1486.45 1507.02,1467.55 \"/>\n",
       "<polyline clip-path=\"url(#clip910)\" style=\"stroke:#000000; stroke-linecap:round; stroke-linejoin:round; stroke-width:4; stroke-opacity:1; fill:none\" points=\"1972.97,1486.45 1972.97,1467.55 \"/>\n",
       "<path clip-path=\"url(#clip910)\" d=\"M565.398 1514.29 L583.754 1514.29 L583.754 1518.22 L569.68 1518.22 L569.68 1526.7 Q570.699 1526.35 571.717 1526.19 Q572.736 1526 573.754 1526 Q579.541 1526 582.921 1529.17 Q586.301 1532.34 586.301 1537.76 Q586.301 1543.34 582.828 1546.44 Q579.356 1549.52 573.037 1549.52 Q570.861 1549.52 568.592 1549.15 Q566.347 1548.78 563.94 1548.04 L563.94 1543.34 Q566.023 1544.47 568.245 1545.03 Q570.467 1545.58 572.944 1545.58 Q576.949 1545.58 579.287 1543.48 Q581.625 1541.37 581.625 1537.76 Q581.625 1534.15 579.287 1532.04 Q576.949 1529.94 572.944 1529.94 Q571.069 1529.94 569.194 1530.35 Q567.342 1530.77 565.398 1531.65 L565.398 1514.29 Z\" fill=\"#000000\" fill-rule=\"nonzero\" fill-opacity=\"1\" /><path clip-path=\"url(#clip910)\" d=\"M1015.76 1544.91 L1023.4 1544.91 L1023.4 1518.55 L1015.09 1520.21 L1015.09 1515.95 L1023.35 1514.29 L1028.03 1514.29 L1028.03 1544.91 L1035.67 1544.91 L1035.67 1548.85 L1015.76 1548.85 L1015.76 1544.91 Z\" fill=\"#000000\" fill-rule=\"nonzero\" fill-opacity=\"1\" /><path clip-path=\"url(#clip910)\" d=\"M1055.11 1517.37 Q1051.5 1517.37 1049.67 1520.93 Q1047.86 1524.47 1047.86 1531.6 Q1047.86 1538.71 1049.67 1542.27 Q1051.5 1545.82 1055.11 1545.82 Q1058.74 1545.82 1060.55 1542.27 Q1062.38 1538.71 1062.38 1531.6 Q1062.38 1524.47 1060.55 1520.93 Q1058.74 1517.37 1055.11 1517.37 M1055.11 1513.66 Q1060.92 1513.66 1063.98 1518.27 Q1067.05 1522.85 1067.05 1531.6 Q1067.05 1540.33 1063.98 1544.94 Q1060.92 1549.52 1055.11 1549.52 Q1049.3 1549.52 1046.22 1544.94 Q1043.17 1540.33 1043.17 1531.6 Q1043.17 1522.85 1046.22 1518.27 Q1049.3 1513.66 1055.11 1513.66 Z\" fill=\"#000000\" fill-rule=\"nonzero\" fill-opacity=\"1\" /><path clip-path=\"url(#clip910)\" d=\"M1482.21 1544.91 L1489.84 1544.91 L1489.84 1518.55 L1481.53 1520.21 L1481.53 1515.95 L1489.8 1514.29 L1494.47 1514.29 L1494.47 1544.91 L1502.11 1544.91 L1502.11 1548.85 L1482.21 1548.85 L1482.21 1544.91 Z\" fill=\"#000000\" fill-rule=\"nonzero\" fill-opacity=\"1\" /><path clip-path=\"url(#clip910)\" d=\"M1511.6 1514.29 L1529.96 1514.29 L1529.96 1518.22 L1515.89 1518.22 L1515.89 1526.7 Q1516.9 1526.35 1517.92 1526.19 Q1518.94 1526 1519.96 1526 Q1525.75 1526 1529.13 1529.17 Q1532.51 1532.34 1532.51 1537.76 Q1532.51 1543.34 1529.03 1546.44 Q1525.56 1549.52 1519.24 1549.52 Q1517.07 1549.52 1514.8 1549.15 Q1512.55 1548.78 1510.15 1548.04 L1510.15 1543.34 Q1512.23 1544.47 1514.45 1545.03 Q1516.67 1545.58 1519.15 1545.58 Q1523.15 1545.58 1525.49 1543.48 Q1527.83 1541.37 1527.83 1537.76 Q1527.83 1534.15 1525.49 1532.04 Q1523.15 1529.94 1519.15 1529.94 Q1517.28 1529.94 1515.4 1530.35 Q1513.55 1530.77 1511.6 1531.65 L1511.6 1514.29 Z\" fill=\"#000000\" fill-rule=\"nonzero\" fill-opacity=\"1\" /><path clip-path=\"url(#clip910)\" d=\"M1951.74 1544.91 L1968.06 1544.91 L1968.06 1548.85 L1946.12 1548.85 L1946.12 1544.91 Q1948.78 1542.16 1953.36 1537.53 Q1957.97 1532.88 1959.15 1531.53 Q1961.4 1529.01 1962.28 1527.27 Q1963.18 1525.51 1963.18 1523.82 Q1963.18 1521.07 1961.23 1519.33 Q1959.31 1517.6 1956.21 1517.6 Q1954.01 1517.6 1951.56 1518.36 Q1949.13 1519.13 1946.35 1520.68 L1946.35 1515.95 Q1949.17 1514.82 1951.63 1514.24 Q1954.08 1513.66 1956.12 1513.66 Q1961.49 1513.66 1964.68 1516.35 Q1967.88 1519.03 1967.88 1523.52 Q1967.88 1525.65 1967.07 1527.57 Q1966.28 1529.47 1964.17 1532.07 Q1963.6 1532.74 1960.49 1535.95 Q1957.39 1539.15 1951.74 1544.91 Z\" fill=\"#000000\" fill-rule=\"nonzero\" fill-opacity=\"1\" /><path clip-path=\"url(#clip910)\" d=\"M1987.88 1517.37 Q1984.27 1517.37 1982.44 1520.93 Q1980.63 1524.47 1980.63 1531.6 Q1980.63 1538.71 1982.44 1542.27 Q1984.27 1545.82 1987.88 1545.82 Q1991.51 1545.82 1993.32 1542.27 Q1995.15 1538.71 1995.15 1531.6 Q1995.15 1524.47 1993.32 1520.93 Q1991.51 1517.37 1987.88 1517.37 M1987.88 1513.66 Q1993.69 1513.66 1996.74 1518.27 Q1999.82 1522.85 1999.82 1531.6 Q1999.82 1540.33 1996.74 1544.94 Q1993.69 1549.52 1987.88 1549.52 Q1982.07 1549.52 1978.99 1544.94 Q1975.93 1540.33 1975.93 1531.6 Q1975.93 1522.85 1978.99 1518.27 Q1982.07 1513.66 1987.88 1513.66 Z\" fill=\"#000000\" fill-rule=\"nonzero\" fill-opacity=\"1\" /><polyline clip-path=\"url(#clip912)\" style=\"stroke:#000000; stroke-linecap:round; stroke-linejoin:round; stroke-width:2; stroke-opacity:0.1; fill:none\" points=\"155.765,1128.45 2112.76,1128.45 \"/>\n",
       "<polyline clip-path=\"url(#clip912)\" style=\"stroke:#000000; stroke-linecap:round; stroke-linejoin:round; stroke-width:2; stroke-opacity:0.1; fill:none\" points=\"155.765,768.645 2112.76,768.645 \"/>\n",
       "<polyline clip-path=\"url(#clip912)\" style=\"stroke:#000000; stroke-linecap:round; stroke-linejoin:round; stroke-width:2; stroke-opacity:0.1; fill:none\" points=\"155.765,408.844 2112.76,408.844 \"/>\n",
       "<polyline clip-path=\"url(#clip912)\" style=\"stroke:#000000; stroke-linecap:round; stroke-linejoin:round; stroke-width:2; stroke-opacity:0.1; fill:none\" points=\"155.765,49.0431 2112.76,49.0431 \"/>\n",
       "<polyline clip-path=\"url(#clip910)\" style=\"stroke:#000000; stroke-linecap:round; stroke-linejoin:round; stroke-width:4; stroke-opacity:1; fill:none\" points=\"155.765,1486.45 155.765,47.2441 \"/>\n",
       "<polyline clip-path=\"url(#clip910)\" style=\"stroke:#000000; stroke-linecap:round; stroke-linejoin:round; stroke-width:4; stroke-opacity:1; fill:none\" points=\"155.765,1128.45 172.598,1128.45 \"/>\n",
       "<polyline clip-path=\"url(#clip910)\" style=\"stroke:#000000; stroke-linecap:round; stroke-linejoin:round; stroke-width:4; stroke-opacity:1; fill:none\" points=\"155.765,768.645 172.598,768.645 \"/>\n",
       "<polyline clip-path=\"url(#clip910)\" style=\"stroke:#000000; stroke-linecap:round; stroke-linejoin:round; stroke-width:4; stroke-opacity:1; fill:none\" points=\"155.765,408.844 172.598,408.844 \"/>\n",
       "<polyline clip-path=\"url(#clip910)\" style=\"stroke:#000000; stroke-linecap:round; stroke-linejoin:round; stroke-width:4; stroke-opacity:1; fill:none\" points=\"155.765,49.0431 172.598,49.0431 \"/>\n",
       "<path clip-path=\"url(#clip910)\" d=\"M63.5847 1114.24 Q59.9736 1114.24 58.1449 1117.81 Q56.3393 1121.35 56.3393 1128.48 Q56.3393 1135.59 58.1449 1139.15 Q59.9736 1142.69 63.5847 1142.69 Q67.2189 1142.69 69.0244 1139.15 Q70.8531 1135.59 70.8531 1128.48 Q70.8531 1121.35 69.0244 1117.81 Q67.2189 1114.24 63.5847 1114.24 M63.5847 1110.54 Q69.3948 1110.54 72.4503 1115.15 Q75.529 1119.73 75.529 1128.48 Q75.529 1137.21 72.4503 1141.81 Q69.3948 1146.4 63.5847 1146.4 Q57.7745 1146.4 54.6958 1141.81 Q51.6403 1137.21 51.6403 1128.48 Q51.6403 1119.73 54.6958 1115.15 Q57.7745 1110.54 63.5847 1110.54 Z\" fill=\"#000000\" fill-rule=\"nonzero\" fill-opacity=\"1\" /><path clip-path=\"url(#clip910)\" d=\"M83.7466 1139.85 L88.6308 1139.85 L88.6308 1145.73 L83.7466 1145.73 L83.7466 1139.85 Z\" fill=\"#000000\" fill-rule=\"nonzero\" fill-opacity=\"1\" /><path clip-path=\"url(#clip910)\" d=\"M98.8622 1111.17 L117.219 1111.17 L117.219 1115.1 L103.145 1115.1 L103.145 1123.57 Q104.163 1123.23 105.182 1123.06 Q106.2 1122.88 107.219 1122.88 Q113.006 1122.88 116.385 1126.05 Q119.765 1129.22 119.765 1134.64 Q119.765 1140.22 116.293 1143.32 Q112.82 1146.4 106.501 1146.4 Q104.325 1146.4 102.057 1146.03 Q99.8113 1145.66 97.4039 1144.92 L97.4039 1140.22 Q99.4872 1141.35 101.709 1141.91 Q103.932 1142.46 106.408 1142.46 Q110.413 1142.46 112.751 1140.36 Q115.089 1138.25 115.089 1134.64 Q115.089 1131.03 112.751 1128.92 Q110.413 1126.81 106.408 1126.81 Q104.534 1126.81 102.659 1127.23 Q100.807 1127.65 98.8622 1128.53 L98.8622 1111.17 Z\" fill=\"#000000\" fill-rule=\"nonzero\" fill-opacity=\"1\" /><path clip-path=\"url(#clip910)\" d=\"M53.3995 781.99 L61.0384 781.99 L61.0384 755.624 L52.7282 757.291 L52.7282 753.032 L60.9921 751.365 L65.668 751.365 L65.668 781.99 L73.3068 781.99 L73.3068 785.925 L53.3995 785.925 L53.3995 781.99 Z\" fill=\"#000000\" fill-rule=\"nonzero\" fill-opacity=\"1\" /><path clip-path=\"url(#clip910)\" d=\"M82.7512 780.045 L87.6354 780.045 L87.6354 785.925 L82.7512 785.925 L82.7512 780.045 Z\" fill=\"#000000\" fill-rule=\"nonzero\" fill-opacity=\"1\" /><path clip-path=\"url(#clip910)\" d=\"M107.821 754.444 Q104.209 754.444 102.381 758.008 Q100.575 761.55 100.575 768.68 Q100.575 775.786 102.381 779.351 Q104.209 782.893 107.821 782.893 Q111.455 782.893 113.26 779.351 Q115.089 775.786 115.089 768.68 Q115.089 761.55 113.26 758.008 Q111.455 754.444 107.821 754.444 M107.821 750.74 Q113.631 750.74 116.686 755.346 Q119.765 759.93 119.765 768.68 Q119.765 777.407 116.686 782.013 Q113.631 786.596 107.821 786.596 Q102.01 786.596 98.9317 782.013 Q95.8761 777.407 95.8761 768.68 Q95.8761 759.93 98.9317 755.346 Q102.01 750.74 107.821 750.74 Z\" fill=\"#000000\" fill-rule=\"nonzero\" fill-opacity=\"1\" /><path clip-path=\"url(#clip910)\" d=\"M54.3949 422.189 L62.0337 422.189 L62.0337 395.823 L53.7236 397.49 L53.7236 393.231 L61.9874 391.564 L66.6633 391.564 L66.6633 422.189 L74.3022 422.189 L74.3022 426.124 L54.3949 426.124 L54.3949 422.189 Z\" fill=\"#000000\" fill-rule=\"nonzero\" fill-opacity=\"1\" /><path clip-path=\"url(#clip910)\" d=\"M83.7466 420.244 L88.6308 420.244 L88.6308 426.124 L83.7466 426.124 L83.7466 420.244 Z\" fill=\"#000000\" fill-rule=\"nonzero\" fill-opacity=\"1\" /><path clip-path=\"url(#clip910)\" d=\"M98.8622 391.564 L117.219 391.564 L117.219 395.499 L103.145 395.499 L103.145 403.971 Q104.163 403.624 105.182 403.462 Q106.2 403.277 107.219 403.277 Q113.006 403.277 116.385 406.448 Q119.765 409.62 119.765 415.036 Q119.765 420.615 116.293 423.717 Q112.82 426.795 106.501 426.795 Q104.325 426.795 102.057 426.425 Q99.8113 426.055 97.4039 425.314 L97.4039 420.615 Q99.4872 421.749 101.709 422.305 Q103.932 422.86 106.408 422.86 Q110.413 422.86 112.751 420.754 Q115.089 418.647 115.089 415.036 Q115.089 411.425 112.751 409.319 Q110.413 407.212 106.408 407.212 Q104.534 407.212 102.659 407.629 Q100.807 408.045 98.8622 408.925 L98.8622 391.564 Z\" fill=\"#000000\" fill-rule=\"nonzero\" fill-opacity=\"1\" /><path clip-path=\"url(#clip910)\" d=\"M56.6171 62.3879 L72.9365 62.3879 L72.9365 66.3231 L50.9921 66.3231 L50.9921 62.3879 Q53.6541 59.6333 58.2375 55.0037 Q62.8439 50.351 64.0245 49.0084 Q66.2698 46.4852 67.1494 44.7491 Q68.0522 42.9899 68.0522 41.3001 Q68.0522 38.5455 66.1078 36.8094 Q64.1865 35.0733 61.0847 35.0733 Q58.8856 35.0733 56.4319 35.8372 Q54.0014 36.601 51.2236 38.152 L51.2236 33.4298 Q54.0477 32.2955 56.5014 31.7168 Q58.955 31.1381 60.9921 31.1381 Q66.3624 31.1381 69.5568 33.8233 Q72.7513 36.5084 72.7513 40.9992 Q72.7513 43.1288 71.9411 45.0501 Q71.1541 46.9482 69.0476 49.5408 Q68.4689 50.2121 65.367 53.4296 Q62.2652 56.6241 56.6171 62.3879 Z\" fill=\"#000000\" fill-rule=\"nonzero\" fill-opacity=\"1\" /><path clip-path=\"url(#clip910)\" d=\"M82.7512 60.4435 L87.6354 60.4435 L87.6354 66.3231 L82.7512 66.3231 L82.7512 60.4435 Z\" fill=\"#000000\" fill-rule=\"nonzero\" fill-opacity=\"1\" /><path clip-path=\"url(#clip910)\" d=\"M107.821 34.8418 Q104.209 34.8418 102.381 38.4066 Q100.575 41.9482 100.575 49.0778 Q100.575 56.1843 102.381 59.7491 Q104.209 63.2907 107.821 63.2907 Q111.455 63.2907 113.26 59.7491 Q115.089 56.1843 115.089 49.0778 Q115.089 41.9482 113.26 38.4066 Q111.455 34.8418 107.821 34.8418 M107.821 31.1381 Q113.631 31.1381 116.686 35.7446 Q119.765 40.3279 119.765 49.0778 Q119.765 57.8046 116.686 62.4111 Q113.631 66.9944 107.821 66.9944 Q102.01 66.9944 98.9317 62.4111 Q95.8761 57.8046 95.8761 49.0778 Q95.8761 40.3279 98.9317 35.7446 Q102.01 31.1381 107.821 31.1381 Z\" fill=\"#000000\" fill-rule=\"nonzero\" fill-opacity=\"1\" /><g clip-path=\"url(#clip912)\">\n",
       "<image width=\"1957\" height=\"1439\" xlink:href=\"data:image/png;base64,\n",
       "iVBORw0KGgoAAAANSUhEUgAAB6UAAAWfCAYAAADjySM1AAAgAElEQVR4nOzdwamtWREF4Prl0QhO\n",
       "zcCBAfRIHBqHifSgJw7MwzwcijF0DI4F6ck2ANFzwLeq9jv1fRH8FJtz4S6q1vPlN9+fAgD4ljzP\n",
       "9Bes892vfjv9Cev88de/n/6Edf78u79Of8I6P//4y+lPWOm7P/1r+hPW+eHvf5j+hHX+8o+/TX/C\n",
       "Oj//86fpT9jn+LcuAPDt+MX0BwAAAAAAAADwuYTSAAAAAAAAAMQIpQEAAAAAAACI+TL9AQAAAGyl\n",
       "C3OEsfczcwAAYDmb0gAAAAAAAADECKUBAAAAAAAAiBFKAwAAAAAAABCjUxoAAAAgSKU0AACwnU1p\n",
       "AAAAAAAAAGKE0gAAAAAAAADEON8NAABQVVXP9Afs46bxEG8dAACAXjalAQAAAAAAAIgRSgMAAAAA\n",
       "AAAQI5QGAAAAAAAAIEanNADw7dFBOsDQux2dr+2OZ97OKwcAAIAdbEoDAAAAAAAAECOUBgAAAAAA\n",
       "ACDG+W4AAABmuJk+wtjZwUNvZ+QAAPwPNqUBAAAAAAAAiBFKAwAAAAAAABAjlAYAAAAAAAAgRqc0\n",
       "AABAVVU90x8AfKjj9wUAAFjOpjQAAAAAAAAAMUJpAAAAAAAAAGKE0gAAAAAAAADE6JQGAIAbnekP\n",
       "gAbe+RD9xgAAAPSyKQ0AAAAAAABAjFAaAAAAAAAAgBjnuwEA4EKuGg8w9HaOSAMAAMAONqUBAAAA\n",
       "AAAAiBFKAwAAAAAAABAjlAYAAAAAAAAgRqc0AABvULbL5zsajvv5aRlxzL2dmU8wdAAAuIlNaQAA\n",
       "AAAAAABihNIAAAAAAAAAxDjfDQDASw5gAhl+XWY4VQ8AAEAvm9IAAAAAAAAAxAilAQAAAAAAAIgR\n",
       "SgMAAAAAAAAQo1MaAAAAgI+isR4AAO5iUxoAAAAAAACAGKE0AAAAAAAAADFCaQAAAAAAAABidEoD\n",
       "AMCFdGEOMPR+Zg4AAAAr2JQGAAAAAAAAIEYoDQAAAAAAAECM890AALzBjV0+36ln+hPWMfEZ55h8\n",
       "N39FAQCA7WxKAwAAAAAAABAjlAYAAAAAAAAgRigNAAAAAAAAQIxOaQAAAGYcTbtAit8XAAC4iU1p\n",
       "AAAAAAAAAGKE0gAAAAAAAADEON8NAMBrLmC2c9UYAP4P/o4CAMBVbEoDAAAAAAAAECOUBgAAAAAA\n",
       "ACBGKA0AAAAAAABAjE5pAAC40jP9AQuZeTvl6QAAALCCTWkAAAAAAAAAYoTSAAAAAAAAAMQIpQEA\n",
       "AAAAAACI0SkNAABQ6o0naPGecY7JdzNzAABgO5vSAAAAAAAAAMQIpQEAAAAAAACIcb4bAIA3uGsM\n",
       "fH2Pm+kjjsPpAAAANLMpDQAAAAAAAECMUBoAAAAAAACAGKE0AAAAAAAAADE6pQEA4EKadifo2QX4\n",
       "HP6SAgDATWxKAwAAAAAAABAjlAYAAAAAAAAgxvluAAAAZriuO8SpegAAAHrZlAYAAAAAAAAgRigN\n",
       "AAAAAAAAQIxQGgAAAAAAAIAYndIAAABVdfQbs4S33s/IAQCA7WxKAwAAAAAAABAjlAYAAAAAAAAg\n",
       "RigNAAAAAAAAQIxOaQAAAIZo2gUAAIANbEoDAAAAAAAAECOUBgAAAAAAACDG+W4AAN7gxG63Y+QD\n",
       "nukPWOfxzod46wAAAPSyKQ0AAAAAAABAjFAaAAAAAAAAgBihNAAAAAAAAAAxOqUBAAAA+DBK6wEA\n",
       "4CY2pQEAAAAAAACIEUoDAAAAAAAAEON8NwAAQFUdl177mfkIY+/n9wUAANjOpjQAAAAAAAAAMUJp\n",
       "AAAAAAAAAGKE0gAAAAAAAADE6JQGAACoqqpn+gMWUrQ74njrAAAA9LIpDQAAAAAAAECMUBoAAAAA\n",
       "AACAGKE0AAAAAAAAADE6pQEA4EJHvzEbqJQGAACAFWxKAwAAAAAAABAjlAYAAAAAAAAgxvluAADe\n",
       "4MYun88r7+dIPXt47f38qgMAwE1sSgMAAAAAAAAQI5QGAAAAAAAAIEYoDQAAAAAAAECMTmkAAF7S\n",
       "ysgOOl/b+XEZYez9zBwAANjOpjQAAAAAAAAAMUJpAAAAAAAAAGKc7wYAAKhyX3eEoY84TtXz+fy6\n",
       "AADAXWxKAwAAAAAAABAjlAYAAAAAAAAgRigNAAAAAAAAQIxOaQAAuNBRhskG3jkAAACsYFMaAAAA\n",
       "AAAAgBihNAAAAAAAAAAxQmkAAAAAAAAAYnRKAwAAVNWpZ/oToIUq735mDgAAbGdTGgAAAAAAAIAY\n",
       "oTQAAAAAAAAAMc53AwDwBodHga/v8dMyxKn6dt76AEMHAICb2JQGAAAAAAAAIEYoDQAAAAAAAECM\n",
       "UBoAAAAAAACAGJ3SAAAADNH5CgAAABvYlAYAAAAAAAAgRigNAAAAAAAAQIzz3QAAcCFHjfud80x/\n",
       "wj4e+gxzBwAAoJlNaQAAAAAAAABihNIAAAAAAAAAxAilAQAAAAAAAIjRKQ0AwGv6RwE+xin96d38\n",
       "GQUAALazKQ0AAAAAAABAjFAaAAAAAAAAgBihNAAAAAAAAAAxOqUBAACYoWgXSPH7AgAAV7EpDQAA\n",
       "AAAAAECMUBoAAAAAAACAGOe7AQB4gxuY/Z7pD4AGfluAFL8vAABwE5vSAAAAAAAAAMQIpQEAAAAA\n",
       "AACIEUoDAAAAAAAAEKNTGgAALnRUYbY7R493t8c7H3F01gMAANDMpjQAAAAAAAAAMUJpAAAAAAAA\n",
       "AGKc7wYAAIBNnE1v52Q6AACwnU1pAAAAAAAAAGKE0gAAAAAAAADECKUBAAAAAAAAiNEpDQAAwAzd\n",
       "xmzhrQMAAMvZlAYAAAAAAAAgRigNAAAAAAAAQIxQGgAAAAAAAIAYndIAAHAh9aP9Tj3Tn7CQlz7B\n",
       "WwcAAKCbTWkAAAAAAAAAYoTSAAAAAAAAAMQ43w0AwBuc2AUC/LQAAADACjalAQAAAAAAAIgRSgMA\n",
       "AAAAAAAQI5QGAAAAAAAAIEanNAAAQJV+4wHP9AdAEz8vE0wdAABuYlMaAAAAAAAAgBihNAAAAAAA\n",
       "AAAxzncDAABU1XFMut9xXnfCOd46AAAAvWxKAwAAAAAAABAjlAYAAAAAAAAgRigNAAAAAAAAQIxO\n",
       "aQAAuJCmXQAAAAA+hU1pAAAAAAAAAGKE0gAAAAAAAADECKUBAAAAAAAAiNEpDQAAwAzl6QAAALCC\n",
       "TWkAAAAAAAAAYoTSAAAAAAAAAMQ43w0AwBvc2G1n5O1OPdOfAE289W5+0gEAgO1sSgMAAAAAAAAQ\n",
       "I5QGAAAAAAAAIEYoDQAAAAAAAECMTmkAALiSztd2Sl/7HUOfYOoDDH2AoQMAwE1sSgMAAAAAAAAQ\n",
       "I5QGAAAAAAAAIMb5bgDgG+QcI5/PK2cDR+qH+IEBAACgmU1pAAAAAAAAAGKE0gAAAAAAAADECKUB\n",
       "AAAAAAAAiNEpDQAAUFVHw3E/3cZDvPV+Zg4AAOxmUxoAAAAAAACAGKE0AAAAAAAAADFCaQAAAAAA\n",
       "AABidEoDAADAIqq8+5k5O3jpAAD8dzalAQAAAAAAAIgRSgMAAAAAAAAQ43w3AAAvHecYgYTjtwUA\n",
       "AAA2sCkNAAAAAAAAQIxQGgAAAAAAAIAYoTQAAAAAAAAAMTqlAQDgQpp2+53zTH8CAF/J8ZcUAACu\n",
       "YlMaAAAAAAAAgBihNAAAAAAAAAAxzncDAAAww3XdEU7VAwAA0M2mNAAAAAAAAAAxQmkAAAAAAAAA\n",
       "YoTSAAAAAAAAAMTolAYAgBvp2mUBzcZs4ScdAADYzqY0AAAAAAAAADFCaQAAAAAAAABihNIAAAAA\n",
       "AAAAxOiUBgDgNWWYLHA0HPc7flwAAABgA5vSAAAAAAAAAMQIpQEAAAAAAACIcb4bAAAu5KgxkOJU\n",
       "/QA/6v3MHAAArmJTGgAAAAAAAIAYoTQAAAAAAAAAMUJpAAAAAAAAAGJ0SgMA8AbFjECAnxYAAABY\n",
       "waY0AAAAAAAAADFCaQAAAAAAAABinO8GAACoqnOe6U+AFsfZ9HZGPsHUAQDgJjalAQAAAAAAAIgR\n",
       "SgMAAAAAAAAQI5QGAAAAAAAAIEanNAAAXEm/MQsoNx7i9wUAAIBeNqUBAAAAAAAAiBFKAwAAAAAA\n",
       "ABAjlAYAAAAAAAAgRqc0AABcSNMuG2g2Zg+vHQAA2M2mNAAAAAAAAAAxQmkAAAAAAAAAYpzvBgAA\n",
       "qKrjvG4/d+pHGHs/MwcAALazKQ0AAAAAAABAjFAaAAAAAAAAgBihNAAAAAAAAAAxOqUBAHiDNkyA\n",
       "z6E/HQAAgF42pQEAAAAAAACIEUoDAAAAAAAAEON8NwAA3MjF9H5m3u8Y+ghjZwUPHQAAbmJTGgAA\n",
       "AAAAAIAYoTQAAAAAAAAAMUJpAAAAAAAAAGJ0SgMAwIU0YfYzc7bw1gcYOgAAsJxNaQAAAAAAAABi\n",
       "hNIAAAAAAAAAxAilAQAAAAAAAIjRKQ0AAFBVVc/0B+yjZ3eIt97NUwcAALazKQ0AAAAAAABAjFAa\n",
       "AAAAAAAAgBjnuwEAAMp5XQAAAIAUm9IAAAAAAAAAxAilAQAAAAAAAIgRSgMAAAAAAAAQo1MaAAAu\n",
       "pN+YDZ7jpU8wdQAAALrZlAYAAAAAAAAgRigNAAAAAAAAQIzz3QAAvMGxVzZ4pj8AmnjrAAAA9LIp\n",
       "DQAAAAAAAECMUBoAAAAAAACAGKE0AAAAAAAAADE6pQEAAKrqqE7vZ+YzzL2dkU8wdQAAuIlNaQAA\n",
       "AAAAAABihNIAAAAAAAAAxAilAQAAAAAAAIjRKQ0AAFd6pj8A+FCadgEAAOhmUxoAAAAAAACAGKE0\n",
       "AAAAAAAAADHOdwMAwIWO+7oDnExv56EP8dYBAADoZVMaAAAAAAAAgBihNAAAAAAAAAAxQmkAAAAA\n",
       "AAAAYnRKAwAAVJV2Y7bw1ifo8QYAAHazKQ0AAAAAAABAjFAaAAAAAAAAgBjnuwEAAJjhjjRLHG8d\n",
       "AABYzqY0AAAAAAAAADFCaQAAAAAAAABihNIAAAAAAAAAxOiUBgDgDcow+XznPNOfsI6JAwAAwA42\n",
       "pQEAAAAAAACIEUoDAAAAAAAAECOUBgAAAAAAACBGpzQAAFxIizcrHC99gv50dvD7AgAAN7EpDQAA\n",
       "AAAAAECMUBoAAAAAAACAGOe7AQB4zQVMIMFvC0t46gAAwHY2pQEAAAAAAACIEUoDAAAAAAAAECOU\n",
       "BgAAAAAAACBGpzQAAEBVnXqmPwFa6DdmBQ8dAACuYlMaAAAAAAAAgBihNAAAAAAAAAAxzncDAAAw\n",
       "w3ndIU7VAwAA0MumNAAAAAAAAAAxQmkAAAAAAAAAYoTSAAAAAAAAAMTolAYAgAup2mUHLx0AAAA2\n",
       "sCkNAAAAAAAAQIxQGgAAAAAAAIAY57sBAHiDE7vtjLzdMfN+Zj7C2PuZ+QRTBwCAm9iUBgAAAAAA\n",
       "ACBGKA0AAAAAAABAjFAaAAAAAAAAgBid0gAAAFVV9Ux/wDomPuSYPAAAAL1sSgMAAAAAAAAQI5QG\n",
       "AAAAAAAAIEYoDQAAAAAAAECMTmkAALjQmf6Ahcx8gKGzhbcOAAAsZ1MaAAAAAAAAgBihNAAAAAAA\n",
       "AAAxzncDAMCVnukPAD6US9IAAAB0sykNAAAAAAAAQIxQGgAAAAAAAIAYoTQAAAAAAAAAMTqlAQB4\n",
       "Sf8oO+jxbnf8uszw1rt56QAAwHY2pQEAAAAAAACIEUoDAAAAAAAAEON8NwAAQDmvyx7e+gQn07t5\n",
       "5wAAcBeb0gAAAAAAAADECKUBAAAAAAAAiBFKAwAAAAAAABCjUxoAgDdoZuxm4gMMvZ+ZAwAAwAo2\n",
       "pQEAAAAAAACIEUoDAAAAAAAAECOUBgAAAAAAACBGpzQAAEBVnXqmPwF66PJmBQ8dAABuYlMaAAAA\n",
       "AAAAgBihNAAAAAAAAAAxzncDAAAw4zivO8Gp+n5eOgAAsJ1NaQAAAAAAAABihNIAAAAAAAAAxAil\n",
       "AQAAAAAAAIjRKQ0AADdSQMoCmo0BAABgB5vSAAAAAAAAAMQIpQEAAAAAAACIcb4bAAAu5Hp3PzMf\n",
       "YOgjjB0AAIBuNqUBAAAAAAAAiBFKAwAAAAAAABAjlAYAAAAAAAAgRqc0AABAVVU90x8ATbz1bkeR\n",
       "NwAAsJxNaQAAAAAAAABihNIAAAAAAAAAxAilAQAAAAAAAIjRKQ0AwBuUYfL5vPIBhg4AAAAr2JQG\n",
       "AAAAAAAAIEYoDQAAAAAAAECM890AAHAhV40HGHq/Y+gTjJ0dPHQAALiJTWkAAAAAAAAAYoTSAAAA\n",
       "AAAAAMQIpQEAAAAAAACI0SkNAABQVVXP9AdAE28dAACAXjalAQAAAAAAAIgRSgMAAAAAAAAQ43w3\n",
       "AABAVZ3pD9jI0EcYez8zBwAAtrMpDQAAAAAAAECMUBoAAAAAAACAGKE0AAAAAAAAADFCaQAAAAAA\n",
       "AABihNIAAAAAAAAAxAilAQAAAAAAAIgRSgMAAAAAAAAQ82X6AwAAgP906pn+hHXMfMCZ/gAAAACg\n",
       "g01pAAAAAAAAAGKE0gAAAAAAAADEON8NAMBrx41d4Ot73O8e4VR9Py8dAADYzqY0AAAAAAAAADFC\n",
       "aQAAAAAAAABihNIAAAAAAAAAxOiUBgCAGykg7Wfm/cycNfR4tzt+YAAA4CY2pQEAAAAAAACIEUoD\n",
       "AAAAAAAAEON8NwAAQLkkzR6uGg8wcwAAYDmb0gAAAAAAAADECKUBAAAAAAAAiBFKAwAAAAAAABCj\n",
       "UxoAAC6kfnTCM/0B+3joQ7x1AAAAetmUBgAAAAAAACBGKA0AAAAAAABAjFAaAAAAAAAAgBid0gAA\n",
       "AKXemD289X5mDgAAbGdTGgAAAAAAAIAYoTQAAAAAAAAAMc53AwAAMOM4agwAAAAb2JQGAAAAAAAA\n",
       "IEYoDQAAAAAAAECMUBoAAAAAAACAGJ3SAABwIU27/U49058AAAAA8JFsSgMAAAAAAAAQI5QGAAAA\n",
       "AAAAIMb5bgAA3uCYNBDgp2WEU/UAAAB0sykNAAAAAAAAQIxQGgAAAAAAAIAYoTQAAAAAAAAAMTql\n",
       "AQAAqvQbs4e33s7IJ5g6AADcxKY0AAAAAAAAADFCaQAAAAAAAABihNIAAAAAAAAAxOiUBgAAKO2j\n",
       "Iwx9hLEDAADQzaY0AAAAAAAAADFCaQAAAAAAAABinO8GAIALOa874Zn+gH2Olw4AAAAb2JQGAAAA\n",
       "AAAAIEYoDQAAAAAAAECMUBoAAAAAAACAGJ3SAABwI1W77Yy8nxbvKSbfze8LAACwnU1pAAAAAAAA\n",
       "AGKE0gAAAAAAAADEON8NAADADDeNRxj7AEMHAACWsykNAAAAAAAAQIxQGgAAAAAAAIAYoTQAAAAA\n",
       "AAAAMTqlAQDgQupH+5k5AAAAQIZNaQAAAAAAAABihNIAAAAAAAAAxAilAQAAAAAAAIjRKQ0AwBu0\n",
       "7bLBM/0B+/hpGXG89XaeOgAAsJ1NaQAAAAAAAABihNIAAAAAAAAAxDjfDQAAUOW+Lnt466zgoQMA\n",
       "wE1sSgMAAAAAAAAQI5QGAAAAAAAAIEYoDQAAAAAAAECMTmkAALiQJsx+Zj7A0EcYOwAAAN1sSgMA\n",
       "AAAAAAAQI5QGAAAAAAAAIMb5bgAAAIY4JA0AAAAb2JQGAAAAAAAAIEYoDQAAAAAAAECMUBoAAAAA\n",
       "AACAGJ3SAAAAVXXqmf6EfVRKD/HWu3nqAADAdjalAQAAAAAAAIgRSgMAAAAAAAAQI5QGAAAAAAAA\n",
       "IEanNAAAACyi3xgAAIBuNqUBAAAAAAAAiBFKAwAAAAAAABDjfDcAAFzo1DP9Ces4aTzA0AEAAGAF\n",
       "m9IAAAAAAAAAxAilAQAAAAAAAIgRSgMAAAAAAAAQo1MaAIA3KH5lAz3e7OAXvd/x+wIAACxnUxoA\n",
       "AAAAAACAGKE0AAAAAAAAADHOdwMAwI3c1+1n5v3MfMZxSpoN/MAAAMBNbEoDAAAAAAAAECOUBgAA\n",
       "AAAAACBGKA0AAAAAAABAjE5pAABeU8vYzsj7mTlbeOsDDB0AAFjOpjQAAAAAAAAAMUJpAAAAAAAA\n",
       "AGKE0gAAAAAAAADE6JQGAABgxHMU7QIhfl4AAOAqNqUBAAAAAAAAiBFKAwAAAAAAABDjfDcAAEBV\n",
       "nXqmPwH4UC5JAwAA29mUBgAAAAAAACBGKA0AAAAAAABAjFAaAAAAAAAAgBid0gAAcCH9o6zgoY/Q\n",
       "nw4AAEA3m9IAAAAAAAAAxAilAQAAAAAAAIhxvhsAAKBckh5h6AAAALCCTWkAAAAAAAAAYoTSAAAA\n",
       "AAAAAMQIpQEAAAAAAACI0SkNAMAbFL8CfAq/6P3MHAAA2M6mNAAAAAAAAAAxQmkAAAAAAAAAYoTS\n",
       "AAAAAAAAAMTolAYAAKiqOs/0F+yjaBeI8QMDAAA3sSkNAAAAAAAAQIxQGgAAAAAAAIAY57sBAOBC\n",
       "jo72M3O2OE7VAwAA0MymNAAAAAAAAAAxQmkAAAAAAAAAYoTSAAAAAAAAAMTolAYAAGCGIm+W8NQB\n",
       "AIDtbEoDAAAAAAAAECOUBgAAAAAAACDG+W4AAIByXneGqQMAAMAGNqUBAAAAAAAAiBFKAwAAAAAA\n",
       "ABAjlAYAAAAAAAAgRqc0AABcSNMuK3joI4wdAACAbjalAQAAAAAAAIgRSgMAAAAAAAAQI5QGAAAA\n",
       "AAAAIEanNAAA3Ejpa7tTz/QnQBNvvZufdAAAYDub0gAAAAAAAADECKUBAAAAAAAAiHG+GwAAgBlu\n",
       "Go8wdgAAALrZlAYAAAAAAAAgRigNAAAAAAAAQIxQGgAAAAAAAIAYndIAALxBA2k3Ex9g6ECK3xcA\n",
       "AGA5m9IAAAAAAAAAxAilAQAAAAAAAIhxvhsAAKBc1x1h6COOubcz8gmmDgAAN7EpDQAAAAAAAECM\n",
       "UBoAAAAAAACAGKE0AAAAAAAAADE6pQEAeEkrIzs80x8AAAAA8JFsSgMAAAAAAAAQI5QGAAAAAAAA\n",
       "IEYoDQAAAAAAAECMTmkAALiQHu9+Zj7A0IfoT+fz+XkBAIC72JQGAAAAAAAAIEYoDQAAAAAAAECM\n",
       "890AAACwiLPG/cwcAADYzqY0AAAAAAAAADFCaQAAAAAAAABihNIAAAAAAAAAxOiUBgAAKJ2vIwwd\n",
       "AAAAVrApDQAAAAAAAECMUBoAAAAAAACAGOe7AQDgQq4aT3imPwBa+H0BAACgm01pAAAAAAAAAGKE\n",
       "0gAAAAAAAADECKUB+Dd7d3ArMZIDUVACxn+XtQbMYf5hX7HQjLBAIAq6JMgEAAAAAADI6JQGAIAr\n",
       "aX1lAc98iP700zx1AABgO5vSAAAAAAAAAGSE0gAAAAAAAABkhNIAAAAAAAAAZHRKAwDwB9ow+X2f\n",
       "Z84S3joAAACn2ZQGAAAAAAAAICOUBgAAAAAAACDjfDcAAFzIdV02eD101vDYzzNzAAC4iU1pAAAA\n",
       "AAAAADJCaQAAAAAAAAAyQmkAAAAAAAAAMjqlAQAAHu2jM0x9gqmfZ+YAAMB2NqUBAAAAAAAAyAil\n",
       "AQAAAAAAAMg43w0AwH9zd5QV3ukP2Me/BQAAAFawKQ0AAAAAAABARigNAAAAAAAAQEYoDQAAAAAA\n",
       "AEBGpzQAAFxI1e55Zs4e+tNZwE8dAACuYlMaAAAAAAAAgIxQGgAAAAAAAICMUBoAAAAAAACAjE5p\n",
       "AAAAZuh8HWHs55k5AACwnU1pAAAAAAAAADJCaQAAAAAAAAAyzncDAAA8zusCAAAAVGxKAwAAAAAA\n",
       "AJARSgMAAAAAAACQEUoDAAAAAAAAkNEpDQAAF/oUHJ9n5ueZ+QhjBwAA4DSb0gAAAAAAAABkhNIA\n",
       "AAAAAAAAZJzvBgDgDxx7ZYN3+gPgDL/044wcAADYzqY0AAAAAAAAABmhNAAAAAAAAAAZoTQAAAAA\n",
       "AAAAGZ3SAAAAj87XEYY+4tOffp63PsDQAQDgJjalAQAAAAAAAMgIpQEAAAAAAADICKUBAAAAAAAA\n",
       "yOiUBgCAC2nCBAAAAOBX2JQGAAAAAAAAICOUBgAAAAAAACDjfDcAAMDjZPoIQ2cJTx0AANjOpjQA\n",
       "AAAAAAAAGaE0AAAAAAAAABmhNAAAAAAAAAAZndIAAACwiH5jAAAATrMpDQAAAAAAAEBGKA0AAAAA\n",
       "AABAxvluAAC4kPO6533PO/0J+3joAAAAsIJNaQAAAAAAAAAyQmkAAAAAAAAAMkJpAAAAAAAAADI6\n",
       "pQEA4ErKdoGG/vTz/NEBAIDtbEoDAAAAAAAAkBFKAwAAAAAAAJARSgMAAAAAAACQ0SkNAAAX0j86\n",
       "wNDPM3PW8NgBAIDdbEoDAAAAAAAAkBFKAwAAAAAAAJBxvhsAAOBxXJc9Po8dAACAw2xKAwAAAAAA\n",
       "AJARSgMAAAAAAACQEUoDAAAAAAAAkNEpDQDAHyggBQJ+LSzhqU8wdQAAuIlNaQAAAAAAAAAyQmkA\n",
       "AAAAAAAAMs53AwDAhRwdPe973ulPAAAAAPhJNqUBAAAAAAAAyAilAQAAAAAAAMgIpQEAAAAAAADI\n",
       "6JQGAABghvL0EfrTAQAAOM2mNAAAAAAAAAAZoTQAAAAAAAAAGee7AQAAHpekgY7/CwAAsJ1NaQAA\n",
       "AAAAAAAyQmkAAAAAAAAAMkJpAAAAAAAAADI6pQEA4EL6R1nBQx9h7AAAAJxmUxoAAAAAAACAjFAa\n",
       "AAAAAAAAgIxQGgAAAAAAAICMTmkAALiS1leAX+GPDgAAbGdTGgAAAAAAAICMUBoAAAAAAACAjPPd\n",
       "AAAAz/N87uueZ+YjjH2CqQMAALvZlAYAAAAAAAAgI5QGAAAAAAAAICOUBgAAAAAAACCjUxoAAC6k\n",
       "fXTCO/0BcIYfDAAAAIfZlAYAAAAAAAAgI5QGAAAAAAAAION8NwAAwOOi8QhDH+JU/WmeOgAAsJ1N\n",
       "aQAAAAAAAAAyQmkAAAAAAAAAMkJpAAAAAAAAADI6pQEA+ANtmKeZODvoNp7g/wIAAMBpNqUBAAAA\n",
       "AAAAyAilAQAAAAAAAMgIpQEAAAAAAADI6JQGAAB49OwC/BZ/dQAAuIlNaQAAAAAAAAAyQmkAAAAA\n",
       "AAAAMs53AwDAlZwdZQHPfISxn2fmAADAdlH8CUoAACAASURBVDalAQAAAAAAAMgIpQEAAAAAAADI\n",
       "CKUBAAAAAAAAyOiUBgCAC+kfBfgl/uoAAMBuNqUBAAAAAAAAyAilAQAAAAAAAMg43w0AwH9zdZQF\n",
       "vued/oR9/FtGeOvneeoAAMB2NqUBAAAAAAAAyAilAQAAAAAAAMgIpQEAAAAAAADI6JQGAAB4HqWv\n",
       "AL/EPx0AAK5iUxoAAAAAAACAjFAaAAAAAAAAgIxQGgAAAAAAAICMTmkAALiQKszzzPy8z9BnmDsA\n",
       "AACH2ZQGAAAAAAAAICOUBgAAAAAAACDjfDcAAFzJfV2g4e9ynpkDAADb2ZQGAAAAAAAAICOUBgAA\n",
       "AAAAACAjlAYAAAAAAAAgo1MaAAAupH/0PDMfYOis4bEDAAC72ZQGAAAAAAAAICOUBgAAAAAAACDj\n",
       "fDcAAAAs4pA0AAAAp9mUBgAAAAAAACAjlAYAAAAAAAAgI5QGAAAAAAAAIKNTGgCAP9BAygbv9Afs\n",
       "49fCEp76BFMHAICb2JQGAAAAAAAAICOUBgAAAAAAACAjlAYAAAAAAAAgo1MaAAAu9OnCPM7E2eLT\n",
       "nw4AAMBhNqUBAAAAAAAAyAilAQAAAAAAAMg43w0AAAAQUskAAABsZ1MaAAAAAAAAgIxQGgAAAAAA\n",
       "AICMUBoAAAAAAACAjE5pAACA53k+la/nmfkMcwcAAOAwm9IAAAAAAAAAZITSAAAAAAAAAGSc7wYA\n",
       "gAu5rssO7/QHrOT/AgAAwGk2pQEAAAAAAADICKUBAAAAAAAAyAilAQAAAAAAAMjolAYAgCtpfT3N\n",
       "xAcYOkt46gAAwHY2pQEAAAAAAADICKUBAAAAAAAAyAilAQAAAAAAAMjolAYAgAvpHwUq/i8TTB0A\n",
       "ANjNpjQAAAAAAAAAGaE0AAAAAAAAABnnuwEAAJ7neZ53+gP2cdF4iLcOAADAWTalAQAAAAAAAMgI\n",
       "pQEAAAAAAADICKUBAAAAAAAAyOiUBgAAeNQbAx3/FwAAYDub0gAAAAAAAABkhNIAAAAAAAAAZJzv\n",
       "BgCAC32OvbKBZz7C2AEAADjNpjQAAAAAAAAAGaE0AAAAAAAAABmhNAAAAAAAAAAZndIAAPyBBlJ+\n",
       "n1cOVD5/mAFmDgAAN7EpDQAAAAAAAEBGKA0AAAAAAABARigNAAAAAAAAQEanNAAAwPOoH2WNz1sH\n",
       "AADgMJvSAAAAAAAAAGSE0gAAAAAAAABknO8GAIALfW5Js4FnDgAAACvYlAYAAAAAAAAgI5QGAAAA\n",
       "AAAAICOUBgAAAAAAACCjUxoAAOBRb8we3vp5n6kDAADL2ZQGAAAAAAAAICOUBgAAAAAAACDjfDcA\n",
       "AFzIodcJ7/QH7POZOQAAAGxgUxoAAAAAAACAjFAaAAAAAAAAgIxQGgAAAAAAAICMTmkAALiSVunT\n",
       "TJw9dHkDAABwlk1pAAAAAAAAADJCaQAAAAAAAAAyQmkAAAAAAAAAMjqlAQAAYBH96eeZOQAAsJ1N\n",
       "aQAAAAAAAAAyQmkAAAAAAAAAMs53AwDAhZx6ZQUPnTU8dgAAYDeb0gAAAAAAAABkhNIAAAAAAAAA\n",
       "ZITSAAAAAAAAAGR0SgMAwJX0j55m4ueZ+QxzP8/MAQCA7WxKAwAAAAAAAJARSgMAAAAAAACQcb4b\n",
       "AADgedzXnWDmM8wdAACAw2xKAwAAAAAAAJARSgMAAAAAAACQEUoDAAAAAAAAkNEpDQAAF1L5ep6Z\n",
       "Ax1/GAAAYDeb0gAAAAAAAABkhNIAAAAAAAAAZITSAAAAAAAAAGR0SgMA8Ae6MM8z8/Pe6Q9YyMwn\n",
       "+LucZ+YTTB0AAG5iUxoAAAAAAACAjFAaAAAAAAAAgIzz3QAAcCFHR1nBQx/ibDoAAABn2ZQGAAAA\n",
       "AAAAICOUBgAAAAAAACAjlAYAAAAAAAAgo1MaAADgUW/MHt76BFMHAAB2sykNAAAAAAAAQEYoDQAA\n",
       "AAAAAEDG+W4AALiSU68s4JmzhKcOAABsZ1MaAAAAAAAAgIxQGgAAAAAAAICMUBoAAAAAAACAjE5p\n",
       "AAD+mzLM44z8PDMHOv4wxxk5AABcxaY0AAAAAAAAABmhNAAAAAAAAAAZoTQAAAAAAAAAGZ3SAAAA\n",
       "z6N/lDU89fPMHAAA2M6mNAAAAAAAAAAZoTQAAAAAAAAAGee7AQDgSo69soBnPsPcAQAAOMymNAAA\n",
       "AAAAAAAZoTQAAAAAAAAAGaE0AAAAAAAAABmd0gAAcCGVr+eZ+YR3+gNW8tYnmDoAALCbTWkAAAAA\n",
       "AAAAMkJpAAAAAAAAADLOdwMAwI1ep15ZwDNnCU8dAADYzqY0AAAAAAAAABmhNAAAAAAAAAAZoTQA\n",
       "AAAAAAAAGZ3SAAAAz/N8zzv9CcCv8nsBAACWsykNAAAAAAAAQEYoDQAAAAAAAEBGKA0AAAAAAABA\n",
       "Rqc0AABc6Jv+ADjAO5+hP32C1w4AAOxmUxoAAAAAAACAjFAaAAAAAAAAgIzz3QAAcCWnXlnAM2cJ\n",
       "Tx0AANjOpjQAAAAAAAAAGaE0AAAAAAAAABmhNAAAAAAAAAAZndIAAPyBNszTTPw8Mwc6/jDnmTkA\n",
       "ANzEpjQAAAAAAAAAGaE0AAAAAAAAABnnuwEA4ErOjh5n5APe6Q9YyVMHAADgNJvSAAAAAAAAAGSE\n",
       "0gAAAAAAAABkhNIAAAAAAAAAZHRKAwAAPHp2Rxj6DHM/zsgBAIDtbEoDAAAAAAAAkBFKAwAAAAAA\n",
       "AJARSgMAAAAAAACQ0SkNAAAX0j8KVPxfJpg6AACwm01pAAAAAAAAADJCaQAAAAAAAAAyzncDAMCV\n",
       "nHplAc8cAAAAVrApDQAAAAAAAEBGKA0AAAAAAABARigNAAAAAAAAQEanNAAAwKPeGOh8/jAAAMBy\n",
       "NqUBAAAAAAAAyAilAQAAAAAAAMg43w0AABdy6nXCO/0BC5n5BH8XAAAATrMpDQAAAAAAAEBGKA0A\n",
       "AAAAAABARigNAAAAAAAAQEanNAAAwKNnd4ShD9HlDQAAwFk2pQEAAAAAAADICKUBAAAAAAAAyAil\n",
       "AQAAAAAAAMjolAYAAIBFVHmf95k6AACwnE1pAAAAAAAAADJCaQAAAAAAAAAyzncDAMCFnHodYOTH\n",
       "GTkAAADsYFMaAAAAAAAAgIxQGgAAAAAAAICMUBoAAAAAAACAjE5pAACAR7/xCEOfYe4DDB0AANjN\n",
       "pjQAAAAAAAAAGaE0AAAAAAAAABnnuwEA4EpOvQINf5fzzBwAANjOpjQAAAAAAAAAGaE0AAAAAAAA\n",
       "ABmhNAAAAAAAAAAZndIAAHAh/aPs8E5/AAAAAHCATWkAAAAAAAAAMkJpAAAAAAAAADJCaQAAAAAA\n",
       "AAAyOqUBAPgDDcf8Pq98gKGzhsd+npkDAMBNbEoDAAAAAAAAkBFKAwAAAAAAAJBxvhsAAK7k7CjQ\n",
       "8Hc5z8wBAIDtbEoDAAAAAAAAkBFKAwAAAAAAAJARSgMAAAAAAACQ0SkNAAAX0j96npkDHX8YAABg\n",
       "N5vSAAAAAAAAAGSE0gAAAAAAAABknO8GAIArOfV63jv9Aft45iOMHQAAgNNsSgMAAAAAAACQEUoD\n",
       "AAAAAAAAkBFKAwAAAAAAAJDRKQ0AAPA8inZH6PGeYe6nfX4wAADAcjalAQAAAAAAAMgIpQEAAAAA\n",
       "AADICKUBAAAAAAAAyOiUBgCAC+kfPe/Ts8sWfi8AAAAcZlMaAAAAAAAAgIxQGgAAAAAAAICM890A\n",
       "AACM+JyRHmHsAAAAnGZTGgAAAAAAAICMUBoAAAAAAACAjFAaAAAAAAAAgIxOaQAAAIDQp8kbAABY\n",
       "zqY0AAAAAAAAABmhNAAAAAAAAAAZ57sBAOBKTr2eZuIAAAAADZvSAAAAAAAAAGSE0gAAAAAAAABk\n",
       "hNIAAAAAAAAAZHRKAwDAhfQbs8L3Tn/BSv4vE0wdAADYzaY0AAAAAAAAABmhNAAAAAAAAAAZoTQA\n",
       "AAAAAAAAGZ3SAABwJf2jAL/CHx0AANjOpjQAAAAAAAAAGaE0AAAAAAAAABnnuwEAAB7ndYGSPwwA\n",
       "ALCbTWkAAAAAAAAAMkJpAAAAAAAAADJCaQAAAAAAAAAyOqUBAOBCn/7R84z8PDMfYewAAACcZlMa\n",
       "AAAAAAAAgIxQGgAAAAAAAICM890AAACPk8ZAx/8FAADYzqY0AAAAAAAAABmhNAAAAAAAAAAZoTQA\n",
       "AAAAAAAAGZ3SAAD8gTZMNninP2Cdz8xn+KUPMPTzzBwAAG5iUxoAAAAAAACAjFAaAAAAAAAAgIzz\n",
       "3QAAcKHP2VEg4mw6AAAAp9mUBgAAAAAAACAjlAYAAAAAAAAgI5QGAAAAAAAAIKNTGgAA4Hm0eE8w\n",
       "dNbw2E/7jBwAAK5iUxoAAAAAAACAjFAaAAAAAAAAgIxQGgAAAAAAAICMTmkAAP6TXsYJhg40/F3O\n",
       "M3MAAGA7m9IAAAAAAAAAZITSAAAAAAAAAGSc7wYAAGDIO/0BcIgD3gAAwG42pQEAAAAAAADICKUB\n",
       "AAAAAAAAyAilAQAAAAAAAMjolAYAgAt9+kePM/EBhg4AAAAr2JQGAAAAAAAAICOUBgAAAAAAACDj\n",
       "fDcAAMDzOCXNGp76eWYOAABsZ1MaAAAAAAAAgIxQGgAAAAAAAICMUBoAAAAAAACAjE5pAAC4kgZS\n",
       "gN/hnw4AAOxmUxoAAAAAAACAjFAaAAAAAAAAgIxQGgAAAAAAAICMTmkAALiQ9tHzzPw8Mx9i8AAA\n",
       "ABxmUxoAAAAAAACAjFAaAAAAAAAAgIzz3QAAAMz43ukvWMn17gmmDgAA7GZTGgAAAAAAAICMUBoA\n",
       "AAAAAACAjFAaAAAAAAAAgIxOaQAAuJL+UYBf4Y8OAABsZ1MaAAAAAAAAgIxQGgAAAAAAAICM890A\n",
       "AACP87pAyR8GAADYzaY0AAAAAAAAABmhNAAAAAAAAAAZoTQAAAAAAAAAGZ3SAABwoU//6IB3+gP2\n",
       "8cxHGDsAAACn2ZQGAAAAAAAAICOUBgAAAAAAACAjlAYAAAAAAAAgo1MaAAAAVtGffpoebwAAYDub\n",
       "0gAAAAAAAABkhNIAAAAAAAAAZJzvBgCAKzn2epqJT3BGmi38YQAAgN1sSgMAAAAAAACQEUoDAAAA\n",
       "AAAAkBFKAwAAAAAAAJDRKQ0AAPA8Kl9Zw1MHAADgNJvSAAAAAAAAAGSE0gAAAAAAAABknO8GAIAL\n",
       "Oa/LBp+HPsPcBxj6eWYOAAA3sSkNAAAAAAAAQEYoDQAAAAAAAEBGKA0AAAAAAABARqc0AAB/oJfx\n",
       "PDM/zcSBiv8LAACwnU1pAAAAAAAAADJCaQAAAAAAAAAyQmkAAAAAAAAAMjqlAQAAGPJOf8BK+o0n\n",
       "mDoAALCbTWkAAAAAAAAAMkJpAAAAAAAAADLOdwMAwI0+p14BAAAA+A02pQEAAAAAAADICKUBAAAA\n",
       "AAAAyAilAQAAAAAAAMjolAYAgAtplD7PzAcYOmt47AAAwG42pQEAAAAAAADICKUBAAAAAAAAyDjf\n",
       "DQAAV3LqFWj4u5z3GToAALCcTWkAAAAAAAAAMkJpAAAAAAAAADJCaQAAAAAAAAAyQmkAAAAAAAAA\n",
       "MkJpAAAAAAAAADJCaQAAAAAAAAAyQmkAAAAAAAAAMv9MfwAAAMANvm/6C/b5vnf6E+AQPxgAAGA3\n",
       "m9IAAAAAAAAAZITSAAAAAAAAAGSc7wYAgAt9Tr0CEafqAQAAOM2mNAAAAAAAAAAZoTQAAAAAAAAA\n",
       "GaE0AAAAAAAAABmd0gAAAM/zPM87/QHAj/oeRd4AAMBuNqUBAAAAAAAAyAilAQAAAAAAAMg43w0A\n",
       "AFdy6vU0E2cPp+oBAAA4y6Y0AAAAAAAAABmhNAAAAAAAAAAZoTQAAAAAAAAAGZ3SAAAAzPh0G0/Q\n",
       "nz7B1AEAgN1sSgMAAAAAAACQEUoDAAAAAAAAkBFKAwAAAAAAAJDRKQ0AABf69I8CAAAA8CNsSgMA\n",
       "AAAAAACQEUoDAAAAAAAAkHG+GwAA4HkcTB9g5gAAALCDTWkAAAAAAAAAMkJpAAAAAAAAADJCaQAA\n",
       "AAAAAAAyOqUBAABgEV3e532mDgAALGdTGgAAAAAAAICMUBoAAAAAAACAjPPdAABwJadejzPyAe/0\n",
       "BwAAAAAH2JQGAAAAAAAAICOUBgAAAAAAACAjlAYAAAAAAAAgo1MaAAAupN74PDMfYOgzzH2AoQMA\n",
       "ALvZlAYAAAAAAAAgI5QGAAAAAAAAICOUBgAAAAAAACCjUxoAAK6kfxQAAACA32BTGgAAAAAAAICM\n",
       "UBoAAAAAAACAjPPdAAAAsIhygPM+Ux9g5gAAcBOb0gAAAAAAAABkhNIAAAAAAAAAZITSAAAAAAAA\n",
       "AGR0SgMAwJV0YZ5m4gAAAAANm9IAAAAAAAAAZITSAAAAAAAAAGSc7wYA4A8cNgb+/77vnf4EAAAA\n",
       "4ACb0gAAAAAAAABkhNIAAAAAAAAAZITSAAAAAAAAAGR0SgMAwIW0eAMV/5cJpg4AAOxmUxoAAAAA\n",
       "AACAjFAaAAAAAAAAgIxQGgAAAAAAAICMTmkAALiS/lEAAAAAfoNNaQAAAAAAAAAyQmkAAAAAAAAA\n",
       "Ms53AwAAPM/zfe/0JwA/6lPJAAAALGdTGgAAAAAAAICMUBoAAAAAAACAjFAaAAAAAAAAgIxOaQAA\n",
       "uJL+URbQ4z1CfzoAAACn2ZQGAAAAAAAAICOUBgAAAAAAACAjlAYAAAAAAAAgI5QGAAAAAAAAICOU\n",
       "BgAAAAAAACAjlAYAAAAAAAAg88/0BwAAAP/2TX/AQmZ+npmzh9cOAADsZlMaAAAAAAAAgIxQGgAA\n",
       "AAAAAICMUBoAAAAAAACAjE5pAAC4kv5RoOHvcp6ZAwAA29mUBgAAAAAAACAjlAYAAAAAAAAg43w3\n",
       "AAAAM753+gvgEAe8AQCA3WxKAwAAAAAAAJARSgMAAAAAAACQEUoDAAAAAAAAkNEpDQAAV9I/epqJ\n",
       "AwAAADRsSgMAAAAAAACQEUoDAAAAAAAAkBFKAwAAAAAAAJARSgMAAAAAAACQEUoDAAAAAAAAkBFK\n",
       "AwAAAAAAAJD5Z/oDAACAf/ue73/t3VGqBckNRMG6MPvfcnsDBs+HT6l4ilhBIZr+SaScfsI+Rs4S\n",
       "PvUJpg4AAOxmUxoAAAAAAACAjFAaAAAAAAAAgIxQGgAAAAAAAICMTmkAAHiR+tHrjPy+7/ymnwBX\n",
       "+L8AAADb2ZQGAAAAAAAAICOUBgAAAAAAACDjfDcAAAAz3DSeYe4DDB0AANjNpjQAAAAAAAAAGaE0\n",
       "AAAAAAAAABmhNAAAAAAAAAAZndIAAPAk/aNAw99lgKEDAADL2ZQGAAAAAAAAICOUBgAAAAAAACDj\n",
       "fDcAAABAyv1uAABgN5vSAAAAAAAAAGSE0gAAAAAAAABkhNIAAAAAAAAAZHRKAwDAgz79o9eZOMAf\n",
       "4qcOAABPsSkNAAAAAAAAQEYoDQAAAAAAAEBGKA0AAAAAAABARqc0AADAOeec3/QD1vnMfISqXQAA\n",
       "AG6zKQ0AAAAAAABARigNAAAAAAAAQMb5bgAA/je3XoGCfwtLfD52AABgOZvSAAAAAAAAAGSE0gAA\n",
       "AAAAAABkhNIAAAAAAAAAZHRKAwDAk/SP3vYZOWv8ph8AAADAMjalAQAAAAAAAMgIpQEAAAAAAADI\n",
       "ON8NAAAAkNIPcJ+ZAwDAS2xKAwAAAAAAAJARSgMAAAAAAACQEUoDAAAAAAAAkNEpDQAAT9KFyQa/\n",
       "6Qes9Pm9AAAAcJlNaQAAAAAAAAAyQmkAAAAAAAAAMkJpAAAAAAAAADI6pQEA+BcUkN5m4gAAAAD8\n",
       "FTalAQAAAAAAAMgIpQEAAAAAAADION8NAABwnEyf8Bk6S3z+MAAAwHI2pQEAAAAAAADICKUBAAAA\n",
       "AAAAyAilAQAAAAAAAMjolAYAgCfpHwUa/i4AAADcZlMaAAAAAAAAgIxQGgAAAAAAAICM890AAAAM\n",
       "+U0/AAAAALjApjQAAAAAAAAAGaE0AAAAAAAAABmhNAAAAAAAAAAZndIAAPCkb/oB65g40PGHAQAA\n",
       "drMpDQAAAAAAAEBGKA0AAAAAAABARigNAAAAAAAAQEanNAAAADPU7AIAAMAKNqUBAAAAAAAAyAil\n",
       "AQAAAAAAAMg43w0AAA9y1XiAoV9n5DPMfYKpAwAAu9mUBgAAAAAAACAjlAYAAAAAAAAgI5QGAAAA\n",
       "AAAAIKNTGgAAnqR/lA1+0w/Yye/lOiMHAAC2sykNAAAAAAAAQEYoDQAAAAAAAEDG+W4AAIDjvC4A\n",
       "AABAxaY0AAAAAAAAABmhNAAAAAAAAAAZoTQAAAAAAAAAGZ3SAAAAsIj+9AmmDgAA7GZTGgAAAAAA\n",
       "AICMUBoAAAAAAACAjFAaAAAAAAAAgIxOaQAAeNGnf/S+3/QD9vGZAwAAwAo2pQEAAAAAAADICKUB\n",
       "AAAAAAAAyDjfDQAAcFySnvA5mT7E3K9TyQAAACxnUxoAAAAAAACAjFAaAAAAAAAAgIxQGgAAAAAA\n",
       "AICMTmkAAHjQp+EYAAAAgD/CpjQAAAAAAAAAGaE0AAAAAAAAABnnuwEAAGAR5QAAAADcZlMaAAAA\n",
       "AAAAgIxQGgAAAAAAAICMUBoAAAAAAACAjE5pAACAcxTtApnPDwYAAFjOpjQAAAAAAAAAGaE0AAAA\n",
       "AAAAABmhNAAAAAAAAAAZndIAAPAk/aO3mfiE3/QDAAAAgAtsSgMAAAAAAACQEUoDAAAAAAAAkHG+\n",
       "GwAAgBGfm+kjzB0AAIDbbEoDAAAAAAAAkBFKAwAAAAAAAJARSgMAAAAAAACQ0SkNAAAAkFLkDQAA\n",
       "7GZTGgAAAAAAAICMUBoAAAAAAACAjPPdAADwJKdebzNxAAAAgIZNaQAAAAAAAAAyQmkAAAAAAAAA\n",
       "MkJpAAAAAAAAADI6pQEA4EH6jdnhN/0AuMRfHQAA2M2mNAAAAAAAAAAZoTQAAAAAAAAAGaE0AAAA\n",
       "AAAAABmd0gAA8CT9o0DD3wUAAIDbbEoDAAAAAAAAkBFKAwAAAAAAAJBxvhsAAIARnzvSLOFTBwAA\n",
       "trMpDQAAAAAAAEBGKA0AAAAAAABARigNAAAAAAAAQEanNAAAwNH5CpT8YQAAgN1sSgMAAAAAAACQ\n",
       "EUoDAAAAAAAAkHG+GwAAnuTU63VGPuA3/QAAAADgApvSAAAAAAAAAGSE0gAAAAAAAABkhNIAAAAA\n",
       "AAAAZHRKAwAAnHP0G7PFpz8dAACAy2xKAwAAAAAAAJARSgMAAAAAAACQcb4bAACAEa5Is4evHQAA\n",
       "2M2mNAAAAAAAAAAZoTQAAAAAAAAAGaE0AAAAAAAAABmd0gAA8KBP/+h1Jj7A0If8ph8AAADAMjal\n",
       "AQAAAAAAAMgIpQEAAAAAAADICKUBAAAAAAAAyOiUBgCAF+naZQXdxhP8XtjBlw4AAC+xKQ0AAAAA\n",
       "AABARigNAAAAAAAAQMb5bgAAAIDQ9zklDQAA7GZTGgAAAAAAAICMUBoAAAAAAACAjFAaAAAAAAAA\n",
       "gIxOaQAAeJL+0dtMHAAAAKBhUxoAAAAAAACAjFAaAAAAAAAAgIzz3QAA/AsOGwP/f/4sAAAAsINN\n",
       "aQAAAAAAAAAyQmkAAAAAAAAAMkJpAAAAAAAAADI6pQEAAM5RcDziN/2AlXzqE0wdAADYzaY0AAAA\n",
       "AAAAABmhNAAAAAAAAAAZoTQAAAAAAAAAGZ3SAADwJP2jLOAzBwAAgBVsSgMAAAAAAACQEUoDAAAA\n",
       "AAAAkHG+GwAA4LgkzSI+dgAAAC6zKQ0AAAAAAABARigNAAAAAAAAQEYoDQAAAAAAAEBGpzQAAAAj\n",
       "vvObfgJcosgbAADYzaY0AAAAAAAAABmhNAAAAAAAAAAZ57sBAOBBn1OvQMTfBQAAgNtsSgMAAAAA\n",
       "AACQEUoDAAAAAAAAkBFKAwAAAAAAAJDRKQ0AAAAQ+jR5AwAAy9mUBgAAAAAAACAjlAYAAAAAAAAg\n",
       "I5QGAAAAAAAAIKNTGgAA4ByNrxMMHQAAAFawKQ0AAAAAAABARigNAAAAAAAAQMb5bgAAeJK7xvx9\n",
       "3/lNP2ElfxcAAABusykNAAAAAAAAQEYoDQAAAAAAAEBGKA0AAAAAAABARqc0AADAOed8+o2BiiZv\n",
       "AABgN5vSAAAAAAAAAGSE0gAAAAAAAABknO8GAACAVZyqBwAA4C6b0gAAAAAAAABkhNIAAAAAAAAA\n",
       "ZITSAAAAAAAAAGR0SgMAwJO+6QesY+Ks4WMHAADgMpvSAAAAAAAAAGSE0gAAAAAAAABkhNIAAAAA\n",
       "AAAAZHRKAwDAi3S+ssB3ftNPWMnvZYKpAwAAu9mUBgAAAAAAACAjlAYAAAAAAAAg43w3AAAAM1w0\n",
       "BgAAgBVsSgMAAAAAAACQEUoDAAAAAAAAkBFKAwAAAAAAAJDRKQ0AAA/6lO1eZ+JAxg8GAABYzqY0\n",
       "AAAAAAAAABmhNAAAAAAAAAAZ57sBAAAY8Z3f9BPgEve7AQCA3WxKAwAAAAAAAJARSgMAAAAAAACQ\n",
       "EUoDAAAAAAAAkNEpDQAAAItoN77PzAEAgO1sSgMAAAAAAACQEUoDAAAAAAAAkBFKAwAAAAAAAJDR\n",
       "KQ0AAE/SQAoAAADA32BTGgAAAAAAAICMUBoAAAAAAACAjPPdAAAA55zPxfT7zBwAAABWsCkNAAAA\n",
       "AAAAQEYoDQAAAAAAAEBGKA0AAAAAAABARqc0AAAAI77zm37CTrq8Bxg6AACwm01pAAAAAAAAADJC\n",
       "aQAAAAAAAAAyzncDAMCTnHoFGv4uAAAA3GZTGgAAAAAAAICMUBoAAAAAAACAjFAaAAAAAAAAgIxQ\n",
       "GgAAAAAAAICMUBoAAAAAAACAjFAaAAAAAAAAgIxQGgAAAAAAAIDMP9MPAAAAeME3/YCVftMPgEv8\n",
       "YQAAgN1sSgMAAAAAAACQEUoDAAAAAAAAkHG+GwAAnuTU631OSd/mKwcAAIAdbEoDAAAAAAAAkBFK\n",
       "AwAAAAAAAJARSgMAAAAAAACQ0SkNAAAP0rXLCj70EZ/+dAAAAC6zKQ0AAAAAAABARigNAAAAAAAA\n",
       "QMb5bgAAAICUW/UAAMBuNqUBAAAA7Z23LgAACAVJREFUAAAAyAilAQAAAAAAAMgIpQEAAAAAAADI\n",
       "6JQGAIAn6R+97TPy677zm34CXOH3AgAAbGdTGgAAAAAAAICMUBoAAAAAAACAjFAaAAAAAAAAgIxO\n",
       "aQAAeJECUiDi9wIAAMBtNqUBAAAAAAAAyAilAQAAAAAAAMg43w0AAACbuN89wNABAIDdbEoDAAAA\n",
       "AAAAkBFKAwAAAAAAAJARSgMAAAAAAACQ0SkNAADAiO/8pp8Ad6iUBgAAlrMpDQAAAAAAAEBGKA0A\n",
       "AAAAAABAxvluAAB4kluvt5n4AEMHAACAFWxKAwAAAAAAAJARSgMAAAAAAACQEUoDAAAAAAAAkNEp\n",
       "DQAAAIuo8p5g6gAAwG42pQEAAAAAAADICKUBAAAAAAAAyAilAQAAAAAAAMgIpQEAAAAAAADICKUB\n",
       "AAAAAAAAyAilAQAAAAAAAMj8M/0AAADgv/mmHwC57/ymnwAAAABcYFMaAAAAAAAAgIxQGgAAAAAA\n",
       "AICMUBoAAAAAAACAjE5pAACAc86nxhsAAAAgYVMaAAAAAAAAgIxQGgAAAAAAAICM890AAADMcDJ9\n",
       "hLFPMHUAAGA3m9IAAAAAAAAAZITSAAAAAAAAAGSE0gAAAAAAAABkdEoDAMCT9I/e95t+wDqfmc/w\n",
       "ewEAAOAym9IAAAAAAAAAZITSAAAAAAAAAGSE0gAAAAAAAABkdEoDAMCDVL7eZ+bsocsbAACAu2xK\n",
       "AwAAAAAAAJARSgMAAAAAAACQcb4bAAAAIKUg4D4zBwCAl9iUBgAAAAAAACAjlAYAAAAAAAAgI5QG\n",
       "AAAAAAAAIKNTGgAAgBEaX2eY+31mDgAAbGdTGgAAAAAAAICMUBoAAAAAAACAjPPdAADwJMde2eA3\n",
       "/QAAAADgApvSAAAAAAAAAGSE0gAAAAAAAABkhNIAAAAAAAAAZHRKAwAAHC3eIwwdAAAAVrApDQAA\n",
       "AAAAAEBGKA0AAAAAAABARigNAAAAAAAAQEanNAAAvEjXLgv4zNnD1w4AAOxmUxoAAAAAAACAjFAa\n",
       "AAAAAAAAgIzz3QAA8CSnXq8z8gG/6Qes5FMHAADgNpvSAAAAAAAAAGSE0gAAAAAAAABkhNIAAAAA\n",
       "AAAAZHRKAwDwL2ggBfgz/NLvM3MAAGA5m9IAAAAAAAAAZITSAAAAAAAAAGSc7wYAADiu604wc/bw\n",
       "tQMAALvZlAYAAAAAAAAgI5QGAAAAAAAAICOUBgAAAAAAACCjUxoAAIAhv+kHAAAAABfYlAYAAAAA\n",
       "AAAgI5QGAAAAAAAAICOUBgAAAAAAACCjUxoAAJ70TT8Aej7zEcYOAADAbTalAQAAAAAAAMgIpQEA\n",
       "AAAAAADION8NAABwzjnnN/2AdZyRBgAAgB1sSgMAAAAAAACQEUoDAAAAAAAAkBFKAwAAAAAAAJDR\n",
       "KQ0AAHD0G8/Q480W/jAAAMBuNqUBAAAAAAAAyAilAQAAAAAAAMg43w0AAMAIB41nfM6mAwAAcJlN\n",
       "aQAAAAAAAAAyQmkAAAAAAAAAMkJpAAAAAAAAADI6pQEA4Enadq8zcgAAAICETWkAAAAAAAAAMkJp\n",
       "AAAAAAAAADJCaQAAAAAAAAAyOqUBAABgE/3pAAAAXGZTGgAAAAAAAICMUBoAAAAAAACAjPPdAAAA\n",
       "x0XjCd/3m34CXOIPAwAA7GZTGgAAAAAAAICMUBoAAAAAAACAjFAaAAAAAAAAgIxOaQAAeNCnfxSI\n",
       "+LsAAABwm01pAAAAAAAAADJCaQAAAAAAAAAyQmkAAAAAAAAAMkJpAAAAAAAAADJCaQAAAAAAAAAy\n",
       "QmkAAAAAAAAAMv9MPwAAAOAF3/QDFvrOb/oJcMXnDwMAACxnUxoAAAAAAACAjFAaAAAAAAAAgIxQ\n",
       "GgAAAAAAAICMTmkAAHiR+lEAAAAA/gib0gAAAAAAAABkhNIAAAAAAAAAZJzvBgCAJ7nfzd/nK59h\n",
       "7gAAANxmUxoAAAAAAACAjFAaAAAAAAAAgIxQGgAAAAAAAICMTmkAAIBzFO1O+H7TL4A7/F8AAIDl\n",
       "bEoDAAAAAAAAkBFKAwAAAAAAAJBxvhsAAOCc8x2npFnCKekBhg4AAOxmUxoAAAAAAACAjFAaAAAA\n",
       "AAAAgIxQGgAAAAAAAICMTmkAAABGaNkFAACAHWxKAwAAAAAAAJARSgMAAAAAAACQEUoDAAAAAAAA\n",
       "kNEpDQAAT9K2ywa/6Qes9Jk7AAAAl9mUBgAAAAAAACAjlAYAAAAAAAAg43w3AAAAIxypBwAAgB1s\n",
       "SgMAAAAAAACQEUoDAAAAAAAAkBFKAwAAAAAAAJDRKQ0AAHD0GwMlfxgAAGA3m9IAAAAAAAAAZITS\n",
       "AAAAAAAAAGSc7wYAAGCGi8YjjJ0VfOgAAPAUm9IAAAAAAAAAZITSAAAAAAAAAGSE0gAAAAAAAABk\n",
       "dEoDAMCTlGFeZ+TXfec3/QQAAADgApvSAAAAAAAAAGSE0gAAAAAAAABkhNIAAAAAAAAAZITSAAAA\n",
       "AAAAAGSE0gAAAAAAAABkhNIAAAAAAAAAZP6ZfgAAAMALvukHLGTmQwx+gKEDAAC72ZQGAAAAAAAA\n",
       "ICOUBgAAAAAAACAjlAYAAAAAAAAgo1MaAACAIb/pB6yk3RgAAIDbbEoDAAAAAAAAkBFKAwAAAAAA\n",
       "AJBxvhsAAJ7kwC5/n68cAAAAdrApDQAAAAAAAEBGKA0AAAAAAABARigNAAAAAAAAQEanNAAAwNFv\n",
       "PMLQAQAAYAWb0gAAAAAAAABkhNIAAAAAAAAAZP4DGuaIWmxUabMAAAAASUVORK5CYII=\n",
       "\" transform=\"translate(156, 47)\"/>\n",
       "</g>\n",
       "<defs>\n",
       "  <clipPath id=\"clip913\">\n",
       "    <rect x=\"2160\" y=\"47\" width=\"73\" height=\"1440\"/>\n",
       "  </clipPath>\n",
       "</defs>\n",
       "<g clip-path=\"url(#clip913)\">\n",
       "<image width=\"72\" height=\"1439\" xlink:href=\"data:image/png;base64,\n",
       "iVBORw0KGgoAAAANSUhEUgAAAEgAAAWfCAYAAAAI7rB3AAAMSElEQVR4nO3d0YkbQRRFwZF5UTp/\n",
       "cA6G7XYEfudT81EVwXK4SHSPpP38+fv7PvzXr2//AW8nUBAoCBQECvM53sQ2FhQECgIFgYJAwbtY\n",
       "sKAgUBAoCBTmc71IbywoCBQECgIFgYKjRrCgIFAQKAgUBArznG//Ce9mQUGgIFAQKLgwCxYUBAoC\n",
       "BYGCQMGFWbCgIFAQKAgUvEgHCwoCBYGCQEGgMI93sZUFBYGCQEGgIFDw2CdYUBAoCBQECo4awYKC\n",
       "QEGgIFAQKHjsEywoCBQECgIFgYILs2BBQaAgUBAouDALFhQECgIFgYJAYT6+N7+yoCBQECgIFOZx\n",
       "H7SyoCBQECgIFAQKns0HCwoCBYGCQEGg4LFPsKAgUBAoCBR8gCpYUBAoCBQECgIFR41gQUGgIFAQ\n",
       "KAgUfMIsWFAQKAgUBAo+YRYsKAgUBAoCBYGCT5gFCwoCBYGCQMFTjWBBQaAgUBAoCBTm8Sa2sqAg\n",
       "UBAoCBQECi7MggUFgYJAQaDgwixYUBAoCBQECgKF+XgTW1lQECgIFAQKAgVnsWBBQaAgUBAoeJEO\n",
       "FhQECgIFgYJAwYVZsKAgUBAoCBQcNYIFBYGCQEGgIFCYx090rSwoCBQECgIFgYLfMAsWFAQKAgWB\n",
       "gl8DDhYUBAoCBYGCQMFjn2BBQaAgUBAo+ImuYEFBoCBQECgIFDybDxYUBAoCBYGCQMGFWbCgIFAQ\n",
       "KAgUfOMwWFAQKAgUBAoCBRdmwYKCQEGgIFAQKPgyS7CgIFAQKAgUHDWCBQWBgkBBoCBQ8C4WLCgI\n",
       "FAQKAgVfZgkWFAQKAgWBgkDBUSNYUBAoCBQECgIFZ7FgQUGgIFAQKDhqBAsKAgWBgkBBoOBdLFhQ\n",
       "ECgIFAQKAgUXZsGCgkBBoCBQcNQIFhQECgIFgYJAwVEjWFAQKAgUBAqOGsGCgkBBoCBQECjMcz/f\n",
       "/htezYKCQEGgIFAQKDiLBQsKAgWBgkDBi3SwoCBQECgIFAQKc12YrSwoCBQECgIFgYKzWLCgIFAQ\n",
       "KAgUfAw4WFAQKAgUBAoChXmOC7ONBQWBgkBBoOCoESwoCBQECgIFgcJcR42VBQWBgkBBoCBQ8JXM\n",
       "YEFBoCBQECi4MAsWFAQKAgWBgkDBhVmwoCBQECgIFNwHBQsKAgWBgkBBoOCoESwoCBQECgIFgYKz\n",
       "WLCgIFAQKAgU5no2v7KgIFAQKAgUBAq+Nx8sKAgUBAoCBYGCn0sOFhQECgIFgYKnGsGCgkBBoCBQ\n",
       "ECj4hFmwoCBQECgIFNwHBQsKAgWBgkBBoODCLFhQECgIFAQKAgVnsWBBQaAgUBAozD0abdQJAgWB\n",
       "gkBBoODCLFhQECgIFAQKAgUXZsGCgkBBoCBQ8CIdLCgIFAQKAgWBgnexYEFBoCBQECh4kQ4WFAQK\n",
       "AgWBgkBh7tVoo04QKAgUBAoCBWexYEFBoCBQECh4kQ4WFAQKAgWBgkDBu1iwoCBQECgIFAQKHvsE\n",
       "dYJAQaAgUHDUCBYUBAoCBYGCQMG7WLCgIFAQKAgU5j5epDcWFAQKAgWBgkBhjqcaK3WCQEGgIFAQ\n",
       "KLgwCxYUBAoCBYGCF+lgQUGgIFAQKAgUvIsFCwoCBYGCQEGgMEejlTpBoCBQECg4agQLCgIFgYJA\n",
       "QaDgXSxYUBAoCBQECr7MEiwoCBQECgIFgcIcR42VBQWBgkBBoCBQcGEWLCgIFAQKAgUfoArqBIGC\n",
       "QEGgIFBw1AgWFAQKAgWBgmfzwYKCQEGgIFAQKHg2HywoCBQECgIFgYILs2BBQaAgUBAozHFhtrKg\n",
       "IFAQKAgUBAqOGsGCgkBBoCBQECj48EKwoCBQECgIFDybDxYUBAoCBYGCQMFRI1hQECgIFAQKjhrB\n",
       "goJAQaAgUBAoOGoECwoCBYGCQEGg4CwWLCgIFAQKAgVHjWBBQaAgUBAoCBTm3G//Ce9mQUGgIFAQ\n",
       "KAgUnMWCBQWBgkBBoOCpRrCgIFAQKAgUBAqOGsGCgkBBoCBQcNQIFhQECgIFgYJAYTya31lQECgI\n",
       "FAQKAgVnsWBBQaAgUBAoeKoRLCgIFAQKAgWBgv8vFiwoCBQECgIFgcJcz31WFhQECgIFgYKjRrCg\n",
       "IFAQKAgUBAr+lXGwoCBQECgIFOZ8+y94OQsKAgWBgkBBoOCoESwoCBQECgIFgYKzWLCgIFAQKAgU\n",
       "HDWCBQWBgkBBoCBQcNQIFhQECgIFgYLvzQcLCgIFgYJAQaDgJ7qCBQWBgkBBoCBQ8HPJwYKCQEGg\n",
       "IFDw/+aDBQWBgkBBoCBQ8NgnWFAQKAgUBAoCBWexYEFBoCBQECg4agQLCgIFgYJAQaDgqBEsKAgU\n",
       "BAoCBUeNYEFBoCBQECgIFBw1ggUFgYJAQaAgUPBllmBBQaAgUBAo+N58sKAgUBAoCBQECo4awYKC\n",
       "QEGgIFAQKPjR/2BBQaAgUBAo+E37YEFBoCBQECgIFOa6MVtZUBAoCBQECnN8mWVlQUGgIFAQKAgU\n",
       "HDWCBQWBgkBBoCBQ8NgnWFAQKAgUBAo+QBUsKAgUBAoCBYGCL7MECwoCBYGCQEGg4DfMggUFgYJA\n",
       "QaDg55KDBQWBgkBBoCBQcNQIFhQECgIFgYKnGsGCgkBBoCBQECj4hFmwoCBQECgIFAQKvswSLCgI\n",
       "FAQKAgXfmw8WFAQKAgWBgkDBu1iwoCBQECgIFPzQZLCgIFAQKAgUBAqOGsGCgkBBoCBQECj4nHSw\n",
       "oCBQECgIFOb4GPDKgoJAQaAgUBAoOGoECwoCBYGCQEGg4LFPsKAgUBAoCBRcmAULCgIFgYJAQaDg\n",
       "wixYUBAoCBQECn6iK1hQECgIFAQKAgU/0RUsKAgUBAoCBYGCZ/PBgoJAQaAgUPBsPlhQECgIFAQK\n",
       "AgXP5oMFBYGCQEGgIFBwYRYsKAgUBAoCBRdmwYKCQEGgIFAQKLgwCxYUBAoCBYGCL7MECwoCBYGC\n",
       "QEGgMMdZY2VBQaAgUBAoCBTm+i+ZKwsKAgWBgkDBB6iCBQWBgkBBoCBQmOOosbKgIFAQKAgUBArO\n",
       "YsGCgkBBoCBQ8GWWYEFBoCBQECgIFBw1ggUFgYJAQaDgA1TBgoJAQaAgUBAo+DJLsKAgUBAoCBQE\n",
       "Cn5YIFhQECgIFAQK/glksKAgUBAoCBQECo4awYKCQEGgIFAQKHjsEywoCBQECgIFnzALFhQECgIF\n",
       "gYJAwVEjWFAQKAgUBAq+cRgsKAgUBAoCBYGCH5oMFhQECgIFgYJAwYVZsKAgUBAoCBR8DDhYUBAo\n",
       "CBQECgIFX8kMFhQECgIFgYLftA8WFAQKAgWBgkBhPNTYWVAQKAgUBAoCBc/mgwUFgYJAQaDgqUaw\n",
       "oCBQECgIFAQKjhrBgoJAQaAgUBAoOIsFCwoCBYGCQMFRI1hQECgIFAQKAgVHjWBBQaAgUBAozHmc\n",
       "NTYWFAQKAgWBgkDBu1iwoCBQECgIFAQKLsyCBQWBgkBBoDDnepneWFAQKAgUBAoChflxYbayoCBQ\n",
       "ECgIFAQKcz7exTYWFAQKAgWBwpzHhdnGgoJAQaAgUBAozI93sZUFBYGCQEGg4KgRLCgIFAQKAgWB\n",
       "gnexYEFBoCBQECgIFOY8P9/+G17NgoJAQaAgUHDUCBYUBAoCBYGCQMFRI1hQECgIFAQKAgXvYsGC\n",
       "gkBBoCBQcGEWLCgIFAQKAgWBgqNGsKAgUBAoCBTmepFeWVAQKAgUBAoCBRdmwYKCQEGgIFAQKLgw\n",
       "CxYUBAoCBYGCC7NgQUGgIFAQKAgU5vr/YisLCgIFgYJAwX1QsKAgUBAoCBQECi7MggUFgYJAQaAg\n",
       "UJjrE2YrCwoCBYGCQGHuddTYWFAQKAgUBAoCBUeNYEFBoCBQECgIFJzFggUFgYJAQaDgqBEsKAgU\n",
       "BAoCBYGCT5gFCwoCBYGCQME3DoMFBYGCQEGgIFCYx1FjZUFBoCBQECgIFJzFggUFgYJAQaDg2Xyw\n",
       "oCBQECgIFAQK8zhqrCwoCBQECgIFgYIvswQLCgIFgYJAYR4XZisLCgIFgYJAQaDg2XywoCBQECgI\n",
       "FBw1ggUFgYJAQaAgUPBsPlhQECgIFAQKAgW//hIsKAgUBAoCBUeNYEFBoCBQECgIFLyLBQsKAgWB\n",
       "gkBBoODDC8GCgkBBoCBQcNQIFhQECgIFgYJAwZdZggUFgYJAQaDgPihYUBAoCBQECgKFee799t/w\n",
       "ahYUBAoCBYGCQMFjn2BBQaAgUBAoeJEOFhQECgIFgYJAwf8XCxYUBAoCBYHCPw4XtqNLIUM4AAAA\n",
       "AElFTkSuQmCC\n",
       "\" transform=\"translate(2161, 47)\"/>\n",
       "</g>\n",
       "<path clip-path=\"url(#clip910)\" d=\"M2269.43 1496.16 L2277.07 1496.16 L2277.07 1469.8 L2268.76 1471.46 L2268.76 1467.21 L2277.02 1465.54 L2281.7 1465.54 L2281.7 1496.16 L2289.33 1496.16 L2289.33 1500.1 L2269.43 1500.1 L2269.43 1496.16 Z\" fill=\"#000000\" fill-rule=\"nonzero\" fill-opacity=\"1\" /><path clip-path=\"url(#clip910)\" d=\"M2298.78 1494.22 L2303.66 1494.22 L2303.66 1500.1 L2298.78 1500.1 L2298.78 1494.22 Z\" fill=\"#000000\" fill-rule=\"nonzero\" fill-opacity=\"1\" /><path clip-path=\"url(#clip910)\" d=\"M2323.85 1468.62 Q2320.24 1468.62 2318.41 1472.18 Q2316.6 1475.72 2316.6 1482.85 Q2316.6 1489.96 2318.41 1493.53 Q2320.24 1497.07 2323.85 1497.07 Q2327.48 1497.07 2329.29 1493.53 Q2331.12 1489.96 2331.12 1482.85 Q2331.12 1475.72 2329.29 1472.18 Q2327.48 1468.62 2323.85 1468.62 M2323.85 1464.91 Q2329.66 1464.91 2332.71 1469.52 Q2335.79 1474.1 2335.79 1482.85 Q2335.79 1491.58 2332.71 1496.19 Q2329.66 1500.77 2323.85 1500.77 Q2318.04 1500.77 2314.96 1496.19 Q2311.9 1491.58 2311.9 1482.85 Q2311.9 1474.1 2314.96 1469.52 Q2318.04 1464.91 2323.85 1464.91 Z\" fill=\"#000000\" fill-rule=\"nonzero\" fill-opacity=\"1\" /><path clip-path=\"url(#clip910)\" d=\"M2354.01 1468.62 Q2350.4 1468.62 2348.57 1472.18 Q2346.76 1475.72 2346.76 1482.85 Q2346.76 1489.96 2348.57 1493.53 Q2350.4 1497.07 2354.01 1497.07 Q2357.64 1497.07 2359.45 1493.53 Q2361.28 1489.96 2361.28 1482.85 Q2361.28 1475.72 2359.45 1472.18 Q2357.64 1468.62 2354.01 1468.62 M2354.01 1464.91 Q2359.82 1464.91 2362.88 1469.52 Q2365.95 1474.1 2365.95 1482.85 Q2365.95 1491.58 2362.88 1496.19 Q2359.82 1500.77 2354.01 1500.77 Q2348.2 1500.77 2345.12 1496.19 Q2342.07 1491.58 2342.07 1482.85 Q2342.07 1474.1 2345.12 1469.52 Q2348.2 1464.91 2354.01 1464.91 Z\" fill=\"#000000\" fill-rule=\"nonzero\" fill-opacity=\"1\" /><path clip-path=\"url(#clip910)\" d=\"M2269.43 1291.56 L2277.07 1291.56 L2277.07 1265.2 L2268.76 1266.86 L2268.76 1262.6 L2277.02 1260.94 L2281.7 1260.94 L2281.7 1291.56 L2289.33 1291.56 L2289.33 1295.5 L2269.43 1295.5 L2269.43 1291.56 Z\" fill=\"#000000\" fill-rule=\"nonzero\" fill-opacity=\"1\" /><path clip-path=\"url(#clip910)\" d=\"M2298.78 1289.62 L2303.66 1289.62 L2303.66 1295.5 L2298.78 1295.5 L2298.78 1289.62 Z\" fill=\"#000000\" fill-rule=\"nonzero\" fill-opacity=\"1\" /><path clip-path=\"url(#clip910)\" d=\"M2317.88 1291.56 L2334.2 1291.56 L2334.2 1295.5 L2312.25 1295.5 L2312.25 1291.56 Q2314.91 1288.81 2319.5 1284.18 Q2324.1 1279.53 2325.28 1278.18 Q2327.53 1275.66 2328.41 1273.92 Q2329.31 1272.16 2329.31 1270.47 Q2329.31 1267.72 2327.37 1265.98 Q2325.45 1264.25 2322.34 1264.25 Q2320.14 1264.25 2317.69 1265.01 Q2315.26 1265.78 2312.48 1267.33 L2312.48 1262.6 Q2315.31 1261.47 2317.76 1260.89 Q2320.21 1260.31 2322.25 1260.31 Q2327.62 1260.31 2330.82 1263 Q2334.01 1265.68 2334.01 1270.17 Q2334.01 1272.3 2333.2 1274.22 Q2332.41 1276.12 2330.31 1278.72 Q2329.73 1279.39 2326.63 1282.6 Q2323.52 1285.8 2317.88 1291.56 Z\" fill=\"#000000\" fill-rule=\"nonzero\" fill-opacity=\"1\" /><path clip-path=\"url(#clip910)\" d=\"M2344.06 1260.94 L2362.41 1260.94 L2362.41 1264.87 L2348.34 1264.87 L2348.34 1273.34 Q2349.36 1273 2350.38 1272.84 Q2351.39 1272.65 2352.41 1272.65 Q2358.2 1272.65 2361.58 1275.82 Q2364.96 1278.99 2364.96 1284.41 Q2364.96 1289.99 2361.49 1293.09 Q2358.01 1296.17 2351.7 1296.17 Q2349.52 1296.17 2347.25 1295.8 Q2345.01 1295.43 2342.6 1294.69 L2342.6 1289.99 Q2344.68 1291.12 2346.9 1291.68 Q2349.13 1292.23 2351.6 1292.23 Q2355.61 1292.23 2357.95 1290.13 Q2360.28 1288.02 2360.28 1284.41 Q2360.28 1280.8 2357.95 1278.69 Q2355.61 1276.59 2351.6 1276.59 Q2349.73 1276.59 2347.85 1277 Q2346 1277.42 2344.06 1278.3 L2344.06 1260.94 Z\" fill=\"#000000\" fill-rule=\"nonzero\" fill-opacity=\"1\" /><path clip-path=\"url(#clip910)\" d=\"M2269.43 1086.96 L2277.07 1086.96 L2277.07 1060.59 L2268.76 1062.26 L2268.76 1058 L2277.02 1056.34 L2281.7 1056.34 L2281.7 1086.96 L2289.33 1086.96 L2289.33 1090.9 L2269.43 1090.9 L2269.43 1086.96 Z\" fill=\"#000000\" fill-rule=\"nonzero\" fill-opacity=\"1\" /><path clip-path=\"url(#clip910)\" d=\"M2298.78 1085.02 L2303.66 1085.02 L2303.66 1090.9 L2298.78 1090.9 L2298.78 1085.02 Z\" fill=\"#000000\" fill-rule=\"nonzero\" fill-opacity=\"1\" /><path clip-path=\"url(#clip910)\" d=\"M2313.89 1056.34 L2332.25 1056.34 L2332.25 1060.27 L2318.18 1060.27 L2318.18 1068.74 Q2319.2 1068.4 2320.21 1068.23 Q2321.23 1068.05 2322.25 1068.05 Q2328.04 1068.05 2331.42 1071.22 Q2334.8 1074.39 2334.8 1079.81 Q2334.8 1085.39 2331.33 1088.49 Q2327.85 1091.57 2321.53 1091.57 Q2319.36 1091.57 2317.09 1091.2 Q2314.84 1090.83 2312.44 1090.09 L2312.44 1085.39 Q2314.52 1086.52 2316.74 1087.08 Q2318.96 1087.63 2321.44 1087.63 Q2325.45 1087.63 2327.78 1085.53 Q2330.12 1083.42 2330.12 1079.81 Q2330.12 1076.2 2327.78 1074.09 Q2325.45 1071.98 2321.44 1071.98 Q2319.57 1071.98 2317.69 1072.4 Q2315.84 1072.82 2313.89 1073.7 L2313.89 1056.34 Z\" fill=\"#000000\" fill-rule=\"nonzero\" fill-opacity=\"1\" /><path clip-path=\"url(#clip910)\" d=\"M2354.01 1059.41 Q2350.4 1059.41 2348.57 1062.98 Q2346.76 1066.52 2346.76 1073.65 Q2346.76 1080.76 2348.57 1084.32 Q2350.4 1087.86 2354.01 1087.86 Q2357.64 1087.86 2359.45 1084.32 Q2361.28 1080.76 2361.28 1073.65 Q2361.28 1066.52 2359.45 1062.98 Q2357.64 1059.41 2354.01 1059.41 M2354.01 1055.71 Q2359.82 1055.71 2362.88 1060.32 Q2365.95 1064.9 2365.95 1073.65 Q2365.95 1082.38 2362.88 1086.98 Q2359.82 1091.57 2354.01 1091.57 Q2348.2 1091.57 2345.12 1086.98 Q2342.07 1082.38 2342.07 1073.65 Q2342.07 1064.9 2345.12 1060.32 Q2348.2 1055.71 2354.01 1055.71 Z\" fill=\"#000000\" fill-rule=\"nonzero\" fill-opacity=\"1\" /><path clip-path=\"url(#clip910)\" d=\"M2269.43 882.359 L2277.07 882.359 L2277.07 855.993 L2268.76 857.66 L2268.76 853.4 L2277.02 851.734 L2281.7 851.734 L2281.7 882.359 L2289.33 882.359 L2289.33 886.294 L2269.43 886.294 L2269.43 882.359 Z\" fill=\"#000000\" fill-rule=\"nonzero\" fill-opacity=\"1\" /><path clip-path=\"url(#clip910)\" d=\"M2298.78 880.414 L2303.66 880.414 L2303.66 886.294 L2298.78 886.294 L2298.78 880.414 Z\" fill=\"#000000\" fill-rule=\"nonzero\" fill-opacity=\"1\" /><path clip-path=\"url(#clip910)\" d=\"M2312.67 851.734 L2334.89 851.734 L2334.89 853.725 L2322.34 886.294 L2317.46 886.294 L2329.26 855.669 L2312.67 855.669 L2312.67 851.734 Z\" fill=\"#000000\" fill-rule=\"nonzero\" fill-opacity=\"1\" /><path clip-path=\"url(#clip910)\" d=\"M2344.06 851.734 L2362.41 851.734 L2362.41 855.669 L2348.34 855.669 L2348.34 864.141 Q2349.36 863.794 2350.38 863.632 Q2351.39 863.447 2352.41 863.447 Q2358.2 863.447 2361.58 866.618 Q2364.96 869.789 2364.96 875.206 Q2364.96 880.785 2361.49 883.886 Q2358.01 886.965 2351.7 886.965 Q2349.52 886.965 2347.25 886.595 Q2345.01 886.224 2342.6 885.484 L2342.6 880.785 Q2344.68 881.919 2346.9 882.474 Q2349.13 883.03 2351.6 883.03 Q2355.61 883.03 2357.95 880.923 Q2360.28 878.817 2360.28 875.206 Q2360.28 871.595 2357.95 869.488 Q2355.61 867.382 2351.6 867.382 Q2349.73 867.382 2347.85 867.799 Q2346 868.215 2344.06 869.095 L2344.06 851.734 Z\" fill=\"#000000\" fill-rule=\"nonzero\" fill-opacity=\"1\" /><path clip-path=\"url(#clip910)\" d=\"M2274.38 677.757 L2290.7 677.757 L2290.7 681.692 L2268.76 681.692 L2268.76 677.757 Q2271.42 675.002 2276 670.373 Q2280.61 665.72 2281.79 664.377 Q2284.03 661.854 2284.91 660.118 Q2285.82 658.359 2285.82 656.669 Q2285.82 653.914 2283.87 652.178 Q2281.95 650.442 2278.85 650.442 Q2276.65 650.442 2274.2 651.206 Q2271.77 651.97 2268.99 653.521 L2268.99 648.799 Q2271.81 647.664 2274.27 647.086 Q2276.72 646.507 2278.76 646.507 Q2284.13 646.507 2287.32 649.192 Q2290.52 651.877 2290.52 656.368 Q2290.52 658.498 2289.7 660.419 Q2288.92 662.317 2286.81 664.91 Q2286.23 665.581 2283.13 668.799 Q2280.03 671.993 2274.38 677.757 Z\" fill=\"#000000\" fill-rule=\"nonzero\" fill-opacity=\"1\" /><path clip-path=\"url(#clip910)\" d=\"M2300.51 675.812 L2305.4 675.812 L2305.4 681.692 L2300.51 681.692 L2300.51 675.812 Z\" fill=\"#000000\" fill-rule=\"nonzero\" fill-opacity=\"1\" /><path clip-path=\"url(#clip910)\" d=\"M2325.58 650.211 Q2321.97 650.211 2320.14 653.776 Q2318.34 657.317 2318.34 664.447 Q2318.34 671.553 2320.14 675.118 Q2321.97 678.66 2325.58 678.66 Q2329.22 678.66 2331.02 675.118 Q2332.85 671.553 2332.85 664.447 Q2332.85 657.317 2331.02 653.776 Q2329.22 650.211 2325.58 650.211 M2325.58 646.507 Q2331.39 646.507 2334.45 651.114 Q2337.53 655.697 2337.53 664.447 Q2337.53 673.174 2334.45 677.78 Q2331.39 682.363 2325.58 682.363 Q2319.77 682.363 2316.7 677.78 Q2313.64 673.174 2313.64 664.447 Q2313.64 655.697 2316.7 651.114 Q2319.77 646.507 2325.58 646.507 Z\" fill=\"#000000\" fill-rule=\"nonzero\" fill-opacity=\"1\" /><path clip-path=\"url(#clip910)\" d=\"M2355.75 650.211 Q2352.14 650.211 2350.31 653.776 Q2348.5 657.317 2348.5 664.447 Q2348.5 671.553 2350.31 675.118 Q2352.14 678.66 2355.75 678.66 Q2359.38 678.66 2361.19 675.118 Q2363.01 671.553 2363.01 664.447 Q2363.01 657.317 2361.19 653.776 Q2359.38 650.211 2355.75 650.211 M2355.75 646.507 Q2361.56 646.507 2364.61 651.114 Q2367.69 655.697 2367.69 664.447 Q2367.69 673.174 2364.61 677.78 Q2361.56 682.363 2355.75 682.363 Q2349.94 682.363 2346.86 677.78 Q2343.8 673.174 2343.8 664.447 Q2343.8 655.697 2346.86 651.114 Q2349.94 646.507 2355.75 646.507 Z\" fill=\"#000000\" fill-rule=\"nonzero\" fill-opacity=\"1\" /><path clip-path=\"url(#clip910)\" d=\"M2274.38 473.155 L2290.7 473.155 L2290.7 477.09 L2268.76 477.09 L2268.76 473.155 Q2271.42 470.401 2276 465.771 Q2280.61 461.118 2281.79 459.776 Q2284.03 457.252 2284.91 455.516 Q2285.82 453.757 2285.82 452.067 Q2285.82 449.313 2283.87 447.577 Q2281.95 445.84 2278.85 445.84 Q2276.65 445.84 2274.2 446.604 Q2271.77 447.368 2268.99 448.919 L2268.99 444.197 Q2271.81 443.063 2274.27 442.484 Q2276.72 441.905 2278.76 441.905 Q2284.13 441.905 2287.32 444.59 Q2290.52 447.276 2290.52 451.766 Q2290.52 453.896 2289.7 455.817 Q2288.92 457.715 2286.81 460.308 Q2286.23 460.979 2283.13 464.197 Q2280.03 467.391 2274.38 473.155 Z\" fill=\"#000000\" fill-rule=\"nonzero\" fill-opacity=\"1\" /><path clip-path=\"url(#clip910)\" d=\"M2300.51 471.211 L2305.4 471.211 L2305.4 477.09 L2300.51 477.09 L2300.51 471.211 Z\" fill=\"#000000\" fill-rule=\"nonzero\" fill-opacity=\"1\" /><path clip-path=\"url(#clip910)\" d=\"M2319.61 473.155 L2335.93 473.155 L2335.93 477.09 L2313.99 477.09 L2313.99 473.155 Q2316.65 470.401 2321.23 465.771 Q2325.84 461.118 2327.02 459.776 Q2329.26 457.252 2330.14 455.516 Q2331.05 453.757 2331.05 452.067 Q2331.05 449.313 2329.1 447.577 Q2327.18 445.84 2324.08 445.84 Q2321.88 445.84 2319.43 446.604 Q2317 447.368 2314.22 448.919 L2314.22 444.197 Q2317.04 443.063 2319.5 442.484 Q2321.95 441.905 2323.99 441.905 Q2329.36 441.905 2332.55 444.59 Q2335.75 447.276 2335.75 451.766 Q2335.75 453.896 2334.94 455.817 Q2334.15 457.715 2332.04 460.308 Q2331.46 460.979 2328.36 464.197 Q2325.26 467.391 2319.61 473.155 Z\" fill=\"#000000\" fill-rule=\"nonzero\" fill-opacity=\"1\" /><path clip-path=\"url(#clip910)\" d=\"M2345.79 442.53 L2364.15 442.53 L2364.15 446.465 L2350.07 446.465 L2350.07 454.938 Q2351.09 454.59 2352.11 454.428 Q2353.13 454.243 2354.15 454.243 Q2359.94 454.243 2363.32 457.415 Q2366.7 460.586 2366.7 466.002 Q2366.7 471.581 2363.22 474.683 Q2359.75 477.762 2353.43 477.762 Q2351.26 477.762 2348.99 477.391 Q2346.74 477.021 2344.33 476.28 L2344.33 471.581 Q2346.42 472.715 2348.64 473.271 Q2350.86 473.826 2353.34 473.826 Q2357.34 473.826 2359.68 471.72 Q2362.02 469.614 2362.02 466.002 Q2362.02 462.391 2359.68 460.285 Q2357.34 458.178 2353.34 458.178 Q2351.46 458.178 2349.59 458.595 Q2347.74 459.012 2345.79 459.891 L2345.79 442.53 Z\" fill=\"#000000\" fill-rule=\"nonzero\" fill-opacity=\"1\" /><path clip-path=\"url(#clip910)\" d=\"M2274.38 268.553 L2290.7 268.553 L2290.7 272.489 L2268.76 272.489 L2268.76 268.553 Q2271.42 265.799 2276 261.169 Q2280.61 256.516 2281.79 255.174 Q2284.03 252.651 2284.91 250.915 Q2285.82 249.155 2285.82 247.466 Q2285.82 244.711 2283.87 242.975 Q2281.95 241.239 2278.85 241.239 Q2276.65 241.239 2274.2 242.003 Q2271.77 242.767 2268.99 244.317 L2268.99 239.595 Q2271.81 238.461 2274.27 237.882 Q2276.72 237.304 2278.76 237.304 Q2284.13 237.304 2287.32 239.989 Q2290.52 242.674 2290.52 247.165 Q2290.52 249.294 2289.7 251.216 Q2288.92 253.114 2286.81 255.706 Q2286.23 256.378 2283.13 259.595 Q2280.03 262.79 2274.38 268.553 Z\" fill=\"#000000\" fill-rule=\"nonzero\" fill-opacity=\"1\" /><path clip-path=\"url(#clip910)\" d=\"M2300.51 266.609 L2305.4 266.609 L2305.4 272.489 L2300.51 272.489 L2300.51 266.609 Z\" fill=\"#000000\" fill-rule=\"nonzero\" fill-opacity=\"1\" /><path clip-path=\"url(#clip910)\" d=\"M2315.63 237.929 L2333.99 237.929 L2333.99 241.864 L2319.91 241.864 L2319.91 250.336 Q2320.93 249.989 2321.95 249.827 Q2322.97 249.641 2323.99 249.641 Q2329.77 249.641 2333.15 252.813 Q2336.53 255.984 2336.53 261.401 Q2336.53 266.979 2333.06 270.081 Q2329.59 273.16 2323.27 273.16 Q2321.09 273.16 2318.83 272.789 Q2316.58 272.419 2314.17 271.678 L2314.17 266.979 Q2316.26 268.114 2318.48 268.669 Q2320.7 269.225 2323.18 269.225 Q2327.18 269.225 2329.52 267.118 Q2331.86 265.012 2331.86 261.401 Q2331.86 257.79 2329.52 255.683 Q2327.18 253.577 2323.18 253.577 Q2321.3 253.577 2319.43 253.993 Q2317.58 254.41 2315.63 255.29 L2315.63 237.929 Z\" fill=\"#000000\" fill-rule=\"nonzero\" fill-opacity=\"1\" /><path clip-path=\"url(#clip910)\" d=\"M2355.75 241.007 Q2352.14 241.007 2350.31 244.572 Q2348.5 248.114 2348.5 255.243 Q2348.5 262.35 2350.31 265.915 Q2352.14 269.456 2355.75 269.456 Q2359.38 269.456 2361.19 265.915 Q2363.01 262.35 2363.01 255.243 Q2363.01 248.114 2361.19 244.572 Q2359.38 241.007 2355.75 241.007 M2355.75 237.304 Q2361.56 237.304 2364.61 241.91 Q2367.69 246.493 2367.69 255.243 Q2367.69 263.97 2364.61 268.577 Q2361.56 273.16 2355.75 273.16 Q2349.94 273.16 2346.86 268.577 Q2343.8 263.97 2343.8 255.243 Q2343.8 246.493 2346.86 241.91 Q2349.94 237.304 2355.75 237.304 Z\" fill=\"#000000\" fill-rule=\"nonzero\" fill-opacity=\"1\" /><path clip-path=\"url(#clip910)\" d=\"M2274.38 63.9517 L2290.7 63.9517 L2290.7 67.8868 L2268.76 67.8868 L2268.76 63.9517 Q2271.42 61.197 2276 56.5674 Q2280.61 51.9147 2281.79 50.5721 Q2284.03 48.049 2284.91 46.3129 Q2285.82 44.5536 2285.82 42.8638 Q2285.82 40.1092 2283.87 38.3731 Q2281.95 36.637 2278.85 36.637 Q2276.65 36.637 2274.2 37.4009 Q2271.77 38.1648 2268.99 39.7157 L2268.99 34.9935 Q2271.81 33.8592 2274.27 33.2805 Q2276.72 32.7018 2278.76 32.7018 Q2284.13 32.7018 2287.32 35.387 Q2290.52 38.0722 2290.52 42.5629 Q2290.52 44.6925 2289.7 46.6138 Q2288.92 48.5119 2286.81 51.1045 Q2286.23 51.7758 2283.13 54.9934 Q2280.03 58.1878 2274.38 63.9517 Z\" fill=\"#000000\" fill-rule=\"nonzero\" fill-opacity=\"1\" /><path clip-path=\"url(#clip910)\" d=\"M2300.51 62.0072 L2305.4 62.0072 L2305.4 67.8868 L2300.51 67.8868 L2300.51 62.0072 Z\" fill=\"#000000\" fill-rule=\"nonzero\" fill-opacity=\"1\" /><path clip-path=\"url(#clip910)\" d=\"M2314.4 33.3268 L2336.63 33.3268 L2336.63 35.3176 L2324.08 67.8868 L2319.2 67.8868 L2331 37.262 L2314.4 37.262 L2314.4 33.3268 Z\" fill=\"#000000\" fill-rule=\"nonzero\" fill-opacity=\"1\" /><path clip-path=\"url(#clip910)\" d=\"M2345.79 33.3268 L2364.15 33.3268 L2364.15 37.262 L2350.07 37.262 L2350.07 45.7342 Q2351.09 45.3869 2352.11 45.2249 Q2353.13 45.0397 2354.15 45.0397 Q2359.94 45.0397 2363.32 48.211 Q2366.7 51.3823 2366.7 56.7989 Q2366.7 62.3776 2363.22 65.4794 Q2359.75 68.5581 2353.43 68.5581 Q2351.26 68.5581 2348.99 68.1877 Q2346.74 67.8174 2344.33 67.0766 L2344.33 62.3776 Q2346.42 63.5118 2348.64 64.0674 Q2350.86 64.6229 2353.34 64.6229 Q2357.34 64.6229 2359.68 62.5165 Q2362.02 60.41 2362.02 56.7989 Q2362.02 53.1878 2359.68 51.0814 Q2357.34 48.9749 2353.34 48.9749 Q2351.46 48.9749 2349.59 49.3915 Q2347.74 49.8082 2345.79 50.6878 L2345.79 33.3268 Z\" fill=\"#000000\" fill-rule=\"nonzero\" fill-opacity=\"1\" /><polyline clip-path=\"url(#clip910)\" style=\"stroke:#000000; stroke-linecap:round; stroke-linejoin:round; stroke-width:4; stroke-opacity:1; fill:none\" points=\"2232.76,1486.45 2232.76,1486.45 2256.76,1486.45 2232.76,1486.45 2232.76,1281.85 2256.76,1281.85 2232.76,1281.85 2232.76,1077.24 2256.76,1077.24 2232.76,1077.24 2232.76,872.643 2256.76,872.643 2232.76,872.643 2232.76,668.041 2256.76,668.041 2232.76,668.041 2232.76,463.439 2256.76,463.439 2232.76,463.439 2232.76,258.837 2256.76,258.837 2232.76,258.837 2232.76,54.2356 2256.76,54.2356 2232.76,54.2356 2232.76,47.2441 \"/>\n",
       "</svg>\n"
      ],
      "text/html": [
       "<?xml version=\"1.0\" encoding=\"utf-8\"?>\n",
       "<svg xmlns=\"http://www.w3.org/2000/svg\" xmlns:xlink=\"http://www.w3.org/1999/xlink\" width=\"600\" height=\"400\" viewBox=\"0 0 2400 1600\">\n",
       "<defs>\n",
       "  <clipPath id=\"clip960\">\n",
       "    <rect x=\"0\" y=\"0\" width=\"2400\" height=\"1600\"/>\n",
       "  </clipPath>\n",
       "</defs>\n",
       "<path clip-path=\"url(#clip960)\" d=\"M0 1600 L2400 1600 L2400 0 L0 0  Z\" fill=\"#ffffff\" fill-rule=\"evenodd\" fill-opacity=\"1\"/>\n",
       "<defs>\n",
       "  <clipPath id=\"clip961\">\n",
       "    <rect x=\"480\" y=\"0\" width=\"1681\" height=\"1600\"/>\n",
       "  </clipPath>\n",
       "</defs>\n",
       "<path clip-path=\"url(#clip960)\" d=\"M155.765 1486.45 L2112.76 1486.45 L2112.76 47.2441 L155.765 47.2441  Z\" fill=\"#ffffff\" fill-rule=\"evenodd\" fill-opacity=\"1\"/>\n",
       "<defs>\n",
       "  <clipPath id=\"clip962\">\n",
       "    <rect x=\"155\" y=\"47\" width=\"1958\" height=\"1440\"/>\n",
       "  </clipPath>\n",
       "</defs>\n",
       "<polyline clip-path=\"url(#clip962)\" style=\"stroke:#000000; stroke-linecap:round; stroke-linejoin:round; stroke-width:2; stroke-opacity:0.1; fill:none\" points=\"575.12,1486.45 575.12,47.2441 \"/>\n",
       "<polyline clip-path=\"url(#clip962)\" style=\"stroke:#000000; stroke-linecap:round; stroke-linejoin:round; stroke-width:2; stroke-opacity:0.1; fill:none\" points=\"1041.07,1486.45 1041.07,47.2441 \"/>\n",
       "<polyline clip-path=\"url(#clip962)\" style=\"stroke:#000000; stroke-linecap:round; stroke-linejoin:round; stroke-width:2; stroke-opacity:0.1; fill:none\" points=\"1507.02,1486.45 1507.02,47.2441 \"/>\n",
       "<polyline clip-path=\"url(#clip962)\" style=\"stroke:#000000; stroke-linecap:round; stroke-linejoin:round; stroke-width:2; stroke-opacity:0.1; fill:none\" points=\"1972.97,1486.45 1972.97,47.2441 \"/>\n",
       "<polyline clip-path=\"url(#clip960)\" style=\"stroke:#000000; stroke-linecap:round; stroke-linejoin:round; stroke-width:4; stroke-opacity:1; fill:none\" points=\"155.765,1486.45 2112.76,1486.45 \"/>\n",
       "<polyline clip-path=\"url(#clip960)\" style=\"stroke:#000000; stroke-linecap:round; stroke-linejoin:round; stroke-width:4; stroke-opacity:1; fill:none\" points=\"575.12,1486.45 575.12,1467.55 \"/>\n",
       "<polyline clip-path=\"url(#clip960)\" style=\"stroke:#000000; stroke-linecap:round; stroke-linejoin:round; stroke-width:4; stroke-opacity:1; fill:none\" points=\"1041.07,1486.45 1041.07,1467.55 \"/>\n",
       "<polyline clip-path=\"url(#clip960)\" style=\"stroke:#000000; stroke-linecap:round; stroke-linejoin:round; stroke-width:4; stroke-opacity:1; fill:none\" points=\"1507.02,1486.45 1507.02,1467.55 \"/>\n",
       "<polyline clip-path=\"url(#clip960)\" style=\"stroke:#000000; stroke-linecap:round; stroke-linejoin:round; stroke-width:4; stroke-opacity:1; fill:none\" points=\"1972.97,1486.45 1972.97,1467.55 \"/>\n",
       "<path clip-path=\"url(#clip960)\" d=\"M565.398 1514.29 L583.754 1514.29 L583.754 1518.22 L569.68 1518.22 L569.68 1526.7 Q570.699 1526.35 571.717 1526.19 Q572.736 1526 573.754 1526 Q579.541 1526 582.921 1529.17 Q586.301 1532.34 586.301 1537.76 Q586.301 1543.34 582.828 1546.44 Q579.356 1549.52 573.037 1549.52 Q570.861 1549.52 568.592 1549.15 Q566.347 1548.78 563.94 1548.04 L563.94 1543.34 Q566.023 1544.47 568.245 1545.03 Q570.467 1545.58 572.944 1545.58 Q576.949 1545.58 579.287 1543.48 Q581.625 1541.37 581.625 1537.76 Q581.625 1534.15 579.287 1532.04 Q576.949 1529.94 572.944 1529.94 Q571.069 1529.94 569.194 1530.35 Q567.342 1530.77 565.398 1531.65 L565.398 1514.29 Z\" fill=\"#000000\" fill-rule=\"nonzero\" fill-opacity=\"1\" /><path clip-path=\"url(#clip960)\" d=\"M1015.76 1544.91 L1023.4 1544.91 L1023.4 1518.55 L1015.09 1520.21 L1015.09 1515.95 L1023.35 1514.29 L1028.03 1514.29 L1028.03 1544.91 L1035.67 1544.91 L1035.67 1548.85 L1015.76 1548.85 L1015.76 1544.91 Z\" fill=\"#000000\" fill-rule=\"nonzero\" fill-opacity=\"1\" /><path clip-path=\"url(#clip960)\" d=\"M1055.11 1517.37 Q1051.5 1517.37 1049.67 1520.93 Q1047.86 1524.47 1047.86 1531.6 Q1047.86 1538.71 1049.67 1542.27 Q1051.5 1545.82 1055.11 1545.82 Q1058.74 1545.82 1060.55 1542.27 Q1062.38 1538.71 1062.38 1531.6 Q1062.38 1524.47 1060.55 1520.93 Q1058.74 1517.37 1055.11 1517.37 M1055.11 1513.66 Q1060.92 1513.66 1063.98 1518.27 Q1067.05 1522.85 1067.05 1531.6 Q1067.05 1540.33 1063.98 1544.94 Q1060.92 1549.52 1055.11 1549.52 Q1049.3 1549.52 1046.22 1544.94 Q1043.17 1540.33 1043.17 1531.6 Q1043.17 1522.85 1046.22 1518.27 Q1049.3 1513.66 1055.11 1513.66 Z\" fill=\"#000000\" fill-rule=\"nonzero\" fill-opacity=\"1\" /><path clip-path=\"url(#clip960)\" d=\"M1482.21 1544.91 L1489.84 1544.91 L1489.84 1518.55 L1481.53 1520.21 L1481.53 1515.95 L1489.8 1514.29 L1494.47 1514.29 L1494.47 1544.91 L1502.11 1544.91 L1502.11 1548.85 L1482.21 1548.85 L1482.21 1544.91 Z\" fill=\"#000000\" fill-rule=\"nonzero\" fill-opacity=\"1\" /><path clip-path=\"url(#clip960)\" d=\"M1511.6 1514.29 L1529.96 1514.29 L1529.96 1518.22 L1515.89 1518.22 L1515.89 1526.7 Q1516.9 1526.35 1517.92 1526.19 Q1518.94 1526 1519.96 1526 Q1525.75 1526 1529.13 1529.17 Q1532.51 1532.34 1532.51 1537.76 Q1532.51 1543.34 1529.03 1546.44 Q1525.56 1549.52 1519.24 1549.52 Q1517.07 1549.52 1514.8 1549.15 Q1512.55 1548.78 1510.15 1548.04 L1510.15 1543.34 Q1512.23 1544.47 1514.45 1545.03 Q1516.67 1545.58 1519.15 1545.58 Q1523.15 1545.58 1525.49 1543.48 Q1527.83 1541.37 1527.83 1537.76 Q1527.83 1534.15 1525.49 1532.04 Q1523.15 1529.94 1519.15 1529.94 Q1517.28 1529.94 1515.4 1530.35 Q1513.55 1530.77 1511.6 1531.65 L1511.6 1514.29 Z\" fill=\"#000000\" fill-rule=\"nonzero\" fill-opacity=\"1\" /><path clip-path=\"url(#clip960)\" d=\"M1951.74 1544.91 L1968.06 1544.91 L1968.06 1548.85 L1946.12 1548.85 L1946.12 1544.91 Q1948.78 1542.16 1953.36 1537.53 Q1957.97 1532.88 1959.15 1531.53 Q1961.4 1529.01 1962.28 1527.27 Q1963.18 1525.51 1963.18 1523.82 Q1963.18 1521.07 1961.23 1519.33 Q1959.31 1517.6 1956.21 1517.6 Q1954.01 1517.6 1951.56 1518.36 Q1949.13 1519.13 1946.35 1520.68 L1946.35 1515.95 Q1949.17 1514.82 1951.63 1514.24 Q1954.08 1513.66 1956.12 1513.66 Q1961.49 1513.66 1964.68 1516.35 Q1967.88 1519.03 1967.88 1523.52 Q1967.88 1525.65 1967.07 1527.57 Q1966.28 1529.47 1964.17 1532.07 Q1963.6 1532.74 1960.49 1535.95 Q1957.39 1539.15 1951.74 1544.91 Z\" fill=\"#000000\" fill-rule=\"nonzero\" fill-opacity=\"1\" /><path clip-path=\"url(#clip960)\" d=\"M1987.88 1517.37 Q1984.27 1517.37 1982.44 1520.93 Q1980.63 1524.47 1980.63 1531.6 Q1980.63 1538.71 1982.44 1542.27 Q1984.27 1545.82 1987.88 1545.82 Q1991.51 1545.82 1993.32 1542.27 Q1995.15 1538.71 1995.15 1531.6 Q1995.15 1524.47 1993.32 1520.93 Q1991.51 1517.37 1987.88 1517.37 M1987.88 1513.66 Q1993.69 1513.66 1996.74 1518.27 Q1999.82 1522.85 1999.82 1531.6 Q1999.82 1540.33 1996.74 1544.94 Q1993.69 1549.52 1987.88 1549.52 Q1982.07 1549.52 1978.99 1544.94 Q1975.93 1540.33 1975.93 1531.6 Q1975.93 1522.85 1978.99 1518.27 Q1982.07 1513.66 1987.88 1513.66 Z\" fill=\"#000000\" fill-rule=\"nonzero\" fill-opacity=\"1\" /><polyline clip-path=\"url(#clip962)\" style=\"stroke:#000000; stroke-linecap:round; stroke-linejoin:round; stroke-width:2; stroke-opacity:0.1; fill:none\" points=\"155.765,1128.45 2112.76,1128.45 \"/>\n",
       "<polyline clip-path=\"url(#clip962)\" style=\"stroke:#000000; stroke-linecap:round; stroke-linejoin:round; stroke-width:2; stroke-opacity:0.1; fill:none\" points=\"155.765,768.645 2112.76,768.645 \"/>\n",
       "<polyline clip-path=\"url(#clip962)\" style=\"stroke:#000000; stroke-linecap:round; stroke-linejoin:round; stroke-width:2; stroke-opacity:0.1; fill:none\" points=\"155.765,408.844 2112.76,408.844 \"/>\n",
       "<polyline clip-path=\"url(#clip962)\" style=\"stroke:#000000; stroke-linecap:round; stroke-linejoin:round; stroke-width:2; stroke-opacity:0.1; fill:none\" points=\"155.765,49.0431 2112.76,49.0431 \"/>\n",
       "<polyline clip-path=\"url(#clip960)\" style=\"stroke:#000000; stroke-linecap:round; stroke-linejoin:round; stroke-width:4; stroke-opacity:1; fill:none\" points=\"155.765,1486.45 155.765,47.2441 \"/>\n",
       "<polyline clip-path=\"url(#clip960)\" style=\"stroke:#000000; stroke-linecap:round; stroke-linejoin:round; stroke-width:4; stroke-opacity:1; fill:none\" points=\"155.765,1128.45 172.598,1128.45 \"/>\n",
       "<polyline clip-path=\"url(#clip960)\" style=\"stroke:#000000; stroke-linecap:round; stroke-linejoin:round; stroke-width:4; stroke-opacity:1; fill:none\" points=\"155.765,768.645 172.598,768.645 \"/>\n",
       "<polyline clip-path=\"url(#clip960)\" style=\"stroke:#000000; stroke-linecap:round; stroke-linejoin:round; stroke-width:4; stroke-opacity:1; fill:none\" points=\"155.765,408.844 172.598,408.844 \"/>\n",
       "<polyline clip-path=\"url(#clip960)\" style=\"stroke:#000000; stroke-linecap:round; stroke-linejoin:round; stroke-width:4; stroke-opacity:1; fill:none\" points=\"155.765,49.0431 172.598,49.0431 \"/>\n",
       "<path clip-path=\"url(#clip960)\" d=\"M63.5847 1114.24 Q59.9736 1114.24 58.1449 1117.81 Q56.3393 1121.35 56.3393 1128.48 Q56.3393 1135.59 58.1449 1139.15 Q59.9736 1142.69 63.5847 1142.69 Q67.2189 1142.69 69.0244 1139.15 Q70.8531 1135.59 70.8531 1128.48 Q70.8531 1121.35 69.0244 1117.81 Q67.2189 1114.24 63.5847 1114.24 M63.5847 1110.54 Q69.3948 1110.54 72.4503 1115.15 Q75.529 1119.73 75.529 1128.48 Q75.529 1137.21 72.4503 1141.81 Q69.3948 1146.4 63.5847 1146.4 Q57.7745 1146.4 54.6958 1141.81 Q51.6403 1137.21 51.6403 1128.48 Q51.6403 1119.73 54.6958 1115.15 Q57.7745 1110.54 63.5847 1110.54 Z\" fill=\"#000000\" fill-rule=\"nonzero\" fill-opacity=\"1\" /><path clip-path=\"url(#clip960)\" d=\"M83.7466 1139.85 L88.6308 1139.85 L88.6308 1145.73 L83.7466 1145.73 L83.7466 1139.85 Z\" fill=\"#000000\" fill-rule=\"nonzero\" fill-opacity=\"1\" /><path clip-path=\"url(#clip960)\" d=\"M98.8622 1111.17 L117.219 1111.17 L117.219 1115.1 L103.145 1115.1 L103.145 1123.57 Q104.163 1123.23 105.182 1123.06 Q106.2 1122.88 107.219 1122.88 Q113.006 1122.88 116.385 1126.05 Q119.765 1129.22 119.765 1134.64 Q119.765 1140.22 116.293 1143.32 Q112.82 1146.4 106.501 1146.4 Q104.325 1146.4 102.057 1146.03 Q99.8113 1145.66 97.4039 1144.92 L97.4039 1140.22 Q99.4872 1141.35 101.709 1141.91 Q103.932 1142.46 106.408 1142.46 Q110.413 1142.46 112.751 1140.36 Q115.089 1138.25 115.089 1134.64 Q115.089 1131.03 112.751 1128.92 Q110.413 1126.81 106.408 1126.81 Q104.534 1126.81 102.659 1127.23 Q100.807 1127.65 98.8622 1128.53 L98.8622 1111.17 Z\" fill=\"#000000\" fill-rule=\"nonzero\" fill-opacity=\"1\" /><path clip-path=\"url(#clip960)\" d=\"M53.3995 781.99 L61.0384 781.99 L61.0384 755.624 L52.7282 757.291 L52.7282 753.032 L60.9921 751.365 L65.668 751.365 L65.668 781.99 L73.3068 781.99 L73.3068 785.925 L53.3995 785.925 L53.3995 781.99 Z\" fill=\"#000000\" fill-rule=\"nonzero\" fill-opacity=\"1\" /><path clip-path=\"url(#clip960)\" d=\"M82.7512 780.045 L87.6354 780.045 L87.6354 785.925 L82.7512 785.925 L82.7512 780.045 Z\" fill=\"#000000\" fill-rule=\"nonzero\" fill-opacity=\"1\" /><path clip-path=\"url(#clip960)\" d=\"M107.821 754.444 Q104.209 754.444 102.381 758.008 Q100.575 761.55 100.575 768.68 Q100.575 775.786 102.381 779.351 Q104.209 782.893 107.821 782.893 Q111.455 782.893 113.26 779.351 Q115.089 775.786 115.089 768.68 Q115.089 761.55 113.26 758.008 Q111.455 754.444 107.821 754.444 M107.821 750.74 Q113.631 750.74 116.686 755.346 Q119.765 759.93 119.765 768.68 Q119.765 777.407 116.686 782.013 Q113.631 786.596 107.821 786.596 Q102.01 786.596 98.9317 782.013 Q95.8761 777.407 95.8761 768.68 Q95.8761 759.93 98.9317 755.346 Q102.01 750.74 107.821 750.74 Z\" fill=\"#000000\" fill-rule=\"nonzero\" fill-opacity=\"1\" /><path clip-path=\"url(#clip960)\" d=\"M54.3949 422.189 L62.0337 422.189 L62.0337 395.823 L53.7236 397.49 L53.7236 393.231 L61.9874 391.564 L66.6633 391.564 L66.6633 422.189 L74.3022 422.189 L74.3022 426.124 L54.3949 426.124 L54.3949 422.189 Z\" fill=\"#000000\" fill-rule=\"nonzero\" fill-opacity=\"1\" /><path clip-path=\"url(#clip960)\" d=\"M83.7466 420.244 L88.6308 420.244 L88.6308 426.124 L83.7466 426.124 L83.7466 420.244 Z\" fill=\"#000000\" fill-rule=\"nonzero\" fill-opacity=\"1\" /><path clip-path=\"url(#clip960)\" d=\"M98.8622 391.564 L117.219 391.564 L117.219 395.499 L103.145 395.499 L103.145 403.971 Q104.163 403.624 105.182 403.462 Q106.2 403.277 107.219 403.277 Q113.006 403.277 116.385 406.448 Q119.765 409.62 119.765 415.036 Q119.765 420.615 116.293 423.717 Q112.82 426.795 106.501 426.795 Q104.325 426.795 102.057 426.425 Q99.8113 426.055 97.4039 425.314 L97.4039 420.615 Q99.4872 421.749 101.709 422.305 Q103.932 422.86 106.408 422.86 Q110.413 422.86 112.751 420.754 Q115.089 418.647 115.089 415.036 Q115.089 411.425 112.751 409.319 Q110.413 407.212 106.408 407.212 Q104.534 407.212 102.659 407.629 Q100.807 408.045 98.8622 408.925 L98.8622 391.564 Z\" fill=\"#000000\" fill-rule=\"nonzero\" fill-opacity=\"1\" /><path clip-path=\"url(#clip960)\" d=\"M56.6171 62.3879 L72.9365 62.3879 L72.9365 66.3231 L50.9921 66.3231 L50.9921 62.3879 Q53.6541 59.6333 58.2375 55.0037 Q62.8439 50.351 64.0245 49.0084 Q66.2698 46.4852 67.1494 44.7491 Q68.0522 42.9899 68.0522 41.3001 Q68.0522 38.5455 66.1078 36.8094 Q64.1865 35.0733 61.0847 35.0733 Q58.8856 35.0733 56.4319 35.8372 Q54.0014 36.601 51.2236 38.152 L51.2236 33.4298 Q54.0477 32.2955 56.5014 31.7168 Q58.955 31.1381 60.9921 31.1381 Q66.3624 31.1381 69.5568 33.8233 Q72.7513 36.5084 72.7513 40.9992 Q72.7513 43.1288 71.9411 45.0501 Q71.1541 46.9482 69.0476 49.5408 Q68.4689 50.2121 65.367 53.4296 Q62.2652 56.6241 56.6171 62.3879 Z\" fill=\"#000000\" fill-rule=\"nonzero\" fill-opacity=\"1\" /><path clip-path=\"url(#clip960)\" d=\"M82.7512 60.4435 L87.6354 60.4435 L87.6354 66.3231 L82.7512 66.3231 L82.7512 60.4435 Z\" fill=\"#000000\" fill-rule=\"nonzero\" fill-opacity=\"1\" /><path clip-path=\"url(#clip960)\" d=\"M107.821 34.8418 Q104.209 34.8418 102.381 38.4066 Q100.575 41.9482 100.575 49.0778 Q100.575 56.1843 102.381 59.7491 Q104.209 63.2907 107.821 63.2907 Q111.455 63.2907 113.26 59.7491 Q115.089 56.1843 115.089 49.0778 Q115.089 41.9482 113.26 38.4066 Q111.455 34.8418 107.821 34.8418 M107.821 31.1381 Q113.631 31.1381 116.686 35.7446 Q119.765 40.3279 119.765 49.0778 Q119.765 57.8046 116.686 62.4111 Q113.631 66.9944 107.821 66.9944 Q102.01 66.9944 98.9317 62.4111 Q95.8761 57.8046 95.8761 49.0778 Q95.8761 40.3279 98.9317 35.7446 Q102.01 31.1381 107.821 31.1381 Z\" fill=\"#000000\" fill-rule=\"nonzero\" fill-opacity=\"1\" /><g clip-path=\"url(#clip962)\">\n",
       "<image width=\"1957\" height=\"1439\" xlink:href=\"data:image/png;base64,\n",
       "iVBORw0KGgoAAAANSUhEUgAAB6UAAAWfCAYAAADjySM1AAAgAElEQVR4nOzdwamtWREF4Prl0QhO\n",
       "zcCBAfRIHBqHifSgJw7MwzwcijF0DI4F6ck2ANFzwLeq9jv1fRH8FJtz4S6q1vPlN9+fAgD4ljzP\n",
       "9Bes892vfjv9Cev88de/n/6Edf78u79Of8I6P//4y+lPWOm7P/1r+hPW+eHvf5j+hHX+8o+/TX/C\n",
       "Oj//86fpT9jn+LcuAPDt+MX0BwAAAAAAAADwuYTSAAAAAAAAAMQIpQEAAAAAAACI+TL9AQAAAGyl\n",
       "C3OEsfczcwAAYDmb0gAAAAAAAADECKUBAAAAAAAAiBFKAwAAAAAAABCjUxoAAAAgSKU0AACwnU1p\n",
       "AAAAAAAAAGKE0gAAAAAAAADEON8NAABQVVXP9Afs46bxEG8dAACAXjalAQAAAAAAAIgRSgMAAAAA\n",
       "AAAQI5QGAAAAAAAAIEanNADw7dFBOsDQux2dr+2OZ97OKwcAAIAdbEoDAAAAAAAAECOUBgAAAAAA\n",
       "ACDG+W4AAABmuJk+wtjZwUNvZ+QAAPwPNqUBAAAAAAAAiBFKAwAAAAAAABAjlAYAAAAAAAAgRqc0\n",
       "AABAVVU90x8AfKjj9wUAAFjOpjQAAAAAAAAAMUJpAAAAAAAAAGKE0gAAAAAAAADE6JQGAIAbnekP\n",
       "gAbe+RD9xgAAAPSyKQ0AAAAAAABAjFAaAAAAAAAAgBjnuwEA4EKuGg8w9HaOSAMAAMAONqUBAAAA\n",
       "AAAAiBFKAwAAAAAAABAjlAYAAAAAAAAgRqc0AABvULbL5zsajvv5aRlxzL2dmU8wdAAAuIlNaQAA\n",
       "AAAAAABihNIAAAAAAAAAxDjfDQDASw5gAhl+XWY4VQ8AAEAvm9IAAAAAAAAAxAilAQAAAAAAAIgR\n",
       "SgMAAAAAAAAQo1MaAAAAgI+isR4AAO5iUxoAAAAAAACAGKE0AAAAAAAAADFCaQAAAAAAAABidEoD\n",
       "AMCFdGEOMPR+Zg4AAAAr2JQGAAAAAAAAIEYoDQAAAAAAAECM890AALzBjV0+36ln+hPWMfEZ55h8\n",
       "N39FAQCA7WxKAwAAAAAAABAjlAYAAAAAAAAgRigNAAAAAAAAQIxOaQAAAGYcTbtAit8XAAC4iU1p\n",
       "AAAAAAAAAGKE0gAAAAAAAADEON8NAMBrLmC2c9UYAP4P/o4CAMBVbEoDAAAAAAAAECOUBgAAAAAA\n",
       "ACBGKA0AAAAAAABAjE5pAAC40jP9AQuZeTvl6QAAALCCTWkAAAAAAAAAYoTSAAAAAAAAAMQIpQEA\n",
       "AAAAAACI0SkNAABQ6o0naPGecY7JdzNzAABgO5vSAAAAAAAAAMQIpQEAAAAAAACIcb4bAIA3uGsM\n",
       "fH2Pm+kjjsPpAAAANLMpDQAAAAAAAECMUBoAAAAAAACAGKE0AAAAAAAAADE6pQEA4EKadifo2QX4\n",
       "HP6SAgDATWxKAwAAAAAAABAjlAYAAAAAAAAgxvluAAAAZriuO8SpegAAAHrZlAYAAAAAAAAgRigN\n",
       "AAAAAAAAQIxQGgAAAAAAAIAYndIAAABVdfQbs4S33s/IAQCA7WxKAwAAAAAAABAjlAYAAAAAAAAg\n",
       "RigNAAAAAAAAQIxOaQAAAIZo2gUAAIANbEoDAAAAAAAAECOUBgAAAAAAACDG+W4AAN7gxG63Y+QD\n",
       "nukPWOfxzod46wAAAPSyKQ0AAAAAAABAjFAaAAAAAAAAgBihNAAAAAAAAAAxOqUBAAAA+DBK6wEA\n",
       "4CY2pQEAAAAAAACIEUoDAAAAAAAAEON8NwAAQFUdl177mfkIY+/n9wUAANjOpjQAAAAAAAAAMUJp\n",
       "AAAAAAAAAGKE0gAAAAAAAADE6JQGAACoqqpn+gMWUrQ74njrAAAA9LIpDQAAAAAAAECMUBoAAAAA\n",
       "AACAGKE0AAAAAAAAADE6pQEA4EJHvzEbqJQGAACAFWxKAwAAAAAAABAjlAYAAAAAAAAgxvluAADe\n",
       "4MYun88r7+dIPXt47f38qgMAwE1sSgMAAAAAAAAQI5QGAAAAAAAAIEYoDQAAAAAAAECMTmkAAF7S\n",
       "ysgOOl/b+XEZYez9zBwAANjOpjQAAAAAAAAAMUJpAAAAAAAAAGKc7wYAAKhyX3eEoY84TtXz+fy6\n",
       "AADAXWxKAwAAAAAAABAjlAYAAAAAAAAgRigNAAAAAAAAQIxOaQAAuNBRhskG3jkAAACsYFMaAAAA\n",
       "AAAAgBihNAAAAAAAAAAxQmkAAAAAAAAAYnRKAwAAVNWpZ/oToIUq735mDgAAbGdTGgAAAAAAAIAY\n",
       "oTQAAAAAAAAAMc53AwDwBodHga/v8dMyxKn6dt76AEMHAICb2JQGAAAAAAAAIEYoDQAAAAAAAECM\n",
       "UBoAAAAAAACAGJ3SAAAADNH5CgAAABvYlAYAAAAAAAAgRigNAAAAAAAAQIzz3QAAcCFHjfud80x/\n",
       "wj4e+gxzBwAAoJlNaQAAAAAAAABihNIAAAAAAAAAxAilAQAAAAAAAIjRKQ0AwGv6RwE+xin96d38\n",
       "GQUAALazKQ0AAAAAAABAjFAaAAAAAAAAgBihNAAAAAAAAAAxOqUBAACYoWgXSPH7AgAAV7EpDQAA\n",
       "AAAAAECMUBoAAAAAAACAGOe7AQB4gxuY/Z7pD4AGfluAFL8vAABwE5vSAAAAAAAAAMQIpQEAAAAA\n",
       "AACIEUoDAAAAAAAAEKNTGgAALnRUYbY7R493t8c7H3F01gMAANDMpjQAAAAAAAAAMUJpAAAAAAAA\n",
       "AGKc7wYAAIBNnE1v52Q6AACwnU1pAAAAAAAAAGKE0gAAAAAAAADECKUBAAAAAAAAiNEpDQAAwAzd\n",
       "xmzhrQMAAMvZlAYAAAAAAAAgRigNAAAAAAAAQIxQGgAAAAAAAIAYndIAAHAh9aP9Tj3Tn7CQlz7B\n",
       "WwcAAKCbTWkAAAAAAAAAYoTSAAAAAAAAAMQ43w0AwBuc2AUC/LQAAADACjalAQAAAAAAAIgRSgMA\n",
       "AAAAAAAQI5QGAAAAAAAAIEanNAAAQJV+4wHP9AdAEz8vE0wdAABuYlMaAAAAAAAAgBihNAAAAAAA\n",
       "AAAxzncDAABU1XFMut9xXnfCOd46AAAAvWxKAwAAAAAAABAjlAYAAAAAAAAgRigNAAAAAAAAQIxO\n",
       "aQAAuJCmXQAAAAA+hU1pAAAAAAAAAGKE0gAAAAAAAADECKUBAAAAAAAAiNEpDQAAwAzl6QAAALCC\n",
       "TWkAAAAAAAAAYoTSAAAAAAAAAMQ43w0AwBvc2G1n5O1OPdOfAE289W5+0gEAgO1sSgMAAAAAAAAQ\n",
       "I5QGAAAAAAAAIEYoDQAAAAAAAECMTmkAALiSztd2Sl/7HUOfYOoDDH2AoQMAwE1sSgMAAAAAAAAQ\n",
       "I5QGAAAAAAAAIMb5bgDgG+QcI5/PK2cDR+qH+IEBAACgmU1pAAAAAAAAAGKE0gAAAAAAAADECKUB\n",
       "AAAAAAAAiNEpDQAAUFVHw3E/3cZDvPV+Zg4AAOxmUxoAAAAAAACAGKE0AAAAAAAAADFCaQAAAAAA\n",
       "AABidEoDAADAIqq8+5k5O3jpAAD8dzalAQAAAAAAAIgRSgMAAAAAAAAQ43w3AAAvHecYgYTjtwUA\n",
       "AAA2sCkNAAAAAAAAQIxQGgAAAAAAAIAYoTQAAAAAAAAAMTqlAQDgQpp2+53zTH8CAF/J8ZcUAACu\n",
       "YlMaAAAAAAAAgBihNAAAAAAAAAAxzncDAAAww3XdEU7VAwAA0M2mNAAAAAAAAAAxQmkAAAAAAAAA\n",
       "YoTSAAAAAAAAAMTolAYAgBvp2mUBzcZs4ScdAADYzqY0AAAAAAAAADFCaQAAAAAAAABihNIAAAAA\n",
       "AAAAxOiUBgDgNWWYLHA0HPc7flwAAABgA5vSAAAAAAAAAMQIpQEAAAAAAACIcb4bAAAu5KgxkOJU\n",
       "/QA/6v3MHAAArmJTGgAAAAAAAIAYoTQAAAAAAAAAMUJpAAAAAAAAAGJ0SgMA8AbFjECAnxYAAABY\n",
       "waY0AAAAAAAAADFCaQAAAAAAAABinO8GAACoqnOe6U+AFsfZ9HZGPsHUAQDgJjalAQAAAAAAAIgR\n",
       "SgMAAAAAAAAQI5QGAAAAAAAAIEanNAAAXEm/MQsoNx7i9wUAAIBeNqUBAAAAAAAAiBFKAwAAAAAA\n",
       "ABAjlAYAAAAAAAAgRqc0AABcSNMuG2g2Zg+vHQAA2M2mNAAAAAAAAAAxQmkAAAAAAAAAYpzvBgAA\n",
       "qKrjvG4/d+pHGHs/MwcAALazKQ0AAAAAAABAjFAaAAAAAAAAgBihNAAAAAAAAAAxOqUBAHiDNkyA\n",
       "z6E/HQAAgF42pQEAAAAAAACIEUoDAAAAAAAAEON8NwAA3MjF9H5m3u8Y+ghjZwUPHQAAbmJTGgAA\n",
       "AAAAAIAYoTQAAAAAAAAAMUJpAAAAAAAAAGJ0SgMAwIU0YfYzc7bw1gcYOgAAsJxNaQAAAAAAAABi\n",
       "hNIAAAAAAAAAxAilAQAAAAAAAIjRKQ0AAFBVVc/0B+yjZ3eIt97NUwcAALazKQ0AAAAAAABAjFAa\n",
       "AAAAAAAAgBjnuwEAAMp5XQAAAIAUm9IAAAAAAAAAxAilAQAAAAAAAIgRSgMAAAAAAAAQo1MaAAAu\n",
       "pN+YDZ7jpU8wdQAAALrZlAYAAAAAAAAgRigNAAAAAAAAQIzz3QAAvMGxVzZ4pj8AmnjrAAAA9LIp\n",
       "DQAAAAAAAECMUBoAAAAAAACAGKE0AAAAAAAAADE6pQEAAKrqqE7vZ+YzzL2dkU8wdQAAuIlNaQAA\n",
       "AAAAAABihNIAAAAAAAAAxAilAQAAAAAAAIjRKQ0AAFd6pj8A+FCadgEAAOhmUxoAAAAAAACAGKE0\n",
       "AAAAAAAAADHOdwMAwIWO+7oDnExv56EP8dYBAADoZVMaAAAAAAAAgBihNAAAAAAAAAAxQmkAAAAA\n",
       "AAAAYnRKAwAAVJV2Y7bw1ifo8QYAAHazKQ0AAAAAAABAjFAaAAAAAAAAgBjnuwEAAJjhjjRLHG8d\n",
       "AABYzqY0AAAAAAAAADFCaQAAAAAAAABihNIAAAAAAAAAxOiUBgDgDcow+XznPNOfsI6JAwAAwA42\n",
       "pQEAAAAAAACIEUoDAAAAAAAAECOUBgAAAAAAACBGpzQAAFxIizcrHC99gv50dvD7AgAAN7EpDQAA\n",
       "AAAAAECMUBoAAAAAAACAGOe7AQB4zQVMIMFvC0t46gAAwHY2pQEAAAAAAACIEUoDAAAAAAAAECOU\n",
       "BgAAAAAAACBGpzQAAEBVnXqmPwFa6DdmBQ8dAACuYlMaAAAAAAAAgBihNAAAAAAAAAAxzncDAAAw\n",
       "w3ndIU7VAwAA0MumNAAAAAAAAAAxQmkAAAAAAAAAYoTSAAAAAAAAAMTolAYAgAup2mUHLx0AAAA2\n",
       "sCkNAAAAAAAAQIxQGgAAAAAAAIAY57sBAHiDE7vtjLzdMfN+Zj7C2PuZ+QRTBwCAm9iUBgAAAAAA\n",
       "ACBGKA0AAAAAAABAjFAaAAAAAAAAgBid0gAAAFVV9Ux/wDomPuSYPAAAAL1sSgMAAAAAAAAQI5QG\n",
       "AAAAAAAAIEYoDQAAAAAAAECMTmkAALjQmf6Ahcx8gKGzhbcOAAAsZ1MaAAAAAAAAgBihNAAAAAAA\n",
       "AAAxzncDAMCVnukPAD6US9IAAAB0sykNAAAAAAAAQIxQGgAAAAAAAIAYoTQAAAAAAAAAMTqlAQB4\n",
       "Sf8oO+jxbnf8uszw1rt56QAAwHY2pQEAAAAAAACIEUoDAAAAAAAAEON8NwAAQDmvyx7e+gQn07t5\n",
       "5wAAcBeb0gAAAAAAAADECKUBAAAAAAAAiBFKAwAAAAAAABCjUxoAgDdoZuxm4gMMvZ+ZAwAAwAo2\n",
       "pQEAAAAAAACIEUoDAAAAAAAAECOUBgAAAAAAACBGpzQAAEBVnXqmPwF66PJmBQ8dAABuYlMaAAAA\n",
       "AAAAgBihNAAAAAAAAAAxzncDAAAw4zivO8Gp+n5eOgAAsJ1NaQAAAAAAAABihNIAAAAAAAAAxAil\n",
       "AQAAAAAAAIjRKQ0AADdSQMoCmo0BAABgB5vSAAAAAAAAAMQIpQEAAAAAAACIcb4bAAAu5Hp3PzMf\n",
       "YOgjjB0AAIBuNqUBAAAAAAAAiBFKAwAAAAAAABAjlAYAAAAAAAAgRqc0AABAVVU90x8ATbz1bkeR\n",
       "NwAAsJxNaQAAAAAAAABihNIAAAAAAAAAxAilAQAAAAAAAIjRKQ0AwBuUYfL5vPIBhg4AAAAr2JQG\n",
       "AAAAAAAAIEYoDQAAAAAAAECM890AAHAhV40HGHq/Y+gTjJ0dPHQAALiJTWkAAAAAAAAAYoTSAAAA\n",
       "AAAAAMQIpQEAAAAAAACI0SkNAABQVVXP9AdAE28dAACAXjalAQAAAAAAAIgRSgMAAAAAAAAQ43w3\n",
       "AABAVZ3pD9jI0EcYez8zBwAAtrMpDQAAAAAAAECMUBoAAAAAAACAGKE0AAAAAAAAADFCaQAAAAAA\n",
       "AABihNIAAAAAAAAAxAilAQAAAAAAAIgRSgMAAAAAAAAQ82X6AwAAgP906pn+hHXMfMCZ/gAAAACg\n",
       "g01pAAAAAAAAAGKE0gAAAAAAAADEON8NAMBrx41d4Ot73O8e4VR9Py8dAADYzqY0AAAAAAAAADFC\n",
       "aQAAAAAAAABihNIAAAAAAAAAxOiUBgCAGykg7Wfm/cycNfR4tzt+YAAA4CY2pQEAAAAAAACIEUoD\n",
       "AAAAAAAAEON8NwAAQLkkzR6uGg8wcwAAYDmb0gAAAAAAAADECKUBAAAAAAAAiBFKAwAAAAAAABCj\n",
       "UxoAAC6kfnTCM/0B+3joQ7x1AAAAetmUBgAAAAAAACBGKA0AAAAAAABAjFAaAAAAAAAAgBid0gAA\n",
       "AKXemD289X5mDgAAbGdTGgAAAAAAAIAYoTQAAAAAAAAAMc53AwAAMOM4agwAAAAb2JQGAAAAAAAA\n",
       "IEYoDQAAAAAAAECMUBoAAAAAAACAGJ3SAABwIU27/U49058AAAAA8JFsSgMAAAAAAAAQI5QGAAAA\n",
       "AAAAIMb5bgAA3uCYNBDgp2WEU/UAAAB0sykNAAAAAAAAQIxQGgAAAAAAAIAYoTQAAAAAAAAAMTql\n",
       "AQAAqvQbs4e33s7IJ5g6AADcxKY0AAAAAAAAADFCaQAAAAAAAABihNIAAAAAAAAAxOiUBgAAKO2j\n",
       "Iwx9hLEDAADQzaY0AAAAAAAAADFCaQAAAAAAAABinO8GAIALOa874Zn+gH2Olw4AAAAb2JQGAAAA\n",
       "AAAAIEYoDQAAAAAAAECMUBoAAAAAAACAGJ3SAABwI1W77Yy8nxbvKSbfze8LAACwnU1pAAAAAAAA\n",
       "AGKE0gAAAAAAAADEON8NAADADDeNRxj7AEMHAACWsykNAAAAAAAAQIxQGgAAAAAAAIAYoTQAAAAA\n",
       "AAAAMTqlAQDgQupH+5k5AAAAQIZNaQAAAAAAAABihNIAAAAAAAAAxAilAQAAAAAAAIjRKQ0AwBu0\n",
       "7bLBM/0B+/hpGXG89XaeOgAAsJ1NaQAAAAAAAABihNIAAAAAAAAAxDjfDQAAUOW+Lnt466zgoQMA\n",
       "wE1sSgMAAAAAAAAQI5QGAAAAAAAAIEYoDQAAAAAAAECMTmkAALiQJsx+Zj7A0EcYOwAAAN1sSgMA\n",
       "AAAAAAAQI5QGAAAAAAAAIMb5bgAAAIY4JA0AAAAb2JQGAAAAAAAAIEYoDQAAAAAAAECMUBoAAAAA\n",
       "AACAGJ3SAAAAVXXqmf6EfVRKD/HWu3nqAADAdjalAQAAAAAAAIgRSgMAAAAAAAAQI5QGAAAAAAAA\n",
       "IEanNAAAACyi3xgAAIBuNqUBAAAAAAAAiBFKAwAAAAAAABDjfDcAAFzo1DP9Ces4aTzA0AEAAGAF\n",
       "m9IAAAAAAAAAxAilAQAAAAAAAIgRSgMAAAAAAAAQo1MaAIA3KH5lAz3e7OAXvd/x+wIAACxnUxoA\n",
       "AAAAAACAGKE0AAAAAAAAADHOdwMAwI3c1+1n5v3MfMZxSpoN/MAAAMBNbEoDAAAAAAAAECOUBgAA\n",
       "AAAAACBGKA0AAAAAAABAjE5pAABeU8vYzsj7mTlbeOsDDB0AAFjOpjQAAAAAAAAAMUJpAAAAAAAA\n",
       "AGKE0gAAAAAAAADE6JQGAABgxHMU7QIhfl4AAOAqNqUBAAAAAAAAiBFKAwAAAAAAABDjfDcAAEBV\n",
       "nXqmPwH4UC5JAwAA29mUBgAAAAAAACBGKA0AAAAAAABAjFAaAAAAAAAAgBid0gAAcCH9o6zgoY/Q\n",
       "nw4AAEA3m9IAAAAAAAAAxAilAQAAAAAAAIhxvhsAAKBckh5h6AAAALCCTWkAAAAAAAAAYoTSAAAA\n",
       "AAAAAMQIpQEAAAAAAACI0SkNAMAbFL8CfAq/6P3MHAAA2M6mNAAAAAAAAAAxQmkAAAAAAAAAYoTS\n",
       "AAAAAAAAAMTolAYAAKiqOs/0F+yjaBeI8QMDAAA3sSkNAAAAAAAAQIxQGgAAAAAAAIAY57sBAOBC\n",
       "jo72M3O2OE7VAwAA0MymNAAAAAAAAAAxQmkAAAAAAAAAYoTSAAAAAAAAAMTolAYAAGCGIm+W8NQB\n",
       "AIDtbEoDAAAAAAAAECOUBgAAAAAAACDG+W4AAIByXneGqQMAAMAGNqUBAAAAAAAAiBFKAwAAAAAA\n",
       "ABAjlAYAAAAAAAAgRqc0AABcSNMuK3joI4wdAACAbjalAQAAAAAAAIgRSgMAAAAAAAAQI5QGAAAA\n",
       "AAAAIEanNAAA3Ejpa7tTz/QnQBNvvZufdAAAYDub0gAAAAAAAADECKUBAAAAAAAAiHG+GwAAgBlu\n",
       "Go8wdgAAALrZlAYAAAAAAAAgRigNAAAAAAAAQIxQGgAAAAAAAIAYndIAALxBA2k3Ex9g6ECK3xcA\n",
       "AGA5m9IAAAAAAAAAxAilAQAAAAAAAIhxvhsAAKBc1x1h6COOubcz8gmmDgAAN7EpDQAAAAAAAECM\n",
       "UBoAAAAAAACAGKE0AAAAAAAAADE6pQEAeEkrIzs80x8AAAAA8JFsSgMAAAAAAAAQI5QGAAAAAAAA\n",
       "IEYoDQAAAAAAAECMTmkAALiQHu9+Zj7A0IfoT+fz+XkBAIC72JQGAAAAAAAAIEYoDQAAAAAAAECM\n",
       "890AAACwiLPG/cwcAADYzqY0AAAAAAAAADFCaQAAAAAAAABihNIAAAAAAAAAxOiUBgAAKJ2vIwwd\n",
       "AAAAVrApDQAAAAAAAECMUBoAAAAAAACAGOe7AQDgQq4aT3imPwBa+H0BAACgm01pAAAAAAAAAGKE\n",
       "0gAAAAAAAADECKUB+Dd7d3ArMZIDUVACxn+XtQbMYf5hX7HQjLBAIAq6JMgEAAAAAADI6JQGAIAr\n",
       "aX1lAc98iP700zx1AABgO5vSAAAAAAAAAGSE0gAAAAAAAABkhNIAAAAAAAAAZHRKAwDwB9ow+X2f\n",
       "Z84S3joAAACn2ZQGAAAAAAAAICOUBgAAAAAAACDjfDcAAFzIdV02eD101vDYzzNzAAC4iU1pAAAA\n",
       "AAAAADJCaQAAAAAAAAAyQmkAAAAAAAAAMjqlAQAAHu2jM0x9gqmfZ+YAAMB2NqUBAAAAAAAAyAil\n",
       "AQAAAAAAAMg43w0AwH9zd5QV3ukP2Me/BQAAAFawKQ0AAAAAAABARigNAAAAAAAAQEYoDQAAAAAA\n",
       "AEBGpzQAAFxI1e55Zs4e+tNZwE8dAACuYlMaAAAAAAAAgIxQGgAAAAAAAICMUBoAAAAAAACAjE5p\n",
       "AAAAZuh8HWHs55k5AACwnU1pAAAAAAAAADJCaQAAAAAAAAAyzncDAAA8zusCAAAAVGxKAwAAAAAA\n",
       "AJARSgMAAAAAAACQEUoDAAAAAAAAkNEpDQAAF/oUHJ9n5ueZ+QhjBwAA4DSb0gAAAAAAAABkhNIA\n",
       "AAAAAAAAZJzvBgDgDxx7ZYN3+gPgDL/044wcAADYzqY0AAAAAAAAABmhNAAAAAAAAAAZoTQAAAAA\n",
       "AAAAGZ3SAAAAj87XEYY+4tOffp63PsDQAQDgJjalAQAAAAAAAMgIpQEAAAAAAADICKUBAAAAAAAA\n",
       "yOiUBgCAC2nCBAAAAOBX2JQGAAAAAAAAICOUBgAAAAAAACDjfDcAAMDjZPoIQ2cJTx0AANjOpjQA\n",
       "AAAAAAAAGaE0AAAAAAAAABmhNAAAAAAAAAAZndIAAACwiH5jAAAATrMpDQAAAAAAAEBGKA0AAAAA\n",
       "AABAxvluAAC4kPO6533PO/0J+3joAAAAsIJNaQAAAAAAAAAyQmkAAAAAAAAAMkJpAAAAAAAAADI6\n",
       "pQEA4ErKdoGG/vTz/NEBAIDtbEoDAAAAAAAAkBFKAwAAAAAAAJARSgMAAAAAAACQ0SkNAAAX0j86\n",
       "wNDPM3PW8NgBAIDdbEoDAAAAAAAAkBFKAwAAAAAAAJBxvhsAAOBxXJc9Po8dAACAw2xKAwAAAAAA\n",
       "AJARSgMAAAAAAACQEUoDAAAAAAAAkNEpDQDAHyggBQJ+LSzhqU8wdQAAuIlNaQAAAAAAAAAyQmkA\n",
       "AAAAAAAAMs53AwDAhRwdPe973ulPAAAAAPhJNqUBAAAAAAAAyAilAQAAAAAAAMgIpQEAAAAAAADI\n",
       "6JQGAABghvL0EfrTAQAAOM2mNAAAAAAAAAAZoTQAAAAAAAAAGee7AQAAHpekgY7/CwAAsJ1NaQAA\n",
       "AAAAAAAyQmkAAAAAAAAAMkJpAAAAAAAAADI6pQEA4EL6R1nBQx9h7AAAAJxmUxoAAAAAAACAjFAa\n",
       "AAAAAAAAgIxQGgAAAAAAAICMTmkAALiS1leAX+GPDgAAbGdTGgAAAAAAAICMUBoAAAAAAACAjPPd\n",
       "AAAAz/N87uueZ+YjjH2CqQMAALvZlAYAAAAAAAAgI5QGAAAAAAAAICOUBgAAAAAAACCjUxoAAC6k\n",
       "fXTCO/0BcIYfDAAAAIfZlAYAAAAAAAAgI5QGAAAAAAAAION8NwAAwOOi8QhDH+JU/WmeOgAAsJ1N\n",
       "aQAAAAAAAAAyQmkAAAAAAAAAMkJpAAAAAAAAADI6pQEA+ANtmKeZODvoNp7g/wIAAMBpNqUBAAAA\n",
       "AAAAyAilAQAAAAAAAMgIpQEAAAAAAADI6JQGAAB49OwC/BZ/dQAAuIlNaQAAAAAAAAAyQmkAAAAA\n",
       "AAAAMs53AwDAlZwdZQHPfISxn2fmAADAdlH8CUoAACAASURBVDalAQAAAAAAAMgIpQEAAAAAAADI\n",
       "CKUBAAAAAAAAyOiUBgCAC+kfBfgl/uoAAMBuNqUBAAAAAAAAyAilAQAAAAAAAMg43w0AwH9zdZQF\n",
       "vued/oR9/FtGeOvneeoAAMB2NqUBAAAAAAAAyAilAQAAAAAAAMgIpQEAAAAAAADI6JQGAAB4HqWv\n",
       "AL/EPx0AAK5iUxoAAAAAAACAjFAaAAAAAAAAgIxQGgAAAAAAAICMTmkAALiQKszzzPy8z9BnmDsA\n",
       "AACH2ZQGAAAAAAAAICOUBgAAAAAAACDjfDcAAFzJfV2g4e9ynpkDAADb2ZQGAAAAAAAAICOUBgAA\n",
       "AAAAACAjlAYAAAAAAAAgo1MaAAAupH/0PDMfYOis4bEDAAC72ZQGAAAAAAAAICOUBgAAAAAAACDj\n",
       "fDcAAAAs4pA0AAAAp9mUBgAAAAAAACAjlAYAAAAAAAAgI5QGAAAAAAAAIKNTGgCAP9BAygbv9Afs\n",
       "49fCEp76BFMHAICb2JQGAAAAAAAAICOUBgAAAAAAACAjlAYAAAAAAAAgo1MaAAAu9OnCPM7E2eLT\n",
       "nw4AAMBhNqUBAAAAAAAAyAilAQAAAAAAAMg43w0AAAAQUskAAABsZ1MaAAAAAAAAgIxQGgAAAAAA\n",
       "AICMUBoAAAAAAACAjE5pAACA53k+la/nmfkMcwcAAOAwm9IAAAAAAAAAZITSAAAAAAAAAGSc7wYA\n",
       "gAu5rssO7/QHrOT/AgAAwGk2pQEAAAAAAADICKUBAAAAAAAAyAilAQAAAAAAAMjolAYAgCtpfT3N\n",
       "xAcYOkt46gAAwHY2pQEAAAAAAADICKUBAAAAAAAAyAilAQAAAAAAAMjolAYAgAvpHwUq/i8TTB0A\n",
       "ANjNpjQAAAAAAAAAGaE0AAAAAAAAABnnuwEAAJ7neZ53+gP2cdF4iLcOAADAWTalAQAAAAAAAMgI\n",
       "pQEAAAAAAADICKUBAAAAAAAAyOiUBgAAeNQbAx3/FwAAYDub0gAAAAAAAABkhNIAAAAAAAAAZJzv\n",
       "BgCAC32OvbKBZz7C2AEAADjNpjQAAAAAAAAAGaE0AAAAAAAAABmhNAAAAAAAAAAZndIAAPyBBlJ+\n",
       "n1cOVD5/mAFmDgAAN7EpDQAAAAAAAEBGKA0AAAAAAABARigNAAAAAAAAQEanNAAAwPOoH2WNz1sH\n",
       "AADgMJvSAAAAAAAAAGSE0gAAAAAAAABknO8GAIALfW5Js4FnDgAAACvYlAYAAAAAAAAgI5QGAAAA\n",
       "AAAAICOUBgAAAAAAACCjUxoAAOBRb8we3vp5n6kDAADL2ZQGAAAAAAAAICOUBgAAAAAAACDjfDcA\n",
       "AFzIodcJ7/QH7POZOQAAAGxgUxoAAAAAAACAjFAaAAAAAAAAgIxQGgAAAAAAAICMTmkAALiSVunT\n",
       "TJw9dHkDAABwlk1pAAAAAAAAADJCaQAAAAAAAAAyQmkAAAAAAAAAMjqlAQAAYBH96eeZOQAAsJ1N\n",
       "aQAAAAAAAAAyQmkAAAAAAAAAMs53AwDAhZx6ZQUPnTU8dgAAYDeb0gAAAAAAAABkhNIAAAAAAAAA\n",
       "ZITSAAAAAAAAAGR0SgMAwJX0j55m4ueZ+QxzP8/MAQCA7WxKAwAAAAAAAJARSgMAAAAAAACQcb4b\n",
       "AADgedzXnWDmM8wdAACAw2xKAwAAAAAAAJARSgMAAAAAAACQEUoDAAAAAAAAkNEpDQAAF1L5ep6Z\n",
       "Ax1/GAAAYDeb0gAAAAAAAABkhNIAAAAAAAAAZITSAAAAAAAAAGR0SgMA8Ae6MM8z8/Pe6Q9YyMwn\n",
       "+LucZ+YTTB0AAG5iUxoAAAAAAACAjFAaAAAAAAAAgIzz3QAAcCFHR1nBQx/ibDoAAABn2ZQGAAAA\n",
       "AAAAICOUBgAAAAAAACAjlAYAAAAAAAAgo1MaAADgUW/MHt76BFMHAAB2sykNAAAAAAAAQEYoDQAA\n",
       "AAAAAEDG+W4AALiSU68s4JmzhKcOAABsZ1MaAAAAAAAAgIxQGgAAAAAAAICMUBoAAAAAAACAjE5p\n",
       "AAD+mzLM44z8PDMHOv4wxxk5AABcxaY0AAAAAAAAABmhNAAAAAAAAAAZoTQAAAAAAAAAGZ3SAAAA\n",
       "z6N/lDU89fPMHAAA2M6mNAAAAAAAAAAZoTQAAAAAAAAAGee7AQDgSo69soBnPsPcAQAAOMymNAAA\n",
       "AAAAAAAZoTQAAAAAAAAAGaE0AAAAAAAAABmd0gAAcCGVr+eZ+YR3+gNW8tYnmDoAALCbTWkAAAAA\n",
       "AAAAMkJpAAAAAAAAADLOdwMAwI1ep15ZwDNnCU8dAADYzqY0AAAAAAAAABmhNAAAAAAAAAAZoTQA\n",
       "AAAAAAAAGZ3SAAAAz/N8zzv9CcCv8nsBAACWsykNAAAAAAAAQEYoDQAAAAAAAEBGKA0AAAAAAABA\n",
       "Rqc0AABc6Jv+ADjAO5+hP32C1w4AAOxmUxoAAAAAAACAjFAaAAAAAAAAgIzz3QAAcCWnXlnAM2cJ\n",
       "Tx0AANjOpjQAAAAAAAAAGaE0AAAAAAAAABmhNAAAAAAAAAAZndIAAPyBNszTTPw8Mwc6/jDnmTkA\n",
       "ANzEpjQAAAAAAAAAGaE0AAAAAAAAABnnuwEA4ErOjh5n5APe6Q9YyVMHAADgNJvSAAAAAAAAAGSE\n",
       "0gAAAAAAAABkhNIAAAAAAAAAZHRKAwAAPHp2Rxj6DHM/zsgBAIDtbEoDAAAAAAAAkBFKAwAAAAAA\n",
       "AJARSgMAAAAAAACQ0SkNAAAX0j8KVPxfJpg6AACwm01pAAAAAAAAADJCaQAAAAAAAAAyzncDAMCV\n",
       "nHplAc8cAAAAVrApDQAAAAAAAEBGKA0AAAAAAABARigNAAAAAAAAQEanNAAAwKPeGOh8/jAAAMBy\n",
       "NqUBAAAAAAAAyAilAQAAAAAAAMg43w0AABdy6nXCO/0BC5n5BH8XAAAATrMpDQAAAAAAAEBGKA0A\n",
       "AAAAAABARigNAAAAAAAAQEanNAAAwKNnd4ShD9HlDQAAwFk2pQEAAAAAAADICKUBAAAAAAAAyAil\n",
       "AQAAAAAAAMjolAYAAIBFVHmf95k6AACwnE1pAAAAAAAAADJCaQAAAAAAAAAyzncDAMCFnHodYOTH\n",
       "GTkAAADsYFMaAAAAAAAAgIxQGgAAAAAAAICMUBoAAAAAAACAjE5pAACAR7/xCEOfYe4DDB0AANjN\n",
       "pjQAAAAAAAAAGaE0AAAAAAAAABnnuwEA4EpOvQINf5fzzBwAANjOpjQAAAAAAAAAGaE0AAAAAAAA\n",
       "ABmhNAAAAAAAAAAZndIAAHAh/aPs8E5/AAAAAHCATWkAAAAAAAAAMkJpAAAAAAAAADJCaQAAAAAA\n",
       "AAAyOqUBAPgDDcf8Pq98gKGzhsd+npkDAMBNbEoDAAAAAAAAkBFKAwAAAAAAAJBxvhsAAK7k7CjQ\n",
       "8Hc5z8wBAIDtbEoDAAAAAAAAkBFKAwAAAAAAAJARSgMAAAAAAACQ0SkNAAAX0j96npkDHX8YAABg\n",
       "N5vSAAAAAAAAAGSE0gAAAAAAAABknO8GAIArOfV63jv9Aft45iOMHQAAgNNsSgMAAAAAAACQEUoD\n",
       "AAAAAAAAkBFKAwAAAAAAAJDRKQ0AAPA8inZH6PGeYe6nfX4wAADAcjalAQAAAAAAAMgIpQEAAAAA\n",
       "AADICKUBAAAAAAAAyOiUBgCAC+kfPe/Ts8sWfi8AAAAcZlMaAAAAAAAAgIxQGgAAAAAAAICM890A\n",
       "AACM+JyRHmHsAAAAnGZTGgAAAAAAAICMUBoAAAAAAACAjFAaAAAAAAAAgIxOaQAAAIDQp8kbAABY\n",
       "zqY0AAAAAAAAABmhNAAAAAAAAAAZ57sBAOBKTr2eZuIAAAAADZvSAAAAAAAAAGSE0gAAAAAAAABk\n",
       "hNIAAAAAAAAAZHRKAwDAhfQbs8L3Tn/BSv4vE0wdAADYzaY0AAAAAAAAABmhNAAAAAAAAAAZoTQA\n",
       "AAAAAAAAGZ3SAABwJf2jAL/CHx0AANjOpjQAAAAAAAAAGaE0AAAAAAAAABnnuwEAAB7ndYGSPwwA\n",
       "ALCbTWkAAAAAAAAAMkJpAAAAAAAAADJCaQAAAAAAAAAyOqUBAOBCn/7R84z8PDMfYewAAACcZlMa\n",
       "AAAAAAAAgIxQGgAAAAAAAICM890AAACPk8ZAx/8FAADYzqY0AAAAAAAAABmhNAAAAAAAAAAZoTQA\n",
       "AAAAAAAAGZ3SAAD8gTZMNninP2Cdz8xn+KUPMPTzzBwAAG5iUxoAAAAAAACAjFAaAAAAAAAAgIzz\n",
       "3QAAcKHP2VEg4mw6AAAAp9mUBgAAAAAAACAjlAYAAAAAAAAgI5QGAAAAAAAAIKNTGgAA4Hm0eE8w\n",
       "dNbw2E/7jBwAAK5iUxoAAAAAAACAjFAaAAAAAAAAgIxQGgAAAAAAAICMTmkAAP6TXsYJhg40/F3O\n",
       "M3MAAGA7m9IAAAAAAAAAZITSAAAAAAAAAGSc7wYAAGDIO/0BcIgD3gAAwG42pQEAAAAAAADICKUB\n",
       "AAAAAAAAyAilAQAAAAAAAMjolAYAgAt9+kePM/EBhg4AAAAr2JQGAAAAAAAAICOUBgAAAAAAACDj\n",
       "fDcAAMDzOCXNGp76eWYOAABsZ1MaAAAAAAAAgIxQGgAAAAAAAICMUBoAAAAAAACAjE5pAAC4kgZS\n",
       "gN/hnw4AAOxmUxoAAAAAAACAjFAaAAAAAAAAgIxQGgAAAAAAAICMTmkAALiQ9tHzzPw8Mx9i8AAA\n",
       "ABxmUxoAAAAAAACAjFAaAAAAAAAAgIzz3QAAAMz43ukvWMn17gmmDgAA7GZTGgAAAAAAAICMUBoA\n",
       "AAAAAACAjFAaAAAAAAAAgIxOaQAAuJL+UYBf4Y8OAABsZ1MaAAAAAAAAgIxQGgAAAAAAAICM890A\n",
       "AACP87pAyR8GAADYzaY0AAAAAAAAABmhNAAAAAAAAAAZoTQAAAAAAAAAGZ3SAABwoU//6IB3+gP2\n",
       "8cxHGDsAAACn2ZQGAAAAAAAAICOUBgAAAAAAACAjlAYAAAAAAAAgo1MaAAAAVtGffpoebwAAYDub\n",
       "0gAAAAAAAABkhNIAAAAAAAAAZJzvBgCAKzn2epqJT3BGmi38YQAAgN1sSgMAAAAAAACQEUoDAAAA\n",
       "AAAAkBFKAwAAAAAAAJDRKQ0AAPA8Kl9Zw1MHAADgNJvSAAAAAAAAAGSE0gAAAAAAAABknO8GAIAL\n",
       "Oa/LBp+HPsPcBxj6eWYOAAA3sSkNAAAAAAAAQEYoDQAAAAAAAEBGKA0AAAAAAABARqc0AAB/oJfx\n",
       "PDM/zcSBiv8LAACwnU1pAAAAAAAAADJCaQAAAAAAAAAyQmkAAAAAAAAAMjqlAQAAGPJOf8BK+o0n\n",
       "mDoAALCbTWkAAAAAAAAAMkJpAAAAAAAAADLOdwMAwI0+p14BAAAA+A02pQEAAAAAAADICKUBAAAA\n",
       "AAAAyAilAQAAAAAAAMjolAYAgAtplD7PzAcYOmt47AAAwG42pQEAAAAAAADICKUBAAAAAAAAyDjf\n",
       "DQAAV3LqFWj4u5z3GToAALCcTWkAAAAAAAAAMkJpAAAAAAAAADJCaQAAAAAAAAAyQmkAAAAAAAAA\n",
       "MkJpAAAAAAAAADJCaQAAAAAAAAAyQmkAAAAAAAAAMv9MfwAAAMANvm/6C/b5vnf6E+AQPxgAAGA3\n",
       "m9IAAAAAAAAAZITSAAAAAAAAAGSc7wYAgAt9Tr0CEafqAQAAOM2mNAAAAAAAAAAZoTQAAAAAAAAA\n",
       "GaE0AAAAAAAAABmd0gAAAM/zPM87/QHAj/oeRd4AAMBuNqUBAAAAAAAAyAilAQAAAAAAAMg43w0A\n",
       "AFdy6vU0E2cPp+oBAAA4y6Y0AAAAAAAAABmhNAAAAAAAAAAZoTQAAAAAAAAAGZ3SAAAAzPh0G0/Q\n",
       "nz7B1AEAgN1sSgMAAAAAAACQEUoDAAAAAAAAkBFKAwAAAAAAAJDRKQ0AABf69I8CAAAA8CNsSgMA\n",
       "AAAAAACQEUoDAAAAAAAAkHG+GwAA4HkcTB9g5gAAALCDTWkAAAAAAAAAMkJpAAAAAAAAADJCaQAA\n",
       "AAAAAAAyOqUBAABgEV3e532mDgAALGdTGgAAAAAAAICMUBoAAAAAAACAjPPdAABwJadejzPyAe/0\n",
       "BwAAAAAH2JQGAAAAAAAAICOUBgAAAAAAACAjlAYAAAAAAAAgo1MaAAAupN74PDMfYOgzzH2AoQMA\n",
       "ALvZlAYAAAAAAAAgI5QGAAAAAAAAICOUBgAAAAAAACCjUxoAAK6kfxQAAACA32BTGgAAAAAAAICM\n",
       "UBoAAAAAAACAjPPdAAAAsIhygPM+Ux9g5gAAcBOb0gAAAAAAAABkhNIAAAAAAAAAZITSAAAAAAAA\n",
       "AGR0SgMAwJV0YZ5m4gAAAAANm9IAAAAAAAAAZITSAAAAAAAAAGSc7wYA4A8cNgb+/77vnf4EAAAA\n",
       "4ACb0gAAAAAAAABkhNIAAAAAAAAAZITSAAAAAAAAAGR0SgMAwIW0eAMV/5cJpg4AAOxmUxoAAAAA\n",
       "AACAjFAaAAAAAAAAgIxQGgAAAAAAAICMTmkAALiS/lEAAAAAfoNNaQAAAAAAAAAyQmkAAAAAAAAA\n",
       "Ms53AwAAPM/zfe/0JwA/6lPJAAAALGdTGgAAAAAAAICMUBoAAAAAAACAjFAaAAAAAAAAgIxOaQAA\n",
       "uJL+URbQ4z1CfzoAAACn2ZQGAAAAAAAAICOUBgAAAAAAACAjlAYAAAAAAAAgI5QGAAAAAAAAICOU\n",
       "BgAAAAAAACAjlAYAAAAAAAAg88/0BwAAAP/2TX/AQmZ+npmzh9cOAADsZlMaAAAAAAAAgIxQGgAA\n",
       "AAAAAICMUBoAAAAAAACAjE5pAAC4kv5RoOHvcp6ZAwAA29mUBgAAAAAAACAjlAYAAAAAAAAg43w3\n",
       "AAAAM753+gvgEAe8AQCA3WxKAwAAAAAAAJARSgMAAAAAAACQEUoDAAAAAAAAkNEpDQAAV9I/epqJ\n",
       "AwAAADRsSgMAAAAAAACQEUoDAAAAAAAAkBFKAwAAAAAAAJARSgMAAAAAAACQEUoDAAAAAAAAkBFK\n",
       "AwAAAAAAAJD5Z/oDAACAf/ue73/t3VGqBckNRMG6MPvfcnsDBs+HT6l4ilhBIZr+SaScfsI+Rs4S\n",
       "PvUJpg4AAOxmUxoAAAAAAACAjFAaAAAAAAAAgIxQGgAAAAAAAICMTmkAAHiR+tHrjPy+7/ymnwBX\n",
       "+L8AAADb2ZQGAAAAAAAAICOUBgAAAAAAACDjfDcAAAAz3DSeYe4DDB0AANjNpjQAAAAAAAAAGaE0\n",
       "AAAAAAAAABmhNAAAAAAAAAAZndIAAPAk/aNAw99lgKEDAADL2ZQGAAAAAAAAICOUBgAAAAAAACDj\n",
       "fDcAAABAyv1uAABgN5vSAAAAAAAAAGSE0gAAAAAAAABkhNIAAAAAAAAAZHRKAwDAgz79o9eZOMAf\n",
       "4qcOAABPsSkNAAAAAAAAQEYoDQAAAAAAAEBGKA0AAAAAAABARqc0AADAOeec3/QD1vnMfISqXQAA\n",
       "AG6zKQ0AAAAAAABARigNAAAAAAAAQMb5bgAA/je3XoGCfwtLfD52AABgOZvSAAAAAAAAAGSE0gAA\n",
       "AAAAAABkhNIAAAAAAAAAZHRKAwDAk/SP3vYZOWv8ph8AAADAMjalAQAAAAAAAMgIpQEAAAAAAADI\n",
       "ON8NAAAAkNIPcJ+ZAwDAS2xKAwAAAAAAAJARSgMAAAAAAACQEUoDAAAAAAAAkNEpDQAAT9KFyQa/\n",
       "6Qes9Pm9AAAAcJlNaQAAAAAAAAAyQmkAAAAAAAAAMkJpAAAAAAAAADI6pQEA+BcUkN5m4gAAAAD8\n",
       "FTalAQAAAAAAAMgIpQEAAAAAAADION8NAABwnEyf8Bk6S3z+MAAAwHI2pQEAAAAAAADICKUBAAAA\n",
       "AAAAyAilAQAAAAAAAMjolAYAgCfpHwUa/i4AAADcZlMaAAAAAAAAgIxQGgAAAAAAAICM890AAAAM\n",
       "+U0/AAAAALjApjQAAAAAAAAAGaE0AAAAAAAAABmhNAAAAAAAAAAZndIAAPCkb/oB65g40PGHAQAA\n",
       "drMpDQAAAAAAAEBGKA0AAAAAAABARigNAAAAAAAAQEanNAAAADPU7AIAAMAKNqUBAAAAAAAAyAil\n",
       "AQAAAAAAAMg43w0AAA9y1XiAoV9n5DPMfYKpAwAAu9mUBgAAAAAAACAjlAYAAAAAAAAgI5QGAAAA\n",
       "AAAAIKNTGgAAnqR/lA1+0w/Yye/lOiMHAAC2sykNAAAAAAAAQEYoDQAAAAAAAEDG+W4AAIDjvC4A\n",
       "AABAxaY0AAAAAAAAABmhNAAAAAAAAAAZoTQAAAAAAAAAGZ3SAAAAsIj+9AmmDgAA7GZTGgAAAAAA\n",
       "AICMUBoAAAAAAACAjFAaAAAAAAAAgIxOaQAAeNGnf/S+3/QD9vGZAwAAwAo2pQEAAAAAAADICKUB\n",
       "AAAAAAAAyDjfDQAAcFySnvA5mT7E3K9TyQAAACxnUxoAAAAAAACAjFAaAAAAAAAAgIxQGgAAAAAA\n",
       "AICMTmkAAHjQp+EYAAAAgD/CpjQAAAAAAAAAGaE0AAAAAAAAABnnuwEAAGAR5QAAAADcZlMaAAAA\n",
       "AAAAgIxQGgAAAAAAAICMUBoAAAAAAACAjE5pAACAcxTtApnPDwYAAFjOpjQAAAAAAAAAGaE0AAAA\n",
       "AAAAABmhNAAAAAAAAAAZndIAAPAk/aO3mfiE3/QDAAAAgAtsSgMAAAAAAACQEUoDAAAAAAAAkHG+\n",
       "GwAAgBGfm+kjzB0AAIDbbEoDAAAAAAAAkBFKAwAAAAAAAJARSgMAAAAAAACQ0SkNAAAAkFLkDQAA\n",
       "7GZTGgAAAAAAAICMUBoAAAAAAACAjPPdAADwJKdebzNxAAAAgIZNaQAAAAAAAAAyQmkAAAAAAAAA\n",
       "MkJpAAAAAAAAADI6pQEA4EH6jdnhN/0AuMRfHQAA2M2mNAAAAAAAAAAZoTQAAAAAAAAAGaE0AAAA\n",
       "AAAAABmd0gAA8CT9o0DD3wUAAIDbbEoDAAAAAAAAkBFKAwAAAAAAAJBxvhsAAIARnzvSLOFTBwAA\n",
       "trMpDQAAAAAAAEBGKA0AAAAAAABARigNAAAAAAAAQEanNAAAwNH5CpT8YQAAgN1sSgMAAAAAAACQ\n",
       "EUoDAAAAAAAAkHG+GwAAnuTU63VGPuA3/QAAAADgApvSAAAAAAAAAGSE0gAAAAAAAABkhNIAAAAA\n",
       "AAAAZHRKAwAAnHP0G7PFpz8dAACAy2xKAwAAAAAAAJARSgMAAAAAAACQcb4bAACAEa5Is4evHQAA\n",
       "2M2mNAAAAAAAAAAZoTQAAAAAAAAAGaE0AAAAAAAAABmd0gAA8KBP/+h1Jj7A0If8ph8AAADAMjal\n",
       "AQAAAAAAAMgIpQEAAAAAAADICKUBAAAAAAAAyOiUBgCAF+naZQXdxhP8XtjBlw4AAC+xKQ0AAAAA\n",
       "AABARigNAAAAAAAAQMb5bgAAAIDQ9zklDQAA7GZTGgAAAAAAAICMUBoAAAAAAACAjFAaAAAAAAAA\n",
       "gIxOaQAAeJL+0dtMHAAAAKBhUxoAAAAAAACAjFAaAAAAAAAAgIzz3QAA/AsOGwP/f/4sAAAAsINN\n",
       "aQAAAAAAAAAyQmkAAAAAAAAAMkJpAAAAAAAAADI6pQEAAM5RcDziN/2AlXzqE0wdAADYzaY0AAAA\n",
       "AAAAABmhNAAAAAAAAAAZoTQAAAAAAAAAGZ3SAADwJP2jLOAzBwAAgBVsSgMAAAAAAACQEUoDAAAA\n",
       "AAAAkHG+GwAA4LgkzSI+dgAAAC6zKQ0AAAAAAABARigNAAAAAAAAQEYoDQAAAAAAAEBGpzQAAAAj\n",
       "vvObfgJcosgbAADYzaY0AAAAAAAAABmhNAAAAAAAAAAZ57sBAOBBn1OvQMTfBQAAgNtsSgMAAAAA\n",
       "AACQEUoDAAAAAAAAkBFKAwAAAAAAAJDRKQ0AAAAQ+jR5AwAAy9mUBgAAAAAAACAjlAYAAAAAAAAg\n",
       "I5QGAAAAAAAAIKNTGgAA4ByNrxMMHQAAAFawKQ0AAAAAAABARigNAAAAAAAAQMb5bgAAeJK7xvx9\n",
       "3/lNP2ElfxcAAABusykNAAAAAAAAQEYoDQAAAAAAAEBGKA0AAAAAAABARqc0AADAOed8+o2BiiZv\n",
       "AABgN5vSAAAAAAAAAGSE0gAAAAAAAABknO8GAACAVZyqBwAA4C6b0gAAAAAAAABkhNIAAAAAAAAA\n",
       "ZITSAAAAAAAAAGR0SgMAwJO+6QesY+Ks4WMHAADgMpvSAAAAAAAAAGSE0gAAAAAAAABkhNIAAAAA\n",
       "AAAAZHRKAwDAi3S+ssB3ftNPWMnvZYKpAwAAu9mUBgAAAAAAACAjlAYAAAAAAAAg43w3AAAAM1w0\n",
       "BgAAgBVsSgMAAAAAAACQEUoDAAAAAAAAkBFKAwAAAAAAAJDRKQ0AAA/6lO1eZ+JAxg8GAABYzqY0\n",
       "AAAAAAAAABmhNAAAAAAAAAAZ57sBAAAY8Z3f9BPgEve7AQCA3WxKAwAAAAAAAJARSgMAAAAAAACQ\n",
       "EUoDAAAAAAAAkNEpDQAAAItoN77PzAEAgO1sSgMAAAAAAACQEUoDAAAAAAAAkBFKAwAAAAAAAJDR\n",
       "KQ0AAE/SQAoAAADA32BTGgAAAAAAAICMUBoAAAAAAACAjPPdAAAA55zPxfT7zBwAAABWsCkNAAAA\n",
       "AAAAQEYoDQAAAAAAAEBGKA0AAAAAAABARqc0AAAAI77zm37CTrq8Bxg6AACwm01pAAAAAAAAADJC\n",
       "aQAAAAAAAAAyzncDAMCTnHoFGv4uAAAA3GZTGgAAAAAAAICMUBoAAAAAAACAjFAaAAAAAAAAgIxQ\n",
       "GgAAAAAAAICMUBoAAAAAAACAjFAaAAAAAAAAgIxQGgAAAAAAAIDMP9MPAAAAeME3/YCVftMPgEv8\n",
       "YQAAgN1sSgMAAAAAAACQEUoDAAAAAAAAkHG+GwAAnuTU631OSd/mKwcAAIAdbEoDAAAAAAAAkBFK\n",
       "AwAAAAAAAJARSgMAAAAAAACQ0SkNAAAP0rXLCj70EZ/+dAAAAC6zKQ0AAAAAAABARigNAAAAAAAA\n",
       "QMb5bgAAAICUW/UAAMBuNqUBAAAA7Z23LgAACAVJREFUAAAAyAilAQAAAAAAAMgIpQEAAAAAAADI\n",
       "6JQGAIAn6R+97TPy677zm34CXOH3AgAAbGdTGgAAAAAAAICMUBoAAAAAAACAjFAaAAAAAAAAgIxO\n",
       "aQAAeJECUiDi9wIAAMBtNqUBAAAAAAAAyAilAQAAAAAAAMg43w0AAACbuN89wNABAIDdbEoDAAAA\n",
       "AAAAkBFKAwAAAAAAAJARSgMAAAAAAACQ0SkNAADAiO/8pp8Ad6iUBgAAlrMpDQAAAAAAAEBGKA0A\n",
       "AAAAAABAxvluAAB4kluvt5n4AEMHAACAFWxKAwAAAAAAAJARSgMAAAAAAACQEUoDAAAAAAAAkNEp\n",
       "DQAAAIuo8p5g6gAAwG42pQEAAAAAAADICKUBAAAAAAAAyAilAQAAAAAAAMgIpQEAAAAAAADICKUB\n",
       "AAAAAAAAyAilAQAAAAAAAMj8M/0AAADgv/mmHwC57/ymnwAAAABcYFMaAAAAAAAAgIxQGgAAAAAA\n",
       "AICMUBoAAAAAAACAjE5pAACAc86nxhsAAAAgYVMaAAAAAAAAgIxQGgAAAAAAAICM890AAADMcDJ9\n",
       "hLFPMHUAAGA3m9IAAAAAAAAAZITSAAAAAAAAAGSE0gAAAAAAAABkdEoDAMCT9I/e95t+wDqfmc/w\n",
       "ewEAAOAym9IAAAAAAAAAZITSAAAAAAAAAGSE0gAAAAAAAABkdEoDAMCDVL7eZ+bsocsbAACAu2xK\n",
       "AwAAAAAAAJARSgMAAAAAAACQcb4bAAAAIKUg4D4zBwCAl9iUBgAAAAAAACAjlAYAAAAAAAAgI5QG\n",
       "AAAAAAAAIKNTGgAAgBEaX2eY+31mDgAAbGdTGgAAAAAAAICMUBoAAAAAAACAjPPdAADwJMde2eA3\n",
       "/QAAAADgApvSAAAAAAAAAGSE0gAAAAAAAABkhNIAAAAAAAAAZHRKAwAAHC3eIwwdAAAAVrApDQAA\n",
       "AAAAAEBGKA0AAAAAAABARigNAAAAAAAAQEanNAAAvEjXLgv4zNnD1w4AAOxmUxoAAAAAAACAjFAa\n",
       "AAAAAAAAgIzz3QAA8CSnXq8z8gG/6Qes5FMHAADgNpvSAAAAAAAAAGSE0gAAAAAAAABkhNIAAAAA\n",
       "AAAAZHRKAwDwL2ggBfgz/NLvM3MAAGA5m9IAAAAAAAAAZITSAAAAAAAAAGSc7wYAADiu604wc/bw\n",
       "tQMAALvZlAYAAAAAAAAgI5QGAAAAAAAAICOUBgAAAAAAACCjUxoAAIAhv+kHAAAAABfYlAYAAAAA\n",
       "AAAgI5QGAAAAAAAAICOUBgAAAAAAACCjUxoAAJ70TT8Aej7zEcYOAADAbTalAQAAAAAAAMgIpQEA\n",
       "AAAAAADION8NAABwzjnnN/2AdZyRBgAAgB1sSgMAAAAAAACQEUoDAAAAAAAAkBFKAwAAAAAAAJDR\n",
       "KQ0AAHD0G8/Q480W/jAAAMBuNqUBAAAAAAAAyAilAQAAAAAAAMg43w0AAMAIB41nfM6mAwAAcJlN\n",
       "aQAAAAAAAAAyQmkAAAAAAAAAMkJpAAAAAAAAADI6pQEA4Enadq8zcgAAAICETWkAAAAAAAAAMkJp\n",
       "AAAAAAAAADJCaQAAAAAAAAAyOqUBAABgE/3pAAAAXGZTGgAAAAAAAICMUBoAAAAAAACAjPPdAAAA\n",
       "x0XjCd/3m34CXOIPAwAA7GZTGgAAAAAAAICMUBoAAAAAAACAjFAaAAAAAAAAgIxOaQAAeNCnfxSI\n",
       "+LsAAABwm01pAAAAAAAAADJCaQAAAAAAAAAyQmkAAAAAAAAAMkJpAAAAAAAAADJCaQAAAAAAAAAy\n",
       "QmkAAAAAAAAAMv9MPwAAAOAF3/QDFvrOb/oJcMXnDwMAACxnUxoAAAAAAACAjFAaAAAAAAAAgIxQ\n",
       "GgAAAAAAAICMTmkAAHiR+lEAAAAA/gib0gAAAAAAAABkhNIAAAAAAAAAZJzvBgCAJ7nfzd/nK59h\n",
       "7gAAANxmUxoAAAAAAACAjFAaAAAAAAAAgIxQGgAAAAAAAICMTmkAAIBzFO1O+H7TL4A7/F8AAIDl\n",
       "bEoDAAAAAAAAkBFKAwAAAAAAAJBxvhsAAOCc8x2npFnCKekBhg4AAOxmUxoAAAAAAACAjFAaAAAA\n",
       "AAAAgIxQGgAAAAAAAICMTmkAAABGaNkFAACAHWxKAwAAAAAAAJARSgMAAAAAAACQEUoDAAAAAAAA\n",
       "kNEpDQAAT9K2ywa/6Qes9Jk7AAAAl9mUBgAAAAAAACAjlAYAAAAAAAAg43w3AAAAIxypBwAAgB1s\n",
       "SgMAAAAAAACQEUoDAAAAAAAAkBFKAwAAAAAAAJDRKQ0AAHD0GwMlfxgAAGA3m9IAAAAAAAAAZITS\n",
       "AAAAAAAAAGSc7wYAAGCGi8YjjJ0VfOgAAPAUm9IAAAAAAAAAZITSAAAAAAAAAGSE0gAAAAAAAABk\n",
       "dEoDAMCTlGFeZ+TXfec3/QQAAADgApvSAAAAAAAAAGSE0gAAAAAAAABkhNIAAAAAAAAAZITSAAAA\n",
       "AAAAAGSE0gAAAAAAAABkhNIAAAAAAAAAZP6ZfgAAAMALvukHLGTmQwx+gKEDAAC72ZQGAAAAAAAA\n",
       "ICOUBgAAAAAAACAjlAYAAAAAAAAgo1MaAACAIb/pB6yk3RgAAIDbbEoDAAAAAAAAkBFKAwAAAAAA\n",
       "AJBxvhsAAJ7kwC5/n68cAAAAdrApDQAAAAAAAEBGKA0AAAAAAABARigNAAAAAAAAQEanNAAAwNFv\n",
       "PMLQAQAAYAWb0gAAAAAAAABkhNIAAAAAAAAAZP4DGuaIWmxUabMAAAAASUVORK5CYII=\n",
       "\" transform=\"translate(156, 47)\"/>\n",
       "</g>\n",
       "<defs>\n",
       "  <clipPath id=\"clip963\">\n",
       "    <rect x=\"2160\" y=\"47\" width=\"73\" height=\"1440\"/>\n",
       "  </clipPath>\n",
       "</defs>\n",
       "<g clip-path=\"url(#clip963)\">\n",
       "<image width=\"72\" height=\"1439\" xlink:href=\"data:image/png;base64,\n",
       "iVBORw0KGgoAAAANSUhEUgAAAEgAAAWfCAYAAAAI7rB3AAAMSElEQVR4nO3d0YkbQRRFwZF5UTp/\n",
       "cA6G7XYEfudT81EVwXK4SHSPpP38+fv7PvzXr2//AW8nUBAoCBQECvM53sQ2FhQECgIFgYJAwbtY\n",
       "sKAgUBAoCBTmc71IbywoCBQECgIFgYKjRrCgIFAQKAgUBArznG//Ce9mQUGgIFAQKLgwCxYUBAoC\n",
       "BYGCQMGFWbCgIFAQKAgUvEgHCwoCBYGCQEGgMI93sZUFBYGCQEGgIFDw2CdYUBAoCBQECo4awYKC\n",
       "QEGgIFAQKHjsEywoCBQECgIFgYILs2BBQaAgUBAouDALFhQECgIFgYJAYT6+N7+yoCBQECgIFOZx\n",
       "H7SyoCBQECgIFAQKns0HCwoCBYGCQEGg4LFPsKAgUBAoCBR8gCpYUBAoCBQECgIFR41gQUGgIFAQ\n",
       "KAgUfMIsWFAQKAgUBAo+YRYsKAgUBAoCBYGCT5gFCwoCBYGCQMFTjWBBQaAgUBAoCBTm8Sa2sqAg\n",
       "UBAoCBQECi7MggUFgYJAQaDgwixYUBAoCBQECgKF+XgTW1lQECgIFAQKAgVnsWBBQaAgUBAoeJEO\n",
       "FhQECgIFgYJAwYVZsKAgUBAoCBQcNYIFBYGCQEGgIFCYx090rSwoCBQECgIFgYLfMAsWFAQKAgWB\n",
       "gl8DDhYUBAoCBYGCQMFjn2BBQaAgUBAo+ImuYEFBoCBQECgIFDybDxYUBAoCBYGCQMGFWbCgIFAQ\n",
       "KAgUfOMwWFAQKAgUBAoCBRdmwYKCQEGgIFAQKPgyS7CgIFAQKAgUHDWCBQWBgkBBoCBQ8C4WLCgI\n",
       "FAQKAgVfZgkWFAQKAgWBgkDBUSNYUBAoCBQECgIFZ7FgQUGgIFAQKDhqBAsKAgWBgkBBoOBdLFhQ\n",
       "ECgIFAQKAgUXZsGCgkBBoCBQcNQIFhQECgIFgYJAwVEjWFAQKAgUBAqOGsGCgkBBoCBQECjMcz/f\n",
       "/htezYKCQEGgIFAQKDiLBQsKAgWBgkDBi3SwoCBQECgIFAQKc12YrSwoCBQECgIFgYKzWLCgIFAQ\n",
       "KAgUfAw4WFAQKAgUBAoChXmOC7ONBQWBgkBBoOCoESwoCBQECgIFgcJcR42VBQWBgkBBoCBQ8JXM\n",
       "YEFBoCBQECi4MAsWFAQKAgWBgkDBhVmwoCBQECgIFNwHBQsKAgWBgkBBoOCoESwoCBQECgIFgYKz\n",
       "WLCgIFAQKAgU5no2v7KgIFAQKAgUBAq+Nx8sKAgUBAoCBYGCn0sOFhQECgIFgYKnGsGCgkBBoCBQ\n",
       "ECj4hFmwoCBQECgIFNwHBQsKAgWBgkBBoODCLFhQECgIFAQKAgVnsWBBQaAgUBAozD0abdQJAgWB\n",
       "gkBBoODCLFhQECgIFAQKAgUXZsGCgkBBoCBQ8CIdLCgIFAQKAgWBgnexYEFBoCBQECh4kQ4WFAQK\n",
       "AgWBgkBh7tVoo04QKAgUBAoCBWexYEFBoCBQECh4kQ4WFAQKAgWBgkDBu1iwoCBQECgIFAQKHvsE\n",
       "dYJAQaAgUHDUCBYUBAoCBYGCQMG7WLCgIFAQKAgU5j5epDcWFAQKAgWBgkBhjqcaK3WCQEGgIFAQ\n",
       "KLgwCxYUBAoCBYGCF+lgQUGgIFAQKAgUvIsFCwoCBYGCQEGgMEejlTpBoCBQECg4agQLCgIFgYJA\n",
       "QaDgXSxYUBAoCBQECr7MEiwoCBQECgIFgcIcR42VBQWBgkBBoCBQcGEWLCgIFAQKAgUfoArqBIGC\n",
       "QEGgIFBw1AgWFAQKAgWBgmfzwYKCQEGgIFAQKHg2HywoCBQECgIFgYILs2BBQaAgUBAozHFhtrKg\n",
       "IFAQKAgUBAqOGsGCgkBBoCBQECj48EKwoCBQECgIFDybDxYUBAoCBYGCQMFRI1hQECgIFAQKjhrB\n",
       "goJAQaAgUBAoOGoECwoCBYGCQEGg4CwWLCgIFAQKAgVHjWBBQaAgUBAoCBTm3G//Ce9mQUGgIFAQ\n",
       "KAgUnMWCBQWBgkBBoOCpRrCgIFAQKAgUBAqOGsGCgkBBoCBQcNQIFhQECgIFgYJAYTya31lQECgI\n",
       "FAQKAgVnsWBBQaAgUBAoeKoRLCgIFAQKAgWBgv8vFiwoCBQECgIFgcJcz31WFhQECgIFgYKjRrCg\n",
       "IFAQKAgUBAr+lXGwoCBQECgIFOZ8+y94OQsKAgWBgkBBoOCoESwoCBQECgIFgYKzWLCgIFAQKAgU\n",
       "HDWCBQWBgkBBoCBQcNQIFhQECgIFgYLvzQcLCgIFgYJAQaDgJ7qCBQWBgkBBoCBQ8HPJwYKCQEGg\n",
       "IFDw/+aDBQWBgkBBoCBQ8NgnWFAQKAgUBAoCBWexYEFBoCBQECg4agQLCgIFgYJAQaDgqBEsKAgU\n",
       "BAoCBUeNYEFBoCBQECgIFBw1ggUFgYJAQaAgUPBllmBBQaAgUBAo+N58sKAgUBAoCBQECo4awYKC\n",
       "QEGgIFAQKPjR/2BBQaAgUBAo+E37YEFBoCBQECgIFOa6MVtZUBAoCBQECnN8mWVlQUGgIFAQKAgU\n",
       "HDWCBQWBgkBBoCBQ8NgnWFAQKAgUBAo+QBUsKAgUBAoCBYGCL7MECwoCBYGCQEGg4DfMggUFgYJA\n",
       "QaDg55KDBQWBgkBBoCBQcNQIFhQECgIFgYKnGsGCgkBBoCBQECj4hFmwoCBQECgIFAQKvswSLCgI\n",
       "FAQKAgXfmw8WFAQKAgWBgkDBu1iwoCBQECgIFPzQZLCgIFAQKAgUBAqOGsGCgkBBoCBQECj4nHSw\n",
       "oCBQECgIFOb4GPDKgoJAQaAgUBAoOGoECwoCBYGCQEGg4LFPsKAgUBAoCBRcmAULCgIFgYJAQaDg\n",
       "wixYUBAoCBQECn6iK1hQECgIFAQKAgU/0RUsKAgUBAoCBYGCZ/PBgoJAQaAgUPBsPlhQECgIFAQK\n",
       "AgXP5oMFBYGCQEGgIFBwYRYsKAgUBAoCBRdmwYKCQEGgIFAQKLgwCxYUBAoCBYGCL7MECwoCBYGC\n",
       "QEGgMMdZY2VBQaAgUBAoCBTm+i+ZKwsKAgWBgkDBB6iCBQWBgkBBoCBQmOOosbKgIFAQKAgUBArO\n",
       "YsGCgkBBoCBQ8GWWYEFBoCBQECgIFBw1ggUFgYJAQaDgA1TBgoJAQaAgUBAo+DJLsKAgUBAoCBQE\n",
       "Cn5YIFhQECgIFAQK/glksKAgUBAoCBQECo4awYKCQEGgIFAQKHjsEywoCBQECgIFnzALFhQECgIF\n",
       "gYJAwVEjWFAQKAgUBAq+cRgsKAgUBAoCBYGCH5oMFhQECgIFgYJAwYVZsKAgUBAoCBR8DDhYUBAo\n",
       "CBQECgIFX8kMFhQECgIFgYLftA8WFAQKAgWBgkBhPNTYWVAQKAgUBAoCBc/mgwUFgYJAQaDgqUaw\n",
       "oCBQECgIFAQKjhrBgoJAQaAgUBAoOIsFCwoCBYGCQMFRI1hQECgIFAQKAgVHjWBBQaAgUBAozHmc\n",
       "NTYWFAQKAgWBgkDBu1iwoCBQECgIFAQKLsyCBQWBgkBBoDDnepneWFAQKAgUBAoChflxYbayoCBQ\n",
       "ECgIFAQKcz7exTYWFAQKAgWBwpzHhdnGgoJAQaAgUBAozI93sZUFBYGCQEGg4KgRLCgIFAQKAgWB\n",
       "gnexYEFBoCBQECgIFOY8P9/+G17NgoJAQaAgUHDUCBYUBAoCBYGCQMFRI1hQECgIFAQKAgXvYsGC\n",
       "gkBBoCBQcGEWLCgIFAQKAgWBgqNGsKAgUBAoCBTmepFeWVAQKAgUBAoCBRdmwYKCQEGgIFAQKLgw\n",
       "CxYUBAoCBYGCC7NgQUGgIFAQKAgU5vr/YisLCgIFgYJAwX1QsKAgUBAoCBQECi7MggUFgYJAQaAg\n",
       "UJjrE2YrCwoCBYGCQGHuddTYWFAQKAgUBAoCBUeNYEFBoCBQECgIFJzFggUFgYJAQaDgqBEsKAgU\n",
       "BAoCBYGCT5gFCwoCBYGCQME3DoMFBYGCQEGgIFCYx1FjZUFBoCBQECgIFJzFggUFgYJAQaDg2Xyw\n",
       "oCBQECgIFAQK8zhqrCwoCBQECgIFgYIvswQLCgIFgYJAYR4XZisLCgIFgYJAQaDg2XywoCBQECgI\n",
       "FBw1ggUFgYJAQaAgUPBsPlhQECgIFAQKAgW//hIsKAgUBAoCBUeNYEFBoCBQECgIFLyLBQsKAgWB\n",
       "gkBBoODDC8GCgkBBoCBQcNQIFhQECgIFgYJAwZdZggUFgYJAQaDgPihYUBAoCBQECgKFee799t/w\n",
       "ahYUBAoCBYGCQMFjn2BBQaAgUBAoeJEOFhQECgIFgYJAwf8XCxYUBAoCBYHCPw4XtqNLIUM4AAAA\n",
       "AElFTkSuQmCC\n",
       "\" transform=\"translate(2161, 47)\"/>\n",
       "</g>\n",
       "<path clip-path=\"url(#clip960)\" d=\"M2269.43 1496.16 L2277.07 1496.16 L2277.07 1469.8 L2268.76 1471.46 L2268.76 1467.21 L2277.02 1465.54 L2281.7 1465.54 L2281.7 1496.16 L2289.33 1496.16 L2289.33 1500.1 L2269.43 1500.1 L2269.43 1496.16 Z\" fill=\"#000000\" fill-rule=\"nonzero\" fill-opacity=\"1\" /><path clip-path=\"url(#clip960)\" d=\"M2298.78 1494.22 L2303.66 1494.22 L2303.66 1500.1 L2298.78 1500.1 L2298.78 1494.22 Z\" fill=\"#000000\" fill-rule=\"nonzero\" fill-opacity=\"1\" /><path clip-path=\"url(#clip960)\" d=\"M2323.85 1468.62 Q2320.24 1468.62 2318.41 1472.18 Q2316.6 1475.72 2316.6 1482.85 Q2316.6 1489.96 2318.41 1493.53 Q2320.24 1497.07 2323.85 1497.07 Q2327.48 1497.07 2329.29 1493.53 Q2331.12 1489.96 2331.12 1482.85 Q2331.12 1475.72 2329.29 1472.18 Q2327.48 1468.62 2323.85 1468.62 M2323.85 1464.91 Q2329.66 1464.91 2332.71 1469.52 Q2335.79 1474.1 2335.79 1482.85 Q2335.79 1491.58 2332.71 1496.19 Q2329.66 1500.77 2323.85 1500.77 Q2318.04 1500.77 2314.96 1496.19 Q2311.9 1491.58 2311.9 1482.85 Q2311.9 1474.1 2314.96 1469.52 Q2318.04 1464.91 2323.85 1464.91 Z\" fill=\"#000000\" fill-rule=\"nonzero\" fill-opacity=\"1\" /><path clip-path=\"url(#clip960)\" d=\"M2354.01 1468.62 Q2350.4 1468.62 2348.57 1472.18 Q2346.76 1475.72 2346.76 1482.85 Q2346.76 1489.96 2348.57 1493.53 Q2350.4 1497.07 2354.01 1497.07 Q2357.64 1497.07 2359.45 1493.53 Q2361.28 1489.96 2361.28 1482.85 Q2361.28 1475.72 2359.45 1472.18 Q2357.64 1468.62 2354.01 1468.62 M2354.01 1464.91 Q2359.82 1464.91 2362.88 1469.52 Q2365.95 1474.1 2365.95 1482.85 Q2365.95 1491.58 2362.88 1496.19 Q2359.82 1500.77 2354.01 1500.77 Q2348.2 1500.77 2345.12 1496.19 Q2342.07 1491.58 2342.07 1482.85 Q2342.07 1474.1 2345.12 1469.52 Q2348.2 1464.91 2354.01 1464.91 Z\" fill=\"#000000\" fill-rule=\"nonzero\" fill-opacity=\"1\" /><path clip-path=\"url(#clip960)\" d=\"M2269.43 1291.56 L2277.07 1291.56 L2277.07 1265.2 L2268.76 1266.86 L2268.76 1262.6 L2277.02 1260.94 L2281.7 1260.94 L2281.7 1291.56 L2289.33 1291.56 L2289.33 1295.5 L2269.43 1295.5 L2269.43 1291.56 Z\" fill=\"#000000\" fill-rule=\"nonzero\" fill-opacity=\"1\" /><path clip-path=\"url(#clip960)\" d=\"M2298.78 1289.62 L2303.66 1289.62 L2303.66 1295.5 L2298.78 1295.5 L2298.78 1289.62 Z\" fill=\"#000000\" fill-rule=\"nonzero\" fill-opacity=\"1\" /><path clip-path=\"url(#clip960)\" d=\"M2317.88 1291.56 L2334.2 1291.56 L2334.2 1295.5 L2312.25 1295.5 L2312.25 1291.56 Q2314.91 1288.81 2319.5 1284.18 Q2324.1 1279.53 2325.28 1278.18 Q2327.53 1275.66 2328.41 1273.92 Q2329.31 1272.16 2329.31 1270.47 Q2329.31 1267.72 2327.37 1265.98 Q2325.45 1264.25 2322.34 1264.25 Q2320.14 1264.25 2317.69 1265.01 Q2315.26 1265.78 2312.48 1267.33 L2312.48 1262.6 Q2315.31 1261.47 2317.76 1260.89 Q2320.21 1260.31 2322.25 1260.31 Q2327.62 1260.31 2330.82 1263 Q2334.01 1265.68 2334.01 1270.17 Q2334.01 1272.3 2333.2 1274.22 Q2332.41 1276.12 2330.31 1278.72 Q2329.73 1279.39 2326.63 1282.6 Q2323.52 1285.8 2317.88 1291.56 Z\" fill=\"#000000\" fill-rule=\"nonzero\" fill-opacity=\"1\" /><path clip-path=\"url(#clip960)\" d=\"M2344.06 1260.94 L2362.41 1260.94 L2362.41 1264.87 L2348.34 1264.87 L2348.34 1273.34 Q2349.36 1273 2350.38 1272.84 Q2351.39 1272.65 2352.41 1272.65 Q2358.2 1272.65 2361.58 1275.82 Q2364.96 1278.99 2364.96 1284.41 Q2364.96 1289.99 2361.49 1293.09 Q2358.01 1296.17 2351.7 1296.17 Q2349.52 1296.17 2347.25 1295.8 Q2345.01 1295.43 2342.6 1294.69 L2342.6 1289.99 Q2344.68 1291.12 2346.9 1291.68 Q2349.13 1292.23 2351.6 1292.23 Q2355.61 1292.23 2357.95 1290.13 Q2360.28 1288.02 2360.28 1284.41 Q2360.28 1280.8 2357.95 1278.69 Q2355.61 1276.59 2351.6 1276.59 Q2349.73 1276.59 2347.85 1277 Q2346 1277.42 2344.06 1278.3 L2344.06 1260.94 Z\" fill=\"#000000\" fill-rule=\"nonzero\" fill-opacity=\"1\" /><path clip-path=\"url(#clip960)\" d=\"M2269.43 1086.96 L2277.07 1086.96 L2277.07 1060.59 L2268.76 1062.26 L2268.76 1058 L2277.02 1056.34 L2281.7 1056.34 L2281.7 1086.96 L2289.33 1086.96 L2289.33 1090.9 L2269.43 1090.9 L2269.43 1086.96 Z\" fill=\"#000000\" fill-rule=\"nonzero\" fill-opacity=\"1\" /><path clip-path=\"url(#clip960)\" d=\"M2298.78 1085.02 L2303.66 1085.02 L2303.66 1090.9 L2298.78 1090.9 L2298.78 1085.02 Z\" fill=\"#000000\" fill-rule=\"nonzero\" fill-opacity=\"1\" /><path clip-path=\"url(#clip960)\" d=\"M2313.89 1056.34 L2332.25 1056.34 L2332.25 1060.27 L2318.18 1060.27 L2318.18 1068.74 Q2319.2 1068.4 2320.21 1068.23 Q2321.23 1068.05 2322.25 1068.05 Q2328.04 1068.05 2331.42 1071.22 Q2334.8 1074.39 2334.8 1079.81 Q2334.8 1085.39 2331.33 1088.49 Q2327.85 1091.57 2321.53 1091.57 Q2319.36 1091.57 2317.09 1091.2 Q2314.84 1090.83 2312.44 1090.09 L2312.44 1085.39 Q2314.52 1086.52 2316.74 1087.08 Q2318.96 1087.63 2321.44 1087.63 Q2325.45 1087.63 2327.78 1085.53 Q2330.12 1083.42 2330.12 1079.81 Q2330.12 1076.2 2327.78 1074.09 Q2325.45 1071.98 2321.44 1071.98 Q2319.57 1071.98 2317.69 1072.4 Q2315.84 1072.82 2313.89 1073.7 L2313.89 1056.34 Z\" fill=\"#000000\" fill-rule=\"nonzero\" fill-opacity=\"1\" /><path clip-path=\"url(#clip960)\" d=\"M2354.01 1059.41 Q2350.4 1059.41 2348.57 1062.98 Q2346.76 1066.52 2346.76 1073.65 Q2346.76 1080.76 2348.57 1084.32 Q2350.4 1087.86 2354.01 1087.86 Q2357.64 1087.86 2359.45 1084.32 Q2361.28 1080.76 2361.28 1073.65 Q2361.28 1066.52 2359.45 1062.98 Q2357.64 1059.41 2354.01 1059.41 M2354.01 1055.71 Q2359.82 1055.71 2362.88 1060.32 Q2365.95 1064.9 2365.95 1073.65 Q2365.95 1082.38 2362.88 1086.98 Q2359.82 1091.57 2354.01 1091.57 Q2348.2 1091.57 2345.12 1086.98 Q2342.07 1082.38 2342.07 1073.65 Q2342.07 1064.9 2345.12 1060.32 Q2348.2 1055.71 2354.01 1055.71 Z\" fill=\"#000000\" fill-rule=\"nonzero\" fill-opacity=\"1\" /><path clip-path=\"url(#clip960)\" d=\"M2269.43 882.359 L2277.07 882.359 L2277.07 855.993 L2268.76 857.66 L2268.76 853.4 L2277.02 851.734 L2281.7 851.734 L2281.7 882.359 L2289.33 882.359 L2289.33 886.294 L2269.43 886.294 L2269.43 882.359 Z\" fill=\"#000000\" fill-rule=\"nonzero\" fill-opacity=\"1\" /><path clip-path=\"url(#clip960)\" d=\"M2298.78 880.414 L2303.66 880.414 L2303.66 886.294 L2298.78 886.294 L2298.78 880.414 Z\" fill=\"#000000\" fill-rule=\"nonzero\" fill-opacity=\"1\" /><path clip-path=\"url(#clip960)\" d=\"M2312.67 851.734 L2334.89 851.734 L2334.89 853.725 L2322.34 886.294 L2317.46 886.294 L2329.26 855.669 L2312.67 855.669 L2312.67 851.734 Z\" fill=\"#000000\" fill-rule=\"nonzero\" fill-opacity=\"1\" /><path clip-path=\"url(#clip960)\" d=\"M2344.06 851.734 L2362.41 851.734 L2362.41 855.669 L2348.34 855.669 L2348.34 864.141 Q2349.36 863.794 2350.38 863.632 Q2351.39 863.447 2352.41 863.447 Q2358.2 863.447 2361.58 866.618 Q2364.96 869.789 2364.96 875.206 Q2364.96 880.785 2361.49 883.886 Q2358.01 886.965 2351.7 886.965 Q2349.52 886.965 2347.25 886.595 Q2345.01 886.224 2342.6 885.484 L2342.6 880.785 Q2344.68 881.919 2346.9 882.474 Q2349.13 883.03 2351.6 883.03 Q2355.61 883.03 2357.95 880.923 Q2360.28 878.817 2360.28 875.206 Q2360.28 871.595 2357.95 869.488 Q2355.61 867.382 2351.6 867.382 Q2349.73 867.382 2347.85 867.799 Q2346 868.215 2344.06 869.095 L2344.06 851.734 Z\" fill=\"#000000\" fill-rule=\"nonzero\" fill-opacity=\"1\" /><path clip-path=\"url(#clip960)\" d=\"M2274.38 677.757 L2290.7 677.757 L2290.7 681.692 L2268.76 681.692 L2268.76 677.757 Q2271.42 675.002 2276 670.373 Q2280.61 665.72 2281.79 664.377 Q2284.03 661.854 2284.91 660.118 Q2285.82 658.359 2285.82 656.669 Q2285.82 653.914 2283.87 652.178 Q2281.95 650.442 2278.85 650.442 Q2276.65 650.442 2274.2 651.206 Q2271.77 651.97 2268.99 653.521 L2268.99 648.799 Q2271.81 647.664 2274.27 647.086 Q2276.72 646.507 2278.76 646.507 Q2284.13 646.507 2287.32 649.192 Q2290.52 651.877 2290.52 656.368 Q2290.52 658.498 2289.7 660.419 Q2288.92 662.317 2286.81 664.91 Q2286.23 665.581 2283.13 668.799 Q2280.03 671.993 2274.38 677.757 Z\" fill=\"#000000\" fill-rule=\"nonzero\" fill-opacity=\"1\" /><path clip-path=\"url(#clip960)\" d=\"M2300.51 675.812 L2305.4 675.812 L2305.4 681.692 L2300.51 681.692 L2300.51 675.812 Z\" fill=\"#000000\" fill-rule=\"nonzero\" fill-opacity=\"1\" /><path clip-path=\"url(#clip960)\" d=\"M2325.58 650.211 Q2321.97 650.211 2320.14 653.776 Q2318.34 657.317 2318.34 664.447 Q2318.34 671.553 2320.14 675.118 Q2321.97 678.66 2325.58 678.66 Q2329.22 678.66 2331.02 675.118 Q2332.85 671.553 2332.85 664.447 Q2332.85 657.317 2331.02 653.776 Q2329.22 650.211 2325.58 650.211 M2325.58 646.507 Q2331.39 646.507 2334.45 651.114 Q2337.53 655.697 2337.53 664.447 Q2337.53 673.174 2334.45 677.78 Q2331.39 682.363 2325.58 682.363 Q2319.77 682.363 2316.7 677.78 Q2313.64 673.174 2313.64 664.447 Q2313.64 655.697 2316.7 651.114 Q2319.77 646.507 2325.58 646.507 Z\" fill=\"#000000\" fill-rule=\"nonzero\" fill-opacity=\"1\" /><path clip-path=\"url(#clip960)\" d=\"M2355.75 650.211 Q2352.14 650.211 2350.31 653.776 Q2348.5 657.317 2348.5 664.447 Q2348.5 671.553 2350.31 675.118 Q2352.14 678.66 2355.75 678.66 Q2359.38 678.66 2361.19 675.118 Q2363.01 671.553 2363.01 664.447 Q2363.01 657.317 2361.19 653.776 Q2359.38 650.211 2355.75 650.211 M2355.75 646.507 Q2361.56 646.507 2364.61 651.114 Q2367.69 655.697 2367.69 664.447 Q2367.69 673.174 2364.61 677.78 Q2361.56 682.363 2355.75 682.363 Q2349.94 682.363 2346.86 677.78 Q2343.8 673.174 2343.8 664.447 Q2343.8 655.697 2346.86 651.114 Q2349.94 646.507 2355.75 646.507 Z\" fill=\"#000000\" fill-rule=\"nonzero\" fill-opacity=\"1\" /><path clip-path=\"url(#clip960)\" d=\"M2274.38 473.155 L2290.7 473.155 L2290.7 477.09 L2268.76 477.09 L2268.76 473.155 Q2271.42 470.401 2276 465.771 Q2280.61 461.118 2281.79 459.776 Q2284.03 457.252 2284.91 455.516 Q2285.82 453.757 2285.82 452.067 Q2285.82 449.313 2283.87 447.577 Q2281.95 445.84 2278.85 445.84 Q2276.65 445.84 2274.2 446.604 Q2271.77 447.368 2268.99 448.919 L2268.99 444.197 Q2271.81 443.063 2274.27 442.484 Q2276.72 441.905 2278.76 441.905 Q2284.13 441.905 2287.32 444.59 Q2290.52 447.276 2290.52 451.766 Q2290.52 453.896 2289.7 455.817 Q2288.92 457.715 2286.81 460.308 Q2286.23 460.979 2283.13 464.197 Q2280.03 467.391 2274.38 473.155 Z\" fill=\"#000000\" fill-rule=\"nonzero\" fill-opacity=\"1\" /><path clip-path=\"url(#clip960)\" d=\"M2300.51 471.211 L2305.4 471.211 L2305.4 477.09 L2300.51 477.09 L2300.51 471.211 Z\" fill=\"#000000\" fill-rule=\"nonzero\" fill-opacity=\"1\" /><path clip-path=\"url(#clip960)\" d=\"M2319.61 473.155 L2335.93 473.155 L2335.93 477.09 L2313.99 477.09 L2313.99 473.155 Q2316.65 470.401 2321.23 465.771 Q2325.84 461.118 2327.02 459.776 Q2329.26 457.252 2330.14 455.516 Q2331.05 453.757 2331.05 452.067 Q2331.05 449.313 2329.1 447.577 Q2327.18 445.84 2324.08 445.84 Q2321.88 445.84 2319.43 446.604 Q2317 447.368 2314.22 448.919 L2314.22 444.197 Q2317.04 443.063 2319.5 442.484 Q2321.95 441.905 2323.99 441.905 Q2329.36 441.905 2332.55 444.59 Q2335.75 447.276 2335.75 451.766 Q2335.75 453.896 2334.94 455.817 Q2334.15 457.715 2332.04 460.308 Q2331.46 460.979 2328.36 464.197 Q2325.26 467.391 2319.61 473.155 Z\" fill=\"#000000\" fill-rule=\"nonzero\" fill-opacity=\"1\" /><path clip-path=\"url(#clip960)\" d=\"M2345.79 442.53 L2364.15 442.53 L2364.15 446.465 L2350.07 446.465 L2350.07 454.938 Q2351.09 454.59 2352.11 454.428 Q2353.13 454.243 2354.15 454.243 Q2359.94 454.243 2363.32 457.415 Q2366.7 460.586 2366.7 466.002 Q2366.7 471.581 2363.22 474.683 Q2359.75 477.762 2353.43 477.762 Q2351.26 477.762 2348.99 477.391 Q2346.74 477.021 2344.33 476.28 L2344.33 471.581 Q2346.42 472.715 2348.64 473.271 Q2350.86 473.826 2353.34 473.826 Q2357.34 473.826 2359.68 471.72 Q2362.02 469.614 2362.02 466.002 Q2362.02 462.391 2359.68 460.285 Q2357.34 458.178 2353.34 458.178 Q2351.46 458.178 2349.59 458.595 Q2347.74 459.012 2345.79 459.891 L2345.79 442.53 Z\" fill=\"#000000\" fill-rule=\"nonzero\" fill-opacity=\"1\" /><path clip-path=\"url(#clip960)\" d=\"M2274.38 268.553 L2290.7 268.553 L2290.7 272.489 L2268.76 272.489 L2268.76 268.553 Q2271.42 265.799 2276 261.169 Q2280.61 256.516 2281.79 255.174 Q2284.03 252.651 2284.91 250.915 Q2285.82 249.155 2285.82 247.466 Q2285.82 244.711 2283.87 242.975 Q2281.95 241.239 2278.85 241.239 Q2276.65 241.239 2274.2 242.003 Q2271.77 242.767 2268.99 244.317 L2268.99 239.595 Q2271.81 238.461 2274.27 237.882 Q2276.72 237.304 2278.76 237.304 Q2284.13 237.304 2287.32 239.989 Q2290.52 242.674 2290.52 247.165 Q2290.52 249.294 2289.7 251.216 Q2288.92 253.114 2286.81 255.706 Q2286.23 256.378 2283.13 259.595 Q2280.03 262.79 2274.38 268.553 Z\" fill=\"#000000\" fill-rule=\"nonzero\" fill-opacity=\"1\" /><path clip-path=\"url(#clip960)\" d=\"M2300.51 266.609 L2305.4 266.609 L2305.4 272.489 L2300.51 272.489 L2300.51 266.609 Z\" fill=\"#000000\" fill-rule=\"nonzero\" fill-opacity=\"1\" /><path clip-path=\"url(#clip960)\" d=\"M2315.63 237.929 L2333.99 237.929 L2333.99 241.864 L2319.91 241.864 L2319.91 250.336 Q2320.93 249.989 2321.95 249.827 Q2322.97 249.641 2323.99 249.641 Q2329.77 249.641 2333.15 252.813 Q2336.53 255.984 2336.53 261.401 Q2336.53 266.979 2333.06 270.081 Q2329.59 273.16 2323.27 273.16 Q2321.09 273.16 2318.83 272.789 Q2316.58 272.419 2314.17 271.678 L2314.17 266.979 Q2316.26 268.114 2318.48 268.669 Q2320.7 269.225 2323.18 269.225 Q2327.18 269.225 2329.52 267.118 Q2331.86 265.012 2331.86 261.401 Q2331.86 257.79 2329.52 255.683 Q2327.18 253.577 2323.18 253.577 Q2321.3 253.577 2319.43 253.993 Q2317.58 254.41 2315.63 255.29 L2315.63 237.929 Z\" fill=\"#000000\" fill-rule=\"nonzero\" fill-opacity=\"1\" /><path clip-path=\"url(#clip960)\" d=\"M2355.75 241.007 Q2352.14 241.007 2350.31 244.572 Q2348.5 248.114 2348.5 255.243 Q2348.5 262.35 2350.31 265.915 Q2352.14 269.456 2355.75 269.456 Q2359.38 269.456 2361.19 265.915 Q2363.01 262.35 2363.01 255.243 Q2363.01 248.114 2361.19 244.572 Q2359.38 241.007 2355.75 241.007 M2355.75 237.304 Q2361.56 237.304 2364.61 241.91 Q2367.69 246.493 2367.69 255.243 Q2367.69 263.97 2364.61 268.577 Q2361.56 273.16 2355.75 273.16 Q2349.94 273.16 2346.86 268.577 Q2343.8 263.97 2343.8 255.243 Q2343.8 246.493 2346.86 241.91 Q2349.94 237.304 2355.75 237.304 Z\" fill=\"#000000\" fill-rule=\"nonzero\" fill-opacity=\"1\" /><path clip-path=\"url(#clip960)\" d=\"M2274.38 63.9517 L2290.7 63.9517 L2290.7 67.8868 L2268.76 67.8868 L2268.76 63.9517 Q2271.42 61.197 2276 56.5674 Q2280.61 51.9147 2281.79 50.5721 Q2284.03 48.049 2284.91 46.3129 Q2285.82 44.5536 2285.82 42.8638 Q2285.82 40.1092 2283.87 38.3731 Q2281.95 36.637 2278.85 36.637 Q2276.65 36.637 2274.2 37.4009 Q2271.77 38.1648 2268.99 39.7157 L2268.99 34.9935 Q2271.81 33.8592 2274.27 33.2805 Q2276.72 32.7018 2278.76 32.7018 Q2284.13 32.7018 2287.32 35.387 Q2290.52 38.0722 2290.52 42.5629 Q2290.52 44.6925 2289.7 46.6138 Q2288.92 48.5119 2286.81 51.1045 Q2286.23 51.7758 2283.13 54.9934 Q2280.03 58.1878 2274.38 63.9517 Z\" fill=\"#000000\" fill-rule=\"nonzero\" fill-opacity=\"1\" /><path clip-path=\"url(#clip960)\" d=\"M2300.51 62.0072 L2305.4 62.0072 L2305.4 67.8868 L2300.51 67.8868 L2300.51 62.0072 Z\" fill=\"#000000\" fill-rule=\"nonzero\" fill-opacity=\"1\" /><path clip-path=\"url(#clip960)\" d=\"M2314.4 33.3268 L2336.63 33.3268 L2336.63 35.3176 L2324.08 67.8868 L2319.2 67.8868 L2331 37.262 L2314.4 37.262 L2314.4 33.3268 Z\" fill=\"#000000\" fill-rule=\"nonzero\" fill-opacity=\"1\" /><path clip-path=\"url(#clip960)\" d=\"M2345.79 33.3268 L2364.15 33.3268 L2364.15 37.262 L2350.07 37.262 L2350.07 45.7342 Q2351.09 45.3869 2352.11 45.2249 Q2353.13 45.0397 2354.15 45.0397 Q2359.94 45.0397 2363.32 48.211 Q2366.7 51.3823 2366.7 56.7989 Q2366.7 62.3776 2363.22 65.4794 Q2359.75 68.5581 2353.43 68.5581 Q2351.26 68.5581 2348.99 68.1877 Q2346.74 67.8174 2344.33 67.0766 L2344.33 62.3776 Q2346.42 63.5118 2348.64 64.0674 Q2350.86 64.6229 2353.34 64.6229 Q2357.34 64.6229 2359.68 62.5165 Q2362.02 60.41 2362.02 56.7989 Q2362.02 53.1878 2359.68 51.0814 Q2357.34 48.9749 2353.34 48.9749 Q2351.46 48.9749 2349.59 49.3915 Q2347.74 49.8082 2345.79 50.6878 L2345.79 33.3268 Z\" fill=\"#000000\" fill-rule=\"nonzero\" fill-opacity=\"1\" /><polyline clip-path=\"url(#clip960)\" style=\"stroke:#000000; stroke-linecap:round; stroke-linejoin:round; stroke-width:4; stroke-opacity:1; fill:none\" points=\"2232.76,1486.45 2232.76,1486.45 2256.76,1486.45 2232.76,1486.45 2232.76,1281.85 2256.76,1281.85 2232.76,1281.85 2232.76,1077.24 2256.76,1077.24 2232.76,1077.24 2232.76,872.643 2256.76,872.643 2232.76,872.643 2232.76,668.041 2256.76,668.041 2232.76,668.041 2232.76,463.439 2256.76,463.439 2232.76,463.439 2232.76,258.837 2256.76,258.837 2232.76,258.837 2232.76,54.2356 2256.76,54.2356 2232.76,54.2356 2232.76,47.2441 \"/>\n",
       "</svg>\n"
      ]
     },
     "metadata": {},
     "output_type": "display_data"
    }
   ],
   "source": [
    "# Plot entanglement entropy of bonds between system + ancilla pairs:\n",
    "gr()\n",
    "S = reduce(vcat,transpose.(SvN))[:,1:2:(2*N)]\n",
    "heatmap(1:N, times, S, c = :thermal)"
   ]
  },
  {
   "cell_type": "code",
   "execution_count": 19,
   "id": "7d15dc18",
   "metadata": {},
   "outputs": [
    {
     "data": {
      "image/png": "[encoded data removed]",
      "image/svg+xml": [
       "<?xml version=\"1.0\" encoding=\"utf-8\"?>\n",
       "<svg xmlns=\"http://www.w3.org/2000/svg\" xmlns:xlink=\"http://www.w3.org/1999/xlink\" width=\"600\" height=\"400\" viewBox=\"0 0 2400 1600\">\n",
       "<defs>\n",
       "  <clipPath id=\"clip000\">\n",
       "    <rect x=\"0\" y=\"0\" width=\"2400\" height=\"1600\"/>\n",
       "  </clipPath>\n",
       "</defs>\n",
       "<path clip-path=\"url(#clip000)\" d=\"M0 1600 L2400 1600 L2400 0 L0 0  Z\" fill=\"#ffffff\" fill-rule=\"evenodd\" fill-opacity=\"1\"/>\n",
       "<defs>\n",
       "  <clipPath id=\"clip001\">\n",
       "    <rect x=\"480\" y=\"0\" width=\"1681\" height=\"1600\"/>\n",
       "  </clipPath>\n",
       "</defs>\n",
       "<path clip-path=\"url(#clip000)\" d=\"M141.182 1486.45 L2352.76 1486.45 L2352.76 47.2441 L141.182 47.2441  Z\" fill=\"#ffffff\" fill-rule=\"evenodd\" fill-opacity=\"1\"/>\n",
       "<defs>\n",
       "  <clipPath id=\"clip002\">\n",
       "    <rect x=\"141\" y=\"47\" width=\"2213\" height=\"1440\"/>\n",
       "  </clipPath>\n",
       "</defs>\n",
       "<polyline clip-path=\"url(#clip002)\" style=\"stroke:#000000; stroke-linecap:round; stroke-linejoin:round; stroke-width:2; stroke-opacity:0.1; fill:none\" points=\"198.544,1486.45 198.544,47.2441 \"/>\n",
       "<polyline clip-path=\"url(#clip002)\" style=\"stroke:#000000; stroke-linecap:round; stroke-linejoin:round; stroke-width:2; stroke-opacity:0.1; fill:none\" points=\"721.449,1486.45 721.449,47.2441 \"/>\n",
       "<polyline clip-path=\"url(#clip002)\" style=\"stroke:#000000; stroke-linecap:round; stroke-linejoin:round; stroke-width:2; stroke-opacity:0.1; fill:none\" points=\"1244.35,1486.45 1244.35,47.2441 \"/>\n",
       "<polyline clip-path=\"url(#clip002)\" style=\"stroke:#000000; stroke-linecap:round; stroke-linejoin:round; stroke-width:2; stroke-opacity:0.1; fill:none\" points=\"1767.26,1486.45 1767.26,47.2441 \"/>\n",
       "<polyline clip-path=\"url(#clip002)\" style=\"stroke:#000000; stroke-linecap:round; stroke-linejoin:round; stroke-width:2; stroke-opacity:0.1; fill:none\" points=\"2290.16,1486.45 2290.16,47.2441 \"/>\n",
       "<polyline clip-path=\"url(#clip000)\" style=\"stroke:#000000; stroke-linecap:round; stroke-linejoin:round; stroke-width:4; stroke-opacity:1; fill:none\" points=\"141.182,1486.45 2352.76,1486.45 \"/>\n",
       "<polyline clip-path=\"url(#clip000)\" style=\"stroke:#000000; stroke-linecap:round; stroke-linejoin:round; stroke-width:4; stroke-opacity:1; fill:none\" points=\"198.544,1486.45 198.544,1467.55 \"/>\n",
       "<polyline clip-path=\"url(#clip000)\" style=\"stroke:#000000; stroke-linecap:round; stroke-linejoin:round; stroke-width:4; stroke-opacity:1; fill:none\" points=\"721.449,1486.45 721.449,1467.55 \"/>\n",
       "<polyline clip-path=\"url(#clip000)\" style=\"stroke:#000000; stroke-linecap:round; stroke-linejoin:round; stroke-width:4; stroke-opacity:1; fill:none\" points=\"1244.35,1486.45 1244.35,1467.55 \"/>\n",
       "<polyline clip-path=\"url(#clip000)\" style=\"stroke:#000000; stroke-linecap:round; stroke-linejoin:round; stroke-width:4; stroke-opacity:1; fill:none\" points=\"1767.26,1486.45 1767.26,1467.55 \"/>\n",
       "<polyline clip-path=\"url(#clip000)\" style=\"stroke:#000000; stroke-linecap:round; stroke-linejoin:round; stroke-width:4; stroke-opacity:1; fill:none\" points=\"2290.16,1486.45 2290.16,1467.55 \"/>\n",
       "<path clip-path=\"url(#clip000)\" d=\"M175.929 1517.37 Q172.318 1517.37 170.489 1520.93 Q168.683 1524.47 168.683 1531.6 Q168.683 1538.71 170.489 1542.27 Q172.318 1545.82 175.929 1545.82 Q179.563 1545.82 181.368 1542.27 Q183.197 1538.71 183.197 1531.6 Q183.197 1524.47 181.368 1520.93 Q179.563 1517.37 175.929 1517.37 M175.929 1513.66 Q181.739 1513.66 184.794 1518.27 Q187.873 1522.85 187.873 1531.6 Q187.873 1540.33 184.794 1544.94 Q181.739 1549.52 175.929 1549.52 Q170.119 1549.52 167.04 1544.94 Q163.984 1540.33 163.984 1531.6 Q163.984 1522.85 167.04 1518.27 Q170.119 1513.66 175.929 1513.66 Z\" fill=\"#000000\" fill-rule=\"nonzero\" fill-opacity=\"1\" /><path clip-path=\"url(#clip000)\" d=\"M196.091 1542.97 L200.975 1542.97 L200.975 1548.85 L196.091 1548.85 L196.091 1542.97 Z\" fill=\"#000000\" fill-rule=\"nonzero\" fill-opacity=\"1\" /><path clip-path=\"url(#clip000)\" d=\"M221.16 1517.37 Q217.549 1517.37 215.72 1520.93 Q213.915 1524.47 213.915 1531.6 Q213.915 1538.71 215.72 1542.27 Q217.549 1545.82 221.16 1545.82 Q224.794 1545.82 226.6 1542.27 Q228.428 1538.71 228.428 1531.6 Q228.428 1524.47 226.6 1520.93 Q224.794 1517.37 221.16 1517.37 M221.16 1513.66 Q226.97 1513.66 230.026 1518.27 Q233.104 1522.85 233.104 1531.6 Q233.104 1540.33 230.026 1544.94 Q226.97 1549.52 221.16 1549.52 Q215.35 1549.52 212.271 1544.94 Q209.216 1540.33 209.216 1531.6 Q209.216 1522.85 212.271 1518.27 Q215.35 1513.66 221.16 1513.66 Z\" fill=\"#000000\" fill-rule=\"nonzero\" fill-opacity=\"1\" /><path clip-path=\"url(#clip000)\" d=\"M699.331 1517.37 Q695.72 1517.37 693.892 1520.93 Q692.086 1524.47 692.086 1531.6 Q692.086 1538.71 693.892 1542.27 Q695.72 1545.82 699.331 1545.82 Q702.966 1545.82 704.771 1542.27 Q706.6 1538.71 706.6 1531.6 Q706.6 1524.47 704.771 1520.93 Q702.966 1517.37 699.331 1517.37 M699.331 1513.66 Q705.142 1513.66 708.197 1518.27 Q711.276 1522.85 711.276 1531.6 Q711.276 1540.33 708.197 1544.94 Q705.142 1549.52 699.331 1549.52 Q693.521 1549.52 690.443 1544.94 Q687.387 1540.33 687.387 1531.6 Q687.387 1522.85 690.443 1518.27 Q693.521 1513.66 699.331 1513.66 Z\" fill=\"#000000\" fill-rule=\"nonzero\" fill-opacity=\"1\" /><path clip-path=\"url(#clip000)\" d=\"M719.493 1542.97 L724.378 1542.97 L724.378 1548.85 L719.493 1548.85 L719.493 1542.97 Z\" fill=\"#000000\" fill-rule=\"nonzero\" fill-opacity=\"1\" /><path clip-path=\"url(#clip000)\" d=\"M734.609 1514.29 L752.965 1514.29 L752.965 1518.22 L738.891 1518.22 L738.891 1526.7 Q739.91 1526.35 740.928 1526.19 Q741.947 1526 742.965 1526 Q748.752 1526 752.132 1529.17 Q755.512 1532.34 755.512 1537.76 Q755.512 1543.34 752.039 1546.44 Q748.567 1549.52 742.248 1549.52 Q740.072 1549.52 737.803 1549.15 Q735.558 1548.78 733.151 1548.04 L733.151 1543.34 Q735.234 1544.47 737.456 1545.03 Q739.678 1545.58 742.155 1545.58 Q746.16 1545.58 748.498 1543.48 Q750.836 1541.37 750.836 1537.76 Q750.836 1534.15 748.498 1532.04 Q746.16 1529.94 742.155 1529.94 Q740.28 1529.94 738.405 1530.35 Q736.553 1530.77 734.609 1531.65 L734.609 1514.29 Z\" fill=\"#000000\" fill-rule=\"nonzero\" fill-opacity=\"1\" /><path clip-path=\"url(#clip000)\" d=\"M1211.51 1544.91 L1219.15 1544.91 L1219.15 1518.55 L1210.84 1520.21 L1210.84 1515.95 L1219.1 1514.29 L1223.78 1514.29 L1223.78 1544.91 L1231.41 1544.91 L1231.41 1548.85 L1211.51 1548.85 L1211.51 1544.91 Z\" fill=\"#000000\" fill-rule=\"nonzero\" fill-opacity=\"1\" /><path clip-path=\"url(#clip000)\" d=\"M1240.86 1542.97 L1245.74 1542.97 L1245.74 1548.85 L1240.86 1548.85 L1240.86 1542.97 Z\" fill=\"#000000\" fill-rule=\"nonzero\" fill-opacity=\"1\" /><path clip-path=\"url(#clip000)\" d=\"M1265.93 1517.37 Q1262.32 1517.37 1260.49 1520.93 Q1258.68 1524.47 1258.68 1531.6 Q1258.68 1538.71 1260.49 1542.27 Q1262.32 1545.82 1265.93 1545.82 Q1269.56 1545.82 1271.37 1542.27 Q1273.2 1538.71 1273.2 1531.6 Q1273.2 1524.47 1271.37 1520.93 Q1269.56 1517.37 1265.93 1517.37 M1265.93 1513.66 Q1271.74 1513.66 1274.79 1518.27 Q1277.87 1522.85 1277.87 1531.6 Q1277.87 1540.33 1274.79 1544.94 Q1271.74 1549.52 1265.93 1549.52 Q1260.12 1549.52 1257.04 1544.94 Q1253.98 1540.33 1253.98 1531.6 Q1253.98 1522.85 1257.04 1518.27 Q1260.12 1513.66 1265.93 1513.66 Z\" fill=\"#000000\" fill-rule=\"nonzero\" fill-opacity=\"1\" /><path clip-path=\"url(#clip000)\" d=\"M1734.91 1544.91 L1742.55 1544.91 L1742.55 1518.55 L1734.24 1520.21 L1734.24 1515.95 L1742.5 1514.29 L1747.18 1514.29 L1747.18 1544.91 L1754.82 1544.91 L1754.82 1548.85 L1734.91 1548.85 L1734.91 1544.91 Z\" fill=\"#000000\" fill-rule=\"nonzero\" fill-opacity=\"1\" /><path clip-path=\"url(#clip000)\" d=\"M1764.26 1542.97 L1769.15 1542.97 L1769.15 1548.85 L1764.26 1548.85 L1764.26 1542.97 Z\" fill=\"#000000\" fill-rule=\"nonzero\" fill-opacity=\"1\" /><path clip-path=\"url(#clip000)\" d=\"M1779.38 1514.29 L1797.73 1514.29 L1797.73 1518.22 L1783.66 1518.22 L1783.66 1526.7 Q1784.68 1526.35 1785.7 1526.19 Q1786.72 1526 1787.73 1526 Q1793.52 1526 1796.9 1529.17 Q1800.28 1532.34 1800.28 1537.76 Q1800.28 1543.34 1796.81 1546.44 Q1793.34 1549.52 1787.02 1549.52 Q1784.84 1549.52 1782.57 1549.15 Q1780.33 1548.78 1777.92 1548.04 L1777.92 1543.34 Q1780 1544.47 1782.22 1545.03 Q1784.45 1545.58 1786.92 1545.58 Q1790.93 1545.58 1793.27 1543.48 Q1795.6 1541.37 1795.6 1537.76 Q1795.6 1534.15 1793.27 1532.04 Q1790.93 1529.94 1786.92 1529.94 Q1785.05 1529.94 1783.17 1530.35 Q1781.32 1530.77 1779.38 1531.65 L1779.38 1514.29 Z\" fill=\"#000000\" fill-rule=\"nonzero\" fill-opacity=\"1\" /><path clip-path=\"url(#clip000)\" d=\"M2261.4 1544.91 L2277.72 1544.91 L2277.72 1548.85 L2255.78 1548.85 L2255.78 1544.91 Q2258.44 1542.16 2263.02 1537.53 Q2267.63 1532.88 2268.81 1531.53 Q2271.06 1529.01 2271.94 1527.27 Q2272.84 1525.51 2272.84 1523.82 Q2272.84 1521.07 2270.89 1519.33 Q2268.97 1517.6 2265.87 1517.6 Q2263.67 1517.6 2261.22 1518.36 Q2258.79 1519.13 2256.01 1520.68 L2256.01 1515.95 Q2258.83 1514.82 2261.29 1514.24 Q2263.74 1513.66 2265.78 1513.66 Q2271.15 1513.66 2274.34 1516.35 Q2277.54 1519.03 2277.54 1523.52 Q2277.54 1525.65 2276.73 1527.57 Q2275.94 1529.47 2273.83 1532.07 Q2273.25 1532.74 2270.15 1535.95 Q2267.05 1539.15 2261.4 1544.91 Z\" fill=\"#000000\" fill-rule=\"nonzero\" fill-opacity=\"1\" /><path clip-path=\"url(#clip000)\" d=\"M2287.54 1542.97 L2292.42 1542.97 L2292.42 1548.85 L2287.54 1548.85 L2287.54 1542.97 Z\" fill=\"#000000\" fill-rule=\"nonzero\" fill-opacity=\"1\" /><path clip-path=\"url(#clip000)\" d=\"M2312.61 1517.37 Q2309 1517.37 2307.17 1520.93 Q2305.36 1524.47 2305.36 1531.6 Q2305.36 1538.71 2307.17 1542.27 Q2309 1545.82 2312.61 1545.82 Q2316.24 1545.82 2318.05 1542.27 Q2319.87 1538.71 2319.87 1531.6 Q2319.87 1524.47 2318.05 1520.93 Q2316.24 1517.37 2312.61 1517.37 M2312.61 1513.66 Q2318.42 1513.66 2321.47 1518.27 Q2324.55 1522.85 2324.55 1531.6 Q2324.55 1540.33 2321.47 1544.94 Q2318.42 1549.52 2312.61 1549.52 Q2306.8 1549.52 2303.72 1544.94 Q2300.66 1540.33 2300.66 1531.6 Q2300.66 1522.85 2303.72 1518.27 Q2306.8 1513.66 2312.61 1513.66 Z\" fill=\"#000000\" fill-rule=\"nonzero\" fill-opacity=\"1\" /><polyline clip-path=\"url(#clip002)\" style=\"stroke:#000000; stroke-linecap:round; stroke-linejoin:round; stroke-width:2; stroke-opacity:0.1; fill:none\" points=\"141.182,1445.72 2352.76,1445.72 \"/>\n",
       "<polyline clip-path=\"url(#clip002)\" style=\"stroke:#000000; stroke-linecap:round; stroke-linejoin:round; stroke-width:2; stroke-opacity:0.1; fill:none\" points=\"141.182,1106.28 2352.76,1106.28 \"/>\n",
       "<polyline clip-path=\"url(#clip002)\" style=\"stroke:#000000; stroke-linecap:round; stroke-linejoin:round; stroke-width:2; stroke-opacity:0.1; fill:none\" points=\"141.182,766.846 2352.76,766.846 \"/>\n",
       "<polyline clip-path=\"url(#clip002)\" style=\"stroke:#000000; stroke-linecap:round; stroke-linejoin:round; stroke-width:2; stroke-opacity:0.1; fill:none\" points=\"141.182,427.411 2352.76,427.411 \"/>\n",
       "<polyline clip-path=\"url(#clip002)\" style=\"stroke:#000000; stroke-linecap:round; stroke-linejoin:round; stroke-width:2; stroke-opacity:0.1; fill:none\" points=\"141.182,87.9763 2352.76,87.9763 \"/>\n",
       "<polyline clip-path=\"url(#clip000)\" style=\"stroke:#000000; stroke-linecap:round; stroke-linejoin:round; stroke-width:4; stroke-opacity:1; fill:none\" points=\"141.182,1486.45 141.182,47.2441 \"/>\n",
       "<polyline clip-path=\"url(#clip000)\" style=\"stroke:#000000; stroke-linecap:round; stroke-linejoin:round; stroke-width:4; stroke-opacity:1; fill:none\" points=\"141.182,1445.72 160.079,1445.72 \"/>\n",
       "<polyline clip-path=\"url(#clip000)\" style=\"stroke:#000000; stroke-linecap:round; stroke-linejoin:round; stroke-width:4; stroke-opacity:1; fill:none\" points=\"141.182,1106.28 160.079,1106.28 \"/>\n",
       "<polyline clip-path=\"url(#clip000)\" style=\"stroke:#000000; stroke-linecap:round; stroke-linejoin:round; stroke-width:4; stroke-opacity:1; fill:none\" points=\"141.182,766.846 160.079,766.846 \"/>\n",
       "<polyline clip-path=\"url(#clip000)\" style=\"stroke:#000000; stroke-linecap:round; stroke-linejoin:round; stroke-width:4; stroke-opacity:1; fill:none\" points=\"141.182,427.411 160.079,427.411 \"/>\n",
       "<polyline clip-path=\"url(#clip000)\" style=\"stroke:#000000; stroke-linecap:round; stroke-linejoin:round; stroke-width:4; stroke-opacity:1; fill:none\" points=\"141.182,87.9763 160.079,87.9763 \"/>\n",
       "<path clip-path=\"url(#clip000)\" d=\"M58.7004 1459.06 L75.0198 1459.06 L75.0198 1463 L53.0754 1463 L53.0754 1459.06 Q55.7375 1456.31 60.3208 1451.68 Q64.9272 1447.02 66.1078 1445.68 Q68.3531 1443.16 69.2328 1441.42 Q70.1355 1439.66 70.1355 1437.97 Q70.1355 1435.22 68.1911 1433.48 Q66.2698 1431.75 63.168 1431.75 Q60.9689 1431.75 58.5152 1432.51 Q56.0847 1433.27 53.3069 1434.82 L53.3069 1430.1 Q56.131 1428.97 58.5847 1428.39 Q61.0384 1427.81 63.0754 1427.81 Q68.4457 1427.81 71.6402 1430.5 Q74.8346 1433.18 74.8346 1437.67 Q74.8346 1439.8 74.0244 1441.72 Q73.2374 1443.62 71.1309 1446.21 Q70.5522 1446.88 67.4504 1450.1 Q64.3485 1453.3 58.7004 1459.06 Z\" fill=\"#000000\" fill-rule=\"nonzero\" fill-opacity=\"1\" /><path clip-path=\"url(#clip000)\" d=\"M88.8623 1459.06 L105.182 1459.06 L105.182 1463 L83.2373 1463 L83.2373 1459.06 Q85.8993 1456.31 90.4827 1451.68 Q95.0891 1447.02 96.2697 1445.68 Q98.515 1443.16 99.3946 1441.42 Q100.297 1439.66 100.297 1437.97 Q100.297 1435.22 98.353 1433.48 Q96.4317 1431.75 93.3299 1431.75 Q91.1308 1431.75 88.6771 1432.51 Q86.2466 1433.27 83.4688 1434.82 L83.4688 1430.1 Q86.2929 1428.97 88.7466 1428.39 Q91.2002 1427.81 93.2373 1427.81 Q98.6076 1427.81 101.802 1430.5 Q104.996 1433.18 104.996 1437.67 Q104.996 1439.8 104.186 1441.72 Q103.399 1443.62 101.293 1446.21 Q100.714 1446.88 97.6122 1450.1 Q94.5104 1453.3 88.8623 1459.06 Z\" fill=\"#000000\" fill-rule=\"nonzero\" fill-opacity=\"1\" /><path clip-path=\"url(#clip000)\" d=\"M57.7513 1119.63 L74.0707 1119.63 L74.0707 1123.56 L52.1264 1123.56 L52.1264 1119.63 Q54.7884 1116.87 59.3717 1112.24 Q63.9782 1107.59 65.1587 1106.25 Q67.4041 1103.72 68.2837 1101.99 Q69.1865 1100.23 69.1865 1098.54 Q69.1865 1095.78 67.242 1094.05 Q65.3208 1092.31 62.2189 1092.31 Q60.0199 1092.31 57.5662 1093.07 Q55.1356 1093.84 52.3579 1095.39 L52.3579 1090.67 Q55.1819 1089.53 57.6356 1088.95 Q60.0893 1088.38 62.1263 1088.38 Q67.4967 1088.38 70.6911 1091.06 Q73.8855 1093.75 73.8855 1098.24 Q73.8855 1100.37 73.0753 1102.29 Q72.2883 1104.19 70.1818 1106.78 Q69.6031 1107.45 66.5013 1110.67 Q63.3995 1113.86 57.7513 1119.63 Z\" fill=\"#000000\" fill-rule=\"nonzero\" fill-opacity=\"1\" /><path clip-path=\"url(#clip000)\" d=\"M98.0521 1104.93 Q101.409 1105.64 103.284 1107.91 Q105.182 1110.18 105.182 1113.51 Q105.182 1118.63 101.663 1121.43 Q98.1447 1124.23 91.6632 1124.23 Q89.4873 1124.23 87.1725 1123.79 Q84.8808 1123.38 82.4271 1122.52 L82.4271 1118.01 Q84.3716 1119.14 86.6864 1119.72 Q89.0012 1120.3 91.5243 1120.3 Q95.9224 1120.3 98.2141 1118.56 Q100.529 1116.82 100.529 1113.51 Q100.529 1110.46 98.3761 1108.75 Q96.2465 1107.01 92.4271 1107.01 L88.3993 1107.01 L88.3993 1103.17 L92.6123 1103.17 Q96.0613 1103.17 97.89 1101.8 Q99.7187 1100.41 99.7187 1097.82 Q99.7187 1095.16 97.8206 1093.75 Q95.9456 1092.31 92.4271 1092.31 Q90.5058 1092.31 88.3067 1092.73 Q86.1077 1093.14 83.4688 1094.02 L83.4688 1089.86 Q86.1308 1089.12 88.4456 1088.75 Q90.7836 1088.38 92.8438 1088.38 Q98.1678 1088.38 101.27 1090.81 Q104.371 1093.21 104.371 1097.33 Q104.371 1100.2 102.728 1102.2 Q101.084 1104.16 98.0521 1104.93 Z\" fill=\"#000000\" fill-rule=\"nonzero\" fill-opacity=\"1\" /><path clip-path=\"url(#clip000)\" d=\"M56.6171 780.191 L72.9365 780.191 L72.9365 784.126 L50.9921 784.126 L50.9921 780.191 Q53.6541 777.436 58.2375 772.807 Q62.8439 768.154 64.0245 766.811 Q66.2698 764.288 67.1494 762.552 Q68.0522 760.793 68.0522 759.103 Q68.0522 756.348 66.1078 754.612 Q64.1865 752.876 61.0847 752.876 Q58.8856 752.876 56.4319 753.64 Q54.0014 754.404 51.2236 755.955 L51.2236 751.233 Q54.0477 750.098 56.5014 749.52 Q58.955 748.941 60.9921 748.941 Q66.3624 748.941 69.5568 751.626 Q72.7513 754.311 72.7513 758.802 Q72.7513 760.932 71.9411 762.853 Q71.1541 764.751 69.0476 767.344 Q68.4689 768.015 65.367 771.233 Q62.2652 774.427 56.6171 780.191 Z\" fill=\"#000000\" fill-rule=\"nonzero\" fill-opacity=\"1\" /><path clip-path=\"url(#clip000)\" d=\"M95.5984 753.64 L83.7929 772.089 L95.5984 772.089 L95.5984 753.64 M94.3715 749.566 L100.251 749.566 L100.251 772.089 L105.182 772.089 L105.182 775.978 L100.251 775.978 L100.251 784.126 L95.5984 784.126 L95.5984 775.978 L79.9966 775.978 L79.9966 771.464 L94.3715 749.566 Z\" fill=\"#000000\" fill-rule=\"nonzero\" fill-opacity=\"1\" /><path clip-path=\"url(#clip000)\" d=\"M58.0986 440.756 L74.4179 440.756 L74.4179 444.691 L52.4736 444.691 L52.4736 440.756 Q55.1356 438.001 59.7189 433.372 Q64.3254 428.719 65.5059 427.376 Q67.7513 424.853 68.6309 423.117 Q69.5337 421.358 69.5337 419.668 Q69.5337 416.914 67.5893 415.177 Q65.668 413.441 62.5661 413.441 Q60.3671 413.441 57.9134 414.205 Q55.4828 414.969 52.7051 416.52 L52.7051 411.798 Q55.5291 410.664 57.9828 410.085 Q60.4365 409.506 62.4735 409.506 Q67.8439 409.506 71.0383 412.191 Q74.2327 414.876 74.2327 419.367 Q74.2327 421.497 73.4226 423.418 Q72.6355 425.316 70.5291 427.909 Q69.9504 428.58 66.8485 431.798 Q63.7467 434.992 58.0986 440.756 Z\" fill=\"#000000\" fill-rule=\"nonzero\" fill-opacity=\"1\" /><path clip-path=\"url(#clip000)\" d=\"M84.279 410.131 L102.635 410.131 L102.635 414.066 L88.5614 414.066 L88.5614 422.538 Q89.5799 422.191 90.5984 422.029 Q91.6169 421.844 92.6354 421.844 Q98.4224 421.844 101.802 425.015 Q105.182 428.187 105.182 433.603 Q105.182 439.182 101.709 442.284 Q98.2372 445.362 91.9178 445.362 Q89.7419 445.362 87.4734 444.992 Q85.2281 444.622 82.8207 443.881 L82.8207 439.182 Q84.904 440.316 87.1262 440.872 Q89.3484 441.427 91.8252 441.427 Q95.8298 441.427 98.1678 439.321 Q100.506 437.214 100.506 433.603 Q100.506 429.992 98.1678 427.886 Q95.8298 425.779 91.8252 425.779 Q89.9503 425.779 88.0753 426.196 Q86.2234 426.613 84.279 427.492 L84.279 410.131 Z\" fill=\"#000000\" fill-rule=\"nonzero\" fill-opacity=\"1\" /><path clip-path=\"url(#clip000)\" d=\"M56.9412 101.321 L73.2605 101.321 L73.2605 105.256 L51.3162 105.256 L51.3162 101.321 Q53.9782 98.5665 58.5615 93.9369 Q63.168 89.2841 64.3485 87.9416 Q66.5939 85.4184 67.4735 83.6823 Q68.3763 81.9231 68.3763 80.2333 Q68.3763 77.4786 66.4319 75.7425 Q64.5106 74.0064 61.4087 74.0064 Q59.2097 74.0064 56.756 74.7703 Q54.3254 75.5342 51.5477 77.0851 L51.5477 72.3629 Q54.3717 71.2287 56.8254 70.65 Q59.2791 70.0713 61.3161 70.0713 Q66.6865 70.0713 69.8809 72.7565 Q73.0753 75.4416 73.0753 79.9323 Q73.0753 82.062 72.2652 83.9832 Q71.4781 85.8814 69.3717 88.474 Q68.793 89.1453 65.6911 92.3628 Q62.5893 95.5573 56.9412 101.321 Z\" fill=\"#000000\" fill-rule=\"nonzero\" fill-opacity=\"1\" /><path clip-path=\"url(#clip000)\" d=\"M93.6539 86.1129 Q90.5058 86.1129 88.654 88.2656 Q86.8253 90.4184 86.8253 94.1684 Q86.8253 97.8952 88.654 100.071 Q90.5058 102.224 93.6539 102.224 Q96.8021 102.224 98.6308 100.071 Q100.483 97.8952 100.483 94.1684 Q100.483 90.4184 98.6308 88.2656 Q96.8021 86.1129 93.6539 86.1129 M102.936 71.4602 L102.936 75.7194 Q101.177 74.8861 99.3715 74.4463 Q97.5891 74.0064 95.8298 74.0064 Q91.2002 74.0064 88.7466 77.1314 Q86.316 80.2564 85.9688 86.5758 Q87.3345 84.5619 89.3947 83.4971 Q91.4549 82.4092 93.9317 82.4092 Q99.14 82.4092 102.149 85.5805 Q105.182 88.7286 105.182 94.1684 Q105.182 99.4924 102.034 102.71 Q98.8854 105.928 93.6539 105.928 Q87.6586 105.928 84.4873 101.344 Q81.316 96.7378 81.316 88.011 Q81.316 79.8166 85.2049 74.9555 Q89.0938 70.0713 95.6447 70.0713 Q97.4039 70.0713 99.1863 70.4185 Q100.992 70.7657 102.936 71.4602 Z\" fill=\"#000000\" fill-rule=\"nonzero\" fill-opacity=\"1\" /><polyline clip-path=\"url(#clip002)\" style=\"stroke:#800080; stroke-linecap:round; stroke-linejoin:round; stroke-width:4; stroke-opacity:1; fill:none\" points=\"203.773,1445.72 209.002,1445.72 214.231,1445.72 219.461,1445.72 224.69,1445.72 229.919,1445.72 235.148,1445.72 240.377,1445.72 245.606,1445.72 250.835,1445.72 256.064,1445.72 261.293,1445.72 266.522,1445.72 271.751,1445.72 276.98,1445.72 282.209,1445.72 287.438,1445.72 292.667,1445.72 297.896,1445.72 303.125,1445.72 308.354,1445.72 313.583,1445.72 318.812,1445.72 324.042,1445.72 329.271,1445.72 334.5,1445.72 339.729,1445.72 344.958,1445.72 350.187,1445.72 355.416,1445.72 360.645,1445.72 365.874,1445.72 371.103,1445.72 376.332,1445.72 381.561,1445.72 386.79,1445.72 392.019,1445.72 397.248,1445.72 402.477,1445.72 407.706,1445.72 412.935,1445.72 418.164,1445.72 423.393,1445.72 428.623,1445.72 433.852,1445.72 439.081,1445.72 444.31,1445.72 449.539,1445.72 454.768,1445.72 459.997,1445.72 465.226,1445.72 470.455,1445.72 475.684,1445.72 480.913,1445.72 486.142,1445.72 491.371,1445.72 496.6,1445.72 501.829,1445.72 507.058,1445.72 512.287,1445.72 517.516,1445.72 522.745,1445.72 527.974,1445.72 533.204,1445.72 538.433,1445.72 543.662,1445.72 548.891,1445.72 554.12,1445.72 559.349,1445.72 564.578,1445.72 569.807,1445.72 575.036,1445.72 580.265,1445.72 585.494,1445.72 590.723,1445.72 595.952,1445.72 601.181,1445.72 606.41,1445.72 611.639,1445.72 616.868,1445.72 622.097,1445.72 627.326,1445.72 632.555,1445.72 637.784,1445.72 643.014,1445.72 648.243,1445.72 653.472,1445.72 658.701,1445.72 663.93,1445.72 669.159,1445.72 674.388,1445.72 679.617,1445.72 684.846,1445.72 690.075,1445.72 695.304,1445.72 700.533,1445.72 705.762,1445.72 710.991,1445.72 716.22,1445.72 721.449,1445.72 726.678,1445.72 731.907,1445.72 737.136,1445.72 742.365,1445.72 747.595,1445.72 752.824,1445.72 758.053,1445.72 763.282,1445.72 768.511,1445.72 773.74,1445.72 778.969,1445.72 784.198,1445.72 789.427,1445.72 794.656,1445.72 799.885,1445.72 805.114,1445.72 810.343,1445.72 815.572,1445.72 820.801,1445.72 826.03,1445.72 831.259,1445.72 836.488,1445.72 841.717,1445.72 846.946,1445.72 852.176,1445.72 857.405,1445.72 862.634,1445.72 867.863,1445.72 873.092,1445.72 878.321,1445.72 883.55,1445.72 888.779,1445.72 894.008,1445.72 899.237,1445.72 904.466,1445.72 909.695,1445.72 914.924,1445.72 920.153,1445.72 925.382,1445.72 930.611,1445.72 935.84,1445.72 941.069,1445.72 946.298,1445.72 951.527,1445.72 956.757,1445.72 961.986,1445.72 967.215,1445.72 972.444,1445.72 977.673,1445.72 982.902,1445.72 988.131,1445.72 993.36,1445.72 998.589,1445.72 1003.82,1445.72 1009.05,1445.72 1014.28,1445.72 1019.51,1445.72 1024.73,1445.72 1029.96,1445.72 1035.19,1445.72 1040.42,1445.72 1045.65,1445.72 1050.88,1445.72 1056.11,1445.72 1061.34,1445.72 1066.57,1445.72 1071.8,1445.72 1077.02,1445.72 1082.25,1445.72 1087.48,1445.72 1092.71,1445.72 1097.94,1445.72 1103.17,1445.72 1108.4,1445.72 1113.63,1445.72 1118.86,1445.72 1124.09,1445.72 1129.32,1445.72 1134.54,1445.72 1139.77,1445.72 1145,1445.72 1150.23,1445.72 1155.46,1445.72 1160.69,1445.72 1165.92,1445.72 1171.15,1445.72 1176.38,1445.72 1181.61,1445.72 1186.83,1445.72 1192.06,1445.72 1197.29,1445.72 1202.52,1445.72 1207.75,1445.72 1212.98,1445.72 1218.21,1445.72 1223.44,1445.72 1228.67,1445.72 1233.9,1445.72 1239.13,1445.72 1244.35,1445.72 1249.58,1445.72 1254.81,1445.72 1260.04,1445.72 1265.27,1445.72 1270.5,1445.72 1275.73,1445.72 1280.96,1445.72 1286.19,1445.72 1291.42,1445.72 1296.64,1445.72 1301.87,1445.72 1307.1,1445.72 1312.33,1445.72 1317.56,1445.72 1322.79,1445.72 1328.02,1445.72 1333.25,1445.72 1338.48,1445.72 1343.71,1445.72 1348.94,1445.72 1354.16,1445.72 1359.39,1445.72 1364.62,1445.72 1369.85,1445.72 1375.08,1445.72 1380.31,1445.72 1385.54,1445.72 1390.77,1445.72 1396,1445.72 1401.23,1445.72 1406.45,1445.72 1411.68,1445.72 1416.91,1445.72 1422.14,1445.72 1427.37,1445.72 1432.6,1445.72 1437.83,1445.72 1443.06,1445.72 1448.29,1445.72 1453.52,1445.72 1458.75,1445.72 1463.97,1445.72 1469.2,1445.72 1474.43,1445.72 1479.66,1445.72 1484.89,1445.72 1490.12,1445.72 1495.35,1445.72 1500.58,1445.72 1505.81,1445.72 1511.04,1445.72 1516.26,1445.72 1521.49,1445.72 1526.72,1445.72 1531.95,1445.72 1537.18,1445.72 1542.41,1445.72 1547.64,1445.72 1552.87,1445.72 1558.1,1445.72 1563.33,1445.72 1568.56,1445.72 1573.78,1445.72 1579.01,1445.72 1584.24,1445.72 1589.47,1445.72 1594.7,1445.72 1599.93,1445.72 1605.16,1445.72 1610.39,1445.72 1615.62,1445.72 1620.85,1445.72 1626.07,1445.72 1631.3,1445.72 1636.53,1445.72 1641.76,1445.72 1646.99,1445.72 1652.22,1445.72 1657.45,1445.72 1662.68,1445.72 1667.91,1445.72 1673.14,1445.72 1678.37,1445.72 1683.59,1445.72 1688.82,1445.72 1694.05,1445.72 1699.28,1445.72 1704.51,1445.72 1709.74,1445.72 1714.97,1445.72 1720.2,1445.72 1725.43,1445.72 1730.66,1445.72 1735.88,1445.72 1741.11,1445.72 1746.34,1445.72 1751.57,1445.72 1756.8,1445.72 1762.03,1445.72 1767.26,1445.72 1772.49,1445.72 1777.72,1445.72 1782.95,1445.72 1788.18,1445.72 1793.4,1445.72 1798.63,1445.72 1803.86,1445.72 1809.09,1445.72 1814.32,1106.28 1819.55,1106.28 1824.78,1106.28 1830.01,1106.28 1835.24,1106.28 1840.47,1106.28 1845.69,1106.28 1850.92,1106.28 1856.15,1106.28 1861.38,1106.28 1866.61,1106.28 1871.84,1106.28 1877.07,1106.28 1882.3,1106.28 1887.53,1106.28 1892.76,1106.28 1897.99,1106.28 1903.21,1106.28 1908.44,1106.28 1913.67,766.846 1918.9,766.846 1924.13,766.846 1929.36,766.846 1934.59,766.846 1939.82,766.846 1945.05,766.846 1950.28,766.846 1955.51,766.846 1960.73,766.846 1965.96,766.846 1971.19,766.846 1976.42,766.846 1981.65,766.846 1986.88,766.846 1992.11,766.846 1997.34,766.846 2002.57,766.846 2007.8,766.846 2013.02,766.846 2018.25,766.846 2023.48,766.846 2028.71,427.411 2033.94,427.411 2039.17,427.411 2044.4,427.411 2049.63,427.411 2054.86,427.411 2060.09,427.411 2065.32,427.411 2070.54,427.411 2075.77,427.411 2081,427.411 2086.23,427.411 2091.46,427.411 2096.69,427.411 2101.92,427.411 2107.15,427.411 2112.38,427.411 2117.61,427.411 2122.83,427.411 2128.06,427.411 2133.29,427.411 2138.52,427.411 2143.75,427.411 2148.98,427.411 2154.21,427.411 2159.44,427.411 2164.67,427.411 2169.9,427.411 2175.13,427.411 2180.35,87.9763 2185.58,87.9763 2190.81,87.9763 2196.04,87.9763 2201.27,87.9763 2206.5,87.9763 2211.73,87.9763 2216.96,87.9763 2222.19,87.9763 2227.42,87.9763 2232.64,87.9763 2237.87,87.9763 2243.1,87.9763 2248.33,87.9763 2253.56,87.9763 2258.79,87.9763 2264.02,87.9763 2269.25,87.9763 2274.48,87.9763 2279.71,87.9763 2284.94,87.9763 2290.16,87.9763 \"/>\n",
       "</svg>\n"
      ],
      "text/html": [
       "<?xml version=\"1.0\" encoding=\"utf-8\"?>\n",
       "<svg xmlns=\"http://www.w3.org/2000/svg\" xmlns:xlink=\"http://www.w3.org/1999/xlink\" width=\"600\" height=\"400\" viewBox=\"0 0 2400 1600\">\n",
       "<defs>\n",
       "  <clipPath id=\"clip050\">\n",
       "    <rect x=\"0\" y=\"0\" width=\"2400\" height=\"1600\"/>\n",
       "  </clipPath>\n",
       "</defs>\n",
       "<path clip-path=\"url(#clip050)\" d=\"M0 1600 L2400 1600 L2400 0 L0 0  Z\" fill=\"#ffffff\" fill-rule=\"evenodd\" fill-opacity=\"1\"/>\n",
       "<defs>\n",
       "  <clipPath id=\"clip051\">\n",
       "    <rect x=\"480\" y=\"0\" width=\"1681\" height=\"1600\"/>\n",
       "  </clipPath>\n",
       "</defs>\n",
       "<path clip-path=\"url(#clip050)\" d=\"M141.182 1486.45 L2352.76 1486.45 L2352.76 47.2441 L141.182 47.2441  Z\" fill=\"#ffffff\" fill-rule=\"evenodd\" fill-opacity=\"1\"/>\n",
       "<defs>\n",
       "  <clipPath id=\"clip052\">\n",
       "    <rect x=\"141\" y=\"47\" width=\"2213\" height=\"1440\"/>\n",
       "  </clipPath>\n",
       "</defs>\n",
       "<polyline clip-path=\"url(#clip052)\" style=\"stroke:#000000; stroke-linecap:round; stroke-linejoin:round; stroke-width:2; stroke-opacity:0.1; fill:none\" points=\"198.544,1486.45 198.544,47.2441 \"/>\n",
       "<polyline clip-path=\"url(#clip052)\" style=\"stroke:#000000; stroke-linecap:round; stroke-linejoin:round; stroke-width:2; stroke-opacity:0.1; fill:none\" points=\"721.449,1486.45 721.449,47.2441 \"/>\n",
       "<polyline clip-path=\"url(#clip052)\" style=\"stroke:#000000; stroke-linecap:round; stroke-linejoin:round; stroke-width:2; stroke-opacity:0.1; fill:none\" points=\"1244.35,1486.45 1244.35,47.2441 \"/>\n",
       "<polyline clip-path=\"url(#clip052)\" style=\"stroke:#000000; stroke-linecap:round; stroke-linejoin:round; stroke-width:2; stroke-opacity:0.1; fill:none\" points=\"1767.26,1486.45 1767.26,47.2441 \"/>\n",
       "<polyline clip-path=\"url(#clip052)\" style=\"stroke:#000000; stroke-linecap:round; stroke-linejoin:round; stroke-width:2; stroke-opacity:0.1; fill:none\" points=\"2290.16,1486.45 2290.16,47.2441 \"/>\n",
       "<polyline clip-path=\"url(#clip050)\" style=\"stroke:#000000; stroke-linecap:round; stroke-linejoin:round; stroke-width:4; stroke-opacity:1; fill:none\" points=\"141.182,1486.45 2352.76,1486.45 \"/>\n",
       "<polyline clip-path=\"url(#clip050)\" style=\"stroke:#000000; stroke-linecap:round; stroke-linejoin:round; stroke-width:4; stroke-opacity:1; fill:none\" points=\"198.544,1486.45 198.544,1467.55 \"/>\n",
       "<polyline clip-path=\"url(#clip050)\" style=\"stroke:#000000; stroke-linecap:round; stroke-linejoin:round; stroke-width:4; stroke-opacity:1; fill:none\" points=\"721.449,1486.45 721.449,1467.55 \"/>\n",
       "<polyline clip-path=\"url(#clip050)\" style=\"stroke:#000000; stroke-linecap:round; stroke-linejoin:round; stroke-width:4; stroke-opacity:1; fill:none\" points=\"1244.35,1486.45 1244.35,1467.55 \"/>\n",
       "<polyline clip-path=\"url(#clip050)\" style=\"stroke:#000000; stroke-linecap:round; stroke-linejoin:round; stroke-width:4; stroke-opacity:1; fill:none\" points=\"1767.26,1486.45 1767.26,1467.55 \"/>\n",
       "<polyline clip-path=\"url(#clip050)\" style=\"stroke:#000000; stroke-linecap:round; stroke-linejoin:round; stroke-width:4; stroke-opacity:1; fill:none\" points=\"2290.16,1486.45 2290.16,1467.55 \"/>\n",
       "<path clip-path=\"url(#clip050)\" d=\"M175.929 1517.37 Q172.318 1517.37 170.489 1520.93 Q168.683 1524.47 168.683 1531.6 Q168.683 1538.71 170.489 1542.27 Q172.318 1545.82 175.929 1545.82 Q179.563 1545.82 181.368 1542.27 Q183.197 1538.71 183.197 1531.6 Q183.197 1524.47 181.368 1520.93 Q179.563 1517.37 175.929 1517.37 M175.929 1513.66 Q181.739 1513.66 184.794 1518.27 Q187.873 1522.85 187.873 1531.6 Q187.873 1540.33 184.794 1544.94 Q181.739 1549.52 175.929 1549.52 Q170.119 1549.52 167.04 1544.94 Q163.984 1540.33 163.984 1531.6 Q163.984 1522.85 167.04 1518.27 Q170.119 1513.66 175.929 1513.66 Z\" fill=\"#000000\" fill-rule=\"nonzero\" fill-opacity=\"1\" /><path clip-path=\"url(#clip050)\" d=\"M196.091 1542.97 L200.975 1542.97 L200.975 1548.85 L196.091 1548.85 L196.091 1542.97 Z\" fill=\"#000000\" fill-rule=\"nonzero\" fill-opacity=\"1\" /><path clip-path=\"url(#clip050)\" d=\"M221.16 1517.37 Q217.549 1517.37 215.72 1520.93 Q213.915 1524.47 213.915 1531.6 Q213.915 1538.71 215.72 1542.27 Q217.549 1545.82 221.16 1545.82 Q224.794 1545.82 226.6 1542.27 Q228.428 1538.71 228.428 1531.6 Q228.428 1524.47 226.6 1520.93 Q224.794 1517.37 221.16 1517.37 M221.16 1513.66 Q226.97 1513.66 230.026 1518.27 Q233.104 1522.85 233.104 1531.6 Q233.104 1540.33 230.026 1544.94 Q226.97 1549.52 221.16 1549.52 Q215.35 1549.52 212.271 1544.94 Q209.216 1540.33 209.216 1531.6 Q209.216 1522.85 212.271 1518.27 Q215.35 1513.66 221.16 1513.66 Z\" fill=\"#000000\" fill-rule=\"nonzero\" fill-opacity=\"1\" /><path clip-path=\"url(#clip050)\" d=\"M699.331 1517.37 Q695.72 1517.37 693.892 1520.93 Q692.086 1524.47 692.086 1531.6 Q692.086 1538.71 693.892 1542.27 Q695.72 1545.82 699.331 1545.82 Q702.966 1545.82 704.771 1542.27 Q706.6 1538.71 706.6 1531.6 Q706.6 1524.47 704.771 1520.93 Q702.966 1517.37 699.331 1517.37 M699.331 1513.66 Q705.142 1513.66 708.197 1518.27 Q711.276 1522.85 711.276 1531.6 Q711.276 1540.33 708.197 1544.94 Q705.142 1549.52 699.331 1549.52 Q693.521 1549.52 690.443 1544.94 Q687.387 1540.33 687.387 1531.6 Q687.387 1522.85 690.443 1518.27 Q693.521 1513.66 699.331 1513.66 Z\" fill=\"#000000\" fill-rule=\"nonzero\" fill-opacity=\"1\" /><path clip-path=\"url(#clip050)\" d=\"M719.493 1542.97 L724.378 1542.97 L724.378 1548.85 L719.493 1548.85 L719.493 1542.97 Z\" fill=\"#000000\" fill-rule=\"nonzero\" fill-opacity=\"1\" /><path clip-path=\"url(#clip050)\" d=\"M734.609 1514.29 L752.965 1514.29 L752.965 1518.22 L738.891 1518.22 L738.891 1526.7 Q739.91 1526.35 740.928 1526.19 Q741.947 1526 742.965 1526 Q748.752 1526 752.132 1529.17 Q755.512 1532.34 755.512 1537.76 Q755.512 1543.34 752.039 1546.44 Q748.567 1549.52 742.248 1549.52 Q740.072 1549.52 737.803 1549.15 Q735.558 1548.78 733.151 1548.04 L733.151 1543.34 Q735.234 1544.47 737.456 1545.03 Q739.678 1545.58 742.155 1545.58 Q746.16 1545.58 748.498 1543.48 Q750.836 1541.37 750.836 1537.76 Q750.836 1534.15 748.498 1532.04 Q746.16 1529.94 742.155 1529.94 Q740.28 1529.94 738.405 1530.35 Q736.553 1530.77 734.609 1531.65 L734.609 1514.29 Z\" fill=\"#000000\" fill-rule=\"nonzero\" fill-opacity=\"1\" /><path clip-path=\"url(#clip050)\" d=\"M1211.51 1544.91 L1219.15 1544.91 L1219.15 1518.55 L1210.84 1520.21 L1210.84 1515.95 L1219.1 1514.29 L1223.78 1514.29 L1223.78 1544.91 L1231.41 1544.91 L1231.41 1548.85 L1211.51 1548.85 L1211.51 1544.91 Z\" fill=\"#000000\" fill-rule=\"nonzero\" fill-opacity=\"1\" /><path clip-path=\"url(#clip050)\" d=\"M1240.86 1542.97 L1245.74 1542.97 L1245.74 1548.85 L1240.86 1548.85 L1240.86 1542.97 Z\" fill=\"#000000\" fill-rule=\"nonzero\" fill-opacity=\"1\" /><path clip-path=\"url(#clip050)\" d=\"M1265.93 1517.37 Q1262.32 1517.37 1260.49 1520.93 Q1258.68 1524.47 1258.68 1531.6 Q1258.68 1538.71 1260.49 1542.27 Q1262.32 1545.82 1265.93 1545.82 Q1269.56 1545.82 1271.37 1542.27 Q1273.2 1538.71 1273.2 1531.6 Q1273.2 1524.47 1271.37 1520.93 Q1269.56 1517.37 1265.93 1517.37 M1265.93 1513.66 Q1271.74 1513.66 1274.79 1518.27 Q1277.87 1522.85 1277.87 1531.6 Q1277.87 1540.33 1274.79 1544.94 Q1271.74 1549.52 1265.93 1549.52 Q1260.12 1549.52 1257.04 1544.94 Q1253.98 1540.33 1253.98 1531.6 Q1253.98 1522.85 1257.04 1518.27 Q1260.12 1513.66 1265.93 1513.66 Z\" fill=\"#000000\" fill-rule=\"nonzero\" fill-opacity=\"1\" /><path clip-path=\"url(#clip050)\" d=\"M1734.91 1544.91 L1742.55 1544.91 L1742.55 1518.55 L1734.24 1520.21 L1734.24 1515.95 L1742.5 1514.29 L1747.18 1514.29 L1747.18 1544.91 L1754.82 1544.91 L1754.82 1548.85 L1734.91 1548.85 L1734.91 1544.91 Z\" fill=\"#000000\" fill-rule=\"nonzero\" fill-opacity=\"1\" /><path clip-path=\"url(#clip050)\" d=\"M1764.26 1542.97 L1769.15 1542.97 L1769.15 1548.85 L1764.26 1548.85 L1764.26 1542.97 Z\" fill=\"#000000\" fill-rule=\"nonzero\" fill-opacity=\"1\" /><path clip-path=\"url(#clip050)\" d=\"M1779.38 1514.29 L1797.73 1514.29 L1797.73 1518.22 L1783.66 1518.22 L1783.66 1526.7 Q1784.68 1526.35 1785.7 1526.19 Q1786.72 1526 1787.73 1526 Q1793.52 1526 1796.9 1529.17 Q1800.28 1532.34 1800.28 1537.76 Q1800.28 1543.34 1796.81 1546.44 Q1793.34 1549.52 1787.02 1549.52 Q1784.84 1549.52 1782.57 1549.15 Q1780.33 1548.78 1777.92 1548.04 L1777.92 1543.34 Q1780 1544.47 1782.22 1545.03 Q1784.45 1545.58 1786.92 1545.58 Q1790.93 1545.58 1793.27 1543.48 Q1795.6 1541.37 1795.6 1537.76 Q1795.6 1534.15 1793.27 1532.04 Q1790.93 1529.94 1786.92 1529.94 Q1785.05 1529.94 1783.17 1530.35 Q1781.32 1530.77 1779.38 1531.65 L1779.38 1514.29 Z\" fill=\"#000000\" fill-rule=\"nonzero\" fill-opacity=\"1\" /><path clip-path=\"url(#clip050)\" d=\"M2261.4 1544.91 L2277.72 1544.91 L2277.72 1548.85 L2255.78 1548.85 L2255.78 1544.91 Q2258.44 1542.16 2263.02 1537.53 Q2267.63 1532.88 2268.81 1531.53 Q2271.06 1529.01 2271.94 1527.27 Q2272.84 1525.51 2272.84 1523.82 Q2272.84 1521.07 2270.89 1519.33 Q2268.97 1517.6 2265.87 1517.6 Q2263.67 1517.6 2261.22 1518.36 Q2258.79 1519.13 2256.01 1520.68 L2256.01 1515.95 Q2258.83 1514.82 2261.29 1514.24 Q2263.74 1513.66 2265.78 1513.66 Q2271.15 1513.66 2274.34 1516.35 Q2277.54 1519.03 2277.54 1523.52 Q2277.54 1525.65 2276.73 1527.57 Q2275.94 1529.47 2273.83 1532.07 Q2273.25 1532.74 2270.15 1535.95 Q2267.05 1539.15 2261.4 1544.91 Z\" fill=\"#000000\" fill-rule=\"nonzero\" fill-opacity=\"1\" /><path clip-path=\"url(#clip050)\" d=\"M2287.54 1542.97 L2292.42 1542.97 L2292.42 1548.85 L2287.54 1548.85 L2287.54 1542.97 Z\" fill=\"#000000\" fill-rule=\"nonzero\" fill-opacity=\"1\" /><path clip-path=\"url(#clip050)\" d=\"M2312.61 1517.37 Q2309 1517.37 2307.17 1520.93 Q2305.36 1524.47 2305.36 1531.6 Q2305.36 1538.71 2307.17 1542.27 Q2309 1545.82 2312.61 1545.82 Q2316.24 1545.82 2318.05 1542.27 Q2319.87 1538.71 2319.87 1531.6 Q2319.87 1524.47 2318.05 1520.93 Q2316.24 1517.37 2312.61 1517.37 M2312.61 1513.66 Q2318.42 1513.66 2321.47 1518.27 Q2324.55 1522.85 2324.55 1531.6 Q2324.55 1540.33 2321.47 1544.94 Q2318.42 1549.52 2312.61 1549.52 Q2306.8 1549.52 2303.72 1544.94 Q2300.66 1540.33 2300.66 1531.6 Q2300.66 1522.85 2303.72 1518.27 Q2306.8 1513.66 2312.61 1513.66 Z\" fill=\"#000000\" fill-rule=\"nonzero\" fill-opacity=\"1\" /><polyline clip-path=\"url(#clip052)\" style=\"stroke:#000000; stroke-linecap:round; stroke-linejoin:round; stroke-width:2; stroke-opacity:0.1; fill:none\" points=\"141.182,1445.72 2352.76,1445.72 \"/>\n",
       "<polyline clip-path=\"url(#clip052)\" style=\"stroke:#000000; stroke-linecap:round; stroke-linejoin:round; stroke-width:2; stroke-opacity:0.1; fill:none\" points=\"141.182,1106.28 2352.76,1106.28 \"/>\n",
       "<polyline clip-path=\"url(#clip052)\" style=\"stroke:#000000; stroke-linecap:round; stroke-linejoin:round; stroke-width:2; stroke-opacity:0.1; fill:none\" points=\"141.182,766.846 2352.76,766.846 \"/>\n",
       "<polyline clip-path=\"url(#clip052)\" style=\"stroke:#000000; stroke-linecap:round; stroke-linejoin:round; stroke-width:2; stroke-opacity:0.1; fill:none\" points=\"141.182,427.411 2352.76,427.411 \"/>\n",
       "<polyline clip-path=\"url(#clip052)\" style=\"stroke:#000000; stroke-linecap:round; stroke-linejoin:round; stroke-width:2; stroke-opacity:0.1; fill:none\" points=\"141.182,87.9763 2352.76,87.9763 \"/>\n",
       "<polyline clip-path=\"url(#clip050)\" style=\"stroke:#000000; stroke-linecap:round; stroke-linejoin:round; stroke-width:4; stroke-opacity:1; fill:none\" points=\"141.182,1486.45 141.182,47.2441 \"/>\n",
       "<polyline clip-path=\"url(#clip050)\" style=\"stroke:#000000; stroke-linecap:round; stroke-linejoin:round; stroke-width:4; stroke-opacity:1; fill:none\" points=\"141.182,1445.72 160.079,1445.72 \"/>\n",
       "<polyline clip-path=\"url(#clip050)\" style=\"stroke:#000000; stroke-linecap:round; stroke-linejoin:round; stroke-width:4; stroke-opacity:1; fill:none\" points=\"141.182,1106.28 160.079,1106.28 \"/>\n",
       "<polyline clip-path=\"url(#clip050)\" style=\"stroke:#000000; stroke-linecap:round; stroke-linejoin:round; stroke-width:4; stroke-opacity:1; fill:none\" points=\"141.182,766.846 160.079,766.846 \"/>\n",
       "<polyline clip-path=\"url(#clip050)\" style=\"stroke:#000000; stroke-linecap:round; stroke-linejoin:round; stroke-width:4; stroke-opacity:1; fill:none\" points=\"141.182,427.411 160.079,427.411 \"/>\n",
       "<polyline clip-path=\"url(#clip050)\" style=\"stroke:#000000; stroke-linecap:round; stroke-linejoin:round; stroke-width:4; stroke-opacity:1; fill:none\" points=\"141.182,87.9763 160.079,87.9763 \"/>\n",
       "<path clip-path=\"url(#clip050)\" d=\"M58.7004 1459.06 L75.0198 1459.06 L75.0198 1463 L53.0754 1463 L53.0754 1459.06 Q55.7375 1456.31 60.3208 1451.68 Q64.9272 1447.02 66.1078 1445.68 Q68.3531 1443.16 69.2328 1441.42 Q70.1355 1439.66 70.1355 1437.97 Q70.1355 1435.22 68.1911 1433.48 Q66.2698 1431.75 63.168 1431.75 Q60.9689 1431.75 58.5152 1432.51 Q56.0847 1433.27 53.3069 1434.82 L53.3069 1430.1 Q56.131 1428.97 58.5847 1428.39 Q61.0384 1427.81 63.0754 1427.81 Q68.4457 1427.81 71.6402 1430.5 Q74.8346 1433.18 74.8346 1437.67 Q74.8346 1439.8 74.0244 1441.72 Q73.2374 1443.62 71.1309 1446.21 Q70.5522 1446.88 67.4504 1450.1 Q64.3485 1453.3 58.7004 1459.06 Z\" fill=\"#000000\" fill-rule=\"nonzero\" fill-opacity=\"1\" /><path clip-path=\"url(#clip050)\" d=\"M88.8623 1459.06 L105.182 1459.06 L105.182 1463 L83.2373 1463 L83.2373 1459.06 Q85.8993 1456.31 90.4827 1451.68 Q95.0891 1447.02 96.2697 1445.68 Q98.515 1443.16 99.3946 1441.42 Q100.297 1439.66 100.297 1437.97 Q100.297 1435.22 98.353 1433.48 Q96.4317 1431.75 93.3299 1431.75 Q91.1308 1431.75 88.6771 1432.51 Q86.2466 1433.27 83.4688 1434.82 L83.4688 1430.1 Q86.2929 1428.97 88.7466 1428.39 Q91.2002 1427.81 93.2373 1427.81 Q98.6076 1427.81 101.802 1430.5 Q104.996 1433.18 104.996 1437.67 Q104.996 1439.8 104.186 1441.72 Q103.399 1443.62 101.293 1446.21 Q100.714 1446.88 97.6122 1450.1 Q94.5104 1453.3 88.8623 1459.06 Z\" fill=\"#000000\" fill-rule=\"nonzero\" fill-opacity=\"1\" /><path clip-path=\"url(#clip050)\" d=\"M57.7513 1119.63 L74.0707 1119.63 L74.0707 1123.56 L52.1264 1123.56 L52.1264 1119.63 Q54.7884 1116.87 59.3717 1112.24 Q63.9782 1107.59 65.1587 1106.25 Q67.4041 1103.72 68.2837 1101.99 Q69.1865 1100.23 69.1865 1098.54 Q69.1865 1095.78 67.242 1094.05 Q65.3208 1092.31 62.2189 1092.31 Q60.0199 1092.31 57.5662 1093.07 Q55.1356 1093.84 52.3579 1095.39 L52.3579 1090.67 Q55.1819 1089.53 57.6356 1088.95 Q60.0893 1088.38 62.1263 1088.38 Q67.4967 1088.38 70.6911 1091.06 Q73.8855 1093.75 73.8855 1098.24 Q73.8855 1100.37 73.0753 1102.29 Q72.2883 1104.19 70.1818 1106.78 Q69.6031 1107.45 66.5013 1110.67 Q63.3995 1113.86 57.7513 1119.63 Z\" fill=\"#000000\" fill-rule=\"nonzero\" fill-opacity=\"1\" /><path clip-path=\"url(#clip050)\" d=\"M98.0521 1104.93 Q101.409 1105.64 103.284 1107.91 Q105.182 1110.18 105.182 1113.51 Q105.182 1118.63 101.663 1121.43 Q98.1447 1124.23 91.6632 1124.23 Q89.4873 1124.23 87.1725 1123.79 Q84.8808 1123.38 82.4271 1122.52 L82.4271 1118.01 Q84.3716 1119.14 86.6864 1119.72 Q89.0012 1120.3 91.5243 1120.3 Q95.9224 1120.3 98.2141 1118.56 Q100.529 1116.82 100.529 1113.51 Q100.529 1110.46 98.3761 1108.75 Q96.2465 1107.01 92.4271 1107.01 L88.3993 1107.01 L88.3993 1103.17 L92.6123 1103.17 Q96.0613 1103.17 97.89 1101.8 Q99.7187 1100.41 99.7187 1097.82 Q99.7187 1095.16 97.8206 1093.75 Q95.9456 1092.31 92.4271 1092.31 Q90.5058 1092.31 88.3067 1092.73 Q86.1077 1093.14 83.4688 1094.02 L83.4688 1089.86 Q86.1308 1089.12 88.4456 1088.75 Q90.7836 1088.38 92.8438 1088.38 Q98.1678 1088.38 101.27 1090.81 Q104.371 1093.21 104.371 1097.33 Q104.371 1100.2 102.728 1102.2 Q101.084 1104.16 98.0521 1104.93 Z\" fill=\"#000000\" fill-rule=\"nonzero\" fill-opacity=\"1\" /><path clip-path=\"url(#clip050)\" d=\"M56.6171 780.191 L72.9365 780.191 L72.9365 784.126 L50.9921 784.126 L50.9921 780.191 Q53.6541 777.436 58.2375 772.807 Q62.8439 768.154 64.0245 766.811 Q66.2698 764.288 67.1494 762.552 Q68.0522 760.793 68.0522 759.103 Q68.0522 756.348 66.1078 754.612 Q64.1865 752.876 61.0847 752.876 Q58.8856 752.876 56.4319 753.64 Q54.0014 754.404 51.2236 755.955 L51.2236 751.233 Q54.0477 750.098 56.5014 749.52 Q58.955 748.941 60.9921 748.941 Q66.3624 748.941 69.5568 751.626 Q72.7513 754.311 72.7513 758.802 Q72.7513 760.932 71.9411 762.853 Q71.1541 764.751 69.0476 767.344 Q68.4689 768.015 65.367 771.233 Q62.2652 774.427 56.6171 780.191 Z\" fill=\"#000000\" fill-rule=\"nonzero\" fill-opacity=\"1\" /><path clip-path=\"url(#clip050)\" d=\"M95.5984 753.64 L83.7929 772.089 L95.5984 772.089 L95.5984 753.64 M94.3715 749.566 L100.251 749.566 L100.251 772.089 L105.182 772.089 L105.182 775.978 L100.251 775.978 L100.251 784.126 L95.5984 784.126 L95.5984 775.978 L79.9966 775.978 L79.9966 771.464 L94.3715 749.566 Z\" fill=\"#000000\" fill-rule=\"nonzero\" fill-opacity=\"1\" /><path clip-path=\"url(#clip050)\" d=\"M58.0986 440.756 L74.4179 440.756 L74.4179 444.691 L52.4736 444.691 L52.4736 440.756 Q55.1356 438.001 59.7189 433.372 Q64.3254 428.719 65.5059 427.376 Q67.7513 424.853 68.6309 423.117 Q69.5337 421.358 69.5337 419.668 Q69.5337 416.914 67.5893 415.177 Q65.668 413.441 62.5661 413.441 Q60.3671 413.441 57.9134 414.205 Q55.4828 414.969 52.7051 416.52 L52.7051 411.798 Q55.5291 410.664 57.9828 410.085 Q60.4365 409.506 62.4735 409.506 Q67.8439 409.506 71.0383 412.191 Q74.2327 414.876 74.2327 419.367 Q74.2327 421.497 73.4226 423.418 Q72.6355 425.316 70.5291 427.909 Q69.9504 428.58 66.8485 431.798 Q63.7467 434.992 58.0986 440.756 Z\" fill=\"#000000\" fill-rule=\"nonzero\" fill-opacity=\"1\" /><path clip-path=\"url(#clip050)\" d=\"M84.279 410.131 L102.635 410.131 L102.635 414.066 L88.5614 414.066 L88.5614 422.538 Q89.5799 422.191 90.5984 422.029 Q91.6169 421.844 92.6354 421.844 Q98.4224 421.844 101.802 425.015 Q105.182 428.187 105.182 433.603 Q105.182 439.182 101.709 442.284 Q98.2372 445.362 91.9178 445.362 Q89.7419 445.362 87.4734 444.992 Q85.2281 444.622 82.8207 443.881 L82.8207 439.182 Q84.904 440.316 87.1262 440.872 Q89.3484 441.427 91.8252 441.427 Q95.8298 441.427 98.1678 439.321 Q100.506 437.214 100.506 433.603 Q100.506 429.992 98.1678 427.886 Q95.8298 425.779 91.8252 425.779 Q89.9503 425.779 88.0753 426.196 Q86.2234 426.613 84.279 427.492 L84.279 410.131 Z\" fill=\"#000000\" fill-rule=\"nonzero\" fill-opacity=\"1\" /><path clip-path=\"url(#clip050)\" d=\"M56.9412 101.321 L73.2605 101.321 L73.2605 105.256 L51.3162 105.256 L51.3162 101.321 Q53.9782 98.5665 58.5615 93.9369 Q63.168 89.2841 64.3485 87.9416 Q66.5939 85.4184 67.4735 83.6823 Q68.3763 81.9231 68.3763 80.2333 Q68.3763 77.4786 66.4319 75.7425 Q64.5106 74.0064 61.4087 74.0064 Q59.2097 74.0064 56.756 74.7703 Q54.3254 75.5342 51.5477 77.0851 L51.5477 72.3629 Q54.3717 71.2287 56.8254 70.65 Q59.2791 70.0713 61.3161 70.0713 Q66.6865 70.0713 69.8809 72.7565 Q73.0753 75.4416 73.0753 79.9323 Q73.0753 82.062 72.2652 83.9832 Q71.4781 85.8814 69.3717 88.474 Q68.793 89.1453 65.6911 92.3628 Q62.5893 95.5573 56.9412 101.321 Z\" fill=\"#000000\" fill-rule=\"nonzero\" fill-opacity=\"1\" /><path clip-path=\"url(#clip050)\" d=\"M93.6539 86.1129 Q90.5058 86.1129 88.654 88.2656 Q86.8253 90.4184 86.8253 94.1684 Q86.8253 97.8952 88.654 100.071 Q90.5058 102.224 93.6539 102.224 Q96.8021 102.224 98.6308 100.071 Q100.483 97.8952 100.483 94.1684 Q100.483 90.4184 98.6308 88.2656 Q96.8021 86.1129 93.6539 86.1129 M102.936 71.4602 L102.936 75.7194 Q101.177 74.8861 99.3715 74.4463 Q97.5891 74.0064 95.8298 74.0064 Q91.2002 74.0064 88.7466 77.1314 Q86.316 80.2564 85.9688 86.5758 Q87.3345 84.5619 89.3947 83.4971 Q91.4549 82.4092 93.9317 82.4092 Q99.14 82.4092 102.149 85.5805 Q105.182 88.7286 105.182 94.1684 Q105.182 99.4924 102.034 102.71 Q98.8854 105.928 93.6539 105.928 Q87.6586 105.928 84.4873 101.344 Q81.316 96.7378 81.316 88.011 Q81.316 79.8166 85.2049 74.9555 Q89.0938 70.0713 95.6447 70.0713 Q97.4039 70.0713 99.1863 70.4185 Q100.992 70.7657 102.936 71.4602 Z\" fill=\"#000000\" fill-rule=\"nonzero\" fill-opacity=\"1\" /><polyline clip-path=\"url(#clip052)\" style=\"stroke:#800080; stroke-linecap:round; stroke-linejoin:round; stroke-width:4; stroke-opacity:1; fill:none\" points=\"203.773,1445.72 209.002,1445.72 214.231,1445.72 219.461,1445.72 224.69,1445.72 229.919,1445.72 235.148,1445.72 240.377,1445.72 245.606,1445.72 250.835,1445.72 256.064,1445.72 261.293,1445.72 266.522,1445.72 271.751,1445.72 276.98,1445.72 282.209,1445.72 287.438,1445.72 292.667,1445.72 297.896,1445.72 303.125,1445.72 308.354,1445.72 313.583,1445.72 318.812,1445.72 324.042,1445.72 329.271,1445.72 334.5,1445.72 339.729,1445.72 344.958,1445.72 350.187,1445.72 355.416,1445.72 360.645,1445.72 365.874,1445.72 371.103,1445.72 376.332,1445.72 381.561,1445.72 386.79,1445.72 392.019,1445.72 397.248,1445.72 402.477,1445.72 407.706,1445.72 412.935,1445.72 418.164,1445.72 423.393,1445.72 428.623,1445.72 433.852,1445.72 439.081,1445.72 444.31,1445.72 449.539,1445.72 454.768,1445.72 459.997,1445.72 465.226,1445.72 470.455,1445.72 475.684,1445.72 480.913,1445.72 486.142,1445.72 491.371,1445.72 496.6,1445.72 501.829,1445.72 507.058,1445.72 512.287,1445.72 517.516,1445.72 522.745,1445.72 527.974,1445.72 533.204,1445.72 538.433,1445.72 543.662,1445.72 548.891,1445.72 554.12,1445.72 559.349,1445.72 564.578,1445.72 569.807,1445.72 575.036,1445.72 580.265,1445.72 585.494,1445.72 590.723,1445.72 595.952,1445.72 601.181,1445.72 606.41,1445.72 611.639,1445.72 616.868,1445.72 622.097,1445.72 627.326,1445.72 632.555,1445.72 637.784,1445.72 643.014,1445.72 648.243,1445.72 653.472,1445.72 658.701,1445.72 663.93,1445.72 669.159,1445.72 674.388,1445.72 679.617,1445.72 684.846,1445.72 690.075,1445.72 695.304,1445.72 700.533,1445.72 705.762,1445.72 710.991,1445.72 716.22,1445.72 721.449,1445.72 726.678,1445.72 731.907,1445.72 737.136,1445.72 742.365,1445.72 747.595,1445.72 752.824,1445.72 758.053,1445.72 763.282,1445.72 768.511,1445.72 773.74,1445.72 778.969,1445.72 784.198,1445.72 789.427,1445.72 794.656,1445.72 799.885,1445.72 805.114,1445.72 810.343,1445.72 815.572,1445.72 820.801,1445.72 826.03,1445.72 831.259,1445.72 836.488,1445.72 841.717,1445.72 846.946,1445.72 852.176,1445.72 857.405,1445.72 862.634,1445.72 867.863,1445.72 873.092,1445.72 878.321,1445.72 883.55,1445.72 888.779,1445.72 894.008,1445.72 899.237,1445.72 904.466,1445.72 909.695,1445.72 914.924,1445.72 920.153,1445.72 925.382,1445.72 930.611,1445.72 935.84,1445.72 941.069,1445.72 946.298,1445.72 951.527,1445.72 956.757,1445.72 961.986,1445.72 967.215,1445.72 972.444,1445.72 977.673,1445.72 982.902,1445.72 988.131,1445.72 993.36,1445.72 998.589,1445.72 1003.82,1445.72 1009.05,1445.72 1014.28,1445.72 1019.51,1445.72 1024.73,1445.72 1029.96,1445.72 1035.19,1445.72 1040.42,1445.72 1045.65,1445.72 1050.88,1445.72 1056.11,1445.72 1061.34,1445.72 1066.57,1445.72 1071.8,1445.72 1077.02,1445.72 1082.25,1445.72 1087.48,1445.72 1092.71,1445.72 1097.94,1445.72 1103.17,1445.72 1108.4,1445.72 1113.63,1445.72 1118.86,1445.72 1124.09,1445.72 1129.32,1445.72 1134.54,1445.72 1139.77,1445.72 1145,1445.72 1150.23,1445.72 1155.46,1445.72 1160.69,1445.72 1165.92,1445.72 1171.15,1445.72 1176.38,1445.72 1181.61,1445.72 1186.83,1445.72 1192.06,1445.72 1197.29,1445.72 1202.52,1445.72 1207.75,1445.72 1212.98,1445.72 1218.21,1445.72 1223.44,1445.72 1228.67,1445.72 1233.9,1445.72 1239.13,1445.72 1244.35,1445.72 1249.58,1445.72 1254.81,1445.72 1260.04,1445.72 1265.27,1445.72 1270.5,1445.72 1275.73,1445.72 1280.96,1445.72 1286.19,1445.72 1291.42,1445.72 1296.64,1445.72 1301.87,1445.72 1307.1,1445.72 1312.33,1445.72 1317.56,1445.72 1322.79,1445.72 1328.02,1445.72 1333.25,1445.72 1338.48,1445.72 1343.71,1445.72 1348.94,1445.72 1354.16,1445.72 1359.39,1445.72 1364.62,1445.72 1369.85,1445.72 1375.08,1445.72 1380.31,1445.72 1385.54,1445.72 1390.77,1445.72 1396,1445.72 1401.23,1445.72 1406.45,1445.72 1411.68,1445.72 1416.91,1445.72 1422.14,1445.72 1427.37,1445.72 1432.6,1445.72 1437.83,1445.72 1443.06,1445.72 1448.29,1445.72 1453.52,1445.72 1458.75,1445.72 1463.97,1445.72 1469.2,1445.72 1474.43,1445.72 1479.66,1445.72 1484.89,1445.72 1490.12,1445.72 1495.35,1445.72 1500.58,1445.72 1505.81,1445.72 1511.04,1445.72 1516.26,1445.72 1521.49,1445.72 1526.72,1445.72 1531.95,1445.72 1537.18,1445.72 1542.41,1445.72 1547.64,1445.72 1552.87,1445.72 1558.1,1445.72 1563.33,1445.72 1568.56,1445.72 1573.78,1445.72 1579.01,1445.72 1584.24,1445.72 1589.47,1445.72 1594.7,1445.72 1599.93,1445.72 1605.16,1445.72 1610.39,1445.72 1615.62,1445.72 1620.85,1445.72 1626.07,1445.72 1631.3,1445.72 1636.53,1445.72 1641.76,1445.72 1646.99,1445.72 1652.22,1445.72 1657.45,1445.72 1662.68,1445.72 1667.91,1445.72 1673.14,1445.72 1678.37,1445.72 1683.59,1445.72 1688.82,1445.72 1694.05,1445.72 1699.28,1445.72 1704.51,1445.72 1709.74,1445.72 1714.97,1445.72 1720.2,1445.72 1725.43,1445.72 1730.66,1445.72 1735.88,1445.72 1741.11,1445.72 1746.34,1445.72 1751.57,1445.72 1756.8,1445.72 1762.03,1445.72 1767.26,1445.72 1772.49,1445.72 1777.72,1445.72 1782.95,1445.72 1788.18,1445.72 1793.4,1445.72 1798.63,1445.72 1803.86,1445.72 1809.09,1445.72 1814.32,1106.28 1819.55,1106.28 1824.78,1106.28 1830.01,1106.28 1835.24,1106.28 1840.47,1106.28 1845.69,1106.28 1850.92,1106.28 1856.15,1106.28 1861.38,1106.28 1866.61,1106.28 1871.84,1106.28 1877.07,1106.28 1882.3,1106.28 1887.53,1106.28 1892.76,1106.28 1897.99,1106.28 1903.21,1106.28 1908.44,1106.28 1913.67,766.846 1918.9,766.846 1924.13,766.846 1929.36,766.846 1934.59,766.846 1939.82,766.846 1945.05,766.846 1950.28,766.846 1955.51,766.846 1960.73,766.846 1965.96,766.846 1971.19,766.846 1976.42,766.846 1981.65,766.846 1986.88,766.846 1992.11,766.846 1997.34,766.846 2002.57,766.846 2007.8,766.846 2013.02,766.846 2018.25,766.846 2023.48,766.846 2028.71,427.411 2033.94,427.411 2039.17,427.411 2044.4,427.411 2049.63,427.411 2054.86,427.411 2060.09,427.411 2065.32,427.411 2070.54,427.411 2075.77,427.411 2081,427.411 2086.23,427.411 2091.46,427.411 2096.69,427.411 2101.92,427.411 2107.15,427.411 2112.38,427.411 2117.61,427.411 2122.83,427.411 2128.06,427.411 2133.29,427.411 2138.52,427.411 2143.75,427.411 2148.98,427.411 2154.21,427.411 2159.44,427.411 2164.67,427.411 2169.9,427.411 2175.13,427.411 2180.35,87.9763 2185.58,87.9763 2190.81,87.9763 2196.04,87.9763 2201.27,87.9763 2206.5,87.9763 2211.73,87.9763 2216.96,87.9763 2222.19,87.9763 2227.42,87.9763 2232.64,87.9763 2237.87,87.9763 2243.1,87.9763 2248.33,87.9763 2253.56,87.9763 2258.79,87.9763 2264.02,87.9763 2269.25,87.9763 2274.48,87.9763 2279.71,87.9763 2284.94,87.9763 2290.16,87.9763 \"/>\n",
       "</svg>\n"
      ]
     },
     "metadata": {},
     "output_type": "display_data"
    }
   ],
   "source": [
    "# Plot the growth in the maximum link dimension with time:\n",
    "plot(times, chi, label=false, linecolor=\"purple\")  \n",
    "#scatter!(times, chi, label=false) "
   ]
  },
  {
   "cell_type": "code",
   "execution_count": 20,
   "id": "e005f534",
   "metadata": {},
   "outputs": [],
   "source": [
    "C_r_t_5 = []\n",
    "C_r_t_10 = []\n",
    "C_r_t_20 = []\n",
    "C_r_t_30 = []\n",
    "C_r_t_40 = []\n",
    "C_r_t_50 = []\n",
    "\n",
    "two = BigFloat(2)\n",
    "N_bf = BigFloat(N)\n",
    "\n",
    "    for line in Commutator\n",
    "        \n",
    "        c_5 = 1/(two^N_bf)*line[1]\n",
    "        c_10 = 1/(two^N_bf)*line[2] \n",
    "        c_20 = 1/(two^N_bf) * line[3]\n",
    "        c_30 = 1/(two^N_bf) * line[4]\n",
    "        c_40 = 1/(two^N_bf) * line[5]\n",
    "        c_50 = 1/(two^N_bf) * line[6]\n",
    "\n",
    "        push!(C_r_t_5, c_5)\n",
    "        push!(C_r_t_10, c_10)\n",
    "        push!(C_r_t_20, c_20)\n",
    "        push!(C_r_t_30, c_30)\n",
    "        push!(C_r_t_40, c_40)\n",
    "        push!(C_r_t_50, c_50)\n",
    "    end;"
   ]
  },
  {
   "cell_type": "code",
   "execution_count": 21,
   "id": "3efdf685",
   "metadata": {},
   "outputs": [
    {
     "data": {
      "image/png": "[encoded data removed]",
      "image/svg+xml": [
       "<?xml version=\"1.0\" encoding=\"utf-8\"?>\n",
       "<svg xmlns=\"http://www.w3.org/2000/svg\" xmlns:xlink=\"http://www.w3.org/1999/xlink\" width=\"600\" height=\"400\" viewBox=\"0 0 2400 1600\">\n",
       "<defs>\n",
       "  <clipPath id=\"clip090\">\n",
       "    <rect x=\"0\" y=\"0\" width=\"2400\" height=\"1600\"/>\n",
       "  </clipPath>\n",
       "</defs>\n",
       "<path clip-path=\"url(#clip090)\" d=\"M0 1600 L2400 1600 L2400 0 L0 0  Z\" fill=\"#ffffff\" fill-rule=\"evenodd\" fill-opacity=\"1\"/>\n",
       "<defs>\n",
       "  <clipPath id=\"clip091\">\n",
       "    <rect x=\"480\" y=\"0\" width=\"1681\" height=\"1600\"/>\n",
       "  </clipPath>\n",
       "</defs>\n",
       "<path clip-path=\"url(#clip090)\" d=\"M306.387 1358.93 L2288.5 1358.93 L2288.5 111.496 L306.387 111.496  Z\" fill=\"#ffffff\" fill-rule=\"evenodd\" fill-opacity=\"1\"/>\n",
       "<defs>\n",
       "  <clipPath id=\"clip092\">\n",
       "    <rect x=\"306\" y=\"111\" width=\"1983\" height=\"1248\"/>\n",
       "  </clipPath>\n",
       "</defs>\n",
       "<polyline clip-path=\"url(#clip092)\" style=\"stroke:#000000; stroke-linecap:round; stroke-linejoin:round; stroke-width:2; stroke-opacity:0.1; fill:none\" points=\"357.798,1358.93 357.798,111.496 \"/>\n",
       "<polyline clip-path=\"url(#clip092)\" style=\"stroke:#000000; stroke-linecap:round; stroke-linejoin:round; stroke-width:2; stroke-opacity:0.1; fill:none\" points=\"826.45,1358.93 826.45,111.496 \"/>\n",
       "<polyline clip-path=\"url(#clip092)\" style=\"stroke:#000000; stroke-linecap:round; stroke-linejoin:round; stroke-width:2; stroke-opacity:0.1; fill:none\" points=\"1295.1,1358.93 1295.1,111.496 \"/>\n",
       "<polyline clip-path=\"url(#clip092)\" style=\"stroke:#000000; stroke-linecap:round; stroke-linejoin:round; stroke-width:2; stroke-opacity:0.1; fill:none\" points=\"1763.75,1358.93 1763.75,111.496 \"/>\n",
       "<polyline clip-path=\"url(#clip092)\" style=\"stroke:#000000; stroke-linecap:round; stroke-linejoin:round; stroke-width:2; stroke-opacity:0.1; fill:none\" points=\"2232.41,1358.93 2232.41,111.496 \"/>\n",
       "<polyline clip-path=\"url(#clip090)\" style=\"stroke:#000000; stroke-linecap:round; stroke-linejoin:round; stroke-width:4; stroke-opacity:1; fill:none\" points=\"306.387,1358.93 2288.5,1358.93 \"/>\n",
       "<polyline clip-path=\"url(#clip090)\" style=\"stroke:#000000; stroke-linecap:round; stroke-linejoin:round; stroke-width:4; stroke-opacity:1; fill:none\" points=\"306.387,111.496 2288.5,111.496 \"/>\n",
       "<polyline clip-path=\"url(#clip090)\" style=\"stroke:#000000; stroke-linecap:round; stroke-linejoin:round; stroke-width:4; stroke-opacity:1; fill:none\" points=\"357.798,1358.93 357.798,1340.03 \"/>\n",
       "<polyline clip-path=\"url(#clip090)\" style=\"stroke:#000000; stroke-linecap:round; stroke-linejoin:round; stroke-width:4; stroke-opacity:1; fill:none\" points=\"826.45,1358.93 826.45,1340.03 \"/>\n",
       "<polyline clip-path=\"url(#clip090)\" style=\"stroke:#000000; stroke-linecap:round; stroke-linejoin:round; stroke-width:4; stroke-opacity:1; fill:none\" points=\"1295.1,1358.93 1295.1,1340.03 \"/>\n",
       "<polyline clip-path=\"url(#clip090)\" style=\"stroke:#000000; stroke-linecap:round; stroke-linejoin:round; stroke-width:4; stroke-opacity:1; fill:none\" points=\"1763.75,1358.93 1763.75,1340.03 \"/>\n",
       "<polyline clip-path=\"url(#clip090)\" style=\"stroke:#000000; stroke-linecap:round; stroke-linejoin:round; stroke-width:4; stroke-opacity:1; fill:none\" points=\"2232.41,1358.93 2232.41,1340.03 \"/>\n",
       "<path clip-path=\"url(#clip090)\" d=\"M335.182 1389.85 Q331.571 1389.85 329.742 1393.41 Q327.937 1396.95 327.937 1404.08 Q327.937 1411.19 329.742 1414.75 Q331.571 1418.3 335.182 1418.3 Q338.816 1418.3 340.622 1414.75 Q342.451 1411.19 342.451 1404.08 Q342.451 1396.95 340.622 1393.41 Q338.816 1389.85 335.182 1389.85 M335.182 1386.14 Q340.992 1386.14 344.048 1390.75 Q347.127 1395.33 347.127 1404.08 Q347.127 1412.81 344.048 1417.42 Q340.992 1422 335.182 1422 Q329.372 1422 326.293 1417.42 Q323.238 1412.81 323.238 1404.08 Q323.238 1395.33 326.293 1390.75 Q329.372 1386.14 335.182 1386.14 Z\" fill=\"#000000\" fill-rule=\"nonzero\" fill-opacity=\"1\" /><path clip-path=\"url(#clip090)\" d=\"M355.344 1415.45 L360.228 1415.45 L360.228 1421.33 L355.344 1421.33 L355.344 1415.45 Z\" fill=\"#000000\" fill-rule=\"nonzero\" fill-opacity=\"1\" /><path clip-path=\"url(#clip090)\" d=\"M380.413 1389.85 Q376.802 1389.85 374.974 1393.41 Q373.168 1396.95 373.168 1404.08 Q373.168 1411.19 374.974 1414.75 Q376.802 1418.3 380.413 1418.3 Q384.048 1418.3 385.853 1414.75 Q387.682 1411.19 387.682 1404.08 Q387.682 1396.95 385.853 1393.41 Q384.048 1389.85 380.413 1389.85 M380.413 1386.14 Q386.224 1386.14 389.279 1390.75 Q392.358 1395.33 392.358 1404.08 Q392.358 1412.81 389.279 1417.42 Q386.224 1422 380.413 1422 Q374.603 1422 371.525 1417.42 Q368.469 1412.81 368.469 1404.08 Q368.469 1395.33 371.525 1390.75 Q374.603 1386.14 380.413 1386.14 Z\" fill=\"#000000\" fill-rule=\"nonzero\" fill-opacity=\"1\" /><path clip-path=\"url(#clip090)\" d=\"M804.332 1389.85 Q800.721 1389.85 798.892 1393.41 Q797.087 1396.95 797.087 1404.08 Q797.087 1411.19 798.892 1414.75 Q800.721 1418.3 804.332 1418.3 Q807.966 1418.3 809.772 1414.75 Q811.6 1411.19 811.6 1404.08 Q811.6 1396.95 809.772 1393.41 Q807.966 1389.85 804.332 1389.85 M804.332 1386.14 Q810.142 1386.14 813.198 1390.75 Q816.276 1395.33 816.276 1404.08 Q816.276 1412.81 813.198 1417.42 Q810.142 1422 804.332 1422 Q798.522 1422 795.443 1417.42 Q792.388 1412.81 792.388 1404.08 Q792.388 1395.33 795.443 1390.75 Q798.522 1386.14 804.332 1386.14 Z\" fill=\"#000000\" fill-rule=\"nonzero\" fill-opacity=\"1\" /><path clip-path=\"url(#clip090)\" d=\"M824.494 1415.45 L829.378 1415.45 L829.378 1421.33 L824.494 1421.33 L824.494 1415.45 Z\" fill=\"#000000\" fill-rule=\"nonzero\" fill-opacity=\"1\" /><path clip-path=\"url(#clip090)\" d=\"M839.61 1386.77 L857.966 1386.77 L857.966 1390.7 L843.892 1390.7 L843.892 1399.18 Q844.91 1398.83 845.929 1398.67 Q846.947 1398.48 847.966 1398.48 Q853.753 1398.48 857.133 1401.65 Q860.512 1404.82 860.512 1410.24 Q860.512 1415.82 857.04 1418.92 Q853.568 1422 847.248 1422 Q845.072 1422 842.804 1421.63 Q840.559 1421.26 838.151 1420.52 L838.151 1415.82 Q840.235 1416.95 842.457 1417.51 Q844.679 1418.06 847.156 1418.06 Q851.16 1418.06 853.498 1415.96 Q855.836 1413.85 855.836 1410.24 Q855.836 1406.63 853.498 1404.52 Q851.16 1402.42 847.156 1402.42 Q845.281 1402.42 843.406 1402.83 Q841.554 1403.25 839.61 1404.13 L839.61 1386.77 Z\" fill=\"#000000\" fill-rule=\"nonzero\" fill-opacity=\"1\" /><path clip-path=\"url(#clip090)\" d=\"M1262.25 1417.39 L1269.89 1417.39 L1269.89 1391.03 L1261.58 1392.69 L1261.58 1388.43 L1269.85 1386.77 L1274.52 1386.77 L1274.52 1417.39 L1282.16 1417.39 L1282.16 1421.33 L1262.25 1421.33 L1262.25 1417.39 Z\" fill=\"#000000\" fill-rule=\"nonzero\" fill-opacity=\"1\" /><path clip-path=\"url(#clip090)\" d=\"M1291.61 1415.45 L1296.49 1415.45 L1296.49 1421.33 L1291.61 1421.33 L1291.61 1415.45 Z\" fill=\"#000000\" fill-rule=\"nonzero\" fill-opacity=\"1\" /><path clip-path=\"url(#clip090)\" d=\"M1316.68 1389.85 Q1313.06 1389.85 1311.24 1393.41 Q1309.43 1396.95 1309.43 1404.08 Q1309.43 1411.19 1311.24 1414.75 Q1313.06 1418.3 1316.68 1418.3 Q1320.31 1418.3 1322.12 1414.75 Q1323.94 1411.19 1323.94 1404.08 Q1323.94 1396.95 1322.12 1393.41 Q1320.31 1389.85 1316.68 1389.85 M1316.68 1386.14 Q1322.49 1386.14 1325.54 1390.75 Q1328.62 1395.33 1328.62 1404.08 Q1328.62 1412.81 1325.54 1417.42 Q1322.49 1422 1316.68 1422 Q1310.87 1422 1307.79 1417.42 Q1304.73 1412.81 1304.73 1404.08 Q1304.73 1395.33 1307.79 1390.75 Q1310.87 1386.14 1316.68 1386.14 Z\" fill=\"#000000\" fill-rule=\"nonzero\" fill-opacity=\"1\" /><path clip-path=\"url(#clip090)\" d=\"M1731.4 1417.39 L1739.04 1417.39 L1739.04 1391.03 L1730.73 1392.69 L1730.73 1388.43 L1739 1386.77 L1743.67 1386.77 L1743.67 1417.39 L1751.31 1417.39 L1751.31 1421.33 L1731.4 1421.33 L1731.4 1417.39 Z\" fill=\"#000000\" fill-rule=\"nonzero\" fill-opacity=\"1\" /><path clip-path=\"url(#clip090)\" d=\"M1760.76 1415.45 L1765.64 1415.45 L1765.64 1421.33 L1760.76 1421.33 L1760.76 1415.45 Z\" fill=\"#000000\" fill-rule=\"nonzero\" fill-opacity=\"1\" /><path clip-path=\"url(#clip090)\" d=\"M1775.87 1386.77 L1794.23 1386.77 L1794.23 1390.7 L1780.15 1390.7 L1780.15 1399.18 Q1781.17 1398.83 1782.19 1398.67 Q1783.21 1398.48 1784.23 1398.48 Q1790.02 1398.48 1793.4 1401.65 Q1796.77 1404.82 1796.77 1410.24 Q1796.77 1415.82 1793.3 1418.92 Q1789.83 1422 1783.51 1422 Q1781.34 1422 1779.07 1421.63 Q1776.82 1421.26 1774.41 1420.52 L1774.41 1415.82 Q1776.5 1416.95 1778.72 1417.51 Q1780.94 1418.06 1783.42 1418.06 Q1787.42 1418.06 1789.76 1415.96 Q1792.1 1413.85 1792.1 1410.24 Q1792.1 1406.63 1789.76 1404.52 Q1787.42 1402.42 1783.42 1402.42 Q1781.54 1402.42 1779.67 1402.83 Q1777.82 1403.25 1775.87 1404.13 L1775.87 1386.77 Z\" fill=\"#000000\" fill-rule=\"nonzero\" fill-opacity=\"1\" /><path clip-path=\"url(#clip090)\" d=\"M2203.64 1417.39 L2219.96 1417.39 L2219.96 1421.33 L2198.02 1421.33 L2198.02 1417.39 Q2200.68 1414.64 2205.27 1410.01 Q2209.87 1405.36 2211.05 1404.01 Q2213.3 1401.49 2214.18 1399.75 Q2215.08 1397.99 2215.08 1396.3 Q2215.08 1393.55 2213.14 1391.81 Q2211.21 1390.08 2208.11 1390.08 Q2205.91 1390.08 2203.46 1390.84 Q2201.03 1391.61 2198.25 1393.16 L2198.25 1388.43 Q2201.08 1387.3 2203.53 1386.72 Q2205.98 1386.14 2208.02 1386.14 Q2213.39 1386.14 2216.58 1388.83 Q2219.78 1391.51 2219.78 1396 Q2219.78 1398.13 2218.97 1400.05 Q2218.18 1401.95 2216.08 1404.55 Q2215.5 1405.22 2212.39 1408.43 Q2209.29 1411.63 2203.64 1417.39 Z\" fill=\"#000000\" fill-rule=\"nonzero\" fill-opacity=\"1\" /><path clip-path=\"url(#clip090)\" d=\"M2229.78 1415.45 L2234.66 1415.45 L2234.66 1421.33 L2229.78 1421.33 L2229.78 1415.45 Z\" fill=\"#000000\" fill-rule=\"nonzero\" fill-opacity=\"1\" /><path clip-path=\"url(#clip090)\" d=\"M2254.85 1389.85 Q2251.24 1389.85 2249.41 1393.41 Q2247.6 1396.95 2247.6 1404.08 Q2247.6 1411.19 2249.41 1414.75 Q2251.24 1418.3 2254.85 1418.3 Q2258.48 1418.3 2260.29 1414.75 Q2262.12 1411.19 2262.12 1404.08 Q2262.12 1396.95 2260.29 1393.41 Q2258.48 1389.85 2254.85 1389.85 M2254.85 1386.14 Q2260.66 1386.14 2263.71 1390.75 Q2266.79 1395.33 2266.79 1404.08 Q2266.79 1412.81 2263.71 1417.42 Q2260.66 1422 2254.85 1422 Q2249.04 1422 2245.96 1417.42 Q2242.9 1412.81 2242.9 1404.08 Q2242.9 1395.33 2245.96 1390.75 Q2249.04 1386.14 2254.85 1386.14 Z\" fill=\"#000000\" fill-rule=\"nonzero\" fill-opacity=\"1\" /><path clip-path=\"url(#clip090)\" d=\"M1219.32 1456.27 L1259.52 1456.27 L1259.52 1461.68 L1242.65 1461.68 L1242.65 1503.79 L1236.19 1503.79 L1236.19 1461.68 L1219.32 1461.68 L1219.32 1456.27 Z\" fill=\"#000000\" fill-rule=\"nonzero\" fill-opacity=\"1\" /><path clip-path=\"url(#clip090)\" d=\"M1263.47 1468.14 L1269.32 1468.14 L1269.32 1503.79 L1263.47 1503.79 L1263.47 1468.14 M1263.47 1454.27 L1269.32 1454.27 L1269.32 1461.68 L1263.47 1461.68 L1263.47 1454.27 Z\" fill=\"#000000\" fill-rule=\"nonzero\" fill-opacity=\"1\" /><path clip-path=\"url(#clip090)\" d=\"M1309.33 1474.99 Q1311.53 1471.04 1314.58 1469.16 Q1317.64 1467.28 1321.78 1467.28 Q1327.35 1467.28 1330.37 1471.2 Q1333.4 1475.08 1333.4 1482.28 L1333.4 1503.79 L1327.51 1503.79 L1327.51 1482.47 Q1327.51 1477.34 1325.69 1474.86 Q1323.88 1472.38 1320.15 1472.38 Q1315.6 1472.38 1312.96 1475.4 Q1310.32 1478.42 1310.32 1483.64 L1310.32 1503.79 L1304.43 1503.79 L1304.43 1482.47 Q1304.43 1477.31 1302.62 1474.86 Q1300.8 1472.38 1297.02 1472.38 Q1292.53 1472.38 1289.89 1475.43 Q1287.24 1478.46 1287.24 1483.64 L1287.24 1503.79 L1281.36 1503.79 L1281.36 1468.14 L1287.24 1468.14 L1287.24 1473.68 Q1289.25 1470.4 1292.05 1468.84 Q1294.85 1467.28 1298.7 1467.28 Q1302.59 1467.28 1305.29 1469.26 Q1308.03 1471.23 1309.33 1474.99 Z\" fill=\"#000000\" fill-rule=\"nonzero\" fill-opacity=\"1\" /><path clip-path=\"url(#clip090)\" d=\"M1375.57 1484.5 L1375.57 1487.37 L1348.64 1487.37 Q1349.02 1493.42 1352.27 1496.6 Q1355.55 1499.75 1361.37 1499.75 Q1364.75 1499.75 1367.9 1498.92 Q1371.08 1498.09 1374.2 1496.44 L1374.2 1501.98 Q1371.05 1503.31 1367.74 1504.01 Q1364.43 1504.71 1361.02 1504.71 Q1352.49 1504.71 1347.5 1499.75 Q1342.53 1494.78 1342.53 1486.32 Q1342.53 1477.57 1347.24 1472.44 Q1351.98 1467.28 1360 1467.28 Q1367.2 1467.28 1371.37 1471.93 Q1375.57 1476.55 1375.57 1484.5 M1369.71 1482.79 Q1369.65 1477.98 1367.01 1475.11 Q1364.4 1472.25 1360.07 1472.25 Q1355.17 1472.25 1352.21 1475.02 Q1349.28 1477.79 1348.83 1482.82 L1369.71 1482.79 Z\" fill=\"#000000\" fill-rule=\"nonzero\" fill-opacity=\"1\" /><polyline clip-path=\"url(#clip092)\" style=\"stroke:#000000; stroke-linecap:round; stroke-linejoin:round; stroke-width:2; stroke-opacity:0.1; fill:none\" points=\"306.387,1286.85 2288.5,1286.85 \"/>\n",
       "<polyline clip-path=\"url(#clip092)\" style=\"stroke:#000000; stroke-linecap:round; stroke-linejoin:round; stroke-width:2; stroke-opacity:0.1; fill:none\" points=\"306.387,961.652 2288.5,961.652 \"/>\n",
       "<polyline clip-path=\"url(#clip092)\" style=\"stroke:#000000; stroke-linecap:round; stroke-linejoin:round; stroke-width:2; stroke-opacity:0.1; fill:none\" points=\"306.387,636.451 2288.5,636.451 \"/>\n",
       "<polyline clip-path=\"url(#clip092)\" style=\"stroke:#000000; stroke-linecap:round; stroke-linejoin:round; stroke-width:2; stroke-opacity:0.1; fill:none\" points=\"306.387,311.249 2288.5,311.249 \"/>\n",
       "<polyline clip-path=\"url(#clip090)\" style=\"stroke:#000000; stroke-linecap:round; stroke-linejoin:round; stroke-width:4; stroke-opacity:1; fill:none\" points=\"306.387,1358.93 306.387,111.496 \"/>\n",
       "<polyline clip-path=\"url(#clip090)\" style=\"stroke:#000000; stroke-linecap:round; stroke-linejoin:round; stroke-width:4; stroke-opacity:1; fill:none\" points=\"2288.5,1358.93 2288.5,111.496 \"/>\n",
       "<polyline clip-path=\"url(#clip090)\" style=\"stroke:#000000; stroke-linecap:round; stroke-linejoin:round; stroke-width:4; stroke-opacity:1; fill:none\" points=\"306.387,1286.85 325.284,1286.85 \"/>\n",
       "<polyline clip-path=\"url(#clip090)\" style=\"stroke:#000000; stroke-linecap:round; stroke-linejoin:round; stroke-width:4; stroke-opacity:1; fill:none\" points=\"306.387,961.652 325.284,961.652 \"/>\n",
       "<polyline clip-path=\"url(#clip090)\" style=\"stroke:#000000; stroke-linecap:round; stroke-linejoin:round; stroke-width:4; stroke-opacity:1; fill:none\" points=\"306.387,636.451 325.284,636.451 \"/>\n",
       "<polyline clip-path=\"url(#clip090)\" style=\"stroke:#000000; stroke-linecap:round; stroke-linejoin:round; stroke-width:4; stroke-opacity:1; fill:none\" points=\"306.387,311.249 325.284,311.249 \"/>\n",
       "<path clip-path=\"url(#clip090)\" d=\"M178.512 1287.3 L208.188 1287.3 L208.188 1291.24 L178.512 1291.24 L178.512 1287.3 Z\" fill=\"#000000\" fill-rule=\"nonzero\" fill-opacity=\"1\" /><path clip-path=\"url(#clip090)\" d=\"M228.28 1287.72 Q224.947 1287.72 223.026 1289.5 Q221.128 1291.29 221.128 1294.41 Q221.128 1297.54 223.026 1299.32 Q224.947 1301.1 228.28 1301.1 Q231.614 1301.1 233.535 1299.32 Q235.456 1297.51 235.456 1294.41 Q235.456 1291.29 233.535 1289.5 Q231.637 1287.72 228.28 1287.72 M223.604 1285.73 Q220.595 1284.99 218.905 1282.93 Q217.239 1280.87 217.239 1277.91 Q217.239 1273.76 220.179 1271.36 Q223.142 1268.95 228.28 1268.95 Q233.442 1268.95 236.382 1271.36 Q239.322 1273.76 239.322 1277.91 Q239.322 1280.87 237.632 1282.93 Q235.966 1284.99 232.979 1285.73 Q236.359 1286.52 238.234 1288.81 Q240.132 1291.1 240.132 1294.41 Q240.132 1299.43 237.053 1302.12 Q233.998 1304.8 228.28 1304.8 Q222.563 1304.8 219.484 1302.12 Q216.429 1299.43 216.429 1294.41 Q216.429 1291.1 218.327 1288.81 Q220.225 1286.52 223.604 1285.73 M221.892 1278.35 Q221.892 1281.03 223.558 1282.54 Q225.248 1284.04 228.28 1284.04 Q231.29 1284.04 232.979 1282.54 Q234.692 1281.03 234.692 1278.35 Q234.692 1275.66 232.979 1274.16 Q231.29 1272.65 228.28 1272.65 Q225.248 1272.65 223.558 1274.16 Q221.892 1275.66 221.892 1278.35 Z\" fill=\"#000000\" fill-rule=\"nonzero\" fill-opacity=\"1\" /><path clip-path=\"url(#clip090)\" d=\"M258.442 1272.65 Q254.831 1272.65 253.002 1276.22 Q251.197 1279.76 251.197 1286.89 Q251.197 1293.99 253.002 1297.56 Q254.831 1301.1 258.442 1301.1 Q262.076 1301.1 263.882 1297.56 Q265.711 1293.99 265.711 1286.89 Q265.711 1279.76 263.882 1276.22 Q262.076 1272.65 258.442 1272.65 M258.442 1268.95 Q264.252 1268.95 267.308 1273.55 Q270.387 1278.14 270.387 1286.89 Q270.387 1295.61 267.308 1300.22 Q264.252 1304.8 258.442 1304.8 Q252.632 1304.8 249.553 1300.22 Q246.498 1295.61 246.498 1286.89 Q246.498 1278.14 249.553 1273.55 Q252.632 1268.95 258.442 1268.95 Z\" fill=\"#000000\" fill-rule=\"nonzero\" fill-opacity=\"1\" /><path clip-path=\"url(#clip090)\" d=\"M178.512 962.103 L208.188 962.103 L208.188 966.038 L178.512 966.038 L178.512 962.103 Z\" fill=\"#000000\" fill-rule=\"nonzero\" fill-opacity=\"1\" /><path clip-path=\"url(#clip090)\" d=\"M228.859 959.788 Q225.711 959.788 223.859 961.941 Q222.03 964.094 222.03 967.844 Q222.03 971.571 223.859 973.747 Q225.711 975.899 228.859 975.899 Q232.007 975.899 233.836 973.747 Q235.688 971.571 235.688 967.844 Q235.688 964.094 233.836 961.941 Q232.007 959.788 228.859 959.788 M238.141 945.136 L238.141 949.395 Q236.382 948.562 234.577 948.122 Q232.794 947.682 231.035 947.682 Q226.405 947.682 223.952 950.807 Q221.521 953.932 221.174 960.251 Q222.54 958.238 224.6 957.173 Q226.66 956.085 229.137 956.085 Q234.345 956.085 237.354 959.256 Q240.387 962.404 240.387 967.844 Q240.387 973.168 237.239 976.386 Q234.091 979.603 228.859 979.603 Q222.864 979.603 219.692 975.02 Q216.521 970.413 216.521 961.687 Q216.521 953.492 220.41 948.631 Q224.299 943.747 230.85 943.747 Q232.609 943.747 234.391 944.094 Q236.197 944.441 238.141 945.136 Z\" fill=\"#000000\" fill-rule=\"nonzero\" fill-opacity=\"1\" /><path clip-path=\"url(#clip090)\" d=\"M258.442 947.451 Q254.831 947.451 253.002 951.015 Q251.197 954.557 251.197 961.687 Q251.197 968.793 253.002 972.358 Q254.831 975.899 258.442 975.899 Q262.076 975.899 263.882 972.358 Q265.711 968.793 265.711 961.687 Q265.711 954.557 263.882 951.015 Q262.076 947.451 258.442 947.451 M258.442 943.747 Q264.252 943.747 267.308 948.353 Q270.387 952.937 270.387 961.687 Q270.387 970.413 267.308 975.02 Q264.252 979.603 258.442 979.603 Q252.632 979.603 249.553 975.02 Q246.498 970.413 246.498 961.687 Q246.498 952.937 249.553 948.353 Q252.632 943.747 258.442 943.747 Z\" fill=\"#000000\" fill-rule=\"nonzero\" fill-opacity=\"1\" /><path clip-path=\"url(#clip090)\" d=\"M178.512 636.902 L208.188 636.902 L208.188 640.837 L178.512 640.837 L178.512 636.902 Z\" fill=\"#000000\" fill-rule=\"nonzero\" fill-opacity=\"1\" /><path clip-path=\"url(#clip090)\" d=\"M231.128 623.245 L219.322 641.694 L231.128 641.694 L231.128 623.245 M229.901 619.171 L235.78 619.171 L235.78 641.694 L240.711 641.694 L240.711 645.582 L235.78 645.582 L235.78 653.731 L231.128 653.731 L231.128 645.582 L215.526 645.582 L215.526 641.069 L229.901 619.171 Z\" fill=\"#000000\" fill-rule=\"nonzero\" fill-opacity=\"1\" /><path clip-path=\"url(#clip090)\" d=\"M258.442 622.249 Q254.831 622.249 253.002 625.814 Q251.197 629.356 251.197 636.485 Q251.197 643.592 253.002 647.157 Q254.831 650.698 258.442 650.698 Q262.076 650.698 263.882 647.157 Q265.711 643.592 265.711 636.485 Q265.711 629.356 263.882 625.814 Q262.076 622.249 258.442 622.249 M258.442 618.546 Q264.252 618.546 267.308 623.152 Q270.387 627.735 270.387 636.485 Q270.387 645.212 267.308 649.819 Q264.252 654.402 258.442 654.402 Q252.632 654.402 249.553 649.819 Q246.498 645.212 246.498 636.485 Q246.498 627.735 249.553 623.152 Q252.632 618.546 258.442 618.546 Z\" fill=\"#000000\" fill-rule=\"nonzero\" fill-opacity=\"1\" /><path clip-path=\"url(#clip090)\" d=\"M178.512 311.701 L208.188 311.701 L208.188 315.636 L178.512 315.636 L178.512 311.701 Z\" fill=\"#000000\" fill-rule=\"nonzero\" fill-opacity=\"1\" /><path clip-path=\"url(#clip090)\" d=\"M222.308 324.594 L238.628 324.594 L238.628 328.529 L216.683 328.529 L216.683 324.594 Q219.345 321.84 223.929 317.21 Q228.535 312.557 229.716 311.215 Q231.961 308.691 232.841 306.955 Q233.743 305.196 233.743 303.506 Q233.743 300.752 231.799 299.016 Q229.878 297.279 226.776 297.279 Q224.577 297.279 222.123 298.043 Q219.692 298.807 216.915 300.358 L216.915 295.636 Q219.739 294.502 222.192 293.923 Q224.646 293.344 226.683 293.344 Q232.054 293.344 235.248 296.029 Q238.442 298.715 238.442 303.205 Q238.442 305.335 237.632 307.256 Q236.845 309.154 234.739 311.747 Q234.16 312.418 231.058 315.636 Q227.956 318.83 222.308 324.594 Z\" fill=\"#000000\" fill-rule=\"nonzero\" fill-opacity=\"1\" /><path clip-path=\"url(#clip090)\" d=\"M258.442 297.048 Q254.831 297.048 253.002 300.613 Q251.197 304.154 251.197 311.284 Q251.197 318.39 253.002 321.955 Q254.831 325.497 258.442 325.497 Q262.076 325.497 263.882 321.955 Q265.711 318.39 265.711 311.284 Q265.711 304.154 263.882 300.613 Q262.076 297.048 258.442 297.048 M258.442 293.344 Q264.252 293.344 267.308 297.951 Q270.387 302.534 270.387 311.284 Q270.387 320.011 267.308 324.617 Q264.252 329.201 258.442 329.201 Q252.632 329.201 249.553 324.617 Q246.498 320.011 246.498 311.284 Q246.498 302.534 249.553 297.951 Q252.632 293.344 258.442 293.344 Z\" fill=\"#000000\" fill-rule=\"nonzero\" fill-opacity=\"1\" /><path clip-path=\"url(#clip090)\" d=\"M78.7309 889.182 L78.7309 883.326 L128.256 883.326 L128.256 889.182 L78.7309 889.182 Z\" fill=\"#000000\" fill-rule=\"nonzero\" fill-opacity=\"1\" /><path clip-path=\"url(#clip090)\" d=\"M96.714 857.258 Q96.714 861.969 100.406 864.706 Q104.066 867.444 110.464 867.444 Q116.862 867.444 120.554 864.738 Q124.214 862.001 124.214 857.258 Q124.214 852.58 120.522 849.842 Q116.83 847.105 110.464 847.105 Q104.13 847.105 100.438 849.842 Q96.714 852.58 96.714 857.258 M91.7488 857.258 Q91.7488 849.62 96.714 845.259 Q101.679 840.899 110.464 840.899 Q119.217 840.899 124.214 845.259 Q129.179 849.62 129.179 857.258 Q129.179 864.929 124.214 869.29 Q119.217 873.618 110.464 873.618 Q101.679 873.618 96.714 869.29 Q91.7488 864.929 91.7488 857.258 Z\" fill=\"#000000\" fill-rule=\"nonzero\" fill-opacity=\"1\" /><path clip-path=\"url(#clip090)\" d=\"M110.018 807.733 Q103.653 807.733 100.152 810.375 Q96.6504 812.985 96.6504 817.727 Q96.6504 822.438 100.152 825.08 Q103.653 827.69 110.018 827.69 Q116.352 827.69 119.853 825.08 Q123.355 822.438 123.355 817.727 Q123.355 812.985 119.853 810.375 Q116.352 807.733 110.018 807.733 M123.832 801.877 Q132.935 801.877 137.359 805.919 Q141.815 809.961 141.815 818.3 Q141.815 821.388 141.338 824.125 Q140.892 826.862 139.937 829.44 L134.24 829.44 Q135.64 826.862 136.309 824.348 Q136.977 821.833 136.977 819.223 Q136.977 813.462 133.953 810.598 Q130.962 807.733 124.882 807.733 L121.986 807.733 Q125.137 809.548 126.697 812.38 Q128.256 815.213 128.256 819.16 Q128.256 825.716 123.259 829.727 Q118.262 833.737 110.018 833.737 Q101.743 833.737 96.7459 829.727 Q91.7488 825.716 91.7488 819.16 Q91.7488 815.213 93.3084 812.38 Q94.868 809.548 98.019 807.733 L92.6082 807.733 L92.6082 801.877 L123.832 801.877 Z\" fill=\"#000000\" fill-rule=\"nonzero\" fill-opacity=\"1\" /><path clip-path=\"url(#clip090)\" d=\"M78.7946 775.746 Q86.1151 780.011 93.2766 782.079 Q100.438 784.148 107.79 784.148 Q115.143 784.148 122.368 782.079 Q129.561 779.979 136.85 775.746 L136.85 780.838 Q129.37 785.612 122.145 788 Q114.92 790.355 107.79 790.355 Q100.693 790.355 93.4994 788 Q86.3061 785.644 78.7946 780.838 L78.7946 775.746 Z\" fill=\"#000000\" fill-rule=\"nonzero\" fill-opacity=\"1\" /><path clip-path=\"url(#clip090)\" d=\"M84.3964 728.544 L91.1759 728.544 Q88.1522 731.79 86.6562 735.483 Q85.1603 739.143 85.1603 743.281 Q85.1603 751.429 90.1574 755.757 Q95.1226 760.086 104.544 760.086 Q113.933 760.086 118.93 755.757 Q123.896 751.429 123.896 743.281 Q123.896 739.143 122.4 735.483 Q120.904 731.79 117.88 728.544 L124.596 728.544 Q126.887 731.918 128.033 735.705 Q129.179 739.461 129.179 743.662 Q129.179 754.452 122.591 760.659 Q115.97 766.865 104.544 766.865 Q93.0856 766.865 86.4971 760.659 Q79.8768 754.452 79.8768 743.662 Q79.8768 739.397 81.0226 735.642 Q82.1366 731.854 84.3964 728.544 Z\" fill=\"#000000\" fill-rule=\"nonzero\" fill-opacity=\"1\" /><path clip-path=\"url(#clip090)\" d=\"M78.7946 704.8 Q86.1151 709.065 93.2766 711.134 Q100.438 713.203 107.79 713.203 Q115.143 713.203 122.368 711.134 Q129.561 709.033 136.85 704.8 L136.85 709.892 Q129.37 714.667 122.145 717.054 Q114.92 719.409 107.79 719.409 Q100.693 719.409 93.4994 717.054 Q86.3061 714.698 78.7946 709.892 L78.7946 704.8 Z\" fill=\"#000000\" fill-rule=\"nonzero\" fill-opacity=\"1\" /><path clip-path=\"url(#clip090)\" d=\"M98.0827 672.78 Q97.5098 673.767 97.2551 674.945 Q96.9687 676.09 96.9687 677.491 Q96.9687 682.456 100.215 685.13 Q103.43 687.772 109.477 687.772 L128.256 687.772 L128.256 693.66 L92.6082 693.66 L92.6082 687.772 L98.1463 687.772 Q94.8998 685.925 93.3402 682.965 Q91.7488 680.005 91.7488 675.772 Q91.7488 675.167 91.8443 674.435 Q91.9079 673.703 92.0671 672.812 L98.0827 672.78 Z\" fill=\"#000000\" fill-rule=\"nonzero\" fill-opacity=\"1\" /><path clip-path=\"url(#clip090)\" d=\"M120.172 665.141 L120.172 658.426 L125.646 658.426 L135.831 663.646 L135.831 667.751 L125.646 665.141 L120.172 665.141 Z\" fill=\"#000000\" fill-rule=\"nonzero\" fill-opacity=\"1\" /><path clip-path=\"url(#clip090)\" d=\"M82.4867 640.124 L92.6082 640.124 L92.6082 628.061 L97.1596 628.061 L97.1596 640.124 L116.511 640.124 Q120.872 640.124 122.113 638.947 Q123.355 637.737 123.355 634.077 L123.355 628.061 L128.256 628.061 L128.256 634.077 Q128.256 640.856 125.742 643.434 Q123.195 646.013 116.511 646.013 L97.1596 646.013 L97.1596 650.309 L92.6082 650.309 L92.6082 646.013 L82.4867 646.013 L82.4867 640.124 Z\" fill=\"#000000\" fill-rule=\"nonzero\" fill-opacity=\"1\" /><path clip-path=\"url(#clip090)\" d=\"M78.7946 621.282 L78.7946 616.189 Q86.3061 611.415 93.4994 609.06 Q100.693 606.672 107.79 606.672 Q114.92 606.672 122.145 609.06 Q129.37 611.415 136.85 616.189 L136.85 621.282 Q129.561 617.049 122.368 614.98 Q115.143 612.879 107.79 612.879 Q100.438 612.879 93.2766 614.98 Q86.1151 617.049 78.7946 621.282 Z\" fill=\"#000000\" fill-rule=\"nonzero\" fill-opacity=\"1\" /><path clip-path=\"url(#clip090)\" d=\"M78.7946 595.851 L78.7946 590.758 Q86.3061 585.984 93.4994 583.629 Q100.693 581.241 107.79 581.241 Q114.92 581.241 122.145 583.629 Q129.37 585.984 136.85 590.758 L136.85 595.851 Q129.561 591.618 122.368 589.549 Q115.143 587.448 107.79 587.448 Q100.438 587.448 93.2766 589.549 Q86.1151 591.618 78.7946 595.851 Z\" fill=\"#000000\" fill-rule=\"nonzero\" fill-opacity=\"1\" /><polyline clip-path=\"url(#clip092)\" style=\"stroke:#4c1c4a; stroke-linecap:round; stroke-linejoin:round; stroke-width:4; stroke-opacity:1; fill:none\" points=\"362.484,1173.13 367.171,1197.02 371.857,1190.72 376.544,1207.29 381.23,1185.61 385.917,1206.93 390.603,1203.4 395.29,1205.36 399.976,1200.76 404.663,1185.19 409.35,1155.2 414.036,1163.68 418.723,1162.29 423.409,1197.42 \"/>\n",
       "<polyline clip-path=\"url(#clip092)\" style=\"stroke:#4c1c4a; stroke-linecap:round; stroke-linejoin:round; stroke-width:4; stroke-opacity:1; fill:none\" points=\"432.782,1161.04 437.469,1202.62 442.155,1163 446.842,1163.86 451.528,1151.67 456.215,1210.66 460.901,1235.17 465.588,1157.34 470.274,1164.49 474.961,1194.6 479.647,1172.53 484.334,1193.83 489.02,1202.44 493.707,1206.47 498.393,1178.17 503.08,1159.9 507.766,1230.41 512.453,1203.15 517.139,1187.3 521.826,1207.9 526.513,1217.8 531.199,1159.8 535.886,1225.66 540.572,1192.78 545.259,1209.84 549.945,1191.71 554.632,1164.73 559.318,1159.69 564.005,1179.53 568.691,1154.23 573.378,1189.9 578.064,1293.44 582.751,1194.52 587.437,1184 592.124,1155.96 596.81,1210.79 601.497,1205.32 606.183,1179.02 610.87,1192.67 615.556,1158.71 620.243,1214.2 624.929,1209.28 629.616,1159.71 634.303,1174.9 638.989,1186.57 643.676,1179.57 648.362,1205.02 653.049,1183.79 657.735,1166.97 662.422,1304.46 667.108,1259.56 671.795,1187.79 676.481,1190.53 681.168,1173.72 685.854,1173.5 690.541,1173.3 695.227,1189.54 699.914,1197.78 704.6,1178.19 709.287,1172.5 713.973,1208.2 718.66,1167.54 723.346,1183.68 728.033,1167.29 732.719,1165.27 737.406,1159.88 742.093,1199.61 746.779,1203.23 751.466,1207.9 756.152,1233.37 760.839,1201.93 765.525,1167.22 770.212,1194.33 774.898,1179.27 779.585,1200.88 784.271,1192.55 788.958,1181.58 793.644,1197.16 798.331,1219.13 803.017,1166.38 807.704,1158.68 812.39,1167.87 817.077,1146.44 821.763,1173.34 826.45,1161.51 831.136,1162.91 835.823,1169.98 840.509,1186.62 845.196,1163.67 849.883,1196.63 854.569,1180.23 859.256,1158.04 863.942,1178.37 868.629,1169.8 873.315,1201.29 878.002,1155.28 882.688,1184.71 887.375,1177.68 892.061,1171.56 \"/>\n",
       "<polyline clip-path=\"url(#clip092)\" style=\"stroke:#4c1c4a; stroke-linecap:round; stroke-linejoin:round; stroke-width:4; stroke-opacity:1; fill:none\" points=\"906.121,1157.82 910.807,1198.74 915.494,1142.93 920.18,1199.62 924.867,1197.66 929.553,1176.1 934.24,1192.94 938.926,1175.17 943.613,1193.05 948.299,1167.99 \"/>\n",
       "<polyline clip-path=\"url(#clip092)\" style=\"stroke:#4c1c4a; stroke-linecap:round; stroke-linejoin:round; stroke-width:4; stroke-opacity:1; fill:none\" points=\"967.046,1188.16 971.732,1174.72 976.419,1176.31 981.105,1219.19 985.792,1173.86 990.478,1186.78 995.165,1189.12 999.851,1156.67 1004.54,1190.76 1009.22,1163.52 1013.91,1210.11 1018.6,1180.1 1023.28,1175.72 1027.97,1181.97 1032.66,1173.47 1037.34,1183.92 1042.03,1219.18 1046.72,1187.13 1051.4,1204.3 1056.09,1214.43 1060.78,1174.81 1065.46,1166.81 1070.15,1161.84 1074.84,1160.74 1079.52,1174.79 1084.21,1323.62 1088.9,1225.77 1093.58,1191.68 1098.27,1174.41 1102.95,1210.91 1107.64,1198.82 1112.33,1183.92 1117.01,1168.21 1121.7,1186.08 1126.39,1161.7 1131.07,1247.85 1135.76,1173.43 1140.45,1184.06 1145.13,1158 1149.82,1178.75 1154.51,1217.9 1159.19,1203.01 1163.88,1164.59 1168.57,1168.85 1173.25,1171.71 1177.94,1202.75 1182.63,1176.25 1187.31,1188.25 1192,1155.24 1196.69,1207.7 1201.37,1212.01 1206.06,1180.49 1210.74,1190.01 1215.43,1189.34 1220.12,1172.15 1224.8,1207.28 1229.49,1198.75 1234.18,1197.6 \"/>\n",
       "<polyline clip-path=\"url(#clip092)\" style=\"stroke:#4c1c4a; stroke-linecap:round; stroke-linejoin:round; stroke-width:4; stroke-opacity:1; fill:none\" points=\"1243.55,1207.79 1248.24,1200.33 1252.92,1174.32 1257.61,1148.64 1262.3,1183.2 1266.98,1165.73 \"/>\n",
       "<polyline clip-path=\"url(#clip092)\" style=\"stroke:#4c1c4a; stroke-linecap:round; stroke-linejoin:round; stroke-width:4; stroke-opacity:1; fill:none\" points=\"1285.73,1170.91 1290.42,1301.08 1295.1,1156.78 1299.79,1185.8 1304.48,1187.82 1309.16,1164.6 1313.85,1183.16 \"/>\n",
       "<polyline clip-path=\"url(#clip092)\" style=\"stroke:#4c1c4a; stroke-linecap:round; stroke-linejoin:round; stroke-width:4; stroke-opacity:1; fill:none\" points=\"1323.22,1176.13 1327.91,1175.42 1332.59,1180.5 1337.28,1207.58 1341.97,1213.43 1346.65,1236.83 1351.34,1236.83 1356.03,1189.47 1360.71,1218.08 1365.4,1173.61 1370.09,1152.4 1374.77,1186.3 1379.46,1165.82 1384.15,1218.81 1388.83,1233.04 1393.52,1198.92 1398.21,1202.92 1402.89,1174.68 1407.58,1232.24 1412.27,1204.46 1416.95,1163.48 \"/>\n",
       "<polyline clip-path=\"url(#clip092)\" style=\"stroke:#4c1c4a; stroke-linecap:round; stroke-linejoin:round; stroke-width:4; stroke-opacity:1; fill:none\" points=\"1426.32,1192.73 1431.01,1207.64 1435.7,1168.54 1440.38,1192.94 1445.07,1189.93 1449.76,1207.31 1454.44,1165.93 1459.13,1207.66 1463.82,1160.47 1468.5,1198.57 1473.19,1210.75 1477.88,1207.62 1482.56,1189.68 1487.25,1179.2 1491.94,1172.95 1496.62,1218.76 1501.31,1188.21 1506,1169.75 1510.68,1195.01 \"/>\n",
       "<polyline clip-path=\"url(#clip092)\" style=\"stroke:#4c1c4a; stroke-linecap:round; stroke-linejoin:round; stroke-width:4; stroke-opacity:1; fill:none\" points=\"1520.06,1221.95 1524.74,1150.64 1529.43,1298.12 1534.11,1184.66 1538.8,1176 1543.49,1188.53 1548.17,1171.04 1552.86,1183.78 1557.55,1156.88 1562.23,1189.6 1566.92,1185.78 1571.61,1173.02 1576.29,1217.44 \"/>\n",
       "<polyline clip-path=\"url(#clip092)\" style=\"stroke:#4c1c4a; stroke-linecap:round; stroke-linejoin:round; stroke-width:4; stroke-opacity:1; fill:none\" points=\"1585.67,1183.99 1590.35,1198.29 1595.04,1140.97 1599.73,1152.39 1604.41,1189.85 1609.1,1178.49 1613.79,1176.59 1618.47,1219.01 1623.16,1177.86 1627.85,1210.77 1632.53,1207.86 1637.22,1135.19 1641.9,1159.1 \"/>\n",
       "<polyline clip-path=\"url(#clip092)\" style=\"stroke:#4c1c4a; stroke-linecap:round; stroke-linejoin:round; stroke-width:4; stroke-opacity:1; fill:none\" points=\"1651.28,1200.93 1655.96,1150.1 1660.65,1169.53 1665.34,1154.94 1670.02,1172.66 1674.71,1172.56 1679.4,1209.56 1684.08,1259.38 1688.77,1183.14 1693.46,1194.97 1698.14,1182.2 1702.83,1167.74 1707.52,1182.64 1712.2,1213.35 1716.89,1196.83 1721.58,1191.66 1726.26,1173.98 1730.95,1172.75 \"/>\n",
       "<polyline clip-path=\"url(#clip092)\" style=\"stroke:#4c1c4a; stroke-linecap:round; stroke-linejoin:round; stroke-width:4; stroke-opacity:1; fill:none\" points=\"1740.32,1217.77 1745.01,1207.53 1749.69,1141.6 1754.38,1179.47 1759.07,1185.99 1763.75,1212.56 1768.44,1182.45 1773.13,1176.22 1777.81,1202.84 1782.5,1186 1787.19,1166.96 1791.87,1179.5 1796.56,1205.4 1801.25,1194.71 1805.93,553.059 1810.62,1187.36 1815.31,551.614 1819.99,544.774 1824.68,541.889 1829.37,540.729 1834.05,537.93 1838.74,538.727 1843.43,534.835 1848.11,533.602 1852.8,532.533 1857.48,531.657 1862.17,530.622 1866.86,528.974 1871.54,528.075 1876.23,527.087 1880.92,526.183 1885.6,524.918 1890.29,523.955 1894.98,522.022 1899.66,521.402 1904.35,520.147 1909.04,518.846 1913.72,517.899 1918.41,516.723 1923.1,515.117 1927.78,309.409 1932.47,274.001 1937.16,257.371 1941.84,246.374 1946.53,238.135 1951.22,231.539 1955.9,226.033 1960.59,221.305 1965.27,217.16 1969.96,213.468 1974.65,210.138 1979.33,207.104 1984.02,204.317 1988.71,201.739 1993.39,199.34 1998.08,197.096 2002.77,194.988 2007.45,193 2012.14,191.118 2016.83,189.332 2021.51,187.632 2026.2,186.009 2030.89,184.457 2035.57,182.97 2040.26,181.542 2044.95,180.168 2049.63,178.844 2054.32,177.567 2059,176.334 2063.69,175.141 2068.38,173.985 2073.06,172.865 2077.75,171.777 2082.44,170.721 2087.12,169.694 2091.81,168.695 2096.5,167.722 2101.18,166.773 2105.87,165.848 2110.56,164.945 2115.24,164.063 2119.93,163.202 2124.62,162.359 2129.3,161.535 2133.99,160.728 2138.68,159.938 2143.36,159.164 2148.05,158.405 2152.74,157.661 2157.42,156.931 2162.11,156.215 2166.79,155.511 2171.48,154.82 2176.17,154.142 2180.85,153.475 2185.54,152.819 2190.23,152.174 2194.91,151.539 2199.6,150.915 2204.29,150.3 2208.97,149.695 2213.66,149.099 2218.35,148.512 2223.03,147.933 2227.72,147.363 2232.41,146.801 \"/>\n",
       "<polyline clip-path=\"url(#clip092)\" style=\"stroke:#751e58; stroke-linecap:round; stroke-linejoin:round; stroke-width:4; stroke-opacity:1; fill:none\" points=\"362.484,1173.13 367.171,1197.02 371.857,1190.72 376.544,1207.29 381.23,1185.61 385.917,1206.93 390.603,1203.4 395.29,1205.36 399.976,1200.76 404.663,1185.19 409.35,1155.2 414.036,1163.68 418.723,1162.29 423.409,1197.42 \"/>\n",
       "<polyline clip-path=\"url(#clip092)\" style=\"stroke:#751e58; stroke-linecap:round; stroke-linejoin:round; stroke-width:4; stroke-opacity:1; fill:none\" points=\"432.782,1161.04 437.469,1202.62 442.155,1163 446.842,1163.86 451.528,1151.67 456.215,1210.66 460.901,1235.17 465.588,1157.34 470.274,1164.49 474.961,1194.6 479.647,1172.53 484.334,1193.83 489.02,1202.44 493.707,1206.47 498.393,1178.17 503.08,1159.9 507.766,1230.41 512.453,1203.15 517.139,1187.3 521.826,1207.9 526.513,1217.8 531.199,1159.8 535.886,1225.66 540.572,1192.78 545.259,1209.84 549.945,1191.71 554.632,1164.73 559.318,1159.69 564.005,1179.53 568.691,1154.23 573.378,1189.9 578.064,1293.44 582.751,1194.52 587.437,1184 592.124,1155.96 596.81,1210.79 601.497,1205.32 606.183,1179.02 610.87,1192.67 615.556,1158.71 620.243,1214.2 624.929,1209.28 629.616,1159.71 634.303,1174.9 638.989,1186.57 643.676,1179.57 648.362,1205.02 653.049,1183.79 657.735,1166.97 662.422,1304.46 667.108,1259.56 671.795,1187.79 676.481,1190.53 681.168,1173.72 685.854,1173.5 690.541,1173.3 695.227,1189.54 699.914,1197.78 704.6,1178.19 709.287,1172.5 713.973,1208.2 718.66,1167.54 723.346,1183.68 728.033,1167.29 732.719,1165.27 737.406,1159.88 742.093,1199.61 746.779,1203.23 751.466,1207.9 756.152,1233.37 760.839,1201.93 765.525,1167.22 770.212,1194.33 774.898,1179.27 779.585,1200.88 784.271,1192.55 788.958,1181.58 793.644,1197.16 798.331,1219.13 803.017,1166.38 807.704,1158.68 812.39,1167.87 817.077,1146.44 821.763,1173.34 826.45,1161.51 831.136,1162.91 835.823,1169.98 840.509,1186.62 845.196,1163.67 849.883,1196.63 854.569,1180.23 859.256,1158.04 863.942,1178.37 868.629,1169.8 873.315,1201.29 878.002,1155.28 882.688,1184.71 887.375,1177.68 892.061,1171.56 \"/>\n",
       "<polyline clip-path=\"url(#clip092)\" style=\"stroke:#751e58; stroke-linecap:round; stroke-linejoin:round; stroke-width:4; stroke-opacity:1; fill:none\" points=\"906.121,1157.82 910.807,1198.74 915.494,1142.93 920.18,1199.62 924.867,1197.66 929.553,1176.1 934.24,1192.94 938.926,1175.17 943.613,1193.05 948.299,1167.99 \"/>\n",
       "<polyline clip-path=\"url(#clip092)\" style=\"stroke:#751e58; stroke-linecap:round; stroke-linejoin:round; stroke-width:4; stroke-opacity:1; fill:none\" points=\"967.046,1188.16 971.732,1174.72 976.419,1176.31 981.105,1219.19 985.792,1173.86 990.478,1186.78 995.165,1189.12 999.851,1156.67 1004.54,1190.76 1009.22,1163.52 1013.91,1210.11 1018.6,1180.1 1023.28,1175.72 1027.97,1181.97 1032.66,1173.47 1037.34,1183.92 1042.03,1219.18 1046.72,1187.13 1051.4,1204.3 1056.09,1214.43 1060.78,1174.81 1065.46,1166.81 1070.15,1161.84 1074.84,1160.74 1079.52,1174.79 1084.21,1323.62 1088.9,1225.77 1093.58,1191.68 1098.27,1174.41 1102.95,1210.91 1107.64,1198.82 1112.33,1183.92 1117.01,1168.21 1121.7,1186.08 1126.39,1161.7 1131.07,1247.85 1135.76,1173.43 1140.45,1184.06 1145.13,1158 1149.82,1178.75 1154.51,1217.9 1159.19,1203.01 1163.88,1164.59 1168.57,1168.85 1173.25,1171.71 1177.94,1202.75 1182.63,1176.25 1187.31,1188.25 1192,1155.24 1196.69,1207.7 1201.37,1212.01 1206.06,1180.49 1210.74,1190.01 1215.43,1189.34 1220.12,1172.15 1224.8,1207.28 1229.49,1198.75 1234.18,1197.6 \"/>\n",
       "<polyline clip-path=\"url(#clip092)\" style=\"stroke:#751e58; stroke-linecap:round; stroke-linejoin:round; stroke-width:4; stroke-opacity:1; fill:none\" points=\"1243.55,1207.79 1248.24,1200.33 1252.92,1174.32 1257.61,1148.64 1262.3,1183.2 1266.98,1165.73 \"/>\n",
       "<polyline clip-path=\"url(#clip092)\" style=\"stroke:#751e58; stroke-linecap:round; stroke-linejoin:round; stroke-width:4; stroke-opacity:1; fill:none\" points=\"1285.73,1170.91 1290.42,1301.08 1295.1,1156.78 1299.79,1185.8 1304.48,1187.82 1309.16,1164.6 1313.85,1183.16 \"/>\n",
       "<polyline clip-path=\"url(#clip092)\" style=\"stroke:#751e58; stroke-linecap:round; stroke-linejoin:round; stroke-width:4; stroke-opacity:1; fill:none\" points=\"1323.22,1176.13 1327.91,1175.42 1332.59,1180.5 1337.28,1207.58 1341.97,1213.43 1346.65,1236.83 1351.34,1236.83 1356.03,1189.47 1360.71,1218.08 1365.4,1173.61 1370.09,1152.4 1374.77,1186.3 1379.46,1165.82 1384.15,1218.81 1388.83,1233.04 1393.52,1198.92 1398.21,1202.92 1402.89,1174.68 1407.58,1232.24 1412.27,1204.46 1416.95,1163.48 \"/>\n",
       "<polyline clip-path=\"url(#clip092)\" style=\"stroke:#751e58; stroke-linecap:round; stroke-linejoin:round; stroke-width:4; stroke-opacity:1; fill:none\" points=\"1426.32,1192.73 1431.01,1207.64 1435.7,1168.54 1440.38,1192.94 1445.07,1189.93 1449.76,1207.31 1454.44,1165.93 1459.13,1207.66 1463.82,1160.47 1468.5,1198.57 1473.19,1210.75 1477.88,1207.62 1482.56,1189.68 1487.25,1179.2 1491.94,1172.95 1496.62,1218.76 1501.31,1188.21 1506,1169.75 1510.68,1195.01 \"/>\n",
       "<polyline clip-path=\"url(#clip092)\" style=\"stroke:#751e58; stroke-linecap:round; stroke-linejoin:round; stroke-width:4; stroke-opacity:1; fill:none\" points=\"1520.06,1221.95 1524.74,1150.64 1529.43,1298.12 1534.11,1184.66 1538.8,1176 1543.49,1188.53 1548.17,1171.04 1552.86,1183.78 1557.55,1156.88 1562.23,1189.6 1566.92,1185.78 1571.61,1173.02 1576.29,1217.44 \"/>\n",
       "<polyline clip-path=\"url(#clip092)\" style=\"stroke:#751e58; stroke-linecap:round; stroke-linejoin:round; stroke-width:4; stroke-opacity:1; fill:none\" points=\"1585.67,1183.99 1590.35,1198.29 1595.04,1140.97 1599.73,1152.39 1604.41,1189.85 1609.1,1178.49 1613.79,1176.59 1618.47,1219.01 1623.16,1177.86 1627.85,1210.77 1632.53,1207.86 1637.22,1135.19 1641.9,1159.1 \"/>\n",
       "<polyline clip-path=\"url(#clip092)\" style=\"stroke:#751e58; stroke-linecap:round; stroke-linejoin:round; stroke-width:4; stroke-opacity:1; fill:none\" points=\"1651.28,1200.93 1655.96,1150.1 1660.65,1169.53 1665.34,1154.94 1670.02,1172.66 1674.71,1172.56 1679.4,1209.56 1684.08,1259.38 1688.77,1183.14 1693.46,1194.97 1698.14,1182.2 1702.83,1167.74 1707.52,1182.64 1712.2,1213.35 1716.89,1196.83 1721.58,1191.66 1726.26,1173.98 1730.95,1172.75 \"/>\n",
       "<polyline clip-path=\"url(#clip092)\" style=\"stroke:#751e58; stroke-linecap:round; stroke-linejoin:round; stroke-width:4; stroke-opacity:1; fill:none\" points=\"1740.32,1217.77 1745.01,1207.53 1749.69,1141.6 1754.38,1179.47 1759.07,1185.99 1763.75,1212.56 1768.44,1182.45 1773.13,1176.22 1777.81,1202.84 1782.5,1186 1787.19,1166.96 1791.87,1179.5 1796.56,1205.4 1801.25,1194.71 1805.93,553.059 1810.62,1187.36 1815.31,551.614 1819.99,544.774 1824.68,541.889 1829.37,540.729 1834.05,537.93 1838.74,538.727 1843.43,534.835 1848.11,533.602 1852.8,532.533 1857.48,531.657 1862.17,530.622 1866.86,528.974 1871.54,528.075 1876.23,527.087 1880.92,526.183 1885.6,524.918 1890.29,523.955 1894.98,522.022 1899.66,521.402 1904.35,520.147 1909.04,518.846 1913.72,517.899 1918.41,516.723 1923.1,515.117 1927.78,309.409 1932.47,274.001 1937.16,257.371 1941.84,246.374 1946.53,238.135 1951.22,231.539 1955.9,226.033 1960.59,221.305 1965.27,217.16 1969.96,213.468 1974.65,210.138 1979.33,207.104 1984.02,204.317 1988.71,201.739 1993.39,199.34 1998.08,197.096 2002.77,194.988 2007.45,193 2012.14,191.118 2016.83,189.332 2021.51,187.632 2026.2,186.009 2030.89,184.457 2035.57,182.97 2040.26,181.542 2044.95,180.168 2049.63,178.844 2054.32,177.567 2059,176.334 2063.69,175.141 2068.38,173.985 2073.06,172.865 2077.75,171.777 2082.44,170.721 2087.12,169.694 2091.81,168.695 2096.5,167.722 2101.18,166.773 2105.87,165.848 2110.56,164.945 2115.24,164.063 2119.93,163.202 2124.62,162.359 2129.3,161.535 2133.99,160.728 2138.68,159.938 2143.36,159.164 2148.05,158.405 2152.74,157.661 2157.42,156.931 2162.11,156.215 2166.79,155.511 2171.48,154.82 2176.17,154.142 2180.85,153.475 2185.54,152.819 2190.23,152.174 2194.91,151.539 2199.6,150.915 2204.29,150.3 2208.97,149.695 2213.66,149.099 2218.35,148.512 2223.03,147.933 2227.72,147.363 2232.41,146.801 \"/>\n",
       "<polyline clip-path=\"url(#clip092)\" style=\"stroke:#a1195a; stroke-linecap:round; stroke-linejoin:round; stroke-width:4; stroke-opacity:1; fill:none\" points=\"362.484,1173.13 367.171,1197.02 371.857,1190.72 376.544,1207.29 381.23,1185.61 385.917,1206.93 390.603,1203.4 395.29,1205.36 399.976,1200.76 404.663,1185.19 409.35,1155.2 414.036,1163.68 418.723,1162.29 423.409,1197.42 \"/>\n",
       "<polyline clip-path=\"url(#clip092)\" style=\"stroke:#a1195a; stroke-linecap:round; stroke-linejoin:round; stroke-width:4; stroke-opacity:1; fill:none\" points=\"432.782,1161.04 437.469,1202.62 442.155,1163 446.842,1163.86 451.528,1151.67 456.215,1210.66 460.901,1235.17 465.588,1157.34 470.274,1164.49 474.961,1194.6 479.647,1172.53 484.334,1193.83 489.02,1202.44 493.707,1206.47 498.393,1178.17 503.08,1159.9 507.766,1230.41 512.453,1203.15 517.139,1187.3 521.826,1207.9 526.513,1217.8 531.199,1159.8 535.886,1225.66 540.572,1192.78 545.259,1209.84 549.945,1191.71 554.632,1164.73 559.318,1159.69 564.005,1179.53 568.691,1154.23 573.378,1189.9 578.064,1293.44 582.751,1194.52 587.437,1184 592.124,1155.96 596.81,1210.79 601.497,1205.32 606.183,1179.02 610.87,1192.67 615.556,1158.71 620.243,1214.2 624.929,1209.28 629.616,1159.71 634.303,1174.9 638.989,1186.57 643.676,1179.57 648.362,1205.02 653.049,1183.79 657.735,1166.97 662.422,1304.46 667.108,1259.56 671.795,1187.79 676.481,1190.53 681.168,1173.72 685.854,1173.5 690.541,1173.3 695.227,1189.54 699.914,1197.78 704.6,1178.19 709.287,1172.5 713.973,1208.2 718.66,1167.54 723.346,1183.68 728.033,1167.29 732.719,1165.27 737.406,1159.88 742.093,1199.61 746.779,1203.23 751.466,1207.9 756.152,1233.37 760.839,1201.93 765.525,1167.22 770.212,1194.33 774.898,1179.27 779.585,1200.88 784.271,1192.55 788.958,1181.58 793.644,1197.16 798.331,1219.13 803.017,1166.38 807.704,1158.68 812.39,1167.87 817.077,1146.44 821.763,1173.34 826.45,1161.51 831.136,1162.91 835.823,1169.98 840.509,1186.62 845.196,1163.67 849.883,1196.63 854.569,1180.23 859.256,1158.04 863.942,1178.37 868.629,1169.8 873.315,1201.29 878.002,1155.28 882.688,1184.71 887.375,1177.68 892.061,1171.56 \"/>\n",
       "<polyline clip-path=\"url(#clip092)\" style=\"stroke:#a1195a; stroke-linecap:round; stroke-linejoin:round; stroke-width:4; stroke-opacity:1; fill:none\" points=\"906.121,1157.82 910.807,1198.74 915.494,1142.93 920.18,1199.62 924.867,1197.66 929.553,1176.1 934.24,1192.94 938.926,1175.17 943.613,1193.05 948.299,1167.99 \"/>\n",
       "<polyline clip-path=\"url(#clip092)\" style=\"stroke:#a1195a; stroke-linecap:round; stroke-linejoin:round; stroke-width:4; stroke-opacity:1; fill:none\" points=\"967.046,1188.16 971.732,1174.72 976.419,1176.31 981.105,1219.19 985.792,1173.86 990.478,1186.78 995.165,1189.12 999.851,1156.67 1004.54,1190.76 1009.22,1163.52 1013.91,1210.11 1018.6,1180.1 1023.28,1175.72 1027.97,1181.97 1032.66,1173.47 1037.34,1183.92 1042.03,1219.18 1046.72,1187.13 1051.4,1204.3 1056.09,1214.43 1060.78,1174.81 1065.46,1166.81 1070.15,1161.84 1074.84,1160.74 1079.52,1174.79 1084.21,1323.62 1088.9,1225.77 1093.58,1191.68 1098.27,1174.41 1102.95,1210.91 1107.64,1198.82 1112.33,1183.92 1117.01,1168.21 1121.7,1186.08 1126.39,1161.7 1131.07,1247.85 1135.76,1173.43 1140.45,1184.06 1145.13,1158 1149.82,1178.75 1154.51,1217.9 1159.19,1203.01 1163.88,1164.59 1168.57,1168.85 1173.25,1171.71 1177.94,1202.75 1182.63,1176.25 1187.31,1188.25 1192,1155.24 1196.69,1207.7 1201.37,1212.01 1206.06,1180.49 1210.74,1190.01 1215.43,1189.34 1220.12,1172.15 1224.8,1207.28 1229.49,1198.75 1234.18,1197.6 \"/>\n",
       "<polyline clip-path=\"url(#clip092)\" style=\"stroke:#a1195a; stroke-linecap:round; stroke-linejoin:round; stroke-width:4; stroke-opacity:1; fill:none\" points=\"1243.55,1207.79 1248.24,1200.33 1252.92,1174.32 1257.61,1148.64 1262.3,1183.2 1266.98,1165.73 \"/>\n",
       "<polyline clip-path=\"url(#clip092)\" style=\"stroke:#a1195a; stroke-linecap:round; stroke-linejoin:round; stroke-width:4; stroke-opacity:1; fill:none\" points=\"1285.73,1170.91 1290.42,1301.08 1295.1,1156.78 1299.79,1185.8 1304.48,1187.82 1309.16,1164.6 1313.85,1183.16 \"/>\n",
       "<polyline clip-path=\"url(#clip092)\" style=\"stroke:#a1195a; stroke-linecap:round; stroke-linejoin:round; stroke-width:4; stroke-opacity:1; fill:none\" points=\"1323.22,1176.13 1327.91,1175.42 1332.59,1180.5 1337.28,1207.58 1341.97,1213.43 1346.65,1236.83 1351.34,1236.83 1356.03,1189.47 1360.71,1218.08 1365.4,1173.61 1370.09,1152.4 1374.77,1186.3 1379.46,1165.82 1384.15,1218.81 1388.83,1233.04 1393.52,1198.92 1398.21,1202.92 1402.89,1174.68 1407.58,1232.24 1412.27,1204.46 1416.95,1163.48 \"/>\n",
       "<polyline clip-path=\"url(#clip092)\" style=\"stroke:#a1195a; stroke-linecap:round; stroke-linejoin:round; stroke-width:4; stroke-opacity:1; fill:none\" points=\"1426.32,1192.73 1431.01,1207.64 1435.7,1168.54 1440.38,1192.94 1445.07,1189.93 1449.76,1207.31 1454.44,1165.93 1459.13,1207.66 1463.82,1160.47 1468.5,1198.57 1473.19,1210.75 1477.88,1207.62 1482.56,1189.68 1487.25,1179.2 1491.94,1172.95 1496.62,1218.76 1501.31,1188.21 1506,1169.75 1510.68,1195.01 \"/>\n",
       "<polyline clip-path=\"url(#clip092)\" style=\"stroke:#a1195a; stroke-linecap:round; stroke-linejoin:round; stroke-width:4; stroke-opacity:1; fill:none\" points=\"1520.06,1221.95 1524.74,1150.64 1529.43,1298.12 1534.11,1184.66 1538.8,1176 1543.49,1188.53 1548.17,1171.04 1552.86,1183.78 1557.55,1156.88 1562.23,1189.6 1566.92,1185.78 1571.61,1173.02 1576.29,1217.44 \"/>\n",
       "<polyline clip-path=\"url(#clip092)\" style=\"stroke:#a1195a; stroke-linecap:round; stroke-linejoin:round; stroke-width:4; stroke-opacity:1; fill:none\" points=\"1585.67,1183.99 1590.35,1198.29 1595.04,1140.97 1599.73,1152.39 1604.41,1189.85 1609.1,1178.49 1613.79,1176.59 1618.47,1219.01 1623.16,1177.86 1627.85,1210.77 1632.53,1207.86 1637.22,1135.19 1641.9,1159.1 \"/>\n",
       "<polyline clip-path=\"url(#clip092)\" style=\"stroke:#a1195a; stroke-linecap:round; stroke-linejoin:round; stroke-width:4; stroke-opacity:1; fill:none\" points=\"1651.28,1200.93 1655.96,1150.1 1660.65,1169.53 1665.34,1154.94 1670.02,1172.66 1674.71,1172.56 1679.4,1209.56 1684.08,1259.38 1688.77,1183.14 1693.46,1194.97 1698.14,1182.2 1702.83,1167.74 1707.52,1182.64 1712.2,1213.35 1716.89,1196.83 1721.58,1191.66 1726.26,1173.98 1730.95,1172.75 \"/>\n",
       "<polyline clip-path=\"url(#clip092)\" style=\"stroke:#a1195a; stroke-linecap:round; stroke-linejoin:round; stroke-width:4; stroke-opacity:1; fill:none\" points=\"1740.32,1217.77 1745.01,1207.53 1749.69,1141.6 1754.38,1179.47 1759.07,1185.99 1763.75,1212.56 1768.44,1182.45 1773.13,1176.22 1777.81,1202.84 1782.5,1186 1787.19,1166.96 1791.87,1179.5 1796.56,1205.4 1801.25,1194.71 1805.93,553.059 1810.62,1187.36 1815.31,551.614 1819.99,544.774 1824.68,541.889 1829.37,540.729 1834.05,537.93 1838.74,538.727 1843.43,534.835 1848.11,533.602 1852.8,532.533 1857.48,531.657 1862.17,530.622 1866.86,528.974 1871.54,528.075 1876.23,527.087 1880.92,526.183 1885.6,524.918 1890.29,523.955 1894.98,522.022 1899.66,521.402 1904.35,520.147 1909.04,518.846 1913.72,517.899 1918.41,516.723 1923.1,515.117 1927.78,309.409 1932.47,274.001 1937.16,257.371 1941.84,246.374 1946.53,238.135 1951.22,231.539 1955.9,226.033 1960.59,221.305 1965.27,217.16 1969.96,213.468 1974.65,210.138 1979.33,207.104 1984.02,204.317 1988.71,201.739 1993.39,199.34 1998.08,197.096 2002.77,194.988 2007.45,193 2012.14,191.118 2016.83,189.332 2021.51,187.632 2026.2,186.009 2030.89,184.457 2035.57,182.97 2040.26,181.542 2044.95,180.168 2049.63,178.844 2054.32,177.567 2059,176.334 2063.69,175.141 2068.38,173.985 2073.06,172.865 2077.75,171.777 2082.44,170.721 2087.12,169.694 2091.81,168.695 2096.5,167.722 2101.18,166.773 2105.87,165.848 2110.56,164.945 2115.24,164.063 2119.93,163.202 2124.62,162.359 2129.3,161.535 2133.99,160.728 2138.68,159.938 2143.36,159.164 2148.05,158.405 2152.74,157.661 2157.42,156.931 2162.11,156.215 2166.79,155.511 2171.48,154.82 2176.17,154.142 2180.85,153.475 2185.54,152.819 2190.23,152.174 2194.91,151.539 2199.6,150.915 2204.29,150.3 2208.97,149.695 2213.66,149.099 2218.35,148.512 2223.03,147.933 2227.72,147.363 2232.41,146.801 \"/>\n",
       "<polyline clip-path=\"url(#clip092)\" style=\"stroke:#ca1a4f; stroke-linecap:round; stroke-linejoin:round; stroke-width:4; stroke-opacity:1; fill:none\" points=\"362.484,1173.13 367.171,1197.02 371.857,1190.72 376.544,1207.29 381.23,1185.61 385.917,1206.93 390.603,1203.4 395.29,1205.36 399.976,1200.76 404.663,1185.19 409.35,1155.2 414.036,1163.68 418.723,1162.29 423.409,1197.42 \"/>\n",
       "<polyline clip-path=\"url(#clip092)\" style=\"stroke:#ca1a4f; stroke-linecap:round; stroke-linejoin:round; stroke-width:4; stroke-opacity:1; fill:none\" points=\"432.782,1161.04 437.469,1202.62 442.155,1163 446.842,1163.86 451.528,1151.67 456.215,1210.66 460.901,1235.17 465.588,1157.34 470.274,1164.49 474.961,1194.6 479.647,1172.53 484.334,1193.83 489.02,1202.44 493.707,1206.47 498.393,1178.17 503.08,1159.9 507.766,1230.41 512.453,1203.15 517.139,1187.3 521.826,1207.9 526.513,1217.8 531.199,1159.8 535.886,1225.66 540.572,1192.78 545.259,1209.84 549.945,1191.71 554.632,1164.73 559.318,1159.69 564.005,1179.53 568.691,1154.23 573.378,1189.9 578.064,1293.44 582.751,1194.52 587.437,1184 592.124,1155.96 596.81,1210.79 601.497,1205.32 606.183,1179.02 610.87,1192.67 615.556,1158.71 620.243,1214.2 624.929,1209.28 629.616,1159.71 634.303,1174.9 638.989,1186.57 643.676,1179.57 648.362,1205.02 653.049,1183.79 657.735,1166.97 662.422,1304.46 667.108,1259.56 671.795,1187.79 676.481,1190.53 681.168,1173.72 685.854,1173.5 690.541,1173.3 695.227,1189.54 699.914,1197.78 704.6,1178.19 709.287,1172.5 713.973,1208.2 718.66,1167.54 723.346,1183.68 728.033,1167.29 732.719,1165.27 737.406,1159.88 742.093,1199.61 746.779,1203.23 751.466,1207.9 756.152,1233.37 760.839,1201.93 765.525,1167.22 770.212,1194.33 774.898,1179.27 779.585,1200.88 784.271,1192.55 788.958,1181.58 793.644,1197.16 798.331,1219.13 803.017,1166.38 807.704,1158.68 812.39,1167.87 817.077,1146.44 821.763,1173.34 826.45,1161.51 831.136,1162.91 835.823,1169.98 840.509,1186.62 845.196,1163.67 849.883,1196.63 854.569,1180.23 859.256,1158.04 863.942,1178.37 868.629,1169.8 873.315,1201.29 878.002,1155.28 882.688,1184.71 887.375,1177.68 892.061,1171.56 \"/>\n",
       "<polyline clip-path=\"url(#clip092)\" style=\"stroke:#ca1a4f; stroke-linecap:round; stroke-linejoin:round; stroke-width:4; stroke-opacity:1; fill:none\" points=\"906.121,1157.82 910.807,1198.74 915.494,1142.93 920.18,1199.62 924.867,1197.66 929.553,1176.1 934.24,1192.94 938.926,1175.17 943.613,1193.05 948.299,1167.99 \"/>\n",
       "<polyline clip-path=\"url(#clip092)\" style=\"stroke:#ca1a4f; stroke-linecap:round; stroke-linejoin:round; stroke-width:4; stroke-opacity:1; fill:none\" points=\"967.046,1188.16 971.732,1174.72 976.419,1176.31 981.105,1219.19 985.792,1173.86 990.478,1186.78 995.165,1189.12 999.851,1156.67 1004.54,1190.76 1009.22,1163.52 1013.91,1210.11 1018.6,1180.1 1023.28,1175.72 1027.97,1181.97 1032.66,1173.47 1037.34,1183.92 1042.03,1219.18 1046.72,1187.13 1051.4,1204.3 1056.09,1214.43 1060.78,1174.81 1065.46,1166.81 1070.15,1161.84 1074.84,1160.74 1079.52,1174.79 1084.21,1323.62 1088.9,1225.77 1093.58,1191.68 1098.27,1174.41 1102.95,1210.91 1107.64,1198.82 1112.33,1183.92 1117.01,1168.21 1121.7,1186.08 1126.39,1161.7 1131.07,1247.85 1135.76,1173.43 1140.45,1184.06 1145.13,1158 1149.82,1178.75 1154.51,1217.9 1159.19,1203.01 1163.88,1164.59 1168.57,1168.85 1173.25,1171.71 1177.94,1202.75 1182.63,1176.25 1187.31,1188.25 1192,1155.24 1196.69,1207.7 1201.37,1212.01 1206.06,1180.49 1210.74,1190.01 1215.43,1189.34 1220.12,1172.15 1224.8,1207.28 1229.49,1198.75 1234.18,1197.6 \"/>\n",
       "<polyline clip-path=\"url(#clip092)\" style=\"stroke:#ca1a4f; stroke-linecap:round; stroke-linejoin:round; stroke-width:4; stroke-opacity:1; fill:none\" points=\"1243.55,1207.79 1248.24,1200.33 1252.92,1174.32 1257.61,1148.64 1262.3,1183.2 1266.98,1165.73 \"/>\n",
       "<polyline clip-path=\"url(#clip092)\" style=\"stroke:#ca1a4f; stroke-linecap:round; stroke-linejoin:round; stroke-width:4; stroke-opacity:1; fill:none\" points=\"1285.73,1170.91 1290.42,1301.08 1295.1,1156.78 1299.79,1185.8 1304.48,1187.82 1309.16,1164.6 1313.85,1183.16 \"/>\n",
       "<polyline clip-path=\"url(#clip092)\" style=\"stroke:#ca1a4f; stroke-linecap:round; stroke-linejoin:round; stroke-width:4; stroke-opacity:1; fill:none\" points=\"1323.22,1176.13 1327.91,1175.42 1332.59,1180.5 1337.28,1207.58 1341.97,1213.43 1346.65,1236.83 1351.34,1236.83 1356.03,1189.47 1360.71,1218.08 1365.4,1173.61 1370.09,1152.4 1374.77,1186.3 1379.46,1165.82 1384.15,1218.81 1388.83,1233.04 1393.52,1198.92 1398.21,1202.92 1402.89,1174.68 1407.58,1232.24 1412.27,1204.46 1416.95,1163.48 \"/>\n",
       "<polyline clip-path=\"url(#clip092)\" style=\"stroke:#ca1a4f; stroke-linecap:round; stroke-linejoin:round; stroke-width:4; stroke-opacity:1; fill:none\" points=\"1426.32,1192.73 1431.01,1207.64 1435.7,1168.54 1440.38,1192.94 1445.07,1189.93 1449.76,1207.31 1454.44,1165.93 1459.13,1207.66 1463.82,1160.47 1468.5,1198.57 1473.19,1210.75 1477.88,1207.62 1482.56,1189.68 1487.25,1179.2 1491.94,1172.95 1496.62,1218.76 1501.31,1188.21 1506,1169.75 1510.68,1195.01 \"/>\n",
       "<polyline clip-path=\"url(#clip092)\" style=\"stroke:#ca1a4f; stroke-linecap:round; stroke-linejoin:round; stroke-width:4; stroke-opacity:1; fill:none\" points=\"1520.06,1221.95 1524.74,1150.64 1529.43,1298.12 1534.11,1184.66 1538.8,1176 1543.49,1188.53 1548.17,1171.04 1552.86,1183.78 1557.55,1156.88 1562.23,1189.6 1566.92,1185.78 1571.61,1173.02 1576.29,1217.44 \"/>\n",
       "<polyline clip-path=\"url(#clip092)\" style=\"stroke:#ca1a4f; stroke-linecap:round; stroke-linejoin:round; stroke-width:4; stroke-opacity:1; fill:none\" points=\"1585.67,1183.99 1590.35,1198.29 1595.04,1140.97 1599.73,1152.39 1604.41,1189.85 1609.1,1178.49 1613.79,1176.59 1618.47,1219.01 1623.16,1177.86 1627.85,1210.77 1632.53,1207.86 1637.22,1135.19 1641.9,1159.1 \"/>\n",
       "<polyline clip-path=\"url(#clip092)\" style=\"stroke:#ca1a4f; stroke-linecap:round; stroke-linejoin:round; stroke-width:4; stroke-opacity:1; fill:none\" points=\"1651.28,1200.93 1655.96,1150.1 1660.65,1169.53 1665.34,1154.94 1670.02,1172.66 1674.71,1172.56 1679.4,1209.56 1684.08,1259.38 1688.77,1183.14 1693.46,1194.97 1698.14,1182.2 1702.83,1167.74 1707.52,1182.64 1712.2,1213.35 1716.89,1196.83 1721.58,1191.66 1726.26,1173.98 1730.95,1172.75 \"/>\n",
       "<polyline clip-path=\"url(#clip092)\" style=\"stroke:#ca1a4f; stroke-linecap:round; stroke-linejoin:round; stroke-width:4; stroke-opacity:1; fill:none\" points=\"1740.32,1217.77 1745.01,1207.53 1749.69,1141.6 1754.38,1179.47 1759.07,1185.99 1763.75,1212.56 1768.44,1182.45 1773.13,1176.22 1777.81,1202.84 1782.5,1186 1787.19,1166.96 1791.87,1179.5 1796.56,1205.4 1801.25,1194.71 1805.93,553.059 1810.62,1187.36 1815.31,551.614 1819.99,544.774 1824.68,541.889 1829.37,540.729 1834.05,537.93 1838.74,538.727 1843.43,534.835 1848.11,533.602 1852.8,532.533 1857.48,531.657 1862.17,530.622 1866.86,528.974 1871.54,528.075 1876.23,527.087 1880.92,526.183 1885.6,524.918 1890.29,523.955 1894.98,522.022 1899.66,521.402 1904.35,520.147 1909.04,518.846 1913.72,517.899 1918.41,516.723 1923.1,515.117 1927.78,309.409 1932.47,274.001 1937.16,257.371 1941.84,246.374 1946.53,238.135 1951.22,231.539 1955.9,226.033 1960.59,221.305 1965.27,217.16 1969.96,213.468 1974.65,210.138 1979.33,207.104 1984.02,204.317 1988.71,201.739 1993.39,199.34 1998.08,197.096 2002.77,194.988 2007.45,193 2012.14,191.118 2016.83,189.332 2021.51,187.632 2026.2,186.009 2030.89,184.457 2035.57,182.97 2040.26,181.542 2044.95,180.168 2049.63,178.844 2054.32,177.567 2059,176.334 2063.69,175.141 2068.38,173.985 2073.06,172.865 2077.75,171.777 2082.44,170.721 2087.12,169.694 2091.81,168.695 2096.5,167.722 2101.18,166.773 2105.87,165.848 2110.56,164.945 2115.24,164.063 2119.93,163.202 2124.62,162.359 2129.3,161.535 2133.99,160.728 2138.68,159.938 2143.36,159.164 2148.05,158.405 2152.74,157.661 2157.42,156.931 2162.11,156.215 2166.79,155.511 2171.48,154.82 2176.17,154.142 2180.85,153.475 2185.54,152.819 2190.23,152.174 2194.91,151.539 2199.6,150.915 2204.29,150.3 2208.97,149.695 2213.66,149.099 2218.35,148.512 2223.03,147.933 2227.72,147.363 2232.41,146.801 \"/>\n",
       "<polyline clip-path=\"url(#clip092)\" style=\"stroke:#e73e3e; stroke-linecap:round; stroke-linejoin:round; stroke-width:4; stroke-opacity:1; fill:none\" points=\"362.484,1173.13 367.171,1197.02 371.857,1190.72 376.544,1207.29 381.23,1185.61 385.917,1206.93 390.603,1203.4 395.29,1205.36 399.976,1200.76 404.663,1185.19 409.35,1155.2 414.036,1163.68 418.723,1162.29 423.409,1197.42 \"/>\n",
       "<polyline clip-path=\"url(#clip092)\" style=\"stroke:#e73e3e; stroke-linecap:round; stroke-linejoin:round; stroke-width:4; stroke-opacity:1; fill:none\" points=\"432.782,1161.04 437.469,1202.62 442.155,1163 446.842,1163.86 451.528,1151.67 456.215,1210.66 460.901,1235.17 465.588,1157.34 470.274,1164.49 474.961,1194.6 479.647,1172.53 484.334,1193.83 489.02,1202.44 493.707,1206.47 498.393,1178.17 503.08,1159.9 507.766,1230.41 512.453,1203.15 517.139,1187.3 521.826,1207.9 526.513,1217.8 531.199,1159.8 535.886,1225.66 540.572,1192.78 545.259,1209.84 549.945,1191.71 554.632,1164.73 559.318,1159.69 564.005,1179.53 568.691,1154.23 573.378,1189.9 578.064,1293.44 582.751,1194.52 587.437,1184 592.124,1155.96 596.81,1210.79 601.497,1205.32 606.183,1179.02 610.87,1192.67 615.556,1158.71 620.243,1214.2 624.929,1209.28 629.616,1159.71 634.303,1174.9 638.989,1186.57 643.676,1179.57 648.362,1205.02 653.049,1183.79 657.735,1166.97 662.422,1304.46 667.108,1259.56 671.795,1187.79 676.481,1190.53 681.168,1173.72 685.854,1173.5 690.541,1173.3 695.227,1189.54 699.914,1197.78 704.6,1178.19 709.287,1172.5 713.973,1208.2 718.66,1167.54 723.346,1183.68 728.033,1167.29 732.719,1165.27 737.406,1159.88 742.093,1199.61 746.779,1203.23 751.466,1207.9 756.152,1233.37 760.839,1201.93 765.525,1167.22 770.212,1194.33 774.898,1179.27 779.585,1200.88 784.271,1192.55 788.958,1181.58 793.644,1197.16 798.331,1219.13 803.017,1166.38 807.704,1158.68 812.39,1167.87 817.077,1146.44 821.763,1173.34 826.45,1161.51 831.136,1162.91 835.823,1169.98 840.509,1186.62 845.196,1163.67 849.883,1196.63 854.569,1180.23 859.256,1158.04 863.942,1178.37 868.629,1169.8 873.315,1201.29 878.002,1155.28 882.688,1184.71 887.375,1177.68 892.061,1171.56 \"/>\n",
       "<polyline clip-path=\"url(#clip092)\" style=\"stroke:#e73e3e; stroke-linecap:round; stroke-linejoin:round; stroke-width:4; stroke-opacity:1; fill:none\" points=\"906.121,1157.82 910.807,1198.74 915.494,1142.93 920.18,1199.62 924.867,1197.66 929.553,1176.1 934.24,1192.94 938.926,1175.17 943.613,1193.05 948.299,1167.99 \"/>\n",
       "<polyline clip-path=\"url(#clip092)\" style=\"stroke:#e73e3e; stroke-linecap:round; stroke-linejoin:round; stroke-width:4; stroke-opacity:1; fill:none\" points=\"967.046,1188.16 971.732,1174.72 976.419,1176.31 981.105,1219.19 985.792,1173.86 990.478,1186.78 995.165,1189.12 999.851,1156.67 1004.54,1190.76 1009.22,1163.52 1013.91,1210.11 1018.6,1180.1 1023.28,1175.72 1027.97,1181.97 1032.66,1173.47 1037.34,1183.92 1042.03,1219.18 1046.72,1187.13 1051.4,1204.3 1056.09,1214.43 1060.78,1174.81 1065.46,1166.81 1070.15,1161.84 1074.84,1160.74 1079.52,1174.79 1084.21,1323.62 1088.9,1225.77 1093.58,1191.68 1098.27,1174.41 1102.95,1210.91 1107.64,1198.82 1112.33,1183.92 1117.01,1168.21 1121.7,1186.08 1126.39,1161.7 1131.07,1247.85 1135.76,1173.43 1140.45,1184.06 1145.13,1158 1149.82,1178.75 1154.51,1217.9 1159.19,1203.01 1163.88,1164.59 1168.57,1168.85 1173.25,1171.71 1177.94,1202.75 1182.63,1176.25 1187.31,1188.25 1192,1155.24 1196.69,1207.7 1201.37,1212.01 1206.06,1180.49 1210.74,1190.01 1215.43,1189.34 1220.12,1172.15 1224.8,1207.28 1229.49,1198.75 1234.18,1197.6 \"/>\n",
       "<polyline clip-path=\"url(#clip092)\" style=\"stroke:#e73e3e; stroke-linecap:round; stroke-linejoin:round; stroke-width:4; stroke-opacity:1; fill:none\" points=\"1243.55,1207.79 1248.24,1200.33 1252.92,1174.32 1257.61,1148.64 1262.3,1183.2 1266.98,1165.73 \"/>\n",
       "<polyline clip-path=\"url(#clip092)\" style=\"stroke:#e73e3e; stroke-linecap:round; stroke-linejoin:round; stroke-width:4; stroke-opacity:1; fill:none\" points=\"1285.73,1170.91 1290.42,1301.08 1295.1,1156.78 1299.79,1185.8 1304.48,1187.82 1309.16,1164.6 1313.85,1183.16 \"/>\n",
       "<polyline clip-path=\"url(#clip092)\" style=\"stroke:#e73e3e; stroke-linecap:round; stroke-linejoin:round; stroke-width:4; stroke-opacity:1; fill:none\" points=\"1323.22,1176.13 1327.91,1175.42 1332.59,1180.5 1337.28,1207.58 1341.97,1213.43 1346.65,1236.83 1351.34,1236.83 1356.03,1189.47 1360.71,1218.08 1365.4,1173.61 1370.09,1152.4 1374.77,1186.3 1379.46,1165.82 1384.15,1218.81 1388.83,1233.04 1393.52,1198.92 1398.21,1202.92 1402.89,1174.68 1407.58,1232.24 1412.27,1204.46 1416.95,1163.48 \"/>\n",
       "<polyline clip-path=\"url(#clip092)\" style=\"stroke:#e73e3e; stroke-linecap:round; stroke-linejoin:round; stroke-width:4; stroke-opacity:1; fill:none\" points=\"1426.32,1192.73 1431.01,1207.64 1435.7,1168.54 1440.38,1192.94 1445.07,1189.93 1449.76,1207.31 1454.44,1165.93 1459.13,1207.66 1463.82,1160.47 1468.5,1198.57 1473.19,1210.75 1477.88,1207.62 1482.56,1189.68 1487.25,1179.2 1491.94,1172.95 1496.62,1218.76 1501.31,1188.21 1506,1169.75 1510.68,1195.01 \"/>\n",
       "<polyline clip-path=\"url(#clip092)\" style=\"stroke:#e73e3e; stroke-linecap:round; stroke-linejoin:round; stroke-width:4; stroke-opacity:1; fill:none\" points=\"1520.06,1221.95 1524.74,1150.64 1529.43,1298.12 1534.11,1184.66 1538.8,1176 1543.49,1188.53 1548.17,1171.04 1552.86,1183.78 1557.55,1156.88 1562.23,1189.6 1566.92,1185.78 1571.61,1173.02 1576.29,1217.44 \"/>\n",
       "<polyline clip-path=\"url(#clip092)\" style=\"stroke:#e73e3e; stroke-linecap:round; stroke-linejoin:round; stroke-width:4; stroke-opacity:1; fill:none\" points=\"1585.67,1183.99 1590.35,1198.29 1595.04,1140.97 1599.73,1152.39 1604.41,1189.85 1609.1,1178.49 1613.79,1176.59 1618.47,1219.01 1623.16,1177.86 1627.85,1210.77 1632.53,1207.86 1637.22,1135.19 1641.9,1159.1 \"/>\n",
       "<polyline clip-path=\"url(#clip092)\" style=\"stroke:#e73e3e; stroke-linecap:round; stroke-linejoin:round; stroke-width:4; stroke-opacity:1; fill:none\" points=\"1651.28,1200.93 1655.96,1150.1 1660.65,1169.53 1665.34,1154.94 1670.02,1172.66 1674.71,1172.56 1679.4,1209.56 1684.08,1259.38 1688.77,1183.14 1693.46,1194.97 1698.14,1182.2 1702.83,1167.74 1707.52,1182.64 1712.2,1213.35 1716.89,1196.83 1721.58,1191.66 1726.26,1173.98 1730.95,1172.75 \"/>\n",
       "<polyline clip-path=\"url(#clip092)\" style=\"stroke:#e73e3e; stroke-linecap:round; stroke-linejoin:round; stroke-width:4; stroke-opacity:1; fill:none\" points=\"1740.32,1217.77 1745.01,1207.53 1749.69,1141.6 1754.38,1179.47 1759.07,1185.99 1763.75,1212.56 1768.44,1182.45 1773.13,1176.22 1777.81,1202.84 1782.5,1186 1787.19,1166.96 1791.87,1179.5 1796.56,1205.4 1801.25,1194.71 1805.93,553.059 1810.62,1187.36 1815.31,551.614 1819.99,544.774 1824.68,541.889 1829.37,540.729 1834.05,537.93 1838.74,538.727 1843.43,534.835 1848.11,533.602 1852.8,532.533 1857.48,531.657 1862.17,530.622 1866.86,528.974 1871.54,528.075 1876.23,527.087 1880.92,526.183 1885.6,524.918 1890.29,523.955 1894.98,522.022 1899.66,521.402 1904.35,520.147 1909.04,518.846 1913.72,517.899 1918.41,516.723 1923.1,515.117 1927.78,309.409 1932.47,274.001 1937.16,257.371 1941.84,246.374 1946.53,238.135 1951.22,231.539 1955.9,226.033 1960.59,221.305 1965.27,217.16 1969.96,213.468 1974.65,210.138 1979.33,207.104 1984.02,204.317 1988.71,201.739 1993.39,199.34 1998.08,197.096 2002.77,194.988 2007.45,193 2012.14,191.118 2016.83,189.332 2021.51,187.632 2026.2,186.009 2030.89,184.457 2035.57,182.97 2040.26,181.542 2044.95,180.168 2049.63,178.844 2054.32,177.567 2059,176.334 2063.69,175.141 2068.38,173.985 2073.06,172.865 2077.75,171.777 2082.44,170.721 2087.12,169.694 2091.81,168.695 2096.5,167.722 2101.18,166.773 2105.87,165.848 2110.56,164.945 2115.24,164.063 2119.93,163.202 2124.62,162.359 2129.3,161.535 2133.99,160.728 2138.68,159.938 2143.36,159.164 2148.05,158.405 2152.74,157.661 2157.42,156.931 2162.11,156.215 2166.79,155.511 2171.48,154.82 2176.17,154.142 2180.85,153.475 2185.54,152.819 2190.23,152.174 2194.91,151.539 2199.6,150.915 2204.29,150.3 2208.97,149.695 2213.66,149.099 2218.35,148.512 2223.03,147.933 2227.72,147.363 2232.41,146.801 \"/>\n",
       "<polyline clip-path=\"url(#clip092)\" style=\"stroke:#ee5740; stroke-linecap:round; stroke-linejoin:round; stroke-width:4; stroke-opacity:1; fill:none\" points=\"362.484,1173.13 367.171,1197.02 371.857,1190.72 376.544,1207.29 381.23,1185.61 385.917,1206.93 390.603,1203.4 395.29,1205.36 399.976,1200.76 404.663,1185.19 409.35,1155.2 414.036,1163.68 418.723,1162.29 423.409,1197.42 \"/>\n",
       "<polyline clip-path=\"url(#clip092)\" style=\"stroke:#ee5740; stroke-linecap:round; stroke-linejoin:round; stroke-width:4; stroke-opacity:1; fill:none\" points=\"432.782,1161.04 437.469,1202.62 442.155,1163 446.842,1163.86 451.528,1151.67 456.215,1210.66 460.901,1235.17 465.588,1157.34 470.274,1164.49 474.961,1194.6 479.647,1172.53 484.334,1193.83 489.02,1202.44 493.707,1206.47 498.393,1178.17 503.08,1159.9 507.766,1230.41 512.453,1203.15 517.139,1187.3 521.826,1207.9 526.513,1217.8 531.199,1159.8 535.886,1225.66 540.572,1192.78 545.259,1209.84 549.945,1191.71 554.632,1164.73 559.318,1159.69 564.005,1179.53 568.691,1154.23 573.378,1189.9 578.064,1293.44 582.751,1194.52 587.437,1184 592.124,1155.96 596.81,1210.79 601.497,1205.32 606.183,1179.02 610.87,1192.67 615.556,1158.71 620.243,1214.2 624.929,1209.28 629.616,1159.71 634.303,1174.9 638.989,1186.57 643.676,1179.57 648.362,1205.02 653.049,1183.79 657.735,1166.97 662.422,1304.46 667.108,1259.56 671.795,1187.79 676.481,1190.53 681.168,1173.72 685.854,1173.5 690.541,1173.3 695.227,1189.54 699.914,1197.78 704.6,1178.19 709.287,1172.5 713.973,1208.2 718.66,1167.54 723.346,1183.68 728.033,1167.29 732.719,1165.27 737.406,1159.88 742.093,1199.61 746.779,1203.23 751.466,1207.9 756.152,1233.37 760.839,1201.93 765.525,1167.22 770.212,1194.33 774.898,1179.27 779.585,1200.88 784.271,1192.55 788.958,1181.58 793.644,1197.16 798.331,1219.13 803.017,1166.38 807.704,1158.68 812.39,1167.87 817.077,1146.44 821.763,1173.34 826.45,1161.51 831.136,1162.91 835.823,1169.98 840.509,1186.62 845.196,1163.67 849.883,1196.63 854.569,1180.23 859.256,1158.04 863.942,1178.37 868.629,1169.8 873.315,1201.29 878.002,1155.28 882.688,1184.71 887.375,1177.68 892.061,1171.56 \"/>\n",
       "<polyline clip-path=\"url(#clip092)\" style=\"stroke:#ee5740; stroke-linecap:round; stroke-linejoin:round; stroke-width:4; stroke-opacity:1; fill:none\" points=\"906.121,1157.82 910.807,1198.74 915.494,1142.93 920.18,1199.62 924.867,1197.66 929.553,1176.1 934.24,1192.94 938.926,1175.17 943.613,1193.05 948.299,1167.99 \"/>\n",
       "<polyline clip-path=\"url(#clip092)\" style=\"stroke:#ee5740; stroke-linecap:round; stroke-linejoin:round; stroke-width:4; stroke-opacity:1; fill:none\" points=\"967.046,1188.16 971.732,1174.72 976.419,1176.31 981.105,1219.19 985.792,1173.86 990.478,1186.78 995.165,1189.12 999.851,1156.67 1004.54,1190.76 1009.22,1163.52 1013.91,1210.11 1018.6,1180.1 1023.28,1175.72 1027.97,1181.97 1032.66,1173.47 1037.34,1183.92 1042.03,1219.18 1046.72,1187.13 1051.4,1204.3 1056.09,1214.43 1060.78,1174.81 1065.46,1166.81 1070.15,1161.84 1074.84,1160.74 1079.52,1174.79 1084.21,1323.62 1088.9,1225.77 1093.58,1191.68 1098.27,1174.41 1102.95,1210.91 1107.64,1198.82 1112.33,1183.92 1117.01,1168.21 1121.7,1186.08 1126.39,1161.7 1131.07,1247.85 1135.76,1173.43 1140.45,1184.06 1145.13,1158 1149.82,1178.75 1154.51,1217.9 1159.19,1203.01 1163.88,1164.59 1168.57,1168.85 1173.25,1171.71 1177.94,1202.75 1182.63,1176.25 1187.31,1188.25 1192,1155.24 1196.69,1207.7 1201.37,1212.01 1206.06,1180.49 1210.74,1190.01 1215.43,1189.34 1220.12,1172.15 1224.8,1207.28 1229.49,1198.75 1234.18,1197.6 \"/>\n",
       "<polyline clip-path=\"url(#clip092)\" style=\"stroke:#ee5740; stroke-linecap:round; stroke-linejoin:round; stroke-width:4; stroke-opacity:1; fill:none\" points=\"1243.55,1207.79 1248.24,1200.33 1252.92,1174.32 1257.61,1148.64 1262.3,1183.2 1266.98,1165.73 \"/>\n",
       "<polyline clip-path=\"url(#clip092)\" style=\"stroke:#ee5740; stroke-linecap:round; stroke-linejoin:round; stroke-width:4; stroke-opacity:1; fill:none\" points=\"1285.73,1170.91 1290.42,1301.08 1295.1,1156.78 1299.79,1185.8 1304.48,1187.82 1309.16,1164.6 1313.85,1183.16 \"/>\n",
       "<polyline clip-path=\"url(#clip092)\" style=\"stroke:#ee5740; stroke-linecap:round; stroke-linejoin:round; stroke-width:4; stroke-opacity:1; fill:none\" points=\"1323.22,1176.13 1327.91,1175.42 1332.59,1180.5 1337.28,1207.58 1341.97,1213.43 1346.65,1236.83 1351.34,1236.83 1356.03,1189.47 1360.71,1218.08 1365.4,1173.61 1370.09,1152.4 1374.77,1186.3 1379.46,1165.82 1384.15,1218.81 1388.83,1233.04 1393.52,1198.92 1398.21,1202.92 1402.89,1174.68 1407.58,1232.24 1412.27,1204.46 1416.95,1163.48 \"/>\n",
       "<polyline clip-path=\"url(#clip092)\" style=\"stroke:#ee5740; stroke-linecap:round; stroke-linejoin:round; stroke-width:4; stroke-opacity:1; fill:none\" points=\"1426.32,1192.73 1431.01,1207.64 1435.7,1168.54 1440.38,1192.94 1445.07,1189.93 1449.76,1207.31 1454.44,1165.93 1459.13,1207.66 1463.82,1160.47 1468.5,1198.57 1473.19,1210.75 1477.88,1207.62 1482.56,1189.68 1487.25,1179.2 1491.94,1172.95 1496.62,1218.76 1501.31,1188.21 1506,1169.75 1510.68,1195.01 \"/>\n",
       "<polyline clip-path=\"url(#clip092)\" style=\"stroke:#ee5740; stroke-linecap:round; stroke-linejoin:round; stroke-width:4; stroke-opacity:1; fill:none\" points=\"1520.06,1221.95 1524.74,1150.64 1529.43,1298.12 1534.11,1184.66 1538.8,1176 1543.49,1188.53 1548.17,1171.04 1552.86,1183.78 1557.55,1156.88 1562.23,1189.6 1566.92,1185.78 1571.61,1173.02 1576.29,1217.44 \"/>\n",
       "<polyline clip-path=\"url(#clip092)\" style=\"stroke:#ee5740; stroke-linecap:round; stroke-linejoin:round; stroke-width:4; stroke-opacity:1; fill:none\" points=\"1585.67,1183.99 1590.35,1198.29 1595.04,1140.97 1599.73,1152.39 1604.41,1189.85 1609.1,1178.49 1613.79,1176.59 1618.47,1219.01 1623.16,1177.86 1627.85,1210.77 1632.53,1207.86 1637.22,1135.19 1641.9,1159.1 \"/>\n",
       "<polyline clip-path=\"url(#clip092)\" style=\"stroke:#ee5740; stroke-linecap:round; stroke-linejoin:round; stroke-width:4; stroke-opacity:1; fill:none\" points=\"1651.28,1200.93 1655.96,1150.1 1660.65,1169.53 1665.34,1154.94 1670.02,1172.66 1674.71,1172.56 1679.4,1209.56 1684.08,1259.38 1688.77,1183.14 1693.46,1194.97 1698.14,1182.2 1702.83,1167.74 1707.52,1182.64 1712.2,1213.35 1716.89,1196.83 1721.58,1191.66 1726.26,1173.98 1730.95,1172.75 \"/>\n",
       "<polyline clip-path=\"url(#clip092)\" style=\"stroke:#ee5740; stroke-linecap:round; stroke-linejoin:round; stroke-width:4; stroke-opacity:1; fill:none\" points=\"1740.32,1217.77 1745.01,1207.53 1749.69,1141.6 1754.38,1179.47 1759.07,1185.99 1763.75,1212.56 1768.44,1182.45 1773.13,1176.22 1777.81,1202.84 1782.5,1186 1787.19,1166.96 1791.87,1179.5 1796.56,1205.4 1801.25,1194.71 1805.93,553.059 1810.62,1187.36 1815.31,551.614 1819.99,544.774 1824.68,541.889 1829.37,540.729 1834.05,537.93 1838.74,538.727 1843.43,534.835 1848.11,533.602 1852.8,532.533 1857.48,531.657 1862.17,530.622 1866.86,528.974 1871.54,528.075 1876.23,527.087 1880.92,526.183 1885.6,524.918 1890.29,523.955 1894.98,522.022 1899.66,521.402 1904.35,520.147 1909.04,518.846 1913.72,517.899 1918.41,516.723 1923.1,515.117 1927.78,309.409 1932.47,274.001 1937.16,257.371 1941.84,246.374 1946.53,238.135 1951.22,231.539 1955.9,226.033 1960.59,221.305 1965.27,217.16 1969.96,213.468 1974.65,210.138 1979.33,207.104 1984.02,204.317 1988.71,201.739 1993.39,199.34 1998.08,197.096 2002.77,194.988 2007.45,193 2012.14,191.118 2016.83,189.332 2021.51,187.632 2026.2,186.009 2030.89,184.457 2035.57,182.97 2040.26,181.542 2044.95,180.168 2049.63,178.844 2054.32,177.567 2059,176.334 2063.69,175.141 2068.38,173.985 2073.06,172.865 2077.75,171.777 2082.44,170.721 2087.12,169.694 2091.81,168.695 2096.5,167.722 2101.18,166.773 2105.87,165.848 2110.56,164.945 2115.24,164.063 2119.93,163.202 2124.62,162.359 2129.3,161.535 2133.99,160.728 2138.68,159.938 2143.36,159.164 2148.05,158.405 2152.74,157.661 2157.42,156.931 2162.11,156.215 2166.79,155.511 2171.48,154.82 2176.17,154.142 2180.85,153.475 2185.54,152.819 2190.23,152.174 2194.91,151.539 2199.6,150.915 2204.29,150.3 2208.97,149.695 2213.66,149.099 2218.35,148.512 2223.03,147.933 2227.72,147.363 2232.41,146.801 \"/>\n",
       "<path clip-path=\"url(#clip090)\" d=\"M1912.14 1317.35 L2222.43 1317.35 L2222.43 954.467 L1912.14 954.467  Z\" fill=\"#ffffff\" fill-rule=\"evenodd\" fill-opacity=\"1\"/>\n",
       "<polyline clip-path=\"url(#clip090)\" style=\"stroke:#000000; stroke-linecap:round; stroke-linejoin:round; stroke-width:4; stroke-opacity:1; fill:none\" points=\"1912.14,1317.35 2222.43,1317.35 2222.43,954.467 1912.14,954.467 1912.14,1317.35 \"/>\n",
       "<polyline clip-path=\"url(#clip090)\" style=\"stroke:#4c1c4a; stroke-linecap:round; stroke-linejoin:round; stroke-width:4; stroke-opacity:1; fill:none\" points=\"1934.16,1006.31 2066.3,1006.31 \"/>\n",
       "<path clip-path=\"url(#clip090)\" d=\"M2103.51 1001.64 Q2102.79 1001.23 2101.94 1001.04 Q2101.1 1000.83 2100.09 1000.83 Q2096.48 1000.83 2094.53 1003.19 Q2092.61 1005.53 2092.61 1009.93 L2092.61 1023.59 L2088.33 1023.59 L2088.33 997.661 L2092.61 997.661 L2092.61 1001.69 Q2093.95 999.328 2096.1 998.193 Q2098.26 997.036 2101.34 997.036 Q2101.78 997.036 2102.31 997.105 Q2102.84 997.152 2103.49 997.268 L2103.51 1001.64 Z\" fill=\"#000000\" fill-rule=\"nonzero\" fill-opacity=\"1\" /><path clip-path=\"url(#clip090)\" d=\"M2108.54 1002.06 L2138.21 1002.06 L2138.21 1005.95 L2108.54 1005.95 L2108.54 1002.06 M2108.54 1011.5 L2138.21 1011.5 L2138.21 1015.44 L2108.54 1015.44 L2108.54 1011.5 Z\" fill=\"#000000\" fill-rule=\"nonzero\" fill-opacity=\"1\" /><path clip-path=\"url(#clip090)\" d=\"M2148.35 989.027 L2166.71 989.027 L2166.71 992.962 L2152.63 992.962 L2152.63 1001.43 Q2153.65 1001.09 2154.67 1000.92 Q2155.69 1000.74 2156.71 1000.74 Q2162.49 1000.74 2165.87 1003.91 Q2169.25 1007.08 2169.25 1012.5 Q2169.25 1018.08 2165.78 1021.18 Q2162.31 1024.26 2155.99 1024.26 Q2153.81 1024.26 2151.54 1023.89 Q2149.3 1023.52 2146.89 1022.78 L2146.89 1018.08 Q2148.97 1019.21 2151.2 1019.77 Q2153.42 1020.32 2155.9 1020.32 Q2159.9 1020.32 2162.24 1018.22 Q2164.58 1016.11 2164.58 1012.5 Q2164.58 1008.89 2162.24 1006.78 Q2159.9 1004.67 2155.9 1004.67 Q2154.02 1004.67 2152.15 1005.09 Q2150.29 1005.51 2148.35 1006.39 L2148.35 989.027 Z\" fill=\"#000000\" fill-rule=\"nonzero\" fill-opacity=\"1\" /><polyline clip-path=\"url(#clip090)\" style=\"stroke:#751e58; stroke-linecap:round; stroke-linejoin:round; stroke-width:4; stroke-opacity:1; fill:none\" points=\"1934.16,1058.15 2066.3,1058.15 \"/>\n",
       "<path clip-path=\"url(#clip090)\" d=\"M2103.51 1053.48 Q2102.79 1053.07 2101.94 1052.88 Q2101.1 1052.67 2100.09 1052.67 Q2096.48 1052.67 2094.53 1055.03 Q2092.61 1057.37 2092.61 1061.77 L2092.61 1075.43 L2088.33 1075.43 L2088.33 1049.5 L2092.61 1049.5 L2092.61 1053.53 Q2093.95 1051.17 2096.1 1050.03 Q2098.26 1048.88 2101.34 1048.88 Q2101.78 1048.88 2102.31 1048.95 Q2102.84 1048.99 2103.49 1049.11 L2103.51 1053.48 Z\" fill=\"#000000\" fill-rule=\"nonzero\" fill-opacity=\"1\" /><path clip-path=\"url(#clip090)\" d=\"M2108.54 1053.9 L2138.21 1053.9 L2138.21 1057.79 L2108.54 1057.79 L2108.54 1053.9 M2108.54 1063.34 L2138.21 1063.34 L2138.21 1067.28 L2108.54 1067.28 L2108.54 1063.34 Z\" fill=\"#000000\" fill-rule=\"nonzero\" fill-opacity=\"1\" /><path clip-path=\"url(#clip090)\" d=\"M2149.11 1071.49 L2156.75 1071.49 L2156.75 1045.13 L2148.44 1046.79 L2148.44 1042.53 L2156.71 1040.87 L2161.38 1040.87 L2161.38 1071.49 L2169.02 1071.49 L2169.02 1075.43 L2149.11 1075.43 L2149.11 1071.49 Z\" fill=\"#000000\" fill-rule=\"nonzero\" fill-opacity=\"1\" /><path clip-path=\"url(#clip090)\" d=\"M2188.47 1043.95 Q2184.85 1043.95 2183.03 1047.51 Q2181.22 1051.05 2181.22 1058.18 Q2181.22 1065.29 2183.03 1068.85 Q2184.85 1072.39 2188.47 1072.39 Q2192.1 1072.39 2193.91 1068.85 Q2195.73 1065.29 2195.73 1058.18 Q2195.73 1051.05 2193.91 1047.51 Q2192.1 1043.95 2188.47 1043.95 M2188.47 1040.24 Q2194.28 1040.24 2197.33 1044.85 Q2200.41 1049.43 2200.41 1058.18 Q2200.41 1066.91 2197.33 1071.51 Q2194.28 1076.1 2188.47 1076.1 Q2182.66 1076.1 2179.58 1071.51 Q2176.52 1066.91 2176.52 1058.18 Q2176.52 1049.43 2179.58 1044.85 Q2182.66 1040.24 2188.47 1040.24 Z\" fill=\"#000000\" fill-rule=\"nonzero\" fill-opacity=\"1\" /><polyline clip-path=\"url(#clip090)\" style=\"stroke:#a1195a; stroke-linecap:round; stroke-linejoin:round; stroke-width:4; stroke-opacity:1; fill:none\" points=\"1934.16,1109.99 2066.3,1109.99 \"/>\n",
       "<path clip-path=\"url(#clip090)\" d=\"M2103.51 1105.32 Q2102.79 1104.91 2101.94 1104.72 Q2101.1 1104.51 2100.09 1104.51 Q2096.48 1104.51 2094.53 1106.87 Q2092.61 1109.21 2092.61 1113.61 L2092.61 1127.27 L2088.33 1127.27 L2088.33 1101.34 L2092.61 1101.34 L2092.61 1105.37 Q2093.95 1103.01 2096.1 1101.87 Q2098.26 1100.72 2101.34 1100.72 Q2101.78 1100.72 2102.31 1100.79 Q2102.84 1100.83 2103.49 1100.95 L2103.51 1105.32 Z\" fill=\"#000000\" fill-rule=\"nonzero\" fill-opacity=\"1\" /><path clip-path=\"url(#clip090)\" d=\"M2108.54 1105.74 L2138.21 1105.74 L2138.21 1109.63 L2108.54 1109.63 L2108.54 1105.74 M2108.54 1115.18 L2138.21 1115.18 L2138.21 1119.12 L2108.54 1119.12 L2108.54 1115.18 Z\" fill=\"#000000\" fill-rule=\"nonzero\" fill-opacity=\"1\" /><path clip-path=\"url(#clip090)\" d=\"M2152.33 1123.33 L2168.65 1123.33 L2168.65 1127.27 L2146.71 1127.27 L2146.71 1123.33 Q2149.37 1120.58 2153.95 1115.95 Q2158.56 1111.29 2159.74 1109.95 Q2161.98 1107.43 2162.86 1105.69 Q2163.77 1103.93 2163.77 1102.24 Q2163.77 1099.49 2161.82 1097.75 Q2159.9 1096.02 2156.8 1096.02 Q2154.6 1096.02 2152.15 1096.78 Q2149.72 1097.54 2146.94 1099.1 L2146.94 1094.37 Q2149.76 1093.24 2152.22 1092.66 Q2154.67 1092.08 2156.71 1092.08 Q2162.08 1092.08 2165.27 1094.77 Q2168.47 1097.45 2168.47 1101.94 Q2168.47 1104.07 2167.66 1105.99 Q2166.87 1107.89 2164.76 1110.48 Q2164.18 1111.16 2161.08 1114.37 Q2157.98 1117.57 2152.33 1123.33 Z\" fill=\"#000000\" fill-rule=\"nonzero\" fill-opacity=\"1\" /><path clip-path=\"url(#clip090)\" d=\"M2188.47 1095.79 Q2184.85 1095.79 2183.03 1099.35 Q2181.22 1102.89 2181.22 1110.02 Q2181.22 1117.13 2183.03 1120.69 Q2184.85 1124.23 2188.47 1124.23 Q2192.1 1124.23 2193.91 1120.69 Q2195.73 1117.13 2195.73 1110.02 Q2195.73 1102.89 2193.91 1099.35 Q2192.1 1095.79 2188.47 1095.79 M2188.47 1092.08 Q2194.28 1092.08 2197.33 1096.69 Q2200.41 1101.27 2200.41 1110.02 Q2200.41 1118.75 2197.33 1123.35 Q2194.28 1127.94 2188.47 1127.94 Q2182.66 1127.94 2179.58 1123.35 Q2176.52 1118.75 2176.52 1110.02 Q2176.52 1101.27 2179.58 1096.69 Q2182.66 1092.08 2188.47 1092.08 Z\" fill=\"#000000\" fill-rule=\"nonzero\" fill-opacity=\"1\" /><polyline clip-path=\"url(#clip090)\" style=\"stroke:#ca1a4f; stroke-linecap:round; stroke-linejoin:round; stroke-width:4; stroke-opacity:1; fill:none\" points=\"1934.16,1161.83 2066.3,1161.83 \"/>\n",
       "<path clip-path=\"url(#clip090)\" d=\"M2103.51 1157.16 Q2102.79 1156.75 2101.94 1156.56 Q2101.1 1156.35 2100.09 1156.35 Q2096.48 1156.35 2094.53 1158.71 Q2092.61 1161.05 2092.61 1165.45 L2092.61 1179.11 L2088.33 1179.11 L2088.33 1153.18 L2092.61 1153.18 L2092.61 1157.21 Q2093.95 1154.85 2096.1 1153.71 Q2098.26 1152.56 2101.34 1152.56 Q2101.78 1152.56 2102.31 1152.63 Q2102.84 1152.67 2103.49 1152.79 L2103.51 1157.16 Z\" fill=\"#000000\" fill-rule=\"nonzero\" fill-opacity=\"1\" /><path clip-path=\"url(#clip090)\" d=\"M2108.54 1157.58 L2138.21 1157.58 L2138.21 1161.47 L2108.54 1161.47 L2108.54 1157.58 M2108.54 1167.02 L2138.21 1167.02 L2138.21 1170.96 L2108.54 1170.96 L2108.54 1167.02 Z\" fill=\"#000000\" fill-rule=\"nonzero\" fill-opacity=\"1\" /><path clip-path=\"url(#clip090)\" d=\"M2162.47 1160.47 Q2165.83 1161.19 2167.7 1163.46 Q2169.6 1165.73 2169.6 1169.06 Q2169.6 1174.18 2166.08 1176.98 Q2162.56 1179.78 2156.08 1179.78 Q2153.91 1179.78 2151.59 1179.34 Q2149.3 1178.92 2146.85 1178.07 L2146.85 1173.55 Q2148.79 1174.69 2151.1 1175.26 Q2153.42 1175.84 2155.94 1175.84 Q2160.34 1175.84 2162.63 1174.11 Q2164.95 1172.37 2164.95 1169.06 Q2164.95 1166.01 2162.79 1164.29 Q2160.66 1162.56 2156.85 1162.56 L2152.82 1162.56 L2152.82 1158.71 L2157.03 1158.71 Q2160.48 1158.71 2162.31 1157.35 Q2164.14 1155.96 2164.14 1153.37 Q2164.14 1150.7 2162.24 1149.29 Q2160.36 1147.86 2156.85 1147.86 Q2154.92 1147.86 2152.72 1148.27 Q2150.53 1148.69 2147.89 1149.57 L2147.89 1145.4 Q2150.55 1144.66 2152.86 1144.29 Q2155.2 1143.92 2157.26 1143.92 Q2162.59 1143.92 2165.69 1146.35 Q2168.79 1148.76 2168.79 1152.88 Q2168.79 1155.75 2167.15 1157.74 Q2165.5 1159.71 2162.47 1160.47 Z\" fill=\"#000000\" fill-rule=\"nonzero\" fill-opacity=\"1\" /><path clip-path=\"url(#clip090)\" d=\"M2188.47 1147.63 Q2184.85 1147.63 2183.03 1151.19 Q2181.22 1154.73 2181.22 1161.86 Q2181.22 1168.97 2183.03 1172.53 Q2184.85 1176.07 2188.47 1176.07 Q2192.1 1176.07 2193.91 1172.53 Q2195.73 1168.97 2195.73 1161.86 Q2195.73 1154.73 2193.91 1151.19 Q2192.1 1147.63 2188.47 1147.63 M2188.47 1143.92 Q2194.28 1143.92 2197.33 1148.53 Q2200.41 1153.11 2200.41 1161.86 Q2200.41 1170.59 2197.33 1175.19 Q2194.28 1179.78 2188.47 1179.78 Q2182.66 1179.78 2179.58 1175.19 Q2176.52 1170.59 2176.52 1161.86 Q2176.52 1153.11 2179.58 1148.53 Q2182.66 1143.92 2188.47 1143.92 Z\" fill=\"#000000\" fill-rule=\"nonzero\" fill-opacity=\"1\" /><polyline clip-path=\"url(#clip090)\" style=\"stroke:#e73e3e; stroke-linecap:round; stroke-linejoin:round; stroke-width:4; stroke-opacity:1; fill:none\" points=\"1934.16,1213.67 2066.3,1213.67 \"/>\n",
       "<path clip-path=\"url(#clip090)\" d=\"M2103.51 1209 Q2102.79 1208.59 2101.94 1208.4 Q2101.1 1208.19 2100.09 1208.19 Q2096.48 1208.19 2094.53 1210.55 Q2092.61 1212.89 2092.61 1217.29 L2092.61 1230.95 L2088.33 1230.95 L2088.33 1205.02 L2092.61 1205.02 L2092.61 1209.05 Q2093.95 1206.69 2096.1 1205.55 Q2098.26 1204.4 2101.34 1204.4 Q2101.78 1204.4 2102.31 1204.47 Q2102.84 1204.51 2103.49 1204.63 L2103.51 1209 Z\" fill=\"#000000\" fill-rule=\"nonzero\" fill-opacity=\"1\" /><path clip-path=\"url(#clip090)\" d=\"M2108.54 1209.42 L2138.21 1209.42 L2138.21 1213.31 L2108.54 1213.31 L2108.54 1209.42 M2108.54 1218.86 L2138.21 1218.86 L2138.21 1222.8 L2108.54 1222.8 L2108.54 1218.86 Z\" fill=\"#000000\" fill-rule=\"nonzero\" fill-opacity=\"1\" /><path clip-path=\"url(#clip090)\" d=\"M2161.15 1200.46 L2149.35 1218.91 L2161.15 1218.91 L2161.15 1200.46 M2159.92 1196.39 L2165.8 1196.39 L2165.8 1218.91 L2170.73 1218.91 L2170.73 1222.8 L2165.8 1222.8 L2165.8 1230.95 L2161.15 1230.95 L2161.15 1222.8 L2145.55 1222.8 L2145.55 1218.28 L2159.92 1196.39 Z\" fill=\"#000000\" fill-rule=\"nonzero\" fill-opacity=\"1\" /><path clip-path=\"url(#clip090)\" d=\"M2188.47 1199.47 Q2184.85 1199.47 2183.03 1203.03 Q2181.22 1206.57 2181.22 1213.7 Q2181.22 1220.81 2183.03 1224.37 Q2184.85 1227.91 2188.47 1227.91 Q2192.1 1227.91 2193.91 1224.37 Q2195.73 1220.81 2195.73 1213.7 Q2195.73 1206.57 2193.91 1203.03 Q2192.1 1199.47 2188.47 1199.47 M2188.47 1195.76 Q2194.28 1195.76 2197.33 1200.37 Q2200.41 1204.95 2200.41 1213.7 Q2200.41 1222.43 2197.33 1227.03 Q2194.28 1231.62 2188.47 1231.62 Q2182.66 1231.62 2179.58 1227.03 Q2176.52 1222.43 2176.52 1213.7 Q2176.52 1204.95 2179.58 1200.37 Q2182.66 1195.76 2188.47 1195.76 Z\" fill=\"#000000\" fill-rule=\"nonzero\" fill-opacity=\"1\" /><polyline clip-path=\"url(#clip090)\" style=\"stroke:#ee5740; stroke-linecap:round; stroke-linejoin:round; stroke-width:4; stroke-opacity:1; fill:none\" points=\"1934.16,1265.51 2066.3,1265.51 \"/>\n",
       "<path clip-path=\"url(#clip090)\" d=\"M2103.51 1260.84 Q2102.79 1260.43 2101.94 1260.24 Q2101.1 1260.03 2100.09 1260.03 Q2096.48 1260.03 2094.53 1262.39 Q2092.61 1264.73 2092.61 1269.13 L2092.61 1282.79 L2088.33 1282.79 L2088.33 1256.86 L2092.61 1256.86 L2092.61 1260.89 Q2093.95 1258.53 2096.1 1257.39 Q2098.26 1256.24 2101.34 1256.24 Q2101.78 1256.24 2102.31 1256.31 Q2102.84 1256.35 2103.49 1256.47 L2103.51 1260.84 Z\" fill=\"#000000\" fill-rule=\"nonzero\" fill-opacity=\"1\" /><path clip-path=\"url(#clip090)\" d=\"M2108.54 1261.26 L2138.21 1261.26 L2138.21 1265.15 L2108.54 1265.15 L2108.54 1261.26 M2108.54 1270.7 L2138.21 1270.7 L2138.21 1274.64 L2108.54 1274.64 L2108.54 1270.7 Z\" fill=\"#000000\" fill-rule=\"nonzero\" fill-opacity=\"1\" /><path clip-path=\"url(#clip090)\" d=\"M2148.35 1248.23 L2166.71 1248.23 L2166.71 1252.16 L2152.63 1252.16 L2152.63 1260.63 Q2153.65 1260.29 2154.67 1260.12 Q2155.69 1259.94 2156.71 1259.94 Q2162.49 1259.94 2165.87 1263.11 Q2169.25 1266.28 2169.25 1271.7 Q2169.25 1277.28 2165.78 1280.38 Q2162.31 1283.46 2155.99 1283.46 Q2153.81 1283.46 2151.54 1283.09 Q2149.3 1282.72 2146.89 1281.98 L2146.89 1277.28 Q2148.97 1278.41 2151.2 1278.97 Q2153.42 1279.52 2155.9 1279.52 Q2159.9 1279.52 2162.24 1277.42 Q2164.58 1275.31 2164.58 1271.7 Q2164.58 1268.09 2162.24 1265.98 Q2159.9 1263.87 2155.9 1263.87 Q2154.02 1263.87 2152.15 1264.29 Q2150.29 1264.71 2148.35 1265.59 L2148.35 1248.23 Z\" fill=\"#000000\" fill-rule=\"nonzero\" fill-opacity=\"1\" /><path clip-path=\"url(#clip090)\" d=\"M2188.47 1251.31 Q2184.85 1251.31 2183.03 1254.87 Q2181.22 1258.41 2181.22 1265.54 Q2181.22 1272.65 2183.03 1276.21 Q2184.85 1279.75 2188.47 1279.75 Q2192.1 1279.75 2193.91 1276.21 Q2195.73 1272.65 2195.73 1265.54 Q2195.73 1258.41 2193.91 1254.87 Q2192.1 1251.31 2188.47 1251.31 M2188.47 1247.6 Q2194.28 1247.6 2197.33 1252.21 Q2200.41 1256.79 2200.41 1265.54 Q2200.41 1274.27 2197.33 1278.87 Q2194.28 1283.46 2188.47 1283.46 Q2182.66 1283.46 2179.58 1278.87 Q2176.52 1274.27 2176.52 1265.54 Q2176.52 1256.79 2179.58 1252.21 Q2182.66 1247.6 2188.47 1247.6 Z\" fill=\"#000000\" fill-rule=\"nonzero\" fill-opacity=\"1\" /></svg>\n"
      ],
      "text/html": [
       "<?xml version=\"1.0\" encoding=\"utf-8\"?>\n",
       "<svg xmlns=\"http://www.w3.org/2000/svg\" xmlns:xlink=\"http://www.w3.org/1999/xlink\" width=\"600\" height=\"400\" viewBox=\"0 0 2400 1600\">\n",
       "<defs>\n",
       "  <clipPath id=\"clip140\">\n",
       "    <rect x=\"0\" y=\"0\" width=\"2400\" height=\"1600\"/>\n",
       "  </clipPath>\n",
       "</defs>\n",
       "<path clip-path=\"url(#clip140)\" d=\"M0 1600 L2400 1600 L2400 0 L0 0  Z\" fill=\"#ffffff\" fill-rule=\"evenodd\" fill-opacity=\"1\"/>\n",
       "<defs>\n",
       "  <clipPath id=\"clip141\">\n",
       "    <rect x=\"480\" y=\"0\" width=\"1681\" height=\"1600\"/>\n",
       "  </clipPath>\n",
       "</defs>\n",
       "<path clip-path=\"url(#clip140)\" d=\"M306.387 1358.93 L2288.5 1358.93 L2288.5 111.496 L306.387 111.496  Z\" fill=\"#ffffff\" fill-rule=\"evenodd\" fill-opacity=\"1\"/>\n",
       "<defs>\n",
       "  <clipPath id=\"clip142\">\n",
       "    <rect x=\"306\" y=\"111\" width=\"1983\" height=\"1248\"/>\n",
       "  </clipPath>\n",
       "</defs>\n",
       "<polyline clip-path=\"url(#clip142)\" style=\"stroke:#000000; stroke-linecap:round; stroke-linejoin:round; stroke-width:2; stroke-opacity:0.1; fill:none\" points=\"357.798,1358.93 357.798,111.496 \"/>\n",
       "<polyline clip-path=\"url(#clip142)\" style=\"stroke:#000000; stroke-linecap:round; stroke-linejoin:round; stroke-width:2; stroke-opacity:0.1; fill:none\" points=\"826.45,1358.93 826.45,111.496 \"/>\n",
       "<polyline clip-path=\"url(#clip142)\" style=\"stroke:#000000; stroke-linecap:round; stroke-linejoin:round; stroke-width:2; stroke-opacity:0.1; fill:none\" points=\"1295.1,1358.93 1295.1,111.496 \"/>\n",
       "<polyline clip-path=\"url(#clip142)\" style=\"stroke:#000000; stroke-linecap:round; stroke-linejoin:round; stroke-width:2; stroke-opacity:0.1; fill:none\" points=\"1763.75,1358.93 1763.75,111.496 \"/>\n",
       "<polyline clip-path=\"url(#clip142)\" style=\"stroke:#000000; stroke-linecap:round; stroke-linejoin:round; stroke-width:2; stroke-opacity:0.1; fill:none\" points=\"2232.41,1358.93 2232.41,111.496 \"/>\n",
       "<polyline clip-path=\"url(#clip140)\" style=\"stroke:#000000; stroke-linecap:round; stroke-linejoin:round; stroke-width:4; stroke-opacity:1; fill:none\" points=\"306.387,1358.93 2288.5,1358.93 \"/>\n",
       "<polyline clip-path=\"url(#clip140)\" style=\"stroke:#000000; stroke-linecap:round; stroke-linejoin:round; stroke-width:4; stroke-opacity:1; fill:none\" points=\"306.387,111.496 2288.5,111.496 \"/>\n",
       "<polyline clip-path=\"url(#clip140)\" style=\"stroke:#000000; stroke-linecap:round; stroke-linejoin:round; stroke-width:4; stroke-opacity:1; fill:none\" points=\"357.798,1358.93 357.798,1340.03 \"/>\n",
       "<polyline clip-path=\"url(#clip140)\" style=\"stroke:#000000; stroke-linecap:round; stroke-linejoin:round; stroke-width:4; stroke-opacity:1; fill:none\" points=\"826.45,1358.93 826.45,1340.03 \"/>\n",
       "<polyline clip-path=\"url(#clip140)\" style=\"stroke:#000000; stroke-linecap:round; stroke-linejoin:round; stroke-width:4; stroke-opacity:1; fill:none\" points=\"1295.1,1358.93 1295.1,1340.03 \"/>\n",
       "<polyline clip-path=\"url(#clip140)\" style=\"stroke:#000000; stroke-linecap:round; stroke-linejoin:round; stroke-width:4; stroke-opacity:1; fill:none\" points=\"1763.75,1358.93 1763.75,1340.03 \"/>\n",
       "<polyline clip-path=\"url(#clip140)\" style=\"stroke:#000000; stroke-linecap:round; stroke-linejoin:round; stroke-width:4; stroke-opacity:1; fill:none\" points=\"2232.41,1358.93 2232.41,1340.03 \"/>\n",
       "<path clip-path=\"url(#clip140)\" d=\"M335.182 1389.85 Q331.571 1389.85 329.742 1393.41 Q327.937 1396.95 327.937 1404.08 Q327.937 1411.19 329.742 1414.75 Q331.571 1418.3 335.182 1418.3 Q338.816 1418.3 340.622 1414.75 Q342.451 1411.19 342.451 1404.08 Q342.451 1396.95 340.622 1393.41 Q338.816 1389.85 335.182 1389.85 M335.182 1386.14 Q340.992 1386.14 344.048 1390.75 Q347.127 1395.33 347.127 1404.08 Q347.127 1412.81 344.048 1417.42 Q340.992 1422 335.182 1422 Q329.372 1422 326.293 1417.42 Q323.238 1412.81 323.238 1404.08 Q323.238 1395.33 326.293 1390.75 Q329.372 1386.14 335.182 1386.14 Z\" fill=\"#000000\" fill-rule=\"nonzero\" fill-opacity=\"1\" /><path clip-path=\"url(#clip140)\" d=\"M355.344 1415.45 L360.228 1415.45 L360.228 1421.33 L355.344 1421.33 L355.344 1415.45 Z\" fill=\"#000000\" fill-rule=\"nonzero\" fill-opacity=\"1\" /><path clip-path=\"url(#clip140)\" d=\"M380.413 1389.85 Q376.802 1389.85 374.974 1393.41 Q373.168 1396.95 373.168 1404.08 Q373.168 1411.19 374.974 1414.75 Q376.802 1418.3 380.413 1418.3 Q384.048 1418.3 385.853 1414.75 Q387.682 1411.19 387.682 1404.08 Q387.682 1396.95 385.853 1393.41 Q384.048 1389.85 380.413 1389.85 M380.413 1386.14 Q386.224 1386.14 389.279 1390.75 Q392.358 1395.33 392.358 1404.08 Q392.358 1412.81 389.279 1417.42 Q386.224 1422 380.413 1422 Q374.603 1422 371.525 1417.42 Q368.469 1412.81 368.469 1404.08 Q368.469 1395.33 371.525 1390.75 Q374.603 1386.14 380.413 1386.14 Z\" fill=\"#000000\" fill-rule=\"nonzero\" fill-opacity=\"1\" /><path clip-path=\"url(#clip140)\" d=\"M804.332 1389.85 Q800.721 1389.85 798.892 1393.41 Q797.087 1396.95 797.087 1404.08 Q797.087 1411.19 798.892 1414.75 Q800.721 1418.3 804.332 1418.3 Q807.966 1418.3 809.772 1414.75 Q811.6 1411.19 811.6 1404.08 Q811.6 1396.95 809.772 1393.41 Q807.966 1389.85 804.332 1389.85 M804.332 1386.14 Q810.142 1386.14 813.198 1390.75 Q816.276 1395.33 816.276 1404.08 Q816.276 1412.81 813.198 1417.42 Q810.142 1422 804.332 1422 Q798.522 1422 795.443 1417.42 Q792.388 1412.81 792.388 1404.08 Q792.388 1395.33 795.443 1390.75 Q798.522 1386.14 804.332 1386.14 Z\" fill=\"#000000\" fill-rule=\"nonzero\" fill-opacity=\"1\" /><path clip-path=\"url(#clip140)\" d=\"M824.494 1415.45 L829.378 1415.45 L829.378 1421.33 L824.494 1421.33 L824.494 1415.45 Z\" fill=\"#000000\" fill-rule=\"nonzero\" fill-opacity=\"1\" /><path clip-path=\"url(#clip140)\" d=\"M839.61 1386.77 L857.966 1386.77 L857.966 1390.7 L843.892 1390.7 L843.892 1399.18 Q844.91 1398.83 845.929 1398.67 Q846.947 1398.48 847.966 1398.48 Q853.753 1398.48 857.133 1401.65 Q860.512 1404.82 860.512 1410.24 Q860.512 1415.82 857.04 1418.92 Q853.568 1422 847.248 1422 Q845.072 1422 842.804 1421.63 Q840.559 1421.26 838.151 1420.52 L838.151 1415.82 Q840.235 1416.95 842.457 1417.51 Q844.679 1418.06 847.156 1418.06 Q851.16 1418.06 853.498 1415.96 Q855.836 1413.85 855.836 1410.24 Q855.836 1406.63 853.498 1404.52 Q851.16 1402.42 847.156 1402.42 Q845.281 1402.42 843.406 1402.83 Q841.554 1403.25 839.61 1404.13 L839.61 1386.77 Z\" fill=\"#000000\" fill-rule=\"nonzero\" fill-opacity=\"1\" /><path clip-path=\"url(#clip140)\" d=\"M1262.25 1417.39 L1269.89 1417.39 L1269.89 1391.03 L1261.58 1392.69 L1261.58 1388.43 L1269.85 1386.77 L1274.52 1386.77 L1274.52 1417.39 L1282.16 1417.39 L1282.16 1421.33 L1262.25 1421.33 L1262.25 1417.39 Z\" fill=\"#000000\" fill-rule=\"nonzero\" fill-opacity=\"1\" /><path clip-path=\"url(#clip140)\" d=\"M1291.61 1415.45 L1296.49 1415.45 L1296.49 1421.33 L1291.61 1421.33 L1291.61 1415.45 Z\" fill=\"#000000\" fill-rule=\"nonzero\" fill-opacity=\"1\" /><path clip-path=\"url(#clip140)\" d=\"M1316.68 1389.85 Q1313.06 1389.85 1311.24 1393.41 Q1309.43 1396.95 1309.43 1404.08 Q1309.43 1411.19 1311.24 1414.75 Q1313.06 1418.3 1316.68 1418.3 Q1320.31 1418.3 1322.12 1414.75 Q1323.94 1411.19 1323.94 1404.08 Q1323.94 1396.95 1322.12 1393.41 Q1320.31 1389.85 1316.68 1389.85 M1316.68 1386.14 Q1322.49 1386.14 1325.54 1390.75 Q1328.62 1395.33 1328.62 1404.08 Q1328.62 1412.81 1325.54 1417.42 Q1322.49 1422 1316.68 1422 Q1310.87 1422 1307.79 1417.42 Q1304.73 1412.81 1304.73 1404.08 Q1304.73 1395.33 1307.79 1390.75 Q1310.87 1386.14 1316.68 1386.14 Z\" fill=\"#000000\" fill-rule=\"nonzero\" fill-opacity=\"1\" /><path clip-path=\"url(#clip140)\" d=\"M1731.4 1417.39 L1739.04 1417.39 L1739.04 1391.03 L1730.73 1392.69 L1730.73 1388.43 L1739 1386.77 L1743.67 1386.77 L1743.67 1417.39 L1751.31 1417.39 L1751.31 1421.33 L1731.4 1421.33 L1731.4 1417.39 Z\" fill=\"#000000\" fill-rule=\"nonzero\" fill-opacity=\"1\" /><path clip-path=\"url(#clip140)\" d=\"M1760.76 1415.45 L1765.64 1415.45 L1765.64 1421.33 L1760.76 1421.33 L1760.76 1415.45 Z\" fill=\"#000000\" fill-rule=\"nonzero\" fill-opacity=\"1\" /><path clip-path=\"url(#clip140)\" d=\"M1775.87 1386.77 L1794.23 1386.77 L1794.23 1390.7 L1780.15 1390.7 L1780.15 1399.18 Q1781.17 1398.83 1782.19 1398.67 Q1783.21 1398.48 1784.23 1398.48 Q1790.02 1398.48 1793.4 1401.65 Q1796.77 1404.82 1796.77 1410.24 Q1796.77 1415.82 1793.3 1418.92 Q1789.83 1422 1783.51 1422 Q1781.34 1422 1779.07 1421.63 Q1776.82 1421.26 1774.41 1420.52 L1774.41 1415.82 Q1776.5 1416.95 1778.72 1417.51 Q1780.94 1418.06 1783.42 1418.06 Q1787.42 1418.06 1789.76 1415.96 Q1792.1 1413.85 1792.1 1410.24 Q1792.1 1406.63 1789.76 1404.52 Q1787.42 1402.42 1783.42 1402.42 Q1781.54 1402.42 1779.67 1402.83 Q1777.82 1403.25 1775.87 1404.13 L1775.87 1386.77 Z\" fill=\"#000000\" fill-rule=\"nonzero\" fill-opacity=\"1\" /><path clip-path=\"url(#clip140)\" d=\"M2203.64 1417.39 L2219.96 1417.39 L2219.96 1421.33 L2198.02 1421.33 L2198.02 1417.39 Q2200.68 1414.64 2205.27 1410.01 Q2209.87 1405.36 2211.05 1404.01 Q2213.3 1401.49 2214.18 1399.75 Q2215.08 1397.99 2215.08 1396.3 Q2215.08 1393.55 2213.14 1391.81 Q2211.21 1390.08 2208.11 1390.08 Q2205.91 1390.08 2203.46 1390.84 Q2201.03 1391.61 2198.25 1393.16 L2198.25 1388.43 Q2201.08 1387.3 2203.53 1386.72 Q2205.98 1386.14 2208.02 1386.14 Q2213.39 1386.14 2216.58 1388.83 Q2219.78 1391.51 2219.78 1396 Q2219.78 1398.13 2218.97 1400.05 Q2218.18 1401.95 2216.08 1404.55 Q2215.5 1405.22 2212.39 1408.43 Q2209.29 1411.63 2203.64 1417.39 Z\" fill=\"#000000\" fill-rule=\"nonzero\" fill-opacity=\"1\" /><path clip-path=\"url(#clip140)\" d=\"M2229.78 1415.45 L2234.66 1415.45 L2234.66 1421.33 L2229.78 1421.33 L2229.78 1415.45 Z\" fill=\"#000000\" fill-rule=\"nonzero\" fill-opacity=\"1\" /><path clip-path=\"url(#clip140)\" d=\"M2254.85 1389.85 Q2251.24 1389.85 2249.41 1393.41 Q2247.6 1396.95 2247.6 1404.08 Q2247.6 1411.19 2249.41 1414.75 Q2251.24 1418.3 2254.85 1418.3 Q2258.48 1418.3 2260.29 1414.75 Q2262.12 1411.19 2262.12 1404.08 Q2262.12 1396.95 2260.29 1393.41 Q2258.48 1389.85 2254.85 1389.85 M2254.85 1386.14 Q2260.66 1386.14 2263.71 1390.75 Q2266.79 1395.33 2266.79 1404.08 Q2266.79 1412.81 2263.71 1417.42 Q2260.66 1422 2254.85 1422 Q2249.04 1422 2245.96 1417.42 Q2242.9 1412.81 2242.9 1404.08 Q2242.9 1395.33 2245.96 1390.75 Q2249.04 1386.14 2254.85 1386.14 Z\" fill=\"#000000\" fill-rule=\"nonzero\" fill-opacity=\"1\" /><path clip-path=\"url(#clip140)\" d=\"M1219.32 1456.27 L1259.52 1456.27 L1259.52 1461.68 L1242.65 1461.68 L1242.65 1503.79 L1236.19 1503.79 L1236.19 1461.68 L1219.32 1461.68 L1219.32 1456.27 Z\" fill=\"#000000\" fill-rule=\"nonzero\" fill-opacity=\"1\" /><path clip-path=\"url(#clip140)\" d=\"M1263.47 1468.14 L1269.32 1468.14 L1269.32 1503.79 L1263.47 1503.79 L1263.47 1468.14 M1263.47 1454.27 L1269.32 1454.27 L1269.32 1461.68 L1263.47 1461.68 L1263.47 1454.27 Z\" fill=\"#000000\" fill-rule=\"nonzero\" fill-opacity=\"1\" /><path clip-path=\"url(#clip140)\" d=\"M1309.33 1474.99 Q1311.53 1471.04 1314.58 1469.16 Q1317.64 1467.28 1321.78 1467.28 Q1327.35 1467.28 1330.37 1471.2 Q1333.4 1475.08 1333.4 1482.28 L1333.4 1503.79 L1327.51 1503.79 L1327.51 1482.47 Q1327.51 1477.34 1325.69 1474.86 Q1323.88 1472.38 1320.15 1472.38 Q1315.6 1472.38 1312.96 1475.4 Q1310.32 1478.42 1310.32 1483.64 L1310.32 1503.79 L1304.43 1503.79 L1304.43 1482.47 Q1304.43 1477.31 1302.62 1474.86 Q1300.8 1472.38 1297.02 1472.38 Q1292.53 1472.38 1289.89 1475.43 Q1287.24 1478.46 1287.24 1483.64 L1287.24 1503.79 L1281.36 1503.79 L1281.36 1468.14 L1287.24 1468.14 L1287.24 1473.68 Q1289.25 1470.4 1292.05 1468.84 Q1294.85 1467.28 1298.7 1467.28 Q1302.59 1467.28 1305.29 1469.26 Q1308.03 1471.23 1309.33 1474.99 Z\" fill=\"#000000\" fill-rule=\"nonzero\" fill-opacity=\"1\" /><path clip-path=\"url(#clip140)\" d=\"M1375.57 1484.5 L1375.57 1487.37 L1348.64 1487.37 Q1349.02 1493.42 1352.27 1496.6 Q1355.55 1499.75 1361.37 1499.75 Q1364.75 1499.75 1367.9 1498.92 Q1371.08 1498.09 1374.2 1496.44 L1374.2 1501.98 Q1371.05 1503.31 1367.74 1504.01 Q1364.43 1504.71 1361.02 1504.71 Q1352.49 1504.71 1347.5 1499.75 Q1342.53 1494.78 1342.53 1486.32 Q1342.53 1477.57 1347.24 1472.44 Q1351.98 1467.28 1360 1467.28 Q1367.2 1467.28 1371.37 1471.93 Q1375.57 1476.55 1375.57 1484.5 M1369.71 1482.79 Q1369.65 1477.98 1367.01 1475.11 Q1364.4 1472.25 1360.07 1472.25 Q1355.17 1472.25 1352.21 1475.02 Q1349.28 1477.79 1348.83 1482.82 L1369.71 1482.79 Z\" fill=\"#000000\" fill-rule=\"nonzero\" fill-opacity=\"1\" /><polyline clip-path=\"url(#clip142)\" style=\"stroke:#000000; stroke-linecap:round; stroke-linejoin:round; stroke-width:2; stroke-opacity:0.1; fill:none\" points=\"306.387,1286.85 2288.5,1286.85 \"/>\n",
       "<polyline clip-path=\"url(#clip142)\" style=\"stroke:#000000; stroke-linecap:round; stroke-linejoin:round; stroke-width:2; stroke-opacity:0.1; fill:none\" points=\"306.387,961.652 2288.5,961.652 \"/>\n",
       "<polyline clip-path=\"url(#clip142)\" style=\"stroke:#000000; stroke-linecap:round; stroke-linejoin:round; stroke-width:2; stroke-opacity:0.1; fill:none\" points=\"306.387,636.451 2288.5,636.451 \"/>\n",
       "<polyline clip-path=\"url(#clip142)\" style=\"stroke:#000000; stroke-linecap:round; stroke-linejoin:round; stroke-width:2; stroke-opacity:0.1; fill:none\" points=\"306.387,311.249 2288.5,311.249 \"/>\n",
       "<polyline clip-path=\"url(#clip140)\" style=\"stroke:#000000; stroke-linecap:round; stroke-linejoin:round; stroke-width:4; stroke-opacity:1; fill:none\" points=\"306.387,1358.93 306.387,111.496 \"/>\n",
       "<polyline clip-path=\"url(#clip140)\" style=\"stroke:#000000; stroke-linecap:round; stroke-linejoin:round; stroke-width:4; stroke-opacity:1; fill:none\" points=\"2288.5,1358.93 2288.5,111.496 \"/>\n",
       "<polyline clip-path=\"url(#clip140)\" style=\"stroke:#000000; stroke-linecap:round; stroke-linejoin:round; stroke-width:4; stroke-opacity:1; fill:none\" points=\"306.387,1286.85 325.284,1286.85 \"/>\n",
       "<polyline clip-path=\"url(#clip140)\" style=\"stroke:#000000; stroke-linecap:round; stroke-linejoin:round; stroke-width:4; stroke-opacity:1; fill:none\" points=\"306.387,961.652 325.284,961.652 \"/>\n",
       "<polyline clip-path=\"url(#clip140)\" style=\"stroke:#000000; stroke-linecap:round; stroke-linejoin:round; stroke-width:4; stroke-opacity:1; fill:none\" points=\"306.387,636.451 325.284,636.451 \"/>\n",
       "<polyline clip-path=\"url(#clip140)\" style=\"stroke:#000000; stroke-linecap:round; stroke-linejoin:round; stroke-width:4; stroke-opacity:1; fill:none\" points=\"306.387,311.249 325.284,311.249 \"/>\n",
       "<path clip-path=\"url(#clip140)\" d=\"M178.512 1287.3 L208.188 1287.3 L208.188 1291.24 L178.512 1291.24 L178.512 1287.3 Z\" fill=\"#000000\" fill-rule=\"nonzero\" fill-opacity=\"1\" /><path clip-path=\"url(#clip140)\" d=\"M228.28 1287.72 Q224.947 1287.72 223.026 1289.5 Q221.128 1291.29 221.128 1294.41 Q221.128 1297.54 223.026 1299.32 Q224.947 1301.1 228.28 1301.1 Q231.614 1301.1 233.535 1299.32 Q235.456 1297.51 235.456 1294.41 Q235.456 1291.29 233.535 1289.5 Q231.637 1287.72 228.28 1287.72 M223.604 1285.73 Q220.595 1284.99 218.905 1282.93 Q217.239 1280.87 217.239 1277.91 Q217.239 1273.76 220.179 1271.36 Q223.142 1268.95 228.28 1268.95 Q233.442 1268.95 236.382 1271.36 Q239.322 1273.76 239.322 1277.91 Q239.322 1280.87 237.632 1282.93 Q235.966 1284.99 232.979 1285.73 Q236.359 1286.52 238.234 1288.81 Q240.132 1291.1 240.132 1294.41 Q240.132 1299.43 237.053 1302.12 Q233.998 1304.8 228.28 1304.8 Q222.563 1304.8 219.484 1302.12 Q216.429 1299.43 216.429 1294.41 Q216.429 1291.1 218.327 1288.81 Q220.225 1286.52 223.604 1285.73 M221.892 1278.35 Q221.892 1281.03 223.558 1282.54 Q225.248 1284.04 228.28 1284.04 Q231.29 1284.04 232.979 1282.54 Q234.692 1281.03 234.692 1278.35 Q234.692 1275.66 232.979 1274.16 Q231.29 1272.65 228.28 1272.65 Q225.248 1272.65 223.558 1274.16 Q221.892 1275.66 221.892 1278.35 Z\" fill=\"#000000\" fill-rule=\"nonzero\" fill-opacity=\"1\" /><path clip-path=\"url(#clip140)\" d=\"M258.442 1272.65 Q254.831 1272.65 253.002 1276.22 Q251.197 1279.76 251.197 1286.89 Q251.197 1293.99 253.002 1297.56 Q254.831 1301.1 258.442 1301.1 Q262.076 1301.1 263.882 1297.56 Q265.711 1293.99 265.711 1286.89 Q265.711 1279.76 263.882 1276.22 Q262.076 1272.65 258.442 1272.65 M258.442 1268.95 Q264.252 1268.95 267.308 1273.55 Q270.387 1278.14 270.387 1286.89 Q270.387 1295.61 267.308 1300.22 Q264.252 1304.8 258.442 1304.8 Q252.632 1304.8 249.553 1300.22 Q246.498 1295.61 246.498 1286.89 Q246.498 1278.14 249.553 1273.55 Q252.632 1268.95 258.442 1268.95 Z\" fill=\"#000000\" fill-rule=\"nonzero\" fill-opacity=\"1\" /><path clip-path=\"url(#clip140)\" d=\"M178.512 962.103 L208.188 962.103 L208.188 966.038 L178.512 966.038 L178.512 962.103 Z\" fill=\"#000000\" fill-rule=\"nonzero\" fill-opacity=\"1\" /><path clip-path=\"url(#clip140)\" d=\"M228.859 959.788 Q225.711 959.788 223.859 961.941 Q222.03 964.094 222.03 967.844 Q222.03 971.571 223.859 973.747 Q225.711 975.899 228.859 975.899 Q232.007 975.899 233.836 973.747 Q235.688 971.571 235.688 967.844 Q235.688 964.094 233.836 961.941 Q232.007 959.788 228.859 959.788 M238.141 945.136 L238.141 949.395 Q236.382 948.562 234.577 948.122 Q232.794 947.682 231.035 947.682 Q226.405 947.682 223.952 950.807 Q221.521 953.932 221.174 960.251 Q222.54 958.238 224.6 957.173 Q226.66 956.085 229.137 956.085 Q234.345 956.085 237.354 959.256 Q240.387 962.404 240.387 967.844 Q240.387 973.168 237.239 976.386 Q234.091 979.603 228.859 979.603 Q222.864 979.603 219.692 975.02 Q216.521 970.413 216.521 961.687 Q216.521 953.492 220.41 948.631 Q224.299 943.747 230.85 943.747 Q232.609 943.747 234.391 944.094 Q236.197 944.441 238.141 945.136 Z\" fill=\"#000000\" fill-rule=\"nonzero\" fill-opacity=\"1\" /><path clip-path=\"url(#clip140)\" d=\"M258.442 947.451 Q254.831 947.451 253.002 951.015 Q251.197 954.557 251.197 961.687 Q251.197 968.793 253.002 972.358 Q254.831 975.899 258.442 975.899 Q262.076 975.899 263.882 972.358 Q265.711 968.793 265.711 961.687 Q265.711 954.557 263.882 951.015 Q262.076 947.451 258.442 947.451 M258.442 943.747 Q264.252 943.747 267.308 948.353 Q270.387 952.937 270.387 961.687 Q270.387 970.413 267.308 975.02 Q264.252 979.603 258.442 979.603 Q252.632 979.603 249.553 975.02 Q246.498 970.413 246.498 961.687 Q246.498 952.937 249.553 948.353 Q252.632 943.747 258.442 943.747 Z\" fill=\"#000000\" fill-rule=\"nonzero\" fill-opacity=\"1\" /><path clip-path=\"url(#clip140)\" d=\"M178.512 636.902 L208.188 636.902 L208.188 640.837 L178.512 640.837 L178.512 636.902 Z\" fill=\"#000000\" fill-rule=\"nonzero\" fill-opacity=\"1\" /><path clip-path=\"url(#clip140)\" d=\"M231.128 623.245 L219.322 641.694 L231.128 641.694 L231.128 623.245 M229.901 619.171 L235.78 619.171 L235.78 641.694 L240.711 641.694 L240.711 645.582 L235.78 645.582 L235.78 653.731 L231.128 653.731 L231.128 645.582 L215.526 645.582 L215.526 641.069 L229.901 619.171 Z\" fill=\"#000000\" fill-rule=\"nonzero\" fill-opacity=\"1\" /><path clip-path=\"url(#clip140)\" d=\"M258.442 622.249 Q254.831 622.249 253.002 625.814 Q251.197 629.356 251.197 636.485 Q251.197 643.592 253.002 647.157 Q254.831 650.698 258.442 650.698 Q262.076 650.698 263.882 647.157 Q265.711 643.592 265.711 636.485 Q265.711 629.356 263.882 625.814 Q262.076 622.249 258.442 622.249 M258.442 618.546 Q264.252 618.546 267.308 623.152 Q270.387 627.735 270.387 636.485 Q270.387 645.212 267.308 649.819 Q264.252 654.402 258.442 654.402 Q252.632 654.402 249.553 649.819 Q246.498 645.212 246.498 636.485 Q246.498 627.735 249.553 623.152 Q252.632 618.546 258.442 618.546 Z\" fill=\"#000000\" fill-rule=\"nonzero\" fill-opacity=\"1\" /><path clip-path=\"url(#clip140)\" d=\"M178.512 311.701 L208.188 311.701 L208.188 315.636 L178.512 315.636 L178.512 311.701 Z\" fill=\"#000000\" fill-rule=\"nonzero\" fill-opacity=\"1\" /><path clip-path=\"url(#clip140)\" d=\"M222.308 324.594 L238.628 324.594 L238.628 328.529 L216.683 328.529 L216.683 324.594 Q219.345 321.84 223.929 317.21 Q228.535 312.557 229.716 311.215 Q231.961 308.691 232.841 306.955 Q233.743 305.196 233.743 303.506 Q233.743 300.752 231.799 299.016 Q229.878 297.279 226.776 297.279 Q224.577 297.279 222.123 298.043 Q219.692 298.807 216.915 300.358 L216.915 295.636 Q219.739 294.502 222.192 293.923 Q224.646 293.344 226.683 293.344 Q232.054 293.344 235.248 296.029 Q238.442 298.715 238.442 303.205 Q238.442 305.335 237.632 307.256 Q236.845 309.154 234.739 311.747 Q234.16 312.418 231.058 315.636 Q227.956 318.83 222.308 324.594 Z\" fill=\"#000000\" fill-rule=\"nonzero\" fill-opacity=\"1\" /><path clip-path=\"url(#clip140)\" d=\"M258.442 297.048 Q254.831 297.048 253.002 300.613 Q251.197 304.154 251.197 311.284 Q251.197 318.39 253.002 321.955 Q254.831 325.497 258.442 325.497 Q262.076 325.497 263.882 321.955 Q265.711 318.39 265.711 311.284 Q265.711 304.154 263.882 300.613 Q262.076 297.048 258.442 297.048 M258.442 293.344 Q264.252 293.344 267.308 297.951 Q270.387 302.534 270.387 311.284 Q270.387 320.011 267.308 324.617 Q264.252 329.201 258.442 329.201 Q252.632 329.201 249.553 324.617 Q246.498 320.011 246.498 311.284 Q246.498 302.534 249.553 297.951 Q252.632 293.344 258.442 293.344 Z\" fill=\"#000000\" fill-rule=\"nonzero\" fill-opacity=\"1\" /><path clip-path=\"url(#clip140)\" d=\"M78.7309 889.182 L78.7309 883.326 L128.256 883.326 L128.256 889.182 L78.7309 889.182 Z\" fill=\"#000000\" fill-rule=\"nonzero\" fill-opacity=\"1\" /><path clip-path=\"url(#clip140)\" d=\"M96.714 857.258 Q96.714 861.969 100.406 864.706 Q104.066 867.444 110.464 867.444 Q116.862 867.444 120.554 864.738 Q124.214 862.001 124.214 857.258 Q124.214 852.58 120.522 849.842 Q116.83 847.105 110.464 847.105 Q104.13 847.105 100.438 849.842 Q96.714 852.58 96.714 857.258 M91.7488 857.258 Q91.7488 849.62 96.714 845.259 Q101.679 840.899 110.464 840.899 Q119.217 840.899 124.214 845.259 Q129.179 849.62 129.179 857.258 Q129.179 864.929 124.214 869.29 Q119.217 873.618 110.464 873.618 Q101.679 873.618 96.714 869.29 Q91.7488 864.929 91.7488 857.258 Z\" fill=\"#000000\" fill-rule=\"nonzero\" fill-opacity=\"1\" /><path clip-path=\"url(#clip140)\" d=\"M110.018 807.733 Q103.653 807.733 100.152 810.375 Q96.6504 812.985 96.6504 817.727 Q96.6504 822.438 100.152 825.08 Q103.653 827.69 110.018 827.69 Q116.352 827.69 119.853 825.08 Q123.355 822.438 123.355 817.727 Q123.355 812.985 119.853 810.375 Q116.352 807.733 110.018 807.733 M123.832 801.877 Q132.935 801.877 137.359 805.919 Q141.815 809.961 141.815 818.3 Q141.815 821.388 141.338 824.125 Q140.892 826.862 139.937 829.44 L134.24 829.44 Q135.64 826.862 136.309 824.348 Q136.977 821.833 136.977 819.223 Q136.977 813.462 133.953 810.598 Q130.962 807.733 124.882 807.733 L121.986 807.733 Q125.137 809.548 126.697 812.38 Q128.256 815.213 128.256 819.16 Q128.256 825.716 123.259 829.727 Q118.262 833.737 110.018 833.737 Q101.743 833.737 96.7459 829.727 Q91.7488 825.716 91.7488 819.16 Q91.7488 815.213 93.3084 812.38 Q94.868 809.548 98.019 807.733 L92.6082 807.733 L92.6082 801.877 L123.832 801.877 Z\" fill=\"#000000\" fill-rule=\"nonzero\" fill-opacity=\"1\" /><path clip-path=\"url(#clip140)\" d=\"M78.7946 775.746 Q86.1151 780.011 93.2766 782.079 Q100.438 784.148 107.79 784.148 Q115.143 784.148 122.368 782.079 Q129.561 779.979 136.85 775.746 L136.85 780.838 Q129.37 785.612 122.145 788 Q114.92 790.355 107.79 790.355 Q100.693 790.355 93.4994 788 Q86.3061 785.644 78.7946 780.838 L78.7946 775.746 Z\" fill=\"#000000\" fill-rule=\"nonzero\" fill-opacity=\"1\" /><path clip-path=\"url(#clip140)\" d=\"M84.3964 728.544 L91.1759 728.544 Q88.1522 731.79 86.6562 735.483 Q85.1603 739.143 85.1603 743.281 Q85.1603 751.429 90.1574 755.757 Q95.1226 760.086 104.544 760.086 Q113.933 760.086 118.93 755.757 Q123.896 751.429 123.896 743.281 Q123.896 739.143 122.4 735.483 Q120.904 731.79 117.88 728.544 L124.596 728.544 Q126.887 731.918 128.033 735.705 Q129.179 739.461 129.179 743.662 Q129.179 754.452 122.591 760.659 Q115.97 766.865 104.544 766.865 Q93.0856 766.865 86.4971 760.659 Q79.8768 754.452 79.8768 743.662 Q79.8768 739.397 81.0226 735.642 Q82.1366 731.854 84.3964 728.544 Z\" fill=\"#000000\" fill-rule=\"nonzero\" fill-opacity=\"1\" /><path clip-path=\"url(#clip140)\" d=\"M78.7946 704.8 Q86.1151 709.065 93.2766 711.134 Q100.438 713.203 107.79 713.203 Q115.143 713.203 122.368 711.134 Q129.561 709.033 136.85 704.8 L136.85 709.892 Q129.37 714.667 122.145 717.054 Q114.92 719.409 107.79 719.409 Q100.693 719.409 93.4994 717.054 Q86.3061 714.698 78.7946 709.892 L78.7946 704.8 Z\" fill=\"#000000\" fill-rule=\"nonzero\" fill-opacity=\"1\" /><path clip-path=\"url(#clip140)\" d=\"M98.0827 672.78 Q97.5098 673.767 97.2551 674.945 Q96.9687 676.09 96.9687 677.491 Q96.9687 682.456 100.215 685.13 Q103.43 687.772 109.477 687.772 L128.256 687.772 L128.256 693.66 L92.6082 693.66 L92.6082 687.772 L98.1463 687.772 Q94.8998 685.925 93.3402 682.965 Q91.7488 680.005 91.7488 675.772 Q91.7488 675.167 91.8443 674.435 Q91.9079 673.703 92.0671 672.812 L98.0827 672.78 Z\" fill=\"#000000\" fill-rule=\"nonzero\" fill-opacity=\"1\" /><path clip-path=\"url(#clip140)\" d=\"M120.172 665.141 L120.172 658.426 L125.646 658.426 L135.831 663.646 L135.831 667.751 L125.646 665.141 L120.172 665.141 Z\" fill=\"#000000\" fill-rule=\"nonzero\" fill-opacity=\"1\" /><path clip-path=\"url(#clip140)\" d=\"M82.4867 640.124 L92.6082 640.124 L92.6082 628.061 L97.1596 628.061 L97.1596 640.124 L116.511 640.124 Q120.872 640.124 122.113 638.947 Q123.355 637.737 123.355 634.077 L123.355 628.061 L128.256 628.061 L128.256 634.077 Q128.256 640.856 125.742 643.434 Q123.195 646.013 116.511 646.013 L97.1596 646.013 L97.1596 650.309 L92.6082 650.309 L92.6082 646.013 L82.4867 646.013 L82.4867 640.124 Z\" fill=\"#000000\" fill-rule=\"nonzero\" fill-opacity=\"1\" /><path clip-path=\"url(#clip140)\" d=\"M78.7946 621.282 L78.7946 616.189 Q86.3061 611.415 93.4994 609.06 Q100.693 606.672 107.79 606.672 Q114.92 606.672 122.145 609.06 Q129.37 611.415 136.85 616.189 L136.85 621.282 Q129.561 617.049 122.368 614.98 Q115.143 612.879 107.79 612.879 Q100.438 612.879 93.2766 614.98 Q86.1151 617.049 78.7946 621.282 Z\" fill=\"#000000\" fill-rule=\"nonzero\" fill-opacity=\"1\" /><path clip-path=\"url(#clip140)\" d=\"M78.7946 595.851 L78.7946 590.758 Q86.3061 585.984 93.4994 583.629 Q100.693 581.241 107.79 581.241 Q114.92 581.241 122.145 583.629 Q129.37 585.984 136.85 590.758 L136.85 595.851 Q129.561 591.618 122.368 589.549 Q115.143 587.448 107.79 587.448 Q100.438 587.448 93.2766 589.549 Q86.1151 591.618 78.7946 595.851 Z\" fill=\"#000000\" fill-rule=\"nonzero\" fill-opacity=\"1\" /><polyline clip-path=\"url(#clip142)\" style=\"stroke:#4c1c4a; stroke-linecap:round; stroke-linejoin:round; stroke-width:4; stroke-opacity:1; fill:none\" points=\"362.484,1173.13 367.171,1197.02 371.857,1190.72 376.544,1207.29 381.23,1185.61 385.917,1206.93 390.603,1203.4 395.29,1205.36 399.976,1200.76 404.663,1185.19 409.35,1155.2 414.036,1163.68 418.723,1162.29 423.409,1197.42 \"/>\n",
       "<polyline clip-path=\"url(#clip142)\" style=\"stroke:#4c1c4a; stroke-linecap:round; stroke-linejoin:round; stroke-width:4; stroke-opacity:1; fill:none\" points=\"432.782,1161.04 437.469,1202.62 442.155,1163 446.842,1163.86 451.528,1151.67 456.215,1210.66 460.901,1235.17 465.588,1157.34 470.274,1164.49 474.961,1194.6 479.647,1172.53 484.334,1193.83 489.02,1202.44 493.707,1206.47 498.393,1178.17 503.08,1159.9 507.766,1230.41 512.453,1203.15 517.139,1187.3 521.826,1207.9 526.513,1217.8 531.199,1159.8 535.886,1225.66 540.572,1192.78 545.259,1209.84 549.945,1191.71 554.632,1164.73 559.318,1159.69 564.005,1179.53 568.691,1154.23 573.378,1189.9 578.064,1293.44 582.751,1194.52 587.437,1184 592.124,1155.96 596.81,1210.79 601.497,1205.32 606.183,1179.02 610.87,1192.67 615.556,1158.71 620.243,1214.2 624.929,1209.28 629.616,1159.71 634.303,1174.9 638.989,1186.57 643.676,1179.57 648.362,1205.02 653.049,1183.79 657.735,1166.97 662.422,1304.46 667.108,1259.56 671.795,1187.79 676.481,1190.53 681.168,1173.72 685.854,1173.5 690.541,1173.3 695.227,1189.54 699.914,1197.78 704.6,1178.19 709.287,1172.5 713.973,1208.2 718.66,1167.54 723.346,1183.68 728.033,1167.29 732.719,1165.27 737.406,1159.88 742.093,1199.61 746.779,1203.23 751.466,1207.9 756.152,1233.37 760.839,1201.93 765.525,1167.22 770.212,1194.33 774.898,1179.27 779.585,1200.88 784.271,1192.55 788.958,1181.58 793.644,1197.16 798.331,1219.13 803.017,1166.38 807.704,1158.68 812.39,1167.87 817.077,1146.44 821.763,1173.34 826.45,1161.51 831.136,1162.91 835.823,1169.98 840.509,1186.62 845.196,1163.67 849.883,1196.63 854.569,1180.23 859.256,1158.04 863.942,1178.37 868.629,1169.8 873.315,1201.29 878.002,1155.28 882.688,1184.71 887.375,1177.68 892.061,1171.56 \"/>\n",
       "<polyline clip-path=\"url(#clip142)\" style=\"stroke:#4c1c4a; stroke-linecap:round; stroke-linejoin:round; stroke-width:4; stroke-opacity:1; fill:none\" points=\"906.121,1157.82 910.807,1198.74 915.494,1142.93 920.18,1199.62 924.867,1197.66 929.553,1176.1 934.24,1192.94 938.926,1175.17 943.613,1193.05 948.299,1167.99 \"/>\n",
       "<polyline clip-path=\"url(#clip142)\" style=\"stroke:#4c1c4a; stroke-linecap:round; stroke-linejoin:round; stroke-width:4; stroke-opacity:1; fill:none\" points=\"967.046,1188.16 971.732,1174.72 976.419,1176.31 981.105,1219.19 985.792,1173.86 990.478,1186.78 995.165,1189.12 999.851,1156.67 1004.54,1190.76 1009.22,1163.52 1013.91,1210.11 1018.6,1180.1 1023.28,1175.72 1027.97,1181.97 1032.66,1173.47 1037.34,1183.92 1042.03,1219.18 1046.72,1187.13 1051.4,1204.3 1056.09,1214.43 1060.78,1174.81 1065.46,1166.81 1070.15,1161.84 1074.84,1160.74 1079.52,1174.79 1084.21,1323.62 1088.9,1225.77 1093.58,1191.68 1098.27,1174.41 1102.95,1210.91 1107.64,1198.82 1112.33,1183.92 1117.01,1168.21 1121.7,1186.08 1126.39,1161.7 1131.07,1247.85 1135.76,1173.43 1140.45,1184.06 1145.13,1158 1149.82,1178.75 1154.51,1217.9 1159.19,1203.01 1163.88,1164.59 1168.57,1168.85 1173.25,1171.71 1177.94,1202.75 1182.63,1176.25 1187.31,1188.25 1192,1155.24 1196.69,1207.7 1201.37,1212.01 1206.06,1180.49 1210.74,1190.01 1215.43,1189.34 1220.12,1172.15 1224.8,1207.28 1229.49,1198.75 1234.18,1197.6 \"/>\n",
       "<polyline clip-path=\"url(#clip142)\" style=\"stroke:#4c1c4a; stroke-linecap:round; stroke-linejoin:round; stroke-width:4; stroke-opacity:1; fill:none\" points=\"1243.55,1207.79 1248.24,1200.33 1252.92,1174.32 1257.61,1148.64 1262.3,1183.2 1266.98,1165.73 \"/>\n",
       "<polyline clip-path=\"url(#clip142)\" style=\"stroke:#4c1c4a; stroke-linecap:round; stroke-linejoin:round; stroke-width:4; stroke-opacity:1; fill:none\" points=\"1285.73,1170.91 1290.42,1301.08 1295.1,1156.78 1299.79,1185.8 1304.48,1187.82 1309.16,1164.6 1313.85,1183.16 \"/>\n",
       "<polyline clip-path=\"url(#clip142)\" style=\"stroke:#4c1c4a; stroke-linecap:round; stroke-linejoin:round; stroke-width:4; stroke-opacity:1; fill:none\" points=\"1323.22,1176.13 1327.91,1175.42 1332.59,1180.5 1337.28,1207.58 1341.97,1213.43 1346.65,1236.83 1351.34,1236.83 1356.03,1189.47 1360.71,1218.08 1365.4,1173.61 1370.09,1152.4 1374.77,1186.3 1379.46,1165.82 1384.15,1218.81 1388.83,1233.04 1393.52,1198.92 1398.21,1202.92 1402.89,1174.68 1407.58,1232.24 1412.27,1204.46 1416.95,1163.48 \"/>\n",
       "<polyline clip-path=\"url(#clip142)\" style=\"stroke:#4c1c4a; stroke-linecap:round; stroke-linejoin:round; stroke-width:4; stroke-opacity:1; fill:none\" points=\"1426.32,1192.73 1431.01,1207.64 1435.7,1168.54 1440.38,1192.94 1445.07,1189.93 1449.76,1207.31 1454.44,1165.93 1459.13,1207.66 1463.82,1160.47 1468.5,1198.57 1473.19,1210.75 1477.88,1207.62 1482.56,1189.68 1487.25,1179.2 1491.94,1172.95 1496.62,1218.76 1501.31,1188.21 1506,1169.75 1510.68,1195.01 \"/>\n",
       "<polyline clip-path=\"url(#clip142)\" style=\"stroke:#4c1c4a; stroke-linecap:round; stroke-linejoin:round; stroke-width:4; stroke-opacity:1; fill:none\" points=\"1520.06,1221.95 1524.74,1150.64 1529.43,1298.12 1534.11,1184.66 1538.8,1176 1543.49,1188.53 1548.17,1171.04 1552.86,1183.78 1557.55,1156.88 1562.23,1189.6 1566.92,1185.78 1571.61,1173.02 1576.29,1217.44 \"/>\n",
       "<polyline clip-path=\"url(#clip142)\" style=\"stroke:#4c1c4a; stroke-linecap:round; stroke-linejoin:round; stroke-width:4; stroke-opacity:1; fill:none\" points=\"1585.67,1183.99 1590.35,1198.29 1595.04,1140.97 1599.73,1152.39 1604.41,1189.85 1609.1,1178.49 1613.79,1176.59 1618.47,1219.01 1623.16,1177.86 1627.85,1210.77 1632.53,1207.86 1637.22,1135.19 1641.9,1159.1 \"/>\n",
       "<polyline clip-path=\"url(#clip142)\" style=\"stroke:#4c1c4a; stroke-linecap:round; stroke-linejoin:round; stroke-width:4; stroke-opacity:1; fill:none\" points=\"1651.28,1200.93 1655.96,1150.1 1660.65,1169.53 1665.34,1154.94 1670.02,1172.66 1674.71,1172.56 1679.4,1209.56 1684.08,1259.38 1688.77,1183.14 1693.46,1194.97 1698.14,1182.2 1702.83,1167.74 1707.52,1182.64 1712.2,1213.35 1716.89,1196.83 1721.58,1191.66 1726.26,1173.98 1730.95,1172.75 \"/>\n",
       "<polyline clip-path=\"url(#clip142)\" style=\"stroke:#4c1c4a; stroke-linecap:round; stroke-linejoin:round; stroke-width:4; stroke-opacity:1; fill:none\" points=\"1740.32,1217.77 1745.01,1207.53 1749.69,1141.6 1754.38,1179.47 1759.07,1185.99 1763.75,1212.56 1768.44,1182.45 1773.13,1176.22 1777.81,1202.84 1782.5,1186 1787.19,1166.96 1791.87,1179.5 1796.56,1205.4 1801.25,1194.71 1805.93,553.059 1810.62,1187.36 1815.31,551.614 1819.99,544.774 1824.68,541.889 1829.37,540.729 1834.05,537.93 1838.74,538.727 1843.43,534.835 1848.11,533.602 1852.8,532.533 1857.48,531.657 1862.17,530.622 1866.86,528.974 1871.54,528.075 1876.23,527.087 1880.92,526.183 1885.6,524.918 1890.29,523.955 1894.98,522.022 1899.66,521.402 1904.35,520.147 1909.04,518.846 1913.72,517.899 1918.41,516.723 1923.1,515.117 1927.78,309.409 1932.47,274.001 1937.16,257.371 1941.84,246.374 1946.53,238.135 1951.22,231.539 1955.9,226.033 1960.59,221.305 1965.27,217.16 1969.96,213.468 1974.65,210.138 1979.33,207.104 1984.02,204.317 1988.71,201.739 1993.39,199.34 1998.08,197.096 2002.77,194.988 2007.45,193 2012.14,191.118 2016.83,189.332 2021.51,187.632 2026.2,186.009 2030.89,184.457 2035.57,182.97 2040.26,181.542 2044.95,180.168 2049.63,178.844 2054.32,177.567 2059,176.334 2063.69,175.141 2068.38,173.985 2073.06,172.865 2077.75,171.777 2082.44,170.721 2087.12,169.694 2091.81,168.695 2096.5,167.722 2101.18,166.773 2105.87,165.848 2110.56,164.945 2115.24,164.063 2119.93,163.202 2124.62,162.359 2129.3,161.535 2133.99,160.728 2138.68,159.938 2143.36,159.164 2148.05,158.405 2152.74,157.661 2157.42,156.931 2162.11,156.215 2166.79,155.511 2171.48,154.82 2176.17,154.142 2180.85,153.475 2185.54,152.819 2190.23,152.174 2194.91,151.539 2199.6,150.915 2204.29,150.3 2208.97,149.695 2213.66,149.099 2218.35,148.512 2223.03,147.933 2227.72,147.363 2232.41,146.801 \"/>\n",
       "<polyline clip-path=\"url(#clip142)\" style=\"stroke:#751e58; stroke-linecap:round; stroke-linejoin:round; stroke-width:4; stroke-opacity:1; fill:none\" points=\"362.484,1173.13 367.171,1197.02 371.857,1190.72 376.544,1207.29 381.23,1185.61 385.917,1206.93 390.603,1203.4 395.29,1205.36 399.976,1200.76 404.663,1185.19 409.35,1155.2 414.036,1163.68 418.723,1162.29 423.409,1197.42 \"/>\n",
       "<polyline clip-path=\"url(#clip142)\" style=\"stroke:#751e58; stroke-linecap:round; stroke-linejoin:round; stroke-width:4; stroke-opacity:1; fill:none\" points=\"432.782,1161.04 437.469,1202.62 442.155,1163 446.842,1163.86 451.528,1151.67 456.215,1210.66 460.901,1235.17 465.588,1157.34 470.274,1164.49 474.961,1194.6 479.647,1172.53 484.334,1193.83 489.02,1202.44 493.707,1206.47 498.393,1178.17 503.08,1159.9 507.766,1230.41 512.453,1203.15 517.139,1187.3 521.826,1207.9 526.513,1217.8 531.199,1159.8 535.886,1225.66 540.572,1192.78 545.259,1209.84 549.945,1191.71 554.632,1164.73 559.318,1159.69 564.005,1179.53 568.691,1154.23 573.378,1189.9 578.064,1293.44 582.751,1194.52 587.437,1184 592.124,1155.96 596.81,1210.79 601.497,1205.32 606.183,1179.02 610.87,1192.67 615.556,1158.71 620.243,1214.2 624.929,1209.28 629.616,1159.71 634.303,1174.9 638.989,1186.57 643.676,1179.57 648.362,1205.02 653.049,1183.79 657.735,1166.97 662.422,1304.46 667.108,1259.56 671.795,1187.79 676.481,1190.53 681.168,1173.72 685.854,1173.5 690.541,1173.3 695.227,1189.54 699.914,1197.78 704.6,1178.19 709.287,1172.5 713.973,1208.2 718.66,1167.54 723.346,1183.68 728.033,1167.29 732.719,1165.27 737.406,1159.88 742.093,1199.61 746.779,1203.23 751.466,1207.9 756.152,1233.37 760.839,1201.93 765.525,1167.22 770.212,1194.33 774.898,1179.27 779.585,1200.88 784.271,1192.55 788.958,1181.58 793.644,1197.16 798.331,1219.13 803.017,1166.38 807.704,1158.68 812.39,1167.87 817.077,1146.44 821.763,1173.34 826.45,1161.51 831.136,1162.91 835.823,1169.98 840.509,1186.62 845.196,1163.67 849.883,1196.63 854.569,1180.23 859.256,1158.04 863.942,1178.37 868.629,1169.8 873.315,1201.29 878.002,1155.28 882.688,1184.71 887.375,1177.68 892.061,1171.56 \"/>\n",
       "<polyline clip-path=\"url(#clip142)\" style=\"stroke:#751e58; stroke-linecap:round; stroke-linejoin:round; stroke-width:4; stroke-opacity:1; fill:none\" points=\"906.121,1157.82 910.807,1198.74 915.494,1142.93 920.18,1199.62 924.867,1197.66 929.553,1176.1 934.24,1192.94 938.926,1175.17 943.613,1193.05 948.299,1167.99 \"/>\n",
       "<polyline clip-path=\"url(#clip142)\" style=\"stroke:#751e58; stroke-linecap:round; stroke-linejoin:round; stroke-width:4; stroke-opacity:1; fill:none\" points=\"967.046,1188.16 971.732,1174.72 976.419,1176.31 981.105,1219.19 985.792,1173.86 990.478,1186.78 995.165,1189.12 999.851,1156.67 1004.54,1190.76 1009.22,1163.52 1013.91,1210.11 1018.6,1180.1 1023.28,1175.72 1027.97,1181.97 1032.66,1173.47 1037.34,1183.92 1042.03,1219.18 1046.72,1187.13 1051.4,1204.3 1056.09,1214.43 1060.78,1174.81 1065.46,1166.81 1070.15,1161.84 1074.84,1160.74 1079.52,1174.79 1084.21,1323.62 1088.9,1225.77 1093.58,1191.68 1098.27,1174.41 1102.95,1210.91 1107.64,1198.82 1112.33,1183.92 1117.01,1168.21 1121.7,1186.08 1126.39,1161.7 1131.07,1247.85 1135.76,1173.43 1140.45,1184.06 1145.13,1158 1149.82,1178.75 1154.51,1217.9 1159.19,1203.01 1163.88,1164.59 1168.57,1168.85 1173.25,1171.71 1177.94,1202.75 1182.63,1176.25 1187.31,1188.25 1192,1155.24 1196.69,1207.7 1201.37,1212.01 1206.06,1180.49 1210.74,1190.01 1215.43,1189.34 1220.12,1172.15 1224.8,1207.28 1229.49,1198.75 1234.18,1197.6 \"/>\n",
       "<polyline clip-path=\"url(#clip142)\" style=\"stroke:#751e58; stroke-linecap:round; stroke-linejoin:round; stroke-width:4; stroke-opacity:1; fill:none\" points=\"1243.55,1207.79 1248.24,1200.33 1252.92,1174.32 1257.61,1148.64 1262.3,1183.2 1266.98,1165.73 \"/>\n",
       "<polyline clip-path=\"url(#clip142)\" style=\"stroke:#751e58; stroke-linecap:round; stroke-linejoin:round; stroke-width:4; stroke-opacity:1; fill:none\" points=\"1285.73,1170.91 1290.42,1301.08 1295.1,1156.78 1299.79,1185.8 1304.48,1187.82 1309.16,1164.6 1313.85,1183.16 \"/>\n",
       "<polyline clip-path=\"url(#clip142)\" style=\"stroke:#751e58; stroke-linecap:round; stroke-linejoin:round; stroke-width:4; stroke-opacity:1; fill:none\" points=\"1323.22,1176.13 1327.91,1175.42 1332.59,1180.5 1337.28,1207.58 1341.97,1213.43 1346.65,1236.83 1351.34,1236.83 1356.03,1189.47 1360.71,1218.08 1365.4,1173.61 1370.09,1152.4 1374.77,1186.3 1379.46,1165.82 1384.15,1218.81 1388.83,1233.04 1393.52,1198.92 1398.21,1202.92 1402.89,1174.68 1407.58,1232.24 1412.27,1204.46 1416.95,1163.48 \"/>\n",
       "<polyline clip-path=\"url(#clip142)\" style=\"stroke:#751e58; stroke-linecap:round; stroke-linejoin:round; stroke-width:4; stroke-opacity:1; fill:none\" points=\"1426.32,1192.73 1431.01,1207.64 1435.7,1168.54 1440.38,1192.94 1445.07,1189.93 1449.76,1207.31 1454.44,1165.93 1459.13,1207.66 1463.82,1160.47 1468.5,1198.57 1473.19,1210.75 1477.88,1207.62 1482.56,1189.68 1487.25,1179.2 1491.94,1172.95 1496.62,1218.76 1501.31,1188.21 1506,1169.75 1510.68,1195.01 \"/>\n",
       "<polyline clip-path=\"url(#clip142)\" style=\"stroke:#751e58; stroke-linecap:round; stroke-linejoin:round; stroke-width:4; stroke-opacity:1; fill:none\" points=\"1520.06,1221.95 1524.74,1150.64 1529.43,1298.12 1534.11,1184.66 1538.8,1176 1543.49,1188.53 1548.17,1171.04 1552.86,1183.78 1557.55,1156.88 1562.23,1189.6 1566.92,1185.78 1571.61,1173.02 1576.29,1217.44 \"/>\n",
       "<polyline clip-path=\"url(#clip142)\" style=\"stroke:#751e58; stroke-linecap:round; stroke-linejoin:round; stroke-width:4; stroke-opacity:1; fill:none\" points=\"1585.67,1183.99 1590.35,1198.29 1595.04,1140.97 1599.73,1152.39 1604.41,1189.85 1609.1,1178.49 1613.79,1176.59 1618.47,1219.01 1623.16,1177.86 1627.85,1210.77 1632.53,1207.86 1637.22,1135.19 1641.9,1159.1 \"/>\n",
       "<polyline clip-path=\"url(#clip142)\" style=\"stroke:#751e58; stroke-linecap:round; stroke-linejoin:round; stroke-width:4; stroke-opacity:1; fill:none\" points=\"1651.28,1200.93 1655.96,1150.1 1660.65,1169.53 1665.34,1154.94 1670.02,1172.66 1674.71,1172.56 1679.4,1209.56 1684.08,1259.38 1688.77,1183.14 1693.46,1194.97 1698.14,1182.2 1702.83,1167.74 1707.52,1182.64 1712.2,1213.35 1716.89,1196.83 1721.58,1191.66 1726.26,1173.98 1730.95,1172.75 \"/>\n",
       "<polyline clip-path=\"url(#clip142)\" style=\"stroke:#751e58; stroke-linecap:round; stroke-linejoin:round; stroke-width:4; stroke-opacity:1; fill:none\" points=\"1740.32,1217.77 1745.01,1207.53 1749.69,1141.6 1754.38,1179.47 1759.07,1185.99 1763.75,1212.56 1768.44,1182.45 1773.13,1176.22 1777.81,1202.84 1782.5,1186 1787.19,1166.96 1791.87,1179.5 1796.56,1205.4 1801.25,1194.71 1805.93,553.059 1810.62,1187.36 1815.31,551.614 1819.99,544.774 1824.68,541.889 1829.37,540.729 1834.05,537.93 1838.74,538.727 1843.43,534.835 1848.11,533.602 1852.8,532.533 1857.48,531.657 1862.17,530.622 1866.86,528.974 1871.54,528.075 1876.23,527.087 1880.92,526.183 1885.6,524.918 1890.29,523.955 1894.98,522.022 1899.66,521.402 1904.35,520.147 1909.04,518.846 1913.72,517.899 1918.41,516.723 1923.1,515.117 1927.78,309.409 1932.47,274.001 1937.16,257.371 1941.84,246.374 1946.53,238.135 1951.22,231.539 1955.9,226.033 1960.59,221.305 1965.27,217.16 1969.96,213.468 1974.65,210.138 1979.33,207.104 1984.02,204.317 1988.71,201.739 1993.39,199.34 1998.08,197.096 2002.77,194.988 2007.45,193 2012.14,191.118 2016.83,189.332 2021.51,187.632 2026.2,186.009 2030.89,184.457 2035.57,182.97 2040.26,181.542 2044.95,180.168 2049.63,178.844 2054.32,177.567 2059,176.334 2063.69,175.141 2068.38,173.985 2073.06,172.865 2077.75,171.777 2082.44,170.721 2087.12,169.694 2091.81,168.695 2096.5,167.722 2101.18,166.773 2105.87,165.848 2110.56,164.945 2115.24,164.063 2119.93,163.202 2124.62,162.359 2129.3,161.535 2133.99,160.728 2138.68,159.938 2143.36,159.164 2148.05,158.405 2152.74,157.661 2157.42,156.931 2162.11,156.215 2166.79,155.511 2171.48,154.82 2176.17,154.142 2180.85,153.475 2185.54,152.819 2190.23,152.174 2194.91,151.539 2199.6,150.915 2204.29,150.3 2208.97,149.695 2213.66,149.099 2218.35,148.512 2223.03,147.933 2227.72,147.363 2232.41,146.801 \"/>\n",
       "<polyline clip-path=\"url(#clip142)\" style=\"stroke:#a1195a; stroke-linecap:round; stroke-linejoin:round; stroke-width:4; stroke-opacity:1; fill:none\" points=\"362.484,1173.13 367.171,1197.02 371.857,1190.72 376.544,1207.29 381.23,1185.61 385.917,1206.93 390.603,1203.4 395.29,1205.36 399.976,1200.76 404.663,1185.19 409.35,1155.2 414.036,1163.68 418.723,1162.29 423.409,1197.42 \"/>\n",
       "<polyline clip-path=\"url(#clip142)\" style=\"stroke:#a1195a; stroke-linecap:round; stroke-linejoin:round; stroke-width:4; stroke-opacity:1; fill:none\" points=\"432.782,1161.04 437.469,1202.62 442.155,1163 446.842,1163.86 451.528,1151.67 456.215,1210.66 460.901,1235.17 465.588,1157.34 470.274,1164.49 474.961,1194.6 479.647,1172.53 484.334,1193.83 489.02,1202.44 493.707,1206.47 498.393,1178.17 503.08,1159.9 507.766,1230.41 512.453,1203.15 517.139,1187.3 521.826,1207.9 526.513,1217.8 531.199,1159.8 535.886,1225.66 540.572,1192.78 545.259,1209.84 549.945,1191.71 554.632,1164.73 559.318,1159.69 564.005,1179.53 568.691,1154.23 573.378,1189.9 578.064,1293.44 582.751,1194.52 587.437,1184 592.124,1155.96 596.81,1210.79 601.497,1205.32 606.183,1179.02 610.87,1192.67 615.556,1158.71 620.243,1214.2 624.929,1209.28 629.616,1159.71 634.303,1174.9 638.989,1186.57 643.676,1179.57 648.362,1205.02 653.049,1183.79 657.735,1166.97 662.422,1304.46 667.108,1259.56 671.795,1187.79 676.481,1190.53 681.168,1173.72 685.854,1173.5 690.541,1173.3 695.227,1189.54 699.914,1197.78 704.6,1178.19 709.287,1172.5 713.973,1208.2 718.66,1167.54 723.346,1183.68 728.033,1167.29 732.719,1165.27 737.406,1159.88 742.093,1199.61 746.779,1203.23 751.466,1207.9 756.152,1233.37 760.839,1201.93 765.525,1167.22 770.212,1194.33 774.898,1179.27 779.585,1200.88 784.271,1192.55 788.958,1181.58 793.644,1197.16 798.331,1219.13 803.017,1166.38 807.704,1158.68 812.39,1167.87 817.077,1146.44 821.763,1173.34 826.45,1161.51 831.136,1162.91 835.823,1169.98 840.509,1186.62 845.196,1163.67 849.883,1196.63 854.569,1180.23 859.256,1158.04 863.942,1178.37 868.629,1169.8 873.315,1201.29 878.002,1155.28 882.688,1184.71 887.375,1177.68 892.061,1171.56 \"/>\n",
       "<polyline clip-path=\"url(#clip142)\" style=\"stroke:#a1195a; stroke-linecap:round; stroke-linejoin:round; stroke-width:4; stroke-opacity:1; fill:none\" points=\"906.121,1157.82 910.807,1198.74 915.494,1142.93 920.18,1199.62 924.867,1197.66 929.553,1176.1 934.24,1192.94 938.926,1175.17 943.613,1193.05 948.299,1167.99 \"/>\n",
       "<polyline clip-path=\"url(#clip142)\" style=\"stroke:#a1195a; stroke-linecap:round; stroke-linejoin:round; stroke-width:4; stroke-opacity:1; fill:none\" points=\"967.046,1188.16 971.732,1174.72 976.419,1176.31 981.105,1219.19 985.792,1173.86 990.478,1186.78 995.165,1189.12 999.851,1156.67 1004.54,1190.76 1009.22,1163.52 1013.91,1210.11 1018.6,1180.1 1023.28,1175.72 1027.97,1181.97 1032.66,1173.47 1037.34,1183.92 1042.03,1219.18 1046.72,1187.13 1051.4,1204.3 1056.09,1214.43 1060.78,1174.81 1065.46,1166.81 1070.15,1161.84 1074.84,1160.74 1079.52,1174.79 1084.21,1323.62 1088.9,1225.77 1093.58,1191.68 1098.27,1174.41 1102.95,1210.91 1107.64,1198.82 1112.33,1183.92 1117.01,1168.21 1121.7,1186.08 1126.39,1161.7 1131.07,1247.85 1135.76,1173.43 1140.45,1184.06 1145.13,1158 1149.82,1178.75 1154.51,1217.9 1159.19,1203.01 1163.88,1164.59 1168.57,1168.85 1173.25,1171.71 1177.94,1202.75 1182.63,1176.25 1187.31,1188.25 1192,1155.24 1196.69,1207.7 1201.37,1212.01 1206.06,1180.49 1210.74,1190.01 1215.43,1189.34 1220.12,1172.15 1224.8,1207.28 1229.49,1198.75 1234.18,1197.6 \"/>\n",
       "<polyline clip-path=\"url(#clip142)\" style=\"stroke:#a1195a; stroke-linecap:round; stroke-linejoin:round; stroke-width:4; stroke-opacity:1; fill:none\" points=\"1243.55,1207.79 1248.24,1200.33 1252.92,1174.32 1257.61,1148.64 1262.3,1183.2 1266.98,1165.73 \"/>\n",
       "<polyline clip-path=\"url(#clip142)\" style=\"stroke:#a1195a; stroke-linecap:round; stroke-linejoin:round; stroke-width:4; stroke-opacity:1; fill:none\" points=\"1285.73,1170.91 1290.42,1301.08 1295.1,1156.78 1299.79,1185.8 1304.48,1187.82 1309.16,1164.6 1313.85,1183.16 \"/>\n",
       "<polyline clip-path=\"url(#clip142)\" style=\"stroke:#a1195a; stroke-linecap:round; stroke-linejoin:round; stroke-width:4; stroke-opacity:1; fill:none\" points=\"1323.22,1176.13 1327.91,1175.42 1332.59,1180.5 1337.28,1207.58 1341.97,1213.43 1346.65,1236.83 1351.34,1236.83 1356.03,1189.47 1360.71,1218.08 1365.4,1173.61 1370.09,1152.4 1374.77,1186.3 1379.46,1165.82 1384.15,1218.81 1388.83,1233.04 1393.52,1198.92 1398.21,1202.92 1402.89,1174.68 1407.58,1232.24 1412.27,1204.46 1416.95,1163.48 \"/>\n",
       "<polyline clip-path=\"url(#clip142)\" style=\"stroke:#a1195a; stroke-linecap:round; stroke-linejoin:round; stroke-width:4; stroke-opacity:1; fill:none\" points=\"1426.32,1192.73 1431.01,1207.64 1435.7,1168.54 1440.38,1192.94 1445.07,1189.93 1449.76,1207.31 1454.44,1165.93 1459.13,1207.66 1463.82,1160.47 1468.5,1198.57 1473.19,1210.75 1477.88,1207.62 1482.56,1189.68 1487.25,1179.2 1491.94,1172.95 1496.62,1218.76 1501.31,1188.21 1506,1169.75 1510.68,1195.01 \"/>\n",
       "<polyline clip-path=\"url(#clip142)\" style=\"stroke:#a1195a; stroke-linecap:round; stroke-linejoin:round; stroke-width:4; stroke-opacity:1; fill:none\" points=\"1520.06,1221.95 1524.74,1150.64 1529.43,1298.12 1534.11,1184.66 1538.8,1176 1543.49,1188.53 1548.17,1171.04 1552.86,1183.78 1557.55,1156.88 1562.23,1189.6 1566.92,1185.78 1571.61,1173.02 1576.29,1217.44 \"/>\n",
       "<polyline clip-path=\"url(#clip142)\" style=\"stroke:#a1195a; stroke-linecap:round; stroke-linejoin:round; stroke-width:4; stroke-opacity:1; fill:none\" points=\"1585.67,1183.99 1590.35,1198.29 1595.04,1140.97 1599.73,1152.39 1604.41,1189.85 1609.1,1178.49 1613.79,1176.59 1618.47,1219.01 1623.16,1177.86 1627.85,1210.77 1632.53,1207.86 1637.22,1135.19 1641.9,1159.1 \"/>\n",
       "<polyline clip-path=\"url(#clip142)\" style=\"stroke:#a1195a; stroke-linecap:round; stroke-linejoin:round; stroke-width:4; stroke-opacity:1; fill:none\" points=\"1651.28,1200.93 1655.96,1150.1 1660.65,1169.53 1665.34,1154.94 1670.02,1172.66 1674.71,1172.56 1679.4,1209.56 1684.08,1259.38 1688.77,1183.14 1693.46,1194.97 1698.14,1182.2 1702.83,1167.74 1707.52,1182.64 1712.2,1213.35 1716.89,1196.83 1721.58,1191.66 1726.26,1173.98 1730.95,1172.75 \"/>\n",
       "<polyline clip-path=\"url(#clip142)\" style=\"stroke:#a1195a; stroke-linecap:round; stroke-linejoin:round; stroke-width:4; stroke-opacity:1; fill:none\" points=\"1740.32,1217.77 1745.01,1207.53 1749.69,1141.6 1754.38,1179.47 1759.07,1185.99 1763.75,1212.56 1768.44,1182.45 1773.13,1176.22 1777.81,1202.84 1782.5,1186 1787.19,1166.96 1791.87,1179.5 1796.56,1205.4 1801.25,1194.71 1805.93,553.059 1810.62,1187.36 1815.31,551.614 1819.99,544.774 1824.68,541.889 1829.37,540.729 1834.05,537.93 1838.74,538.727 1843.43,534.835 1848.11,533.602 1852.8,532.533 1857.48,531.657 1862.17,530.622 1866.86,528.974 1871.54,528.075 1876.23,527.087 1880.92,526.183 1885.6,524.918 1890.29,523.955 1894.98,522.022 1899.66,521.402 1904.35,520.147 1909.04,518.846 1913.72,517.899 1918.41,516.723 1923.1,515.117 1927.78,309.409 1932.47,274.001 1937.16,257.371 1941.84,246.374 1946.53,238.135 1951.22,231.539 1955.9,226.033 1960.59,221.305 1965.27,217.16 1969.96,213.468 1974.65,210.138 1979.33,207.104 1984.02,204.317 1988.71,201.739 1993.39,199.34 1998.08,197.096 2002.77,194.988 2007.45,193 2012.14,191.118 2016.83,189.332 2021.51,187.632 2026.2,186.009 2030.89,184.457 2035.57,182.97 2040.26,181.542 2044.95,180.168 2049.63,178.844 2054.32,177.567 2059,176.334 2063.69,175.141 2068.38,173.985 2073.06,172.865 2077.75,171.777 2082.44,170.721 2087.12,169.694 2091.81,168.695 2096.5,167.722 2101.18,166.773 2105.87,165.848 2110.56,164.945 2115.24,164.063 2119.93,163.202 2124.62,162.359 2129.3,161.535 2133.99,160.728 2138.68,159.938 2143.36,159.164 2148.05,158.405 2152.74,157.661 2157.42,156.931 2162.11,156.215 2166.79,155.511 2171.48,154.82 2176.17,154.142 2180.85,153.475 2185.54,152.819 2190.23,152.174 2194.91,151.539 2199.6,150.915 2204.29,150.3 2208.97,149.695 2213.66,149.099 2218.35,148.512 2223.03,147.933 2227.72,147.363 2232.41,146.801 \"/>\n",
       "<polyline clip-path=\"url(#clip142)\" style=\"stroke:#ca1a4f; stroke-linecap:round; stroke-linejoin:round; stroke-width:4; stroke-opacity:1; fill:none\" points=\"362.484,1173.13 367.171,1197.02 371.857,1190.72 376.544,1207.29 381.23,1185.61 385.917,1206.93 390.603,1203.4 395.29,1205.36 399.976,1200.76 404.663,1185.19 409.35,1155.2 414.036,1163.68 418.723,1162.29 423.409,1197.42 \"/>\n",
       "<polyline clip-path=\"url(#clip142)\" style=\"stroke:#ca1a4f; stroke-linecap:round; stroke-linejoin:round; stroke-width:4; stroke-opacity:1; fill:none\" points=\"432.782,1161.04 437.469,1202.62 442.155,1163 446.842,1163.86 451.528,1151.67 456.215,1210.66 460.901,1235.17 465.588,1157.34 470.274,1164.49 474.961,1194.6 479.647,1172.53 484.334,1193.83 489.02,1202.44 493.707,1206.47 498.393,1178.17 503.08,1159.9 507.766,1230.41 512.453,1203.15 517.139,1187.3 521.826,1207.9 526.513,1217.8 531.199,1159.8 535.886,1225.66 540.572,1192.78 545.259,1209.84 549.945,1191.71 554.632,1164.73 559.318,1159.69 564.005,1179.53 568.691,1154.23 573.378,1189.9 578.064,1293.44 582.751,1194.52 587.437,1184 592.124,1155.96 596.81,1210.79 601.497,1205.32 606.183,1179.02 610.87,1192.67 615.556,1158.71 620.243,1214.2 624.929,1209.28 629.616,1159.71 634.303,1174.9 638.989,1186.57 643.676,1179.57 648.362,1205.02 653.049,1183.79 657.735,1166.97 662.422,1304.46 667.108,1259.56 671.795,1187.79 676.481,1190.53 681.168,1173.72 685.854,1173.5 690.541,1173.3 695.227,1189.54 699.914,1197.78 704.6,1178.19 709.287,1172.5 713.973,1208.2 718.66,1167.54 723.346,1183.68 728.033,1167.29 732.719,1165.27 737.406,1159.88 742.093,1199.61 746.779,1203.23 751.466,1207.9 756.152,1233.37 760.839,1201.93 765.525,1167.22 770.212,1194.33 774.898,1179.27 779.585,1200.88 784.271,1192.55 788.958,1181.58 793.644,1197.16 798.331,1219.13 803.017,1166.38 807.704,1158.68 812.39,1167.87 817.077,1146.44 821.763,1173.34 826.45,1161.51 831.136,1162.91 835.823,1169.98 840.509,1186.62 845.196,1163.67 849.883,1196.63 854.569,1180.23 859.256,1158.04 863.942,1178.37 868.629,1169.8 873.315,1201.29 878.002,1155.28 882.688,1184.71 887.375,1177.68 892.061,1171.56 \"/>\n",
       "<polyline clip-path=\"url(#clip142)\" style=\"stroke:#ca1a4f; stroke-linecap:round; stroke-linejoin:round; stroke-width:4; stroke-opacity:1; fill:none\" points=\"906.121,1157.82 910.807,1198.74 915.494,1142.93 920.18,1199.62 924.867,1197.66 929.553,1176.1 934.24,1192.94 938.926,1175.17 943.613,1193.05 948.299,1167.99 \"/>\n",
       "<polyline clip-path=\"url(#clip142)\" style=\"stroke:#ca1a4f; stroke-linecap:round; stroke-linejoin:round; stroke-width:4; stroke-opacity:1; fill:none\" points=\"967.046,1188.16 971.732,1174.72 976.419,1176.31 981.105,1219.19 985.792,1173.86 990.478,1186.78 995.165,1189.12 999.851,1156.67 1004.54,1190.76 1009.22,1163.52 1013.91,1210.11 1018.6,1180.1 1023.28,1175.72 1027.97,1181.97 1032.66,1173.47 1037.34,1183.92 1042.03,1219.18 1046.72,1187.13 1051.4,1204.3 1056.09,1214.43 1060.78,1174.81 1065.46,1166.81 1070.15,1161.84 1074.84,1160.74 1079.52,1174.79 1084.21,1323.62 1088.9,1225.77 1093.58,1191.68 1098.27,1174.41 1102.95,1210.91 1107.64,1198.82 1112.33,1183.92 1117.01,1168.21 1121.7,1186.08 1126.39,1161.7 1131.07,1247.85 1135.76,1173.43 1140.45,1184.06 1145.13,1158 1149.82,1178.75 1154.51,1217.9 1159.19,1203.01 1163.88,1164.59 1168.57,1168.85 1173.25,1171.71 1177.94,1202.75 1182.63,1176.25 1187.31,1188.25 1192,1155.24 1196.69,1207.7 1201.37,1212.01 1206.06,1180.49 1210.74,1190.01 1215.43,1189.34 1220.12,1172.15 1224.8,1207.28 1229.49,1198.75 1234.18,1197.6 \"/>\n",
       "<polyline clip-path=\"url(#clip142)\" style=\"stroke:#ca1a4f; stroke-linecap:round; stroke-linejoin:round; stroke-width:4; stroke-opacity:1; fill:none\" points=\"1243.55,1207.79 1248.24,1200.33 1252.92,1174.32 1257.61,1148.64 1262.3,1183.2 1266.98,1165.73 \"/>\n",
       "<polyline clip-path=\"url(#clip142)\" style=\"stroke:#ca1a4f; stroke-linecap:round; stroke-linejoin:round; stroke-width:4; stroke-opacity:1; fill:none\" points=\"1285.73,1170.91 1290.42,1301.08 1295.1,1156.78 1299.79,1185.8 1304.48,1187.82 1309.16,1164.6 1313.85,1183.16 \"/>\n",
       "<polyline clip-path=\"url(#clip142)\" style=\"stroke:#ca1a4f; stroke-linecap:round; stroke-linejoin:round; stroke-width:4; stroke-opacity:1; fill:none\" points=\"1323.22,1176.13 1327.91,1175.42 1332.59,1180.5 1337.28,1207.58 1341.97,1213.43 1346.65,1236.83 1351.34,1236.83 1356.03,1189.47 1360.71,1218.08 1365.4,1173.61 1370.09,1152.4 1374.77,1186.3 1379.46,1165.82 1384.15,1218.81 1388.83,1233.04 1393.52,1198.92 1398.21,1202.92 1402.89,1174.68 1407.58,1232.24 1412.27,1204.46 1416.95,1163.48 \"/>\n",
       "<polyline clip-path=\"url(#clip142)\" style=\"stroke:#ca1a4f; stroke-linecap:round; stroke-linejoin:round; stroke-width:4; stroke-opacity:1; fill:none\" points=\"1426.32,1192.73 1431.01,1207.64 1435.7,1168.54 1440.38,1192.94 1445.07,1189.93 1449.76,1207.31 1454.44,1165.93 1459.13,1207.66 1463.82,1160.47 1468.5,1198.57 1473.19,1210.75 1477.88,1207.62 1482.56,1189.68 1487.25,1179.2 1491.94,1172.95 1496.62,1218.76 1501.31,1188.21 1506,1169.75 1510.68,1195.01 \"/>\n",
       "<polyline clip-path=\"url(#clip142)\" style=\"stroke:#ca1a4f; stroke-linecap:round; stroke-linejoin:round; stroke-width:4; stroke-opacity:1; fill:none\" points=\"1520.06,1221.95 1524.74,1150.64 1529.43,1298.12 1534.11,1184.66 1538.8,1176 1543.49,1188.53 1548.17,1171.04 1552.86,1183.78 1557.55,1156.88 1562.23,1189.6 1566.92,1185.78 1571.61,1173.02 1576.29,1217.44 \"/>\n",
       "<polyline clip-path=\"url(#clip142)\" style=\"stroke:#ca1a4f; stroke-linecap:round; stroke-linejoin:round; stroke-width:4; stroke-opacity:1; fill:none\" points=\"1585.67,1183.99 1590.35,1198.29 1595.04,1140.97 1599.73,1152.39 1604.41,1189.85 1609.1,1178.49 1613.79,1176.59 1618.47,1219.01 1623.16,1177.86 1627.85,1210.77 1632.53,1207.86 1637.22,1135.19 1641.9,1159.1 \"/>\n",
       "<polyline clip-path=\"url(#clip142)\" style=\"stroke:#ca1a4f; stroke-linecap:round; stroke-linejoin:round; stroke-width:4; stroke-opacity:1; fill:none\" points=\"1651.28,1200.93 1655.96,1150.1 1660.65,1169.53 1665.34,1154.94 1670.02,1172.66 1674.71,1172.56 1679.4,1209.56 1684.08,1259.38 1688.77,1183.14 1693.46,1194.97 1698.14,1182.2 1702.83,1167.74 1707.52,1182.64 1712.2,1213.35 1716.89,1196.83 1721.58,1191.66 1726.26,1173.98 1730.95,1172.75 \"/>\n",
       "<polyline clip-path=\"url(#clip142)\" style=\"stroke:#ca1a4f; stroke-linecap:round; stroke-linejoin:round; stroke-width:4; stroke-opacity:1; fill:none\" points=\"1740.32,1217.77 1745.01,1207.53 1749.69,1141.6 1754.38,1179.47 1759.07,1185.99 1763.75,1212.56 1768.44,1182.45 1773.13,1176.22 1777.81,1202.84 1782.5,1186 1787.19,1166.96 1791.87,1179.5 1796.56,1205.4 1801.25,1194.71 1805.93,553.059 1810.62,1187.36 1815.31,551.614 1819.99,544.774 1824.68,541.889 1829.37,540.729 1834.05,537.93 1838.74,538.727 1843.43,534.835 1848.11,533.602 1852.8,532.533 1857.48,531.657 1862.17,530.622 1866.86,528.974 1871.54,528.075 1876.23,527.087 1880.92,526.183 1885.6,524.918 1890.29,523.955 1894.98,522.022 1899.66,521.402 1904.35,520.147 1909.04,518.846 1913.72,517.899 1918.41,516.723 1923.1,515.117 1927.78,309.409 1932.47,274.001 1937.16,257.371 1941.84,246.374 1946.53,238.135 1951.22,231.539 1955.9,226.033 1960.59,221.305 1965.27,217.16 1969.96,213.468 1974.65,210.138 1979.33,207.104 1984.02,204.317 1988.71,201.739 1993.39,199.34 1998.08,197.096 2002.77,194.988 2007.45,193 2012.14,191.118 2016.83,189.332 2021.51,187.632 2026.2,186.009 2030.89,184.457 2035.57,182.97 2040.26,181.542 2044.95,180.168 2049.63,178.844 2054.32,177.567 2059,176.334 2063.69,175.141 2068.38,173.985 2073.06,172.865 2077.75,171.777 2082.44,170.721 2087.12,169.694 2091.81,168.695 2096.5,167.722 2101.18,166.773 2105.87,165.848 2110.56,164.945 2115.24,164.063 2119.93,163.202 2124.62,162.359 2129.3,161.535 2133.99,160.728 2138.68,159.938 2143.36,159.164 2148.05,158.405 2152.74,157.661 2157.42,156.931 2162.11,156.215 2166.79,155.511 2171.48,154.82 2176.17,154.142 2180.85,153.475 2185.54,152.819 2190.23,152.174 2194.91,151.539 2199.6,150.915 2204.29,150.3 2208.97,149.695 2213.66,149.099 2218.35,148.512 2223.03,147.933 2227.72,147.363 2232.41,146.801 \"/>\n",
       "<polyline clip-path=\"url(#clip142)\" style=\"stroke:#e73e3e; stroke-linecap:round; stroke-linejoin:round; stroke-width:4; stroke-opacity:1; fill:none\" points=\"362.484,1173.13 367.171,1197.02 371.857,1190.72 376.544,1207.29 381.23,1185.61 385.917,1206.93 390.603,1203.4 395.29,1205.36 399.976,1200.76 404.663,1185.19 409.35,1155.2 414.036,1163.68 418.723,1162.29 423.409,1197.42 \"/>\n",
       "<polyline clip-path=\"url(#clip142)\" style=\"stroke:#e73e3e; stroke-linecap:round; stroke-linejoin:round; stroke-width:4; stroke-opacity:1; fill:none\" points=\"432.782,1161.04 437.469,1202.62 442.155,1163 446.842,1163.86 451.528,1151.67 456.215,1210.66 460.901,1235.17 465.588,1157.34 470.274,1164.49 474.961,1194.6 479.647,1172.53 484.334,1193.83 489.02,1202.44 493.707,1206.47 498.393,1178.17 503.08,1159.9 507.766,1230.41 512.453,1203.15 517.139,1187.3 521.826,1207.9 526.513,1217.8 531.199,1159.8 535.886,1225.66 540.572,1192.78 545.259,1209.84 549.945,1191.71 554.632,1164.73 559.318,1159.69 564.005,1179.53 568.691,1154.23 573.378,1189.9 578.064,1293.44 582.751,1194.52 587.437,1184 592.124,1155.96 596.81,1210.79 601.497,1205.32 606.183,1179.02 610.87,1192.67 615.556,1158.71 620.243,1214.2 624.929,1209.28 629.616,1159.71 634.303,1174.9 638.989,1186.57 643.676,1179.57 648.362,1205.02 653.049,1183.79 657.735,1166.97 662.422,1304.46 667.108,1259.56 671.795,1187.79 676.481,1190.53 681.168,1173.72 685.854,1173.5 690.541,1173.3 695.227,1189.54 699.914,1197.78 704.6,1178.19 709.287,1172.5 713.973,1208.2 718.66,1167.54 723.346,1183.68 728.033,1167.29 732.719,1165.27 737.406,1159.88 742.093,1199.61 746.779,1203.23 751.466,1207.9 756.152,1233.37 760.839,1201.93 765.525,1167.22 770.212,1194.33 774.898,1179.27 779.585,1200.88 784.271,1192.55 788.958,1181.58 793.644,1197.16 798.331,1219.13 803.017,1166.38 807.704,1158.68 812.39,1167.87 817.077,1146.44 821.763,1173.34 826.45,1161.51 831.136,1162.91 835.823,1169.98 840.509,1186.62 845.196,1163.67 849.883,1196.63 854.569,1180.23 859.256,1158.04 863.942,1178.37 868.629,1169.8 873.315,1201.29 878.002,1155.28 882.688,1184.71 887.375,1177.68 892.061,1171.56 \"/>\n",
       "<polyline clip-path=\"url(#clip142)\" style=\"stroke:#e73e3e; stroke-linecap:round; stroke-linejoin:round; stroke-width:4; stroke-opacity:1; fill:none\" points=\"906.121,1157.82 910.807,1198.74 915.494,1142.93 920.18,1199.62 924.867,1197.66 929.553,1176.1 934.24,1192.94 938.926,1175.17 943.613,1193.05 948.299,1167.99 \"/>\n",
       "<polyline clip-path=\"url(#clip142)\" style=\"stroke:#e73e3e; stroke-linecap:round; stroke-linejoin:round; stroke-width:4; stroke-opacity:1; fill:none\" points=\"967.046,1188.16 971.732,1174.72 976.419,1176.31 981.105,1219.19 985.792,1173.86 990.478,1186.78 995.165,1189.12 999.851,1156.67 1004.54,1190.76 1009.22,1163.52 1013.91,1210.11 1018.6,1180.1 1023.28,1175.72 1027.97,1181.97 1032.66,1173.47 1037.34,1183.92 1042.03,1219.18 1046.72,1187.13 1051.4,1204.3 1056.09,1214.43 1060.78,1174.81 1065.46,1166.81 1070.15,1161.84 1074.84,1160.74 1079.52,1174.79 1084.21,1323.62 1088.9,1225.77 1093.58,1191.68 1098.27,1174.41 1102.95,1210.91 1107.64,1198.82 1112.33,1183.92 1117.01,1168.21 1121.7,1186.08 1126.39,1161.7 1131.07,1247.85 1135.76,1173.43 1140.45,1184.06 1145.13,1158 1149.82,1178.75 1154.51,1217.9 1159.19,1203.01 1163.88,1164.59 1168.57,1168.85 1173.25,1171.71 1177.94,1202.75 1182.63,1176.25 1187.31,1188.25 1192,1155.24 1196.69,1207.7 1201.37,1212.01 1206.06,1180.49 1210.74,1190.01 1215.43,1189.34 1220.12,1172.15 1224.8,1207.28 1229.49,1198.75 1234.18,1197.6 \"/>\n",
       "<polyline clip-path=\"url(#clip142)\" style=\"stroke:#e73e3e; stroke-linecap:round; stroke-linejoin:round; stroke-width:4; stroke-opacity:1; fill:none\" points=\"1243.55,1207.79 1248.24,1200.33 1252.92,1174.32 1257.61,1148.64 1262.3,1183.2 1266.98,1165.73 \"/>\n",
       "<polyline clip-path=\"url(#clip142)\" style=\"stroke:#e73e3e; stroke-linecap:round; stroke-linejoin:round; stroke-width:4; stroke-opacity:1; fill:none\" points=\"1285.73,1170.91 1290.42,1301.08 1295.1,1156.78 1299.79,1185.8 1304.48,1187.82 1309.16,1164.6 1313.85,1183.16 \"/>\n",
       "<polyline clip-path=\"url(#clip142)\" style=\"stroke:#e73e3e; stroke-linecap:round; stroke-linejoin:round; stroke-width:4; stroke-opacity:1; fill:none\" points=\"1323.22,1176.13 1327.91,1175.42 1332.59,1180.5 1337.28,1207.58 1341.97,1213.43 1346.65,1236.83 1351.34,1236.83 1356.03,1189.47 1360.71,1218.08 1365.4,1173.61 1370.09,1152.4 1374.77,1186.3 1379.46,1165.82 1384.15,1218.81 1388.83,1233.04 1393.52,1198.92 1398.21,1202.92 1402.89,1174.68 1407.58,1232.24 1412.27,1204.46 1416.95,1163.48 \"/>\n",
       "<polyline clip-path=\"url(#clip142)\" style=\"stroke:#e73e3e; stroke-linecap:round; stroke-linejoin:round; stroke-width:4; stroke-opacity:1; fill:none\" points=\"1426.32,1192.73 1431.01,1207.64 1435.7,1168.54 1440.38,1192.94 1445.07,1189.93 1449.76,1207.31 1454.44,1165.93 1459.13,1207.66 1463.82,1160.47 1468.5,1198.57 1473.19,1210.75 1477.88,1207.62 1482.56,1189.68 1487.25,1179.2 1491.94,1172.95 1496.62,1218.76 1501.31,1188.21 1506,1169.75 1510.68,1195.01 \"/>\n",
       "<polyline clip-path=\"url(#clip142)\" style=\"stroke:#e73e3e; stroke-linecap:round; stroke-linejoin:round; stroke-width:4; stroke-opacity:1; fill:none\" points=\"1520.06,1221.95 1524.74,1150.64 1529.43,1298.12 1534.11,1184.66 1538.8,1176 1543.49,1188.53 1548.17,1171.04 1552.86,1183.78 1557.55,1156.88 1562.23,1189.6 1566.92,1185.78 1571.61,1173.02 1576.29,1217.44 \"/>\n",
       "<polyline clip-path=\"url(#clip142)\" style=\"stroke:#e73e3e; stroke-linecap:round; stroke-linejoin:round; stroke-width:4; stroke-opacity:1; fill:none\" points=\"1585.67,1183.99 1590.35,1198.29 1595.04,1140.97 1599.73,1152.39 1604.41,1189.85 1609.1,1178.49 1613.79,1176.59 1618.47,1219.01 1623.16,1177.86 1627.85,1210.77 1632.53,1207.86 1637.22,1135.19 1641.9,1159.1 \"/>\n",
       "<polyline clip-path=\"url(#clip142)\" style=\"stroke:#e73e3e; stroke-linecap:round; stroke-linejoin:round; stroke-width:4; stroke-opacity:1; fill:none\" points=\"1651.28,1200.93 1655.96,1150.1 1660.65,1169.53 1665.34,1154.94 1670.02,1172.66 1674.71,1172.56 1679.4,1209.56 1684.08,1259.38 1688.77,1183.14 1693.46,1194.97 1698.14,1182.2 1702.83,1167.74 1707.52,1182.64 1712.2,1213.35 1716.89,1196.83 1721.58,1191.66 1726.26,1173.98 1730.95,1172.75 \"/>\n",
       "<polyline clip-path=\"url(#clip142)\" style=\"stroke:#e73e3e; stroke-linecap:round; stroke-linejoin:round; stroke-width:4; stroke-opacity:1; fill:none\" points=\"1740.32,1217.77 1745.01,1207.53 1749.69,1141.6 1754.38,1179.47 1759.07,1185.99 1763.75,1212.56 1768.44,1182.45 1773.13,1176.22 1777.81,1202.84 1782.5,1186 1787.19,1166.96 1791.87,1179.5 1796.56,1205.4 1801.25,1194.71 1805.93,553.059 1810.62,1187.36 1815.31,551.614 1819.99,544.774 1824.68,541.889 1829.37,540.729 1834.05,537.93 1838.74,538.727 1843.43,534.835 1848.11,533.602 1852.8,532.533 1857.48,531.657 1862.17,530.622 1866.86,528.974 1871.54,528.075 1876.23,527.087 1880.92,526.183 1885.6,524.918 1890.29,523.955 1894.98,522.022 1899.66,521.402 1904.35,520.147 1909.04,518.846 1913.72,517.899 1918.41,516.723 1923.1,515.117 1927.78,309.409 1932.47,274.001 1937.16,257.371 1941.84,246.374 1946.53,238.135 1951.22,231.539 1955.9,226.033 1960.59,221.305 1965.27,217.16 1969.96,213.468 1974.65,210.138 1979.33,207.104 1984.02,204.317 1988.71,201.739 1993.39,199.34 1998.08,197.096 2002.77,194.988 2007.45,193 2012.14,191.118 2016.83,189.332 2021.51,187.632 2026.2,186.009 2030.89,184.457 2035.57,182.97 2040.26,181.542 2044.95,180.168 2049.63,178.844 2054.32,177.567 2059,176.334 2063.69,175.141 2068.38,173.985 2073.06,172.865 2077.75,171.777 2082.44,170.721 2087.12,169.694 2091.81,168.695 2096.5,167.722 2101.18,166.773 2105.87,165.848 2110.56,164.945 2115.24,164.063 2119.93,163.202 2124.62,162.359 2129.3,161.535 2133.99,160.728 2138.68,159.938 2143.36,159.164 2148.05,158.405 2152.74,157.661 2157.42,156.931 2162.11,156.215 2166.79,155.511 2171.48,154.82 2176.17,154.142 2180.85,153.475 2185.54,152.819 2190.23,152.174 2194.91,151.539 2199.6,150.915 2204.29,150.3 2208.97,149.695 2213.66,149.099 2218.35,148.512 2223.03,147.933 2227.72,147.363 2232.41,146.801 \"/>\n",
       "<polyline clip-path=\"url(#clip142)\" style=\"stroke:#ee5740; stroke-linecap:round; stroke-linejoin:round; stroke-width:4; stroke-opacity:1; fill:none\" points=\"362.484,1173.13 367.171,1197.02 371.857,1190.72 376.544,1207.29 381.23,1185.61 385.917,1206.93 390.603,1203.4 395.29,1205.36 399.976,1200.76 404.663,1185.19 409.35,1155.2 414.036,1163.68 418.723,1162.29 423.409,1197.42 \"/>\n",
       "<polyline clip-path=\"url(#clip142)\" style=\"stroke:#ee5740; stroke-linecap:round; stroke-linejoin:round; stroke-width:4; stroke-opacity:1; fill:none\" points=\"432.782,1161.04 437.469,1202.62 442.155,1163 446.842,1163.86 451.528,1151.67 456.215,1210.66 460.901,1235.17 465.588,1157.34 470.274,1164.49 474.961,1194.6 479.647,1172.53 484.334,1193.83 489.02,1202.44 493.707,1206.47 498.393,1178.17 503.08,1159.9 507.766,1230.41 512.453,1203.15 517.139,1187.3 521.826,1207.9 526.513,1217.8 531.199,1159.8 535.886,1225.66 540.572,1192.78 545.259,1209.84 549.945,1191.71 554.632,1164.73 559.318,1159.69 564.005,1179.53 568.691,1154.23 573.378,1189.9 578.064,1293.44 582.751,1194.52 587.437,1184 592.124,1155.96 596.81,1210.79 601.497,1205.32 606.183,1179.02 610.87,1192.67 615.556,1158.71 620.243,1214.2 624.929,1209.28 629.616,1159.71 634.303,1174.9 638.989,1186.57 643.676,1179.57 648.362,1205.02 653.049,1183.79 657.735,1166.97 662.422,1304.46 667.108,1259.56 671.795,1187.79 676.481,1190.53 681.168,1173.72 685.854,1173.5 690.541,1173.3 695.227,1189.54 699.914,1197.78 704.6,1178.19 709.287,1172.5 713.973,1208.2 718.66,1167.54 723.346,1183.68 728.033,1167.29 732.719,1165.27 737.406,1159.88 742.093,1199.61 746.779,1203.23 751.466,1207.9 756.152,1233.37 760.839,1201.93 765.525,1167.22 770.212,1194.33 774.898,1179.27 779.585,1200.88 784.271,1192.55 788.958,1181.58 793.644,1197.16 798.331,1219.13 803.017,1166.38 807.704,1158.68 812.39,1167.87 817.077,1146.44 821.763,1173.34 826.45,1161.51 831.136,1162.91 835.823,1169.98 840.509,1186.62 845.196,1163.67 849.883,1196.63 854.569,1180.23 859.256,1158.04 863.942,1178.37 868.629,1169.8 873.315,1201.29 878.002,1155.28 882.688,1184.71 887.375,1177.68 892.061,1171.56 \"/>\n",
       "<polyline clip-path=\"url(#clip142)\" style=\"stroke:#ee5740; stroke-linecap:round; stroke-linejoin:round; stroke-width:4; stroke-opacity:1; fill:none\" points=\"906.121,1157.82 910.807,1198.74 915.494,1142.93 920.18,1199.62 924.867,1197.66 929.553,1176.1 934.24,1192.94 938.926,1175.17 943.613,1193.05 948.299,1167.99 \"/>\n",
       "<polyline clip-path=\"url(#clip142)\" style=\"stroke:#ee5740; stroke-linecap:round; stroke-linejoin:round; stroke-width:4; stroke-opacity:1; fill:none\" points=\"967.046,1188.16 971.732,1174.72 976.419,1176.31 981.105,1219.19 985.792,1173.86 990.478,1186.78 995.165,1189.12 999.851,1156.67 1004.54,1190.76 1009.22,1163.52 1013.91,1210.11 1018.6,1180.1 1023.28,1175.72 1027.97,1181.97 1032.66,1173.47 1037.34,1183.92 1042.03,1219.18 1046.72,1187.13 1051.4,1204.3 1056.09,1214.43 1060.78,1174.81 1065.46,1166.81 1070.15,1161.84 1074.84,1160.74 1079.52,1174.79 1084.21,1323.62 1088.9,1225.77 1093.58,1191.68 1098.27,1174.41 1102.95,1210.91 1107.64,1198.82 1112.33,1183.92 1117.01,1168.21 1121.7,1186.08 1126.39,1161.7 1131.07,1247.85 1135.76,1173.43 1140.45,1184.06 1145.13,1158 1149.82,1178.75 1154.51,1217.9 1159.19,1203.01 1163.88,1164.59 1168.57,1168.85 1173.25,1171.71 1177.94,1202.75 1182.63,1176.25 1187.31,1188.25 1192,1155.24 1196.69,1207.7 1201.37,1212.01 1206.06,1180.49 1210.74,1190.01 1215.43,1189.34 1220.12,1172.15 1224.8,1207.28 1229.49,1198.75 1234.18,1197.6 \"/>\n",
       "<polyline clip-path=\"url(#clip142)\" style=\"stroke:#ee5740; stroke-linecap:round; stroke-linejoin:round; stroke-width:4; stroke-opacity:1; fill:none\" points=\"1243.55,1207.79 1248.24,1200.33 1252.92,1174.32 1257.61,1148.64 1262.3,1183.2 1266.98,1165.73 \"/>\n",
       "<polyline clip-path=\"url(#clip142)\" style=\"stroke:#ee5740; stroke-linecap:round; stroke-linejoin:round; stroke-width:4; stroke-opacity:1; fill:none\" points=\"1285.73,1170.91 1290.42,1301.08 1295.1,1156.78 1299.79,1185.8 1304.48,1187.82 1309.16,1164.6 1313.85,1183.16 \"/>\n",
       "<polyline clip-path=\"url(#clip142)\" style=\"stroke:#ee5740; stroke-linecap:round; stroke-linejoin:round; stroke-width:4; stroke-opacity:1; fill:none\" points=\"1323.22,1176.13 1327.91,1175.42 1332.59,1180.5 1337.28,1207.58 1341.97,1213.43 1346.65,1236.83 1351.34,1236.83 1356.03,1189.47 1360.71,1218.08 1365.4,1173.61 1370.09,1152.4 1374.77,1186.3 1379.46,1165.82 1384.15,1218.81 1388.83,1233.04 1393.52,1198.92 1398.21,1202.92 1402.89,1174.68 1407.58,1232.24 1412.27,1204.46 1416.95,1163.48 \"/>\n",
       "<polyline clip-path=\"url(#clip142)\" style=\"stroke:#ee5740; stroke-linecap:round; stroke-linejoin:round; stroke-width:4; stroke-opacity:1; fill:none\" points=\"1426.32,1192.73 1431.01,1207.64 1435.7,1168.54 1440.38,1192.94 1445.07,1189.93 1449.76,1207.31 1454.44,1165.93 1459.13,1207.66 1463.82,1160.47 1468.5,1198.57 1473.19,1210.75 1477.88,1207.62 1482.56,1189.68 1487.25,1179.2 1491.94,1172.95 1496.62,1218.76 1501.31,1188.21 1506,1169.75 1510.68,1195.01 \"/>\n",
       "<polyline clip-path=\"url(#clip142)\" style=\"stroke:#ee5740; stroke-linecap:round; stroke-linejoin:round; stroke-width:4; stroke-opacity:1; fill:none\" points=\"1520.06,1221.95 1524.74,1150.64 1529.43,1298.12 1534.11,1184.66 1538.8,1176 1543.49,1188.53 1548.17,1171.04 1552.86,1183.78 1557.55,1156.88 1562.23,1189.6 1566.92,1185.78 1571.61,1173.02 1576.29,1217.44 \"/>\n",
       "<polyline clip-path=\"url(#clip142)\" style=\"stroke:#ee5740; stroke-linecap:round; stroke-linejoin:round; stroke-width:4; stroke-opacity:1; fill:none\" points=\"1585.67,1183.99 1590.35,1198.29 1595.04,1140.97 1599.73,1152.39 1604.41,1189.85 1609.1,1178.49 1613.79,1176.59 1618.47,1219.01 1623.16,1177.86 1627.85,1210.77 1632.53,1207.86 1637.22,1135.19 1641.9,1159.1 \"/>\n",
       "<polyline clip-path=\"url(#clip142)\" style=\"stroke:#ee5740; stroke-linecap:round; stroke-linejoin:round; stroke-width:4; stroke-opacity:1; fill:none\" points=\"1651.28,1200.93 1655.96,1150.1 1660.65,1169.53 1665.34,1154.94 1670.02,1172.66 1674.71,1172.56 1679.4,1209.56 1684.08,1259.38 1688.77,1183.14 1693.46,1194.97 1698.14,1182.2 1702.83,1167.74 1707.52,1182.64 1712.2,1213.35 1716.89,1196.83 1721.58,1191.66 1726.26,1173.98 1730.95,1172.75 \"/>\n",
       "<polyline clip-path=\"url(#clip142)\" style=\"stroke:#ee5740; stroke-linecap:round; stroke-linejoin:round; stroke-width:4; stroke-opacity:1; fill:none\" points=\"1740.32,1217.77 1745.01,1207.53 1749.69,1141.6 1754.38,1179.47 1759.07,1185.99 1763.75,1212.56 1768.44,1182.45 1773.13,1176.22 1777.81,1202.84 1782.5,1186 1787.19,1166.96 1791.87,1179.5 1796.56,1205.4 1801.25,1194.71 1805.93,553.059 1810.62,1187.36 1815.31,551.614 1819.99,544.774 1824.68,541.889 1829.37,540.729 1834.05,537.93 1838.74,538.727 1843.43,534.835 1848.11,533.602 1852.8,532.533 1857.48,531.657 1862.17,530.622 1866.86,528.974 1871.54,528.075 1876.23,527.087 1880.92,526.183 1885.6,524.918 1890.29,523.955 1894.98,522.022 1899.66,521.402 1904.35,520.147 1909.04,518.846 1913.72,517.899 1918.41,516.723 1923.1,515.117 1927.78,309.409 1932.47,274.001 1937.16,257.371 1941.84,246.374 1946.53,238.135 1951.22,231.539 1955.9,226.033 1960.59,221.305 1965.27,217.16 1969.96,213.468 1974.65,210.138 1979.33,207.104 1984.02,204.317 1988.71,201.739 1993.39,199.34 1998.08,197.096 2002.77,194.988 2007.45,193 2012.14,191.118 2016.83,189.332 2021.51,187.632 2026.2,186.009 2030.89,184.457 2035.57,182.97 2040.26,181.542 2044.95,180.168 2049.63,178.844 2054.32,177.567 2059,176.334 2063.69,175.141 2068.38,173.985 2073.06,172.865 2077.75,171.777 2082.44,170.721 2087.12,169.694 2091.81,168.695 2096.5,167.722 2101.18,166.773 2105.87,165.848 2110.56,164.945 2115.24,164.063 2119.93,163.202 2124.62,162.359 2129.3,161.535 2133.99,160.728 2138.68,159.938 2143.36,159.164 2148.05,158.405 2152.74,157.661 2157.42,156.931 2162.11,156.215 2166.79,155.511 2171.48,154.82 2176.17,154.142 2180.85,153.475 2185.54,152.819 2190.23,152.174 2194.91,151.539 2199.6,150.915 2204.29,150.3 2208.97,149.695 2213.66,149.099 2218.35,148.512 2223.03,147.933 2227.72,147.363 2232.41,146.801 \"/>\n",
       "<path clip-path=\"url(#clip140)\" d=\"M1912.14 1317.35 L2222.43 1317.35 L2222.43 954.467 L1912.14 954.467  Z\" fill=\"#ffffff\" fill-rule=\"evenodd\" fill-opacity=\"1\"/>\n",
       "<polyline clip-path=\"url(#clip140)\" style=\"stroke:#000000; stroke-linecap:round; stroke-linejoin:round; stroke-width:4; stroke-opacity:1; fill:none\" points=\"1912.14,1317.35 2222.43,1317.35 2222.43,954.467 1912.14,954.467 1912.14,1317.35 \"/>\n",
       "<polyline clip-path=\"url(#clip140)\" style=\"stroke:#4c1c4a; stroke-linecap:round; stroke-linejoin:round; stroke-width:4; stroke-opacity:1; fill:none\" points=\"1934.16,1006.31 2066.3,1006.31 \"/>\n",
       "<path clip-path=\"url(#clip140)\" d=\"M2103.51 1001.64 Q2102.79 1001.23 2101.94 1001.04 Q2101.1 1000.83 2100.09 1000.83 Q2096.48 1000.83 2094.53 1003.19 Q2092.61 1005.53 2092.61 1009.93 L2092.61 1023.59 L2088.33 1023.59 L2088.33 997.661 L2092.61 997.661 L2092.61 1001.69 Q2093.95 999.328 2096.1 998.193 Q2098.26 997.036 2101.34 997.036 Q2101.78 997.036 2102.31 997.105 Q2102.84 997.152 2103.49 997.268 L2103.51 1001.64 Z\" fill=\"#000000\" fill-rule=\"nonzero\" fill-opacity=\"1\" /><path clip-path=\"url(#clip140)\" d=\"M2108.54 1002.06 L2138.21 1002.06 L2138.21 1005.95 L2108.54 1005.95 L2108.54 1002.06 M2108.54 1011.5 L2138.21 1011.5 L2138.21 1015.44 L2108.54 1015.44 L2108.54 1011.5 Z\" fill=\"#000000\" fill-rule=\"nonzero\" fill-opacity=\"1\" /><path clip-path=\"url(#clip140)\" d=\"M2148.35 989.027 L2166.71 989.027 L2166.71 992.962 L2152.63 992.962 L2152.63 1001.43 Q2153.65 1001.09 2154.67 1000.92 Q2155.69 1000.74 2156.71 1000.74 Q2162.49 1000.74 2165.87 1003.91 Q2169.25 1007.08 2169.25 1012.5 Q2169.25 1018.08 2165.78 1021.18 Q2162.31 1024.26 2155.99 1024.26 Q2153.81 1024.26 2151.54 1023.89 Q2149.3 1023.52 2146.89 1022.78 L2146.89 1018.08 Q2148.97 1019.21 2151.2 1019.77 Q2153.42 1020.32 2155.9 1020.32 Q2159.9 1020.32 2162.24 1018.22 Q2164.58 1016.11 2164.58 1012.5 Q2164.58 1008.89 2162.24 1006.78 Q2159.9 1004.67 2155.9 1004.67 Q2154.02 1004.67 2152.15 1005.09 Q2150.29 1005.51 2148.35 1006.39 L2148.35 989.027 Z\" fill=\"#000000\" fill-rule=\"nonzero\" fill-opacity=\"1\" /><polyline clip-path=\"url(#clip140)\" style=\"stroke:#751e58; stroke-linecap:round; stroke-linejoin:round; stroke-width:4; stroke-opacity:1; fill:none\" points=\"1934.16,1058.15 2066.3,1058.15 \"/>\n",
       "<path clip-path=\"url(#clip140)\" d=\"M2103.51 1053.48 Q2102.79 1053.07 2101.94 1052.88 Q2101.1 1052.67 2100.09 1052.67 Q2096.48 1052.67 2094.53 1055.03 Q2092.61 1057.37 2092.61 1061.77 L2092.61 1075.43 L2088.33 1075.43 L2088.33 1049.5 L2092.61 1049.5 L2092.61 1053.53 Q2093.95 1051.17 2096.1 1050.03 Q2098.26 1048.88 2101.34 1048.88 Q2101.78 1048.88 2102.31 1048.95 Q2102.84 1048.99 2103.49 1049.11 L2103.51 1053.48 Z\" fill=\"#000000\" fill-rule=\"nonzero\" fill-opacity=\"1\" /><path clip-path=\"url(#clip140)\" d=\"M2108.54 1053.9 L2138.21 1053.9 L2138.21 1057.79 L2108.54 1057.79 L2108.54 1053.9 M2108.54 1063.34 L2138.21 1063.34 L2138.21 1067.28 L2108.54 1067.28 L2108.54 1063.34 Z\" fill=\"#000000\" fill-rule=\"nonzero\" fill-opacity=\"1\" /><path clip-path=\"url(#clip140)\" d=\"M2149.11 1071.49 L2156.75 1071.49 L2156.75 1045.13 L2148.44 1046.79 L2148.44 1042.53 L2156.71 1040.87 L2161.38 1040.87 L2161.38 1071.49 L2169.02 1071.49 L2169.02 1075.43 L2149.11 1075.43 L2149.11 1071.49 Z\" fill=\"#000000\" fill-rule=\"nonzero\" fill-opacity=\"1\" /><path clip-path=\"url(#clip140)\" d=\"M2188.47 1043.95 Q2184.85 1043.95 2183.03 1047.51 Q2181.22 1051.05 2181.22 1058.18 Q2181.22 1065.29 2183.03 1068.85 Q2184.85 1072.39 2188.47 1072.39 Q2192.1 1072.39 2193.91 1068.85 Q2195.73 1065.29 2195.73 1058.18 Q2195.73 1051.05 2193.91 1047.51 Q2192.1 1043.95 2188.47 1043.95 M2188.47 1040.24 Q2194.28 1040.24 2197.33 1044.85 Q2200.41 1049.43 2200.41 1058.18 Q2200.41 1066.91 2197.33 1071.51 Q2194.28 1076.1 2188.47 1076.1 Q2182.66 1076.1 2179.58 1071.51 Q2176.52 1066.91 2176.52 1058.18 Q2176.52 1049.43 2179.58 1044.85 Q2182.66 1040.24 2188.47 1040.24 Z\" fill=\"#000000\" fill-rule=\"nonzero\" fill-opacity=\"1\" /><polyline clip-path=\"url(#clip140)\" style=\"stroke:#a1195a; stroke-linecap:round; stroke-linejoin:round; stroke-width:4; stroke-opacity:1; fill:none\" points=\"1934.16,1109.99 2066.3,1109.99 \"/>\n",
       "<path clip-path=\"url(#clip140)\" d=\"M2103.51 1105.32 Q2102.79 1104.91 2101.94 1104.72 Q2101.1 1104.51 2100.09 1104.51 Q2096.48 1104.51 2094.53 1106.87 Q2092.61 1109.21 2092.61 1113.61 L2092.61 1127.27 L2088.33 1127.27 L2088.33 1101.34 L2092.61 1101.34 L2092.61 1105.37 Q2093.95 1103.01 2096.1 1101.87 Q2098.26 1100.72 2101.34 1100.72 Q2101.78 1100.72 2102.31 1100.79 Q2102.84 1100.83 2103.49 1100.95 L2103.51 1105.32 Z\" fill=\"#000000\" fill-rule=\"nonzero\" fill-opacity=\"1\" /><path clip-path=\"url(#clip140)\" d=\"M2108.54 1105.74 L2138.21 1105.74 L2138.21 1109.63 L2108.54 1109.63 L2108.54 1105.74 M2108.54 1115.18 L2138.21 1115.18 L2138.21 1119.12 L2108.54 1119.12 L2108.54 1115.18 Z\" fill=\"#000000\" fill-rule=\"nonzero\" fill-opacity=\"1\" /><path clip-path=\"url(#clip140)\" d=\"M2152.33 1123.33 L2168.65 1123.33 L2168.65 1127.27 L2146.71 1127.27 L2146.71 1123.33 Q2149.37 1120.58 2153.95 1115.95 Q2158.56 1111.29 2159.74 1109.95 Q2161.98 1107.43 2162.86 1105.69 Q2163.77 1103.93 2163.77 1102.24 Q2163.77 1099.49 2161.82 1097.75 Q2159.9 1096.02 2156.8 1096.02 Q2154.6 1096.02 2152.15 1096.78 Q2149.72 1097.54 2146.94 1099.1 L2146.94 1094.37 Q2149.76 1093.24 2152.22 1092.66 Q2154.67 1092.08 2156.71 1092.08 Q2162.08 1092.08 2165.27 1094.77 Q2168.47 1097.45 2168.47 1101.94 Q2168.47 1104.07 2167.66 1105.99 Q2166.87 1107.89 2164.76 1110.48 Q2164.18 1111.16 2161.08 1114.37 Q2157.98 1117.57 2152.33 1123.33 Z\" fill=\"#000000\" fill-rule=\"nonzero\" fill-opacity=\"1\" /><path clip-path=\"url(#clip140)\" d=\"M2188.47 1095.79 Q2184.85 1095.79 2183.03 1099.35 Q2181.22 1102.89 2181.22 1110.02 Q2181.22 1117.13 2183.03 1120.69 Q2184.85 1124.23 2188.47 1124.23 Q2192.1 1124.23 2193.91 1120.69 Q2195.73 1117.13 2195.73 1110.02 Q2195.73 1102.89 2193.91 1099.35 Q2192.1 1095.79 2188.47 1095.79 M2188.47 1092.08 Q2194.28 1092.08 2197.33 1096.69 Q2200.41 1101.27 2200.41 1110.02 Q2200.41 1118.75 2197.33 1123.35 Q2194.28 1127.94 2188.47 1127.94 Q2182.66 1127.94 2179.58 1123.35 Q2176.52 1118.75 2176.52 1110.02 Q2176.52 1101.27 2179.58 1096.69 Q2182.66 1092.08 2188.47 1092.08 Z\" fill=\"#000000\" fill-rule=\"nonzero\" fill-opacity=\"1\" /><polyline clip-path=\"url(#clip140)\" style=\"stroke:#ca1a4f; stroke-linecap:round; stroke-linejoin:round; stroke-width:4; stroke-opacity:1; fill:none\" points=\"1934.16,1161.83 2066.3,1161.83 \"/>\n",
       "<path clip-path=\"url(#clip140)\" d=\"M2103.51 1157.16 Q2102.79 1156.75 2101.94 1156.56 Q2101.1 1156.35 2100.09 1156.35 Q2096.48 1156.35 2094.53 1158.71 Q2092.61 1161.05 2092.61 1165.45 L2092.61 1179.11 L2088.33 1179.11 L2088.33 1153.18 L2092.61 1153.18 L2092.61 1157.21 Q2093.95 1154.85 2096.1 1153.71 Q2098.26 1152.56 2101.34 1152.56 Q2101.78 1152.56 2102.31 1152.63 Q2102.84 1152.67 2103.49 1152.79 L2103.51 1157.16 Z\" fill=\"#000000\" fill-rule=\"nonzero\" fill-opacity=\"1\" /><path clip-path=\"url(#clip140)\" d=\"M2108.54 1157.58 L2138.21 1157.58 L2138.21 1161.47 L2108.54 1161.47 L2108.54 1157.58 M2108.54 1167.02 L2138.21 1167.02 L2138.21 1170.96 L2108.54 1170.96 L2108.54 1167.02 Z\" fill=\"#000000\" fill-rule=\"nonzero\" fill-opacity=\"1\" /><path clip-path=\"url(#clip140)\" d=\"M2162.47 1160.47 Q2165.83 1161.19 2167.7 1163.46 Q2169.6 1165.73 2169.6 1169.06 Q2169.6 1174.18 2166.08 1176.98 Q2162.56 1179.78 2156.08 1179.78 Q2153.91 1179.78 2151.59 1179.34 Q2149.3 1178.92 2146.85 1178.07 L2146.85 1173.55 Q2148.79 1174.69 2151.1 1175.26 Q2153.42 1175.84 2155.94 1175.84 Q2160.34 1175.84 2162.63 1174.11 Q2164.95 1172.37 2164.95 1169.06 Q2164.95 1166.01 2162.79 1164.29 Q2160.66 1162.56 2156.85 1162.56 L2152.82 1162.56 L2152.82 1158.71 L2157.03 1158.71 Q2160.48 1158.71 2162.31 1157.35 Q2164.14 1155.96 2164.14 1153.37 Q2164.14 1150.7 2162.24 1149.29 Q2160.36 1147.86 2156.85 1147.86 Q2154.92 1147.86 2152.72 1148.27 Q2150.53 1148.69 2147.89 1149.57 L2147.89 1145.4 Q2150.55 1144.66 2152.86 1144.29 Q2155.2 1143.92 2157.26 1143.92 Q2162.59 1143.92 2165.69 1146.35 Q2168.79 1148.76 2168.79 1152.88 Q2168.79 1155.75 2167.15 1157.74 Q2165.5 1159.71 2162.47 1160.47 Z\" fill=\"#000000\" fill-rule=\"nonzero\" fill-opacity=\"1\" /><path clip-path=\"url(#clip140)\" d=\"M2188.47 1147.63 Q2184.85 1147.63 2183.03 1151.19 Q2181.22 1154.73 2181.22 1161.86 Q2181.22 1168.97 2183.03 1172.53 Q2184.85 1176.07 2188.47 1176.07 Q2192.1 1176.07 2193.91 1172.53 Q2195.73 1168.97 2195.73 1161.86 Q2195.73 1154.73 2193.91 1151.19 Q2192.1 1147.63 2188.47 1147.63 M2188.47 1143.92 Q2194.28 1143.92 2197.33 1148.53 Q2200.41 1153.11 2200.41 1161.86 Q2200.41 1170.59 2197.33 1175.19 Q2194.28 1179.78 2188.47 1179.78 Q2182.66 1179.78 2179.58 1175.19 Q2176.52 1170.59 2176.52 1161.86 Q2176.52 1153.11 2179.58 1148.53 Q2182.66 1143.92 2188.47 1143.92 Z\" fill=\"#000000\" fill-rule=\"nonzero\" fill-opacity=\"1\" /><polyline clip-path=\"url(#clip140)\" style=\"stroke:#e73e3e; stroke-linecap:round; stroke-linejoin:round; stroke-width:4; stroke-opacity:1; fill:none\" points=\"1934.16,1213.67 2066.3,1213.67 \"/>\n",
       "<path clip-path=\"url(#clip140)\" d=\"M2103.51 1209 Q2102.79 1208.59 2101.94 1208.4 Q2101.1 1208.19 2100.09 1208.19 Q2096.48 1208.19 2094.53 1210.55 Q2092.61 1212.89 2092.61 1217.29 L2092.61 1230.95 L2088.33 1230.95 L2088.33 1205.02 L2092.61 1205.02 L2092.61 1209.05 Q2093.95 1206.69 2096.1 1205.55 Q2098.26 1204.4 2101.34 1204.4 Q2101.78 1204.4 2102.31 1204.47 Q2102.84 1204.51 2103.49 1204.63 L2103.51 1209 Z\" fill=\"#000000\" fill-rule=\"nonzero\" fill-opacity=\"1\" /><path clip-path=\"url(#clip140)\" d=\"M2108.54 1209.42 L2138.21 1209.42 L2138.21 1213.31 L2108.54 1213.31 L2108.54 1209.42 M2108.54 1218.86 L2138.21 1218.86 L2138.21 1222.8 L2108.54 1222.8 L2108.54 1218.86 Z\" fill=\"#000000\" fill-rule=\"nonzero\" fill-opacity=\"1\" /><path clip-path=\"url(#clip140)\" d=\"M2161.15 1200.46 L2149.35 1218.91 L2161.15 1218.91 L2161.15 1200.46 M2159.92 1196.39 L2165.8 1196.39 L2165.8 1218.91 L2170.73 1218.91 L2170.73 1222.8 L2165.8 1222.8 L2165.8 1230.95 L2161.15 1230.95 L2161.15 1222.8 L2145.55 1222.8 L2145.55 1218.28 L2159.92 1196.39 Z\" fill=\"#000000\" fill-rule=\"nonzero\" fill-opacity=\"1\" /><path clip-path=\"url(#clip140)\" d=\"M2188.47 1199.47 Q2184.85 1199.47 2183.03 1203.03 Q2181.22 1206.57 2181.22 1213.7 Q2181.22 1220.81 2183.03 1224.37 Q2184.85 1227.91 2188.47 1227.91 Q2192.1 1227.91 2193.91 1224.37 Q2195.73 1220.81 2195.73 1213.7 Q2195.73 1206.57 2193.91 1203.03 Q2192.1 1199.47 2188.47 1199.47 M2188.47 1195.76 Q2194.28 1195.76 2197.33 1200.37 Q2200.41 1204.95 2200.41 1213.7 Q2200.41 1222.43 2197.33 1227.03 Q2194.28 1231.62 2188.47 1231.62 Q2182.66 1231.62 2179.58 1227.03 Q2176.52 1222.43 2176.52 1213.7 Q2176.52 1204.95 2179.58 1200.37 Q2182.66 1195.76 2188.47 1195.76 Z\" fill=\"#000000\" fill-rule=\"nonzero\" fill-opacity=\"1\" /><polyline clip-path=\"url(#clip140)\" style=\"stroke:#ee5740; stroke-linecap:round; stroke-linejoin:round; stroke-width:4; stroke-opacity:1; fill:none\" points=\"1934.16,1265.51 2066.3,1265.51 \"/>\n",
       "<path clip-path=\"url(#clip140)\" d=\"M2103.51 1260.84 Q2102.79 1260.43 2101.94 1260.24 Q2101.1 1260.03 2100.09 1260.03 Q2096.48 1260.03 2094.53 1262.39 Q2092.61 1264.73 2092.61 1269.13 L2092.61 1282.79 L2088.33 1282.79 L2088.33 1256.86 L2092.61 1256.86 L2092.61 1260.89 Q2093.95 1258.53 2096.1 1257.39 Q2098.26 1256.24 2101.34 1256.24 Q2101.78 1256.24 2102.31 1256.31 Q2102.84 1256.35 2103.49 1256.47 L2103.51 1260.84 Z\" fill=\"#000000\" fill-rule=\"nonzero\" fill-opacity=\"1\" /><path clip-path=\"url(#clip140)\" d=\"M2108.54 1261.26 L2138.21 1261.26 L2138.21 1265.15 L2108.54 1265.15 L2108.54 1261.26 M2108.54 1270.7 L2138.21 1270.7 L2138.21 1274.64 L2108.54 1274.64 L2108.54 1270.7 Z\" fill=\"#000000\" fill-rule=\"nonzero\" fill-opacity=\"1\" /><path clip-path=\"url(#clip140)\" d=\"M2148.35 1248.23 L2166.71 1248.23 L2166.71 1252.16 L2152.63 1252.16 L2152.63 1260.63 Q2153.65 1260.29 2154.67 1260.12 Q2155.69 1259.94 2156.71 1259.94 Q2162.49 1259.94 2165.87 1263.11 Q2169.25 1266.28 2169.25 1271.7 Q2169.25 1277.28 2165.78 1280.38 Q2162.31 1283.46 2155.99 1283.46 Q2153.81 1283.46 2151.54 1283.09 Q2149.3 1282.72 2146.89 1281.98 L2146.89 1277.28 Q2148.97 1278.41 2151.2 1278.97 Q2153.42 1279.52 2155.9 1279.52 Q2159.9 1279.52 2162.24 1277.42 Q2164.58 1275.31 2164.58 1271.7 Q2164.58 1268.09 2162.24 1265.98 Q2159.9 1263.87 2155.9 1263.87 Q2154.02 1263.87 2152.15 1264.29 Q2150.29 1264.71 2148.35 1265.59 L2148.35 1248.23 Z\" fill=\"#000000\" fill-rule=\"nonzero\" fill-opacity=\"1\" /><path clip-path=\"url(#clip140)\" d=\"M2188.47 1251.31 Q2184.85 1251.31 2183.03 1254.87 Q2181.22 1258.41 2181.22 1265.54 Q2181.22 1272.65 2183.03 1276.21 Q2184.85 1279.75 2188.47 1279.75 Q2192.1 1279.75 2193.91 1276.21 Q2195.73 1272.65 2195.73 1265.54 Q2195.73 1258.41 2193.91 1254.87 Q2192.1 1251.31 2188.47 1251.31 M2188.47 1247.6 Q2194.28 1247.6 2197.33 1252.21 Q2200.41 1256.79 2200.41 1265.54 Q2200.41 1274.27 2197.33 1278.87 Q2194.28 1283.46 2188.47 1283.46 Q2182.66 1283.46 2179.58 1278.87 Q2176.52 1274.27 2176.52 1265.54 Q2176.52 1256.79 2179.58 1252.21 Q2182.66 1247.6 2188.47 1247.6 Z\" fill=\"#000000\" fill-rule=\"nonzero\" fill-opacity=\"1\" /></svg>\n"
      ]
     },
     "metadata": {},
     "output_type": "display_data"
    }
   ],
   "source": [
    "\n",
    "\n",
    "plot(times,log.(C_r_t_5), label=\"r=5\", left_margin=20px,top_margin = 20px,\n",
    "right_margin=20px, bottom_margin = 20px, framestyle=:box, linecolor=get(ColorSchemes.seaborn_rocket_gradient,0.2))#, ylim=(min_y, 20)) #, ylim=(min_y, 20)\n",
    "#scatter!(times,log.(C_r_t_2), ylim=(min_y, 20))\n",
    "plot!(times,log.(C_r_t_10), label=\"r=10\", linecolor=get(ColorSchemes.seaborn_rocket_gradient,0.3))#, ylim=(min_y, 20)) #!\n",
    "#scatter!(times,log.(C_r_t_4), ylim=(min_y, 20))\n",
    "plot!(times,log.(C_r_t_20), label=\"r=20\", linecolor=get(ColorSchemes.seaborn_rocket_gradient, 0.4))#, ylim=(min_y, 20))\n",
    "#scatter!(times,log.(C_r_t_6), ylim=(min_y, 20))\n",
    "plot!(times,log.(C_r_t_30), label=\"r=30\", linecolor=get(ColorSchemes.seaborn_rocket_gradient, 0.5))#, ylim=(min_y, 20))\n",
    "\n",
    "plot!(times,log.(C_r_t_40), label=\"r=40\", linecolor=get(ColorSchemes.seaborn_rocket_gradient,0.6))#, ylim=(min_y, 20))\n",
    "\n",
    "plot!(times,log.(C_r_t_50), label=\"r=50\", linecolor=get(ColorSchemes.seaborn_rocket_gradient, 0.65))#, ylim=(min_y, 20))\n",
    "\n",
    "xlabel!(\"Time\")\n",
    "ylabel!(\"log(C(r,t))\")\n",
    "# long time steps until time = 3.0\n",
    "# short between time = 3.0 and 5.0\n",
    "# long after time = 5.0"
   ]
  }
 ],
 "metadata": {
  "kernelspec": {
   "display_name": "Julia 1.9.4",
   "language": "julia",
   "name": "julia-1.9"
  },
  "language_info": {
   "file_extension": ".jl",
   "mimetype": "application/julia",
   "name": "julia",
   "version": "1.9.4"
  }
 },
 "nbformat": 4,
 "nbformat_minor": 5
}
