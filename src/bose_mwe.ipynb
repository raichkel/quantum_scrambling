{
 "cells": [
  {
   "cell_type": "code",
   "execution_count": null,
   "metadata": {},
   "outputs": [],
   "source": [
    "using ITensors\n",
    "using ITensorTDVP\n",
    "using Plots\n",
    "using Observers\n",
    "using LinearAlgebra"
   ]
  },
  {
   "cell_type": "code",
   "execution_count": null,
   "metadata": {},
   "outputs": [],
   "source": [
    "N  = 21     # Number of spins\n",
    "J  = 1.0    # ZZ interaction strength\n",
    "hx = 1.05   # X-field \n",
    "hz = 0.5    # Z-field\n",
    "δt = 0.05   # Time-step for evolution\n",
    "T  = 10.0    # Total time\n",
    "χ  = 32     # Max link dimension allowed\n",
    "t = 0.05    # tunneling constant\n",
    "U = 1.0     # on-site repulsion\n",
    "μ = 0.5     # chemical potential"
   ]
  },
  {
   "cell_type": "code",
   "execution_count": null,
   "metadata": {},
   "outputs": [],
   "source": [
    "sitesext = siteinds(\"Boson\",2*N); # Make 2N Bosonic indices defining system + ancilla\n",
    "\n",
    "A = ops(sitesext, [(\"a\", n) for n in 1:(2*N)]);  # Annihilation operator\n",
    "Adag = ops(sitesext, [(\"adag\", n) for n in 1:(2*N)]);  # Creation operator\n",
    "Adag_2 = ops(sitesext, [(\"adag * adag\", n) for n in 1:(2*N)]) \n",
    "Adag_3 = ops(sitesext, [(\"adag * adag * adag\", n) for n in 1:(2*N)])\n",
    ";"
   ]
  },
  {
   "cell_type": "code",
   "execution_count": null,
   "metadata": {},
   "outputs": [],
   "source": [
    "# ITensors doesn't include the identity operator as standard so construct it:\n",
    "Id = Vector{ITensor}(undef,2*N)\n",
    "for i =1:(2*N)\n",
    "    iv = sitesext[i]\n",
    "    ID = ITensor(iv', dag(iv));\n",
    "    for j in 1:ITensors.dim(iv)\n",
    "        ID[iv' => j, iv => j] = 1.0\n",
    "    end\n",
    "    Id[i] = ID\n",
    "end;"
   ]
  },
  {
   "cell_type": "code",
   "execution_count": null,
   "metadata": {},
   "outputs": [],
   "source": [
    "# Construct the identity vacuum state:\n",
    "\n",
    "Ivac = MPS(sitesext, \"0\") # All up spins initial state\n",
    "# 1:2:(2*N) from 1 to 2N in steps of 2\n",
    "# we think Id[n].. does |11>, A[n].. does |00>, Adag[n].. does |22>, Adag_2[n]... does |33> and Adag_3[n].. does |44>\n",
    "gates = [(Id[n]*Id[n+1] + A[n]*A[n+1] + Adag[n]*Adag[n+1] + Adag_2[n]*Adag_2[n+1] + Adag_3[n]*Adag_3[n+1])\n",
    "                                                for n in 1:2:(2*N)]; \n",
    "# Maps |00> => |00> + |11> + |22> + |33> + |44>\n",
    "Ivac = apply(gates, Ivac; cutoff=1e-15); # Note we have no 1/sqrt(2) normalisation"
   ]
  },
  {
   "cell_type": "code",
   "execution_count": null,
   "metadata": {},
   "outputs": [],
   "source": [
    "H_op = OpSum()\n",
    "\n",
    "#################\n",
    "# Bose Hubbard Hamiltonian\n",
    "####################\n",
    "for i=1:2*(N-1)\n",
    "    H_op += (-1)^(i) * t,\"adag\", i, \"a\", i+2 # system and system + 1\n",
    "    H_op += (-1)^(i) * t,\"a\", i, \"adag\", i+2 # system and system + 1\n",
    "    # needs to be -t Σ(b†i bj + bi b†j) so (-1)^(i) as opposed to ^(i-1)\n",
    "end\n",
    "\n",
    "for i=1:2*N\n",
    "    H_op += (-1)^(i-1) * U/2, \"n\",i,\"n\", i\n",
    "    H_op += (-1)^(i) * U/2, \"n\",i # -1 factor\n",
    "    H_op += (-1)^(i) * μ, \"n\", i\n",
    "end \n",
    "\n",
    "# Convert these terms to an MPO\n",
    "HC = MPO(H_op,sitesext);"
   ]
  },
  {
   "cell_type": "code",
   "execution_count": null,
   "metadata": {},
   "outputs": [],
   "source": [
    "# Define observable for scrambling:\n",
    "\n",
    "A_op = OpSum()\n",
    "A_op += 1.0,\"n\",2*floor(Int,N/2+1)-1  # Sx operator in the middle of the system\n",
    "A = MPO(A_op,sitesext);                # Build the MPO from these terms\n",
    "Avec = apply(A, Ivac; cutoff=1e-15);   # Compute |A> = A|I>"
   ]
  },
  {
   "cell_type": "code",
   "execution_count": null,
   "metadata": {},
   "outputs": [],
   "source": [
    "# Define function for computing entanglement entropy\n",
    "\n",
    "function entanglement_entropy(ψ)\n",
    "    # Compute the von Neumann entanglement entropy across each bond of the MPS\n",
    "        N = length(ψ)\n",
    "        SvN = zeros(N)\n",
    "        psi = ψ\n",
    "        for b=1:N\n",
    "            psi = orthogonalize(psi, b)\n",
    "            if b==1\n",
    "                U,S,V = svd(psi[b] , siteind(psi, b))\n",
    "            else\n",
    "                U,S,V = svd(psi[b], (linkind(psi, b-1), siteind(psi, b)))\n",
    "            end\n",
    "            p = diag(S).^2               # Extract square of Schmidt coefficients\n",
    "            p = p ./ sum(p)              # Normalise to a probability dist\n",
    "            SvN[b] = -sum(p .* log2.(p)) # Compute Shannon entropy\n",
    "        end\n",
    "        return SvN\n",
    "    end;"
   ]
  },
  {
   "cell_type": "code",
   "execution_count": null,
   "metadata": {},
   "outputs": [],
   "source": [
    "SvN_init = entanglement_entropy(Avec);"
   ]
  },
  {
   "cell_type": "code",
   "execution_count": null,
   "metadata": {},
   "outputs": [],
   "source": [
    "# Define observer functions for TDVP:\n",
    "\n",
    "function current_time(; current_time, bond, half_sweep)\n",
    "    if bond == 1 && half_sweep == 2\n",
    "      return real(-im*current_time)\n",
    "    end\n",
    "      \n",
    "    return nothing\n",
    "end\n",
    "  \n",
    "function measure_SvN(; psi, bond, half_sweep)\n",
    "    if bond == 1 && half_sweep == 2\n",
    "      return entanglement_entropy(psi)-SvN_init\n",
    "    end\n",
    "    return nothing\n",
    "end;\n",
    "  \n",
    "function measure_linkdim(; psi, bond, half_sweep)\n",
    "    if bond == 1 && half_sweep == 2\n",
    "      return maxlinkdim(psi)\n",
    "    end\n",
    "    return nothing\n",
    "end;"
   ]
  },
  {
   "cell_type": "code",
   "execution_count": null,
   "metadata": {},
   "outputs": [],
   "source": [
    "# Perform TDVP evolution of |A(t)>:\n",
    "\n",
    "obs = Observer(\"times\" => current_time, \"SvN\" => measure_SvN, \"chi\" => measure_linkdim)\n",
    "\n",
    "# d|A(t)>/dt = i HC |A(t)> so |A(t)> = exp(i t HC)|A(0)> \n",
    "\n",
    "ψf = tdvp(HC, im * T, Avec; \n",
    "          time_step = im * δt,\n",
    "          normalize = false, \n",
    "          maxdim = χ,\n",
    "          cutoff = 1e-10,\n",
    "          outputlevel=1,\n",
    "          (observer!)=obs)\n",
    "\n",
    "# Extract results from time-step observations\n",
    "times = obs.times\n",
    "SvN = obs.SvN\n",
    "chi = obs.chi;"
   ]
  },
  {
   "cell_type": "code",
   "execution_count": null,
   "metadata": {},
   "outputs": [],
   "source": [
    "# Plot the entanglement entropy of each bond for system + ancilla:\n",
    "gr() \n",
    "heatmap(1:(2*N), times, reduce(vcat,transpose.(SvN)), c = :seaborn_rocket_gradient)"
   ]
  },
  {
   "cell_type": "code",
   "execution_count": null,
   "metadata": {},
   "outputs": [],
   "source": [
    "using Plots.PlotMeasures\n",
    "# Plot the entanglement entropy for bonds separating system + ancilla pairs:\n",
    "gr()\n",
    "S = reduce(vcat,transpose.(SvN))[:,2:2:(2*N)]\n",
    "heatmap(1:N, times, S, c = :sunset,left_margin=20px, right_margin=20px, top_margin=20px, framestyle=:box)"
   ]
  },
  {
   "cell_type": "code",
   "execution_count": null,
   "metadata": {},
   "outputs": [],
   "source": [
    "# Plot entanglement entropy of bonds between system + ancilla pairs:\n",
    "gr()\n",
    "S = reduce(vcat,transpose.(SvN))[:,1:2:(2*N)]\n",
    "heatmap(1:N, times, S, c = :thermal)"
   ]
  },
  {
   "cell_type": "code",
   "execution_count": null,
   "metadata": {},
   "outputs": [],
   "source": [
    "# Plot the growth in the maximum link dimension with time:\n",
    "plot(times, chi, label=false, linecolor=\"purple\")  "
   ]
  }
 ],
 "metadata": {
  "kernelspec": {
   "display_name": "Julia 1.9.4",
   "language": "julia",
   "name": "julia-1.9"
  },
  "language_info": {
   "file_extension": ".jl",
   "mimetype": "application/julia",
   "name": "julia",
   "version": "1.9.4"
  }
 },
 "nbformat": 4,
 "nbformat_minor": 2
}
