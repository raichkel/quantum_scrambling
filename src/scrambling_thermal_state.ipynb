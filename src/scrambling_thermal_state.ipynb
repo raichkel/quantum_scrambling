{
 "cells": [
  {
   "cell_type": "markdown",
   "id": "7a9816a7",
   "metadata": {},
   "source": [
    "# Scrambling of operators"
   ]
  },
  {
   "cell_type": "code",
   "execution_count": 33,
   "metadata": {},
   "outputs": [],
   "source": [
    "using Pkg\n",
    "Pkg.instantiate()\n",
    "using ITensors\n",
    "using ITensorTDVP\n",
    "using Plots\n",
    "using Observers\n",
    "using LinearAlgebra\n",
    "using Plots.PlotMeasures"
   ]
  },
  {
   "cell_type": "code",
   "execution_count": 34,
   "id": "ff838d60",
   "metadata": {},
   "outputs": [
    {
     "data": {
      "text/plain": [
       "32"
      ]
     },
     "metadata": {},
     "output_type": "display_data"
    }
   ],
   "source": [
    "N  = 21    # Number of spins\n",
    "J  = 1.0    # ZZ interaction strength\n",
    "hx = 1.05   # X-field \n",
    "hz = 0.5    # Z-field\n",
    "δt = 0.05   # Time-step for evolution\n",
    "β = 0.1    # 1/temp\n",
    "δβ = β/200   # temp step\n",
    "T  = 5.0 # Total time\n",
    "χ  = 32   # Max link dimension allowed\n",
    "# hx = 0.0   # X-field \n",
    "# hz = 0.0\n",
    "# Δ = 0.05\n",
    " "
   ]
  },
  {
   "cell_type": "markdown",
   "id": "bdc434ba",
   "metadata": {},
   "source": [
    "## Extended system + ancilla"
   ]
  },
  {
   "cell_type": "code",
   "execution_count": 35,
   "id": "94c04111",
   "metadata": {},
   "outputs": [],
   "source": [
    "sitesext = siteinds(\"S=1/2\",2*N); # Make 2N S=1/2 spin indices defining system + ancilla"
   ]
  },
  {
   "cell_type": "code",
   "execution_count": 36,
   "id": "f20b08ae",
   "metadata": {},
   "outputs": [],
   "source": [
    "# Extract the raising, lowering and identity operators for the extended system:\n",
    "\n",
    "Sp = ops(sitesext, [(\"S+\", n) for n in 1:(2*N)]);  # Raising operators\n",
    "Sm = ops(sitesext, [(\"S-\", n) for n in 1:(2*N)]);  # Lowering operators\n",
    "# ITensors doesn't include the identity operator as standard so construct it:\n",
    "Id = Vector{ITensor}(undef,2*N)\n",
    "for i =1:(2*N)\n",
    "    iv = sitesext[i]\n",
    "    ID = ITensor(iv', dag(iv));\n",
    "    for j in 1:ITensors.dim(iv)\n",
    "        ID[iv' => j, iv => j] = 1.0\n",
    "    end\n",
    "    Id[i] = ID\n",
    "end"
   ]
  },
  {
   "cell_type": "code",
   "execution_count": 37,
   "id": "219f43e6",
   "metadata": {},
   "outputs": [],
   "source": [
    "# Construct the identity vacuum state:\n",
    "\n",
    "Ivac = MPS(sitesext, \"Up\") # All up spins initial state\n",
    "gates = [(Id[n]*Id[n+1] + Sm[n]*Sm[n+1]) for n in 1:2:(2*N)]; # Maps |00> => |00> + |11>\n",
    "Ivac = apply(gates, Ivac; cutoff=1e-15); # Note we have no 1/sqrt(2) normalisation"
   ]
  },
  {
   "cell_type": "code",
   "execution_count": 38,
   "id": "d175d0bb",
   "metadata": {},
   "outputs": [],
   "source": [
    "# Vectorisation approach used here is to stack matrix rows into a column vector.\n",
    "# This means that:\n",
    "# vec(AB) = A ⊗ I vec(B) =  I ⊗ B^T vec(A)\n",
    "# so |i><j| => |i> ⊗ |j>\n",
    "# vec(L A R) = L ⊗ R^T vec(A)\n",
    "\n",
    "# Anticommutator Hamiltonian due to  e^(-βH/2) X_0 e^(-βH/2) operator\n",
    "# as opposed to e^(-iHt) X_0 e^(iHt)\n",
    "\n",
    "# HA = H ⊗ I + I ⊗ H, since H is real and hermitian H = H^T\n",
    "\n",
    "H_op = OpSum()\n",
    "for i=1:2*(N-1)\n",
    "    H_op += J,\"Sz\",i,\"Sz\",i+2\n",
    "end\n",
    "for i=1:2*N\n",
    "    H_op +=  hx,\"Sx\",i\n",
    "    H_op +=  hz,\"Sz\",i\n",
    "end\n",
    "\n",
    "\n",
    "# Convert these terms to an MPO\n",
    "HA = MPO(H_op,sitesext);"
   ]
  },
  {
   "cell_type": "code",
   "execution_count": 39,
   "id": "6587f360",
   "metadata": {
    "tags": []
   },
   "outputs": [],
   "source": [
    "# Define observable for scrambling:\n",
    "A_op = OpSum()\n",
    "A_op += 1.0,\"Sx\",2*floor(Int,N/2+1)-1  # Sx operator in the middle of the system\n",
    "A = MPO(A_op,sitesext);                # Build the MPO from these terms\n",
    "Avec = apply(A, Ivac; cutoff=1e-15);   # Compute |A> = A|I>\n",
    "\n",
    "\n",
    "function local_op(N,sitesext;r) #function used to define local operator to track C(r,t)\n",
    "    # requirer < floor(Int, N/2) \n",
    "    site_index= 2*floor(Int,N/2+1)+2*r-1 #defining site index\n",
    "    Sx_r_system= op(\"Sx\", sitesext, site_index)\n",
    "    Sx_r_ancilla= op(\"Sx\", sitesext, site_index+1)\n",
    "    \n",
    "    return Sx_r_system, Sx_r_ancilla\n",
    "end;\n",
    "\n"
   ]
  },
  {
   "cell_type": "markdown",
   "id": "bde549b3",
   "metadata": {},
   "source": [
    "## Perform TDVP time evolution of the operator"
   ]
  },
  {
   "cell_type": "code",
   "execution_count": 40,
   "id": "70f648dc",
   "metadata": {},
   "outputs": [],
   "source": [
    "# Define function for computing entanglement entropy\n",
    "\n",
    "function entanglement_entropy(ψ)\n",
    "# Compute the von Neumann entanglement entropy across each bond of the MPS\n",
    "    N = length(ψ)\n",
    "    SvN = zeros(N)\n",
    "    psi = ψ\n",
    "    for b=1:N\n",
    "        psi = orthogonalize(psi, b)\n",
    "        if b==1\n",
    "            U,S,V = svd(psi[b] , siteind(psi, b))\n",
    "        else\n",
    "            U,S,V = svd(psi[b], (linkind(psi, b-1), siteind(psi, b)))\n",
    "        end\n",
    "        p = diag(S).^2               # Extract square of Schmidt coefficients\n",
    "        p = p ./ sum(p)              # Normalise to a probability dist\n",
    "        SvN[b] = -sum(p .* log2.(p)) # Compute Shannon entropy\n",
    "    end\n",
    "    return SvN\n",
    "end;\n",
    "\n",
    "# Define function that calulates the commutator \n",
    "function compute_commutator(ψ,Sx_r_system,Sx_r_ancilla)\n",
    "    Sx_a= apply(Sx_r_system,ψ;cutoff=1e-15)\n",
    "    a_Sx= apply(Sx_r_ancilla,ψ;cutoff=1e-15)\n",
    "\n",
    "    return Sx_a - a_Sx\n",
    "end;"
   ]
  },
  {
   "cell_type": "code",
   "execution_count": 41,
   "id": "b6c3eca7",
   "metadata": {},
   "outputs": [],
   "source": [
    "SvN_init = entanglement_entropy(Avec);\n",
    "\n",
    "\n"
   ]
  },
  {
   "cell_type": "markdown",
   "id": "c64a8187",
   "metadata": {},
   "source": [
    "Here $|A>$ displays the entanglement structure of the initial vacuum state."
   ]
  },
  {
   "cell_type": "code",
   "execution_count": 42,
   "id": "972b4564",
   "metadata": {},
   "outputs": [],
   "source": [
    "# Define observer functions for TDVP:\n",
    "\n",
    "function current_time(; current_time, bond, half_sweep)\n",
    "  if bond == 1 && half_sweep == 2\n",
    "    return real(-im*current_time)\n",
    "  end\n",
    "    \n",
    "  return nothing\n",
    "end\n",
    "\n",
    "function measure_SvN(; psi, bond, half_sweep)\n",
    "  if bond == 1 && half_sweep == 2\n",
    "    return (entanglement_entropy(psi)-SvN_init)\n",
    "  end\n",
    "  return nothing\n",
    "end;\n",
    "\n",
    "function measure_linkdim(; psi, bond, half_sweep)\n",
    "  if bond == 1 && half_sweep == 2\n",
    "    return maxlinkdim(psi)\n",
    "  end\n",
    "  return nothing\n",
    "end;\n",
    "\n",
    "function measure_commutator(; psi, bond, half_sweep)\n",
    "  Sx_2_system, Sx_2_ancilla= local_op(N,sitesext;r=2)\n",
    "  Sx_4_system, Sx_4_ancilla= local_op(N,sitesext;r=4)\n",
    "  Sx_6_system, Sx_6_ancilla= local_op(N,sitesext;r=6)\n",
    "  Sx_8_system, Sx_8_ancilla= local_op(N,sitesext;r=8)\n",
    "\n",
    "  if bond == 1 && half_sweep == 2\n",
    "    commutator_2 = compute_commutator(psi, Sx_2_system, Sx_2_ancilla)\n",
    "    commutator_4 = compute_commutator(psi, Sx_4_system, Sx_4_ancilla)\n",
    "    commutator_6 = compute_commutator(psi, Sx_6_system, Sx_6_ancilla)\n",
    "    commutator_8 = compute_commutator(psi, Sx_8_system, Sx_8_ancilla)\n",
    "\n",
    "    return [real.(inner(commutator_2, commutator_2)), real.(inner(commutator_4, commutator_4)),\n",
    "            real.(inner(commutator_6, commutator_6)), real.(inner(commutator_8, commutator_8))]\n",
    "\n",
    "  end\n",
    "  return nothing\n",
    "\n",
    "end;\n",
    "\n",
    ";\n"
   ]
  },
  {
   "cell_type": "code",
   "execution_count": 43,
   "id": "a51fff39",
   "metadata": {},
   "outputs": [],
   "source": [
    "# construct Hamiltonian H\n",
    "sites = siteinds(\"S=1/2\",N)\n",
    "\n",
    "H_op = OpSum()\n",
    "for i=1:N-1\n",
    "    H_op += 1.0,\"Sz\",i,\"Sz\",i+1 # ZZ terms\n",
    "end\n",
    "for i=1:N\n",
    "    H_op +=  hx,\"Sx\",i         # X terms\n",
    "    H_op +=  hz,\"Sz\",i         # Z terms\n",
    "end\n",
    "# Convert these terms to an MPO\n",
    "H = MPO(H_op,sites)\n",
    "\n",
    "H_squared = apply(H,H)\n",
    ";"
   ]
  },
  {
   "cell_type": "code",
   "execution_count": 44,
   "id": "69ebd278",
   "metadata": {},
   "outputs": [
    {
     "data": {
      "text/plain": [
       "2.097152e6"
      ]
     },
     "metadata": {},
     "output_type": "display_data"
    }
   ],
   "source": [
    "trace_H = tr(H)\n",
    "trace_H_squared = tr(H)\n",
    "\n",
    "Z_test = 2^N - β/2 *trace_H + β^2/4 * trace_H_squared"
   ]
  },
  {
   "cell_type": "code",
   "execution_count": 45,
   "id": "58870a6a",
   "metadata": {},
   "outputs": [
    {
     "name": "stdout",
     "output_type": "stream",
     "text": [
      "After sweep 1: maxlinkdim=2 maxerr=7.94E-16 current_time=0.0 time=0.836\n"
     ]
    },
    {
     "name": "stdout",
     "output_type": "stream",
     "text": [
      "After sweep 2: maxlinkdim=2 maxerr=1.02E-15 current_time=0.001 time=0.784\n"
     ]
    },
    {
     "name": "stdout",
     "output_type": "stream",
     "text": [
      "After sweep 3: maxlinkdim=2 maxerr=1.09E-15 current_time=0.002 time=0.9\n"
     ]
    },
    {
     "name": "stdout",
     "output_type": "stream",
     "text": [
      "After sweep 4: maxlinkdim=2 maxerr=1.02E-15 current_time=0.002 time=0.972\n"
     ]
    },
    {
     "name": "stdout",
     "output_type": "stream",
     "text": [
      "After sweep 5: maxlinkdim=2 maxerr=1.13E-15 current_time=0.002 time=0.923\n"
     ]
    },
    {
     "name": "stdout",
     "output_type": "stream",
     "text": [
      "After sweep 6: maxlinkdim=2 maxerr=7.88E-16 current_time=0.003 time=0.953\n"
     ]
    },
    {
     "name": "stdout",
     "output_type": "stream",
     "text": [
      "After sweep 7: maxlinkdim=2 maxerr=7.77E-16 current_time=0.004 time=1.034\n"
     ]
    },
    {
     "name": "stdout",
     "output_type": "stream",
     "text": [
      "After sweep "
     ]
    },
    {
     "name": "stdout",
     "output_type": "stream",
     "text": [
      "8: maxlinkdim=2 maxerr=9.99E-16 current_time=0.004 time=1.375\n"
     ]
    },
    {
     "name": "stdout",
     "output_type": "stream",
     "text": [
      "After sweep 9: maxlinkdim=2 maxerr=8.87E-16 current_time=0.005 time=1.025\n"
     ]
    },
    {
     "name": "stdout",
     "output_type": "stream",
     "text": [
      "After sweep 10: maxlinkdim=2 maxerr=3.32E-16 current_time=0.005 time=0.982\n"
     ]
    },
    {
     "name": "stdout",
     "output_type": "stream",
     "text": [
      "After sweep 11: maxlinkdim=2 maxerr=4.43E-16 current_time=0.006 time=1.09\n"
     ]
    },
    {
     "name": "stdout",
     "output_type": "stream",
     "text": [
      "After sweep 12: maxlinkdim=2 maxerr=9.06E-16 current_time=0.006 time=0.995\n"
     ]
    },
    {
     "name": "stdout",
     "output_type": "stream",
     "text": [
      "After sweep 13: maxlinkdim=2 maxerr=7.79E-16 current_time=0.007 time=1.142\n"
     ]
    },
    {
     "name": "stdout",
     "output_type": "stream",
     "text": [
      "After sweep 14: maxlinkdim=2 maxerr=8.02E-16 current_time=0.007 time=1.3\n"
     ]
    },
    {
     "name": "stdout",
     "output_type": "stream",
     "text": [
      "After sweep 15: maxlinkdim=2 maxerr=1.12E-15 current_time=0.008 time=0.878\n"
     ]
    },
    {
     "name": "stdout",
     "output_type": "stream",
     "text": [
      "After sweep 16: maxlinkdim=2 maxerr=8.84E-16 current_time=0.008 time=1.035\n"
     ]
    },
    {
     "name": "stdout",
     "output_type": "stream",
     "text": [
      "After sweep 17: maxlinkdim=2 maxerr=5.52E-16 current_time=0.009 time=0.956\n"
     ]
    },
    {
     "name": "stdout",
     "output_type": "stream",
     "text": [
      "After sweep 18: maxlinkdim=2 maxerr=6.63E-16 current_time=0.009 time=0.909\n"
     ]
    },
    {
     "name": "stdout",
     "output_type": "stream",
     "text": [
      "After sweep 19: maxlinkdim=2 maxerr=5.52E-16 current_time=0.01 time=0.829\n"
     ]
    },
    {
     "name": "stdout",
     "output_type": "stream",
     "text": [
      "After sweep 20: maxlinkdim=2 maxerr=6.62E-16 current_time=0.01 time=0.925\n"
     ]
    },
    {
     "name": "stdout",
     "output_type": "stream",
     "text": [
      "After sweep 21: maxlinkdim=2 maxerr=6.61E-16 current_time=0.011 time=0.864\n"
     ]
    },
    {
     "name": "stdout",
     "output_type": "stream",
     "text": [
      "After sweep 22: maxlinkdim=2 maxerr=6.61E-16 current_time=0.011 time=0.938\n"
     ]
    },
    {
     "name": "stdout",
     "output_type": "stream",
     "text": [
      "After sweep 23: maxlinkdim=2 maxerr=7.70E-16 current_time=0.012 time=0.965\n"
     ]
    },
    {
     "name": "stdout",
     "output_type": "stream",
     "text": [
      "After sweep 24: maxlinkdim=2 maxerr=9.90E-16 current_time=0.012 time=1.108\n"
     ]
    },
    {
     "name": "stdout",
     "output_type": "stream",
     "text": [
      "After sweep 25: maxlinkdim=2 maxerr=8.73E-16 current_time=0.013 time=1.114\n"
     ]
    },
    {
     "name": "stdout",
     "output_type": "stream",
     "text": [
      "After sweep 26: maxlinkdim=2 maxerr=1.12E-15 current_time=0.013 time=1.043\n"
     ]
    },
    {
     "name": "stdout",
     "output_type": "stream",
     "text": [
      "After sweep 27: maxlinkdim=2 maxerr=9.87E-16 current_time=0.014 time=1.042\n"
     ]
    },
    {
     "name": "stdout",
     "output_type": "stream",
     "text": [
      "After sweep 28: maxlinkdim=2 maxerr=1.21E-15 current_time=0.014 time=1.37\n"
     ]
    },
    {
     "name": "stdout",
     "output_type": "stream",
     "text": [
      "After sweep 29: maxlinkdim=2 maxerr=1.31E-15 current_time=0.015 time=1.504\n"
     ]
    },
    {
     "name": "stdout",
     "output_type": "stream",
     "text": [
      "After sweep 30: maxlinkdim=2 maxerr=1.31E-15 current_time=0.015 time=1.361\n"
     ]
    },
    {
     "name": "stdout",
     "output_type": "stream",
     "text": [
      "After sweep 31: maxlinkdim=2 maxerr=1.42E-15 current_time=0.016 time=1.651\n"
     ]
    },
    {
     "name": "stdout",
     "output_type": "stream",
     "text": [
      "After sweep 32: maxlinkdim=2 maxerr=1.64E-15 current_time=0.016 time=1.59\n"
     ]
    },
    {
     "name": "stdout",
     "output_type": "stream",
     "text": [
      "After sweep 33: maxlinkdim=2 maxerr=1.74E-15 current_time=0.017 time=1.533\n"
     ]
    },
    {
     "name": "stdout",
     "output_type": "stream",
     "text": [
      "After sweep 34: maxlinkdim=2 maxerr=1.94E-15 current_time=0.017 time=2.085\n"
     ]
    },
    {
     "name": "stdout",
     "output_type": "stream",
     "text": [
      "After sweep 35: maxlinkdim=2 maxerr=2.07E-15 current_time=0.018 time=1.53\n"
     ]
    },
    {
     "name": "stdout",
     "output_type": "stream",
     "text": [
      "After sweep 36: maxlinkdim=2 maxerr=2.28E-15 current_time=0.018 time=1.025\n"
     ]
    },
    {
     "name": "stdout",
     "output_type": "stream",
     "text": [
      "After sweep 37: maxlinkdim=2 maxerr=2.50E-15 current_time=0.019 time=1.237\n"
     ]
    },
    {
     "name": "stdout",
     "output_type": "stream",
     "text": [
      "After sweep 38: maxlinkdim=2 maxerr=2.71E-15 current_time=0.019 time=0.961\n"
     ]
    },
    {
     "name": "stdout",
     "output_type": "stream",
     "text": [
      "After sweep 39: maxlinkdim=2 maxerr=2.86E-15 current_time=0.02 time=1.026\n"
     ]
    },
    {
     "name": "stdout",
     "output_type": "stream",
     "text": [
      "After sweep 40: maxlinkdim=2 maxerr=3.18E-15 current_time=0.02 time=1.003\n"
     ]
    },
    {
     "name": "stdout",
     "output_type": "stream",
     "text": [
      "After sweep 41: maxlinkdim=2 maxerr=3.59E-15 current_time=0.021 time=0.924\n"
     ]
    },
    {
     "name": "stdout",
     "output_type": "stream",
     "text": [
      "After sweep 42: maxlinkdim=2 maxerr=3.83E-15 current_time=0.021 time=0.918\n"
     ]
    },
    {
     "name": "stdout",
     "output_type": "stream",
     "text": [
      "After sweep 43: maxlinkdim=2 maxerr=4.23E-15 current_time=0.022 time=0.9\n"
     ]
    },
    {
     "name": "stdout",
     "output_type": "stream",
     "text": [
      "After sweep 44: maxlinkdim=2 maxerr=4.61E-15 current_time=0.022 time=0.929\n"
     ]
    },
    {
     "name": "stdout",
     "output_type": "stream",
     "text": [
      "After sweep 45: maxlinkdim=2 maxerr=4.92E-15 current_time=0.023 time=1.0\n"
     ]
    },
    {
     "name": "stdout",
     "output_type": "stream",
     "text": [
      "After sweep 46: maxlinkdim=2 maxerr=5.37E-15 current_time=0.023 time=0.939\n"
     ]
    },
    {
     "name": "stdout",
     "output_type": "stream",
     "text": [
      "After sweep 47: maxlinkdim=2 maxerr=5.88E-15 current_time=0.024 time=0.816\n"
     ]
    },
    {
     "name": "stdout",
     "output_type": "stream",
     "text": [
      "After sweep 48: maxlinkdim=2 maxerr=6.33E-15 current_time=0.024 time=0.936\n"
     ]
    },
    {
     "name": "stdout",
     "output_type": "stream",
     "text": [
      "After sweep 49: maxlinkdim=2 maxerr=7.05E-15 current_time=0.025 time=1.057\n"
     ]
    },
    {
     "name": "stdout",
     "output_type": "stream",
     "text": [
      "After sweep 50: maxlinkdim=2 maxerr=7.44E-15 current_time=0.025 time=0.957\n"
     ]
    },
    {
     "name": "stdout",
     "output_type": "stream",
     "text": [
      "After sweep 51: maxlinkdim=2 maxerr=8.08E-15 current_time=0.026 time=1.001\n"
     ]
    },
    {
     "name": "stdout",
     "output_type": "stream",
     "text": [
      "After sweep 52: maxlinkdim=2 maxerr=8.62E-15 current_time=0.026 time="
     ]
    },
    {
     "name": "stdout",
     "output_type": "stream",
     "text": [
      "0.847\n"
     ]
    },
    {
     "name": "stdout",
     "output_type": "stream",
     "text": [
      "After sweep 53: maxlinkdim=2 maxerr=9.45E-15 current_time=0.027 time=0.972\n"
     ]
    },
    {
     "name": "stdout",
     "output_type": "stream",
     "text": [
      "After sweep 54: maxlinkdim=2 maxerr=1.01E-14 current_time=0.027 time=0.906\n"
     ]
    },
    {
     "name": "stdout",
     "output_type": "stream",
     "text": [
      "After sweep 55: maxlinkdim=2 maxerr=1.08E-14 current_time=0.028 time=0.961\n"
     ]
    },
    {
     "name": "stdout",
     "output_type": "stream",
     "text": [
      "After sweep 56: maxlinkdim=2 maxerr=1.17E-14 current_time=0.028 time=0.886\n"
     ]
    },
    {
     "name": "stdout",
     "output_type": "stream",
     "text": [
      "After sweep 57: maxlinkdim=2 maxerr=1.26E-14 current_time=0.029 time=0.953\n"
     ]
    },
    {
     "name": "stdout",
     "output_type": "stream",
     "text": [
      "After sweep 58: maxlinkdim=2 maxerr=1.33E-14 current_time=0.029 time=1.187\n"
     ]
    },
    {
     "name": "stdout",
     "output_type": "stream",
     "text": [
      "After sweep 59: maxlinkdim=2 maxerr=1.43E-14 current_time=0.03 time=0.999\n"
     ]
    },
    {
     "name": "stdout",
     "output_type": "stream",
     "text": [
      "After sweep 60: maxlinkdim=2 maxerr=1.53E-14 current_time=0.03 time=0.984\n"
     ]
    },
    {
     "name": "stdout",
     "output_type": "stream",
     "text": [
      "After sweep 61: maxlinkdim=2 maxerr=1.62E-14 current_time=0.031 time=0.85\n"
     ]
    },
    {
     "name": "stdout",
     "output_type": "stream",
     "text": [
      "After sweep 62: maxlinkdim=2 maxerr=1.73E-14 current_time=0.031 time=1.018\n"
     ]
    },
    {
     "name": "stdout",
     "output_type": "stream",
     "text": [
      "After sweep 63: maxlinkdim=2 maxerr=1.86E-14 current_time=0.032 time=0.947\n"
     ]
    },
    {
     "name": "stdout",
     "output_type": "stream",
     "text": [
      "After sweep 64: maxlinkdim=2 maxerr=1.97E-14 current_time=0.032 time=0.884\n"
     ]
    },
    {
     "name": "stdout",
     "output_type": "stream",
     "text": [
      "After sweep 65: maxlinkdim=2 maxerr=2.10E-14 current_time=0.033 time=1.044\n"
     ]
    },
    {
     "name": "stdout",
     "output_type": "stream",
     "text": [
      "After sweep 66: maxlinkdim=2 maxerr=2.23E-14 current_time=0.033 time=1.164\n"
     ]
    },
    {
     "name": "stdout",
     "output_type": "stream",
     "text": [
      "After sweep 67: maxlinkdim=2 maxerr=2.37E-14 current_time=0.034 time=0.951\n"
     ]
    },
    {
     "name": "stdout",
     "output_type": "stream",
     "text": [
      "After sweep 68: maxlinkdim=2 maxerr=2.51E-14 current_time=0.034 time=1.197\n"
     ]
    },
    {
     "name": "stdout",
     "output_type": "stream",
     "text": [
      "After sweep 69: maxlinkdim=2 maxerr=2.66E-14 current_time=0.035 time=1.196\n"
     ]
    },
    {
     "name": "stdout",
     "output_type": "stream",
     "text": [
      "After sweep 70: maxlinkdim=2 maxerr=2.82E-14 current_time=0.035 time=1.516\n"
     ]
    },
    {
     "name": "stdout",
     "output_type": "stream",
     "text": [
      "After sweep 71: maxlinkdim=2 maxerr=2.98E-14 current_time=0.036 time=1.966\n"
     ]
    },
    {
     "name": "stdout",
     "output_type": "stream",
     "text": [
      "After sweep 72: maxlinkdim=2 maxerr=3.14E-14 current_time=0.036 time=1.757\n"
     ]
    },
    {
     "name": "stdout",
     "output_type": "stream",
     "text": [
      "After sweep 73: maxlinkdim=2 maxerr=3.32E-14 current_time=0.037 time=1.248\n"
     ]
    },
    {
     "name": "stdout",
     "output_type": "stream",
     "text": [
      "After sweep 74: maxlinkdim=2 maxerr=3.52E-14 current_time=0.037 time=1.026\n"
     ]
    },
    {
     "name": "stdout",
     "output_type": "stream",
     "text": [
      "After sweep 75: maxlinkdim=2 maxerr=3.70E-14 current_time=0.038 time=1.223\n"
     ]
    },
    {
     "name": "stdout",
     "output_type": "stream",
     "text": [
      "After sweep 76: maxlinkdim=2 maxerr=3.90E-14 current_time=0.038 time=1.221\n"
     ]
    },
    {
     "name": "stdout",
     "output_type": "stream",
     "text": [
      "After sweep 77: maxlinkdim=2 maxerr=4.11E-14 current_time=0.039 time=1.412\n"
     ]
    },
    {
     "name": "stdout",
     "output_type": "stream",
     "text": [
      "After sweep 78: maxlinkdim=2 maxerr=4.32E-14 current_time=0.039 time=1.172\n"
     ]
    },
    {
     "name": "stdout",
     "output_type": "stream",
     "text": [
      "After sweep 79: maxlinkdim=2 maxerr=4.54E-14 current_time=0.04 time=1.288\n"
     ]
    },
    {
     "name": "stdout",
     "output_type": "stream",
     "text": [
      "After sweep 80: maxlinkdim=2 maxerr=4.80E-14 current_time=0.04 time=1.035\n"
     ]
    },
    {
     "name": "stdout",
     "output_type": "stream",
     "text": [
      "After sweep 81: maxlinkdim=2 maxerr=5.02E-14 current_time=0.041 time=0.897\n"
     ]
    },
    {
     "name": "stdout",
     "output_type": "stream",
     "text": [
      "After sweep 82: maxlinkdim=2 maxerr=5.27E-14 current_time=0.041 time=0.897\n"
     ]
    },
    {
     "name": "stdout",
     "output_type": "stream",
     "text": [
      "After sweep 83: maxlinkdim=2 maxerr=5.52E-14 current_time=0.042 time=0.779\n"
     ]
    },
    {
     "name": "stdout",
     "output_type": "stream",
     "text": [
      "After sweep 84: maxlinkdim=2 maxerr=5.81E-14 current_time=0.042 time=0.803\n"
     ]
    },
    {
     "name": "stdout",
     "output_type": "stream",
     "text": [
      "After sweep 85: maxlinkdim=2 maxerr=6.10E-14 current_time=0.043 time=0.658\n"
     ]
    },
    {
     "name": "stdout",
     "output_type": "stream",
     "text": [
      "After sweep 86: maxlinkdim=2 maxerr=6.38E-14 current_time=0.043 time=0.814\n"
     ]
    },
    {
     "name": "stdout",
     "output_type": "stream",
     "text": [
      "After sweep 87: maxlinkdim=2 maxerr=6.67E-14 current_time=0.044 time=0.798\n"
     ]
    },
    {
     "name": "stdout",
     "output_type": "stream",
     "text": [
      "After sweep 88: maxlinkdim=2 maxerr=6.98E-14 current_time=0.044 time=0.698\n"
     ]
    },
    {
     "name": "stdout",
     "output_type": "stream",
     "text": [
      "After sweep 89: maxlinkdim=2 maxerr=7.30E-14 current_time=0.045 time=0.767\n"
     ]
    },
    {
     "name": "stdout",
     "output_type": "stream",
     "text": [
      "After sweep 90: maxlinkdim=2 maxerr=7.63E-14 current_time=0.045 time=0.75\n"
     ]
    },
    {
     "name": "stdout",
     "output_type": "stream",
     "text": [
      "After sweep 91: maxlinkdim=2 maxerr=7.97E-14 current_time=0.046 time=0.763\n"
     ]
    },
    {
     "name": "stdout",
     "output_type": "stream",
     "text": [
      "After sweep 92: maxlinkdim=2 maxerr=8.32E-14 current_time=0.046 time=0.804\n"
     ]
    },
    {
     "name": "stdout",
     "output_type": "stream",
     "text": [
      "After sweep 93: maxlinkdim=2 maxerr=8.68E-14 current_time=0.047 time=0.988\n"
     ]
    },
    {
     "name": "stdout",
     "output_type": "stream",
     "text": [
      "After sweep 94: maxlinkdim=2 maxerr=9.08E-14 current_time=0.047 time=0.828\n"
     ]
    },
    {
     "name": "stdout",
     "output_type": "stream",
     "text": [
      "After sweep 95: maxlinkdim=2 maxerr=9.48E-14 current_time=0.048 time=0.854\n"
     ]
    },
    {
     "name": "stdout",
     "output_type": "stream",
     "text": [
      "After sweep 96: maxlinkdim=2 maxerr=9.87E-14 current_time=0.048 time=0.832\n"
     ]
    },
    {
     "name": "stdout",
     "output_type": "stream",
     "text": [
      "After sweep 97: maxlinkdim=2 maxerr=1.03E-13 current_time=0.049 time=0.891\n"
     ]
    },
    {
     "name": "stdout",
     "output_type": "stream",
     "text": [
      "After sweep 98: maxlinkdim=2 maxerr=1.07E-13"
     ]
    },
    {
     "name": "stdout",
     "output_type": "stream",
     "text": [
      " current_time=0.049 time=1.033\n",
      "After sweep 99: maxlinkdim=2 maxerr=1.12E-13 current_time=0.05 time=0.853\n"
     ]
    },
    {
     "name": "stdout",
     "output_type": "stream",
     "text": [
      "After sweep 100: maxlinkdim=2 maxerr=1.16E-13 current_time=0.05 time=0.989\n"
     ]
    }
   ],
   "source": [
    "# Perform imaginary time evolution on Ivac\n",
    "\n",
    "\n",
    "\n",
    "# d|A(t)>/dt = i HC |A(t)> so |A(t)> = exp(i t HC)|A(0)> \n",
    "ψ_temp = tdvp(HA, β/2, Ivac; \n",
    "          time_step = δβ,\n",
    "          normalize = false,\n",
    "          maxdim = χ,\n",
    "          cutoff = 1e-10,\n",
    "          outputlevel=1)\n",
    "\n",
    "# this will be the thermal state, imaginary time evolved to β/2\n",
    "# Z = tr(ψ_temp)\n",
    "Z = inner(Ivac, ψ_temp) \n",
    "\n",
    "ρ_β = ψ_temp/Z\n",
    ";\n"
   ]
  },
  {
   "cell_type": "code",
   "execution_count": 46,
   "id": "b7de82fa",
   "metadata": {},
   "outputs": [
    {
     "data": {
      "text/plain": [
       "1.0"
      ]
     },
     "metadata": {},
     "output_type": "display_data"
    }
   ],
   "source": [
    "A_op = OpSum()\n",
    "A_op += 1.0,\"Sx\",2*floor(Int,N/2+1)-1  # Sx operator in the middle of the system\n",
    "A = MPO(A_op,sitesext);                # Build the MPO from these terms\n",
    "Avec = apply(A, ρ_β; cutoff=1e-15)\n",
    "tr_ρ = inner(Ivac,ρ_β)\n",
    "#inner(ρ_β, ρ_β) * 2^N\n"
   ]
  },
  {
   "cell_type": "code",
   "execution_count": 63,
   "id": "0b0c7514",
   "metadata": {},
   "outputs": [
    {
     "data": {
      "image/png": "[encoded data removed]",
      "image/svg+xml": [
       "<?xml version=\"1.0\" encoding=\"utf-8\"?>\n",
       "<svg xmlns=\"http://www.w3.org/2000/svg\" xmlns:xlink=\"http://www.w3.org/1999/xlink\" width=\"600\" height=\"400\" viewBox=\"0 0 2400 1600\">\n",
       "<defs>\n",
       "  <clipPath id=\"clip380\">\n",
       "    <rect x=\"0\" y=\"0\" width=\"2400\" height=\"1600\"/>\n",
       "  </clipPath>\n",
       "</defs>\n",
       "<path clip-path=\"url(#clip380)\" d=\"M0 1600 L2400 1600 L2400 0 L0 0  Z\" fill=\"#ffffff\" fill-rule=\"evenodd\" fill-opacity=\"1\"/>\n",
       "<defs>\n",
       "  <clipPath id=\"clip381\">\n",
       "    <rect x=\"480\" y=\"0\" width=\"1681\" height=\"1600\"/>\n",
       "  </clipPath>\n",
       "</defs>\n",
       "<path clip-path=\"url(#clip380)\" d=\"M186.274 1486.45 L2352.76 1486.45 L2352.76 47.2441 L186.274 47.2441  Z\" fill=\"#ffffff\" fill-rule=\"evenodd\" fill-opacity=\"1\"/>\n",
       "<defs>\n",
       "  <clipPath id=\"clip382\">\n",
       "    <rect x=\"186\" y=\"47\" width=\"2167\" height=\"1440\"/>\n",
       "  </clipPath>\n",
       "</defs>\n",
       "<polyline clip-path=\"url(#clip382)\" style=\"stroke:#000000; stroke-linecap:round; stroke-linejoin:round; stroke-width:2; stroke-opacity:0.1; fill:none\" points=\"197.74,1486.45 197.74,47.2441 \"/>\n",
       "<polyline clip-path=\"url(#clip382)\" style=\"stroke:#000000; stroke-linecap:round; stroke-linejoin:round; stroke-width:2; stroke-opacity:0.1; fill:none\" points=\"696.24,1486.45 696.24,47.2441 \"/>\n",
       "<polyline clip-path=\"url(#clip382)\" style=\"stroke:#000000; stroke-linecap:round; stroke-linejoin:round; stroke-width:2; stroke-opacity:0.1; fill:none\" points=\"1194.74,1486.45 1194.74,47.2441 \"/>\n",
       "<polyline clip-path=\"url(#clip382)\" style=\"stroke:#000000; stroke-linecap:round; stroke-linejoin:round; stroke-width:2; stroke-opacity:0.1; fill:none\" points=\"1693.24,1486.45 1693.24,47.2441 \"/>\n",
       "<polyline clip-path=\"url(#clip382)\" style=\"stroke:#000000; stroke-linecap:round; stroke-linejoin:round; stroke-width:2; stroke-opacity:0.1; fill:none\" points=\"2191.74,1486.45 2191.74,47.2441 \"/>\n",
       "<polyline clip-path=\"url(#clip380)\" style=\"stroke:#000000; stroke-linecap:round; stroke-linejoin:round; stroke-width:4; stroke-opacity:1; fill:none\" points=\"186.274,1486.45 2352.76,1486.45 \"/>\n",
       "<polyline clip-path=\"url(#clip380)\" style=\"stroke:#000000; stroke-linecap:round; stroke-linejoin:round; stroke-width:4; stroke-opacity:1; fill:none\" points=\"197.74,1486.45 197.74,1467.55 \"/>\n",
       "<polyline clip-path=\"url(#clip380)\" style=\"stroke:#000000; stroke-linecap:round; stroke-linejoin:round; stroke-width:4; stroke-opacity:1; fill:none\" points=\"696.24,1486.45 696.24,1467.55 \"/>\n",
       "<polyline clip-path=\"url(#clip380)\" style=\"stroke:#000000; stroke-linecap:round; stroke-linejoin:round; stroke-width:4; stroke-opacity:1; fill:none\" points=\"1194.74,1486.45 1194.74,1467.55 \"/>\n",
       "<polyline clip-path=\"url(#clip380)\" style=\"stroke:#000000; stroke-linecap:round; stroke-linejoin:round; stroke-width:4; stroke-opacity:1; fill:none\" points=\"1693.24,1486.45 1693.24,1467.55 \"/>\n",
       "<polyline clip-path=\"url(#clip380)\" style=\"stroke:#000000; stroke-linecap:round; stroke-linejoin:round; stroke-width:4; stroke-opacity:1; fill:none\" points=\"2191.74,1486.45 2191.74,1467.55 \"/>\n",
       "<path clip-path=\"url(#clip380)\" d=\"M197.74 1517.37 Q194.128 1517.37 192.3 1520.93 Q190.494 1524.47 190.494 1531.6 Q190.494 1538.71 192.3 1542.27 Q194.128 1545.82 197.74 1545.82 Q201.374 1545.82 203.179 1542.27 Q205.008 1538.71 205.008 1531.6 Q205.008 1524.47 203.179 1520.93 Q201.374 1517.37 197.74 1517.37 M197.74 1513.66 Q203.55 1513.66 206.605 1518.27 Q209.684 1522.85 209.684 1531.6 Q209.684 1540.33 206.605 1544.94 Q203.55 1549.52 197.74 1549.52 Q191.929 1549.52 188.851 1544.94 Q185.795 1540.33 185.795 1531.6 Q185.795 1522.85 188.851 1518.27 Q191.929 1513.66 197.74 1513.66 Z\" fill=\"#000000\" fill-rule=\"nonzero\" fill-opacity=\"1\" /><path clip-path=\"url(#clip380)\" d=\"M670.927 1544.91 L678.566 1544.91 L678.566 1518.55 L670.256 1520.21 L670.256 1515.95 L678.52 1514.29 L683.196 1514.29 L683.196 1544.91 L690.835 1544.91 L690.835 1548.85 L670.927 1548.85 L670.927 1544.91 Z\" fill=\"#000000\" fill-rule=\"nonzero\" fill-opacity=\"1\" /><path clip-path=\"url(#clip380)\" d=\"M710.279 1517.37 Q706.668 1517.37 704.839 1520.93 Q703.034 1524.47 703.034 1531.6 Q703.034 1538.71 704.839 1542.27 Q706.668 1545.82 710.279 1545.82 Q713.913 1545.82 715.719 1542.27 Q717.547 1538.71 717.547 1531.6 Q717.547 1524.47 715.719 1520.93 Q713.913 1517.37 710.279 1517.37 M710.279 1513.66 Q716.089 1513.66 719.145 1518.27 Q722.223 1522.85 722.223 1531.6 Q722.223 1540.33 719.145 1544.94 Q716.089 1549.52 710.279 1549.52 Q704.469 1549.52 701.39 1544.94 Q698.335 1540.33 698.335 1531.6 Q698.335 1522.85 701.39 1518.27 Q704.469 1513.66 710.279 1513.66 Z\" fill=\"#000000\" fill-rule=\"nonzero\" fill-opacity=\"1\" /><path clip-path=\"url(#clip380)\" d=\"M1173.51 1544.91 L1189.83 1544.91 L1189.83 1548.85 L1167.89 1548.85 L1167.89 1544.91 Q1170.55 1542.16 1175.13 1537.53 Q1179.74 1532.88 1180.92 1531.53 Q1183.17 1529.01 1184.05 1527.27 Q1184.95 1525.51 1184.95 1523.82 Q1184.95 1521.07 1183 1519.33 Q1181.08 1517.6 1177.98 1517.6 Q1175.78 1517.6 1173.33 1518.36 Q1170.9 1519.13 1168.12 1520.68 L1168.12 1515.95 Q1170.94 1514.82 1173.4 1514.24 Q1175.85 1513.66 1177.89 1513.66 Q1183.26 1513.66 1186.45 1516.35 Q1189.65 1519.03 1189.65 1523.52 Q1189.65 1525.65 1188.84 1527.57 Q1188.05 1529.47 1185.94 1532.07 Q1185.36 1532.74 1182.26 1535.95 Q1179.16 1539.15 1173.51 1544.91 Z\" fill=\"#000000\" fill-rule=\"nonzero\" fill-opacity=\"1\" /><path clip-path=\"url(#clip380)\" d=\"M1209.65 1517.37 Q1206.04 1517.37 1204.21 1520.93 Q1202.4 1524.47 1202.4 1531.6 Q1202.4 1538.71 1204.21 1542.27 Q1206.04 1545.82 1209.65 1545.82 Q1213.28 1545.82 1215.09 1542.27 Q1216.92 1538.71 1216.92 1531.6 Q1216.92 1524.47 1215.09 1520.93 Q1213.28 1517.37 1209.65 1517.37 M1209.65 1513.66 Q1215.46 1513.66 1218.51 1518.27 Q1221.59 1522.85 1221.59 1531.6 Q1221.59 1540.33 1218.51 1544.94 Q1215.46 1549.52 1209.65 1549.52 Q1203.84 1549.52 1200.76 1544.94 Q1197.7 1540.33 1197.7 1531.6 Q1197.7 1522.85 1200.76 1518.27 Q1203.84 1513.66 1209.65 1513.66 Z\" fill=\"#000000\" fill-rule=\"nonzero\" fill-opacity=\"1\" /><path clip-path=\"url(#clip380)\" d=\"M1682.08 1530.21 Q1685.44 1530.93 1687.31 1533.2 Q1689.21 1535.47 1689.21 1538.8 Q1689.21 1543.92 1685.69 1546.72 Q1682.18 1549.52 1675.69 1549.52 Q1673.52 1549.52 1671.2 1549.08 Q1668.91 1548.66 1666.46 1547.81 L1666.46 1543.29 Q1668.4 1544.43 1670.72 1545.01 Q1673.03 1545.58 1675.56 1545.58 Q1679.95 1545.58 1682.24 1543.85 Q1684.56 1542.11 1684.56 1538.8 Q1684.56 1535.75 1682.41 1534.03 Q1680.28 1532.3 1676.46 1532.3 L1672.43 1532.3 L1672.43 1528.45 L1676.64 1528.45 Q1680.09 1528.45 1681.92 1527.09 Q1683.75 1525.7 1683.75 1523.11 Q1683.75 1520.45 1681.85 1519.03 Q1679.98 1517.6 1676.46 1517.6 Q1674.54 1517.6 1672.34 1518.01 Q1670.14 1518.43 1667.5 1519.31 L1667.5 1515.14 Q1670.16 1514.4 1672.48 1514.03 Q1674.81 1513.66 1676.87 1513.66 Q1682.2 1513.66 1685.3 1516.09 Q1688.4 1518.5 1688.4 1522.62 Q1688.4 1525.49 1686.76 1527.48 Q1685.12 1529.45 1682.08 1530.21 Z\" fill=\"#000000\" fill-rule=\"nonzero\" fill-opacity=\"1\" /><path clip-path=\"url(#clip380)\" d=\"M1708.08 1517.37 Q1704.47 1517.37 1702.64 1520.93 Q1700.83 1524.47 1700.83 1531.6 Q1700.83 1538.71 1702.64 1542.27 Q1704.47 1545.82 1708.08 1545.82 Q1711.71 1545.82 1713.52 1542.27 Q1715.35 1538.71 1715.35 1531.6 Q1715.35 1524.47 1713.52 1520.93 Q1711.71 1517.37 1708.08 1517.37 M1708.08 1513.66 Q1713.89 1513.66 1716.94 1518.27 Q1720.02 1522.85 1720.02 1531.6 Q1720.02 1540.33 1716.94 1544.94 Q1713.89 1549.52 1708.08 1549.52 Q1702.27 1549.52 1699.19 1544.94 Q1696.13 1540.33 1696.13 1531.6 Q1696.13 1522.85 1699.19 1518.27 Q1702.27 1513.66 1708.08 1513.66 Z\" fill=\"#000000\" fill-rule=\"nonzero\" fill-opacity=\"1\" /><path clip-path=\"url(#clip380)\" d=\"M2179.91 1518.36 L2168.11 1536.81 L2179.91 1536.81 L2179.91 1518.36 M2178.68 1514.29 L2184.56 1514.29 L2184.56 1536.81 L2189.49 1536.81 L2189.49 1540.7 L2184.56 1540.7 L2184.56 1548.85 L2179.91 1548.85 L2179.91 1540.7 L2164.31 1540.7 L2164.31 1536.19 L2178.68 1514.29 Z\" fill=\"#000000\" fill-rule=\"nonzero\" fill-opacity=\"1\" /><path clip-path=\"url(#clip380)\" d=\"M2207.23 1517.37 Q2203.62 1517.37 2201.79 1520.93 Q2199.98 1524.47 2199.98 1531.6 Q2199.98 1538.71 2201.79 1542.27 Q2203.62 1545.82 2207.23 1545.82 Q2210.86 1545.82 2212.67 1542.27 Q2214.49 1538.71 2214.49 1531.6 Q2214.49 1524.47 2212.67 1520.93 Q2210.86 1517.37 2207.23 1517.37 M2207.23 1513.66 Q2213.04 1513.66 2216.09 1518.27 Q2219.17 1522.85 2219.17 1531.6 Q2219.17 1540.33 2216.09 1544.94 Q2213.04 1549.52 2207.23 1549.52 Q2201.42 1549.52 2198.34 1544.94 Q2195.28 1540.33 2195.28 1531.6 Q2195.28 1522.85 2198.34 1518.27 Q2201.42 1513.66 2207.23 1513.66 Z\" fill=\"#000000\" fill-rule=\"nonzero\" fill-opacity=\"1\" /><polyline clip-path=\"url(#clip382)\" style=\"stroke:#000000; stroke-linecap:round; stroke-linejoin:round; stroke-width:2; stroke-opacity:0.1; fill:none\" points=\"186.274,1445.72 2352.76,1445.72 \"/>\n",
       "<polyline clip-path=\"url(#clip382)\" style=\"stroke:#000000; stroke-linecap:round; stroke-linejoin:round; stroke-width:2; stroke-opacity:0.1; fill:none\" points=\"186.274,1102.9 2352.76,1102.9 \"/>\n",
       "<polyline clip-path=\"url(#clip382)\" style=\"stroke:#000000; stroke-linecap:round; stroke-linejoin:round; stroke-width:2; stroke-opacity:0.1; fill:none\" points=\"186.274,760.08 2352.76,760.08 \"/>\n",
       "<polyline clip-path=\"url(#clip382)\" style=\"stroke:#000000; stroke-linecap:round; stroke-linejoin:round; stroke-width:2; stroke-opacity:0.1; fill:none\" points=\"186.274,417.262 2352.76,417.262 \"/>\n",
       "<polyline clip-path=\"url(#clip382)\" style=\"stroke:#000000; stroke-linecap:round; stroke-linejoin:round; stroke-width:2; stroke-opacity:0.1; fill:none\" points=\"186.274,74.4436 2352.76,74.4436 \"/>\n",
       "<polyline clip-path=\"url(#clip380)\" style=\"stroke:#000000; stroke-linecap:round; stroke-linejoin:round; stroke-width:4; stroke-opacity:1; fill:none\" points=\"186.274,1486.45 186.274,47.2441 \"/>\n",
       "<polyline clip-path=\"url(#clip380)\" style=\"stroke:#000000; stroke-linecap:round; stroke-linejoin:round; stroke-width:4; stroke-opacity:1; fill:none\" points=\"186.274,1445.72 205.172,1445.72 \"/>\n",
       "<polyline clip-path=\"url(#clip380)\" style=\"stroke:#000000; stroke-linecap:round; stroke-linejoin:round; stroke-width:4; stroke-opacity:1; fill:none\" points=\"186.274,1102.9 205.172,1102.9 \"/>\n",
       "<polyline clip-path=\"url(#clip380)\" style=\"stroke:#000000; stroke-linecap:round; stroke-linejoin:round; stroke-width:4; stroke-opacity:1; fill:none\" points=\"186.274,760.08 205.172,760.08 \"/>\n",
       "<polyline clip-path=\"url(#clip380)\" style=\"stroke:#000000; stroke-linecap:round; stroke-linejoin:round; stroke-width:4; stroke-opacity:1; fill:none\" points=\"186.274,417.262 205.172,417.262 \"/>\n",
       "<polyline clip-path=\"url(#clip380)\" style=\"stroke:#000000; stroke-linecap:round; stroke-linejoin:round; stroke-width:4; stroke-opacity:1; fill:none\" points=\"186.274,74.4436 205.172,74.4436 \"/>\n",
       "<path clip-path=\"url(#clip380)\" d=\"M62.9365 1431.51 Q59.3254 1431.51 57.4967 1435.08 Q55.6912 1438.62 55.6912 1445.75 Q55.6912 1452.86 57.4967 1456.42 Q59.3254 1459.96 62.9365 1459.96 Q66.5707 1459.96 68.3763 1456.42 Q70.205 1452.86 70.205 1445.75 Q70.205 1438.62 68.3763 1435.08 Q66.5707 1431.51 62.9365 1431.51 M62.9365 1427.81 Q68.7467 1427.81 71.8022 1432.42 Q74.8809 1437 74.8809 1445.75 Q74.8809 1454.48 71.8022 1459.08 Q68.7467 1463.67 62.9365 1463.67 Q57.1264 1463.67 54.0477 1459.08 Q50.9921 1454.48 50.9921 1445.75 Q50.9921 1437 54.0477 1432.42 Q57.1264 1427.81 62.9365 1427.81 Z\" fill=\"#000000\" fill-rule=\"nonzero\" fill-opacity=\"1\" /><path clip-path=\"url(#clip380)\" d=\"M83.0984 1457.12 L87.9827 1457.12 L87.9827 1463 L83.0984 1463 L83.0984 1457.12 Z\" fill=\"#000000\" fill-rule=\"nonzero\" fill-opacity=\"1\" /><path clip-path=\"url(#clip380)\" d=\"M108.168 1431.51 Q104.557 1431.51 102.728 1435.08 Q100.922 1438.62 100.922 1445.75 Q100.922 1452.86 102.728 1456.42 Q104.557 1459.96 108.168 1459.96 Q111.802 1459.96 113.608 1456.42 Q115.436 1452.86 115.436 1445.75 Q115.436 1438.62 113.608 1435.08 Q111.802 1431.51 108.168 1431.51 M108.168 1427.81 Q113.978 1427.81 117.033 1432.42 Q120.112 1437 120.112 1445.75 Q120.112 1454.48 117.033 1459.08 Q113.978 1463.67 108.168 1463.67 Q102.358 1463.67 99.2789 1459.08 Q96.2234 1454.48 96.2234 1445.75 Q96.2234 1437 99.2789 1432.42 Q102.358 1427.81 108.168 1427.81 Z\" fill=\"#000000\" fill-rule=\"nonzero\" fill-opacity=\"1\" /><path clip-path=\"url(#clip380)\" d=\"M138.33 1431.51 Q134.719 1431.51 132.89 1435.08 Q131.084 1438.62 131.084 1445.75 Q131.084 1452.86 132.89 1456.42 Q134.719 1459.96 138.33 1459.96 Q141.964 1459.96 143.769 1456.42 Q145.598 1452.86 145.598 1445.75 Q145.598 1438.62 143.769 1435.08 Q141.964 1431.51 138.33 1431.51 M138.33 1427.81 Q144.14 1427.81 147.195 1432.42 Q150.274 1437 150.274 1445.75 Q150.274 1454.48 147.195 1459.08 Q144.14 1463.67 138.33 1463.67 Q132.519 1463.67 129.441 1459.08 Q126.385 1454.48 126.385 1445.75 Q126.385 1437 129.441 1432.42 Q132.519 1427.81 138.33 1427.81 Z\" fill=\"#000000\" fill-rule=\"nonzero\" fill-opacity=\"1\" /><path clip-path=\"url(#clip380)\" d=\"M63.9319 1088.7 Q60.3208 1088.7 58.4921 1092.26 Q56.6865 1095.8 56.6865 1102.93 Q56.6865 1110.04 58.4921 1113.6 Q60.3208 1117.15 63.9319 1117.15 Q67.5661 1117.15 69.3717 1113.6 Q71.2004 1110.04 71.2004 1102.93 Q71.2004 1095.8 69.3717 1092.26 Q67.5661 1088.7 63.9319 1088.7 M63.9319 1084.99 Q69.742 1084.99 72.7976 1089.6 Q75.8763 1094.18 75.8763 1102.93 Q75.8763 1111.66 72.7976 1116.27 Q69.742 1120.85 63.9319 1120.85 Q58.1217 1120.85 55.043 1116.27 Q51.9875 1111.66 51.9875 1102.93 Q51.9875 1094.18 55.043 1089.6 Q58.1217 1084.99 63.9319 1084.99 Z\" fill=\"#000000\" fill-rule=\"nonzero\" fill-opacity=\"1\" /><path clip-path=\"url(#clip380)\" d=\"M84.0938 1114.3 L88.978 1114.3 L88.978 1120.18 L84.0938 1120.18 L84.0938 1114.3 Z\" fill=\"#000000\" fill-rule=\"nonzero\" fill-opacity=\"1\" /><path clip-path=\"url(#clip380)\" d=\"M103.191 1116.24 L119.51 1116.24 L119.51 1120.18 L97.566 1120.18 L97.566 1116.24 Q100.228 1113.49 104.811 1108.86 Q109.418 1104.21 110.598 1102.86 Q112.844 1100.34 113.723 1098.6 Q114.626 1096.84 114.626 1095.15 Q114.626 1092.4 112.682 1090.66 Q110.76 1088.93 107.658 1088.93 Q105.459 1088.93 103.006 1089.69 Q100.575 1090.46 97.7974 1092.01 L97.7974 1087.28 Q100.621 1086.15 103.075 1085.57 Q105.529 1084.99 107.566 1084.99 Q112.936 1084.99 116.131 1087.68 Q119.325 1090.36 119.325 1094.85 Q119.325 1096.98 118.515 1098.9 Q117.728 1100.8 115.621 1103.4 Q115.043 1104.07 111.941 1107.28 Q108.839 1110.48 103.191 1116.24 Z\" fill=\"#000000\" fill-rule=\"nonzero\" fill-opacity=\"1\" /><path clip-path=\"url(#clip380)\" d=\"M129.371 1085.62 L147.728 1085.62 L147.728 1089.55 L133.654 1089.55 L133.654 1098.03 Q134.672 1097.68 135.691 1097.52 Q136.709 1097.33 137.728 1097.33 Q143.515 1097.33 146.894 1100.5 Q150.274 1103.67 150.274 1109.09 Q150.274 1114.67 146.802 1117.77 Q143.33 1120.85 137.01 1120.85 Q134.834 1120.85 132.566 1120.48 Q130.32 1120.11 127.913 1119.37 L127.913 1114.67 Q129.996 1115.8 132.219 1116.36 Q134.441 1116.91 136.918 1116.91 Q140.922 1116.91 143.26 1114.81 Q145.598 1112.7 145.598 1109.09 Q145.598 1105.48 143.26 1103.37 Q140.922 1101.27 136.918 1101.27 Q135.043 1101.27 133.168 1101.68 Q131.316 1102.1 129.371 1102.98 L129.371 1085.62 Z\" fill=\"#000000\" fill-rule=\"nonzero\" fill-opacity=\"1\" /><path clip-path=\"url(#clip380)\" d=\"M62.9365 745.878 Q59.3254 745.878 57.4967 749.443 Q55.6912 752.985 55.6912 760.114 Q55.6912 767.221 57.4967 770.786 Q59.3254 774.327 62.9365 774.327 Q66.5707 774.327 68.3763 770.786 Q70.205 767.221 70.205 760.114 Q70.205 752.985 68.3763 749.443 Q66.5707 745.878 62.9365 745.878 M62.9365 742.175 Q68.7467 742.175 71.8022 746.781 Q74.8809 751.364 74.8809 760.114 Q74.8809 768.841 71.8022 773.448 Q68.7467 778.031 62.9365 778.031 Q57.1264 778.031 54.0477 773.448 Q50.9921 768.841 50.9921 760.114 Q50.9921 751.364 54.0477 746.781 Q57.1264 742.175 62.9365 742.175 Z\" fill=\"#000000\" fill-rule=\"nonzero\" fill-opacity=\"1\" /><path clip-path=\"url(#clip380)\" d=\"M83.0984 771.48 L87.9827 771.48 L87.9827 777.36 L83.0984 777.36 L83.0984 771.48 Z\" fill=\"#000000\" fill-rule=\"nonzero\" fill-opacity=\"1\" /><path clip-path=\"url(#clip380)\" d=\"M98.2141 742.8 L116.57 742.8 L116.57 746.735 L102.496 746.735 L102.496 755.207 Q103.515 754.86 104.534 754.698 Q105.552 754.513 106.571 754.513 Q112.358 754.513 115.737 757.684 Q119.117 760.855 119.117 766.272 Q119.117 771.85 115.645 774.952 Q112.172 778.031 105.853 778.031 Q103.677 778.031 101.409 777.661 Q99.1632 777.29 96.7558 776.549 L96.7558 771.85 Q98.8391 772.985 101.061 773.54 Q103.284 774.096 105.76 774.096 Q109.765 774.096 112.103 771.989 Q114.441 769.883 114.441 766.272 Q114.441 762.661 112.103 760.554 Q109.765 758.448 105.76 758.448 Q103.885 758.448 102.01 758.864 Q100.159 759.281 98.2141 760.161 L98.2141 742.8 Z\" fill=\"#000000\" fill-rule=\"nonzero\" fill-opacity=\"1\" /><path clip-path=\"url(#clip380)\" d=\"M138.33 745.878 Q134.719 745.878 132.89 749.443 Q131.084 752.985 131.084 760.114 Q131.084 767.221 132.89 770.786 Q134.719 774.327 138.33 774.327 Q141.964 774.327 143.769 770.786 Q145.598 767.221 145.598 760.114 Q145.598 752.985 143.769 749.443 Q141.964 745.878 138.33 745.878 M138.33 742.175 Q144.14 742.175 147.195 746.781 Q150.274 751.364 150.274 760.114 Q150.274 768.841 147.195 773.448 Q144.14 778.031 138.33 778.031 Q132.519 778.031 129.441 773.448 Q126.385 768.841 126.385 760.114 Q126.385 751.364 129.441 746.781 Q132.519 742.175 138.33 742.175 Z\" fill=\"#000000\" fill-rule=\"nonzero\" fill-opacity=\"1\" /><path clip-path=\"url(#clip380)\" d=\"M63.9319 403.06 Q60.3208 403.06 58.4921 406.625 Q56.6865 410.167 56.6865 417.296 Q56.6865 424.403 58.4921 427.968 Q60.3208 431.509 63.9319 431.509 Q67.5661 431.509 69.3717 427.968 Q71.2004 424.403 71.2004 417.296 Q71.2004 410.167 69.3717 406.625 Q67.5661 403.06 63.9319 403.06 M63.9319 399.357 Q69.742 399.357 72.7976 403.963 Q75.8763 408.546 75.8763 417.296 Q75.8763 426.023 72.7976 430.63 Q69.742 435.213 63.9319 435.213 Q58.1217 435.213 55.043 430.63 Q51.9875 426.023 51.9875 417.296 Q51.9875 408.546 55.043 403.963 Q58.1217 399.357 63.9319 399.357 Z\" fill=\"#000000\" fill-rule=\"nonzero\" fill-opacity=\"1\" /><path clip-path=\"url(#clip380)\" d=\"M84.0938 428.662 L88.978 428.662 L88.978 434.542 L84.0938 434.542 L84.0938 428.662 Z\" fill=\"#000000\" fill-rule=\"nonzero\" fill-opacity=\"1\" /><path clip-path=\"url(#clip380)\" d=\"M97.9826 399.982 L120.205 399.982 L120.205 401.972 L107.658 434.542 L102.774 434.542 L114.58 403.917 L97.9826 403.917 L97.9826 399.982 Z\" fill=\"#000000\" fill-rule=\"nonzero\" fill-opacity=\"1\" /><path clip-path=\"url(#clip380)\" d=\"M129.371 399.982 L147.728 399.982 L147.728 403.917 L133.654 403.917 L133.654 412.389 Q134.672 412.042 135.691 411.88 Q136.709 411.695 137.728 411.695 Q143.515 411.695 146.894 414.866 Q150.274 418.037 150.274 423.454 Q150.274 429.032 146.802 432.134 Q143.33 435.213 137.01 435.213 Q134.834 435.213 132.566 434.843 Q130.32 434.472 127.913 433.731 L127.913 429.032 Q129.996 430.167 132.219 430.722 Q134.441 431.278 136.918 431.278 Q140.922 431.278 143.26 429.171 Q145.598 427.065 145.598 423.454 Q145.598 419.843 143.26 417.736 Q140.922 415.63 136.918 415.63 Q135.043 415.63 133.168 416.046 Q131.316 416.463 129.371 417.343 L129.371 399.982 Z\" fill=\"#000000\" fill-rule=\"nonzero\" fill-opacity=\"1\" /><path clip-path=\"url(#clip380)\" d=\"M53.7467 87.7884 L61.3856 87.7884 L61.3856 61.4228 L53.0754 63.0895 L53.0754 58.8302 L61.3393 57.1636 L66.0152 57.1636 L66.0152 87.7884 L73.654 87.7884 L73.654 91.7236 L53.7467 91.7236 L53.7467 87.7884 Z\" fill=\"#000000\" fill-rule=\"nonzero\" fill-opacity=\"1\" /><path clip-path=\"url(#clip380)\" d=\"M83.0984 85.844 L87.9827 85.844 L87.9827 91.7236 L83.0984 91.7236 L83.0984 85.844 Z\" fill=\"#000000\" fill-rule=\"nonzero\" fill-opacity=\"1\" /><path clip-path=\"url(#clip380)\" d=\"M108.168 60.2423 Q104.557 60.2423 102.728 63.8071 Q100.922 67.3487 100.922 74.4783 Q100.922 81.5848 102.728 85.1495 Q104.557 88.6912 108.168 88.6912 Q111.802 88.6912 113.608 85.1495 Q115.436 81.5848 115.436 74.4783 Q115.436 67.3487 113.608 63.8071 Q111.802 60.2423 108.168 60.2423 M108.168 56.5386 Q113.978 56.5386 117.033 61.145 Q120.112 65.7284 120.112 74.4783 Q120.112 83.2051 117.033 87.8116 Q113.978 92.3949 108.168 92.3949 Q102.358 92.3949 99.2789 87.8116 Q96.2234 83.2051 96.2234 74.4783 Q96.2234 65.7284 99.2789 61.145 Q102.358 56.5386 108.168 56.5386 Z\" fill=\"#000000\" fill-rule=\"nonzero\" fill-opacity=\"1\" /><path clip-path=\"url(#clip380)\" d=\"M138.33 60.2423 Q134.719 60.2423 132.89 63.8071 Q131.084 67.3487 131.084 74.4783 Q131.084 81.5848 132.89 85.1495 Q134.719 88.6912 138.33 88.6912 Q141.964 88.6912 143.769 85.1495 Q145.598 81.5848 145.598 74.4783 Q145.598 67.3487 143.769 63.8071 Q141.964 60.2423 138.33 60.2423 M138.33 56.5386 Q144.14 56.5386 147.195 61.145 Q150.274 65.7284 150.274 74.4783 Q150.274 83.2051 147.195 87.8116 Q144.14 92.3949 138.33 92.3949 Q132.519 92.3949 129.441 87.8116 Q126.385 83.2051 126.385 74.4783 Q126.385 65.7284 129.441 61.145 Q132.519 56.5386 138.33 56.5386 Z\" fill=\"#000000\" fill-rule=\"nonzero\" fill-opacity=\"1\" /><polyline clip-path=\"url(#clip382)\" style=\"stroke:#009af9; stroke-linecap:round; stroke-linejoin:round; stroke-width:4; stroke-opacity:1; fill:none\" points=\"247.59,87.9763 297.44,1435.5 347.29,88.2198 397.14,1435.5 446.99,88.2331 496.84,1435.5 546.69,88.2337 596.54,1435.5 646.39,88.2338 696.24,1435.5 746.09,88.2338 795.94,1435.5 845.79,88.2338 895.64,1435.5 945.49,88.2338 995.34,1435.5 1045.19,88.2338 1095.04,1435.5 1144.89,88.2338 1194.74,1435.5 1244.59,88.2338 1294.44,1435.5 1344.29,88.2338 1394.14,1435.5 1443.99,88.2338 1493.84,1435.5 1543.69,88.2338 1593.54,1435.5 1643.39,88.2338 1693.24,1435.5 1743.09,88.2338 1792.94,1435.5 1842.79,88.2338 1892.64,1435.5 1942.49,88.2337 1992.34,1435.5 2042.19,88.2331 2092.04,1435.5 2141.89,88.2198 2191.74,1435.5 2241.59,87.9763 2291.44,1445.72 \"/>\n",
       "<path clip-path=\"url(#clip380)\" d=\"M258.49 1438.47 L527.569 1438.47 L527.569 1334.79 L258.49 1334.79  Z\" fill=\"#ffffff\" fill-rule=\"evenodd\" fill-opacity=\"1\"/>\n",
       "<polyline clip-path=\"url(#clip380)\" style=\"stroke:#000000; stroke-linecap:round; stroke-linejoin:round; stroke-width:4; stroke-opacity:1; fill:none\" points=\"258.49,1438.47 527.569,1438.47 527.569,1334.79 258.49,1334.79 258.49,1438.47 \"/>\n",
       "<polyline clip-path=\"url(#clip380)\" style=\"stroke:#009af9; stroke-linecap:round; stroke-linejoin:round; stroke-width:4; stroke-opacity:1; fill:none\" points=\"282.562,1386.63 426.994,1386.63 \"/>\n",
       "<path clip-path=\"url(#clip380)\" d=\"M464.909 1406.32 Q463.103 1410.95 461.39 1412.36 Q459.677 1413.78 456.807 1413.78 L453.404 1413.78 L453.404 1410.21 L455.904 1410.21 Q457.663 1410.21 458.636 1409.38 Q459.608 1408.54 460.788 1405.44 L461.552 1403.5 L451.066 1377.99 L455.58 1377.99 L463.682 1398.27 L471.784 1377.99 L476.298 1377.99 L464.909 1406.32 Z\" fill=\"#000000\" fill-rule=\"nonzero\" fill-opacity=\"1\" /><path clip-path=\"url(#clip380)\" d=\"M483.589 1399.98 L491.228 1399.98 L491.228 1373.61 L482.918 1375.28 L482.918 1371.02 L491.182 1369.35 L495.858 1369.35 L495.858 1399.98 L503.497 1399.98 L503.497 1403.91 L483.589 1403.91 L483.589 1399.98 Z\" fill=\"#000000\" fill-rule=\"nonzero\" fill-opacity=\"1\" /></svg>\n"
      ],
      "text/html": [
       "<?xml version=\"1.0\" encoding=\"utf-8\"?>\n",
       "<svg xmlns=\"http://www.w3.org/2000/svg\" xmlns:xlink=\"http://www.w3.org/1999/xlink\" width=\"600\" height=\"400\" viewBox=\"0 0 2400 1600\">\n",
       "<defs>\n",
       "  <clipPath id=\"clip430\">\n",
       "    <rect x=\"0\" y=\"0\" width=\"2400\" height=\"1600\"/>\n",
       "  </clipPath>\n",
       "</defs>\n",
       "<path clip-path=\"url(#clip430)\" d=\"M0 1600 L2400 1600 L2400 0 L0 0  Z\" fill=\"#ffffff\" fill-rule=\"evenodd\" fill-opacity=\"1\"/>\n",
       "<defs>\n",
       "  <clipPath id=\"clip431\">\n",
       "    <rect x=\"480\" y=\"0\" width=\"1681\" height=\"1600\"/>\n",
       "  </clipPath>\n",
       "</defs>\n",
       "<path clip-path=\"url(#clip430)\" d=\"M186.274 1486.45 L2352.76 1486.45 L2352.76 47.2441 L186.274 47.2441  Z\" fill=\"#ffffff\" fill-rule=\"evenodd\" fill-opacity=\"1\"/>\n",
       "<defs>\n",
       "  <clipPath id=\"clip432\">\n",
       "    <rect x=\"186\" y=\"47\" width=\"2167\" height=\"1440\"/>\n",
       "  </clipPath>\n",
       "</defs>\n",
       "<polyline clip-path=\"url(#clip432)\" style=\"stroke:#000000; stroke-linecap:round; stroke-linejoin:round; stroke-width:2; stroke-opacity:0.1; fill:none\" points=\"197.74,1486.45 197.74,47.2441 \"/>\n",
       "<polyline clip-path=\"url(#clip432)\" style=\"stroke:#000000; stroke-linecap:round; stroke-linejoin:round; stroke-width:2; stroke-opacity:0.1; fill:none\" points=\"696.24,1486.45 696.24,47.2441 \"/>\n",
       "<polyline clip-path=\"url(#clip432)\" style=\"stroke:#000000; stroke-linecap:round; stroke-linejoin:round; stroke-width:2; stroke-opacity:0.1; fill:none\" points=\"1194.74,1486.45 1194.74,47.2441 \"/>\n",
       "<polyline clip-path=\"url(#clip432)\" style=\"stroke:#000000; stroke-linecap:round; stroke-linejoin:round; stroke-width:2; stroke-opacity:0.1; fill:none\" points=\"1693.24,1486.45 1693.24,47.2441 \"/>\n",
       "<polyline clip-path=\"url(#clip432)\" style=\"stroke:#000000; stroke-linecap:round; stroke-linejoin:round; stroke-width:2; stroke-opacity:0.1; fill:none\" points=\"2191.74,1486.45 2191.74,47.2441 \"/>\n",
       "<polyline clip-path=\"url(#clip430)\" style=\"stroke:#000000; stroke-linecap:round; stroke-linejoin:round; stroke-width:4; stroke-opacity:1; fill:none\" points=\"186.274,1486.45 2352.76,1486.45 \"/>\n",
       "<polyline clip-path=\"url(#clip430)\" style=\"stroke:#000000; stroke-linecap:round; stroke-linejoin:round; stroke-width:4; stroke-opacity:1; fill:none\" points=\"197.74,1486.45 197.74,1467.55 \"/>\n",
       "<polyline clip-path=\"url(#clip430)\" style=\"stroke:#000000; stroke-linecap:round; stroke-linejoin:round; stroke-width:4; stroke-opacity:1; fill:none\" points=\"696.24,1486.45 696.24,1467.55 \"/>\n",
       "<polyline clip-path=\"url(#clip430)\" style=\"stroke:#000000; stroke-linecap:round; stroke-linejoin:round; stroke-width:4; stroke-opacity:1; fill:none\" points=\"1194.74,1486.45 1194.74,1467.55 \"/>\n",
       "<polyline clip-path=\"url(#clip430)\" style=\"stroke:#000000; stroke-linecap:round; stroke-linejoin:round; stroke-width:4; stroke-opacity:1; fill:none\" points=\"1693.24,1486.45 1693.24,1467.55 \"/>\n",
       "<polyline clip-path=\"url(#clip430)\" style=\"stroke:#000000; stroke-linecap:round; stroke-linejoin:round; stroke-width:4; stroke-opacity:1; fill:none\" points=\"2191.74,1486.45 2191.74,1467.55 \"/>\n",
       "<path clip-path=\"url(#clip430)\" d=\"M197.74 1517.37 Q194.128 1517.37 192.3 1520.93 Q190.494 1524.47 190.494 1531.6 Q190.494 1538.71 192.3 1542.27 Q194.128 1545.82 197.74 1545.82 Q201.374 1545.82 203.179 1542.27 Q205.008 1538.71 205.008 1531.6 Q205.008 1524.47 203.179 1520.93 Q201.374 1517.37 197.74 1517.37 M197.74 1513.66 Q203.55 1513.66 206.605 1518.27 Q209.684 1522.85 209.684 1531.6 Q209.684 1540.33 206.605 1544.94 Q203.55 1549.52 197.74 1549.52 Q191.929 1549.52 188.851 1544.94 Q185.795 1540.33 185.795 1531.6 Q185.795 1522.85 188.851 1518.27 Q191.929 1513.66 197.74 1513.66 Z\" fill=\"#000000\" fill-rule=\"nonzero\" fill-opacity=\"1\" /><path clip-path=\"url(#clip430)\" d=\"M670.927 1544.91 L678.566 1544.91 L678.566 1518.55 L670.256 1520.21 L670.256 1515.95 L678.52 1514.29 L683.196 1514.29 L683.196 1544.91 L690.835 1544.91 L690.835 1548.85 L670.927 1548.85 L670.927 1544.91 Z\" fill=\"#000000\" fill-rule=\"nonzero\" fill-opacity=\"1\" /><path clip-path=\"url(#clip430)\" d=\"M710.279 1517.37 Q706.668 1517.37 704.839 1520.93 Q703.034 1524.47 703.034 1531.6 Q703.034 1538.71 704.839 1542.27 Q706.668 1545.82 710.279 1545.82 Q713.913 1545.82 715.719 1542.27 Q717.547 1538.71 717.547 1531.6 Q717.547 1524.47 715.719 1520.93 Q713.913 1517.37 710.279 1517.37 M710.279 1513.66 Q716.089 1513.66 719.145 1518.27 Q722.223 1522.85 722.223 1531.6 Q722.223 1540.33 719.145 1544.94 Q716.089 1549.52 710.279 1549.52 Q704.469 1549.52 701.39 1544.94 Q698.335 1540.33 698.335 1531.6 Q698.335 1522.85 701.39 1518.27 Q704.469 1513.66 710.279 1513.66 Z\" fill=\"#000000\" fill-rule=\"nonzero\" fill-opacity=\"1\" /><path clip-path=\"url(#clip430)\" d=\"M1173.51 1544.91 L1189.83 1544.91 L1189.83 1548.85 L1167.89 1548.85 L1167.89 1544.91 Q1170.55 1542.16 1175.13 1537.53 Q1179.74 1532.88 1180.92 1531.53 Q1183.17 1529.01 1184.05 1527.27 Q1184.95 1525.51 1184.95 1523.82 Q1184.95 1521.07 1183 1519.33 Q1181.08 1517.6 1177.98 1517.6 Q1175.78 1517.6 1173.33 1518.36 Q1170.9 1519.13 1168.12 1520.68 L1168.12 1515.95 Q1170.94 1514.82 1173.4 1514.24 Q1175.85 1513.66 1177.89 1513.66 Q1183.26 1513.66 1186.45 1516.35 Q1189.65 1519.03 1189.65 1523.52 Q1189.65 1525.65 1188.84 1527.57 Q1188.05 1529.47 1185.94 1532.07 Q1185.36 1532.74 1182.26 1535.95 Q1179.16 1539.15 1173.51 1544.91 Z\" fill=\"#000000\" fill-rule=\"nonzero\" fill-opacity=\"1\" /><path clip-path=\"url(#clip430)\" d=\"M1209.65 1517.37 Q1206.04 1517.37 1204.21 1520.93 Q1202.4 1524.47 1202.4 1531.6 Q1202.4 1538.71 1204.21 1542.27 Q1206.04 1545.82 1209.65 1545.82 Q1213.28 1545.82 1215.09 1542.27 Q1216.92 1538.71 1216.92 1531.6 Q1216.92 1524.47 1215.09 1520.93 Q1213.28 1517.37 1209.65 1517.37 M1209.65 1513.66 Q1215.46 1513.66 1218.51 1518.27 Q1221.59 1522.85 1221.59 1531.6 Q1221.59 1540.33 1218.51 1544.94 Q1215.46 1549.52 1209.65 1549.52 Q1203.84 1549.52 1200.76 1544.94 Q1197.7 1540.33 1197.7 1531.6 Q1197.7 1522.85 1200.76 1518.27 Q1203.84 1513.66 1209.65 1513.66 Z\" fill=\"#000000\" fill-rule=\"nonzero\" fill-opacity=\"1\" /><path clip-path=\"url(#clip430)\" d=\"M1682.08 1530.21 Q1685.44 1530.93 1687.31 1533.2 Q1689.21 1535.47 1689.21 1538.8 Q1689.21 1543.92 1685.69 1546.72 Q1682.18 1549.52 1675.69 1549.52 Q1673.52 1549.52 1671.2 1549.08 Q1668.91 1548.66 1666.46 1547.81 L1666.46 1543.29 Q1668.4 1544.43 1670.72 1545.01 Q1673.03 1545.58 1675.56 1545.58 Q1679.95 1545.58 1682.24 1543.85 Q1684.56 1542.11 1684.56 1538.8 Q1684.56 1535.75 1682.41 1534.03 Q1680.28 1532.3 1676.46 1532.3 L1672.43 1532.3 L1672.43 1528.45 L1676.64 1528.45 Q1680.09 1528.45 1681.92 1527.09 Q1683.75 1525.7 1683.75 1523.11 Q1683.75 1520.45 1681.85 1519.03 Q1679.98 1517.6 1676.46 1517.6 Q1674.54 1517.6 1672.34 1518.01 Q1670.14 1518.43 1667.5 1519.31 L1667.5 1515.14 Q1670.16 1514.4 1672.48 1514.03 Q1674.81 1513.66 1676.87 1513.66 Q1682.2 1513.66 1685.3 1516.09 Q1688.4 1518.5 1688.4 1522.62 Q1688.4 1525.49 1686.76 1527.48 Q1685.12 1529.45 1682.08 1530.21 Z\" fill=\"#000000\" fill-rule=\"nonzero\" fill-opacity=\"1\" /><path clip-path=\"url(#clip430)\" d=\"M1708.08 1517.37 Q1704.47 1517.37 1702.64 1520.93 Q1700.83 1524.47 1700.83 1531.6 Q1700.83 1538.71 1702.64 1542.27 Q1704.47 1545.82 1708.08 1545.82 Q1711.71 1545.82 1713.52 1542.27 Q1715.35 1538.71 1715.35 1531.6 Q1715.35 1524.47 1713.52 1520.93 Q1711.71 1517.37 1708.08 1517.37 M1708.08 1513.66 Q1713.89 1513.66 1716.94 1518.27 Q1720.02 1522.85 1720.02 1531.6 Q1720.02 1540.33 1716.94 1544.94 Q1713.89 1549.52 1708.08 1549.52 Q1702.27 1549.52 1699.19 1544.94 Q1696.13 1540.33 1696.13 1531.6 Q1696.13 1522.85 1699.19 1518.27 Q1702.27 1513.66 1708.08 1513.66 Z\" fill=\"#000000\" fill-rule=\"nonzero\" fill-opacity=\"1\" /><path clip-path=\"url(#clip430)\" d=\"M2179.91 1518.36 L2168.11 1536.81 L2179.91 1536.81 L2179.91 1518.36 M2178.68 1514.29 L2184.56 1514.29 L2184.56 1536.81 L2189.49 1536.81 L2189.49 1540.7 L2184.56 1540.7 L2184.56 1548.85 L2179.91 1548.85 L2179.91 1540.7 L2164.31 1540.7 L2164.31 1536.19 L2178.68 1514.29 Z\" fill=\"#000000\" fill-rule=\"nonzero\" fill-opacity=\"1\" /><path clip-path=\"url(#clip430)\" d=\"M2207.23 1517.37 Q2203.62 1517.37 2201.79 1520.93 Q2199.98 1524.47 2199.98 1531.6 Q2199.98 1538.71 2201.79 1542.27 Q2203.62 1545.82 2207.23 1545.82 Q2210.86 1545.82 2212.67 1542.27 Q2214.49 1538.71 2214.49 1531.6 Q2214.49 1524.47 2212.67 1520.93 Q2210.86 1517.37 2207.23 1517.37 M2207.23 1513.66 Q2213.04 1513.66 2216.09 1518.27 Q2219.17 1522.85 2219.17 1531.6 Q2219.17 1540.33 2216.09 1544.94 Q2213.04 1549.52 2207.23 1549.52 Q2201.42 1549.52 2198.34 1544.94 Q2195.28 1540.33 2195.28 1531.6 Q2195.28 1522.85 2198.34 1518.27 Q2201.42 1513.66 2207.23 1513.66 Z\" fill=\"#000000\" fill-rule=\"nonzero\" fill-opacity=\"1\" /><polyline clip-path=\"url(#clip432)\" style=\"stroke:#000000; stroke-linecap:round; stroke-linejoin:round; stroke-width:2; stroke-opacity:0.1; fill:none\" points=\"186.274,1445.72 2352.76,1445.72 \"/>\n",
       "<polyline clip-path=\"url(#clip432)\" style=\"stroke:#000000; stroke-linecap:round; stroke-linejoin:round; stroke-width:2; stroke-opacity:0.1; fill:none\" points=\"186.274,1102.9 2352.76,1102.9 \"/>\n",
       "<polyline clip-path=\"url(#clip432)\" style=\"stroke:#000000; stroke-linecap:round; stroke-linejoin:round; stroke-width:2; stroke-opacity:0.1; fill:none\" points=\"186.274,760.08 2352.76,760.08 \"/>\n",
       "<polyline clip-path=\"url(#clip432)\" style=\"stroke:#000000; stroke-linecap:round; stroke-linejoin:round; stroke-width:2; stroke-opacity:0.1; fill:none\" points=\"186.274,417.262 2352.76,417.262 \"/>\n",
       "<polyline clip-path=\"url(#clip432)\" style=\"stroke:#000000; stroke-linecap:round; stroke-linejoin:round; stroke-width:2; stroke-opacity:0.1; fill:none\" points=\"186.274,74.4436 2352.76,74.4436 \"/>\n",
       "<polyline clip-path=\"url(#clip430)\" style=\"stroke:#000000; stroke-linecap:round; stroke-linejoin:round; stroke-width:4; stroke-opacity:1; fill:none\" points=\"186.274,1486.45 186.274,47.2441 \"/>\n",
       "<polyline clip-path=\"url(#clip430)\" style=\"stroke:#000000; stroke-linecap:round; stroke-linejoin:round; stroke-width:4; stroke-opacity:1; fill:none\" points=\"186.274,1445.72 205.172,1445.72 \"/>\n",
       "<polyline clip-path=\"url(#clip430)\" style=\"stroke:#000000; stroke-linecap:round; stroke-linejoin:round; stroke-width:4; stroke-opacity:1; fill:none\" points=\"186.274,1102.9 205.172,1102.9 \"/>\n",
       "<polyline clip-path=\"url(#clip430)\" style=\"stroke:#000000; stroke-linecap:round; stroke-linejoin:round; stroke-width:4; stroke-opacity:1; fill:none\" points=\"186.274,760.08 205.172,760.08 \"/>\n",
       "<polyline clip-path=\"url(#clip430)\" style=\"stroke:#000000; stroke-linecap:round; stroke-linejoin:round; stroke-width:4; stroke-opacity:1; fill:none\" points=\"186.274,417.262 205.172,417.262 \"/>\n",
       "<polyline clip-path=\"url(#clip430)\" style=\"stroke:#000000; stroke-linecap:round; stroke-linejoin:round; stroke-width:4; stroke-opacity:1; fill:none\" points=\"186.274,74.4436 205.172,74.4436 \"/>\n",
       "<path clip-path=\"url(#clip430)\" d=\"M62.9365 1431.51 Q59.3254 1431.51 57.4967 1435.08 Q55.6912 1438.62 55.6912 1445.75 Q55.6912 1452.86 57.4967 1456.42 Q59.3254 1459.96 62.9365 1459.96 Q66.5707 1459.96 68.3763 1456.42 Q70.205 1452.86 70.205 1445.75 Q70.205 1438.62 68.3763 1435.08 Q66.5707 1431.51 62.9365 1431.51 M62.9365 1427.81 Q68.7467 1427.81 71.8022 1432.42 Q74.8809 1437 74.8809 1445.75 Q74.8809 1454.48 71.8022 1459.08 Q68.7467 1463.67 62.9365 1463.67 Q57.1264 1463.67 54.0477 1459.08 Q50.9921 1454.48 50.9921 1445.75 Q50.9921 1437 54.0477 1432.42 Q57.1264 1427.81 62.9365 1427.81 Z\" fill=\"#000000\" fill-rule=\"nonzero\" fill-opacity=\"1\" /><path clip-path=\"url(#clip430)\" d=\"M83.0984 1457.12 L87.9827 1457.12 L87.9827 1463 L83.0984 1463 L83.0984 1457.12 Z\" fill=\"#000000\" fill-rule=\"nonzero\" fill-opacity=\"1\" /><path clip-path=\"url(#clip430)\" d=\"M108.168 1431.51 Q104.557 1431.51 102.728 1435.08 Q100.922 1438.62 100.922 1445.75 Q100.922 1452.86 102.728 1456.42 Q104.557 1459.96 108.168 1459.96 Q111.802 1459.96 113.608 1456.42 Q115.436 1452.86 115.436 1445.75 Q115.436 1438.62 113.608 1435.08 Q111.802 1431.51 108.168 1431.51 M108.168 1427.81 Q113.978 1427.81 117.033 1432.42 Q120.112 1437 120.112 1445.75 Q120.112 1454.48 117.033 1459.08 Q113.978 1463.67 108.168 1463.67 Q102.358 1463.67 99.2789 1459.08 Q96.2234 1454.48 96.2234 1445.75 Q96.2234 1437 99.2789 1432.42 Q102.358 1427.81 108.168 1427.81 Z\" fill=\"#000000\" fill-rule=\"nonzero\" fill-opacity=\"1\" /><path clip-path=\"url(#clip430)\" d=\"M138.33 1431.51 Q134.719 1431.51 132.89 1435.08 Q131.084 1438.62 131.084 1445.75 Q131.084 1452.86 132.89 1456.42 Q134.719 1459.96 138.33 1459.96 Q141.964 1459.96 143.769 1456.42 Q145.598 1452.86 145.598 1445.75 Q145.598 1438.62 143.769 1435.08 Q141.964 1431.51 138.33 1431.51 M138.33 1427.81 Q144.14 1427.81 147.195 1432.42 Q150.274 1437 150.274 1445.75 Q150.274 1454.48 147.195 1459.08 Q144.14 1463.67 138.33 1463.67 Q132.519 1463.67 129.441 1459.08 Q126.385 1454.48 126.385 1445.75 Q126.385 1437 129.441 1432.42 Q132.519 1427.81 138.33 1427.81 Z\" fill=\"#000000\" fill-rule=\"nonzero\" fill-opacity=\"1\" /><path clip-path=\"url(#clip430)\" d=\"M63.9319 1088.7 Q60.3208 1088.7 58.4921 1092.26 Q56.6865 1095.8 56.6865 1102.93 Q56.6865 1110.04 58.4921 1113.6 Q60.3208 1117.15 63.9319 1117.15 Q67.5661 1117.15 69.3717 1113.6 Q71.2004 1110.04 71.2004 1102.93 Q71.2004 1095.8 69.3717 1092.26 Q67.5661 1088.7 63.9319 1088.7 M63.9319 1084.99 Q69.742 1084.99 72.7976 1089.6 Q75.8763 1094.18 75.8763 1102.93 Q75.8763 1111.66 72.7976 1116.27 Q69.742 1120.85 63.9319 1120.85 Q58.1217 1120.85 55.043 1116.27 Q51.9875 1111.66 51.9875 1102.93 Q51.9875 1094.18 55.043 1089.6 Q58.1217 1084.99 63.9319 1084.99 Z\" fill=\"#000000\" fill-rule=\"nonzero\" fill-opacity=\"1\" /><path clip-path=\"url(#clip430)\" d=\"M84.0938 1114.3 L88.978 1114.3 L88.978 1120.18 L84.0938 1120.18 L84.0938 1114.3 Z\" fill=\"#000000\" fill-rule=\"nonzero\" fill-opacity=\"1\" /><path clip-path=\"url(#clip430)\" d=\"M103.191 1116.24 L119.51 1116.24 L119.51 1120.18 L97.566 1120.18 L97.566 1116.24 Q100.228 1113.49 104.811 1108.86 Q109.418 1104.21 110.598 1102.86 Q112.844 1100.34 113.723 1098.6 Q114.626 1096.84 114.626 1095.15 Q114.626 1092.4 112.682 1090.66 Q110.76 1088.93 107.658 1088.93 Q105.459 1088.93 103.006 1089.69 Q100.575 1090.46 97.7974 1092.01 L97.7974 1087.28 Q100.621 1086.15 103.075 1085.57 Q105.529 1084.99 107.566 1084.99 Q112.936 1084.99 116.131 1087.68 Q119.325 1090.36 119.325 1094.85 Q119.325 1096.98 118.515 1098.9 Q117.728 1100.8 115.621 1103.4 Q115.043 1104.07 111.941 1107.28 Q108.839 1110.48 103.191 1116.24 Z\" fill=\"#000000\" fill-rule=\"nonzero\" fill-opacity=\"1\" /><path clip-path=\"url(#clip430)\" d=\"M129.371 1085.62 L147.728 1085.62 L147.728 1089.55 L133.654 1089.55 L133.654 1098.03 Q134.672 1097.68 135.691 1097.52 Q136.709 1097.33 137.728 1097.33 Q143.515 1097.33 146.894 1100.5 Q150.274 1103.67 150.274 1109.09 Q150.274 1114.67 146.802 1117.77 Q143.33 1120.85 137.01 1120.85 Q134.834 1120.85 132.566 1120.48 Q130.32 1120.11 127.913 1119.37 L127.913 1114.67 Q129.996 1115.8 132.219 1116.36 Q134.441 1116.91 136.918 1116.91 Q140.922 1116.91 143.26 1114.81 Q145.598 1112.7 145.598 1109.09 Q145.598 1105.48 143.26 1103.37 Q140.922 1101.27 136.918 1101.27 Q135.043 1101.27 133.168 1101.68 Q131.316 1102.1 129.371 1102.98 L129.371 1085.62 Z\" fill=\"#000000\" fill-rule=\"nonzero\" fill-opacity=\"1\" /><path clip-path=\"url(#clip430)\" d=\"M62.9365 745.878 Q59.3254 745.878 57.4967 749.443 Q55.6912 752.985 55.6912 760.114 Q55.6912 767.221 57.4967 770.786 Q59.3254 774.327 62.9365 774.327 Q66.5707 774.327 68.3763 770.786 Q70.205 767.221 70.205 760.114 Q70.205 752.985 68.3763 749.443 Q66.5707 745.878 62.9365 745.878 M62.9365 742.175 Q68.7467 742.175 71.8022 746.781 Q74.8809 751.364 74.8809 760.114 Q74.8809 768.841 71.8022 773.448 Q68.7467 778.031 62.9365 778.031 Q57.1264 778.031 54.0477 773.448 Q50.9921 768.841 50.9921 760.114 Q50.9921 751.364 54.0477 746.781 Q57.1264 742.175 62.9365 742.175 Z\" fill=\"#000000\" fill-rule=\"nonzero\" fill-opacity=\"1\" /><path clip-path=\"url(#clip430)\" d=\"M83.0984 771.48 L87.9827 771.48 L87.9827 777.36 L83.0984 777.36 L83.0984 771.48 Z\" fill=\"#000000\" fill-rule=\"nonzero\" fill-opacity=\"1\" /><path clip-path=\"url(#clip430)\" d=\"M98.2141 742.8 L116.57 742.8 L116.57 746.735 L102.496 746.735 L102.496 755.207 Q103.515 754.86 104.534 754.698 Q105.552 754.513 106.571 754.513 Q112.358 754.513 115.737 757.684 Q119.117 760.855 119.117 766.272 Q119.117 771.85 115.645 774.952 Q112.172 778.031 105.853 778.031 Q103.677 778.031 101.409 777.661 Q99.1632 777.29 96.7558 776.549 L96.7558 771.85 Q98.8391 772.985 101.061 773.54 Q103.284 774.096 105.76 774.096 Q109.765 774.096 112.103 771.989 Q114.441 769.883 114.441 766.272 Q114.441 762.661 112.103 760.554 Q109.765 758.448 105.76 758.448 Q103.885 758.448 102.01 758.864 Q100.159 759.281 98.2141 760.161 L98.2141 742.8 Z\" fill=\"#000000\" fill-rule=\"nonzero\" fill-opacity=\"1\" /><path clip-path=\"url(#clip430)\" d=\"M138.33 745.878 Q134.719 745.878 132.89 749.443 Q131.084 752.985 131.084 760.114 Q131.084 767.221 132.89 770.786 Q134.719 774.327 138.33 774.327 Q141.964 774.327 143.769 770.786 Q145.598 767.221 145.598 760.114 Q145.598 752.985 143.769 749.443 Q141.964 745.878 138.33 745.878 M138.33 742.175 Q144.14 742.175 147.195 746.781 Q150.274 751.364 150.274 760.114 Q150.274 768.841 147.195 773.448 Q144.14 778.031 138.33 778.031 Q132.519 778.031 129.441 773.448 Q126.385 768.841 126.385 760.114 Q126.385 751.364 129.441 746.781 Q132.519 742.175 138.33 742.175 Z\" fill=\"#000000\" fill-rule=\"nonzero\" fill-opacity=\"1\" /><path clip-path=\"url(#clip430)\" d=\"M63.9319 403.06 Q60.3208 403.06 58.4921 406.625 Q56.6865 410.167 56.6865 417.296 Q56.6865 424.403 58.4921 427.968 Q60.3208 431.509 63.9319 431.509 Q67.5661 431.509 69.3717 427.968 Q71.2004 424.403 71.2004 417.296 Q71.2004 410.167 69.3717 406.625 Q67.5661 403.06 63.9319 403.06 M63.9319 399.357 Q69.742 399.357 72.7976 403.963 Q75.8763 408.546 75.8763 417.296 Q75.8763 426.023 72.7976 430.63 Q69.742 435.213 63.9319 435.213 Q58.1217 435.213 55.043 430.63 Q51.9875 426.023 51.9875 417.296 Q51.9875 408.546 55.043 403.963 Q58.1217 399.357 63.9319 399.357 Z\" fill=\"#000000\" fill-rule=\"nonzero\" fill-opacity=\"1\" /><path clip-path=\"url(#clip430)\" d=\"M84.0938 428.662 L88.978 428.662 L88.978 434.542 L84.0938 434.542 L84.0938 428.662 Z\" fill=\"#000000\" fill-rule=\"nonzero\" fill-opacity=\"1\" /><path clip-path=\"url(#clip430)\" d=\"M97.9826 399.982 L120.205 399.982 L120.205 401.972 L107.658 434.542 L102.774 434.542 L114.58 403.917 L97.9826 403.917 L97.9826 399.982 Z\" fill=\"#000000\" fill-rule=\"nonzero\" fill-opacity=\"1\" /><path clip-path=\"url(#clip430)\" d=\"M129.371 399.982 L147.728 399.982 L147.728 403.917 L133.654 403.917 L133.654 412.389 Q134.672 412.042 135.691 411.88 Q136.709 411.695 137.728 411.695 Q143.515 411.695 146.894 414.866 Q150.274 418.037 150.274 423.454 Q150.274 429.032 146.802 432.134 Q143.33 435.213 137.01 435.213 Q134.834 435.213 132.566 434.843 Q130.32 434.472 127.913 433.731 L127.913 429.032 Q129.996 430.167 132.219 430.722 Q134.441 431.278 136.918 431.278 Q140.922 431.278 143.26 429.171 Q145.598 427.065 145.598 423.454 Q145.598 419.843 143.26 417.736 Q140.922 415.63 136.918 415.63 Q135.043 415.63 133.168 416.046 Q131.316 416.463 129.371 417.343 L129.371 399.982 Z\" fill=\"#000000\" fill-rule=\"nonzero\" fill-opacity=\"1\" /><path clip-path=\"url(#clip430)\" d=\"M53.7467 87.7884 L61.3856 87.7884 L61.3856 61.4228 L53.0754 63.0895 L53.0754 58.8302 L61.3393 57.1636 L66.0152 57.1636 L66.0152 87.7884 L73.654 87.7884 L73.654 91.7236 L53.7467 91.7236 L53.7467 87.7884 Z\" fill=\"#000000\" fill-rule=\"nonzero\" fill-opacity=\"1\" /><path clip-path=\"url(#clip430)\" d=\"M83.0984 85.844 L87.9827 85.844 L87.9827 91.7236 L83.0984 91.7236 L83.0984 85.844 Z\" fill=\"#000000\" fill-rule=\"nonzero\" fill-opacity=\"1\" /><path clip-path=\"url(#clip430)\" d=\"M108.168 60.2423 Q104.557 60.2423 102.728 63.8071 Q100.922 67.3487 100.922 74.4783 Q100.922 81.5848 102.728 85.1495 Q104.557 88.6912 108.168 88.6912 Q111.802 88.6912 113.608 85.1495 Q115.436 81.5848 115.436 74.4783 Q115.436 67.3487 113.608 63.8071 Q111.802 60.2423 108.168 60.2423 M108.168 56.5386 Q113.978 56.5386 117.033 61.145 Q120.112 65.7284 120.112 74.4783 Q120.112 83.2051 117.033 87.8116 Q113.978 92.3949 108.168 92.3949 Q102.358 92.3949 99.2789 87.8116 Q96.2234 83.2051 96.2234 74.4783 Q96.2234 65.7284 99.2789 61.145 Q102.358 56.5386 108.168 56.5386 Z\" fill=\"#000000\" fill-rule=\"nonzero\" fill-opacity=\"1\" /><path clip-path=\"url(#clip430)\" d=\"M138.33 60.2423 Q134.719 60.2423 132.89 63.8071 Q131.084 67.3487 131.084 74.4783 Q131.084 81.5848 132.89 85.1495 Q134.719 88.6912 138.33 88.6912 Q141.964 88.6912 143.769 85.1495 Q145.598 81.5848 145.598 74.4783 Q145.598 67.3487 143.769 63.8071 Q141.964 60.2423 138.33 60.2423 M138.33 56.5386 Q144.14 56.5386 147.195 61.145 Q150.274 65.7284 150.274 74.4783 Q150.274 83.2051 147.195 87.8116 Q144.14 92.3949 138.33 92.3949 Q132.519 92.3949 129.441 87.8116 Q126.385 83.2051 126.385 74.4783 Q126.385 65.7284 129.441 61.145 Q132.519 56.5386 138.33 56.5386 Z\" fill=\"#000000\" fill-rule=\"nonzero\" fill-opacity=\"1\" /><polyline clip-path=\"url(#clip432)\" style=\"stroke:#009af9; stroke-linecap:round; stroke-linejoin:round; stroke-width:4; stroke-opacity:1; fill:none\" points=\"247.59,87.9763 297.44,1435.5 347.29,88.2198 397.14,1435.5 446.99,88.2331 496.84,1435.5 546.69,88.2337 596.54,1435.5 646.39,88.2338 696.24,1435.5 746.09,88.2338 795.94,1435.5 845.79,88.2338 895.64,1435.5 945.49,88.2338 995.34,1435.5 1045.19,88.2338 1095.04,1435.5 1144.89,88.2338 1194.74,1435.5 1244.59,88.2338 1294.44,1435.5 1344.29,88.2338 1394.14,1435.5 1443.99,88.2338 1493.84,1435.5 1543.69,88.2338 1593.54,1435.5 1643.39,88.2338 1693.24,1435.5 1743.09,88.2338 1792.94,1435.5 1842.79,88.2338 1892.64,1435.5 1942.49,88.2337 1992.34,1435.5 2042.19,88.2331 2092.04,1435.5 2141.89,88.2198 2191.74,1435.5 2241.59,87.9763 2291.44,1445.72 \"/>\n",
       "<path clip-path=\"url(#clip430)\" d=\"M258.49 1438.47 L527.569 1438.47 L527.569 1334.79 L258.49 1334.79  Z\" fill=\"#ffffff\" fill-rule=\"evenodd\" fill-opacity=\"1\"/>\n",
       "<polyline clip-path=\"url(#clip430)\" style=\"stroke:#000000; stroke-linecap:round; stroke-linejoin:round; stroke-width:4; stroke-opacity:1; fill:none\" points=\"258.49,1438.47 527.569,1438.47 527.569,1334.79 258.49,1334.79 258.49,1438.47 \"/>\n",
       "<polyline clip-path=\"url(#clip430)\" style=\"stroke:#009af9; stroke-linecap:round; stroke-linejoin:round; stroke-width:4; stroke-opacity:1; fill:none\" points=\"282.562,1386.63 426.994,1386.63 \"/>\n",
       "<path clip-path=\"url(#clip430)\" d=\"M464.909 1406.32 Q463.103 1410.95 461.39 1412.36 Q459.677 1413.78 456.807 1413.78 L453.404 1413.78 L453.404 1410.21 L455.904 1410.21 Q457.663 1410.21 458.636 1409.38 Q459.608 1408.54 460.788 1405.44 L461.552 1403.5 L451.066 1377.99 L455.58 1377.99 L463.682 1398.27 L471.784 1377.99 L476.298 1377.99 L464.909 1406.32 Z\" fill=\"#000000\" fill-rule=\"nonzero\" fill-opacity=\"1\" /><path clip-path=\"url(#clip430)\" d=\"M483.589 1399.98 L491.228 1399.98 L491.228 1373.61 L482.918 1375.28 L482.918 1371.02 L491.182 1369.35 L495.858 1369.35 L495.858 1399.98 L503.497 1399.98 L503.497 1403.91 L483.589 1403.91 L483.589 1399.98 Z\" fill=\"#000000\" fill-rule=\"nonzero\" fill-opacity=\"1\" /></svg>\n"
      ]
     },
     "metadata": {},
     "output_type": "display_data"
    }
   ],
   "source": [
    "SvN_init = entanglement_entropy(Avec)\n",
    "plot(1:2N, SvN_init)#[2:2:2N])"
   ]
  },
  {
   "cell_type": "code",
   "execution_count": 47,
   "id": "f2c75e6c",
   "metadata": {},
   "outputs": [],
   "source": [
    "# create new HC with ψ_temp instead of Ivac\n",
    "# Define \"Commutator\" Hamiltonian operator terms:\n",
    "\n",
    "# HC = H ⊗ I - I ⊗ H, since H is real and hermitian H = H^T\n",
    "# staggered B field to XXZ Heisenberg?\n",
    "H_op = OpSum()\n",
    "for i=1:2*(N-1)\n",
    "    H_op += (-1)^(i-1) * J,\"Sz\",i,\"Sz\",i+2\n",
    "end\n",
    "for i=1:2*N\n",
    "    H_op += (-1)^(i-1) * hx,\"Sx\",i\n",
    "    H_op += (-1)^(i-1) * hz,\"Sz\",i\n",
    "end\n",
    "\n",
    "HC = MPO(H_op,sitesext);"
   ]
  },
  {
   "cell_type": "code",
   "execution_count": 48,
   "id": "4c089335",
   "metadata": {},
   "outputs": [
    {
     "name": "stdout",
     "output_type": "stream",
     "text": [
      "After sweep 1: maxlinkdim=4 maxerr=2.39E-11 current_time=0.0 + 0.05im time=1.786\n"
     ]
    },
    {
     "name": "stdout",
     "output_type": "stream",
     "text": [
      "After sweep 2: maxlinkdim=4 maxerr=7.91E-12 current_time=0.0 + 0.1im time=1.064\n"
     ]
    },
    {
     "name": "stdout",
     "output_type": "stream",
     "text": [
      "After sweep 3: maxlinkdim=4 maxerr=3.42E-11 current_time=0.0 + 0.15im time=0.937\n"
     ]
    },
    {
     "name": "stdout",
     "output_type": "stream",
     "text": [
      "After sweep 4: maxlinkdim=4 maxerr=3.82E-12 current_time=0.0 + 0.2im time=1.066\n"
     ]
    },
    {
     "name": "stdout",
     "output_type": "stream",
     "text": [
      "After sweep 5: maxlinkdim=4 maxerr=3.21E-11 current_time=0.0 + 0.25im time=0.902\n"
     ]
    },
    {
     "name": "stdout",
     "output_type": "stream",
     "text": [
      "After sweep 6: maxlinkdim=5 maxerr=5.38E-11 current_time=0.0 + 0.3im time=1.075\n"
     ]
    },
    {
     "name": "stdout",
     "output_type": "stream",
     "text": [
      "After sweep 7: maxlinkdim=6 maxerr=4.23E-12 current_time=0.0 + 0.35im time=0.887\n"
     ]
    },
    {
     "name": "stdout",
     "output_type": "stream",
     "text": [
      "After sweep 8: maxlinkdim=6 maxerr=1.21E-11 current_time=0.0 + 0.4im time=0.895\n"
     ]
    },
    {
     "name": "stdout",
     "output_type": "stream",
     "text": [
      "After sweep 9: maxlinkdim=6 maxerr=3.07E-11 current_time=0.0 + 0.45im time=0.954\n"
     ]
    },
    {
     "name": "stdout",
     "output_type": "stream",
     "text": [
      "After sweep 10: maxlinkdim=6 maxerr=7.05E-11 current_time=0.0 + 0.5im time=1.044\n"
     ]
    },
    {
     "name": "stdout",
     "output_type": "stream",
     "text": [
      "After sweep 11: maxlinkdim=6 maxerr=6.65E-11 current_time=0.0 + 0.55im time=0.888\n"
     ]
    },
    {
     "name": "stdout",
     "output_type": "stream",
     "text": [
      "After sweep 12: maxlinkdim=6 maxerr=8.62E-11 current_time=0.0 + 0.6im time=0.872\n"
     ]
    },
    {
     "name": "stdout",
     "output_type": "stream",
     "text": [
      "After sweep 13: maxlinkdim=6 maxerr=7.17E-11 current_time=0.0 + 0.65im time=0.982\n"
     ]
    },
    {
     "name": "stdout",
     "output_type": "stream",
     "text": [
      "After sweep 14: maxlinkdim=6 maxerr=9.63E-11 current_time=0.0 + 0.7im time=0.922\n"
     ]
    },
    {
     "name": "stdout",
     "output_type": "stream",
     "text": [
      "After sweep 15: maxlinkdim=6 maxerr=8.98E-11 current_time=0.0 + 0.75im time=1.058\n"
     ]
    },
    {
     "name": "stdout",
     "output_type": "stream",
     "text": [
      "After sweep 16: maxlinkdim=7 maxerr=9.33E-11 current_time=0.0 + 0.8im time=1.237\n"
     ]
    },
    {
     "name": "stdout",
     "output_type": "stream",
     "text": [
      "After sweep 17: maxlinkdim=8 maxerr=3.48E-11 current_time=0.0 + 0.85im time=1.233\n"
     ]
    },
    {
     "name": "stdout",
     "output_type": "stream",
     "text": [
      "After sweep 18: maxlinkdim=8 maxerr=5.08E-11 current_time=0.0 + 0.9im time=1.178\n"
     ]
    },
    {
     "name": "stdout",
     "output_type": "stream",
     "text": [
      "After sweep 19: maxlinkdim=8 maxerr=7.12E-11 current_time=0.0 + 0.95im time=1.214\n"
     ]
    },
    {
     "name": "stdout",
     "output_type": "stream",
     "text": [
      "After sweep 20: maxlinkdim=8 maxerr=9.72E-11 current_time=0.0 + 1.0im time=1.267\n"
     ]
    },
    {
     "name": "stdout",
     "output_type": "stream",
     "text": [
      "After sweep 21: maxlinkdim=8 maxerr=8.39E-11 current_time=0.0 + 1.05im time=1.144\n"
     ]
    },
    {
     "name": "stdout",
     "output_type": "stream",
     "text": [
      "After sweep 22: maxlinkdim=8 maxerr=5.22E-11 current_time=0.0 + 1.1im time=1.02\n"
     ]
    },
    {
     "name": "stdout",
     "output_type": "stream",
     "text": [
      "After sweep 23: maxlinkdim=8 maxerr=9.27E-11 current_time=0.0 + 1.15im time=1.039\n"
     ]
    },
    {
     "name": "stdout",
     "output_type": "stream",
     "text": [
      "After sweep 24: maxlinkdim=8 maxerr=9.18E-11 current_time=0.0 + 1.2im time=1.062\n"
     ]
    },
    {
     "name": "stdout",
     "output_type": "stream",
     "text": [
      "After sweep 25: maxlinkdim=8 maxerr=9.81E-11 current_time=0.0 + 1.25im time=1.152\n"
     ]
    },
    {
     "name": "stdout",
     "output_type": "stream",
     "text": [
      "After sweep 26: maxlinkdim=8 maxerr=8.19E-11 current_time=0.0 + 1.3im time=1.037\n"
     ]
    },
    {
     "name": "stdout",
     "output_type": "stream",
     "text": [
      "After sweep 27: maxlinkdim=8 maxerr=5.83E-11 current_time=0.0 + 1.35im time=1.033\n"
     ]
    },
    {
     "name": "stdout",
     "output_type": "stream",
     "text": [
      "After sweep 28: maxlinkdim=8 maxerr=9.09E-11 current_time=0.0 + 1.4im time=1.09\n"
     ]
    },
    {
     "name": "stdout",
     "output_type": "stream",
     "text": [
      "After sweep 29: maxlinkdim=8 maxerr=5.66E-11 current_time=0.0 + 1.45im time=0.985\n"
     ]
    },
    {
     "name": "stdout",
     "output_type": "stream",
     "text": [
      "After sweep 30: maxlinkdim=8 maxerr=9.05E-11 current_time=0.0 + 1.5im time=1.256\n"
     ]
    },
    {
     "name": "stdout",
     "output_type": "stream",
     "text": [
      "After sweep 31: maxlinkdim=8 maxerr=5.36E-11 current_time=0.0 + 1.55im time=1.042\n"
     ]
    },
    {
     "name": "stdout",
     "output_type": "stream",
     "text": [
      "After sweep 32: maxlinkdim=8 maxerr=8.20E-11 current_time=0.0 + 1.6im time=1.083\n"
     ]
    },
    {
     "name": "stdout",
     "output_type": "stream",
     "text": [
      "After sweep 33: maxlinkdim=8 maxerr=5.91E-11 current_time=0.0 + 1.65im time=1.025\n"
     ]
    },
    {
     "name": "stdout",
     "output_type": "stream",
     "text": [
      "After sweep 34: maxlinkdim=8 maxerr=8.57E-11 current_time=0.0 + 1.7im time=1.115\n"
     ]
    },
    {
     "name": "stdout",
     "output_type": "stream",
     "text": [
      "After sweep 35: maxlinkdim=8 maxerr=7.72E-11 current_time=0.0 + 1.75im time=1.161\n"
     ]
    },
    {
     "name": "stdout",
     "output_type": "stream",
     "text": [
      "After sweep 36: maxlinkdim=9 maxerr=3.92E-11 current_time=0.0 + 1.8im time=1.203\n"
     ]
    },
    {
     "name": "stdout",
     "output_type": "stream",
     "text": [
      "After sweep 37: maxlinkdim=9 maxerr=5.84E-11 current_time=0.0 + 1.85im time=1.293\n"
     ]
    },
    {
     "name": "stdout",
     "output_type": "stream",
     "text": [
      "After sweep 38: maxlinkdim=9 maxerr=8.64E-11 current_time=0.0 + 1.9im time=1.674\n"
     ]
    },
    {
     "name": "stdout",
     "output_type": "stream",
     "text": [
      "After sweep 39: maxlinkdim=9 maxerr=8.26E-11 current_time=0.0 + 1.95im time=1.352\n"
     ]
    },
    {
     "name": "stdout",
     "output_type": "stream",
     "text": [
      "After sweep 40: maxlinkdim=9 maxerr=9.93E-11 current_time=0.0 + 2.0im time=1.339\n"
     ]
    },
    {
     "name": "stdout",
     "output_type": "stream",
     "text": [
      "After sweep 41: maxlinkdim=10 maxerr=6.45E-11 current_time=0.0 + 2.05im time=1.278\n"
     ]
    },
    {
     "name": "stdout",
     "output_type": "stream",
     "text": [
      "After sweep 42: maxlinkdim=11 maxerr=5.89E-11 current_time=0.0 + 2.1im time=1.386\n"
     ]
    },
    {
     "name": "stdout",
     "output_type": "stream",
     "text": [
      "After sweep 43: maxlinkdim=11 maxerr=9.06E-11 current_time=0.0 + 2.15im time=1.302\n"
     ]
    },
    {
     "name": "stdout",
     "output_type": "stream",
     "text": [
      "After sweep 44: maxlinkdim=12 maxerr=4.88E-11 current_time=0.0 + 2.2im time=1.149\n"
     ]
    },
    {
     "name": "stdout",
     "output_type": "stream",
     "text": [
      "After sweep 45: maxlinkdim=12 maxerr=7.26E-11 current_time=0.0 + 2.25im time=1.302\n"
     ]
    },
    {
     "name": "stdout",
     "output_type": "stream",
     "text": [
      "After sweep 46: maxlinkdim=12 maxerr=9.97E-11 current_time=0.0 + 2.3im time=1.054\n"
     ]
    },
    {
     "name": "stdout",
     "output_type": "stream",
     "text": [
      "After sweep 47: maxlinkdim=12 maxerr=9.21E-11 current_time=0.0 + 2.35im time=1.312\n"
     ]
    },
    {
     "name": "stdout",
     "output_type": "stream",
     "text": [
      "After sweep 48: maxlinkdim=13 maxerr=9.42E-11 current_time=0.0 + 2.4im time=1.106\n"
     ]
    },
    {
     "name": "stdout",
     "output_type": "stream",
     "text": [
      "After sweep 49: maxlinkdim=14 maxerr=7.15E-11 current_time=0.0 + 2.45im time=1.245\n"
     ]
    },
    {
     "name": "stdout",
     "output_type": "stream",
     "text": [
      "After sweep 50: maxlinkdim=14 maxerr=5.87E-11 current_time=0.0 + 2.5im time=1.225\n"
     ]
    },
    {
     "name": "stdout",
     "output_type": "stream",
     "text": [
      "After sweep 51: maxlinkdim=14 maxerr=8.47E-11 current_time=0.0 + 2.55im time=1.301\n"
     ]
    },
    {
     "name": "stdout",
     "output_type": "stream",
     "text": [
      "After sweep 52: maxlinkdim=15 maxerr=9.49E-11 current_time=0.0 + 2.6im time=1.275\n"
     ]
    },
    {
     "name": "stdout",
     "output_type": "stream",
     "text": [
      "After sweep 53: maxlinkdim=15 maxerr=7.06E-11 current_time=0.0 + 2.65im time=1.147\n"
     ]
    },
    {
     "name": "stdout",
     "output_type": "stream",
     "text": [
      "After sweep 54: maxlinkdim=15 maxerr=9.62E-11 current_time=0.0 + 2.7im time=1.266\n"
     ]
    },
    {
     "name": "stdout",
     "output_type": "stream",
     "text": [
      "After sweep 55: maxlinkdim=15 maxerr=9.88E-11 current_time=0.0 + 2.75im time=1.367\n"
     ]
    },
    {
     "name": "stdout",
     "output_type": "stream",
     "text": [
      "After sweep 56: maxlinkdim=16 maxerr=6.16E-11 current_time=0.0 + 2.8im time=1.452\n"
     ]
    },
    {
     "name": "stdout",
     "output_type": "stream",
     "text": [
      "After sweep 57: maxlinkdim=16 maxerr=8.25E-11 current_time=0.0 + 2.85im time=1.35\n"
     ]
    },
    {
     "name": "stdout",
     "output_type": "stream",
     "text": [
      "After sweep 58: maxlinkdim=16 maxerr=8.80E-11 current_time=0.0 + 2.9im time=1.327\n"
     ]
    },
    {
     "name": "stdout",
     "output_type": "stream",
     "text": [
      "After sweep 59: maxlinkdim=16 maxerr=9.40E-11 current_time=0.0 + 2.95im time=1.306\n"
     ]
    },
    {
     "name": "stdout",
     "output_type": "stream",
     "text": [
      "After sweep 60: maxlinkdim=16 maxerr=9.84E-11 current_time=0.0 + 3.0im time=1.652\n"
     ]
    },
    {
     "name": "stdout",
     "output_type": "stream",
     "text": [
      "After sweep 61: maxlinkdim=17 maxerr=8.83E-11 current_time=0.0 + 3.05im time=1.505\n"
     ]
    },
    {
     "name": "stdout",
     "output_type": "stream",
     "text": [
      "After sweep 62: maxlinkdim=17 maxerr=8.60E-11 current_time=0.0 + 3.1im time=1.501\n"
     ]
    },
    {
     "name": "stdout",
     "output_type": "stream",
     "text": [
      "After sweep 63: maxlinkdim=18 maxerr=8.50E-11 current_time=0.0 + 3.15im time=1.537\n"
     ]
    },
    {
     "name": "stdout",
     "output_type": "stream",
     "text": [
      "After sweep 64: maxlinkdim=18 maxerr=9.96E-11 current_time=0.0 + 3.2im time=1.557\n"
     ]
    },
    {
     "name": "stdout",
     "output_type": "stream",
     "text": [
      "After sweep 65: maxlinkdim=19 maxerr=9.02E-11 current_time=0.0 + 3.25im time=1.535\n"
     ]
    },
    {
     "name": "stdout",
     "output_type": "stream",
     "text": [
      "After sweep 66: maxlinkdim=20 maxerr=8.11E-11 current_time=0.0 + 3.3im time=1.497\n"
     ]
    },
    {
     "name": "stdout",
     "output_type": "stream",
     "text": [
      "After sweep 67: maxlinkdim=20 maxerr=9.24E-11 current_time=0.0 + 3.35im time=1.556\n"
     ]
    },
    {
     "name": "stdout",
     "output_type": "stream",
     "text": [
      "After sweep 68: maxlinkdim=21 maxerr=9.51E-11 current_time=0.0 + 3.4im time=1.587\n"
     ]
    },
    {
     "name": "stdout",
     "output_type": "stream",
     "text": [
      "After sweep 69: maxlinkdim=21 maxerr=9.93E-11 current_time=0.0 + 3.45im time=1.554\n"
     ]
    },
    {
     "name": "stdout",
     "output_type": "stream",
     "text": [
      "After sweep 70: maxlinkdim=22 maxerr=9.05E-11 current_time=0.0 + 3.5im time=1.758\n"
     ]
    },
    {
     "name": "stdout",
     "output_type": "stream",
     "text": [
      "After sweep 71: maxlinkdim=22 maxerr=9.15E-11 current_time=0.0 + 3.55im time=1.687\n"
     ]
    },
    {
     "name": "stdout",
     "output_type": "stream",
     "text": [
      "After sweep 72: maxlinkdim=22 maxerr=7.89E-11 current_time=0.0 + 3.6im time=1.66\n"
     ]
    },
    {
     "name": "stdout",
     "output_type": "stream",
     "text": [
      "After sweep 73: maxlinkdim=23 maxerr=9.57E-11 current_time=0.0 + 3.65im time=1.782\n"
     ]
    },
    {
     "name": "stdout",
     "output_type": "stream",
     "text": [
      "After sweep 74: maxlinkdim=23 maxerr=9.87E-11 current_time=0.0 + 3.7im time=1.842\n"
     ]
    },
    {
     "name": "stdout",
     "output_type": "stream",
     "text": [
      "After sweep 75: maxlinkdim=24 maxerr=9.39E-11 current_time=0.0 + 3.75im time=1.772\n"
     ]
    },
    {
     "name": "stdout",
     "output_type": "stream",
     "text": [
      "After sweep 76: maxlinkdim=24 maxerr=9.87E-11 current_time=0.0 + 3.8im time=1.833\n"
     ]
    },
    {
     "name": "stdout",
     "output_type": "stream",
     "text": [
      "After sweep 77: maxlinkdim=25 maxerr=9.84E-11 current_time=0.0 + 3.85im time=1.66\n"
     ]
    },
    {
     "name": "stdout",
     "output_type": "stream",
     "text": [
      "After sweep 78: maxlinkdim=25 maxerr=8.29E-11 current_time=0.0 + 3.9im time=2.004\n"
     ]
    },
    {
     "name": "stdout",
     "output_type": "stream",
     "text": [
      "After sweep 79: maxlinkdim=25 maxerr=8.16E-11 current_time=0.0 + 3.95im time=2.11\n"
     ]
    },
    {
     "name": "stdout",
     "output_type": "stream",
     "text": [
      "After sweep 80: maxlinkdim=26 maxerr=9.53E-11 current_time=0.0 + 4.0im time=2.171\n"
     ]
    },
    {
     "name": "stdout",
     "output_type": "stream",
     "text": [
      "After sweep 81: maxlinkdim=26 maxerr=8.69E-11 current_time=0.0 + 4.05im time=2.193\n"
     ]
    },
    {
     "name": "stdout",
     "output_type": "stream",
     "text": [
      "After sweep 82: maxlinkdim=26 maxerr=9.96E-11 current_time=0.0 + 4.1im time=2.153\n"
     ]
    },
    {
     "name": "stdout",
     "output_type": "stream",
     "text": [
      "After sweep 83: maxlinkdim=27 maxerr=8.47E-11 current_time=0.0 + 4.15im time=2.001\n"
     ]
    },
    {
     "name": "stdout",
     "output_type": "stream",
     "text": [
      "After sweep 84: maxlinkdim=27 maxerr=9.97E-11 current_time=0.0 + 4.2im time=2.22\n"
     ]
    },
    {
     "name": "stdout",
     "output_type": "stream",
     "text": [
      "After sweep 85: maxlinkdim=27 maxerr=9.52E-11 current_time=0.0 + 4.25im time=2.111\n"
     ]
    },
    {
     "name": "stdout",
     "output_type": "stream",
     "text": [
      "After sweep 86: maxlinkdim=28 maxerr=9.22E-11 current_time=0.0 + 4.3im time=2.433\n"
     ]
    },
    {
     "name": "stdout",
     "output_type": "stream",
     "text": [
      "After sweep 87: maxlinkdim=29 maxerr=9.91E-11 current_time=0.0 + 4.35im time=2.34\n"
     ]
    },
    {
     "name": "stdout",
     "output_type": "stream",
     "text": [
      "After sweep 88: maxlinkdim=29 maxerr=9.60E-11 current_time=0.0 + 4.4im time=2.464\n"
     ]
    },
    {
     "name": "stdout",
     "output_type": "stream",
     "text": [
      "After sweep 89: maxlinkdim=30 maxerr=9.91E-11 current_time=0.0 + 4.45im time=2.589\n"
     ]
    },
    {
     "name": "stdout",
     "output_type": "stream",
     "text": [
      "After sweep 90: maxlinkdim=30 maxerr=9.21E-11 current_time=0.0 + 4.5im time=2.422\n"
     ]
    },
    {
     "name": "stdout",
     "output_type": "stream",
     "text": [
      "After sweep 91: maxlinkdim=31 maxerr=9.67E-11 current_time=0.0 + 4.55im time=2.704\n"
     ]
    },
    {
     "name": "stdout",
     "output_type": "stream",
     "text": [
      "After sweep 92: maxlinkdim=31 maxerr=9.03E-11 current_time=0.0 + 4.6im time=2.633\n"
     ]
    },
    {
     "name": "stdout",
     "output_type": "stream",
     "text": [
      "After sweep 93: maxlinkdim=32 maxerr=9.51E-11 current_time=0.0 + 4.65im time=3.056\n"
     ]
    },
    {
     "name": "stdout",
     "output_type": "stream",
     "text": [
      "After sweep 94: maxlinkdim=32 maxerr=9.45E-11 current_time=0.0 + 4.7im time=2.702\n"
     ]
    },
    {
     "name": "stdout",
     "output_type": "stream",
     "text": [
      "After sweep 95: maxlinkdim=32 maxerr=1.25E-10 current_time=0.0 + 4.75im time=3.426\n"
     ]
    },
    {
     "name": "stdout",
     "output_type": "stream",
     "text": [
      "After sweep 96: maxlinkdim=32 maxerr=1.67E-10 current_time=0.0 + 4.8im time=3.715\n"
     ]
    },
    {
     "name": "stdout",
     "output_type": "stream",
     "text": [
      "After sweep 97: maxlinkdim=32 maxerr=2.19E-10 current_time=0.0 + 4.85im time=3.555\n"
     ]
    },
    {
     "name": "stdout",
     "output_type": "stream",
     "text": [
      "After sweep 98: maxlinkdim=32 maxerr=2.85E-10 current_time=0.0 + 4.9im time=3.101\n"
     ]
    },
    {
     "name": "stdout",
     "output_type": "stream",
     "text": [
      "After sweep 99: maxlinkdim=32 maxerr=3.69E-10 current_time=0.0 + 4.95im time=2.973\n"
     ]
    },
    {
     "name": "stdout",
     "output_type": "stream",
     "text": [
      "After sweep 100: maxlinkdim=32 maxerr=4.75E-10 current_time=0.0 + 5.0im time=2.97\n"
     ]
    }
   ],
   "source": [
    "obs = Observer(\"times\" => current_time, \"SvN\" => measure_SvN, \"chi\" => measure_linkdim,\"Commutator\"=>measure_commutator)\n",
    "ψf = tdvp(HC, im*T, Avec; \n",
    "          time_step = im*δt,\n",
    "          normalize = false,\n",
    "          maxdim = χ,\n",
    "          cutoff = 1e-10,\n",
    "          outputlevel=1,\n",
    "          (observer!)=obs)\n",
    "# Extract results from time-step observations\n",
    "times=obs.times\n",
    "SvN=obs.SvN\n",
    "chi=obs.chi;\n",
    "Commutator=obs.Commutator;"
   ]
  },
  {
   "cell_type": "code",
   "execution_count": 64,
   "id": "ed6b55db",
   "metadata": {},
   "outputs": [
    {
     "ename": "UndefVarError",
     "evalue": "UndefVarError: `xkcd` not defined",
     "output_type": "error",
     "traceback": [
      "UndefVarError: `xkcd` not defined\n",
      "\n",
      "Stacktrace:\n",
      " [1] top-level scope\n",
      "   @ c:\\Users\\rache\\quantum_scrambling\\src\\scrambling_thermal_state.ipynb:7"
     ]
    }
   ],
   "source": [
    "# Plot the entanglement entropy of each bond for system + ancilla:\n",
    "gr()\n",
    "heatmap(1:(2*N), times, reduce(vcat,transpose.(SvN)), c = :heat)\n",
    "ylabel!(\"Time t\")\n",
    "xlabel!(\"Site Index\")\n",
    "title!(\"Entanglement Entropy system + ancilla\")\n"
   ]
  },
  {
   "cell_type": "code",
   "execution_count": 50,
   "id": "a2468950",
   "metadata": {},
   "outputs": [
    {
     "data": {
      "image/png": "[encoded data removed]",
      "image/svg+xml": [
       "<?xml version=\"1.0\" encoding=\"utf-8\"?>\n",
       "<svg xmlns=\"http://www.w3.org/2000/svg\" xmlns:xlink=\"http://www.w3.org/1999/xlink\" width=\"600\" height=\"400\" viewBox=\"0 0 2400 1600\">\n",
       "<defs>\n",
       "  <clipPath id=\"clip490\">\n",
       "    <rect x=\"0\" y=\"0\" width=\"2400\" height=\"1600\"/>\n",
       "  </clipPath>\n",
       "</defs>\n",
       "<path clip-path=\"url(#clip490)\" d=\"M0 1600 L2400 1600 L2400 0 L0 0  Z\" fill=\"#ffffff\" fill-rule=\"evenodd\" fill-opacity=\"1\"/>\n",
       "<defs>\n",
       "  <clipPath id=\"clip491\">\n",
       "    <rect x=\"480\" y=\"0\" width=\"1681\" height=\"1600\"/>\n",
       "  </clipPath>\n",
       "</defs>\n",
       "<path clip-path=\"url(#clip490)\" d=\"M239.697 1423.18 L2112.76 1423.18 L2112.76 248.204 L239.697 248.204  Z\" fill=\"#ffffff\" fill-rule=\"evenodd\" fill-opacity=\"1\"/>\n",
       "<defs>\n",
       "  <clipPath id=\"clip492\">\n",
       "    <rect x=\"239\" y=\"248\" width=\"1874\" height=\"1176\"/>\n",
       "  </clipPath>\n",
       "</defs>\n",
       "<polyline clip-path=\"url(#clip492)\" style=\"stroke:#000000; stroke-linecap:round; stroke-linejoin:round; stroke-width:2; stroke-opacity:0.1; fill:none\" points=\"641.067,1423.18 641.067,248.204 \"/>\n",
       "<polyline clip-path=\"url(#clip492)\" style=\"stroke:#000000; stroke-linecap:round; stroke-linejoin:round; stroke-width:2; stroke-opacity:0.1; fill:none\" points=\"1087.03,1423.18 1087.03,248.204 \"/>\n",
       "<polyline clip-path=\"url(#clip492)\" style=\"stroke:#000000; stroke-linecap:round; stroke-linejoin:round; stroke-width:2; stroke-opacity:0.1; fill:none\" points=\"1533,1423.18 1533,248.204 \"/>\n",
       "<polyline clip-path=\"url(#clip492)\" style=\"stroke:#000000; stroke-linecap:round; stroke-linejoin:round; stroke-width:2; stroke-opacity:0.1; fill:none\" points=\"1978.97,1423.18 1978.97,248.204 \"/>\n",
       "<polyline clip-path=\"url(#clip490)\" style=\"stroke:#000000; stroke-linecap:round; stroke-linejoin:round; stroke-width:4; stroke-opacity:1; fill:none\" points=\"239.697,1423.18 2112.76,1423.18 \"/>\n",
       "<polyline clip-path=\"url(#clip490)\" style=\"stroke:#000000; stroke-linecap:round; stroke-linejoin:round; stroke-width:4; stroke-opacity:1; fill:none\" points=\"641.067,1423.18 641.067,1404.28 \"/>\n",
       "<polyline clip-path=\"url(#clip490)\" style=\"stroke:#000000; stroke-linecap:round; stroke-linejoin:round; stroke-width:4; stroke-opacity:1; fill:none\" points=\"1087.03,1423.18 1087.03,1404.28 \"/>\n",
       "<polyline clip-path=\"url(#clip490)\" style=\"stroke:#000000; stroke-linecap:round; stroke-linejoin:round; stroke-width:4; stroke-opacity:1; fill:none\" points=\"1533,1423.18 1533,1404.28 \"/>\n",
       "<polyline clip-path=\"url(#clip490)\" style=\"stroke:#000000; stroke-linecap:round; stroke-linejoin:round; stroke-width:4; stroke-opacity:1; fill:none\" points=\"1978.97,1423.18 1978.97,1404.28 \"/>\n",
       "<path clip-path=\"url(#clip490)\" d=\"M631.345 1451.02 L649.701 1451.02 L649.701 1454.96 L635.627 1454.96 L635.627 1463.43 Q636.646 1463.08 637.664 1462.92 Q638.683 1462.73 639.701 1462.73 Q645.488 1462.73 648.868 1465.9 Q652.247 1469.08 652.247 1474.49 Q652.247 1480.07 648.775 1483.17 Q645.303 1486.25 638.984 1486.25 Q636.808 1486.25 634.539 1485.88 Q632.294 1485.51 629.886 1484.77 L629.886 1480.07 Q631.97 1481.2 634.192 1481.76 Q636.414 1482.32 638.891 1482.32 Q642.896 1482.32 645.234 1480.21 Q647.571 1478.1 647.571 1474.49 Q647.571 1470.88 645.234 1468.77 Q642.896 1466.67 638.891 1466.67 Q637.016 1466.67 635.141 1467.08 Q633.289 1467.5 631.345 1468.38 L631.345 1451.02 Z\" fill=\"#000000\" fill-rule=\"nonzero\" fill-opacity=\"1\" /><path clip-path=\"url(#clip490)\" d=\"M1061.72 1481.64 L1069.36 1481.64 L1069.36 1455.28 L1061.05 1456.95 L1061.05 1452.69 L1069.31 1451.02 L1073.99 1451.02 L1073.99 1481.64 L1081.63 1481.64 L1081.63 1485.58 L1061.72 1485.58 L1061.72 1481.64 Z\" fill=\"#000000\" fill-rule=\"nonzero\" fill-opacity=\"1\" /><path clip-path=\"url(#clip490)\" d=\"M1101.07 1454.1 Q1097.46 1454.1 1095.63 1457.66 Q1093.83 1461.2 1093.83 1468.33 Q1093.83 1475.44 1095.63 1479.01 Q1097.46 1482.55 1101.07 1482.55 Q1104.71 1482.55 1106.51 1479.01 Q1108.34 1475.44 1108.34 1468.33 Q1108.34 1461.2 1106.51 1457.66 Q1104.71 1454.1 1101.07 1454.1 M1101.07 1450.39 Q1106.88 1450.39 1109.94 1455 Q1113.02 1459.58 1113.02 1468.33 Q1113.02 1477.06 1109.94 1481.67 Q1106.88 1486.25 1101.07 1486.25 Q1095.26 1486.25 1092.18 1481.67 Q1089.13 1477.06 1089.13 1468.33 Q1089.13 1459.58 1092.18 1455 Q1095.26 1450.39 1101.07 1450.39 Z\" fill=\"#000000\" fill-rule=\"nonzero\" fill-opacity=\"1\" /><path clip-path=\"url(#clip490)\" d=\"M1508.18 1481.64 L1515.82 1481.64 L1515.82 1455.28 L1507.51 1456.95 L1507.51 1452.69 L1515.78 1451.02 L1520.45 1451.02 L1520.45 1481.64 L1528.09 1481.64 L1528.09 1485.58 L1508.18 1485.58 L1508.18 1481.64 Z\" fill=\"#000000\" fill-rule=\"nonzero\" fill-opacity=\"1\" /><path clip-path=\"url(#clip490)\" d=\"M1537.58 1451.02 L1555.94 1451.02 L1555.94 1454.96 L1541.87 1454.96 L1541.87 1463.43 Q1542.88 1463.08 1543.9 1462.92 Q1544.92 1462.73 1545.94 1462.73 Q1551.73 1462.73 1555.11 1465.9 Q1558.49 1469.08 1558.49 1474.49 Q1558.49 1480.07 1555.01 1483.17 Q1551.54 1486.25 1545.22 1486.25 Q1543.05 1486.25 1540.78 1485.88 Q1538.53 1485.51 1536.12 1484.77 L1536.12 1480.07 Q1538.21 1481.2 1540.43 1481.76 Q1542.65 1482.32 1545.13 1482.32 Q1549.13 1482.32 1551.47 1480.21 Q1553.81 1478.1 1553.81 1474.49 Q1553.81 1470.88 1551.47 1468.77 Q1549.13 1466.67 1545.13 1466.67 Q1543.25 1466.67 1541.38 1467.08 Q1539.53 1467.5 1537.58 1468.38 L1537.58 1451.02 Z\" fill=\"#000000\" fill-rule=\"nonzero\" fill-opacity=\"1\" /><path clip-path=\"url(#clip490)\" d=\"M1957.74 1481.64 L1974.06 1481.64 L1974.06 1485.58 L1952.11 1485.58 L1952.11 1481.64 Q1954.78 1478.89 1959.36 1474.26 Q1963.97 1469.61 1965.15 1468.27 Q1967.39 1465.74 1968.27 1464.01 Q1969.17 1462.25 1969.17 1460.56 Q1969.17 1457.8 1967.23 1456.07 Q1965.31 1454.33 1962.21 1454.33 Q1960.01 1454.33 1957.55 1455.09 Q1955.12 1455.86 1952.35 1457.41 L1952.35 1452.69 Q1955.17 1451.55 1957.62 1450.97 Q1960.08 1450.39 1962.11 1450.39 Q1967.48 1450.39 1970.68 1453.08 Q1973.87 1455.77 1973.87 1460.26 Q1973.87 1462.39 1973.06 1464.31 Q1972.28 1466.2 1970.17 1468.8 Q1969.59 1469.47 1966.49 1472.69 Q1963.39 1475.88 1957.74 1481.64 Z\" fill=\"#000000\" fill-rule=\"nonzero\" fill-opacity=\"1\" /><path clip-path=\"url(#clip490)\" d=\"M1993.87 1454.1 Q1990.26 1454.1 1988.43 1457.66 Q1986.63 1461.2 1986.63 1468.33 Q1986.63 1475.44 1988.43 1479.01 Q1990.26 1482.55 1993.87 1482.55 Q1997.51 1482.55 1999.31 1479.01 Q2001.14 1475.44 2001.14 1468.33 Q2001.14 1461.2 1999.31 1457.66 Q1997.51 1454.1 1993.87 1454.1 M1993.87 1450.39 Q1999.68 1450.39 2002.74 1455 Q2005.82 1459.58 2005.82 1468.33 Q2005.82 1477.06 2002.74 1481.67 Q1999.68 1486.25 1993.87 1486.25 Q1988.06 1486.25 1984.98 1481.67 Q1981.93 1477.06 1981.93 1468.33 Q1981.93 1459.58 1984.98 1455 Q1988.06 1450.39 1993.87 1450.39 Z\" fill=\"#000000\" fill-rule=\"nonzero\" fill-opacity=\"1\" /><path clip-path=\"url(#clip490)\" d=\"M1047.37 1522.08 L1047.37 1528.35 Q1043.71 1526.6 1040.46 1525.74 Q1037.22 1524.88 1034.19 1524.88 Q1028.94 1524.88 1026.08 1526.92 Q1023.24 1528.96 1023.24 1532.71 Q1023.24 1535.87 1025.12 1537.49 Q1027.03 1539.08 1032.31 1540.07 L1036.2 1540.86 Q1043.39 1542.23 1046.8 1545.7 Q1050.23 1549.14 1050.23 1554.93 Q1050.23 1561.84 1045.59 1565.4 Q1040.97 1568.97 1032.03 1568.97 Q1028.65 1568.97 1024.83 1568.2 Q1021.05 1567.44 1016.97 1565.94 L1016.97 1559.32 Q1020.89 1561.52 1024.64 1562.63 Q1028.4 1563.75 1032.03 1563.75 Q1037.53 1563.75 1040.53 1561.58 Q1043.52 1559.42 1043.52 1555.41 Q1043.52 1551.91 1041.35 1549.93 Q1039.22 1547.96 1034.32 1546.97 L1030.4 1546.21 Q1023.21 1544.78 1020 1541.72 Q1016.78 1538.67 1016.78 1533.22 Q1016.78 1526.92 1021.21 1523.29 Q1025.66 1519.66 1033.46 1519.66 Q1036.8 1519.66 1040.27 1520.27 Q1043.74 1520.87 1047.37 1522.08 Z\" fill=\"#000000\" fill-rule=\"nonzero\" fill-opacity=\"1\" /><path clip-path=\"url(#clip490)\" d=\"M1060 1532.4 L1065.86 1532.4 L1065.86 1568.04 L1060 1568.04 L1060 1532.4 M1060 1518.52 L1065.86 1518.52 L1065.86 1525.93 L1060 1525.93 L1060 1518.52 Z\" fill=\"#000000\" fill-rule=\"nonzero\" fill-opacity=\"1\" /><path clip-path=\"url(#clip490)\" d=\"M1083.91 1522.27 L1083.91 1532.4 L1095.97 1532.4 L1095.97 1536.95 L1083.91 1536.95 L1083.91 1556.3 Q1083.91 1560.66 1085.09 1561.9 Q1086.3 1563.14 1089.96 1563.14 L1095.97 1563.14 L1095.97 1568.04 L1089.96 1568.04 Q1083.18 1568.04 1080.6 1565.53 Q1078.02 1562.98 1078.02 1556.3 L1078.02 1536.95 L1073.72 1536.95 L1073.72 1532.4 L1078.02 1532.4 L1078.02 1522.27 L1083.91 1522.27 Z\" fill=\"#000000\" fill-rule=\"nonzero\" fill-opacity=\"1\" /><path clip-path=\"url(#clip490)\" d=\"M1134.17 1548.76 L1134.17 1551.62 L1107.24 1551.62 Q1107.62 1557.67 1110.87 1560.85 Q1114.14 1564 1119.97 1564 Q1123.34 1564 1126.49 1563.17 Q1129.68 1562.35 1132.8 1560.69 L1132.8 1566.23 Q1129.65 1567.57 1126.34 1568.27 Q1123.03 1568.97 1119.62 1568.97 Q1111.09 1568.97 1106.09 1564 Q1101.13 1559.04 1101.13 1550.57 Q1101.13 1541.82 1105.84 1536.69 Q1110.58 1531.54 1118.6 1531.54 Q1125.79 1531.54 1129.96 1536.18 Q1134.17 1540.8 1134.17 1548.76 M1128.31 1547.04 Q1128.25 1542.23 1125.6 1539.37 Q1122.99 1536.5 1118.66 1536.5 Q1113.76 1536.5 1110.8 1539.27 Q1107.87 1542.04 1107.43 1547.07 L1128.31 1547.04 Z\" fill=\"#000000\" fill-rule=\"nonzero\" fill-opacity=\"1\" /><path clip-path=\"url(#clip490)\" d=\"M1164.75 1520.52 L1171.18 1520.52 L1171.18 1568.04 L1164.75 1568.04 L1164.75 1520.52 Z\" fill=\"#000000\" fill-rule=\"nonzero\" fill-opacity=\"1\" /><path clip-path=\"url(#clip490)\" d=\"M1213.35 1546.53 L1213.35 1568.04 L1207.5 1568.04 L1207.5 1546.72 Q1207.5 1541.66 1205.52 1539.14 Q1203.55 1536.63 1199.6 1536.63 Q1194.86 1536.63 1192.12 1539.65 Q1189.39 1542.68 1189.39 1547.9 L1189.39 1568.04 L1183.5 1568.04 L1183.5 1532.4 L1189.39 1532.4 L1189.39 1537.93 Q1191.49 1534.72 1194.32 1533.13 Q1197.19 1531.54 1200.91 1531.54 Q1207.05 1531.54 1210.2 1535.36 Q1213.35 1539.14 1213.35 1546.53 Z\" fill=\"#000000\" fill-rule=\"nonzero\" fill-opacity=\"1\" /><path clip-path=\"url(#clip490)\" d=\"M1248.49 1537.81 L1248.49 1518.52 L1254.35 1518.52 L1254.35 1568.04 L1248.49 1568.04 L1248.49 1562.7 Q1246.65 1565.88 1243.81 1567.44 Q1241.01 1568.97 1237.07 1568.97 Q1230.61 1568.97 1226.53 1563.81 Q1222.49 1558.65 1222.49 1550.25 Q1222.49 1541.85 1226.53 1536.69 Q1230.61 1531.54 1237.07 1531.54 Q1241.01 1531.54 1243.81 1533.1 Q1246.65 1534.62 1248.49 1537.81 M1228.54 1550.25 Q1228.54 1556.71 1231.18 1560.4 Q1233.85 1564.07 1238.5 1564.07 Q1243.15 1564.07 1245.82 1560.4 Q1248.49 1556.71 1248.49 1550.25 Q1248.49 1543.79 1245.82 1540.13 Q1243.15 1536.44 1238.5 1536.44 Q1233.85 1536.44 1231.18 1540.13 Q1228.54 1543.79 1228.54 1550.25 Z\" fill=\"#000000\" fill-rule=\"nonzero\" fill-opacity=\"1\" /><path clip-path=\"url(#clip490)\" d=\"M1296.9 1548.76 L1296.9 1551.62 L1269.98 1551.62 Q1270.36 1557.67 1273.61 1560.85 Q1276.88 1564 1282.71 1564 Q1286.08 1564 1289.23 1563.17 Q1292.42 1562.35 1295.54 1560.69 L1295.54 1566.23 Q1292.38 1567.57 1289.07 1568.27 Q1285.76 1568.97 1282.36 1568.97 Q1273.83 1568.97 1268.83 1564 Q1263.87 1559.04 1263.87 1550.57 Q1263.87 1541.82 1268.58 1536.69 Q1273.32 1531.54 1281.34 1531.54 Q1288.53 1531.54 1292.7 1536.18 Q1296.9 1540.8 1296.9 1548.76 M1291.05 1547.04 Q1290.98 1542.23 1288.34 1539.37 Q1285.73 1536.5 1281.4 1536.5 Q1276.5 1536.5 1273.54 1539.27 Q1270.61 1542.04 1270.17 1547.07 L1291.05 1547.04 Z\" fill=\"#000000\" fill-rule=\"nonzero\" fill-opacity=\"1\" /><path clip-path=\"url(#clip490)\" d=\"M1335 1532.4 L1322.11 1549.74 L1335.67 1568.04 L1328.76 1568.04 L1318.39 1554.04 L1308.01 1568.04 L1301.11 1568.04 L1314.95 1549.39 L1302.28 1532.4 L1309.19 1532.4 L1318.64 1545.1 L1328.1 1532.4 L1335 1532.4 Z\" fill=\"#000000\" fill-rule=\"nonzero\" fill-opacity=\"1\" /><polyline clip-path=\"url(#clip492)\" style=\"stroke:#000000; stroke-linecap:round; stroke-linejoin:round; stroke-width:2; stroke-opacity:0.1; fill:none\" points=\"239.697,1194.06 2112.76,1194.06 \"/>\n",
       "<polyline clip-path=\"url(#clip492)\" style=\"stroke:#000000; stroke-linecap:round; stroke-linejoin:round; stroke-width:2; stroke-opacity:0.1; fill:none\" points=\"239.697,959.064 2112.76,959.064 \"/>\n",
       "<polyline clip-path=\"url(#clip492)\" style=\"stroke:#000000; stroke-linecap:round; stroke-linejoin:round; stroke-width:2; stroke-opacity:0.1; fill:none\" points=\"239.697,724.069 2112.76,724.069 \"/>\n",
       "<polyline clip-path=\"url(#clip492)\" style=\"stroke:#000000; stroke-linecap:round; stroke-linejoin:round; stroke-width:2; stroke-opacity:0.1; fill:none\" points=\"239.697,489.074 2112.76,489.074 \"/>\n",
       "<polyline clip-path=\"url(#clip492)\" style=\"stroke:#000000; stroke-linecap:round; stroke-linejoin:round; stroke-width:2; stroke-opacity:0.1; fill:none\" points=\"239.697,254.079 2112.76,254.079 \"/>\n",
       "<polyline clip-path=\"url(#clip490)\" style=\"stroke:#000000; stroke-linecap:round; stroke-linejoin:round; stroke-width:4; stroke-opacity:1; fill:none\" points=\"239.697,1423.18 239.697,248.204 \"/>\n",
       "<polyline clip-path=\"url(#clip490)\" style=\"stroke:#000000; stroke-linecap:round; stroke-linejoin:round; stroke-width:4; stroke-opacity:1; fill:none\" points=\"239.697,1194.06 256.448,1194.06 \"/>\n",
       "<polyline clip-path=\"url(#clip490)\" style=\"stroke:#000000; stroke-linecap:round; stroke-linejoin:round; stroke-width:4; stroke-opacity:1; fill:none\" points=\"239.697,959.064 256.448,959.064 \"/>\n",
       "<polyline clip-path=\"url(#clip490)\" style=\"stroke:#000000; stroke-linecap:round; stroke-linejoin:round; stroke-width:4; stroke-opacity:1; fill:none\" points=\"239.697,724.069 256.448,724.069 \"/>\n",
       "<polyline clip-path=\"url(#clip490)\" style=\"stroke:#000000; stroke-linecap:round; stroke-linejoin:round; stroke-width:4; stroke-opacity:1; fill:none\" points=\"239.697,489.074 256.448,489.074 \"/>\n",
       "<polyline clip-path=\"url(#clip490)\" style=\"stroke:#000000; stroke-linecap:round; stroke-linejoin:round; stroke-width:4; stroke-opacity:1; fill:none\" points=\"239.697,254.079 256.448,254.079 \"/>\n",
       "<path clip-path=\"url(#clip490)\" d=\"M183.79 1207.4 L191.429 1207.4 L191.429 1181.04 L183.119 1182.71 L183.119 1178.45 L191.382 1176.78 L196.058 1176.78 L196.058 1207.4 L203.697 1207.4 L203.697 1211.34 L183.79 1211.34 L183.79 1207.4 Z\" fill=\"#000000\" fill-rule=\"nonzero\" fill-opacity=\"1\" /><path clip-path=\"url(#clip490)\" d=\"M187.378 972.409 L203.697 972.409 L203.697 976.344 L181.753 976.344 L181.753 972.409 Q184.415 969.655 188.998 965.025 Q193.605 960.372 194.785 959.03 Q197.031 956.507 197.91 954.77 Q198.813 953.011 198.813 951.321 Q198.813 948.567 196.869 946.831 Q194.947 945.095 191.845 945.095 Q189.646 945.095 187.193 945.858 Q184.762 946.622 181.984 948.173 L181.984 943.451 Q184.808 942.317 187.262 941.738 Q189.716 941.159 191.753 941.159 Q197.123 941.159 200.318 943.845 Q203.512 946.53 203.512 951.02 Q203.512 953.15 202.702 955.071 Q201.915 956.97 199.808 959.562 Q199.23 960.233 196.128 963.451 Q193.026 966.645 187.378 972.409 Z\" fill=\"#000000\" fill-rule=\"nonzero\" fill-opacity=\"1\" /><path clip-path=\"url(#clip490)\" d=\"M196.568 722.715 Q199.924 723.433 201.799 725.701 Q203.697 727.97 203.697 731.303 Q203.697 736.419 200.179 739.22 Q196.66 742.021 190.179 742.021 Q188.003 742.021 185.688 741.581 Q183.396 741.164 180.943 740.308 L180.943 735.794 Q182.887 736.928 185.202 737.507 Q187.517 738.085 190.04 738.085 Q194.438 738.085 196.73 736.349 Q199.044 734.613 199.044 731.303 Q199.044 728.247 196.892 726.535 Q194.762 724.798 190.943 724.798 L186.915 724.798 L186.915 720.956 L191.128 720.956 Q194.577 720.956 196.406 719.59 Q198.234 718.201 198.234 715.609 Q198.234 712.947 196.336 711.535 Q194.461 710.099 190.943 710.099 Q189.021 710.099 186.822 710.516 Q184.623 710.933 181.984 711.812 L181.984 707.646 Q184.646 706.905 186.961 706.535 Q189.299 706.164 191.359 706.164 Q196.683 706.164 199.785 708.595 Q202.887 711.002 202.887 715.123 Q202.887 717.993 201.243 719.984 Q199.6 721.951 196.568 722.715 Z\" fill=\"#000000\" fill-rule=\"nonzero\" fill-opacity=\"1\" /><path clip-path=\"url(#clip490)\" d=\"M194.114 475.868 L182.308 494.317 L194.114 494.317 L194.114 475.868 M192.887 471.794 L198.767 471.794 L198.767 494.317 L203.697 494.317 L203.697 498.206 L198.767 498.206 L198.767 506.354 L194.114 506.354 L194.114 498.206 L178.512 498.206 L178.512 493.692 L192.887 471.794 Z\" fill=\"#000000\" fill-rule=\"nonzero\" fill-opacity=\"1\" /><path clip-path=\"url(#clip490)\" d=\"M182.795 236.799 L201.151 236.799 L201.151 240.734 L187.077 240.734 L187.077 249.206 Q188.095 248.859 189.114 248.697 Q190.132 248.512 191.151 248.512 Q196.938 248.512 200.318 251.683 Q203.697 254.854 203.697 260.271 Q203.697 265.85 200.225 268.952 Q196.753 272.03 190.433 272.03 Q188.257 272.03 185.989 271.66 Q183.744 271.29 181.336 270.549 L181.336 265.85 Q183.42 266.984 185.642 267.54 Q187.864 268.095 190.341 268.095 Q194.345 268.095 196.683 265.989 Q199.021 263.882 199.021 260.271 Q199.021 256.66 196.683 254.554 Q194.345 252.447 190.341 252.447 Q188.466 252.447 186.591 252.864 Q184.739 253.28 182.795 254.16 L182.795 236.799 Z\" fill=\"#000000\" fill-rule=\"nonzero\" fill-opacity=\"1\" /><path clip-path=\"url(#clip490)\" d=\"M80.7361 937.909 L80.7361 897.71 L86.147 897.71 L86.147 914.579 L128.256 914.579 L128.256 921.04 L86.147 921.04 L86.147 937.909 L80.7361 937.909 Z\" fill=\"#000000\" fill-rule=\"nonzero\" fill-opacity=\"1\" /><path clip-path=\"url(#clip490)\" d=\"M92.6082 893.763 L92.6082 887.907 L128.256 887.907 L128.256 893.763 L92.6082 893.763 M78.7309 893.763 L78.7309 887.907 L86.147 887.907 L86.147 893.763 L78.7309 893.763 Z\" fill=\"#000000\" fill-rule=\"nonzero\" fill-opacity=\"1\" /><path clip-path=\"url(#clip490)\" d=\"M99.4513 847.898 Q95.5046 845.702 93.6267 842.647 Q91.7488 839.591 91.7488 835.453 Q91.7488 829.883 95.6637 826.86 Q99.5468 823.836 106.74 823.836 L128.256 823.836 L128.256 829.724 L106.931 829.724 Q101.807 829.724 99.324 831.538 Q96.8414 833.353 96.8414 837.077 Q96.8414 841.628 99.8651 844.27 Q102.889 846.912 108.109 846.912 L128.256 846.912 L128.256 852.8 L106.931 852.8 Q101.775 852.8 99.324 854.614 Q96.8414 856.428 96.8414 860.216 Q96.8414 864.704 99.8969 867.345 Q102.921 869.987 108.109 869.987 L128.256 869.987 L128.256 875.875 L92.6082 875.875 L92.6082 869.987 L98.1463 869.987 Q94.868 867.982 93.3084 865.181 Q91.7488 862.38 91.7488 858.529 Q91.7488 854.646 93.7222 851.94 Q95.6955 849.203 99.4513 847.898 Z\" fill=\"#000000\" fill-rule=\"nonzero\" fill-opacity=\"1\" /><path clip-path=\"url(#clip490)\" d=\"M108.968 781.663 L111.833 781.663 L111.833 808.59 Q117.88 808.208 121.063 804.962 Q124.214 801.683 124.214 795.859 Q124.214 792.485 123.386 789.334 Q122.559 786.151 120.904 783.032 L126.442 783.032 Q127.779 786.183 128.479 789.493 Q129.179 792.803 129.179 796.209 Q129.179 804.739 124.214 809.736 Q119.249 814.701 110.782 814.701 Q102.029 814.701 96.905 809.99 Q91.7488 805.248 91.7488 797.227 Q91.7488 790.034 96.3958 785.864 Q101.011 781.663 108.968 781.663 M107.249 787.519 Q102.443 787.583 99.5786 790.225 Q96.714 792.835 96.714 797.164 Q96.714 802.065 99.4831 805.025 Q102.252 807.953 107.281 808.399 L107.249 787.519 Z\" fill=\"#000000\" fill-rule=\"nonzero\" fill-opacity=\"1\" /><path clip-path=\"url(#clip490)\" d=\"M82.4867 745.538 L92.6082 745.538 L92.6082 733.475 L97.1596 733.475 L97.1596 745.538 L116.511 745.538 Q120.872 745.538 122.113 744.36 Q123.355 743.151 123.355 739.49 L123.355 733.475 L128.256 733.475 L128.256 739.49 Q128.256 746.27 125.742 748.848 Q123.195 751.426 116.511 751.426 L97.1596 751.426 L97.1596 755.723 L92.6082 755.723 L92.6082 751.426 L82.4867 751.426 L82.4867 745.538 Z\" fill=\"#000000\" fill-rule=\"nonzero\" fill-opacity=\"1\" /><path clip-path=\"url(#clip490)\" d=\"M85.2168 123.984 L123.457 123.984 L123.457 130.871 L93.3996 130.871 L93.3996 148.776 L122.202 148.776 L122.202 155.662 L93.3996 155.662 L93.3996 177.577 L124.186 177.577 L124.186 184.464 L85.2168 184.464 L85.2168 123.984 Z\" fill=\"#000000\" fill-rule=\"nonzero\" fill-opacity=\"1\" /><path clip-path=\"url(#clip490)\" d=\"M175.025 157.08 L175.025 184.464 L167.572 184.464 L167.572 157.323 Q167.572 150.882 165.06 147.682 Q162.549 144.482 157.525 144.482 Q151.49 144.482 148.006 148.33 Q144.522 152.178 144.522 158.822 L144.522 184.464 L137.028 184.464 L137.028 139.094 L144.522 139.094 L144.522 146.142 Q147.196 142.051 150.801 140.026 Q154.447 138 159.186 138 Q167.005 138 171.015 142.861 Q175.025 147.682 175.025 157.08 Z\" fill=\"#000000\" fill-rule=\"nonzero\" fill-opacity=\"1\" /><path clip-path=\"url(#clip490)\" d=\"M197.265 126.212 L197.265 139.094 L212.618 139.094 L212.618 144.887 L197.265 144.887 L197.265 169.516 Q197.265 175.066 198.764 176.646 Q200.303 178.226 204.961 178.226 L212.618 178.226 L212.618 184.464 L204.961 184.464 Q196.333 184.464 193.052 181.264 Q189.771 178.023 189.771 169.516 L189.771 144.887 L184.302 144.887 L184.302 139.094 L189.771 139.094 L189.771 126.212 L197.265 126.212 Z\" fill=\"#000000\" fill-rule=\"nonzero\" fill-opacity=\"1\" /><path clip-path=\"url(#clip490)\" d=\"M243.04 161.657 Q234.006 161.657 230.523 163.723 Q227.039 165.789 227.039 170.772 Q227.039 174.742 229.631 177.091 Q232.265 179.4 236.761 179.4 Q242.959 179.4 246.686 175.025 Q250.453 170.61 250.453 163.318 L250.453 161.657 L243.04 161.657 M257.907 158.579 L257.907 184.464 L250.453 184.464 L250.453 177.577 Q247.901 181.709 244.093 183.694 Q240.285 185.639 234.776 185.639 Q227.809 185.639 223.677 181.75 Q219.585 177.821 219.585 171.258 Q219.585 163.602 224.689 159.713 Q229.834 155.824 240.002 155.824 L250.453 155.824 L250.453 155.095 Q250.453 149.95 247.05 147.155 Q243.688 144.32 237.571 144.32 Q233.682 144.32 229.996 145.251 Q226.31 146.183 222.907 148.046 L222.907 141.16 Q226.998 139.58 230.847 138.81 Q234.695 138 238.341 138 Q248.185 138 253.046 143.104 Q257.907 148.208 257.907 158.579 Z\" fill=\"#000000\" fill-rule=\"nonzero\" fill-opacity=\"1\" /><path clip-path=\"url(#clip490)\" d=\"M310.974 157.08 L310.974 184.464 L303.52 184.464 L303.52 157.323 Q303.52 150.882 301.008 147.682 Q298.497 144.482 293.474 144.482 Q287.438 144.482 283.954 148.33 Q280.47 152.178 280.47 158.822 L280.47 184.464 L272.976 184.464 L272.976 139.094 L280.47 139.094 L280.47 146.142 Q283.144 142.051 286.749 140.026 Q290.395 138 295.135 138 Q302.953 138 306.963 142.861 Q310.974 147.682 310.974 157.08 Z\" fill=\"#000000\" fill-rule=\"nonzero\" fill-opacity=\"1\" /><path clip-path=\"url(#clip490)\" d=\"M355.696 161.252 Q355.696 153.151 352.333 148.695 Q349.012 144.239 342.976 144.239 Q336.98 144.239 333.618 148.695 Q330.296 153.151 330.296 161.252 Q330.296 169.314 333.618 173.77 Q336.98 178.226 342.976 178.226 Q349.012 178.226 352.333 173.77 Q355.696 169.314 355.696 161.252 M363.149 178.833 Q363.149 190.419 358.005 196.05 Q352.86 201.721 342.247 201.721 Q338.317 201.721 334.833 201.113 Q331.35 200.546 328.068 199.331 L328.068 192.08 Q331.35 193.862 334.55 194.713 Q337.75 195.563 341.072 195.563 Q348.404 195.563 352.05 191.715 Q355.696 187.907 355.696 180.17 L355.696 176.484 Q353.387 180.494 349.781 182.479 Q346.176 184.464 341.153 184.464 Q332.808 184.464 327.704 178.104 Q322.6 171.744 322.6 161.252 Q322.6 150.72 327.704 144.36 Q332.808 138 341.153 138 Q346.176 138 349.781 139.985 Q353.387 141.97 355.696 145.98 L355.696 139.094 L363.149 139.094 L363.149 178.833 Z\" fill=\"#000000\" fill-rule=\"nonzero\" fill-opacity=\"1\" /><path clip-path=\"url(#clip490)\" d=\"M378.502 121.432 L385.956 121.432 L385.956 184.464 L378.502 184.464 L378.502 121.432 Z\" fill=\"#000000\" fill-rule=\"nonzero\" fill-opacity=\"1\" /><path clip-path=\"url(#clip490)\" d=\"M440.36 159.916 L440.36 163.561 L406.089 163.561 Q406.575 171.258 410.707 175.309 Q414.879 179.319 422.293 179.319 Q426.586 179.319 430.597 178.266 Q434.648 177.213 438.618 175.106 L438.618 182.155 Q434.607 183.856 430.394 184.748 Q426.181 185.639 421.847 185.639 Q410.99 185.639 404.631 179.319 Q398.311 173 398.311 162.225 Q398.311 151.085 404.306 144.563 Q410.342 138 420.551 138 Q429.706 138 435.012 143.914 Q440.36 149.788 440.36 159.916 M432.906 157.728 Q432.825 151.611 429.463 147.965 Q426.141 144.32 420.632 144.32 Q414.393 144.32 410.626 147.844 Q406.899 151.368 406.332 157.769 L432.906 157.728 Z\" fill=\"#000000\" fill-rule=\"nonzero\" fill-opacity=\"1\" /><path clip-path=\"url(#clip490)\" d=\"M487.917 147.803 Q490.712 142.78 494.601 140.39 Q498.49 138 503.756 138 Q510.845 138 514.694 142.983 Q518.542 147.925 518.542 157.08 L518.542 184.464 L511.048 184.464 L511.048 157.323 Q511.048 150.801 508.739 147.641 Q506.43 144.482 501.69 144.482 Q495.897 144.482 492.535 148.33 Q489.173 152.178 489.173 158.822 L489.173 184.464 L481.679 184.464 L481.679 157.323 Q481.679 150.76 479.37 147.641 Q477.061 144.482 472.24 144.482 Q466.528 144.482 463.166 148.37 Q459.804 152.219 459.804 158.822 L459.804 184.464 L452.31 184.464 L452.31 139.094 L459.804 139.094 L459.804 146.142 Q462.356 141.97 465.921 139.985 Q469.486 138 474.387 138 Q479.329 138 482.773 140.512 Q486.256 143.023 487.917 147.803 Z\" fill=\"#000000\" fill-rule=\"nonzero\" fill-opacity=\"1\" /><path clip-path=\"url(#clip490)\" d=\"M572.216 159.916 L572.216 163.561 L537.946 163.561 Q538.432 171.258 542.564 175.309 Q546.736 179.319 554.149 179.319 Q558.443 179.319 562.454 178.266 Q566.505 177.213 570.475 175.106 L570.475 182.155 Q566.464 183.856 562.251 184.748 Q558.038 185.639 553.704 185.639 Q542.847 185.639 536.487 179.319 Q530.168 173 530.168 162.225 Q530.168 151.085 536.163 144.563 Q542.199 138 552.408 138 Q561.563 138 566.869 143.914 Q572.216 149.788 572.216 159.916 M564.763 157.728 Q564.682 151.611 561.32 147.965 Q557.998 144.32 552.489 144.32 Q546.25 144.32 542.483 147.844 Q538.756 151.368 538.189 157.769 L564.763 157.728 Z\" fill=\"#000000\" fill-rule=\"nonzero\" fill-opacity=\"1\" /><path clip-path=\"url(#clip490)\" d=\"M622.164 157.08 L622.164 184.464 L614.71 184.464 L614.71 157.323 Q614.71 150.882 612.199 147.682 Q609.687 144.482 604.664 144.482 Q598.628 144.482 595.145 148.33 Q591.661 152.178 591.661 158.822 L591.661 184.464 L584.167 184.464 L584.167 139.094 L591.661 139.094 L591.661 146.142 Q594.334 142.051 597.94 140.026 Q601.586 138 606.325 138 Q614.143 138 618.154 142.861 Q622.164 147.682 622.164 157.08 Z\" fill=\"#000000\" fill-rule=\"nonzero\" fill-opacity=\"1\" /><path clip-path=\"url(#clip490)\" d=\"M644.404 126.212 L644.404 139.094 L659.757 139.094 L659.757 144.887 L644.404 144.887 L644.404 169.516 Q644.404 175.066 645.902 176.646 Q647.442 178.226 652.1 178.226 L659.757 178.226 L659.757 184.464 L652.1 184.464 Q643.472 184.464 640.191 181.264 Q636.909 178.023 636.909 169.516 L636.909 144.887 L631.441 144.887 L631.441 139.094 L636.909 139.094 L636.909 126.212 L644.404 126.212 Z\" fill=\"#000000\" fill-rule=\"nonzero\" fill-opacity=\"1\" /><path clip-path=\"url(#clip490)\" d=\"M696.255 123.984 L734.496 123.984 L734.496 130.871 L704.438 130.871 L704.438 148.776 L733.24 148.776 L733.24 155.662 L704.438 155.662 L704.438 177.577 L735.225 177.577 L735.225 184.464 L696.255 184.464 L696.255 123.984 Z\" fill=\"#000000\" fill-rule=\"nonzero\" fill-opacity=\"1\" /><path clip-path=\"url(#clip490)\" d=\"M786.064 157.08 L786.064 184.464 L778.61 184.464 L778.61 157.323 Q778.61 150.882 776.098 147.682 Q773.587 144.482 768.564 144.482 Q762.528 144.482 759.044 148.33 Q755.56 152.178 755.56 158.822 L755.56 184.464 L748.066 184.464 L748.066 139.094 L755.56 139.094 L755.56 146.142 Q758.234 142.051 761.839 140.026 Q765.485 138 770.225 138 Q778.043 138 782.053 142.861 Q786.064 147.682 786.064 157.08 Z\" fill=\"#000000\" fill-rule=\"nonzero\" fill-opacity=\"1\" /><path clip-path=\"url(#clip490)\" d=\"M808.303 126.212 L808.303 139.094 L823.656 139.094 L823.656 144.887 L808.303 144.887 L808.303 169.516 Q808.303 175.066 809.802 176.646 Q811.341 178.226 816 178.226 L823.656 178.226 L823.656 184.464 L816 184.464 Q807.371 184.464 804.09 181.264 Q800.809 178.023 800.809 169.516 L800.809 144.887 L795.34 144.887 L795.34 139.094 L800.809 139.094 L800.809 126.212 L808.303 126.212 Z\" fill=\"#000000\" fill-rule=\"nonzero\" fill-opacity=\"1\" /><path clip-path=\"url(#clip490)\" d=\"M859.75 146.061 Q858.494 145.332 856.995 145.008 Q855.537 144.644 853.754 144.644 Q847.435 144.644 844.032 148.776 Q840.67 152.867 840.67 160.564 L840.67 184.464 L833.176 184.464 L833.176 139.094 L840.67 139.094 L840.67 146.142 Q843.019 142.011 846.787 140.026 Q850.554 138 855.942 138 Q856.711 138 857.643 138.122 Q858.575 138.203 859.709 138.405 L859.75 146.061 Z\" fill=\"#000000\" fill-rule=\"nonzero\" fill-opacity=\"1\" /><path clip-path=\"url(#clip490)\" d=\"M883.326 144.32 Q877.331 144.32 873.847 149.019 Q870.363 153.677 870.363 161.819 Q870.363 169.962 873.806 174.661 Q877.29 179.319 883.326 179.319 Q889.281 179.319 892.765 174.62 Q896.248 169.921 896.248 161.819 Q896.248 153.758 892.765 149.059 Q889.281 144.32 883.326 144.32 M883.326 138 Q893.048 138 898.598 144.32 Q904.148 150.639 904.148 161.819 Q904.148 172.959 898.598 179.319 Q893.048 185.639 883.326 185.639 Q873.563 185.639 868.013 179.319 Q862.504 172.959 862.504 161.819 Q862.504 150.639 868.013 144.32 Q873.563 138 883.326 138 Z\" fill=\"#000000\" fill-rule=\"nonzero\" fill-opacity=\"1\" /><path clip-path=\"url(#clip490)\" d=\"M923.713 177.658 L923.713 201.721 L916.219 201.721 L916.219 139.094 L923.713 139.094 L923.713 145.98 Q926.063 141.93 929.628 139.985 Q933.233 138 938.216 138 Q946.48 138 951.624 144.563 Q956.809 151.125 956.809 161.819 Q956.809 172.514 951.624 179.076 Q946.48 185.639 938.216 185.639 Q933.233 185.639 929.628 183.694 Q926.063 181.709 923.713 177.658 M949.072 161.819 Q949.072 153.596 945.669 148.938 Q942.307 144.239 936.393 144.239 Q930.478 144.239 927.076 148.938 Q923.713 153.596 923.713 161.819 Q923.713 170.043 927.076 174.742 Q930.478 179.4 936.393 179.4 Q942.307 179.4 945.669 174.742 Q949.072 170.043 949.072 161.819 Z\" fill=\"#000000\" fill-rule=\"nonzero\" fill-opacity=\"1\" /><path clip-path=\"url(#clip490)\" d=\"M988.042 188.677 Q984.882 196.779 981.884 199.25 Q978.887 201.721 973.864 201.721 L967.909 201.721 L967.909 195.482 L972.284 195.482 Q975.362 195.482 977.064 194.024 Q978.765 192.566 980.831 187.138 L982.168 183.735 L963.817 139.094 L971.717 139.094 L985.895 174.58 L1000.07 139.094 L1007.97 139.094 L988.042 188.677 Z\" fill=\"#000000\" fill-rule=\"nonzero\" fill-opacity=\"1\" /><path clip-path=\"url(#clip490)\" d=\"M1081.21 125.969 L1081.21 133.949 Q1076.55 131.721 1072.42 130.627 Q1068.29 129.534 1064.44 129.534 Q1057.76 129.534 1054.11 132.126 Q1050.51 134.719 1050.51 139.499 Q1050.51 143.509 1052.9 145.575 Q1055.33 147.601 1062.05 148.857 L1066.99 149.869 Q1076.15 151.611 1080.48 156.027 Q1084.86 160.402 1084.86 167.774 Q1084.86 176.565 1078.94 181.102 Q1073.07 185.639 1061.69 185.639 Q1057.39 185.639 1052.53 184.667 Q1047.71 183.694 1042.53 181.79 L1042.53 173.365 Q1047.51 176.16 1052.29 177.577 Q1057.07 178.995 1061.69 178.995 Q1068.7 178.995 1072.5 176.241 Q1076.31 173.486 1076.31 168.382 Q1076.31 163.926 1073.56 161.414 Q1070.84 158.903 1064.6 157.647 L1059.62 156.675 Q1050.47 154.852 1046.37 150.963 Q1042.28 147.074 1042.28 140.147 Q1042.28 132.126 1047.91 127.508 Q1053.59 122.89 1063.51 122.89 Q1067.76 122.89 1072.18 123.66 Q1076.59 124.43 1081.21 125.969 Z\" fill=\"#000000\" fill-rule=\"nonzero\" fill-opacity=\"1\" /><path clip-path=\"url(#clip490)\" d=\"M1136.1 159.916 L1136.1 163.561 L1101.83 163.561 Q1102.32 171.258 1106.45 175.309 Q1110.62 179.319 1118.04 179.319 Q1122.33 179.319 1126.34 178.266 Q1130.39 177.213 1134.36 175.106 L1134.36 182.155 Q1130.35 183.856 1126.14 184.748 Q1121.92 185.639 1117.59 185.639 Q1106.73 185.639 1100.37 179.319 Q1094.05 173 1094.05 162.225 Q1094.05 151.085 1100.05 144.563 Q1106.09 138 1116.29 138 Q1125.45 138 1130.76 143.914 Q1136.1 149.788 1136.1 159.916 M1128.65 157.728 Q1128.57 151.611 1125.21 147.965 Q1121.88 144.32 1116.37 144.32 Q1110.14 144.32 1106.37 147.844 Q1102.64 151.368 1102.07 157.769 L1128.65 157.728 Z\" fill=\"#000000\" fill-rule=\"nonzero\" fill-opacity=\"1\" /><path clip-path=\"url(#clip490)\" d=\"M1155.55 177.658 L1155.55 201.721 L1148.05 201.721 L1148.05 139.094 L1155.55 139.094 L1155.55 145.98 Q1157.9 141.93 1161.46 139.985 Q1165.07 138 1170.05 138 Q1178.31 138 1183.46 144.563 Q1188.64 151.125 1188.64 161.819 Q1188.64 172.514 1183.46 179.076 Q1178.31 185.639 1170.05 185.639 Q1165.07 185.639 1161.46 183.694 Q1157.9 181.709 1155.55 177.658 M1180.91 161.819 Q1180.91 153.596 1177.5 148.938 Q1174.14 144.239 1168.23 144.239 Q1162.31 144.239 1158.91 148.938 Q1155.55 153.596 1155.55 161.819 Q1155.55 170.043 1158.91 174.742 Q1162.31 179.4 1168.23 179.4 Q1174.14 179.4 1177.5 174.742 Q1180.91 170.043 1180.91 161.819 Z\" fill=\"#000000\" fill-rule=\"nonzero\" fill-opacity=\"1\" /><path clip-path=\"url(#clip490)\" d=\"M1221.62 161.657 Q1212.58 161.657 1209.1 163.723 Q1205.62 165.789 1205.62 170.772 Q1205.62 174.742 1208.21 177.091 Q1210.84 179.4 1215.34 179.4 Q1221.54 179.4 1225.26 175.025 Q1229.03 170.61 1229.03 163.318 L1229.03 161.657 L1221.62 161.657 M1236.48 158.579 L1236.48 184.464 L1229.03 184.464 L1229.03 177.577 Q1226.48 181.709 1222.67 183.694 Q1218.86 185.639 1213.35 185.639 Q1206.39 185.639 1202.25 181.75 Q1198.16 177.821 1198.16 171.258 Q1198.16 163.602 1203.27 159.713 Q1208.41 155.824 1218.58 155.824 L1229.03 155.824 L1229.03 155.095 Q1229.03 149.95 1225.63 147.155 Q1222.27 144.32 1216.15 144.32 Q1212.26 144.32 1208.57 145.251 Q1204.89 146.183 1201.48 148.046 L1201.48 141.16 Q1205.58 139.58 1209.42 138.81 Q1213.27 138 1216.92 138 Q1226.76 138 1231.62 143.104 Q1236.48 148.208 1236.48 158.579 Z\" fill=\"#000000\" fill-rule=\"nonzero\" fill-opacity=\"1\" /><path clip-path=\"url(#clip490)\" d=\"M1278.13 146.061 Q1276.87 145.332 1275.37 145.008 Q1273.91 144.644 1272.13 144.644 Q1265.81 144.644 1262.41 148.776 Q1259.05 152.867 1259.05 160.564 L1259.05 184.464 L1251.55 184.464 L1251.55 139.094 L1259.05 139.094 L1259.05 146.142 Q1261.4 142.011 1265.16 140.026 Q1268.93 138 1274.32 138 Q1275.09 138 1276.02 138.122 Q1276.95 138.203 1278.09 138.405 L1278.13 146.061 Z\" fill=\"#000000\" fill-rule=\"nonzero\" fill-opacity=\"1\" /><path clip-path=\"url(#clip490)\" d=\"M1306.56 161.657 Q1297.53 161.657 1294.05 163.723 Q1290.56 165.789 1290.56 170.772 Q1290.56 174.742 1293.16 177.091 Q1295.79 179.4 1300.29 179.4 Q1306.48 179.4 1310.21 175.025 Q1313.98 170.61 1313.98 163.318 L1313.98 161.657 L1306.56 161.657 M1321.43 158.579 L1321.43 184.464 L1313.98 184.464 L1313.98 177.577 Q1311.43 181.709 1307.62 183.694 Q1303.81 185.639 1298.3 185.639 Q1291.33 185.639 1287.2 181.75 Q1283.11 177.821 1283.11 171.258 Q1283.11 163.602 1288.21 159.713 Q1293.36 155.824 1303.53 155.824 L1313.98 155.824 L1313.98 155.095 Q1313.98 149.95 1310.57 147.155 Q1307.21 144.32 1301.1 144.32 Q1297.21 144.32 1293.52 145.251 Q1289.83 146.183 1286.43 148.046 L1286.43 141.16 Q1290.52 139.58 1294.37 138.81 Q1298.22 138 1301.87 138 Q1311.71 138 1316.57 143.104 Q1321.43 148.208 1321.43 158.579 Z\" fill=\"#000000\" fill-rule=\"nonzero\" fill-opacity=\"1\" /><path clip-path=\"url(#clip490)\" d=\"M1344.16 126.212 L1344.16 139.094 L1359.51 139.094 L1359.51 144.887 L1344.16 144.887 L1344.16 169.516 Q1344.16 175.066 1345.66 176.646 Q1347.19 178.226 1351.85 178.226 L1359.51 178.226 L1359.51 184.464 L1351.85 184.464 Q1343.23 184.464 1339.94 181.264 Q1336.66 178.023 1336.66 169.516 L1336.66 144.887 L1331.19 144.887 L1331.19 139.094 L1336.66 139.094 L1336.66 126.212 L1344.16 126.212 Z\" fill=\"#000000\" fill-rule=\"nonzero\" fill-opacity=\"1\" /><path clip-path=\"url(#clip490)\" d=\"M1369.31 139.094 L1376.77 139.094 L1376.77 184.464 L1369.31 184.464 L1369.31 139.094 M1369.31 121.432 L1376.77 121.432 L1376.77 130.871 L1369.31 130.871 L1369.31 121.432 Z\" fill=\"#000000\" fill-rule=\"nonzero\" fill-opacity=\"1\" /><path clip-path=\"url(#clip490)\" d=\"M1430.08 157.08 L1430.08 184.464 L1422.62 184.464 L1422.62 157.323 Q1422.62 150.882 1420.11 147.682 Q1417.6 144.482 1412.58 144.482 Q1406.54 144.482 1403.06 148.33 Q1399.57 152.178 1399.57 158.822 L1399.57 184.464 L1392.08 184.464 L1392.08 139.094 L1399.57 139.094 L1399.57 146.142 Q1402.25 142.051 1405.85 140.026 Q1409.5 138 1414.24 138 Q1422.06 138 1426.07 142.861 Q1430.08 147.682 1430.08 157.08 Z\" fill=\"#000000\" fill-rule=\"nonzero\" fill-opacity=\"1\" /><path clip-path=\"url(#clip490)\" d=\"M1474.8 161.252 Q1474.8 153.151 1471.44 148.695 Q1468.11 144.239 1462.08 144.239 Q1456.08 144.239 1452.72 148.695 Q1449.4 153.151 1449.4 161.252 Q1449.4 169.314 1452.72 173.77 Q1456.08 178.226 1462.08 178.226 Q1468.11 178.226 1471.44 173.77 Q1474.8 169.314 1474.8 161.252 M1482.25 178.833 Q1482.25 190.419 1477.11 196.05 Q1471.96 201.721 1461.35 201.721 Q1457.42 201.721 1453.94 201.113 Q1450.45 200.546 1447.17 199.331 L1447.17 192.08 Q1450.45 193.862 1453.65 194.713 Q1456.85 195.563 1460.17 195.563 Q1467.51 195.563 1471.15 191.715 Q1474.8 187.907 1474.8 180.17 L1474.8 176.484 Q1472.49 180.494 1468.88 182.479 Q1465.28 184.464 1460.26 184.464 Q1451.91 184.464 1446.81 178.104 Q1441.7 171.744 1441.7 161.252 Q1441.7 150.72 1446.81 144.36 Q1451.91 138 1460.26 138 Q1465.28 138 1468.88 139.985 Q1472.49 141.97 1474.8 145.98 L1474.8 139.094 L1482.25 139.094 L1482.25 178.833 Z\" fill=\"#000000\" fill-rule=\"nonzero\" fill-opacity=\"1\" /><path clip-path=\"url(#clip490)\" d=\"M1560.56 125.969 L1560.56 133.949 Q1555.9 131.721 1551.77 130.627 Q1547.63 129.534 1543.79 129.534 Q1537.1 129.534 1533.46 132.126 Q1529.85 134.719 1529.85 139.499 Q1529.85 143.509 1532.24 145.575 Q1534.67 147.601 1541.4 148.857 L1546.34 149.869 Q1555.49 151.611 1559.83 156.027 Q1564.2 160.402 1564.2 167.774 Q1564.2 176.565 1558.29 181.102 Q1552.41 185.639 1541.03 185.639 Q1536.74 185.639 1531.88 184.667 Q1527.06 183.694 1521.87 181.79 L1521.87 173.365 Q1526.85 176.16 1531.63 177.577 Q1536.41 178.995 1541.03 178.995 Q1548.04 178.995 1551.85 176.241 Q1555.65 173.486 1555.65 168.382 Q1555.65 163.926 1552.9 161.414 Q1550.19 158.903 1543.95 157.647 L1538.96 156.675 Q1529.81 154.852 1525.72 150.963 Q1521.63 147.074 1521.63 140.147 Q1521.63 132.126 1527.26 127.508 Q1532.93 122.89 1542.85 122.89 Q1547.11 122.89 1551.52 123.66 Q1555.94 124.43 1560.56 125.969 Z\" fill=\"#000000\" fill-rule=\"nonzero\" fill-opacity=\"1\" /><path clip-path=\"url(#clip490)\" d=\"M1595.52 188.677 Q1592.36 196.779 1589.36 199.25 Q1586.36 201.721 1581.34 201.721 L1575.38 201.721 L1575.38 195.482 L1579.76 195.482 Q1582.84 195.482 1584.54 194.024 Q1586.24 192.566 1588.3 187.138 L1589.64 183.735 L1571.29 139.094 L1579.19 139.094 L1593.37 174.58 L1607.55 139.094 L1615.45 139.094 L1595.52 188.677 Z\" fill=\"#000000\" fill-rule=\"nonzero\" fill-opacity=\"1\" /><path clip-path=\"url(#clip490)\" d=\"M1654.66 140.431 L1654.66 147.479 Q1651.5 145.859 1648.1 145.049 Q1644.69 144.239 1641.05 144.239 Q1635.5 144.239 1632.7 145.94 Q1629.95 147.641 1629.95 151.044 Q1629.95 153.637 1631.93 155.135 Q1633.92 156.594 1639.91 157.931 L1642.47 158.498 Q1650.41 160.199 1653.73 163.318 Q1657.09 166.397 1657.09 171.947 Q1657.09 178.266 1652.07 181.952 Q1647.08 185.639 1638.33 185.639 Q1634.69 185.639 1630.72 184.91 Q1626.79 184.221 1622.41 182.803 L1622.41 175.106 Q1626.55 177.253 1630.56 178.347 Q1634.57 179.4 1638.5 179.4 Q1643.76 179.4 1646.6 177.618 Q1649.43 175.795 1649.43 172.514 Q1649.43 169.476 1647.37 167.855 Q1645.34 166.235 1638.41 164.736 L1635.82 164.128 Q1628.89 162.67 1625.82 159.672 Q1622.74 156.634 1622.74 151.368 Q1622.74 144.968 1627.27 141.484 Q1631.81 138 1640.16 138 Q1644.29 138 1647.93 138.608 Q1651.58 139.215 1654.66 140.431 Z\" fill=\"#000000\" fill-rule=\"nonzero\" fill-opacity=\"1\" /><path clip-path=\"url(#clip490)\" d=\"M1676.33 126.212 L1676.33 139.094 L1691.68 139.094 L1691.68 144.887 L1676.33 144.887 L1676.33 169.516 Q1676.33 175.066 1677.83 176.646 Q1679.37 178.226 1684.03 178.226 L1691.68 178.226 L1691.68 184.464 L1684.03 184.464 Q1675.4 184.464 1672.12 181.264 Q1668.84 178.023 1668.84 169.516 L1668.84 144.887 L1663.37 144.887 L1663.37 139.094 L1668.84 139.094 L1668.84 126.212 L1676.33 126.212 Z\" fill=\"#000000\" fill-rule=\"nonzero\" fill-opacity=\"1\" /><path clip-path=\"url(#clip490)\" d=\"M1740.29 159.916 L1740.29 163.561 L1706.02 163.561 Q1706.51 171.258 1710.64 175.309 Q1714.81 179.319 1722.23 179.319 Q1726.52 179.319 1730.53 178.266 Q1734.58 177.213 1738.55 175.106 L1738.55 182.155 Q1734.54 183.856 1730.33 184.748 Q1726.12 185.639 1721.78 185.639 Q1710.93 185.639 1704.57 179.319 Q1698.25 173 1698.25 162.225 Q1698.25 151.085 1704.24 144.563 Q1710.28 138 1720.49 138 Q1729.64 138 1734.95 143.914 Q1740.29 149.788 1740.29 159.916 M1732.84 157.728 Q1732.76 151.611 1729.4 147.965 Q1726.08 144.32 1720.57 144.32 Q1714.33 144.32 1710.56 147.844 Q1706.83 151.368 1706.27 157.769 L1732.84 157.728 Z\" fill=\"#000000\" fill-rule=\"nonzero\" fill-opacity=\"1\" /><path clip-path=\"url(#clip490)\" d=\"M1787.85 147.803 Q1790.65 142.78 1794.54 140.39 Q1798.43 138 1803.69 138 Q1810.78 138 1814.63 142.983 Q1818.48 147.925 1818.48 157.08 L1818.48 184.464 L1810.98 184.464 L1810.98 157.323 Q1810.98 150.801 1808.67 147.641 Q1806.36 144.482 1801.63 144.482 Q1795.83 144.482 1792.47 148.33 Q1789.11 152.178 1789.11 158.822 L1789.11 184.464 L1781.61 184.464 L1781.61 157.323 Q1781.61 150.76 1779.3 147.641 Q1777 144.482 1772.18 144.482 Q1766.46 144.482 1763.1 148.37 Q1759.74 152.219 1759.74 158.822 L1759.74 184.464 L1752.24 184.464 L1752.24 139.094 L1759.74 139.094 L1759.74 146.142 Q1762.29 141.97 1765.86 139.985 Q1769.42 138 1774.32 138 Q1779.26 138 1782.71 140.512 Q1786.19 143.023 1787.85 147.803 Z\" fill=\"#000000\" fill-rule=\"nonzero\" fill-opacity=\"1\" /><path clip-path=\"url(#clip490)\" d=\"M1880.33 161.657 Q1871.3 161.657 1867.82 163.723 Q1864.33 165.789 1864.33 170.772 Q1864.33 174.742 1866.93 177.091 Q1869.56 179.4 1874.06 179.4 Q1880.25 179.4 1883.98 175.025 Q1887.75 170.61 1887.75 163.318 L1887.75 161.657 L1880.33 161.657 M1895.2 158.579 L1895.2 184.464 L1887.75 184.464 L1887.75 177.577 Q1885.2 181.709 1881.39 183.694 Q1877.58 185.639 1872.07 185.639 Q1865.1 185.639 1860.97 181.75 Q1856.88 177.821 1856.88 171.258 Q1856.88 163.602 1861.98 159.713 Q1867.13 155.824 1877.3 155.824 L1887.75 155.824 L1887.75 155.095 Q1887.75 149.95 1884.34 147.155 Q1880.98 144.32 1874.87 144.32 Q1870.98 144.32 1867.29 145.251 Q1863.6 146.183 1860.2 148.046 L1860.2 141.16 Q1864.29 139.58 1868.14 138.81 Q1871.99 138 1875.64 138 Q1885.48 138 1890.34 143.104 Q1895.2 148.208 1895.2 158.579 Z\" fill=\"#000000\" fill-rule=\"nonzero\" fill-opacity=\"1\" /><path clip-path=\"url(#clip490)\" d=\"M1948.27 157.08 L1948.27 184.464 L1940.81 184.464 L1940.81 157.323 Q1940.81 150.882 1938.3 147.682 Q1935.79 144.482 1930.77 144.482 Q1924.73 144.482 1921.25 148.33 Q1917.76 152.178 1917.76 158.822 L1917.76 184.464 L1910.27 184.464 L1910.27 139.094 L1917.76 139.094 L1917.76 146.142 Q1920.44 142.051 1924.04 140.026 Q1927.69 138 1932.43 138 Q1940.25 138 1944.26 142.861 Q1948.27 147.682 1948.27 157.08 Z\" fill=\"#000000\" fill-rule=\"nonzero\" fill-opacity=\"1\" /><path clip-path=\"url(#clip490)\" d=\"M1992.99 145.98 L1992.99 121.432 L2000.44 121.432 L2000.44 184.464 L1992.99 184.464 L1992.99 177.658 Q1990.64 181.709 1987.04 183.694 Q1983.47 185.639 1978.45 185.639 Q1970.22 185.639 1965.04 179.076 Q1959.89 172.514 1959.89 161.819 Q1959.89 151.125 1965.04 144.563 Q1970.22 138 1978.45 138 Q1983.47 138 1987.04 139.985 Q1990.64 141.93 1992.99 145.98 M1967.59 161.819 Q1967.59 170.043 1970.95 174.742 Q1974.36 179.4 1980.27 179.4 Q1986.18 179.4 1989.59 174.742 Q1992.99 170.043 1992.99 161.819 Q1992.99 153.596 1989.59 148.938 Q1986.18 144.239 1980.27 144.239 Q1974.36 144.239 1970.95 148.938 Q1967.59 153.596 1967.59 161.819 Z\" fill=\"#000000\" fill-rule=\"nonzero\" fill-opacity=\"1\" /><path clip-path=\"url(#clip490)\" d=\"M2062.71 132.045 L2051.61 162.144 L2073.85 162.144 L2062.71 132.045 M2058.09 123.984 L2067.36 123.984 L2090.41 184.464 L2081.91 184.464 L2076.4 168.949 L2049.14 168.949 L2043.63 184.464 L2035 184.464 L2058.09 123.984 Z\" fill=\"#000000\" fill-rule=\"nonzero\" fill-opacity=\"1\" /><path clip-path=\"url(#clip490)\" d=\"M2136.64 157.08 L2136.64 184.464 L2129.18 184.464 L2129.18 157.323 Q2129.18 150.882 2126.67 147.682 Q2124.16 144.482 2119.14 144.482 Q2113.1 144.482 2109.62 148.33 Q2106.13 152.178 2106.13 158.822 L2106.13 184.464 L2098.64 184.464 L2098.64 139.094 L2106.13 139.094 L2106.13 146.142 Q2108.81 142.051 2112.41 140.026 Q2116.06 138 2120.8 138 Q2128.61 138 2132.62 142.861 Q2136.64 147.682 2136.64 157.08 Z\" fill=\"#000000\" fill-rule=\"nonzero\" fill-opacity=\"1\" /><path clip-path=\"url(#clip490)\" d=\"M2184.15 140.836 L2184.15 147.803 Q2180.99 146.061 2177.79 145.211 Q2174.63 144.32 2171.39 144.32 Q2164.14 144.32 2160.13 148.938 Q2156.12 153.515 2156.12 161.819 Q2156.12 170.124 2160.13 174.742 Q2164.14 179.319 2171.39 179.319 Q2174.63 179.319 2177.79 178.469 Q2180.99 177.577 2184.15 175.836 L2184.15 182.722 Q2181.03 184.18 2177.67 184.91 Q2174.35 185.639 2170.58 185.639 Q2160.33 185.639 2154.3 179.198 Q2148.26 172.757 2148.26 161.819 Q2148.26 150.72 2154.34 144.36 Q2160.45 138 2171.07 138 Q2174.51 138 2177.79 138.729 Q2181.07 139.418 2184.15 140.836 Z\" fill=\"#000000\" fill-rule=\"nonzero\" fill-opacity=\"1\" /><path clip-path=\"url(#clip490)\" d=\"M2197.12 139.094 L2204.57 139.094 L2204.57 184.464 L2197.12 184.464 L2197.12 139.094 M2197.12 121.432 L2204.57 121.432 L2204.57 130.871 L2197.12 130.871 L2197.12 121.432 Z\" fill=\"#000000\" fill-rule=\"nonzero\" fill-opacity=\"1\" /><path clip-path=\"url(#clip490)\" d=\"M2220.16 121.432 L2227.62 121.432 L2227.62 184.464 L2220.16 184.464 L2220.16 121.432 Z\" fill=\"#000000\" fill-rule=\"nonzero\" fill-opacity=\"1\" /><path clip-path=\"url(#clip490)\" d=\"M2243.21 121.432 L2250.67 121.432 L2250.67 184.464 L2243.21 184.464 L2243.21 121.432 Z\" fill=\"#000000\" fill-rule=\"nonzero\" fill-opacity=\"1\" /><path clip-path=\"url(#clip490)\" d=\"M2286.88 161.657 Q2277.85 161.657 2274.37 163.723 Q2270.88 165.789 2270.88 170.772 Q2270.88 174.742 2273.47 177.091 Q2276.11 179.4 2280.6 179.4 Q2286.8 179.4 2290.53 175.025 Q2294.3 170.61 2294.3 163.318 L2294.3 161.657 L2286.88 161.657 M2301.75 158.579 L2301.75 184.464 L2294.3 184.464 L2294.3 177.577 Q2291.74 181.709 2287.94 183.694 Q2284.13 185.639 2278.62 185.639 Q2271.65 185.639 2267.52 181.75 Q2263.43 177.821 2263.43 171.258 Q2263.43 163.602 2268.53 159.713 Q2273.68 155.824 2283.85 155.824 L2294.3 155.824 L2294.3 155.095 Q2294.3 149.95 2290.89 147.155 Q2287.53 144.32 2281.41 144.32 Q2277.53 144.32 2273.84 145.251 Q2270.15 146.183 2266.75 148.046 L2266.75 141.16 Q2270.84 139.58 2274.69 138.81 Q2278.54 138 2282.18 138 Q2292.03 138 2296.89 143.104 Q2301.75 148.208 2301.75 158.579 Z\" fill=\"#000000\" fill-rule=\"nonzero\" fill-opacity=\"1\" /><g clip-path=\"url(#clip492)\">\n",
       "<image width=\"1873\" height=\"1175\" xlink:href=\"data:image/png;base64,\n",
       "iVBORw0KGgoAAAANSUhEUgAAB1EAAASXCAYAAACwSoYPAAAgAElEQVR4nOzbsa0ly3VA0anuHoMZ\n",
       "KAAqHro0GYAMhkKDAcikq3gkgC4z+AYBfrl73ItXffhr1orgoNGoqr677vr1X3//9RsA/yYsydv9\n",
       "+q/pCX4Ov/xjeoLz/d/fpic43v/+91+nRzje//xlegL4Gn/48/QE5/vPP/3X9Ajn+/0fpyc43+/+\n",
       "Y3qC861reoKfxJoeAIBv3759W9bj3ZwsAAAAAAAAAEJEBQAAAAAAAAgRFQAAAAAAACBEVAAAAAAA\n",
       "AIAQUQEAAAAAAABCRAUAAAAAAAAIERUAAAAAAAAgRFQAAAAAAACAEFEBAAAAAAAAQkQFAAAAAAAA\n",
       "CBEVAAAAAAAAIJ7pAQCoNT3A+Tzil3jQ21339ATH84j3W650cgjrxQs85Bc4v23nEb/AQwYAvo6f\n",
       "LQAAAAAAAABCRAUAAAAAAAAIERUAAAAAAAAgRFQAAAAAAACAEFEBAAAAAAAAQkQFAAAAAAAACBEV\n",
       "AAAAAAAAIERUAAAAAAAAgBBRAQAAAAAAAEJEBQAAAAAAAAgRFQAAAAAAACCe6QEA4F1reoCfw3JP\n",
       "a7t1T09wvMtrvJ1nzCm8yy+w7+3n/PYC3yIAAL8lTsgAAAAAAAAAIaICAAAAAAAAhIgKAAAAAAAA\n",
       "ECIqAAAAAAAAQIioAAAAAAAAACGiAgAAAAAAAISICgAAAAAAABAiKgAAAAAAAECIqAAAAAAAAAAh\n",
       "ogIAAAAAAACEiAoAAAAAAAAQz/QAAMCJ1vQA51v39ATHuzzi7ZYrnRzCevEC+94LnN8AAKD8bAEA\n",
       "AAAAAAAQIioAAAAAAABAiKgAAAAAAAAAIaICAAAAAAAAhIgKAAAAAAAAECIqAAAAAAAAQIioAAAA\n",
       "AAAAACGiAgAAAAAAAISICgAAAAAAABAiKgAAAAAAAEA80wMAAAdaa3qC8617eoLjXR7xdsuVTg5h\n",
       "vXiBfW8/5zcAAPiBny0AAAAAAAAAQkQFAAAAAAAACBEVAAAAAAAAIERUAAAAAAAAgBBRAQAAAAAA\n",
       "AEJEBQAAAAAAAAgRFQAAAAAAACBEVAAAAAAAAIAQUQEAAAAAAABCRAUAAAAAAAAIERUAAAAAAAAg\n",
       "nukBAIATrekBzrfu6QmOd3nE212udHII68UL7HsvcH4DAIDyswUAAAAAAABAiKgAAAAAAAAAIaIC\n",
       "AAAAAAAAhIgKAAAAAAAAECIqAAAAAAAAQIioAAAAAAAAACGiAgAAAAAAAISICgAAAAAAABAiKgAA\n",
       "AAAAAECIqAAAAAAAAAAhogIAAAAAAADEMz0AAHCgtaYnON9yF263656e4HyX15hDWC9eYN/bz/kN\n",
       "AAB+4CsEAAAAAAAAIERUAAAAAAAAgBBRAQAAAAAAAEJEBQAAAAAAAAgRFQAAAAAAACBEVAAAAAAA\n",
       "AIAQUQEAAAAAAABCRAUAAAAAAAAIERUAAAAAAAAgRFQAAAAAAACAEFEBAAAAAAAA4pkeAAA4kXta\n",
       "2617eoLjXR7xdstSwSGsFy+w773AogwAAOWEDAAAAAAAABAiKgAAAAAAAECIqAAAAAAAAAAhogIA\n",
       "AAAAAACEiAoAAAAAAAAQIioAAAAAAABAiKgAAAAAAAAAIaICAAAAAAAAhIgKAAAAAAAAECIqAAAA\n",
       "AAAAQDzTAwDAu9b0AD+H5Tlvd93TExzPI97PM+YU3uUXeMj7Ob+9wDMGAPgt8U9UAAAAAAAAgBBR\n",
       "AQAAAAAAAEJEBQAAAAAAAAgRFQAAAAAAACBEVAAAAAAAAIAQUQEAAAAAAABCRAUAAAAAAAAIERUA\n",
       "AAAAAAAgRFQAAAAAAACAEFEBAAAAAAAAQkQFAAAAAAAAiGd6AADgRGt6gPOte3qC410e8XaXK50c\n",
       "wnrxAvveC5zfAACg/GwBAAAAAAAAECIqAAAAAAAAQIioAAAAAAAAACGiAgAAAAAAAISICgAAAAAA\n",
       "ABAiKgAAAAAAAECIqAAAAAAAAAAhogIAAAAAAACEiAoAAAAAAAAQIioAAAAAAABAiKgAAAAAAAAA\n",
       "8UwPAACcaE0PcL7lLtxul5PyduuengC+hvXiBfa9Fzi/AQBA+QoBAAAAAAAACBEVAAAAAAAAIERU\n",
       "AAAAAAAAgBBRAQAAAAAAAEJEBQAAAAAAAAgRFQAAAAAAACBEVAAAAAAAAIAQUQEAAAAAAABCRAUA\n",
       "AAAAAAAIERUAAAAAAAAgRFQAAAAAAACAeKYHAAAOtNb0BOdb9/QEx7s94u0uVzo5hPXiBfa9/Zzf\n",
       "AADgB362AAAAAAAAAAgRFQAAAAAAACBEVAAAAAAAAIAQUQEAAAAAAABCRAUAAAAAAAAIERUAAAAA\n",
       "AAAgRFQAAAAAAACAEFEBAAAAAAAAQkQFAAAAAAAACBEVAAAAAAAAIJ7pAQCAE63pAc633IXb7bqn\n",
       "JzifZ8wpvMsvsO+9wPkNAADKVwgAAAAAAABAiKgAAAAAAAAAIaICAAAAAAAAhIgKAAAAAAAAECIq\n",
       "AAAAAAAAQIioAAAAAAAAACGiAgAAAAAAAISICgAAAAAAABAiKgAAAAAAAECIqAAAAAAAAAAhogIA\n",
       "AAAAAADEMz0AAHCgtaYnON+6pyc43uURb3e50skhrBcvsO/t5/wGAAA/8LMFAAAAAAAAQIioAAAA\n",
       "AAAAACGiAgAAAAAAAISICgAAAAAAABAiKgAAAAAAAECIqAAAAAAAAAAhogIAAAAAAACEiAoAAAAA\n",
       "AAAQIioAAAAAAABAiKgAAAAAAAAAIaICAAAAAAAAxDM9AABwojU9wPmWu3C73U7K2617egL4GtaL\n",
       "F9j3XuD8BgAA5SsEAAAAAAAAIERUAAAAAAAAgBBRAQAAAAAAAEJEBQAAAAAAAAgRFQAAAAAAACBE\n",
       "VAAAAAAAAIAQUQEAAAAAAABCRAUAAAAAAAAIERUAAAAAAAAgRFQAAAAAAACAEFEBAAAAAAAA4pke\n",
       "AACAD6x7eoLjXR7xdpcrnRzCevEC+x4AAPAyP1sAAAAAAAAAhIgKAAAAAAAAECIqAAAAAAAAQIio\n",
       "AAAAAAAAACGiAgAAAAAAAISICgAAAAAAABAiKgAAAAAAAECIqAAAAAAAAAAhogIAAAAAAACEiAoA\n",
       "AAAAAAAQz/QAAMCB1pqe4Hzrnp7geLeT8naX15hDWC9eYN/bz/kNAAB+4J+oAAAAAAAAACGiAgAA\n",
       "AAAAAISICgAAAAAAABAiKgAAAAAAAECIqAAAAAAAAAAhogIAAAAAAACEiAoAAAAAAAAQIioAAAAA\n",
       "AABAiKgAAAAAAAAAIaICAAAAAAAAhIgKAAAAAAAAEM/0AADAidb0AOdb7sLtdt3TE5zPa8wprBcv\n",
       "sGC8wPkNAADKVwgAAAAAAABAiKgAAAAAAAAAIaICAAAAAAAAhIgKAAAAAAAAECIqAAAAAAAAQIio\n",
       "AAAAAAAAACGiAgAAAAAAAISICgAAAAAAABAiKgAAAAAAAECIqAAAAAAAAAAhogIAAAAAAADEMz0A\n",
       "AHCiNT3A+dY9PcH5ru/TExzvuv45PQJ8DevFfva9Fzi/AQBA+ScqAAAAAAAAQIioAAAAAAAAACGi\n",
       "AgAAAAAAAISICgAAAAAAABAiKgAAAAAAAECIqAAAAAAAAAAhogIAAAAAAACEiAoAAAAAAAAQIioA\n",
       "AAAAAABAiKgAAAAAAAAAIaICAAAAAAAAxDM9AABwoDU9wE9guQu33eWovNt1/3N6BPga1ov97Hv7\n",
       "Ob8BAMAPfIUAAAAAAAAAhIgKAAAAAAAAECIqAAAAAAAAQIioAAAAAAAAACGiAgAAAAAAAISICgAA\n",
       "AAAAABAiKgAAAAAAAECIqAAAAAAAAAAhogIAAAAAAACEiAoAAAAAAAAQz/QAAMCJ1vQA51vuwm13\n",
       "fZ+e4Hjr+mV6BPga1ov97HsvcH4DAIDyFQIAAAAAAAAQIioAAAAAAABAiKgAAAAAAAAAIaICAAAA\n",
       "AAAAhIgKAAAAAAAAECIqAAAAAAAAQIioAAAAAAAAACGiAgAAAAAAAISICgAAAAAAABAiKgAAAAAA\n",
       "AECIqAAAAAAAAADxTA8AAJxoTQ9wvnVPT3C+9X16guNdrnRyCuvFfva9Fzi/AQBA+dkCAAAAAAAA\n",
       "IERUAAAAAAAAgBBRAQAAAAAAAEJEBQAAAAAAAAgRFQAAAAAAACBEVAAAAAAAAIAQUQEAAAAAAABC\n",
       "RAUAAAAAAAAIERUAAAAAAAAgRFQAAAAAAACAEFEBAAAAAAAA4pkeAACADyx34ba7HJV38xpzDOvF\n",
       "fhYMAADgZb5CAAAAAAAAAEJEBQAAAAAAAAgRFQAAAAAAACBEVAAAAAAAAIAQUQEAAAAAAABCRAUA\n",
       "AAAAAAAIERUAAAAAAAAgRFQAAAAAAACAEFEBAAAAAAAAQkQFAAAAAAAACBEVAAAAAAAAIJ7pAQCA\n",
       "E63pAc637ukJznd9n57geJcrnZzCerGffe8Fzm8AAFB+tgAAAAAAAAAIERUAAAAAAAAgRFQAAAAA\n",
       "AACAEFEBAAAAAAAAQkQFAAAAAAAACBEVAAAAAAAAIERUAAAAAAAAgBBRAQAAAAAAAEJEBQAAAAAA\n",
       "AAgRFQAAAAAAACCe6QEAgAOt6QF+AstduO0uR+XdvMYcw3qxnwVjP+c3AAD4ga8QAAAAAAAAgBBR\n",
       "AQAAAAAAAEJEBQAAAAAAAAgRFQAAAAAAACBEVAAAAAAAAIAQUQEAAAAAAABCRAUAAAAAAAAIERUA\n",
       "AAAAAAAgRFQAAAAAAACAEFEBAAAAAAAAQkQFAAAAAAAAiGd6AADgRGt6gPOte3qC812OyrstVzo5\n",
       "hfViP/veC5zfAACg/GwBAAAAAAAAECIqAAAAAAAAQIioAAAAAAAAACGiAgAAAAAAAISICgAAAAAA\n",
       "ABAiKgAAAAAAAECIqAAAAAAAAAAhogIAAAAAAACEiAoAAAAAAAAQIioAAAAAAABAiKgAAAAAAAAA\n",
       "8UwPAADvWtMDwNdY7sJtt75PT3C8y2vMKawX+9n3OIJvEQCA3xJfIQAAAAAAAAAhogIAAAAAAACE\n",
       "iAoAAAAAAAAQIioAAAAAAABAiKgAAAAAAAAAIaICAAAAAAAAhIgKAAAAAAAAECIqAAAAAAAAQIio\n",
       "AAAAAAAAACGiAgAAAAAAAISICgAAAAAAABDP9AAAAHxguQu33eWovNta0xPAF7Fe7GffAwAAXuYr\n",
       "BAAAAAAAACBEVAAAAAAAAIAQUQEAAAAAAABCRAUAAAAAAAAIERUAAAAAAAAgRFQAAAAAAACAEFEB\n",
       "AAAAAAAAQkQFAAAAAAAACBEVAAAAAAAAIERUAAAAAAAAgHimBwAATrSmBzjfuqcnON/lqLzbcqWT\n",
       "U1gv9rPvvcD5DQAAys8WAAAAAAAAACGiAgAAAAAAAISICgAAAAAAABAiKgAAAAAAAECIqAAAAAAA\n",
       "AAAhogIAAAAAAACEiAoAAAAAAAAQIioAAAAAAABAiKgAAAAAAAAAIaICAAAAAAAAhIgKAAAAAAAA\n",
       "EM/0AAAAfMJduO2Wo/Juy2vMKawXL7BgAAAA7/IVAgAAAAAAABAiKgAAAAAAAECIqAAAAAAAAAAh\n",
       "ogIAAAAAAACEiAoAAAAAAAAQIioAAAAAAABAiKgAAAAAAAAAIaICAAAAAAAAhIgKAAAAAAAAECIq\n",
       "AAAAAAAAQIioAAAAAAAAAPFMDwAAHGhND/ATWO7CbXc5Ku/mNeYY1ov9LBj7Ob8BAMAPfIUAAAAA\n",
       "AAAAhIgKAAAAAAAAECIqAAAAAAAAQIioAAAAAAAAACGiAgAAAAAAAISICgAAAAAAABAiKgAAAAAA\n",
       "AECIqAAAAAAAAAAhogIAAAAAAACEiAoAAAAAAAAQIioAAAAAAABAPNMDAAAnWtMDnG+5C7fd5ai8\n",
       "22Wp4BTWi/3sey+wKAMAQPkKAQAAAAAAAAgRFQAAAAAAACBEVAAAAAAAAIAQUQEAAAAAAABCRAUA\n",
       "AAAAAAAIERUAAAAAAAAgRFQAAAAAAACAEFEBAAAAAAAAQkQFAAAAAAAACBEVAAAAAAAAIJ7pAQAA\n",
       "+MByF2675ai8m9eYY1gv9rNgAAAAL/MVAgAAAAAAABAiKgAAAAAAAECIqAAAAAAAAAAhogIAAAAA\n",
       "AACEiAoAAAAAAAAQIioAAAAAAABAiKgAAAAAAAAAIaICAAAAAAAAhIgKAAAAAAAAECIqAAAAAAAA\n",
       "QIioAAAAAAAAAPFMDwAAwAeWu3DbXY7Ku3mNOYb1Yj8LBgAA8DJfIQAAAAAAAAAhogIAAAAAAACE\n",
       "iAoAAAAAAAAQIioAAAAAAABAiKgAAAAAAAAAIaICAAAAAAAAhIgKAAAAAAAAECIqAAAAAAAAQIio\n",
       "AAAAAAAAACGiAgAAAAAAAISICgAAAAAAABDP9AAAAHxguQu33XJU3s1rzDGsF/tZMAAAgJf5CgEA\n",
       "AAAAAAAIERUAAAAAAAAgRFQAAAAAAACAEFEBAAAAAAAAQkQFAAAAAAAACBEVAAAAAAAAIERUAAAA\n",
       "AAAAgBBRAQAAAAAAAEJEBQAAAAAAAAgRFQAAAAAAACBEVAAAAAAAAIB4pgcAAOADy1247a57eoLj\n",
       "XWt6Avgi1ov97HsAAMDLfIUAAAAAAAAAhIgKAAAAAAAAECIqAAAAAAAAQIioAAAAAAAAACGiAgAA\n",
       "AAAAAISICgAAAAAAABAiKgAAAAAAAECIqAAAAAAAAAAhogIAAAAAAACEiAoAAAAAAAAQz/QAAMCJ\n",
       "1vQAPwF34bZbjsq7La8xp7BevMCCsZ/zGwAAlK8QAAAAAAAAgBBRAQAAAAAAAEJEBQAAAAAAAAgR\n",
       "FQAAAAAAACBEVAAAAAAAAIAQUQEAAAAAAABCRAUAAAAAAAAIERUAAAAAAAAgRFQAAAAAAACAEFEB\n",
       "AAAAAAAAQkQFAAAAAAAAiGd6AAAAPrDchdvuclTezWvMMawX+1kwAACAl/kKAQAAAAAAAAgRFQAA\n",
       "AAAAACBEVAAAAAAAAIAQUQEAAAAAAABCRAUAAAAAAAAIERUAAAAAAAAgRFQAAAAAAACAEFEBAAAA\n",
       "AAAAQkQFAAAAAAAACBEVAAAAAAAAIERUAAAAAAAAgHimBwAA4APLXbjtlqPybtc9PQF8EevFfvY9\n",
       "AADgZb5CAAAAAAAAAEJEBQAAAAAAAAgRFQAAAAAAACBEVAAAAAAAAIAQUQEAAAAAAABCRAUAAAAA\n",
       "AAAIERUAAAAAAAAgRFQAAAAAAACAEFEBAAAAAAAAQkQFAAAAAAAACBEVAAAAAAAAIJ7pAQAA+IS7\n",
       "cNtd9/QEx7u8xpzCevECCwYAAPAuXyEAAAAAAAAAIaICAAAAAAAAhIgKAAAAAAAAECIqAAAAAAAA\n",
       "QIioAAAAAAAAACGiAgAAAAAAAISICgAAAAAAABAiKgAAAAAAAECIqAAAAAAAAAAhogIAAAAAAADE\n",
       "Mz0AAAAfWGt6gvMtR+XdliudnMJ6sZ99DwAAeJmfLQAAAAAAAABCRAUAAAAAAAAIERUAAAAAAAAg\n",
       "RFQAAAAAAACAEFEBAAAAAAAAQkQFAAAAAAAACBEVAAAAAAAAIERUAAAAAAAAgBBRAQAAAAAAAEJE\n",
       "BQAAAAAAAAgRFQAAAAAAACCe6QEAAPjAchduu8tRebfrnp4Avoj1Yj/7HgAA8DJfIQAAAAAAAAAh\n",
       "ogIAAAAAAACEiAoAAAAAAAAQIioAAAAAAABAiKgAAAAAAAAAIaICAAAAAAAAhIgKAAAAAAAAECIq\n",
       "AAAAAAAAQIioAAAAAAAAACGiAgAAAAAAAISICgAAAAAAABDP9AAAAHxiTQ9wvnVPT3C8y5VOTmG9\n",
       "eIF9DwAAeJefLQAAAAAAAABCRAUAAAAAAAAIERUAAAAAAAAgRFQAAAAAAACAEFEBAAAAAAAAQkQF\n",
       "AAAAAAAACBEVAAAAAAAAIERUAAAAAAAAgBBRAQAAAAAAAEJEBQAAAAAAAAgRFQAAAAAAACCe6QEA\n",
       "APjAchduu8tRebfrnp4Avoj1Yj/7HgAA8DJfIQAAAAAAAAAhogIAAAAAAACEiAoAAAAAAAAQIioA\n",
       "AAAAAABAiKgAAAAAAAAAIaICAAAAAAAAhIgKAAAAAAAAECIqAAAAAAAAQIioAAAAAAAAACGiAgAA\n",
       "AAAAAMQzPQAAAJ9Y0wOcbzkq73bd0xPAF7FevMC+BwAAvMs/UQEAAAAAAABCRAUAAAAAAAAIERUA\n",
       "AAAAAAAgRFQAAAAAAACAEFEBAAAAAAAAQkQFAAAAAAAACBEVAAAAAAAAIERUAAAAAAAAgBBRAQAA\n",
       "AAAAAEJEBQAAAAAAAAgRFQAAAAAAACCe6QEAAPjAWtMTnO+6pyc4nkfMMbzM+9n3AACAl/knKgAA\n",
       "AADw/+zbQW6lShQFQQHl7v773/Cf5sAjC95F5YgVHCGr4CldAACEiAoAAAAAAAAQIioAAAAAAABA\n",
       "iKgAAAAAAAAAIaICAAAAAAAAhIgKAAAAAAAAECIqAAAAAAAAQIioAAAAAAAAACGiAgAAAAAAAISI\n",
       "CgAAAAAAABAiKgAAAAAAAECs6QEAAPyE/4V73OFT+WnnNb0AbuK8+ADvPQAA4LP8CgEAAAAAAAAI\n",
       "ERUAAAAAAAAgRFQAAAAAAACAEFEBAAAAAAAAQkQFAAAAAAAACBEVAAAAAAAAIERUAAAAAAAAgBBR\n",
       "AQAAAAAAAEJEBQAAAAAAAAgRFQAAAAAAACBEVAAAAAAAAIBY0wMAAPiB45hesL/Tp/LTzmt6AdzE\n",
       "efE87z0AAODD3EQFAAAAAAAACBEVAAAAAAAAIERUAAAAAAAAgBBRAQAAAAAAAEJEBQAAAAAAAAgR\n",
       "FQAAAAAAACBEVAAAAAAAAIAQUQEAAAAAAABCRAUAAAAAAAAIERUAAAAAAAAg1vQAAAB+4pgesL/D\n",
       "p/LTLo+YXTgvPsB7DwAA+Cw3UQEAAAAAAABCRAUAAAAAAAAIERUAAAAAAAAgRFQAAAAAAACAEFEB\n",
       "AAAAAAAAQkQFAAAAAAAACBEVAAAAAAAAIERUAAAAAAAAgBBRAQAAAAAAAEJEBQAAAAAAAAgRFQAA\n",
       "AAAAACDW9AAAAH7gOKYX7O/0qfy085peADdxXjzPew8AAPgwN1EBAAAAAAAAQkQFAAAAAAAACBEV\n",
       "AAAAAAAAIERUAAAAAAAAgBBRAQAAAAAAAEJEBQAAAAAAAAgRFQAAAAAAACBEVAAAAAAAAIAQUQEA\n",
       "AAAAAABCRAUAAAAAAAAIERUAAAAAAAAg1vQAAAB4pcOn8tMuj5hdOC8AAAC24yYqAAAAAAAAQIio\n",
       "AAAAAAAAACGiAgAAAAAAAISICgAAAAAAABAiKgAAAAAAAECIqAAAAAAAAAAhogIAAAAAAACEiAoA\n",
       "AAAAAAAQIioAAAAAAABAiKgAAAAAAAAAIaICAAAAAAAAxJoeAADs6Jge8At4xo87fSo/7bymF8BN\n",
       "nBcf4L33PM8YAADKTVQAAAAAAACAEFEBAAAAAAAAQkQFAAAAAAAACBEVAAAAAAAAIERUAAAAAAAA\n",
       "gBBRAQAAAAAAAEJEBQAAAAAAAAgRFQAAAAAAACBEVAAAAAAAAIAQUQEAAAAAAABiTQ8AAOAHjmN6\n",
       "wf5On8pPuzxiduG8eJ73HgAA8GFuogIAAAAAAACEiAoAAAAAAAAQIioAAAAAAABAiKgAAAAAAAAA\n",
       "IaICAAAAAAAAhIgKAAAAAAAAECIqAAAAAAAAQIioAAAAAAAAACGiAgAAAAAAAISICgAAAAAAABAi\n",
       "KgAAAAAAAECs6QEAAPBKh0/lp50eMbtwXgAAAGzHTVQAAAAAAACAEFEBAAAAAAAAQkQFAAAAAAAA\n",
       "CBEVAAAAAAAAIERUAAAAAAAAgBBRAQAAAAAAAEJEBQAAAAAAAAgRFQAAAAAAACBEVAAAAAAAAIAQ\n",
       "UQEAAAAAAABCRAUAAAAAAACINT0AAICfOKYH7O/0qfy0yyNmF86LD/DeAwAAPstNVAAAAAAAAIAQ\n",
       "UQEAAAAAAABCRAUAAAAAAAAIERUAAAAAAAAgRFQAAAAAAACAEFEBAAAAAAAAQkQFAAAAAAAACBEV\n",
       "AAAAAAAAIERUAAAAAAAAgBBRAQAAAAAAAEJEBQAAAAAAAIg1PQAAgJ84pgfs7/Cp/LTrml4AN3Fe\n",
       "fID3HgAA8FluogIAAAAAAACEiAoAAAAAAAAQIioAAAAAAABAiKgAAAAAAAAAIaICAAAAAAAAhIgK\n",
       "AAAAAAAAECIqAAAAAAAAQIioAAAAAAAAACGiAgAAAAAAAISICgAAAAAAABBregAAALzS6VP5aR4x\n",
       "2/DHDAAAsB03UQEAAAAAAABCRAUAAAAAAAAIERUAAAAAAAAgRFQAAAAAAACAEFEBAAAAAAAAQkQF\n",
       "AAAAAAAACBEVAAAAAAAAIERUAAAAAAAAgBBRAQAAAAAAAEJEBQAAAAAAAAgRFQAAAAAAACDW9AAA\n",
       "AH7gmB7wC5w+lZ92ecTswnnxPO89AADgw9xEBQAAAAAAAAgRFQAAAAAAACBEVAAAAAAAAIAQUQEA\n",
       "AAAAAABCRAUAAAAAAAAIERUAAAAAAAAgRFQAAAAAAACAEFEBAAAAAAAAQkQFAAAAAAAACBEVAAAA\n",
       "AAAAIERUAAAAAAAAgFjTAwAA+IljesD+Dp/KT7s8YnbhvPgA7z0AAOCz3EQFAAAAAAAACBEVAAAA\n",
       "AAAAIERUAAAAAAAAgBBRAQAAAAAAAEJEBQAAAAAAAAgRFQAAAAAAACBEVAAAAAAAAIAQUQEAAAAA\n",
       "AABCRAUAAAAAAAAIERUAAAAAAAAgRFQAAAAAAACAWNMDAADglU6fyk+7PGJ24bwAAADYjpuoAAAA\n",
       "AAAAACGiAgAAAAAAAISICgAAAAAAABAiKgAAAAAAAECIqAAAAAAAAAAhogIAAAAAAACEiAoAAAAA\n",
       "AAAQIioAAAAAAABAiKgAAAAAAAAAIaICAAAAAAAAxJoeAAAAr3T4VH7a6RGzC+cFAADAdtxEBQAA\n",
       "AAAAAAgRFQAAAAAAACBEVAAAAAAAAIAQUQEAAAAAAABCRAUAAAAAAAAIERUAAAAAAAAgRFQAAAAA\n",
       "AACAEFEBAAAAAAAAQkQFAAAAAAAACBEVAOwrgH4AABKUSURBVAAAAAAAIERUAAAAAAAAgFjTAwAA\n",
       "+IljesD+Tp/KT7uu6QVwE+fFB3jvAQAAn+UmKgAAAAAAAECIqAAAAAAAAAAhogIAAAAAAACEiAoA\n",
       "AAAAAAAQIioAAAAAAABAiKgAAAAAAAAAIaICAAAAAAAAhIgKAAAAAAAAECIqAAAAAAAAQIioAAAA\n",
       "AAAAACGiAgAAAAAAAMSaHgAAAK90XNMLtnf5NcIunBcAAADbcRMVAAAAAAAAIERUAAAAAAAAgBBR\n",
       "AQAAAAAAAEJEBQAAAAAAAAgRFQAAAAAAACBEVAAAAAAAAIAQUQEAAAAAAABCRAUAAAAAAAAIERUA\n",
       "AAAAAAAgRFQAAAAAAACAEFEBAAAAAAAAYk0PAACAVzp9Kj/NI2Yb/pgBAAC24yYqAAAAAAAAQIio\n",
       "AAAAAAAAACGiAgAAAAAAAISICgAAAAAAABAiKgAAAAAAAECIqAAAAAAAAAAhogIAAAAAAACEiAoA\n",
       "AAAAAAAQIioAAAAAAABAiKgAAAAAAAAAsaYHAADAKx3X9ILtHadnzCacFwAAANtxExUAAAAAAAAg\n",
       "RFQAAAAAAACAEFEBAAAAAAAAQkQFAAAAAAAACBEVAAAAAAAAIERUAAAAAAAAgBBRAQAAAAAAAEJE\n",
       "BQAAAAAAAAgRFQAAAAAAACBEVAAAAAAAAIAQUQEAAAAAAABiTQ8AAIBXOn0qP+78ml4A93BeAAAA\n",
       "bMdNVAAAAAAAAIAQUQEAAAAAAABCRAUAAAAAAAAIERUAAAAAAAAgRFQAAAAAAACAEFEBAAAAAAAA\n",
       "QkQFAAAAAAAACBEVAAAAAAAAIERUAAAAAAAAgBBRAQAAAAAAAEJEBQAAAAAAAIg1PQAAAF7puKYX\n",
       "7O/8ml4A93BeAAAAbMdNVAAAAAAAAIAQUQEAAAAAAABCRAUAAAAAAAAIERUAAAAAAAAgRFQAAAAA\n",
       "AACAEFEBAAAAAAAAQkQFAAAAAAAACBEVAAAAAAAAIERUAAAAAAAAgBBRAQAAAAAAAEJEBQAAAAAA\n",
       "AIg1PQAAAF7puKYX7O/8ml4A93BeAAAAbMdNVAAAAAAAAIAQUQEAAAAAAABCRAUAAAAAAAAIERUA\n",
       "AAAAAAAgRFQAAAAAAACAEFEBAAAAAAAAQkQFAAAAAAAACBEVAAAAAAAAIERUAAAAAAAAgBBRAQAA\n",
       "AAAAAGJNDwAAgFc6rukF+zu/phfAPZwXAAAA23ETFQAAAAAAACBEVAAAAAAAAIAQUQEAAAAAAABC\n",
       "RAUAAAAAAAAIERUAAAAAAAAgRFQAAAAAAACAEFEBAAAAAAAAQkQFAAAAAAAACBEVAAAAAAAAIERU\n",
       "AAAAAAAAgBBRAQAAAAAAAGJNDwAAgFc6/L/h404/R9iE8wIAAGA7fukBAAAAAAAAhIgKAAAAAAAA\n",
       "ECIqAAAAAAAAQIioAAAAAAAAACGiAgAAAAAAAISICgAAAAAAABAiKgAAAAAAAECIqAAAAAAAAAAh\n",
       "ogIAAAAAAACEiAoAAAAAAAAQIioAAAAAAABArOkBAADwSsc1vWB/59f0AriH8wIAAGA7bqICAAAA\n",
       "AAAAhIgKAAAAAAAAECIqAAAAAAAAQIioAAAAAAAAACGiAgAAAAAAAISICgAAAAAAABAiKgAAAAAA\n",
       "AECIqAAAAAAAAAAhogIAAAAAAACEiAoAAAAAAAAQIioAAAAAAABArOkBAADwSof/N3zc+TW9AO7h\n",
       "vAAAANiOX3oAAAAAAAAAIaICAAAAAAAAhIgKAAAAAAAAECIqAAAAAAAAQIioAAAAAAAAACGiAgAA\n",
       "AAAAAISICgAAAAAAABAiKgAAAAAAAECIqAAAAAAAAAAhogIAAAAAAADEmh4AAMBPHNMD9nf4f8PH\n",
       "nV/TC+AezosP8N4DAAA+yy89AAAAAAAAgBBRAQAAAAAAAEJEBQAAAAAAAAgRFQAAAAAAACBEVAAA\n",
       "AAAAAIAQUQEAAAAAAABCRAUAAAAAAAAIERUAAAAAAAAgRFQAAAAAAACAEFEBAAAAAAAAQkQFAAAA\n",
       "AAAAiDU9AAAAXunw/4aPO7+mF8A9nBcAAADb8UsPAAAAAAAAIERUAAAAAAAAgBBRAQAAAAAAAEJE\n",
       "BQAAAAAAAAgRFQAAAAAAACBEVAAAAAAAAIAQUQEAAAAAAABCRAUAAAAAAAAIERUAAAAAAAAgRFQA\n",
       "AAAAAACAEFEBAAAAAAAAYk0PAACAVzr8v+Hjzq/pBXAP5wUAAMB2/NIDAAAAAAAACBEVAAAAAAAA\n",
       "IERUAAAAAAAAgBBRAQAAAAAAAEJEBQAAAAAAAAgRFQAAAAAAACBEVAAAAAAAAIAQUQEAAAAAAABC\n",
       "RAUAAAAAAAAIERUAAAAAAAAgRFQAAAAAAACAWNMDAADgnY7pAfs7v6YXwE2cFwAAALtxExUAAAAA\n",
       "AAAgRFQAAAAAAACAEFEBAAAAAAAAQkQFAAAAAAAACBEVAAAAAAAAIERUAAAAAAAAgBBRAQAAAAAA\n",
       "AEJEBQAAAAAAAAgRFQAAAAAAACBEVAAAAAAAAIBY0wMAAOCVDv9v+Ljza3oB3MN5AQAAsB2/9AAA\n",
       "AAAAAABCRAUAAAAAAAAIERUAAAAAAAAgRFQAAAAAAACAEFEBAAAAAAAAQkQFAAAAAAAACBEVAAAA\n",
       "AAAAIERUAAAAAAAAgBBRAQAAAAAAAEJEBQAAAAAAAAgRFQAAAAAAACDW9AAAAHinY3rA/s4/0wvg\n",
       "Js4LAACA3biJCgAAAAAAABAiKgAAAAAAAECIqAAAAAAAAAAhogIAAAAAAACEiAoAAAAAAAAQIioA\n",
       "AAAAAABAiKgAAAAAAAAAIaICAAAAAAAAhIgKAAAAAAAAECIqAAAAAAAAQIioAAAAAAAAALGmBwAA\n",
       "wCsdx/SC/V1f0wvgHs4LAACA7biJCgAAAAAAABAiKgAAAAAAAECIqAAAAAAAAAAhogIAAAAAAACE\n",
       "iAoAAAAAAAAQIioAAAAAAABAiKgAAAAAAAAAIaICAAAAAAAAhIgKAAAAAAAAECIqAAAAAAAAQIio\n",
       "AAAAAAAAALGmBwAAwDsd0wP2d/6ZXgA3cV4AAADsxk1UAAAAAAAAgBBRAQAAAAAAAEJEBQAAAAAA\n",
       "AAgRFQAAAAAAACBEVAAAAAAAAIAQUQEAAAAAAABCRAUAAAAAAAAIERUAAAAAAAAgRFQAAAAAAACA\n",
       "EFEBAAAAAAAAYk0PAACAdzqmB+zv/Du9AG7ivAAAANiNm6gAAAAAAAAAIaICAAAAAAAAhIgKAAAA\n",
       "AAAAECIqAAAAAAAAQIioAAAAAAAAACGiAgAAAAAAAISICgAAAAAAABAiKgAAAAAAAECIqAAAAAAA\n",
       "AAAhogIAAAAAAACEiAoAAAAAAAAQa3oAAAC80jE94Be4/kwvgHs4LwAAALbjJioAAAAAAABAiKgA\n",
       "AAAAAAAAIaICAAAAAAAAhIgKAAAAAAAAECIqAAAAAAAAQIioAAAAAAAAACGiAgAAAAAAAISICgAA\n",
       "AAAAABAiKgAAAAAAAECIqAAAAAAAAAAhogIAAAAAAADEmh4AAADvdEwP2N/1d3oB3MR5AQAAsBs3\n",
       "UQEAAAAAAABCRAUAAAAAAAAIERUAAAAAAAAgRFQAAAAAAACAEFEBAAAAAAAAQkQFAAAAAAAACBEV\n",
       "AAAAAAAAIERUAAAAAAAAgBBRAQAAAAAAAEJEBQAAAAAAAAgRFQAAAAAAACDW9AAAAOCXuv5OLwAA\n",
       "AAD4lpuoAAAAAAAAACGiAgAAAAAAAISICgAAAAAAABAiKgAAAAAAAECIqAAAAAAAAAAhogIAAAAA\n",
       "AACEiAoAAAAAAAAQIioAAAAAAABAiKgAAAAAAAAAIaICAAAAAAAAxJoeAAAA73RMD9jf9W96AdzE\n",
       "eQEAALAbN1EBAAAAAAAAQkQFAAAAAAAACBEVAAAAAAAAIERUAAAAAAAAgBBRAQAAAAAAAEJEBQAA\n",
       "AAAAAAgRFQAAAAAAACBEVAAAAAAAAIAQUQEAAAAAAABCRAUAAAAAAAAIERUAAAAAAAAg1vQAAADg\n",
       "l7r+Ti8AAAAA+JabqAAAAAAAAAAhogIAAAAAAACEiAoAAAAAAAAQIioAAAAAAABAiKgAAAAAAAAA\n",
       "IaICAAAAAAAAhIgKAAAAAAAAECIqAAAAAAAAQIioAAAAAAAAACGiAgAAAAAAAISICgAAAAAAABBr\n",
       "egAAAPBLXf+mFwAAAAB8y01UAAAAAAAAgBBRAQAAAAAAAEJEBQAAAAAAAAgRFQAAAAAAACBEVAAA\n",
       "AAAAAIAQUQEAAAAAAABCRAUAAAAAAAAIERUAAAAAAAAgRFQAAAAAAACAEFEBAAAAAAAAQkQFAAAA\n",
       "AAAAiDU9AAAA+KWuf9MLAAAAAL7lJioAAAAAAABAiKgAAAAAAAAAIaICAAAAAAAAhIgKAAAAAAAA\n",
       "ECIqAAAAAAAAQIioAAAAAAAAACGiAgAAAAAAAISICgAAAAAAABAiKgAAAAAAAECIqAAAAAAAAACx\n",
       "pgcAAAC/1PVvegEAAADAt9xEBQAAAAAAAAgRFQAAAAAAACBEVAAAAAAAAIAQUQEAAAAAAABCRAUA\n",
       "AAAAAAAIERUAAAAAAAAgRFQAAAAAAACAEFEBAAAAAAAAQkQFAAAAAAAACBEVAAAAAAAAIERUAAAA\n",
       "AAAAgFjTAwAAgF9q/Te9AAAAAOBbbqICAAAAAAAAhIgKAAAAAAAAECIqAAAAAAAAQIioAAAAAAAA\n",
       "ACGiAgAAAAAAAISICgAAAAAAABAiKgAAAAAAAECIqAAAAAAAAAAhogIAAAAAAACEiAoAAAAAAAAQ\n",
       "IioAAAAAAABArOkBAADAL3X9m14AAAAA8C03UQEAAAAAAABCRAUAAAAAAAAIERUAAAAAAAAgRFQA\n",
       "AAAAAACAEFEBAAAAAAAAQkQFAAAAAAAACBEVAAAAAAAAIERUAAAAAAAAgBBRAQAAAID/27dj1AZg\n",
       "IIqC2BKxc/8Lp32FysAaa+YEvxKIxwIAECIqAAAAAAAAQIioAAAAAAAAALGnBwAAwGd6TA/4fus9\n",
       "vQD+ifcCAADg27hEBQAAAAAAAAgRFQAAAAAAACBEVAAAAAAAAIAQUQEAAAAAAABCRAUAAAAAAAAI\n",
       "ERUAAAAAAAAgRFQAAAAAAACAEFEBAAAAAAAAQkQFAAAAAAAACBEVAAAAAAAAIPb0AAAA4FL7d3oB\n",
       "AAAAwJFLVAAAAAAAAIAQUQEAAAAAAABCRAUAAAAAAAAIERUAAAAAAAAgRFQAAAAAAACAEFEBAAAA\n",
       "AAAAQkQFAAAAAAAACBEVAAAAAAAAIERUAAAAAAAAgBBRAQAAAAAAAEJEBQAAAAAAAIg9PQAAALjU\n",
       "ek8vAAAAADhyiQoAAAAAAAAQIioAAAAAAABAiKgAAAAAAAAAIaICAAAAAAAAhIgKAAAAAAAAECIq\n",
       "AAAAAAAAQIioAAAAAAAAACGiAgAAAAAAAISICgAAAAAAABAiKgAAAAAAAECIqAAAAAAAAACxpwcA\n",
       "AACXWq/pBQAAAABHLlEBAAAAAAAAQkQFAAAAAAAACBEVAAAAAAAAIERUAAAAAAAAgBBRAQAAAAAA\n",
       "AEJEBQAAAAAAAAgRFQAAAAAAACBEVAAAAAAAAIAQUQEAAAAAAABCRAUAAAAAAAAIERUAAAAAAAAg\n",
       "9vQAAADgUus1vQAAAADgyCUqAAAAAAAAQIioAAAAAAAAACGiAgAAAAAAAISICgAAAAAAABAiKgAA\n",
       "AAAAAECIqAAAAAAAAAAhogIAAAAAAACEiAoAAAAAAAAQIioAAAAAAABAiKgAAAAAAAAAsacHAAAA\n",
       "l1qv6QUAAAAARy5RAQAAAAAAAEJEBQAAAAAAAAgRFQAAAAAAACBEVAAAAAAAAIAQUQEAAAAAAABC\n",
       "RAUAAAAAAAAIERUAAAAAAAAgRFQAAAAAAACAEFEBAAAAAAAAQkQFAAAAAAAACBEVAAAAAAAAIPb0\n",
       "AAAA4FLPn+kFAAAAAEcuUQEAAAAAAABCRAUAAAAAAAAIERUAAAAAAAAgRFQAAAAAAACAEFEBAAAA\n",
       "AAAAQkQFAAAAAAAACBEVAAAAAAAAIERUAAAAAAAAgBBRAQAAAAAAAEJEBQAAAAAAAAgRFQAAAAAA\n",
       "ACD29AAAAOBST98RAAAA4DO5RAUAAAAAAAAIERUAAAAAAAAgRFQAAAAAAACAEFEBAAAAAAAAQkQF\n",
       "AAAAAAAACBEVAAAAAAAAIERUAAAAAAAAgBBRAQAAAAAAAEJEBQAAAAAAAAgRFQAAAAAAACBEVAAA\n",
       "AAAAAIDY0wMAAIBLPdb0AgAAAIAjl6gAAAAAAAAAIaICAAAAAAAAhIgKAAAAAAAAECIqAAAAAAAA\n",
       "QIioAAAAAAAAACGiAgAAAAAAAISICgAAAAAAABAiKgAAAAAAAECIqAAAAAAAAAAhogIAAAAAAADE\n",
       "H6N9I8d81At8AAAAAElFTkSuQmCC\n",
       "\" transform=\"translate(240, 248)\"/>\n",
       "</g>\n",
       "<defs>\n",
       "  <clipPath id=\"clip493\">\n",
       "    <rect x=\"2160\" y=\"248\" width=\"73\" height=\"1176\"/>\n",
       "  </clipPath>\n",
       "</defs>\n",
       "<g clip-path=\"url(#clip493)\">\n",
       "<image width=\"72\" height=\"1175\" xlink:href=\"data:image/png;base64,\n",
       "iVBORw0KGgoAAAANSUhEUgAAAEgAAASXCAYAAABCyjmuAAAJwklEQVR4nO3dwY0jMQwAQclg9g7a\n",
       "jsDs5/hRFcGhQRCSbmf3vs/5HH56Pf0P+HcCBYGCQGHOffqf8N9MUBAoCBQECnMt6ZUJCgIFgYId\n",
       "FExQECgIFAQKcyVayRMECgIFB8VggoJAQaAgULCkgwkKAgWBgkDBbT7IEwQKAgUHxWCCgkBBoCBQ\n",
       "sKSDCQoCBYGCHRRMUBAoCBQECl4UgzxBoCBQECj4JDOYoCBQECi4zQcTFAQKAgWBgtt8kCcIFAQK\n",
       "DorBBAWBgkBBoGBJBxMUBAoCBYGCJR1MUBAoCBS8KAZ5gkBBoCBQcFAMJigIFAQKdlAwQUGgIFAQ\n",
       "KLjNB3mCQEGg4KAYTFAQKAgUBAq+OAwmKAgUBAoCBbf5IE8QKAgU3OaDCQoCBYGCQMGSDiYoCBQE\n",
       "CnZQMEFBoCBQECh4UQzyBIGCQEGg4CQdTFAQKAgU7KBggoJAQaAgUHCbD/IEgYJAwUExmKAgUBAo\n",
       "CBQs6WCCgkBBoCBQ8ElmMEFBoCBQ8KIY5AkCBYGCQMFtPpigIFAQKNhBwQQFgYJAQaDgNh/kCQIF\n",
       "gYJAwUk6mKAgUBAo2EHBBAWBgkBBoOA2H+QJAgWBgoNiMEFBoCBQEChY0sEEBYGCQMEOCiYoCBQE\n",
       "CgKFkWgnTxAoCBQECk7SwQQFgYJAwQ4KJigIFAQKAgU/HxTkCQIFgYKDYjBBQaAgUBAoWNLBBAWB\n",
       "gkBBoGBJBxMUBAoCBS+KQZ4gUBAoCBQcFIMJCgIFgYIdFExQECgIFAQKbvNBniBQECgIFPwRyGCC\n",
       "gkBBoOA2H0xQECgIFAQKbvNBniBQECg4KAYTFAQKAgWBgiUdTFAQKAgU7KBggoJAQaAgUPCiGOQJ\n",
       "AgWBgkDBSTqYoCBQECjYQcEEBYGCQEGg4DYf5AkCBYGCg2IwQUGgIFAQKPjiMJigIFAQKAgUnKSD\n",
       "CQoCBYGCF8UgTxAoCBQECg6KwQQFgYJAwQ4KJigIFAQKAgW3+SBPECgIFAQKTtLBBAWBgkDBDgom\n",
       "KAgUBAoCBbf5IE8QKAgUHBSDCQoCBYGCQMGSDiYoCBQECgIFn2QGExQECgIFL4pBniBQECgIFNzm\n",
       "gwkKAgWBgh0UTFAQKAgUBApu80GeIFAQKDgoBhMUBAoCBYGCJR1MUBAoCBQECm7zQZ4gUBAoOCgG\n",
       "ExQECgIFgYIlHUxQECgIFOygYIKCQEGgIFAYiXbyBIGCQEGg4CQdTFAQKAgU7KBggoJAQaAgUPDz\n",
       "QUGeIFAQKDgoBhMUBAoCBYGCJR1MUBAoCBQECpZ0MEFBoCBQ8KIY5AkCBYGCQMFBMZigIFAQKNhB\n",
       "wQQFgYJAQaDgNh/kCQIFgYK/cRhMUBAoCBQECm7zwQQFgYJAQaBgSQcTFAQKAgUvikGeIFAQKAgU\n",
       "HBSDCQoCBYGCHRRMUBAoCBQECm7zQZ4gUBAoCBScpIMJCgIFgYIdFExQECgIFAQKbvNBniBQECg4\n",
       "KAYTFAQKAgWBgk8ygwkKAgWBgkDBSTqYoCBQECh4UQzyBIGCQEGg4KAYTFAQKAgU7KBggoJAQaAg\n",
       "UHCbD/IEgYJAQaDgJB1MUBAoCBTsoGCCgkBBoCBQcJsP8gSBgkDBQTGYoCBQECgIFCzpYIKCQEGg\n",
       "4IvDYIKCQEGgIFDwohjkCQIFgYJAwW0+mKAgUBAo2EHBBAWBgkBBoOA2H+QJAgWBgoNiMEFBoCBQ\n",
       "EChY0sEEBYGCQEGgMMd1fqVOECgIFEajnTpBoCBQECg4KAZ1gkBBoDDHk+LKBAWBgkBBoOA2H9QJ\n",
       "AgWBgkDBbT6oEwQKAgU7KKgTBAoCBYGCJ9dggoJAQaDgRTGoEwQKAgWBgtt8UCcIFAQKdlBQJwgU\n",
       "BAoChTl+Z/vKBAWBgkBBoOAkHdQJAgWBgh0U1AkCBYGCQMH/zQd1gkBBoOBnFIMJCgIFgYJAwW0+\n",
       "qBMECgIFgYIlHdQJAgWBghfFoE4QKAgUBAoOikGdIFAQKPhvn2CCgkBBoCBQcJsP6gSBgkBBoOA2\n",
       "H9QJAgWBgh0U1AkCBYGCQMGTazBBQaAgUPCiGNQJAgWBgkDBbT6oEwQKAgWBgiUd1AkCBYGC3wYc\n",
       "TFAQKAgUBAoOikGdIFAQKNhBQZ0gUBAoCBT833xQJwgUBAp+RjGYoCBQECgIFNzmgzpBoCBQEChY\n",
       "0kGdIFAQKHhRDOoEgYJAQaDgyTWYoCBQECi4rAZ1gkBBoCBQcJsP6gSBgkBBoOAkHdQJAgWBghfF\n",
       "YIKCQEGgIFBwUAzqBIGCQMGLYlAnCBQECgIFB8WgThAoCBQECp5cgwkKAgWBgtt8UCcIFAQKAgW3\n",
       "+aBOECgIFOygoE4QKAgUBAr+tk8wQUGgIFBwUAzqBIGCQEGgYEkHdYJAQaAgULCkgzpBoCBQ8KIY\n",
       "TFAQKAgUBAoOikGdIFAQKNhBQZ0gUBAoCBR87RPUCQIFgYJAwUk6qBMECgIFv5oimKAgUBAoCBQc\n",
       "FIM6QaAgUPCiGNQJAgWBgkDBQTGoEwQKAgWBgifXYIKCQEGg4DYf1AkCBYGCQMFtPqgTBAoCBTso\n",
       "qBMECgIFgYLf3RFMUBAoCBQECk7SQZ0gUBAo2EFBnSBQECgIFCzpoE4QKAgUvCgGExQECgIFgYKD\n",
       "YlAnCBQECnZQUCcIFAQKAgVf+wR1gkBBoCBQ8Fl4MEFBoCBQcJsP6gSBgkBBoGBJB3WCQEGg4EUx\n",
       "qBMECgIFgYIXxWCCgkBBoCBQcJsP6gSBgkDBbT6oEwQKAgWBgoNiUCcIFAQKXhSDCQoCBYGCQMFt\n",
       "PqgTBAoCBYGC23xQJwgUBAp2UFAnCBQECgIFT67BBAWBgkDBi2JQJwgUBAoCBbf5oE4QKAgU7KCg\n",
       "ThAoCBQECv62TzBBQaAgUBAoOEkHdYJAQaBgBwV1gkBBoCBQsKSDOkGgIFDw80FBnSBQECgIFPwg\n",
       "eTBBQaAgUBAouM0HdYJAQaDgNh/UCQIFgYJAwUExqBMECgIFL4rBBAWBgkBBoOA2H9QJAgWBgkDB\n",
       "bT6oEwQKAgU7KKgTBAoCBYGCJ9dggoJAQaDgRTGoEwQKAgWBgtt8UCcIFAQKAgVLOqgTBAoCBb8N\n",
       "OJigIFAQKAgUHBSDOkGgIFCwg4I6QaAgUBAoWNJBnSBQECh4UQwmKAgUBAoCBQfFoE4QKAgUBAqW\n",
       "dFAnCBQECr72CeoEgYJAQaDgs/BggoJAQaDgshrUCQIFgYJAwW0+qBMECgIFgYKTdFAnCBQECl4U\n",
       "gwkKAgWBgkDBQTGoEwQKAgUvikGdIFAQKAgUHBSDOkGgIFAQKHhyDSYoCBQECm7zQZ0gUBAoCBTc\n",
       "5oM6QaAgULCDgjpBoCBQEChY0kGdIFAQKHwBAZoPCb+nPRcAAAAASUVORK5CYII=\n",
       "\" transform=\"translate(2161, 248)\"/>\n",
       "</g>\n",
       "<path clip-path=\"url(#clip490)\" d=\"M2280.7 1405.35 Q2277.09 1405.35 2275.26 1408.91 Q2273.45 1412.46 2273.45 1419.59 Q2273.45 1426.69 2275.26 1430.26 Q2277.09 1433.8 2280.7 1433.8 Q2284.33 1433.8 2286.14 1430.26 Q2287.97 1426.69 2287.97 1419.59 Q2287.97 1412.46 2286.14 1408.91 Q2284.33 1405.35 2280.7 1405.35 M2280.7 1401.65 Q2286.51 1401.65 2289.57 1406.25 Q2292.64 1410.84 2292.64 1419.59 Q2292.64 1428.31 2289.57 1432.92 Q2286.51 1437.5 2280.7 1437.5 Q2274.89 1437.5 2271.81 1432.92 Q2268.76 1428.31 2268.76 1419.59 Q2268.76 1410.84 2271.81 1406.25 Q2274.89 1401.65 2280.7 1401.65 Z\" fill=\"#000000\" fill-rule=\"nonzero\" fill-opacity=\"1\" /><path clip-path=\"url(#clip490)\" d=\"M2280.7 1278.94 Q2277.09 1278.94 2275.26 1282.5 Q2273.45 1286.05 2273.45 1293.18 Q2273.45 1300.28 2275.26 1303.85 Q2277.09 1307.39 2280.7 1307.39 Q2284.33 1307.39 2286.14 1303.85 Q2287.97 1300.28 2287.97 1293.18 Q2287.97 1286.05 2286.14 1282.5 Q2284.33 1278.94 2280.7 1278.94 M2280.7 1275.24 Q2286.51 1275.24 2289.57 1279.84 Q2292.64 1284.43 2292.64 1293.18 Q2292.64 1301.9 2289.57 1306.51 Q2286.51 1311.09 2280.7 1311.09 Q2274.89 1311.09 2271.81 1306.51 Q2268.76 1301.9 2268.76 1293.18 Q2268.76 1284.43 2271.81 1279.84 Q2274.89 1275.24 2280.7 1275.24 Z\" fill=\"#000000\" fill-rule=\"nonzero\" fill-opacity=\"1\" /><path clip-path=\"url(#clip490)\" d=\"M2300.86 1304.54 L2305.75 1304.54 L2305.75 1310.42 L2300.86 1310.42 L2300.86 1304.54 Z\" fill=\"#000000\" fill-rule=\"nonzero\" fill-opacity=\"1\" /><path clip-path=\"url(#clip490)\" d=\"M2319.96 1306.49 L2336.28 1306.49 L2336.28 1310.42 L2314.33 1310.42 L2314.33 1306.49 Q2317 1303.73 2321.58 1299.1 Q2326.19 1294.45 2327.37 1293.11 Q2329.61 1290.58 2330.49 1288.85 Q2331.39 1287.09 2331.39 1285.4 Q2331.39 1282.64 2329.45 1280.91 Q2327.53 1279.17 2324.43 1279.17 Q2322.23 1279.17 2319.77 1279.93 Q2317.34 1280.7 2314.57 1282.25 L2314.57 1277.53 Q2317.39 1276.39 2319.84 1275.81 Q2322.3 1275.24 2324.33 1275.24 Q2329.7 1275.24 2332.9 1277.92 Q2336.09 1280.61 2336.09 1285.1 Q2336.09 1287.23 2335.28 1289.15 Q2334.5 1291.05 2332.39 1293.64 Q2331.81 1294.31 2328.71 1297.53 Q2325.61 1300.72 2319.96 1306.49 Z\" fill=\"#000000\" fill-rule=\"nonzero\" fill-opacity=\"1\" /><path clip-path=\"url(#clip490)\" d=\"M2346.14 1275.86 L2364.5 1275.86 L2364.5 1279.8 L2350.42 1279.8 L2350.42 1288.27 Q2351.44 1287.92 2352.46 1287.76 Q2353.48 1287.57 2354.5 1287.57 Q2360.28 1287.57 2363.66 1290.74 Q2367.04 1293.92 2367.04 1299.33 Q2367.04 1304.91 2363.57 1308.01 Q2360.1 1311.09 2353.78 1311.09 Q2351.6 1311.09 2349.33 1310.72 Q2347.09 1310.35 2344.68 1309.61 L2344.68 1304.91 Q2346.76 1306.05 2348.99 1306.6 Q2351.21 1307.16 2353.69 1307.16 Q2357.69 1307.16 2360.03 1305.05 Q2362.37 1302.94 2362.37 1299.33 Q2362.37 1295.72 2360.03 1293.62 Q2357.69 1291.51 2353.69 1291.51 Q2351.81 1291.51 2349.94 1291.93 Q2348.08 1292.34 2346.14 1293.22 L2346.14 1275.86 Z\" fill=\"#000000\" fill-rule=\"nonzero\" fill-opacity=\"1\" /><path clip-path=\"url(#clip490)\" d=\"M2280.7 1152.53 Q2277.09 1152.53 2275.26 1156.09 Q2273.45 1159.64 2273.45 1166.76 Q2273.45 1173.87 2275.26 1177.44 Q2277.09 1180.98 2280.7 1180.98 Q2284.33 1180.98 2286.14 1177.44 Q2287.97 1173.87 2287.97 1166.76 Q2287.97 1159.64 2286.14 1156.09 Q2284.33 1152.53 2280.7 1152.53 M2280.7 1148.83 Q2286.51 1148.83 2289.57 1153.43 Q2292.64 1158.01 2292.64 1166.76 Q2292.64 1175.49 2289.57 1180.1 Q2286.51 1184.68 2280.7 1184.68 Q2274.89 1184.68 2271.81 1180.1 Q2268.76 1175.49 2268.76 1166.76 Q2268.76 1158.01 2271.81 1153.43 Q2274.89 1148.83 2280.7 1148.83 Z\" fill=\"#000000\" fill-rule=\"nonzero\" fill-opacity=\"1\" /><path clip-path=\"url(#clip490)\" d=\"M2300.86 1178.13 L2305.75 1178.13 L2305.75 1184.01 L2300.86 1184.01 L2300.86 1178.13 Z\" fill=\"#000000\" fill-rule=\"nonzero\" fill-opacity=\"1\" /><path clip-path=\"url(#clip490)\" d=\"M2315.98 1149.45 L2334.33 1149.45 L2334.33 1153.39 L2320.26 1153.39 L2320.26 1161.86 Q2321.28 1161.51 2322.3 1161.35 Q2323.32 1161.16 2324.33 1161.16 Q2330.12 1161.16 2333.5 1164.33 Q2336.88 1167.51 2336.88 1172.92 Q2336.88 1178.5 2333.41 1181.6 Q2329.94 1184.68 2323.62 1184.68 Q2321.44 1184.68 2319.17 1184.31 Q2316.93 1183.94 2314.52 1183.2 L2314.52 1178.5 Q2316.6 1179.64 2318.83 1180.19 Q2321.05 1180.75 2323.52 1180.75 Q2327.53 1180.75 2329.87 1178.64 Q2332.2 1176.53 2332.2 1172.92 Q2332.2 1169.31 2329.87 1167.2 Q2327.53 1165.1 2323.52 1165.1 Q2321.65 1165.1 2319.77 1165.51 Q2317.92 1165.93 2315.98 1166.81 L2315.98 1149.45 Z\" fill=\"#000000\" fill-rule=\"nonzero\" fill-opacity=\"1\" /><path clip-path=\"url(#clip490)\" d=\"M2356.09 1152.53 Q2352.48 1152.53 2350.65 1156.09 Q2348.85 1159.64 2348.85 1166.76 Q2348.85 1173.87 2350.65 1177.44 Q2352.48 1180.98 2356.09 1180.98 Q2359.73 1180.98 2361.53 1177.44 Q2363.36 1173.87 2363.36 1166.76 Q2363.36 1159.64 2361.53 1156.09 Q2359.73 1152.53 2356.09 1152.53 M2356.09 1148.83 Q2361.9 1148.83 2364.96 1153.43 Q2368.04 1158.01 2368.04 1166.76 Q2368.04 1175.49 2364.96 1180.1 Q2361.9 1184.68 2356.09 1184.68 Q2350.28 1184.68 2347.2 1180.1 Q2344.15 1175.49 2344.15 1166.76 Q2344.15 1158.01 2347.2 1153.43 Q2350.28 1148.83 2356.09 1148.83 Z\" fill=\"#000000\" fill-rule=\"nonzero\" fill-opacity=\"1\" /><path clip-path=\"url(#clip490)\" d=\"M2280.7 1026.12 Q2277.09 1026.12 2275.26 1029.68 Q2273.45 1033.22 2273.45 1040.35 Q2273.45 1047.46 2275.26 1051.03 Q2277.09 1054.57 2280.7 1054.57 Q2284.33 1054.57 2286.14 1051.03 Q2287.97 1047.46 2287.97 1040.35 Q2287.97 1033.22 2286.14 1029.68 Q2284.33 1026.12 2280.7 1026.12 M2280.7 1022.41 Q2286.51 1022.41 2289.57 1027.02 Q2292.64 1031.6 2292.64 1040.35 Q2292.64 1049.08 2289.57 1053.69 Q2286.51 1058.27 2280.7 1058.27 Q2274.89 1058.27 2271.81 1053.69 Q2268.76 1049.08 2268.76 1040.35 Q2268.76 1031.6 2271.81 1027.02 Q2274.89 1022.41 2280.7 1022.41 Z\" fill=\"#000000\" fill-rule=\"nonzero\" fill-opacity=\"1\" /><path clip-path=\"url(#clip490)\" d=\"M2300.86 1051.72 L2305.75 1051.72 L2305.75 1057.6 L2300.86 1057.6 L2300.86 1051.72 Z\" fill=\"#000000\" fill-rule=\"nonzero\" fill-opacity=\"1\" /><path clip-path=\"url(#clip490)\" d=\"M2314.75 1023.04 L2336.97 1023.04 L2336.97 1025.03 L2324.43 1057.6 L2319.54 1057.6 L2331.35 1026.97 L2314.75 1026.97 L2314.75 1023.04 Z\" fill=\"#000000\" fill-rule=\"nonzero\" fill-opacity=\"1\" /><path clip-path=\"url(#clip490)\" d=\"M2346.14 1023.04 L2364.5 1023.04 L2364.5 1026.97 L2350.42 1026.97 L2350.42 1035.45 Q2351.44 1035.1 2352.46 1034.94 Q2353.48 1034.75 2354.5 1034.75 Q2360.28 1034.75 2363.66 1037.92 Q2367.04 1041.1 2367.04 1046.51 Q2367.04 1052.09 2363.57 1055.19 Q2360.1 1058.27 2353.78 1058.27 Q2351.6 1058.27 2349.33 1057.9 Q2347.09 1057.53 2344.68 1056.79 L2344.68 1052.09 Q2346.76 1053.22 2348.99 1053.78 Q2351.21 1054.34 2353.69 1054.34 Q2357.69 1054.34 2360.03 1052.23 Q2362.37 1050.12 2362.37 1046.51 Q2362.37 1042.9 2360.03 1040.79 Q2357.69 1038.69 2353.69 1038.69 Q2351.81 1038.69 2349.94 1039.1 Q2348.08 1039.52 2346.14 1040.4 L2346.14 1023.04 Z\" fill=\"#000000\" fill-rule=\"nonzero\" fill-opacity=\"1\" /><path clip-path=\"url(#clip490)\" d=\"M2269.43 927.254 L2277.07 927.254 L2277.07 900.889 L2268.76 902.555 L2268.76 898.296 L2277.02 896.629 L2281.7 896.629 L2281.7 927.254 L2289.33 927.254 L2289.33 931.189 L2269.43 931.189 L2269.43 927.254 Z\" fill=\"#000000\" fill-rule=\"nonzero\" fill-opacity=\"1\" /><path clip-path=\"url(#clip490)\" d=\"M2298.78 925.31 L2303.66 925.31 L2303.66 931.189 L2298.78 931.189 L2298.78 925.31 Z\" fill=\"#000000\" fill-rule=\"nonzero\" fill-opacity=\"1\" /><path clip-path=\"url(#clip490)\" d=\"M2323.85 899.708 Q2320.24 899.708 2318.41 903.273 Q2316.6 906.814 2316.6 913.944 Q2316.6 921.05 2318.41 924.615 Q2320.24 928.157 2323.85 928.157 Q2327.48 928.157 2329.29 924.615 Q2331.12 921.05 2331.12 913.944 Q2331.12 906.814 2329.29 903.273 Q2327.48 899.708 2323.85 899.708 M2323.85 896.004 Q2329.66 896.004 2332.71 900.611 Q2335.79 905.194 2335.79 913.944 Q2335.79 922.671 2332.71 927.277 Q2329.66 931.861 2323.85 931.861 Q2318.04 931.861 2314.96 927.277 Q2311.9 922.671 2311.9 913.944 Q2311.9 905.194 2314.96 900.611 Q2318.04 896.004 2323.85 896.004 Z\" fill=\"#000000\" fill-rule=\"nonzero\" fill-opacity=\"1\" /><path clip-path=\"url(#clip490)\" d=\"M2354.01 899.708 Q2350.4 899.708 2348.57 903.273 Q2346.76 906.814 2346.76 913.944 Q2346.76 921.05 2348.57 924.615 Q2350.4 928.157 2354.01 928.157 Q2357.64 928.157 2359.45 924.615 Q2361.28 921.05 2361.28 913.944 Q2361.28 906.814 2359.45 903.273 Q2357.64 899.708 2354.01 899.708 M2354.01 896.004 Q2359.82 896.004 2362.88 900.611 Q2365.95 905.194 2365.95 913.944 Q2365.95 922.671 2362.88 927.277 Q2359.82 931.861 2354.01 931.861 Q2348.2 931.861 2345.12 927.277 Q2342.07 922.671 2342.07 913.944 Q2342.07 905.194 2345.12 900.611 Q2348.2 896.004 2354.01 896.004 Z\" fill=\"#000000\" fill-rule=\"nonzero\" fill-opacity=\"1\" /><path clip-path=\"url(#clip490)\" d=\"M2269.43 800.844 L2277.07 800.844 L2277.07 774.478 L2268.76 776.145 L2268.76 771.885 L2277.02 770.219 L2281.7 770.219 L2281.7 800.844 L2289.33 800.844 L2289.33 804.779 L2269.43 804.779 L2269.43 800.844 Z\" fill=\"#000000\" fill-rule=\"nonzero\" fill-opacity=\"1\" /><path clip-path=\"url(#clip490)\" d=\"M2298.78 798.899 L2303.66 798.899 L2303.66 804.779 L2298.78 804.779 L2298.78 798.899 Z\" fill=\"#000000\" fill-rule=\"nonzero\" fill-opacity=\"1\" /><path clip-path=\"url(#clip490)\" d=\"M2317.88 800.844 L2334.2 800.844 L2334.2 804.779 L2312.25 804.779 L2312.25 800.844 Q2314.91 798.089 2319.5 793.459 Q2324.1 788.807 2325.28 787.464 Q2327.53 784.941 2328.41 783.205 Q2329.31 781.446 2329.31 779.756 Q2329.31 777.001 2327.37 775.265 Q2325.45 773.529 2322.34 773.529 Q2320.14 773.529 2317.69 774.293 Q2315.26 775.057 2312.48 776.608 L2312.48 771.885 Q2315.31 770.751 2317.76 770.173 Q2320.21 769.594 2322.25 769.594 Q2327.62 769.594 2330.82 772.279 Q2334.01 774.964 2334.01 779.455 Q2334.01 781.585 2333.2 783.506 Q2332.41 785.404 2330.31 787.997 Q2329.73 788.668 2326.63 791.885 Q2323.52 795.08 2317.88 800.844 Z\" fill=\"#000000\" fill-rule=\"nonzero\" fill-opacity=\"1\" /><path clip-path=\"url(#clip490)\" d=\"M2344.06 770.219 L2362.41 770.219 L2362.41 774.154 L2348.34 774.154 L2348.34 782.626 Q2349.36 782.279 2350.38 782.117 Q2351.39 781.932 2352.41 781.932 Q2358.2 781.932 2361.58 785.103 Q2364.96 788.274 2364.96 793.691 Q2364.96 799.27 2361.49 802.371 Q2358.01 805.45 2351.7 805.45 Q2349.52 805.45 2347.25 805.08 Q2345.01 804.709 2342.6 803.969 L2342.6 799.27 Q2344.68 800.404 2346.9 800.959 Q2349.13 801.515 2351.6 801.515 Q2355.61 801.515 2357.95 799.408 Q2360.28 797.302 2360.28 793.691 Q2360.28 790.08 2357.95 787.973 Q2355.61 785.867 2351.6 785.867 Q2349.73 785.867 2347.85 786.284 Q2346 786.7 2344.06 787.58 L2344.06 770.219 Z\" fill=\"#000000\" fill-rule=\"nonzero\" fill-opacity=\"1\" /><path clip-path=\"url(#clip490)\" d=\"M2269.43 674.433 L2277.07 674.433 L2277.07 648.068 L2268.76 649.734 L2268.76 645.475 L2277.02 643.808 L2281.7 643.808 L2281.7 674.433 L2289.33 674.433 L2289.33 678.368 L2269.43 678.368 L2269.43 674.433 Z\" fill=\"#000000\" fill-rule=\"nonzero\" fill-opacity=\"1\" /><path clip-path=\"url(#clip490)\" d=\"M2298.78 672.489 L2303.66 672.489 L2303.66 678.368 L2298.78 678.368 L2298.78 672.489 Z\" fill=\"#000000\" fill-rule=\"nonzero\" fill-opacity=\"1\" /><path clip-path=\"url(#clip490)\" d=\"M2313.89 643.808 L2332.25 643.808 L2332.25 647.744 L2318.18 647.744 L2318.18 656.216 Q2319.2 655.868 2320.21 655.706 Q2321.23 655.521 2322.25 655.521 Q2328.04 655.521 2331.42 658.693 Q2334.8 661.864 2334.8 667.28 Q2334.8 672.859 2331.33 675.961 Q2327.85 679.04 2321.53 679.04 Q2319.36 679.04 2317.09 678.669 Q2314.84 678.299 2312.44 677.558 L2312.44 672.859 Q2314.52 673.993 2316.74 674.549 Q2318.96 675.105 2321.44 675.105 Q2325.45 675.105 2327.78 672.998 Q2330.12 670.892 2330.12 667.28 Q2330.12 663.669 2327.78 661.563 Q2325.45 659.456 2321.44 659.456 Q2319.57 659.456 2317.69 659.873 Q2315.84 660.29 2313.89 661.169 L2313.89 643.808 Z\" fill=\"#000000\" fill-rule=\"nonzero\" fill-opacity=\"1\" /><path clip-path=\"url(#clip490)\" d=\"M2354.01 646.887 Q2350.4 646.887 2348.57 650.452 Q2346.76 653.994 2346.76 661.123 Q2346.76 668.23 2348.57 671.794 Q2350.4 675.336 2354.01 675.336 Q2357.64 675.336 2359.45 671.794 Q2361.28 668.23 2361.28 661.123 Q2361.28 653.994 2359.45 650.452 Q2357.64 646.887 2354.01 646.887 M2354.01 643.183 Q2359.82 643.183 2362.88 647.79 Q2365.95 652.373 2365.95 661.123 Q2365.95 669.85 2362.88 674.456 Q2359.82 679.04 2354.01 679.04 Q2348.2 679.04 2345.12 674.456 Q2342.07 669.85 2342.07 661.123 Q2342.07 652.373 2345.12 647.79 Q2348.2 643.183 2354.01 643.183 Z\" fill=\"#000000\" fill-rule=\"nonzero\" fill-opacity=\"1\" /><path clip-path=\"url(#clip490)\" d=\"M2269.43 548.023 L2277.07 548.023 L2277.07 521.657 L2268.76 523.324 L2268.76 519.065 L2277.02 517.398 L2281.7 517.398 L2281.7 548.023 L2289.33 548.023 L2289.33 551.958 L2269.43 551.958 L2269.43 548.023 Z\" fill=\"#000000\" fill-rule=\"nonzero\" fill-opacity=\"1\" /><path clip-path=\"url(#clip490)\" d=\"M2298.78 546.078 L2303.66 546.078 L2303.66 551.958 L2298.78 551.958 L2298.78 546.078 Z\" fill=\"#000000\" fill-rule=\"nonzero\" fill-opacity=\"1\" /><path clip-path=\"url(#clip490)\" d=\"M2312.67 517.398 L2334.89 517.398 L2334.89 519.389 L2322.34 551.958 L2317.46 551.958 L2329.26 521.333 L2312.67 521.333 L2312.67 517.398 Z\" fill=\"#000000\" fill-rule=\"nonzero\" fill-opacity=\"1\" /><path clip-path=\"url(#clip490)\" d=\"M2344.06 517.398 L2362.41 517.398 L2362.41 521.333 L2348.34 521.333 L2348.34 529.805 Q2349.36 529.458 2350.38 529.296 Q2351.39 529.111 2352.41 529.111 Q2358.2 529.111 2361.58 532.282 Q2364.96 535.453 2364.96 540.87 Q2364.96 546.449 2361.49 549.551 Q2358.01 552.629 2351.7 552.629 Q2349.52 552.629 2347.25 552.259 Q2345.01 551.888 2342.6 551.148 L2342.6 546.449 Q2344.68 547.583 2346.9 548.139 Q2349.13 548.694 2351.6 548.694 Q2355.61 548.694 2357.95 546.588 Q2360.28 544.481 2360.28 540.87 Q2360.28 537.259 2357.95 535.152 Q2355.61 533.046 2351.6 533.046 Q2349.73 533.046 2347.85 533.463 Q2346 533.879 2344.06 534.759 L2344.06 517.398 Z\" fill=\"#000000\" fill-rule=\"nonzero\" fill-opacity=\"1\" /><path clip-path=\"url(#clip490)\" d=\"M2274.38 421.612 L2290.7 421.612 L2290.7 425.547 L2268.76 425.547 L2268.76 421.612 Q2271.42 418.858 2276 414.228 Q2280.61 409.575 2281.79 408.233 Q2284.03 405.71 2284.91 403.974 Q2285.82 402.214 2285.82 400.524 Q2285.82 397.77 2283.87 396.034 Q2281.95 394.298 2278.85 394.298 Q2276.65 394.298 2274.2 395.062 Q2271.77 395.825 2268.99 397.376 L2268.99 392.654 Q2271.81 391.52 2274.27 390.941 Q2276.72 390.362 2278.76 390.362 Q2284.13 390.362 2287.32 393.048 Q2290.52 395.733 2290.52 400.224 Q2290.52 402.353 2289.7 404.274 Q2288.92 406.173 2286.81 408.765 Q2286.23 409.436 2283.13 412.654 Q2280.03 415.848 2274.38 421.612 Z\" fill=\"#000000\" fill-rule=\"nonzero\" fill-opacity=\"1\" /><path clip-path=\"url(#clip490)\" d=\"M2300.51 419.668 L2305.4 419.668 L2305.4 425.547 L2300.51 425.547 L2300.51 419.668 Z\" fill=\"#000000\" fill-rule=\"nonzero\" fill-opacity=\"1\" /><path clip-path=\"url(#clip490)\" d=\"M2325.58 394.066 Q2321.97 394.066 2320.14 397.631 Q2318.34 401.173 2318.34 408.302 Q2318.34 415.409 2320.14 418.973 Q2321.97 422.515 2325.58 422.515 Q2329.22 422.515 2331.02 418.973 Q2332.85 415.409 2332.85 408.302 Q2332.85 401.173 2331.02 397.631 Q2329.22 394.066 2325.58 394.066 M2325.58 390.362 Q2331.39 390.362 2334.45 394.969 Q2337.53 399.552 2337.53 408.302 Q2337.53 417.029 2334.45 421.635 Q2331.39 426.219 2325.58 426.219 Q2319.77 426.219 2316.7 421.635 Q2313.64 417.029 2313.64 408.302 Q2313.64 399.552 2316.7 394.969 Q2319.77 390.362 2325.58 390.362 Z\" fill=\"#000000\" fill-rule=\"nonzero\" fill-opacity=\"1\" /><path clip-path=\"url(#clip490)\" d=\"M2355.75 394.066 Q2352.14 394.066 2350.31 397.631 Q2348.5 401.173 2348.5 408.302 Q2348.5 415.409 2350.31 418.973 Q2352.14 422.515 2355.75 422.515 Q2359.38 422.515 2361.19 418.973 Q2363.01 415.409 2363.01 408.302 Q2363.01 401.173 2361.19 397.631 Q2359.38 394.066 2355.75 394.066 M2355.75 390.362 Q2361.56 390.362 2364.61 394.969 Q2367.69 399.552 2367.69 408.302 Q2367.69 417.029 2364.61 421.635 Q2361.56 426.219 2355.75 426.219 Q2349.94 426.219 2346.86 421.635 Q2343.8 417.029 2343.8 408.302 Q2343.8 399.552 2346.86 394.969 Q2349.94 390.362 2355.75 390.362 Z\" fill=\"#000000\" fill-rule=\"nonzero\" fill-opacity=\"1\" /><path clip-path=\"url(#clip490)\" d=\"M2274.38 295.202 L2290.7 295.202 L2290.7 299.137 L2268.76 299.137 L2268.76 295.202 Q2271.42 292.447 2276 287.818 Q2280.61 283.165 2281.79 281.822 Q2284.03 279.299 2284.91 277.563 Q2285.82 275.804 2285.82 274.114 Q2285.82 271.359 2283.87 269.623 Q2281.95 267.887 2278.85 267.887 Q2276.65 267.887 2274.2 268.651 Q2271.77 269.415 2268.99 270.966 L2268.99 266.244 Q2271.81 265.109 2274.27 264.531 Q2276.72 263.952 2278.76 263.952 Q2284.13 263.952 2287.32 266.637 Q2290.52 269.322 2290.52 273.813 Q2290.52 275.943 2289.7 277.864 Q2288.92 279.762 2286.81 282.355 Q2286.23 283.026 2283.13 286.244 Q2280.03 289.438 2274.38 295.202 Z\" fill=\"#000000\" fill-rule=\"nonzero\" fill-opacity=\"1\" /><path clip-path=\"url(#clip490)\" d=\"M2300.51 293.257 L2305.4 293.257 L2305.4 299.137 L2300.51 299.137 L2300.51 293.257 Z\" fill=\"#000000\" fill-rule=\"nonzero\" fill-opacity=\"1\" /><path clip-path=\"url(#clip490)\" d=\"M2319.61 295.202 L2335.93 295.202 L2335.93 299.137 L2313.99 299.137 L2313.99 295.202 Q2316.65 292.447 2321.23 287.818 Q2325.84 283.165 2327.02 281.822 Q2329.26 279.299 2330.14 277.563 Q2331.05 275.804 2331.05 274.114 Q2331.05 271.359 2329.1 269.623 Q2327.18 267.887 2324.08 267.887 Q2321.88 267.887 2319.43 268.651 Q2317 269.415 2314.22 270.966 L2314.22 266.244 Q2317.04 265.109 2319.5 264.531 Q2321.95 263.952 2323.99 263.952 Q2329.36 263.952 2332.55 266.637 Q2335.75 269.322 2335.75 273.813 Q2335.75 275.943 2334.94 277.864 Q2334.15 279.762 2332.04 282.355 Q2331.46 283.026 2328.36 286.244 Q2325.26 289.438 2319.61 295.202 Z\" fill=\"#000000\" fill-rule=\"nonzero\" fill-opacity=\"1\" /><path clip-path=\"url(#clip490)\" d=\"M2345.79 264.577 L2364.15 264.577 L2364.15 268.512 L2350.07 268.512 L2350.07 276.984 Q2351.09 276.637 2352.11 276.475 Q2353.13 276.29 2354.15 276.29 Q2359.94 276.29 2363.32 279.461 Q2366.7 282.633 2366.7 288.049 Q2366.7 293.628 2363.22 296.73 Q2359.75 299.808 2353.43 299.808 Q2351.26 299.808 2348.99 299.438 Q2346.74 299.068 2344.33 298.327 L2344.33 293.628 Q2346.42 294.762 2348.64 295.318 Q2350.86 295.873 2353.34 295.873 Q2357.34 295.873 2359.68 293.767 Q2362.02 291.66 2362.02 288.049 Q2362.02 284.438 2359.68 282.332 Q2357.34 280.225 2353.34 280.225 Q2351.46 280.225 2349.59 280.642 Q2347.74 281.058 2345.79 281.938 L2345.79 264.577 Z\" fill=\"#000000\" fill-rule=\"nonzero\" fill-opacity=\"1\" /><polyline clip-path=\"url(#clip490)\" style=\"stroke:#000000; stroke-linecap:round; stroke-linejoin:round; stroke-width:4; stroke-opacity:1; fill:none\" points=\"2232.76,1423.18 2232.76,1423.18 2256.76,1423.18 2232.76,1423.18 2232.76,1296.77 2256.76,1296.77 2232.76,1296.77 2232.76,1170.36 2256.76,1170.36 2232.76,1170.36 2232.76,1043.95 2256.76,1043.95 2232.76,1043.95 2232.76,917.538 2256.76,917.538 2232.76,917.538 2232.76,791.128 2256.76,791.128 2232.76,791.128 2232.76,664.717 2256.76,664.717 2232.76,664.717 2232.76,538.307 2256.76,538.307 2232.76,538.307 2232.76,411.896 2256.76,411.896 2232.76,411.896 2232.76,285.486 2256.76,285.486 2232.76,285.486 2232.76,248.204 \"/>\n",
       "</svg>\n"
      ],
      "text/html": [
       "<?xml version=\"1.0\" encoding=\"utf-8\"?>\n",
       "<svg xmlns=\"http://www.w3.org/2000/svg\" xmlns:xlink=\"http://www.w3.org/1999/xlink\" width=\"600\" height=\"400\" viewBox=\"0 0 2400 1600\">\n",
       "<defs>\n",
       "  <clipPath id=\"clip540\">\n",
       "    <rect x=\"0\" y=\"0\" width=\"2400\" height=\"1600\"/>\n",
       "  </clipPath>\n",
       "</defs>\n",
       "<path clip-path=\"url(#clip540)\" d=\"M0 1600 L2400 1600 L2400 0 L0 0  Z\" fill=\"#ffffff\" fill-rule=\"evenodd\" fill-opacity=\"1\"/>\n",
       "<defs>\n",
       "  <clipPath id=\"clip541\">\n",
       "    <rect x=\"480\" y=\"0\" width=\"1681\" height=\"1600\"/>\n",
       "  </clipPath>\n",
       "</defs>\n",
       "<path clip-path=\"url(#clip540)\" d=\"M239.697 1423.18 L2112.76 1423.18 L2112.76 248.204 L239.697 248.204  Z\" fill=\"#ffffff\" fill-rule=\"evenodd\" fill-opacity=\"1\"/>\n",
       "<defs>\n",
       "  <clipPath id=\"clip542\">\n",
       "    <rect x=\"239\" y=\"248\" width=\"1874\" height=\"1176\"/>\n",
       "  </clipPath>\n",
       "</defs>\n",
       "<polyline clip-path=\"url(#clip542)\" style=\"stroke:#000000; stroke-linecap:round; stroke-linejoin:round; stroke-width:2; stroke-opacity:0.1; fill:none\" points=\"641.067,1423.18 641.067,248.204 \"/>\n",
       "<polyline clip-path=\"url(#clip542)\" style=\"stroke:#000000; stroke-linecap:round; stroke-linejoin:round; stroke-width:2; stroke-opacity:0.1; fill:none\" points=\"1087.03,1423.18 1087.03,248.204 \"/>\n",
       "<polyline clip-path=\"url(#clip542)\" style=\"stroke:#000000; stroke-linecap:round; stroke-linejoin:round; stroke-width:2; stroke-opacity:0.1; fill:none\" points=\"1533,1423.18 1533,248.204 \"/>\n",
       "<polyline clip-path=\"url(#clip542)\" style=\"stroke:#000000; stroke-linecap:round; stroke-linejoin:round; stroke-width:2; stroke-opacity:0.1; fill:none\" points=\"1978.97,1423.18 1978.97,248.204 \"/>\n",
       "<polyline clip-path=\"url(#clip540)\" style=\"stroke:#000000; stroke-linecap:round; stroke-linejoin:round; stroke-width:4; stroke-opacity:1; fill:none\" points=\"239.697,1423.18 2112.76,1423.18 \"/>\n",
       "<polyline clip-path=\"url(#clip540)\" style=\"stroke:#000000; stroke-linecap:round; stroke-linejoin:round; stroke-width:4; stroke-opacity:1; fill:none\" points=\"641.067,1423.18 641.067,1404.28 \"/>\n",
       "<polyline clip-path=\"url(#clip540)\" style=\"stroke:#000000; stroke-linecap:round; stroke-linejoin:round; stroke-width:4; stroke-opacity:1; fill:none\" points=\"1087.03,1423.18 1087.03,1404.28 \"/>\n",
       "<polyline clip-path=\"url(#clip540)\" style=\"stroke:#000000; stroke-linecap:round; stroke-linejoin:round; stroke-width:4; stroke-opacity:1; fill:none\" points=\"1533,1423.18 1533,1404.28 \"/>\n",
       "<polyline clip-path=\"url(#clip540)\" style=\"stroke:#000000; stroke-linecap:round; stroke-linejoin:round; stroke-width:4; stroke-opacity:1; fill:none\" points=\"1978.97,1423.18 1978.97,1404.28 \"/>\n",
       "<path clip-path=\"url(#clip540)\" d=\"M631.345 1451.02 L649.701 1451.02 L649.701 1454.96 L635.627 1454.96 L635.627 1463.43 Q636.646 1463.08 637.664 1462.92 Q638.683 1462.73 639.701 1462.73 Q645.488 1462.73 648.868 1465.9 Q652.247 1469.08 652.247 1474.49 Q652.247 1480.07 648.775 1483.17 Q645.303 1486.25 638.984 1486.25 Q636.808 1486.25 634.539 1485.88 Q632.294 1485.51 629.886 1484.77 L629.886 1480.07 Q631.97 1481.2 634.192 1481.76 Q636.414 1482.32 638.891 1482.32 Q642.896 1482.32 645.234 1480.21 Q647.571 1478.1 647.571 1474.49 Q647.571 1470.88 645.234 1468.77 Q642.896 1466.67 638.891 1466.67 Q637.016 1466.67 635.141 1467.08 Q633.289 1467.5 631.345 1468.38 L631.345 1451.02 Z\" fill=\"#000000\" fill-rule=\"nonzero\" fill-opacity=\"1\" /><path clip-path=\"url(#clip540)\" d=\"M1061.72 1481.64 L1069.36 1481.64 L1069.36 1455.28 L1061.05 1456.95 L1061.05 1452.69 L1069.31 1451.02 L1073.99 1451.02 L1073.99 1481.64 L1081.63 1481.64 L1081.63 1485.58 L1061.72 1485.58 L1061.72 1481.64 Z\" fill=\"#000000\" fill-rule=\"nonzero\" fill-opacity=\"1\" /><path clip-path=\"url(#clip540)\" d=\"M1101.07 1454.1 Q1097.46 1454.1 1095.63 1457.66 Q1093.83 1461.2 1093.83 1468.33 Q1093.83 1475.44 1095.63 1479.01 Q1097.46 1482.55 1101.07 1482.55 Q1104.71 1482.55 1106.51 1479.01 Q1108.34 1475.44 1108.34 1468.33 Q1108.34 1461.2 1106.51 1457.66 Q1104.71 1454.1 1101.07 1454.1 M1101.07 1450.39 Q1106.88 1450.39 1109.94 1455 Q1113.02 1459.58 1113.02 1468.33 Q1113.02 1477.06 1109.94 1481.67 Q1106.88 1486.25 1101.07 1486.25 Q1095.26 1486.25 1092.18 1481.67 Q1089.13 1477.06 1089.13 1468.33 Q1089.13 1459.58 1092.18 1455 Q1095.26 1450.39 1101.07 1450.39 Z\" fill=\"#000000\" fill-rule=\"nonzero\" fill-opacity=\"1\" /><path clip-path=\"url(#clip540)\" d=\"M1508.18 1481.64 L1515.82 1481.64 L1515.82 1455.28 L1507.51 1456.95 L1507.51 1452.69 L1515.78 1451.02 L1520.45 1451.02 L1520.45 1481.64 L1528.09 1481.64 L1528.09 1485.58 L1508.18 1485.58 L1508.18 1481.64 Z\" fill=\"#000000\" fill-rule=\"nonzero\" fill-opacity=\"1\" /><path clip-path=\"url(#clip540)\" d=\"M1537.58 1451.02 L1555.94 1451.02 L1555.94 1454.96 L1541.87 1454.96 L1541.87 1463.43 Q1542.88 1463.08 1543.9 1462.92 Q1544.92 1462.73 1545.94 1462.73 Q1551.73 1462.73 1555.11 1465.9 Q1558.49 1469.08 1558.49 1474.49 Q1558.49 1480.07 1555.01 1483.17 Q1551.54 1486.25 1545.22 1486.25 Q1543.05 1486.25 1540.78 1485.88 Q1538.53 1485.51 1536.12 1484.77 L1536.12 1480.07 Q1538.21 1481.2 1540.43 1481.76 Q1542.65 1482.32 1545.13 1482.32 Q1549.13 1482.32 1551.47 1480.21 Q1553.81 1478.1 1553.81 1474.49 Q1553.81 1470.88 1551.47 1468.77 Q1549.13 1466.67 1545.13 1466.67 Q1543.25 1466.67 1541.38 1467.08 Q1539.53 1467.5 1537.58 1468.38 L1537.58 1451.02 Z\" fill=\"#000000\" fill-rule=\"nonzero\" fill-opacity=\"1\" /><path clip-path=\"url(#clip540)\" d=\"M1957.74 1481.64 L1974.06 1481.64 L1974.06 1485.58 L1952.11 1485.58 L1952.11 1481.64 Q1954.78 1478.89 1959.36 1474.26 Q1963.97 1469.61 1965.15 1468.27 Q1967.39 1465.74 1968.27 1464.01 Q1969.17 1462.25 1969.17 1460.56 Q1969.17 1457.8 1967.23 1456.07 Q1965.31 1454.33 1962.21 1454.33 Q1960.01 1454.33 1957.55 1455.09 Q1955.12 1455.86 1952.35 1457.41 L1952.35 1452.69 Q1955.17 1451.55 1957.62 1450.97 Q1960.08 1450.39 1962.11 1450.39 Q1967.48 1450.39 1970.68 1453.08 Q1973.87 1455.77 1973.87 1460.26 Q1973.87 1462.39 1973.06 1464.31 Q1972.28 1466.2 1970.17 1468.8 Q1969.59 1469.47 1966.49 1472.69 Q1963.39 1475.88 1957.74 1481.64 Z\" fill=\"#000000\" fill-rule=\"nonzero\" fill-opacity=\"1\" /><path clip-path=\"url(#clip540)\" d=\"M1993.87 1454.1 Q1990.26 1454.1 1988.43 1457.66 Q1986.63 1461.2 1986.63 1468.33 Q1986.63 1475.44 1988.43 1479.01 Q1990.26 1482.55 1993.87 1482.55 Q1997.51 1482.55 1999.31 1479.01 Q2001.14 1475.44 2001.14 1468.33 Q2001.14 1461.2 1999.31 1457.66 Q1997.51 1454.1 1993.87 1454.1 M1993.87 1450.39 Q1999.68 1450.39 2002.74 1455 Q2005.82 1459.58 2005.82 1468.33 Q2005.82 1477.06 2002.74 1481.67 Q1999.68 1486.25 1993.87 1486.25 Q1988.06 1486.25 1984.98 1481.67 Q1981.93 1477.06 1981.93 1468.33 Q1981.93 1459.58 1984.98 1455 Q1988.06 1450.39 1993.87 1450.39 Z\" fill=\"#000000\" fill-rule=\"nonzero\" fill-opacity=\"1\" /><path clip-path=\"url(#clip540)\" d=\"M1047.37 1522.08 L1047.37 1528.35 Q1043.71 1526.6 1040.46 1525.74 Q1037.22 1524.88 1034.19 1524.88 Q1028.94 1524.88 1026.08 1526.92 Q1023.24 1528.96 1023.24 1532.71 Q1023.24 1535.87 1025.12 1537.49 Q1027.03 1539.08 1032.31 1540.07 L1036.2 1540.86 Q1043.39 1542.23 1046.8 1545.7 Q1050.23 1549.14 1050.23 1554.93 Q1050.23 1561.84 1045.59 1565.4 Q1040.97 1568.97 1032.03 1568.97 Q1028.65 1568.97 1024.83 1568.2 Q1021.05 1567.44 1016.97 1565.94 L1016.97 1559.32 Q1020.89 1561.52 1024.64 1562.63 Q1028.4 1563.75 1032.03 1563.75 Q1037.53 1563.75 1040.53 1561.58 Q1043.52 1559.42 1043.52 1555.41 Q1043.52 1551.91 1041.35 1549.93 Q1039.22 1547.96 1034.32 1546.97 L1030.4 1546.21 Q1023.21 1544.78 1020 1541.72 Q1016.78 1538.67 1016.78 1533.22 Q1016.78 1526.92 1021.21 1523.29 Q1025.66 1519.66 1033.46 1519.66 Q1036.8 1519.66 1040.27 1520.27 Q1043.74 1520.87 1047.37 1522.08 Z\" fill=\"#000000\" fill-rule=\"nonzero\" fill-opacity=\"1\" /><path clip-path=\"url(#clip540)\" d=\"M1060 1532.4 L1065.86 1532.4 L1065.86 1568.04 L1060 1568.04 L1060 1532.4 M1060 1518.52 L1065.86 1518.52 L1065.86 1525.93 L1060 1525.93 L1060 1518.52 Z\" fill=\"#000000\" fill-rule=\"nonzero\" fill-opacity=\"1\" /><path clip-path=\"url(#clip540)\" d=\"M1083.91 1522.27 L1083.91 1532.4 L1095.97 1532.4 L1095.97 1536.95 L1083.91 1536.95 L1083.91 1556.3 Q1083.91 1560.66 1085.09 1561.9 Q1086.3 1563.14 1089.96 1563.14 L1095.97 1563.14 L1095.97 1568.04 L1089.96 1568.04 Q1083.18 1568.04 1080.6 1565.53 Q1078.02 1562.98 1078.02 1556.3 L1078.02 1536.95 L1073.72 1536.95 L1073.72 1532.4 L1078.02 1532.4 L1078.02 1522.27 L1083.91 1522.27 Z\" fill=\"#000000\" fill-rule=\"nonzero\" fill-opacity=\"1\" /><path clip-path=\"url(#clip540)\" d=\"M1134.17 1548.76 L1134.17 1551.62 L1107.24 1551.62 Q1107.62 1557.67 1110.87 1560.85 Q1114.14 1564 1119.97 1564 Q1123.34 1564 1126.49 1563.17 Q1129.68 1562.35 1132.8 1560.69 L1132.8 1566.23 Q1129.65 1567.57 1126.34 1568.27 Q1123.03 1568.97 1119.62 1568.97 Q1111.09 1568.97 1106.09 1564 Q1101.13 1559.04 1101.13 1550.57 Q1101.13 1541.82 1105.84 1536.69 Q1110.58 1531.54 1118.6 1531.54 Q1125.79 1531.54 1129.96 1536.18 Q1134.17 1540.8 1134.17 1548.76 M1128.31 1547.04 Q1128.25 1542.23 1125.6 1539.37 Q1122.99 1536.5 1118.66 1536.5 Q1113.76 1536.5 1110.8 1539.27 Q1107.87 1542.04 1107.43 1547.07 L1128.31 1547.04 Z\" fill=\"#000000\" fill-rule=\"nonzero\" fill-opacity=\"1\" /><path clip-path=\"url(#clip540)\" d=\"M1164.75 1520.52 L1171.18 1520.52 L1171.18 1568.04 L1164.75 1568.04 L1164.75 1520.52 Z\" fill=\"#000000\" fill-rule=\"nonzero\" fill-opacity=\"1\" /><path clip-path=\"url(#clip540)\" d=\"M1213.35 1546.53 L1213.35 1568.04 L1207.5 1568.04 L1207.5 1546.72 Q1207.5 1541.66 1205.52 1539.14 Q1203.55 1536.63 1199.6 1536.63 Q1194.86 1536.63 1192.12 1539.65 Q1189.39 1542.68 1189.39 1547.9 L1189.39 1568.04 L1183.5 1568.04 L1183.5 1532.4 L1189.39 1532.4 L1189.39 1537.93 Q1191.49 1534.72 1194.32 1533.13 Q1197.19 1531.54 1200.91 1531.54 Q1207.05 1531.54 1210.2 1535.36 Q1213.35 1539.14 1213.35 1546.53 Z\" fill=\"#000000\" fill-rule=\"nonzero\" fill-opacity=\"1\" /><path clip-path=\"url(#clip540)\" d=\"M1248.49 1537.81 L1248.49 1518.52 L1254.35 1518.52 L1254.35 1568.04 L1248.49 1568.04 L1248.49 1562.7 Q1246.65 1565.88 1243.81 1567.44 Q1241.01 1568.97 1237.07 1568.97 Q1230.61 1568.97 1226.53 1563.81 Q1222.49 1558.65 1222.49 1550.25 Q1222.49 1541.85 1226.53 1536.69 Q1230.61 1531.54 1237.07 1531.54 Q1241.01 1531.54 1243.81 1533.1 Q1246.65 1534.62 1248.49 1537.81 M1228.54 1550.25 Q1228.54 1556.71 1231.18 1560.4 Q1233.85 1564.07 1238.5 1564.07 Q1243.15 1564.07 1245.82 1560.4 Q1248.49 1556.71 1248.49 1550.25 Q1248.49 1543.79 1245.82 1540.13 Q1243.15 1536.44 1238.5 1536.44 Q1233.85 1536.44 1231.18 1540.13 Q1228.54 1543.79 1228.54 1550.25 Z\" fill=\"#000000\" fill-rule=\"nonzero\" fill-opacity=\"1\" /><path clip-path=\"url(#clip540)\" d=\"M1296.9 1548.76 L1296.9 1551.62 L1269.98 1551.62 Q1270.36 1557.67 1273.61 1560.85 Q1276.88 1564 1282.71 1564 Q1286.08 1564 1289.23 1563.17 Q1292.42 1562.35 1295.54 1560.69 L1295.54 1566.23 Q1292.38 1567.57 1289.07 1568.27 Q1285.76 1568.97 1282.36 1568.97 Q1273.83 1568.97 1268.83 1564 Q1263.87 1559.04 1263.87 1550.57 Q1263.87 1541.82 1268.58 1536.69 Q1273.32 1531.54 1281.34 1531.54 Q1288.53 1531.54 1292.7 1536.18 Q1296.9 1540.8 1296.9 1548.76 M1291.05 1547.04 Q1290.98 1542.23 1288.34 1539.37 Q1285.73 1536.5 1281.4 1536.5 Q1276.5 1536.5 1273.54 1539.27 Q1270.61 1542.04 1270.17 1547.07 L1291.05 1547.04 Z\" fill=\"#000000\" fill-rule=\"nonzero\" fill-opacity=\"1\" /><path clip-path=\"url(#clip540)\" d=\"M1335 1532.4 L1322.11 1549.74 L1335.67 1568.04 L1328.76 1568.04 L1318.39 1554.04 L1308.01 1568.04 L1301.11 1568.04 L1314.95 1549.39 L1302.28 1532.4 L1309.19 1532.4 L1318.64 1545.1 L1328.1 1532.4 L1335 1532.4 Z\" fill=\"#000000\" fill-rule=\"nonzero\" fill-opacity=\"1\" /><polyline clip-path=\"url(#clip542)\" style=\"stroke:#000000; stroke-linecap:round; stroke-linejoin:round; stroke-width:2; stroke-opacity:0.1; fill:none\" points=\"239.697,1194.06 2112.76,1194.06 \"/>\n",
       "<polyline clip-path=\"url(#clip542)\" style=\"stroke:#000000; stroke-linecap:round; stroke-linejoin:round; stroke-width:2; stroke-opacity:0.1; fill:none\" points=\"239.697,959.064 2112.76,959.064 \"/>\n",
       "<polyline clip-path=\"url(#clip542)\" style=\"stroke:#000000; stroke-linecap:round; stroke-linejoin:round; stroke-width:2; stroke-opacity:0.1; fill:none\" points=\"239.697,724.069 2112.76,724.069 \"/>\n",
       "<polyline clip-path=\"url(#clip542)\" style=\"stroke:#000000; stroke-linecap:round; stroke-linejoin:round; stroke-width:2; stroke-opacity:0.1; fill:none\" points=\"239.697,489.074 2112.76,489.074 \"/>\n",
       "<polyline clip-path=\"url(#clip542)\" style=\"stroke:#000000; stroke-linecap:round; stroke-linejoin:round; stroke-width:2; stroke-opacity:0.1; fill:none\" points=\"239.697,254.079 2112.76,254.079 \"/>\n",
       "<polyline clip-path=\"url(#clip540)\" style=\"stroke:#000000; stroke-linecap:round; stroke-linejoin:round; stroke-width:4; stroke-opacity:1; fill:none\" points=\"239.697,1423.18 239.697,248.204 \"/>\n",
       "<polyline clip-path=\"url(#clip540)\" style=\"stroke:#000000; stroke-linecap:round; stroke-linejoin:round; stroke-width:4; stroke-opacity:1; fill:none\" points=\"239.697,1194.06 256.448,1194.06 \"/>\n",
       "<polyline clip-path=\"url(#clip540)\" style=\"stroke:#000000; stroke-linecap:round; stroke-linejoin:round; stroke-width:4; stroke-opacity:1; fill:none\" points=\"239.697,959.064 256.448,959.064 \"/>\n",
       "<polyline clip-path=\"url(#clip540)\" style=\"stroke:#000000; stroke-linecap:round; stroke-linejoin:round; stroke-width:4; stroke-opacity:1; fill:none\" points=\"239.697,724.069 256.448,724.069 \"/>\n",
       "<polyline clip-path=\"url(#clip540)\" style=\"stroke:#000000; stroke-linecap:round; stroke-linejoin:round; stroke-width:4; stroke-opacity:1; fill:none\" points=\"239.697,489.074 256.448,489.074 \"/>\n",
       "<polyline clip-path=\"url(#clip540)\" style=\"stroke:#000000; stroke-linecap:round; stroke-linejoin:round; stroke-width:4; stroke-opacity:1; fill:none\" points=\"239.697,254.079 256.448,254.079 \"/>\n",
       "<path clip-path=\"url(#clip540)\" d=\"M183.79 1207.4 L191.429 1207.4 L191.429 1181.04 L183.119 1182.71 L183.119 1178.45 L191.382 1176.78 L196.058 1176.78 L196.058 1207.4 L203.697 1207.4 L203.697 1211.34 L183.79 1211.34 L183.79 1207.4 Z\" fill=\"#000000\" fill-rule=\"nonzero\" fill-opacity=\"1\" /><path clip-path=\"url(#clip540)\" d=\"M187.378 972.409 L203.697 972.409 L203.697 976.344 L181.753 976.344 L181.753 972.409 Q184.415 969.655 188.998 965.025 Q193.605 960.372 194.785 959.03 Q197.031 956.507 197.91 954.77 Q198.813 953.011 198.813 951.321 Q198.813 948.567 196.869 946.831 Q194.947 945.095 191.845 945.095 Q189.646 945.095 187.193 945.858 Q184.762 946.622 181.984 948.173 L181.984 943.451 Q184.808 942.317 187.262 941.738 Q189.716 941.159 191.753 941.159 Q197.123 941.159 200.318 943.845 Q203.512 946.53 203.512 951.02 Q203.512 953.15 202.702 955.071 Q201.915 956.97 199.808 959.562 Q199.23 960.233 196.128 963.451 Q193.026 966.645 187.378 972.409 Z\" fill=\"#000000\" fill-rule=\"nonzero\" fill-opacity=\"1\" /><path clip-path=\"url(#clip540)\" d=\"M196.568 722.715 Q199.924 723.433 201.799 725.701 Q203.697 727.97 203.697 731.303 Q203.697 736.419 200.179 739.22 Q196.66 742.021 190.179 742.021 Q188.003 742.021 185.688 741.581 Q183.396 741.164 180.943 740.308 L180.943 735.794 Q182.887 736.928 185.202 737.507 Q187.517 738.085 190.04 738.085 Q194.438 738.085 196.73 736.349 Q199.044 734.613 199.044 731.303 Q199.044 728.247 196.892 726.535 Q194.762 724.798 190.943 724.798 L186.915 724.798 L186.915 720.956 L191.128 720.956 Q194.577 720.956 196.406 719.59 Q198.234 718.201 198.234 715.609 Q198.234 712.947 196.336 711.535 Q194.461 710.099 190.943 710.099 Q189.021 710.099 186.822 710.516 Q184.623 710.933 181.984 711.812 L181.984 707.646 Q184.646 706.905 186.961 706.535 Q189.299 706.164 191.359 706.164 Q196.683 706.164 199.785 708.595 Q202.887 711.002 202.887 715.123 Q202.887 717.993 201.243 719.984 Q199.6 721.951 196.568 722.715 Z\" fill=\"#000000\" fill-rule=\"nonzero\" fill-opacity=\"1\" /><path clip-path=\"url(#clip540)\" d=\"M194.114 475.868 L182.308 494.317 L194.114 494.317 L194.114 475.868 M192.887 471.794 L198.767 471.794 L198.767 494.317 L203.697 494.317 L203.697 498.206 L198.767 498.206 L198.767 506.354 L194.114 506.354 L194.114 498.206 L178.512 498.206 L178.512 493.692 L192.887 471.794 Z\" fill=\"#000000\" fill-rule=\"nonzero\" fill-opacity=\"1\" /><path clip-path=\"url(#clip540)\" d=\"M182.795 236.799 L201.151 236.799 L201.151 240.734 L187.077 240.734 L187.077 249.206 Q188.095 248.859 189.114 248.697 Q190.132 248.512 191.151 248.512 Q196.938 248.512 200.318 251.683 Q203.697 254.854 203.697 260.271 Q203.697 265.85 200.225 268.952 Q196.753 272.03 190.433 272.03 Q188.257 272.03 185.989 271.66 Q183.744 271.29 181.336 270.549 L181.336 265.85 Q183.42 266.984 185.642 267.54 Q187.864 268.095 190.341 268.095 Q194.345 268.095 196.683 265.989 Q199.021 263.882 199.021 260.271 Q199.021 256.66 196.683 254.554 Q194.345 252.447 190.341 252.447 Q188.466 252.447 186.591 252.864 Q184.739 253.28 182.795 254.16 L182.795 236.799 Z\" fill=\"#000000\" fill-rule=\"nonzero\" fill-opacity=\"1\" /><path clip-path=\"url(#clip540)\" d=\"M80.7361 937.909 L80.7361 897.71 L86.147 897.71 L86.147 914.579 L128.256 914.579 L128.256 921.04 L86.147 921.04 L86.147 937.909 L80.7361 937.909 Z\" fill=\"#000000\" fill-rule=\"nonzero\" fill-opacity=\"1\" /><path clip-path=\"url(#clip540)\" d=\"M92.6082 893.763 L92.6082 887.907 L128.256 887.907 L128.256 893.763 L92.6082 893.763 M78.7309 893.763 L78.7309 887.907 L86.147 887.907 L86.147 893.763 L78.7309 893.763 Z\" fill=\"#000000\" fill-rule=\"nonzero\" fill-opacity=\"1\" /><path clip-path=\"url(#clip540)\" d=\"M99.4513 847.898 Q95.5046 845.702 93.6267 842.647 Q91.7488 839.591 91.7488 835.453 Q91.7488 829.883 95.6637 826.86 Q99.5468 823.836 106.74 823.836 L128.256 823.836 L128.256 829.724 L106.931 829.724 Q101.807 829.724 99.324 831.538 Q96.8414 833.353 96.8414 837.077 Q96.8414 841.628 99.8651 844.27 Q102.889 846.912 108.109 846.912 L128.256 846.912 L128.256 852.8 L106.931 852.8 Q101.775 852.8 99.324 854.614 Q96.8414 856.428 96.8414 860.216 Q96.8414 864.704 99.8969 867.345 Q102.921 869.987 108.109 869.987 L128.256 869.987 L128.256 875.875 L92.6082 875.875 L92.6082 869.987 L98.1463 869.987 Q94.868 867.982 93.3084 865.181 Q91.7488 862.38 91.7488 858.529 Q91.7488 854.646 93.7222 851.94 Q95.6955 849.203 99.4513 847.898 Z\" fill=\"#000000\" fill-rule=\"nonzero\" fill-opacity=\"1\" /><path clip-path=\"url(#clip540)\" d=\"M108.968 781.663 L111.833 781.663 L111.833 808.59 Q117.88 808.208 121.063 804.962 Q124.214 801.683 124.214 795.859 Q124.214 792.485 123.386 789.334 Q122.559 786.151 120.904 783.032 L126.442 783.032 Q127.779 786.183 128.479 789.493 Q129.179 792.803 129.179 796.209 Q129.179 804.739 124.214 809.736 Q119.249 814.701 110.782 814.701 Q102.029 814.701 96.905 809.99 Q91.7488 805.248 91.7488 797.227 Q91.7488 790.034 96.3958 785.864 Q101.011 781.663 108.968 781.663 M107.249 787.519 Q102.443 787.583 99.5786 790.225 Q96.714 792.835 96.714 797.164 Q96.714 802.065 99.4831 805.025 Q102.252 807.953 107.281 808.399 L107.249 787.519 Z\" fill=\"#000000\" fill-rule=\"nonzero\" fill-opacity=\"1\" /><path clip-path=\"url(#clip540)\" d=\"M82.4867 745.538 L92.6082 745.538 L92.6082 733.475 L97.1596 733.475 L97.1596 745.538 L116.511 745.538 Q120.872 745.538 122.113 744.36 Q123.355 743.151 123.355 739.49 L123.355 733.475 L128.256 733.475 L128.256 739.49 Q128.256 746.27 125.742 748.848 Q123.195 751.426 116.511 751.426 L97.1596 751.426 L97.1596 755.723 L92.6082 755.723 L92.6082 751.426 L82.4867 751.426 L82.4867 745.538 Z\" fill=\"#000000\" fill-rule=\"nonzero\" fill-opacity=\"1\" /><path clip-path=\"url(#clip540)\" d=\"M85.2168 123.984 L123.457 123.984 L123.457 130.871 L93.3996 130.871 L93.3996 148.776 L122.202 148.776 L122.202 155.662 L93.3996 155.662 L93.3996 177.577 L124.186 177.577 L124.186 184.464 L85.2168 184.464 L85.2168 123.984 Z\" fill=\"#000000\" fill-rule=\"nonzero\" fill-opacity=\"1\" /><path clip-path=\"url(#clip540)\" d=\"M175.025 157.08 L175.025 184.464 L167.572 184.464 L167.572 157.323 Q167.572 150.882 165.06 147.682 Q162.549 144.482 157.525 144.482 Q151.49 144.482 148.006 148.33 Q144.522 152.178 144.522 158.822 L144.522 184.464 L137.028 184.464 L137.028 139.094 L144.522 139.094 L144.522 146.142 Q147.196 142.051 150.801 140.026 Q154.447 138 159.186 138 Q167.005 138 171.015 142.861 Q175.025 147.682 175.025 157.08 Z\" fill=\"#000000\" fill-rule=\"nonzero\" fill-opacity=\"1\" /><path clip-path=\"url(#clip540)\" d=\"M197.265 126.212 L197.265 139.094 L212.618 139.094 L212.618 144.887 L197.265 144.887 L197.265 169.516 Q197.265 175.066 198.764 176.646 Q200.303 178.226 204.961 178.226 L212.618 178.226 L212.618 184.464 L204.961 184.464 Q196.333 184.464 193.052 181.264 Q189.771 178.023 189.771 169.516 L189.771 144.887 L184.302 144.887 L184.302 139.094 L189.771 139.094 L189.771 126.212 L197.265 126.212 Z\" fill=\"#000000\" fill-rule=\"nonzero\" fill-opacity=\"1\" /><path clip-path=\"url(#clip540)\" d=\"M243.04 161.657 Q234.006 161.657 230.523 163.723 Q227.039 165.789 227.039 170.772 Q227.039 174.742 229.631 177.091 Q232.265 179.4 236.761 179.4 Q242.959 179.4 246.686 175.025 Q250.453 170.61 250.453 163.318 L250.453 161.657 L243.04 161.657 M257.907 158.579 L257.907 184.464 L250.453 184.464 L250.453 177.577 Q247.901 181.709 244.093 183.694 Q240.285 185.639 234.776 185.639 Q227.809 185.639 223.677 181.75 Q219.585 177.821 219.585 171.258 Q219.585 163.602 224.689 159.713 Q229.834 155.824 240.002 155.824 L250.453 155.824 L250.453 155.095 Q250.453 149.95 247.05 147.155 Q243.688 144.32 237.571 144.32 Q233.682 144.32 229.996 145.251 Q226.31 146.183 222.907 148.046 L222.907 141.16 Q226.998 139.58 230.847 138.81 Q234.695 138 238.341 138 Q248.185 138 253.046 143.104 Q257.907 148.208 257.907 158.579 Z\" fill=\"#000000\" fill-rule=\"nonzero\" fill-opacity=\"1\" /><path clip-path=\"url(#clip540)\" d=\"M310.974 157.08 L310.974 184.464 L303.52 184.464 L303.52 157.323 Q303.52 150.882 301.008 147.682 Q298.497 144.482 293.474 144.482 Q287.438 144.482 283.954 148.33 Q280.47 152.178 280.47 158.822 L280.47 184.464 L272.976 184.464 L272.976 139.094 L280.47 139.094 L280.47 146.142 Q283.144 142.051 286.749 140.026 Q290.395 138 295.135 138 Q302.953 138 306.963 142.861 Q310.974 147.682 310.974 157.08 Z\" fill=\"#000000\" fill-rule=\"nonzero\" fill-opacity=\"1\" /><path clip-path=\"url(#clip540)\" d=\"M355.696 161.252 Q355.696 153.151 352.333 148.695 Q349.012 144.239 342.976 144.239 Q336.98 144.239 333.618 148.695 Q330.296 153.151 330.296 161.252 Q330.296 169.314 333.618 173.77 Q336.98 178.226 342.976 178.226 Q349.012 178.226 352.333 173.77 Q355.696 169.314 355.696 161.252 M363.149 178.833 Q363.149 190.419 358.005 196.05 Q352.86 201.721 342.247 201.721 Q338.317 201.721 334.833 201.113 Q331.35 200.546 328.068 199.331 L328.068 192.08 Q331.35 193.862 334.55 194.713 Q337.75 195.563 341.072 195.563 Q348.404 195.563 352.05 191.715 Q355.696 187.907 355.696 180.17 L355.696 176.484 Q353.387 180.494 349.781 182.479 Q346.176 184.464 341.153 184.464 Q332.808 184.464 327.704 178.104 Q322.6 171.744 322.6 161.252 Q322.6 150.72 327.704 144.36 Q332.808 138 341.153 138 Q346.176 138 349.781 139.985 Q353.387 141.97 355.696 145.98 L355.696 139.094 L363.149 139.094 L363.149 178.833 Z\" fill=\"#000000\" fill-rule=\"nonzero\" fill-opacity=\"1\" /><path clip-path=\"url(#clip540)\" d=\"M378.502 121.432 L385.956 121.432 L385.956 184.464 L378.502 184.464 L378.502 121.432 Z\" fill=\"#000000\" fill-rule=\"nonzero\" fill-opacity=\"1\" /><path clip-path=\"url(#clip540)\" d=\"M440.36 159.916 L440.36 163.561 L406.089 163.561 Q406.575 171.258 410.707 175.309 Q414.879 179.319 422.293 179.319 Q426.586 179.319 430.597 178.266 Q434.648 177.213 438.618 175.106 L438.618 182.155 Q434.607 183.856 430.394 184.748 Q426.181 185.639 421.847 185.639 Q410.99 185.639 404.631 179.319 Q398.311 173 398.311 162.225 Q398.311 151.085 404.306 144.563 Q410.342 138 420.551 138 Q429.706 138 435.012 143.914 Q440.36 149.788 440.36 159.916 M432.906 157.728 Q432.825 151.611 429.463 147.965 Q426.141 144.32 420.632 144.32 Q414.393 144.32 410.626 147.844 Q406.899 151.368 406.332 157.769 L432.906 157.728 Z\" fill=\"#000000\" fill-rule=\"nonzero\" fill-opacity=\"1\" /><path clip-path=\"url(#clip540)\" d=\"M487.917 147.803 Q490.712 142.78 494.601 140.39 Q498.49 138 503.756 138 Q510.845 138 514.694 142.983 Q518.542 147.925 518.542 157.08 L518.542 184.464 L511.048 184.464 L511.048 157.323 Q511.048 150.801 508.739 147.641 Q506.43 144.482 501.69 144.482 Q495.897 144.482 492.535 148.33 Q489.173 152.178 489.173 158.822 L489.173 184.464 L481.679 184.464 L481.679 157.323 Q481.679 150.76 479.37 147.641 Q477.061 144.482 472.24 144.482 Q466.528 144.482 463.166 148.37 Q459.804 152.219 459.804 158.822 L459.804 184.464 L452.31 184.464 L452.31 139.094 L459.804 139.094 L459.804 146.142 Q462.356 141.97 465.921 139.985 Q469.486 138 474.387 138 Q479.329 138 482.773 140.512 Q486.256 143.023 487.917 147.803 Z\" fill=\"#000000\" fill-rule=\"nonzero\" fill-opacity=\"1\" /><path clip-path=\"url(#clip540)\" d=\"M572.216 159.916 L572.216 163.561 L537.946 163.561 Q538.432 171.258 542.564 175.309 Q546.736 179.319 554.149 179.319 Q558.443 179.319 562.454 178.266 Q566.505 177.213 570.475 175.106 L570.475 182.155 Q566.464 183.856 562.251 184.748 Q558.038 185.639 553.704 185.639 Q542.847 185.639 536.487 179.319 Q530.168 173 530.168 162.225 Q530.168 151.085 536.163 144.563 Q542.199 138 552.408 138 Q561.563 138 566.869 143.914 Q572.216 149.788 572.216 159.916 M564.763 157.728 Q564.682 151.611 561.32 147.965 Q557.998 144.32 552.489 144.32 Q546.25 144.32 542.483 147.844 Q538.756 151.368 538.189 157.769 L564.763 157.728 Z\" fill=\"#000000\" fill-rule=\"nonzero\" fill-opacity=\"1\" /><path clip-path=\"url(#clip540)\" d=\"M622.164 157.08 L622.164 184.464 L614.71 184.464 L614.71 157.323 Q614.71 150.882 612.199 147.682 Q609.687 144.482 604.664 144.482 Q598.628 144.482 595.145 148.33 Q591.661 152.178 591.661 158.822 L591.661 184.464 L584.167 184.464 L584.167 139.094 L591.661 139.094 L591.661 146.142 Q594.334 142.051 597.94 140.026 Q601.586 138 606.325 138 Q614.143 138 618.154 142.861 Q622.164 147.682 622.164 157.08 Z\" fill=\"#000000\" fill-rule=\"nonzero\" fill-opacity=\"1\" /><path clip-path=\"url(#clip540)\" d=\"M644.404 126.212 L644.404 139.094 L659.757 139.094 L659.757 144.887 L644.404 144.887 L644.404 169.516 Q644.404 175.066 645.902 176.646 Q647.442 178.226 652.1 178.226 L659.757 178.226 L659.757 184.464 L652.1 184.464 Q643.472 184.464 640.191 181.264 Q636.909 178.023 636.909 169.516 L636.909 144.887 L631.441 144.887 L631.441 139.094 L636.909 139.094 L636.909 126.212 L644.404 126.212 Z\" fill=\"#000000\" fill-rule=\"nonzero\" fill-opacity=\"1\" /><path clip-path=\"url(#clip540)\" d=\"M696.255 123.984 L734.496 123.984 L734.496 130.871 L704.438 130.871 L704.438 148.776 L733.24 148.776 L733.24 155.662 L704.438 155.662 L704.438 177.577 L735.225 177.577 L735.225 184.464 L696.255 184.464 L696.255 123.984 Z\" fill=\"#000000\" fill-rule=\"nonzero\" fill-opacity=\"1\" /><path clip-path=\"url(#clip540)\" d=\"M786.064 157.08 L786.064 184.464 L778.61 184.464 L778.61 157.323 Q778.61 150.882 776.098 147.682 Q773.587 144.482 768.564 144.482 Q762.528 144.482 759.044 148.33 Q755.56 152.178 755.56 158.822 L755.56 184.464 L748.066 184.464 L748.066 139.094 L755.56 139.094 L755.56 146.142 Q758.234 142.051 761.839 140.026 Q765.485 138 770.225 138 Q778.043 138 782.053 142.861 Q786.064 147.682 786.064 157.08 Z\" fill=\"#000000\" fill-rule=\"nonzero\" fill-opacity=\"1\" /><path clip-path=\"url(#clip540)\" d=\"M808.303 126.212 L808.303 139.094 L823.656 139.094 L823.656 144.887 L808.303 144.887 L808.303 169.516 Q808.303 175.066 809.802 176.646 Q811.341 178.226 816 178.226 L823.656 178.226 L823.656 184.464 L816 184.464 Q807.371 184.464 804.09 181.264 Q800.809 178.023 800.809 169.516 L800.809 144.887 L795.34 144.887 L795.34 139.094 L800.809 139.094 L800.809 126.212 L808.303 126.212 Z\" fill=\"#000000\" fill-rule=\"nonzero\" fill-opacity=\"1\" /><path clip-path=\"url(#clip540)\" d=\"M859.75 146.061 Q858.494 145.332 856.995 145.008 Q855.537 144.644 853.754 144.644 Q847.435 144.644 844.032 148.776 Q840.67 152.867 840.67 160.564 L840.67 184.464 L833.176 184.464 L833.176 139.094 L840.67 139.094 L840.67 146.142 Q843.019 142.011 846.787 140.026 Q850.554 138 855.942 138 Q856.711 138 857.643 138.122 Q858.575 138.203 859.709 138.405 L859.75 146.061 Z\" fill=\"#000000\" fill-rule=\"nonzero\" fill-opacity=\"1\" /><path clip-path=\"url(#clip540)\" d=\"M883.326 144.32 Q877.331 144.32 873.847 149.019 Q870.363 153.677 870.363 161.819 Q870.363 169.962 873.806 174.661 Q877.29 179.319 883.326 179.319 Q889.281 179.319 892.765 174.62 Q896.248 169.921 896.248 161.819 Q896.248 153.758 892.765 149.059 Q889.281 144.32 883.326 144.32 M883.326 138 Q893.048 138 898.598 144.32 Q904.148 150.639 904.148 161.819 Q904.148 172.959 898.598 179.319 Q893.048 185.639 883.326 185.639 Q873.563 185.639 868.013 179.319 Q862.504 172.959 862.504 161.819 Q862.504 150.639 868.013 144.32 Q873.563 138 883.326 138 Z\" fill=\"#000000\" fill-rule=\"nonzero\" fill-opacity=\"1\" /><path clip-path=\"url(#clip540)\" d=\"M923.713 177.658 L923.713 201.721 L916.219 201.721 L916.219 139.094 L923.713 139.094 L923.713 145.98 Q926.063 141.93 929.628 139.985 Q933.233 138 938.216 138 Q946.48 138 951.624 144.563 Q956.809 151.125 956.809 161.819 Q956.809 172.514 951.624 179.076 Q946.48 185.639 938.216 185.639 Q933.233 185.639 929.628 183.694 Q926.063 181.709 923.713 177.658 M949.072 161.819 Q949.072 153.596 945.669 148.938 Q942.307 144.239 936.393 144.239 Q930.478 144.239 927.076 148.938 Q923.713 153.596 923.713 161.819 Q923.713 170.043 927.076 174.742 Q930.478 179.4 936.393 179.4 Q942.307 179.4 945.669 174.742 Q949.072 170.043 949.072 161.819 Z\" fill=\"#000000\" fill-rule=\"nonzero\" fill-opacity=\"1\" /><path clip-path=\"url(#clip540)\" d=\"M988.042 188.677 Q984.882 196.779 981.884 199.25 Q978.887 201.721 973.864 201.721 L967.909 201.721 L967.909 195.482 L972.284 195.482 Q975.362 195.482 977.064 194.024 Q978.765 192.566 980.831 187.138 L982.168 183.735 L963.817 139.094 L971.717 139.094 L985.895 174.58 L1000.07 139.094 L1007.97 139.094 L988.042 188.677 Z\" fill=\"#000000\" fill-rule=\"nonzero\" fill-opacity=\"1\" /><path clip-path=\"url(#clip540)\" d=\"M1081.21 125.969 L1081.21 133.949 Q1076.55 131.721 1072.42 130.627 Q1068.29 129.534 1064.44 129.534 Q1057.76 129.534 1054.11 132.126 Q1050.51 134.719 1050.51 139.499 Q1050.51 143.509 1052.9 145.575 Q1055.33 147.601 1062.05 148.857 L1066.99 149.869 Q1076.15 151.611 1080.48 156.027 Q1084.86 160.402 1084.86 167.774 Q1084.86 176.565 1078.94 181.102 Q1073.07 185.639 1061.69 185.639 Q1057.39 185.639 1052.53 184.667 Q1047.71 183.694 1042.53 181.79 L1042.53 173.365 Q1047.51 176.16 1052.29 177.577 Q1057.07 178.995 1061.69 178.995 Q1068.7 178.995 1072.5 176.241 Q1076.31 173.486 1076.31 168.382 Q1076.31 163.926 1073.56 161.414 Q1070.84 158.903 1064.6 157.647 L1059.62 156.675 Q1050.47 154.852 1046.37 150.963 Q1042.28 147.074 1042.28 140.147 Q1042.28 132.126 1047.91 127.508 Q1053.59 122.89 1063.51 122.89 Q1067.76 122.89 1072.18 123.66 Q1076.59 124.43 1081.21 125.969 Z\" fill=\"#000000\" fill-rule=\"nonzero\" fill-opacity=\"1\" /><path clip-path=\"url(#clip540)\" d=\"M1136.1 159.916 L1136.1 163.561 L1101.83 163.561 Q1102.32 171.258 1106.45 175.309 Q1110.62 179.319 1118.04 179.319 Q1122.33 179.319 1126.34 178.266 Q1130.39 177.213 1134.36 175.106 L1134.36 182.155 Q1130.35 183.856 1126.14 184.748 Q1121.92 185.639 1117.59 185.639 Q1106.73 185.639 1100.37 179.319 Q1094.05 173 1094.05 162.225 Q1094.05 151.085 1100.05 144.563 Q1106.09 138 1116.29 138 Q1125.45 138 1130.76 143.914 Q1136.1 149.788 1136.1 159.916 M1128.65 157.728 Q1128.57 151.611 1125.21 147.965 Q1121.88 144.32 1116.37 144.32 Q1110.14 144.32 1106.37 147.844 Q1102.64 151.368 1102.07 157.769 L1128.65 157.728 Z\" fill=\"#000000\" fill-rule=\"nonzero\" fill-opacity=\"1\" /><path clip-path=\"url(#clip540)\" d=\"M1155.55 177.658 L1155.55 201.721 L1148.05 201.721 L1148.05 139.094 L1155.55 139.094 L1155.55 145.98 Q1157.9 141.93 1161.46 139.985 Q1165.07 138 1170.05 138 Q1178.31 138 1183.46 144.563 Q1188.64 151.125 1188.64 161.819 Q1188.64 172.514 1183.46 179.076 Q1178.31 185.639 1170.05 185.639 Q1165.07 185.639 1161.46 183.694 Q1157.9 181.709 1155.55 177.658 M1180.91 161.819 Q1180.91 153.596 1177.5 148.938 Q1174.14 144.239 1168.23 144.239 Q1162.31 144.239 1158.91 148.938 Q1155.55 153.596 1155.55 161.819 Q1155.55 170.043 1158.91 174.742 Q1162.31 179.4 1168.23 179.4 Q1174.14 179.4 1177.5 174.742 Q1180.91 170.043 1180.91 161.819 Z\" fill=\"#000000\" fill-rule=\"nonzero\" fill-opacity=\"1\" /><path clip-path=\"url(#clip540)\" d=\"M1221.62 161.657 Q1212.58 161.657 1209.1 163.723 Q1205.62 165.789 1205.62 170.772 Q1205.62 174.742 1208.21 177.091 Q1210.84 179.4 1215.34 179.4 Q1221.54 179.4 1225.26 175.025 Q1229.03 170.61 1229.03 163.318 L1229.03 161.657 L1221.62 161.657 M1236.48 158.579 L1236.48 184.464 L1229.03 184.464 L1229.03 177.577 Q1226.48 181.709 1222.67 183.694 Q1218.86 185.639 1213.35 185.639 Q1206.39 185.639 1202.25 181.75 Q1198.16 177.821 1198.16 171.258 Q1198.16 163.602 1203.27 159.713 Q1208.41 155.824 1218.58 155.824 L1229.03 155.824 L1229.03 155.095 Q1229.03 149.95 1225.63 147.155 Q1222.27 144.32 1216.15 144.32 Q1212.26 144.32 1208.57 145.251 Q1204.89 146.183 1201.48 148.046 L1201.48 141.16 Q1205.58 139.58 1209.42 138.81 Q1213.27 138 1216.92 138 Q1226.76 138 1231.62 143.104 Q1236.48 148.208 1236.48 158.579 Z\" fill=\"#000000\" fill-rule=\"nonzero\" fill-opacity=\"1\" /><path clip-path=\"url(#clip540)\" d=\"M1278.13 146.061 Q1276.87 145.332 1275.37 145.008 Q1273.91 144.644 1272.13 144.644 Q1265.81 144.644 1262.41 148.776 Q1259.05 152.867 1259.05 160.564 L1259.05 184.464 L1251.55 184.464 L1251.55 139.094 L1259.05 139.094 L1259.05 146.142 Q1261.4 142.011 1265.16 140.026 Q1268.93 138 1274.32 138 Q1275.09 138 1276.02 138.122 Q1276.95 138.203 1278.09 138.405 L1278.13 146.061 Z\" fill=\"#000000\" fill-rule=\"nonzero\" fill-opacity=\"1\" /><path clip-path=\"url(#clip540)\" d=\"M1306.56 161.657 Q1297.53 161.657 1294.05 163.723 Q1290.56 165.789 1290.56 170.772 Q1290.56 174.742 1293.16 177.091 Q1295.79 179.4 1300.29 179.4 Q1306.48 179.4 1310.21 175.025 Q1313.98 170.61 1313.98 163.318 L1313.98 161.657 L1306.56 161.657 M1321.43 158.579 L1321.43 184.464 L1313.98 184.464 L1313.98 177.577 Q1311.43 181.709 1307.62 183.694 Q1303.81 185.639 1298.3 185.639 Q1291.33 185.639 1287.2 181.75 Q1283.11 177.821 1283.11 171.258 Q1283.11 163.602 1288.21 159.713 Q1293.36 155.824 1303.53 155.824 L1313.98 155.824 L1313.98 155.095 Q1313.98 149.95 1310.57 147.155 Q1307.21 144.32 1301.1 144.32 Q1297.21 144.32 1293.52 145.251 Q1289.83 146.183 1286.43 148.046 L1286.43 141.16 Q1290.52 139.58 1294.37 138.81 Q1298.22 138 1301.87 138 Q1311.71 138 1316.57 143.104 Q1321.43 148.208 1321.43 158.579 Z\" fill=\"#000000\" fill-rule=\"nonzero\" fill-opacity=\"1\" /><path clip-path=\"url(#clip540)\" d=\"M1344.16 126.212 L1344.16 139.094 L1359.51 139.094 L1359.51 144.887 L1344.16 144.887 L1344.16 169.516 Q1344.16 175.066 1345.66 176.646 Q1347.19 178.226 1351.85 178.226 L1359.51 178.226 L1359.51 184.464 L1351.85 184.464 Q1343.23 184.464 1339.94 181.264 Q1336.66 178.023 1336.66 169.516 L1336.66 144.887 L1331.19 144.887 L1331.19 139.094 L1336.66 139.094 L1336.66 126.212 L1344.16 126.212 Z\" fill=\"#000000\" fill-rule=\"nonzero\" fill-opacity=\"1\" /><path clip-path=\"url(#clip540)\" d=\"M1369.31 139.094 L1376.77 139.094 L1376.77 184.464 L1369.31 184.464 L1369.31 139.094 M1369.31 121.432 L1376.77 121.432 L1376.77 130.871 L1369.31 130.871 L1369.31 121.432 Z\" fill=\"#000000\" fill-rule=\"nonzero\" fill-opacity=\"1\" /><path clip-path=\"url(#clip540)\" d=\"M1430.08 157.08 L1430.08 184.464 L1422.62 184.464 L1422.62 157.323 Q1422.62 150.882 1420.11 147.682 Q1417.6 144.482 1412.58 144.482 Q1406.54 144.482 1403.06 148.33 Q1399.57 152.178 1399.57 158.822 L1399.57 184.464 L1392.08 184.464 L1392.08 139.094 L1399.57 139.094 L1399.57 146.142 Q1402.25 142.051 1405.85 140.026 Q1409.5 138 1414.24 138 Q1422.06 138 1426.07 142.861 Q1430.08 147.682 1430.08 157.08 Z\" fill=\"#000000\" fill-rule=\"nonzero\" fill-opacity=\"1\" /><path clip-path=\"url(#clip540)\" d=\"M1474.8 161.252 Q1474.8 153.151 1471.44 148.695 Q1468.11 144.239 1462.08 144.239 Q1456.08 144.239 1452.72 148.695 Q1449.4 153.151 1449.4 161.252 Q1449.4 169.314 1452.72 173.77 Q1456.08 178.226 1462.08 178.226 Q1468.11 178.226 1471.44 173.77 Q1474.8 169.314 1474.8 161.252 M1482.25 178.833 Q1482.25 190.419 1477.11 196.05 Q1471.96 201.721 1461.35 201.721 Q1457.42 201.721 1453.94 201.113 Q1450.45 200.546 1447.17 199.331 L1447.17 192.08 Q1450.45 193.862 1453.65 194.713 Q1456.85 195.563 1460.17 195.563 Q1467.51 195.563 1471.15 191.715 Q1474.8 187.907 1474.8 180.17 L1474.8 176.484 Q1472.49 180.494 1468.88 182.479 Q1465.28 184.464 1460.26 184.464 Q1451.91 184.464 1446.81 178.104 Q1441.7 171.744 1441.7 161.252 Q1441.7 150.72 1446.81 144.36 Q1451.91 138 1460.26 138 Q1465.28 138 1468.88 139.985 Q1472.49 141.97 1474.8 145.98 L1474.8 139.094 L1482.25 139.094 L1482.25 178.833 Z\" fill=\"#000000\" fill-rule=\"nonzero\" fill-opacity=\"1\" /><path clip-path=\"url(#clip540)\" d=\"M1560.56 125.969 L1560.56 133.949 Q1555.9 131.721 1551.77 130.627 Q1547.63 129.534 1543.79 129.534 Q1537.1 129.534 1533.46 132.126 Q1529.85 134.719 1529.85 139.499 Q1529.85 143.509 1532.24 145.575 Q1534.67 147.601 1541.4 148.857 L1546.34 149.869 Q1555.49 151.611 1559.83 156.027 Q1564.2 160.402 1564.2 167.774 Q1564.2 176.565 1558.29 181.102 Q1552.41 185.639 1541.03 185.639 Q1536.74 185.639 1531.88 184.667 Q1527.06 183.694 1521.87 181.79 L1521.87 173.365 Q1526.85 176.16 1531.63 177.577 Q1536.41 178.995 1541.03 178.995 Q1548.04 178.995 1551.85 176.241 Q1555.65 173.486 1555.65 168.382 Q1555.65 163.926 1552.9 161.414 Q1550.19 158.903 1543.95 157.647 L1538.96 156.675 Q1529.81 154.852 1525.72 150.963 Q1521.63 147.074 1521.63 140.147 Q1521.63 132.126 1527.26 127.508 Q1532.93 122.89 1542.85 122.89 Q1547.11 122.89 1551.52 123.66 Q1555.94 124.43 1560.56 125.969 Z\" fill=\"#000000\" fill-rule=\"nonzero\" fill-opacity=\"1\" /><path clip-path=\"url(#clip540)\" d=\"M1595.52 188.677 Q1592.36 196.779 1589.36 199.25 Q1586.36 201.721 1581.34 201.721 L1575.38 201.721 L1575.38 195.482 L1579.76 195.482 Q1582.84 195.482 1584.54 194.024 Q1586.24 192.566 1588.3 187.138 L1589.64 183.735 L1571.29 139.094 L1579.19 139.094 L1593.37 174.58 L1607.55 139.094 L1615.45 139.094 L1595.52 188.677 Z\" fill=\"#000000\" fill-rule=\"nonzero\" fill-opacity=\"1\" /><path clip-path=\"url(#clip540)\" d=\"M1654.66 140.431 L1654.66 147.479 Q1651.5 145.859 1648.1 145.049 Q1644.69 144.239 1641.05 144.239 Q1635.5 144.239 1632.7 145.94 Q1629.95 147.641 1629.95 151.044 Q1629.95 153.637 1631.93 155.135 Q1633.92 156.594 1639.91 157.931 L1642.47 158.498 Q1650.41 160.199 1653.73 163.318 Q1657.09 166.397 1657.09 171.947 Q1657.09 178.266 1652.07 181.952 Q1647.08 185.639 1638.33 185.639 Q1634.69 185.639 1630.72 184.91 Q1626.79 184.221 1622.41 182.803 L1622.41 175.106 Q1626.55 177.253 1630.56 178.347 Q1634.57 179.4 1638.5 179.4 Q1643.76 179.4 1646.6 177.618 Q1649.43 175.795 1649.43 172.514 Q1649.43 169.476 1647.37 167.855 Q1645.34 166.235 1638.41 164.736 L1635.82 164.128 Q1628.89 162.67 1625.82 159.672 Q1622.74 156.634 1622.74 151.368 Q1622.74 144.968 1627.27 141.484 Q1631.81 138 1640.16 138 Q1644.29 138 1647.93 138.608 Q1651.58 139.215 1654.66 140.431 Z\" fill=\"#000000\" fill-rule=\"nonzero\" fill-opacity=\"1\" /><path clip-path=\"url(#clip540)\" d=\"M1676.33 126.212 L1676.33 139.094 L1691.68 139.094 L1691.68 144.887 L1676.33 144.887 L1676.33 169.516 Q1676.33 175.066 1677.83 176.646 Q1679.37 178.226 1684.03 178.226 L1691.68 178.226 L1691.68 184.464 L1684.03 184.464 Q1675.4 184.464 1672.12 181.264 Q1668.84 178.023 1668.84 169.516 L1668.84 144.887 L1663.37 144.887 L1663.37 139.094 L1668.84 139.094 L1668.84 126.212 L1676.33 126.212 Z\" fill=\"#000000\" fill-rule=\"nonzero\" fill-opacity=\"1\" /><path clip-path=\"url(#clip540)\" d=\"M1740.29 159.916 L1740.29 163.561 L1706.02 163.561 Q1706.51 171.258 1710.64 175.309 Q1714.81 179.319 1722.23 179.319 Q1726.52 179.319 1730.53 178.266 Q1734.58 177.213 1738.55 175.106 L1738.55 182.155 Q1734.54 183.856 1730.33 184.748 Q1726.12 185.639 1721.78 185.639 Q1710.93 185.639 1704.57 179.319 Q1698.25 173 1698.25 162.225 Q1698.25 151.085 1704.24 144.563 Q1710.28 138 1720.49 138 Q1729.64 138 1734.95 143.914 Q1740.29 149.788 1740.29 159.916 M1732.84 157.728 Q1732.76 151.611 1729.4 147.965 Q1726.08 144.32 1720.57 144.32 Q1714.33 144.32 1710.56 147.844 Q1706.83 151.368 1706.27 157.769 L1732.84 157.728 Z\" fill=\"#000000\" fill-rule=\"nonzero\" fill-opacity=\"1\" /><path clip-path=\"url(#clip540)\" d=\"M1787.85 147.803 Q1790.65 142.78 1794.54 140.39 Q1798.43 138 1803.69 138 Q1810.78 138 1814.63 142.983 Q1818.48 147.925 1818.48 157.08 L1818.48 184.464 L1810.98 184.464 L1810.98 157.323 Q1810.98 150.801 1808.67 147.641 Q1806.36 144.482 1801.63 144.482 Q1795.83 144.482 1792.47 148.33 Q1789.11 152.178 1789.11 158.822 L1789.11 184.464 L1781.61 184.464 L1781.61 157.323 Q1781.61 150.76 1779.3 147.641 Q1777 144.482 1772.18 144.482 Q1766.46 144.482 1763.1 148.37 Q1759.74 152.219 1759.74 158.822 L1759.74 184.464 L1752.24 184.464 L1752.24 139.094 L1759.74 139.094 L1759.74 146.142 Q1762.29 141.97 1765.86 139.985 Q1769.42 138 1774.32 138 Q1779.26 138 1782.71 140.512 Q1786.19 143.023 1787.85 147.803 Z\" fill=\"#000000\" fill-rule=\"nonzero\" fill-opacity=\"1\" /><path clip-path=\"url(#clip540)\" d=\"M1880.33 161.657 Q1871.3 161.657 1867.82 163.723 Q1864.33 165.789 1864.33 170.772 Q1864.33 174.742 1866.93 177.091 Q1869.56 179.4 1874.06 179.4 Q1880.25 179.4 1883.98 175.025 Q1887.75 170.61 1887.75 163.318 L1887.75 161.657 L1880.33 161.657 M1895.2 158.579 L1895.2 184.464 L1887.75 184.464 L1887.75 177.577 Q1885.2 181.709 1881.39 183.694 Q1877.58 185.639 1872.07 185.639 Q1865.1 185.639 1860.97 181.75 Q1856.88 177.821 1856.88 171.258 Q1856.88 163.602 1861.98 159.713 Q1867.13 155.824 1877.3 155.824 L1887.75 155.824 L1887.75 155.095 Q1887.75 149.95 1884.34 147.155 Q1880.98 144.32 1874.87 144.32 Q1870.98 144.32 1867.29 145.251 Q1863.6 146.183 1860.2 148.046 L1860.2 141.16 Q1864.29 139.58 1868.14 138.81 Q1871.99 138 1875.64 138 Q1885.48 138 1890.34 143.104 Q1895.2 148.208 1895.2 158.579 Z\" fill=\"#000000\" fill-rule=\"nonzero\" fill-opacity=\"1\" /><path clip-path=\"url(#clip540)\" d=\"M1948.27 157.08 L1948.27 184.464 L1940.81 184.464 L1940.81 157.323 Q1940.81 150.882 1938.3 147.682 Q1935.79 144.482 1930.77 144.482 Q1924.73 144.482 1921.25 148.33 Q1917.76 152.178 1917.76 158.822 L1917.76 184.464 L1910.27 184.464 L1910.27 139.094 L1917.76 139.094 L1917.76 146.142 Q1920.44 142.051 1924.04 140.026 Q1927.69 138 1932.43 138 Q1940.25 138 1944.26 142.861 Q1948.27 147.682 1948.27 157.08 Z\" fill=\"#000000\" fill-rule=\"nonzero\" fill-opacity=\"1\" /><path clip-path=\"url(#clip540)\" d=\"M1992.99 145.98 L1992.99 121.432 L2000.44 121.432 L2000.44 184.464 L1992.99 184.464 L1992.99 177.658 Q1990.64 181.709 1987.04 183.694 Q1983.47 185.639 1978.45 185.639 Q1970.22 185.639 1965.04 179.076 Q1959.89 172.514 1959.89 161.819 Q1959.89 151.125 1965.04 144.563 Q1970.22 138 1978.45 138 Q1983.47 138 1987.04 139.985 Q1990.64 141.93 1992.99 145.98 M1967.59 161.819 Q1967.59 170.043 1970.95 174.742 Q1974.36 179.4 1980.27 179.4 Q1986.18 179.4 1989.59 174.742 Q1992.99 170.043 1992.99 161.819 Q1992.99 153.596 1989.59 148.938 Q1986.18 144.239 1980.27 144.239 Q1974.36 144.239 1970.95 148.938 Q1967.59 153.596 1967.59 161.819 Z\" fill=\"#000000\" fill-rule=\"nonzero\" fill-opacity=\"1\" /><path clip-path=\"url(#clip540)\" d=\"M2062.71 132.045 L2051.61 162.144 L2073.85 162.144 L2062.71 132.045 M2058.09 123.984 L2067.36 123.984 L2090.41 184.464 L2081.91 184.464 L2076.4 168.949 L2049.14 168.949 L2043.63 184.464 L2035 184.464 L2058.09 123.984 Z\" fill=\"#000000\" fill-rule=\"nonzero\" fill-opacity=\"1\" /><path clip-path=\"url(#clip540)\" d=\"M2136.64 157.08 L2136.64 184.464 L2129.18 184.464 L2129.18 157.323 Q2129.18 150.882 2126.67 147.682 Q2124.16 144.482 2119.14 144.482 Q2113.1 144.482 2109.62 148.33 Q2106.13 152.178 2106.13 158.822 L2106.13 184.464 L2098.64 184.464 L2098.64 139.094 L2106.13 139.094 L2106.13 146.142 Q2108.81 142.051 2112.41 140.026 Q2116.06 138 2120.8 138 Q2128.61 138 2132.62 142.861 Q2136.64 147.682 2136.64 157.08 Z\" fill=\"#000000\" fill-rule=\"nonzero\" fill-opacity=\"1\" /><path clip-path=\"url(#clip540)\" d=\"M2184.15 140.836 L2184.15 147.803 Q2180.99 146.061 2177.79 145.211 Q2174.63 144.32 2171.39 144.32 Q2164.14 144.32 2160.13 148.938 Q2156.12 153.515 2156.12 161.819 Q2156.12 170.124 2160.13 174.742 Q2164.14 179.319 2171.39 179.319 Q2174.63 179.319 2177.79 178.469 Q2180.99 177.577 2184.15 175.836 L2184.15 182.722 Q2181.03 184.18 2177.67 184.91 Q2174.35 185.639 2170.58 185.639 Q2160.33 185.639 2154.3 179.198 Q2148.26 172.757 2148.26 161.819 Q2148.26 150.72 2154.34 144.36 Q2160.45 138 2171.07 138 Q2174.51 138 2177.79 138.729 Q2181.07 139.418 2184.15 140.836 Z\" fill=\"#000000\" fill-rule=\"nonzero\" fill-opacity=\"1\" /><path clip-path=\"url(#clip540)\" d=\"M2197.12 139.094 L2204.57 139.094 L2204.57 184.464 L2197.12 184.464 L2197.12 139.094 M2197.12 121.432 L2204.57 121.432 L2204.57 130.871 L2197.12 130.871 L2197.12 121.432 Z\" fill=\"#000000\" fill-rule=\"nonzero\" fill-opacity=\"1\" /><path clip-path=\"url(#clip540)\" d=\"M2220.16 121.432 L2227.62 121.432 L2227.62 184.464 L2220.16 184.464 L2220.16 121.432 Z\" fill=\"#000000\" fill-rule=\"nonzero\" fill-opacity=\"1\" /><path clip-path=\"url(#clip540)\" d=\"M2243.21 121.432 L2250.67 121.432 L2250.67 184.464 L2243.21 184.464 L2243.21 121.432 Z\" fill=\"#000000\" fill-rule=\"nonzero\" fill-opacity=\"1\" /><path clip-path=\"url(#clip540)\" d=\"M2286.88 161.657 Q2277.85 161.657 2274.37 163.723 Q2270.88 165.789 2270.88 170.772 Q2270.88 174.742 2273.47 177.091 Q2276.11 179.4 2280.6 179.4 Q2286.8 179.4 2290.53 175.025 Q2294.3 170.61 2294.3 163.318 L2294.3 161.657 L2286.88 161.657 M2301.75 158.579 L2301.75 184.464 L2294.3 184.464 L2294.3 177.577 Q2291.74 181.709 2287.94 183.694 Q2284.13 185.639 2278.62 185.639 Q2271.65 185.639 2267.52 181.75 Q2263.43 177.821 2263.43 171.258 Q2263.43 163.602 2268.53 159.713 Q2273.68 155.824 2283.85 155.824 L2294.3 155.824 L2294.3 155.095 Q2294.3 149.95 2290.89 147.155 Q2287.53 144.32 2281.41 144.32 Q2277.53 144.32 2273.84 145.251 Q2270.15 146.183 2266.75 148.046 L2266.75 141.16 Q2270.84 139.58 2274.69 138.81 Q2278.54 138 2282.18 138 Q2292.03 138 2296.89 143.104 Q2301.75 148.208 2301.75 158.579 Z\" fill=\"#000000\" fill-rule=\"nonzero\" fill-opacity=\"1\" /><g clip-path=\"url(#clip542)\">\n",
       "<image width=\"1873\" height=\"1175\" xlink:href=\"data:image/png;base64,\n",
       "iVBORw0KGgoAAAANSUhEUgAAB1EAAASXCAYAAACwSoYPAAAgAElEQVR4nOzbsa0ly3VA0anuHoMZ\n",
       "KAAqHro0GYAMhkKDAcikq3gkgC4z+AYBfrl73ItXffhr1orgoNGoqr677vr1X3//9RsA/yYsydv9\n",
       "+q/pCX4Ov/xjeoLz/d/fpic43v/+91+nRzje//xlegL4Gn/48/QE5/vPP/3X9Ajn+/0fpyc43+/+\n",
       "Y3qC861reoKfxJoeAIBv3759W9bj3ZwsAAAAAAAAAEJEBQAAAAAAAAgRFQAAAAAAACBEVAAAAAAA\n",
       "AIAQUQEAAAAAAABCRAUAAAAAAAAIERUAAAAAAAAgRFQAAAAAAACAEFEBAAAAAAAAQkQFAAAAAAAA\n",
       "CBEVAAAAAAAAIJ7pAQCoNT3A+Tzil3jQ21339ATH84j3W650cgjrxQs85Bc4v23nEb/AQwYAvo6f\n",
       "LQAAAAAAAABCRAUAAAAAAAAIERUAAAAAAAAgRFQAAAAAAACAEFEBAAAAAAAAQkQFAAAAAAAACBEV\n",
       "AAAAAAAAIERUAAAAAAAAgBBRAQAAAAAAAEJEBQAAAAAAAAgRFQAAAAAAACCe6QEA4F1reoCfw3JP\n",
       "a7t1T09wvMtrvJ1nzCm8yy+w7+3n/PYC3yIAAL8lTsgAAAAAAAAAIaICAAAAAAAAhIgKAAAAAAAA\n",
       "ECIqAAAAAAAAQIioAAAAAAAAACGiAgAAAAAAAISICgAAAAAAABAiKgAAAAAAAECIqAAAAAAAAAAh\n",
       "ogIAAAAAAACEiAoAAAAAAAAQz/QAAMCJ1vQA51v39ATHuzzi7ZYrnRzCevEC+94LnN8AAKD8bAEA\n",
       "AAAAAAAQIioAAAAAAABAiKgAAAAAAAAAIaICAAAAAAAAhIgKAAAAAAAAECIqAAAAAAAAQIioAAAA\n",
       "AAAAACGiAgAAAAAAAISICgAAAAAAABAiKgAAAAAAAEA80wMAAAdaa3qC8617eoLjXR7xdsuVTg5h\n",
       "vXiBfW8/5zcAAPiBny0AAAAAAAAAQkQFAAAAAAAACBEVAAAAAAAAIERUAAAAAAAAgBBRAQAAAAAA\n",
       "AEJEBQAAAAAAAAgRFQAAAAAAACBEVAAAAAAAAIAQUQEAAAAAAABCRAUAAAAAAAAIERUAAAAAAAAg\n",
       "nukBAIATrekBzrfu6QmOd3nE212udHII68UL7HsvcH4DAIDyswUAAAAAAABAiKgAAAAAAAAAIaIC\n",
       "AAAAAAAAhIgKAAAAAAAAECIqAAAAAAAAQIioAAAAAAAAACGiAgAAAAAAAISICgAAAAAAABAiKgAA\n",
       "AAAAAECIqAAAAAAAAAAhogIAAAAAAADEMz0AAHCgtaYnON9yF263656e4HyX15hDWC9eYN/bz/kN\n",
       "AAB+4CsEAAAAAAAAIERUAAAAAAAAgBBRAQAAAAAAAEJEBQAAAAAAAAgRFQAAAAAAACBEVAAAAAAA\n",
       "AIAQUQEAAAAAAABCRAUAAAAAAAAIERUAAAAAAAAgRFQAAAAAAACAEFEBAAAAAAAA4pkeAAA4kXta\n",
       "2617eoLjXR7xdstSwSGsFy+w773AogwAAOWEDAAAAAAAABAiKgAAAAAAAECIqAAAAAAAAAAhogIA\n",
       "AAAAAACEiAoAAAAAAAAQIioAAAAAAABAiKgAAAAAAAAAIaICAAAAAAAAhIgKAAAAAAAAECIqAAAA\n",
       "AAAAQDzTAwDAu9b0AD+H5Tlvd93TExzPI97PM+YU3uUXeMj7Ob+9wDMGAPgt8U9UAAAAAAAAgBBR\n",
       "AQAAAAAAAEJEBQAAAAAAAAgRFQAAAAAAACBEVAAAAAAAAIAQUQEAAAAAAABCRAUAAAAAAAAIERUA\n",
       "AAAAAAAgRFQAAAAAAACAEFEBAAAAAAAAQkQFAAAAAAAAiGd6AADgRGt6gPOte3qC410e8XaXK50c\n",
       "wnrxAvveC5zfAACg/GwBAAAAAAAAECIqAAAAAAAAQIioAAAAAAAAACGiAgAAAAAAAISICgAAAAAA\n",
       "ABAiKgAAAAAAAECIqAAAAAAAAAAhogIAAAAAAACEiAoAAAAAAAAQIioAAAAAAABAiKgAAAAAAAAA\n",
       "8UwPAACcaE0PcL7lLtxul5PyduuengC+hvXiBfa9Fzi/AQBA+QoBAAAAAAAACBEVAAAAAAAAIERU\n",
       "AAAAAAAAgBBRAQAAAAAAAEJEBQAAAAAAAAgRFQAAAAAAACBEVAAAAAAAAIAQUQEAAAAAAABCRAUA\n",
       "AAAAAAAIERUAAAAAAAAgRFQAAAAAAACAeKYHAAAOtNb0BOdb9/QEx7s94u0uVzo5hPXiBfa9/Zzf\n",
       "AADgB362AAAAAAAAAAgRFQAAAAAAACBEVAAAAAAAAIAQUQEAAAAAAABCRAUAAAAAAAAIERUAAAAA\n",
       "AAAgRFQAAAAAAACAEFEBAAAAAAAAQkQFAAAAAAAACBEVAAAAAAAAIJ7pAQCAE63pAc633IXb7bqn\n",
       "JzifZ8wpvMsvsO+9wPkNAADKVwgAAAAAAABAiKgAAAAAAAAAIaICAAAAAAAAhIgKAAAAAAAAECIq\n",
       "AAAAAAAAQIioAAAAAAAAACGiAgAAAAAAAISICgAAAAAAABAiKgAAAAAAAECIqAAAAAAAAAAhogIA\n",
       "AAAAAADEMz0AAHCgtaYnON+6pyc43uURb3e50skhrBcvsO/t5/wGAAA/8LMFAAAAAAAAQIioAAAA\n",
       "AAAAACGiAgAAAAAAAISICgAAAAAAABAiKgAAAAAAAECIqAAAAAAAAAAhogIAAAAAAACEiAoAAAAA\n",
       "AAAQIioAAAAAAABAiKgAAAAAAAAAIaICAAAAAAAAxDM9AABwojU9wPmWu3C73U7K2617egL4GtaL\n",
       "F9j3XuD8BgAA5SsEAAAAAAAAIERUAAAAAAAAgBBRAQAAAAAAAEJEBQAAAAAAAAgRFQAAAAAAACBE\n",
       "VAAAAAAAAIAQUQEAAAAAAABCRAUAAAAAAAAIERUAAAAAAAAgRFQAAAAAAACAEFEBAAAAAAAA4pke\n",
       "AACAD6x7eoLjXR7xdpcrnRzCevEC+x4AAPAyP1sAAAAAAAAAhIgKAAAAAAAAECIqAAAAAAAAQIio\n",
       "AAAAAAAAACGiAgAAAAAAAISICgAAAAAAABAiKgAAAAAAAECIqAAAAAAAAAAhogIAAAAAAACEiAoA\n",
       "AAAAAAAQz/QAAMCB1pqe4Hzrnp7geLeT8naX15hDWC9eYN/bz/kNAAB+4J+oAAAAAAAAACGiAgAA\n",
       "AAAAAISICgAAAAAAABAiKgAAAAAAAECIqAAAAAAAAAAhogIAAAAAAACEiAoAAAAAAAAQIioAAAAA\n",
       "AABAiKgAAAAAAAAAIaICAAAAAAAAhIgKAAAAAAAAEM/0AADAidb0AOdb7sLtdt3TE5zPa8wprBcv\n",
       "sGC8wPkNAADKVwgAAAAAAABAiKgAAAAAAAAAIaICAAAAAAAAhIgKAAAAAAAAECIqAAAAAAAAQIio\n",
       "AAAAAAAAACGiAgAAAAAAAISICgAAAAAAABAiKgAAAAAAAECIqAAAAAAAAAAhogIAAAAAAADEMz0A\n",
       "AHCiNT3A+dY9PcH5ru/TExzvuv45PQJ8DevFfva9Fzi/AQBA+ScqAAAAAAAAQIioAAAAAAAAACGi\n",
       "AgAAAAAAAISICgAAAAAAABAiKgAAAAAAAECIqAAAAAAAAAAhogIAAAAAAACEiAoAAAAAAAAQIioA\n",
       "AAAAAABAiKgAAAAAAAAAIaICAAAAAAAAxDM9AABwoDU9wE9guQu33eWovNt1/3N6BPga1ov97Hv7\n",
       "Ob8BAMAPfIUAAAAAAAAAhIgKAAAAAAAAECIqAAAAAAAAQIioAAAAAAAAACGiAgAAAAAAAISICgAA\n",
       "AAAAABAiKgAAAAAAAECIqAAAAAAAAAAhogIAAAAAAACEiAoAAAAAAAAQz/QAAMCJ1vQA51vuwm13\n",
       "fZ+e4Hjr+mV6BPga1ov97HsvcH4DAIDyFQIAAAAAAAAQIioAAAAAAABAiKgAAAAAAAAAIaICAAAA\n",
       "AAAAhIgKAAAAAAAAECIqAAAAAAAAQIioAAAAAAAAACGiAgAAAAAAAISICgAAAAAAABAiKgAAAAAA\n",
       "AECIqAAAAAAAAADxTA8AAJxoTQ9wvnVPT3C+9X16guNdrnRyCuvFfva9Fzi/AQBA+dkCAAAAAAAA\n",
       "IERUAAAAAAAAgBBRAQAAAAAAAEJEBQAAAAAAAAgRFQAAAAAAACBEVAAAAAAAAIAQUQEAAAAAAABC\n",
       "RAUAAAAAAAAIERUAAAAAAAAgRFQAAAAAAACAEFEBAAAAAAAA4pkeAACADyx34ba7HJV38xpzDOvF\n",
       "fhYMAADgZb5CAAAAAAAAAEJEBQAAAAAAAAgRFQAAAAAAACBEVAAAAAAAAIAQUQEAAAAAAABCRAUA\n",
       "AAAAAAAIERUAAAAAAAAgRFQAAAAAAACAEFEBAAAAAAAAQkQFAAAAAAAACBEVAAAAAAAAIJ7pAQCA\n",
       "E63pAc637ukJznd9n57geJcrnZzCerGffe8Fzm8AAFB+tgAAAAAAAAAIERUAAAAAAAAgRFQAAAAA\n",
       "AACAEFEBAAAAAAAAQkQFAAAAAAAACBEVAAAAAAAAIERUAAAAAAAAgBBRAQAAAAAAAEJEBQAAAAAA\n",
       "AAgRFQAAAAAAACCe6QEAgAOt6QF+AstduO0uR+XdvMYcw3qxnwVjP+c3AAD4ga8QAAAAAAAAgBBR\n",
       "AQAAAAAAAEJEBQAAAAAAAAgRFQAAAAAAACBEVAAAAAAAAIAQUQEAAAAAAABCRAUAAAAAAAAIERUA\n",
       "AAAAAAAgRFQAAAAAAACAEFEBAAAAAAAAQkQFAAAAAAAAiGd6AADgRGt6gPOte3qC812OyrstVzo5\n",
       "hfViP/veC5zfAACg/GwBAAAAAAAAECIqAAAAAAAAQIioAAAAAAAAACGiAgAAAAAAAISICgAAAAAA\n",
       "ABAiKgAAAAAAAECIqAAAAAAAAAAhogIAAAAAAACEiAoAAAAAAAAQIioAAAAAAABAiKgAAAAAAAAA\n",
       "8UwPAADvWtMDwNdY7sJtt75PT3C8y2vMKawX+9n3OIJvEQCA3xJfIQAAAAAAAAAhogIAAAAAAACE\n",
       "iAoAAAAAAAAQIioAAAAAAABAiKgAAAAAAAAAIaICAAAAAAAAhIgKAAAAAAAAECIqAAAAAAAAQIio\n",
       "AAAAAAAAACGiAgAAAAAAAISICgAAAAAAABDP9AAAAHxguQu33eWovNta0xPAF7Fe7GffAwAAXuYr\n",
       "BAAAAAAAACBEVAAAAAAAAIAQUQEAAAAAAABCRAUAAAAAAAAIERUAAAAAAAAgRFQAAAAAAACAEFEB\n",
       "AAAAAAAAQkQFAAAAAAAACBEVAAAAAAAAIERUAAAAAAAAgHimBwAATrSmBzjfuqcnON/lqLzbcqWT\n",
       "U1gv9rPvvcD5DQAAys8WAAAAAAAAACGiAgAAAAAAAISICgAAAAAAABAiKgAAAAAAAECIqAAAAAAA\n",
       "AAAhogIAAAAAAACEiAoAAAAAAAAQIioAAAAAAABAiKgAAAAAAAAAIaICAAAAAAAAhIgKAAAAAAAA\n",
       "EM/0AAAAfMJduO2Wo/Juy2vMKawXL7BgAAAA7/IVAgAAAAAAABAiKgAAAAAAAECIqAAAAAAAAAAh\n",
       "ogIAAAAAAACEiAoAAAAAAAAQIioAAAAAAABAiKgAAAAAAAAAIaICAAAAAAAAhIgKAAAAAAAAECIq\n",
       "AAAAAAAAQIioAAAAAAAAAPFMDwAAHGhND/ATWO7CbXc5Ku/mNeYY1ov9LBj7Ob8BAMAPfIUAAAAA\n",
       "AAAAhIgKAAAAAAAAECIqAAAAAAAAQIioAAAAAAAAACGiAgAAAAAAAISICgAAAAAAABAiKgAAAAAA\n",
       "AECIqAAAAAAAAAAhogIAAAAAAACEiAoAAAAAAAAQIioAAAAAAABAPNMDAAAnWtMDnG+5C7fd5ai8\n",
       "22Wp4BTWi/3sey+wKAMAQPkKAQAAAAAAAAgRFQAAAAAAACBEVAAAAAAAAIAQUQEAAAAAAABCRAUA\n",
       "AAAAAAAIERUAAAAAAAAgRFQAAAAAAACAEFEBAAAAAAAAQkQFAAAAAAAACBEVAAAAAAAAIJ7pAQAA\n",
       "+MByF2675ai8m9eYY1gv9rNgAAAAL/MVAgAAAAAAABAiKgAAAAAAAECIqAAAAAAAAAAhogIAAAAA\n",
       "AACEiAoAAAAAAAAQIioAAAAAAABAiKgAAAAAAAAAIaICAAAAAAAAhIgKAAAAAAAAECIqAAAAAAAA\n",
       "QIioAAAAAAAAAPFMDwAAwAeWu3DbXY7Ku3mNOYb1Yj8LBgAA8DJfIQAAAAAAAAAhogIAAAAAAACE\n",
       "iAoAAAAAAAAQIioAAAAAAABAiKgAAAAAAAAAIaICAAAAAAAAhIgKAAAAAAAAECIqAAAAAAAAQIio\n",
       "AAAAAAAAACGiAgAAAAAAAISICgAAAAAAABDP9AAAAHxguQu33XJU3s1rzDGsF/tZMAAAgJf5CgEA\n",
       "AAAAAAAIERUAAAAAAAAgRFQAAAAAAACAEFEBAAAAAAAAQkQFAAAAAAAACBEVAAAAAAAAIERUAAAA\n",
       "AAAAgBBRAQAAAAAAAEJEBQAAAAAAAAgRFQAAAAAAACBEVAAAAAAAAIB4pgcAAOADy1247a57eoLj\n",
       "XWt6Avgi1ov97HsAAMDLfIUAAAAAAAAAhIgKAAAAAAAAECIqAAAAAAAAQIioAAAAAAAAACGiAgAA\n",
       "AAAAAISICgAAAAAAABAiKgAAAAAAAECIqAAAAAAAAAAhogIAAAAAAACEiAoAAAAAAAAQz/QAAMCJ\n",
       "1vQAPwF34bZbjsq7La8xp7BevMCCsZ/zGwAAlK8QAAAAAAAAgBBRAQAAAAAAAEJEBQAAAAAAAAgR\n",
       "FQAAAAAAACBEVAAAAAAAAIAQUQEAAAAAAABCRAUAAAAAAAAIERUAAAAAAAAgRFQAAAAAAACAEFEB\n",
       "AAAAAAAAQkQFAAAAAAAAiGd6AAAAPrDchdvuclTezWvMMawX+1kwAACAl/kKAQAAAAAAAAgRFQAA\n",
       "AAAAACBEVAAAAAAAAIAQUQEAAAAAAABCRAUAAAAAAAAIERUAAAAAAAAgRFQAAAAAAACAEFEBAAAA\n",
       "AAAAQkQFAAAAAAAACBEVAAAAAAAAIERUAAAAAAAAgHimBwAA4APLXbjtlqPybtc9PQF8EevFfvY9\n",
       "AADgZb5CAAAAAAAAAEJEBQAAAAAAAAgRFQAAAAAAACBEVAAAAAAAAIAQUQEAAAAAAABCRAUAAAAA\n",
       "AAAIERUAAAAAAAAgRFQAAAAAAACAEFEBAAAAAAAAQkQFAAAAAAAACBEVAAAAAAAAIJ7pAQAA+IS7\n",
       "cNtd9/QEx7u8xpzCevECCwYAAPAuXyEAAAAAAAAAIaICAAAAAAAAhIgKAAAAAAAAECIqAAAAAAAA\n",
       "QIioAAAAAAAAACGiAgAAAAAAAISICgAAAAAAABAiKgAAAAAAAECIqAAAAAAAAAAhogIAAAAAAADE\n",
       "Mz0AAAAfWGt6gvMtR+XdliudnMJ6sZ99DwAAeJmfLQAAAAAAAABCRAUAAAAAAAAIERUAAAAAAAAg\n",
       "RFQAAAAAAACAEFEBAAAAAAAAQkQFAAAAAAAACBEVAAAAAAAAIERUAAAAAAAAgBBRAQAAAAAAAEJE\n",
       "BQAAAAAAAAgRFQAAAAAAACCe6QEAAPjAchduu8tRebfrnp4Avoj1Yj/7HgAA8DJfIQAAAAAAAAAh\n",
       "ogIAAAAAAACEiAoAAAAAAAAQIioAAAAAAABAiKgAAAAAAAAAIaICAAAAAAAAhIgKAAAAAAAAECIq\n",
       "AAAAAAAAQIioAAAAAAAAACGiAgAAAAAAAISICgAAAAAAABDP9AAAAHxiTQ9wvnVPT3C8y5VOTmG9\n",
       "eIF9DwAAeJefLQAAAAAAAABCRAUAAAAAAAAIERUAAAAAAAAgRFQAAAAAAACAEFEBAAAAAAAAQkQF\n",
       "AAAAAAAACBEVAAAAAAAAIERUAAAAAAAAgBBRAQAAAAAAAEJEBQAAAAAAAAgRFQAAAAAAACCe6QEA\n",
       "APjAchduu8tRebfrnp4Avoj1Yj/7HgAA8DJfIQAAAAAAAAAhogIAAAAAAACEiAoAAAAAAAAQIioA\n",
       "AAAAAABAiKgAAAAAAAAAIaICAAAAAAAAhIgKAAAAAAAAECIqAAAAAAAAQIioAAAAAAAAACGiAgAA\n",
       "AAAAAMQzPQAAAJ9Y0wOcbzkq73bd0xPAF7FevMC+BwAAvMs/UQEAAAAAAABCRAUAAAAAAAAIERUA\n",
       "AAAAAAAgRFQAAAAAAACAEFEBAAAAAAAAQkQFAAAAAAAACBEVAAAAAAAAIERUAAAAAAAAgBBRAQAA\n",
       "AAAAAEJEBQAAAAAAAAgRFQAAAAAAACCe6QEAAPjAWtMTnO+6pyc4nkfMMbzM+9n3AACAl/knKgAA\n",
       "AADw/+zbQW6lShQFQQHl7v773/Cf5sAjC95F5YgVHCGr4CldAACEiAoAAAAAAAAQIioAAAAAAABA\n",
       "iKgAAAAAAAAAIaICAAAAAAAAhIgKAAAAAAAAECIqAAAAAAAAQIioAAAAAAAAACGiAgAAAAAAAISI\n",
       "CgAAAAAAABAiKgAAAAAAAECs6QEAAPyE/4V73OFT+WnnNb0AbuK8+ADvPQAA4LP8CgEAAAAAAAAI\n",
       "ERUAAAAAAAAgRFQAAAAAAACAEFEBAAAAAAAAQkQFAAAAAAAACBEVAAAAAAAAIERUAAAAAAAAgBBR\n",
       "AQAAAAAAAEJEBQAAAAAAAAgRFQAAAAAAACBEVAAAAAAAAIBY0wMAAPiB45hesL/Tp/LTzmt6AdzE\n",
       "efE87z0AAODD3EQFAAAAAAAACBEVAAAAAAAAIERUAAAAAAAAgBBRAQAAAAAAAEJEBQAAAAAAAAgR\n",
       "FQAAAAAAACBEVAAAAAAAAIAQUQEAAAAAAABCRAUAAAAAAAAIERUAAAAAAAAg1vQAAAB+4pgesL/D\n",
       "p/LTLo+YXTgvPsB7DwAA+Cw3UQEAAAAAAABCRAUAAAAAAAAIERUAAAAAAAAgRFQAAAAAAACAEFEB\n",
       "AAAAAAAAQkQFAAAAAAAACBEVAAAAAAAAIERUAAAAAAAAgBBRAQAAAAAAAEJEBQAAAAAAAAgRFQAA\n",
       "AAAAACDW9AAAAH7gOKYX7O/0qfy085peADdxXjzPew8AAPgwN1EBAAAAAAAAQkQFAAAAAAAACBEV\n",
       "AAAAAAAAIERUAAAAAAAAgBBRAQAAAAAAAEJEBQAAAAAAAAgRFQAAAAAAACBEVAAAAAAAAIAQUQEA\n",
       "AAAAAABCRAUAAAAAAAAIERUAAAAAAAAg1vQAAAB4pcOn8tMuj5hdOC8AAAC24yYqAAAAAAAAQIio\n",
       "AAAAAAAAACGiAgAAAAAAAISICgAAAAAAABAiKgAAAAAAAECIqAAAAAAAAAAhogIAAAAAAACEiAoA\n",
       "AAAAAAAQIioAAAAAAABAiKgAAAAAAAAAIaICAAAAAAAAxJoeAADs6Jge8At4xo87fSo/7bymF8BN\n",
       "nBcf4L33PM8YAADKTVQAAAAAAACAEFEBAAAAAAAAQkQFAAAAAAAACBEVAAAAAAAAIERUAAAAAAAA\n",
       "gBBRAQAAAAAAAEJEBQAAAAAAAAgRFQAAAAAAACBEVAAAAAAAAIAQUQEAAAAAAABiTQ8AAOAHjmN6\n",
       "wf5On8pPuzxiduG8eJ73HgAA8GFuogIAAAAAAACEiAoAAAAAAAAQIioAAAAAAABAiKgAAAAAAAAA\n",
       "IaICAAAAAAAAhIgKAAAAAAAAECIqAAAAAAAAQIioAAAAAAAAACGiAgAAAAAAAISICgAAAAAAABAi\n",
       "KgAAAAAAAECs6QEAAPBKh0/lp50eMbtwXgAAAGzHTVQAAAAAAACAEFEBAAAAAAAAQkQFAAAAAAAA\n",
       "CBEVAAAAAAAAIERUAAAAAAAAgBBRAQAAAAAAAEJEBQAAAAAAAAgRFQAAAAAAACBEVAAAAAAAAIAQ\n",
       "UQEAAAAAAABCRAUAAAAAAACINT0AAICfOKYH7O/0qfy0yyNmF86LD/DeAwAAPstNVAAAAAAAAIAQ\n",
       "UQEAAAAAAABCRAUAAAAAAAAIERUAAAAAAAAgRFQAAAAAAACAEFEBAAAAAAAAQkQFAAAAAAAACBEV\n",
       "AAAAAAAAIERUAAAAAAAAgBBRAQAAAAAAAEJEBQAAAAAAAIg1PQAAgJ84pgfs7/Cp/LTrml4AN3Fe\n",
       "fID3HgAA8FluogIAAAAAAACEiAoAAAAAAAAQIioAAAAAAABAiKgAAAAAAAAAIaICAAAAAAAAhIgK\n",
       "AAAAAAAAECIqAAAAAAAAQIioAAAAAAAAACGiAgAAAAAAAISICgAAAAAAABBregAAALzS6VP5aR4x\n",
       "2/DHDAAAsB03UQEAAAAAAABCRAUAAAAAAAAIERUAAAAAAAAgRFQAAAAAAACAEFEBAAAAAAAAQkQF\n",
       "AAAAAAAACBEVAAAAAAAAIERUAAAAAAAAgBBRAQAAAAAAAEJEBQAAAAAAAAgRFQAAAAAAACDW9AAA\n",
       "AH7gmB7wC5w+lZ92ecTswnnxPO89AADgw9xEBQAAAAAAAAgRFQAAAAAAACBEVAAAAAAAAIAQUQEA\n",
       "AAAAAABCRAUAAAAAAAAIERUAAAAAAAAgRFQAAAAAAACAEFEBAAAAAAAAQkQFAAAAAAAACBEVAAAA\n",
       "AAAAIERUAAAAAAAAgFjTAwAA+IljesD+Dp/KT7s8YnbhvPgA7z0AAOCz3EQFAAAAAAAACBEVAAAA\n",
       "AAAAIERUAAAAAAAAgBBRAQAAAAAAAEJEBQAAAAAAAAgRFQAAAAAAACBEVAAAAAAAAIAQUQEAAAAA\n",
       "AABCRAUAAAAAAAAIERUAAAAAAAAgRFQAAAAAAACAWNMDAADglU6fyk+7PGJ24bwAAADYjpuoAAAA\n",
       "AAAAACGiAgAAAAAAAISICgAAAAAAABAiKgAAAAAAAECIqAAAAAAAAAAhogIAAAAAAACEiAoAAAAA\n",
       "AAAQIioAAAAAAABAiKgAAAAAAAAAIaICAAAAAAAAxJoeAAAAr3T4VH7a6RGzC+cFAADAdtxEBQAA\n",
       "AAAAAAgRFQAAAAAAACBEVAAAAAAAAIAQUQEAAAAAAABCRAUAAAAAAAAIERUAAAAAAAAgRFQAAAAA\n",
       "AACAEFEBAAAAAAAAQkQFAAAAAAAACBEVAOwrgH4AABKUSURBVAAAAAAAIERUAAAAAAAAgFjTAwAA\n",
       "+IljesD+Tp/KT7uu6QVwE+fFB3jvAQAAn+UmKgAAAAAAAECIqAAAAAAAAAAhogIAAAAAAACEiAoA\n",
       "AAAAAAAQIioAAAAAAABAiKgAAAAAAAAAIaICAAAAAAAAhIgKAAAAAAAAECIqAAAAAAAAQIioAAAA\n",
       "AAAAACGiAgAAAAAAAMSaHgAAAK90XNMLtnf5NcIunBcAAADbcRMVAAAAAAAAIERUAAAAAAAAgBBR\n",
       "AQAAAAAAAEJEBQAAAAAAAAgRFQAAAAAAACBEVAAAAAAAAIAQUQEAAAAAAABCRAUAAAAAAAAIERUA\n",
       "AAAAAAAgRFQAAAAAAACAEFEBAAAAAAAAYk0PAACAVzp9Kj/NI2Yb/pgBAAC24yYqAAAAAAAAQIio\n",
       "AAAAAAAAACGiAgAAAAAAAISICgAAAAAAABAiKgAAAAAAAECIqAAAAAAAAAAhogIAAAAAAACEiAoA\n",
       "AAAAAAAQIioAAAAAAABAiKgAAAAAAAAAsaYHAADAKx3X9ILtHadnzCacFwAAANtxExUAAAAAAAAg\n",
       "RFQAAAAAAACAEFEBAAAAAAAAQkQFAAAAAAAACBEVAAAAAAAAIERUAAAAAAAAgBBRAQAAAAAAAEJE\n",
       "BQAAAAAAAAgRFQAAAAAAACBEVAAAAAAAAIAQUQEAAAAAAABiTQ8AAIBXOn0qP+78ml4A93BeAAAA\n",
       "bMdNVAAAAAAAAIAQUQEAAAAAAABCRAUAAAAAAAAIERUAAAAAAAAgRFQAAAAAAACAEFEBAAAAAAAA\n",
       "QkQFAAAAAAAACBEVAAAAAAAAIERUAAAAAAAAgBBRAQAAAAAAAEJEBQAAAAAAAIg1PQAAAF7puKYX\n",
       "7O/8ml4A93BeAAAAbMdNVAAAAAAAAIAQUQEAAAAAAABCRAUAAAAAAAAIERUAAAAAAAAgRFQAAAAA\n",
       "AACAEFEBAAAAAAAAQkQFAAAAAAAACBEVAAAAAAAAIERUAAAAAAAAgBBRAQAAAAAAAEJEBQAAAAAA\n",
       "AIg1PQAAAF7puKYX7O/8ml4A93BeAAAAbMdNVAAAAAAAAIAQUQEAAAAAAABCRAUAAAAAAAAIERUA\n",
       "AAAAAAAgRFQAAAAAAACAEFEBAAAAAAAAQkQFAAAAAAAACBEVAAAAAAAAIERUAAAAAAAAgBBRAQAA\n",
       "AAAAAGJNDwAAgFc6rukF+zu/phfAPZwXAAAA23ETFQAAAAAAACBEVAAAAAAAAIAQUQEAAAAAAABC\n",
       "RAUAAAAAAAAIERUAAAAAAAAgRFQAAAAAAACAEFEBAAAAAAAAQkQFAAAAAAAACBEVAAAAAAAAIERU\n",
       "AAAAAAAAgBBRAQAAAAAAAGJNDwAAgFc6/L/h404/R9iE8wIAAGA7fukBAAAAAAAAhIgKAAAAAAAA\n",
       "ECIqAAAAAAAAQIioAAAAAAAAACGiAgAAAAAAAISICgAAAAAAABAiKgAAAAAAAECIqAAAAAAAAAAh\n",
       "ogIAAAAAAACEiAoAAAAAAAAQIioAAAAAAABArOkBAADwSsc1vWB/59f0AriH8wIAAGA7bqICAAAA\n",
       "AAAAhIgKAAAAAAAAECIqAAAAAAAAQIioAAAAAAAAACGiAgAAAAAAAISICgAAAAAAABAiKgAAAAAA\n",
       "AECIqAAAAAAAAAAhogIAAAAAAACEiAoAAAAAAAAQIioAAAAAAABArOkBAADwSof/N3zc+TW9AO7h\n",
       "vAAAANiOX3oAAAAAAAAAIaICAAAAAAAAhIgKAAAAAAAAECIqAAAAAAAAQIioAAAAAAAAACGiAgAA\n",
       "AAAAAISICgAAAAAAABAiKgAAAAAAAECIqAAAAAAAAAAhogIAAAAAAADEmh4AAMBPHNMD9nf4f8PH\n",
       "nV/TC+AezosP8N4DAAA+yy89AAAAAAAAgBBRAQAAAAAAAEJEBQAAAAAAAAgRFQAAAAAAACBEVAAA\n",
       "AAAAAIAQUQEAAAAAAABCRAUAAAAAAAAIERUAAAAAAAAgRFQAAAAAAACAEFEBAAAAAAAAQkQFAAAA\n",
       "AAAAiDU9AAAAXunw/4aPO7+mF8A9nBcAAADb8UsPAAAAAAAAIERUAAAAAAAAgBBRAQAAAAAAAEJE\n",
       "BQAAAAAAAAgRFQAAAAAAACBEVAAAAAAAAIAQUQEAAAAAAABCRAUAAAAAAAAIERUAAAAAAAAgRFQA\n",
       "AAAAAACAEFEBAAAAAAAAYk0PAACAVzr8v+Hjzq/pBXAP5wUAAMB2/NIDAAAAAAAACBEVAAAAAAAA\n",
       "IERUAAAAAAAAgBBRAQAAAAAAAEJEBQAAAAAAAAgRFQAAAAAAACBEVAAAAAAAAIAQUQEAAAAAAABC\n",
       "RAUAAAAAAAAIERUAAAAAAAAgRFQAAAAAAACAWNMDAADgnY7pAfs7v6YXwE2cFwAAALtxExUAAAAA\n",
       "AAAgRFQAAAAAAACAEFEBAAAAAAAAQkQFAAAAAAAACBEVAAAAAAAAIERUAAAAAAAAgBBRAQAAAAAA\n",
       "AEJEBQAAAAAAAAgRFQAAAAAAACBEVAAAAAAAAIBY0wMAAOCVDv9v+Ljza3oB3MN5AQAAsB2/9AAA\n",
       "AAAAAABCRAUAAAAAAAAIERUAAAAAAAAgRFQAAAAAAACAEFEBAAAAAAAAQkQFAAAAAAAACBEVAAAA\n",
       "AAAAIERUAAAAAAAAgBBRAQAAAAAAAEJEBQAAAAAAAAgRFQAAAAAAACDW9AAAAHinY3rA/s4/0wvg\n",
       "Js4LAACA3biJCgAAAAAAABAiKgAAAAAAAECIqAAAAAAAAAAhogIAAAAAAACEiAoAAAAAAAAQIioA\n",
       "AAAAAABAiKgAAAAAAAAAIaICAAAAAAAAhIgKAAAAAAAAECIqAAAAAAAAQIioAAAAAAAAALGmBwAA\n",
       "wCsdx/SC/V1f0wvgHs4LAACA7biJCgAAAAAAABAiKgAAAAAAAECIqAAAAAAAAAAhogIAAAAAAACE\n",
       "iAoAAAAAAAAQIioAAAAAAABAiKgAAAAAAAAAIaICAAAAAAAAhIgKAAAAAAAAECIqAAAAAAAAQIio\n",
       "AAAAAAAAALGmBwAAwDsd0wP2d/6ZXgA3cV4AAADsxk1UAAAAAAAAgBBRAQAAAAAAAEJEBQAAAAAA\n",
       "AAgRFQAAAAAAACBEVAAAAAAAAIAQUQEAAAAAAABCRAUAAAAAAAAIERUAAAAAAAAgRFQAAAAAAACA\n",
       "EFEBAAAAAAAAYk0PAACAdzqmB+zv/Du9AG7ivAAAANiNm6gAAAAAAAAAIaICAAAAAAAAhIgKAAAA\n",
       "AAAAECIqAAAAAAAAQIioAAAAAAAAACGiAgAAAAAAAISICgAAAAAAABAiKgAAAAAAAECIqAAAAAAA\n",
       "AAAhogIAAAAAAACEiAoAAAAAAAAQa3oAAAC80jE94Be4/kwvgHs4LwAAALbjJioAAAAAAABAiKgA\n",
       "AAAAAAAAIaICAAAAAAAAhIgKAAAAAAAAECIqAAAAAAAAQIioAAAAAAAAACGiAgAAAAAAAISICgAA\n",
       "AAAAABAiKgAAAAAAAECIqAAAAAAAAAAhogIAAAAAAADEmh4AAADvdEwP2N/1d3oB3MR5AQAAsBs3\n",
       "UQEAAAAAAABCRAUAAAAAAAAIERUAAAAAAAAgRFQAAAAAAACAEFEBAAAAAAAAQkQFAAAAAAAACBEV\n",
       "AAAAAAAAIERUAAAAAAAAgBBRAQAAAAAAAEJEBQAAAAAAAAgRFQAAAAAAACDW9AAAAOCXuv5OLwAA\n",
       "AAD4lpuoAAAAAAAAACGiAgAAAAAAAISICgAAAAAAABAiKgAAAAAAAECIqAAAAAAAAAAhogIAAAAA\n",
       "AACEiAoAAAAAAAAQIioAAAAAAABAiKgAAAAAAAAAIaICAAAAAAAAxJoeAAAA73RMD9jf9W96AdzE\n",
       "eQEAALAbN1EBAAAAAAAAQkQFAAAAAAAACBEVAAAAAAAAIERUAAAAAAAAgBBRAQAAAAAAAEJEBQAA\n",
       "AAAAAAgRFQAAAAAAACBEVAAAAAAAAIAQUQEAAAAAAABCRAUAAAAAAAAIERUAAAAAAAAg1vQAAADg\n",
       "l7r+Ti8AAAAA+JabqAAAAAAAAAAhogIAAAAAAACEiAoAAAAAAAAQIioAAAAAAABAiKgAAAAAAAAA\n",
       "IaICAAAAAAAAhIgKAAAAAAAAECIqAAAAAAAAQIioAAAAAAAAACGiAgAAAAAAAISICgAAAAAAABBr\n",
       "egAAAPBLXf+mFwAAAAB8y01UAAAAAAAAgBBRAQAAAAAAAEJEBQAAAAAAAAgRFQAAAAAAACBEVAAA\n",
       "AAAAAIAQUQEAAAAAAABCRAUAAAAAAAAIERUAAAAAAAAgRFQAAAAAAACAEFEBAAAAAAAAQkQFAAAA\n",
       "AAAAiDU9AAAA+KWuf9MLAAAAAL7lJioAAAAAAABAiKgAAAAAAAAAIaICAAAAAAAAhIgKAAAAAAAA\n",
       "ECIqAAAAAAAAQIioAAAAAAAAACGiAgAAAAAAAISICgAAAAAAABAiKgAAAAAAAECIqAAAAAAAAACx\n",
       "pgcAAAC/1PVvegEAAADAt9xEBQAAAAAAAAgRFQAAAAAAACBEVAAAAAAAAIAQUQEAAAAAAABCRAUA\n",
       "AAAAAAAIERUAAAAAAAAgRFQAAAAAAACAEFEBAAAAAAAAQkQFAAAAAAAACBEVAAAAAAAAIERUAAAA\n",
       "AAAAgFjTAwAAgF9q/Te9AAAAAOBbbqICAAAAAAAAhIgKAAAAAAAAECIqAAAAAAAAQIioAAAAAAAA\n",
       "ACGiAgAAAAAAAISICgAAAAAAABAiKgAAAAAAAECIqAAAAAAAAAAhogIAAAAAAACEiAoAAAAAAAAQ\n",
       "IioAAAAAAABArOkBAADAL3X9m14AAAAA8C03UQEAAAAAAABCRAUAAAAAAAAIERUAAAAAAAAgRFQA\n",
       "AAAAAACAEFEBAAAAAAAAQkQFAAAAAAAACBEVAAAAAAAAIERUAAAAAAAAgBBRAQAAAID/27dj1AZg\n",
       "IIqC2BKxc/8Lp32FysAaa+YEvxKIxwIAECIqAAAAAAAAQIioAAAAAAAAALGnBwAAwGd6TA/4fus9\n",
       "vQD+ifcCAADg27hEBQAAAAAAAAgRFQAAAAAAACBEVAAAAAAAAIAQUQEAAAAAAABCRAUAAAAAAAAI\n",
       "ERUAAAAAAAAgRFQAAAAAAACAEFEBAAAAAAAAQkQFAAAAAAAACBEVAAAAAAAAIPb0AAAA4FL7d3oB\n",
       "AAAAwJFLVAAAAAAAAIAQUQEAAAAAAABCRAUAAAAAAAAIERUAAAAAAAAgRFQAAAAAAACAEFEBAAAA\n",
       "AAAAQkQFAAAAAAAACBEVAAAAAAAAIERUAAAAAAAAgBBRAQAAAAAAAEJEBQAAAAAAAIg9PQAAALjU\n",
       "ek8vAAAAADhyiQoAAAAAAAAQIioAAAAAAABAiKgAAAAAAAAAIaICAAAAAAAAhIgKAAAAAAAAECIq\n",
       "AAAAAAAAQIioAAAAAAAAACGiAgAAAAAAAISICgAAAAAAABAiKgAAAAAAAECIqAAAAAAAAACxpwcA\n",
       "AACXWq/pBQAAAABHLlEBAAAAAAAAQkQFAAAAAAAACBEVAAAAAAAAIERUAAAAAAAAgBBRAQAAAAAA\n",
       "AEJEBQAAAAAAAAgRFQAAAAAAACBEVAAAAAAAAIAQUQEAAAAAAABCRAUAAAAAAAAIERUAAAAAAAAg\n",
       "9vQAAADgUus1vQAAAADgyCUqAAAAAAAAQIioAAAAAAAAACGiAgAAAAAAAISICgAAAAAAABAiKgAA\n",
       "AAAAAECIqAAAAAAAAAAhogIAAAAAAACEiAoAAAAAAAAQIioAAAAAAABAiKgAAAAAAAAAsacHAAAA\n",
       "l1qv6QUAAAAARy5RAQAAAAAAAEJEBQAAAAAAAAgRFQAAAAAAACBEVAAAAAAAAIAQUQEAAAAAAABC\n",
       "RAUAAAAAAAAIERUAAAAAAAAgRFQAAAAAAACAEFEBAAAAAAAAQkQFAAAAAAAACBEVAAAAAAAAIPb0\n",
       "AAAA4FLPn+kFAAAAAEcuUQEAAAAAAABCRAUAAAAAAAAIERUAAAAAAAAgRFQAAAAAAACAEFEBAAAA\n",
       "AAAAQkQFAAAAAAAACBEVAAAAAAAAIERUAAAAAAAAgBBRAQAAAAAAAEJEBQAAAAAAAAgRFQAAAAAA\n",
       "ACD29AAAAOBST98RAAAA4DO5RAUAAAAAAAAIERUAAAAAAAAgRFQAAAAAAACAEFEBAAAAAAAAQkQF\n",
       "AAAAAAAACBEVAAAAAAAAIERUAAAAAAAAgBBRAQAAAAAAAEJEBQAAAAAAAAgRFQAAAAAAACBEVAAA\n",
       "AAAAAIDY0wMAAIBLPdb0AgAAAIAjl6gAAAAAAAAAIaICAAAAAAAAhIgKAAAAAAAAECIqAAAAAAAA\n",
       "QIioAAAAAAAAACGiAgAAAAAAAISICgAAAAAAABAiKgAAAAAAAECIqAAAAAAAAAAhogIAAAAAAADE\n",
       "H6N9I8d81At8AAAAAElFTkSuQmCC\n",
       "\" transform=\"translate(240, 248)\"/>\n",
       "</g>\n",
       "<defs>\n",
       "  <clipPath id=\"clip543\">\n",
       "    <rect x=\"2160\" y=\"248\" width=\"73\" height=\"1176\"/>\n",
       "  </clipPath>\n",
       "</defs>\n",
       "<g clip-path=\"url(#clip543)\">\n",
       "<image width=\"72\" height=\"1175\" xlink:href=\"data:image/png;base64,\n",
       "iVBORw0KGgoAAAANSUhEUgAAAEgAAASXCAYAAABCyjmuAAAJwklEQVR4nO3dwY0jMQwAQclg9g7a\n",
       "jsDs5/hRFcGhQRCSbmf3vs/5HH56Pf0P+HcCBYGCQGHOffqf8N9MUBAoCBQECnMt6ZUJCgIFgYId\n",
       "FExQECgIFAQKcyVayRMECgIFB8VggoJAQaAgULCkgwkKAgWBgkDBbT7IEwQKAgUHxWCCgkBBoCBQ\n",
       "sKSDCQoCBYGCHRRMUBAoCBQECl4UgzxBoCBQECj4JDOYoCBQECi4zQcTFAQKAgWBgtt8kCcIFAQK\n",
       "DorBBAWBgkBBoGBJBxMUBAoCBYGCJR1MUBAoCBS8KAZ5gkBBoCBQcFAMJigIFAQKdlAwQUGgIFAQ\n",
       "KLjNB3mCQEGg4KAYTFAQKAgUBAq+OAwmKAgUBAoCBbf5IE8QKAgU3OaDCQoCBYGCQMGSDiYoCBQE\n",
       "CnZQMEFBoCBQECh4UQzyBIGCQEGg4CQdTFAQKAgU7KBggoJAQaAgUHCbD/IEgYJAwUExmKAgUBAo\n",
       "CBQs6WCCgkBBoCBQ8ElmMEFBoCBQ8KIY5AkCBYGCQMFtPpigIFAQKNhBwQQFgYJAQaDgNh/kCQIF\n",
       "gYJAwUk6mKAgUBAo2EHBBAWBgkBBoOA2H+QJAgWBgoNiMEFBoCBQEChY0sEEBYGCQMEOCiYoCBQE\n",
       "CgKFkWgnTxAoCBQECk7SwQQFgYJAwQ4KJigIFAQKAgU/HxTkCQIFgYKDYjBBQaAgUBAoWNLBBAWB\n",
       "gkBBoGBJBxMUBAoCBS+KQZ4gUBAoCBQcFIMJCgIFgYIdFExQECgIFAQKbvNBniBQECgIFPwRyGCC\n",
       "gkBBoOA2H0xQECgIFAQKbvNBniBQECg4KAYTFAQKAgWBgiUdTFAQKAgU7KBggoJAQaAgUPCiGOQJ\n",
       "AgWBgkDBSTqYoCBQECjYQcEEBYGCQEGg4DYf5AkCBYGCg2IwQUGgIFAQKPjiMJigIFAQKAgUnKSD\n",
       "CQoCBYGCF8UgTxAoCBQECg6KwQQFgYJAwQ4KJigIFAQKAgW3+SBPECgIFAQKTtLBBAWBgkDBDgom\n",
       "KAgUBAoCBbf5IE8QKAgUHBSDCQoCBYGCQMGSDiYoCBQECgIFn2QGExQECgIFL4pBniBQECgIFNzm\n",
       "gwkKAgWBgh0UTFAQKAgUBApu80GeIFAQKDgoBhMUBAoCBYGCJR1MUBAoCBQECm7zQZ4gUBAoOCgG\n",
       "ExQECgIFgYIlHUxQECgIFOygYIKCQEGgIFAYiXbyBIGCQEGg4CQdTFAQKAgU7KBggoJAQaAgUPDz\n",
       "QUGeIFAQKDgoBhMUBAoCBYGCJR1MUBAoCBQECpZ0MEFBoCBQ8KIY5AkCBYGCQMFBMZigIFAQKNhB\n",
       "wQQFgYJAQaDgNh/kCQIFgYK/cRhMUBAoCBQECm7zwQQFgYJAQaBgSQcTFAQKAgUvikGeIFAQKAgU\n",
       "HBSDCQoCBYGCHRRMUBAoCBQECm7zQZ4gUBAoCBScpIMJCgIFgYIdFExQECgIFAQKbvNBniBQECg4\n",
       "KAYTFAQKAgWBgk8ygwkKAgWBgkDBSTqYoCBQECh4UQzyBIGCQEGg4KAYTFAQKAgU7KBggoJAQaAg\n",
       "UHCbD/IEgYJAQaDgJB1MUBAoCBTsoGCCgkBBoCBQcJsP8gSBgkDBQTGYoCBQECgIFCzpYIKCQEGg\n",
       "4IvDYIKCQEGgIFDwohjkCQIFgYJAwW0+mKAgUBAo2EHBBAWBgkBBoOA2H+QJAgWBgoNiMEFBoCBQ\n",
       "EChY0sEEBYGCQEGgMMd1fqVOECgIFEajnTpBoCBQECg4KAZ1gkBBoDDHk+LKBAWBgkBBoOA2H9QJ\n",
       "AgWBgkDBbT6oEwQKAgU7KKgTBAoCBYGCJ9dggoJAQaDgRTGoEwQKAgWBgtt8UCcIFAQKdlBQJwgU\n",
       "BAoChTl+Z/vKBAWBgkBBoOAkHdQJAgWBgh0U1AkCBYGCQMH/zQd1gkBBoOBnFIMJCgIFgYJAwW0+\n",
       "qBMECgIFgYIlHdQJAgWBghfFoE4QKAgUBAoOikGdIFAQKPhvn2CCgkBBoCBQcJsP6gSBgkBBoOA2\n",
       "H9QJAgWBgh0U1AkCBYGCQMGTazBBQaAgUPCiGNQJAgWBgkDBbT6oEwQKAgWBgiUd1AkCBYGC3wYc\n",
       "TFAQKAgUBAoOikGdIFAQKNhBQZ0gUBAoCBT833xQJwgUBAp+RjGYoCBQECgIFNzmgzpBoCBQEChY\n",
       "0kGdIFAQKHhRDOoEgYJAQaDgyTWYoCBQECi4rAZ1gkBBoCBQcJsP6gSBgkBBoOAkHdQJAgWBghfF\n",
       "YIKCQEGgIFBwUAzqBIGCQMGLYlAnCBQECgIFB8WgThAoCBQECp5cgwkKAgWBgtt8UCcIFAQKAgW3\n",
       "+aBOECgIFOygoE4QKAgUBAr+tk8wQUGgIFBwUAzqBIGCQEGgYEkHdYJAQaAgULCkgzpBoCBQ8KIY\n",
       "TFAQKAgUBAoOikGdIFAQKNhBQZ0gUBAoCBR87RPUCQIFgYJAwUk6qBMECgIFv5oimKAgUBAoCBQc\n",
       "FIM6QaAgUPCiGNQJAgWBgkDBQTGoEwQKAgWBgifXYIKCQEGg4DYf1AkCBYGCQMFtPqgTBAoCBTso\n",
       "qBMECgIFgYLf3RFMUBAoCBQECk7SQZ0gUBAo2EFBnSBQECgIFCzpoE4QKAgUvCgGExQECgIFgYKD\n",
       "YlAnCBQECnZQUCcIFAQKAgVf+wR1gkBBoCBQ8Fl4MEFBoCBQcJsP6gSBgkBBoGBJB3WCQEGg4EUx\n",
       "qBMECgIFgYIXxWCCgkBBoCBQcJsP6gSBgkDBbT6oEwQKAgWBgoNiUCcIFAQKXhSDCQoCBYGCQMFt\n",
       "PqgTBAoCBYGC23xQJwgUBAp2UFAnCBQECgIFT67BBAWBgkDBi2JQJwgUBAoCBbf5oE4QKAgU7KCg\n",
       "ThAoCBQECv62TzBBQaAgUBAoOEkHdYJAQaBgBwV1gkBBoCBQsKSDOkGgIFDw80FBnSBQECgIFPwg\n",
       "eTBBQaAgUBAouM0HdYJAQaDgNh/UCQIFgYJAwUExqBMECgIFL4rBBAWBgkBBoOA2H9QJAgWBgkDB\n",
       "bT6oEwQKAgU7KKgTBAoCBYGCJ9dggoJAQaDgRTGoEwQKAgWBgtt8UCcIFAQKAgVLOqgTBAoCBb8N\n",
       "OJigIFAQKAgUHBSDOkGgIFCwg4I6QaAgUBAoWNJBnSBQECh4UQwmKAgUBAoCBQfFoE4QKAgUBAqW\n",
       "dFAnCBQECr72CeoEgYJAQaDgs/BggoJAQaDgshrUCQIFgYJAwW0+qBMECgIFgYKTdFAnCBQECl4U\n",
       "gwkKAgWBgkDBQTGoEwQKAgUvikGdIFAQKAgUHBSDOkGgIFAQKHhyDSYoCBQECm7zQZ0gUBAoCBTc\n",
       "5oM6QaAgULCDgjpBoCBQEChY0kGdIFAQKHwBAZoPCb+nPRcAAAAASUVORK5CYII=\n",
       "\" transform=\"translate(2161, 248)\"/>\n",
       "</g>\n",
       "<path clip-path=\"url(#clip540)\" d=\"M2280.7 1405.35 Q2277.09 1405.35 2275.26 1408.91 Q2273.45 1412.46 2273.45 1419.59 Q2273.45 1426.69 2275.26 1430.26 Q2277.09 1433.8 2280.7 1433.8 Q2284.33 1433.8 2286.14 1430.26 Q2287.97 1426.69 2287.97 1419.59 Q2287.97 1412.46 2286.14 1408.91 Q2284.33 1405.35 2280.7 1405.35 M2280.7 1401.65 Q2286.51 1401.65 2289.57 1406.25 Q2292.64 1410.84 2292.64 1419.59 Q2292.64 1428.31 2289.57 1432.92 Q2286.51 1437.5 2280.7 1437.5 Q2274.89 1437.5 2271.81 1432.92 Q2268.76 1428.31 2268.76 1419.59 Q2268.76 1410.84 2271.81 1406.25 Q2274.89 1401.65 2280.7 1401.65 Z\" fill=\"#000000\" fill-rule=\"nonzero\" fill-opacity=\"1\" /><path clip-path=\"url(#clip540)\" d=\"M2280.7 1278.94 Q2277.09 1278.94 2275.26 1282.5 Q2273.45 1286.05 2273.45 1293.18 Q2273.45 1300.28 2275.26 1303.85 Q2277.09 1307.39 2280.7 1307.39 Q2284.33 1307.39 2286.14 1303.85 Q2287.97 1300.28 2287.97 1293.18 Q2287.97 1286.05 2286.14 1282.5 Q2284.33 1278.94 2280.7 1278.94 M2280.7 1275.24 Q2286.51 1275.24 2289.57 1279.84 Q2292.64 1284.43 2292.64 1293.18 Q2292.64 1301.9 2289.57 1306.51 Q2286.51 1311.09 2280.7 1311.09 Q2274.89 1311.09 2271.81 1306.51 Q2268.76 1301.9 2268.76 1293.18 Q2268.76 1284.43 2271.81 1279.84 Q2274.89 1275.24 2280.7 1275.24 Z\" fill=\"#000000\" fill-rule=\"nonzero\" fill-opacity=\"1\" /><path clip-path=\"url(#clip540)\" d=\"M2300.86 1304.54 L2305.75 1304.54 L2305.75 1310.42 L2300.86 1310.42 L2300.86 1304.54 Z\" fill=\"#000000\" fill-rule=\"nonzero\" fill-opacity=\"1\" /><path clip-path=\"url(#clip540)\" d=\"M2319.96 1306.49 L2336.28 1306.49 L2336.28 1310.42 L2314.33 1310.42 L2314.33 1306.49 Q2317 1303.73 2321.58 1299.1 Q2326.19 1294.45 2327.37 1293.11 Q2329.61 1290.58 2330.49 1288.85 Q2331.39 1287.09 2331.39 1285.4 Q2331.39 1282.64 2329.45 1280.91 Q2327.53 1279.17 2324.43 1279.17 Q2322.23 1279.17 2319.77 1279.93 Q2317.34 1280.7 2314.57 1282.25 L2314.57 1277.53 Q2317.39 1276.39 2319.84 1275.81 Q2322.3 1275.24 2324.33 1275.24 Q2329.7 1275.24 2332.9 1277.92 Q2336.09 1280.61 2336.09 1285.1 Q2336.09 1287.23 2335.28 1289.15 Q2334.5 1291.05 2332.39 1293.64 Q2331.81 1294.31 2328.71 1297.53 Q2325.61 1300.72 2319.96 1306.49 Z\" fill=\"#000000\" fill-rule=\"nonzero\" fill-opacity=\"1\" /><path clip-path=\"url(#clip540)\" d=\"M2346.14 1275.86 L2364.5 1275.86 L2364.5 1279.8 L2350.42 1279.8 L2350.42 1288.27 Q2351.44 1287.92 2352.46 1287.76 Q2353.48 1287.57 2354.5 1287.57 Q2360.28 1287.57 2363.66 1290.74 Q2367.04 1293.92 2367.04 1299.33 Q2367.04 1304.91 2363.57 1308.01 Q2360.1 1311.09 2353.78 1311.09 Q2351.6 1311.09 2349.33 1310.72 Q2347.09 1310.35 2344.68 1309.61 L2344.68 1304.91 Q2346.76 1306.05 2348.99 1306.6 Q2351.21 1307.16 2353.69 1307.16 Q2357.69 1307.16 2360.03 1305.05 Q2362.37 1302.94 2362.37 1299.33 Q2362.37 1295.72 2360.03 1293.62 Q2357.69 1291.51 2353.69 1291.51 Q2351.81 1291.51 2349.94 1291.93 Q2348.08 1292.34 2346.14 1293.22 L2346.14 1275.86 Z\" fill=\"#000000\" fill-rule=\"nonzero\" fill-opacity=\"1\" /><path clip-path=\"url(#clip540)\" d=\"M2280.7 1152.53 Q2277.09 1152.53 2275.26 1156.09 Q2273.45 1159.64 2273.45 1166.76 Q2273.45 1173.87 2275.26 1177.44 Q2277.09 1180.98 2280.7 1180.98 Q2284.33 1180.98 2286.14 1177.44 Q2287.97 1173.87 2287.97 1166.76 Q2287.97 1159.64 2286.14 1156.09 Q2284.33 1152.53 2280.7 1152.53 M2280.7 1148.83 Q2286.51 1148.83 2289.57 1153.43 Q2292.64 1158.01 2292.64 1166.76 Q2292.64 1175.49 2289.57 1180.1 Q2286.51 1184.68 2280.7 1184.68 Q2274.89 1184.68 2271.81 1180.1 Q2268.76 1175.49 2268.76 1166.76 Q2268.76 1158.01 2271.81 1153.43 Q2274.89 1148.83 2280.7 1148.83 Z\" fill=\"#000000\" fill-rule=\"nonzero\" fill-opacity=\"1\" /><path clip-path=\"url(#clip540)\" d=\"M2300.86 1178.13 L2305.75 1178.13 L2305.75 1184.01 L2300.86 1184.01 L2300.86 1178.13 Z\" fill=\"#000000\" fill-rule=\"nonzero\" fill-opacity=\"1\" /><path clip-path=\"url(#clip540)\" d=\"M2315.98 1149.45 L2334.33 1149.45 L2334.33 1153.39 L2320.26 1153.39 L2320.26 1161.86 Q2321.28 1161.51 2322.3 1161.35 Q2323.32 1161.16 2324.33 1161.16 Q2330.12 1161.16 2333.5 1164.33 Q2336.88 1167.51 2336.88 1172.92 Q2336.88 1178.5 2333.41 1181.6 Q2329.94 1184.68 2323.62 1184.68 Q2321.44 1184.68 2319.17 1184.31 Q2316.93 1183.94 2314.52 1183.2 L2314.52 1178.5 Q2316.6 1179.64 2318.83 1180.19 Q2321.05 1180.75 2323.52 1180.75 Q2327.53 1180.75 2329.87 1178.64 Q2332.2 1176.53 2332.2 1172.92 Q2332.2 1169.31 2329.87 1167.2 Q2327.53 1165.1 2323.52 1165.1 Q2321.65 1165.1 2319.77 1165.51 Q2317.92 1165.93 2315.98 1166.81 L2315.98 1149.45 Z\" fill=\"#000000\" fill-rule=\"nonzero\" fill-opacity=\"1\" /><path clip-path=\"url(#clip540)\" d=\"M2356.09 1152.53 Q2352.48 1152.53 2350.65 1156.09 Q2348.85 1159.64 2348.85 1166.76 Q2348.85 1173.87 2350.65 1177.44 Q2352.48 1180.98 2356.09 1180.98 Q2359.73 1180.98 2361.53 1177.44 Q2363.36 1173.87 2363.36 1166.76 Q2363.36 1159.64 2361.53 1156.09 Q2359.73 1152.53 2356.09 1152.53 M2356.09 1148.83 Q2361.9 1148.83 2364.96 1153.43 Q2368.04 1158.01 2368.04 1166.76 Q2368.04 1175.49 2364.96 1180.1 Q2361.9 1184.68 2356.09 1184.68 Q2350.28 1184.68 2347.2 1180.1 Q2344.15 1175.49 2344.15 1166.76 Q2344.15 1158.01 2347.2 1153.43 Q2350.28 1148.83 2356.09 1148.83 Z\" fill=\"#000000\" fill-rule=\"nonzero\" fill-opacity=\"1\" /><path clip-path=\"url(#clip540)\" d=\"M2280.7 1026.12 Q2277.09 1026.12 2275.26 1029.68 Q2273.45 1033.22 2273.45 1040.35 Q2273.45 1047.46 2275.26 1051.03 Q2277.09 1054.57 2280.7 1054.57 Q2284.33 1054.57 2286.14 1051.03 Q2287.97 1047.46 2287.97 1040.35 Q2287.97 1033.22 2286.14 1029.68 Q2284.33 1026.12 2280.7 1026.12 M2280.7 1022.41 Q2286.51 1022.41 2289.57 1027.02 Q2292.64 1031.6 2292.64 1040.35 Q2292.64 1049.08 2289.57 1053.69 Q2286.51 1058.27 2280.7 1058.27 Q2274.89 1058.27 2271.81 1053.69 Q2268.76 1049.08 2268.76 1040.35 Q2268.76 1031.6 2271.81 1027.02 Q2274.89 1022.41 2280.7 1022.41 Z\" fill=\"#000000\" fill-rule=\"nonzero\" fill-opacity=\"1\" /><path clip-path=\"url(#clip540)\" d=\"M2300.86 1051.72 L2305.75 1051.72 L2305.75 1057.6 L2300.86 1057.6 L2300.86 1051.72 Z\" fill=\"#000000\" fill-rule=\"nonzero\" fill-opacity=\"1\" /><path clip-path=\"url(#clip540)\" d=\"M2314.75 1023.04 L2336.97 1023.04 L2336.97 1025.03 L2324.43 1057.6 L2319.54 1057.6 L2331.35 1026.97 L2314.75 1026.97 L2314.75 1023.04 Z\" fill=\"#000000\" fill-rule=\"nonzero\" fill-opacity=\"1\" /><path clip-path=\"url(#clip540)\" d=\"M2346.14 1023.04 L2364.5 1023.04 L2364.5 1026.97 L2350.42 1026.97 L2350.42 1035.45 Q2351.44 1035.1 2352.46 1034.94 Q2353.48 1034.75 2354.5 1034.75 Q2360.28 1034.75 2363.66 1037.92 Q2367.04 1041.1 2367.04 1046.51 Q2367.04 1052.09 2363.57 1055.19 Q2360.1 1058.27 2353.78 1058.27 Q2351.6 1058.27 2349.33 1057.9 Q2347.09 1057.53 2344.68 1056.79 L2344.68 1052.09 Q2346.76 1053.22 2348.99 1053.78 Q2351.21 1054.34 2353.69 1054.34 Q2357.69 1054.34 2360.03 1052.23 Q2362.37 1050.12 2362.37 1046.51 Q2362.37 1042.9 2360.03 1040.79 Q2357.69 1038.69 2353.69 1038.69 Q2351.81 1038.69 2349.94 1039.1 Q2348.08 1039.52 2346.14 1040.4 L2346.14 1023.04 Z\" fill=\"#000000\" fill-rule=\"nonzero\" fill-opacity=\"1\" /><path clip-path=\"url(#clip540)\" d=\"M2269.43 927.254 L2277.07 927.254 L2277.07 900.889 L2268.76 902.555 L2268.76 898.296 L2277.02 896.629 L2281.7 896.629 L2281.7 927.254 L2289.33 927.254 L2289.33 931.189 L2269.43 931.189 L2269.43 927.254 Z\" fill=\"#000000\" fill-rule=\"nonzero\" fill-opacity=\"1\" /><path clip-path=\"url(#clip540)\" d=\"M2298.78 925.31 L2303.66 925.31 L2303.66 931.189 L2298.78 931.189 L2298.78 925.31 Z\" fill=\"#000000\" fill-rule=\"nonzero\" fill-opacity=\"1\" /><path clip-path=\"url(#clip540)\" d=\"M2323.85 899.708 Q2320.24 899.708 2318.41 903.273 Q2316.6 906.814 2316.6 913.944 Q2316.6 921.05 2318.41 924.615 Q2320.24 928.157 2323.85 928.157 Q2327.48 928.157 2329.29 924.615 Q2331.12 921.05 2331.12 913.944 Q2331.12 906.814 2329.29 903.273 Q2327.48 899.708 2323.85 899.708 M2323.85 896.004 Q2329.66 896.004 2332.71 900.611 Q2335.79 905.194 2335.79 913.944 Q2335.79 922.671 2332.71 927.277 Q2329.66 931.861 2323.85 931.861 Q2318.04 931.861 2314.96 927.277 Q2311.9 922.671 2311.9 913.944 Q2311.9 905.194 2314.96 900.611 Q2318.04 896.004 2323.85 896.004 Z\" fill=\"#000000\" fill-rule=\"nonzero\" fill-opacity=\"1\" /><path clip-path=\"url(#clip540)\" d=\"M2354.01 899.708 Q2350.4 899.708 2348.57 903.273 Q2346.76 906.814 2346.76 913.944 Q2346.76 921.05 2348.57 924.615 Q2350.4 928.157 2354.01 928.157 Q2357.64 928.157 2359.45 924.615 Q2361.28 921.05 2361.28 913.944 Q2361.28 906.814 2359.45 903.273 Q2357.64 899.708 2354.01 899.708 M2354.01 896.004 Q2359.82 896.004 2362.88 900.611 Q2365.95 905.194 2365.95 913.944 Q2365.95 922.671 2362.88 927.277 Q2359.82 931.861 2354.01 931.861 Q2348.2 931.861 2345.12 927.277 Q2342.07 922.671 2342.07 913.944 Q2342.07 905.194 2345.12 900.611 Q2348.2 896.004 2354.01 896.004 Z\" fill=\"#000000\" fill-rule=\"nonzero\" fill-opacity=\"1\" /><path clip-path=\"url(#clip540)\" d=\"M2269.43 800.844 L2277.07 800.844 L2277.07 774.478 L2268.76 776.145 L2268.76 771.885 L2277.02 770.219 L2281.7 770.219 L2281.7 800.844 L2289.33 800.844 L2289.33 804.779 L2269.43 804.779 L2269.43 800.844 Z\" fill=\"#000000\" fill-rule=\"nonzero\" fill-opacity=\"1\" /><path clip-path=\"url(#clip540)\" d=\"M2298.78 798.899 L2303.66 798.899 L2303.66 804.779 L2298.78 804.779 L2298.78 798.899 Z\" fill=\"#000000\" fill-rule=\"nonzero\" fill-opacity=\"1\" /><path clip-path=\"url(#clip540)\" d=\"M2317.88 800.844 L2334.2 800.844 L2334.2 804.779 L2312.25 804.779 L2312.25 800.844 Q2314.91 798.089 2319.5 793.459 Q2324.1 788.807 2325.28 787.464 Q2327.53 784.941 2328.41 783.205 Q2329.31 781.446 2329.31 779.756 Q2329.31 777.001 2327.37 775.265 Q2325.45 773.529 2322.34 773.529 Q2320.14 773.529 2317.69 774.293 Q2315.26 775.057 2312.48 776.608 L2312.48 771.885 Q2315.31 770.751 2317.76 770.173 Q2320.21 769.594 2322.25 769.594 Q2327.62 769.594 2330.82 772.279 Q2334.01 774.964 2334.01 779.455 Q2334.01 781.585 2333.2 783.506 Q2332.41 785.404 2330.31 787.997 Q2329.73 788.668 2326.63 791.885 Q2323.52 795.08 2317.88 800.844 Z\" fill=\"#000000\" fill-rule=\"nonzero\" fill-opacity=\"1\" /><path clip-path=\"url(#clip540)\" d=\"M2344.06 770.219 L2362.41 770.219 L2362.41 774.154 L2348.34 774.154 L2348.34 782.626 Q2349.36 782.279 2350.38 782.117 Q2351.39 781.932 2352.41 781.932 Q2358.2 781.932 2361.58 785.103 Q2364.96 788.274 2364.96 793.691 Q2364.96 799.27 2361.49 802.371 Q2358.01 805.45 2351.7 805.45 Q2349.52 805.45 2347.25 805.08 Q2345.01 804.709 2342.6 803.969 L2342.6 799.27 Q2344.68 800.404 2346.9 800.959 Q2349.13 801.515 2351.6 801.515 Q2355.61 801.515 2357.95 799.408 Q2360.28 797.302 2360.28 793.691 Q2360.28 790.08 2357.95 787.973 Q2355.61 785.867 2351.6 785.867 Q2349.73 785.867 2347.85 786.284 Q2346 786.7 2344.06 787.58 L2344.06 770.219 Z\" fill=\"#000000\" fill-rule=\"nonzero\" fill-opacity=\"1\" /><path clip-path=\"url(#clip540)\" d=\"M2269.43 674.433 L2277.07 674.433 L2277.07 648.068 L2268.76 649.734 L2268.76 645.475 L2277.02 643.808 L2281.7 643.808 L2281.7 674.433 L2289.33 674.433 L2289.33 678.368 L2269.43 678.368 L2269.43 674.433 Z\" fill=\"#000000\" fill-rule=\"nonzero\" fill-opacity=\"1\" /><path clip-path=\"url(#clip540)\" d=\"M2298.78 672.489 L2303.66 672.489 L2303.66 678.368 L2298.78 678.368 L2298.78 672.489 Z\" fill=\"#000000\" fill-rule=\"nonzero\" fill-opacity=\"1\" /><path clip-path=\"url(#clip540)\" d=\"M2313.89 643.808 L2332.25 643.808 L2332.25 647.744 L2318.18 647.744 L2318.18 656.216 Q2319.2 655.868 2320.21 655.706 Q2321.23 655.521 2322.25 655.521 Q2328.04 655.521 2331.42 658.693 Q2334.8 661.864 2334.8 667.28 Q2334.8 672.859 2331.33 675.961 Q2327.85 679.04 2321.53 679.04 Q2319.36 679.04 2317.09 678.669 Q2314.84 678.299 2312.44 677.558 L2312.44 672.859 Q2314.52 673.993 2316.74 674.549 Q2318.96 675.105 2321.44 675.105 Q2325.45 675.105 2327.78 672.998 Q2330.12 670.892 2330.12 667.28 Q2330.12 663.669 2327.78 661.563 Q2325.45 659.456 2321.44 659.456 Q2319.57 659.456 2317.69 659.873 Q2315.84 660.29 2313.89 661.169 L2313.89 643.808 Z\" fill=\"#000000\" fill-rule=\"nonzero\" fill-opacity=\"1\" /><path clip-path=\"url(#clip540)\" d=\"M2354.01 646.887 Q2350.4 646.887 2348.57 650.452 Q2346.76 653.994 2346.76 661.123 Q2346.76 668.23 2348.57 671.794 Q2350.4 675.336 2354.01 675.336 Q2357.64 675.336 2359.45 671.794 Q2361.28 668.23 2361.28 661.123 Q2361.28 653.994 2359.45 650.452 Q2357.64 646.887 2354.01 646.887 M2354.01 643.183 Q2359.82 643.183 2362.88 647.79 Q2365.95 652.373 2365.95 661.123 Q2365.95 669.85 2362.88 674.456 Q2359.82 679.04 2354.01 679.04 Q2348.2 679.04 2345.12 674.456 Q2342.07 669.85 2342.07 661.123 Q2342.07 652.373 2345.12 647.79 Q2348.2 643.183 2354.01 643.183 Z\" fill=\"#000000\" fill-rule=\"nonzero\" fill-opacity=\"1\" /><path clip-path=\"url(#clip540)\" d=\"M2269.43 548.023 L2277.07 548.023 L2277.07 521.657 L2268.76 523.324 L2268.76 519.065 L2277.02 517.398 L2281.7 517.398 L2281.7 548.023 L2289.33 548.023 L2289.33 551.958 L2269.43 551.958 L2269.43 548.023 Z\" fill=\"#000000\" fill-rule=\"nonzero\" fill-opacity=\"1\" /><path clip-path=\"url(#clip540)\" d=\"M2298.78 546.078 L2303.66 546.078 L2303.66 551.958 L2298.78 551.958 L2298.78 546.078 Z\" fill=\"#000000\" fill-rule=\"nonzero\" fill-opacity=\"1\" /><path clip-path=\"url(#clip540)\" d=\"M2312.67 517.398 L2334.89 517.398 L2334.89 519.389 L2322.34 551.958 L2317.46 551.958 L2329.26 521.333 L2312.67 521.333 L2312.67 517.398 Z\" fill=\"#000000\" fill-rule=\"nonzero\" fill-opacity=\"1\" /><path clip-path=\"url(#clip540)\" d=\"M2344.06 517.398 L2362.41 517.398 L2362.41 521.333 L2348.34 521.333 L2348.34 529.805 Q2349.36 529.458 2350.38 529.296 Q2351.39 529.111 2352.41 529.111 Q2358.2 529.111 2361.58 532.282 Q2364.96 535.453 2364.96 540.87 Q2364.96 546.449 2361.49 549.551 Q2358.01 552.629 2351.7 552.629 Q2349.52 552.629 2347.25 552.259 Q2345.01 551.888 2342.6 551.148 L2342.6 546.449 Q2344.68 547.583 2346.9 548.139 Q2349.13 548.694 2351.6 548.694 Q2355.61 548.694 2357.95 546.588 Q2360.28 544.481 2360.28 540.87 Q2360.28 537.259 2357.95 535.152 Q2355.61 533.046 2351.6 533.046 Q2349.73 533.046 2347.85 533.463 Q2346 533.879 2344.06 534.759 L2344.06 517.398 Z\" fill=\"#000000\" fill-rule=\"nonzero\" fill-opacity=\"1\" /><path clip-path=\"url(#clip540)\" d=\"M2274.38 421.612 L2290.7 421.612 L2290.7 425.547 L2268.76 425.547 L2268.76 421.612 Q2271.42 418.858 2276 414.228 Q2280.61 409.575 2281.79 408.233 Q2284.03 405.71 2284.91 403.974 Q2285.82 402.214 2285.82 400.524 Q2285.82 397.77 2283.87 396.034 Q2281.95 394.298 2278.85 394.298 Q2276.65 394.298 2274.2 395.062 Q2271.77 395.825 2268.99 397.376 L2268.99 392.654 Q2271.81 391.52 2274.27 390.941 Q2276.72 390.362 2278.76 390.362 Q2284.13 390.362 2287.32 393.048 Q2290.52 395.733 2290.52 400.224 Q2290.52 402.353 2289.7 404.274 Q2288.92 406.173 2286.81 408.765 Q2286.23 409.436 2283.13 412.654 Q2280.03 415.848 2274.38 421.612 Z\" fill=\"#000000\" fill-rule=\"nonzero\" fill-opacity=\"1\" /><path clip-path=\"url(#clip540)\" d=\"M2300.51 419.668 L2305.4 419.668 L2305.4 425.547 L2300.51 425.547 L2300.51 419.668 Z\" fill=\"#000000\" fill-rule=\"nonzero\" fill-opacity=\"1\" /><path clip-path=\"url(#clip540)\" d=\"M2325.58 394.066 Q2321.97 394.066 2320.14 397.631 Q2318.34 401.173 2318.34 408.302 Q2318.34 415.409 2320.14 418.973 Q2321.97 422.515 2325.58 422.515 Q2329.22 422.515 2331.02 418.973 Q2332.85 415.409 2332.85 408.302 Q2332.85 401.173 2331.02 397.631 Q2329.22 394.066 2325.58 394.066 M2325.58 390.362 Q2331.39 390.362 2334.45 394.969 Q2337.53 399.552 2337.53 408.302 Q2337.53 417.029 2334.45 421.635 Q2331.39 426.219 2325.58 426.219 Q2319.77 426.219 2316.7 421.635 Q2313.64 417.029 2313.64 408.302 Q2313.64 399.552 2316.7 394.969 Q2319.77 390.362 2325.58 390.362 Z\" fill=\"#000000\" fill-rule=\"nonzero\" fill-opacity=\"1\" /><path clip-path=\"url(#clip540)\" d=\"M2355.75 394.066 Q2352.14 394.066 2350.31 397.631 Q2348.5 401.173 2348.5 408.302 Q2348.5 415.409 2350.31 418.973 Q2352.14 422.515 2355.75 422.515 Q2359.38 422.515 2361.19 418.973 Q2363.01 415.409 2363.01 408.302 Q2363.01 401.173 2361.19 397.631 Q2359.38 394.066 2355.75 394.066 M2355.75 390.362 Q2361.56 390.362 2364.61 394.969 Q2367.69 399.552 2367.69 408.302 Q2367.69 417.029 2364.61 421.635 Q2361.56 426.219 2355.75 426.219 Q2349.94 426.219 2346.86 421.635 Q2343.8 417.029 2343.8 408.302 Q2343.8 399.552 2346.86 394.969 Q2349.94 390.362 2355.75 390.362 Z\" fill=\"#000000\" fill-rule=\"nonzero\" fill-opacity=\"1\" /><path clip-path=\"url(#clip540)\" d=\"M2274.38 295.202 L2290.7 295.202 L2290.7 299.137 L2268.76 299.137 L2268.76 295.202 Q2271.42 292.447 2276 287.818 Q2280.61 283.165 2281.79 281.822 Q2284.03 279.299 2284.91 277.563 Q2285.82 275.804 2285.82 274.114 Q2285.82 271.359 2283.87 269.623 Q2281.95 267.887 2278.85 267.887 Q2276.65 267.887 2274.2 268.651 Q2271.77 269.415 2268.99 270.966 L2268.99 266.244 Q2271.81 265.109 2274.27 264.531 Q2276.72 263.952 2278.76 263.952 Q2284.13 263.952 2287.32 266.637 Q2290.52 269.322 2290.52 273.813 Q2290.52 275.943 2289.7 277.864 Q2288.92 279.762 2286.81 282.355 Q2286.23 283.026 2283.13 286.244 Q2280.03 289.438 2274.38 295.202 Z\" fill=\"#000000\" fill-rule=\"nonzero\" fill-opacity=\"1\" /><path clip-path=\"url(#clip540)\" d=\"M2300.51 293.257 L2305.4 293.257 L2305.4 299.137 L2300.51 299.137 L2300.51 293.257 Z\" fill=\"#000000\" fill-rule=\"nonzero\" fill-opacity=\"1\" /><path clip-path=\"url(#clip540)\" d=\"M2319.61 295.202 L2335.93 295.202 L2335.93 299.137 L2313.99 299.137 L2313.99 295.202 Q2316.65 292.447 2321.23 287.818 Q2325.84 283.165 2327.02 281.822 Q2329.26 279.299 2330.14 277.563 Q2331.05 275.804 2331.05 274.114 Q2331.05 271.359 2329.1 269.623 Q2327.18 267.887 2324.08 267.887 Q2321.88 267.887 2319.43 268.651 Q2317 269.415 2314.22 270.966 L2314.22 266.244 Q2317.04 265.109 2319.5 264.531 Q2321.95 263.952 2323.99 263.952 Q2329.36 263.952 2332.55 266.637 Q2335.75 269.322 2335.75 273.813 Q2335.75 275.943 2334.94 277.864 Q2334.15 279.762 2332.04 282.355 Q2331.46 283.026 2328.36 286.244 Q2325.26 289.438 2319.61 295.202 Z\" fill=\"#000000\" fill-rule=\"nonzero\" fill-opacity=\"1\" /><path clip-path=\"url(#clip540)\" d=\"M2345.79 264.577 L2364.15 264.577 L2364.15 268.512 L2350.07 268.512 L2350.07 276.984 Q2351.09 276.637 2352.11 276.475 Q2353.13 276.29 2354.15 276.29 Q2359.94 276.29 2363.32 279.461 Q2366.7 282.633 2366.7 288.049 Q2366.7 293.628 2363.22 296.73 Q2359.75 299.808 2353.43 299.808 Q2351.26 299.808 2348.99 299.438 Q2346.74 299.068 2344.33 298.327 L2344.33 293.628 Q2346.42 294.762 2348.64 295.318 Q2350.86 295.873 2353.34 295.873 Q2357.34 295.873 2359.68 293.767 Q2362.02 291.66 2362.02 288.049 Q2362.02 284.438 2359.68 282.332 Q2357.34 280.225 2353.34 280.225 Q2351.46 280.225 2349.59 280.642 Q2347.74 281.058 2345.79 281.938 L2345.79 264.577 Z\" fill=\"#000000\" fill-rule=\"nonzero\" fill-opacity=\"1\" /><polyline clip-path=\"url(#clip540)\" style=\"stroke:#000000; stroke-linecap:round; stroke-linejoin:round; stroke-width:4; stroke-opacity:1; fill:none\" points=\"2232.76,1423.18 2232.76,1423.18 2256.76,1423.18 2232.76,1423.18 2232.76,1296.77 2256.76,1296.77 2232.76,1296.77 2232.76,1170.36 2256.76,1170.36 2232.76,1170.36 2232.76,1043.95 2256.76,1043.95 2232.76,1043.95 2232.76,917.538 2256.76,917.538 2232.76,917.538 2232.76,791.128 2256.76,791.128 2232.76,791.128 2232.76,664.717 2256.76,664.717 2232.76,664.717 2232.76,538.307 2256.76,538.307 2232.76,538.307 2232.76,411.896 2256.76,411.896 2232.76,411.896 2232.76,285.486 2256.76,285.486 2232.76,285.486 2232.76,248.204 \"/>\n",
       "</svg>\n"
      ]
     },
     "metadata": {},
     "output_type": "display_data"
    }
   ],
   "source": [
    "# Plot the entanglement entropy for bonds separating system + ancilla pairs:\n",
    "gr()\n",
    "S = reduce(vcat,transpose.(SvN))[:,2:2:(2*N)]\n",
    "heatmap(1:N, times, S, c = :heat, left_margin=20px, top_margin = 20px)\n",
    "ylabel!(\"Time t\")\n",
    "xlabel!(\"Site Index\")\n",
    "title!(\"\\n Entanglement Entropy Separating System and Ancilla\")\n",
    "# a = 1\n",
    "# sites_arr = range(1,N,step = 1)\n",
    "# sites_arr = collect(sites_arr)\n",
    "# v = J*sqrt(1-Δ^2)\n",
    "# time_arr = collect(LinRange(0,T, N))\n",
    "# x_τ = a.*(sites_arr.-N)/v.*time_arr\n",
    "# plot!(time_arr, x_τ)"
   ]
  },
  {
   "cell_type": "code",
   "execution_count": 51,
   "id": "db880d05",
   "metadata": {},
   "outputs": [
    {
     "data": {
      "image/png": "[encoded data removed]",
      "image/svg+xml": [
       "<?xml version=\"1.0\" encoding=\"utf-8\"?>\n",
       "<svg xmlns=\"http://www.w3.org/2000/svg\" xmlns:xlink=\"http://www.w3.org/1999/xlink\" width=\"600\" height=\"400\" viewBox=\"0 0 2400 1600\">\n",
       "<defs>\n",
       "  <clipPath id=\"clip580\">\n",
       "    <rect x=\"0\" y=\"0\" width=\"2400\" height=\"1600\"/>\n",
       "  </clipPath>\n",
       "</defs>\n",
       "<path clip-path=\"url(#clip580)\" d=\"M0 1600 L2400 1600 L2400 0 L0 0  Z\" fill=\"#ffffff\" fill-rule=\"evenodd\" fill-opacity=\"1\"/>\n",
       "<defs>\n",
       "  <clipPath id=\"clip581\">\n",
       "    <rect x=\"480\" y=\"0\" width=\"1681\" height=\"1600\"/>\n",
       "  </clipPath>\n",
       "</defs>\n",
       "<path clip-path=\"url(#clip580)\" d=\"M239.697 1423.18 L2112.76 1423.18 L2112.76 248.204 L239.697 248.204  Z\" fill=\"#ffffff\" fill-rule=\"evenodd\" fill-opacity=\"1\"/>\n",
       "<defs>\n",
       "  <clipPath id=\"clip582\">\n",
       "    <rect x=\"239\" y=\"248\" width=\"1874\" height=\"1176\"/>\n",
       "  </clipPath>\n",
       "</defs>\n",
       "<polyline clip-path=\"url(#clip582)\" style=\"stroke:#000000; stroke-linecap:round; stroke-linejoin:round; stroke-width:2; stroke-opacity:0.1; fill:none\" points=\"641.067,1423.18 641.067,248.204 \"/>\n",
       "<polyline clip-path=\"url(#clip582)\" style=\"stroke:#000000; stroke-linecap:round; stroke-linejoin:round; stroke-width:2; stroke-opacity:0.1; fill:none\" points=\"1087.03,1423.18 1087.03,248.204 \"/>\n",
       "<polyline clip-path=\"url(#clip582)\" style=\"stroke:#000000; stroke-linecap:round; stroke-linejoin:round; stroke-width:2; stroke-opacity:0.1; fill:none\" points=\"1533,1423.18 1533,248.204 \"/>\n",
       "<polyline clip-path=\"url(#clip582)\" style=\"stroke:#000000; stroke-linecap:round; stroke-linejoin:round; stroke-width:2; stroke-opacity:0.1; fill:none\" points=\"1978.97,1423.18 1978.97,248.204 \"/>\n",
       "<polyline clip-path=\"url(#clip580)\" style=\"stroke:#000000; stroke-linecap:round; stroke-linejoin:round; stroke-width:4; stroke-opacity:1; fill:none\" points=\"239.697,1423.18 2112.76,1423.18 \"/>\n",
       "<polyline clip-path=\"url(#clip580)\" style=\"stroke:#000000; stroke-linecap:round; stroke-linejoin:round; stroke-width:4; stroke-opacity:1; fill:none\" points=\"641.067,1423.18 641.067,1404.28 \"/>\n",
       "<polyline clip-path=\"url(#clip580)\" style=\"stroke:#000000; stroke-linecap:round; stroke-linejoin:round; stroke-width:4; stroke-opacity:1; fill:none\" points=\"1087.03,1423.18 1087.03,1404.28 \"/>\n",
       "<polyline clip-path=\"url(#clip580)\" style=\"stroke:#000000; stroke-linecap:round; stroke-linejoin:round; stroke-width:4; stroke-opacity:1; fill:none\" points=\"1533,1423.18 1533,1404.28 \"/>\n",
       "<polyline clip-path=\"url(#clip580)\" style=\"stroke:#000000; stroke-linecap:round; stroke-linejoin:round; stroke-width:4; stroke-opacity:1; fill:none\" points=\"1978.97,1423.18 1978.97,1404.28 \"/>\n",
       "<path clip-path=\"url(#clip580)\" d=\"M631.345 1451.02 L649.701 1451.02 L649.701 1454.96 L635.627 1454.96 L635.627 1463.43 Q636.646 1463.08 637.664 1462.92 Q638.683 1462.73 639.701 1462.73 Q645.488 1462.73 648.868 1465.9 Q652.247 1469.08 652.247 1474.49 Q652.247 1480.07 648.775 1483.17 Q645.303 1486.25 638.984 1486.25 Q636.808 1486.25 634.539 1485.88 Q632.294 1485.51 629.886 1484.77 L629.886 1480.07 Q631.97 1481.2 634.192 1481.76 Q636.414 1482.32 638.891 1482.32 Q642.896 1482.32 645.234 1480.21 Q647.571 1478.1 647.571 1474.49 Q647.571 1470.88 645.234 1468.77 Q642.896 1466.67 638.891 1466.67 Q637.016 1466.67 635.141 1467.08 Q633.289 1467.5 631.345 1468.38 L631.345 1451.02 Z\" fill=\"#000000\" fill-rule=\"nonzero\" fill-opacity=\"1\" /><path clip-path=\"url(#clip580)\" d=\"M1061.72 1481.64 L1069.36 1481.64 L1069.36 1455.28 L1061.05 1456.95 L1061.05 1452.69 L1069.31 1451.02 L1073.99 1451.02 L1073.99 1481.64 L1081.63 1481.64 L1081.63 1485.58 L1061.72 1485.58 L1061.72 1481.64 Z\" fill=\"#000000\" fill-rule=\"nonzero\" fill-opacity=\"1\" /><path clip-path=\"url(#clip580)\" d=\"M1101.07 1454.1 Q1097.46 1454.1 1095.63 1457.66 Q1093.83 1461.2 1093.83 1468.33 Q1093.83 1475.44 1095.63 1479.01 Q1097.46 1482.55 1101.07 1482.55 Q1104.71 1482.55 1106.51 1479.01 Q1108.34 1475.44 1108.34 1468.33 Q1108.34 1461.2 1106.51 1457.66 Q1104.71 1454.1 1101.07 1454.1 M1101.07 1450.39 Q1106.88 1450.39 1109.94 1455 Q1113.02 1459.58 1113.02 1468.33 Q1113.02 1477.06 1109.94 1481.67 Q1106.88 1486.25 1101.07 1486.25 Q1095.26 1486.25 1092.18 1481.67 Q1089.13 1477.06 1089.13 1468.33 Q1089.13 1459.58 1092.18 1455 Q1095.26 1450.39 1101.07 1450.39 Z\" fill=\"#000000\" fill-rule=\"nonzero\" fill-opacity=\"1\" /><path clip-path=\"url(#clip580)\" d=\"M1508.18 1481.64 L1515.82 1481.64 L1515.82 1455.28 L1507.51 1456.95 L1507.51 1452.69 L1515.78 1451.02 L1520.45 1451.02 L1520.45 1481.64 L1528.09 1481.64 L1528.09 1485.58 L1508.18 1485.58 L1508.18 1481.64 Z\" fill=\"#000000\" fill-rule=\"nonzero\" fill-opacity=\"1\" /><path clip-path=\"url(#clip580)\" d=\"M1537.58 1451.02 L1555.94 1451.02 L1555.94 1454.96 L1541.87 1454.96 L1541.87 1463.43 Q1542.88 1463.08 1543.9 1462.92 Q1544.92 1462.73 1545.94 1462.73 Q1551.73 1462.73 1555.11 1465.9 Q1558.49 1469.08 1558.49 1474.49 Q1558.49 1480.07 1555.01 1483.17 Q1551.54 1486.25 1545.22 1486.25 Q1543.05 1486.25 1540.78 1485.88 Q1538.53 1485.51 1536.12 1484.77 L1536.12 1480.07 Q1538.21 1481.2 1540.43 1481.76 Q1542.65 1482.32 1545.13 1482.32 Q1549.13 1482.32 1551.47 1480.21 Q1553.81 1478.1 1553.81 1474.49 Q1553.81 1470.88 1551.47 1468.77 Q1549.13 1466.67 1545.13 1466.67 Q1543.25 1466.67 1541.38 1467.08 Q1539.53 1467.5 1537.58 1468.38 L1537.58 1451.02 Z\" fill=\"#000000\" fill-rule=\"nonzero\" fill-opacity=\"1\" /><path clip-path=\"url(#clip580)\" d=\"M1957.74 1481.64 L1974.06 1481.64 L1974.06 1485.58 L1952.11 1485.58 L1952.11 1481.64 Q1954.78 1478.89 1959.36 1474.26 Q1963.97 1469.61 1965.15 1468.27 Q1967.39 1465.74 1968.27 1464.01 Q1969.17 1462.25 1969.17 1460.56 Q1969.17 1457.8 1967.23 1456.07 Q1965.31 1454.33 1962.21 1454.33 Q1960.01 1454.33 1957.55 1455.09 Q1955.12 1455.86 1952.35 1457.41 L1952.35 1452.69 Q1955.17 1451.55 1957.62 1450.97 Q1960.08 1450.39 1962.11 1450.39 Q1967.48 1450.39 1970.68 1453.08 Q1973.87 1455.77 1973.87 1460.26 Q1973.87 1462.39 1973.06 1464.31 Q1972.28 1466.2 1970.17 1468.8 Q1969.59 1469.47 1966.49 1472.69 Q1963.39 1475.88 1957.74 1481.64 Z\" fill=\"#000000\" fill-rule=\"nonzero\" fill-opacity=\"1\" /><path clip-path=\"url(#clip580)\" d=\"M1993.87 1454.1 Q1990.26 1454.1 1988.43 1457.66 Q1986.63 1461.2 1986.63 1468.33 Q1986.63 1475.44 1988.43 1479.01 Q1990.26 1482.55 1993.87 1482.55 Q1997.51 1482.55 1999.31 1479.01 Q2001.14 1475.44 2001.14 1468.33 Q2001.14 1461.2 1999.31 1457.66 Q1997.51 1454.1 1993.87 1454.1 M1993.87 1450.39 Q1999.68 1450.39 2002.74 1455 Q2005.82 1459.58 2005.82 1468.33 Q2005.82 1477.06 2002.74 1481.67 Q1999.68 1486.25 1993.87 1486.25 Q1988.06 1486.25 1984.98 1481.67 Q1981.93 1477.06 1981.93 1468.33 Q1981.93 1459.58 1984.98 1455 Q1988.06 1450.39 1993.87 1450.39 Z\" fill=\"#000000\" fill-rule=\"nonzero\" fill-opacity=\"1\" /><path clip-path=\"url(#clip580)\" d=\"M1047.37 1522.08 L1047.37 1528.35 Q1043.71 1526.6 1040.46 1525.74 Q1037.22 1524.88 1034.19 1524.88 Q1028.94 1524.88 1026.08 1526.92 Q1023.24 1528.96 1023.24 1532.71 Q1023.24 1535.87 1025.12 1537.49 Q1027.03 1539.08 1032.31 1540.07 L1036.2 1540.86 Q1043.39 1542.23 1046.8 1545.7 Q1050.23 1549.14 1050.23 1554.93 Q1050.23 1561.84 1045.59 1565.4 Q1040.97 1568.97 1032.03 1568.97 Q1028.65 1568.97 1024.83 1568.2 Q1021.05 1567.44 1016.97 1565.94 L1016.97 1559.32 Q1020.89 1561.52 1024.64 1562.63 Q1028.4 1563.75 1032.03 1563.75 Q1037.53 1563.75 1040.53 1561.58 Q1043.52 1559.42 1043.52 1555.41 Q1043.52 1551.91 1041.35 1549.93 Q1039.22 1547.96 1034.32 1546.97 L1030.4 1546.21 Q1023.21 1544.78 1020 1541.72 Q1016.78 1538.67 1016.78 1533.22 Q1016.78 1526.92 1021.21 1523.29 Q1025.66 1519.66 1033.46 1519.66 Q1036.8 1519.66 1040.27 1520.27 Q1043.74 1520.87 1047.37 1522.08 Z\" fill=\"#000000\" fill-rule=\"nonzero\" fill-opacity=\"1\" /><path clip-path=\"url(#clip580)\" d=\"M1060 1532.4 L1065.86 1532.4 L1065.86 1568.04 L1060 1568.04 L1060 1532.4 M1060 1518.52 L1065.86 1518.52 L1065.86 1525.93 L1060 1525.93 L1060 1518.52 Z\" fill=\"#000000\" fill-rule=\"nonzero\" fill-opacity=\"1\" /><path clip-path=\"url(#clip580)\" d=\"M1083.91 1522.27 L1083.91 1532.4 L1095.97 1532.4 L1095.97 1536.95 L1083.91 1536.95 L1083.91 1556.3 Q1083.91 1560.66 1085.09 1561.9 Q1086.3 1563.14 1089.96 1563.14 L1095.97 1563.14 L1095.97 1568.04 L1089.96 1568.04 Q1083.18 1568.04 1080.6 1565.53 Q1078.02 1562.98 1078.02 1556.3 L1078.02 1536.95 L1073.72 1536.95 L1073.72 1532.4 L1078.02 1532.4 L1078.02 1522.27 L1083.91 1522.27 Z\" fill=\"#000000\" fill-rule=\"nonzero\" fill-opacity=\"1\" /><path clip-path=\"url(#clip580)\" d=\"M1134.17 1548.76 L1134.17 1551.62 L1107.24 1551.62 Q1107.62 1557.67 1110.87 1560.85 Q1114.14 1564 1119.97 1564 Q1123.34 1564 1126.49 1563.17 Q1129.68 1562.35 1132.8 1560.69 L1132.8 1566.23 Q1129.65 1567.57 1126.34 1568.27 Q1123.03 1568.97 1119.62 1568.97 Q1111.09 1568.97 1106.09 1564 Q1101.13 1559.04 1101.13 1550.57 Q1101.13 1541.82 1105.84 1536.69 Q1110.58 1531.54 1118.6 1531.54 Q1125.79 1531.54 1129.96 1536.18 Q1134.17 1540.8 1134.17 1548.76 M1128.31 1547.04 Q1128.25 1542.23 1125.6 1539.37 Q1122.99 1536.5 1118.66 1536.5 Q1113.76 1536.5 1110.8 1539.27 Q1107.87 1542.04 1107.43 1547.07 L1128.31 1547.04 Z\" fill=\"#000000\" fill-rule=\"nonzero\" fill-opacity=\"1\" /><path clip-path=\"url(#clip580)\" d=\"M1164.75 1520.52 L1171.18 1520.52 L1171.18 1568.04 L1164.75 1568.04 L1164.75 1520.52 Z\" fill=\"#000000\" fill-rule=\"nonzero\" fill-opacity=\"1\" /><path clip-path=\"url(#clip580)\" d=\"M1213.35 1546.53 L1213.35 1568.04 L1207.5 1568.04 L1207.5 1546.72 Q1207.5 1541.66 1205.52 1539.14 Q1203.55 1536.63 1199.6 1536.63 Q1194.86 1536.63 1192.12 1539.65 Q1189.39 1542.68 1189.39 1547.9 L1189.39 1568.04 L1183.5 1568.04 L1183.5 1532.4 L1189.39 1532.4 L1189.39 1537.93 Q1191.49 1534.72 1194.32 1533.13 Q1197.19 1531.54 1200.91 1531.54 Q1207.05 1531.54 1210.2 1535.36 Q1213.35 1539.14 1213.35 1546.53 Z\" fill=\"#000000\" fill-rule=\"nonzero\" fill-opacity=\"1\" /><path clip-path=\"url(#clip580)\" d=\"M1248.49 1537.81 L1248.49 1518.52 L1254.35 1518.52 L1254.35 1568.04 L1248.49 1568.04 L1248.49 1562.7 Q1246.65 1565.88 1243.81 1567.44 Q1241.01 1568.97 1237.07 1568.97 Q1230.61 1568.97 1226.53 1563.81 Q1222.49 1558.65 1222.49 1550.25 Q1222.49 1541.85 1226.53 1536.69 Q1230.61 1531.54 1237.07 1531.54 Q1241.01 1531.54 1243.81 1533.1 Q1246.65 1534.62 1248.49 1537.81 M1228.54 1550.25 Q1228.54 1556.71 1231.18 1560.4 Q1233.85 1564.07 1238.5 1564.07 Q1243.15 1564.07 1245.82 1560.4 Q1248.49 1556.71 1248.49 1550.25 Q1248.49 1543.79 1245.82 1540.13 Q1243.15 1536.44 1238.5 1536.44 Q1233.85 1536.44 1231.18 1540.13 Q1228.54 1543.79 1228.54 1550.25 Z\" fill=\"#000000\" fill-rule=\"nonzero\" fill-opacity=\"1\" /><path clip-path=\"url(#clip580)\" d=\"M1296.9 1548.76 L1296.9 1551.62 L1269.98 1551.62 Q1270.36 1557.67 1273.61 1560.85 Q1276.88 1564 1282.71 1564 Q1286.08 1564 1289.23 1563.17 Q1292.42 1562.35 1295.54 1560.69 L1295.54 1566.23 Q1292.38 1567.57 1289.07 1568.27 Q1285.76 1568.97 1282.36 1568.97 Q1273.83 1568.97 1268.83 1564 Q1263.87 1559.04 1263.87 1550.57 Q1263.87 1541.82 1268.58 1536.69 Q1273.32 1531.54 1281.34 1531.54 Q1288.53 1531.54 1292.7 1536.18 Q1296.9 1540.8 1296.9 1548.76 M1291.05 1547.04 Q1290.98 1542.23 1288.34 1539.37 Q1285.73 1536.5 1281.4 1536.5 Q1276.5 1536.5 1273.54 1539.27 Q1270.61 1542.04 1270.17 1547.07 L1291.05 1547.04 Z\" fill=\"#000000\" fill-rule=\"nonzero\" fill-opacity=\"1\" /><path clip-path=\"url(#clip580)\" d=\"M1335 1532.4 L1322.11 1549.74 L1335.67 1568.04 L1328.76 1568.04 L1318.39 1554.04 L1308.01 1568.04 L1301.11 1568.04 L1314.95 1549.39 L1302.28 1532.4 L1309.19 1532.4 L1318.64 1545.1 L1328.1 1532.4 L1335 1532.4 Z\" fill=\"#000000\" fill-rule=\"nonzero\" fill-opacity=\"1\" /><polyline clip-path=\"url(#clip582)\" style=\"stroke:#000000; stroke-linecap:round; stroke-linejoin:round; stroke-width:2; stroke-opacity:0.1; fill:none\" points=\"239.697,1194.06 2112.76,1194.06 \"/>\n",
       "<polyline clip-path=\"url(#clip582)\" style=\"stroke:#000000; stroke-linecap:round; stroke-linejoin:round; stroke-width:2; stroke-opacity:0.1; fill:none\" points=\"239.697,959.064 2112.76,959.064 \"/>\n",
       "<polyline clip-path=\"url(#clip582)\" style=\"stroke:#000000; stroke-linecap:round; stroke-linejoin:round; stroke-width:2; stroke-opacity:0.1; fill:none\" points=\"239.697,724.069 2112.76,724.069 \"/>\n",
       "<polyline clip-path=\"url(#clip582)\" style=\"stroke:#000000; stroke-linecap:round; stroke-linejoin:round; stroke-width:2; stroke-opacity:0.1; fill:none\" points=\"239.697,489.074 2112.76,489.074 \"/>\n",
       "<polyline clip-path=\"url(#clip582)\" style=\"stroke:#000000; stroke-linecap:round; stroke-linejoin:round; stroke-width:2; stroke-opacity:0.1; fill:none\" points=\"239.697,254.079 2112.76,254.079 \"/>\n",
       "<polyline clip-path=\"url(#clip580)\" style=\"stroke:#000000; stroke-linecap:round; stroke-linejoin:round; stroke-width:4; stroke-opacity:1; fill:none\" points=\"239.697,1423.18 239.697,248.204 \"/>\n",
       "<polyline clip-path=\"url(#clip580)\" style=\"stroke:#000000; stroke-linecap:round; stroke-linejoin:round; stroke-width:4; stroke-opacity:1; fill:none\" points=\"239.697,1194.06 256.448,1194.06 \"/>\n",
       "<polyline clip-path=\"url(#clip580)\" style=\"stroke:#000000; stroke-linecap:round; stroke-linejoin:round; stroke-width:4; stroke-opacity:1; fill:none\" points=\"239.697,959.064 256.448,959.064 \"/>\n",
       "<polyline clip-path=\"url(#clip580)\" style=\"stroke:#000000; stroke-linecap:round; stroke-linejoin:round; stroke-width:4; stroke-opacity:1; fill:none\" points=\"239.697,724.069 256.448,724.069 \"/>\n",
       "<polyline clip-path=\"url(#clip580)\" style=\"stroke:#000000; stroke-linecap:round; stroke-linejoin:round; stroke-width:4; stroke-opacity:1; fill:none\" points=\"239.697,489.074 256.448,489.074 \"/>\n",
       "<polyline clip-path=\"url(#clip580)\" style=\"stroke:#000000; stroke-linecap:round; stroke-linejoin:round; stroke-width:4; stroke-opacity:1; fill:none\" points=\"239.697,254.079 256.448,254.079 \"/>\n",
       "<path clip-path=\"url(#clip580)\" d=\"M183.79 1207.4 L191.429 1207.4 L191.429 1181.04 L183.119 1182.71 L183.119 1178.45 L191.382 1176.78 L196.058 1176.78 L196.058 1207.4 L203.697 1207.4 L203.697 1211.34 L183.79 1211.34 L183.79 1207.4 Z\" fill=\"#000000\" fill-rule=\"nonzero\" fill-opacity=\"1\" /><path clip-path=\"url(#clip580)\" d=\"M187.378 972.409 L203.697 972.409 L203.697 976.344 L181.753 976.344 L181.753 972.409 Q184.415 969.655 188.998 965.025 Q193.605 960.372 194.785 959.03 Q197.031 956.507 197.91 954.77 Q198.813 953.011 198.813 951.321 Q198.813 948.567 196.869 946.831 Q194.947 945.095 191.845 945.095 Q189.646 945.095 187.193 945.858 Q184.762 946.622 181.984 948.173 L181.984 943.451 Q184.808 942.317 187.262 941.738 Q189.716 941.159 191.753 941.159 Q197.123 941.159 200.318 943.845 Q203.512 946.53 203.512 951.02 Q203.512 953.15 202.702 955.071 Q201.915 956.97 199.808 959.562 Q199.23 960.233 196.128 963.451 Q193.026 966.645 187.378 972.409 Z\" fill=\"#000000\" fill-rule=\"nonzero\" fill-opacity=\"1\" /><path clip-path=\"url(#clip580)\" d=\"M196.568 722.715 Q199.924 723.433 201.799 725.701 Q203.697 727.97 203.697 731.303 Q203.697 736.419 200.179 739.22 Q196.66 742.021 190.179 742.021 Q188.003 742.021 185.688 741.581 Q183.396 741.164 180.943 740.308 L180.943 735.794 Q182.887 736.928 185.202 737.507 Q187.517 738.085 190.04 738.085 Q194.438 738.085 196.73 736.349 Q199.044 734.613 199.044 731.303 Q199.044 728.247 196.892 726.535 Q194.762 724.798 190.943 724.798 L186.915 724.798 L186.915 720.956 L191.128 720.956 Q194.577 720.956 196.406 719.59 Q198.234 718.201 198.234 715.609 Q198.234 712.947 196.336 711.535 Q194.461 710.099 190.943 710.099 Q189.021 710.099 186.822 710.516 Q184.623 710.933 181.984 711.812 L181.984 707.646 Q184.646 706.905 186.961 706.535 Q189.299 706.164 191.359 706.164 Q196.683 706.164 199.785 708.595 Q202.887 711.002 202.887 715.123 Q202.887 717.993 201.243 719.984 Q199.6 721.951 196.568 722.715 Z\" fill=\"#000000\" fill-rule=\"nonzero\" fill-opacity=\"1\" /><path clip-path=\"url(#clip580)\" d=\"M194.114 475.868 L182.308 494.317 L194.114 494.317 L194.114 475.868 M192.887 471.794 L198.767 471.794 L198.767 494.317 L203.697 494.317 L203.697 498.206 L198.767 498.206 L198.767 506.354 L194.114 506.354 L194.114 498.206 L178.512 498.206 L178.512 493.692 L192.887 471.794 Z\" fill=\"#000000\" fill-rule=\"nonzero\" fill-opacity=\"1\" /><path clip-path=\"url(#clip580)\" d=\"M182.795 236.799 L201.151 236.799 L201.151 240.734 L187.077 240.734 L187.077 249.206 Q188.095 248.859 189.114 248.697 Q190.132 248.512 191.151 248.512 Q196.938 248.512 200.318 251.683 Q203.697 254.854 203.697 260.271 Q203.697 265.85 200.225 268.952 Q196.753 272.03 190.433 272.03 Q188.257 272.03 185.989 271.66 Q183.744 271.29 181.336 270.549 L181.336 265.85 Q183.42 266.984 185.642 267.54 Q187.864 268.095 190.341 268.095 Q194.345 268.095 196.683 265.989 Q199.021 263.882 199.021 260.271 Q199.021 256.66 196.683 254.554 Q194.345 252.447 190.341 252.447 Q188.466 252.447 186.591 252.864 Q184.739 253.28 182.795 254.16 L182.795 236.799 Z\" fill=\"#000000\" fill-rule=\"nonzero\" fill-opacity=\"1\" /><path clip-path=\"url(#clip580)\" d=\"M80.7361 937.909 L80.7361 897.71 L86.147 897.71 L86.147 914.579 L128.256 914.579 L128.256 921.04 L86.147 921.04 L86.147 937.909 L80.7361 937.909 Z\" fill=\"#000000\" fill-rule=\"nonzero\" fill-opacity=\"1\" /><path clip-path=\"url(#clip580)\" d=\"M92.6082 893.763 L92.6082 887.907 L128.256 887.907 L128.256 893.763 L92.6082 893.763 M78.7309 893.763 L78.7309 887.907 L86.147 887.907 L86.147 893.763 L78.7309 893.763 Z\" fill=\"#000000\" fill-rule=\"nonzero\" fill-opacity=\"1\" /><path clip-path=\"url(#clip580)\" d=\"M99.4513 847.898 Q95.5046 845.702 93.6267 842.647 Q91.7488 839.591 91.7488 835.453 Q91.7488 829.883 95.6637 826.86 Q99.5468 823.836 106.74 823.836 L128.256 823.836 L128.256 829.724 L106.931 829.724 Q101.807 829.724 99.324 831.538 Q96.8414 833.353 96.8414 837.077 Q96.8414 841.628 99.8651 844.27 Q102.889 846.912 108.109 846.912 L128.256 846.912 L128.256 852.8 L106.931 852.8 Q101.775 852.8 99.324 854.614 Q96.8414 856.428 96.8414 860.216 Q96.8414 864.704 99.8969 867.345 Q102.921 869.987 108.109 869.987 L128.256 869.987 L128.256 875.875 L92.6082 875.875 L92.6082 869.987 L98.1463 869.987 Q94.868 867.982 93.3084 865.181 Q91.7488 862.38 91.7488 858.529 Q91.7488 854.646 93.7222 851.94 Q95.6955 849.203 99.4513 847.898 Z\" fill=\"#000000\" fill-rule=\"nonzero\" fill-opacity=\"1\" /><path clip-path=\"url(#clip580)\" d=\"M108.968 781.663 L111.833 781.663 L111.833 808.59 Q117.88 808.208 121.063 804.962 Q124.214 801.683 124.214 795.859 Q124.214 792.485 123.386 789.334 Q122.559 786.151 120.904 783.032 L126.442 783.032 Q127.779 786.183 128.479 789.493 Q129.179 792.803 129.179 796.209 Q129.179 804.739 124.214 809.736 Q119.249 814.701 110.782 814.701 Q102.029 814.701 96.905 809.99 Q91.7488 805.248 91.7488 797.227 Q91.7488 790.034 96.3958 785.864 Q101.011 781.663 108.968 781.663 M107.249 787.519 Q102.443 787.583 99.5786 790.225 Q96.714 792.835 96.714 797.164 Q96.714 802.065 99.4831 805.025 Q102.252 807.953 107.281 808.399 L107.249 787.519 Z\" fill=\"#000000\" fill-rule=\"nonzero\" fill-opacity=\"1\" /><path clip-path=\"url(#clip580)\" d=\"M82.4867 745.538 L92.6082 745.538 L92.6082 733.475 L97.1596 733.475 L97.1596 745.538 L116.511 745.538 Q120.872 745.538 122.113 744.36 Q123.355 743.151 123.355 739.49 L123.355 733.475 L128.256 733.475 L128.256 739.49 Q128.256 746.27 125.742 748.848 Q123.195 751.426 116.511 751.426 L97.1596 751.426 L97.1596 755.723 L92.6082 755.723 L92.6082 751.426 L82.4867 751.426 L82.4867 745.538 Z\" fill=\"#000000\" fill-rule=\"nonzero\" fill-opacity=\"1\" /><path clip-path=\"url(#clip580)\" d=\"M130.202 123.984 L168.443 123.984 L168.443 130.871 L138.385 130.871 L138.385 148.776 L167.187 148.776 L167.187 155.662 L138.385 155.662 L138.385 177.577 L169.172 177.577 L169.172 184.464 L130.202 184.464 L130.202 123.984 Z\" fill=\"#000000\" fill-rule=\"nonzero\" fill-opacity=\"1\" /><path clip-path=\"url(#clip580)\" d=\"M220.011 157.08 L220.011 184.464 L212.557 184.464 L212.557 157.323 Q212.557 150.882 210.045 147.682 Q207.534 144.482 202.511 144.482 Q196.475 144.482 192.991 148.33 Q189.507 152.178 189.507 158.822 L189.507 184.464 L182.013 184.464 L182.013 139.094 L189.507 139.094 L189.507 146.142 Q192.181 142.051 195.786 140.026 Q199.432 138 204.172 138 Q211.99 138 216 142.861 Q220.011 147.682 220.011 157.08 Z\" fill=\"#000000\" fill-rule=\"nonzero\" fill-opacity=\"1\" /><path clip-path=\"url(#clip580)\" d=\"M242.25 126.212 L242.25 139.094 L257.603 139.094 L257.603 144.887 L242.25 144.887 L242.25 169.516 Q242.25 175.066 243.749 176.646 Q245.288 178.226 249.947 178.226 L257.603 178.226 L257.603 184.464 L249.947 184.464 Q241.318 184.464 238.037 181.264 Q234.756 178.023 234.756 169.516 L234.756 144.887 L229.287 144.887 L229.287 139.094 L234.756 139.094 L234.756 126.212 L242.25 126.212 Z\" fill=\"#000000\" fill-rule=\"nonzero\" fill-opacity=\"1\" /><path clip-path=\"url(#clip580)\" d=\"M288.025 161.657 Q278.992 161.657 275.508 163.723 Q272.024 165.789 272.024 170.772 Q272.024 174.742 274.617 177.091 Q277.25 179.4 281.746 179.4 Q287.944 179.4 291.671 175.025 Q295.438 170.61 295.438 163.318 L295.438 161.657 L288.025 161.657 M302.892 158.579 L302.892 184.464 L295.438 184.464 L295.438 177.577 Q292.886 181.709 289.079 183.694 Q285.271 185.639 279.761 185.639 Q272.794 185.639 268.662 181.75 Q264.571 177.821 264.571 171.258 Q264.571 163.602 269.675 159.713 Q274.819 155.824 284.987 155.824 L295.438 155.824 L295.438 155.095 Q295.438 149.95 292.036 147.155 Q288.673 144.32 282.557 144.32 Q278.668 144.32 274.981 145.251 Q271.295 146.183 267.892 148.046 L267.892 141.16 Q271.984 139.58 275.832 138.81 Q279.68 138 283.326 138 Q293.17 138 298.031 143.104 Q302.892 148.208 302.892 158.579 Z\" fill=\"#000000\" fill-rule=\"nonzero\" fill-opacity=\"1\" /><path clip-path=\"url(#clip580)\" d=\"M355.959 157.08 L355.959 184.464 L348.505 184.464 L348.505 157.323 Q348.505 150.882 345.994 147.682 Q343.482 144.482 338.459 144.482 Q332.423 144.482 328.939 148.33 Q325.456 152.178 325.456 158.822 L325.456 184.464 L317.961 184.464 L317.961 139.094 L325.456 139.094 L325.456 146.142 Q328.129 142.051 331.735 140.026 Q335.38 138 340.12 138 Q347.938 138 351.949 142.861 Q355.959 147.682 355.959 157.08 Z\" fill=\"#000000\" fill-rule=\"nonzero\" fill-opacity=\"1\" /><path clip-path=\"url(#clip580)\" d=\"M400.681 161.252 Q400.681 153.151 397.319 148.695 Q393.997 144.239 387.961 144.239 Q381.966 144.239 378.604 148.695 Q375.282 153.151 375.282 161.252 Q375.282 169.314 378.604 173.77 Q381.966 178.226 387.961 178.226 Q393.997 178.226 397.319 173.77 Q400.681 169.314 400.681 161.252 M408.135 178.833 Q408.135 190.419 402.99 196.05 Q397.845 201.721 387.232 201.721 Q383.303 201.721 379.819 201.113 Q376.335 200.546 373.054 199.331 L373.054 192.08 Q376.335 193.862 379.535 194.713 Q382.735 195.563 386.057 195.563 Q393.389 195.563 397.035 191.715 Q400.681 187.907 400.681 180.17 L400.681 176.484 Q398.372 180.494 394.767 182.479 Q391.161 184.464 386.138 184.464 Q377.793 184.464 372.689 178.104 Q367.585 171.744 367.585 161.252 Q367.585 150.72 372.689 144.36 Q377.793 138 386.138 138 Q391.161 138 394.767 139.985 Q398.372 141.97 400.681 145.98 L400.681 139.094 L408.135 139.094 L408.135 178.833 Z\" fill=\"#000000\" fill-rule=\"nonzero\" fill-opacity=\"1\" /><path clip-path=\"url(#clip580)\" d=\"M423.488 121.432 L430.941 121.432 L430.941 184.464 L423.488 184.464 L423.488 121.432 Z\" fill=\"#000000\" fill-rule=\"nonzero\" fill-opacity=\"1\" /><path clip-path=\"url(#clip580)\" d=\"M485.345 159.916 L485.345 163.561 L451.074 163.561 Q451.56 171.258 455.692 175.309 Q459.865 179.319 467.278 179.319 Q471.572 179.319 475.582 178.266 Q479.633 177.213 483.603 175.106 L483.603 182.155 Q479.593 183.856 475.38 184.748 Q471.167 185.639 466.832 185.639 Q455.976 185.639 449.616 179.319 Q443.296 173 443.296 162.225 Q443.296 151.085 449.292 144.563 Q455.328 138 465.536 138 Q474.691 138 479.998 143.914 Q485.345 149.788 485.345 159.916 M477.891 157.728 Q477.81 151.611 474.448 147.965 Q471.126 144.32 465.617 144.32 Q459.379 144.32 455.611 147.844 Q451.884 151.368 451.317 157.769 L477.891 157.728 Z\" fill=\"#000000\" fill-rule=\"nonzero\" fill-opacity=\"1\" /><path clip-path=\"url(#clip580)\" d=\"M532.902 147.803 Q535.698 142.78 539.586 140.39 Q543.475 138 548.741 138 Q555.831 138 559.679 142.983 Q563.527 147.925 563.527 157.08 L563.527 184.464 L556.033 184.464 L556.033 157.323 Q556.033 150.801 553.724 147.641 Q551.415 144.482 546.676 144.482 Q540.883 144.482 537.52 148.33 Q534.158 152.178 534.158 158.822 L534.158 184.464 L526.664 184.464 L526.664 157.323 Q526.664 150.76 524.355 147.641 Q522.046 144.482 517.225 144.482 Q511.514 144.482 508.151 148.37 Q504.789 152.219 504.789 158.822 L504.789 184.464 L497.295 184.464 L497.295 139.094 L504.789 139.094 L504.789 146.142 Q507.341 141.97 510.906 139.985 Q514.471 138 519.372 138 Q524.315 138 527.758 140.512 Q531.242 143.023 532.902 147.803 Z\" fill=\"#000000\" fill-rule=\"nonzero\" fill-opacity=\"1\" /><path clip-path=\"url(#clip580)\" d=\"M617.202 159.916 L617.202 163.561 L582.931 163.561 Q583.417 171.258 587.549 175.309 Q591.722 179.319 599.135 179.319 Q603.429 179.319 607.439 178.266 Q611.49 177.213 615.46 175.106 L615.46 182.155 Q611.449 183.856 607.237 184.748 Q603.024 185.639 598.689 185.639 Q587.833 185.639 581.473 179.319 Q575.153 173 575.153 162.225 Q575.153 151.085 581.149 144.563 Q587.185 138 597.393 138 Q606.548 138 611.855 143.914 Q617.202 149.788 617.202 159.916 M609.748 157.728 Q609.667 151.611 606.305 147.965 Q602.983 144.32 597.474 144.32 Q591.235 144.32 587.468 147.844 Q583.741 151.368 583.174 157.769 L609.748 157.728 Z\" fill=\"#000000\" fill-rule=\"nonzero\" fill-opacity=\"1\" /><path clip-path=\"url(#clip580)\" d=\"M667.149 157.08 L667.149 184.464 L659.696 184.464 L659.696 157.323 Q659.696 150.882 657.184 147.682 Q654.673 144.482 649.65 144.482 Q643.614 144.482 640.13 148.33 Q636.646 152.178 636.646 158.822 L636.646 184.464 L629.152 184.464 L629.152 139.094 L636.646 139.094 L636.646 146.142 Q639.32 142.051 642.925 140.026 Q646.571 138 651.31 138 Q659.129 138 663.139 142.861 Q667.149 147.682 667.149 157.08 Z\" fill=\"#000000\" fill-rule=\"nonzero\" fill-opacity=\"1\" /><path clip-path=\"url(#clip580)\" d=\"M689.389 126.212 L689.389 139.094 L704.742 139.094 L704.742 144.887 L689.389 144.887 L689.389 169.516 Q689.389 175.066 690.888 176.646 Q692.427 178.226 697.086 178.226 L704.742 178.226 L704.742 184.464 L697.086 184.464 Q688.457 184.464 685.176 181.264 Q681.895 178.023 681.895 169.516 L681.895 144.887 L676.426 144.887 L676.426 139.094 L681.895 139.094 L681.895 126.212 L689.389 126.212 Z\" fill=\"#000000\" fill-rule=\"nonzero\" fill-opacity=\"1\" /><path clip-path=\"url(#clip580)\" d=\"M741.24 123.984 L779.481 123.984 L779.481 130.871 L749.423 130.871 L749.423 148.776 L778.225 148.776 L778.225 155.662 L749.423 155.662 L749.423 177.577 L780.21 177.577 L780.21 184.464 L741.24 184.464 L741.24 123.984 Z\" fill=\"#000000\" fill-rule=\"nonzero\" fill-opacity=\"1\" /><path clip-path=\"url(#clip580)\" d=\"M831.049 157.08 L831.049 184.464 L823.595 184.464 L823.595 157.323 Q823.595 150.882 821.084 147.682 Q818.572 144.482 813.549 144.482 Q807.513 144.482 804.029 148.33 Q800.546 152.178 800.546 158.822 L800.546 184.464 L793.052 184.464 L793.052 139.094 L800.546 139.094 L800.546 146.142 Q803.219 142.051 806.825 140.026 Q810.47 138 815.21 138 Q823.028 138 827.039 142.861 Q831.049 147.682 831.049 157.08 Z\" fill=\"#000000\" fill-rule=\"nonzero\" fill-opacity=\"1\" /><path clip-path=\"url(#clip580)\" d=\"M853.288 126.212 L853.288 139.094 L868.641 139.094 L868.641 144.887 L853.288 144.887 L853.288 169.516 Q853.288 175.066 854.787 176.646 Q856.327 178.226 860.985 178.226 L868.641 178.226 L868.641 184.464 L860.985 184.464 Q852.357 184.464 849.076 181.264 Q845.794 178.023 845.794 169.516 L845.794 144.887 L840.326 144.887 L840.326 139.094 L845.794 139.094 L845.794 126.212 L853.288 126.212 Z\" fill=\"#000000\" fill-rule=\"nonzero\" fill-opacity=\"1\" /><path clip-path=\"url(#clip580)\" d=\"M904.735 146.061 Q903.479 145.332 901.98 145.008 Q900.522 144.644 898.74 144.644 Q892.42 144.644 889.017 148.776 Q885.655 152.867 885.655 160.564 L885.655 184.464 L878.161 184.464 L878.161 139.094 L885.655 139.094 L885.655 146.142 Q888.005 142.011 891.772 140.026 Q895.539 138 900.927 138 Q901.697 138 902.628 138.122 Q903.56 138.203 904.694 138.405 L904.735 146.061 Z\" fill=\"#000000\" fill-rule=\"nonzero\" fill-opacity=\"1\" /><path clip-path=\"url(#clip580)\" d=\"M928.311 144.32 Q922.316 144.32 918.832 149.019 Q915.348 153.677 915.348 161.819 Q915.348 169.962 918.792 174.661 Q922.275 179.319 928.311 179.319 Q934.266 179.319 937.75 174.62 Q941.234 169.921 941.234 161.819 Q941.234 153.758 937.75 149.059 Q934.266 144.32 928.311 144.32 M928.311 138 Q938.033 138 943.583 144.32 Q949.133 150.639 949.133 161.819 Q949.133 172.959 943.583 179.319 Q938.033 185.639 928.311 185.639 Q918.549 185.639 912.999 179.319 Q907.49 172.959 907.49 161.819 Q907.49 150.639 912.999 144.32 Q918.549 138 928.311 138 Z\" fill=\"#000000\" fill-rule=\"nonzero\" fill-opacity=\"1\" /><path clip-path=\"url(#clip580)\" d=\"M968.699 177.658 L968.699 201.721 L961.205 201.721 L961.205 139.094 L968.699 139.094 L968.699 145.98 Q971.048 141.93 974.613 139.985 Q978.218 138 983.201 138 Q991.465 138 996.609 144.563 Q1001.79 151.125 1001.79 161.819 Q1001.79 172.514 996.609 179.076 Q991.465 185.639 983.201 185.639 Q978.218 185.639 974.613 183.694 Q971.048 181.709 968.699 177.658 M994.057 161.819 Q994.057 153.596 990.655 148.938 Q987.292 144.239 981.378 144.239 Q975.464 144.239 972.061 148.938 Q968.699 153.596 968.699 161.819 Q968.699 170.043 972.061 174.742 Q975.464 179.4 981.378 179.4 Q987.292 179.4 990.655 174.742 Q994.057 170.043 994.057 161.819 Z\" fill=\"#000000\" fill-rule=\"nonzero\" fill-opacity=\"1\" /><path clip-path=\"url(#clip580)\" d=\"M1033.03 188.677 Q1029.87 196.779 1026.87 199.25 Q1023.87 201.721 1018.85 201.721 L1012.89 201.721 L1012.89 195.482 L1017.27 195.482 Q1020.35 195.482 1022.05 194.024 Q1023.75 192.566 1025.82 187.138 L1027.15 183.735 L1008.8 139.094 L1016.7 139.094 L1030.88 174.58 L1045.06 139.094 L1052.96 139.094 L1033.03 188.677 Z\" fill=\"#000000\" fill-rule=\"nonzero\" fill-opacity=\"1\" /><path clip-path=\"url(#clip580)\" d=\"M1098.13 155.581 L1098.13 177.739 L1111.25 177.739 Q1117.85 177.739 1121.01 175.025 Q1124.21 172.271 1124.21 166.64 Q1124.21 160.969 1121.01 158.295 Q1117.85 155.581 1111.25 155.581 L1098.13 155.581 M1098.13 130.709 L1098.13 148.938 L1110.24 148.938 Q1116.23 148.938 1119.15 146.71 Q1122.11 144.441 1122.11 139.823 Q1122.11 135.246 1119.15 132.977 Q1116.23 130.709 1110.24 130.709 L1098.13 130.709 M1089.94 123.984 L1110.84 123.984 Q1120.2 123.984 1125.27 127.873 Q1130.33 131.762 1130.33 138.932 Q1130.33 144.482 1127.74 147.763 Q1125.14 151.044 1120.12 151.854 Q1126.16 153.151 1129.48 157.282 Q1132.84 161.374 1132.84 167.531 Q1132.84 175.633 1127.33 180.049 Q1121.82 184.464 1111.66 184.464 L1089.94 184.464 L1089.94 123.984 Z\" fill=\"#000000\" fill-rule=\"nonzero\" fill-opacity=\"1\" /><path clip-path=\"url(#clip580)\" d=\"M1185.34 159.916 L1185.34 163.561 L1151.07 163.561 Q1151.56 171.258 1155.69 175.309 Q1159.86 179.319 1167.27 179.319 Q1171.57 179.319 1175.58 178.266 Q1179.63 177.213 1183.6 175.106 L1183.6 182.155 Q1179.59 183.856 1175.38 184.748 Q1171.16 185.639 1166.83 185.639 Q1155.97 185.639 1149.61 179.319 Q1143.29 173 1143.29 162.225 Q1143.29 151.085 1149.29 144.563 Q1155.32 138 1165.53 138 Q1174.69 138 1179.99 143.914 Q1185.34 149.788 1185.34 159.916 M1177.89 157.728 Q1177.81 151.611 1174.44 147.965 Q1171.12 144.32 1165.61 144.32 Q1159.37 144.32 1155.61 147.844 Q1151.88 151.368 1151.31 157.769 L1177.89 157.728 Z\" fill=\"#000000\" fill-rule=\"nonzero\" fill-opacity=\"1\" /><path clip-path=\"url(#clip580)\" d=\"M1204.95 126.212 L1204.95 139.094 L1220.3 139.094 L1220.3 144.887 L1204.95 144.887 L1204.95 169.516 Q1204.95 175.066 1206.45 176.646 Q1207.99 178.226 1212.64 178.226 L1220.3 178.226 L1220.3 184.464 L1212.64 184.464 Q1204.02 184.464 1200.73 181.264 Q1197.45 178.023 1197.45 169.516 L1197.45 144.887 L1191.98 144.887 L1191.98 139.094 L1197.45 139.094 L1197.45 126.212 L1204.95 126.212 Z\" fill=\"#000000\" fill-rule=\"nonzero\" fill-opacity=\"1\" /><path clip-path=\"url(#clip580)\" d=\"M1225.77 139.094 L1233.22 139.094 L1242.54 174.499 L1251.82 139.094 L1260.61 139.094 L1269.92 174.499 L1279.2 139.094 L1286.65 139.094 L1274.79 184.464 L1265.99 184.464 L1256.23 147.277 L1246.43 184.464 L1237.64 184.464 L1225.77 139.094 Z\" fill=\"#000000\" fill-rule=\"nonzero\" fill-opacity=\"1\" /><path clip-path=\"url(#clip580)\" d=\"M1336.76 159.916 L1336.76 163.561 L1302.49 163.561 Q1302.98 171.258 1307.11 175.309 Q1311.28 179.319 1318.7 179.319 Q1322.99 179.319 1327 178.266 Q1331.05 177.213 1335.02 175.106 L1335.02 182.155 Q1331.01 183.856 1326.8 184.748 Q1322.59 185.639 1318.25 185.639 Q1307.39 185.639 1301.03 179.319 Q1294.72 173 1294.72 162.225 Q1294.72 151.085 1300.71 144.563 Q1306.75 138 1316.95 138 Q1326.11 138 1331.42 143.914 Q1336.76 149.788 1336.76 159.916 M1329.31 157.728 Q1329.23 151.611 1325.87 147.965 Q1322.55 144.32 1317.04 144.32 Q1310.8 144.32 1307.03 147.844 Q1303.3 151.368 1302.74 157.769 L1329.31 157.728 Z\" fill=\"#000000\" fill-rule=\"nonzero\" fill-opacity=\"1\" /><path clip-path=\"url(#clip580)\" d=\"M1387.81 159.916 L1387.81 163.561 L1353.53 163.561 Q1354.02 171.258 1358.15 175.309 Q1362.33 179.319 1369.74 179.319 Q1374.03 179.319 1378.04 178.266 Q1382.09 177.213 1386.06 175.106 L1386.06 182.155 Q1382.05 183.856 1377.84 184.748 Q1373.63 185.639 1369.29 185.639 Q1358.44 185.639 1352.08 179.319 Q1345.76 173 1345.76 162.225 Q1345.76 151.085 1351.75 144.563 Q1357.79 138 1368 138 Q1377.15 138 1382.46 143.914 Q1387.81 149.788 1387.81 159.916 M1380.35 157.728 Q1380.27 151.611 1376.91 147.965 Q1373.59 144.32 1368.08 144.32 Q1361.84 144.32 1358.07 147.844 Q1354.34 151.368 1353.78 157.769 L1380.35 157.728 Z\" fill=\"#000000\" fill-rule=\"nonzero\" fill-opacity=\"1\" /><path clip-path=\"url(#clip580)\" d=\"M1437.75 157.08 L1437.75 184.464 L1430.3 184.464 L1430.3 157.323 Q1430.3 150.882 1427.79 147.682 Q1425.28 144.482 1420.25 144.482 Q1414.22 144.482 1410.73 148.33 Q1407.25 152.178 1407.25 158.822 L1407.25 184.464 L1399.76 184.464 L1399.76 139.094 L1407.25 139.094 L1407.25 146.142 Q1409.92 142.051 1413.53 140.026 Q1417.17 138 1421.91 138 Q1429.73 138 1433.74 142.861 Q1437.75 147.682 1437.75 157.08 Z\" fill=\"#000000\" fill-rule=\"nonzero\" fill-opacity=\"1\" /><path clip-path=\"url(#clip580)\" d=\"M1515.57 125.969 L1515.57 133.949 Q1510.91 131.721 1506.78 130.627 Q1502.65 129.534 1498.8 129.534 Q1492.12 129.534 1488.47 132.126 Q1484.86 134.719 1484.86 139.499 Q1484.86 143.509 1487.25 145.575 Q1489.69 147.601 1496.41 148.857 L1501.35 149.869 Q1510.51 151.611 1514.84 156.027 Q1519.22 160.402 1519.22 167.774 Q1519.22 176.565 1513.3 181.102 Q1507.43 185.639 1496.05 185.639 Q1491.75 185.639 1486.89 184.667 Q1482.07 183.694 1476.88 181.79 L1476.88 173.365 Q1481.87 176.16 1486.65 177.577 Q1491.43 178.995 1496.05 178.995 Q1503.05 178.995 1506.86 176.241 Q1510.67 173.486 1510.67 168.382 Q1510.67 163.926 1507.91 161.414 Q1505.2 158.903 1498.96 157.647 L1493.98 156.675 Q1484.82 154.852 1480.73 150.963 Q1476.64 147.074 1476.64 140.147 Q1476.64 132.126 1482.27 127.508 Q1487.94 122.89 1497.87 122.89 Q1502.12 122.89 1506.54 123.66 Q1510.95 124.43 1515.57 125.969 Z\" fill=\"#000000\" fill-rule=\"nonzero\" fill-opacity=\"1\" /><path clip-path=\"url(#clip580)\" d=\"M1550.53 188.677 Q1547.37 196.779 1544.37 199.25 Q1541.38 201.721 1536.35 201.721 L1530.4 201.721 L1530.4 195.482 L1534.77 195.482 Q1537.85 195.482 1539.55 194.024 Q1541.25 192.566 1543.32 187.138 L1544.66 183.735 L1526.31 139.094 L1534.2 139.094 L1548.38 174.58 L1562.56 139.094 L1570.46 139.094 L1550.53 188.677 Z\" fill=\"#000000\" fill-rule=\"nonzero\" fill-opacity=\"1\" /><path clip-path=\"url(#clip580)\" d=\"M1609.67 140.431 L1609.67 147.479 Q1606.51 145.859 1603.11 145.049 Q1599.71 144.239 1596.06 144.239 Q1590.51 144.239 1587.72 145.94 Q1584.96 147.641 1584.96 151.044 Q1584.96 153.637 1586.95 155.135 Q1588.93 156.594 1594.93 157.931 L1597.48 158.498 Q1605.42 160.199 1608.74 163.318 Q1612.1 166.397 1612.1 171.947 Q1612.1 178.266 1607.08 181.952 Q1602.1 185.639 1593.35 185.639 Q1589.7 185.639 1585.73 184.91 Q1581.8 184.221 1577.43 182.803 L1577.43 175.106 Q1581.56 177.253 1585.57 178.347 Q1589.58 179.4 1593.51 179.4 Q1598.78 179.4 1601.61 177.618 Q1604.45 175.795 1604.45 172.514 Q1604.45 169.476 1602.38 167.855 Q1600.36 166.235 1593.43 164.736 L1590.84 164.128 Q1583.91 162.67 1580.83 159.672 Q1577.75 156.634 1577.75 151.368 Q1577.75 144.968 1582.29 141.484 Q1586.83 138 1595.17 138 Q1599.3 138 1602.95 138.608 Q1606.59 139.215 1609.67 140.431 Z\" fill=\"#000000\" fill-rule=\"nonzero\" fill-opacity=\"1\" /><path clip-path=\"url(#clip580)\" d=\"M1631.35 126.212 L1631.35 139.094 L1646.7 139.094 L1646.7 144.887 L1631.35 144.887 L1631.35 169.516 Q1631.35 175.066 1632.84 176.646 Q1634.38 178.226 1639.04 178.226 L1646.7 178.226 L1646.7 184.464 L1639.04 184.464 Q1630.41 184.464 1627.13 181.264 Q1623.85 178.023 1623.85 169.516 L1623.85 144.887 L1618.38 144.887 L1618.38 139.094 L1623.85 139.094 L1623.85 126.212 L1631.35 126.212 Z\" fill=\"#000000\" fill-rule=\"nonzero\" fill-opacity=\"1\" /><path clip-path=\"url(#clip580)\" d=\"M1695.31 159.916 L1695.31 163.561 L1661.04 163.561 Q1661.52 171.258 1665.66 175.309 Q1669.83 179.319 1677.24 179.319 Q1681.54 179.319 1685.55 178.266 Q1689.6 177.213 1693.57 175.106 L1693.57 182.155 Q1689.56 183.856 1685.34 184.748 Q1681.13 185.639 1676.8 185.639 Q1665.94 185.639 1659.58 179.319 Q1653.26 173 1653.26 162.225 Q1653.26 151.085 1659.26 144.563 Q1665.29 138 1675.5 138 Q1684.66 138 1689.96 143.914 Q1695.31 149.788 1695.31 159.916 M1687.86 157.728 Q1687.77 151.611 1684.41 147.965 Q1681.09 144.32 1675.58 144.32 Q1669.34 144.32 1665.58 147.844 Q1661.85 151.368 1661.28 157.769 L1687.86 157.728 Z\" fill=\"#000000\" fill-rule=\"nonzero\" fill-opacity=\"1\" /><path clip-path=\"url(#clip580)\" d=\"M1742.87 147.803 Q1745.66 142.78 1749.55 140.39 Q1753.44 138 1758.71 138 Q1765.8 138 1769.64 142.983 Q1773.49 147.925 1773.49 157.08 L1773.49 184.464 L1766 184.464 L1766 157.323 Q1766 150.801 1763.69 147.641 Q1761.38 144.482 1756.64 144.482 Q1750.85 144.482 1747.49 148.33 Q1744.12 152.178 1744.12 158.822 L1744.12 184.464 L1736.63 184.464 L1736.63 157.323 Q1736.63 150.76 1734.32 147.641 Q1732.01 144.482 1727.19 144.482 Q1721.48 144.482 1718.12 148.37 Q1714.75 152.219 1714.75 158.822 L1714.75 184.464 L1707.26 184.464 L1707.26 139.094 L1714.75 139.094 L1714.75 146.142 Q1717.31 141.97 1720.87 139.985 Q1724.44 138 1729.34 138 Q1734.28 138 1737.72 140.512 Q1741.21 143.023 1742.87 147.803 Z\" fill=\"#000000\" fill-rule=\"nonzero\" fill-opacity=\"1\" /><path clip-path=\"url(#clip580)\" d=\"M1835.35 161.657 Q1826.32 161.657 1822.83 163.723 Q1819.35 165.789 1819.35 170.772 Q1819.35 174.742 1821.94 177.091 Q1824.57 179.4 1829.07 179.4 Q1835.27 179.4 1838.99 175.025 Q1842.76 170.61 1842.76 163.318 L1842.76 161.657 L1835.35 161.657 M1850.22 158.579 L1850.22 184.464 L1842.76 184.464 L1842.76 177.577 Q1840.21 181.709 1836.4 183.694 Q1832.59 185.639 1827.09 185.639 Q1820.12 185.639 1815.99 181.75 Q1811.89 177.821 1811.89 171.258 Q1811.89 163.602 1817 159.713 Q1822.14 155.824 1832.31 155.824 L1842.76 155.824 L1842.76 155.095 Q1842.76 149.95 1839.36 147.155 Q1836 144.32 1829.88 144.32 Q1825.99 144.32 1822.31 145.251 Q1818.62 146.183 1815.22 148.046 L1815.22 141.16 Q1819.31 139.58 1823.16 138.81 Q1827 138 1830.65 138 Q1840.49 138 1845.35 143.104 Q1850.22 148.208 1850.22 158.579 Z\" fill=\"#000000\" fill-rule=\"nonzero\" fill-opacity=\"1\" /><path clip-path=\"url(#clip580)\" d=\"M1903.28 157.08 L1903.28 184.464 L1895.83 184.464 L1895.83 157.323 Q1895.83 150.882 1893.32 147.682 Q1890.81 144.482 1885.78 144.482 Q1879.75 144.482 1876.26 148.33 Q1872.78 152.178 1872.78 158.822 L1872.78 184.464 L1865.29 184.464 L1865.29 139.094 L1872.78 139.094 L1872.78 146.142 Q1875.45 142.051 1879.06 140.026 Q1882.7 138 1887.44 138 Q1895.26 138 1899.27 142.861 Q1903.28 147.682 1903.28 157.08 Z\" fill=\"#000000\" fill-rule=\"nonzero\" fill-opacity=\"1\" /><path clip-path=\"url(#clip580)\" d=\"M1948 145.98 L1948 121.432 L1955.46 121.432 L1955.46 184.464 L1948 184.464 L1948 177.658 Q1945.66 181.709 1942.05 183.694 Q1938.49 185.639 1933.46 185.639 Q1925.24 185.639 1920.05 179.076 Q1914.91 172.514 1914.91 161.819 Q1914.91 151.125 1920.05 144.563 Q1925.24 138 1933.46 138 Q1938.49 138 1942.05 139.985 Q1945.66 141.93 1948 145.98 M1922.61 161.819 Q1922.61 170.043 1925.97 174.742 Q1929.37 179.4 1935.28 179.4 Q1941.2 179.4 1944.6 174.742 Q1948 170.043 1948 161.819 Q1948 153.596 1944.6 148.938 Q1941.2 144.239 1935.28 144.239 Q1929.37 144.239 1925.97 148.938 Q1922.61 153.596 1922.61 161.819 Z\" fill=\"#000000\" fill-rule=\"nonzero\" fill-opacity=\"1\" /><path clip-path=\"url(#clip580)\" d=\"M2017.72 132.045 L2006.62 162.144 L2028.86 162.144 L2017.72 132.045 M2013.1 123.984 L2022.38 123.984 L2045.43 184.464 L2036.92 184.464 L2031.41 168.949 L2004.15 168.949 L1998.64 184.464 L1990.01 184.464 L2013.1 123.984 Z\" fill=\"#000000\" fill-rule=\"nonzero\" fill-opacity=\"1\" /><path clip-path=\"url(#clip580)\" d=\"M2091.65 157.08 L2091.65 184.464 L2084.2 184.464 L2084.2 157.323 Q2084.2 150.882 2081.68 147.682 Q2079.17 144.482 2074.15 144.482 Q2068.11 144.482 2064.63 148.33 Q2061.15 152.178 2061.15 158.822 L2061.15 184.464 L2053.65 184.464 L2053.65 139.094 L2061.15 139.094 L2061.15 146.142 Q2063.82 142.051 2067.43 140.026 Q2071.07 138 2075.81 138 Q2083.63 138 2087.64 142.861 Q2091.65 147.682 2091.65 157.08 Z\" fill=\"#000000\" fill-rule=\"nonzero\" fill-opacity=\"1\" /><path clip-path=\"url(#clip580)\" d=\"M2139.17 140.836 L2139.17 147.803 Q2136.01 146.061 2132.81 145.211 Q2129.65 144.32 2126.41 144.32 Q2119.16 144.32 2115.15 148.938 Q2111.13 153.515 2111.13 161.819 Q2111.13 170.124 2115.15 174.742 Q2119.16 179.319 2126.41 179.319 Q2129.65 179.319 2132.81 178.469 Q2136.01 177.577 2139.17 175.836 L2139.17 182.722 Q2136.05 184.18 2132.69 184.91 Q2129.36 185.639 2125.6 185.639 Q2115.35 185.639 2109.31 179.198 Q2103.28 172.757 2103.28 161.819 Q2103.28 150.72 2109.35 144.36 Q2115.47 138 2126.08 138 Q2129.53 138 2132.81 138.729 Q2136.09 139.418 2139.17 140.836 Z\" fill=\"#000000\" fill-rule=\"nonzero\" fill-opacity=\"1\" /><path clip-path=\"url(#clip580)\" d=\"M2152.13 139.094 L2159.58 139.094 L2159.58 184.464 L2152.13 184.464 L2152.13 139.094 M2152.13 121.432 L2159.58 121.432 L2159.58 130.871 L2152.13 130.871 L2152.13 121.432 Z\" fill=\"#000000\" fill-rule=\"nonzero\" fill-opacity=\"1\" /><path clip-path=\"url(#clip580)\" d=\"M2175.18 121.432 L2182.63 121.432 L2182.63 184.464 L2175.18 184.464 L2175.18 121.432 Z\" fill=\"#000000\" fill-rule=\"nonzero\" fill-opacity=\"1\" /><path clip-path=\"url(#clip580)\" d=\"M2198.23 121.432 L2205.68 121.432 L2205.68 184.464 L2198.23 184.464 L2198.23 121.432 Z\" fill=\"#000000\" fill-rule=\"nonzero\" fill-opacity=\"1\" /><path clip-path=\"url(#clip580)\" d=\"M2241.9 161.657 Q2232.86 161.657 2229.38 163.723 Q2225.9 165.789 2225.9 170.772 Q2225.9 174.742 2228.49 177.091 Q2231.12 179.4 2235.62 179.4 Q2241.82 179.4 2245.54 175.025 Q2249.31 170.61 2249.31 163.318 L2249.31 161.657 L2241.9 161.657 M2256.76 158.579 L2256.76 184.464 L2249.31 184.464 L2249.31 177.577 Q2246.76 181.709 2242.95 183.694 Q2239.14 185.639 2233.63 185.639 Q2226.67 185.639 2222.53 181.75 Q2218.44 177.821 2218.44 171.258 Q2218.44 163.602 2223.55 159.713 Q2228.69 155.824 2238.86 155.824 L2249.31 155.824 L2249.31 155.095 Q2249.31 149.95 2245.91 147.155 Q2242.55 144.32 2236.43 144.32 Q2232.54 144.32 2228.85 145.251 Q2225.17 146.183 2221.76 148.046 L2221.76 141.16 Q2225.86 139.58 2229.7 138.81 Q2233.55 138 2237.2 138 Q2247.04 138 2251.9 143.104 Q2256.76 148.208 2256.76 158.579 Z\" fill=\"#000000\" fill-rule=\"nonzero\" fill-opacity=\"1\" /><g clip-path=\"url(#clip582)\">\n",
       "<image width=\"1873\" height=\"1175\" xlink:href=\"data:image/png;base64,\n",
       "iVBORw0KGgoAAAANSUhEUgAAB1EAAASXCAYAAACwSoYPAAAgAElEQVR4nOzbsZF1O1pAUXR0fpMY\n",
       "cKkJhQzwcDCIaIxxMImAUKgxJwccnFcPd7d7ayT1U68VwVcqlVrqfe74/fe//f4PAAB/T7//dnqC\n",
       "+/3v305PcL+//uX0BNf7n//8r9MjXO+//3x6gp/hX/7j9AT3+9O//evpEe73z/9+eoL7/eM/nZ7g\n",
       "fmOengAAuMhzegAAAAAAAACA70REBQAAAAAAAAgRFQAAAAAAACBEVAAAAAAAAIAQUQEAAAAAAABC\n",
       "RAUAAAAAAAAIERUAAAAAAAAgRFQAAAAAAACAEFEBAAAAAAAAQkQFAAAAAAAACBEVAAAAAAAAIN7T\n",
       "AwAA8IHhW7jlhqvyas88PcH9rPEe1nmDYZGXG+P0BAAA8K347xsAAAAAAABAiKgAAAAAAAAAIaIC\n",
       "AAAAAAAAhIgKAAAAAAAAECIqAAAAAAAAQIioAAAAAAAAACGiAgAAAAAAAISICgAAAAAAABAiKgAA\n",
       "AAAAAECIqAAAAAAAAAAhogIAAAAAAADEe3oAAAA+4Vu45cY8PcH1Hku83PTi28Je3mDYzOu5WwAA\n",
       "QLkhAwAAAAAAAISICgAAAAAAABAiKgAAAAAAAECIqAAAAAAAAAAhogIAAAAAAACEiAoAAAAAAAAQ\n",
       "IioAAAAAAABAiKgAAAAAAAAAIaICAAAAAAAAhIgKAAAAAAAAECIqAAAAAAAAQLynBwAA4ANjnJ7g\n",
       "fmOenuB6jyVe7vHi22Ja5/UcGOu5WwAAwBd+iQoAAAAAAAAQIioAAAAAAABAiKgAAAAAAAAAIaIC\n",
       "AAAAAAAAhIgKAAAAAAAAECIqAAAAAAAAQIioAAAAAAAAACGiAgAAAAAAAISICgAAAAAAABAiKgAA\n",
       "AAAAAEC8pwcAAG40Tg9wv+FbuOWeeXqC602vkeWmbbyF42KDYZGXc7fYwB0ZAOCPxA0ZAAAAAAAA\n",
       "IERUAAAAAAAAgBBRAQAAAAAAAEJEBQAAAAAAAAgRFQAAAAAAACBEVAAAAAAAAIAQUQEAAAAAAABC\n",
       "RAUAAAAAAAAIERUAAAAAAAAgRFQAAAAAAACAEFEBAAAAAAAA4j09AAAAnxinB7jfcFVe7ZmnJ7jf\n",
       "tI23sJc3GBZ5PXcLAAAov0QFAAAAAAAACBEVAAAAAAAAIERUAAAAAAAAgBBRAQAAAAAAAEJEBQAA\n",
       "AAAAAAgRFQAAAAAAACBEVAAAAAAAAIAQUQEAAAAAAABCRAUAAAAAAAAIERUAAAAAAAAgRFQAAAAA\n",
       "AACAeE8PAADAB4Zv4ZYb8/QE13ss8XLTi28L67yBA2M9dwsAAPjCDRkAAAAAAAAgRFQAAAAAAACA\n",
       "EFEBAAAAAAAAQkQFAAAAAAAACBEVAAAAAAAAIERUAAAAAAAAgBBRAQAAAAAAAEJEBQAAAAAAAAgR\n",
       "FQAAAAAAACBEVAAAAAAAAIAQUQEAAAAAAADiPT0AAACfGKcHuN+Ypye43vQaWc4a7/E4LtZzJq83\n",
       "3C0AAKD8EhUAAAAAAAAgRFQAAAAAAACAEFEBAAAAAAAAQkQFAAAAAAAACBEVAAAAAAAAIERUAAAA\n",
       "AAAAgBBRAQAAAAAAAEJEBQAAAAAAAAgRFQAAAAAAACBEVAAAAAAAAIB4Tw8AANxonB7gfsO3cMs9\n",
       "8/QE17PE681fpyf4GR4v6/WGA2M9d4v13JEBAP5I3JABAAAAAAAAQkQFAAAAAAAACBEVAAAAAAAA\n",
       "IERUAAAAAAAAgBBRAQAAAAAAAEJEBQAAAAAAAAgRFQAAAAAAACBEVAAAAAAAAIAQUQEAAAAAAABC\n",
       "RAUAAAAAAAAIERUAAAAAAAAg3tMDAADwgTFOT3C/MU9PcL3pNbKcNd5jOi7Wcyav524BAABf+CUq\n",
       "AAAAAAAAQIioAAAAAAAAACGiAgAAAAAAAISICgAAAAAAABAiKgAAAAAAAECIqAAAAAAAAAAhogIA\n",
       "AAAAAACEiAoAAAAAAAAQIioAAAAAAABAiKgAAAAAAAAAIaICAAAAAAAAxHt6AADgQuP0AD+BRV5u\n",
       "zNMTXO+xxMtNL74trPMGzuQN3C2Ws8QAAH8ofokKAAAAAAAAECIqAAAAAAAAQIioAAAAAAAAACGi\n",
       "AgAAAAAAAISICgAAAAAAABAiKgAAAAAAAECIqAAAAAAAAAAhogIAAAAAAACEiAoAAAAAAAAQIioA\n",
       "AAAAAABAiKgAAAAAAAAA8Z4eAACADwzfwi035ukJrje9Rpazxns8jov1LPJ67hYAAPCFGzIAAAAA\n",
       "AABAiKgAAAAAAAAAIaICAAAAAAAAhIgKAAAAAAAAECIqAAAAAAAAQIioAAAAAAAAACGiAgAAAAAA\n",
       "AISICgAAAAAAABAiKgAAAAAAAECIqAAAAAAAAADxnh4AAIBPjNMD3G/M0xNc7/EaWW7+Oj3BzzDt\n",
       "5fWcyRu4WwAAQPklKgAAAAAAAECIqAAAAAAAAAAhogIAAAAAAACEiAoAAAAAAAAQIioAAAAAAABA\n",
       "iKgAAAAAAAAAIaICAAAAAAAAhIgKAAAAAAAAECIqAAAAAAAAQIioAAAAAAAAACGiAgAAAAAAAMR7\n",
       "egAAAD4wxukJ7vfM0xNcb1ri5aYX3xaPdV5vODCWc7cAAIAv/BIVAAAAAAAAIERUAAAAAAAAgBBR\n",
       "AQAAAAAAAEJEBQAAAAAAAAgRFQAAAAAAACBEVAAAAAAAAIAQUQEAAAAAAABCRAUAAAAAAAAIERUA\n",
       "AAAAAAAgRFQAAAAAAACAEFEBAAAAAAAA4j09AAAAnxinB7jf8L3hatNrZDlrvId13mDM0xP8AO4W\n",
       "AABQ/jMEAAAAAAAAECIqAAAAAAAAQIioAAAAAAAAACGiAgAAAAAAAISICgAAAAAAABAiKgAAAAAA\n",
       "AECIqAAAAAAAAAAhogIAAAAAAACEiAoAAAAAAAAQIioAAAAAAABAiKgAAAAAAAAA8Z4eAACAT4zT\n",
       "A9xvzNMTXO/xGlnOGu8xHRfrOZPXG+4WAABQfokKAAAAAAAAECIqAAAAAAAAQIioAAAAAAAAACGi\n",
       "AgAAAAAAAISICgAAAAAAABAiKgAAAAAAAECIqAAAAAAAAAAhogIAAAAAAACEiAoAAAAAAAAQIioA\n",
       "AAAAAABAvKcHAADgA2OcnuB+Y56e4HrTEi83vfi2eKzzes7kDdwtAACg/BIVAAAAAAAAIERUAAAA\n",
       "AAAAgBBRAQAAAAAAAEJEBQAAAAAAAAgRFQAAAAAAACBEVAAAAAAAAIAQUQEAAAAAAABCRAUAAAAA\n",
       "AAAIERUAAAAAAAAgRFQAAAAAAACAEFEBAAAAAAAA4j09AABwo3F6gB/AGi835ukJrvd4jSw3rfEW\n",
       "1nmDx5m8nrvFetYYAOCPxC9RAQAAAAAAAEJEBQAAAAAAAAgRFQAAAAAAACBEVAAAAAAAAIAQUQEA\n",
       "AAAAAABCRAUAAAAAAAAIERUAAAAAAAAgRFQAAAAAAACAEFEBAAAAAAAAQkQFAAAAAAAACBEVAAAA\n",
       "AAAAIN7TAwAA8IExTk9wv2eenuB6wxovN9/fTo/wMzye1ssN58Vy7hYAAPCFX6ICAAAAAAAAhIgK\n",
       "AAAAAAAAECIqAAAAAAAAQIioAAAAAAAAACGiAgAAAAAAAISICgAAAAAAABAiKgAAAAAAAECIqAAA\n",
       "AAAAAAAhogIAAAAAAACEiAoAAAAAAAAQIioAAAAAAABAvKcHAADgE+P0APcb8/QE93t+nZ7ges/7\n",
       "2+kRfgZ7eT1n8gbuFgAAUH6JCgAAAAAAABAiKgAAAAAAAECIqAAAAAAAAAAhogIAAAAAAACEiAoA\n",
       "AAAAAAAQIioAAAAAAABAiKgAAAAAAAAAIaICAAAAAAAAhIgKAAAAAAAAECIqAAAAAAAAQLynBwAA\n",
       "4BPj9AD3G/P0BPd7fp2e4Hrz/b/TI/wM9vJ6zuQN3C0AAKD8EhUAAAAAAAAgRFQAAAAAAACAEFEB\n",
       "AAAAAAAAQkQFAAAAAAAACBEVAAAAAAAAIERUAAAAAAAAgBBRAQAAAAAAAEJEBQAAAAAAAAgRFQAA\n",
       "AAAAACBEVAAAAAAAAIAQUQEAAAAAAADiPT0AAAAfGOP0BPcb8/QE93t+nZ7geo9tvIe9vJ4zeT13\n",
       "CwAA+MIvUQEAAAAAAABCRAUAAAAAAAAIERUAAAAAAAAgRFQAAAAAAACAEFEBAAAAAAAAQkQFAAAA\n",
       "AAAACBEVAAAAAAAAIERUAAAAAAAAgBBRAQAAAAAAAEJEBQAAAAAAAAgRFQAAAAAAACDe0wMAAMC3\n",
       "NObpCe73eI6sNm3jPYa9vJwzeYNxegAAAPhW/BIVAAAAAAAAIERUAAAAAAAAgBBRAQAAAAAAAEJE\n",
       "BQAAAAAAAAgRFQAAAAAAACBEVAAAAAAAAIAQUQEAAAAAAABCRAUAAAAAAAAIERUAAAAAAAAgRFQA\n",
       "AAAAAACAEFEBAAAAAAAA4j09AAAAnxinB7jfmKcnuN/z6/QE13ts4z3s5fUe34ADAAB7eYUAAAAA\n",
       "AAAAhIgKAAAAAAAAECIqAAAAAAAAQIioAAAAAAAAACGiAgAAAAAAAISICgAAAAAAABAiKgAAAAAA\n",
       "AECIqAAAAAAAAAAhogIAAAAAAACEiAoAAAAAAAAQ7+kBAAD4wBinJ7jfM09PcL/hObKabbzJYy8v\n",
       "N2zm5dwtAADgC79EBQAAAAAAAAgRFQAAAAAAACBEVAAAAAAAAIAQUQEAAAAAAABCRAUAAAAAAAAI\n",
       "ERUAAAAAAAAgRFQAAAAAAACAEFEBAAAAAAAAQkQFAAAAAAAACBEVAAAAAAAAIERUAAAAAAAAgHhP\n",
       "DwAAAN/SmKcnuN/jObLaYxvv8fw6PcH9nMkAAMBmfokKAAAAAAAAECIqAAAAAAAAQIioAAAAAAAA\n",
       "ACGiAgAAAAAAAISICgAAAAAAABAiKgAAAAAAAECIqAAAAAAAAAAhogIAAAAAAACEiAoAAAAAAAAQ\n",
       "IioAAAAAAABAiKgAAAAAAAAA8Z4eAACAT4zTA9xv+N5wucdzZLVnnp7ghxj28nLDZl7P3QIAAMp/\n",
       "hgAAAAAAAABCRAUAAAAAAAAIERUAAAAAAAAgRFQAAAAAAACAEFEBAAAAAAAAQkQFAAAAAAAACBEV\n",
       "AAAAAAAAIERUAAAAAAAAgBBRAQAAAAAAAEJEBQAAAAAAAAgRFQAAAAAAACDe0wMAAPCJcXqA+415\n",
       "eoL7Dc+R1R7beI/HXl7OmbyBuwUAAJRfogIAAAAAAACEiAoAAAAAAAAQIioAAAAAAABAiKgAAAAA\n",
       "AAAAIaICAAAAAAAAhIgKAAAAAAAAECIqAAAAAAAAQIioAAAAAAAAACGiAgAAAAAAAISICgAAAAAA\n",
       "ABDv6QEAAOBbGvP0BPd7PEdWe3w2u4e9vJ4zGQAA2MyTGgAAAAAAACBEVAAAAAAAAIAQUQEAAAAA\n",
       "AABCRAUAAAAAAAAIERUAAAAAAAAgRFQAAAAAAACAEFEBAAAAAAAAQkQFAAAAAAAACBEVAAAAAAAA\n",
       "IERUAAAAAAAAgBBRAQAAAAAAAOI9PQAAAB8Ypwf4AcY8PcH9hufIarbxJvbyesM34Mu5WwAAwBde\n",
       "IQAAAAAAAAAhogIAAAAAAACEiAoAAAAAAAAQIioAAAAAAABAiKgAAAAAAAAAIaICAAAAAAAAhIgK\n",
       "AAAAAAAAECIqAAAAAAAAQIioAAAAAAAAACGiAgAAAAAAAISICgAAAAAAABDv6QEAAPjEOD3A/Ybv\n",
       "DZd7PEdWe2zjPZ55eoL7WeMN3C0AAKA8qQEAAAAAAABCRAUAAAAAAAAIERUAAAAAAAAgRFQAAAAA\n",
       "AACAEFEBAAAAAAAAQkQFAAAAAAAACBEVAAAAAAAAIERUAAAAAAAAgBBRAQAAAAAAAEJEBQAAAAAA\n",
       "AAgRFQAAAAAAACDe0wMAAMC3NObpCe5njZd7LPEew9N6OecFAACwmV+iAgAAAAAAAISICgAAAAAA\n",
       "ABAiKgAAAAAAAECIqAAAAAAAAAAhogIAAAAAAACEiAoAAAAAAAAQIioAAAAAAABAiKgAAAAAAAAA\n",
       "IaICAAAAAAAAhIgKAAAAAAAAEO/pAQAA+MQ4PcD9xjw9wf0ez5HVHp/N7mEvrzds5vXcLQAAoLxC\n",
       "AAAAAAAAAEJEBQAAAAAAAAgRFQAAAAAAACBEVAAAAAAAAIAQUQEAAAAAAABCRAUAAAAAAAAIERUA\n",
       "AAAAAAAgRFQAAAAAAACAEFEBAAAAAAAAQkQFAAAAAAAACBEVAAAAAAAAIN7TAwAAwLc0fG+43Jin\n",
       "J7ieJd7EQq9njQEAgM38ZwgAAAAAAAAgRFQAAAAAAACAEFEBAAAAAAAAQkQFAAAAAAAACBEVAAAA\n",
       "AAAAIERUAAAAAAAAgBBRAQAAAAAAAEJEBQAAAAAAAAgRFQAAAAAAACBEVAAAAAAAAIAQUQEAAAAA\n",
       "AADiPT0AAAB8S2OenuB+j+fIao/PZvdwXqw3bGYAAGAvrxAAAAAAAACAEFEBAAAAAAAAQkQFAAAA\n",
       "AAAACBEVAAAAAAAAIERUAAAAAAAAgBBRAQAAAAAAAEJEBQAAAAAAAAgRFQAAAAAAACBEVAAAAAAA\n",
       "AIAQUQEAAAAAAABCRAUAAAAAAACI9/QAAADwLQ3fGy435ukJrvdY4j0eT+vlnBcAAMBm/jMEAAAA\n",
       "AAAAECIqAAAAAAAAQIioAAAAAAAAACGiAgAAAAAAAISICgAAAAAAABAiKgAAAAAAAECIqAAAAAAA\n",
       "AAAhogIAAAAAAACEiAoAAAAAAAAQIioAAAAAAABAvKcHAADgE+P0APcbvjdcbszTE1zvscR72Mvr\n",
       "OZM3cLcAAIDyCgEAAAAAAAAIERUAAAAAAAAgRFQAAAAAAACAEFEBAAAAAAAAQkQFAAAAAAAACBEV\n",
       "AAAAAAAAIERUAAAAAAAAgBBRAQAAAAAAAEJEBQAAAAAAAAgRFQAAAAAAACBEVAAAAAAAAIB4Tw8A\n",
       "AMAHxukBfoAxT09wv8dzZLVpG+/hvNjAN+DLuVsAAMAXXiEAAAAAAAAAIaICAAAAAAAAhIgKAAAA\n",
       "AAAAECIqAAAAAAAAQIioAAAAAAAAACGiAgAAAAAAAISICgAAAAAAABAiKgAAAAAAAECIqAAAAAAA\n",
       "AAAhogIAAAAAAACEiAoAAAAAAAAQ7+kBAADgWxq+N1xuzNMTXO/x4tvDQq/nTAYAADbzCgEAAAAA\n",
       "AAAIERUAAAAAAAAgRFQAAAAAAACAEFEBAAAAAAAAQkQFAAAAAAAACBEVAAAAAAAAIERUAAAAAAAA\n",
       "gBBRAQAAAAAAAEJEBQAAAAAAAAgRFQAAAAAAACBEVAAAAAAAAIB4Tw8AAADf0vC94XLDc2S1Z56e\n",
       "4IcYFno5ZzIAALCZVwgAAAAAAABAiKgAAAAAAAAAIaICAAAAAAAAhIgKAAAAAAAAECIqAAAAAAAA\n",
       "QIioAAAAAAAAACGiAgAAAAAAAISICgAAAAAAABAiKgAAAAAAAECIqAAAAAAAAADxnh4AAAC+peF7\n",
       "w+WeeXqC600vvj2GhV7OmQwAAGzmFQIAAAAAAAAQIioAAAAAAABAiKgAAAAAAAAAIaICAAAAAAAA\n",
       "hIgKAAAAAAAAECIqAAAAAAAAQIioAAAAAAAAACGiAgAAAAAAAISICgAAAAAAABAiKgAAAAAAAECI\n",
       "qAAAAAAAAADxnh4AAAC+peF7w+WG58hq0xLv8czTE9zPmQwAAGzmFQIAAAAAAAAQIioAAAAAAABA\n",
       "iKgAAAAAAAAAIaICAAAAAAAAhIgKAAAAAAAAECIqAAAAAAAAQIioAAAAAAAAACGiAgAAAAAAAISI\n",
       "CgAAAAAAABAiKgAAAAAAAECIqAAAAAAAAADxnh4AAAC+J98bLvfM0xNcb3rx7TEs9HrOZAAAYC+v\n",
       "EAAAAAAAAIAQUQEAAAAAAABCRAUAAAAAAAAIERUAAAAAAAAgRFQAAAAAAACAEFEBAAAAAAAAQkQF\n",
       "AAAAAAAACBEVAAAAAAAAIERUAAAAAAAAgBBRAQAAAAAAAEJEBQAAAAAAAIj39AAAAHxinB7gfsMa\n",
       "Lzc8R1ablniPZ56e4H7DN+Dr+bsHAADlFQIAAAAAAAAQIioAAAAAAABAiKgAAAAAAAAAIaICAAAA\n",
       "AAAAhIgKAAAAAAAAECIqAAAAAAAAQIioAAAAAAAAACGiAgAAAAAAAISICgAAAAAAABAiKgAAAAAA\n",
       "AEC8pwcAAIBvafjecLlnnp7gevPX6Ql+iOFpvdwYpycAAAB+GP8ZAgAAAAAAAAgRFQAAAAAAACBE\n",
       "VAAAAAAAAIAQUQEAAAAAAABCRAUAAAAAAAAIERUAAAAAAAAgRFQAAAAAAACAEFEBAAAAAAAAQkQF\n",
       "AAAAAAAACBEVAAAAAAAAIERUAP6ffTvIcVzHoigIyszOzP1v+E/PoEaNkp9LjFjBhSEIoI8IAAAA\n",
       "AADEnh4AAACfaU0PeL7lOHK319f0gkNcnuX7+QYcAAB4L6cQAAAAAAAAgBBRAQAAAAAAAEJEBQAA\n",
       "AAAAAAgRFQAAAAAAACBEVAAAAAAAAIAQUQEAAAAAAABCRAUAAAAAAAAIERUAAAAAAAAgRFQAAAAA\n",
       "AACAEFEBAAAAAAAAQkQFAAAAAAAAiD09AAAAPtLyveHtLseRu+2v6QWHWJ7l2601vQAAADiMf4YA\n",
       "AAAAAAAAQkQFAAAAAAAACBEVAAAAAAAAIERUAAAAAAAAgBBRAQAAAAAAAEJEBQAAAAAAAAgRFQAA\n",
       "AAAAACBEVAAAAAAAAIAQUQEAAAAAAABCRAUAAAAAAAAIERUAAAAAAAAg9vQAAAD4TGt6wPMtx5Hb\n",
       "vb6nF5zh8izfzzsZAAB4LzdRAQAAAAAAAEJEBQAAAAAAAAgRFQAAAAAAACBEVAAAAAAAAIAQUQEA\n",
       "AAAAAABCRAUAAAAAAAAIERUAAAAAAAAgRFQAAAAAAACAEFEBAAAAAAAAQkQFAAAAAAAAiD09AAAA\n",
       "PtJa0wue73Icud3rZ3rBGZZn+XbLN+AAAMB7OYUAAAAAAAAAhIgKAAAAAAAAECIqAAAAAAAAQIio\n",
       "AAAAAAAAACGiAgAAAAAAAISICgAAAAAAABAiKgAAAAAAAECIqAAAAAAAAAAhogIAAAAAAACEiAoA\n",
       "AAAAAAAQIioAAAAAAABA7OkBAADwmXxveLvra3rB871+phec4XK0vt+aHgAAABzGP0MAAAAAAAAA\n",
       "IaICAAAAAAAAhIgKAAAAAAAAECIqAAAAAAAAQIioAAAAAAAAACGiAgAAAAAAAISICgAAAAAAABAi\n",
       "KgAAAAAAAECIqAAAAAAAAAAhogIAAAAAAACEiAoAAAAAAAAQe3oAAAB8pLWmFzzfchy53etnesEZ\n",
       "Ls/y7byTAQCAN3MTFQAAAAAAACBEVAAAAAAAAIAQUQEAAAAAAABCRAUAAAAAAAAIERUAAAAAAAAg\n",
       "RFQAAAAAAACAEFEBAAAAAAAAQkQFAAAAAAAACBEVAAAAAAAAIERUAAAAAAAAgBBRAQAAAAAAAGJP\n",
       "DwAAgM+0pgc83+U4crv9M73gDJ7lN/BOBgAA3stNVAAAAAAAAIAQUQEAAAAAAABCRAUAAAAAAAAI\n",
       "ERUAAAAAAAAgRFQAAAAAAACAEFEBAAAAAAAAQkQFAAAAAAAACBEVAAAAAAAAIERUAAAAAAAAgBBR\n",
       "AQAAAAAAAGJPDwAAgM+0pgc83+U4crvXz/SCM6yv6QUH8E4GAADey01UAAAAAAAAgBBRAQAAAAAA\n",
       "AEJEBQAAAAAAAAgRFQAAAAAAACBEVAAAAAAAAIAQUQEAAAAAAABCRAUAAAAAAAAIERUAAAAAAAAg\n",
       "RFQAAAAAAACAEFEBAAAAAAAAQkQFAAAAAAAAiD09AAAAPtKaHnCA62t6wfO9fqcXnOFytL6ddzIA\n",
       "APBmbqICAAAAAAAAhIgKAAAAAAAAECIqAAAAAAAAQIioAAAAAAAAACGiAgAAAAAAAISICgAAAAAA\n",
       "ABAiKgAAAAAAAECIqAAAAAAAAAAhogIAAAAAAACEiAoAAAAAAAAQIioAAAAAAABA7OkBAADwmdb0\n",
       "gOdbjiO327/TC85weZbv550MAAC8l5uoAAAAAAAAACGiAgAAAAAAAISICgAAAAAAABAiKgAAAAAA\n",
       "AECIqAAAAAAAAAAhogIAAAAAAACEiAoAAAAAAAAQIioAAAAAAABAiKgAAAAAAAAAIaICAAAAAAAA\n",
       "hIgKAAAAAAAAEHt6AAAAfKY1PeD5rq/pBc+3f6cXnMGz/AbeyQAAwHu5iQoAAAAAAAAQIioAAAAA\n",
       "AABAiKgAAAAAAAAAIaICAAAAAAAAhIgKAAAAAAAAECIqAAAAAAAAQIioAAAAAAAAACGiAgAAAAAA\n",
       "AISICgAAAAAAABAiKgAAAAAAAEDs6QEAAPCR1vSAA1yOI7d7/U4vOMPyLN/OOxkAAHgzN1EBAAAA\n",
       "AAAAQkQFAAAAAAAACBEVAAAAAAAAIERUAAAAAAAAgBBRAQAAAAAAAEJEBQAAAAAAAAgRFQAAAAAA\n",
       "ACBEVAAAAAAAAIAQUQEAAAAAAABCRAUAAAAAAAAIERUAAAAAAAAg9vQAAAD4TGt6wPNdjiO32z/T\n",
       "C87gWX4D72QAAOC93EQFAAAAAAAACBEVAAAAAAAAIERUAAAAAAAAgBBRAQAAAAAAAEJEBQAAAAAA\n",
       "AAgRFQAAAAAAACBEVAAAAAAAAIAQUQEAAAAAAABCRAUAAAAAAAAIERUAAAAAAAAgRFQAAAAAAACA\n",
       "2NMDAACAQ62v6QXP9/qdXnCGy7MMAADwNG6iAgAAAAAAAISICgAAAAAAABAiKgAAAAAAAECIqAAA\n",
       "AAAAAAAhogIAAAAAAACEiAoAAAAAAAAQIioAAAAAAABAiKgAAAAAAAAAIaICAAAAAAAAhIgKAAAA\n",
       "AAAAECIqAAAAAAAAQOzpAQAA8JnW9IDnuxxHbrd/pxecYXmW7+edDAAAvJebqAAAAAAAAAAhogIA\n",
       "AAAAAACEiAoAAAAAAAAQIioAAAAAAABAiKgAAAAAAAAAIaICAAAAAAAAhIgKAAAAAAAAECIqAAAA\n",
       "AAAAQIioAAAAAAAAACGiAgAAAAAAAMSeHhLdK+0AABJ7SURBVAAAABzqchy53et3esEZPMsAAACP\n",
       "4yYqAAAAAAAAQIioAAAAAAAAACGiAgAAAAAAAISICgAAAAAAABAiKgAAAAAAAECIqAAAAAAAAAAh\n",
       "ogIAAAAAAACEiAoAAAAAAAAQIioAAAAAAABAiKgAAAAAAAAAIaICAAAAAAAAxJ4eAAAAHGo5jtxu\n",
       "/0wvOMPlWQYAAHgaN1EBAAAAAAAAQkQFAAAAAAAACBEVAAAAAAAAIERUAAAAAAAAgBBRAQAAAAAA\n",
       "AEJEBQAAAAAAAAgRFQAAAAAAACBEVAAAAAAAAIAQUQEAAAAAAABCRAUAAAAAAAAIERUAAAAAAAAg\n",
       "9vQAAAD4TGt6wPNdjiO3e/1OLzjD8izfzzsZAAB4LzdRAQAAAAAAAEJEBQAAAAAAAAgRFQAAAAAA\n",
       "ACBEVAAAAAAAAIAQUQEAAAAAAABCRAUAAAAAAAAIERUAAAAAAAAgRFQAAAAAAACAEFEBAAAAAAAA\n",
       "QkQFAAAAAAAACBEVAAAAAAAAIPb0AAAA+EhresABluPI7V4/0wvOcL2mFzyfdzIAAPBmbqICAAAA\n",
       "AAAAhIgKAAAAAAAAECIqAAAAAAAAQIioAAAAAAAAACGiAgAAAAAAAISICgAAAAAAABAiKgAAAAAA\n",
       "AECIqAAAAAAAAAAhogIAAAAAAACEiAoAAAAAAAAQe3oAAABwqOs1veD59s/0gjMsR2sAAICncRMV\n",
       "AAAAAAAAIERUAAAAAAAAgBBRAQAAAAAAAEJEBQAAAAAAAAgRFQAAAAAAACBEVAAAAAAAAIAQUQEA\n",
       "AAAAAABCRAUAAAAAAAAIERUAAAAAAAAgRFQAAAAAAACAEFEBAAAAAAAAYk8PAAAADrUcR273+p5e\n",
       "cIb1ml4AAADAX+YmKgAAAAAAAECIqAAAAAAAAAAhogIAAAAAAACEiAoAAAAAAAAQIioAAAAAAABA\n",
       "iKgAAAAAAAAAIaICAAAAAAAAhIgKAAAAAAAAECIqAAAAAAAAQIioAAAAAAAAACGiAgAAAAAAAMSe\n",
       "HgAAABxqvaYXPN/1Pb3gDJejNQAAwNO4iQoAAAAAAAAQIioAAAAAAABAiKgAAAAAAAAAIaICAAAA\n",
       "AAAAhIgKAAAAAAAAECIqAAAAAAAAQIioAAAAAAAAACGiAgAAAAAAAISICgAAAAAAABAiKgAAAAAA\n",
       "AECIqAAAAAAAAACxpwcAAMBnWtMDnu96TS94vtf39IIzLM/y/byTAQCA93ITFQAAAAAAACBEVAAA\n",
       "AAAAAIAQUQEAAAAAAABCRAUAAAAAAAAIERUAAAAAAAAgRFQAAAAAAACAEFEBAAAAAAAAQkQFAAAA\n",
       "AAAACBEVAAAAAAAAIERUAAAAAAAAgNjTAwAAgEOt1/SC53t9Ty84g2cZAADgcdxEBQAAAAAAAAgR\n",
       "FQAAAAAAACBEVAAAAAAAAIAQUQEAAAAAAABCRAUAAAAAAAAIERUAAAAAAAAgRFQAAAAAAACAEFEB\n",
       "AAAAAAAAQkQFAAAAAAAACBEVAAAAAAAAIERUAAAAAAAAgNjTAwAAgEMt33Te7vqaXnAGzzIAAMDj\n",
       "OOkBAAAAAAAAhIgKAAAAAAAAECIqAAAAAAAAQIioAAAAAAAAACGiAgAAAAAAAISICgAAAAAAABAi\n",
       "KgAAAAAAAECIqAAAAAAAAAAhogIAAAAAAACEiAoAAAAAAAAQIioAAAAAAABA7OkBAADAodZresHz\n",
       "Xf+bXnAGzzIAAMDjuIkKAAAAAAAAECIqAAAAAAAAQIioAAAAAAAAACGiAgAAAAAAAISICgAAAAAA\n",
       "ABAiKgAAAAAAAECIqAAAAAAAAAAhogIAAAAAAACEiAoAAAAAAAAQIioAAAAAAABAiKgAAAAAAAAA\n",
       "sacHAAAAh1q+6bzd9TW94AyeZQAAgMdx0gMAAAAAAAAIERUAAAAAAAAgRFQAAAAAAACAEFEBAAAA\n",
       "AAAAQkQFAAAAAAAACBEVAAAAAAAAIERUAAAAAAAAgBBRAQAAAAAAAEJEBQAAAAAAAAgRFQAAAAAA\n",
       "ACD29AAAAOBQ6zW94PkuR763WL5PBgAAeBonPQAAAAAAAIAQUQEAAAAAAABCRAUAAAAAAAAIERUA\n",
       "AAAAAAAgRFQAAAAAAACAEFEBAAAAAAAAQkQFAAAAAAAACBEVAAAAAAAAIERUAAAAAAAAgBBRAQAA\n",
       "AAAAAEJEBQAAAAAAAIg9PQAAADjUWtMLnu9y5HuL5ftkAACAp3HSAwAAAAAAAAgRFQAAAAAAACBE\n",
       "VAAAAAAAAIAQUQEAAAAAAABCRAUAAAAAAAAIERUAAAAAAAAgRFQAAAAAAACAEFEBAAAAAAAAQkQF\n",
       "AAAAAAAACBEVAAAAAAAAIERUAAAAAAAAgNjTAwAAgFP5pvN2y5HvLZZnGQAA4Gmc9AAAAAAAAABC\n",
       "RAUAAAAAAAAIERUAAAAAAAAgRFQAAAAAAACAEFEBAAAAAAAAQkQFAAAAAAAACBEVAAAAAAAAIERU\n",
       "AAAAAAAAgBBRAQAAAAAAAEJEBQAAAAAAAAgRFQAAAAAAACD29AAAAOBQyzedt1uv6QWH8CwDAAA8\n",
       "jZMeAAAAAAAAQIioAAAAAAAAACGiAgAAAAAAAISICgAAAAAAABAiKgAAAAAAAECIqAAAAAAAAAAh\n",
       "ogIAAAAAAACEiAoAAAAAAAAQIioAAAAAAABAiKgAAAAAAAAAsacHAAAAh1presHzLd/NvoVnGQAA\n",
       "4HGcqAEAAAAAAABCRAUAAAAAAAAIERUAAAAAAAAgRFQAAAAAAACAEFEBAAAAAAAAQkQFAAAAAAAA\n",
       "CBEVAAAAAAAAIERUAAAAAAAAgBBRAQAAAAAAAEJEBQAAAAAAAAgRFQAAAAAAACD29AAAAOBUvum8\n",
       "3ZoecAo/NAAAwNP41wIAAAAAAAAgRFQAAAAAAACAEFEBAAAAAAAAQkQFAAAAAAAACBEVAAAAAAAA\n",
       "IERUAAAAAAAAgBBRAQAAAAAAAEJEBQAAAAAAAAgRFQAAAAAAACBEVAAAAAAAAIAQUQEAAAAAAABi\n",
       "Tw8AAAAOtdb0ggP4bvYtlt8ZAADgaZz0AAAAAAAAAEJEBQAAAAAAAAgRFQAAAAAAACBEVAAAAAAA\n",
       "AIAQUQEAAAAAAABCRAUAAAAAAAAIERUAAAAAAAAgRFQAAAAAAACAEFEBAAAAAAAAQkQFAAAAAAAA\n",
       "CBEVAAAAAAAAIPb0AAAA4FRresDz+YnfxA8NAADwNG6iAgAAAAAAAISICgAAAAAAABAiKgAAAAAA\n",
       "AECIqAAAAAAAAAAhogIAAAAAAACEiAoAAAAAAAAQIioAAAAAAABAiKgAAAAAAAAAIaICAAAAAAAA\n",
       "hIgKAAAAAAAAEHt6AAAAcKo1PeAAfuO38DMDAAA8jpuoAAAAAAAAACGiAgAAAAAAAISICgAAAAAA\n",
       "ABAiKgAAAAAAAECIqAAAAAAAAAAhogIAAAAAAACEiAoAAAAAAAAQIioAAAAAAABAiKgAAAAAAAAA\n",
       "IaICAAAAAAAAhIgKAAAAAAAAEHt6AAAAcKi1phcAAAAA/JGbqAAAAAAAAAAhogIAAAAAAACEiAoA\n",
       "AAAAAAAQIioAAAAAAABAiKgAAAAAAAAAIaICAAAAAAAAhIgKAAAAAAAAECIqAAAAAAAAQIioAAAA\n",
       "AAAAACGiAgAAAAAAAISICgAAAAAAABB7egAAAAD829b0AAAAAP4yN1EBAAAAAAAAQkQFAAAAAAAA\n",
       "CBEVAAAAAAAAIERUAAAAAAAAgBBRAQAAAAAAAEJEBQAAAAAAAAgRFQAAAAAAACBEVAAAAAAAAIAQ\n",
       "UQEAAAAAAABCRAUAAAAAAAAIERUAAAAAAAAg9vQAAADgVGt6AAAAAMAfuYkKAAAAAAAAECIqAAAA\n",
       "AAAAQIioAAAAAAAAACGiAgAAAAAAAISICgAAAAAAABAiKgAAAAAAAECIqAAAAAAAAAAhogIAAAAA\n",
       "AACEiAoAAAAAAAAQIioAAAAAAABA7OkBAAAA8G9b0wMAAAD4y9xEBQAAAAAAAAgRFQAAAAAAACBE\n",
       "VAAAAAAAAIAQUQEAAAAAAABCRAUAAAAAAAAIERUAAAAAAAAgRFQAAAAAAACAEFEBAAAAAAAAQkQF\n",
       "AAAAAAAACBEVAAAAAAAAIERUAAAAAAAAgNjTAwAAgFOt6QHP5ycGAACA/4ubqAAAAAAAAAAhogIA\n",
       "AAAAAACEiAoAAAAAAAAQIioAAAAAAABAiKgAAAAAAAAAIaICAAAAAAAAhIgKAAAAAAAAECIqAAAA\n",
       "AAAAQIioAAAAAAAAACGiAgAAAAAAAISICgAAAAAAABB7egAAAHCoNT0AAAAA4M/cRAUAAAAAAAAI\n",
       "ERUAAAAAAAAgRFQAAAAAAACAEFEBAAAAAAAAQkQFAAAAAAAACBEVAAAAAAAAIERUAAAAAAAAgBBR\n",
       "AQAAAAAAAEJEBQAAAAAAAAgRFQAAAAAAACBEVAAAAAAAAIDY0wMAAADg37amBwAAAPCXuYkKAAAA\n",
       "AAAAECIqAAAAAAAAQIioAAAAAAAAACGiAgAAAAAAAISICgAAAAAAABAiKgAAAAAAAECIqAAAAAAA\n",
       "AAAhogIAAAAAAACEiAoAAAAAAAAQIioAAAAAAABAiKgAAAAAAAAAIaICAAAAAAAAhIgKAAAAAAAA\n",
       "ECIqAAAAAAAAQIioAAAAAAAAACGiAgAAAAAAAISICgAAAAAAABAiKgAAAAAAAECIqAAAAAAAAAAh\n",
       "ogIAAAAAAACEiAoAAAAAAAAQIioAAAAAAABA7OkBAADAqdb0AAAAAIA/chMVAAAAAAAAIERUAAAA\n",
       "AAAAgBBRAQAAAAAAAEJEBQAAAAAAAAgRFQAAAAAAACBEVAAAAAAAAIAQUQEAAAAAAABCRAUAAAAA\n",
       "AAAIERUAAAAAAAAgRFQAAAAAAACAEFEBAAAAAAAAQkQFAAAAAAAACBEVAAAAAAAAIERUAAAAAAAA\n",
       "gBBRAQAAAAAAAEJEBQAAAAAAAAgRFQAAAAAAACBEVAAAAACA/9qzYwEAAACAQf7WewdRGgEAjEQF\n",
       "AAAAAAAAGIkKAAAAAAAAMBIVAAAAAAAAYCQqAAAAAAAAwEhUAAAAAAAAgJGoAAAAAAAAACNRAQAA\n",
       "AAAAAEaiAgAAAAAAAIxEBQAAAAAAABiJCgAAAAAAADASFQAAAAAAAGAkKgAAAAAAAMBIVAAAAAAA\n",
       "AICRqAAAAAAAAAAjUQEAAAAAAABGogIAAAAAAACMRAUAAAAAAAAYiQoAAAAAAAAwEhUAAAAAAABg\n",
       "JCoAAAAAAADASFQAAAAAAACAkagAAAAAAAAAI1EBAAAAAAAARqICAAAAAAAAjEQFAAAAAAAAGIkK\n",
       "AAAAAAAAMBIVAAAAAAAAYCQqAAAAAAAAwEhUAAAAAAAAgJGoAAAAAAAAACNRAQAAAAAAAEaiAgAA\n",
       "AAAAAIxEBQAAAAAAABiJCgAAAAAAADASFQAAAAAAAGAkKgAAAAAAAMBIVAAAAAAAAICRqAAAAAAA\n",
       "AAAjUQEAAAAAAABGogIAAAAAAACMRAUAAAAAAAAYiQoAAAAAAAAwEhUAAAAAAABgJCoAAAAAAADA\n",
       "SFQAAAAAAACAkagAAAAAAAAAI1EBAAAAAAAARqICAAAAAAAAjEQFAAAAAAAAGIkKAAAAAAAAMBIV\n",
       "AAAAAAAAYCQqAAAAAAAAwEhUAAAAAAAAgJGoAAAAAAAAACNRAQAAAAAAAEaiAgAAAAAAAIxEBQAA\n",
       "AAAAABiJCgAAAAAAADASFQAAAAAAAGAkKgAAAAAAAMBIVAAAAAAAAICRqAAAAAAAAAAjUQEAAAAA\n",
       "AABGogIAAAAAAACMRAUAAAAAAAAYiQoAAAAAAAAwEhUAAAAAAABgJCoAAAAAAADASFQAAAAAAACA\n",
       "kagAAAAAAAAAI1EBAAAAAAAARqICAAAAAAAAjEQFAAAAAAAAGIkKAAAAAAAAMBIVAAAAAAAAYCQq\n",
       "AAAAAAAAwEhUAAAAAAAAgJGoAAAAAAAAACNRAQAAAAAAAEaiAgAAAAAAAIxEBQAAAAAAABiJCgAA\n",
       "AAAAADASFQAAAAAAAGAkKgAAAAAAAMBIVAAAAAAAAICRqAAAAAAAAAAjUQEAAAAAAABGogIAAAAA\n",
       "AACMRAUAAAAAAAAYiQoAAAAAAAAwEhUAAAAAAABgJCoAAAAAAADASFQAAAAAAACAkagAAAAAAAAA\n",
       "I1EBAAAAAAAARqICAAAAAAAAjEQFAAAAAAAAGIkKAAAAAAAAMBIVAAAAAAAAYCQqAAAAAAAAwEhU\n",
       "AAAAAAAAgJGoAAAAAAAAACNRAQAAAAAAAEaiAgAAAAAAAIxEBQAAAAAAABiJCgAAAAAAADASFQAA\n",
       "AAAAAGAkKgAAAAAAAMBIVAAAAAAAAICRqAAAAAAAAAATvi4jFzwEl0wAAAAASUVORK5CYII=\n",
       "\" transform=\"translate(240, 248)\"/>\n",
       "</g>\n",
       "<defs>\n",
       "  <clipPath id=\"clip583\">\n",
       "    <rect x=\"2160\" y=\"248\" width=\"73\" height=\"1176\"/>\n",
       "  </clipPath>\n",
       "</defs>\n",
       "<g clip-path=\"url(#clip583)\">\n",
       "<image width=\"72\" height=\"1175\" xlink:href=\"data:image/png;base64,\n",
       "iVBORw0KGgoAAAANSUhEUgAAAEgAAASXCAYAAABCyjmuAAAJwklEQVR4nO3dwY0jMQwAQclg9g7a\n",
       "jsDs5/hRFcGhQRCSbmf3vs/5HH56Pf0P+HcCBYGCQGHOffqf8N9MUBAoCBQECnMt6ZUJCgIFgYId\n",
       "FExQECgIFAQKcyVayRMECgIFB8VggoJAQaAgULCkgwkKAgWBgkDBbT7IEwQKAgUHxWCCgkBBoCBQ\n",
       "sKSDCQoCBYGCHRRMUBAoCBQECl4UgzxBoCBQECj4JDOYoCBQECi4zQcTFAQKAgWBgtt8kCcIFAQK\n",
       "DorBBAWBgkBBoGBJBxMUBAoCBYGCJR1MUBAoCBS8KAZ5gkBBoCBQcFAMJigIFAQKdlAwQUGgIFAQ\n",
       "KLjNB3mCQEGg4KAYTFAQKAgUBAq+OAwmKAgUBAoCBbf5IE8QKAgU3OaDCQoCBYGCQMGSDiYoCBQE\n",
       "CnZQMEFBoCBQECh4UQzyBIGCQEGg4CQdTFAQKAgU7KBggoJAQaAgUHCbD/IEgYJAwUExmKAgUBAo\n",
       "CBQs6WCCgkBBoCBQ8ElmMEFBoCBQ8KIY5AkCBYGCQMFtPpigIFAQKNhBwQQFgYJAQaDgNh/kCQIF\n",
       "gYJAwUk6mKAgUBAo2EHBBAWBgkBBoOA2H+QJAgWBgoNiMEFBoCBQEChY0sEEBYGCQMEOCiYoCBQE\n",
       "CgKFkWgnTxAoCBQECk7SwQQFgYJAwQ4KJigIFAQKAgU/HxTkCQIFgYKDYjBBQaAgUBAoWNLBBAWB\n",
       "gkBBoGBJBxMUBAoCBS+KQZ4gUBAoCBQcFIMJCgIFgYIdFExQECgIFAQKbvNBniBQECgIFPwRyGCC\n",
       "gkBBoOA2H0xQECgIFAQKbvNBniBQECg4KAYTFAQKAgWBgiUdTFAQKAgU7KBggoJAQaAgUPCiGOQJ\n",
       "AgWBgkDBSTqYoCBQECjYQcEEBYGCQEGg4DYf5AkCBYGCg2IwQUGgIFAQKPjiMJigIFAQKAgUnKSD\n",
       "CQoCBYGCF8UgTxAoCBQECg6KwQQFgYJAwQ4KJigIFAQKAgW3+SBPECgIFAQKTtLBBAWBgkDBDgom\n",
       "KAgUBAoCBbf5IE8QKAgUHBSDCQoCBYGCQMGSDiYoCBQECgIFn2QGExQECgIFL4pBniBQECgIFNzm\n",
       "gwkKAgWBgh0UTFAQKAgUBApu80GeIFAQKDgoBhMUBAoCBYGCJR1MUBAoCBQECm7zQZ4gUBAoOCgG\n",
       "ExQECgIFgYIlHUxQECgIFOygYIKCQEGgIFAYiXbyBIGCQEGg4CQdTFAQKAgU7KBggoJAQaAgUPDz\n",
       "QUGeIFAQKDgoBhMUBAoCBYGCJR1MUBAoCBQECpZ0MEFBoCBQ8KIY5AkCBYGCQMFBMZigIFAQKNhB\n",
       "wQQFgYJAQaDgNh/kCQIFgYK/cRhMUBAoCBQECm7zwQQFgYJAQaBgSQcTFAQKAgUvikGeIFAQKAgU\n",
       "HBSDCQoCBYGCHRRMUBAoCBQECm7zQZ4gUBAoCBScpIMJCgIFgYIdFExQECgIFAQKbvNBniBQECg4\n",
       "KAYTFAQKAgWBgk8ygwkKAgWBgkDBSTqYoCBQECh4UQzyBIGCQEGg4KAYTFAQKAgU7KBggoJAQaAg\n",
       "UHCbD/IEgYJAQaDgJB1MUBAoCBTsoGCCgkBBoCBQcJsP8gSBgkDBQTGYoCBQECgIFCzpYIKCQEGg\n",
       "4IvDYIKCQEGgIFDwohjkCQIFgYJAwW0+mKAgUBAo2EHBBAWBgkBBoOA2H+QJAgWBgoNiMEFBoCBQ\n",
       "EChY0sEEBYGCQEGgMMd1fqVOECgIFEajnTpBoCBQECg4KAZ1gkBBoDDHk+LKBAWBgkBBoOA2H9QJ\n",
       "AgWBgkDBbT6oEwQKAgU7KKgTBAoCBYGCJ9dggoJAQaDgRTGoEwQKAgWBgtt8UCcIFAQKdlBQJwgU\n",
       "BAoChTl+Z/vKBAWBgkBBoOAkHdQJAgWBgh0U1AkCBYGCQMH/zQd1gkBBoOBnFIMJCgIFgYJAwW0+\n",
       "qBMECgIFgYIlHdQJAgWBghfFoE4QKAgUBAoOikGdIFAQKPhvn2CCgkBBoCBQcJsP6gSBgkBBoOA2\n",
       "H9QJAgWBgh0U1AkCBYGCQMGTazBBQaAgUPCiGNQJAgWBgkDBbT6oEwQKAgWBgiUd1AkCBYGC3wYc\n",
       "TFAQKAgUBAoOikGdIFAQKNhBQZ0gUBAoCBT833xQJwgUBAp+RjGYoCBQECgIFNzmgzpBoCBQEChY\n",
       "0kGdIFAQKHhRDOoEgYJAQaDgyTWYoCBQECi4rAZ1gkBBoCBQcJsP6gSBgkBBoOAkHdQJAgWBghfF\n",
       "YIKCQEGgIFBwUAzqBIGCQMGLYlAnCBQECgIFB8WgThAoCBQECp5cgwkKAgWBgtt8UCcIFAQKAgW3\n",
       "+aBOECgIFOygoE4QKAgUBAr+tk8wQUGgIFBwUAzqBIGCQEGgYEkHdYJAQaAgULCkgzpBoCBQ8KIY\n",
       "TFAQKAgUBAoOikGdIFAQKNhBQZ0gUBAoCBR87RPUCQIFgYJAwUk6qBMECgIFv5oimKAgUBAoCBQc\n",
       "FIM6QaAgUPCiGNQJAgWBgkDBQTGoEwQKAgWBgifXYIKCQEGg4DYf1AkCBYGCQMFtPqgTBAoCBTso\n",
       "qBMECgIFgYLf3RFMUBAoCBQECk7SQZ0gUBAo2EFBnSBQECgIFCzpoE4QKAgUvCgGExQECgIFgYKD\n",
       "YlAnCBQECnZQUCcIFAQKAgVf+wR1gkBBoCBQ8Fl4MEFBoCBQcJsP6gSBgkBBoGBJB3WCQEGg4EUx\n",
       "qBMECgIFgYIXxWCCgkBBoCBQcJsP6gSBgkDBbT6oEwQKAgWBgoNiUCcIFAQKXhSDCQoCBYGCQMFt\n",
       "PqgTBAoCBYGC23xQJwgUBAp2UFAnCBQECgIFT67BBAWBgkDBi2JQJwgUBAoCBbf5oE4QKAgU7KCg\n",
       "ThAoCBQECv62TzBBQaAgUBAoOEkHdYJAQaBgBwV1gkBBoCBQsKSDOkGgIFDw80FBnSBQECgIFPwg\n",
       "eTBBQaAgUBAouM0HdYJAQaDgNh/UCQIFgYJAwUExqBMECgIFL4rBBAWBgkBBoOA2H9QJAgWBgkDB\n",
       "bT6oEwQKAgU7KKgTBAoCBYGCJ9dggoJAQaDgRTGoEwQKAgWBgtt8UCcIFAQKAgVLOqgTBAoCBb8N\n",
       "OJigIFAQKAgUHBSDOkGgIFCwg4I6QaAgUBAoWNJBnSBQECh4UQwmKAgUBAoCBQfFoE4QKAgUBAqW\n",
       "dFAnCBQECr72CeoEgYJAQaDgs/BggoJAQaDgshrUCQIFgYJAwW0+qBMECgIFgYKTdFAnCBQECl4U\n",
       "gwkKAgWBgkDBQTGoEwQKAgUvikGdIFAQKAgUHBSDOkGgIFAQKHhyDSYoCBQECm7zQZ0gUBAoCBTc\n",
       "5oM6QaAgULCDgjpBoCBQEChY0kGdIFAQKHwBAZoPCb+nPRcAAAAASUVORK5CYII=\n",
       "\" transform=\"translate(2161, 248)\"/>\n",
       "</g>\n",
       "<path clip-path=\"url(#clip580)\" d=\"M2280.7 1398.49 Q2277.09 1398.49 2275.26 1402.06 Q2273.45 1405.6 2273.45 1412.73 Q2273.45 1419.84 2275.26 1423.4 Q2277.09 1426.94 2280.7 1426.94 Q2284.33 1426.94 2286.14 1423.4 Q2287.97 1419.84 2287.97 1412.73 Q2287.97 1405.6 2286.14 1402.06 Q2284.33 1398.49 2280.7 1398.49 M2280.7 1394.79 Q2286.51 1394.79 2289.57 1399.4 Q2292.64 1403.98 2292.64 1412.73 Q2292.64 1421.46 2289.57 1426.06 Q2286.51 1430.65 2280.7 1430.65 Q2274.89 1430.65 2271.81 1426.06 Q2268.76 1421.46 2268.76 1412.73 Q2268.76 1403.98 2271.81 1399.4 Q2274.89 1394.79 2280.7 1394.79 Z\" fill=\"#000000\" fill-rule=\"nonzero\" fill-opacity=\"1\" /><path clip-path=\"url(#clip580)\" d=\"M2280.7 1228.05 Q2277.09 1228.05 2275.26 1231.61 Q2273.45 1235.15 2273.45 1242.28 Q2273.45 1249.39 2275.26 1252.95 Q2277.09 1256.5 2280.7 1256.5 Q2284.33 1256.5 2286.14 1252.95 Q2287.97 1249.39 2287.97 1242.28 Q2287.97 1235.15 2286.14 1231.61 Q2284.33 1228.05 2280.7 1228.05 M2280.7 1224.34 Q2286.51 1224.34 2289.57 1228.95 Q2292.64 1233.53 2292.64 1242.28 Q2292.64 1251.01 2289.57 1255.62 Q2286.51 1260.2 2280.7 1260.2 Q2274.89 1260.2 2271.81 1255.62 Q2268.76 1251.01 2268.76 1242.28 Q2268.76 1233.53 2271.81 1228.95 Q2274.89 1224.34 2280.7 1224.34 Z\" fill=\"#000000\" fill-rule=\"nonzero\" fill-opacity=\"1\" /><path clip-path=\"url(#clip580)\" d=\"M2300.86 1253.65 L2305.75 1253.65 L2305.75 1259.53 L2300.86 1259.53 L2300.86 1253.65 Z\" fill=\"#000000\" fill-rule=\"nonzero\" fill-opacity=\"1\" /><path clip-path=\"url(#clip580)\" d=\"M2319.96 1255.59 L2336.28 1255.59 L2336.28 1259.53 L2314.33 1259.53 L2314.33 1255.59 Q2317 1252.84 2321.58 1248.21 Q2326.19 1243.56 2327.37 1242.21 Q2329.61 1239.69 2330.49 1237.95 Q2331.39 1236.19 2331.39 1234.51 Q2331.39 1231.75 2329.45 1230.01 Q2327.53 1228.28 2324.43 1228.28 Q2322.23 1228.28 2319.77 1229.04 Q2317.34 1229.81 2314.57 1231.36 L2314.57 1226.63 Q2317.39 1225.5 2319.84 1224.92 Q2322.3 1224.34 2324.33 1224.34 Q2329.7 1224.34 2332.9 1227.03 Q2336.09 1229.71 2336.09 1234.2 Q2336.09 1236.33 2335.28 1238.26 Q2334.5 1240.15 2332.39 1242.75 Q2331.81 1243.42 2328.71 1246.63 Q2325.61 1249.83 2319.96 1255.59 Z\" fill=\"#000000\" fill-rule=\"nonzero\" fill-opacity=\"1\" /><path clip-path=\"url(#clip580)\" d=\"M2346.14 1224.97 L2364.5 1224.97 L2364.5 1228.9 L2350.42 1228.9 L2350.42 1237.38 Q2351.44 1237.03 2352.46 1236.87 Q2353.48 1236.68 2354.5 1236.68 Q2360.28 1236.68 2363.66 1239.85 Q2367.04 1243.02 2367.04 1248.44 Q2367.04 1254.02 2363.57 1257.12 Q2360.1 1260.2 2353.78 1260.2 Q2351.6 1260.2 2349.33 1259.83 Q2347.09 1259.46 2344.68 1258.72 L2344.68 1254.02 Q2346.76 1255.15 2348.99 1255.71 Q2351.21 1256.26 2353.69 1256.26 Q2357.69 1256.26 2360.03 1254.16 Q2362.37 1252.05 2362.37 1248.44 Q2362.37 1244.83 2360.03 1242.72 Q2357.69 1240.62 2353.69 1240.62 Q2351.81 1240.62 2349.94 1241.03 Q2348.08 1241.45 2346.14 1242.33 L2346.14 1224.97 Z\" fill=\"#000000\" fill-rule=\"nonzero\" fill-opacity=\"1\" /><path clip-path=\"url(#clip580)\" d=\"M2280.7 1057.6 Q2277.09 1057.6 2275.26 1061.17 Q2273.45 1064.71 2273.45 1071.84 Q2273.45 1078.94 2275.26 1082.51 Q2277.09 1086.05 2280.7 1086.05 Q2284.33 1086.05 2286.14 1082.51 Q2287.97 1078.94 2287.97 1071.84 Q2287.97 1064.71 2286.14 1061.17 Q2284.33 1057.6 2280.7 1057.6 M2280.7 1053.9 Q2286.51 1053.9 2289.57 1058.5 Q2292.64 1063.09 2292.64 1071.84 Q2292.64 1080.56 2289.57 1085.17 Q2286.51 1089.75 2280.7 1089.75 Q2274.89 1089.75 2271.81 1085.17 Q2268.76 1080.56 2268.76 1071.84 Q2268.76 1063.09 2271.81 1058.5 Q2274.89 1053.9 2280.7 1053.9 Z\" fill=\"#000000\" fill-rule=\"nonzero\" fill-opacity=\"1\" /><path clip-path=\"url(#clip580)\" d=\"M2300.86 1083.2 L2305.75 1083.2 L2305.75 1089.08 L2300.86 1089.08 L2300.86 1083.2 Z\" fill=\"#000000\" fill-rule=\"nonzero\" fill-opacity=\"1\" /><path clip-path=\"url(#clip580)\" d=\"M2315.98 1054.52 L2334.33 1054.52 L2334.33 1058.46 L2320.26 1058.46 L2320.26 1066.93 Q2321.28 1066.58 2322.3 1066.42 Q2323.32 1066.23 2324.33 1066.23 Q2330.12 1066.23 2333.5 1069.41 Q2336.88 1072.58 2336.88 1077.99 Q2336.88 1083.57 2333.41 1086.67 Q2329.94 1089.75 2323.62 1089.75 Q2321.44 1089.75 2319.17 1089.38 Q2316.93 1089.01 2314.52 1088.27 L2314.52 1083.57 Q2316.6 1084.71 2318.83 1085.26 Q2321.05 1085.82 2323.52 1085.82 Q2327.53 1085.82 2329.87 1083.71 Q2332.2 1081.6 2332.2 1077.99 Q2332.2 1074.38 2329.87 1072.28 Q2327.53 1070.17 2323.52 1070.17 Q2321.65 1070.17 2319.77 1070.59 Q2317.92 1071 2315.98 1071.88 L2315.98 1054.52 Z\" fill=\"#000000\" fill-rule=\"nonzero\" fill-opacity=\"1\" /><path clip-path=\"url(#clip580)\" d=\"M2356.09 1057.6 Q2352.48 1057.6 2350.65 1061.17 Q2348.85 1064.71 2348.85 1071.84 Q2348.85 1078.94 2350.65 1082.51 Q2352.48 1086.05 2356.09 1086.05 Q2359.73 1086.05 2361.53 1082.51 Q2363.36 1078.94 2363.36 1071.84 Q2363.36 1064.71 2361.53 1061.17 Q2359.73 1057.6 2356.09 1057.6 M2356.09 1053.9 Q2361.9 1053.9 2364.96 1058.5 Q2368.04 1063.09 2368.04 1071.84 Q2368.04 1080.56 2364.96 1085.17 Q2361.9 1089.75 2356.09 1089.75 Q2350.28 1089.75 2347.2 1085.17 Q2344.15 1080.56 2344.15 1071.84 Q2344.15 1063.09 2347.2 1058.5 Q2350.28 1053.9 2356.09 1053.9 Z\" fill=\"#000000\" fill-rule=\"nonzero\" fill-opacity=\"1\" /><path clip-path=\"url(#clip580)\" d=\"M2280.7 887.154 Q2277.09 887.154 2275.26 890.719 Q2273.45 894.26 2273.45 901.39 Q2273.45 908.496 2275.26 912.061 Q2277.09 915.603 2280.7 915.603 Q2284.33 915.603 2286.14 912.061 Q2287.97 908.496 2287.97 901.39 Q2287.97 894.26 2286.14 890.719 Q2284.33 887.154 2280.7 887.154 M2280.7 883.45 Q2286.51 883.45 2289.57 888.057 Q2292.64 892.64 2292.64 901.39 Q2292.64 910.117 2289.57 914.723 Q2286.51 919.307 2280.7 919.307 Q2274.89 919.307 2271.81 914.723 Q2268.76 910.117 2268.76 901.39 Q2268.76 892.64 2271.81 888.057 Q2274.89 883.45 2280.7 883.45 Z\" fill=\"#000000\" fill-rule=\"nonzero\" fill-opacity=\"1\" /><path clip-path=\"url(#clip580)\" d=\"M2300.86 912.756 L2305.75 912.756 L2305.75 918.635 L2300.86 918.635 L2300.86 912.756 Z\" fill=\"#000000\" fill-rule=\"nonzero\" fill-opacity=\"1\" /><path clip-path=\"url(#clip580)\" d=\"M2314.75 884.075 L2336.97 884.075 L2336.97 886.066 L2324.43 918.635 L2319.54 918.635 L2331.35 888.01 L2314.75 888.01 L2314.75 884.075 Z\" fill=\"#000000\" fill-rule=\"nonzero\" fill-opacity=\"1\" /><path clip-path=\"url(#clip580)\" d=\"M2346.14 884.075 L2364.5 884.075 L2364.5 888.01 L2350.42 888.01 L2350.42 896.483 Q2351.44 896.135 2352.46 895.973 Q2353.48 895.788 2354.5 895.788 Q2360.28 895.788 2363.66 898.959 Q2367.04 902.131 2367.04 907.547 Q2367.04 913.126 2363.57 916.228 Q2360.1 919.307 2353.78 919.307 Q2351.6 919.307 2349.33 918.936 Q2347.09 918.566 2344.68 917.825 L2344.68 913.126 Q2346.76 914.26 2348.99 914.816 Q2351.21 915.371 2353.69 915.371 Q2357.69 915.371 2360.03 913.265 Q2362.37 911.158 2362.37 907.547 Q2362.37 903.936 2360.03 901.83 Q2357.69 899.723 2353.69 899.723 Q2351.81 899.723 2349.94 900.14 Q2348.08 900.557 2346.14 901.436 L2346.14 884.075 Z\" fill=\"#000000\" fill-rule=\"nonzero\" fill-opacity=\"1\" /><path clip-path=\"url(#clip580)\" d=\"M2269.43 744.254 L2277.07 744.254 L2277.07 717.888 L2268.76 719.555 L2268.76 715.295 L2277.02 713.629 L2281.7 713.629 L2281.7 744.254 L2289.33 744.254 L2289.33 748.189 L2269.43 748.189 L2269.43 744.254 Z\" fill=\"#000000\" fill-rule=\"nonzero\" fill-opacity=\"1\" /><path clip-path=\"url(#clip580)\" d=\"M2298.78 742.309 L2303.66 742.309 L2303.66 748.189 L2298.78 748.189 L2298.78 742.309 Z\" fill=\"#000000\" fill-rule=\"nonzero\" fill-opacity=\"1\" /><path clip-path=\"url(#clip580)\" d=\"M2323.85 716.708 Q2320.24 716.708 2318.41 720.272 Q2316.6 723.814 2316.6 730.944 Q2316.6 738.05 2318.41 741.615 Q2320.24 745.156 2323.85 745.156 Q2327.48 745.156 2329.29 741.615 Q2331.12 738.05 2331.12 730.944 Q2331.12 723.814 2329.29 720.272 Q2327.48 716.708 2323.85 716.708 M2323.85 713.004 Q2329.66 713.004 2332.71 717.61 Q2335.79 722.194 2335.79 730.944 Q2335.79 739.67 2332.71 744.277 Q2329.66 748.86 2323.85 748.86 Q2318.04 748.86 2314.96 744.277 Q2311.9 739.67 2311.9 730.944 Q2311.9 722.194 2314.96 717.61 Q2318.04 713.004 2323.85 713.004 Z\" fill=\"#000000\" fill-rule=\"nonzero\" fill-opacity=\"1\" /><path clip-path=\"url(#clip580)\" d=\"M2354.01 716.708 Q2350.4 716.708 2348.57 720.272 Q2346.76 723.814 2346.76 730.944 Q2346.76 738.05 2348.57 741.615 Q2350.4 745.156 2354.01 745.156 Q2357.64 745.156 2359.45 741.615 Q2361.28 738.05 2361.28 730.944 Q2361.28 723.814 2359.45 720.272 Q2357.64 716.708 2354.01 716.708 M2354.01 713.004 Q2359.82 713.004 2362.88 717.61 Q2365.95 722.194 2365.95 730.944 Q2365.95 739.67 2362.88 744.277 Q2359.82 748.86 2354.01 748.86 Q2348.2 748.86 2345.12 744.277 Q2342.07 739.67 2342.07 730.944 Q2342.07 722.194 2345.12 717.61 Q2348.2 713.004 2354.01 713.004 Z\" fill=\"#000000\" fill-rule=\"nonzero\" fill-opacity=\"1\" /><path clip-path=\"url(#clip580)\" d=\"M2269.43 573.807 L2277.07 573.807 L2277.07 547.442 L2268.76 549.108 L2268.76 544.849 L2277.02 543.182 L2281.7 543.182 L2281.7 573.807 L2289.33 573.807 L2289.33 577.742 L2269.43 577.742 L2269.43 573.807 Z\" fill=\"#000000\" fill-rule=\"nonzero\" fill-opacity=\"1\" /><path clip-path=\"url(#clip580)\" d=\"M2298.78 571.863 L2303.66 571.863 L2303.66 577.742 L2298.78 577.742 L2298.78 571.863 Z\" fill=\"#000000\" fill-rule=\"nonzero\" fill-opacity=\"1\" /><path clip-path=\"url(#clip580)\" d=\"M2317.88 573.807 L2334.2 573.807 L2334.2 577.742 L2312.25 577.742 L2312.25 573.807 Q2314.91 571.053 2319.5 566.423 Q2324.1 561.77 2325.28 560.428 Q2327.53 557.904 2328.41 556.168 Q2329.31 554.409 2329.31 552.719 Q2329.31 549.965 2327.37 548.229 Q2325.45 546.493 2322.34 546.493 Q2320.14 546.493 2317.69 547.256 Q2315.26 548.02 2312.48 549.571 L2312.48 544.849 Q2315.31 543.715 2317.76 543.136 Q2320.21 542.557 2322.25 542.557 Q2327.62 542.557 2330.82 545.243 Q2334.01 547.928 2334.01 552.418 Q2334.01 554.548 2333.2 556.469 Q2332.41 558.367 2330.31 560.96 Q2329.73 561.631 2326.63 564.849 Q2323.52 568.043 2317.88 573.807 Z\" fill=\"#000000\" fill-rule=\"nonzero\" fill-opacity=\"1\" /><path clip-path=\"url(#clip580)\" d=\"M2344.06 543.182 L2362.41 543.182 L2362.41 547.118 L2348.34 547.118 L2348.34 555.59 Q2349.36 555.242 2350.38 555.08 Q2351.39 554.895 2352.41 554.895 Q2358.2 554.895 2361.58 558.067 Q2364.96 561.238 2364.96 566.654 Q2364.96 572.233 2361.49 575.335 Q2358.01 578.414 2351.7 578.414 Q2349.52 578.414 2347.25 578.043 Q2345.01 577.673 2342.6 576.932 L2342.6 572.233 Q2344.68 573.367 2346.9 573.923 Q2349.13 574.478 2351.6 574.478 Q2355.61 574.478 2357.95 572.372 Q2360.28 570.266 2360.28 566.654 Q2360.28 563.043 2357.95 560.937 Q2355.61 558.83 2351.6 558.83 Q2349.73 558.83 2347.85 559.247 Q2346 559.664 2344.06 560.543 L2344.06 543.182 Z\" fill=\"#000000\" fill-rule=\"nonzero\" fill-opacity=\"1\" /><path clip-path=\"url(#clip580)\" d=\"M2269.43 403.361 L2277.07 403.361 L2277.07 376.995 L2268.76 378.662 L2268.76 374.403 L2277.02 372.736 L2281.7 372.736 L2281.7 403.361 L2289.33 403.361 L2289.33 407.296 L2269.43 407.296 L2269.43 403.361 Z\" fill=\"#000000\" fill-rule=\"nonzero\" fill-opacity=\"1\" /><path clip-path=\"url(#clip580)\" d=\"M2298.78 401.416 L2303.66 401.416 L2303.66 407.296 L2298.78 407.296 L2298.78 401.416 Z\" fill=\"#000000\" fill-rule=\"nonzero\" fill-opacity=\"1\" /><path clip-path=\"url(#clip580)\" d=\"M2313.89 372.736 L2332.25 372.736 L2332.25 376.671 L2318.18 376.671 L2318.18 385.143 Q2319.2 384.796 2320.21 384.634 Q2321.23 384.449 2322.25 384.449 Q2328.04 384.449 2331.42 387.62 Q2334.8 390.791 2334.8 396.208 Q2334.8 401.787 2331.33 404.888 Q2327.85 407.967 2321.53 407.967 Q2319.36 407.967 2317.09 407.597 Q2314.84 407.226 2312.44 406.486 L2312.44 401.787 Q2314.52 402.921 2316.74 403.476 Q2318.96 404.032 2321.44 404.032 Q2325.45 404.032 2327.78 401.926 Q2330.12 399.819 2330.12 396.208 Q2330.12 392.597 2327.78 390.49 Q2325.45 388.384 2321.44 388.384 Q2319.57 388.384 2317.69 388.801 Q2315.84 389.217 2313.89 390.097 L2313.89 372.736 Z\" fill=\"#000000\" fill-rule=\"nonzero\" fill-opacity=\"1\" /><path clip-path=\"url(#clip580)\" d=\"M2354.01 375.815 Q2350.4 375.815 2348.57 379.379 Q2346.76 382.921 2346.76 390.051 Q2346.76 397.157 2348.57 400.722 Q2350.4 404.263 2354.01 404.263 Q2357.64 404.263 2359.45 400.722 Q2361.28 397.157 2361.28 390.051 Q2361.28 382.921 2359.45 379.379 Q2357.64 375.815 2354.01 375.815 M2354.01 372.111 Q2359.82 372.111 2362.88 376.717 Q2365.95 381.301 2365.95 390.051 Q2365.95 398.777 2362.88 403.384 Q2359.82 407.967 2354.01 407.967 Q2348.2 407.967 2345.12 403.384 Q2342.07 398.777 2342.07 390.051 Q2342.07 381.301 2345.12 376.717 Q2348.2 372.111 2354.01 372.111 Z\" fill=\"#000000\" fill-rule=\"nonzero\" fill-opacity=\"1\" /><polyline clip-path=\"url(#clip580)\" style=\"stroke:#000000; stroke-linecap:round; stroke-linejoin:round; stroke-width:4; stroke-opacity:1; fill:none\" points=\"2232.76,1423.18 2232.76,1416.32 2256.76,1416.32 2232.76,1416.32 2232.76,1245.88 2256.76,1245.88 2232.76,1245.88 2232.76,1075.43 2256.76,1075.43 2232.76,1075.43 2232.76,904.984 2256.76,904.984 2232.76,904.984 2232.76,734.538 2256.76,734.538 2232.76,734.538 2232.76,564.091 2256.76,564.091 2232.76,564.091 2232.76,393.645 2256.76,393.645 2232.76,393.645 2232.76,248.204 \"/>\n",
       "</svg>\n"
      ],
      "text/html": [
       "<?xml version=\"1.0\" encoding=\"utf-8\"?>\n",
       "<svg xmlns=\"http://www.w3.org/2000/svg\" xmlns:xlink=\"http://www.w3.org/1999/xlink\" width=\"600\" height=\"400\" viewBox=\"0 0 2400 1600\">\n",
       "<defs>\n",
       "  <clipPath id=\"clip630\">\n",
       "    <rect x=\"0\" y=\"0\" width=\"2400\" height=\"1600\"/>\n",
       "  </clipPath>\n",
       "</defs>\n",
       "<path clip-path=\"url(#clip630)\" d=\"M0 1600 L2400 1600 L2400 0 L0 0  Z\" fill=\"#ffffff\" fill-rule=\"evenodd\" fill-opacity=\"1\"/>\n",
       "<defs>\n",
       "  <clipPath id=\"clip631\">\n",
       "    <rect x=\"480\" y=\"0\" width=\"1681\" height=\"1600\"/>\n",
       "  </clipPath>\n",
       "</defs>\n",
       "<path clip-path=\"url(#clip630)\" d=\"M239.697 1423.18 L2112.76 1423.18 L2112.76 248.204 L239.697 248.204  Z\" fill=\"#ffffff\" fill-rule=\"evenodd\" fill-opacity=\"1\"/>\n",
       "<defs>\n",
       "  <clipPath id=\"clip632\">\n",
       "    <rect x=\"239\" y=\"248\" width=\"1874\" height=\"1176\"/>\n",
       "  </clipPath>\n",
       "</defs>\n",
       "<polyline clip-path=\"url(#clip632)\" style=\"stroke:#000000; stroke-linecap:round; stroke-linejoin:round; stroke-width:2; stroke-opacity:0.1; fill:none\" points=\"641.067,1423.18 641.067,248.204 \"/>\n",
       "<polyline clip-path=\"url(#clip632)\" style=\"stroke:#000000; stroke-linecap:round; stroke-linejoin:round; stroke-width:2; stroke-opacity:0.1; fill:none\" points=\"1087.03,1423.18 1087.03,248.204 \"/>\n",
       "<polyline clip-path=\"url(#clip632)\" style=\"stroke:#000000; stroke-linecap:round; stroke-linejoin:round; stroke-width:2; stroke-opacity:0.1; fill:none\" points=\"1533,1423.18 1533,248.204 \"/>\n",
       "<polyline clip-path=\"url(#clip632)\" style=\"stroke:#000000; stroke-linecap:round; stroke-linejoin:round; stroke-width:2; stroke-opacity:0.1; fill:none\" points=\"1978.97,1423.18 1978.97,248.204 \"/>\n",
       "<polyline clip-path=\"url(#clip630)\" style=\"stroke:#000000; stroke-linecap:round; stroke-linejoin:round; stroke-width:4; stroke-opacity:1; fill:none\" points=\"239.697,1423.18 2112.76,1423.18 \"/>\n",
       "<polyline clip-path=\"url(#clip630)\" style=\"stroke:#000000; stroke-linecap:round; stroke-linejoin:round; stroke-width:4; stroke-opacity:1; fill:none\" points=\"641.067,1423.18 641.067,1404.28 \"/>\n",
       "<polyline clip-path=\"url(#clip630)\" style=\"stroke:#000000; stroke-linecap:round; stroke-linejoin:round; stroke-width:4; stroke-opacity:1; fill:none\" points=\"1087.03,1423.18 1087.03,1404.28 \"/>\n",
       "<polyline clip-path=\"url(#clip630)\" style=\"stroke:#000000; stroke-linecap:round; stroke-linejoin:round; stroke-width:4; stroke-opacity:1; fill:none\" points=\"1533,1423.18 1533,1404.28 \"/>\n",
       "<polyline clip-path=\"url(#clip630)\" style=\"stroke:#000000; stroke-linecap:round; stroke-linejoin:round; stroke-width:4; stroke-opacity:1; fill:none\" points=\"1978.97,1423.18 1978.97,1404.28 \"/>\n",
       "<path clip-path=\"url(#clip630)\" d=\"M631.345 1451.02 L649.701 1451.02 L649.701 1454.96 L635.627 1454.96 L635.627 1463.43 Q636.646 1463.08 637.664 1462.92 Q638.683 1462.73 639.701 1462.73 Q645.488 1462.73 648.868 1465.9 Q652.247 1469.08 652.247 1474.49 Q652.247 1480.07 648.775 1483.17 Q645.303 1486.25 638.984 1486.25 Q636.808 1486.25 634.539 1485.88 Q632.294 1485.51 629.886 1484.77 L629.886 1480.07 Q631.97 1481.2 634.192 1481.76 Q636.414 1482.32 638.891 1482.32 Q642.896 1482.32 645.234 1480.21 Q647.571 1478.1 647.571 1474.49 Q647.571 1470.88 645.234 1468.77 Q642.896 1466.67 638.891 1466.67 Q637.016 1466.67 635.141 1467.08 Q633.289 1467.5 631.345 1468.38 L631.345 1451.02 Z\" fill=\"#000000\" fill-rule=\"nonzero\" fill-opacity=\"1\" /><path clip-path=\"url(#clip630)\" d=\"M1061.72 1481.64 L1069.36 1481.64 L1069.36 1455.28 L1061.05 1456.95 L1061.05 1452.69 L1069.31 1451.02 L1073.99 1451.02 L1073.99 1481.64 L1081.63 1481.64 L1081.63 1485.58 L1061.72 1485.58 L1061.72 1481.64 Z\" fill=\"#000000\" fill-rule=\"nonzero\" fill-opacity=\"1\" /><path clip-path=\"url(#clip630)\" d=\"M1101.07 1454.1 Q1097.46 1454.1 1095.63 1457.66 Q1093.83 1461.2 1093.83 1468.33 Q1093.83 1475.44 1095.63 1479.01 Q1097.46 1482.55 1101.07 1482.55 Q1104.71 1482.55 1106.51 1479.01 Q1108.34 1475.44 1108.34 1468.33 Q1108.34 1461.2 1106.51 1457.66 Q1104.71 1454.1 1101.07 1454.1 M1101.07 1450.39 Q1106.88 1450.39 1109.94 1455 Q1113.02 1459.58 1113.02 1468.33 Q1113.02 1477.06 1109.94 1481.67 Q1106.88 1486.25 1101.07 1486.25 Q1095.26 1486.25 1092.18 1481.67 Q1089.13 1477.06 1089.13 1468.33 Q1089.13 1459.58 1092.18 1455 Q1095.26 1450.39 1101.07 1450.39 Z\" fill=\"#000000\" fill-rule=\"nonzero\" fill-opacity=\"1\" /><path clip-path=\"url(#clip630)\" d=\"M1508.18 1481.64 L1515.82 1481.64 L1515.82 1455.28 L1507.51 1456.95 L1507.51 1452.69 L1515.78 1451.02 L1520.45 1451.02 L1520.45 1481.64 L1528.09 1481.64 L1528.09 1485.58 L1508.18 1485.58 L1508.18 1481.64 Z\" fill=\"#000000\" fill-rule=\"nonzero\" fill-opacity=\"1\" /><path clip-path=\"url(#clip630)\" d=\"M1537.58 1451.02 L1555.94 1451.02 L1555.94 1454.96 L1541.87 1454.96 L1541.87 1463.43 Q1542.88 1463.08 1543.9 1462.92 Q1544.92 1462.73 1545.94 1462.73 Q1551.73 1462.73 1555.11 1465.9 Q1558.49 1469.08 1558.49 1474.49 Q1558.49 1480.07 1555.01 1483.17 Q1551.54 1486.25 1545.22 1486.25 Q1543.05 1486.25 1540.78 1485.88 Q1538.53 1485.51 1536.12 1484.77 L1536.12 1480.07 Q1538.21 1481.2 1540.43 1481.76 Q1542.65 1482.32 1545.13 1482.32 Q1549.13 1482.32 1551.47 1480.21 Q1553.81 1478.1 1553.81 1474.49 Q1553.81 1470.88 1551.47 1468.77 Q1549.13 1466.67 1545.13 1466.67 Q1543.25 1466.67 1541.38 1467.08 Q1539.53 1467.5 1537.58 1468.38 L1537.58 1451.02 Z\" fill=\"#000000\" fill-rule=\"nonzero\" fill-opacity=\"1\" /><path clip-path=\"url(#clip630)\" d=\"M1957.74 1481.64 L1974.06 1481.64 L1974.06 1485.58 L1952.11 1485.58 L1952.11 1481.64 Q1954.78 1478.89 1959.36 1474.26 Q1963.97 1469.61 1965.15 1468.27 Q1967.39 1465.74 1968.27 1464.01 Q1969.17 1462.25 1969.17 1460.56 Q1969.17 1457.8 1967.23 1456.07 Q1965.31 1454.33 1962.21 1454.33 Q1960.01 1454.33 1957.55 1455.09 Q1955.12 1455.86 1952.35 1457.41 L1952.35 1452.69 Q1955.17 1451.55 1957.62 1450.97 Q1960.08 1450.39 1962.11 1450.39 Q1967.48 1450.39 1970.68 1453.08 Q1973.87 1455.77 1973.87 1460.26 Q1973.87 1462.39 1973.06 1464.31 Q1972.28 1466.2 1970.17 1468.8 Q1969.59 1469.47 1966.49 1472.69 Q1963.39 1475.88 1957.74 1481.64 Z\" fill=\"#000000\" fill-rule=\"nonzero\" fill-opacity=\"1\" /><path clip-path=\"url(#clip630)\" d=\"M1993.87 1454.1 Q1990.26 1454.1 1988.43 1457.66 Q1986.63 1461.2 1986.63 1468.33 Q1986.63 1475.44 1988.43 1479.01 Q1990.26 1482.55 1993.87 1482.55 Q1997.51 1482.55 1999.31 1479.01 Q2001.14 1475.44 2001.14 1468.33 Q2001.14 1461.2 1999.31 1457.66 Q1997.51 1454.1 1993.87 1454.1 M1993.87 1450.39 Q1999.68 1450.39 2002.74 1455 Q2005.82 1459.58 2005.82 1468.33 Q2005.82 1477.06 2002.74 1481.67 Q1999.68 1486.25 1993.87 1486.25 Q1988.06 1486.25 1984.98 1481.67 Q1981.93 1477.06 1981.93 1468.33 Q1981.93 1459.58 1984.98 1455 Q1988.06 1450.39 1993.87 1450.39 Z\" fill=\"#000000\" fill-rule=\"nonzero\" fill-opacity=\"1\" /><path clip-path=\"url(#clip630)\" d=\"M1047.37 1522.08 L1047.37 1528.35 Q1043.71 1526.6 1040.46 1525.74 Q1037.22 1524.88 1034.19 1524.88 Q1028.94 1524.88 1026.08 1526.92 Q1023.24 1528.96 1023.24 1532.71 Q1023.24 1535.87 1025.12 1537.49 Q1027.03 1539.08 1032.31 1540.07 L1036.2 1540.86 Q1043.39 1542.23 1046.8 1545.7 Q1050.23 1549.14 1050.23 1554.93 Q1050.23 1561.84 1045.59 1565.4 Q1040.97 1568.97 1032.03 1568.97 Q1028.65 1568.97 1024.83 1568.2 Q1021.05 1567.44 1016.97 1565.94 L1016.97 1559.32 Q1020.89 1561.52 1024.64 1562.63 Q1028.4 1563.75 1032.03 1563.75 Q1037.53 1563.75 1040.53 1561.58 Q1043.52 1559.42 1043.52 1555.41 Q1043.52 1551.91 1041.35 1549.93 Q1039.22 1547.96 1034.32 1546.97 L1030.4 1546.21 Q1023.21 1544.78 1020 1541.72 Q1016.78 1538.67 1016.78 1533.22 Q1016.78 1526.92 1021.21 1523.29 Q1025.66 1519.66 1033.46 1519.66 Q1036.8 1519.66 1040.27 1520.27 Q1043.74 1520.87 1047.37 1522.08 Z\" fill=\"#000000\" fill-rule=\"nonzero\" fill-opacity=\"1\" /><path clip-path=\"url(#clip630)\" d=\"M1060 1532.4 L1065.86 1532.4 L1065.86 1568.04 L1060 1568.04 L1060 1532.4 M1060 1518.52 L1065.86 1518.52 L1065.86 1525.93 L1060 1525.93 L1060 1518.52 Z\" fill=\"#000000\" fill-rule=\"nonzero\" fill-opacity=\"1\" /><path clip-path=\"url(#clip630)\" d=\"M1083.91 1522.27 L1083.91 1532.4 L1095.97 1532.4 L1095.97 1536.95 L1083.91 1536.95 L1083.91 1556.3 Q1083.91 1560.66 1085.09 1561.9 Q1086.3 1563.14 1089.96 1563.14 L1095.97 1563.14 L1095.97 1568.04 L1089.96 1568.04 Q1083.18 1568.04 1080.6 1565.53 Q1078.02 1562.98 1078.02 1556.3 L1078.02 1536.95 L1073.72 1536.95 L1073.72 1532.4 L1078.02 1532.4 L1078.02 1522.27 L1083.91 1522.27 Z\" fill=\"#000000\" fill-rule=\"nonzero\" fill-opacity=\"1\" /><path clip-path=\"url(#clip630)\" d=\"M1134.17 1548.76 L1134.17 1551.62 L1107.24 1551.62 Q1107.62 1557.67 1110.87 1560.85 Q1114.14 1564 1119.97 1564 Q1123.34 1564 1126.49 1563.17 Q1129.68 1562.35 1132.8 1560.69 L1132.8 1566.23 Q1129.65 1567.57 1126.34 1568.27 Q1123.03 1568.97 1119.62 1568.97 Q1111.09 1568.97 1106.09 1564 Q1101.13 1559.04 1101.13 1550.57 Q1101.13 1541.82 1105.84 1536.69 Q1110.58 1531.54 1118.6 1531.54 Q1125.79 1531.54 1129.96 1536.18 Q1134.17 1540.8 1134.17 1548.76 M1128.31 1547.04 Q1128.25 1542.23 1125.6 1539.37 Q1122.99 1536.5 1118.66 1536.5 Q1113.76 1536.5 1110.8 1539.27 Q1107.87 1542.04 1107.43 1547.07 L1128.31 1547.04 Z\" fill=\"#000000\" fill-rule=\"nonzero\" fill-opacity=\"1\" /><path clip-path=\"url(#clip630)\" d=\"M1164.75 1520.52 L1171.18 1520.52 L1171.18 1568.04 L1164.75 1568.04 L1164.75 1520.52 Z\" fill=\"#000000\" fill-rule=\"nonzero\" fill-opacity=\"1\" /><path clip-path=\"url(#clip630)\" d=\"M1213.35 1546.53 L1213.35 1568.04 L1207.5 1568.04 L1207.5 1546.72 Q1207.5 1541.66 1205.52 1539.14 Q1203.55 1536.63 1199.6 1536.63 Q1194.86 1536.63 1192.12 1539.65 Q1189.39 1542.68 1189.39 1547.9 L1189.39 1568.04 L1183.5 1568.04 L1183.5 1532.4 L1189.39 1532.4 L1189.39 1537.93 Q1191.49 1534.72 1194.32 1533.13 Q1197.19 1531.54 1200.91 1531.54 Q1207.05 1531.54 1210.2 1535.36 Q1213.35 1539.14 1213.35 1546.53 Z\" fill=\"#000000\" fill-rule=\"nonzero\" fill-opacity=\"1\" /><path clip-path=\"url(#clip630)\" d=\"M1248.49 1537.81 L1248.49 1518.52 L1254.35 1518.52 L1254.35 1568.04 L1248.49 1568.04 L1248.49 1562.7 Q1246.65 1565.88 1243.81 1567.44 Q1241.01 1568.97 1237.07 1568.97 Q1230.61 1568.97 1226.53 1563.81 Q1222.49 1558.65 1222.49 1550.25 Q1222.49 1541.85 1226.53 1536.69 Q1230.61 1531.54 1237.07 1531.54 Q1241.01 1531.54 1243.81 1533.1 Q1246.65 1534.62 1248.49 1537.81 M1228.54 1550.25 Q1228.54 1556.71 1231.18 1560.4 Q1233.85 1564.07 1238.5 1564.07 Q1243.15 1564.07 1245.82 1560.4 Q1248.49 1556.71 1248.49 1550.25 Q1248.49 1543.79 1245.82 1540.13 Q1243.15 1536.44 1238.5 1536.44 Q1233.85 1536.44 1231.18 1540.13 Q1228.54 1543.79 1228.54 1550.25 Z\" fill=\"#000000\" fill-rule=\"nonzero\" fill-opacity=\"1\" /><path clip-path=\"url(#clip630)\" d=\"M1296.9 1548.76 L1296.9 1551.62 L1269.98 1551.62 Q1270.36 1557.67 1273.61 1560.85 Q1276.88 1564 1282.71 1564 Q1286.08 1564 1289.23 1563.17 Q1292.42 1562.35 1295.54 1560.69 L1295.54 1566.23 Q1292.38 1567.57 1289.07 1568.27 Q1285.76 1568.97 1282.36 1568.97 Q1273.83 1568.97 1268.83 1564 Q1263.87 1559.04 1263.87 1550.57 Q1263.87 1541.82 1268.58 1536.69 Q1273.32 1531.54 1281.34 1531.54 Q1288.53 1531.54 1292.7 1536.18 Q1296.9 1540.8 1296.9 1548.76 M1291.05 1547.04 Q1290.98 1542.23 1288.34 1539.37 Q1285.73 1536.5 1281.4 1536.5 Q1276.5 1536.5 1273.54 1539.27 Q1270.61 1542.04 1270.17 1547.07 L1291.05 1547.04 Z\" fill=\"#000000\" fill-rule=\"nonzero\" fill-opacity=\"1\" /><path clip-path=\"url(#clip630)\" d=\"M1335 1532.4 L1322.11 1549.74 L1335.67 1568.04 L1328.76 1568.04 L1318.39 1554.04 L1308.01 1568.04 L1301.11 1568.04 L1314.95 1549.39 L1302.28 1532.4 L1309.19 1532.4 L1318.64 1545.1 L1328.1 1532.4 L1335 1532.4 Z\" fill=\"#000000\" fill-rule=\"nonzero\" fill-opacity=\"1\" /><polyline clip-path=\"url(#clip632)\" style=\"stroke:#000000; stroke-linecap:round; stroke-linejoin:round; stroke-width:2; stroke-opacity:0.1; fill:none\" points=\"239.697,1194.06 2112.76,1194.06 \"/>\n",
       "<polyline clip-path=\"url(#clip632)\" style=\"stroke:#000000; stroke-linecap:round; stroke-linejoin:round; stroke-width:2; stroke-opacity:0.1; fill:none\" points=\"239.697,959.064 2112.76,959.064 \"/>\n",
       "<polyline clip-path=\"url(#clip632)\" style=\"stroke:#000000; stroke-linecap:round; stroke-linejoin:round; stroke-width:2; stroke-opacity:0.1; fill:none\" points=\"239.697,724.069 2112.76,724.069 \"/>\n",
       "<polyline clip-path=\"url(#clip632)\" style=\"stroke:#000000; stroke-linecap:round; stroke-linejoin:round; stroke-width:2; stroke-opacity:0.1; fill:none\" points=\"239.697,489.074 2112.76,489.074 \"/>\n",
       "<polyline clip-path=\"url(#clip632)\" style=\"stroke:#000000; stroke-linecap:round; stroke-linejoin:round; stroke-width:2; stroke-opacity:0.1; fill:none\" points=\"239.697,254.079 2112.76,254.079 \"/>\n",
       "<polyline clip-path=\"url(#clip630)\" style=\"stroke:#000000; stroke-linecap:round; stroke-linejoin:round; stroke-width:4; stroke-opacity:1; fill:none\" points=\"239.697,1423.18 239.697,248.204 \"/>\n",
       "<polyline clip-path=\"url(#clip630)\" style=\"stroke:#000000; stroke-linecap:round; stroke-linejoin:round; stroke-width:4; stroke-opacity:1; fill:none\" points=\"239.697,1194.06 256.448,1194.06 \"/>\n",
       "<polyline clip-path=\"url(#clip630)\" style=\"stroke:#000000; stroke-linecap:round; stroke-linejoin:round; stroke-width:4; stroke-opacity:1; fill:none\" points=\"239.697,959.064 256.448,959.064 \"/>\n",
       "<polyline clip-path=\"url(#clip630)\" style=\"stroke:#000000; stroke-linecap:round; stroke-linejoin:round; stroke-width:4; stroke-opacity:1; fill:none\" points=\"239.697,724.069 256.448,724.069 \"/>\n",
       "<polyline clip-path=\"url(#clip630)\" style=\"stroke:#000000; stroke-linecap:round; stroke-linejoin:round; stroke-width:4; stroke-opacity:1; fill:none\" points=\"239.697,489.074 256.448,489.074 \"/>\n",
       "<polyline clip-path=\"url(#clip630)\" style=\"stroke:#000000; stroke-linecap:round; stroke-linejoin:round; stroke-width:4; stroke-opacity:1; fill:none\" points=\"239.697,254.079 256.448,254.079 \"/>\n",
       "<path clip-path=\"url(#clip630)\" d=\"M183.79 1207.4 L191.429 1207.4 L191.429 1181.04 L183.119 1182.71 L183.119 1178.45 L191.382 1176.78 L196.058 1176.78 L196.058 1207.4 L203.697 1207.4 L203.697 1211.34 L183.79 1211.34 L183.79 1207.4 Z\" fill=\"#000000\" fill-rule=\"nonzero\" fill-opacity=\"1\" /><path clip-path=\"url(#clip630)\" d=\"M187.378 972.409 L203.697 972.409 L203.697 976.344 L181.753 976.344 L181.753 972.409 Q184.415 969.655 188.998 965.025 Q193.605 960.372 194.785 959.03 Q197.031 956.507 197.91 954.77 Q198.813 953.011 198.813 951.321 Q198.813 948.567 196.869 946.831 Q194.947 945.095 191.845 945.095 Q189.646 945.095 187.193 945.858 Q184.762 946.622 181.984 948.173 L181.984 943.451 Q184.808 942.317 187.262 941.738 Q189.716 941.159 191.753 941.159 Q197.123 941.159 200.318 943.845 Q203.512 946.53 203.512 951.02 Q203.512 953.15 202.702 955.071 Q201.915 956.97 199.808 959.562 Q199.23 960.233 196.128 963.451 Q193.026 966.645 187.378 972.409 Z\" fill=\"#000000\" fill-rule=\"nonzero\" fill-opacity=\"1\" /><path clip-path=\"url(#clip630)\" d=\"M196.568 722.715 Q199.924 723.433 201.799 725.701 Q203.697 727.97 203.697 731.303 Q203.697 736.419 200.179 739.22 Q196.66 742.021 190.179 742.021 Q188.003 742.021 185.688 741.581 Q183.396 741.164 180.943 740.308 L180.943 735.794 Q182.887 736.928 185.202 737.507 Q187.517 738.085 190.04 738.085 Q194.438 738.085 196.73 736.349 Q199.044 734.613 199.044 731.303 Q199.044 728.247 196.892 726.535 Q194.762 724.798 190.943 724.798 L186.915 724.798 L186.915 720.956 L191.128 720.956 Q194.577 720.956 196.406 719.59 Q198.234 718.201 198.234 715.609 Q198.234 712.947 196.336 711.535 Q194.461 710.099 190.943 710.099 Q189.021 710.099 186.822 710.516 Q184.623 710.933 181.984 711.812 L181.984 707.646 Q184.646 706.905 186.961 706.535 Q189.299 706.164 191.359 706.164 Q196.683 706.164 199.785 708.595 Q202.887 711.002 202.887 715.123 Q202.887 717.993 201.243 719.984 Q199.6 721.951 196.568 722.715 Z\" fill=\"#000000\" fill-rule=\"nonzero\" fill-opacity=\"1\" /><path clip-path=\"url(#clip630)\" d=\"M194.114 475.868 L182.308 494.317 L194.114 494.317 L194.114 475.868 M192.887 471.794 L198.767 471.794 L198.767 494.317 L203.697 494.317 L203.697 498.206 L198.767 498.206 L198.767 506.354 L194.114 506.354 L194.114 498.206 L178.512 498.206 L178.512 493.692 L192.887 471.794 Z\" fill=\"#000000\" fill-rule=\"nonzero\" fill-opacity=\"1\" /><path clip-path=\"url(#clip630)\" d=\"M182.795 236.799 L201.151 236.799 L201.151 240.734 L187.077 240.734 L187.077 249.206 Q188.095 248.859 189.114 248.697 Q190.132 248.512 191.151 248.512 Q196.938 248.512 200.318 251.683 Q203.697 254.854 203.697 260.271 Q203.697 265.85 200.225 268.952 Q196.753 272.03 190.433 272.03 Q188.257 272.03 185.989 271.66 Q183.744 271.29 181.336 270.549 L181.336 265.85 Q183.42 266.984 185.642 267.54 Q187.864 268.095 190.341 268.095 Q194.345 268.095 196.683 265.989 Q199.021 263.882 199.021 260.271 Q199.021 256.66 196.683 254.554 Q194.345 252.447 190.341 252.447 Q188.466 252.447 186.591 252.864 Q184.739 253.28 182.795 254.16 L182.795 236.799 Z\" fill=\"#000000\" fill-rule=\"nonzero\" fill-opacity=\"1\" /><path clip-path=\"url(#clip630)\" d=\"M80.7361 937.909 L80.7361 897.71 L86.147 897.71 L86.147 914.579 L128.256 914.579 L128.256 921.04 L86.147 921.04 L86.147 937.909 L80.7361 937.909 Z\" fill=\"#000000\" fill-rule=\"nonzero\" fill-opacity=\"1\" /><path clip-path=\"url(#clip630)\" d=\"M92.6082 893.763 L92.6082 887.907 L128.256 887.907 L128.256 893.763 L92.6082 893.763 M78.7309 893.763 L78.7309 887.907 L86.147 887.907 L86.147 893.763 L78.7309 893.763 Z\" fill=\"#000000\" fill-rule=\"nonzero\" fill-opacity=\"1\" /><path clip-path=\"url(#clip630)\" d=\"M99.4513 847.898 Q95.5046 845.702 93.6267 842.647 Q91.7488 839.591 91.7488 835.453 Q91.7488 829.883 95.6637 826.86 Q99.5468 823.836 106.74 823.836 L128.256 823.836 L128.256 829.724 L106.931 829.724 Q101.807 829.724 99.324 831.538 Q96.8414 833.353 96.8414 837.077 Q96.8414 841.628 99.8651 844.27 Q102.889 846.912 108.109 846.912 L128.256 846.912 L128.256 852.8 L106.931 852.8 Q101.775 852.8 99.324 854.614 Q96.8414 856.428 96.8414 860.216 Q96.8414 864.704 99.8969 867.345 Q102.921 869.987 108.109 869.987 L128.256 869.987 L128.256 875.875 L92.6082 875.875 L92.6082 869.987 L98.1463 869.987 Q94.868 867.982 93.3084 865.181 Q91.7488 862.38 91.7488 858.529 Q91.7488 854.646 93.7222 851.94 Q95.6955 849.203 99.4513 847.898 Z\" fill=\"#000000\" fill-rule=\"nonzero\" fill-opacity=\"1\" /><path clip-path=\"url(#clip630)\" d=\"M108.968 781.663 L111.833 781.663 L111.833 808.59 Q117.88 808.208 121.063 804.962 Q124.214 801.683 124.214 795.859 Q124.214 792.485 123.386 789.334 Q122.559 786.151 120.904 783.032 L126.442 783.032 Q127.779 786.183 128.479 789.493 Q129.179 792.803 129.179 796.209 Q129.179 804.739 124.214 809.736 Q119.249 814.701 110.782 814.701 Q102.029 814.701 96.905 809.99 Q91.7488 805.248 91.7488 797.227 Q91.7488 790.034 96.3958 785.864 Q101.011 781.663 108.968 781.663 M107.249 787.519 Q102.443 787.583 99.5786 790.225 Q96.714 792.835 96.714 797.164 Q96.714 802.065 99.4831 805.025 Q102.252 807.953 107.281 808.399 L107.249 787.519 Z\" fill=\"#000000\" fill-rule=\"nonzero\" fill-opacity=\"1\" /><path clip-path=\"url(#clip630)\" d=\"M82.4867 745.538 L92.6082 745.538 L92.6082 733.475 L97.1596 733.475 L97.1596 745.538 L116.511 745.538 Q120.872 745.538 122.113 744.36 Q123.355 743.151 123.355 739.49 L123.355 733.475 L128.256 733.475 L128.256 739.49 Q128.256 746.27 125.742 748.848 Q123.195 751.426 116.511 751.426 L97.1596 751.426 L97.1596 755.723 L92.6082 755.723 L92.6082 751.426 L82.4867 751.426 L82.4867 745.538 Z\" fill=\"#000000\" fill-rule=\"nonzero\" fill-opacity=\"1\" /><path clip-path=\"url(#clip630)\" d=\"M130.202 123.984 L168.443 123.984 L168.443 130.871 L138.385 130.871 L138.385 148.776 L167.187 148.776 L167.187 155.662 L138.385 155.662 L138.385 177.577 L169.172 177.577 L169.172 184.464 L130.202 184.464 L130.202 123.984 Z\" fill=\"#000000\" fill-rule=\"nonzero\" fill-opacity=\"1\" /><path clip-path=\"url(#clip630)\" d=\"M220.011 157.08 L220.011 184.464 L212.557 184.464 L212.557 157.323 Q212.557 150.882 210.045 147.682 Q207.534 144.482 202.511 144.482 Q196.475 144.482 192.991 148.33 Q189.507 152.178 189.507 158.822 L189.507 184.464 L182.013 184.464 L182.013 139.094 L189.507 139.094 L189.507 146.142 Q192.181 142.051 195.786 140.026 Q199.432 138 204.172 138 Q211.99 138 216 142.861 Q220.011 147.682 220.011 157.08 Z\" fill=\"#000000\" fill-rule=\"nonzero\" fill-opacity=\"1\" /><path clip-path=\"url(#clip630)\" d=\"M242.25 126.212 L242.25 139.094 L257.603 139.094 L257.603 144.887 L242.25 144.887 L242.25 169.516 Q242.25 175.066 243.749 176.646 Q245.288 178.226 249.947 178.226 L257.603 178.226 L257.603 184.464 L249.947 184.464 Q241.318 184.464 238.037 181.264 Q234.756 178.023 234.756 169.516 L234.756 144.887 L229.287 144.887 L229.287 139.094 L234.756 139.094 L234.756 126.212 L242.25 126.212 Z\" fill=\"#000000\" fill-rule=\"nonzero\" fill-opacity=\"1\" /><path clip-path=\"url(#clip630)\" d=\"M288.025 161.657 Q278.992 161.657 275.508 163.723 Q272.024 165.789 272.024 170.772 Q272.024 174.742 274.617 177.091 Q277.25 179.4 281.746 179.4 Q287.944 179.4 291.671 175.025 Q295.438 170.61 295.438 163.318 L295.438 161.657 L288.025 161.657 M302.892 158.579 L302.892 184.464 L295.438 184.464 L295.438 177.577 Q292.886 181.709 289.079 183.694 Q285.271 185.639 279.761 185.639 Q272.794 185.639 268.662 181.75 Q264.571 177.821 264.571 171.258 Q264.571 163.602 269.675 159.713 Q274.819 155.824 284.987 155.824 L295.438 155.824 L295.438 155.095 Q295.438 149.95 292.036 147.155 Q288.673 144.32 282.557 144.32 Q278.668 144.32 274.981 145.251 Q271.295 146.183 267.892 148.046 L267.892 141.16 Q271.984 139.58 275.832 138.81 Q279.68 138 283.326 138 Q293.17 138 298.031 143.104 Q302.892 148.208 302.892 158.579 Z\" fill=\"#000000\" fill-rule=\"nonzero\" fill-opacity=\"1\" /><path clip-path=\"url(#clip630)\" d=\"M355.959 157.08 L355.959 184.464 L348.505 184.464 L348.505 157.323 Q348.505 150.882 345.994 147.682 Q343.482 144.482 338.459 144.482 Q332.423 144.482 328.939 148.33 Q325.456 152.178 325.456 158.822 L325.456 184.464 L317.961 184.464 L317.961 139.094 L325.456 139.094 L325.456 146.142 Q328.129 142.051 331.735 140.026 Q335.38 138 340.12 138 Q347.938 138 351.949 142.861 Q355.959 147.682 355.959 157.08 Z\" fill=\"#000000\" fill-rule=\"nonzero\" fill-opacity=\"1\" /><path clip-path=\"url(#clip630)\" d=\"M400.681 161.252 Q400.681 153.151 397.319 148.695 Q393.997 144.239 387.961 144.239 Q381.966 144.239 378.604 148.695 Q375.282 153.151 375.282 161.252 Q375.282 169.314 378.604 173.77 Q381.966 178.226 387.961 178.226 Q393.997 178.226 397.319 173.77 Q400.681 169.314 400.681 161.252 M408.135 178.833 Q408.135 190.419 402.99 196.05 Q397.845 201.721 387.232 201.721 Q383.303 201.721 379.819 201.113 Q376.335 200.546 373.054 199.331 L373.054 192.08 Q376.335 193.862 379.535 194.713 Q382.735 195.563 386.057 195.563 Q393.389 195.563 397.035 191.715 Q400.681 187.907 400.681 180.17 L400.681 176.484 Q398.372 180.494 394.767 182.479 Q391.161 184.464 386.138 184.464 Q377.793 184.464 372.689 178.104 Q367.585 171.744 367.585 161.252 Q367.585 150.72 372.689 144.36 Q377.793 138 386.138 138 Q391.161 138 394.767 139.985 Q398.372 141.97 400.681 145.98 L400.681 139.094 L408.135 139.094 L408.135 178.833 Z\" fill=\"#000000\" fill-rule=\"nonzero\" fill-opacity=\"1\" /><path clip-path=\"url(#clip630)\" d=\"M423.488 121.432 L430.941 121.432 L430.941 184.464 L423.488 184.464 L423.488 121.432 Z\" fill=\"#000000\" fill-rule=\"nonzero\" fill-opacity=\"1\" /><path clip-path=\"url(#clip630)\" d=\"M485.345 159.916 L485.345 163.561 L451.074 163.561 Q451.56 171.258 455.692 175.309 Q459.865 179.319 467.278 179.319 Q471.572 179.319 475.582 178.266 Q479.633 177.213 483.603 175.106 L483.603 182.155 Q479.593 183.856 475.38 184.748 Q471.167 185.639 466.832 185.639 Q455.976 185.639 449.616 179.319 Q443.296 173 443.296 162.225 Q443.296 151.085 449.292 144.563 Q455.328 138 465.536 138 Q474.691 138 479.998 143.914 Q485.345 149.788 485.345 159.916 M477.891 157.728 Q477.81 151.611 474.448 147.965 Q471.126 144.32 465.617 144.32 Q459.379 144.32 455.611 147.844 Q451.884 151.368 451.317 157.769 L477.891 157.728 Z\" fill=\"#000000\" fill-rule=\"nonzero\" fill-opacity=\"1\" /><path clip-path=\"url(#clip630)\" d=\"M532.902 147.803 Q535.698 142.78 539.586 140.39 Q543.475 138 548.741 138 Q555.831 138 559.679 142.983 Q563.527 147.925 563.527 157.08 L563.527 184.464 L556.033 184.464 L556.033 157.323 Q556.033 150.801 553.724 147.641 Q551.415 144.482 546.676 144.482 Q540.883 144.482 537.52 148.33 Q534.158 152.178 534.158 158.822 L534.158 184.464 L526.664 184.464 L526.664 157.323 Q526.664 150.76 524.355 147.641 Q522.046 144.482 517.225 144.482 Q511.514 144.482 508.151 148.37 Q504.789 152.219 504.789 158.822 L504.789 184.464 L497.295 184.464 L497.295 139.094 L504.789 139.094 L504.789 146.142 Q507.341 141.97 510.906 139.985 Q514.471 138 519.372 138 Q524.315 138 527.758 140.512 Q531.242 143.023 532.902 147.803 Z\" fill=\"#000000\" fill-rule=\"nonzero\" fill-opacity=\"1\" /><path clip-path=\"url(#clip630)\" d=\"M617.202 159.916 L617.202 163.561 L582.931 163.561 Q583.417 171.258 587.549 175.309 Q591.722 179.319 599.135 179.319 Q603.429 179.319 607.439 178.266 Q611.49 177.213 615.46 175.106 L615.46 182.155 Q611.449 183.856 607.237 184.748 Q603.024 185.639 598.689 185.639 Q587.833 185.639 581.473 179.319 Q575.153 173 575.153 162.225 Q575.153 151.085 581.149 144.563 Q587.185 138 597.393 138 Q606.548 138 611.855 143.914 Q617.202 149.788 617.202 159.916 M609.748 157.728 Q609.667 151.611 606.305 147.965 Q602.983 144.32 597.474 144.32 Q591.235 144.32 587.468 147.844 Q583.741 151.368 583.174 157.769 L609.748 157.728 Z\" fill=\"#000000\" fill-rule=\"nonzero\" fill-opacity=\"1\" /><path clip-path=\"url(#clip630)\" d=\"M667.149 157.08 L667.149 184.464 L659.696 184.464 L659.696 157.323 Q659.696 150.882 657.184 147.682 Q654.673 144.482 649.65 144.482 Q643.614 144.482 640.13 148.33 Q636.646 152.178 636.646 158.822 L636.646 184.464 L629.152 184.464 L629.152 139.094 L636.646 139.094 L636.646 146.142 Q639.32 142.051 642.925 140.026 Q646.571 138 651.31 138 Q659.129 138 663.139 142.861 Q667.149 147.682 667.149 157.08 Z\" fill=\"#000000\" fill-rule=\"nonzero\" fill-opacity=\"1\" /><path clip-path=\"url(#clip630)\" d=\"M689.389 126.212 L689.389 139.094 L704.742 139.094 L704.742 144.887 L689.389 144.887 L689.389 169.516 Q689.389 175.066 690.888 176.646 Q692.427 178.226 697.086 178.226 L704.742 178.226 L704.742 184.464 L697.086 184.464 Q688.457 184.464 685.176 181.264 Q681.895 178.023 681.895 169.516 L681.895 144.887 L676.426 144.887 L676.426 139.094 L681.895 139.094 L681.895 126.212 L689.389 126.212 Z\" fill=\"#000000\" fill-rule=\"nonzero\" fill-opacity=\"1\" /><path clip-path=\"url(#clip630)\" d=\"M741.24 123.984 L779.481 123.984 L779.481 130.871 L749.423 130.871 L749.423 148.776 L778.225 148.776 L778.225 155.662 L749.423 155.662 L749.423 177.577 L780.21 177.577 L780.21 184.464 L741.24 184.464 L741.24 123.984 Z\" fill=\"#000000\" fill-rule=\"nonzero\" fill-opacity=\"1\" /><path clip-path=\"url(#clip630)\" d=\"M831.049 157.08 L831.049 184.464 L823.595 184.464 L823.595 157.323 Q823.595 150.882 821.084 147.682 Q818.572 144.482 813.549 144.482 Q807.513 144.482 804.029 148.33 Q800.546 152.178 800.546 158.822 L800.546 184.464 L793.052 184.464 L793.052 139.094 L800.546 139.094 L800.546 146.142 Q803.219 142.051 806.825 140.026 Q810.47 138 815.21 138 Q823.028 138 827.039 142.861 Q831.049 147.682 831.049 157.08 Z\" fill=\"#000000\" fill-rule=\"nonzero\" fill-opacity=\"1\" /><path clip-path=\"url(#clip630)\" d=\"M853.288 126.212 L853.288 139.094 L868.641 139.094 L868.641 144.887 L853.288 144.887 L853.288 169.516 Q853.288 175.066 854.787 176.646 Q856.327 178.226 860.985 178.226 L868.641 178.226 L868.641 184.464 L860.985 184.464 Q852.357 184.464 849.076 181.264 Q845.794 178.023 845.794 169.516 L845.794 144.887 L840.326 144.887 L840.326 139.094 L845.794 139.094 L845.794 126.212 L853.288 126.212 Z\" fill=\"#000000\" fill-rule=\"nonzero\" fill-opacity=\"1\" /><path clip-path=\"url(#clip630)\" d=\"M904.735 146.061 Q903.479 145.332 901.98 145.008 Q900.522 144.644 898.74 144.644 Q892.42 144.644 889.017 148.776 Q885.655 152.867 885.655 160.564 L885.655 184.464 L878.161 184.464 L878.161 139.094 L885.655 139.094 L885.655 146.142 Q888.005 142.011 891.772 140.026 Q895.539 138 900.927 138 Q901.697 138 902.628 138.122 Q903.56 138.203 904.694 138.405 L904.735 146.061 Z\" fill=\"#000000\" fill-rule=\"nonzero\" fill-opacity=\"1\" /><path clip-path=\"url(#clip630)\" d=\"M928.311 144.32 Q922.316 144.32 918.832 149.019 Q915.348 153.677 915.348 161.819 Q915.348 169.962 918.792 174.661 Q922.275 179.319 928.311 179.319 Q934.266 179.319 937.75 174.62 Q941.234 169.921 941.234 161.819 Q941.234 153.758 937.75 149.059 Q934.266 144.32 928.311 144.32 M928.311 138 Q938.033 138 943.583 144.32 Q949.133 150.639 949.133 161.819 Q949.133 172.959 943.583 179.319 Q938.033 185.639 928.311 185.639 Q918.549 185.639 912.999 179.319 Q907.49 172.959 907.49 161.819 Q907.49 150.639 912.999 144.32 Q918.549 138 928.311 138 Z\" fill=\"#000000\" fill-rule=\"nonzero\" fill-opacity=\"1\" /><path clip-path=\"url(#clip630)\" d=\"M968.699 177.658 L968.699 201.721 L961.205 201.721 L961.205 139.094 L968.699 139.094 L968.699 145.98 Q971.048 141.93 974.613 139.985 Q978.218 138 983.201 138 Q991.465 138 996.609 144.563 Q1001.79 151.125 1001.79 161.819 Q1001.79 172.514 996.609 179.076 Q991.465 185.639 983.201 185.639 Q978.218 185.639 974.613 183.694 Q971.048 181.709 968.699 177.658 M994.057 161.819 Q994.057 153.596 990.655 148.938 Q987.292 144.239 981.378 144.239 Q975.464 144.239 972.061 148.938 Q968.699 153.596 968.699 161.819 Q968.699 170.043 972.061 174.742 Q975.464 179.4 981.378 179.4 Q987.292 179.4 990.655 174.742 Q994.057 170.043 994.057 161.819 Z\" fill=\"#000000\" fill-rule=\"nonzero\" fill-opacity=\"1\" /><path clip-path=\"url(#clip630)\" d=\"M1033.03 188.677 Q1029.87 196.779 1026.87 199.25 Q1023.87 201.721 1018.85 201.721 L1012.89 201.721 L1012.89 195.482 L1017.27 195.482 Q1020.35 195.482 1022.05 194.024 Q1023.75 192.566 1025.82 187.138 L1027.15 183.735 L1008.8 139.094 L1016.7 139.094 L1030.88 174.58 L1045.06 139.094 L1052.96 139.094 L1033.03 188.677 Z\" fill=\"#000000\" fill-rule=\"nonzero\" fill-opacity=\"1\" /><path clip-path=\"url(#clip630)\" d=\"M1098.13 155.581 L1098.13 177.739 L1111.25 177.739 Q1117.85 177.739 1121.01 175.025 Q1124.21 172.271 1124.21 166.64 Q1124.21 160.969 1121.01 158.295 Q1117.85 155.581 1111.25 155.581 L1098.13 155.581 M1098.13 130.709 L1098.13 148.938 L1110.24 148.938 Q1116.23 148.938 1119.15 146.71 Q1122.11 144.441 1122.11 139.823 Q1122.11 135.246 1119.15 132.977 Q1116.23 130.709 1110.24 130.709 L1098.13 130.709 M1089.94 123.984 L1110.84 123.984 Q1120.2 123.984 1125.27 127.873 Q1130.33 131.762 1130.33 138.932 Q1130.33 144.482 1127.74 147.763 Q1125.14 151.044 1120.12 151.854 Q1126.16 153.151 1129.48 157.282 Q1132.84 161.374 1132.84 167.531 Q1132.84 175.633 1127.33 180.049 Q1121.82 184.464 1111.66 184.464 L1089.94 184.464 L1089.94 123.984 Z\" fill=\"#000000\" fill-rule=\"nonzero\" fill-opacity=\"1\" /><path clip-path=\"url(#clip630)\" d=\"M1185.34 159.916 L1185.34 163.561 L1151.07 163.561 Q1151.56 171.258 1155.69 175.309 Q1159.86 179.319 1167.27 179.319 Q1171.57 179.319 1175.58 178.266 Q1179.63 177.213 1183.6 175.106 L1183.6 182.155 Q1179.59 183.856 1175.38 184.748 Q1171.16 185.639 1166.83 185.639 Q1155.97 185.639 1149.61 179.319 Q1143.29 173 1143.29 162.225 Q1143.29 151.085 1149.29 144.563 Q1155.32 138 1165.53 138 Q1174.69 138 1179.99 143.914 Q1185.34 149.788 1185.34 159.916 M1177.89 157.728 Q1177.81 151.611 1174.44 147.965 Q1171.12 144.32 1165.61 144.32 Q1159.37 144.32 1155.61 147.844 Q1151.88 151.368 1151.31 157.769 L1177.89 157.728 Z\" fill=\"#000000\" fill-rule=\"nonzero\" fill-opacity=\"1\" /><path clip-path=\"url(#clip630)\" d=\"M1204.95 126.212 L1204.95 139.094 L1220.3 139.094 L1220.3 144.887 L1204.95 144.887 L1204.95 169.516 Q1204.95 175.066 1206.45 176.646 Q1207.99 178.226 1212.64 178.226 L1220.3 178.226 L1220.3 184.464 L1212.64 184.464 Q1204.02 184.464 1200.73 181.264 Q1197.45 178.023 1197.45 169.516 L1197.45 144.887 L1191.98 144.887 L1191.98 139.094 L1197.45 139.094 L1197.45 126.212 L1204.95 126.212 Z\" fill=\"#000000\" fill-rule=\"nonzero\" fill-opacity=\"1\" /><path clip-path=\"url(#clip630)\" d=\"M1225.77 139.094 L1233.22 139.094 L1242.54 174.499 L1251.82 139.094 L1260.61 139.094 L1269.92 174.499 L1279.2 139.094 L1286.65 139.094 L1274.79 184.464 L1265.99 184.464 L1256.23 147.277 L1246.43 184.464 L1237.64 184.464 L1225.77 139.094 Z\" fill=\"#000000\" fill-rule=\"nonzero\" fill-opacity=\"1\" /><path clip-path=\"url(#clip630)\" d=\"M1336.76 159.916 L1336.76 163.561 L1302.49 163.561 Q1302.98 171.258 1307.11 175.309 Q1311.28 179.319 1318.7 179.319 Q1322.99 179.319 1327 178.266 Q1331.05 177.213 1335.02 175.106 L1335.02 182.155 Q1331.01 183.856 1326.8 184.748 Q1322.59 185.639 1318.25 185.639 Q1307.39 185.639 1301.03 179.319 Q1294.72 173 1294.72 162.225 Q1294.72 151.085 1300.71 144.563 Q1306.75 138 1316.95 138 Q1326.11 138 1331.42 143.914 Q1336.76 149.788 1336.76 159.916 M1329.31 157.728 Q1329.23 151.611 1325.87 147.965 Q1322.55 144.32 1317.04 144.32 Q1310.8 144.32 1307.03 147.844 Q1303.3 151.368 1302.74 157.769 L1329.31 157.728 Z\" fill=\"#000000\" fill-rule=\"nonzero\" fill-opacity=\"1\" /><path clip-path=\"url(#clip630)\" d=\"M1387.81 159.916 L1387.81 163.561 L1353.53 163.561 Q1354.02 171.258 1358.15 175.309 Q1362.33 179.319 1369.74 179.319 Q1374.03 179.319 1378.04 178.266 Q1382.09 177.213 1386.06 175.106 L1386.06 182.155 Q1382.05 183.856 1377.84 184.748 Q1373.63 185.639 1369.29 185.639 Q1358.44 185.639 1352.08 179.319 Q1345.76 173 1345.76 162.225 Q1345.76 151.085 1351.75 144.563 Q1357.79 138 1368 138 Q1377.15 138 1382.46 143.914 Q1387.81 149.788 1387.81 159.916 M1380.35 157.728 Q1380.27 151.611 1376.91 147.965 Q1373.59 144.32 1368.08 144.32 Q1361.84 144.32 1358.07 147.844 Q1354.34 151.368 1353.78 157.769 L1380.35 157.728 Z\" fill=\"#000000\" fill-rule=\"nonzero\" fill-opacity=\"1\" /><path clip-path=\"url(#clip630)\" d=\"M1437.75 157.08 L1437.75 184.464 L1430.3 184.464 L1430.3 157.323 Q1430.3 150.882 1427.79 147.682 Q1425.28 144.482 1420.25 144.482 Q1414.22 144.482 1410.73 148.33 Q1407.25 152.178 1407.25 158.822 L1407.25 184.464 L1399.76 184.464 L1399.76 139.094 L1407.25 139.094 L1407.25 146.142 Q1409.92 142.051 1413.53 140.026 Q1417.17 138 1421.91 138 Q1429.73 138 1433.74 142.861 Q1437.75 147.682 1437.75 157.08 Z\" fill=\"#000000\" fill-rule=\"nonzero\" fill-opacity=\"1\" /><path clip-path=\"url(#clip630)\" d=\"M1515.57 125.969 L1515.57 133.949 Q1510.91 131.721 1506.78 130.627 Q1502.65 129.534 1498.8 129.534 Q1492.12 129.534 1488.47 132.126 Q1484.86 134.719 1484.86 139.499 Q1484.86 143.509 1487.25 145.575 Q1489.69 147.601 1496.41 148.857 L1501.35 149.869 Q1510.51 151.611 1514.84 156.027 Q1519.22 160.402 1519.22 167.774 Q1519.22 176.565 1513.3 181.102 Q1507.43 185.639 1496.05 185.639 Q1491.75 185.639 1486.89 184.667 Q1482.07 183.694 1476.88 181.79 L1476.88 173.365 Q1481.87 176.16 1486.65 177.577 Q1491.43 178.995 1496.05 178.995 Q1503.05 178.995 1506.86 176.241 Q1510.67 173.486 1510.67 168.382 Q1510.67 163.926 1507.91 161.414 Q1505.2 158.903 1498.96 157.647 L1493.98 156.675 Q1484.82 154.852 1480.73 150.963 Q1476.64 147.074 1476.64 140.147 Q1476.64 132.126 1482.27 127.508 Q1487.94 122.89 1497.87 122.89 Q1502.12 122.89 1506.54 123.66 Q1510.95 124.43 1515.57 125.969 Z\" fill=\"#000000\" fill-rule=\"nonzero\" fill-opacity=\"1\" /><path clip-path=\"url(#clip630)\" d=\"M1550.53 188.677 Q1547.37 196.779 1544.37 199.25 Q1541.38 201.721 1536.35 201.721 L1530.4 201.721 L1530.4 195.482 L1534.77 195.482 Q1537.85 195.482 1539.55 194.024 Q1541.25 192.566 1543.32 187.138 L1544.66 183.735 L1526.31 139.094 L1534.2 139.094 L1548.38 174.58 L1562.56 139.094 L1570.46 139.094 L1550.53 188.677 Z\" fill=\"#000000\" fill-rule=\"nonzero\" fill-opacity=\"1\" /><path clip-path=\"url(#clip630)\" d=\"M1609.67 140.431 L1609.67 147.479 Q1606.51 145.859 1603.11 145.049 Q1599.71 144.239 1596.06 144.239 Q1590.51 144.239 1587.72 145.94 Q1584.96 147.641 1584.96 151.044 Q1584.96 153.637 1586.95 155.135 Q1588.93 156.594 1594.93 157.931 L1597.48 158.498 Q1605.42 160.199 1608.74 163.318 Q1612.1 166.397 1612.1 171.947 Q1612.1 178.266 1607.08 181.952 Q1602.1 185.639 1593.35 185.639 Q1589.7 185.639 1585.73 184.91 Q1581.8 184.221 1577.43 182.803 L1577.43 175.106 Q1581.56 177.253 1585.57 178.347 Q1589.58 179.4 1593.51 179.4 Q1598.78 179.4 1601.61 177.618 Q1604.45 175.795 1604.45 172.514 Q1604.45 169.476 1602.38 167.855 Q1600.36 166.235 1593.43 164.736 L1590.84 164.128 Q1583.91 162.67 1580.83 159.672 Q1577.75 156.634 1577.75 151.368 Q1577.75 144.968 1582.29 141.484 Q1586.83 138 1595.17 138 Q1599.3 138 1602.95 138.608 Q1606.59 139.215 1609.67 140.431 Z\" fill=\"#000000\" fill-rule=\"nonzero\" fill-opacity=\"1\" /><path clip-path=\"url(#clip630)\" d=\"M1631.35 126.212 L1631.35 139.094 L1646.7 139.094 L1646.7 144.887 L1631.35 144.887 L1631.35 169.516 Q1631.35 175.066 1632.84 176.646 Q1634.38 178.226 1639.04 178.226 L1646.7 178.226 L1646.7 184.464 L1639.04 184.464 Q1630.41 184.464 1627.13 181.264 Q1623.85 178.023 1623.85 169.516 L1623.85 144.887 L1618.38 144.887 L1618.38 139.094 L1623.85 139.094 L1623.85 126.212 L1631.35 126.212 Z\" fill=\"#000000\" fill-rule=\"nonzero\" fill-opacity=\"1\" /><path clip-path=\"url(#clip630)\" d=\"M1695.31 159.916 L1695.31 163.561 L1661.04 163.561 Q1661.52 171.258 1665.66 175.309 Q1669.83 179.319 1677.24 179.319 Q1681.54 179.319 1685.55 178.266 Q1689.6 177.213 1693.57 175.106 L1693.57 182.155 Q1689.56 183.856 1685.34 184.748 Q1681.13 185.639 1676.8 185.639 Q1665.94 185.639 1659.58 179.319 Q1653.26 173 1653.26 162.225 Q1653.26 151.085 1659.26 144.563 Q1665.29 138 1675.5 138 Q1684.66 138 1689.96 143.914 Q1695.31 149.788 1695.31 159.916 M1687.86 157.728 Q1687.77 151.611 1684.41 147.965 Q1681.09 144.32 1675.58 144.32 Q1669.34 144.32 1665.58 147.844 Q1661.85 151.368 1661.28 157.769 L1687.86 157.728 Z\" fill=\"#000000\" fill-rule=\"nonzero\" fill-opacity=\"1\" /><path clip-path=\"url(#clip630)\" d=\"M1742.87 147.803 Q1745.66 142.78 1749.55 140.39 Q1753.44 138 1758.71 138 Q1765.8 138 1769.64 142.983 Q1773.49 147.925 1773.49 157.08 L1773.49 184.464 L1766 184.464 L1766 157.323 Q1766 150.801 1763.69 147.641 Q1761.38 144.482 1756.64 144.482 Q1750.85 144.482 1747.49 148.33 Q1744.12 152.178 1744.12 158.822 L1744.12 184.464 L1736.63 184.464 L1736.63 157.323 Q1736.63 150.76 1734.32 147.641 Q1732.01 144.482 1727.19 144.482 Q1721.48 144.482 1718.12 148.37 Q1714.75 152.219 1714.75 158.822 L1714.75 184.464 L1707.26 184.464 L1707.26 139.094 L1714.75 139.094 L1714.75 146.142 Q1717.31 141.97 1720.87 139.985 Q1724.44 138 1729.34 138 Q1734.28 138 1737.72 140.512 Q1741.21 143.023 1742.87 147.803 Z\" fill=\"#000000\" fill-rule=\"nonzero\" fill-opacity=\"1\" /><path clip-path=\"url(#clip630)\" d=\"M1835.35 161.657 Q1826.32 161.657 1822.83 163.723 Q1819.35 165.789 1819.35 170.772 Q1819.35 174.742 1821.94 177.091 Q1824.57 179.4 1829.07 179.4 Q1835.27 179.4 1838.99 175.025 Q1842.76 170.61 1842.76 163.318 L1842.76 161.657 L1835.35 161.657 M1850.22 158.579 L1850.22 184.464 L1842.76 184.464 L1842.76 177.577 Q1840.21 181.709 1836.4 183.694 Q1832.59 185.639 1827.09 185.639 Q1820.12 185.639 1815.99 181.75 Q1811.89 177.821 1811.89 171.258 Q1811.89 163.602 1817 159.713 Q1822.14 155.824 1832.31 155.824 L1842.76 155.824 L1842.76 155.095 Q1842.76 149.95 1839.36 147.155 Q1836 144.32 1829.88 144.32 Q1825.99 144.32 1822.31 145.251 Q1818.62 146.183 1815.22 148.046 L1815.22 141.16 Q1819.31 139.58 1823.16 138.81 Q1827 138 1830.65 138 Q1840.49 138 1845.35 143.104 Q1850.22 148.208 1850.22 158.579 Z\" fill=\"#000000\" fill-rule=\"nonzero\" fill-opacity=\"1\" /><path clip-path=\"url(#clip630)\" d=\"M1903.28 157.08 L1903.28 184.464 L1895.83 184.464 L1895.83 157.323 Q1895.83 150.882 1893.32 147.682 Q1890.81 144.482 1885.78 144.482 Q1879.75 144.482 1876.26 148.33 Q1872.78 152.178 1872.78 158.822 L1872.78 184.464 L1865.29 184.464 L1865.29 139.094 L1872.78 139.094 L1872.78 146.142 Q1875.45 142.051 1879.06 140.026 Q1882.7 138 1887.44 138 Q1895.26 138 1899.27 142.861 Q1903.28 147.682 1903.28 157.08 Z\" fill=\"#000000\" fill-rule=\"nonzero\" fill-opacity=\"1\" /><path clip-path=\"url(#clip630)\" d=\"M1948 145.98 L1948 121.432 L1955.46 121.432 L1955.46 184.464 L1948 184.464 L1948 177.658 Q1945.66 181.709 1942.05 183.694 Q1938.49 185.639 1933.46 185.639 Q1925.24 185.639 1920.05 179.076 Q1914.91 172.514 1914.91 161.819 Q1914.91 151.125 1920.05 144.563 Q1925.24 138 1933.46 138 Q1938.49 138 1942.05 139.985 Q1945.66 141.93 1948 145.98 M1922.61 161.819 Q1922.61 170.043 1925.97 174.742 Q1929.37 179.4 1935.28 179.4 Q1941.2 179.4 1944.6 174.742 Q1948 170.043 1948 161.819 Q1948 153.596 1944.6 148.938 Q1941.2 144.239 1935.28 144.239 Q1929.37 144.239 1925.97 148.938 Q1922.61 153.596 1922.61 161.819 Z\" fill=\"#000000\" fill-rule=\"nonzero\" fill-opacity=\"1\" /><path clip-path=\"url(#clip630)\" d=\"M2017.72 132.045 L2006.62 162.144 L2028.86 162.144 L2017.72 132.045 M2013.1 123.984 L2022.38 123.984 L2045.43 184.464 L2036.92 184.464 L2031.41 168.949 L2004.15 168.949 L1998.64 184.464 L1990.01 184.464 L2013.1 123.984 Z\" fill=\"#000000\" fill-rule=\"nonzero\" fill-opacity=\"1\" /><path clip-path=\"url(#clip630)\" d=\"M2091.65 157.08 L2091.65 184.464 L2084.2 184.464 L2084.2 157.323 Q2084.2 150.882 2081.68 147.682 Q2079.17 144.482 2074.15 144.482 Q2068.11 144.482 2064.63 148.33 Q2061.15 152.178 2061.15 158.822 L2061.15 184.464 L2053.65 184.464 L2053.65 139.094 L2061.15 139.094 L2061.15 146.142 Q2063.82 142.051 2067.43 140.026 Q2071.07 138 2075.81 138 Q2083.63 138 2087.64 142.861 Q2091.65 147.682 2091.65 157.08 Z\" fill=\"#000000\" fill-rule=\"nonzero\" fill-opacity=\"1\" /><path clip-path=\"url(#clip630)\" d=\"M2139.17 140.836 L2139.17 147.803 Q2136.01 146.061 2132.81 145.211 Q2129.65 144.32 2126.41 144.32 Q2119.16 144.32 2115.15 148.938 Q2111.13 153.515 2111.13 161.819 Q2111.13 170.124 2115.15 174.742 Q2119.16 179.319 2126.41 179.319 Q2129.65 179.319 2132.81 178.469 Q2136.01 177.577 2139.17 175.836 L2139.17 182.722 Q2136.05 184.18 2132.69 184.91 Q2129.36 185.639 2125.6 185.639 Q2115.35 185.639 2109.31 179.198 Q2103.28 172.757 2103.28 161.819 Q2103.28 150.72 2109.35 144.36 Q2115.47 138 2126.08 138 Q2129.53 138 2132.81 138.729 Q2136.09 139.418 2139.17 140.836 Z\" fill=\"#000000\" fill-rule=\"nonzero\" fill-opacity=\"1\" /><path clip-path=\"url(#clip630)\" d=\"M2152.13 139.094 L2159.58 139.094 L2159.58 184.464 L2152.13 184.464 L2152.13 139.094 M2152.13 121.432 L2159.58 121.432 L2159.58 130.871 L2152.13 130.871 L2152.13 121.432 Z\" fill=\"#000000\" fill-rule=\"nonzero\" fill-opacity=\"1\" /><path clip-path=\"url(#clip630)\" d=\"M2175.18 121.432 L2182.63 121.432 L2182.63 184.464 L2175.18 184.464 L2175.18 121.432 Z\" fill=\"#000000\" fill-rule=\"nonzero\" fill-opacity=\"1\" /><path clip-path=\"url(#clip630)\" d=\"M2198.23 121.432 L2205.68 121.432 L2205.68 184.464 L2198.23 184.464 L2198.23 121.432 Z\" fill=\"#000000\" fill-rule=\"nonzero\" fill-opacity=\"1\" /><path clip-path=\"url(#clip630)\" d=\"M2241.9 161.657 Q2232.86 161.657 2229.38 163.723 Q2225.9 165.789 2225.9 170.772 Q2225.9 174.742 2228.49 177.091 Q2231.12 179.4 2235.62 179.4 Q2241.82 179.4 2245.54 175.025 Q2249.31 170.61 2249.31 163.318 L2249.31 161.657 L2241.9 161.657 M2256.76 158.579 L2256.76 184.464 L2249.31 184.464 L2249.31 177.577 Q2246.76 181.709 2242.95 183.694 Q2239.14 185.639 2233.63 185.639 Q2226.67 185.639 2222.53 181.75 Q2218.44 177.821 2218.44 171.258 Q2218.44 163.602 2223.55 159.713 Q2228.69 155.824 2238.86 155.824 L2249.31 155.824 L2249.31 155.095 Q2249.31 149.95 2245.91 147.155 Q2242.55 144.32 2236.43 144.32 Q2232.54 144.32 2228.85 145.251 Q2225.17 146.183 2221.76 148.046 L2221.76 141.16 Q2225.86 139.58 2229.7 138.81 Q2233.55 138 2237.2 138 Q2247.04 138 2251.9 143.104 Q2256.76 148.208 2256.76 158.579 Z\" fill=\"#000000\" fill-rule=\"nonzero\" fill-opacity=\"1\" /><g clip-path=\"url(#clip632)\">\n",
       "<image width=\"1873\" height=\"1175\" xlink:href=\"data:image/png;base64,\n",
       "iVBORw0KGgoAAAANSUhEUgAAB1EAAASXCAYAAACwSoYPAAAgAElEQVR4nOzbsZF1O1pAUXR0fpMY\n",
       "cKkJhQzwcDCIaIxxMImAUKgxJwccnFcPd7d7ayT1U68VwVcqlVrqfe74/fe//f4PAAB/T7//dnqC\n",
       "+/3v305PcL+//uX0BNf7n//8r9MjXO+//3x6gp/hX/7j9AT3+9O//evpEe73z/9+eoL7/eM/nZ7g\n",
       "fmOengAAuMhzegAAAAAAAACA70REBQAAAAAAAAgRFQAAAAAAACBEVAAAAAAAAIAQUQEAAAAAAABC\n",
       "RAUAAAAAAAAIERUAAAAAAAAgRFQAAAAAAACAEFEBAAAAAAAAQkQFAAAAAAAACBEVAAAAAAAAIN7T\n",
       "AwAA8IHhW7jlhqvyas88PcH9rPEe1nmDYZGXG+P0BAAA8K347xsAAAAAAABAiKgAAAAAAAAAIaIC\n",
       "AAAAAAAAhIgKAAAAAAAAECIqAAAAAAAAQIioAAAAAAAAACGiAgAAAAAAAISICgAAAAAAABAiKgAA\n",
       "AAAAAECIqAAAAAAAAAAhogIAAAAAAADEe3oAAAA+4Vu45cY8PcH1Hku83PTi28Je3mDYzOu5WwAA\n",
       "QLkhAwAAAAAAAISICgAAAAAAABAiKgAAAAAAAECIqAAAAAAAAAAhogIAAAAAAACEiAoAAAAAAAAQ\n",
       "IioAAAAAAABAiKgAAAAAAAAAIaICAAAAAAAAhIgKAAAAAAAAECIqAAAAAAAAQLynBwAA4ANjnJ7g\n",
       "fmOenuB6jyVe7vHi22Ja5/UcGOu5WwAAwBd+iQoAAAAAAAAQIioAAAAAAABAiKgAAAAAAAAAIaIC\n",
       "AAAAAAAAhIgKAAAAAAAAECIqAAAAAAAAQIioAAAAAAAAACGiAgAAAAAAAISICgAAAAAAABAiKgAA\n",
       "AAAAAEC8pwcAAG40Tg9wv+FbuOWeeXqC602vkeWmbbyF42KDYZGXc7fYwB0ZAOCPxA0ZAAAAAAAA\n",
       "IERUAAAAAAAAgBBRAQAAAAAAAEJEBQAAAAAAAAgRFQAAAAAAACBEVAAAAAAAAIAQUQEAAAAAAABC\n",
       "RAUAAAAAAAAIERUAAAAAAAAgRFQAAAAAAACAEFEBAAAAAAAA4j09AAAAnxinB7jfcFVe7ZmnJ7jf\n",
       "tI23sJc3GBZ5PXcLAAAov0QFAAAAAAAACBEVAAAAAAAAIERUAAAAAAAAgBBRAQAAAAAAAEJEBQAA\n",
       "AAAAAAgRFQAAAAAAACBEVAAAAAAAAIAQUQEAAAAAAABCRAUAAAAAAAAIERUAAAAAAAAgRFQAAAAA\n",
       "AACAeE8PAADAB4Zv4ZYb8/QE13ss8XLTi28L67yBA2M9dwsAAPjCDRkAAAAAAAAgRFQAAAAAAACA\n",
       "EFEBAAAAAAAAQkQFAAAAAAAACBEVAAAAAAAAIERUAAAAAAAAgBBRAQAAAAAAAEJEBQAAAAAAAAgR\n",
       "FQAAAAAAACBEVAAAAAAAAIAQUQEAAAAAAADiPT0AAACfGKcHuN+Ypye43vQaWc4a7/E4LtZzJq83\n",
       "3C0AAKD8EhUAAAAAAAAgRFQAAAAAAACAEFEBAAAAAAAAQkQFAAAAAAAACBEVAAAAAAAAIERUAAAA\n",
       "AAAAgBBRAQAAAAAAAEJEBQAAAAAAAAgRFQAAAAAAACBEVAAAAAAAAIB4Tw8AANxonB7gfsO3cMs9\n",
       "8/QE17PE681fpyf4GR4v6/WGA2M9d4v13JEBAP5I3JABAAAAAAAAQkQFAAAAAAAACBEVAAAAAAAA\n",
       "IERUAAAAAAAAgBBRAQAAAAAAAEJEBQAAAAAAAAgRFQAAAAAAACBEVAAAAAAAAIAQUQEAAAAAAABC\n",
       "RAUAAAAAAAAIERUAAAAAAAAg3tMDAADwgTFOT3C/MU9PcL3pNbKcNd5jOi7Wcyav524BAABf+CUq\n",
       "AAAAAAAAQIioAAAAAAAAACGiAgAAAAAAAISICgAAAAAAABAiKgAAAAAAAECIqAAAAAAAAAAhogIA\n",
       "AAAAAACEiAoAAAAAAAAQIioAAAAAAABAiKgAAAAAAAAAIaICAAAAAAAAxHt6AADgQuP0AD+BRV5u\n",
       "zNMTXO+xxMtNL74trPMGzuQN3C2Ws8QAAH8ofokKAAAAAAAAECIqAAAAAAAAQIioAAAAAAAAACGi\n",
       "AgAAAAAAAISICgAAAAAAABAiKgAAAAAAAECIqAAAAAAAAAAhogIAAAAAAACEiAoAAAAAAAAQIioA\n",
       "AAAAAABAiKgAAAAAAAAA8Z4eAACADwzfwi035ukJrje9Rpazxns8jov1LPJ67hYAAPCFGzIAAAAA\n",
       "AABAiKgAAAAAAAAAIaICAAAAAAAAhIgKAAAAAAAAECIqAAAAAAAAQIioAAAAAAAAACGiAgAAAAAA\n",
       "AISICgAAAAAAABAiKgAAAAAAAECIqAAAAAAAAADxnh4AAIBPjNMD3G/M0xNc7/EaWW7+Oj3BzzDt\n",
       "5fWcyRu4WwAAQPklKgAAAAAAAECIqAAAAAAAAAAhogIAAAAAAACEiAoAAAAAAAAQIioAAAAAAABA\n",
       "iKgAAAAAAAAAIaICAAAAAAAAhIgKAAAAAAAAECIqAAAAAAAAQIioAAAAAAAAACGiAgAAAAAAAMR7\n",
       "egAAAD4wxukJ7vfM0xNcb1ri5aYX3xaPdV5vODCWc7cAAIAv/BIVAAAAAAAAIERUAAAAAAAAgBBR\n",
       "AQAAAAAAAEJEBQAAAAAAAAgRFQAAAAAAACBEVAAAAAAAAIAQUQEAAAAAAABCRAUAAAAAAAAIERUA\n",
       "AAAAAAAgRFQAAAAAAACAEFEBAAAAAAAA4j09AAAAnxinB7jf8L3hatNrZDlrvId13mDM0xP8AO4W\n",
       "AABQ/jMEAAAAAAAAECIqAAAAAAAAQIioAAAAAAAAACGiAgAAAAAAAISICgAAAAAAABAiKgAAAAAA\n",
       "AECIqAAAAAAAAAAhogIAAAAAAACEiAoAAAAAAAAQIioAAAAAAABAiKgAAAAAAAAA8Z4eAACAT4zT\n",
       "A9xvzNMTXO/xGlnOGu8xHRfrOZPXG+4WAABQfokKAAAAAAAAECIqAAAAAAAAQIioAAAAAAAAACGi\n",
       "AgAAAAAAAISICgAAAAAAABAiKgAAAAAAAECIqAAAAAAAAAAhogIAAAAAAACEiAoAAAAAAAAQIioA\n",
       "AAAAAABAvKcHAADgA2OcnuB+Y56e4HrTEi83vfi2eKzzes7kDdwtAACg/BIVAAAAAAAAIERUAAAA\n",
       "AAAAgBBRAQAAAAAAAEJEBQAAAAAAAAgRFQAAAAAAACBEVAAAAAAAAIAQUQEAAAAAAABCRAUAAAAA\n",
       "AAAIERUAAAAAAAAgRFQAAAAAAACAEFEBAAAAAAAA4j09AABwo3F6gB/AGi835ukJrvd4jSw3rfEW\n",
       "1nmDx5m8nrvFetYYAOCPxC9RAQAAAAAAAEJEBQAAAAAAAAgRFQAAAAAAACBEVAAAAAAAAIAQUQEA\n",
       "AAAAAABCRAUAAAAAAAAIERUAAAAAAAAgRFQAAAAAAACAEFEBAAAAAAAAQkQFAAAAAAAACBEVAAAA\n",
       "AAAAIN7TAwAA8IExTk9wv2eenuB6wxovN9/fTo/wMzye1ssN58Vy7hYAAPCFX6ICAAAAAAAAhIgK\n",
       "AAAAAAAAECIqAAAAAAAAQIioAAAAAAAAACGiAgAAAAAAAISICgAAAAAAABAiKgAAAAAAAECIqAAA\n",
       "AAAAAAAhogIAAAAAAACEiAoAAAAAAAAQIioAAAAAAABAvKcHAADgE+P0APcb8/QE93t+nZ7ges/7\n",
       "2+kRfgZ7eT1n8gbuFgAAUH6JCgAAAAAAABAiKgAAAAAAAECIqAAAAAAAAAAhogIAAAAAAACEiAoA\n",
       "AAAAAAAQIioAAAAAAABAiKgAAAAAAAAAIaICAAAAAAAAhIgKAAAAAAAAECIqAAAAAAAAQLynBwAA\n",
       "4BPj9AD3G/P0BPd7fp2e4Hrz/b/TI/wM9vJ6zuQN3C0AAKD8EhUAAAAAAAAgRFQAAAAAAACAEFEB\n",
       "AAAAAAAAQkQFAAAAAAAACBEVAAAAAAAAIERUAAAAAAAAgBBRAQAAAAAAAEJEBQAAAAAAAAgRFQAA\n",
       "AAAAACBEVAAAAAAAAIAQUQEAAAAAAADiPT0AAAAfGOP0BPcb8/QE93t+nZ7geo9tvIe9vJ4zeT13\n",
       "CwAA+MIvUQEAAAAAAABCRAUAAAAAAAAIERUAAAAAAAAgRFQAAAAAAACAEFEBAAAAAAAAQkQFAAAA\n",
       "AAAACBEVAAAAAAAAIERUAAAAAAAAgBBRAQAAAAAAAEJEBQAAAAAAAAgRFQAAAAAAACDe0wMAAMC3\n",
       "NObpCe73eI6sNm3jPYa9vJwzeYNxegAAAPhW/BIVAAAAAAAAIERUAAAAAAAAgBBRAQAAAAAAAEJE\n",
       "BQAAAAAAAAgRFQAAAAAAACBEVAAAAAAAAIAQUQEAAAAAAABCRAUAAAAAAAAIERUAAAAAAAAgRFQA\n",
       "AAAAAACAEFEBAAAAAAAA4j09AAAAnxinB7jfmKcnuN/z6/QE13ts4z3s5fUe34ADAAB7eYUAAAAA\n",
       "AAAAhIgKAAAAAAAAECIqAAAAAAAAQIioAAAAAAAAACGiAgAAAAAAAISICgAAAAAAABAiKgAAAAAA\n",
       "AECIqAAAAAAAAAAhogIAAAAAAACEiAoAAAAAAAAQ7+kBAAD4wBinJ7jfM09PcL/hObKabbzJYy8v\n",
       "N2zm5dwtAADgC79EBQAAAAAAAAgRFQAAAAAAACBEVAAAAAAAAIAQUQEAAAAAAABCRAUAAAAAAAAI\n",
       "ERUAAAAAAAAgRFQAAAAAAACAEFEBAAAAAAAAQkQFAAAAAAAACBEVAAAAAAAAIERUAAAAAAAAgHhP\n",
       "DwAAAN/SmKcnuN/jObLaYxvv8fw6PcH9nMkAAMBmfokKAAAAAAAAECIqAAAAAAAAQIioAAAAAAAA\n",
       "ACGiAgAAAAAAAISICgAAAAAAABAiKgAAAAAAAECIqAAAAAAAAAAhogIAAAAAAACEiAoAAAAAAAAQ\n",
       "IioAAAAAAABAiKgAAAAAAAAA8Z4eAACAT4zTA9xv+N5wucdzZLVnnp7ghxj28nLDZl7P3QIAAMp/\n",
       "hgAAAAAAAABCRAUAAAAAAAAIERUAAAAAAAAgRFQAAAAAAACAEFEBAAAAAAAAQkQFAAAAAAAACBEV\n",
       "AAAAAAAAIERUAAAAAAAAgBBRAQAAAAAAAEJEBQAAAAAAAAgRFQAAAAAAACDe0wMAAPCJcXqA+415\n",
       "eoL7Dc+R1R7beI/HXl7OmbyBuwUAAJRfogIAAAAAAACEiAoAAAAAAAAQIioAAAAAAABAiKgAAAAA\n",
       "AAAAIaICAAAAAAAAhIgKAAAAAAAAECIqAAAAAAAAQIioAAAAAAAAACGiAgAAAAAAAISICgAAAAAA\n",
       "ABDv6QEAAOBbGvP0BPd7PEdWe3w2u4e9vJ4zGQAA2MyTGgAAAAAAACBEVAAAAAAAAIAQUQEAAAAA\n",
       "AABCRAUAAAAAAAAIERUAAAAAAAAgRFQAAAAAAACAEFEBAAAAAAAAQkQFAAAAAAAACBEVAAAAAAAA\n",
       "IERUAAAAAAAAgBBRAQAAAAAAAOI9PQAAAB8Ypwf4AcY8PcH9hufIarbxJvbyesM34Mu5WwAAwBde\n",
       "IQAAAAAAAAAhogIAAAAAAACEiAoAAAAAAAAQIioAAAAAAABAiKgAAAAAAAAAIaICAAAAAAAAhIgK\n",
       "AAAAAAAAECIqAAAAAAAAQIioAAAAAAAAACGiAgAAAAAAAISICgAAAAAAABDv6QEAAPjEOD3A/Ybv\n",
       "DZd7PEdWe2zjPZ55eoL7WeMN3C0AAKA8qQEAAAAAAABCRAUAAAAAAAAIERUAAAAAAAAgRFQAAAAA\n",
       "AACAEFEBAAAAAAAAQkQFAAAAAAAACBEVAAAAAAAAIERUAAAAAAAAgBBRAQAAAAAAAEJEBQAAAAAA\n",
       "AAgRFQAAAAAAACDe0wMAAMC3NObpCe5njZd7LPEew9N6OecFAACwmV+iAgAAAAAAAISICgAAAAAA\n",
       "ABAiKgAAAAAAAECIqAAAAAAAAAAhogIAAAAAAACEiAoAAAAAAAAQIioAAAAAAABAiKgAAAAAAAAA\n",
       "IaICAAAAAAAAhIgKAAAAAAAAEO/pAQAA+MQ4PcD9xjw9wf0ez5HVHp/N7mEvrzds5vXcLQAAoLxC\n",
       "AAAAAAAAAEJEBQAAAAAAAAgRFQAAAAAAACBEVAAAAAAAAIAQUQEAAAAAAABCRAUAAAAAAAAIERUA\n",
       "AAAAAAAgRFQAAAAAAACAEFEBAAAAAAAAQkQFAAAAAAAACBEVAAAAAAAAIN7TAwAAwLc0fG+43Jin\n",
       "J7ieJd7EQq9njQEAgM38ZwgAAAAAAAAgRFQAAAAAAACAEFEBAAAAAAAAQkQFAAAAAAAACBEVAAAA\n",
       "AAAAIERUAAAAAAAAgBBRAQAAAAAAAEJEBQAAAAAAAAgRFQAAAAAAACBEVAAAAAAAAIAQUQEAAAAA\n",
       "AADiPT0AAAB8S2OenuB+j+fIao/PZvdwXqw3bGYAAGAvrxAAAAAAAACAEFEBAAAAAAAAQkQFAAAA\n",
       "AAAACBEVAAAAAAAAIERUAAAAAAAAgBBRAQAAAAAAAEJEBQAAAAAAAAgRFQAAAAAAACBEVAAAAAAA\n",
       "AIAQUQEAAAAAAABCRAUAAAAAAACI9/QAAADwLQ3fGy435ukJrvdY4j0eT+vlnBcAAMBm/jMEAAAA\n",
       "AAAAECIqAAAAAAAAQIioAAAAAAAAACGiAgAAAAAAAISICgAAAAAAABAiKgAAAAAAAECIqAAAAAAA\n",
       "AAAhogIAAAAAAACEiAoAAAAAAAAQIioAAAAAAABAvKcHAADgE+P0APcbvjdcbszTE1zvscR72Mvr\n",
       "OZM3cLcAAIDyCgEAAAAAAAAIERUAAAAAAAAgRFQAAAAAAACAEFEBAAAAAAAAQkQFAAAAAAAACBEV\n",
       "AAAAAAAAIERUAAAAAAAAgBBRAQAAAAAAAEJEBQAAAAAAAAgRFQAAAAAAACBEVAAAAAAAAIB4Tw8A\n",
       "AMAHxukBfoAxT09wv8dzZLVpG+/hvNjAN+DLuVsAAMAXXiEAAAAAAAAAIaICAAAAAAAAhIgKAAAA\n",
       "AAAAECIqAAAAAAAAQIioAAAAAAAAACGiAgAAAAAAAISICgAAAAAAABAiKgAAAAAAAECIqAAAAAAA\n",
       "AAAhogIAAAAAAACEiAoAAAAAAAAQ7+kBAADgWxq+N1xuzNMTXO/x4tvDQq/nTAYAADbzCgEAAAAA\n",
       "AAAIERUAAAAAAAAgRFQAAAAAAACAEFEBAAAAAAAAQkQFAAAAAAAACBEVAAAAAAAAIERUAAAAAAAA\n",
       "gBBRAQAAAAAAAEJEBQAAAAAAAAgRFQAAAAAAACBEVAAAAAAAAIB4Tw8AAADf0vC94XLDc2S1Z56e\n",
       "4IcYFno5ZzIAALCZVwgAAAAAAABAiKgAAAAAAAAAIaICAAAAAAAAhIgKAAAAAAAAECIqAAAAAAAA\n",
       "QIioAAAAAAAAACGiAgAAAAAAAISICgAAAAAAABAiKgAAAAAAAECIqAAAAAAAAADxnh4AAAC+peF7\n",
       "w+WeeXqC600vvj2GhV7OmQwAAGzmFQIAAAAAAAAQIioAAAAAAABAiKgAAAAAAAAAIaICAAAAAAAA\n",
       "hIgKAAAAAAAAECIqAAAAAAAAQIioAAAAAAAAACGiAgAAAAAAAISICgAAAAAAABAiKgAAAAAAAECI\n",
       "qAAAAAAAAADxnh4AAAC+peF7w+WG58hq0xLv8czTE9zPmQwAAGzmFQIAAAAAAAAQIioAAAAAAABA\n",
       "iKgAAAAAAAAAIaICAAAAAAAAhIgKAAAAAAAAECIqAAAAAAAAQIioAAAAAAAAACGiAgAAAAAAAISI\n",
       "CgAAAAAAABAiKgAAAAAAAECIqAAAAAAAAADxnh4AAAC+J98bLvfM0xNcb3rx7TEs9HrOZAAAYC+v\n",
       "EAAAAAAAAIAQUQEAAAAAAABCRAUAAAAAAAAIERUAAAAAAAAgRFQAAAAAAACAEFEBAAAAAAAAQkQF\n",
       "AAAAAAAACBEVAAAAAAAAIERUAAAAAAAAgBBRAQAAAAAAAEJEBQAAAAAAAIj39AAAAHxinB7gfsMa\n",
       "Lzc8R1ablniPZ56e4H7DN+Dr+bsHAADlFQIAAAAAAAAQIioAAAAAAABAiKgAAAAAAAAAIaICAAAA\n",
       "AAAAhIgKAAAAAAAAECIqAAAAAAAAQIioAAAAAAAAACGiAgAAAAAAAISICgAAAAAAABAiKgAAAAAA\n",
       "AEC8pwcAAIBvafjecLlnnp7gevPX6Ql+iOFpvdwYpycAAAB+GP8ZAgAAAAAAAAgRFQAAAAAAACBE\n",
       "VAAAAAAAAIAQUQEAAAAAAABCRAUAAAAAAAAIERUAAAAAAAAgRFQAAAAAAACAEFEBAAAAAAAAQkQF\n",
       "AAAAAAAACBEVAAAAAAAAIERUAP6ffTvIcVzHoigIyszOzP1v+E/PoEaNkp9LjFjBhSEIoI8IAAAA\n",
       "AADEnh4AAACfaU0PeL7lOHK319f0gkNcnuX7+QYcAAB4L6cQAAAAAAAAgBBRAQAAAAAAAEJEBQAA\n",
       "AAAAAAgRFQAAAAAAACBEVAAAAAAAAIAQUQEAAAAAAABCRAUAAAAAAAAIERUAAAAAAAAgRFQAAAAA\n",
       "AACAEFEBAAAAAAAAQkQFAAAAAAAAiD09AAAAPtLyveHtLseRu+2v6QWHWJ7l2601vQAAADiMf4YA\n",
       "AAAAAAAAQkQFAAAAAAAACBEVAAAAAAAAIERUAAAAAAAAgBBRAQAAAAAAAEJEBQAAAAAAAAgRFQAA\n",
       "AAAAACBEVAAAAAAAAIAQUQEAAAAAAABCRAUAAAAAAAAIERUAAAAAAAAg9vQAAAD4TGt6wPMtx5Hb\n",
       "vb6nF5zh8izfzzsZAAB4LzdRAQAAAAAAAEJEBQAAAAAAAAgRFQAAAAAAACBEVAAAAAAAAIAQUQEA\n",
       "AAAAAABCRAUAAAAAAAAIERUAAAAAAAAgRFQAAAAAAACAEFEBAAAAAAAAQkQFAAAAAAAAiD09AAAA\n",
       "PtJa0wue73Icud3rZ3rBGZZn+XbLN+AAAMB7OYUAAAAAAAAAhIgKAAAAAAAAECIqAAAAAAAAQIio\n",
       "AAAAAAAAACGiAgAAAAAAAISICgAAAAAAABAiKgAAAAAAAECIqAAAAAAAAAAhogIAAAAAAACEiAoA\n",
       "AAAAAAAQIioAAAAAAABA7OkBAADwmXxveLvra3rB871+phec4XK0vt+aHgAAABzGP0MAAAAAAAAA\n",
       "IaICAAAAAAAAhIgKAAAAAAAAECIqAAAAAAAAQIioAAAAAAAAACGiAgAAAAAAAISICgAAAAAAABAi\n",
       "KgAAAAAAAECIqAAAAAAAAAAhogIAAAAAAACEiAoAAAAAAAAQe3oAAAB8pLWmFzzfchy53etnesEZ\n",
       "Ls/y7byTAQCAN3MTFQAAAAAAACBEVAAAAAAAAIAQUQEAAAAAAABCRAUAAAAAAAAIERUAAAAAAAAg\n",
       "RFQAAAAAAACAEFEBAAAAAAAAQkQFAAAAAAAACBEVAAAAAAAAIERUAAAAAAAAgBBRAQAAAAAAAGJP\n",
       "DwAAgM+0pgc83+U4crv9M73gDJ7lN/BOBgAA3stNVAAAAAAAAIAQUQEAAAAAAABCRAUAAAAAAAAI\n",
       "ERUAAAAAAAAgRFQAAAAAAACAEFEBAAAAAAAAQkQFAAAAAAAACBEVAAAAAAAAIERUAAAAAAAAgBBR\n",
       "AQAAAAAAAGJPDwAAgM+0pgc83+U4crvXz/SCM6yv6QUH8E4GAADey01UAAAAAAAAgBBRAQAAAAAA\n",
       "AEJEBQAAAAAAAAgRFQAAAAAAACBEVAAAAAAAAIAQUQEAAAAAAABCRAUAAAAAAAAIERUAAAAAAAAg\n",
       "RFQAAAAAAACAEFEBAAAAAAAAQkQFAAAAAAAAiD09AAAAPtKaHnCA62t6wfO9fqcXnOFytL6ddzIA\n",
       "APBmbqICAAAAAAAAhIgKAAAAAAAAECIqAAAAAAAAQIioAAAAAAAAACGiAgAAAAAAAISICgAAAAAA\n",
       "ABAiKgAAAAAAAECIqAAAAAAAAAAhogIAAAAAAACEiAoAAAAAAAAQIioAAAAAAABA7OkBAADwmdb0\n",
       "gOdbjiO327/TC85weZbv550MAAC8l5uoAAAAAAAAACGiAgAAAAAAAISICgAAAAAAABAiKgAAAAAA\n",
       "AECIqAAAAAAAAAAhogIAAAAAAACEiAoAAAAAAAAQIioAAAAAAABAiKgAAAAAAAAAIaICAAAAAAAA\n",
       "hIgKAAAAAAAAEHt6AAAAfKY1PeD5rq/pBc+3f6cXnMGz/AbeyQAAwHu5iQoAAAAAAAAQIioAAAAA\n",
       "AABAiKgAAAAAAAAAIaICAAAAAAAAhIgKAAAAAAAAECIqAAAAAAAAQIioAAAAAAAAACGiAgAAAAAA\n",
       "AISICgAAAAAAABAiKgAAAAAAAEDs6QEAAPCR1vSAA1yOI7d7/U4vOMPyLN/OOxkAAHgzN1EBAAAA\n",
       "AAAAQkQFAAAAAAAACBEVAAAAAAAAIERUAAAAAAAAgBBRAQAAAAAAAEJEBQAAAAAAAAgRFQAAAAAA\n",
       "ACBEVAAAAAAAAIAQUQEAAAAAAABCRAUAAAAAAAAIERUAAAAAAAAg9vQAAAD4TGt6wPNdjiO32z/T\n",
       "C87gWX4D72QAAOC93EQFAAAAAAAACBEVAAAAAAAAIERUAAAAAAAAgBBRAQAAAAAAAEJEBQAAAAAA\n",
       "AAgRFQAAAAAAACBEVAAAAAAAAIAQUQEAAAAAAABCRAUAAAAAAAAIERUAAAAAAAAgRFQAAAAAAACA\n",
       "2NMDAACAQ62v6QXP9/qdXnCGy7MMAADwNG6iAgAAAAAAAISICgAAAAAAABAiKgAAAAAAAECIqAAA\n",
       "AAAAAAAhogIAAAAAAACEiAoAAAAAAAAQIioAAAAAAABAiKgAAAAAAAAAIaICAAAAAAAAhIgKAAAA\n",
       "AAAAECIqAAAAAAAAQOzpAQAA8JnW9IDnuxxHbrd/pxecYXmW7+edDAAAvJebqAAAAAAAAAAhogIA\n",
       "AAAAAACEiAoAAAAAAAAQIioAAAAAAABAiKgAAAAAAAAAIaICAAAAAAAAhIgKAAAAAAAAECIqAAAA\n",
       "AAAAQIioAAAAAAAAACGiAgAAAAAAAMSeHhLdK+0AABJ7SURBVAAAABzqchy53et3esEZPMsAAACP\n",
       "4yYqAAAAAAAAQIioAAAAAAAAACGiAgAAAAAAAISICgAAAAAAABAiKgAAAAAAAECIqAAAAAAAAAAh\n",
       "ogIAAAAAAACEiAoAAAAAAAAQIioAAAAAAABAiKgAAAAAAAAAIaICAAAAAAAAxJ4eAAAAHGo5jtxu\n",
       "/0wvOMPlWQYAAHgaN1EBAAAAAAAAQkQFAAAAAAAACBEVAAAAAAAAIERUAAAAAAAAgBBRAQAAAAAA\n",
       "AEJEBQAAAAAAAAgRFQAAAAAAACBEVAAAAAAAAIAQUQEAAAAAAABCRAUAAAAAAAAIERUAAAAAAAAg\n",
       "9vQAAAD4TGt6wPNdjiO3e/1OLzjD8izfzzsZAAB4LzdRAQAAAAAAAEJEBQAAAAAAAAgRFQAAAAAA\n",
       "ACBEVAAAAAAAAIAQUQEAAAAAAABCRAUAAAAAAAAIERUAAAAAAAAgRFQAAAAAAACAEFEBAAAAAAAA\n",
       "QkQFAAAAAAAACBEVAAAAAAAAIPb0AAAA+EhresABluPI7V4/0wvOcL2mFzyfdzIAAPBmbqICAAAA\n",
       "AAAAhIgKAAAAAAAAECIqAAAAAAAAQIioAAAAAAAAACGiAgAAAAAAAISICgAAAAAAABAiKgAAAAAA\n",
       "AECIqAAAAAAAAAAhogIAAAAAAACEiAoAAAAAAAAQe3oAAABwqOs1veD59s/0gjMsR2sAAICncRMV\n",
       "AAAAAAAAIERUAAAAAAAAgBBRAQAAAAAAAEJEBQAAAAAAAAgRFQAAAAAAACBEVAAAAAAAAIAQUQEA\n",
       "AAAAAABCRAUAAAAAAAAIERUAAAAAAAAgRFQAAAAAAACAEFEBAAAAAAAAYk8PAAAADrUcR273+p5e\n",
       "cIb1ml4AAADAX+YmKgAAAAAAAECIqAAAAAAAAAAhogIAAAAAAACEiAoAAAAAAAAQIioAAAAAAABA\n",
       "iKgAAAAAAAAAIaICAAAAAAAAhIgKAAAAAAAAECIqAAAAAAAAQIioAAAAAAAAACGiAgAAAAAAAMSe\n",
       "HgAAABxqvaYXPN/1Pb3gDJejNQAAwNO4iQoAAAAAAAAQIioAAAAAAABAiKgAAAAAAAAAIaICAAAA\n",
       "AAAAhIgKAAAAAAAAECIqAAAAAAAAQIioAAAAAAAAACGiAgAAAAAAAISICgAAAAAAABAiKgAAAAAA\n",
       "AECIqAAAAAAAAACxpwcAAMBnWtMDnu96TS94vtf39IIzLM/y/byTAQCA93ITFQAAAAAAACBEVAAA\n",
       "AAAAAIAQUQEAAAAAAABCRAUAAAAAAAAIERUAAAAAAAAgRFQAAAAAAACAEFEBAAAAAAAAQkQFAAAA\n",
       "AAAACBEVAAAAAAAAIERUAAAAAAAAgNjTAwAAgEOt1/SC53t9Ty84g2cZAADgcdxEBQAAAAAAAAgR\n",
       "FQAAAAAAACBEVAAAAAAAAIAQUQEAAAAAAABCRAUAAAAAAAAIERUAAAAAAAAgRFQAAAAAAACAEFEB\n",
       "AAAAAAAAQkQFAAAAAAAACBEVAAAAAAAAIERUAAAAAAAAgNjTAwAAgEMt33Te7vqaXnAGzzIAAMDj\n",
       "OOkBAAAAAAAAhIgKAAAAAAAAECIqAAAAAAAAQIioAAAAAAAAACGiAgAAAAAAAISICgAAAAAAABAi\n",
       "KgAAAAAAAECIqAAAAAAAAAAhogIAAAAAAACEiAoAAAAAAAAQIioAAAAAAABA7OkBAADAodZresHz\n",
       "Xf+bXnAGzzIAAMDjuIkKAAAAAAAAECIqAAAAAAAAQIioAAAAAAAAACGiAgAAAAAAAISICgAAAAAA\n",
       "ABAiKgAAAAAAAECIqAAAAAAAAAAhogIAAAAAAACEiAoAAAAAAAAQIioAAAAAAABAiKgAAAAAAAAA\n",
       "sacHAAAAh1q+6bzd9TW94AyeZQAAgMdx0gMAAAAAAAAIERUAAAAAAAAgRFQAAAAAAACAEFEBAAAA\n",
       "AAAAQkQFAAAAAAAACBEVAAAAAAAAIERUAAAAAAAAgBBRAQAAAAAAAEJEBQAAAAAAAAgRFQAAAAAA\n",
       "ACD29AAAAOBQ6zW94PkuR763WL5PBgAAeBonPQAAAAAAAIAQUQEAAAAAAABCRAUAAAAAAAAIERUA\n",
       "AAAAAAAgRFQAAAAAAACAEFEBAAAAAAAAQkQFAAAAAAAACBEVAAAAAAAAIERUAAAAAAAAgBBRAQAA\n",
       "AAAAAEJEBQAAAAAAAIg9PQAAADjUWtMLnu9y5HuL5ftkAACAp3HSAwAAAAAAAAgRFQAAAAAAACBE\n",
       "VAAAAAAAAIAQUQEAAAAAAABCRAUAAAAAAAAIERUAAAAAAAAgRFQAAAAAAACAEFEBAAAAAAAAQkQF\n",
       "AAAAAAAACBEVAAAAAAAAIERUAAAAAAAAgNjTAwAAgFP5pvN2y5HvLZZnGQAA4Gmc9AAAAAAAAABC\n",
       "RAUAAAAAAAAIERUAAAAAAAAgRFQAAAAAAACAEFEBAAAAAAAAQkQFAAAAAAAACBEVAAAAAAAAIERU\n",
       "AAAAAAAAgBBRAQAAAAAAAEJEBQAAAAAAAAgRFQAAAAAAACD29AAAAOBQyzedt1uv6QWH8CwDAAA8\n",
       "jZMeAAAAAAAAQIioAAAAAAAAACGiAgAAAAAAAISICgAAAAAAABAiKgAAAAAAAECIqAAAAAAAAAAh\n",
       "ogIAAAAAAACEiAoAAAAAAAAQIioAAAAAAABAiKgAAAAAAAAAsacHAAAAh1presHzLd/NvoVnGQAA\n",
       "4HGcqAEAAAAAAABCRAUAAAAAAAAIERUAAAAAAAAgRFQAAAAAAACAEFEBAAAAAAAAQkQFAAAAAAAA\n",
       "CBEVAAAAAAAAIERUAAAAAAAAgBBRAQAAAAAAAEJEBQAAAAAAAAgRFQAAAAAAACD29AAAAOBUvum8\n",
       "3ZoecAo/NAAAwNP41wIAAAAAAAAgRFQAAAAAAACAEFEBAAAAAAAAQkQFAAAAAAAACBEVAAAAAAAA\n",
       "IERUAAAAAAAAgBBRAQAAAAAAAEJEBQAAAAAAAAgRFQAAAAAAACBEVAAAAAAAAIAQUQEAAAAAAABi\n",
       "Tw8AAAAOtdb0ggP4bvYtlt8ZAADgaZz0AAAAAAAAAEJEBQAAAAAAAAgRFQAAAAAAACBEVAAAAAAA\n",
       "AIAQUQEAAAAAAABCRAUAAAAAAAAIERUAAAAAAAAgRFQAAAAAAACAEFEBAAAAAAAAQkQFAAAAAAAA\n",
       "CBEVAAAAAAAAIPb0AAAA4FRresDz+YnfxA8NAADwNG6iAgAAAAAAAISICgAAAAAAABAiKgAAAAAA\n",
       "AECIqAAAAAAAAAAhogIAAAAAAACEiAoAAAAAAAAQIioAAAAAAABAiKgAAAAAAAAAIaICAAAAAAAA\n",
       "hIgKAAAAAAAAEHt6AAAAcKo1PeAAfuO38DMDAAA8jpuoAAAAAAAAACGiAgAAAAAAAISICgAAAAAA\n",
       "ABAiKgAAAAAAAECIqAAAAAAAAAAhogIAAAAAAACEiAoAAAAAAAAQIioAAAAAAABAiKgAAAAAAAAA\n",
       "IaICAAAAAAAAhIgKAAAAAAAAEHt6AAAAcKi1phcAAAAA/JGbqAAAAAAAAAAhogIAAAAAAACEiAoA\n",
       "AAAAAAAQIioAAAAAAABAiKgAAAAAAAAAIaICAAAAAAAAhIgKAAAAAAAAECIqAAAAAAAAQIioAAAA\n",
       "AAAAACGiAgAAAAAAAISICgAAAAAAABB7egAAAAD829b0AAAAAP4yN1EBAAAAAAAAQkQFAAAAAAAA\n",
       "CBEVAAAAAAAAIERUAAAAAAAAgBBRAQAAAAAAAEJEBQAAAAAAAAgRFQAAAAAAACBEVAAAAAAAAIAQ\n",
       "UQEAAAAAAABCRAUAAAAAAAAIERUAAAAAAAAg9vQAAADgVGt6AAAAAMAfuYkKAAAAAAAAECIqAAAA\n",
       "AAAAQIioAAAAAAAAACGiAgAAAAAAAISICgAAAAAAABAiKgAAAAAAAECIqAAAAAAAAAAhogIAAAAA\n",
       "AACEiAoAAAAAAAAQIioAAAAAAABA7OkBAAAA8G9b0wMAAAD4y9xEBQAAAAAAAAgRFQAAAAAAACBE\n",
       "VAAAAAAAAIAQUQEAAAAAAABCRAUAAAAAAAAIERUAAAAAAAAgRFQAAAAAAACAEFEBAAAAAAAAQkQF\n",
       "AAAAAAAACBEVAAAAAAAAIERUAAAAAAAAgNjTAwAAgFOt6QHP5ycGAACA/4ubqAAAAAAAAAAhogIA\n",
       "AAAAAACEiAoAAAAAAAAQIioAAAAAAABAiKgAAAAAAAAAIaICAAAAAAAAhIgKAAAAAAAAECIqAAAA\n",
       "AAAAQIioAAAAAAAAACGiAgAAAAAAAISICgAAAAAAABB7egAAAHCoNT0AAAAA4M/cRAUAAAAAAAAI\n",
       "ERUAAAAAAAAgRFQAAAAAAACAEFEBAAAAAAAAQkQFAAAAAAAACBEVAAAAAAAAIERUAAAAAAAAgBBR\n",
       "AQAAAAAAAEJEBQAAAAAAAAgRFQAAAAAAACBEVAAAAAAAAIDY0wMAAADg37amBwAAAPCXuYkKAAAA\n",
       "AAAAECIqAAAAAAAAQIioAAAAAAAAACGiAgAAAAAAAISICgAAAAAAABAiKgAAAAAAAECIqAAAAAAA\n",
       "AAAhogIAAAAAAACEiAoAAAAAAAAQIioAAAAAAABAiKgAAAAAAAAAIaICAAAAAAAAhIgKAAAAAAAA\n",
       "ECIqAAAAAAAAQIioAAAAAAAAACGiAgAAAAAAAISICgAAAAAAABAiKgAAAAAAAECIqAAAAAAAAAAh\n",
       "ogIAAAAAAACEiAoAAAAAAAAQIioAAAAAAABA7OkBAADAqdb0AAAAAIA/chMVAAAAAAAAIERUAAAA\n",
       "AAAAgBBRAQAAAAAAAEJEBQAAAAAAAAgRFQAAAAAAACBEVAAAAAAAAIAQUQEAAAAAAABCRAUAAAAA\n",
       "AAAIERUAAAAAAAAgRFQAAAAAAACAEFEBAAAAAAAAQkQFAAAAAAAACBEVAAAAAAAAIERUAAAAAAAA\n",
       "gBBRAQAAAAAAAEJEBQAAAAAAAAgRFQAAAAAAACBEVAAAAACA/9qzYwEAAACAQf7WewdRGgEAjEQF\n",
       "AAAAAAAAGIkKAAAAAAAAMBIVAAAAAAAAYCQqAAAAAAAAwEhUAAAAAAAAgJGoAAAAAAAAACNRAQAA\n",
       "AAAAAEaiAgAAAAAAAIxEBQAAAAAAABiJCgAAAAAAADASFQAAAAAAAGAkKgAAAAAAAMBIVAAAAAAA\n",
       "AICRqAAAAAAAAAAjUQEAAAAAAABGogIAAAAAAACMRAUAAAAAAAAYiQoAAAAAAAAwEhUAAAAAAABg\n",
       "JCoAAAAAAADASFQAAAAAAACAkagAAAAAAAAAI1EBAAAAAAAARqICAAAAAAAAjEQFAAAAAAAAGIkK\n",
       "AAAAAAAAMBIVAAAAAAAAYCQqAAAAAAAAwEhUAAAAAAAAgJGoAAAAAAAAACNRAQAAAAAAAEaiAgAA\n",
       "AAAAAIxEBQAAAAAAABiJCgAAAAAAADASFQAAAAAAAGAkKgAAAAAAAMBIVAAAAAAAAICRqAAAAAAA\n",
       "AAAjUQEAAAAAAABGogIAAAAAAACMRAUAAAAAAAAYiQoAAAAAAAAwEhUAAAAAAABgJCoAAAAAAADA\n",
       "SFQAAAAAAACAkagAAAAAAAAAI1EBAAAAAAAARqICAAAAAAAAjEQFAAAAAAAAGIkKAAAAAAAAMBIV\n",
       "AAAAAAAAYCQqAAAAAAAAwEhUAAAAAAAAgJGoAAAAAAAAACNRAQAAAAAAAEaiAgAAAAAAAIxEBQAA\n",
       "AAAAABiJCgAAAAAAADASFQAAAAAAAGAkKgAAAAAAAMBIVAAAAAAAAICRqAAAAAAAAAAjUQEAAAAA\n",
       "AABGogIAAAAAAACMRAUAAAAAAAAYiQoAAAAAAAAwEhUAAAAAAABgJCoAAAAAAADASFQAAAAAAACA\n",
       "kagAAAAAAAAAI1EBAAAAAAAARqICAAAAAAAAjEQFAAAAAAAAGIkKAAAAAAAAMBIVAAAAAAAAYCQq\n",
       "AAAAAAAAwEhUAAAAAAAAgJGoAAAAAAAAACNRAQAAAAAAAEaiAgAAAAAAAIxEBQAAAAAAABiJCgAA\n",
       "AAAAADASFQAAAAAAAGAkKgAAAAAAAMBIVAAAAAAAAICRqAAAAAAAAAAjUQEAAAAAAABGogIAAAAA\n",
       "AACMRAUAAAAAAAAYiQoAAAAAAAAwEhUAAAAAAABgJCoAAAAAAADASFQAAAAAAACAkagAAAAAAAAA\n",
       "I1EBAAAAAAAARqICAAAAAAAAjEQFAAAAAAAAGIkKAAAAAAAAMBIVAAAAAAAAYCQqAAAAAAAAwEhU\n",
       "AAAAAAAAgJGoAAAAAAAAACNRAQAAAAAAAEaiAgAAAAAAAIxEBQAAAAAAABiJCgAAAAAAADASFQAA\n",
       "AAAAAGAkKgAAAAAAAMBIVAAAAAAAAICRqAAAAAAAAAATvi4jFzwEl0wAAAAASUVORK5CYII=\n",
       "\" transform=\"translate(240, 248)\"/>\n",
       "</g>\n",
       "<defs>\n",
       "  <clipPath id=\"clip633\">\n",
       "    <rect x=\"2160\" y=\"248\" width=\"73\" height=\"1176\"/>\n",
       "  </clipPath>\n",
       "</defs>\n",
       "<g clip-path=\"url(#clip633)\">\n",
       "<image width=\"72\" height=\"1175\" xlink:href=\"data:image/png;base64,\n",
       "iVBORw0KGgoAAAANSUhEUgAAAEgAAASXCAYAAABCyjmuAAAJwklEQVR4nO3dwY0jMQwAQclg9g7a\n",
       "jsDs5/hRFcGhQRCSbmf3vs/5HH56Pf0P+HcCBYGCQGHOffqf8N9MUBAoCBQECnMt6ZUJCgIFgYId\n",
       "FExQECgIFAQKcyVayRMECgIFB8VggoJAQaAgULCkgwkKAgWBgkDBbT7IEwQKAgUHxWCCgkBBoCBQ\n",
       "sKSDCQoCBYGCHRRMUBAoCBQECl4UgzxBoCBQECj4JDOYoCBQECi4zQcTFAQKAgWBgtt8kCcIFAQK\n",
       "DorBBAWBgkBBoGBJBxMUBAoCBYGCJR1MUBAoCBS8KAZ5gkBBoCBQcFAMJigIFAQKdlAwQUGgIFAQ\n",
       "KLjNB3mCQEGg4KAYTFAQKAgUBAq+OAwmKAgUBAoCBbf5IE8QKAgU3OaDCQoCBYGCQMGSDiYoCBQE\n",
       "CnZQMEFBoCBQECh4UQzyBIGCQEGg4CQdTFAQKAgU7KBggoJAQaAgUHCbD/IEgYJAwUExmKAgUBAo\n",
       "CBQs6WCCgkBBoCBQ8ElmMEFBoCBQ8KIY5AkCBYGCQMFtPpigIFAQKNhBwQQFgYJAQaDgNh/kCQIF\n",
       "gYJAwUk6mKAgUBAo2EHBBAWBgkBBoOA2H+QJAgWBgoNiMEFBoCBQEChY0sEEBYGCQMEOCiYoCBQE\n",
       "CgKFkWgnTxAoCBQECk7SwQQFgYJAwQ4KJigIFAQKAgU/HxTkCQIFgYKDYjBBQaAgUBAoWNLBBAWB\n",
       "gkBBoGBJBxMUBAoCBS+KQZ4gUBAoCBQcFIMJCgIFgYIdFExQECgIFAQKbvNBniBQECgIFPwRyGCC\n",
       "gkBBoOA2H0xQECgIFAQKbvNBniBQECg4KAYTFAQKAgWBgiUdTFAQKAgU7KBggoJAQaAgUPCiGOQJ\n",
       "AgWBgkDBSTqYoCBQECjYQcEEBYGCQEGg4DYf5AkCBYGCg2IwQUGgIFAQKPjiMJigIFAQKAgUnKSD\n",
       "CQoCBYGCF8UgTxAoCBQECg6KwQQFgYJAwQ4KJigIFAQKAgW3+SBPECgIFAQKTtLBBAWBgkDBDgom\n",
       "KAgUBAoCBbf5IE8QKAgUHBSDCQoCBYGCQMGSDiYoCBQECgIFn2QGExQECgIFL4pBniBQECgIFNzm\n",
       "gwkKAgWBgh0UTFAQKAgUBApu80GeIFAQKDgoBhMUBAoCBYGCJR1MUBAoCBQECm7zQZ4gUBAoOCgG\n",
       "ExQECgIFgYIlHUxQECgIFOygYIKCQEGgIFAYiXbyBIGCQEGg4CQdTFAQKAgU7KBggoJAQaAgUPDz\n",
       "QUGeIFAQKDgoBhMUBAoCBYGCJR1MUBAoCBQECpZ0MEFBoCBQ8KIY5AkCBYGCQMFBMZigIFAQKNhB\n",
       "wQQFgYJAQaDgNh/kCQIFgYK/cRhMUBAoCBQECm7zwQQFgYJAQaBgSQcTFAQKAgUvikGeIFAQKAgU\n",
       "HBSDCQoCBYGCHRRMUBAoCBQECm7zQZ4gUBAoCBScpIMJCgIFgYIdFExQECgIFAQKbvNBniBQECg4\n",
       "KAYTFAQKAgWBgk8ygwkKAgWBgkDBSTqYoCBQECh4UQzyBIGCQEGg4KAYTFAQKAgU7KBggoJAQaAg\n",
       "UHCbD/IEgYJAQaDgJB1MUBAoCBTsoGCCgkBBoCBQcJsP8gSBgkDBQTGYoCBQECgIFCzpYIKCQEGg\n",
       "4IvDYIKCQEGgIFDwohjkCQIFgYJAwW0+mKAgUBAo2EHBBAWBgkBBoOA2H+QJAgWBgoNiMEFBoCBQ\n",
       "EChY0sEEBYGCQEGgMMd1fqVOECgIFEajnTpBoCBQECg4KAZ1gkBBoDDHk+LKBAWBgkBBoOA2H9QJ\n",
       "AgWBgkDBbT6oEwQKAgU7KKgTBAoCBYGCJ9dggoJAQaDgRTGoEwQKAgWBgtt8UCcIFAQKdlBQJwgU\n",
       "BAoChTl+Z/vKBAWBgkBBoOAkHdQJAgWBgh0U1AkCBYGCQMH/zQd1gkBBoOBnFIMJCgIFgYJAwW0+\n",
       "qBMECgIFgYIlHdQJAgWBghfFoE4QKAgUBAoOikGdIFAQKPhvn2CCgkBBoCBQcJsP6gSBgkBBoOA2\n",
       "H9QJAgWBgh0U1AkCBYGCQMGTazBBQaAgUPCiGNQJAgWBgkDBbT6oEwQKAgWBgiUd1AkCBYGC3wYc\n",
       "TFAQKAgUBAoOikGdIFAQKNhBQZ0gUBAoCBT833xQJwgUBAp+RjGYoCBQECgIFNzmgzpBoCBQEChY\n",
       "0kGdIFAQKHhRDOoEgYJAQaDgyTWYoCBQECi4rAZ1gkBBoCBQcJsP6gSBgkBBoOAkHdQJAgWBghfF\n",
       "YIKCQEGgIFBwUAzqBIGCQMGLYlAnCBQECgIFB8WgThAoCBQECp5cgwkKAgWBgtt8UCcIFAQKAgW3\n",
       "+aBOECgIFOygoE4QKAgUBAr+tk8wQUGgIFBwUAzqBIGCQEGgYEkHdYJAQaAgULCkgzpBoCBQ8KIY\n",
       "TFAQKAgUBAoOikGdIFAQKNhBQZ0gUBAoCBR87RPUCQIFgYJAwUk6qBMECgIFv5oimKAgUBAoCBQc\n",
       "FIM6QaAgUPCiGNQJAgWBgkDBQTGoEwQKAgWBgifXYIKCQEGg4DYf1AkCBYGCQMFtPqgTBAoCBTso\n",
       "qBMECgIFgYLf3RFMUBAoCBQECk7SQZ0gUBAo2EFBnSBQECgIFCzpoE4QKAgUvCgGExQECgIFgYKD\n",
       "YlAnCBQECnZQUCcIFAQKAgVf+wR1gkBBoCBQ8Fl4MEFBoCBQcJsP6gSBgkBBoGBJB3WCQEGg4EUx\n",
       "qBMECgIFgYIXxWCCgkBBoCBQcJsP6gSBgkDBbT6oEwQKAgWBgoNiUCcIFAQKXhSDCQoCBYGCQMFt\n",
       "PqgTBAoCBYGC23xQJwgUBAp2UFAnCBQECgIFT67BBAWBgkDBi2JQJwgUBAoCBbf5oE4QKAgU7KCg\n",
       "ThAoCBQECv62TzBBQaAgUBAoOEkHdYJAQaBgBwV1gkBBoCBQsKSDOkGgIFDw80FBnSBQECgIFPwg\n",
       "eTBBQaAgUBAouM0HdYJAQaDgNh/UCQIFgYJAwUExqBMECgIFL4rBBAWBgkBBoOA2H9QJAgWBgkDB\n",
       "bT6oEwQKAgU7KKgTBAoCBYGCJ9dggoJAQaDgRTGoEwQKAgWBgtt8UCcIFAQKAgVLOqgTBAoCBb8N\n",
       "OJigIFAQKAgUHBSDOkGgIFCwg4I6QaAgUBAoWNJBnSBQECh4UQwmKAgUBAoCBQfFoE4QKAgUBAqW\n",
       "dFAnCBQECr72CeoEgYJAQaDgs/BggoJAQaDgshrUCQIFgYJAwW0+qBMECgIFgYKTdFAnCBQECl4U\n",
       "gwkKAgWBgkDBQTGoEwQKAgUvikGdIFAQKAgUHBSDOkGgIFAQKHhyDSYoCBQECm7zQZ0gUBAoCBTc\n",
       "5oM6QaAgULCDgjpBoCBQEChY0kGdIFAQKHwBAZoPCb+nPRcAAAAASUVORK5CYII=\n",
       "\" transform=\"translate(2161, 248)\"/>\n",
       "</g>\n",
       "<path clip-path=\"url(#clip630)\" d=\"M2280.7 1398.49 Q2277.09 1398.49 2275.26 1402.06 Q2273.45 1405.6 2273.45 1412.73 Q2273.45 1419.84 2275.26 1423.4 Q2277.09 1426.94 2280.7 1426.94 Q2284.33 1426.94 2286.14 1423.4 Q2287.97 1419.84 2287.97 1412.73 Q2287.97 1405.6 2286.14 1402.06 Q2284.33 1398.49 2280.7 1398.49 M2280.7 1394.79 Q2286.51 1394.79 2289.57 1399.4 Q2292.64 1403.98 2292.64 1412.73 Q2292.64 1421.46 2289.57 1426.06 Q2286.51 1430.65 2280.7 1430.65 Q2274.89 1430.65 2271.81 1426.06 Q2268.76 1421.46 2268.76 1412.73 Q2268.76 1403.98 2271.81 1399.4 Q2274.89 1394.79 2280.7 1394.79 Z\" fill=\"#000000\" fill-rule=\"nonzero\" fill-opacity=\"1\" /><path clip-path=\"url(#clip630)\" d=\"M2280.7 1228.05 Q2277.09 1228.05 2275.26 1231.61 Q2273.45 1235.15 2273.45 1242.28 Q2273.45 1249.39 2275.26 1252.95 Q2277.09 1256.5 2280.7 1256.5 Q2284.33 1256.5 2286.14 1252.95 Q2287.97 1249.39 2287.97 1242.28 Q2287.97 1235.15 2286.14 1231.61 Q2284.33 1228.05 2280.7 1228.05 M2280.7 1224.34 Q2286.51 1224.34 2289.57 1228.95 Q2292.64 1233.53 2292.64 1242.28 Q2292.64 1251.01 2289.57 1255.62 Q2286.51 1260.2 2280.7 1260.2 Q2274.89 1260.2 2271.81 1255.62 Q2268.76 1251.01 2268.76 1242.28 Q2268.76 1233.53 2271.81 1228.95 Q2274.89 1224.34 2280.7 1224.34 Z\" fill=\"#000000\" fill-rule=\"nonzero\" fill-opacity=\"1\" /><path clip-path=\"url(#clip630)\" d=\"M2300.86 1253.65 L2305.75 1253.65 L2305.75 1259.53 L2300.86 1259.53 L2300.86 1253.65 Z\" fill=\"#000000\" fill-rule=\"nonzero\" fill-opacity=\"1\" /><path clip-path=\"url(#clip630)\" d=\"M2319.96 1255.59 L2336.28 1255.59 L2336.28 1259.53 L2314.33 1259.53 L2314.33 1255.59 Q2317 1252.84 2321.58 1248.21 Q2326.19 1243.56 2327.37 1242.21 Q2329.61 1239.69 2330.49 1237.95 Q2331.39 1236.19 2331.39 1234.51 Q2331.39 1231.75 2329.45 1230.01 Q2327.53 1228.28 2324.43 1228.28 Q2322.23 1228.28 2319.77 1229.04 Q2317.34 1229.81 2314.57 1231.36 L2314.57 1226.63 Q2317.39 1225.5 2319.84 1224.92 Q2322.3 1224.34 2324.33 1224.34 Q2329.7 1224.34 2332.9 1227.03 Q2336.09 1229.71 2336.09 1234.2 Q2336.09 1236.33 2335.28 1238.26 Q2334.5 1240.15 2332.39 1242.75 Q2331.81 1243.42 2328.71 1246.63 Q2325.61 1249.83 2319.96 1255.59 Z\" fill=\"#000000\" fill-rule=\"nonzero\" fill-opacity=\"1\" /><path clip-path=\"url(#clip630)\" d=\"M2346.14 1224.97 L2364.5 1224.97 L2364.5 1228.9 L2350.42 1228.9 L2350.42 1237.38 Q2351.44 1237.03 2352.46 1236.87 Q2353.48 1236.68 2354.5 1236.68 Q2360.28 1236.68 2363.66 1239.85 Q2367.04 1243.02 2367.04 1248.44 Q2367.04 1254.02 2363.57 1257.12 Q2360.1 1260.2 2353.78 1260.2 Q2351.6 1260.2 2349.33 1259.83 Q2347.09 1259.46 2344.68 1258.72 L2344.68 1254.02 Q2346.76 1255.15 2348.99 1255.71 Q2351.21 1256.26 2353.69 1256.26 Q2357.69 1256.26 2360.03 1254.16 Q2362.37 1252.05 2362.37 1248.44 Q2362.37 1244.83 2360.03 1242.72 Q2357.69 1240.62 2353.69 1240.62 Q2351.81 1240.62 2349.94 1241.03 Q2348.08 1241.45 2346.14 1242.33 L2346.14 1224.97 Z\" fill=\"#000000\" fill-rule=\"nonzero\" fill-opacity=\"1\" /><path clip-path=\"url(#clip630)\" d=\"M2280.7 1057.6 Q2277.09 1057.6 2275.26 1061.17 Q2273.45 1064.71 2273.45 1071.84 Q2273.45 1078.94 2275.26 1082.51 Q2277.09 1086.05 2280.7 1086.05 Q2284.33 1086.05 2286.14 1082.51 Q2287.97 1078.94 2287.97 1071.84 Q2287.97 1064.71 2286.14 1061.17 Q2284.33 1057.6 2280.7 1057.6 M2280.7 1053.9 Q2286.51 1053.9 2289.57 1058.5 Q2292.64 1063.09 2292.64 1071.84 Q2292.64 1080.56 2289.57 1085.17 Q2286.51 1089.75 2280.7 1089.75 Q2274.89 1089.75 2271.81 1085.17 Q2268.76 1080.56 2268.76 1071.84 Q2268.76 1063.09 2271.81 1058.5 Q2274.89 1053.9 2280.7 1053.9 Z\" fill=\"#000000\" fill-rule=\"nonzero\" fill-opacity=\"1\" /><path clip-path=\"url(#clip630)\" d=\"M2300.86 1083.2 L2305.75 1083.2 L2305.75 1089.08 L2300.86 1089.08 L2300.86 1083.2 Z\" fill=\"#000000\" fill-rule=\"nonzero\" fill-opacity=\"1\" /><path clip-path=\"url(#clip630)\" d=\"M2315.98 1054.52 L2334.33 1054.52 L2334.33 1058.46 L2320.26 1058.46 L2320.26 1066.93 Q2321.28 1066.58 2322.3 1066.42 Q2323.32 1066.23 2324.33 1066.23 Q2330.12 1066.23 2333.5 1069.41 Q2336.88 1072.58 2336.88 1077.99 Q2336.88 1083.57 2333.41 1086.67 Q2329.94 1089.75 2323.62 1089.75 Q2321.44 1089.75 2319.17 1089.38 Q2316.93 1089.01 2314.52 1088.27 L2314.52 1083.57 Q2316.6 1084.71 2318.83 1085.26 Q2321.05 1085.82 2323.52 1085.82 Q2327.53 1085.82 2329.87 1083.71 Q2332.2 1081.6 2332.2 1077.99 Q2332.2 1074.38 2329.87 1072.28 Q2327.53 1070.17 2323.52 1070.17 Q2321.65 1070.17 2319.77 1070.59 Q2317.92 1071 2315.98 1071.88 L2315.98 1054.52 Z\" fill=\"#000000\" fill-rule=\"nonzero\" fill-opacity=\"1\" /><path clip-path=\"url(#clip630)\" d=\"M2356.09 1057.6 Q2352.48 1057.6 2350.65 1061.17 Q2348.85 1064.71 2348.85 1071.84 Q2348.85 1078.94 2350.65 1082.51 Q2352.48 1086.05 2356.09 1086.05 Q2359.73 1086.05 2361.53 1082.51 Q2363.36 1078.94 2363.36 1071.84 Q2363.36 1064.71 2361.53 1061.17 Q2359.73 1057.6 2356.09 1057.6 M2356.09 1053.9 Q2361.9 1053.9 2364.96 1058.5 Q2368.04 1063.09 2368.04 1071.84 Q2368.04 1080.56 2364.96 1085.17 Q2361.9 1089.75 2356.09 1089.75 Q2350.28 1089.75 2347.2 1085.17 Q2344.15 1080.56 2344.15 1071.84 Q2344.15 1063.09 2347.2 1058.5 Q2350.28 1053.9 2356.09 1053.9 Z\" fill=\"#000000\" fill-rule=\"nonzero\" fill-opacity=\"1\" /><path clip-path=\"url(#clip630)\" d=\"M2280.7 887.154 Q2277.09 887.154 2275.26 890.719 Q2273.45 894.26 2273.45 901.39 Q2273.45 908.496 2275.26 912.061 Q2277.09 915.603 2280.7 915.603 Q2284.33 915.603 2286.14 912.061 Q2287.97 908.496 2287.97 901.39 Q2287.97 894.26 2286.14 890.719 Q2284.33 887.154 2280.7 887.154 M2280.7 883.45 Q2286.51 883.45 2289.57 888.057 Q2292.64 892.64 2292.64 901.39 Q2292.64 910.117 2289.57 914.723 Q2286.51 919.307 2280.7 919.307 Q2274.89 919.307 2271.81 914.723 Q2268.76 910.117 2268.76 901.39 Q2268.76 892.64 2271.81 888.057 Q2274.89 883.45 2280.7 883.45 Z\" fill=\"#000000\" fill-rule=\"nonzero\" fill-opacity=\"1\" /><path clip-path=\"url(#clip630)\" d=\"M2300.86 912.756 L2305.75 912.756 L2305.75 918.635 L2300.86 918.635 L2300.86 912.756 Z\" fill=\"#000000\" fill-rule=\"nonzero\" fill-opacity=\"1\" /><path clip-path=\"url(#clip630)\" d=\"M2314.75 884.075 L2336.97 884.075 L2336.97 886.066 L2324.43 918.635 L2319.54 918.635 L2331.35 888.01 L2314.75 888.01 L2314.75 884.075 Z\" fill=\"#000000\" fill-rule=\"nonzero\" fill-opacity=\"1\" /><path clip-path=\"url(#clip630)\" d=\"M2346.14 884.075 L2364.5 884.075 L2364.5 888.01 L2350.42 888.01 L2350.42 896.483 Q2351.44 896.135 2352.46 895.973 Q2353.48 895.788 2354.5 895.788 Q2360.28 895.788 2363.66 898.959 Q2367.04 902.131 2367.04 907.547 Q2367.04 913.126 2363.57 916.228 Q2360.1 919.307 2353.78 919.307 Q2351.6 919.307 2349.33 918.936 Q2347.09 918.566 2344.68 917.825 L2344.68 913.126 Q2346.76 914.26 2348.99 914.816 Q2351.21 915.371 2353.69 915.371 Q2357.69 915.371 2360.03 913.265 Q2362.37 911.158 2362.37 907.547 Q2362.37 903.936 2360.03 901.83 Q2357.69 899.723 2353.69 899.723 Q2351.81 899.723 2349.94 900.14 Q2348.08 900.557 2346.14 901.436 L2346.14 884.075 Z\" fill=\"#000000\" fill-rule=\"nonzero\" fill-opacity=\"1\" /><path clip-path=\"url(#clip630)\" d=\"M2269.43 744.254 L2277.07 744.254 L2277.07 717.888 L2268.76 719.555 L2268.76 715.295 L2277.02 713.629 L2281.7 713.629 L2281.7 744.254 L2289.33 744.254 L2289.33 748.189 L2269.43 748.189 L2269.43 744.254 Z\" fill=\"#000000\" fill-rule=\"nonzero\" fill-opacity=\"1\" /><path clip-path=\"url(#clip630)\" d=\"M2298.78 742.309 L2303.66 742.309 L2303.66 748.189 L2298.78 748.189 L2298.78 742.309 Z\" fill=\"#000000\" fill-rule=\"nonzero\" fill-opacity=\"1\" /><path clip-path=\"url(#clip630)\" d=\"M2323.85 716.708 Q2320.24 716.708 2318.41 720.272 Q2316.6 723.814 2316.6 730.944 Q2316.6 738.05 2318.41 741.615 Q2320.24 745.156 2323.85 745.156 Q2327.48 745.156 2329.29 741.615 Q2331.12 738.05 2331.12 730.944 Q2331.12 723.814 2329.29 720.272 Q2327.48 716.708 2323.85 716.708 M2323.85 713.004 Q2329.66 713.004 2332.71 717.61 Q2335.79 722.194 2335.79 730.944 Q2335.79 739.67 2332.71 744.277 Q2329.66 748.86 2323.85 748.86 Q2318.04 748.86 2314.96 744.277 Q2311.9 739.67 2311.9 730.944 Q2311.9 722.194 2314.96 717.61 Q2318.04 713.004 2323.85 713.004 Z\" fill=\"#000000\" fill-rule=\"nonzero\" fill-opacity=\"1\" /><path clip-path=\"url(#clip630)\" d=\"M2354.01 716.708 Q2350.4 716.708 2348.57 720.272 Q2346.76 723.814 2346.76 730.944 Q2346.76 738.05 2348.57 741.615 Q2350.4 745.156 2354.01 745.156 Q2357.64 745.156 2359.45 741.615 Q2361.28 738.05 2361.28 730.944 Q2361.28 723.814 2359.45 720.272 Q2357.64 716.708 2354.01 716.708 M2354.01 713.004 Q2359.82 713.004 2362.88 717.61 Q2365.95 722.194 2365.95 730.944 Q2365.95 739.67 2362.88 744.277 Q2359.82 748.86 2354.01 748.86 Q2348.2 748.86 2345.12 744.277 Q2342.07 739.67 2342.07 730.944 Q2342.07 722.194 2345.12 717.61 Q2348.2 713.004 2354.01 713.004 Z\" fill=\"#000000\" fill-rule=\"nonzero\" fill-opacity=\"1\" /><path clip-path=\"url(#clip630)\" d=\"M2269.43 573.807 L2277.07 573.807 L2277.07 547.442 L2268.76 549.108 L2268.76 544.849 L2277.02 543.182 L2281.7 543.182 L2281.7 573.807 L2289.33 573.807 L2289.33 577.742 L2269.43 577.742 L2269.43 573.807 Z\" fill=\"#000000\" fill-rule=\"nonzero\" fill-opacity=\"1\" /><path clip-path=\"url(#clip630)\" d=\"M2298.78 571.863 L2303.66 571.863 L2303.66 577.742 L2298.78 577.742 L2298.78 571.863 Z\" fill=\"#000000\" fill-rule=\"nonzero\" fill-opacity=\"1\" /><path clip-path=\"url(#clip630)\" d=\"M2317.88 573.807 L2334.2 573.807 L2334.2 577.742 L2312.25 577.742 L2312.25 573.807 Q2314.91 571.053 2319.5 566.423 Q2324.1 561.77 2325.28 560.428 Q2327.53 557.904 2328.41 556.168 Q2329.31 554.409 2329.31 552.719 Q2329.31 549.965 2327.37 548.229 Q2325.45 546.493 2322.34 546.493 Q2320.14 546.493 2317.69 547.256 Q2315.26 548.02 2312.48 549.571 L2312.48 544.849 Q2315.31 543.715 2317.76 543.136 Q2320.21 542.557 2322.25 542.557 Q2327.62 542.557 2330.82 545.243 Q2334.01 547.928 2334.01 552.418 Q2334.01 554.548 2333.2 556.469 Q2332.41 558.367 2330.31 560.96 Q2329.73 561.631 2326.63 564.849 Q2323.52 568.043 2317.88 573.807 Z\" fill=\"#000000\" fill-rule=\"nonzero\" fill-opacity=\"1\" /><path clip-path=\"url(#clip630)\" d=\"M2344.06 543.182 L2362.41 543.182 L2362.41 547.118 L2348.34 547.118 L2348.34 555.59 Q2349.36 555.242 2350.38 555.08 Q2351.39 554.895 2352.41 554.895 Q2358.2 554.895 2361.58 558.067 Q2364.96 561.238 2364.96 566.654 Q2364.96 572.233 2361.49 575.335 Q2358.01 578.414 2351.7 578.414 Q2349.52 578.414 2347.25 578.043 Q2345.01 577.673 2342.6 576.932 L2342.6 572.233 Q2344.68 573.367 2346.9 573.923 Q2349.13 574.478 2351.6 574.478 Q2355.61 574.478 2357.95 572.372 Q2360.28 570.266 2360.28 566.654 Q2360.28 563.043 2357.95 560.937 Q2355.61 558.83 2351.6 558.83 Q2349.73 558.83 2347.85 559.247 Q2346 559.664 2344.06 560.543 L2344.06 543.182 Z\" fill=\"#000000\" fill-rule=\"nonzero\" fill-opacity=\"1\" /><path clip-path=\"url(#clip630)\" d=\"M2269.43 403.361 L2277.07 403.361 L2277.07 376.995 L2268.76 378.662 L2268.76 374.403 L2277.02 372.736 L2281.7 372.736 L2281.7 403.361 L2289.33 403.361 L2289.33 407.296 L2269.43 407.296 L2269.43 403.361 Z\" fill=\"#000000\" fill-rule=\"nonzero\" fill-opacity=\"1\" /><path clip-path=\"url(#clip630)\" d=\"M2298.78 401.416 L2303.66 401.416 L2303.66 407.296 L2298.78 407.296 L2298.78 401.416 Z\" fill=\"#000000\" fill-rule=\"nonzero\" fill-opacity=\"1\" /><path clip-path=\"url(#clip630)\" d=\"M2313.89 372.736 L2332.25 372.736 L2332.25 376.671 L2318.18 376.671 L2318.18 385.143 Q2319.2 384.796 2320.21 384.634 Q2321.23 384.449 2322.25 384.449 Q2328.04 384.449 2331.42 387.62 Q2334.8 390.791 2334.8 396.208 Q2334.8 401.787 2331.33 404.888 Q2327.85 407.967 2321.53 407.967 Q2319.36 407.967 2317.09 407.597 Q2314.84 407.226 2312.44 406.486 L2312.44 401.787 Q2314.52 402.921 2316.74 403.476 Q2318.96 404.032 2321.44 404.032 Q2325.45 404.032 2327.78 401.926 Q2330.12 399.819 2330.12 396.208 Q2330.12 392.597 2327.78 390.49 Q2325.45 388.384 2321.44 388.384 Q2319.57 388.384 2317.69 388.801 Q2315.84 389.217 2313.89 390.097 L2313.89 372.736 Z\" fill=\"#000000\" fill-rule=\"nonzero\" fill-opacity=\"1\" /><path clip-path=\"url(#clip630)\" d=\"M2354.01 375.815 Q2350.4 375.815 2348.57 379.379 Q2346.76 382.921 2346.76 390.051 Q2346.76 397.157 2348.57 400.722 Q2350.4 404.263 2354.01 404.263 Q2357.64 404.263 2359.45 400.722 Q2361.28 397.157 2361.28 390.051 Q2361.28 382.921 2359.45 379.379 Q2357.64 375.815 2354.01 375.815 M2354.01 372.111 Q2359.82 372.111 2362.88 376.717 Q2365.95 381.301 2365.95 390.051 Q2365.95 398.777 2362.88 403.384 Q2359.82 407.967 2354.01 407.967 Q2348.2 407.967 2345.12 403.384 Q2342.07 398.777 2342.07 390.051 Q2342.07 381.301 2345.12 376.717 Q2348.2 372.111 2354.01 372.111 Z\" fill=\"#000000\" fill-rule=\"nonzero\" fill-opacity=\"1\" /><polyline clip-path=\"url(#clip630)\" style=\"stroke:#000000; stroke-linecap:round; stroke-linejoin:round; stroke-width:4; stroke-opacity:1; fill:none\" points=\"2232.76,1423.18 2232.76,1416.32 2256.76,1416.32 2232.76,1416.32 2232.76,1245.88 2256.76,1245.88 2232.76,1245.88 2232.76,1075.43 2256.76,1075.43 2232.76,1075.43 2232.76,904.984 2256.76,904.984 2232.76,904.984 2232.76,734.538 2256.76,734.538 2232.76,734.538 2232.76,564.091 2256.76,564.091 2232.76,564.091 2232.76,393.645 2256.76,393.645 2232.76,393.645 2232.76,248.204 \"/>\n",
       "</svg>\n"
      ]
     },
     "metadata": {},
     "output_type": "display_data"
    }
   ],
   "source": [
    "# Plot entanglement entropy of bonds between system + ancilla pairs:\n",
    "gr()\n",
    "S = reduce(vcat,transpose.(SvN))[:,1:2:(2*N)]\n",
    "heatmap(1:N, times, S, c = :heat,left_margin=20px, top_margin = 20px)\n",
    "ylabel!(\"Time t\")\n",
    "xlabel!(\"Site Index\")\n",
    "title!(\"\\n Entanglement Entropy Between System and Ancilla\")"
   ]
  },
  {
   "cell_type": "code",
   "execution_count": 65,
   "id": "7d15dc18",
   "metadata": {},
   "outputs": [
    {
     "ename": "UndefVarError",
     "evalue": "UndefVarError: `xkcd` not defined",
     "output_type": "error",
     "traceback": [
      "UndefVarError: `xkcd` not defined\n",
      "\n",
      "Stacktrace:\n",
      " [1] top-level scope\n",
      "   @ c:\\Users\\rache\\quantum_scrambling\\src\\scrambling_thermal_state.ipynb:1"
     ]
    }
   ],
   "source": [
    "# Plot the growth in the maximum link dimension with time:\n",
    "plot(times, chi, label=\"Maximum Bond Dimension χ\",framstyle=:box,legend=:topleft)  \n",
    "#scatter!(times, chi, label=false) \n",
    "\n",
    "xlabel!(\"Time t\")\n",
    "ylabel!(\"χ\")"
   ]
  },
  {
   "cell_type": "code",
   "execution_count": 53,
   "metadata": {},
   "outputs": [],
   "source": [
    "# function calculate_inner_product(Commutator_array, N)\n",
    "#     #inner_product_array_5 = []\n",
    "#     inner_product_array_10 = []\n",
    "\n",
    "#     for entry in Commutator_array\n",
    "        \n",
    "#         #inner_product_5 = inner(entry[1], entry[1])\n",
    "#         #push!(inner_product_array_5, inner_product_5)\n",
    "\n",
    "#         inner_product_10 = inner(entry, entry) # add entry[2]\n",
    "#         push!(inner_product_array_10, inner_product_10)\n",
    "#     end\n",
    "#     return inner_product_array_10 \n",
    "# end\n",
    "\n",
    "#Commutator is array of [real.(inner(commutator_2, commutator_2)), real.(inner(commutator_4, commutator_4)),\n",
    "#                           real.(inner(commutator_6, commutator_6)), real.(inner(commutator_8, commutator_8))]\n",
    "# # per timestep\n",
    "C_r_t_2 = []\n",
    "C_r_t_4 = []\n",
    "C_r_t_6 = []\n",
    "C_r_t_8 = []\n",
    "for line in Commutator\n",
    "\n",
    "    c_2 = (1/(2^N)) * line[1]\n",
    "    c_4 = (1/(2^N)) * line[2]\n",
    "    c_6 = (1/(2^N)) * line[3]\n",
    "    c_8 = (1/(2^N)) * line[4]\n",
    "\n",
    "    push!(C_r_t_2, c_2)\n",
    "    push!(C_r_t_4, c_4)\n",
    "    push!(C_r_t_6, c_6)\n",
    "    push!(C_r_t_8, c_8)\n",
    "end;\n",
    "#C_r_t_10= (1/(2^N))*Commutator_inner_product_10\n",
    "\n"
   ]
  },
  {
   "cell_type": "code",
   "execution_count": 54,
   "id": "c291d65b",
   "metadata": {},
   "outputs": [
    {
     "data": {
      "image/png": "[encoded data removed]",
      "image/svg+xml": [
       "<?xml version=\"1.0\" encoding=\"utf-8\"?>\n",
       "<svg xmlns=\"http://www.w3.org/2000/svg\" xmlns:xlink=\"http://www.w3.org/1999/xlink\" width=\"600\" height=\"400\" viewBox=\"0 0 2400 1600\">\n",
       "<defs>\n",
       "  <clipPath id=\"clip760\">\n",
       "    <rect x=\"0\" y=\"0\" width=\"2400\" height=\"1600\"/>\n",
       "  </clipPath>\n",
       "</defs>\n",
       "<path clip-path=\"url(#clip760)\" d=\"M0 1600 L2400 1600 L2400 0 L0 0  Z\" fill=\"#ffffff\" fill-rule=\"evenodd\" fill-opacity=\"1\"/>\n",
       "<defs>\n",
       "  <clipPath id=\"clip761\">\n",
       "    <rect x=\"480\" y=\"0\" width=\"1681\" height=\"1600\"/>\n",
       "  </clipPath>\n",
       "</defs>\n",
       "<path clip-path=\"url(#clip760)\" d=\"M306.873 1423.18 L2352.76 1423.18 L2352.76 47.2441 L306.873 47.2441  Z\" fill=\"#ffffff\" fill-rule=\"evenodd\" fill-opacity=\"1\"/>\n",
       "<defs>\n",
       "  <clipPath id=\"clip762\">\n",
       "    <rect x=\"306\" y=\"47\" width=\"2047\" height=\"1377\"/>\n",
       "  </clipPath>\n",
       "</defs>\n",
       "<polyline clip-path=\"url(#clip762)\" style=\"stroke:#000000; stroke-linecap:round; stroke-linejoin:round; stroke-width:2; stroke-opacity:0.1; fill:none\" points=\"345.279,1423.18 345.279,47.2441 \"/>\n",
       "<polyline clip-path=\"url(#clip762)\" style=\"stroke:#000000; stroke-linecap:round; stroke-linejoin:round; stroke-width:2; stroke-opacity:0.1; fill:none\" points=\"735.194,1423.18 735.194,47.2441 \"/>\n",
       "<polyline clip-path=\"url(#clip762)\" style=\"stroke:#000000; stroke-linecap:round; stroke-linejoin:round; stroke-width:2; stroke-opacity:0.1; fill:none\" points=\"1125.11,1423.18 1125.11,47.2441 \"/>\n",
       "<polyline clip-path=\"url(#clip762)\" style=\"stroke:#000000; stroke-linecap:round; stroke-linejoin:round; stroke-width:2; stroke-opacity:0.1; fill:none\" points=\"1515.02,1423.18 1515.02,47.2441 \"/>\n",
       "<polyline clip-path=\"url(#clip762)\" style=\"stroke:#000000; stroke-linecap:round; stroke-linejoin:round; stroke-width:2; stroke-opacity:0.1; fill:none\" points=\"1904.94,1423.18 1904.94,47.2441 \"/>\n",
       "<polyline clip-path=\"url(#clip762)\" style=\"stroke:#000000; stroke-linecap:round; stroke-linejoin:round; stroke-width:2; stroke-opacity:0.1; fill:none\" points=\"2294.85,1423.18 2294.85,47.2441 \"/>\n",
       "<polyline clip-path=\"url(#clip760)\" style=\"stroke:#000000; stroke-linecap:round; stroke-linejoin:round; stroke-width:4; stroke-opacity:1; fill:none\" points=\"306.873,1423.18 2352.76,1423.18 \"/>\n",
       "<polyline clip-path=\"url(#clip760)\" style=\"stroke:#000000; stroke-linecap:round; stroke-linejoin:round; stroke-width:4; stroke-opacity:1; fill:none\" points=\"345.279,1423.18 345.279,1404.28 \"/>\n",
       "<polyline clip-path=\"url(#clip760)\" style=\"stroke:#000000; stroke-linecap:round; stroke-linejoin:round; stroke-width:4; stroke-opacity:1; fill:none\" points=\"735.194,1423.18 735.194,1404.28 \"/>\n",
       "<polyline clip-path=\"url(#clip760)\" style=\"stroke:#000000; stroke-linecap:round; stroke-linejoin:round; stroke-width:4; stroke-opacity:1; fill:none\" points=\"1125.11,1423.18 1125.11,1404.28 \"/>\n",
       "<polyline clip-path=\"url(#clip760)\" style=\"stroke:#000000; stroke-linecap:round; stroke-linejoin:round; stroke-width:4; stroke-opacity:1; fill:none\" points=\"1515.02,1423.18 1515.02,1404.28 \"/>\n",
       "<polyline clip-path=\"url(#clip760)\" style=\"stroke:#000000; stroke-linecap:round; stroke-linejoin:round; stroke-width:4; stroke-opacity:1; fill:none\" points=\"1904.94,1423.18 1904.94,1404.28 \"/>\n",
       "<polyline clip-path=\"url(#clip760)\" style=\"stroke:#000000; stroke-linecap:round; stroke-linejoin:round; stroke-width:4; stroke-opacity:1; fill:none\" points=\"2294.85,1423.18 2294.85,1404.28 \"/>\n",
       "<path clip-path=\"url(#clip760)\" d=\"M345.279 1454.1 Q341.668 1454.1 339.84 1457.66 Q338.034 1461.2 338.034 1468.33 Q338.034 1475.44 339.84 1479.01 Q341.668 1482.55 345.279 1482.55 Q348.914 1482.55 350.719 1479.01 Q352.548 1475.44 352.548 1468.33 Q352.548 1461.2 350.719 1457.66 Q348.914 1454.1 345.279 1454.1 M345.279 1450.39 Q351.09 1450.39 354.145 1455 Q357.224 1459.58 357.224 1468.33 Q357.224 1477.06 354.145 1481.67 Q351.09 1486.25 345.279 1486.25 Q339.469 1486.25 336.391 1481.67 Q333.335 1477.06 333.335 1468.33 Q333.335 1459.58 336.391 1455 Q339.469 1450.39 345.279 1450.39 Z\" fill=\"#000000\" fill-rule=\"nonzero\" fill-opacity=\"1\" /><path clip-path=\"url(#clip760)\" d=\"M725.576 1481.64 L733.215 1481.64 L733.215 1455.28 L724.905 1456.95 L724.905 1452.69 L733.169 1451.02 L737.845 1451.02 L737.845 1481.64 L745.483 1481.64 L745.483 1485.58 L725.576 1485.58 L725.576 1481.64 Z\" fill=\"#000000\" fill-rule=\"nonzero\" fill-opacity=\"1\" /><path clip-path=\"url(#clip760)\" d=\"M1119.76 1481.64 L1136.08 1481.64 L1136.08 1485.58 L1114.14 1485.58 L1114.14 1481.64 Q1116.8 1478.89 1121.38 1474.26 Q1125.99 1469.61 1127.17 1468.27 Q1129.41 1465.74 1130.29 1464.01 Q1131.2 1462.25 1131.2 1460.56 Q1131.2 1457.8 1129.25 1456.07 Q1127.33 1454.33 1124.23 1454.33 Q1122.03 1454.33 1119.58 1455.09 Q1117.15 1455.86 1114.37 1457.41 L1114.37 1452.69 Q1117.19 1451.55 1119.65 1450.97 Q1122.1 1450.39 1124.14 1450.39 Q1129.51 1450.39 1132.7 1453.08 Q1135.9 1455.77 1135.9 1460.26 Q1135.9 1462.39 1135.09 1464.31 Q1134.3 1466.2 1132.19 1468.8 Q1131.61 1469.47 1128.51 1472.69 Q1125.41 1475.88 1119.76 1481.64 Z\" fill=\"#000000\" fill-rule=\"nonzero\" fill-opacity=\"1\" /><path clip-path=\"url(#clip760)\" d=\"M1519.27 1466.95 Q1522.63 1467.66 1524.5 1469.93 Q1526.4 1472.2 1526.4 1475.53 Q1526.4 1480.65 1522.88 1483.45 Q1519.36 1486.25 1512.88 1486.25 Q1510.71 1486.25 1508.39 1485.81 Q1506.1 1485.39 1503.65 1484.54 L1503.65 1480.02 Q1505.59 1481.16 1507.91 1481.74 Q1510.22 1482.32 1512.74 1482.32 Q1517.14 1482.32 1519.43 1480.58 Q1521.75 1478.84 1521.75 1475.53 Q1521.75 1472.48 1519.6 1470.77 Q1517.47 1469.03 1513.65 1469.03 L1509.62 1469.03 L1509.62 1465.19 L1513.83 1465.19 Q1517.28 1465.19 1519.11 1463.82 Q1520.94 1462.43 1520.94 1459.84 Q1520.94 1457.18 1519.04 1455.77 Q1517.17 1454.33 1513.65 1454.33 Q1511.73 1454.33 1509.53 1454.75 Q1507.33 1455.16 1504.69 1456.04 L1504.69 1451.88 Q1507.35 1451.14 1509.67 1450.77 Q1512 1450.39 1514.06 1450.39 Q1519.39 1450.39 1522.49 1452.83 Q1525.59 1455.23 1525.59 1459.35 Q1525.59 1462.22 1523.95 1464.21 Q1522.3 1466.18 1519.27 1466.95 Z\" fill=\"#000000\" fill-rule=\"nonzero\" fill-opacity=\"1\" /><path clip-path=\"url(#clip760)\" d=\"M1907.95 1455.09 L1896.14 1473.54 L1907.95 1473.54 L1907.95 1455.09 M1906.72 1451.02 L1912.6 1451.02 L1912.6 1473.54 L1917.53 1473.54 L1917.53 1477.43 L1912.6 1477.43 L1912.6 1485.58 L1907.95 1485.58 L1907.95 1477.43 L1892.35 1477.43 L1892.35 1472.92 L1906.72 1451.02 Z\" fill=\"#000000\" fill-rule=\"nonzero\" fill-opacity=\"1\" /><path clip-path=\"url(#clip760)\" d=\"M2285.13 1451.02 L2303.49 1451.02 L2303.49 1454.96 L2289.41 1454.96 L2289.41 1463.43 Q2290.43 1463.08 2291.45 1462.92 Q2292.47 1462.73 2293.49 1462.73 Q2299.27 1462.73 2302.65 1465.9 Q2306.03 1469.08 2306.03 1474.49 Q2306.03 1480.07 2302.56 1483.17 Q2299.09 1486.25 2292.77 1486.25 Q2290.59 1486.25 2288.33 1485.88 Q2286.08 1485.51 2283.67 1484.77 L2283.67 1480.07 Q2285.76 1481.2 2287.98 1481.76 Q2290.2 1482.32 2292.68 1482.32 Q2296.68 1482.32 2299.02 1480.21 Q2301.36 1478.1 2301.36 1474.49 Q2301.36 1470.88 2299.02 1468.77 Q2296.68 1466.67 2292.68 1466.67 Q2290.8 1466.67 2288.93 1467.08 Q2287.08 1467.5 2285.13 1468.38 L2285.13 1451.02 Z\" fill=\"#000000\" fill-rule=\"nonzero\" fill-opacity=\"1\" /><path clip-path=\"url(#clip760)\" d=\"M1251.69 1520.52 L1291.89 1520.52 L1291.89 1525.93 L1275.02 1525.93 L1275.02 1568.04 L1268.56 1568.04 L1268.56 1525.93 L1251.69 1525.93 L1251.69 1520.52 Z\" fill=\"#000000\" fill-rule=\"nonzero\" fill-opacity=\"1\" /><path clip-path=\"url(#clip760)\" d=\"M1295.84 1532.4 L1301.69 1532.4 L1301.69 1568.04 L1295.84 1568.04 L1295.84 1532.4 M1295.84 1518.52 L1301.69 1518.52 L1301.69 1525.93 L1295.84 1525.93 L1295.84 1518.52 Z\" fill=\"#000000\" fill-rule=\"nonzero\" fill-opacity=\"1\" /><path clip-path=\"url(#clip760)\" d=\"M1341.7 1539.24 Q1343.9 1535.29 1346.95 1533.41 Q1350.01 1531.54 1354.15 1531.54 Q1359.72 1531.54 1362.74 1535.45 Q1365.76 1539.33 1365.76 1546.53 L1365.76 1568.04 L1359.88 1568.04 L1359.88 1546.72 Q1359.88 1541.59 1358.06 1539.11 Q1356.25 1536.63 1352.52 1536.63 Q1347.97 1536.63 1345.33 1539.65 Q1342.69 1542.68 1342.69 1547.9 L1342.69 1568.04 L1336.8 1568.04 L1336.8 1546.72 Q1336.8 1541.56 1334.99 1539.11 Q1333.17 1536.63 1329.38 1536.63 Q1324.9 1536.63 1322.26 1539.68 Q1319.61 1542.71 1319.61 1547.9 L1319.61 1568.04 L1313.73 1568.04 L1313.73 1532.4 L1319.61 1532.4 L1319.61 1537.93 Q1321.62 1534.66 1324.42 1533.1 Q1327.22 1531.54 1331.07 1531.54 Q1334.95 1531.54 1337.66 1533.51 Q1340.4 1535.48 1341.7 1539.24 Z\" fill=\"#000000\" fill-rule=\"nonzero\" fill-opacity=\"1\" /><path clip-path=\"url(#clip760)\" d=\"M1407.94 1548.76 L1407.94 1551.62 L1381.01 1551.62 Q1381.39 1557.67 1384.64 1560.85 Q1387.92 1564 1393.74 1564 Q1397.12 1564 1400.27 1563.17 Q1403.45 1562.35 1406.57 1560.69 L1406.57 1566.23 Q1403.42 1567.57 1400.11 1568.27 Q1396.8 1568.97 1393.39 1568.97 Q1384.86 1568.97 1379.86 1564 Q1374.9 1559.04 1374.9 1550.57 Q1374.9 1541.82 1379.61 1536.69 Q1384.35 1531.54 1392.37 1531.54 Q1399.57 1531.54 1403.74 1536.18 Q1407.94 1540.8 1407.94 1548.76 M1402.08 1547.04 Q1402.02 1542.23 1399.38 1539.37 Q1396.77 1536.5 1392.44 1536.5 Q1387.54 1536.5 1384.58 1539.27 Q1381.65 1542.04 1381.2 1547.07 L1402.08 1547.04 Z\" fill=\"#000000\" fill-rule=\"nonzero\" fill-opacity=\"1\" /><polyline clip-path=\"url(#clip762)\" style=\"stroke:#000000; stroke-linecap:round; stroke-linejoin:round; stroke-width:2; stroke-opacity:0.1; fill:none\" points=\"306.873,1214.46 2352.76,1214.46 \"/>\n",
       "<polyline clip-path=\"url(#clip762)\" style=\"stroke:#000000; stroke-linecap:round; stroke-linejoin:round; stroke-width:2; stroke-opacity:0.1; fill:none\" points=\"306.873,946.418 2352.76,946.418 \"/>\n",
       "<polyline clip-path=\"url(#clip762)\" style=\"stroke:#000000; stroke-linecap:round; stroke-linejoin:round; stroke-width:2; stroke-opacity:0.1; fill:none\" points=\"306.873,678.374 2352.76,678.374 \"/>\n",
       "<polyline clip-path=\"url(#clip762)\" style=\"stroke:#000000; stroke-linecap:round; stroke-linejoin:round; stroke-width:2; stroke-opacity:0.1; fill:none\" points=\"306.873,410.33 2352.76,410.33 \"/>\n",
       "<polyline clip-path=\"url(#clip762)\" style=\"stroke:#000000; stroke-linecap:round; stroke-linejoin:round; stroke-width:2; stroke-opacity:0.1; fill:none\" points=\"306.873,142.287 2352.76,142.287 \"/>\n",
       "<polyline clip-path=\"url(#clip760)\" style=\"stroke:#000000; stroke-linecap:round; stroke-linejoin:round; stroke-width:4; stroke-opacity:1; fill:none\" points=\"306.873,1423.18 306.873,47.2441 \"/>\n",
       "<polyline clip-path=\"url(#clip760)\" style=\"stroke:#000000; stroke-linecap:round; stroke-linejoin:round; stroke-width:4; stroke-opacity:1; fill:none\" points=\"306.873,1214.46 325.77,1214.46 \"/>\n",
       "<polyline clip-path=\"url(#clip760)\" style=\"stroke:#000000; stroke-linecap:round; stroke-linejoin:round; stroke-width:4; stroke-opacity:1; fill:none\" points=\"306.873,946.418 325.77,946.418 \"/>\n",
       "<polyline clip-path=\"url(#clip760)\" style=\"stroke:#000000; stroke-linecap:round; stroke-linejoin:round; stroke-width:4; stroke-opacity:1; fill:none\" points=\"306.873,678.374 325.77,678.374 \"/>\n",
       "<polyline clip-path=\"url(#clip760)\" style=\"stroke:#000000; stroke-linecap:round; stroke-linejoin:round; stroke-width:4; stroke-opacity:1; fill:none\" points=\"306.873,410.33 325.77,410.33 \"/>\n",
       "<polyline clip-path=\"url(#clip760)\" style=\"stroke:#000000; stroke-linecap:round; stroke-linejoin:round; stroke-width:4; stroke-opacity:1; fill:none\" points=\"306.873,142.287 325.77,142.287 \"/>\n",
       "<path clip-path=\"url(#clip760)\" d=\"M178.836 1214.91 L208.512 1214.91 L208.512 1218.85 L178.836 1218.85 L178.836 1214.91 Z\" fill=\"#000000\" fill-rule=\"nonzero\" fill-opacity=\"1\" /><path clip-path=\"url(#clip760)\" d=\"M232.771 1213.11 Q236.128 1213.82 238.003 1216.09 Q239.901 1218.36 239.901 1221.7 Q239.901 1226.81 236.382 1229.61 Q232.864 1232.41 226.382 1232.41 Q224.206 1232.41 221.892 1231.97 Q219.6 1231.56 217.146 1230.7 L217.146 1226.19 Q219.091 1227.32 221.405 1227.9 Q223.72 1228.48 226.243 1228.48 Q230.641 1228.48 232.933 1226.74 Q235.248 1225.01 235.248 1221.7 Q235.248 1218.64 233.095 1216.93 Q230.966 1215.19 227.146 1215.19 L223.118 1215.19 L223.118 1211.35 L227.331 1211.35 Q230.78 1211.35 232.609 1209.98 Q234.438 1208.59 234.438 1206 Q234.438 1203.34 232.54 1201.93 Q230.665 1200.49 227.146 1200.49 Q225.225 1200.49 223.026 1200.91 Q220.827 1201.32 218.188 1202.2 L218.188 1198.04 Q220.85 1197.3 223.165 1196.93 Q225.503 1196.56 227.563 1196.56 Q232.887 1196.56 235.989 1198.99 Q239.091 1201.39 239.091 1205.51 Q239.091 1208.39 237.447 1210.38 Q235.803 1212.34 232.771 1213.11 Z\" fill=\"#000000\" fill-rule=\"nonzero\" fill-opacity=\"1\" /><path clip-path=\"url(#clip760)\" d=\"M259.345 1212.6 Q256.197 1212.6 254.345 1214.75 Q252.516 1216.9 252.516 1220.65 Q252.516 1224.38 254.345 1226.56 Q256.197 1228.71 259.345 1228.71 Q262.493 1228.71 264.322 1226.56 Q266.174 1224.38 266.174 1220.65 Q266.174 1216.9 264.322 1214.75 Q262.493 1212.6 259.345 1212.6 M268.627 1197.95 L268.627 1202.2 Q266.868 1201.37 265.063 1200.93 Q263.28 1200.49 261.521 1200.49 Q256.891 1200.49 254.438 1203.62 Q252.007 1206.74 251.66 1213.06 Q253.026 1211.05 255.086 1209.98 Q257.146 1208.89 259.623 1208.89 Q264.831 1208.89 267.84 1212.07 Q270.873 1215.21 270.873 1220.65 Q270.873 1225.98 267.725 1229.2 Q264.576 1232.41 259.345 1232.41 Q253.35 1232.41 250.178 1227.83 Q247.007 1223.22 247.007 1214.5 Q247.007 1206.3 250.896 1201.44 Q254.785 1196.56 261.336 1196.56 Q263.095 1196.56 264.877 1196.9 Q266.683 1197.25 268.627 1197.95 Z\" fill=\"#000000\" fill-rule=\"nonzero\" fill-opacity=\"1\" /><path clip-path=\"url(#clip760)\" d=\"M179.994 946.869 L209.669 946.869 L209.669 950.804 L179.994 950.804 L179.994 946.869 Z\" fill=\"#000000\" fill-rule=\"nonzero\" fill-opacity=\"1\" /><path clip-path=\"url(#clip760)\" d=\"M233.928 945.064 Q237.285 945.781 239.16 948.05 Q241.058 950.318 241.058 953.652 Q241.058 958.767 237.54 961.568 Q234.021 964.369 227.54 964.369 Q225.364 964.369 223.049 963.929 Q220.757 963.513 218.304 962.656 L218.304 958.142 Q220.248 959.276 222.563 959.855 Q224.878 960.434 227.401 960.434 Q231.799 960.434 234.091 958.698 Q236.405 956.962 236.405 953.652 Q236.405 950.596 234.253 948.883 Q232.123 947.147 228.304 947.147 L224.276 947.147 L224.276 943.304 L228.489 943.304 Q231.938 943.304 233.766 941.939 Q235.595 940.55 235.595 937.957 Q235.595 935.295 233.697 933.883 Q231.822 932.448 228.304 932.448 Q226.382 932.448 224.183 932.865 Q221.984 933.281 219.345 934.161 L219.345 929.994 Q222.007 929.254 224.322 928.883 Q226.66 928.513 228.72 928.513 Q234.044 928.513 237.146 930.943 Q240.248 933.351 240.248 937.471 Q240.248 940.341 238.604 942.332 Q236.961 944.3 233.928 945.064 Z\" fill=\"#000000\" fill-rule=\"nonzero\" fill-opacity=\"1\" /><path clip-path=\"url(#clip760)\" d=\"M249.97 929.138 L268.326 929.138 L268.326 933.073 L254.252 933.073 L254.252 941.545 Q255.271 941.198 256.289 941.036 Q257.308 940.851 258.327 940.851 Q264.114 940.851 267.493 944.022 Q270.873 947.193 270.873 952.61 Q270.873 958.189 267.401 961.29 Q263.928 964.369 257.609 964.369 Q255.433 964.369 253.165 963.999 Q250.919 963.628 248.512 962.888 L248.512 958.189 Q250.595 959.323 252.817 959.878 Q255.039 960.434 257.516 960.434 Q261.521 960.434 263.859 958.327 Q266.197 956.221 266.197 952.61 Q266.197 948.999 263.859 946.892 Q261.521 944.786 257.516 944.786 Q255.641 944.786 253.766 945.202 Q251.915 945.619 249.97 946.499 L249.97 929.138 Z\" fill=\"#000000\" fill-rule=\"nonzero\" fill-opacity=\"1\" /><path clip-path=\"url(#clip760)\" d=\"M178.512 678.826 L208.188 678.826 L208.188 682.761 L178.512 682.761 L178.512 678.826 Z\" fill=\"#000000\" fill-rule=\"nonzero\" fill-opacity=\"1\" /><path clip-path=\"url(#clip760)\" d=\"M232.447 677.02 Q235.803 677.738 237.678 680.006 Q239.577 682.275 239.577 685.608 Q239.577 690.724 236.058 693.525 Q232.54 696.325 226.058 696.325 Q223.882 696.325 221.567 695.886 Q219.276 695.469 216.822 694.612 L216.822 690.099 Q218.767 691.233 221.081 691.812 Q223.396 692.39 225.919 692.39 Q230.317 692.39 232.609 690.654 Q234.924 688.918 234.924 685.608 Q234.924 682.552 232.771 680.839 Q230.641 679.103 226.822 679.103 L222.794 679.103 L222.794 675.261 L227.007 675.261 Q230.456 675.261 232.285 673.895 Q234.114 672.506 234.114 669.914 Q234.114 667.251 232.216 665.839 Q230.341 664.404 226.822 664.404 Q224.901 664.404 222.702 664.821 Q220.503 665.238 217.864 666.117 L217.864 661.951 Q220.526 661.21 222.841 660.839 Q225.179 660.469 227.239 660.469 Q232.563 660.469 235.665 662.9 Q238.766 665.307 238.766 669.427 Q238.766 672.298 237.123 674.288 Q235.479 676.256 232.447 677.02 Z\" fill=\"#000000\" fill-rule=\"nonzero\" fill-opacity=\"1\" /><path clip-path=\"url(#clip760)\" d=\"M261.289 665.168 L249.484 683.617 L261.289 683.617 L261.289 665.168 M260.063 661.094 L265.942 661.094 L265.942 683.617 L270.873 683.617 L270.873 687.506 L265.942 687.506 L265.942 695.654 L261.289 695.654 L261.289 687.506 L245.688 687.506 L245.688 682.992 L260.063 661.094 Z\" fill=\"#000000\" fill-rule=\"nonzero\" fill-opacity=\"1\" /><path clip-path=\"url(#clip760)\" d=\"M179.646 410.782 L209.322 410.782 L209.322 414.717 L179.646 414.717 L179.646 410.782 Z\" fill=\"#000000\" fill-rule=\"nonzero\" fill-opacity=\"1\" /><path clip-path=\"url(#clip760)\" d=\"M233.581 408.976 Q236.938 409.694 238.813 411.962 Q240.711 414.231 240.711 417.564 Q240.711 422.68 237.192 425.481 Q233.674 428.282 227.192 428.282 Q225.017 428.282 222.702 427.842 Q220.41 427.425 217.956 426.569 L217.956 422.055 Q219.901 423.189 222.216 423.768 Q224.53 424.347 227.054 424.347 Q231.452 424.347 233.743 422.611 Q236.058 420.874 236.058 417.564 Q236.058 414.509 233.905 412.796 Q231.776 411.06 227.956 411.06 L223.929 411.06 L223.929 407.217 L228.141 407.217 Q231.591 407.217 233.419 405.851 Q235.248 404.462 235.248 401.87 Q235.248 399.208 233.35 397.796 Q231.475 396.361 227.956 396.361 Q226.035 396.361 223.836 396.777 Q221.637 397.194 218.998 398.074 L218.998 393.907 Q221.66 393.166 223.975 392.796 Q226.313 392.425 228.373 392.425 Q233.697 392.425 236.799 394.856 Q239.901 397.263 239.901 401.384 Q239.901 404.254 238.257 406.245 Q236.614 408.212 233.581 408.976 Z\" fill=\"#000000\" fill-rule=\"nonzero\" fill-opacity=\"1\" /><path clip-path=\"url(#clip760)\" d=\"M263.743 408.976 Q267.1 409.694 268.975 411.962 Q270.873 414.231 270.873 417.564 Q270.873 422.68 267.354 425.481 Q263.836 428.282 257.354 428.282 Q255.178 428.282 252.864 427.842 Q250.572 427.425 248.118 426.569 L248.118 422.055 Q250.063 423.189 252.377 423.768 Q254.692 424.347 257.215 424.347 Q261.614 424.347 263.905 422.611 Q266.22 420.874 266.22 417.564 Q266.22 414.509 264.067 412.796 Q261.938 411.06 258.118 411.06 L254.09 411.06 L254.09 407.217 L258.303 407.217 Q261.752 407.217 263.581 405.851 Q265.41 404.462 265.41 401.87 Q265.41 399.208 263.512 397.796 Q261.637 396.361 258.118 396.361 Q256.197 396.361 253.998 396.777 Q251.799 397.194 249.16 398.074 L249.16 393.907 Q251.822 393.166 254.137 392.796 Q256.475 392.425 258.535 392.425 Q263.859 392.425 266.961 394.856 Q270.063 397.263 270.063 401.384 Q270.063 404.254 268.419 406.245 Q266.776 408.212 263.743 408.976 Z\" fill=\"#000000\" fill-rule=\"nonzero\" fill-opacity=\"1\" /><path clip-path=\"url(#clip760)\" d=\"M180.595 142.738 L210.271 142.738 L210.271 146.673 L180.595 146.673 L180.595 142.738 Z\" fill=\"#000000\" fill-rule=\"nonzero\" fill-opacity=\"1\" /><path clip-path=\"url(#clip760)\" d=\"M234.53 140.933 Q237.887 141.65 239.762 143.919 Q241.66 146.187 241.66 149.521 Q241.66 154.636 238.141 157.437 Q234.623 160.238 228.141 160.238 Q225.966 160.238 223.651 159.798 Q221.359 159.382 218.905 158.525 L218.905 154.011 Q220.85 155.146 223.165 155.724 Q225.479 156.303 228.003 156.303 Q232.401 156.303 234.692 154.567 Q237.007 152.831 237.007 149.521 Q237.007 146.465 234.854 144.752 Q232.725 143.016 228.905 143.016 L224.878 143.016 L224.878 139.173 L229.091 139.173 Q232.54 139.173 234.368 137.808 Q236.197 136.419 236.197 133.826 Q236.197 131.164 234.299 129.752 Q232.424 128.317 228.905 128.317 Q226.984 128.317 224.785 128.734 Q222.586 129.15 219.947 130.03 L219.947 125.863 Q222.609 125.123 224.924 124.752 Q227.262 124.382 229.322 124.382 Q234.646 124.382 237.748 126.812 Q240.85 129.22 240.85 133.34 Q240.85 136.21 239.206 138.201 Q237.563 140.169 234.53 140.933 Z\" fill=\"#000000\" fill-rule=\"nonzero\" fill-opacity=\"1\" /><path clip-path=\"url(#clip760)\" d=\"M254.553 155.632 L270.873 155.632 L270.873 159.567 L248.928 159.567 L248.928 155.632 Q251.59 152.877 256.174 148.247 Q260.78 143.595 261.961 142.252 Q264.206 139.729 265.086 137.993 Q265.989 136.234 265.989 134.544 Q265.989 131.789 264.044 130.053 Q262.123 128.317 259.021 128.317 Q256.822 128.317 254.368 129.081 Q251.938 129.845 249.16 131.396 L249.16 126.673 Q251.984 125.539 254.438 124.961 Q256.891 124.382 258.928 124.382 Q264.299 124.382 267.493 127.067 Q270.688 129.752 270.688 134.243 Q270.688 136.373 269.877 138.294 Q269.09 140.192 266.984 142.785 Q266.405 143.456 263.303 146.673 Q260.202 149.868 254.553 155.632 Z\" fill=\"#000000\" fill-rule=\"nonzero\" fill-opacity=\"1\" /><path clip-path=\"url(#clip760)\" d=\"M78.7309 889.182 L78.7309 883.326 L128.256 883.326 L128.256 889.182 L78.7309 889.182 Z\" fill=\"#000000\" fill-rule=\"nonzero\" fill-opacity=\"1\" /><path clip-path=\"url(#clip760)\" d=\"M96.714 857.258 Q96.714 861.969 100.406 864.706 Q104.066 867.444 110.464 867.444 Q116.862 867.444 120.554 864.738 Q124.214 862.001 124.214 857.258 Q124.214 852.58 120.522 849.842 Q116.83 847.105 110.464 847.105 Q104.13 847.105 100.438 849.842 Q96.714 852.58 96.714 857.258 M91.7488 857.258 Q91.7488 849.62 96.714 845.259 Q101.679 840.899 110.464 840.899 Q119.217 840.899 124.214 845.259 Q129.179 849.62 129.179 857.258 Q129.179 864.929 124.214 869.29 Q119.217 873.618 110.464 873.618 Q101.679 873.618 96.714 869.29 Q91.7488 864.929 91.7488 857.258 Z\" fill=\"#000000\" fill-rule=\"nonzero\" fill-opacity=\"1\" /><path clip-path=\"url(#clip760)\" d=\"M110.018 807.733 Q103.653 807.733 100.152 810.375 Q96.6504 812.985 96.6504 817.727 Q96.6504 822.438 100.152 825.08 Q103.653 827.69 110.018 827.69 Q116.352 827.69 119.853 825.08 Q123.355 822.438 123.355 817.727 Q123.355 812.985 119.853 810.375 Q116.352 807.733 110.018 807.733 M123.832 801.877 Q132.935 801.877 137.359 805.919 Q141.815 809.961 141.815 818.3 Q141.815 821.388 141.338 824.125 Q140.892 826.862 139.937 829.44 L134.24 829.44 Q135.64 826.862 136.309 824.348 Q136.977 821.833 136.977 819.223 Q136.977 813.462 133.953 810.598 Q130.962 807.733 124.882 807.733 L121.986 807.733 Q125.137 809.548 126.697 812.38 Q128.256 815.213 128.256 819.16 Q128.256 825.716 123.259 829.727 Q118.262 833.737 110.018 833.737 Q101.743 833.737 96.7459 829.727 Q91.7488 825.716 91.7488 819.16 Q91.7488 815.213 93.3084 812.38 Q94.868 809.548 98.019 807.733 L92.6082 807.733 L92.6082 801.877 L123.832 801.877 Z\" fill=\"#000000\" fill-rule=\"nonzero\" fill-opacity=\"1\" /><path clip-path=\"url(#clip760)\" d=\"M78.7946 775.746 Q86.1151 780.011 93.2766 782.079 Q100.438 784.148 107.79 784.148 Q115.143 784.148 122.368 782.079 Q129.561 779.979 136.85 775.746 L136.85 780.838 Q129.37 785.612 122.145 788 Q114.92 790.355 107.79 790.355 Q100.693 790.355 93.4994 788 Q86.3061 785.644 78.7946 780.838 L78.7946 775.746 Z\" fill=\"#000000\" fill-rule=\"nonzero\" fill-opacity=\"1\" /><path clip-path=\"url(#clip760)\" d=\"M84.3964 728.544 L91.1759 728.544 Q88.1522 731.79 86.6562 735.483 Q85.1603 739.143 85.1603 743.281 Q85.1603 751.429 90.1574 755.757 Q95.1226 760.086 104.544 760.086 Q113.933 760.086 118.93 755.757 Q123.896 751.429 123.896 743.281 Q123.896 739.143 122.4 735.483 Q120.904 731.79 117.88 728.544 L124.596 728.544 Q126.887 731.918 128.033 735.705 Q129.179 739.461 129.179 743.662 Q129.179 754.452 122.591 760.659 Q115.97 766.865 104.544 766.865 Q93.0856 766.865 86.4971 760.659 Q79.8768 754.452 79.8768 743.662 Q79.8768 739.397 81.0226 735.642 Q82.1366 731.854 84.3964 728.544 Z\" fill=\"#000000\" fill-rule=\"nonzero\" fill-opacity=\"1\" /><path clip-path=\"url(#clip760)\" d=\"M78.7946 704.8 Q86.1151 709.065 93.2766 711.134 Q100.438 713.203 107.79 713.203 Q115.143 713.203 122.368 711.134 Q129.561 709.033 136.85 704.8 L136.85 709.892 Q129.37 714.667 122.145 717.054 Q114.92 719.409 107.79 719.409 Q100.693 719.409 93.4994 717.054 Q86.3061 714.698 78.7946 709.892 L78.7946 704.8 Z\" fill=\"#000000\" fill-rule=\"nonzero\" fill-opacity=\"1\" /><path clip-path=\"url(#clip760)\" d=\"M98.0827 672.78 Q97.5098 673.767 97.2551 674.945 Q96.9687 676.09 96.9687 677.491 Q96.9687 682.456 100.215 685.13 Q103.43 687.772 109.477 687.772 L128.256 687.772 L128.256 693.66 L92.6082 693.66 L92.6082 687.772 L98.1463 687.772 Q94.8998 685.925 93.3402 682.965 Q91.7488 680.005 91.7488 675.772 Q91.7488 675.167 91.8443 674.435 Q91.9079 673.703 92.0671 672.812 L98.0827 672.78 Z\" fill=\"#000000\" fill-rule=\"nonzero\" fill-opacity=\"1\" /><path clip-path=\"url(#clip760)\" d=\"M120.172 665.141 L120.172 658.426 L125.646 658.426 L135.831 663.646 L135.831 667.751 L125.646 665.141 L120.172 665.141 Z\" fill=\"#000000\" fill-rule=\"nonzero\" fill-opacity=\"1\" /><path clip-path=\"url(#clip760)\" d=\"M82.4867 640.124 L92.6082 640.124 L92.6082 628.061 L97.1596 628.061 L97.1596 640.124 L116.511 640.124 Q120.872 640.124 122.113 638.947 Q123.355 637.737 123.355 634.077 L123.355 628.061 L128.256 628.061 L128.256 634.077 Q128.256 640.856 125.742 643.434 Q123.195 646.013 116.511 646.013 L97.1596 646.013 L97.1596 650.309 L92.6082 650.309 L92.6082 646.013 L82.4867 646.013 L82.4867 640.124 Z\" fill=\"#000000\" fill-rule=\"nonzero\" fill-opacity=\"1\" /><path clip-path=\"url(#clip760)\" d=\"M78.7946 621.282 L78.7946 616.189 Q86.3061 611.415 93.4994 609.06 Q100.693 606.672 107.79 606.672 Q114.92 606.672 122.145 609.06 Q129.37 611.415 136.85 616.189 L136.85 621.282 Q129.561 617.049 122.368 614.98 Q115.143 612.879 107.79 612.879 Q100.438 612.879 93.2766 614.98 Q86.1151 617.049 78.7946 621.282 Z\" fill=\"#000000\" fill-rule=\"nonzero\" fill-opacity=\"1\" /><path clip-path=\"url(#clip760)\" d=\"M78.7946 595.851 L78.7946 590.758 Q86.3061 585.984 93.4994 583.629 Q100.693 581.241 107.79 581.241 Q114.92 581.241 122.145 583.629 Q129.37 585.984 136.85 590.758 L136.85 595.851 Q129.561 591.618 122.368 589.549 Q115.143 587.448 107.79 587.448 Q100.438 587.448 93.2766 589.549 Q86.1151 591.618 78.7946 595.851 Z\" fill=\"#000000\" fill-rule=\"nonzero\" fill-opacity=\"1\" /><polyline clip-path=\"url(#clip762)\" style=\"stroke:#009af9; stroke-linecap:round; stroke-linejoin:round; stroke-width:4; stroke-opacity:1; fill:none\" points=\"364.775,1384.22 384.271,1384.21 403.767,1384.2 423.262,1384.17 442.758,1384.1 462.254,1383.94 481.75,1383.6 501.245,1382.96 520.741,1381.84 540.237,1379.97 559.733,1377.03 579.228,1372.61 598.724,1366.25 618.22,1357.43 637.715,1345.68 657.211,1330.57 676.707,1311.8 696.203,1289.26 715.698,1263.02 735.194,1233.36 754.69,1200.71 774.186,1165.63 793.681,1128.68 813.177,1090.45 832.673,1051.47 852.169,1012.21 871.664,973.053 891.16,934.32 910.656,896.26 930.152,859.064 949.647,822.875 969.143,787.796 988.639,753.898 1008.13,721.229 1027.63,689.816 1047.13,659.674 1066.62,630.805 1086.12,603.203 1105.61,576.858 1125.11,551.754 1144.6,527.872 1164.1,505.19 1183.6,483.687 1203.09,463.339 1222.59,444.12 1242.08,426.007 1261.58,408.974 1281.07,392.995 1300.57,378.045 1320.07,364.098 1339.56,351.126 1359.06,339.102 1378.55,327.998 1398.05,317.784 1417.55,308.43 1437.04,299.904 1456.54,292.172 1476.03,285.199 1495.53,278.945 1515.02,273.37 1534.52,268.43 1554.02,264.079 1573.51,260.266 1593.01,256.938 1612.5,254.037 1632,251.501 1651.49,249.268 1670.99,247.27 1690.49,245.436 1709.98,243.695 1729.48,241.975 1748.97,240.203 1768.47,238.309 1787.96,236.223 1807.46,233.884 1826.96,231.235 1846.45,228.226 1865.95,224.819 1885.44,220.984 1904.94,216.704 1924.43,211.973 1943.93,206.797 1963.43,201.194 1982.92,195.193 2002.42,188.83 2021.91,182.152 2041.41,175.209 2060.9,168.059 2080.4,160.758 2099.9,153.369 2119.39,145.949 2138.89,138.557 2158.38,131.249 2177.88,124.075 2197.37,117.084 2216.87,110.318 2236.37,103.815 2255.86,97.6082 2275.36,91.7243 2294.85,86.1857 \"/>\n",
       "<polyline clip-path=\"url(#clip762)\" style=\"stroke:#e26f46; stroke-linecap:round; stroke-linejoin:round; stroke-width:4; stroke-opacity:1; fill:none\" points=\"364.775,1384.22 384.271,1384.21 403.767,1384.21 423.262,1384.2 442.758,1384.19 462.254,1384.17 481.75,1384.16 501.245,1384.14 520.741,1384.12 540.237,1384.1 559.733,1384.08 579.228,1384.06 598.724,1384.03 618.22,1384.01 637.715,1383.98 657.211,1383.96 676.707,1383.93 696.203,1383.9 715.698,1383.88 735.194,1383.85 754.69,1383.82 774.186,1383.8 793.681,1383.78 813.177,1383.75 832.673,1383.73 852.169,1383.71 871.664,1383.69 891.16,1383.68 910.656,1383.66 930.152,1383.65 949.647,1383.64 969.143,1383.62 988.639,1383.61 1008.13,1383.6 1027.63,1383.59 1047.13,1383.58 1066.62,1383.55 1086.12,1383.53 1105.61,1383.49 1125.11,1383.44 1144.6,1383.36 1164.1,1383.27 1183.6,1383.13 1203.09,1382.96 1222.59,1382.73 1242.08,1382.43 1261.58,1382.05 1281.07,1381.57 1300.57,1380.96 1320.07,1380.2 1339.56,1379.26 1359.06,1378.11 1378.55,1376.72 1398.05,1375.03 1417.55,1373.01 1437.04,1370.61 1456.54,1367.78 1476.03,1364.46 1495.53,1360.59 1515.02,1356.13 1534.52,1351.01 1554.02,1345.18 1573.51,1338.6 1593.01,1331.22 1612.5,1323 1632,1313.93 1651.49,1303.98 1670.99,1293.16 1690.49,1281.47 1709.98,1268.94 1729.48,1255.59 1748.97,1241.49 1768.47,1226.67 1787.96,1211.21 1807.46,1195.17 1826.96,1178.63 1846.45,1161.66 1865.95,1144.34 1885.44,1126.76 1904.94,1108.97 1924.43,1091.07 1943.93,1073.11 1963.43,1055.15 1982.92,1037.27 2002.42,1019.51 2021.91,1001.92 2041.41,984.543 2060.9,967.424 2080.4,950.594 2099.9,934.085 2119.39,917.921 2138.89,902.124 2158.38,886.713 2177.88,871.702 2197.37,857.102 2216.87,842.922 2236.37,829.167 2255.86,815.841 2275.36,802.943 2294.85,790.472 \"/>\n",
       "<polyline clip-path=\"url(#clip762)\" style=\"stroke:#3da44d; stroke-linecap:round; stroke-linejoin:round; stroke-width:4; stroke-opacity:1; fill:none\" points=\"364.775,1384.22 384.271,1384.21 403.767,1384.21 423.262,1384.2 442.758,1384.19 462.254,1384.17 481.75,1384.16 501.245,1384.14 520.741,1384.12 540.237,1384.1 559.733,1384.08 579.228,1384.06 598.724,1384.03 618.22,1384.01 637.715,1383.98 657.211,1383.96 676.707,1383.93 696.203,1383.9 715.698,1383.88 735.194,1383.85 754.69,1383.82 774.186,1383.8 793.681,1383.78 813.177,1383.75 832.673,1383.73 852.169,1383.71 871.664,1383.69 891.16,1383.68 910.656,1383.66 930.152,1383.65 949.647,1383.64 969.143,1383.63 988.639,1383.63 1008.13,1383.62 1027.63,1383.62 1047.13,1383.62 1066.62,1383.63 1086.12,1383.63 1105.61,1383.64 1125.11,1383.65 1144.6,1383.66 1164.1,1383.67 1183.6,1383.69 1203.09,1383.71 1222.59,1383.73 1242.08,1383.75 1261.58,1383.77 1281.07,1383.79 1300.57,1383.81 1320.07,1383.84 1339.56,1383.86 1359.06,1383.89 1378.55,1383.91 1398.05,1383.94 1417.55,1383.96 1437.04,1383.98 1456.54,1384.01 1476.03,1384.03 1495.53,1384.05 1515.02,1384.07 1534.52,1384.09 1554.02,1384.1 1573.51,1384.12 1593.01,1384.13 1612.5,1384.14 1632,1384.15 1651.49,1384.16 1670.99,1384.16 1690.49,1384.16 1709.98,1384.16 1729.48,1384.16 1748.97,1384.15 1768.47,1384.15 1787.96,1384.14 1807.46,1384.12 1826.96,1384.11 1846.45,1384.09 1865.95,1384.06 1885.44,1384.04 1904.94,1384.01 1924.43,1383.97 1943.93,1383.93 1963.43,1383.88 1982.92,1383.82 2002.42,1383.76 2021.91,1383.68 2041.41,1383.6 2060.9,1383.5 2080.4,1383.38 2099.9,1383.25 2119.39,1383.1 2138.89,1382.92 2158.38,1382.72 2177.88,1382.49 2197.37,1382.22 2216.87,1381.91 2236.37,1381.56 2255.86,1381.16 2275.36,1380.7 2294.85,1380.17 \"/>\n",
       "<polyline clip-path=\"url(#clip762)\" style=\"stroke:#c271d2; stroke-linecap:round; stroke-linejoin:round; stroke-width:4; stroke-opacity:1; fill:none\" points=\"364.775,1384.24 384.271,1384.23 403.767,1384.23 423.262,1384.22 442.758,1384.21 462.254,1384.2 481.75,1384.18 501.245,1384.16 520.741,1384.15 540.237,1384.13 559.733,1384.1 579.228,1384.08 598.724,1384.06 618.22,1384.03 637.715,1384.01 657.211,1383.98 676.707,1383.95 696.203,1383.93 715.698,1383.9 735.194,1383.87 754.69,1383.85 774.186,1383.82 793.681,1383.8 813.177,1383.78 832.673,1383.75 852.169,1383.73 871.664,1383.72 891.16,1383.7 910.656,1383.69 930.152,1383.67 949.647,1383.66 969.143,1383.65 988.639,1383.65 1008.13,1383.65 1027.63,1383.64 1047.13,1383.65 1066.62,1383.65 1086.12,1383.65 1105.61,1383.66 1125.11,1383.67 1144.6,1383.68 1164.1,1383.7 1183.6,1383.71 1203.09,1383.73 1222.59,1383.75 1242.08,1383.77 1261.58,1383.79 1281.07,1383.82 1300.57,1383.84 1320.07,1383.86 1339.56,1383.89 1359.06,1383.91 1378.55,1383.94 1398.05,1383.96 1417.55,1383.99 1437.04,1384.01 1456.54,1384.03 1476.03,1384.06 1495.53,1384.08 1515.02,1384.1 1534.52,1384.12 1554.02,1384.13 1573.51,1384.15 1593.01,1384.16 1612.5,1384.17 1632,1384.18 1651.49,1384.19 1670.99,1384.19 1690.49,1384.19 1709.98,1384.19 1729.48,1384.19 1748.97,1384.19 1768.47,1384.18 1787.96,1384.17 1807.46,1384.16 1826.96,1384.15 1846.45,1384.14 1865.95,1384.12 1885.44,1384.11 1904.94,1384.09 1924.43,1384.07 1943.93,1384.05 1963.43,1384.03 1982.92,1384.01 2002.42,1383.98 2021.91,1383.96 2041.41,1383.94 2060.9,1383.92 2080.4,1383.89 2099.9,1383.87 2119.39,1383.85 2138.89,1383.83 2158.38,1383.81 2177.88,1383.8 2197.37,1383.78 2216.87,1383.76 2236.37,1383.75 2255.86,1383.74 2275.36,1383.73 2294.85,1383.72 \"/>\n",
       "<path clip-path=\"url(#clip760)\" d=\"M375.069 352.309 L662.064 352.309 L662.064 93.1086 L375.069 93.1086  Z\" fill=\"#ffffff\" fill-rule=\"evenodd\" fill-opacity=\"1\"/>\n",
       "<polyline clip-path=\"url(#clip760)\" style=\"stroke:#000000; stroke-linecap:round; stroke-linejoin:round; stroke-width:4; stroke-opacity:1; fill:none\" points=\"375.069,352.309 662.064,352.309 662.064,93.1086 375.069,93.1086 375.069,352.309 \"/>\n",
       "<polyline clip-path=\"url(#clip760)\" style=\"stroke:#009af9; stroke-linecap:round; stroke-linejoin:round; stroke-width:4; stroke-opacity:1; fill:none\" points=\"397.801,144.949 534.193,144.949 \"/>\n",
       "<path clip-path=\"url(#clip760)\" d=\"M572.11 140.284 Q571.393 139.868 570.536 139.682 Q569.703 139.474 568.684 139.474 Q565.073 139.474 563.129 141.835 Q561.208 144.173 561.208 148.571 L561.208 162.229 L556.925 162.229 L556.925 136.303 L561.208 136.303 L561.208 140.331 Q562.55 137.969 564.703 136.835 Q566.856 135.678 569.934 135.678 Q570.374 135.678 570.907 135.747 Q571.439 135.794 572.087 135.909 L572.11 140.284 Z\" fill=\"#000000\" fill-rule=\"nonzero\" fill-opacity=\"1\" /><path clip-path=\"url(#clip760)\" d=\"M577.133 140.701 L606.809 140.701 L606.809 144.59 L577.133 144.59 L577.133 140.701 M577.133 150.145 L606.809 150.145 L606.809 154.081 L577.133 154.081 L577.133 150.145 Z\" fill=\"#000000\" fill-rule=\"nonzero\" fill-opacity=\"1\" /><path clip-path=\"url(#clip760)\" d=\"M620.929 158.293 L637.249 158.293 L637.249 162.229 L615.304 162.229 L615.304 158.293 Q617.966 155.539 622.55 150.909 Q627.156 146.256 628.337 144.914 Q630.582 142.391 631.462 140.655 Q632.365 138.895 632.365 137.206 Q632.365 134.451 630.42 132.715 Q628.499 130.979 625.397 130.979 Q623.198 130.979 620.744 131.743 Q618.314 132.507 615.536 134.057 L615.536 129.335 Q618.36 128.201 620.814 127.622 Q623.267 127.044 625.304 127.044 Q630.675 127.044 633.869 129.729 Q637.064 132.414 637.064 136.905 Q637.064 139.034 636.253 140.956 Q635.466 142.854 633.36 145.446 Q632.781 146.118 629.679 149.335 Q626.578 152.53 620.929 158.293 Z\" fill=\"#000000\" fill-rule=\"nonzero\" fill-opacity=\"1\" /><polyline clip-path=\"url(#clip760)\" style=\"stroke:#e26f46; stroke-linecap:round; stroke-linejoin:round; stroke-width:4; stroke-opacity:1; fill:none\" points=\"397.801,196.789 534.193,196.789 \"/>\n",
       "<path clip-path=\"url(#clip760)\" d=\"M572.11 192.124 Q571.393 191.708 570.536 191.522 Q569.703 191.314 568.684 191.314 Q565.073 191.314 563.129 193.675 Q561.208 196.013 561.208 200.411 L561.208 214.069 L556.925 214.069 L556.925 188.143 L561.208 188.143 L561.208 192.171 Q562.55 189.809 564.703 188.675 Q566.856 187.518 569.934 187.518 Q570.374 187.518 570.907 187.587 Q571.439 187.634 572.087 187.749 L572.11 192.124 Z\" fill=\"#000000\" fill-rule=\"nonzero\" fill-opacity=\"1\" /><path clip-path=\"url(#clip760)\" d=\"M577.133 192.541 L606.809 192.541 L606.809 196.43 L577.133 196.43 L577.133 192.541 M577.133 201.985 L606.809 201.985 L606.809 205.921 L577.133 205.921 L577.133 201.985 Z\" fill=\"#000000\" fill-rule=\"nonzero\" fill-opacity=\"1\" /><path clip-path=\"url(#clip760)\" d=\"M629.749 183.583 L617.943 202.032 L629.749 202.032 L629.749 183.583 M628.522 179.509 L634.402 179.509 L634.402 202.032 L639.332 202.032 L639.332 205.921 L634.402 205.921 L634.402 214.069 L629.749 214.069 L629.749 205.921 L614.147 205.921 L614.147 201.407 L628.522 179.509 Z\" fill=\"#000000\" fill-rule=\"nonzero\" fill-opacity=\"1\" /><polyline clip-path=\"url(#clip760)\" style=\"stroke:#3da44d; stroke-linecap:round; stroke-linejoin:round; stroke-width:4; stroke-opacity:1; fill:none\" points=\"397.801,248.629 534.193,248.629 \"/>\n",
       "<path clip-path=\"url(#clip760)\" d=\"M572.11 243.964 Q571.393 243.548 570.536 243.362 Q569.703 243.154 568.684 243.154 Q565.073 243.154 563.129 245.515 Q561.208 247.853 561.208 252.251 L561.208 265.909 L556.925 265.909 L556.925 239.983 L561.208 239.983 L561.208 244.011 Q562.55 241.649 564.703 240.515 Q566.856 239.358 569.934 239.358 Q570.374 239.358 570.907 239.427 Q571.439 239.474 572.087 239.589 L572.11 243.964 Z\" fill=\"#000000\" fill-rule=\"nonzero\" fill-opacity=\"1\" /><path clip-path=\"url(#clip760)\" d=\"M577.133 244.381 L606.809 244.381 L606.809 248.27 L577.133 248.27 L577.133 244.381 M577.133 253.825 L606.809 253.825 L606.809 257.761 L577.133 257.761 L577.133 253.825 Z\" fill=\"#000000\" fill-rule=\"nonzero\" fill-opacity=\"1\" /><path clip-path=\"url(#clip760)\" d=\"M627.48 246.765 Q624.332 246.765 622.48 248.918 Q620.652 251.071 620.652 254.821 Q620.652 258.548 622.48 260.723 Q624.332 262.876 627.48 262.876 Q630.628 262.876 632.457 260.723 Q634.309 258.548 634.309 254.821 Q634.309 251.071 632.457 248.918 Q630.628 246.765 627.48 246.765 M636.763 232.113 L636.763 236.372 Q635.003 235.538 633.198 235.099 Q631.415 234.659 629.656 234.659 Q625.027 234.659 622.573 237.784 Q620.142 240.909 619.795 247.228 Q621.161 245.214 623.221 244.149 Q625.281 243.062 627.758 243.062 Q632.966 243.062 635.976 246.233 Q639.008 249.381 639.008 254.821 Q639.008 260.145 635.86 263.362 Q632.712 266.58 627.48 266.58 Q621.485 266.58 618.314 261.997 Q615.142 257.39 615.142 248.663 Q615.142 240.469 619.031 235.608 Q622.92 230.724 629.471 230.724 Q631.23 230.724 633.013 231.071 Q634.818 231.418 636.763 232.113 Z\" fill=\"#000000\" fill-rule=\"nonzero\" fill-opacity=\"1\" /><polyline clip-path=\"url(#clip760)\" style=\"stroke:#c271d2; stroke-linecap:round; stroke-linejoin:round; stroke-width:4; stroke-opacity:1; fill:none\" points=\"397.801,300.469 534.193,300.469 \"/>\n",
       "<path clip-path=\"url(#clip760)\" d=\"M572.11 295.804 Q571.393 295.388 570.536 295.202 Q569.703 294.994 568.684 294.994 Q565.073 294.994 563.129 297.355 Q561.208 299.693 561.208 304.091 L561.208 317.749 L556.925 317.749 L556.925 291.823 L561.208 291.823 L561.208 295.851 Q562.55 293.489 564.703 292.355 Q566.856 291.198 569.934 291.198 Q570.374 291.198 570.907 291.267 Q571.439 291.314 572.087 291.429 L572.11 295.804 Z\" fill=\"#000000\" fill-rule=\"nonzero\" fill-opacity=\"1\" /><path clip-path=\"url(#clip760)\" d=\"M577.133 296.221 L606.809 296.221 L606.809 300.11 L577.133 300.11 L577.133 296.221 M577.133 305.665 L606.809 305.665 L606.809 309.601 L577.133 309.601 L577.133 305.665 Z\" fill=\"#000000\" fill-rule=\"nonzero\" fill-opacity=\"1\" /><path clip-path=\"url(#clip760)\" d=\"M626.902 301.337 Q623.568 301.337 621.647 303.119 Q619.749 304.901 619.749 308.026 Q619.749 311.151 621.647 312.934 Q623.568 314.716 626.902 314.716 Q630.235 314.716 632.156 312.934 Q634.077 311.128 634.077 308.026 Q634.077 304.901 632.156 303.119 Q630.258 301.337 626.902 301.337 M622.226 299.346 Q619.216 298.605 617.527 296.545 Q615.86 294.485 615.86 291.522 Q615.86 287.378 618.8 284.971 Q621.763 282.564 626.902 282.564 Q632.064 282.564 635.003 284.971 Q637.943 287.378 637.943 291.522 Q637.943 294.485 636.253 296.545 Q634.587 298.605 631.601 299.346 Q634.98 300.133 636.855 302.425 Q638.753 304.716 638.753 308.026 Q638.753 313.05 635.675 315.735 Q632.619 318.42 626.902 318.42 Q621.184 318.42 618.105 315.735 Q615.05 313.05 615.05 308.026 Q615.05 304.716 616.948 302.425 Q618.846 300.133 622.226 299.346 M620.513 291.962 Q620.513 294.647 622.179 296.152 Q623.869 297.656 626.902 297.656 Q629.911 297.656 631.601 296.152 Q633.314 294.647 633.314 291.962 Q633.314 289.277 631.601 287.772 Q629.911 286.267 626.902 286.267 Q623.869 286.267 622.179 287.772 Q620.513 289.277 620.513 291.962 Z\" fill=\"#000000\" fill-rule=\"nonzero\" fill-opacity=\"1\" /></svg>\n"
      ],
      "text/html": [
       "<?xml version=\"1.0\" encoding=\"utf-8\"?>\n",
       "<svg xmlns=\"http://www.w3.org/2000/svg\" xmlns:xlink=\"http://www.w3.org/1999/xlink\" width=\"600\" height=\"400\" viewBox=\"0 0 2400 1600\">\n",
       "<defs>\n",
       "  <clipPath id=\"clip810\">\n",
       "    <rect x=\"0\" y=\"0\" width=\"2400\" height=\"1600\"/>\n",
       "  </clipPath>\n",
       "</defs>\n",
       "<path clip-path=\"url(#clip810)\" d=\"M0 1600 L2400 1600 L2400 0 L0 0  Z\" fill=\"#ffffff\" fill-rule=\"evenodd\" fill-opacity=\"1\"/>\n",
       "<defs>\n",
       "  <clipPath id=\"clip811\">\n",
       "    <rect x=\"480\" y=\"0\" width=\"1681\" height=\"1600\"/>\n",
       "  </clipPath>\n",
       "</defs>\n",
       "<path clip-path=\"url(#clip810)\" d=\"M306.873 1423.18 L2352.76 1423.18 L2352.76 47.2441 L306.873 47.2441  Z\" fill=\"#ffffff\" fill-rule=\"evenodd\" fill-opacity=\"1\"/>\n",
       "<defs>\n",
       "  <clipPath id=\"clip812\">\n",
       "    <rect x=\"306\" y=\"47\" width=\"2047\" height=\"1377\"/>\n",
       "  </clipPath>\n",
       "</defs>\n",
       "<polyline clip-path=\"url(#clip812)\" style=\"stroke:#000000; stroke-linecap:round; stroke-linejoin:round; stroke-width:2; stroke-opacity:0.1; fill:none\" points=\"345.279,1423.18 345.279,47.2441 \"/>\n",
       "<polyline clip-path=\"url(#clip812)\" style=\"stroke:#000000; stroke-linecap:round; stroke-linejoin:round; stroke-width:2; stroke-opacity:0.1; fill:none\" points=\"735.194,1423.18 735.194,47.2441 \"/>\n",
       "<polyline clip-path=\"url(#clip812)\" style=\"stroke:#000000; stroke-linecap:round; stroke-linejoin:round; stroke-width:2; stroke-opacity:0.1; fill:none\" points=\"1125.11,1423.18 1125.11,47.2441 \"/>\n",
       "<polyline clip-path=\"url(#clip812)\" style=\"stroke:#000000; stroke-linecap:round; stroke-linejoin:round; stroke-width:2; stroke-opacity:0.1; fill:none\" points=\"1515.02,1423.18 1515.02,47.2441 \"/>\n",
       "<polyline clip-path=\"url(#clip812)\" style=\"stroke:#000000; stroke-linecap:round; stroke-linejoin:round; stroke-width:2; stroke-opacity:0.1; fill:none\" points=\"1904.94,1423.18 1904.94,47.2441 \"/>\n",
       "<polyline clip-path=\"url(#clip812)\" style=\"stroke:#000000; stroke-linecap:round; stroke-linejoin:round; stroke-width:2; stroke-opacity:0.1; fill:none\" points=\"2294.85,1423.18 2294.85,47.2441 \"/>\n",
       "<polyline clip-path=\"url(#clip810)\" style=\"stroke:#000000; stroke-linecap:round; stroke-linejoin:round; stroke-width:4; stroke-opacity:1; fill:none\" points=\"306.873,1423.18 2352.76,1423.18 \"/>\n",
       "<polyline clip-path=\"url(#clip810)\" style=\"stroke:#000000; stroke-linecap:round; stroke-linejoin:round; stroke-width:4; stroke-opacity:1; fill:none\" points=\"345.279,1423.18 345.279,1404.28 \"/>\n",
       "<polyline clip-path=\"url(#clip810)\" style=\"stroke:#000000; stroke-linecap:round; stroke-linejoin:round; stroke-width:4; stroke-opacity:1; fill:none\" points=\"735.194,1423.18 735.194,1404.28 \"/>\n",
       "<polyline clip-path=\"url(#clip810)\" style=\"stroke:#000000; stroke-linecap:round; stroke-linejoin:round; stroke-width:4; stroke-opacity:1; fill:none\" points=\"1125.11,1423.18 1125.11,1404.28 \"/>\n",
       "<polyline clip-path=\"url(#clip810)\" style=\"stroke:#000000; stroke-linecap:round; stroke-linejoin:round; stroke-width:4; stroke-opacity:1; fill:none\" points=\"1515.02,1423.18 1515.02,1404.28 \"/>\n",
       "<polyline clip-path=\"url(#clip810)\" style=\"stroke:#000000; stroke-linecap:round; stroke-linejoin:round; stroke-width:4; stroke-opacity:1; fill:none\" points=\"1904.94,1423.18 1904.94,1404.28 \"/>\n",
       "<polyline clip-path=\"url(#clip810)\" style=\"stroke:#000000; stroke-linecap:round; stroke-linejoin:round; stroke-width:4; stroke-opacity:1; fill:none\" points=\"2294.85,1423.18 2294.85,1404.28 \"/>\n",
       "<path clip-path=\"url(#clip810)\" d=\"M345.279 1454.1 Q341.668 1454.1 339.84 1457.66 Q338.034 1461.2 338.034 1468.33 Q338.034 1475.44 339.84 1479.01 Q341.668 1482.55 345.279 1482.55 Q348.914 1482.55 350.719 1479.01 Q352.548 1475.44 352.548 1468.33 Q352.548 1461.2 350.719 1457.66 Q348.914 1454.1 345.279 1454.1 M345.279 1450.39 Q351.09 1450.39 354.145 1455 Q357.224 1459.58 357.224 1468.33 Q357.224 1477.06 354.145 1481.67 Q351.09 1486.25 345.279 1486.25 Q339.469 1486.25 336.391 1481.67 Q333.335 1477.06 333.335 1468.33 Q333.335 1459.58 336.391 1455 Q339.469 1450.39 345.279 1450.39 Z\" fill=\"#000000\" fill-rule=\"nonzero\" fill-opacity=\"1\" /><path clip-path=\"url(#clip810)\" d=\"M725.576 1481.64 L733.215 1481.64 L733.215 1455.28 L724.905 1456.95 L724.905 1452.69 L733.169 1451.02 L737.845 1451.02 L737.845 1481.64 L745.483 1481.64 L745.483 1485.58 L725.576 1485.58 L725.576 1481.64 Z\" fill=\"#000000\" fill-rule=\"nonzero\" fill-opacity=\"1\" /><path clip-path=\"url(#clip810)\" d=\"M1119.76 1481.64 L1136.08 1481.64 L1136.08 1485.58 L1114.14 1485.58 L1114.14 1481.64 Q1116.8 1478.89 1121.38 1474.26 Q1125.99 1469.61 1127.17 1468.27 Q1129.41 1465.74 1130.29 1464.01 Q1131.2 1462.25 1131.2 1460.56 Q1131.2 1457.8 1129.25 1456.07 Q1127.33 1454.33 1124.23 1454.33 Q1122.03 1454.33 1119.58 1455.09 Q1117.15 1455.86 1114.37 1457.41 L1114.37 1452.69 Q1117.19 1451.55 1119.65 1450.97 Q1122.1 1450.39 1124.14 1450.39 Q1129.51 1450.39 1132.7 1453.08 Q1135.9 1455.77 1135.9 1460.26 Q1135.9 1462.39 1135.09 1464.31 Q1134.3 1466.2 1132.19 1468.8 Q1131.61 1469.47 1128.51 1472.69 Q1125.41 1475.88 1119.76 1481.64 Z\" fill=\"#000000\" fill-rule=\"nonzero\" fill-opacity=\"1\" /><path clip-path=\"url(#clip810)\" d=\"M1519.27 1466.95 Q1522.63 1467.66 1524.5 1469.93 Q1526.4 1472.2 1526.4 1475.53 Q1526.4 1480.65 1522.88 1483.45 Q1519.36 1486.25 1512.88 1486.25 Q1510.71 1486.25 1508.39 1485.81 Q1506.1 1485.39 1503.65 1484.54 L1503.65 1480.02 Q1505.59 1481.16 1507.91 1481.74 Q1510.22 1482.32 1512.74 1482.32 Q1517.14 1482.32 1519.43 1480.58 Q1521.75 1478.84 1521.75 1475.53 Q1521.75 1472.48 1519.6 1470.77 Q1517.47 1469.03 1513.65 1469.03 L1509.62 1469.03 L1509.62 1465.19 L1513.83 1465.19 Q1517.28 1465.19 1519.11 1463.82 Q1520.94 1462.43 1520.94 1459.84 Q1520.94 1457.18 1519.04 1455.77 Q1517.17 1454.33 1513.65 1454.33 Q1511.73 1454.33 1509.53 1454.75 Q1507.33 1455.16 1504.69 1456.04 L1504.69 1451.88 Q1507.35 1451.14 1509.67 1450.77 Q1512 1450.39 1514.06 1450.39 Q1519.39 1450.39 1522.49 1452.83 Q1525.59 1455.23 1525.59 1459.35 Q1525.59 1462.22 1523.95 1464.21 Q1522.3 1466.18 1519.27 1466.95 Z\" fill=\"#000000\" fill-rule=\"nonzero\" fill-opacity=\"1\" /><path clip-path=\"url(#clip810)\" d=\"M1907.95 1455.09 L1896.14 1473.54 L1907.95 1473.54 L1907.95 1455.09 M1906.72 1451.02 L1912.6 1451.02 L1912.6 1473.54 L1917.53 1473.54 L1917.53 1477.43 L1912.6 1477.43 L1912.6 1485.58 L1907.95 1485.58 L1907.95 1477.43 L1892.35 1477.43 L1892.35 1472.92 L1906.72 1451.02 Z\" fill=\"#000000\" fill-rule=\"nonzero\" fill-opacity=\"1\" /><path clip-path=\"url(#clip810)\" d=\"M2285.13 1451.02 L2303.49 1451.02 L2303.49 1454.96 L2289.41 1454.96 L2289.41 1463.43 Q2290.43 1463.08 2291.45 1462.92 Q2292.47 1462.73 2293.49 1462.73 Q2299.27 1462.73 2302.65 1465.9 Q2306.03 1469.08 2306.03 1474.49 Q2306.03 1480.07 2302.56 1483.17 Q2299.09 1486.25 2292.77 1486.25 Q2290.59 1486.25 2288.33 1485.88 Q2286.08 1485.51 2283.67 1484.77 L2283.67 1480.07 Q2285.76 1481.2 2287.98 1481.76 Q2290.2 1482.32 2292.68 1482.32 Q2296.68 1482.32 2299.02 1480.21 Q2301.36 1478.1 2301.36 1474.49 Q2301.36 1470.88 2299.02 1468.77 Q2296.68 1466.67 2292.68 1466.67 Q2290.8 1466.67 2288.93 1467.08 Q2287.08 1467.5 2285.13 1468.38 L2285.13 1451.02 Z\" fill=\"#000000\" fill-rule=\"nonzero\" fill-opacity=\"1\" /><path clip-path=\"url(#clip810)\" d=\"M1251.69 1520.52 L1291.89 1520.52 L1291.89 1525.93 L1275.02 1525.93 L1275.02 1568.04 L1268.56 1568.04 L1268.56 1525.93 L1251.69 1525.93 L1251.69 1520.52 Z\" fill=\"#000000\" fill-rule=\"nonzero\" fill-opacity=\"1\" /><path clip-path=\"url(#clip810)\" d=\"M1295.84 1532.4 L1301.69 1532.4 L1301.69 1568.04 L1295.84 1568.04 L1295.84 1532.4 M1295.84 1518.52 L1301.69 1518.52 L1301.69 1525.93 L1295.84 1525.93 L1295.84 1518.52 Z\" fill=\"#000000\" fill-rule=\"nonzero\" fill-opacity=\"1\" /><path clip-path=\"url(#clip810)\" d=\"M1341.7 1539.24 Q1343.9 1535.29 1346.95 1533.41 Q1350.01 1531.54 1354.15 1531.54 Q1359.72 1531.54 1362.74 1535.45 Q1365.76 1539.33 1365.76 1546.53 L1365.76 1568.04 L1359.88 1568.04 L1359.88 1546.72 Q1359.88 1541.59 1358.06 1539.11 Q1356.25 1536.63 1352.52 1536.63 Q1347.97 1536.63 1345.33 1539.65 Q1342.69 1542.68 1342.69 1547.9 L1342.69 1568.04 L1336.8 1568.04 L1336.8 1546.72 Q1336.8 1541.56 1334.99 1539.11 Q1333.17 1536.63 1329.38 1536.63 Q1324.9 1536.63 1322.26 1539.68 Q1319.61 1542.71 1319.61 1547.9 L1319.61 1568.04 L1313.73 1568.04 L1313.73 1532.4 L1319.61 1532.4 L1319.61 1537.93 Q1321.62 1534.66 1324.42 1533.1 Q1327.22 1531.54 1331.07 1531.54 Q1334.95 1531.54 1337.66 1533.51 Q1340.4 1535.48 1341.7 1539.24 Z\" fill=\"#000000\" fill-rule=\"nonzero\" fill-opacity=\"1\" /><path clip-path=\"url(#clip810)\" d=\"M1407.94 1548.76 L1407.94 1551.62 L1381.01 1551.62 Q1381.39 1557.67 1384.64 1560.85 Q1387.92 1564 1393.74 1564 Q1397.12 1564 1400.27 1563.17 Q1403.45 1562.35 1406.57 1560.69 L1406.57 1566.23 Q1403.42 1567.57 1400.11 1568.27 Q1396.8 1568.97 1393.39 1568.97 Q1384.86 1568.97 1379.86 1564 Q1374.9 1559.04 1374.9 1550.57 Q1374.9 1541.82 1379.61 1536.69 Q1384.35 1531.54 1392.37 1531.54 Q1399.57 1531.54 1403.74 1536.18 Q1407.94 1540.8 1407.94 1548.76 M1402.08 1547.04 Q1402.02 1542.23 1399.38 1539.37 Q1396.77 1536.5 1392.44 1536.5 Q1387.54 1536.5 1384.58 1539.27 Q1381.65 1542.04 1381.2 1547.07 L1402.08 1547.04 Z\" fill=\"#000000\" fill-rule=\"nonzero\" fill-opacity=\"1\" /><polyline clip-path=\"url(#clip812)\" style=\"stroke:#000000; stroke-linecap:round; stroke-linejoin:round; stroke-width:2; stroke-opacity:0.1; fill:none\" points=\"306.873,1214.46 2352.76,1214.46 \"/>\n",
       "<polyline clip-path=\"url(#clip812)\" style=\"stroke:#000000; stroke-linecap:round; stroke-linejoin:round; stroke-width:2; stroke-opacity:0.1; fill:none\" points=\"306.873,946.418 2352.76,946.418 \"/>\n",
       "<polyline clip-path=\"url(#clip812)\" style=\"stroke:#000000; stroke-linecap:round; stroke-linejoin:round; stroke-width:2; stroke-opacity:0.1; fill:none\" points=\"306.873,678.374 2352.76,678.374 \"/>\n",
       "<polyline clip-path=\"url(#clip812)\" style=\"stroke:#000000; stroke-linecap:round; stroke-linejoin:round; stroke-width:2; stroke-opacity:0.1; fill:none\" points=\"306.873,410.33 2352.76,410.33 \"/>\n",
       "<polyline clip-path=\"url(#clip812)\" style=\"stroke:#000000; stroke-linecap:round; stroke-linejoin:round; stroke-width:2; stroke-opacity:0.1; fill:none\" points=\"306.873,142.287 2352.76,142.287 \"/>\n",
       "<polyline clip-path=\"url(#clip810)\" style=\"stroke:#000000; stroke-linecap:round; stroke-linejoin:round; stroke-width:4; stroke-opacity:1; fill:none\" points=\"306.873,1423.18 306.873,47.2441 \"/>\n",
       "<polyline clip-path=\"url(#clip810)\" style=\"stroke:#000000; stroke-linecap:round; stroke-linejoin:round; stroke-width:4; stroke-opacity:1; fill:none\" points=\"306.873,1214.46 325.77,1214.46 \"/>\n",
       "<polyline clip-path=\"url(#clip810)\" style=\"stroke:#000000; stroke-linecap:round; stroke-linejoin:round; stroke-width:4; stroke-opacity:1; fill:none\" points=\"306.873,946.418 325.77,946.418 \"/>\n",
       "<polyline clip-path=\"url(#clip810)\" style=\"stroke:#000000; stroke-linecap:round; stroke-linejoin:round; stroke-width:4; stroke-opacity:1; fill:none\" points=\"306.873,678.374 325.77,678.374 \"/>\n",
       "<polyline clip-path=\"url(#clip810)\" style=\"stroke:#000000; stroke-linecap:round; stroke-linejoin:round; stroke-width:4; stroke-opacity:1; fill:none\" points=\"306.873,410.33 325.77,410.33 \"/>\n",
       "<polyline clip-path=\"url(#clip810)\" style=\"stroke:#000000; stroke-linecap:round; stroke-linejoin:round; stroke-width:4; stroke-opacity:1; fill:none\" points=\"306.873,142.287 325.77,142.287 \"/>\n",
       "<path clip-path=\"url(#clip810)\" d=\"M178.836 1214.91 L208.512 1214.91 L208.512 1218.85 L178.836 1218.85 L178.836 1214.91 Z\" fill=\"#000000\" fill-rule=\"nonzero\" fill-opacity=\"1\" /><path clip-path=\"url(#clip810)\" d=\"M232.771 1213.11 Q236.128 1213.82 238.003 1216.09 Q239.901 1218.36 239.901 1221.7 Q239.901 1226.81 236.382 1229.61 Q232.864 1232.41 226.382 1232.41 Q224.206 1232.41 221.892 1231.97 Q219.6 1231.56 217.146 1230.7 L217.146 1226.19 Q219.091 1227.32 221.405 1227.9 Q223.72 1228.48 226.243 1228.48 Q230.641 1228.48 232.933 1226.74 Q235.248 1225.01 235.248 1221.7 Q235.248 1218.64 233.095 1216.93 Q230.966 1215.19 227.146 1215.19 L223.118 1215.19 L223.118 1211.35 L227.331 1211.35 Q230.78 1211.35 232.609 1209.98 Q234.438 1208.59 234.438 1206 Q234.438 1203.34 232.54 1201.93 Q230.665 1200.49 227.146 1200.49 Q225.225 1200.49 223.026 1200.91 Q220.827 1201.32 218.188 1202.2 L218.188 1198.04 Q220.85 1197.3 223.165 1196.93 Q225.503 1196.56 227.563 1196.56 Q232.887 1196.56 235.989 1198.99 Q239.091 1201.39 239.091 1205.51 Q239.091 1208.39 237.447 1210.38 Q235.803 1212.34 232.771 1213.11 Z\" fill=\"#000000\" fill-rule=\"nonzero\" fill-opacity=\"1\" /><path clip-path=\"url(#clip810)\" d=\"M259.345 1212.6 Q256.197 1212.6 254.345 1214.75 Q252.516 1216.9 252.516 1220.65 Q252.516 1224.38 254.345 1226.56 Q256.197 1228.71 259.345 1228.71 Q262.493 1228.71 264.322 1226.56 Q266.174 1224.38 266.174 1220.65 Q266.174 1216.9 264.322 1214.75 Q262.493 1212.6 259.345 1212.6 M268.627 1197.95 L268.627 1202.2 Q266.868 1201.37 265.063 1200.93 Q263.28 1200.49 261.521 1200.49 Q256.891 1200.49 254.438 1203.62 Q252.007 1206.74 251.66 1213.06 Q253.026 1211.05 255.086 1209.98 Q257.146 1208.89 259.623 1208.89 Q264.831 1208.89 267.84 1212.07 Q270.873 1215.21 270.873 1220.65 Q270.873 1225.98 267.725 1229.2 Q264.576 1232.41 259.345 1232.41 Q253.35 1232.41 250.178 1227.83 Q247.007 1223.22 247.007 1214.5 Q247.007 1206.3 250.896 1201.44 Q254.785 1196.56 261.336 1196.56 Q263.095 1196.56 264.877 1196.9 Q266.683 1197.25 268.627 1197.95 Z\" fill=\"#000000\" fill-rule=\"nonzero\" fill-opacity=\"1\" /><path clip-path=\"url(#clip810)\" d=\"M179.994 946.869 L209.669 946.869 L209.669 950.804 L179.994 950.804 L179.994 946.869 Z\" fill=\"#000000\" fill-rule=\"nonzero\" fill-opacity=\"1\" /><path clip-path=\"url(#clip810)\" d=\"M233.928 945.064 Q237.285 945.781 239.16 948.05 Q241.058 950.318 241.058 953.652 Q241.058 958.767 237.54 961.568 Q234.021 964.369 227.54 964.369 Q225.364 964.369 223.049 963.929 Q220.757 963.513 218.304 962.656 L218.304 958.142 Q220.248 959.276 222.563 959.855 Q224.878 960.434 227.401 960.434 Q231.799 960.434 234.091 958.698 Q236.405 956.962 236.405 953.652 Q236.405 950.596 234.253 948.883 Q232.123 947.147 228.304 947.147 L224.276 947.147 L224.276 943.304 L228.489 943.304 Q231.938 943.304 233.766 941.939 Q235.595 940.55 235.595 937.957 Q235.595 935.295 233.697 933.883 Q231.822 932.448 228.304 932.448 Q226.382 932.448 224.183 932.865 Q221.984 933.281 219.345 934.161 L219.345 929.994 Q222.007 929.254 224.322 928.883 Q226.66 928.513 228.72 928.513 Q234.044 928.513 237.146 930.943 Q240.248 933.351 240.248 937.471 Q240.248 940.341 238.604 942.332 Q236.961 944.3 233.928 945.064 Z\" fill=\"#000000\" fill-rule=\"nonzero\" fill-opacity=\"1\" /><path clip-path=\"url(#clip810)\" d=\"M249.97 929.138 L268.326 929.138 L268.326 933.073 L254.252 933.073 L254.252 941.545 Q255.271 941.198 256.289 941.036 Q257.308 940.851 258.327 940.851 Q264.114 940.851 267.493 944.022 Q270.873 947.193 270.873 952.61 Q270.873 958.189 267.401 961.29 Q263.928 964.369 257.609 964.369 Q255.433 964.369 253.165 963.999 Q250.919 963.628 248.512 962.888 L248.512 958.189 Q250.595 959.323 252.817 959.878 Q255.039 960.434 257.516 960.434 Q261.521 960.434 263.859 958.327 Q266.197 956.221 266.197 952.61 Q266.197 948.999 263.859 946.892 Q261.521 944.786 257.516 944.786 Q255.641 944.786 253.766 945.202 Q251.915 945.619 249.97 946.499 L249.97 929.138 Z\" fill=\"#000000\" fill-rule=\"nonzero\" fill-opacity=\"1\" /><path clip-path=\"url(#clip810)\" d=\"M178.512 678.826 L208.188 678.826 L208.188 682.761 L178.512 682.761 L178.512 678.826 Z\" fill=\"#000000\" fill-rule=\"nonzero\" fill-opacity=\"1\" /><path clip-path=\"url(#clip810)\" d=\"M232.447 677.02 Q235.803 677.738 237.678 680.006 Q239.577 682.275 239.577 685.608 Q239.577 690.724 236.058 693.525 Q232.54 696.325 226.058 696.325 Q223.882 696.325 221.567 695.886 Q219.276 695.469 216.822 694.612 L216.822 690.099 Q218.767 691.233 221.081 691.812 Q223.396 692.39 225.919 692.39 Q230.317 692.39 232.609 690.654 Q234.924 688.918 234.924 685.608 Q234.924 682.552 232.771 680.839 Q230.641 679.103 226.822 679.103 L222.794 679.103 L222.794 675.261 L227.007 675.261 Q230.456 675.261 232.285 673.895 Q234.114 672.506 234.114 669.914 Q234.114 667.251 232.216 665.839 Q230.341 664.404 226.822 664.404 Q224.901 664.404 222.702 664.821 Q220.503 665.238 217.864 666.117 L217.864 661.951 Q220.526 661.21 222.841 660.839 Q225.179 660.469 227.239 660.469 Q232.563 660.469 235.665 662.9 Q238.766 665.307 238.766 669.427 Q238.766 672.298 237.123 674.288 Q235.479 676.256 232.447 677.02 Z\" fill=\"#000000\" fill-rule=\"nonzero\" fill-opacity=\"1\" /><path clip-path=\"url(#clip810)\" d=\"M261.289 665.168 L249.484 683.617 L261.289 683.617 L261.289 665.168 M260.063 661.094 L265.942 661.094 L265.942 683.617 L270.873 683.617 L270.873 687.506 L265.942 687.506 L265.942 695.654 L261.289 695.654 L261.289 687.506 L245.688 687.506 L245.688 682.992 L260.063 661.094 Z\" fill=\"#000000\" fill-rule=\"nonzero\" fill-opacity=\"1\" /><path clip-path=\"url(#clip810)\" d=\"M179.646 410.782 L209.322 410.782 L209.322 414.717 L179.646 414.717 L179.646 410.782 Z\" fill=\"#000000\" fill-rule=\"nonzero\" fill-opacity=\"1\" /><path clip-path=\"url(#clip810)\" d=\"M233.581 408.976 Q236.938 409.694 238.813 411.962 Q240.711 414.231 240.711 417.564 Q240.711 422.68 237.192 425.481 Q233.674 428.282 227.192 428.282 Q225.017 428.282 222.702 427.842 Q220.41 427.425 217.956 426.569 L217.956 422.055 Q219.901 423.189 222.216 423.768 Q224.53 424.347 227.054 424.347 Q231.452 424.347 233.743 422.611 Q236.058 420.874 236.058 417.564 Q236.058 414.509 233.905 412.796 Q231.776 411.06 227.956 411.06 L223.929 411.06 L223.929 407.217 L228.141 407.217 Q231.591 407.217 233.419 405.851 Q235.248 404.462 235.248 401.87 Q235.248 399.208 233.35 397.796 Q231.475 396.361 227.956 396.361 Q226.035 396.361 223.836 396.777 Q221.637 397.194 218.998 398.074 L218.998 393.907 Q221.66 393.166 223.975 392.796 Q226.313 392.425 228.373 392.425 Q233.697 392.425 236.799 394.856 Q239.901 397.263 239.901 401.384 Q239.901 404.254 238.257 406.245 Q236.614 408.212 233.581 408.976 Z\" fill=\"#000000\" fill-rule=\"nonzero\" fill-opacity=\"1\" /><path clip-path=\"url(#clip810)\" d=\"M263.743 408.976 Q267.1 409.694 268.975 411.962 Q270.873 414.231 270.873 417.564 Q270.873 422.68 267.354 425.481 Q263.836 428.282 257.354 428.282 Q255.178 428.282 252.864 427.842 Q250.572 427.425 248.118 426.569 L248.118 422.055 Q250.063 423.189 252.377 423.768 Q254.692 424.347 257.215 424.347 Q261.614 424.347 263.905 422.611 Q266.22 420.874 266.22 417.564 Q266.22 414.509 264.067 412.796 Q261.938 411.06 258.118 411.06 L254.09 411.06 L254.09 407.217 L258.303 407.217 Q261.752 407.217 263.581 405.851 Q265.41 404.462 265.41 401.87 Q265.41 399.208 263.512 397.796 Q261.637 396.361 258.118 396.361 Q256.197 396.361 253.998 396.777 Q251.799 397.194 249.16 398.074 L249.16 393.907 Q251.822 393.166 254.137 392.796 Q256.475 392.425 258.535 392.425 Q263.859 392.425 266.961 394.856 Q270.063 397.263 270.063 401.384 Q270.063 404.254 268.419 406.245 Q266.776 408.212 263.743 408.976 Z\" fill=\"#000000\" fill-rule=\"nonzero\" fill-opacity=\"1\" /><path clip-path=\"url(#clip810)\" d=\"M180.595 142.738 L210.271 142.738 L210.271 146.673 L180.595 146.673 L180.595 142.738 Z\" fill=\"#000000\" fill-rule=\"nonzero\" fill-opacity=\"1\" /><path clip-path=\"url(#clip810)\" d=\"M234.53 140.933 Q237.887 141.65 239.762 143.919 Q241.66 146.187 241.66 149.521 Q241.66 154.636 238.141 157.437 Q234.623 160.238 228.141 160.238 Q225.966 160.238 223.651 159.798 Q221.359 159.382 218.905 158.525 L218.905 154.011 Q220.85 155.146 223.165 155.724 Q225.479 156.303 228.003 156.303 Q232.401 156.303 234.692 154.567 Q237.007 152.831 237.007 149.521 Q237.007 146.465 234.854 144.752 Q232.725 143.016 228.905 143.016 L224.878 143.016 L224.878 139.173 L229.091 139.173 Q232.54 139.173 234.368 137.808 Q236.197 136.419 236.197 133.826 Q236.197 131.164 234.299 129.752 Q232.424 128.317 228.905 128.317 Q226.984 128.317 224.785 128.734 Q222.586 129.15 219.947 130.03 L219.947 125.863 Q222.609 125.123 224.924 124.752 Q227.262 124.382 229.322 124.382 Q234.646 124.382 237.748 126.812 Q240.85 129.22 240.85 133.34 Q240.85 136.21 239.206 138.201 Q237.563 140.169 234.53 140.933 Z\" fill=\"#000000\" fill-rule=\"nonzero\" fill-opacity=\"1\" /><path clip-path=\"url(#clip810)\" d=\"M254.553 155.632 L270.873 155.632 L270.873 159.567 L248.928 159.567 L248.928 155.632 Q251.59 152.877 256.174 148.247 Q260.78 143.595 261.961 142.252 Q264.206 139.729 265.086 137.993 Q265.989 136.234 265.989 134.544 Q265.989 131.789 264.044 130.053 Q262.123 128.317 259.021 128.317 Q256.822 128.317 254.368 129.081 Q251.938 129.845 249.16 131.396 L249.16 126.673 Q251.984 125.539 254.438 124.961 Q256.891 124.382 258.928 124.382 Q264.299 124.382 267.493 127.067 Q270.688 129.752 270.688 134.243 Q270.688 136.373 269.877 138.294 Q269.09 140.192 266.984 142.785 Q266.405 143.456 263.303 146.673 Q260.202 149.868 254.553 155.632 Z\" fill=\"#000000\" fill-rule=\"nonzero\" fill-opacity=\"1\" /><path clip-path=\"url(#clip810)\" d=\"M78.7309 889.182 L78.7309 883.326 L128.256 883.326 L128.256 889.182 L78.7309 889.182 Z\" fill=\"#000000\" fill-rule=\"nonzero\" fill-opacity=\"1\" /><path clip-path=\"url(#clip810)\" d=\"M96.714 857.258 Q96.714 861.969 100.406 864.706 Q104.066 867.444 110.464 867.444 Q116.862 867.444 120.554 864.738 Q124.214 862.001 124.214 857.258 Q124.214 852.58 120.522 849.842 Q116.83 847.105 110.464 847.105 Q104.13 847.105 100.438 849.842 Q96.714 852.58 96.714 857.258 M91.7488 857.258 Q91.7488 849.62 96.714 845.259 Q101.679 840.899 110.464 840.899 Q119.217 840.899 124.214 845.259 Q129.179 849.62 129.179 857.258 Q129.179 864.929 124.214 869.29 Q119.217 873.618 110.464 873.618 Q101.679 873.618 96.714 869.29 Q91.7488 864.929 91.7488 857.258 Z\" fill=\"#000000\" fill-rule=\"nonzero\" fill-opacity=\"1\" /><path clip-path=\"url(#clip810)\" d=\"M110.018 807.733 Q103.653 807.733 100.152 810.375 Q96.6504 812.985 96.6504 817.727 Q96.6504 822.438 100.152 825.08 Q103.653 827.69 110.018 827.69 Q116.352 827.69 119.853 825.08 Q123.355 822.438 123.355 817.727 Q123.355 812.985 119.853 810.375 Q116.352 807.733 110.018 807.733 M123.832 801.877 Q132.935 801.877 137.359 805.919 Q141.815 809.961 141.815 818.3 Q141.815 821.388 141.338 824.125 Q140.892 826.862 139.937 829.44 L134.24 829.44 Q135.64 826.862 136.309 824.348 Q136.977 821.833 136.977 819.223 Q136.977 813.462 133.953 810.598 Q130.962 807.733 124.882 807.733 L121.986 807.733 Q125.137 809.548 126.697 812.38 Q128.256 815.213 128.256 819.16 Q128.256 825.716 123.259 829.727 Q118.262 833.737 110.018 833.737 Q101.743 833.737 96.7459 829.727 Q91.7488 825.716 91.7488 819.16 Q91.7488 815.213 93.3084 812.38 Q94.868 809.548 98.019 807.733 L92.6082 807.733 L92.6082 801.877 L123.832 801.877 Z\" fill=\"#000000\" fill-rule=\"nonzero\" fill-opacity=\"1\" /><path clip-path=\"url(#clip810)\" d=\"M78.7946 775.746 Q86.1151 780.011 93.2766 782.079 Q100.438 784.148 107.79 784.148 Q115.143 784.148 122.368 782.079 Q129.561 779.979 136.85 775.746 L136.85 780.838 Q129.37 785.612 122.145 788 Q114.92 790.355 107.79 790.355 Q100.693 790.355 93.4994 788 Q86.3061 785.644 78.7946 780.838 L78.7946 775.746 Z\" fill=\"#000000\" fill-rule=\"nonzero\" fill-opacity=\"1\" /><path clip-path=\"url(#clip810)\" d=\"M84.3964 728.544 L91.1759 728.544 Q88.1522 731.79 86.6562 735.483 Q85.1603 739.143 85.1603 743.281 Q85.1603 751.429 90.1574 755.757 Q95.1226 760.086 104.544 760.086 Q113.933 760.086 118.93 755.757 Q123.896 751.429 123.896 743.281 Q123.896 739.143 122.4 735.483 Q120.904 731.79 117.88 728.544 L124.596 728.544 Q126.887 731.918 128.033 735.705 Q129.179 739.461 129.179 743.662 Q129.179 754.452 122.591 760.659 Q115.97 766.865 104.544 766.865 Q93.0856 766.865 86.4971 760.659 Q79.8768 754.452 79.8768 743.662 Q79.8768 739.397 81.0226 735.642 Q82.1366 731.854 84.3964 728.544 Z\" fill=\"#000000\" fill-rule=\"nonzero\" fill-opacity=\"1\" /><path clip-path=\"url(#clip810)\" d=\"M78.7946 704.8 Q86.1151 709.065 93.2766 711.134 Q100.438 713.203 107.79 713.203 Q115.143 713.203 122.368 711.134 Q129.561 709.033 136.85 704.8 L136.85 709.892 Q129.37 714.667 122.145 717.054 Q114.92 719.409 107.79 719.409 Q100.693 719.409 93.4994 717.054 Q86.3061 714.698 78.7946 709.892 L78.7946 704.8 Z\" fill=\"#000000\" fill-rule=\"nonzero\" fill-opacity=\"1\" /><path clip-path=\"url(#clip810)\" d=\"M98.0827 672.78 Q97.5098 673.767 97.2551 674.945 Q96.9687 676.09 96.9687 677.491 Q96.9687 682.456 100.215 685.13 Q103.43 687.772 109.477 687.772 L128.256 687.772 L128.256 693.66 L92.6082 693.66 L92.6082 687.772 L98.1463 687.772 Q94.8998 685.925 93.3402 682.965 Q91.7488 680.005 91.7488 675.772 Q91.7488 675.167 91.8443 674.435 Q91.9079 673.703 92.0671 672.812 L98.0827 672.78 Z\" fill=\"#000000\" fill-rule=\"nonzero\" fill-opacity=\"1\" /><path clip-path=\"url(#clip810)\" d=\"M120.172 665.141 L120.172 658.426 L125.646 658.426 L135.831 663.646 L135.831 667.751 L125.646 665.141 L120.172 665.141 Z\" fill=\"#000000\" fill-rule=\"nonzero\" fill-opacity=\"1\" /><path clip-path=\"url(#clip810)\" d=\"M82.4867 640.124 L92.6082 640.124 L92.6082 628.061 L97.1596 628.061 L97.1596 640.124 L116.511 640.124 Q120.872 640.124 122.113 638.947 Q123.355 637.737 123.355 634.077 L123.355 628.061 L128.256 628.061 L128.256 634.077 Q128.256 640.856 125.742 643.434 Q123.195 646.013 116.511 646.013 L97.1596 646.013 L97.1596 650.309 L92.6082 650.309 L92.6082 646.013 L82.4867 646.013 L82.4867 640.124 Z\" fill=\"#000000\" fill-rule=\"nonzero\" fill-opacity=\"1\" /><path clip-path=\"url(#clip810)\" d=\"M78.7946 621.282 L78.7946 616.189 Q86.3061 611.415 93.4994 609.06 Q100.693 606.672 107.79 606.672 Q114.92 606.672 122.145 609.06 Q129.37 611.415 136.85 616.189 L136.85 621.282 Q129.561 617.049 122.368 614.98 Q115.143 612.879 107.79 612.879 Q100.438 612.879 93.2766 614.98 Q86.1151 617.049 78.7946 621.282 Z\" fill=\"#000000\" fill-rule=\"nonzero\" fill-opacity=\"1\" /><path clip-path=\"url(#clip810)\" d=\"M78.7946 595.851 L78.7946 590.758 Q86.3061 585.984 93.4994 583.629 Q100.693 581.241 107.79 581.241 Q114.92 581.241 122.145 583.629 Q129.37 585.984 136.85 590.758 L136.85 595.851 Q129.561 591.618 122.368 589.549 Q115.143 587.448 107.79 587.448 Q100.438 587.448 93.2766 589.549 Q86.1151 591.618 78.7946 595.851 Z\" fill=\"#000000\" fill-rule=\"nonzero\" fill-opacity=\"1\" /><polyline clip-path=\"url(#clip812)\" style=\"stroke:#009af9; stroke-linecap:round; stroke-linejoin:round; stroke-width:4; stroke-opacity:1; fill:none\" points=\"364.775,1384.22 384.271,1384.21 403.767,1384.2 423.262,1384.17 442.758,1384.1 462.254,1383.94 481.75,1383.6 501.245,1382.96 520.741,1381.84 540.237,1379.97 559.733,1377.03 579.228,1372.61 598.724,1366.25 618.22,1357.43 637.715,1345.68 657.211,1330.57 676.707,1311.8 696.203,1289.26 715.698,1263.02 735.194,1233.36 754.69,1200.71 774.186,1165.63 793.681,1128.68 813.177,1090.45 832.673,1051.47 852.169,1012.21 871.664,973.053 891.16,934.32 910.656,896.26 930.152,859.064 949.647,822.875 969.143,787.796 988.639,753.898 1008.13,721.229 1027.63,689.816 1047.13,659.674 1066.62,630.805 1086.12,603.203 1105.61,576.858 1125.11,551.754 1144.6,527.872 1164.1,505.19 1183.6,483.687 1203.09,463.339 1222.59,444.12 1242.08,426.007 1261.58,408.974 1281.07,392.995 1300.57,378.045 1320.07,364.098 1339.56,351.126 1359.06,339.102 1378.55,327.998 1398.05,317.784 1417.55,308.43 1437.04,299.904 1456.54,292.172 1476.03,285.199 1495.53,278.945 1515.02,273.37 1534.52,268.43 1554.02,264.079 1573.51,260.266 1593.01,256.938 1612.5,254.037 1632,251.501 1651.49,249.268 1670.99,247.27 1690.49,245.436 1709.98,243.695 1729.48,241.975 1748.97,240.203 1768.47,238.309 1787.96,236.223 1807.46,233.884 1826.96,231.235 1846.45,228.226 1865.95,224.819 1885.44,220.984 1904.94,216.704 1924.43,211.973 1943.93,206.797 1963.43,201.194 1982.92,195.193 2002.42,188.83 2021.91,182.152 2041.41,175.209 2060.9,168.059 2080.4,160.758 2099.9,153.369 2119.39,145.949 2138.89,138.557 2158.38,131.249 2177.88,124.075 2197.37,117.084 2216.87,110.318 2236.37,103.815 2255.86,97.6082 2275.36,91.7243 2294.85,86.1857 \"/>\n",
       "<polyline clip-path=\"url(#clip812)\" style=\"stroke:#e26f46; stroke-linecap:round; stroke-linejoin:round; stroke-width:4; stroke-opacity:1; fill:none\" points=\"364.775,1384.22 384.271,1384.21 403.767,1384.21 423.262,1384.2 442.758,1384.19 462.254,1384.17 481.75,1384.16 501.245,1384.14 520.741,1384.12 540.237,1384.1 559.733,1384.08 579.228,1384.06 598.724,1384.03 618.22,1384.01 637.715,1383.98 657.211,1383.96 676.707,1383.93 696.203,1383.9 715.698,1383.88 735.194,1383.85 754.69,1383.82 774.186,1383.8 793.681,1383.78 813.177,1383.75 832.673,1383.73 852.169,1383.71 871.664,1383.69 891.16,1383.68 910.656,1383.66 930.152,1383.65 949.647,1383.64 969.143,1383.62 988.639,1383.61 1008.13,1383.6 1027.63,1383.59 1047.13,1383.58 1066.62,1383.55 1086.12,1383.53 1105.61,1383.49 1125.11,1383.44 1144.6,1383.36 1164.1,1383.27 1183.6,1383.13 1203.09,1382.96 1222.59,1382.73 1242.08,1382.43 1261.58,1382.05 1281.07,1381.57 1300.57,1380.96 1320.07,1380.2 1339.56,1379.26 1359.06,1378.11 1378.55,1376.72 1398.05,1375.03 1417.55,1373.01 1437.04,1370.61 1456.54,1367.78 1476.03,1364.46 1495.53,1360.59 1515.02,1356.13 1534.52,1351.01 1554.02,1345.18 1573.51,1338.6 1593.01,1331.22 1612.5,1323 1632,1313.93 1651.49,1303.98 1670.99,1293.16 1690.49,1281.47 1709.98,1268.94 1729.48,1255.59 1748.97,1241.49 1768.47,1226.67 1787.96,1211.21 1807.46,1195.17 1826.96,1178.63 1846.45,1161.66 1865.95,1144.34 1885.44,1126.76 1904.94,1108.97 1924.43,1091.07 1943.93,1073.11 1963.43,1055.15 1982.92,1037.27 2002.42,1019.51 2021.91,1001.92 2041.41,984.543 2060.9,967.424 2080.4,950.594 2099.9,934.085 2119.39,917.921 2138.89,902.124 2158.38,886.713 2177.88,871.702 2197.37,857.102 2216.87,842.922 2236.37,829.167 2255.86,815.841 2275.36,802.943 2294.85,790.472 \"/>\n",
       "<polyline clip-path=\"url(#clip812)\" style=\"stroke:#3da44d; stroke-linecap:round; stroke-linejoin:round; stroke-width:4; stroke-opacity:1; fill:none\" points=\"364.775,1384.22 384.271,1384.21 403.767,1384.21 423.262,1384.2 442.758,1384.19 462.254,1384.17 481.75,1384.16 501.245,1384.14 520.741,1384.12 540.237,1384.1 559.733,1384.08 579.228,1384.06 598.724,1384.03 618.22,1384.01 637.715,1383.98 657.211,1383.96 676.707,1383.93 696.203,1383.9 715.698,1383.88 735.194,1383.85 754.69,1383.82 774.186,1383.8 793.681,1383.78 813.177,1383.75 832.673,1383.73 852.169,1383.71 871.664,1383.69 891.16,1383.68 910.656,1383.66 930.152,1383.65 949.647,1383.64 969.143,1383.63 988.639,1383.63 1008.13,1383.62 1027.63,1383.62 1047.13,1383.62 1066.62,1383.63 1086.12,1383.63 1105.61,1383.64 1125.11,1383.65 1144.6,1383.66 1164.1,1383.67 1183.6,1383.69 1203.09,1383.71 1222.59,1383.73 1242.08,1383.75 1261.58,1383.77 1281.07,1383.79 1300.57,1383.81 1320.07,1383.84 1339.56,1383.86 1359.06,1383.89 1378.55,1383.91 1398.05,1383.94 1417.55,1383.96 1437.04,1383.98 1456.54,1384.01 1476.03,1384.03 1495.53,1384.05 1515.02,1384.07 1534.52,1384.09 1554.02,1384.1 1573.51,1384.12 1593.01,1384.13 1612.5,1384.14 1632,1384.15 1651.49,1384.16 1670.99,1384.16 1690.49,1384.16 1709.98,1384.16 1729.48,1384.16 1748.97,1384.15 1768.47,1384.15 1787.96,1384.14 1807.46,1384.12 1826.96,1384.11 1846.45,1384.09 1865.95,1384.06 1885.44,1384.04 1904.94,1384.01 1924.43,1383.97 1943.93,1383.93 1963.43,1383.88 1982.92,1383.82 2002.42,1383.76 2021.91,1383.68 2041.41,1383.6 2060.9,1383.5 2080.4,1383.38 2099.9,1383.25 2119.39,1383.1 2138.89,1382.92 2158.38,1382.72 2177.88,1382.49 2197.37,1382.22 2216.87,1381.91 2236.37,1381.56 2255.86,1381.16 2275.36,1380.7 2294.85,1380.17 \"/>\n",
       "<polyline clip-path=\"url(#clip812)\" style=\"stroke:#c271d2; stroke-linecap:round; stroke-linejoin:round; stroke-width:4; stroke-opacity:1; fill:none\" points=\"364.775,1384.24 384.271,1384.23 403.767,1384.23 423.262,1384.22 442.758,1384.21 462.254,1384.2 481.75,1384.18 501.245,1384.16 520.741,1384.15 540.237,1384.13 559.733,1384.1 579.228,1384.08 598.724,1384.06 618.22,1384.03 637.715,1384.01 657.211,1383.98 676.707,1383.95 696.203,1383.93 715.698,1383.9 735.194,1383.87 754.69,1383.85 774.186,1383.82 793.681,1383.8 813.177,1383.78 832.673,1383.75 852.169,1383.73 871.664,1383.72 891.16,1383.7 910.656,1383.69 930.152,1383.67 949.647,1383.66 969.143,1383.65 988.639,1383.65 1008.13,1383.65 1027.63,1383.64 1047.13,1383.65 1066.62,1383.65 1086.12,1383.65 1105.61,1383.66 1125.11,1383.67 1144.6,1383.68 1164.1,1383.7 1183.6,1383.71 1203.09,1383.73 1222.59,1383.75 1242.08,1383.77 1261.58,1383.79 1281.07,1383.82 1300.57,1383.84 1320.07,1383.86 1339.56,1383.89 1359.06,1383.91 1378.55,1383.94 1398.05,1383.96 1417.55,1383.99 1437.04,1384.01 1456.54,1384.03 1476.03,1384.06 1495.53,1384.08 1515.02,1384.1 1534.52,1384.12 1554.02,1384.13 1573.51,1384.15 1593.01,1384.16 1612.5,1384.17 1632,1384.18 1651.49,1384.19 1670.99,1384.19 1690.49,1384.19 1709.98,1384.19 1729.48,1384.19 1748.97,1384.19 1768.47,1384.18 1787.96,1384.17 1807.46,1384.16 1826.96,1384.15 1846.45,1384.14 1865.95,1384.12 1885.44,1384.11 1904.94,1384.09 1924.43,1384.07 1943.93,1384.05 1963.43,1384.03 1982.92,1384.01 2002.42,1383.98 2021.91,1383.96 2041.41,1383.94 2060.9,1383.92 2080.4,1383.89 2099.9,1383.87 2119.39,1383.85 2138.89,1383.83 2158.38,1383.81 2177.88,1383.8 2197.37,1383.78 2216.87,1383.76 2236.37,1383.75 2255.86,1383.74 2275.36,1383.73 2294.85,1383.72 \"/>\n",
       "<path clip-path=\"url(#clip810)\" d=\"M375.069 352.309 L662.064 352.309 L662.064 93.1086 L375.069 93.1086  Z\" fill=\"#ffffff\" fill-rule=\"evenodd\" fill-opacity=\"1\"/>\n",
       "<polyline clip-path=\"url(#clip810)\" style=\"stroke:#000000; stroke-linecap:round; stroke-linejoin:round; stroke-width:4; stroke-opacity:1; fill:none\" points=\"375.069,352.309 662.064,352.309 662.064,93.1086 375.069,93.1086 375.069,352.309 \"/>\n",
       "<polyline clip-path=\"url(#clip810)\" style=\"stroke:#009af9; stroke-linecap:round; stroke-linejoin:round; stroke-width:4; stroke-opacity:1; fill:none\" points=\"397.801,144.949 534.193,144.949 \"/>\n",
       "<path clip-path=\"url(#clip810)\" d=\"M572.11 140.284 Q571.393 139.868 570.536 139.682 Q569.703 139.474 568.684 139.474 Q565.073 139.474 563.129 141.835 Q561.208 144.173 561.208 148.571 L561.208 162.229 L556.925 162.229 L556.925 136.303 L561.208 136.303 L561.208 140.331 Q562.55 137.969 564.703 136.835 Q566.856 135.678 569.934 135.678 Q570.374 135.678 570.907 135.747 Q571.439 135.794 572.087 135.909 L572.11 140.284 Z\" fill=\"#000000\" fill-rule=\"nonzero\" fill-opacity=\"1\" /><path clip-path=\"url(#clip810)\" d=\"M577.133 140.701 L606.809 140.701 L606.809 144.59 L577.133 144.59 L577.133 140.701 M577.133 150.145 L606.809 150.145 L606.809 154.081 L577.133 154.081 L577.133 150.145 Z\" fill=\"#000000\" fill-rule=\"nonzero\" fill-opacity=\"1\" /><path clip-path=\"url(#clip810)\" d=\"M620.929 158.293 L637.249 158.293 L637.249 162.229 L615.304 162.229 L615.304 158.293 Q617.966 155.539 622.55 150.909 Q627.156 146.256 628.337 144.914 Q630.582 142.391 631.462 140.655 Q632.365 138.895 632.365 137.206 Q632.365 134.451 630.42 132.715 Q628.499 130.979 625.397 130.979 Q623.198 130.979 620.744 131.743 Q618.314 132.507 615.536 134.057 L615.536 129.335 Q618.36 128.201 620.814 127.622 Q623.267 127.044 625.304 127.044 Q630.675 127.044 633.869 129.729 Q637.064 132.414 637.064 136.905 Q637.064 139.034 636.253 140.956 Q635.466 142.854 633.36 145.446 Q632.781 146.118 629.679 149.335 Q626.578 152.53 620.929 158.293 Z\" fill=\"#000000\" fill-rule=\"nonzero\" fill-opacity=\"1\" /><polyline clip-path=\"url(#clip810)\" style=\"stroke:#e26f46; stroke-linecap:round; stroke-linejoin:round; stroke-width:4; stroke-opacity:1; fill:none\" points=\"397.801,196.789 534.193,196.789 \"/>\n",
       "<path clip-path=\"url(#clip810)\" d=\"M572.11 192.124 Q571.393 191.708 570.536 191.522 Q569.703 191.314 568.684 191.314 Q565.073 191.314 563.129 193.675 Q561.208 196.013 561.208 200.411 L561.208 214.069 L556.925 214.069 L556.925 188.143 L561.208 188.143 L561.208 192.171 Q562.55 189.809 564.703 188.675 Q566.856 187.518 569.934 187.518 Q570.374 187.518 570.907 187.587 Q571.439 187.634 572.087 187.749 L572.11 192.124 Z\" fill=\"#000000\" fill-rule=\"nonzero\" fill-opacity=\"1\" /><path clip-path=\"url(#clip810)\" d=\"M577.133 192.541 L606.809 192.541 L606.809 196.43 L577.133 196.43 L577.133 192.541 M577.133 201.985 L606.809 201.985 L606.809 205.921 L577.133 205.921 L577.133 201.985 Z\" fill=\"#000000\" fill-rule=\"nonzero\" fill-opacity=\"1\" /><path clip-path=\"url(#clip810)\" d=\"M629.749 183.583 L617.943 202.032 L629.749 202.032 L629.749 183.583 M628.522 179.509 L634.402 179.509 L634.402 202.032 L639.332 202.032 L639.332 205.921 L634.402 205.921 L634.402 214.069 L629.749 214.069 L629.749 205.921 L614.147 205.921 L614.147 201.407 L628.522 179.509 Z\" fill=\"#000000\" fill-rule=\"nonzero\" fill-opacity=\"1\" /><polyline clip-path=\"url(#clip810)\" style=\"stroke:#3da44d; stroke-linecap:round; stroke-linejoin:round; stroke-width:4; stroke-opacity:1; fill:none\" points=\"397.801,248.629 534.193,248.629 \"/>\n",
       "<path clip-path=\"url(#clip810)\" d=\"M572.11 243.964 Q571.393 243.548 570.536 243.362 Q569.703 243.154 568.684 243.154 Q565.073 243.154 563.129 245.515 Q561.208 247.853 561.208 252.251 L561.208 265.909 L556.925 265.909 L556.925 239.983 L561.208 239.983 L561.208 244.011 Q562.55 241.649 564.703 240.515 Q566.856 239.358 569.934 239.358 Q570.374 239.358 570.907 239.427 Q571.439 239.474 572.087 239.589 L572.11 243.964 Z\" fill=\"#000000\" fill-rule=\"nonzero\" fill-opacity=\"1\" /><path clip-path=\"url(#clip810)\" d=\"M577.133 244.381 L606.809 244.381 L606.809 248.27 L577.133 248.27 L577.133 244.381 M577.133 253.825 L606.809 253.825 L606.809 257.761 L577.133 257.761 L577.133 253.825 Z\" fill=\"#000000\" fill-rule=\"nonzero\" fill-opacity=\"1\" /><path clip-path=\"url(#clip810)\" d=\"M627.48 246.765 Q624.332 246.765 622.48 248.918 Q620.652 251.071 620.652 254.821 Q620.652 258.548 622.48 260.723 Q624.332 262.876 627.48 262.876 Q630.628 262.876 632.457 260.723 Q634.309 258.548 634.309 254.821 Q634.309 251.071 632.457 248.918 Q630.628 246.765 627.48 246.765 M636.763 232.113 L636.763 236.372 Q635.003 235.538 633.198 235.099 Q631.415 234.659 629.656 234.659 Q625.027 234.659 622.573 237.784 Q620.142 240.909 619.795 247.228 Q621.161 245.214 623.221 244.149 Q625.281 243.062 627.758 243.062 Q632.966 243.062 635.976 246.233 Q639.008 249.381 639.008 254.821 Q639.008 260.145 635.86 263.362 Q632.712 266.58 627.48 266.58 Q621.485 266.58 618.314 261.997 Q615.142 257.39 615.142 248.663 Q615.142 240.469 619.031 235.608 Q622.92 230.724 629.471 230.724 Q631.23 230.724 633.013 231.071 Q634.818 231.418 636.763 232.113 Z\" fill=\"#000000\" fill-rule=\"nonzero\" fill-opacity=\"1\" /><polyline clip-path=\"url(#clip810)\" style=\"stroke:#c271d2; stroke-linecap:round; stroke-linejoin:round; stroke-width:4; stroke-opacity:1; fill:none\" points=\"397.801,300.469 534.193,300.469 \"/>\n",
       "<path clip-path=\"url(#clip810)\" d=\"M572.11 295.804 Q571.393 295.388 570.536 295.202 Q569.703 294.994 568.684 294.994 Q565.073 294.994 563.129 297.355 Q561.208 299.693 561.208 304.091 L561.208 317.749 L556.925 317.749 L556.925 291.823 L561.208 291.823 L561.208 295.851 Q562.55 293.489 564.703 292.355 Q566.856 291.198 569.934 291.198 Q570.374 291.198 570.907 291.267 Q571.439 291.314 572.087 291.429 L572.11 295.804 Z\" fill=\"#000000\" fill-rule=\"nonzero\" fill-opacity=\"1\" /><path clip-path=\"url(#clip810)\" d=\"M577.133 296.221 L606.809 296.221 L606.809 300.11 L577.133 300.11 L577.133 296.221 M577.133 305.665 L606.809 305.665 L606.809 309.601 L577.133 309.601 L577.133 305.665 Z\" fill=\"#000000\" fill-rule=\"nonzero\" fill-opacity=\"1\" /><path clip-path=\"url(#clip810)\" d=\"M626.902 301.337 Q623.568 301.337 621.647 303.119 Q619.749 304.901 619.749 308.026 Q619.749 311.151 621.647 312.934 Q623.568 314.716 626.902 314.716 Q630.235 314.716 632.156 312.934 Q634.077 311.128 634.077 308.026 Q634.077 304.901 632.156 303.119 Q630.258 301.337 626.902 301.337 M622.226 299.346 Q619.216 298.605 617.527 296.545 Q615.86 294.485 615.86 291.522 Q615.86 287.378 618.8 284.971 Q621.763 282.564 626.902 282.564 Q632.064 282.564 635.003 284.971 Q637.943 287.378 637.943 291.522 Q637.943 294.485 636.253 296.545 Q634.587 298.605 631.601 299.346 Q634.98 300.133 636.855 302.425 Q638.753 304.716 638.753 308.026 Q638.753 313.05 635.675 315.735 Q632.619 318.42 626.902 318.42 Q621.184 318.42 618.105 315.735 Q615.05 313.05 615.05 308.026 Q615.05 304.716 616.948 302.425 Q618.846 300.133 622.226 299.346 M620.513 291.962 Q620.513 294.647 622.179 296.152 Q623.869 297.656 626.902 297.656 Q629.911 297.656 631.601 296.152 Q633.314 294.647 633.314 291.962 Q633.314 289.277 631.601 287.772 Q629.911 286.267 626.902 286.267 Q623.869 286.267 622.179 287.772 Q620.513 289.277 620.513 291.962 Z\" fill=\"#000000\" fill-rule=\"nonzero\" fill-opacity=\"1\" /></svg>\n"
      ]
     },
     "metadata": {},
     "output_type": "display_data"
    }
   ],
   "source": [
    "\n",
    "#min_y = -70\n",
    "\n",
    "plot(times,log.(C_r_t_2), label=\"r=2\", left_margin=20px)#left_margin = [5mm 0mm]) # ylim=(min_y, 20)\n",
    "#scatter!(times,log.(C_r_t_2), ylim=(min_y, 20))\n",
    "plot!(times,log.(C_r_t_4), label=\"r=4\") #!\n",
    "#scatter!(times,log.(C_r_t_4), ylim=(min_y, 20))\n",
    "plot!(times,log.(C_r_t_6), label=\"r=6\")\n",
    "#scatter!(times,log.(C_r_t_6), ylim=(min_y, 20))\n",
    "plot!(times,log.(C_r_t_8), label=\"r=8\")\n",
    "#scatter!(times,log.(C_r_t_8), ylim=(min_y, 20))\n",
    "\n",
    "xlabel!(\"Time\")\n",
    "ylabel!(\"log(C(r,t))\")\n",
    "\n"
   ]
  }
 ],
 "metadata": {
  "kernelspec": {
   "display_name": "Julia 1.9.4",
   "language": "julia",
   "name": "julia-1.9"
  },
  "language_info": {
   "file_extension": ".jl",
   "mimetype": "application/julia",
   "name": "julia",
   "version": "1.9.4"
  }
 },
 "nbformat": 4,
 "nbformat_minor": 5
}
